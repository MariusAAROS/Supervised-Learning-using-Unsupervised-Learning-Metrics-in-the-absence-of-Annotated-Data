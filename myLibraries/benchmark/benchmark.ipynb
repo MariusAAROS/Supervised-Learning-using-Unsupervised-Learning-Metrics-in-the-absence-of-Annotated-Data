{
 "cells": [
  {
   "attachments": {},
   "cell_type": "markdown",
   "metadata": {},
   "source": [
    "## Libraries"
   ]
  },
  {
   "cell_type": "code",
   "execution_count": 1,
   "metadata": {},
   "outputs": [],
   "source": [
    "import sys \n",
    "sys.path.append(r\"C:\\Pro\\Stages\\A4 - DVRC\\Work\\BARTScore\")\n",
    "sys.path.append(r\"C:\\Pro\\Stages\\A4 - DVRC\\Work\\Supervised-Learning-using-Unsupervised-Learning-Metrics-in-the-absence-of-Annotated-Data\\myLibraries\") "
   ]
  },
  {
   "cell_type": "code",
   "execution_count": 2,
   "metadata": {},
   "outputs": [
    {
     "name": "stderr",
     "output_type": "stream",
     "text": [
      "c:\\Pro\\Stages\\A4 - DVRC\\Work\\Supervised-Learning-using-Unsupervised-Learning-Metrics-in-the-absence-of-Annotated-Data\\.venv\\Lib\\site-packages\\tqdm\\auto.py:21: TqdmWarning: IProgress not found. Please update jupyter and ipywidgets. See https://ipywidgets.readthedocs.io/en/stable/user_install.html\n",
      "  from .autonotebook import tqdm as notebook_tqdm\n"
     ]
    }
   ],
   "source": [
    "from custom_score.score import BERTScoreStaticSampleTest, BERTScoreDynamicSampleTest, BARTScoreDynamicSampleTest\n",
    "from custom_score.utils import serialized_to_model\n",
    "from bart_score import BARTScorer\n",
    "import torch\n",
    "import tensorflow_datasets as tfds\n",
    "from datetime import datetime\n",
    "import pandas as pd\n",
    "import numpy as np"
   ]
  },
  {
   "attachments": {},
   "cell_type": "markdown",
   "metadata": {},
   "source": [
    "### Checkup and linkage"
   ]
  },
  {
   "cell_type": "code",
   "execution_count": 3,
   "metadata": {},
   "outputs": [
    {
     "data": {
      "text/plain": [
       "True"
      ]
     },
     "execution_count": 3,
     "metadata": {},
     "output_type": "execute_result"
    }
   ],
   "source": [
    "torch.cuda.is_available()"
   ]
  },
  {
   "attachments": {},
   "cell_type": "markdown",
   "metadata": {},
   "source": [
    "## Datasets"
   ]
  },
  {
   "attachments": {},
   "cell_type": "markdown",
   "metadata": {},
   "source": [
    "### Billsum"
   ]
  },
  {
   "cell_type": "code",
   "execution_count": 3,
   "metadata": {},
   "outputs": [
    {
     "data": {
      "text/html": [
       "<div>\n",
       "<style scoped>\n",
       "    .dataframe tbody tr th:only-of-type {\n",
       "        vertical-align: middle;\n",
       "    }\n",
       "\n",
       "    .dataframe tbody tr th {\n",
       "        vertical-align: top;\n",
       "    }\n",
       "\n",
       "    .dataframe thead th {\n",
       "        text-align: right;\n",
       "    }\n",
       "</style>\n",
       "<table border=\"1\" class=\"dataframe\">\n",
       "  <thead>\n",
       "    <tr style=\"text-align: right;\">\n",
       "      <th></th>\n",
       "      <th>text</th>\n",
       "      <th>summary</th>\n",
       "    </tr>\n",
       "  </thead>\n",
       "  <tbody>\n",
       "    <tr>\n",
       "      <th>0</th>\n",
       "      <td>SECTION 1. SHORT TITLE.\\n\\n    This Act may be...</td>\n",
       "      <td>Local Innovation and Coastal Protection Act of...</td>\n",
       "    </tr>\n",
       "    <tr>\n",
       "      <th>1</th>\n",
       "      <td>SECTION 1. SHORT TITLE.\\n\\n    This Act may be...</td>\n",
       "      <td>Gun Show Background Check Act of 2008 - Amends...</td>\n",
       "    </tr>\n",
       "    <tr>\n",
       "      <th>2</th>\n",
       "      <td>SECTION 1. SHORT TITLE.\\n\\n    This Act may be...</td>\n",
       "      <td>Recycled Roads Act of 2003 - Directs the Secre...</td>\n",
       "    </tr>\n",
       "    <tr>\n",
       "      <th>3</th>\n",
       "      <td>SECTION 1. SHORT TITLE.\\n\\n    This Act may be...</td>\n",
       "      <td>Prosthetic and Custom Orthotic Parity Act of 2...</td>\n",
       "    </tr>\n",
       "    <tr>\n",
       "      <th>4</th>\n",
       "      <td>SECTION 1. SHORT TITLE.\\n\\n    This Act may be...</td>\n",
       "      <td>Investing in Neighborhood-focused, Vital, Evid...</td>\n",
       "    </tr>\n",
       "  </tbody>\n",
       "</table>\n",
       "</div>"
      ],
      "text/plain": [
       "                                                text   \n",
       "0  SECTION 1. SHORT TITLE.\\n\\n    This Act may be...  \\\n",
       "1  SECTION 1. SHORT TITLE.\\n\\n    This Act may be...   \n",
       "2  SECTION 1. SHORT TITLE.\\n\\n    This Act may be...   \n",
       "3  SECTION 1. SHORT TITLE.\\n\\n    This Act may be...   \n",
       "4  SECTION 1. SHORT TITLE.\\n\\n    This Act may be...   \n",
       "\n",
       "                                             summary  \n",
       "0  Local Innovation and Coastal Protection Act of...  \n",
       "1  Gun Show Background Check Act of 2008 - Amends...  \n",
       "2  Recycled Roads Act of 2003 - Directs the Secre...  \n",
       "3  Prosthetic and Custom Orthotic Parity Act of 2...  \n",
       "4  Investing in Neighborhood-focused, Vital, Evid...  "
      ]
     },
     "execution_count": 3,
     "metadata": {},
     "output_type": "execute_result"
    }
   ],
   "source": [
    "billsum = tfds.load('huggingface:billsum')\n",
    "billsum_test = tfds.as_dataframe(billsum[\"test\"])\n",
    "billsum_test = billsum_test.loc[:, [\"text\", \"summary\"]]\n",
    "billsum_test.text = billsum_test.text.str.decode(\"utf-8\")\n",
    "billsum_test.summary = billsum_test.summary.str.decode(\"utf-8\")\n",
    "billsum_test.head(5)"
   ]
  },
  {
   "attachments": {},
   "cell_type": "markdown",
   "metadata": {},
   "source": [
    "### Gigaword"
   ]
  },
  {
   "cell_type": "code",
   "execution_count": 28,
   "metadata": {},
   "outputs": [],
   "source": [
    "gigaword_builder = tfds.builder(\"Gigaword\")\n",
    "gigaword_builder.download_and_prepare()\n",
    "gigaword = gigaword_builder.as_dataset()"
   ]
  },
  {
   "cell_type": "code",
   "execution_count": 29,
   "metadata": {},
   "outputs": [
    {
     "data": {
      "text/html": [
       "<div>\n",
       "<style scoped>\n",
       "    .dataframe tbody tr th:only-of-type {\n",
       "        vertical-align: middle;\n",
       "    }\n",
       "\n",
       "    .dataframe tbody tr th {\n",
       "        vertical-align: top;\n",
       "    }\n",
       "\n",
       "    .dataframe thead th {\n",
       "        text-align: right;\n",
       "    }\n",
       "</style>\n",
       "<table border=\"1\" class=\"dataframe\">\n",
       "  <thead>\n",
       "    <tr style=\"text-align: right;\">\n",
       "      <th></th>\n",
       "      <th>text</th>\n",
       "      <th>summary</th>\n",
       "    </tr>\n",
       "  </thead>\n",
       "  <tbody>\n",
       "    <tr>\n",
       "      <th>0</th>\n",
       "      <td>the german government and red cross have decid...</td>\n",
       "      <td>rmany gives ###,### dollars in aid for iran qu...</td>\n",
       "    </tr>\n",
       "    <tr>\n",
       "      <th>1</th>\n",
       "      <td>teenager michaela krajicek claimed her first g...</td>\n",
       "      <td>ajicek defeats safina in dutch final UNK picture</td>\n",
       "    </tr>\n",
       "    <tr>\n",
       "      <th>2</th>\n",
       "      <td>after spending ## years in prison for a killin...</td>\n",
       "      <td>###,### for ## years wrongly held in prison</td>\n",
       "    </tr>\n",
       "    <tr>\n",
       "      <th>3</th>\n",
       "      <td>the first probable human case of mad cow disea...</td>\n",
       "      <td>t case of probable mad cow disease listed post...</td>\n",
       "    </tr>\n",
       "    <tr>\n",
       "      <th>4</th>\n",
       "      <td>at least ## people were killed as typhoon sepa...</td>\n",
       "      <td>orms lash chinese coast killing ## ; ###,### e...</td>\n",
       "    </tr>\n",
       "  </tbody>\n",
       "</table>\n",
       "</div>"
      ],
      "text/plain": [
       "                                                text   \n",
       "0  the german government and red cross have decid...  \\\n",
       "1  teenager michaela krajicek claimed her first g...   \n",
       "2  after spending ## years in prison for a killin...   \n",
       "3  the first probable human case of mad cow disea...   \n",
       "4  at least ## people were killed as typhoon sepa...   \n",
       "\n",
       "                                             summary  \n",
       "0  rmany gives ###,### dollars in aid for iran qu...  \n",
       "1   ajicek defeats safina in dutch final UNK picture  \n",
       "2        ###,### for ## years wrongly held in prison  \n",
       "3  t case of probable mad cow disease listed post...  \n",
       "4  orms lash chinese coast killing ## ; ###,### e...  "
      ]
     },
     "execution_count": 29,
     "metadata": {},
     "output_type": "execute_result"
    }
   ],
   "source": [
    "gigaword = tfds.as_dataframe(gigaword[\"test\"])\n",
    "gigaword = gigaword.rename(columns={\"document\":\"text\", \"summary\":\"summary\"})\n",
    "gigaword['summary'] = gigaword['summary'].str.decode(\"utf-8\").str.replace(\"\\xe2\\x80\\x93\", \"\").str[2:].str.strip()\n",
    "gigaword['text'] = gigaword['text'].str.decode(\"utf-8\").str.strip()\n",
    "gigaword.head(5)"
   ]
  },
  {
   "attachments": {},
   "cell_type": "markdown",
   "metadata": {},
   "source": [
    "### Multinews"
   ]
  },
  {
   "cell_type": "code",
   "execution_count": 4,
   "metadata": {},
   "outputs": [],
   "source": [
    "multinews_builder = tfds.builder(\"MultiNews\")\n",
    "multinews_builder.download_and_prepare()\n",
    "multinews = multinews_builder.as_dataset()"
   ]
  },
  {
   "cell_type": "code",
   "execution_count": 5,
   "metadata": {},
   "outputs": [
    {
     "data": {
      "text/html": [
       "<div>\n",
       "<style scoped>\n",
       "    .dataframe tbody tr th:only-of-type {\n",
       "        vertical-align: middle;\n",
       "    }\n",
       "\n",
       "    .dataframe tbody tr th {\n",
       "        vertical-align: top;\n",
       "    }\n",
       "\n",
       "    .dataframe thead th {\n",
       "        text-align: right;\n",
       "    }\n",
       "</style>\n",
       "<table border=\"1\" class=\"dataframe\">\n",
       "  <thead>\n",
       "    <tr style=\"text-align: right;\">\n",
       "      <th></th>\n",
       "      <th>text</th>\n",
       "      <th>summary</th>\n",
       "    </tr>\n",
       "  </thead>\n",
       "  <tbody>\n",
       "    <tr>\n",
       "      <th>0</th>\n",
       "      <td>Think back, everyone -- can you remember when ...</td>\n",
       "      <td>No matter how much you like Jason Bateman and ...</td>\n",
       "    </tr>\n",
       "    <tr>\n",
       "      <th>1</th>\n",
       "      <td>'Alien: Covenant': Film Review \\n  \\n Michael ...</td>\n",
       "      <td>A spaceship arrives on a distant planet that l...</td>\n",
       "    </tr>\n",
       "    <tr>\n",
       "      <th>2</th>\n",
       "      <td>By REUTERS \\n  \\n Photo: Reuters \\n  \\n Charli...</td>\n",
       "      <td>France is on lockdown today after a satirical ...</td>\n",
       "    </tr>\n",
       "    <tr>\n",
       "      <th>3</th>\n",
       "      <td>These crawls are part of an effort to archive ...</td>\n",
       "      <td>Just when you thought the Republican president...</td>\n",
       "    </tr>\n",
       "    <tr>\n",
       "      <th>4</th>\n",
       "      <td>The estranged wife of acclaimed concert pianis...</td>\n",
       "      <td>Sofya Tsygankova, the estranged wife of famed ...</td>\n",
       "    </tr>\n",
       "  </tbody>\n",
       "</table>\n",
       "</div>"
      ],
      "text/plain": [
       "                                                text   \n",
       "0  Think back, everyone -- can you remember when ...  \\\n",
       "1  'Alien: Covenant': Film Review \\n  \\n Michael ...   \n",
       "2  By REUTERS \\n  \\n Photo: Reuters \\n  \\n Charli...   \n",
       "3  These crawls are part of an effort to archive ...   \n",
       "4  The estranged wife of acclaimed concert pianis...   \n",
       "\n",
       "                                             summary  \n",
       "0  No matter how much you like Jason Bateman and ...  \n",
       "1  A spaceship arrives on a distant planet that l...  \n",
       "2  France is on lockdown today after a satirical ...  \n",
       "3  Just when you thought the Republican president...  \n",
       "4  Sofya Tsygankova, the estranged wife of famed ...  "
      ]
     },
     "execution_count": 5,
     "metadata": {},
     "output_type": "execute_result"
    }
   ],
   "source": [
    "multinews = tfds.as_dataframe(multinews[\"test\"])\n",
    "multinews = multinews.rename(columns={\"document\":\"text\", \"summary\":\"summary\"})\n",
    "multinews['summary'] = multinews['summary'].str.decode(\"utf-8\").str.replace(\"\\xe2\\x80\\x93\", \"\").str[2:].str.strip()\n",
    "multinews['text'] = multinews['text'].str.decode(\"utf-8\").str.strip()\n",
    "multinews.head(5)"
   ]
  },
  {
   "attachments": {},
   "cell_type": "markdown",
   "metadata": {},
   "source": [
    "## Benchmark"
   ]
  },
  {
   "cell_type": "code",
   "execution_count": 12,
   "metadata": {},
   "outputs": [],
   "source": [
    "results = {}"
   ]
  },
  {
   "attachments": {},
   "cell_type": "markdown",
   "metadata": {},
   "source": [
    "### Billsum"
   ]
  },
  {
   "attachments": {},
   "cell_type": "markdown",
   "metadata": {},
   "source": [
    "#### Classic BERTScore"
   ]
  },
  {
   "cell_type": "code",
   "execution_count": 6,
   "metadata": {},
   "outputs": [
    {
     "name": "stderr",
     "output_type": "stream",
     "text": [
      "Some weights of the model checkpoint at roberta-large were not used when initializing RobertaModel: ['lm_head.dense.bias', 'lm_head.layer_norm.weight', 'lm_head.bias', 'lm_head.dense.weight', 'lm_head.decoder.weight', 'lm_head.layer_norm.bias']\n",
      "- This IS expected if you are initializing RobertaModel from the checkpoint of a model trained on another task or with another architecture (e.g. initializing a BertForSequenceClassification model from a BertForPreTraining model).\n",
      "- This IS NOT expected if you are initializing RobertaModel from the checkpoint of a model that you expect to be exactly identical (initializing a BertForSequenceClassification model from a BertForSequenceClassification model).\n",
      "Some weights of the model checkpoint at roberta-large were not used when initializing RobertaModel: ['lm_head.dense.bias', 'lm_head.layer_norm.weight', 'lm_head.bias', 'lm_head.dense.weight', 'lm_head.decoder.weight', 'lm_head.layer_norm.bias']\n",
      "- This IS expected if you are initializing RobertaModel from the checkpoint of a model trained on another task or with another architecture (e.g. initializing a BertForSequenceClassification model from a BertForPreTraining model).\n",
      "- This IS NOT expected if you are initializing RobertaModel from the checkpoint of a model that you expect to be exactly identical (initializing a BertForSequenceClassification model from a BertForSequenceClassification model).\n",
      "Some weights of the model checkpoint at roberta-large were not used when initializing RobertaModel: ['lm_head.dense.bias', 'lm_head.layer_norm.weight', 'lm_head.bias', 'lm_head.dense.weight', 'lm_head.decoder.weight', 'lm_head.layer_norm.bias']\n",
      "- This IS expected if you are initializing RobertaModel from the checkpoint of a model trained on another task or with another architecture (e.g. initializing a BertForSequenceClassification model from a BertForPreTraining model).\n",
      "- This IS NOT expected if you are initializing RobertaModel from the checkpoint of a model that you expect to be exactly identical (initializing a BertForSequenceClassification model from a BertForSequenceClassification model).\n"
     ]
    }
   ],
   "source": [
    "bert_scores, bert_runtime = BERTScoreDynamicSampleTest(billsum_test)"
   ]
  },
  {
   "attachments": {},
   "cell_type": "markdown",
   "metadata": {},
   "source": [
    "#### Static BERTScore"
   ]
  },
  {
   "cell_type": "code",
   "execution_count": 7,
   "metadata": {},
   "outputs": [],
   "source": [
    "w2v = serialized_to_model(r'C:\\Pro\\Stages\\A4 - DVRC\\Work\\Models\\serialized_w2v.pkl')"
   ]
  },
  {
   "cell_type": "code",
   "execution_count": 8,
   "metadata": {},
   "outputs": [],
   "source": [
    "word2vec_scores, word2vec_runtime = BERTScoreStaticSampleTest(billsum_test, w2v, 3, withIdf = False)"
   ]
  },
  {
   "attachments": {},
   "cell_type": "markdown",
   "metadata": {},
   "source": [
    "#### BARTScore"
   ]
  },
  {
   "cell_type": "code",
   "execution_count": 9,
   "metadata": {},
   "outputs": [],
   "source": [
    "bart_scores, bart_runtime = BARTScoreDynamicSampleTest(billsum_test, limit=3)"
   ]
  },
  {
   "attachments": {},
   "cell_type": "markdown",
   "metadata": {},
   "source": [
    "#### Appending"
   ]
  },
  {
   "cell_type": "code",
   "execution_count": 10,
   "metadata": {},
   "outputs": [],
   "source": [
    "billsum_results = {'BERTScore': [bert_scores ,bert_runtime], 'Custom': [word2vec_scores, word2vec_runtime], 'Bart': [bart_scores, bart_runtime]}"
   ]
  },
  {
   "cell_type": "code",
   "execution_count": 13,
   "metadata": {},
   "outputs": [],
   "source": [
    "results['billsum'] = billsum_results"
   ]
  },
  {
   "attachments": {},
   "cell_type": "markdown",
   "metadata": {},
   "source": [
    "### Multinews"
   ]
  },
  {
   "cell_type": "code",
   "execution_count": 14,
   "metadata": {},
   "outputs": [
    {
     "name": "stderr",
     "output_type": "stream",
     "text": [
      "Some weights of the model checkpoint at roberta-large were not used when initializing RobertaModel: ['lm_head.dense.bias', 'lm_head.layer_norm.weight', 'lm_head.bias', 'lm_head.dense.weight', 'lm_head.decoder.weight', 'lm_head.layer_norm.bias']\n",
      "- This IS expected if you are initializing RobertaModel from the checkpoint of a model trained on another task or with another architecture (e.g. initializing a BertForSequenceClassification model from a BertForPreTraining model).\n",
      "- This IS NOT expected if you are initializing RobertaModel from the checkpoint of a model that you expect to be exactly identical (initializing a BertForSequenceClassification model from a BertForSequenceClassification model).\n",
      "Some weights of the model checkpoint at roberta-large were not used when initializing RobertaModel: ['lm_head.dense.bias', 'lm_head.layer_norm.weight', 'lm_head.bias', 'lm_head.dense.weight', 'lm_head.decoder.weight', 'lm_head.layer_norm.bias']\n",
      "- This IS expected if you are initializing RobertaModel from the checkpoint of a model trained on another task or with another architecture (e.g. initializing a BertForSequenceClassification model from a BertForPreTraining model).\n",
      "- This IS NOT expected if you are initializing RobertaModel from the checkpoint of a model that you expect to be exactly identical (initializing a BertForSequenceClassification model from a BertForSequenceClassification model).\n",
      "Some weights of the model checkpoint at roberta-large were not used when initializing RobertaModel: ['lm_head.dense.bias', 'lm_head.layer_norm.weight', 'lm_head.bias', 'lm_head.dense.weight', 'lm_head.decoder.weight', 'lm_head.layer_norm.bias']\n",
      "- This IS expected if you are initializing RobertaModel from the checkpoint of a model trained on another task or with another architecture (e.g. initializing a BertForSequenceClassification model from a BertForPreTraining model).\n",
      "- This IS NOT expected if you are initializing RobertaModel from the checkpoint of a model that you expect to be exactly identical (initializing a BertForSequenceClassification model from a BertForSequenceClassification model).\n"
     ]
    }
   ],
   "source": [
    "bert_scores, bert_runtime = BERTScoreDynamicSampleTest(multinews)\n",
    "word2vec_scores, word2vec_runtime = BERTScoreStaticSampleTest(multinews, w2v, 3, withIdf = False)\n",
    "bart_scores, bart_runtime = BARTScoreDynamicSampleTest(multinews, limit=3)"
   ]
  },
  {
   "cell_type": "code",
   "execution_count": 15,
   "metadata": {},
   "outputs": [],
   "source": [
    "multinews_results = {'BERTScore': [bert_scores ,bert_runtime], 'Custom': [word2vec_scores, word2vec_runtime], 'Bart': [bart_scores, bart_runtime]}\n",
    "results['multinews'] = multinews_results"
   ]
  },
  {
   "attachments": {},
   "cell_type": "markdown",
   "metadata": {},
   "source": [
    "### Gigaword"
   ]
  },
  {
   "cell_type": "code",
   "execution_count": 30,
   "metadata": {},
   "outputs": [
    {
     "name": "stderr",
     "output_type": "stream",
     "text": [
      "Some weights of the model checkpoint at roberta-large were not used when initializing RobertaModel: ['lm_head.dense.bias', 'lm_head.layer_norm.weight', 'lm_head.bias', 'lm_head.dense.weight', 'lm_head.decoder.weight', 'lm_head.layer_norm.bias']\n",
      "- This IS expected if you are initializing RobertaModel from the checkpoint of a model trained on another task or with another architecture (e.g. initializing a BertForSequenceClassification model from a BertForPreTraining model).\n",
      "- This IS NOT expected if you are initializing RobertaModel from the checkpoint of a model that you expect to be exactly identical (initializing a BertForSequenceClassification model from a BertForSequenceClassification model).\n",
      "Some weights of the model checkpoint at roberta-large were not used when initializing RobertaModel: ['lm_head.dense.bias', 'lm_head.layer_norm.weight', 'lm_head.bias', 'lm_head.dense.weight', 'lm_head.decoder.weight', 'lm_head.layer_norm.bias']\n",
      "- This IS expected if you are initializing RobertaModel from the checkpoint of a model trained on another task or with another architecture (e.g. initializing a BertForSequenceClassification model from a BertForPreTraining model).\n",
      "- This IS NOT expected if you are initializing RobertaModel from the checkpoint of a model that you expect to be exactly identical (initializing a BertForSequenceClassification model from a BertForSequenceClassification model).\n",
      "Some weights of the model checkpoint at roberta-large were not used when initializing RobertaModel: ['lm_head.dense.bias', 'lm_head.layer_norm.weight', 'lm_head.bias', 'lm_head.dense.weight', 'lm_head.decoder.weight', 'lm_head.layer_norm.bias']\n",
      "- This IS expected if you are initializing RobertaModel from the checkpoint of a model trained on another task or with another architecture (e.g. initializing a BertForSequenceClassification model from a BertForPreTraining model).\n",
      "- This IS NOT expected if you are initializing RobertaModel from the checkpoint of a model that you expect to be exactly identical (initializing a BertForSequenceClassification model from a BertForSequenceClassification model).\n"
     ]
    }
   ],
   "source": [
    "bert_scores, bert_runtime = BERTScoreDynamicSampleTest(gigaword)\n",
    "word2vec_scores, word2vec_runtime = BERTScoreStaticSampleTest(gigaword, w2v, 3, withIdf = False)\n",
    "bart_scores, bart_runtime = BARTScoreDynamicSampleTest(gigaword, limit=3)"
   ]
  },
  {
   "cell_type": "code",
   "execution_count": 31,
   "metadata": {},
   "outputs": [],
   "source": [
    "gigaword_results = {'BERTScore': [bert_scores ,bert_runtime], 'Custom': [word2vec_scores, word2vec_runtime], 'Bart': [bart_scores, bart_runtime]}\n",
    "results['gigaword'] = gigaword_results"
   ]
  },
  {
   "attachments": {},
   "cell_type": "markdown",
   "metadata": {},
   "source": [
    "## Evalutation"
   ]
  },
  {
   "attachments": {},
   "cell_type": "markdown",
   "metadata": {},
   "source": [
    "### Runtime Table"
   ]
  },
  {
   "cell_type": "code",
   "execution_count": 33,
   "metadata": {},
   "outputs": [
    {
     "data": {
      "text/html": [
       "<div>\n",
       "<style scoped>\n",
       "    .dataframe tbody tr th:only-of-type {\n",
       "        vertical-align: middle;\n",
       "    }\n",
       "\n",
       "    .dataframe tbody tr th {\n",
       "        vertical-align: top;\n",
       "    }\n",
       "\n",
       "    .dataframe thead th {\n",
       "        text-align: right;\n",
       "    }\n",
       "</style>\n",
       "<table border=\"1\" class=\"dataframe\">\n",
       "  <thead>\n",
       "    <tr style=\"text-align: right;\">\n",
       "      <th></th>\n",
       "      <th>Billsum</th>\n",
       "      <th>Multinews</th>\n",
       "      <th>Gigaword</th>\n",
       "    </tr>\n",
       "  </thead>\n",
       "  <tbody>\n",
       "    <tr>\n",
       "      <th>Roberta-24-layers</th>\n",
       "      <td>12.262710</td>\n",
       "      <td>9.243795</td>\n",
       "      <td>8.908763</td>\n",
       "    </tr>\n",
       "    <tr>\n",
       "      <th>Word2Vec</th>\n",
       "      <td>5.691295</td>\n",
       "      <td>13.544956</td>\n",
       "      <td>0.011086</td>\n",
       "    </tr>\n",
       "    <tr>\n",
       "      <th>BART-large-CNN</th>\n",
       "      <td>0.355920</td>\n",
       "      <td>0.398936</td>\n",
       "      <td>0.069543</td>\n",
       "    </tr>\n",
       "  </tbody>\n",
       "</table>\n",
       "</div>"
      ],
      "text/plain": [
       "                     Billsum  Multinews  Gigaword\n",
       "Roberta-24-layers  12.262710   9.243795  8.908763\n",
       "Word2Vec            5.691295  13.544956  0.011086\n",
       "BART-large-CNN      0.355920   0.398936  0.069543"
      ]
     },
     "execution_count": 33,
     "metadata": {},
     "output_type": "execute_result"
    }
   ],
   "source": [
    "billsum_runtimes = [results[\"billsum\"][\"BERTScore\"][1], results[\"billsum\"][\"Custom\"][1], results[\"billsum\"][\"Bart\"][1]]\n",
    "multinews_runtimes = [results[\"multinews\"][\"BERTScore\"][1], results[\"multinews\"][\"Custom\"][1], results[\"multinews\"][\"Bart\"][1]]\n",
    "gigaword_runtimes = [results[\"gigaword\"][\"BERTScore\"][1], results[\"gigaword\"][\"Custom\"][1], results[\"gigaword\"][\"Bart\"][1]]\n",
    "\n",
    "runtimeDf = pd.DataFrame({\"Billsum\": billsum_runtimes, \n",
    "                          \"Multinews\": multinews_runtimes,\n",
    "                          \"Gigaword\": gigaword_runtimes}, \n",
    "                         index=[\"Roberta-24-layers\", \"Word2Vec\", \"BART-large-CNN\"])\n",
    "runtimeDf"
   ]
  },
  {
   "attachments": {},
   "cell_type": "markdown",
   "metadata": {},
   "source": [
    "### Quality evaluation"
   ]
  },
  {
   "attachments": {},
   "cell_type": "markdown",
   "metadata": {},
   "source": [
    "#### Billsum"
   ]
  },
  {
   "cell_type": "code",
   "execution_count": 17,
   "metadata": {},
   "outputs": [
    {
     "data": {
      "text/html": [
       "<div>\n",
       "<style scoped>\n",
       "    .dataframe tbody tr th:only-of-type {\n",
       "        vertical-align: middle;\n",
       "    }\n",
       "\n",
       "    .dataframe tbody tr th {\n",
       "        vertical-align: top;\n",
       "    }\n",
       "\n",
       "    .dataframe thead th {\n",
       "        text-align: right;\n",
       "    }\n",
       "</style>\n",
       "<table border=\"1\" class=\"dataframe\">\n",
       "  <thead>\n",
       "    <tr style=\"text-align: right;\">\n",
       "      <th></th>\n",
       "      <th>W2V_P</th>\n",
       "      <th>W2V_R</th>\n",
       "      <th>W2V_F</th>\n",
       "      <th>Bert_P</th>\n",
       "      <th>Bert_R</th>\n",
       "      <th>Bert_F</th>\n",
       "      <th>Bart</th>\n",
       "    </tr>\n",
       "  </thead>\n",
       "  <tbody>\n",
       "    <tr>\n",
       "      <th>0</th>\n",
       "      <td>0.646725</td>\n",
       "      <td>0.902619</td>\n",
       "      <td>0.753539</td>\n",
       "      <td>0.849191</td>\n",
       "      <td>0.781935</td>\n",
       "      <td>0.814176</td>\n",
       "      <td>0.053699</td>\n",
       "    </tr>\n",
       "    <tr>\n",
       "      <th>1</th>\n",
       "      <td>0.699015</td>\n",
       "      <td>0.941868</td>\n",
       "      <td>0.802470</td>\n",
       "      <td>0.818807</td>\n",
       "      <td>0.699549</td>\n",
       "      <td>0.754495</td>\n",
       "      <td>0.038453</td>\n",
       "    </tr>\n",
       "    <tr>\n",
       "      <th>2</th>\n",
       "      <td>0.652091</td>\n",
       "      <td>0.959232</td>\n",
       "      <td>0.776389</td>\n",
       "      <td>0.832273</td>\n",
       "      <td>0.697599</td>\n",
       "      <td>0.759008</td>\n",
       "      <td>0.038518</td>\n",
       "    </tr>\n",
       "  </tbody>\n",
       "</table>\n",
       "</div>"
      ],
      "text/plain": [
       "      W2V_P     W2V_R     W2V_F    Bert_P    Bert_R    Bert_F      Bart\n",
       "0  0.646725  0.902619  0.753539  0.849191  0.781935  0.814176  0.053699\n",
       "1  0.699015  0.941868  0.802470  0.818807  0.699549  0.754495  0.038453\n",
       "2  0.652091  0.959232  0.776389  0.832273  0.697599  0.759008  0.038518"
      ]
     },
     "execution_count": 17,
     "metadata": {},
     "output_type": "execute_result"
    }
   ],
   "source": [
    "billsumQualityDf = pd.concat((pd.DataFrame(results[\"billsum\"][\"Custom\"][0], columns=[\"W2V_P\", \"W2V_R\", \"W2V_F\"]),\n",
    "                              pd.DataFrame(results[\"billsum\"][\"BERTScore\"][0], columns=[\"Bert_P\", \"Bert_R\", \"Bert_F\"]),\n",
    "                              pd.DataFrame(results[\"billsum\"][\"Bart\"][0], columns=[\"Bart\"])),\n",
    "                              axis=1)\n",
    "billsumQualityDf"
   ]
  },
  {
   "attachments": {},
   "cell_type": "markdown",
   "metadata": {},
   "source": [
    "#### Multinews"
   ]
  },
  {
   "cell_type": "code",
   "execution_count": 18,
   "metadata": {},
   "outputs": [
    {
     "data": {
      "text/html": [
       "<div>\n",
       "<style scoped>\n",
       "    .dataframe tbody tr th:only-of-type {\n",
       "        vertical-align: middle;\n",
       "    }\n",
       "\n",
       "    .dataframe tbody tr th {\n",
       "        vertical-align: top;\n",
       "    }\n",
       "\n",
       "    .dataframe thead th {\n",
       "        text-align: right;\n",
       "    }\n",
       "</style>\n",
       "<table border=\"1\" class=\"dataframe\">\n",
       "  <thead>\n",
       "    <tr style=\"text-align: right;\">\n",
       "      <th></th>\n",
       "      <th>W2V_P</th>\n",
       "      <th>W2V_R</th>\n",
       "      <th>W2V_F</th>\n",
       "      <th>Bert_P</th>\n",
       "      <th>Bert_R</th>\n",
       "      <th>Bert_F</th>\n",
       "      <th>Bart</th>\n",
       "    </tr>\n",
       "  </thead>\n",
       "  <tbody>\n",
       "    <tr>\n",
       "      <th>0</th>\n",
       "      <td>0.648935</td>\n",
       "      <td>0.854094</td>\n",
       "      <td>0.737513</td>\n",
       "      <td>0.810646</td>\n",
       "      <td>0.794206</td>\n",
       "      <td>0.802342</td>\n",
       "      <td>0.028218</td>\n",
       "    </tr>\n",
       "    <tr>\n",
       "      <th>1</th>\n",
       "      <td>0.656565</td>\n",
       "      <td>0.880320</td>\n",
       "      <td>0.752154</td>\n",
       "      <td>0.841052</td>\n",
       "      <td>0.826047</td>\n",
       "      <td>0.833482</td>\n",
       "      <td>0.047064</td>\n",
       "    </tr>\n",
       "    <tr>\n",
       "      <th>2</th>\n",
       "      <td>0.651669</td>\n",
       "      <td>0.863386</td>\n",
       "      <td>0.742735</td>\n",
       "      <td>0.863537</td>\n",
       "      <td>0.827867</td>\n",
       "      <td>0.845326</td>\n",
       "      <td>0.055904</td>\n",
       "    </tr>\n",
       "  </tbody>\n",
       "</table>\n",
       "</div>"
      ],
      "text/plain": [
       "      W2V_P     W2V_R     W2V_F    Bert_P    Bert_R    Bert_F      Bart\n",
       "0  0.648935  0.854094  0.737513  0.810646  0.794206  0.802342  0.028218\n",
       "1  0.656565  0.880320  0.752154  0.841052  0.826047  0.833482  0.047064\n",
       "2  0.651669  0.863386  0.742735  0.863537  0.827867  0.845326  0.055904"
      ]
     },
     "execution_count": 18,
     "metadata": {},
     "output_type": "execute_result"
    }
   ],
   "source": [
    "multinewsQualityDf = pd.concat((pd.DataFrame(results[\"multinews\"][\"Custom\"][0], columns=[\"W2V_P\", \"W2V_R\", \"W2V_F\"]),\n",
    "                              pd.DataFrame(results[\"multinews\"][\"BERTScore\"][0], columns=[\"Bert_P\", \"Bert_R\", \"Bert_F\"]),\n",
    "                              pd.DataFrame(results[\"multinews\"][\"Bart\"][0], columns=[\"Bart\"])),\n",
    "                              axis=1)\n",
    "multinewsQualityDf"
   ]
  },
  {
   "attachments": {},
   "cell_type": "markdown",
   "metadata": {},
   "source": [
    "#### Gigaword"
   ]
  },
  {
   "cell_type": "code",
   "execution_count": 34,
   "metadata": {},
   "outputs": [
    {
     "data": {
      "text/html": [
       "<div>\n",
       "<style scoped>\n",
       "    .dataframe tbody tr th:only-of-type {\n",
       "        vertical-align: middle;\n",
       "    }\n",
       "\n",
       "    .dataframe tbody tr th {\n",
       "        vertical-align: top;\n",
       "    }\n",
       "\n",
       "    .dataframe thead th {\n",
       "        text-align: right;\n",
       "    }\n",
       "</style>\n",
       "<table border=\"1\" class=\"dataframe\">\n",
       "  <thead>\n",
       "    <tr style=\"text-align: right;\">\n",
       "      <th></th>\n",
       "      <th>W2V_P</th>\n",
       "      <th>W2V_R</th>\n",
       "      <th>W2V_F</th>\n",
       "      <th>Bert_P</th>\n",
       "      <th>Bert_R</th>\n",
       "      <th>Bert_F</th>\n",
       "      <th>Bart</th>\n",
       "    </tr>\n",
       "  </thead>\n",
       "  <tbody>\n",
       "    <tr>\n",
       "      <th>0</th>\n",
       "      <td>0.530460</td>\n",
       "      <td>0.893533</td>\n",
       "      <td>0.665711</td>\n",
       "      <td>0.921882</td>\n",
       "      <td>0.861801</td>\n",
       "      <td>0.890830</td>\n",
       "      <td>0.013748</td>\n",
       "    </tr>\n",
       "    <tr>\n",
       "      <th>1</th>\n",
       "      <td>0.428361</td>\n",
       "      <td>0.616523</td>\n",
       "      <td>0.505500</td>\n",
       "      <td>0.864806</td>\n",
       "      <td>0.799132</td>\n",
       "      <td>0.830673</td>\n",
       "      <td>0.004452</td>\n",
       "    </tr>\n",
       "    <tr>\n",
       "      <th>2</th>\n",
       "      <td>0.426867</td>\n",
       "      <td>0.751144</td>\n",
       "      <td>0.544373</td>\n",
       "      <td>0.867719</td>\n",
       "      <td>0.825670</td>\n",
       "      <td>0.846172</td>\n",
       "      <td>0.001011</td>\n",
       "    </tr>\n",
       "  </tbody>\n",
       "</table>\n",
       "</div>"
      ],
      "text/plain": [
       "      W2V_P     W2V_R     W2V_F    Bert_P    Bert_R    Bert_F      Bart\n",
       "0  0.530460  0.893533  0.665711  0.921882  0.861801  0.890830  0.013748\n",
       "1  0.428361  0.616523  0.505500  0.864806  0.799132  0.830673  0.004452\n",
       "2  0.426867  0.751144  0.544373  0.867719  0.825670  0.846172  0.001011"
      ]
     },
     "execution_count": 34,
     "metadata": {},
     "output_type": "execute_result"
    }
   ],
   "source": [
    "gigawordQualityDf = pd.concat((pd.DataFrame(results[\"gigaword\"][\"Custom\"][0], columns=[\"W2V_P\", \"W2V_R\", \"W2V_F\"]),\n",
    "                              pd.DataFrame(results[\"gigaword\"][\"BERTScore\"][0], columns=[\"Bert_P\", \"Bert_R\", \"Bert_F\"]),\n",
    "                              pd.DataFrame(results[\"gigaword\"][\"Bart\"][0], columns=[\"Bart\"])),\n",
    "                              axis=1)\n",
    "gigawordQualityDf"
   ]
  }
 ],
 "metadata": {
  "kernelspec": {
   "display_name": ".venv",
   "language": "python",
   "name": "python3"
  },
  "language_info": {
   "codemirror_mode": {
    "name": "ipython",
    "version": 3
   },
   "file_extension": ".py",
   "mimetype": "text/x-python",
   "name": "python",
   "nbconvert_exporter": "python",
   "pygments_lexer": "ipython3",
   "version": "3.11.3"
  },
  "orig_nbformat": 4
 },
 "nbformat": 4,
 "nbformat_minor": 2
}

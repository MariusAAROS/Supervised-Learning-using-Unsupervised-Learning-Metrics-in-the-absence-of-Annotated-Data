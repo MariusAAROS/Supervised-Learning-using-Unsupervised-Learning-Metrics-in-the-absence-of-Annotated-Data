{
 "cells": [
  {
   "attachments": {},
   "cell_type": "markdown",
   "metadata": {},
   "source": [
    "## Libraries"
   ]
  },
  {
   "cell_type": "code",
   "execution_count": 1,
   "metadata": {},
   "outputs": [
    {
     "name": "stderr",
     "output_type": "stream",
     "text": [
      "c:\\Pro\\Stages\\A4 - DVRC\\Work\\Supervised-Learning-using-Unsupervised-Learning-Metrics-in-the-absence-of-Annotated-Data\\.venv\\Lib\\site-packages\\tqdm\\auto.py:21: TqdmWarning: IProgress not found. Please update jupyter and ipywidgets. See https://ipywidgets.readthedocs.io/en/stable/user_install.html\n",
      "  from .autonotebook import tqdm as notebook_tqdm\n"
     ]
    }
   ],
   "source": [
    "import sys \n",
    "sys.path.append(r\"C:\\Pro\\Stages\\A4 - DVRC\\Work\\Supervised-Learning-using-Unsupervised-Learning-Metrics-in-the-absence-of-Annotated-Data\\myLibraries\")\n",
    "\n",
    "from custom_score.utils import get_git_root\n",
    "sys.path.append(get_git_root())"
   ]
  },
  {
   "cell_type": "code",
   "execution_count": 2,
   "metadata": {},
   "outputs": [],
   "source": [
    "from custom_score.score import BERTScoreStaticSampleTest, BERTScoreDynamicSampleTest, BARTScoreDynamicSampleTest\n",
    "from custom_score.utils import serialized_to_model\n",
    "from BARTScore.bart_score import BARTScorer\n",
    "import torch\n",
    "import tensorflow_datasets as tfds\n",
    "from datetime import datetime\n",
    "import pandas as pd\n",
    "import numpy as np"
   ]
  },
  {
   "attachments": {},
   "cell_type": "markdown",
   "metadata": {},
   "source": [
    "### Checkup and linkage"
   ]
  },
  {
   "cell_type": "code",
   "execution_count": 3,
   "metadata": {},
   "outputs": [
    {
     "data": {
      "text/plain": [
       "True"
      ]
     },
     "execution_count": 3,
     "metadata": {},
     "output_type": "execute_result"
    }
   ],
   "source": [
    "torch.cuda.is_available()"
   ]
  },
  {
   "attachments": {},
   "cell_type": "markdown",
   "metadata": {},
   "source": [
    "## Datasets"
   ]
  },
  {
   "attachments": {},
   "cell_type": "markdown",
   "metadata": {},
   "source": [
    "### Billsum"
   ]
  },
  {
   "cell_type": "code",
   "execution_count": null,
   "metadata": {},
   "outputs": [],
   "source": [
    "billsumTest_url='https://drive.google.com/file/d/1Wd0M3qepNF6B4YwFYrpo7CaSERpudAG_/view?usp=share_link'\n",
    "billsumTest_url='https://drive.google.com/uc?id=' + billsumTest_url.split('/')[-2]\n",
    "billsum_test = pd.read_json(billsumTest_url, lines=True)\n",
    "billsum_test = billsum_test.loc[:, [\"text\", \"summary\"]]\n",
    "billsum_test.head(5)"
   ]
  },
  {
   "attachments": {},
   "cell_type": "markdown",
   "metadata": {},
   "source": [
    "### Gigaword"
   ]
  },
  {
   "cell_type": "code",
   "execution_count": null,
   "metadata": {},
   "outputs": [],
   "source": [
    "gigaword_builder = tfds.builder(\"Gigaword\")\n",
    "gigaword_builder.download_and_prepare()\n",
    "gigaword = gigaword_builder.as_dataset()"
   ]
  },
  {
   "cell_type": "code",
   "execution_count": null,
   "metadata": {},
   "outputs": [],
   "source": [
    "gigaword = tfds.as_dataframe(gigaword[\"test\"])\n",
    "gigaword = gigaword.rename(columns={\"document\":\"text\", \"summary\":\"summary\"})\n",
    "gigaword['summary'] = gigaword['summary'].str.decode(\"utf-8\").str.strip().str.replace(\"#\", \"\")\n",
    "gigaword['text'] = gigaword['text'].str.decode(\"utf-8\").str.strip().str.replace(\"#\", \"\")\n",
    "gigaword.head(5)"
   ]
  },
  {
   "attachments": {},
   "cell_type": "markdown",
   "metadata": {},
   "source": [
    "### Multinews"
   ]
  },
  {
   "cell_type": "code",
   "execution_count": null,
   "metadata": {},
   "outputs": [],
   "source": [
    "multinews_builder = tfds.builder(\"MultiNews\")\n",
    "multinews_builder.download_and_prepare()\n",
    "multinews = multinews_builder.as_dataset()"
   ]
  },
  {
   "cell_type": "code",
   "execution_count": null,
   "metadata": {},
   "outputs": [],
   "source": [
    "multinews = tfds.as_dataframe(multinews[\"test\"])\n",
    "multinews = multinews.rename(columns={\"document\":\"text\", \"summary\":\"summary\"})\n",
    "multinews['summary'] = multinews['summary'].str.decode(\"utf-8\").str.replace(\"\\xe2\\x80\\x93\", \"\").str[2:].str.strip()\n",
    "multinews['text'] = multinews['text'].str.decode(\"utf-8\").str.strip()\n",
    "multinews.head(5)"
   ]
  },
  {
   "attachments": {},
   "cell_type": "markdown",
   "metadata": {},
   "source": [
    "### PubMed"
   ]
  },
  {
   "cell_type": "code",
   "execution_count": null,
   "metadata": {},
   "outputs": [],
   "source": [
    "pm_path = r\"C:\\Pro\\Stages\\A4 - DVRC\\Work\\Datasets\\pubmed\\test.json\"\n",
    "pubmed_test = pd.read_json(pm_path, lines=True)\n",
    "pm = pubmed_test[[\"article_text\", \"abstract_text\"]]\n",
    "cleaner = lambda x: \". \".join(x).replace(\"<S>\", \"\").strip()\n",
    "\n",
    "pm.loc[:,\"abstract_text\"] = pm[\"abstract_text\"].replace(regex=r\"\\[[^\\]]*\\]\", value=\"\")\n",
    "pm.loc[:,\"article_text\"] = pm[\"article_text\"].replace(regex=r\"\\[[^\\]]*\\]\", value=\"\")\n",
    "pm.loc[:,\"abstract_text\"] = pm[\"abstract_text\"].map(cleaner)\n",
    "pm.loc[:,\"article_text\"] = pm[\"article_text\"].map(cleaner)\n",
    "pubmed = pm.copy()\n",
    "\n",
    "del pm \n",
    "del pubmed_test\n",
    "\n",
    "pubmed.head()"
   ]
  },
  {
   "attachments": {},
   "cell_type": "markdown",
   "metadata": {},
   "source": [
    "## Benchmark"
   ]
  },
  {
   "cell_type": "code",
   "execution_count": null,
   "metadata": {},
   "outputs": [],
   "source": [
    "results = {}\n",
    "lim = 10"
   ]
  },
  {
   "attachments": {},
   "cell_type": "markdown",
   "metadata": {},
   "source": [
    "### Billsum"
   ]
  },
  {
   "cell_type": "code",
   "execution_count": null,
   "metadata": {},
   "outputs": [],
   "source": [
    "w2v = serialized_to_model(r'C:\\Pro\\Stages\\A4 - DVRC\\Work\\Models\\serialized_w2v.pkl')\n",
    "bert_scores, bert_runtime = BERTScoreDynamicSampleTest(billsum_test, limit=lim)\n",
    "word2vec_scores, word2vec_runtime = BERTScoreStaticSampleTest(billsum_test, w2v, lim, withIdf = False)\n",
    "bart_scores, bart_runtime = BARTScoreDynamicSampleTest(billsum_test, limit=lim)"
   ]
  },
  {
   "cell_type": "code",
   "execution_count": null,
   "metadata": {},
   "outputs": [],
   "source": [
    "billsum_results = {'BERTScore': [bert_scores ,bert_runtime], 'Custom': [word2vec_scores, word2vec_runtime], 'Bart': [bart_scores, bart_runtime]}\n",
    "results['billsum'] = billsum_results"
   ]
  },
  {
   "cell_type": "code",
   "execution_count": null,
   "metadata": {},
   "outputs": [],
   "source": [
    "bart_scores, bart_runtime = BARTScoreDynamicSampleTest(billsum_test, limit=lim)"
   ]
  },
  {
   "cell_type": "code",
   "execution_count": null,
   "metadata": {},
   "outputs": [],
   "source": [
    "bart_scores"
   ]
  },
  {
   "attachments": {},
   "cell_type": "markdown",
   "metadata": {},
   "source": [
    "### Multinews"
   ]
  },
  {
   "cell_type": "code",
   "execution_count": null,
   "metadata": {},
   "outputs": [],
   "source": [
    "bert_scores, bert_runtime = BERTScoreDynamicSampleTest(multinews, limit=lim)\n",
    "word2vec_scores, word2vec_runtime = BERTScoreStaticSampleTest(multinews, w2v, lim, withIdf = False)\n",
    "bart_scores, bart_runtime = BARTScoreDynamicSampleTest(multinews, limit=lim)"
   ]
  },
  {
   "cell_type": "code",
   "execution_count": null,
   "metadata": {},
   "outputs": [],
   "source": [
    "multinews_results = {'BERTScore': [bert_scores ,bert_runtime], 'Custom': [word2vec_scores, word2vec_runtime], 'Bart': [bart_scores, bart_runtime]}\n",
    "results['multinews'] = multinews_results"
   ]
  },
  {
   "attachments": {},
   "cell_type": "markdown",
   "metadata": {},
   "source": [
    "### Gigaword"
   ]
  },
  {
   "cell_type": "code",
   "execution_count": null,
   "metadata": {},
   "outputs": [],
   "source": [
    "bert_scores, bert_runtime = BERTScoreDynamicSampleTest(gigaword, limit=lim)\n",
    "word2vec_scores, word2vec_runtime = BERTScoreStaticSampleTest(gigaword, w2v, lim, withIdf = False)\n",
    "bart_scores, bart_runtime = BARTScoreDynamicSampleTest(gigaword, limit=lim)"
   ]
  },
  {
   "cell_type": "code",
   "execution_count": null,
   "metadata": {},
   "outputs": [],
   "source": [
    "gigaword_results = {'BERTScore': [bert_scores ,bert_runtime], 'Custom': [word2vec_scores, word2vec_runtime], 'Bart': [bart_scores, bart_runtime]}\n",
    "results['gigaword'] = gigaword_results"
   ]
  },
  {
   "attachments": {},
   "cell_type": "markdown",
   "metadata": {},
   "source": [
    "### PubMed"
   ]
  },
  {
   "cell_type": "code",
   "execution_count": null,
   "metadata": {},
   "outputs": [],
   "source": [
    "bert_scores, bert_runtime = BERTScoreDynamicSampleTest(pubmed, limit=lim)\n",
    "word2vec_scores, word2vec_runtime = BERTScoreStaticSampleTest(pubmed, w2v, lim, withIdf = False)\n",
    "bart_scores, bart_runtime = BARTScoreDynamicSampleTest(pubmed, limit=lim)"
   ]
  },
  {
   "cell_type": "code",
   "execution_count": null,
   "metadata": {},
   "outputs": [],
   "source": [
    "pubmed_results = {'BERTScore': [bert_scores ,bert_runtime], 'Custom': [word2vec_scores, word2vec_runtime], 'Bart': [bart_scores, bart_runtime]}\n",
    "results['pubmed'] = pubmed_results"
   ]
  },
  {
   "attachments": {},
   "cell_type": "markdown",
   "metadata": {},
   "source": [
    "## Evalutation"
   ]
  },
  {
   "attachments": {},
   "cell_type": "markdown",
   "metadata": {},
   "source": [
    "### Runtime Table"
   ]
  },
  {
   "cell_type": "code",
   "execution_count": null,
   "metadata": {},
   "outputs": [],
   "source": [
    "billsum_runtimes = [results[\"billsum\"][\"BERTScore\"][1], results[\"billsum\"][\"Custom\"][1], results[\"billsum\"][\"Bart\"][1]]\n",
    "multinews_runtimes = [results[\"multinews\"][\"BERTScore\"][1], results[\"multinews\"][\"Custom\"][1], results[\"multinews\"][\"Bart\"][1]]\n",
    "gigaword_runtimes = [results[\"gigaword\"][\"BERTScore\"][1], results[\"gigaword\"][\"Custom\"][1], results[\"gigaword\"][\"Bart\"][1]]\n",
    "pubmed_runtimes = [results[\"scipa\"][\"BERTScore\"][1], results[\"scipa\"][\"Custom\"][1], results[\"scipa\"][\"Bart\"][1]]\n",
    "\n",
    "runtimeDf = pd.DataFrame({\"Billsum\": billsum_runtimes, \n",
    "                          \"Multinews\": multinews_runtimes,\n",
    "                          \"Gigaword\": gigaword_runtimes,\n",
    "                          \"PubMed\": pubmed}, \n",
    "                         index=[\"Roberta-24-layers\", \"Word2Vec\", \"BART-large-CNN\"])\n",
    "runtimeDf"
   ]
  },
  {
   "attachments": {},
   "cell_type": "markdown",
   "metadata": {},
   "source": [
    "### Quality evaluation"
   ]
  },
  {
   "attachments": {},
   "cell_type": "markdown",
   "metadata": {},
   "source": [
    "#### Billsum"
   ]
  },
  {
   "cell_type": "code",
   "execution_count": null,
   "metadata": {},
   "outputs": [],
   "source": [
    "billsumQualityDf = pd.concat((pd.DataFrame(results[\"billsum\"][\"Custom\"][0], columns=[\"W2V_P\", \"W2V_R\", \"W2V_F\"]),\n",
    "                              pd.DataFrame(results[\"billsum\"][\"BERTScore\"][0], columns=[\"Bert_P\", \"Bert_R\", \"Bert_F\"]),\n",
    "                              pd.DataFrame(results[\"billsum\"][\"Bart\"][0], columns=[\"Bart\"])),\n",
    "                              axis=1)\n",
    "billsumQualityDf.head(5)"
   ]
  },
  {
   "attachments": {},
   "cell_type": "markdown",
   "metadata": {},
   "source": [
    "#### Multinews"
   ]
  },
  {
   "cell_type": "code",
   "execution_count": null,
   "metadata": {},
   "outputs": [],
   "source": [
    "multinewsQualityDf = pd.concat((pd.DataFrame(results[\"multinews\"][\"Custom\"][0], columns=[\"W2V_P\", \"W2V_R\", \"W2V_F\"]),\n",
    "                              pd.DataFrame(results[\"multinews\"][\"BERTScore\"][0], columns=[\"Bert_P\", \"Bert_R\", \"Bert_F\"]),\n",
    "                              pd.DataFrame(results[\"multinews\"][\"Bart\"][0], columns=[\"Bart\"])),\n",
    "                              axis=1)\n",
    "multinewsQualityDf.head(5)"
   ]
  },
  {
   "attachments": {},
   "cell_type": "markdown",
   "metadata": {},
   "source": [
    "#### Gigaword"
   ]
  },
  {
   "cell_type": "code",
   "execution_count": null,
   "metadata": {},
   "outputs": [],
   "source": [
    "gigawordQualityDf = pd.concat((pd.DataFrame(results[\"gigaword\"][\"Custom\"][0], columns=[\"W2V_P\", \"W2V_R\", \"W2V_F\"]),\n",
    "                              pd.DataFrame(results[\"gigaword\"][\"BERTScore\"][0], columns=[\"Bert_P\", \"Bert_R\", \"Bert_F\"]),\n",
    "                              pd.DataFrame(results[\"gigaword\"][\"Bart\"][0], columns=[\"Bart\"])),\n",
    "                              axis=1)\n",
    "gigawordQualityDf.head(5)"
   ]
  },
  {
   "attachments": {},
   "cell_type": "markdown",
   "metadata": {},
   "source": [
    "#### Scientific Papers"
   ]
  },
  {
   "cell_type": "code",
   "execution_count": null,
   "metadata": {},
   "outputs": [],
   "source": [
    "pubmedQualityDf = pd.concat((pd.DataFrame(results[\"pubmed\"][\"Custom\"][0], columns=[\"W2V_P\", \"W2V_R\", \"W2V_F\"]),\n",
    "                              pd.DataFrame(results[\"pubmed\"][\"BERTScore\"][0], columns=[\"Bert_P\", \"Bert_R\", \"Bert_F\"]),\n",
    "                              pd.DataFrame(results[\"pubmed\"][\"Bart\"][0], columns=[\"Bart\"])),\n",
    "                              axis=1)\n",
    "pubmedQualityDf.head(5)"
   ]
  },
  {
   "attachments": {},
   "cell_type": "markdown",
   "metadata": {},
   "source": [
    "#### Summary"
   ]
  },
  {
   "cell_type": "code",
   "execution_count": null,
   "metadata": {},
   "outputs": [],
   "source": [
    "meanGigawordQualityDf = gigawordQualityDf.mean(axis=0)\n",
    "meanMultinewsQualityDf = multinewsQualityDf.mean(axis=0)\n",
    "meanBillsumQualityDf = billsumQualityDf.mean(axis=0)\n",
    "meanPubmedQualityDf = pubmedQualityDf.mean(axis=0)\n",
    "\n",
    "summaryDf = pd.DataFrame({\"Gigaword\":meanGigawordQualityDf,\n",
    "                          \"Billsum\": meanBillsumQualityDf,\n",
    "                          \"Multinews\": meanMultinewsQualityDf,\n",
    "                          \"PubMed\": meanPubmedQualityDf})\n",
    "summaryDf"
   ]
  },
  {
   "attachments": {},
   "cell_type": "markdown",
   "metadata": {},
   "source": [
    "## Shuffled Data"
   ]
  },
  {
   "attachments": {},
   "cell_type": "markdown",
   "metadata": {},
   "source": [
    "### Shuffling datasets"
   ]
  },
  {
   "cell_type": "code",
   "execution_count": null,
   "metadata": {},
   "outputs": [],
   "source": [
    "shuffledGigaword = gigaword.copy()\n",
    "shuffledGigaword[\"summary\"] = shuffledGigaword[\"summary\"].sample(frac=1).values\n",
    "\n",
    "shuffledMultinews = multinews.copy()\n",
    "shuffledMultinews[\"summary\"] = shuffledMultinews[\"summary\"].sample(frac=1).values\n",
    "\n",
    "shuffledBillsum = billsum_test.copy()\n",
    "shuffledBillsum[\"summary\"] = shuffledBillsum[\"summary\"].sample(frac=1).values"
   ]
  },
  {
   "cell_type": "code",
   "execution_count": null,
   "metadata": {},
   "outputs": [],
   "source": [
    "shuffledMultinews.head(3)"
   ]
  },
  {
   "cell_type": "code",
   "execution_count": null,
   "metadata": {},
   "outputs": [],
   "source": [
    "shuffledBillsum.head(3)"
   ]
  },
  {
   "cell_type": "code",
   "execution_count": null,
   "metadata": {},
   "outputs": [],
   "source": [
    "shuffledGigaword.head(3)"
   ]
  },
  {
   "attachments": {},
   "cell_type": "markdown",
   "metadata": {},
   "source": [
    "### Evaluating the forged datasets"
   ]
  },
  {
   "cell_type": "code",
   "execution_count": null,
   "metadata": {},
   "outputs": [],
   "source": [
    "results = {}\n",
    "lim = 20\n",
    "\n",
    "w2v = serialized_to_model(r'C:\\Pro\\Stages\\A4 - DVRC\\Work\\Models\\serialized_w2v.pkl')\n",
    "bert_scores, bert_runtime = BERTScoreDynamicSampleTest(shuffledBillsum, limit=lim)\n",
    "word2vec_scores, word2vec_runtime = BERTScoreStaticSampleTest(shuffledBillsum, w2v, lim, withIdf = False)\n",
    "bart_scores, bart_runtime = BARTScoreDynamicSampleTest(shuffledBillsum, limit=lim)\n",
    "billsum_results = {'BERTScore': [bert_scores ,bert_runtime], 'Custom': [word2vec_scores, word2vec_runtime], 'Bart': [bart_scores, bart_runtime]}\n",
    "results['billsum'] = billsum_results\n",
    "\n",
    "bert_scores, bert_runtime = BERTScoreDynamicSampleTest(shuffledMultinews, limit=lim)\n",
    "word2vec_scores, word2vec_runtime = BERTScoreStaticSampleTest(shuffledMultinews, w2v, lim, withIdf = False)\n",
    "bart_scores, bart_runtime = BARTScoreDynamicSampleTest(shuffledMultinews, limit=lim)\n",
    "multinews_results = {'BERTScore': [bert_scores ,bert_runtime], 'Custom': [word2vec_scores, word2vec_runtime], 'Bart': [bart_scores, bart_runtime]}\n",
    "results['multinews'] = multinews_results\n",
    "\n",
    "bert_scores, bert_runtime = BERTScoreDynamicSampleTest(shuffledGigaword, limit=lim)\n",
    "word2vec_scores, word2vec_runtime = BERTScoreStaticSampleTest(shuffledGigaword, w2v, lim, withIdf = False)\n",
    "bart_scores, bart_runtime = BARTScoreDynamicSampleTest(shuffledGigaword, limit=lim)\n",
    "gigaword_results = {'BERTScore': [bert_scores ,bert_runtime], 'Custom': [word2vec_scores, word2vec_runtime], 'Bart': [bart_scores, bart_runtime]}\n",
    "results['gigaword'] = gigaword_results"
   ]
  },
  {
   "cell_type": "code",
   "execution_count": null,
   "metadata": {},
   "outputs": [],
   "source": [
    "billsumQualityDf = pd.concat((pd.DataFrame(results[\"billsum\"][\"Custom\"][0], columns=[\"W2V_P\", \"W2V_R\", \"W2V_F\"]),\n",
    "                              pd.DataFrame(results[\"billsum\"][\"BERTScore\"][0], columns=[\"Bert_P\", \"Bert_R\", \"Bert_F\"]),\n",
    "                              pd.DataFrame(results[\"billsum\"][\"Bart\"][0], columns=[\"Bart\"])),\n",
    "                              axis=1)\n",
    "multinewsQualityDf = pd.concat((pd.DataFrame(results[\"multinews\"][\"Custom\"][0], columns=[\"W2V_P\", \"W2V_R\", \"W2V_F\"]),\n",
    "                              pd.DataFrame(results[\"multinews\"][\"BERTScore\"][0], columns=[\"Bert_P\", \"Bert_R\", \"Bert_F\"]),\n",
    "                              pd.DataFrame(results[\"multinews\"][\"Bart\"][0], columns=[\"Bart\"])),\n",
    "                              axis=1)\n",
    "gigawordQualityDf = pd.concat((pd.DataFrame(results[\"gigaword\"][\"Custom\"][0], columns=[\"W2V_P\", \"W2V_R\", \"W2V_F\"]),\n",
    "                              pd.DataFrame(results[\"gigaword\"][\"BERTScore\"][0], columns=[\"Bert_P\", \"Bert_R\", \"Bert_F\"]),\n",
    "                              pd.DataFrame(results[\"gigaword\"][\"Bart\"][0], columns=[\"Bart\"])),\n",
    "                              axis=1)\n",
    "meanGigawordQualityDf = gigawordQualityDf.mean(axis=0)\n",
    "meanMultinewsQualityDf = multinewsQualityDf.mean(axis=0)\n",
    "meanBillsumQualityDf = billsumQualityDf.mean(axis=0)\n",
    "\n",
    "summaryDf = pd.DataFrame({\"Gigaword\":meanGigawordQualityDf,\n",
    "                          \"Billsum\": meanBillsumQualityDf,\n",
    "                          \"Multinews\": meanMultinewsQualityDf})\n",
    "summaryDf"
   ]
  }
 ],
 "metadata": {
  "kernelspec": {
   "display_name": ".venv",
   "language": "python",
   "name": "python3"
  },
  "language_info": {
   "codemirror_mode": {
    "name": "ipython",
    "version": 3
   },
   "file_extension": ".py",
   "mimetype": "text/x-python",
   "name": "python",
   "nbconvert_exporter": "python",
   "pygments_lexer": "ipython3",
   "version": "3.11.3"
  },
  "orig_nbformat": 4
 },
 "nbformat": 4,
 "nbformat_minor": 2
}

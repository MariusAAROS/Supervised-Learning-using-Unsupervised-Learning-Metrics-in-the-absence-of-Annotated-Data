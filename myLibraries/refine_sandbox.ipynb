{
 "cells": [
  {
   "attachments": {},
   "cell_type": "markdown",
   "metadata": {},
   "source": [
    "### Libraries"
   ]
  },
  {
   "cell_type": "code",
   "execution_count": 1,
   "metadata": {},
   "outputs": [
    {
     "name": "stderr",
     "output_type": "stream",
     "text": [
      "c:\\Pro\\Stages\\A4 - DVRC\\Work\\Supervised-Learning-using-Unsupervised-Learning-Metrics-in-the-absence-of-Annotated-Data\\.venv\\Lib\\site-packages\\tqdm\\auto.py:21: TqdmWarning: IProgress not found. Please update jupyter and ipywidgets. See https://ipywidgets.readthedocs.io/en/stable/user_install.html\n",
      "  from .autonotebook import tqdm as notebook_tqdm\n"
     ]
    }
   ],
   "source": [
    "import pandas as pd\n",
    "from custom_score.score import score\n",
    "from custom_score.utils import serialized_to_model\n",
    "\n",
    "from custom_score.refine import Refiner\n",
    "import tensorflow_datasets as tfds"
   ]
  },
  {
   "attachments": {},
   "cell_type": "markdown",
   "metadata": {},
   "source": [
    "### Basic Test"
   ]
  },
  {
   "cell_type": "code",
   "execution_count": null,
   "metadata": {},
   "outputs": [],
   "source": [
    "w2v = serialized_to_model(r\"C:\\Pro\\Stages\\A4 - DVRC\\Work\\Models\\serialized_w2v.pkl\")"
   ]
  },
  {
   "cell_type": "code",
   "execution_count": null,
   "metadata": {},
   "outputs": [],
   "source": [
    "billsum0 = \"SECTION 1. SHORT TITLE.\\n\\n    This Act may be cited as the ``National Science Education Tax \\nIncentive for Businesses Act of 2007''.\\n\\nSEC. 2. CREDITS FOR CERTAIN CONTRIBUTIONS BENEFITING SCIENCE, \\n              TECHNOLOGY, ENGINEERING, AND MATHEMATICS EDUCATION AT THE \\n              ELEMENTARY AND SECONDARY SCHOOL LEVEL.\\n\\n    (a) In General.--Subpart D of part IV of subchapter A of chapter 1 \\nof the Internal Revenue Code of 1986 (relating to business related \\ncredits) is amended by adding at the end the following new section:\\n\\n``SEC. 45O. CONTRIBUTIONS BENEFITING SCIENCE, TECHNOLOGY, ENGINEERING, \\n              AND MATHEMATICS EDUCATION AT THE ELEMENTARY AND SECONDARY \\n              SCHOOL LEVEL.\\n\\n    ``(a) In General.--For purposes of section 38, the elementary and \\nsecondary science, technology, engineering, and mathematics (STEM) \\ncontributions credit determined under this section for the taxable year \\nis an amount equal to 100 percent of the qualified STEM contributions \\nof the taxpayer for such taxable year.\\n    ``(b) Qualified STEM Contributions.--For purposes of this section, \\nthe term `qualified STEM contributions' means--\\n            ``(1) STEM school contributions,\\n            ``(2) STEM teacher externship expenses, and\\n            ``(3) STEM teacher training expenses.\\n    ``(c) STEM School Contributions.--For purposes of this section--\\n            ``(1) In general.--The term `STEM school contributions' \\n        means--\\n                    ``(A) STEM property contributions, and\\n                    ``(B) STEM service contributions.\\n            ``(2) STEM property contributions.--The term `STEM property \\n        contributions' means the amount which would (but for subsection \\n        (f)) be allowed as a deduction under section 170 for a \\n        charitable contribution of STEM inventory property if--\\n                    ``(A) the donee is an elementary or secondary \\n                school described in section 170(b)(1)(A)(ii),\\n                    ``(B) substantially all of the use of the property \\n                by the donee is within the United States or within the \\n                defense dependents' education system for educational \\n                purposes in any of the grades K-12 that are related to \\n                the purpose or function of the donee,\\n                    ``(C) the original use of the property begins with \\n                the donee,\\n                    ``(D) the property will fit productively into the \\n                donee's education plan,\\n                    ``(E) the property is not transferred by the donee \\n                in exchange for money, other property, or services, \\n                except for shipping, installation and transfer costs, \\n                and\\n                    ``(F) the donee's use and disposition of the \\n                property will be in accordance with the provisions of \\n                subparagraphs (B) and (E).\\n        The determination of the amount of deduction under section 170 \\n        for purposes of this paragraph shall be made as if the \\n        limitation under section 170(e)(3)(B) applied to all STEM \\n        inventory property.\\n            ``(3) STEM service contributions.--The term `STEM service \\n        contributions' means the amount paid or incurred during the \\n        taxable year for STEM services provided in the United States or \\n        in the defense dependents' education system for the exclusive \\n        benefit of students at an elementary or secondary school \\n        described in section 170(b)(1)(A)(ii) but only if--\\n                    ``(A) the taxpayer is engaged in the trade or \\n                business of providing such services on a commercial \\n                basis, and\\n                    ``(B) no charge is imposed for providing such \\n                services.\\n            ``(4) STEM inventory property.--The term `STEM inventory \\n        property' means, with respect to any contribution to a school, \\n        any property--\\n                    ``(A) which is described in paragraph (1) or (2) of \\n                section 1221(a) with respect to the donor, and\\n                    ``(B) which is determined by the school to be \\n                needed by the school in providing education in grades \\n                K-12 in the areas of science, technology, engineering, \\n                or mathematics.\\n            ``(5) STEM services.--The term `STEM services' means, with \\n        respect to any contribution to a school, any service determined \\n        by the school to be needed by the school in providing education \\n        in grades K-12 in the areas of science, technology, \\n        engineering, or mathematics, including teaching courses of \\n        instruction at such school in any such area.\\n            ``(6) Defense dependents' education system.--For purposes \\n        of this subsection, the term `defense dependents' education \\n        system' means the program established and operated under the \\n        Defense Dependents' Education Act of 1978 (20 U.S.C. 921 et \\n        seq.).\\n    ``(d) STEM Teacher Externship Expenses.--For purposes of this \\nsection--\\n            ``(1) In general.--The term `STEM teacher externship \\n        expenses' means any amount paid or incurred to carry out a STEM \\n        externship program of the taxpayer but only to the extent that \\n        such amount is attributable to the participation in such \\n        program of any eligible STEM teacher, including amounts paid to \\n        such a teacher as a stipend while participating in such \\n        program.\\n            ``(2) STEM externship program.--The term `STEM externship \\n        program' means any program--\\n                    ``(A) established by a taxpayer engaged in a trade \\n                or business within an area of science, technology, \\n                engineering, or mathematics, and\\n                    ``(B) under which eligible STEM teachers receive \\n                training to enhance their teaching skills in the areas \\n                of science, technology, engineering, or mathematics or \\n                otherwise improve their knowledge in such areas.\\n            ``(3) Eligible stem teacher.--The term `eligible STEM \\n        teacher' means any individual--\\n                    ``(A) who is a teacher in grades K-12 at an \\n                educational organization described in section \\n                170(b)(1)(A)(ii) which is located in the United States \\n                or which is located on a United States military base \\n                outside the United States, and\\n                    ``(B) whose teaching responsibilities at such \\n                school include, or are likely to include, any course in \\n                the areas of science, technology, engineering, or \\n                mathematics.\\n    ``(e) STEM Teacher Training Expenses.--The term `STEM teacher \\ntraining expenses' means any amount paid or incurred by a taxpayer \\nengaged in a trade or business within an area of science, technology, \\nengineering, or mathematics which is attributable to the participation \\nof any eligible STEM teacher in a regular training program provided to \\nemployees of the taxpayer which is determined by such teacher's school \\nas enhancing such teacher's teaching skills in the areas of science, \\ntechnology, engineering, or mathematics.\\n    ``(f) Denial of Double Benefit.--No deduction shall be allowed \\nunder this chapter for any amount allowed as a credit under this \\nsection.''.\\n    (b) Conforming Amendments.--\\n            (1) Section 38(b) of such Code is amended by striking \\n        ``plus'' at the end of paragraph (30), by striking the period \\n        at the end of paragraph (31), and inserting ``, plus'', and by \\n        adding at the end the following new paragraph:\\n            ``(32) the elementary and secondary science, technology, \\n        engineering, and mathematics (STEM) contributions credit \\n        determined under section 45O.''.\\n            (2) The table of sections for subpart D of part IV of \\n        subchapter A of chapter 1 of such Code is amended by adding at \\n        the end the following new item:\\n\\n``Sec. 45O. Contributions benefiting science, technology, engineering, \\n                            and mathematics education at the elementary \\n                            and secondary school level.''.\\n    (c) Effective Date.--The amendments made by this section shall \\napply to taxable years beginning after the date of the enactment of \\nthis Act.\""
   ]
  },
  {
   "cell_type": "code",
   "execution_count": null,
   "metadata": {},
   "outputs": [],
   "source": [
    "s = Refiner([billsum0, billsum0], w2v, reductionFactor=4, maxSpacing=15)"
   ]
  },
  {
   "cell_type": "code",
   "execution_count": null,
   "metadata": {},
   "outputs": [],
   "source": [
    "s.refine()"
   ]
  },
  {
   "cell_type": "code",
   "execution_count": null,
   "metadata": {},
   "outputs": [],
   "source": [
    "print(s)"
   ]
  },
  {
   "cell_type": "code",
   "execution_count": null,
   "metadata": {},
   "outputs": [],
   "source": [
    "print(\"len simplified: \", len(s.refined[0]), \" || \", \"len initial: \", len(s.corpus[0]))"
   ]
  },
  {
   "cell_type": "code",
   "execution_count": null,
   "metadata": {},
   "outputs": [],
   "source": [
    "res = s.assess()"
   ]
  },
  {
   "cell_type": "code",
   "execution_count": null,
   "metadata": {},
   "outputs": [],
   "source": [
    "res[\"scores\"]"
   ]
  },
  {
   "cell_type": "code",
   "execution_count": null,
   "metadata": {},
   "outputs": [],
   "source": [
    "res[\"correlations\"]"
   ]
  },
  {
   "attachments": {},
   "cell_type": "markdown",
   "metadata": {},
   "source": [
    "### Assess function"
   ]
  },
  {
   "cell_type": "code",
   "execution_count": null,
   "metadata": {},
   "outputs": [],
   "source": [
    "from rouge_score import rouge_scorer"
   ]
  },
  {
   "cell_type": "code",
   "execution_count": null,
   "metadata": {},
   "outputs": [],
   "source": [
    "from scipy.stats import pearsonr"
   ]
  },
  {
   "cell_type": "code",
   "execution_count": null,
   "metadata": {},
   "outputs": [],
   "source": [
    "def assess(simp, verbose=True):\n",
    "    \"\"\"\n",
    "    Assesses quality of the simplified corpus by computing Static BERTscore and Rouge-Score on the simplified version compared to it's initial version.\n",
    "\n",
    "    :param1 self (Simplifier): Simplifier Object (see __init__ function for more details).\n",
    "    :param2 verbose (Boolean): When put to true, assess results will be printed.\n",
    "\n",
    "    :output (dict): Dictionnary containing both the scores of Static BERTScore and Rouge as well as their correlation\n",
    "    \"\"\"\n",
    "    assert simp.simplified != None, \"simplified corpus doesn't exists\"\n",
    "\n",
    "    #Static BERTScore computation\n",
    "    customScore = score(simp.model, simp.simplified, simp.corpus)\n",
    "\n",
    "    #Rouge-Score computation\n",
    "    rougeScorer = rouge_scorer.RougeScorer(['rouge1', 'rougeL'], use_stemmer=True)\n",
    "    rougeScore = [rougeScorer.score(s, c) for s, c in zip(simp.simplified, simp.corpus)]\n",
    "\n",
    "    #Data formating\n",
    "    custom_R = [round(t[0], 2) for t in customScore]\n",
    "    rouge1_R = [round(t['rouge1'][0], 2) for t in rougeScore]\n",
    "    rougeL_R = [round(t['rougeL'][0], 2) for t in rougeScore]\n",
    "\n",
    "    dfCustom = pd.DataFrame({'CBERT' : custom_R,\n",
    "                             'R-1' : rouge1_R,\n",
    "                             'R-L' : rougeL_R\n",
    "                             })\n",
    "\n",
    "    #Correlation estimation\n",
    "    pearsonCor_c_r1 = pearsonr(custom_R, rouge1_R)\n",
    "    pearsonCor_c_rl = pearsonr(custom_R, rougeL_R)\n",
    "\n",
    "    dfCor = pd.DataFrame({'pearson_CBERT_R-1' : pearsonCor_c_r1,\n",
    "                          'pearson_CBERT_R-L' : pearsonCor_c_rl}, index=[\"Pearson score\", \"p-value\"])\n",
    "\n",
    "    return {\"scores\": dfCustom, \"correlations\": dfCor}"
   ]
  },
  {
   "cell_type": "code",
   "execution_count": null,
   "metadata": {},
   "outputs": [],
   "source": [
    "res = assess(s)"
   ]
  },
  {
   "cell_type": "code",
   "execution_count": null,
   "metadata": {},
   "outputs": [],
   "source": [
    "res[\"scores\"]"
   ]
  },
  {
   "cell_type": "code",
   "execution_count": null,
   "metadata": {},
   "outputs": [],
   "source": [
    "res[\"correlations\"]"
   ]
  },
  {
   "attachments": {},
   "cell_type": "markdown",
   "metadata": {},
   "source": [
    "### STR function"
   ]
  },
  {
   "cell_type": "code",
   "execution_count": null,
   "metadata": {},
   "outputs": [],
   "source": [
    "w2v = serialized_to_model(r\"C:\\Pro\\Stages\\A4 - DVRC\\Work\\Models\\serialized_w2v.pkl\")"
   ]
  },
  {
   "cell_type": "code",
   "execution_count": null,
   "metadata": {},
   "outputs": [],
   "source": [
    "billsum0 = \"SECTION 1. SHORT TITLE.\\n\\n    This Act may be cited as the ``National Science Education Tax \\nIncentive for Businesses Act of 2007''.\\n\\nSEC. 2. CREDITS FO\" \\\n",
    "            \"R CERTAIN CONTRIBUTIONS BENEFITING SCIENCE, \\n              TECHNOLOGY, ENGINEERING, AND MATHEMATICS EDUCATION AT THE \\n              ELEMENTARY AND SECONDARY \"\\\n",
    "            \"SCHOOL LEVEL.\\n\\n    (a) In General.--Subpart D of part IV of subchapter A of chapter 1 \\nof the Internal Revenue Code of 1986 (relating to business related \\nc\"\\\n",
    "            \"redits) is amended by adding at the end the following new section:\\n\\n``SEC. 45O. CONTRIBUTIONS BENEFITING SCIENCE, TECHNOLOGY, ENGINEERING, \\n              AND MA\"\\\n",
    "            \"THEMATICS EDUCATION AT THE ELEMENTARY AND SECONDARY \\n              SCHOOL LEVEL.\\n\\n    ``(a) In General.--For purposes of section 38, the elementary and \\nsecond\"\\\n",
    "            \"ary science, technology, engineering, and mathematics (STEM) \\ncontributions credit determined under this section for the taxable year \\nis an amount equal to 100 \"\\\n",
    "            \"percent of the qualified STEM contributions \\nof the taxpayer for such taxable year.\\n    ``(b) Qualified STEM Contributions.--For purposes of this section, \\nthe te\"\\\n",
    "            \"rm `qualified STEM contributions' means--\\n            ``(1) STEM school contributions,\\n            ``(2) STEM teacher externship expenses, and\\n            ``(3) ST\"\\\n",
    "            \"EM teacher training expenses.\\n    ``(c) STEM School Contributions.--For purposes of this section--\\n            ``(1) In general.--The term `STEM school contributions' \"\\\n",
    "            \"\\n        means--\\n                    ``(A) STEM property contributions, and\\n                    ``(B) STEM service contributions.\\n            ``(2) STEM property\"\\\n",
    "            \" contributions.--The term `STEM property \\n        contributions' means the amount which would (but for subsection \\n        (f)) be allowed as a deduction under secti\"\\\n",
    "            \"on 170 for a \\n        charitable contribution of STEM inventory property if--\\n                    ``(A) the donee is an elementary or secondary \\n                \"\\\n",
    "            \"school described in section 170(b)(1)(A)(ii),\\n                    ``(B) substantially all of the use of the property \\n                by the donee is within the\"\\\n",
    "            \" United States or within the \\n                defense dependents' education system for educational \\n                purposes in any of the grades K-12 that \"\\\n",
    "            \"are related to \\n                the purpose or function of the donee,\\n                    ``(C) the original use of the property begins with \\n         \"\\\n",
    "            \"       the donee,\\n                    ``(D) the property will fit productively into the \\n                donee's education plan,\\n                   \"\\\n",
    "            \" ``(E) the property is not transferred by the donee \\n                in exchange for money, other property, or services, \\n                except \"\\\n",
    "            \"for shipping, installation and transfer costs, \\n                and\\n                    ``(F) the donee's use and disposition of the \\n        \"\\\n",
    "            \"        property will be in accordance with the provisions of \\n                subparagraphs (B) and (E).\\n        The determination of the amount of deduct\"\\\n",
    "                \"ion under section 170 \\n        for purposes of this paragraph shall be made as if the \\n        limitation under section 170(e)(3)(B) applied to all STEM \"\\\n",
    "                    \"\\n        inventory property.\\n            ``(3) STEM service contributions.--The term `STEM service \\n        contributions' means the amount paid or inc\"\\\n",
    "                        \"urred during the \\n        taxable year for STEM services provided in the United States or \\n        in the defense dependents' education system for the\"\\\n",
    "                            \" exclusive \\n        benefit of students at an elementary or secondary school \\n        described in section 170(b)(1)(A)(ii) but only if--\\n         \"\\\n",
    "                                \"           ``(A) the taxpayer is engaged in the trade or \\n                business of providing such services on a commercial \\n                bas\"\\\n",
    "                                    \"is, and\\n                    ``(B) no charge is imposed for providing such \\n                services.\\n            ``(4) STEM inventory property.--Th\"\\\n",
    "                                        \"e term `STEM inventory \\n        property' means, with respect to any contribution to a school, \\n        any property--\\n                    ``(A) w\"\\\n",
    "                                            \"hich is described in paragraph (1) or (2) of \\n                section 1221(a) with respect to the donor, and\\n                    ``(B) which is determined by the school to be \\n                needed by the school in providing education in grades \\n                K-12 in the areas of science, technology, engineering, \\n                or mathematics.\\n            ``(5) STEM services.--The term `STEM services' means, with \\n        respect to any contribution to a school, any service determined \\n        by the school to be needed by the school in providing education \\n        in grades K-12 in the areas of science, technology, \\n        engineering, or mathematics, including teaching courses of \\n        instruction at such school in any such area.\\n            ``(6) Defense dependents' education system.--For purposes \\n        of this subsection, the term `defense dependents' education \\n        system' means the program established and operated under the \\n        Defense Dependents' Education Act of 1978 (20 U.S.C. 921 et \\n        seq.).\\n    ``(d) STEM Teacher Externship Expenses.--For purposes of this \\nsection--\\n            ``(1) In general.--The term `STEM teacher externship \\n        expenses' means any amount paid or incurred to carry out a STEM \\n        externship program of the taxpayer but only to the extent that \\n        such amount is attributable to the participation in such \\n        program of any eligible STEM teacher, including amounts paid to \\n        such a teacher as a stipend while participating in such \\n        program.\\n            ``(2) STEM externship program.--The term `STEM externship \\n        program' means any program--\\n                    ``(A) established by a taxpayer engaged in a trade \\n                or business within an area of science, technology, \\n                engineering, or mathematics, and\\n                    ``(B) under which eligible STEM teachers receive \\n                training to enhance their teaching skills in the areas \\n                of science, technology, engineering, or mathematics or \\n                otherwise improve their knowledge in such areas.\\n            ``(3) Eligible stem teacher.--The term `eligible STEM \\n        teacher' means any individual--\\n                    ``(A) who is a teacher in grades K-12 at an \\n                educational organization described in section \\n                170(b)(1)(A)(ii) which is located in the United States \\n                or which is located on a United States military base \\n                outside the United States, and\\n                    ``(B) whose teaching responsibilities at such \\n                school include, or are likely to include, any course in \\n                the areas of science, technology, engineering, or \\n                mathematics.\\n    ``(e) STEM Teacher Training Expenses.--The term `STEM teacher \\ntraining expenses' means any amount paid or incurred by a taxpayer \\nengaged in a trade or business within an area of science, technology, \\nengineering, or mathematics which is attributable to the participation \\nof any eligible STEM teacher in a regular training program provided to \\nemployees of the taxpayer which is determined by such teacher's school \\nas enhancing such teacher's teaching skills in the areas of science, \\ntechnology, engineering, or mathematics.\\n    ``(f) Denial of Double Benefit.--No deduction shall be allowed \\nunder this chapter for any amount allowed as a credit under this \\nsection.''.\\n    (b) Conforming Amendments.--\\n            (1) Section 38(b) of such Code is amended by striking \\n        ``plus'' at the end of paragraph (30), by striking the period \\n        at the end of paragraph (31), and inserting ``, plus'', and by \\n        adding at the end the following new paragraph:\\n            ``(32) the elementary and secondary science, technology, \\n        engineering, and mathematics (STEM) contributions credit \\n        determined under section 45O.''.\\n            (2) The table of sections for subpart D of part IV of \\n        subchapter A of chapter 1 of such Code is amended by adding at \\n        the end the following new item:\\n\\n``Sec. 45O. Contributions benefiting science, technology, engineering, \\n                            and mathematics education at the elementary \\n                            and secondary school level.''.\\n    (c) Effective Date.--The amendments made by this section shall \\napply to taxable years beginning after the date of the enactment of \\nthis Act.\"\n",
    "s = Refiner([billsum0], w2v, reductionFactor=4, maxSpacing=15)\n",
    "s.simplify()"
   ]
  },
  {
   "cell_type": "code",
   "execution_count": null,
   "metadata": {},
   "outputs": [],
   "source": [
    "print(s)"
   ]
  },
  {
   "cell_type": "code",
   "execution_count": null,
   "metadata": {},
   "outputs": [],
   "source": [
    "from colorama import Fore, Style"
   ]
  },
  {
   "cell_type": "code",
   "execution_count": null,
   "metadata": {},
   "outputs": [],
   "source": [
    "def formatHighlight():\n",
    "    print(f\"{Fore.BLUE}Je suis ton pere{Style.RESET_ALL}\")"
   ]
  },
  {
   "attachments": {},
   "cell_type": "markdown",
   "metadata": {},
   "source": [
    "### Semantic and syntaxique distance"
   ]
  },
  {
   "cell_type": "code",
   "execution_count": null,
   "metadata": {},
   "outputs": [],
   "source": [
    "from custom_score.utils import cleanString, parseScore\n",
    "from custom_score.score import score\n",
    "import numpy as np\n",
    "from random import uniform\n",
    "from custom_score.utils import serialized_to_model\n",
    "import tensorflow_datasets as tfds\n",
    "from numpy.linalg import norm\n",
    "from rouge_score import rouge_scorer\n",
    "from scipy.stats import pearsonr"
   ]
  },
  {
   "cell_type": "code",
   "execution_count": null,
   "metadata": {},
   "outputs": [],
   "source": [
    "def parseDistances(distances):\n",
    "    \"\"\"\n",
    "    Converts score to a value interpretable as distance (the greatest the value, the greatest the distance).\n",
    "\n",
    "    :param1 distances (List): List of distances values for each sentences of a corpus with respect to all the others sentences.\n",
    "\n",
    "    :output parsedDisctances (List): List of converted distances. \n",
    "    \"\"\"\n",
    "    refDist = distances[0][0]\n",
    "    toPositive = False \n",
    "    toInverse = False\n",
    "\n",
    "    if refDist < 0:\n",
    "        toPositive = True\n",
    "    if refDist >=-1 and refDist <=1:\n",
    "        toInverse = True\n",
    "    \n",
    "    parsedDistances = []\n",
    "    for distance in distances:\n",
    "        parsedDistance = []\n",
    "        for value in distance:\n",
    "            cur = value\n",
    "            if toPositive:\n",
    "                cur = -cur\n",
    "            if toInverse:\n",
    "                try:\n",
    "                    cur = 1/cur\n",
    "                except ZeroDivisionError:\n",
    "                    cur = 1\n",
    "            parsedDistance.append(cur)\n",
    "        parsedDistances.append(parsedDistance)\n",
    "    return parsedDistances"
   ]
  },
  {
   "cell_type": "code",
   "execution_count": null,
   "metadata": {},
   "outputs": [],
   "source": [
    "def sentenceSelection(corpus, scores, distances, reductionFactor=2):\n",
    "    \"\"\"\n",
    "    Returns a list of selected indices of sentence that will constituate the new corpus.\n",
    "\n",
    "    :param1 corpus (list): List of sentences of the reference document.\n",
    "    :param2 scores (list): List of the similarity scores of each sentence of the reference compared to the entire reference document.\n",
    "    :param3 reductionFactor (float or int): Number determining how much the reference text will be shortened. \n",
    "\n",
    "    :output selected_indexes (list): List of indexes of the initial corpus sentences that have been selected.\n",
    "    \"\"\"\n",
    "    totalLength = len(\" \".join(corpus))\n",
    "    targetLength = int(totalLength/reductionFactor)\n",
    "    selected_indexes = []\n",
    "    \n",
    "    randomized_scores = [np.mean([curScore, uniform(0, 1)]) for curScore in scores]\n",
    "    ranking = np.argsort(randomized_scores)[::-1]\n",
    "\n",
    "    selectedLength = 0\n",
    "    selected_indexes = []\n",
    "    current_distance = lambda x: norm([distances[ranking[x]][i] for i in selected_indexes])\n",
    "    cur = 0\n",
    "    while(selectedLength < targetLength):\n",
    "        if cur == 0:\n",
    "            selected_indexes.append(ranking[cur])\n",
    "            selectedLength += len(corpus[ranking[cur]])\n",
    "        else:\n",
    "            updated_scores = [randomized_scores[i]*current_distance(i) for i in range(len(randomized_scores))]\n",
    "            updated_ranking = np.argsort(updated_scores)[::-1]\n",
    "            updated_ranking = [index for index in updated_ranking if index not in selected_indexes]\n",
    "            selected_indexes.append(updated_ranking[0])\n",
    "            selectedLength += len(corpus[updated_ranking[0]])\n",
    "        cur += 1\n",
    "\n",
    "    return selected_indexes"
   ]
  },
  {
   "cell_type": "code",
   "execution_count": null,
   "metadata": {},
   "outputs": [],
   "source": [
    "class Refiner:\n",
    "\n",
    "    def __init__(self, corpus, model, scorer=score, reductionFactor=2, maxSpacing=10):\n",
    "        \"\"\"\n",
    "        Constructor of the Refiner class. Aims at reducing the size and noise of a given independant list of documents.\n",
    "        \n",
    "        :param1 self (Refiner): Object to initialize.\n",
    "        :param2 corpus (List): List of documents to simplify.\n",
    "        :param3 model (Any): Model used to compute scores and create sentence's ranking.\n",
    "        :param4 reductionFactor (float or int): Number determining how much the reference text will be shortened. \n",
    "        :param5 maxSpacing (int): Maximal number of adjacent space to be found and suppressed in the corpus.\n",
    "        \"\"\"\n",
    "        self.corpus = corpus\n",
    "        self.model = model\n",
    "        self.scorer = scorer\n",
    "        self.rf = reductionFactor\n",
    "        self.ms = maxSpacing\n",
    "        self.refined = None\n",
    "\n",
    "    def refine(self):\n",
    "        \"\"\"\n",
    "        Return a reduced string computed using static embedding vectors similarity. Also denoises the data by removing superfluous elements such as \"\\n\" or useless signs.\n",
    "\n",
    "        :param1 self (Refiner): Refiner Object (see __init__ function for more details).\n",
    "\n",
    "        :output refined (string): refined version of the initial document.\n",
    "        \"\"\"\n",
    "        self.refined = []\n",
    "        for indiv in self.corpus:\n",
    "            #preprocess corpus\n",
    "            clean = cleanString(indiv, self.ms)\n",
    "            sentences = clean.split(\".\")\n",
    "            sentences.pop()\n",
    "            temp = []\n",
    "            for sentence in sentences: \n",
    "                if sentence != None and sentence != \"\":\n",
    "                    temp.append(sentence)\n",
    "            sentences = temp\n",
    "            respaced_sentences = []\n",
    "            for sentence in sentences:\n",
    "                if sentence[0] == \" \":\n",
    "                    sentence = sentence[1:]\n",
    "                respaced_sentences.append(sentence)\n",
    "            corpus = \" \".join(respaced_sentences)\n",
    "\n",
    "            #compute ranking\n",
    "            scores = []\n",
    "            for sentence in respaced_sentences:\n",
    "                scoreOut = self.scorer(self.model, [sentence], [indiv])\n",
    "                R = parseScore(scoreOut)\n",
    "                scores.append(R)\n",
    "            \n",
    "            #compute distances\n",
    "            distances = []\n",
    "            for x in range(len(respaced_sentences)):\n",
    "                distance = []\n",
    "                for y in range(len(respaced_sentences)):\n",
    "                    if x != y:\n",
    "                        try:\n",
    "                            scoreOut = self.scorer(self.model, [respaced_sentences[x]], [respaced_sentences[y]])\n",
    "                            curDistance = parseScore(scoreOut)\n",
    "                        except:\n",
    "                            curDistance = -1\n",
    "                    else:\n",
    "                        curDistance = 1\n",
    "                    distance.append(curDistance)\n",
    "                distances.append(distance)\n",
    "            distances = parseDistances(distances)\n",
    "\n",
    "            #selection of best individuals\n",
    "            indices = sentenceSelection(respaced_sentences, scores, distances, self.rf)\n",
    "            \n",
    "            curRefined = []\n",
    "            for index in indices:\n",
    "                curRefined.append(respaced_sentences[index])\n",
    "            \n",
    "            curRefined = \" \".join(curRefined)\n",
    "            self.refined.append(curRefined)\n",
    "\n",
    "    def assess(self, verbose=True):\n",
    "        \"\"\"\n",
    "        Assesses quality of the refined corpus by computing Static BERTscore and Rouge-Score on the refined version compared to it's initial version.\n",
    "\n",
    "        :param1 self (Refiner): Refiner Object (see __init__ function for more details).\n",
    "        :param2 verbose (Boolean): When put to true, assess results will be printed.\n",
    "\n",
    "        :output (dict): Dictionnary containing both the scores of Static BERTScore and Rouge as well as their correlation\n",
    "        \"\"\"\n",
    "        assert self.refined != None, \"refined corpus doesn't exists\"\n",
    "\n",
    "        #Static BERTScore computation\n",
    "        scoreOut = self.scorer(self.model, self.refined, self.corpus)\n",
    "        customScore = [parseScore(curScore) for curScore in scoreOut]\n",
    "\n",
    "        #Rouge-Score computation\n",
    "        rougeScorer = rouge_scorer.RougeScorer(['rouge1', 'rougeL'], use_stemmer=True)\n",
    "        rougeScore = [rougeScorer.score(s, c) for s, c in zip(self.refined, self.corpus)]\n",
    "\n",
    "        #Data formating\n",
    "        custom_R = [round(t, 2) for t in customScore]\n",
    "        rouge1_R = [round(t['rouge1'][0], 2) for t in rougeScore]\n",
    "        rougeL_R = [round(t['rougeL'][0], 2) for t in rougeScore]\n",
    "\n",
    "        dfCustom = pd.DataFrame({'CBERT' : custom_R,\n",
    "                                'R-1' : rouge1_R,\n",
    "                                'R-L' : rougeL_R\n",
    "                                })\n",
    "\n",
    "        #Correlation estimation\n",
    "        pearsonCor_c_r1 = np.round(pearsonr(custom_R, rouge1_R), 2)\n",
    "        pearsonCor_c_rl = np.round(pearsonr(custom_R, rougeL_R), 2)\n",
    "\n",
    "        dfCor = pd.DataFrame({'pearson_CBERT_R-1' : pearsonCor_c_r1,\n",
    "                            'pearson_CBERT_R-L' : pearsonCor_c_rl}, index=[\"Pearson score\", \"p-value\"])\n",
    "\n",
    "        return {\"scores\": dfCustom, \"correlations\": dfCor}\n",
    "    \n",
    "    def __str__(self) -> str:\n",
    "        printout = \"--------REFINER OBJECT--------\\n\"\n",
    "        printout += \"Number of Documents : \" + str(len(self.corpus)) + \"\\n\"\n",
    "        printout += \"Corpus Avg Size     : \" + str(int(np.average([len(x) for x in self.corpus]))+1) + \"\\n\"\n",
    "        printout += \"Refined Avg Size    : \" + str(int(np.average([len(x) for x in self.refined]))+1) + \"\\n\"\n",
    "        printout += \"Reduction Factor    : \" + str(self.rf) + \"\\n\"\n",
    "        printout += \"Maximum Spacing     : \" + str(self.ms) + \"\\n\"\n",
    "        printout += \"------------------------------\"\n",
    "        return printout"
   ]
  },
  {
   "cell_type": "code",
   "execution_count": null,
   "metadata": {},
   "outputs": [],
   "source": [
    "w2v = serialized_to_model(r\"C:\\Pro\\Stages\\A4 - DVRC\\Work\\Models\\serialized_w2v.pkl\")\n",
    "billsum0 = \"SECTION 1. SHORT TITLE.\\n\\n    This Act may be cited as the ``National Science Education Tax \\nIncentive for Businesses Act of 2007''.\\n\\nSEC. 2. CREDITS FOR CERTAIN CONTRIBUTIONS BENEFITING SCIENCE, \\n              TECHNOLOGY, ENGINEERING, AND MATHEMATICS EDUCATION AT THE \\n              ELEMENTARY AND SECONDARY SCHOOL LEVEL.\\n\\n    (a) In General.--Subpart D of part IV of subchapter A of chapter 1 \\nof the Internal Revenue Code of 1986 (relating to business related \\ncredits) is amended by adding at the end the following new section:\\n\\n``SEC. 45O. CONTRIBUTIONS BENEFITING SCIENCE, TECHNOLOGY, ENGINEERING, \\n              AND MATHEMATICS EDUCATION AT THE ELEMENTARY AND SECONDARY \\n              SCHOOL LEVEL.\\n\\n    ``(a) In General.--For purposes of section 38, the elementary and \\nsecondary science, technology, engineering, and mathematics (STEM) \\ncontributions credit determined under this section for the taxable year \\nis an amount equal to 100 percent of the qualified STEM contributions \\nof the taxpayer for such taxable year.\\n    ``(b) Qualified STEM Contributions.--For purposes of this section, \\nthe term `qualified STEM contributions' means--\\n            ``(1) STEM school contributions,\\n            ``(2) STEM teacher externship expenses, and\\n            ``(3) STEM teacher training expenses.\\n    ``(c) STEM School Contributions.--For purposes of this section--\\n            ``(1) In general.--The term `STEM school contributions' \\n        means--\\n                    ``(A) STEM property contributions, and\\n                    ``(B) STEM service contributions.\\n            ``(2) STEM property contributions.--The term `STEM property \\n        contributions' means the amount which would (but for subsection \\n        (f)) be allowed as a deduction under section 170 for a \\n        charitable contribution of STEM inventory property if--\\n                    ``(A) the donee is an elementary or secondary \\n                school described in section 170(b)(1)(A)(ii),\\n                    ``(B) substantially all of the use of the property \\n                by the donee is within the United States or within the \\n                defense dependents' education system for educational \\n                purposes in any of the grades K-12 that are related to \\n                the purpose or function of the donee,\\n                    ``(C) the original use of the property begins with \\n                the donee,\\n                    ``(D) the property will fit productively into the \\n                donee's education plan,\\n                    ``(E) the property is not transferred by the donee \\n                in exchange for money, other property, or services, \\n                except for shipping, installation and transfer costs, \\n                and\\n                    ``(F) the donee's use and disposition of the \\n                property will be in accordance with the provisions of \\n                subparagraphs (B) and (E).\\n        The determination of the amount of deduction under section 170 \\n        for purposes of this paragraph shall be made as if the \\n        limitation under section 170(e)(3)(B) applied to all STEM \\n        inventory property.\\n            ``(3) STEM service contributions.--The term `STEM service \\n        contributions' means the amount paid or incurred during the \\n        taxable year for STEM services provided in the United States or \\n        in the defense dependents' education system for the exclusive \\n        benefit of students at an elementary or secondary school \\n        described in section 170(b)(1)(A)(ii) but only if--\\n                    ``(A) the taxpayer is engaged in the trade or \\n                business of providing such services on a commercial \\n                basis, and\\n                    ``(B) no charge is imposed for providing such \\n                services.\\n            ``(4) STEM inventory property.--The term `STEM inventory \\n        property' means, with respect to any contribution to a school, \\n        any property--\\n                    ``(A) which is described in paragraph (1) or (2) of \\n                section 1221(a) with respect to the donor, and\\n                    ``(B) which is determined by the school to be \\n                needed by the school in providing education in grades \\n                K-12 in the areas of science, technology, engineering, \\n                or mathematics.\\n            ``(5) STEM services.--The term `STEM services' means, with \\n        respect to any contribution to a school, any service determined \\n        by the school to be needed by the school in providing education \\n        in grades K-12 in the areas of science, technology, \\n        engineering, or mathematics, including teaching courses of \\n        instruction at such school in any such area.\\n            ``(6) Defense dependents' education system.--For purposes \\n        of this subsection, the term `defense dependents' education \\n        system' means the program established and operated under the \\n        Defense Dependents' Education Act of 1978 (20 U.S.C. 921 et \\n        seq.).\\n    ``(d) STEM Teacher Externship Expenses.--For purposes of this \\nsection--\\n            ``(1) In general.--The term `STEM teacher externship \\n        expenses' means any amount paid or incurred to carry out a STEM \\n        externship program of the taxpayer but only to the extent that \\n        such amount is attributable to the participation in such \\n        program of any eligible STEM teacher, including amounts paid to \\n        such a teacher as a stipend while participating in such \\n        program.\\n            ``(2) STEM externship program.--The term `STEM externship \\n        program' means any program--\\n                    ``(A) established by a taxpayer engaged in a trade \\n                or business within an area of science, technology, \\n                engineering, or mathematics, and\\n                    ``(B) under which eligible STEM teachers receive \\n                training to enhance their teaching skills in the areas \\n                of science, technology, engineering, or mathematics or \\n                otherwise improve their knowledge in such areas.\\n            ``(3) Eligible stem teacher.--The term `eligible STEM \\n        teacher' means any individual--\\n                    ``(A) who is a teacher in grades K-12 at an \\n                educational organization described in section \\n                170(b)(1)(A)(ii) which is located in the United States \\n                or which is located on a United States military base \\n                outside the United States, and\\n                    ``(B) whose teaching responsibilities at such \\n                school include, or are likely to include, any course in \\n                the areas of science, technology, engineering, or \\n                mathematics.\\n    ``(e) STEM Teacher Training Expenses.--The term `STEM teacher \\ntraining expenses' means any amount paid or incurred by a taxpayer \\nengaged in a trade or business within an area of science, technology, \\nengineering, or mathematics which is attributable to the participation \\nof any eligible STEM teacher in a regular training program provided to \\nemployees of the taxpayer which is determined by such teacher's school \\nas enhancing such teacher's teaching skills in the areas of science, \\ntechnology, engineering, or mathematics.\\n    ``(f) Denial of Double Benefit.--No deduction shall be allowed \\nunder this chapter for any amount allowed as a credit under this \\nsection.''.\\n    (b) Conforming Amendments.--\\n            (1) Section 38(b) of such Code is amended by striking \\n        ``plus'' at the end of paragraph (30), by striking the period \\n        at the end of paragraph (31), and inserting ``, plus'', and by \\n        adding at the end the following new paragraph:\\n            ``(32) the elementary and secondary science, technology, \\n        engineering, and mathematics (STEM) contributions credit \\n        determined under section 45O.''.\\n            (2) The table of sections for subpart D of part IV of \\n        subchapter A of chapter 1 of such Code is amended by adding at \\n        the end the following new item:\\n\\n``Sec. 45O. Contributions benefiting science, technology, engineering, \\n                            and mathematics education at the elementary \\n                            and secondary school level.''.\\n    (c) Effective Date.--The amendments made by this section shall \\napply to taxable years beginning after the date of the enactment of \\nthis Act.\""
   ]
  },
  {
   "cell_type": "code",
   "execution_count": null,
   "metadata": {},
   "outputs": [],
   "source": [
    "r = Refiner([billsum0], w2v, score, 4)\n",
    "r.refine()"
   ]
  },
  {
   "cell_type": "code",
   "execution_count": null,
   "metadata": {},
   "outputs": [],
   "source": [
    "r.refined"
   ]
  },
  {
   "cell_type": "code",
   "execution_count": null,
   "metadata": {},
   "outputs": [],
   "source": [
    "res =  r.assess()"
   ]
  },
  {
   "cell_type": "code",
   "execution_count": null,
   "metadata": {},
   "outputs": [],
   "source": [
    "res[\"scores\"]"
   ]
  },
  {
   "cell_type": "code",
   "execution_count": null,
   "metadata": {},
   "outputs": [],
   "source": [
    "res[\"correlations\"]"
   ]
  },
  {
   "cell_type": "code",
   "execution_count": null,
   "metadata": {},
   "outputs": [],
   "source": [
    "print(r)"
   ]
  },
  {
   "attachments": {},
   "cell_type": "markdown",
   "metadata": {},
   "source": [
    "### Test on Billsum"
   ]
  },
  {
   "cell_type": "code",
   "execution_count": 2,
   "metadata": {},
   "outputs": [
    {
     "data": {
      "text/html": [
       "<div>\n",
       "<style scoped>\n",
       "    .dataframe tbody tr th:only-of-type {\n",
       "        vertical-align: middle;\n",
       "    }\n",
       "\n",
       "    .dataframe tbody tr th {\n",
       "        vertical-align: top;\n",
       "    }\n",
       "\n",
       "    .dataframe thead th {\n",
       "        text-align: right;\n",
       "    }\n",
       "</style>\n",
       "<table border=\"1\" class=\"dataframe\">\n",
       "  <thead>\n",
       "    <tr style=\"text-align: right;\">\n",
       "      <th></th>\n",
       "      <th>text</th>\n",
       "      <th>summary</th>\n",
       "    </tr>\n",
       "  </thead>\n",
       "  <tbody>\n",
       "    <tr>\n",
       "      <th>0</th>\n",
       "      <td>SECTION 1. SHORT TITLE.\\n\\n    This Act may be...</td>\n",
       "      <td>National Science Education Tax Incentive for B...</td>\n",
       "    </tr>\n",
       "    <tr>\n",
       "      <th>1</th>\n",
       "      <td>SECTION 1. SHORT TITLE.\\n\\n    This Act may be...</td>\n",
       "      <td>Small Business Expansion and Hiring Act of 201...</td>\n",
       "    </tr>\n",
       "    <tr>\n",
       "      <th>2</th>\n",
       "      <td>SECTION 1. RELEASE OF DOCUMENTS CAPTURED IN IR...</td>\n",
       "      <td>Requires the Director of National Intelligence...</td>\n",
       "    </tr>\n",
       "  </tbody>\n",
       "</table>\n",
       "</div>"
      ],
      "text/plain": [
       "                                                text   \n",
       "0  SECTION 1. SHORT TITLE.\\n\\n    This Act may be...  \\\n",
       "1  SECTION 1. SHORT TITLE.\\n\\n    This Act may be...   \n",
       "2  SECTION 1. RELEASE OF DOCUMENTS CAPTURED IN IR...   \n",
       "\n",
       "                                             summary  \n",
       "0  National Science Education Tax Incentive for B...  \n",
       "1  Small Business Expansion and Hiring Act of 201...  \n",
       "2  Requires the Director of National Intelligence...  "
      ]
     },
     "execution_count": 2,
     "metadata": {},
     "output_type": "execute_result"
    }
   ],
   "source": [
    "billsum_path = r\"C:\\Pro\\Stages\\A4 - DVRC\\Work\\Datasets\\billsum\"\n",
    "billsum_test = pd.read_json(path_or_buf = billsum_path + r\"\\us_test_data_final_OFFICIAL.jsonl\", lines=True)\n",
    "billsum_test = billsum_test.loc[:, [\"text\", \"summary\"]]\n",
    "billsum_test.head(3)"
   ]
  },
  {
   "cell_type": "code",
   "execution_count": 9,
   "metadata": {},
   "outputs": [
    {
     "data": {
      "text/plain": [
       "(2, 2)"
      ]
     },
     "execution_count": 9,
     "metadata": {},
     "output_type": "execute_result"
    }
   ],
   "source": [
    "subset = billsum_test.iloc[3:5, :]\n",
    "subset.shape"
   ]
  },
  {
   "cell_type": "code",
   "execution_count": 4,
   "metadata": {},
   "outputs": [],
   "source": [
    "w2v = serialized_to_model(r'C:\\Pro\\Stages\\A4 - DVRC\\Work\\Models\\serialized_w2v.pkl')"
   ]
  },
  {
   "cell_type": "code",
   "execution_count": 10,
   "metadata": {},
   "outputs": [],
   "source": [
    "s = Refiner(subset[\"text\"], w2v, score, ratio=2, maxSpacing=15, printRange=range(0, 3))"
   ]
  },
  {
   "cell_type": "code",
   "execution_count": 11,
   "metadata": {},
   "outputs": [],
   "source": [
    "s.refine()"
   ]
  },
  {
   "cell_type": "code",
   "execution_count": 12,
   "metadata": {},
   "outputs": [
    {
     "name": "stdout",
     "output_type": "stream",
     "text": [
      "--------REFINER OBJECT--------\n",
      "\n",
      "Number of Documents : 2\n",
      "Corpus Avg Size     : 13064\n",
      "Refined Avg Size    : 5436\n",
      "Reduction Factor    : 2\n",
      "Maximum Spacing     : 15\n",
      "\n",
      "Corpus no.1 : \n",
      "\u001b[31mSECTION 1\u001b[0m.\n",
      "\u001b[31mSHORT TITLE\u001b[0m.\n",
      "\u001b[31mThis Act may be cited as the National Cancer Act of 2003\u001b[0m.\n",
      "\u001b[31mSEC\u001b[0m.\n",
      "\u001b[31m2\u001b[0m.\n",
      "\u001b[31mFINDINGS\u001b[0m.\n",
      "\u001b[31mCongress makes the following findings: (1) In 2003, an estimated 1,334,100 Americans will be diagnosed with some form of cancer\u001b[0m.\n",
      "\u001b[31m(2) In 2003, an estimated 556,500 Americans will die of cancer\u001b[0m.\n",
      "\u001b[31mIn the United States, 1 in every 4 deaths results from cancer\u001b[0m.\n",
      "\u001b[92m(3) In 2002, the National Institutes of Health estimated the overall cost of cancer at $171,600,000,000\u001b[0m.\n",
      "\u001b[92m(4) In 2003, an estimated 211,300 American women and 1,300 men will be diagnosed with breast cancer, and 40,200 will die of the disease\u001b[0m.\n",
      "\u001b[31mA mammogram every 12 years can reduce the risk of dying by about 16 percent for women 40 years of age and older\u001b[0m.\n",
      "\u001b[31m(5) In 2003, an estimated 40,100 women will be newly diagnosed with cancer of the uterine corpus and 6,800 women will die of the disease\u001b[0m.\n",
      "\u001b[31m(6) In 2003, an estimated 147,500 Americans will be diagnosed with colorectal cancer and 57,100 will die of the disease\u001b[0m.\n",
      "\u001b[31m(7) Incidence rates of colorectal cancer stabilized between 1995 and 1999\u001b[0m.\n",
      "\u001b[31mResearch suggests that declines may be in part due to increased screening and polyp removal\u001b[0m.\n",
      "\u001b[92m(8) The Chronic Disease Prevention Department found that screening for colorectal cancer can reduce the number of deaths by at least 30 percent\u001b[0m.\n",
      "\u001b[31m(9) Regular screening examinations by a health care professional can result in early detection of cancers of the breast, colon, rectum, prostate, testis, oral cavity, and skin\u001b[0m.\n",
      "\u001b[31mIf all these cancers were diagnosed at a localized stage through regular examinations, the 5year survival rate would increase from 82 percent to 95 percent\u001b[0m.\n",
      "\u001b[92m(10) Cancers of the lung, mouth, larynx, bladder, kidney, cervix, esophagus, and pancreas are related to tobacco use\u001b[0m.\n",
      "\u001b[31mThe American Cancer Society estimates that in 2003 more than 180,000 cancer deaths will be caused by tobacco use\u001b[0m.\n",
      "\u001b[31mSmoking alone causes \\1/3\\ of all cancer deaths\u001b[0m.\n",
      "\u001b[31m(11) More than 1,000,000 skin cancers expected to be diagnosed in 2003 could have been prevented by protection from the sun's rays\u001b[0m.\n",
      "\u001b[31m(12) An estimated 9,000 new cases of childhood cancer are expected to occur in 2003\u001b[0m.\n",
      "\u001b[31m(13) Cancer is the chief cause of death by disease in children between the ages of 1 and 14\u001b[0m.\n",
      "\u001b[31m(14) The American Cancer Society estimates that approximately \\1/3\\ of the 556,500 cancer deaths expected in 2003 will be related to nutrition, physical inactivity, obesity, and other lifestyle factors that could be prevented\u001b[0m.\n",
      "\u001b[31m(15) About 77 percent of all cancers are diagnosed at age 55 and older\u001b[0m.\n",
      "\u001b[31mIn order to ensure high quality cancer care for American seniors, medicare reimbursements must reflect the true cost of treatment in every treatment setting and medicare payments should accurately reflect the cost of drug and biologics as well as the cost of administering drugs and supportive care therapies\u001b[0m.\n",
      "\u001b[31m(16) Despite an aging population, death rates for the most common cancers, lung, colorectal, breast, and prostate continue to drop at an average of 1\u001b[0m.\n",
      "\u001b[31m7 percent per year\u001b[0m.\n",
      "\u001b[31m(17) In May 2001, Gleevec, the first in what is expected to be a number of cancer treatments, was approved for use by the Food and Drug Administration as it appeared to be effective in stopping the growth of deadly Chronic Myeloid Leukemia cells within 3 months of use\u001b[0m.\n",
      "\u001b[31mIn 2002, Gleevec showed ability to stop growth of gastrointestinal stromal tumors\u001b[0m.\n",
      "\u001b[31m(18) In early 2003, researchers used gene chips to accurately predict whether or not breast cancer tumors would spread in the future\u001b[0m.\n",
      "\u001b[92mIf the findings are validated, doctors will be able to determine which patients are likely to relapse and need chemotherapy, while sparing those with a favorable prognosis from additional treatment\u001b[0m.\n",
      "\u001b[92m(19) The Lance Armstrong Foundation, a leading national organization providing services and support for cancer survivors, defines cancer survivorship as living with, through, and beyond cancer\u001b[0m.\n",
      "\u001b[31m(20) In 2001, there were 9,600,000 cancer survivors in the United States\u001b[0m.\n",
      "\u001b[31m(21) Sixty percent of adults diagnosed with cancer survive at least 5 years\u001b[0m.\n",
      "\u001b[31m(22) While nearly every childhood cancer diagnosis 20 years ago was fatal, today more than 80 percent of children diagnosed with cancer survive at least 5 years\u001b[0m.\n",
      "\u001b[92mSEC\u001b[0m.\n",
      "\u001b[31m3\u001b[0m.\n",
      "\u001b[31mSENSE OF THE SENATE\u001b[0m.\n",
      "\u001b[92mIt is the sense of the Senate that the United States is at a point in history in which we must take the proper steps to reach the goal of making cancer survivorship the rule and cancer deaths rare by the year 2015\u001b[0m.\n",
      "\u001b[31mTITLE IPUBLIC HEALTH PROVISIONS SEC\u001b[0m.\n",
      "\u001b[92m101\u001b[0m.\n",
      "\u001b[92mNATIONAL PROGRAM OF CANCER REGISTRIES\u001b[0m.\n",
      "\u001b[92mPart M of title III of the Public Health Service Act (42 U\u001b[0m.\n",
      "\u001b[31mS\u001b[0m.\n",
      "\u001b[31mC\u001b[0m.\n",
      "\u001b[31m280e et seq\u001b[0m.\n",
      "\u001b[31m) is amended by inserting after section 399B the following: SEC\u001b[0m.\n",
      "\u001b[31m399B1\u001b[0m.\n",
      "\u001b[92mENHANCING CANCER REGISTRIES AND PREPARING FOR THE FUTURE\u001b[0m.\n",
      "\u001b[92m(a) Strategic Plan\u001b[0m.\n",
      "\u001b[92mNot later than 1 year after the date of enactment of the National Cancer Act of 2003 the Secretary shall develop a plan and submit a report to Congress that outlines strategies by which the State cancer registries funded with grants under section 399B and the Surveillance, Epidemiology, and End Results program of the National Cancer Institute (in this section referred to as the `SEER program') can share information to ensure more comprehensive cancer data\u001b[0m.\n",
      "\u001b[92mThe report shall include ways in which the Secretary will (1) standardize data between State cancer registries and the SEER program; (2) increase the portability and usability of data files from each registry for researchers and public health planners; (3) ensure data collection from the greatest number of health care facilities possible; (4) maximize the use of State registry data and data from the SEER program in State and regional public health planning processes; and (5) promote the use of data to (A) improve the health status of cancer survivors; and (B) research quality of cancer care and access to that care\u001b[0m.\n",
      "\u001b[31mSEC\u001b[0m.\n",
      "\u001b[92m102\u001b[0m.\n",
      "\u001b[92mENHANCING EXISTING SCREENING EFFORTS\u001b[0m.\n",
      "\u001b[31m(a) Grant and Contract Authority of States\u001b[0m.\n",
      "\u001b[31mSection 1501(b)(2) of the Public Health Service Act (42 U\u001b[0m.\n",
      "\u001b[31mS\u001b[0m.\n",
      "\u001b[92mC\u001b[0m.\n",
      "\u001b[92m300k(b)(2)) is amended to read as follows: (2) Certain applications\u001b[0m.\n",
      "\u001b[92m(A) Strategies for colorectal cancer screening\u001b[0m.\n",
      "\u001b[31mIf any entity submits an application to a State to receive an award of a grant or contract pursuant to paragraph (1) that includes strategies for colorectal cancer screening and outreach, the State may give priority to the application submitted by that entity in any case in which the State determines that the quality of such application is equivalent to the quality of the application submitted by the other entities\u001b[0m.\n",
      "\u001b[31m(B) Women diagnosed with cancer\u001b[0m.\n",
      "\u001b[31mIf any entity submits an application to a State to receive an award of a grant or contract pursuant to paragraph (1) that includes strategies for the provision of treatment for uninsured women diagnosed with cancer discovered in the course of the screening, the State may give priority to the application submitted by that entity in any case in which the State determines that the quality of such application is equivalent to the quality of the application submitted by the other entities\u001b[0m.\n",
      "\u001b[31m(b) Requirements With Respect to Type and Quality of Services\u001b[0m.\n",
      "\u001b[92mSection 1503 of the Public Health Service Act (42 U\u001b[0m.\n",
      "\u001b[92mS\u001b[0m.\n",
      "\u001b[31mC\u001b[0m.\n",
      "\u001b[31m300m) is amended by adding at the end the following: (d) Waiver of Direct Services Requirement\u001b[0m.\n",
      "\u001b[31mThe Secretary may waive the requirement under subsection (a)(1) if (1) the State involved will use the grant under this section for a demonstration project that will leverage private funds to supplement program efforts; or (2) such requirement would cause a barrier to the enrollment of qualifying women\u001b[0m.\n",
      "\u001b[31m(c) Authorization of Appropriations\u001b[0m.\n",
      "\u001b[92mSection 1510(a) of the Public Health Service Act (42 U\u001b[0m.\n",
      "\u001b[31mS\u001b[0m.\n",
      "\u001b[92mC\u001b[0m.\n",
      "\u001b[31m300n5(a)) is amended by striking $50,000,000 and all that follows and inserting such sums as may be necessary for each of fiscal years 2004 through 2008\u001b[0m.\n",
      "\u001b[31m(d) Report on the Comprehensive Colorectal Cancer Initiative\u001b[0m.\n",
      "\u001b[92mNot later than 6 months after the date of enactment of this Act, the Director of the Centers for Disease Control and Prevention shall submit to the appropriate committees of Congress a report containing an assessment of the success of the Comprehensive Colorectal Cancer Initiative (within the Centers for Disease Control and Prevention) in (1) increasing public awareness of colorectal cancer; (2) increasing awareness of screening guidelines among health care providers; (3) monitoring national colorectal cancer screening rates; (4) promoting increased patientprovider communication about colorectal cancer screening; (5) supporting quantitative and qualitative research efforts; and (6) providing funding to State programs to implement colorectal cancer priorities\u001b[0m.\n",
      "\u001b[92mSEC\u001b[0m.\n",
      "\u001b[31m103\u001b[0m.\n",
      "\u001b[31mENHANCED PATIENT EDUCATION\u001b[0m.\n",
      "\u001b[31mPart P of title III of the Public Health Service Act (42 U\u001b[0m.\n",
      "\u001b[31mS\u001b[0m.\n",
      "\u001b[92mC\u001b[0m.\n",
      "\u001b[92m280g et seq\u001b[0m.\n",
      "\u001b[92m) is amended by adding at the end the following: SEC\u001b[0m.\n",
      "\u001b[31m399O\u001b[0m.\n",
      "\u001b[31mENHANCED PATIENT EDUCATION\u001b[0m.\n",
      "\u001b[31m(a) Grants Authorized\u001b[0m.\n",
      "\u001b[31mThe Secretary is authorized to award grants to eligible entities to implement programs to educate patients and their families about (1) the availability and options of effective medical techniques and pain management technology therapies to reduce and prevent pain and suffering for those with cancer upon diagnosis; (2) the unique health challenges associated with cancer survivorship, including (A) the role of followup care and monitoring to support and improve the longterm quality of life for cancer survivors; (B) physical activity and healthy lifestyles; and (C) the availability of peer and mentor support programs; and (3) community resources available to increase access to quality cancer care\u001b[0m.\n",
      "\u001b[92m(b) Application\u001b[0m.\n",
      "\u001b[92mAn eligible entity desiring a grant under this section shall submit to the Secretary an application at such time, in such manner, and containing such information as the Secretary may require\u001b[0m.\n",
      "\u001b[31m(c) Authorization of Appropriations\u001b[0m.\n",
      "\u001b[92mThere are authorized to be appropriated to carry out this section such sums as may be necessary\u001b[0m.\n",
      "\u001b[31mSEC\u001b[0m.\n",
      "\u001b[31m104\u001b[0m.\n",
      "\u001b[31mPRACTITIONER EDUCATION PROGRAM\u001b[0m.\n",
      "\u001b[92mSection 414 of the Public Health Service Act (42 U\u001b[0m.\n",
      "\u001b[31mS\u001b[0m.\n",
      "\u001b[31mC\u001b[0m.\n",
      "\u001b[31m285a3) is amended by adding at the end the following: (d) In order to receive funding under this section, a center described under subsection (a) shall maintain a program for disseminating to patients and research participants, as well as their caregivers, the latest information about (1) pain and symptom management and palliative care; and (2) the unique clinical and research challenges associated with cancer survivorship\u001b[0m.\n",
      "\u001b[31m(e) The Secretary may provide additional amounts to fund centers under subsection (a) that develop innovative relationships with community cancer centers, community health centers, rural hospitals, and other communitybased health care providers who target medically underserved populations for the purpose of increasing access to quality cancer care\u001b[0m.\n",
      "\u001b[31mSEC\u001b[0m.\n",
      "\u001b[31m105\u001b[0m.\n",
      "\u001b[31mELEVATING THE IMPORTANCE OF PAIN MANAGEMENT AND CANCER SURVIVORSHIP THROUGHOUT THE NATION'S CANCER PROGRAMS\u001b[0m.\n",
      "\u001b[31m(a) National Cancer Program\u001b[0m.\n",
      "\u001b[31mSection 411 of the Public Health Service Act (42 U\u001b[0m.\n",
      "\u001b[31mS\u001b[0m.\n",
      "\u001b[31mC\u001b[0m.\n",
      "\u001b[92m285a) is amended to read as follows: Sec\u001b[0m.\n",
      "\u001b[31m411\u001b[0m.\n",
      "\u001b[92mThe National Cancer Program shall consist of (1) an expanded, intensified, and coordinated cancer research program encompassing the research programs conducted and supported by the Institute and the related research programs of the other national research institutes, including research programs for (A) pain and symptom management; (B) survivorship; and (C) the prevention of cancer caused by occupational or environmental exposure to carcinogens; and (2) the other programs and activities of the Institute, including research on populations with both uniquely diverse genetic variation and geographic isolation\u001b[0m.\n",
      "\u001b[31m(b) Cancer Control Programs\u001b[0m.\n",
      "\u001b[92mSection 412(2) of the Public Health Service Act (42 U\u001b[0m.\n",
      "\u001b[31mS\u001b[0m.\n",
      "\u001b[92mC\u001b[0m.\n",
      "\u001b[31m285a1(2)) is amended (1) in subparagraph (A), by striking , and and inserting a semicolon; and (2) by adding at the end the following: (C) appropriate methods of pain and symptom management for individuals with cancer, including end oflife care and cancer survivorship; and\u001b[0m.\n",
      "\u001b[31m(c) Special Authorities of the Director\u001b[0m.\n",
      "\u001b[31mSection 413(a)(2) of the Public Health Service Act (42 U\u001b[0m.\n",
      "\u001b[92mS\u001b[0m.\n",
      "\u001b[92mC\u001b[0m.\n",
      "\u001b[92m285a2(a)(2)) is amended (1) in subparagraph (D), by striking and at the end; (2) in subparagraph (E), by striking the period and inserting ; and; and (3) by adding at the end the following: (F) assess and improve pain and symptom management of cancer throughout the course of treatment and cancer survivorship\u001b[0m.\n",
      "\u001b[31m(d) Breast and Gynecological Cancers\u001b[0m.\n",
      "\u001b[31mSection 417 of the Public Health Service Act (42 U\u001b[0m.\n",
      "\u001b[31mS\u001b[0m.\n",
      "\u001b[31mC\u001b[0m.\n",
      "\u001b[92m285a6) is amended (1) in subsection (c)(1) (A) in subparagraph (D), by striking and at the end; (B) in subparagraph (E), by striking the period and inserting ; and; and (C) by inserting after subparagraph (E) the following: (F) basic, clinical, and applied research concerning pain and symptom management and cancer survivorship\u001b[0m.\n",
      "\u001b[92m; and (2) in subsection (d) (A) in paragraph (4), by striking and at the end; (B) in paragraph (5), by striking the period and inserting ; and; and (C) by adding at the end the following: (6) basic, clinical, and applied research concerning pain and symptom management and cancer survivorship\u001b[0m.\n",
      "\u001b[31m(e) Prostate Cancer\u001b[0m.\n",
      "\u001b[31mSection 417A(c)(1) of the Public Health Service Act (42 U\u001b[0m.\n",
      "\u001b[92mS\u001b[0m.\n",
      "\u001b[31mC\u001b[0m.\n",
      "\u001b[92m285a7(c)(1)) is amended (1) in subparagraph (F), by striking and at the end; (2) in subparagraph (G), by striking the period and inserting ; and; and (3) by inserting after subparagraph (G) the following: (H) basic and clinical research concerning pain and symptom management and cancer survivorship\u001b[0m.\n",
      "\u001b[31mSEC\u001b[0m.\n",
      "\u001b[31m106\u001b[0m.\n",
      "\u001b[92mSURVIVORSHIP RESEARCH PROGRAM\u001b[0m.\n",
      "\u001b[92mSubpart 1 of part C of title IV of the Public Health Service Act (42 U\u001b[0m.\n",
      "\u001b[92mS\u001b[0m.\n",
      "\u001b[31mC\u001b[0m.\n",
      "\u001b[31m285 et seq\u001b[0m.\n",
      "\u001b[92m) is amended by adding at the end the following: SEC\u001b[0m.\n",
      "\u001b[31m417D\u001b[0m.\n",
      "\u001b[92mSURVIVORSHIP RESEARCH PROGRAM\u001b[0m.\n",
      "\u001b[31m(a) Establishment\u001b[0m.\n",
      "\u001b[92mThere is established, within the Institute, an Office on Cancer Survivorship (in this section referred to as the `Office'), which may be headed by an Associate Director, to implement and direct the expansion and coordination of the activities of the Institute with respect to cancer survivorship research\u001b[0m.\n",
      "\u001b[92m(b) Collaboration Among Agencies\u001b[0m.\n",
      "\u001b[92mIn carrying out the activities described in subsection (a), the Office shall collaborate with other institutes, centers, and offices within the National Institutes of Health that are determined appropriate by the Office\u001b[0m.\n",
      "\u001b[92m(c) Report\u001b[0m.\n",
      "\u001b[92mNot later than 1 year after the date of enactment of this section, the Secretary shall prepare and submit to the appropriate committees of Congress a report providing a description of the survivorship activities of the Office and strategies for future activities\u001b[0m.\n",
      "\u001b[92mTITLE IIRESEARCH PROVISIONS SEC\u001b[0m.\n",
      "\u001b[31m201\u001b[0m.\n",
      "\u001b[31mNATIONAL CANCER INSTITUTE\u001b[0m.\n",
      "\u001b[31m(a) Other Transactions Authority\u001b[0m.\n",
      "\u001b[92mSubpart 1 of part C of title IV of the Public Health Service Act (42 U\u001b[0m.\n",
      "\u001b[92mS\u001b[0m.\n",
      "\u001b[31mC\u001b[0m.\n",
      "\u001b[31m285 et seq\u001b[0m.\n",
      "\u001b[92m), as amended by section 106, is further amended by adding at the end the following: SEC\u001b[0m.\n",
      "\u001b[92m417E\u001b[0m.\n",
      "\u001b[92mOTHER TRANSACTIONS AUTHORITY\u001b[0m.\n",
      "\u001b[92mNotwithstanding any other provision of this subpart, the Director of the National Cancer Institute may cofund grant projects with private entities for any purpose described in this subpart\u001b[0m.\n",
      "\u001b[92m(b) Sense of the Senate on a Central Institutional Review Board\u001b[0m.\n",
      "\u001b[92mIt is the sense of the Senate that (1) the current procedure of sending 1 clinical trial through multiple local institutional review boards may not be the most efficient method for the protection of patients enrolled in the trial and may delay the process of bringing lifesaving treatment to cancer patients; (2) the National Cancer Institute should be commended for its work in centralizing the institutional review board process; and (3) the research community should continue to streamline the institutional review board process in order to bring lifesaving treatments to patients as quickly as possible\u001b[0m.\n",
      "\u001b[92m(c) Patient and Provider Outreach Opportunities With Experimental Therapies\u001b[0m.\n",
      "\u001b[31mFor the purpose of enhancing patient access to experimental therapies, the National Cancer Institute shall conduct the following activities: (1) Integrate, to the maximum extent practicable, trials being conducted by private manufacturers into the National Cancer Institute's clinical trials online database\u001b[0m.\n",
      "\u001b[92mSuch integration may require specific awarenessraising and outreach activities by the National Cancer Institute to private industry\u001b[0m.\n",
      "\u001b[92m(2) Establish an education program which provides patients and providers with (A) information about how to access and use the National Cancer Institute clinical trials database online; and (B) information about the Food and Drug Administration process for approving the use of drugs and biologics for a single patient\u001b[0m.\n",
      "\n",
      "Corpus no.2 : \n",
      "\u001b[31mSECTION 1\u001b[0m.\n",
      "\u001b[31mSHORT TITLE\u001b[0m.\n",
      "\u001b[31mThis Act may be cited as the Military CallUp Relief Act\u001b[0m.\n",
      "\u001b[31mSEC\u001b[0m.\n",
      "\u001b[31m2\u001b[0m.\n",
      "\u001b[31mWAIVER OF EARLY WITHDRAWAL PENALTY FOR DISTRIBUTIONS FROM QUALIFIED RETIREMENT PLANS TO INDIVIDUALS CALLED TO ACTIVE DUTY DURING THE NATIONAL EMERGENCY DECLARED BY THE PRESIDENT ON SEPTEMBER 14, 2001\u001b[0m.\n",
      "\u001b[92m(a) Waiver For Certain Distributions\u001b[0m.\n",
      "\u001b[92m(1) In general\u001b[0m.\n",
      "\u001b[92mSection 72(t)(2) of the Internal Revenue Code of 1986 (relating to 10percent additional tax on early distributions from qualified retirement plans) is amended by adding at the end the following: (G) Distributions to individuals performing national emergency active duty\u001b[0m.\n",
      "\u001b[92mAny distribution to an individual who, at the time of the distribution, is a member of a reserve component called or ordered to active duty pursuant to a provision of law referred to in section 101(a)(13)(B) of title 10, United States Code, during the period of the national emergency declared by the President on September 14, 2001\u001b[0m.\n",
      "\u001b[31m(2) Waiver of underpayment penalty\u001b[0m.\n",
      "\u001b[31mSection 6654(e)(3) of such Code (relating to waiver in certain cases) is amended by adding at the end the following: (C) Certain early withdrawals from retirement plans\u001b[0m.\n",
      "\u001b[92mNo addition to tax shall be imposed under subsection (a) with respect to any underpayment to the extent such underpayment was created or increased by any distribution described in section 72(t)(2)(G)\u001b[0m.\n",
      "\u001b[31m(3) Effective date\u001b[0m.\n",
      "\u001b[92mThe amendments made by this subsection shall apply to distributions made to an individual after September 13, 2001\u001b[0m.\n",
      "\u001b[92m(b) Catchup Contributions Allowed\u001b[0m.\n",
      "\u001b[92m(1) Individual retirement accounts\u001b[0m.\n",
      "\u001b[92mSection 219(b)(5) of the Internal Revenue Code of 1986 (relating to deductible amount) is amended by adding at the end the following: (D) Catchup contributions for certain distributions\u001b[0m.\n",
      "\u001b[31mIn the case of an individual who has received a distribution described in section 72(t)(2)(G), the deductible amount for any taxable year shall be increased by an amount equal to (i) the aggregate amount of such distributions (not attributable to earnings) made with respect to such individual, over (ii) the aggregate amount of such distributions (not attributable to earnings) previously taken into account under this subparagraph or section 414(w)\u001b[0m.\n",
      "\u001b[31m(2) Roth iras\u001b[0m.\n",
      "\u001b[31mSection 408A(c) of such Code (relating to treatment of contributions) is amended by redesignating paragraph (7) as paragraph (8) and by inserting after paragraph (6) the following: (7) Catchup contributions for certain distributions\u001b[0m.\n",
      "\u001b[31mAny contribution described in section 219(b)(5)(D) shall not be taken into account for purposes of paragraph (2)\u001b[0m.\n",
      "\u001b[92m(3) Employer plans\u001b[0m.\n",
      "\u001b[92mSection 414 of such Code (relating to definitions and special rules) is amended by adding at the end the following: (w) Catchup contributions for certain distributions\u001b[0m.\n",
      "\u001b[31m(1) In general\u001b[0m.\n",
      "\u001b[31mAn applicable employer plan shall not be treated as failing to meet any requirement of this title solely because the plan permits an applicable participant to make additional elective deferrals in any plan year\u001b[0m.\n",
      "\u001b[92m(2) Limitation on amount of additional deferrals\u001b[0m.\n",
      "\u001b[31m(A) In general\u001b[0m.\n",
      "\u001b[92mA plan shall not permit additional elective deferrals under paragraph (1) for any year in an amount greater than the lesser of (i) the applicable dollar amount, or (ii) the excess (if any) of (I) the participant's compensation (as defined in section 415(c)(3)) for the year, over (II) any other elective deferrals of the participant for such year which are made without regard to this subsection\u001b[0m.\n",
      "\u001b[31m(B) Applicable dollar amount\u001b[0m.\n",
      "\u001b[31mFor purposes of this paragraph, the applicable dollar amount with respect to a participant shall be an amount equal to (i) the aggregate amount of distributions described in section 72(t)(2)(G) (not attributable to earnings) made with respect to such participant, over (ii) the aggregate amount of such distributions (not attributable to earnings) previously taken into account under this subsection or section 219(b)(5)(B)\u001b[0m.\n",
      "\u001b[31m(3) Treatment of contributions\u001b[0m.\n",
      "\u001b[92mRules similar to the rules of paragraphs (3) and (4) of subsection (v) shall apply with respect to contributions made under this subsection\u001b[0m.\n",
      "\u001b[31m(4) Definitions\u001b[0m.\n",
      "\u001b[31mFor purposes of this subsection, the terms `applicable employer plan' and `elective deferral' have the same meanings given such terms in subsection (v)(6)\u001b[0m.\n",
      "\u001b[31m(4) Conforming amendment\u001b[0m.\n",
      "\u001b[92mSection 414(v)(2)(A)(ii)(II) of such Code (relating to limitation on amount of additional deferrals) is amended by inserting (other than deferrals under subsection (w)) after deferrals\u001b[0m.\n",
      "\u001b[31m(5) Effective date\u001b[0m.\n",
      "\u001b[92mThe amendments made by this subsection shall apply to contributions in taxable years ending after December 31, 2001\u001b[0m.\n",
      "\n",
      "------------------------------\n"
     ]
    }
   ],
   "source": [
    "print(s)"
   ]
  },
  {
   "cell_type": "code",
   "execution_count": 13,
   "metadata": {},
   "outputs": [
    {
     "name": "stderr",
     "output_type": "stream",
     "text": [
      "Some weights of the model checkpoint at roberta-large were not used when initializing RobertaModel: ['lm_head.decoder.weight', 'lm_head.bias', 'lm_head.layer_norm.bias', 'lm_head.dense.weight', 'lm_head.dense.bias', 'lm_head.layer_norm.weight']\n",
      "- This IS expected if you are initializing RobertaModel from the checkpoint of a model trained on another task or with another architecture (e.g. initializing a BertForSequenceClassification model from a BertForPreTraining model).\n",
      "- This IS NOT expected if you are initializing RobertaModel from the checkpoint of a model that you expect to be exactly identical (initializing a BertForSequenceClassification model from a BertForSequenceClassification model).\n"
     ]
    },
    {
     "name": "stdout",
     "output_type": "stream",
     "text": [
      "Scores: \n",
      "   CBERT  BERTScore   R-1   R-L\n",
      "0   0.91       0.80  1.00  1.00\n",
      "1   0.87       0.77  0.99  0.99\n",
      "\n",
      "Correlations: \n",
      "               pearson_CBERT_R-1  pearson_CBERT_R-L  pearson_BERT_R-1  pearson_BERT_R-l\n",
      "Pearson score                1.0                1.0               1.0               1.0\n",
      "p-value                      1.0                1.0               1.0               1.0\n"
     ]
    }
   ],
   "source": [
    "res = s.assess()"
   ]
  },
  {
   "cell_type": "code",
   "execution_count": null,
   "metadata": {},
   "outputs": [],
   "source": [
    "import bert_score\n",
    "\n",
    "res = bert_score.score(subset[\"summary\"].to_list(), subset[\"text\"].to_list(), lang=\"en\")"
   ]
  },
  {
   "cell_type": "code",
   "execution_count": null,
   "metadata": {},
   "outputs": [],
   "source": [
    "res"
   ]
  },
  {
   "cell_type": "code",
   "execution_count": null,
   "metadata": {},
   "outputs": [],
   "source": [
    "subset[\"summary\"].to_list()"
   ]
  }
 ],
 "metadata": {
  "kernelspec": {
   "display_name": "Python 3",
   "language": "python",
   "name": "python3"
  },
  "language_info": {
   "codemirror_mode": {
    "name": "ipython",
    "version": 3
   },
   "file_extension": ".py",
   "mimetype": "text/x-python",
   "name": "python",
   "nbconvert_exporter": "python",
   "pygments_lexer": "ipython3",
   "version": "3.11.3"
  },
  "orig_nbformat": 4
 },
 "nbformat": 4,
 "nbformat_minor": 2
}

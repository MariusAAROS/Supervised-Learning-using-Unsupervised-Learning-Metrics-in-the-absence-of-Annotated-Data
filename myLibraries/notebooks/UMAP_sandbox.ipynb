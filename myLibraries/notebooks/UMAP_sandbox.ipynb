{
 "cells": [
  {
   "cell_type": "code",
   "execution_count": 1,
   "metadata": {},
   "outputs": [
    {
     "name": "stderr",
     "output_type": "stream",
     "text": [
      "c:\\Pro\\Stages\\A4 - DVRC\\Work\\Supervised-Learning-using-Unsupervised-Learning-Metrics-in-the-absence-of-Annotated-Data\\.venv\\Lib\\site-packages\\tqdm\\auto.py:21: TqdmWarning: IProgress not found. Please update jupyter and ipywidgets. See https://ipywidgets.readthedocs.io/en/stable/user_install.html\n",
      "  from .autonotebook import tqdm as notebook_tqdm\n",
      "c:\\Pro\\Stages\\A4 - DVRC\\Work\\Supervised-Learning-using-Unsupervised-Learning-Metrics-in-the-absence-of-Annotated-Data\\.venv\\Lib\\site-packages\\umap\\distances.py:1063: NumbaDeprecationWarning: \u001b[1mThe 'nopython' keyword argument was not supplied to the 'numba.jit' decorator. The implicit default value for this argument is currently False, but it will be changed to True in Numba 0.59.0. See https://numba.readthedocs.io/en/stable/reference/deprecation.html#deprecation-of-object-mode-fall-back-behaviour-when-using-jit for details.\u001b[0m\n",
      "  @numba.jit()\n",
      "c:\\Pro\\Stages\\A4 - DVRC\\Work\\Supervised-Learning-using-Unsupervised-Learning-Metrics-in-the-absence-of-Annotated-Data\\.venv\\Lib\\site-packages\\umap\\distances.py:1071: NumbaDeprecationWarning: \u001b[1mThe 'nopython' keyword argument was not supplied to the 'numba.jit' decorator. The implicit default value for this argument is currently False, but it will be changed to True in Numba 0.59.0. See https://numba.readthedocs.io/en/stable/reference/deprecation.html#deprecation-of-object-mode-fall-back-behaviour-when-using-jit for details.\u001b[0m\n",
      "  @numba.jit()\n",
      "c:\\Pro\\Stages\\A4 - DVRC\\Work\\Supervised-Learning-using-Unsupervised-Learning-Metrics-in-the-absence-of-Annotated-Data\\.venv\\Lib\\site-packages\\umap\\distances.py:1086: NumbaDeprecationWarning: \u001b[1mThe 'nopython' keyword argument was not supplied to the 'numba.jit' decorator. The implicit default value for this argument is currently False, but it will be changed to True in Numba 0.59.0. See https://numba.readthedocs.io/en/stable/reference/deprecation.html#deprecation-of-object-mode-fall-back-behaviour-when-using-jit for details.\u001b[0m\n",
      "  @numba.jit()\n",
      "c:\\Pro\\Stages\\A4 - DVRC\\Work\\Supervised-Learning-using-Unsupervised-Learning-Metrics-in-the-absence-of-Annotated-Data\\.venv\\Lib\\site-packages\\umap\\umap_.py:660: NumbaDeprecationWarning: \u001b[1mThe 'nopython' keyword argument was not supplied to the 'numba.jit' decorator. The implicit default value for this argument is currently False, but it will be changed to True in Numba 0.59.0. See https://numba.readthedocs.io/en/stable/reference/deprecation.html#deprecation-of-object-mode-fall-back-behaviour-when-using-jit for details.\u001b[0m\n",
      "  @numba.jit()\n",
      "Some weights of the model checkpoint at bert-base-uncased were not used when initializing BertModel: ['cls.predictions.transform.LayerNorm.bias', 'cls.predictions.transform.dense.bias', 'cls.seq_relationship.bias', 'cls.predictions.transform.dense.weight', 'cls.predictions.decoder.weight', 'cls.seq_relationship.weight', 'cls.predictions.transform.LayerNorm.weight', 'cls.predictions.bias']\n",
      "- This IS expected if you are initializing BertModel from the checkpoint of a model trained on another task or with another architecture (e.g. initializing a BertForSequenceClassification model from a BertForPreTraining model).\n",
      "- This IS NOT expected if you are initializing BertModel from the checkpoint of a model that you expect to be exactly identical (initializing a BertForSequenceClassification model from a BertForSequenceClassification model).\n"
     ]
    }
   ],
   "source": [
    "import sys\n",
    "sys.path.append(r\"C:\\Pro\\Stages\\A4 - DVRC\\Work\\Supervised-Learning-using-Unsupervised-Learning-Metrics-in-the-absence-of-Annotated-Data\\myLibraries\")\n",
    "from MARScore.utils import *"
   ]
  },
  {
   "cell_type": "code",
   "execution_count": 2,
   "metadata": {},
   "outputs": [],
   "source": [
    "from MARScore.utils import *\n",
    "import os\n",
    "\n",
    "import sys\n",
    "sys.path.append(get_git_root())\n",
    "sys.path.append(os.path.join(get_git_root(), \"myLibraries\"))\n",
    "\n",
    "from custom_score.score import score\n",
    "from custom_score.utils import model_load\n",
    "from rouge_score import rouge_scorer\n",
    "import bert_score\n",
    "import hdbscan\n",
    "import pandas as pd\n",
    "from scipy.stats import pearsonr\n",
    "from BARTScore.bart_score import BARTScorer\n",
    "from colorama import Fore, Style\n",
    "from sklearn.metrics.pairwise import pairwise_distances\n",
    "from sklearn.preprocessing import MinMaxScaler\n",
    "from datetime import datetime\n",
    "from matplotlib import pyplot as plt\n",
    "from matplotlib import colormaps\n",
    "import numpy as np\n",
    "\n",
    "def clusterizeCorpusProto(reductor, embs, clusterizer):\n",
    "    if clusterizer.__module__ == \"sklearn.cluster._spectral\" or clusterizer.__module__ == \"hdbscan.hdbscan_\" or clusterizer.__module__ == \"sklearn.cluster._birch\":\n",
    "        proj2D = reductor.fit_transform(embs)\n",
    "        clusterizer.fit(proj2D)\n",
    "        clabels = clusterizer.labels_.astype(int)\n",
    "    else:\n",
    "        print(\"\\nERROR: Clusterizer not supported yet.\\n\")\n",
    "    return proj2D, clabels\n",
    "\n",
    "def visualizeCorpusProto(reductor, embs, labels, embs_gold=None, labels_gold=None, labels_cluster=None, tf_values=None, dim=2):\n",
    "    \"\"\"\n",
    "    Create a visual representation of the vectorized corpus using Plotly express. \n",
    "\n",
    "    :param1 reductor (model): Dimension reduction algorithm (UMAP as default).\n",
    "    :param1 embs (list): List of dynamics embeddings for each word of the initial corpus.\n",
    "    :param2 labels (tensor): Text correponding to each encoded element.\n",
    "    :param3 embs_gold (list): List of dynamics embeddings for each word of the gold reference.\n",
    "    :param4 labels_gold (tensor): Text correponding to each encoded element.\n",
    "    :param5 labels_cluster (list): List of the token's clusters.\n",
    "    :param5 tf_values (dict): Dictionnary of Term-Frequency for each token of the text.\n",
    "    :param6 dim (int): Number of dimensions wanted for the visualization (only 1 and 2 are available because they are the most usefull).\n",
    "    \"\"\"\n",
    "    def colorize(label=None, glabels=[], clabel=None, cmap=[], mode=\"unclustered\"):\n",
    "        \"\"\"\n",
    "        Colorize vector's projections depending on the context. \n",
    "\n",
    "        :param1 label (string): Single Token.\n",
    "        :param2 glabel (list): List of gold tokens.\n",
    "        :param3 clabel (int): Cluster's index of the current token.\n",
    "        :param4 cmap (color_map): Matplotlib color map.\n",
    "        :param5 mode (string): Equals to <clustered>, <unclustered> to respectively colorize depending on gold's, cluster's belonging.\n",
    "\n",
    "        :output color (string): CSS text color.  \n",
    "        \"\"\"\n",
    "        comp_gold = True if label != None and glabels != [] else False\n",
    "        assert label != None or glabels != [] or clabel != None, \"ERROR: No labels detected\"\n",
    "        if mode == \"unclustered\":\n",
    "            if comp_gold:\n",
    "                color = \"green\" if label in glabels else 'red'\n",
    "            else:\n",
    "                color = \"red\"\n",
    "        elif mode == \"clustered\":\n",
    "            if clabel != None and cmap != []:\n",
    "                color = cmap[clabel]\n",
    "            else:\n",
    "                color = \"black\"\n",
    "        return color\n",
    "    def create_word_dictionary(words):\n",
    "        \"\"\"\n",
    "        Transforms list of words to dictionnary of words with value 1 (used to create TF default value).\n",
    "\n",
    "        :param1 words (list): List of words.\n",
    "\n",
    "        :output word_dict (dict): Dictionnary of words.\n",
    "        \"\"\"\n",
    "        word_dict = {}\n",
    "        for word in words:\n",
    "            if word not in word_dict:\n",
    "                word_dict[word] = 1\n",
    "        return word_dict\n",
    "    \n",
    "    if tf_values == None:\n",
    "        tf_values = create_word_dictionary(labels)\n",
    "\n",
    "    comp_gold = True if embs_gold != None and labels_gold != None else False\n",
    "    \n",
    "    formated_embs = np.array(embs)\n",
    "    formated_embs_gold = np.array(embs_gold)\n",
    "\n",
    "    token_indexes = [i for i in range(len(labels)) if labels[i] != \"[PAD]\" and labels[i] != \"[CLS]\" and labels[i] != \"[SEP]\" and len(labels[i])>2]\n",
    "\n",
    "    if labels_cluster.all() != None:\n",
    "        cmap = colormaps[\"viridis\"].colors\n",
    "\n",
    "    if dim == 1:\n",
    "        if len(embs[0]) != 1:\n",
    "            umap1D = UMAP(n_components=1, init='random', random_state=0)\n",
    "            proj1D = umap1D.fit_transform(formated_embs).T\n",
    "        else:\n",
    "            proj1D = np.transpose(embs)\n",
    "\n",
    "        data = {\"x\": proj1D[0],\n",
    "                \"labels\": labels,\n",
    "                \"clusters\": labels_cluster}\n",
    "        \n",
    "        for k in data.keys():\n",
    "            data[k] = [data[k][i] for i in range(len(data[k])) if i in token_indexes]\n",
    "\n",
    "        if comp_gold:\n",
    "            token_indexes_gold = [i for i in range(len(labels_gold)) if labels_gold[i] != \"[PAD]\" and labels_gold[i] != \"[CLS]\" and labels_gold[i] != \"[SEP]\" and len(labels_gold[i])>2]\n",
    "            if len(embs[0]) != 1:\n",
    "                formated_embs_gold = reductor.transform(formated_embs_gold)\n",
    "                proj1D_gold = umap1D.transform(formated_embs_gold).T\n",
    "            else:\n",
    "                proj1D_gold = reductor.transform(formated_embs_gold).T\n",
    "            data_gold = {\"x\": proj1D_gold[0],\n",
    "                        \"labels\": labels_gold}\n",
    "            for k in data_gold.keys():\n",
    "                data_gold[k] = [data_gold[k][i] for i in range(len(data_gold[k])) if i in token_indexes_gold]\n",
    "\n",
    "        traces = []\n",
    "        for i in range(len(data['x'])):\n",
    "            if data[\"clusters\"] != None:\n",
    "                color = colorize(clabel=data[\"clusters\"][i], cmap=cmap, mode=\"clustered\")\n",
    "            else:\n",
    "                color = colorize(label=data['labels'][i], glabels=data_gold['labels'], mode=\"unclustered\")\n",
    "            trace = go.Scatter(\n",
    "                x=[data['x'][i]],\n",
    "                mode='markers',\n",
    "                marker=dict(size=9, color=color),\n",
    "                line=dict(width=2, color=\"DarkSlateGrey\"),\n",
    "                text=[\"token: \"+str(data['labels'][i])+\" || \"+\"tf   : \"+str(tf_values[data['labels'][i]])],\n",
    "                name=data['labels'][i]\n",
    "            )\n",
    "            traces.append(trace)\n",
    "        if comp_gold:\n",
    "            for i in range(len(data_gold['x'])):\n",
    "                trace = go.Scatter(\n",
    "                    x=[data_gold['x'][i]],\n",
    "                    mode='markers',\n",
    "                    marker=dict(size=9, color='red'),\n",
    "                    marker_symbol=\"diamond\",\n",
    "                    line=dict(width=2, color=\"DarkSlateGrey\"),\n",
    "                    text=[\"token: \"+str(data_gold['labels'][i])],\n",
    "                    name=data_gold['labels'][i]\n",
    "                )\n",
    "                traces.append(trace)\n",
    "\n",
    "        layout = go.Layout(\n",
    "            title='1D Scatter Plot',\n",
    "            scene=dict(\n",
    "                xaxis=dict(title='X')\n",
    "            )\n",
    "        )\n",
    "        fig = go.Figure(data=traces, layout=layout)\n",
    "        fig.show()\n",
    "\n",
    "    elif dim == 2:\n",
    "        if len(embs[0]) != 2:\n",
    "            umap2D = UMAP(n_components=2, init='random', random_state=0)\n",
    "            proj2D = umap2D.fit_transform(formated_embs).T\n",
    "        else:\n",
    "            proj2D = np.transpose(embs)\n",
    "\n",
    "        data = {\"x\": proj2D[0],\n",
    "                \"y\": proj2D[1],\n",
    "                \"labels\": labels,\n",
    "                \"clusters\": labels_cluster}\n",
    "        \n",
    "        for k in data.keys():\n",
    "            data[k] = [data[k][i] for i in range(len(data[k])) if i in token_indexes]\n",
    "\n",
    "        if comp_gold:\n",
    "            token_indexes_gold = [i for i in range(len(labels_gold)) if labels_gold[i] != \"[PAD]\" and labels_gold[i] != \"[CLS]\" and labels_gold[i] != \"[SEP]\" and len(labels_gold[i])>2]\n",
    "            if len(embs[0]) != 2:\n",
    "                formated_embs_gold = reductor.transform(formated_embs_gold)\n",
    "                proj2D_gold = umap2D.transform(formated_embs_gold).T\n",
    "            else:\n",
    "                proj2D_gold = reductor.transform(formated_embs_gold).T\n",
    "            data_gold = {\"x\": proj2D_gold[0],\n",
    "                         \"y\": proj2D_gold[1],\n",
    "                         \"labels\": labels_gold}\n",
    "            for k in data_gold.keys():\n",
    "                data_gold[k] = [data_gold[k][i] for i in range(len(data_gold[k])) if i in token_indexes_gold]\n",
    "\n",
    "        traces = []\n",
    "        for i in range(len(data['x'])):\n",
    "            if data[\"clusters\"] != None:\n",
    "                color = colorize(clabel=data[\"clusters\"][i], cmap=cmap, mode=\"clustered\")\n",
    "            else:\n",
    "                color = colorize(labels=data['labels'][i], glabels=data_gold['labels'], mode=\"unclustered\")\n",
    "            trace = go.Scatter(\n",
    "                x=[data['x'][i]],\n",
    "                y=[data['y'][i]],\n",
    "                mode='markers',\n",
    "                marker=dict(size=9, color=color),\n",
    "                line=dict(width=2, color=\"DarkSlateGrey\"),\n",
    "                text=[\"token: \"+str(data['labels'][i]) +\" || \"+\"tf   : \"+str(tf_values[data['labels'][i]])+\" || cluster: \"+str(data[\"clusters\"][i])],\n",
    "                name=data['labels'][i]\n",
    "            )\n",
    "            traces.append(trace)\n",
    "        if comp_gold:\n",
    "            for i in range(len(data_gold['x'])):\n",
    "                trace = go.Scatter(\n",
    "                    x=[data_gold['x'][i]],\n",
    "                    y=[data_gold['y'][i]],\n",
    "                    mode='markers',\n",
    "                    marker=dict(size=9, color='red'),\n",
    "                    marker_symbol=\"diamond\",\n",
    "                    line=dict(width=2, color=\"DarkSlateGrey\"),\n",
    "                    text=[\"token: \"+str(data_gold['labels'][i])],\n",
    "                    name=data_gold['labels'][i]\n",
    "                )\n",
    "                traces.append(trace)\n",
    "\n",
    "        layout = go.Layout(\n",
    "            title='2D Scatter Plot',\n",
    "            scene=dict(\n",
    "                xaxis=dict(title='X'),\n",
    "                yaxis=dict(title='Y')\n",
    "            )\n",
    "        )\n",
    "        fig = go.Figure(data=traces, layout=layout)\n",
    "        fig.show()\n",
    "\n",
    "class MARSCore():\n",
    "    def __init__(self, \n",
    "                 corpus, \n",
    "                 gold,\n",
    "                 model=BertModel.from_pretrained('bert-base-uncased', output_hidden_states=True), \n",
    "                 tokenizer=BertTokenizer.from_pretrained('bert-base-uncased'),\n",
    "                 clusterizer=hdbscan.HDBSCAN(),\n",
    "                 dim_reductor=UMAP(n_components=2, init='random', random_state=0),\n",
    "                 ratio=2,\n",
    "                 printRange = range(1),\n",
    "                 low_memory=False,\n",
    "                 precision_level=\"c\",\n",
    "                 expe_params=None,\n",
    "                 extraction_method=\"concat_l4\") -> None:\n",
    "        \"\"\"\n",
    "        Constructor of the MARScore class.\n",
    "\n",
    "        :param1 self (MARScore): MARScore Object (see __init__ function for more details).\n",
    "        :param2 corpus (list): List of texts to summarize.\n",
    "        :param3 gold (list): List of gold summaries.\n",
    "        :param4 model (transformer): Transformer model used compute dynamic embeddings.\n",
    "        :param5 tokenizer (transformer): Transformer used to create token from a plain text. \n",
    "        :param6 clusterizer (model): Model used to clusterize the dynamics embeddings.\n",
    "        :param7 dim_reductor (model): Dimension reduction algorithm (UMAP as default).\n",
    "        :param8 ratio (float or int): Number determining how much the reference text will be shortened.\n",
    "        :param9 printRange (range): Range of corpus that should be displayed when the Refiner object in printed.\n",
    "        :param10 low_memory (bool): If set to True, stores many informations about computation allowing to compute class printing and visualization.\n",
    "        :param11 precision_level (string): Defines the method used to calculate the limit length of the output summary {c: character level, s: sentence level}.\n",
    "        :param12 expe_params (dict): Differents parameters usefull for experimentation purpose.\n",
    "        :param13 extraction_method (str): Method of extraction for BERT embeddings.\n",
    "        \"\"\"\n",
    "        self.corpus = corpus\n",
    "        self.gold = gold\n",
    "        self.summaries = []\n",
    "        self.model = model\n",
    "        self.tokenizer = tokenizer\n",
    "        self.clusterizer = clusterizer\n",
    "        self.dim_reductor = dim_reductor\n",
    "        self.extraction_method = extraction_method\n",
    "        self.ratio = ratio\n",
    "        self.vectors = []\n",
    "        self.reduced_vectors = []\n",
    "        self.labels = []\n",
    "        self.clusters_labels = []\n",
    "        self.clusters_tfs = []\n",
    "        self.tokens_tfs = []\n",
    "        self.similarity_matrices = []\n",
    "        self.processedCorpus = []\n",
    "        self.selectedIndexes = []\n",
    "        self.scores = []\n",
    "        self.printRange = printRange\n",
    "        self.low_memory = low_memory\n",
    "        self.precision_level = precision_level\n",
    "        self.expe_params = expe_params\n",
    "        self.written_summaries = 0\n",
    "    \n",
    "    def compute(self, checkpoints=False, saveRate=50):\n",
    "        \"\"\"\n",
    "        Creates extractive summaries from the corpus attribute using dynamic embedding, high dimensionnal clustering and MIP/ILP solver.\n",
    "\n",
    "        :param1 self (MARScore): MARScore Object (see __init__ function for more details).\n",
    "        :param2 checkpoints (bool): Indicates whether the refining should save partial outputs along computation to prevent from losing data in the context of a crash.\n",
    "        :param3 saveRate (int): Only applicable id safe equals True. Specify the number of consicutive iterations after which a checkpoint should be created. \n",
    "        \"\"\"\n",
    "        if checkpoints:\n",
    "            iter = 0\n",
    "            start = datetime.now()\n",
    "            createFolder = True\n",
    "\n",
    "        if not(self.low_memory):\n",
    "            scaler = MinMaxScaler()\n",
    "\n",
    "        for indiv in self.corpus:\n",
    "            #creation of embeddings\n",
    "            o, l = tokenizeCorpus(indiv)\n",
    "            v = vectorizeCorpus(o, method=self.extraction_method)\n",
    "            v, l = cleanAll(v, l)\n",
    "            if not(self.low_memory):\n",
    "                self.vectors.append(v)\n",
    "                self.labels.append(l)\n",
    "\n",
    "            #clusterization\n",
    "            if not(self.low_memory):\n",
    "                try: distance_metric = self.clusterizer.metric\n",
    "                except: distance_metric = \"euclidean\"\n",
    "                distances = pairwise_distances(v, metric=distance_metric)\n",
    "                normalized_distances = scaler.fit_transform(distances)\n",
    "                normalized_distances = 0.5 * (normalized_distances + normalized_distances.T)\n",
    "                self.similarity_matrices.append(normalized_distances)\n",
    "            reduced_v, clabels = clusterizeCorpusProto(self.dim_reductor, v, self.clusterizer)\n",
    "            if not(self.low_memory):\n",
    "                self.reduced_vectors.append(reduced_v)\n",
    "                self.clusters_labels.append(clabels)\n",
    "\n",
    "            #TF calculation\n",
    "            tf_values = tf(l)\n",
    "            clusters_tf_values = clusters_tf(tf_values, l, clabels)\n",
    "            if not(self.low_memory):\n",
    "                self.tokens_tfs.append(tf_values)\n",
    "                self.clusters_tfs.append(clusters_tf_values)\n",
    "            \n",
    "            #ILP computation\n",
    "            root = get_git_root()\n",
    "            dirpath = os.path.join(root, \"myLibraries\\MARScore_output\")\n",
    "            if self.expe_params == None:\n",
    "                save_path_in = os.path.join(dirpath, \"ilp_in.ilp\")\n",
    "                save_path_out = os.path.join(dirpath, \"ilp_out.sol\")\n",
    "            elif \"shuffled\" in self.expe_params.keys():\n",
    "                if self.expe_params[\"shuffled\"]:\n",
    "                    save_path_in = os.path.join(dirpath, \"ilp_in_shuffled.ilp\")\n",
    "                    save_path_out = os.path.join(dirpath, \"ilp_out_shuffled.sol\")\n",
    "                else:\n",
    "                    save_path_in = os.path.join(dirpath, \"ilp_in_regular.ilp\")\n",
    "                    save_path_out = os.path.join(dirpath, \"ilp_out_regular.sol\")\n",
    "\n",
    "            _ = to_ilp_format(save_path_in, l, clabels, clusters_tf_values, self.ratio, self.precision_level)\n",
    "            \n",
    "            os.system(f'glpsol --tmlim 100 --lp \"{save_path_in}\" -o \"{save_path_out}\"')\n",
    "            selected = readILP(path=save_path_out)\n",
    "\n",
    "            #summaries construction\n",
    "            sentences = [sentence.strip() for sentence in indiv.split(\".\")]\n",
    "            sentences.pop()\n",
    "            sum_sentences = []\n",
    "            selected_indexes_temp = []\n",
    "            for i, value in enumerate(selected):\n",
    "                if value == 1:\n",
    "                    sum_sentences.append(sentences[i]+\".\")\n",
    "                    selected_indexes_temp.append(i)\n",
    "            self.summaries.append(\" \".join(sum_sentences))\n",
    "            if not(self.low_memory):\n",
    "                self.selectedIndexes.append(sorted(selected_indexes_temp))\n",
    "                self.processedCorpus.append(sentences)\n",
    "\n",
    "            #checkpoint verification\n",
    "            if checkpoints:\n",
    "                if iter % saveRate == 0 and iter != 0:\n",
    "                    stop = datetime.now()\n",
    "                    partial_runtime = stop - start\n",
    "                    self.save(runtime=partial_runtime, new=createFolder)\n",
    "                    createFolder = False\n",
    "                iter += 1\n",
    "                \n",
    "        if checkpoints:\n",
    "            stop = datetime.now()\n",
    "            runtime = stop - start\n",
    "            self.save(runtime=runtime, new=createFolder)\n",
    "\n",
    "    def assess(self, start=0, stop=None, verbose=True):\n",
    "        \"\"\"\n",
    "        Assesses quality of the refined corpus by computing Static BERTscore and Rouge-Score on the refined version compared to it's initial version.\n",
    "\n",
    "        :param1 self (MARScore): MARScore Object (see __init__ function for more details).\n",
    "        :param2 start (int): Starting index to assess.\n",
    "        :param3 stop (int): Ending index to assess.\n",
    "        :param4 verbose (Boolean): When put to True, assess results will be printed.\n",
    "\n",
    "        :output (dict): Dictionnary containing both the scores of Static BERTScore, BERTScore, BARTScore and Rouge as well as their correlation.\n",
    "        \"\"\"\n",
    "        assert self.summaries != None, \"refined corpus doesn't exists\"\n",
    "        \n",
    "        if stop == None:\n",
    "            stop = len(self.summaries)\n",
    "        subset_summaries = self.summaries[start:stop]\n",
    "        subset_gold = self.gold[start:stop]\n",
    "\n",
    "        #Static BERTScore computation\n",
    "        w2v = model_load(\"Word2Vec\", True)\n",
    "        customScore = score(w2v, subset_summaries, subset_gold)\n",
    "\n",
    "        #Rouge-Score computation\n",
    "        rougeScorer = rouge_scorer.RougeScorer(['rouge1', 'rouge2', 'rougeL'], use_stemmer=True)\n",
    "        rougeScore = [rougeScorer.score(c, r) for c, r in zip(subset_gold, subset_summaries)]\n",
    "\n",
    "        #BERTScore computation\n",
    "        with nostd():\n",
    "            bertscore = bert_score.score(subset_summaries, subset_gold, lang=\"en\", verbose=0)\n",
    "        #bartscore\n",
    "        bart_scorer = BARTScorer(device='cuda:0', checkpoint='facebook/bart-large-cnn')\n",
    "        bartscore = bart_scorer.score(subset_summaries, subset_gold, batch_size=4)\n",
    "\n",
    "        #Data formating\n",
    "        custom_R = [round(t[0], 2) for t in customScore]\n",
    "        custom_P = [round(t[1], 2) for t in customScore]\n",
    "        custom_F = [round(t[2], 2) for t in customScore]\n",
    "        bertscore_R = [round(t.item(), 2) for t in bertscore[1]]\n",
    "        bertscore_P = [round(t.item(), 2) for t in bertscore[0]]\n",
    "        bertscore_F = [round(t.item(), 2) for t in bertscore[2]]\n",
    "        bartscore = [round(t, 2) for t in bartscore]\n",
    "        rouge1_R = [round(t['rouge1'][0], 2) for t in rougeScore]\n",
    "        rouge2_R = [round(t['rouge2'][0], 2) for t in rougeScore]\n",
    "        rougeL_R = [round(t['rougeL'][0], 2) for t in rougeScore]\n",
    "\n",
    "        dfCustom = pd.DataFrame({'CBERT-R' : custom_R,\n",
    "                                 'CBERT-P' : custom_P,\n",
    "                                 'CBERT-F' : custom_F,\n",
    "                                 'BERTScore-R' : bertscore_R,\n",
    "                                 'BERTScore-P' : bertscore_P,\n",
    "                                 'BERTScore-F' : bertscore_F,\n",
    "                                 'BARTScore' : bartscore,\n",
    "                                 'R-1' : rouge1_R,\n",
    "                                 'R-2' : rouge2_R,\n",
    "                                 'R-L' : rougeL_R\n",
    "                                })\n",
    "        #score storing\n",
    "        self.scores = bertscore_F\n",
    "\n",
    "        #Correlation estimation\n",
    "        pearsonCor_c_r1 = np.round(pearsonr(custom_F, rouge1_R), 2)\n",
    "        pearsonCor_c_r2 = np.round(pearsonr(custom_F, rouge2_R), 2)\n",
    "        pearsonCor_c_rl = np.round(pearsonr(custom_F, rougeL_R), 2)\n",
    "        pearsonCor_bertscore_r1 = np.round(pearsonr(bertscore_F, rouge1_R), 2)\n",
    "        pearsonCor_bertscore_r2 = np.round(pearsonr(bertscore_F, rouge2_R), 2)\n",
    "        pearsonCor_bertscore_rl = np.round(pearsonr(bertscore_F, rougeL_R), 2)\n",
    "        pearsonCor_bartscore_r1 = np.round(pearsonr(bartscore, rouge1_R), 2)\n",
    "        pearsonCor_bartscore_r2 = np.round(pearsonr(bartscore, rouge2_R), 2)\n",
    "        pearsonCor_bartscore_rl = np.round(pearsonr(bartscore, rougeL_R), 2)\n",
    "\n",
    "        dfCor = pd.DataFrame({'pearson_CBERT_R-1' : pearsonCor_c_r1,\n",
    "                              'pearson_CBERT_R-2' : pearsonCor_c_r2,\n",
    "                              'pearson_CBERT_R-L' : pearsonCor_c_rl,\n",
    "                              'pearson_BERT_R-1' : pearsonCor_bertscore_r1,\n",
    "                              'pearson_BERT_R-2' : pearsonCor_bertscore_r2,\n",
    "                              'pearson_BERT_R-l' : pearsonCor_bertscore_rl,\n",
    "                              'pearson_BART_R-1' : pearsonCor_bartscore_r1,\n",
    "                              'pearson_BART_R-2' : pearsonCor_bartscore_r2,\n",
    "                              'pearson_BART_R-l' : pearsonCor_bartscore_rl}, index=[\"Pearson score\", \"p-value\"])\n",
    "        if verbose:\n",
    "            printout = \"Scores: \\n\"\n",
    "            printout += dfCustom.to_string() + \"\\n\\n\"\n",
    "            printout += \"Correlations: \\n\"\n",
    "            printout += dfCor.to_string()\n",
    "            print(printout)\n",
    "\n",
    "        return {\"scores\": dfCustom, \"correlations\": dfCor}\n",
    "\n",
    "    def visualize(self, indiv=0, dim=2):\n",
    "        \"\"\"\n",
    "        Generates a plotly graph in 1 or 2 dimensions of the clusterized tokens using UMAP.\n",
    "\n",
    "        :param1 self (MARScore): MARScore Object (see __init__ function for more details).\n",
    "        :param2 indiv (int): Document index for which representation is desired.\n",
    "        :param3 dim (int): Target number of dimensions for the UMAP reduction. \n",
    "        \"\"\"\n",
    "        if not(self.low_memory):\n",
    "            o_gold, l_gold = tokenizeCorpus(self.gold[indiv])\n",
    "            v_gold = vectorizeCorpus(o_gold, method=self.extraction_method)\n",
    "            v_gold, l_gold = cleanAll(v_gold, l_gold) \n",
    "            visualizeCorpusProto(self.dim_reductor, self.reduced_vectors[indiv], self.labels[indiv], v_gold, l_gold, self.clusters_labels[indiv], self.tokens_tfs[indiv], dim)\n",
    "        else:\n",
    "            print(f\"\\n{Fore.RED}Low memory mode activated: very likely that required attributes were not stored during computation{Style.RESET_ALL}\\n\\n\")\n",
    "\n",
    "    def cluster_distribution(self, indiv=0):\n",
    "        \"\"\"\n",
    "        Creates a formated string with different colorization depending on the words' clusters.\n",
    "\n",
    "        :param1 self (MARScore): MARScore Object (see __init__ function for more details).\n",
    "        :param2 indiv (int): Document index for which representation is desired.        \n",
    "        \"\"\"\n",
    "        if not(self.low_memory):\n",
    "            output = \"\" \n",
    "            n_clusters = len(set(self.clusters_labels[indiv]))\n",
    "            for token, c_label in zip(self.labels[indiv], self.clusters_labels[indiv]):\n",
    "                color = c_label % n_clusters + 1  # Generate a color code (1 to clusters) based on the label\n",
    "                colored_word = getattr(Fore, list(Fore.__dict__.keys())[color]) + token + Fore.RESET\n",
    "                output += colored_word + ' '\n",
    "            output = output.replace(\" ##\", \"\")\n",
    "            output = output.replace(\".\", \".\\n\")\n",
    "            output = output.strip()\n",
    "            return output\n",
    "        else:\n",
    "            print(f\"\\n{Fore.RED}Low memory mode activated: very likely that required attributes were not stored during computation{Style.RESET_ALL}\\n\\n\")\n",
    "            return -1\n",
    "\n",
    "    def save(self, runtime=None, new=True, pace=50):\n",
    "            \"\"\"\n",
    "            Saves Refiner output to a local folder.\n",
    "\n",
    "            :param1 self (Refiner): Refiner Object (see __init__ function for more details).\n",
    "            :param2 new (bool): Indicates if a new folder should be created. If false, output is append to the most recent ouput folder.\n",
    "            \"\"\"\n",
    "            #evaluation\n",
    "            start = 0\n",
    "            stop = len(self.summaries)\n",
    "            assessement = self.assess(start=start, stop=stop)\n",
    "\n",
    "            #mainDf = self.to_dataframe()\n",
    "            scoreDf = assessement[\"scores\"]\n",
    "            corDf = assessement[\"correlations\"]\n",
    "\n",
    "            #write statistics\n",
    "            if self.expe_params == None:\n",
    "                main_folder_path = os.path.join(get_git_root(), r\"myLibraries\\MARScore_output\\results\")\n",
    "            elif \"shuffled\" in self.expe_params.keys():\n",
    "                if self.expe_params[\"shuffled\"]:\n",
    "                    main_folder_path = os.path.join(get_git_root(), r\"myLibraries\\MARScore_output\\shuffled\")\n",
    "                else:\n",
    "                    main_folder_path = os.path.join(get_git_root(), r\"myLibraries\\MARScore_output\\regular\")\n",
    "            countfile_name = r\"count.txt\"\n",
    "            if new:\n",
    "                count = updateFileCount(os.path.join(main_folder_path, countfile_name))\n",
    "            else:\n",
    "                count = readFileCount(os.path.join(main_folder_path, countfile_name))\n",
    "\n",
    "            current_path = os.path.join(main_folder_path, f\"experimentation_{count}\")\n",
    "            try:\n",
    "                os.mkdir(current_path)\n",
    "            except FileExistsError:\n",
    "                pass\n",
    "\n",
    "            #mainDf.to_csv(os.path.join(current_path, \"main.csv\"))\n",
    "            scoreDf.to_csv(os.path.join(current_path, \"scores.csv\"))\n",
    "            corDf.to_csv(os.path.join(current_path, \"correlations.csv\"))\n",
    "            with open(os.path.join(current_path, \"runtimes.txt\"), \"w\") as f:\n",
    "                f.write(str(runtime))\n",
    "            \n",
    "            #write summaries\n",
    "            try:\n",
    "                os.mkdir(os.path.join(current_path, f\"summaries\"))\n",
    "            except FileExistsError:\n",
    "                pass\n",
    "            \n",
    "            sum_path = os.path.join(current_path, f\"summaries\")\n",
    "            pos = len(self.summaries)-self.written_summaries\n",
    "\n",
    "            for i, summary in enumerate(self.summaries[len(self.summaries)-pos:]):\n",
    "                if new:\n",
    "                    arg = \"w\"\n",
    "                else:\n",
    "                    arg = \"a\"\n",
    "                with open(os.path.join(sum_path, f\"{i+self.written_summaries}.txt\"), arg) as f:\n",
    "                    f.write(summary)\n",
    "\n",
    "    def __str__(self) -> str:\n",
    "        \"\"\"\n",
    "        Summarizes MARScore object to a string.\n",
    "\n",
    "        :param1 self (MARScore): MARScore Object (see __init__ function for more details).\n",
    "\n",
    "        :output printout (string): Summarized informations about the MARScore object.\n",
    "        \"\"\"\n",
    "\n",
    "        printout = \"--------MARScore OBJECT--------\\n\\n\"\n",
    "        printout += \"Number of Documents : \" + str(len(self.corpus)) + \"\\n\"\n",
    "        printout += \"Corpus Avg Size     : \" + str(int(np.average([len(x) for x in self.corpus]))+1) + \"\\n\"\n",
    "        printout += \"Refined Avg Size    : \" + str(int(np.average([len(x) for x in self.summaries]))+1) + \"\\n\"\n",
    "\n",
    "        printout += \"\\n-------------------------------\\n\"\n",
    "\n",
    "        self.printRange = self.printRange if self.printRange.start >= 0 and self.printRange.stop < len(self.processedCorpus) else range(0, len(self.processedCorpus))\n",
    "\n",
    "        for index in self.printRange:\n",
    "            printout += f\"\\nCorpus no.{index+1} : {str(self.scores[index]*100)+'%' if self.scores != [] and self.scores != -1 else ''}\\n\" + str(\".\\n\".join([f\"{Fore.LIGHTGREEN_EX}{self.processedCorpus[index][i]}{Style.RESET_ALL}\"\n",
    "                                                        if i in self.selectedIndexes[index]\n",
    "                                                        else f\"{Fore.RED}{self.processedCorpus[index][i]}{Style.RESET_ALL}\"\n",
    "                                                        for i in range(len(self.processedCorpus[index]))])) + \".\" + \"\\n\"\n",
    "        \n",
    "        printout += \"\\n-------------------------------\"\n",
    "        return printout"
   ]
  },
  {
   "cell_type": "code",
   "execution_count": 3,
   "metadata": {},
   "outputs": [
    {
     "data": {
      "text/html": [
       "<div>\n",
       "<style scoped>\n",
       "    .dataframe tbody tr th:only-of-type {\n",
       "        vertical-align: middle;\n",
       "    }\n",
       "\n",
       "    .dataframe tbody tr th {\n",
       "        vertical-align: top;\n",
       "    }\n",
       "\n",
       "    .dataframe thead th {\n",
       "        text-align: right;\n",
       "    }\n",
       "</style>\n",
       "<table border=\"1\" class=\"dataframe\">\n",
       "  <thead>\n",
       "    <tr style=\"text-align: right;\">\n",
       "      <th></th>\n",
       "      <th>text</th>\n",
       "      <th>summary</th>\n",
       "    </tr>\n",
       "  </thead>\n",
       "  <tbody>\n",
       "    <tr>\n",
       "      <th>3</th>\n",
       "      <td>congenital adrenal hyperplasia ( cah ) refers ...</td>\n",
       "      <td>congenital adrenal hyperplasia is a group of a...</td>\n",
       "    </tr>\n",
       "    <tr>\n",
       "      <th>4</th>\n",
       "      <td>type 1 diabetes ( t1d ) results from the destr...</td>\n",
       "      <td>objective(s):pentoxifylline is an immunomodula...</td>\n",
       "    </tr>\n",
       "  </tbody>\n",
       "</table>\n",
       "</div>"
      ],
      "text/plain": [
       "                                                text   \n",
       "3  congenital adrenal hyperplasia ( cah ) refers ...  \\\n",
       "4  type 1 diabetes ( t1d ) results from the destr...   \n",
       "\n",
       "                                             summary  \n",
       "3  congenital adrenal hyperplasia is a group of a...  \n",
       "4  objective(s):pentoxifylline is an immunomodula...  "
      ]
     },
     "execution_count": 3,
     "metadata": {},
     "output_type": "execute_result"
    }
   ],
   "source": [
    "dataset = pd.read_json(r'C:\\Pro\\Stages\\A4 - DVRC\\Work\\Datasets\\pubmed\\test.json', lines=True)\n",
    "dataset = dataset[[\"article_text\", \"abstract_text\"]]\n",
    "cleaner = lambda x: \". \".join(x).replace(\"<S>\", \"\").strip()\n",
    "format_dot = lambda x: x.replace(\" .\", \".\")\n",
    "dataset.loc[:,\"abstract_text\"] = dataset[\"abstract_text\"].replace(regex=r\"\\[[^\\]]*\\]\", value=\"\")\n",
    "dataset.loc[:,\"article_text\"] = dataset[\"article_text\"].replace(regex=r\"\\[[^\\]]*\\]\", value=\"\")\n",
    "dataset.loc[:,\"abstract_text\"] = dataset[\"abstract_text\"].map(cleaner)\n",
    "dataset.loc[:,\"article_text\"] = dataset[\"article_text\"].map(cleaner)\n",
    "dataset.loc[:,\"abstract_text\"] = dataset[\"abstract_text\"].map(cleanString)\n",
    "dataset.loc[:,\"article_text\"] = dataset[\"article_text\"].map(cleanString)\n",
    "dataset.loc[:,\"abstract_text\"] = dataset[\"abstract_text\"].map(format_dot)\n",
    "dataset.loc[:,\"article_text\"] = dataset[\"article_text\"].map(format_dot)\n",
    "dataset = dataset.rename(columns={\"abstract_text\": \"summary\",\n",
    "                        \"article_text\": \"text\"})\n",
    "\n",
    "subset = dataset.iloc[3:5, :]\n",
    "subset"
   ]
  },
  {
   "cell_type": "code",
   "execution_count": 4,
   "metadata": {},
   "outputs": [],
   "source": [
    "ms = MARSCore(subset[\"text\"].to_list(), subset[\"summary\"].to_list())\n",
    "ms.compute()"
   ]
  },
  {
   "cell_type": "code",
   "execution_count": 5,
   "metadata": {},
   "outputs": [
    {
     "name": "stderr",
     "output_type": "stream",
     "text": [
      "c:\\Pro\\Stages\\A4 - DVRC\\Work\\Supervised-Learning-using-Unsupervised-Learning-Metrics-in-the-absence-of-Annotated-Data\\.venv\\Lib\\site-packages\\scipy\\stats\\_stats_py.py:4424: ConstantInputWarning: An input array is constant; the correlation coefficient is not defined.\n",
      "  warnings.warn(stats.ConstantInputWarning(msg))\n"
     ]
    },
    {
     "name": "stdout",
     "output_type": "stream",
     "text": [
      "Scores: \n",
      "   CBERT-R  CBERT-P  CBERT-F  BERTScore-R  BERTScore-P  BERTScore-F  BARTScore   R-1   R-2   R-L\n",
      "0     0.67     0.59     0.63         0.83         0.83         0.83       0.31  0.27  0.10  0.16\n",
      "1     0.90     0.68     0.77         0.85         0.81         0.83       0.40  0.23  0.08  0.09\n",
      "\n",
      "Correlations: \n",
      "               pearson_CBERT_R-1  pearson_CBERT_R-2  pearson_CBERT_R-L  pearson_BERT_R-1  pearson_BERT_R-2  pearson_BERT_R-l  pearson_BART_R-1  pearson_BART_R-2  pearson_BART_R-l\n",
      "Pearson score               -1.0               -1.0               -1.0               NaN               NaN               NaN              -1.0              -1.0              -1.0\n",
      "p-value                      1.0                1.0                1.0               NaN               NaN               NaN               1.0               1.0               1.0\n"
     ]
    }
   ],
   "source": [
    "_=ms.assess()"
   ]
  },
  {
   "cell_type": "code",
   "execution_count": 6,
   "metadata": {},
   "outputs": [
    {
     "data": {
      "application/vnd.plotly.v1+json": {
       "config": {
        "plotlyServerURL": "https://plot.ly"
       },
       "data": [
        {
         "line": {
          "color": "DarkSlateGrey",
          "width": 2
         },
         "marker": {
          "color": [
           0.271305,
           0.019942,
           0.347269
          ],
          "size": 9
         },
         "mode": "markers",
         "name": "congenital",
         "text": [
          "token: congenital || tf   : 1.0 || cluster: 3"
         ],
         "type": "scatter",
         "x": [
          9.120946884155273
         ],
         "y": [
          5.13546895980835
         ]
        },
        {
         "line": {
          "color": "DarkSlateGrey",
          "width": 2
         },
         "marker": {
          "color": [
           0.271305,
           0.019942,
           0.347269
          ],
          "size": 9
         },
         "mode": "markers",
         "name": "##ren",
         "text": [
          "token: ##ren || tf   : 7.0 || cluster: 3"
         ],
         "type": "scatter",
         "x": [
          9.200767517089844
         ],
         "y": [
          5.247995853424072
         ]
        },
        {
         "line": {
          "color": "DarkSlateGrey",
          "width": 2
         },
         "marker": {
          "color": [
           0.271305,
           0.019942,
           0.347269
          ],
          "size": 9
         },
         "mode": "markers",
         "name": "##al",
         "text": [
          "token: ##al || tf   : 7.0 || cluster: 3"
         ],
         "type": "scatter",
         "x": [
          9.087030410766602
         ],
         "y": [
          5.1196208000183105
         ]
        },
        {
         "line": {
          "color": "DarkSlateGrey",
          "width": 2
         },
         "marker": {
          "color": [
           0.271305,
           0.019942,
           0.347269
          ],
          "size": 9
         },
         "mode": "markers",
         "name": "hyper",
         "text": [
          "token: hyper || tf   : 2.0 || cluster: 3"
         ],
         "type": "scatter",
         "x": [
          9.100278854370117
         ],
         "y": [
          5.091368198394775
         ]
        },
        {
         "line": {
          "color": "DarkSlateGrey",
          "width": 2
         },
         "marker": {
          "color": [
           0.271305,
           0.019942,
           0.347269
          ],
          "size": 9
         },
         "mode": "markers",
         "name": "##pl",
         "text": [
          "token: ##pl || tf   : 2.0 || cluster: 3"
         ],
         "type": "scatter",
         "x": [
          9.034445762634277
         ],
         "y": [
          5.094959735870361
         ]
        },
        {
         "line": {
          "color": "DarkSlateGrey",
          "width": 2
         },
         "marker": {
          "color": [
           0.271305,
           0.019942,
           0.347269
          ],
          "size": 9
         },
         "mode": "markers",
         "name": "##asia",
         "text": [
          "token: ##asia || tf   : 1.0 || cluster: 3"
         ],
         "type": "scatter",
         "x": [
          9.043627738952637
         ],
         "y": [
          5.1477370262146
         ]
        },
        {
         "line": {
          "color": "DarkSlateGrey",
          "width": 2
         },
         "marker": {
          "color": [
           0.271305,
           0.019942,
           0.347269
          ],
          "size": 9
         },
         "mode": "markers",
         "name": "##h",
         "text": [
          "token: ##h || tf   : 17.0 || cluster: 3"
         ],
         "type": "scatter",
         "x": [
          9.030118942260742
         ],
         "y": [
          5.048808574676514
         ]
        },
        {
         "line": {
          "color": "DarkSlateGrey",
          "width": 2
         },
         "marker": {
          "color": [
           0.271305,
           0.019942,
           0.347269
          ],
          "size": 9
         },
         "mode": "markers",
         "name": "refers",
         "text": [
          "token: refers || tf   : 1.0 || cluster: 3"
         ],
         "type": "scatter",
         "x": [
          8.894938468933105
         ],
         "y": [
          5.0823588371276855
         ]
        },
        {
         "line": {
          "color": "DarkSlateGrey",
          "width": 2
         },
         "marker": {
          "color": [
           0.271305,
           0.019942,
           0.347269
          ],
          "size": 9
         },
         "mode": "markers",
         "name": "group",
         "text": [
          "token: group || tf   : 1.0 || cluster: 3"
         ],
         "type": "scatter",
         "x": [
          8.922773361206055
         ],
         "y": [
          5.043385028839111
         ]
        },
        {
         "line": {
          "color": "DarkSlateGrey",
          "width": 2
         },
         "marker": {
          "color": [
           0.271305,
           0.019942,
           0.347269
          ],
          "size": 9
         },
         "mode": "markers",
         "name": "auto",
         "text": [
          "token: auto || tf   : 1.0 || cluster: 3"
         ],
         "type": "scatter",
         "x": [
          8.802417755126953
         ],
         "y": [
          5.124178886413574
         ]
        },
        {
         "line": {
          "color": "DarkSlateGrey",
          "width": 2
         },
         "marker": {
          "color": [
           0.271305,
           0.019942,
           0.347269
          ],
          "size": 9
         },
         "mode": "markers",
         "name": "##som",
         "text": [
          "token: ##som || tf   : 1.0 || cluster: 3"
         ],
         "type": "scatter",
         "x": [
          8.849470138549805
         ],
         "y": [
          5.110053539276123
         ]
        },
        {
         "line": {
          "color": "DarkSlateGrey",
          "width": 2
         },
         "marker": {
          "color": [
           0.271305,
           0.019942,
           0.347269
          ],
          "size": 9
         },
         "mode": "markers",
         "name": "##al",
         "text": [
          "token: ##al || tf   : 7.0 || cluster: 3"
         ],
         "type": "scatter",
         "x": [
          8.824309349060059
         ],
         "y": [
          5.09874153137207
         ]
        },
        {
         "line": {
          "color": "DarkSlateGrey",
          "width": 2
         },
         "marker": {
          "color": [
           0.271305,
           0.019942,
           0.347269
          ],
          "size": 9
         },
         "mode": "markers",
         "name": "recess",
         "text": [
          "token: recess || tf   : 1.0 || cluster: 3"
         ],
         "type": "scatter",
         "x": [
          8.854809761047363
         ],
         "y": [
          5.105905055999756
         ]
        },
        {
         "line": {
          "color": "DarkSlateGrey",
          "width": 2
         },
         "marker": {
          "color": [
           0.271305,
           0.019942,
           0.347269
          ],
          "size": 9
         },
         "mode": "markers",
         "name": "##ive",
         "text": [
          "token: ##ive || tf   : 3.0 || cluster: 3"
         ],
         "type": "scatter",
         "x": [
          8.7688570022583
         ],
         "y": [
          5.103138446807861
         ]
        },
        {
         "line": {
          "color": "DarkSlateGrey",
          "width": 2
         },
         "marker": {
          "color": [
           0.271305,
           0.019942,
           0.347269
          ],
          "size": 9
         },
         "mode": "markers",
         "name": "disorders",
         "text": [
          "token: disorders || tf   : 1.0 || cluster: 3"
         ],
         "type": "scatter",
         "x": [
          8.710176467895508
         ],
         "y": [
          4.98686408996582
         ]
        },
        {
         "line": {
          "color": "DarkSlateGrey",
          "width": 2
         },
         "marker": {
          "color": [
           0.271305,
           0.019942,
           0.347269
          ],
          "size": 9
         },
         "mode": "markers",
         "name": "caused",
         "text": [
          "token: caused || tf   : 1.0 || cluster: 3"
         ],
         "type": "scatter",
         "x": [
          8.645864486694336
         ],
         "y": [
          5.02661657333374
         ]
        },
        {
         "line": {
          "color": "DarkSlateGrey",
          "width": 2
         },
         "marker": {
          "color": [
           0.271305,
           0.019942,
           0.347269
          ],
          "size": 9
         },
         "mode": "markers",
         "name": "enzyme",
         "text": [
          "token: enzyme || tf   : 1.0 || cluster: 3"
         ],
         "type": "scatter",
         "x": [
          8.529419898986816
         ],
         "y": [
          5.075101852416992
         ]
        },
        {
         "line": {
          "color": "DarkSlateGrey",
          "width": 2
         },
         "marker": {
          "color": [
           0.271305,
           0.019942,
           0.347269
          ],
          "size": 9
         },
         "mode": "markers",
         "name": "deficiency",
         "text": [
          "token: deficiency || tf   : 2.0 || cluster: 3"
         ],
         "type": "scatter",
         "x": [
          8.525043487548828
         ],
         "y": [
          5.062833309173584
         ]
        },
        {
         "line": {
          "color": "DarkSlateGrey",
          "width": 2
         },
         "marker": {
          "color": [
           0.271305,
           0.019942,
           0.347269
          ],
          "size": 9
         },
         "mode": "markers",
         "name": "which",
         "text": [
          "token: which || tf   : 5.0 || cluster: 3"
         ],
         "type": "scatter",
         "x": [
          8.595434188842773
         ],
         "y": [
          5.056972503662109
         ]
        },
        {
         "line": {
          "color": "DarkSlateGrey",
          "width": 2
         },
         "marker": {
          "color": [
           0.271305,
           0.019942,
           0.347269
          ],
          "size": 9
         },
         "mode": "markers",
         "name": "leads",
         "text": [
          "token: leads || tf   : 1.0 || cluster: 3"
         ],
         "type": "scatter",
         "x": [
          8.43300724029541
         ],
         "y": [
          5.055581092834473
         ]
        },
        {
         "line": {
          "color": "DarkSlateGrey",
          "width": 2
         },
         "marker": {
          "color": [
           0.271305,
           0.019942,
           0.347269
          ],
          "size": 9
         },
         "mode": "markers",
         "name": "defects",
         "text": [
          "token: defects || tf   : 1.0 || cluster: 3"
         ],
         "type": "scatter",
         "x": [
          8.255236625671387
         ],
         "y": [
          5.160733222961426
         ]
        },
        {
         "line": {
          "color": "DarkSlateGrey",
          "width": 2
         },
         "marker": {
          "color": [
           0.271305,
           0.019942,
           0.347269
          ],
          "size": 9
         },
         "mode": "markers",
         "name": "bio",
         "text": [
          "token: bio || tf   : 2.0 || cluster: 3"
         ],
         "type": "scatter",
         "x": [
          8.142434120178223
         ],
         "y": [
          5.2886857986450195
         ]
        },
        {
         "line": {
          "color": "DarkSlateGrey",
          "width": 2
         },
         "marker": {
          "color": [
           0.271305,
           0.019942,
           0.347269
          ],
          "size": 9
         },
         "mode": "markers",
         "name": "##sy",
         "text": [
          "token: ##sy || tf   : 1.0 || cluster: 3"
         ],
         "type": "scatter",
         "x": [
          8.24797534942627
         ],
         "y": [
          5.231808662414551
         ]
        },
        {
         "line": {
          "color": "DarkSlateGrey",
          "width": 2
         },
         "marker": {
          "color": [
           0.271305,
           0.019942,
           0.347269
          ],
          "size": 9
         },
         "mode": "markers",
         "name": "##nt",
         "text": [
          "token: ##nt || tf   : 1.0 || cluster: 3"
         ],
         "type": "scatter",
         "x": [
          8.28840446472168
         ],
         "y": [
          5.304283618927002
         ]
        },
        {
         "line": {
          "color": "DarkSlateGrey",
          "width": 2
         },
         "marker": {
          "color": [
           0.271305,
           0.019942,
           0.347269
          ],
          "size": 9
         },
         "mode": "markers",
         "name": "##hesis",
         "text": [
          "token: ##hesis || tf   : 1.0 || cluster: 3"
         ],
         "type": "scatter",
         "x": [
          8.106425285339355
         ],
         "y": [
          5.249272346496582
         ]
        },
        {
         "line": {
          "color": "DarkSlateGrey",
          "width": 2
         },
         "marker": {
          "color": [
           0.271305,
           0.019942,
           0.347269
          ],
          "size": 9
         },
         "mode": "markers",
         "name": "ste",
         "text": [
          "token: ste || tf   : 1.0 || cluster: 3"
         ],
         "type": "scatter",
         "x": [
          8.061385154724121
         ],
         "y": [
          5.341856002807617
         ]
        },
        {
         "line": {
          "color": "DarkSlateGrey",
          "width": 2
         },
         "marker": {
          "color": [
           0.271305,
           0.019942,
           0.347269
          ],
          "size": 9
         },
         "mode": "markers",
         "name": "##roid",
         "text": [
          "token: ##roid || tf   : 1.0 || cluster: 3"
         ],
         "type": "scatter",
         "x": [
          8.156852722167969
         ],
         "y": [
          5.23057746887207
         ]
        },
        {
         "line": {
          "color": "DarkSlateGrey",
          "width": 2
         },
         "marker": {
          "color": [
           0.271305,
           0.019942,
           0.347269
          ],
          "size": 9
         },
         "mode": "markers",
         "name": "precursor",
         "text": [
          "token: precursor || tf   : 2.0 || cluster: 3"
         ],
         "type": "scatter",
         "x": [
          7.990792751312256
         ],
         "y": [
          5.306800842285156
         ]
        },
        {
         "line": {
          "color": "DarkSlateGrey",
          "width": 2
         },
         "marker": {
          "color": [
           0.271305,
           0.019942,
           0.347269
          ],
          "size": 9
         },
         "mode": "markers",
         "name": "##s",
         "text": [
          "token: ##s || tf   : 5.0 || cluster: 3"
         ],
         "type": "scatter",
         "x": [
          7.996445178985596
         ],
         "y": [
          5.259561538696289
         ]
        },
        {
         "line": {
          "color": "DarkSlateGrey",
          "width": 2
         },
         "marker": {
          "color": [
           0.272594,
           0.025563,
           0.353093
          ],
          "size": 9
         },
         "mode": "markers",
         "name": "depending",
         "text": [
          "token: depending || tf   : 1.0 || cluster: 4"
         ],
         "type": "scatter",
         "x": [
          7.60097599029541
         ],
         "y": [
          4.095540523529053
         ]
        },
        {
         "line": {
          "color": "DarkSlateGrey",
          "width": 2
         },
         "marker": {
          "color": [
           0.272594,
           0.025563,
           0.353093
          ],
          "size": 9
         },
         "mode": "markers",
         "name": "the",
         "text": [
          "token: the || tf   : 32.0 || cluster: 4"
         ],
         "type": "scatter",
         "x": [
          7.610634803771973
         ],
         "y": [
          4.121527671813965
         ]
        },
        {
         "line": {
          "color": "DarkSlateGrey",
          "width": 2
         },
         "marker": {
          "color": [
           0.272594,
           0.025563,
           0.353093
          ],
          "size": 9
         },
         "mode": "markers",
         "name": "severity",
         "text": [
          "token: severity || tf   : 1.0 || cluster: 4"
         ],
         "type": "scatter",
         "x": [
          7.579045295715332
         ],
         "y": [
          4.146590232849121
         ]
        },
        {
         "line": {
          "color": "DarkSlateGrey",
          "width": 2
         },
         "marker": {
          "color": [
           0.272594,
           0.025563,
           0.353093
          ],
          "size": 9
         },
         "mode": "markers",
         "name": "and",
         "text": [
          "token: and || tf   : 26.0 || cluster: 4"
         ],
         "type": "scatter",
         "x": [
          7.6021037101745605
         ],
         "y": [
          4.133755683898926
         ]
        },
        {
         "line": {
          "color": "DarkSlateGrey",
          "width": 2
         },
         "marker": {
          "color": [
           0.272594,
           0.025563,
           0.353093
          ],
          "size": 9
         },
         "mode": "markers",
         "name": "degree",
         "text": [
          "token: degree || tf   : 1.0 || cluster: 4"
         ],
         "type": "scatter",
         "x": [
          7.618197917938232
         ],
         "y": [
          4.1559977531433105
         ]
        },
        {
         "line": {
          "color": "DarkSlateGrey",
          "width": 2
         },
         "marker": {
          "color": [
           0.271305,
           0.019942,
           0.347269
          ],
          "size": 9
         },
         "mode": "markers",
         "name": "hydro",
         "text": [
          "token: hydro || tf   : 3.0 || cluster: 3"
         ],
         "type": "scatter",
         "x": [
          8.348836898803711
         ],
         "y": [
          5.022400856018066
         ]
        },
        {
         "line": {
          "color": "DarkSlateGrey",
          "width": 2
         },
         "marker": {
          "color": [
           0.271305,
           0.019942,
           0.347269
          ],
          "size": 9
         },
         "mode": "markers",
         "name": "##xy",
         "text": [
          "token: ##xy || tf   : 2.0 || cluster: 3"
         ],
         "type": "scatter",
         "x": [
          8.313943862915039
         ],
         "y": [
          5.065368175506592
         ]
        },
        {
         "line": {
          "color": "DarkSlateGrey",
          "width": 2
         },
         "marker": {
          "color": [
           0.271305,
           0.019942,
           0.347269
          ],
          "size": 9
         },
         "mode": "markers",
         "name": "##lase",
         "text": [
          "token: ##lase || tf   : 1.0 || cluster: 3"
         ],
         "type": "scatter",
         "x": [
          8.394028663635254
         ],
         "y": [
          4.975301742553711
         ]
        },
        {
         "line": {
          "color": "DarkSlateGrey",
          "width": 2
         },
         "marker": {
          "color": [
           0.271305,
           0.019942,
           0.347269
          ],
          "size": 9
         },
         "mode": "markers",
         "name": "deficiency",
         "text": [
          "token: deficiency || tf   : 2.0 || cluster: 3"
         ],
         "type": "scatter",
         "x": [
          8.401601791381836
         ],
         "y": [
          4.922112941741943
         ]
        },
        {
         "line": {
          "color": "DarkSlateGrey",
          "width": 2
         },
         "marker": {
          "color": [
           0.272594,
           0.025563,
           0.353093
          ],
          "size": 9
         },
         "mode": "markers",
         "name": "the",
         "text": [
          "token: the || tf   : 32.0 || cluster: 4"
         ],
         "type": "scatter",
         "x": [
          7.362685203552246
         ],
         "y": [
          4.027121543884277
         ]
        },
        {
         "line": {
          "color": "DarkSlateGrey",
          "width": 2
         },
         "marker": {
          "color": [
           0.272594,
           0.025563,
           0.353093
          ],
          "size": 9
         },
         "mode": "markers",
         "name": "clinical",
         "text": [
          "token: clinical || tf   : 2.0 || cluster: 4"
         ],
         "type": "scatter",
         "x": [
          7.466738700866699
         ],
         "y": [
          4.062795162200928
         ]
        },
        {
         "line": {
          "color": "DarkSlateGrey",
          "width": 2
         },
         "marker": {
          "color": [
           0.272594,
           0.025563,
           0.353093
          ],
          "size": 9
         },
         "mode": "markers",
         "name": "spectrum",
         "text": [
          "token: spectrum || tf   : 1.0 || cluster: 4"
         ],
         "type": "scatter",
         "x": [
          7.369967937469482
         ],
         "y": [
          4.0243706703186035
         ]
        },
        {
         "line": {
          "color": "DarkSlateGrey",
          "width": 2
         },
         "marker": {
          "color": [
           0.272594,
           0.025563,
           0.353093
          ],
          "size": 9
         },
         "mode": "markers",
         "name": "may",
         "text": [
          "token: may || tf   : 2.0 || cluster: 4"
         ],
         "type": "scatter",
         "x": [
          7.339272975921631
         ],
         "y": [
          4.070198059082031
         ]
        },
        {
         "line": {
          "color": "DarkSlateGrey",
          "width": 2
         },
         "marker": {
          "color": [
           0.272594,
           0.025563,
           0.353093
          ],
          "size": 9
         },
         "mode": "markers",
         "name": "vary",
         "text": [
          "token: vary || tf   : 1.0 || cluster: 4"
         ],
         "type": "scatter",
         "x": [
          7.366093158721924
         ],
         "y": [
          3.9961097240448
         ]
        },
        {
         "line": {
          "color": "DarkSlateGrey",
          "width": 2
         },
         "marker": {
          "color": [
           0.272594,
           0.025563,
           0.353093
          ],
          "size": 9
         },
         "mode": "markers",
         "name": "from",
         "text": [
          "token: from || tf   : 2.0 || cluster: 4"
         ],
         "type": "scatter",
         "x": [
          7.423103332519531
         ],
         "y": [
          4.02607536315918
         ]
        },
        {
         "line": {
          "color": "DarkSlateGrey",
          "width": 2
         },
         "marker": {
          "color": [
           0.272594,
           0.025563,
           0.353093
          ],
          "size": 9
         },
         "mode": "markers",
         "name": "mild",
         "text": [
          "token: mild || tf   : 1.0 || cluster: 4"
         ],
         "type": "scatter",
         "x": [
          7.411577224731445
         ],
         "y": [
          4.119089126586914
         ]
        },
        {
         "line": {
          "color": "DarkSlateGrey",
          "width": 2
         },
         "marker": {
          "color": [
           0.272594,
           0.025563,
           0.353093
          ],
          "size": 9
         },
         "mode": "markers",
         "name": "form",
         "text": [
          "token: form || tf   : 1.0 || cluster: 4"
         ],
         "type": "scatter",
         "x": [
          7.471009254455566
         ],
         "y": [
          4.209605693817139
         ]
        },
        {
         "line": {
          "color": "DarkSlateGrey",
          "width": 2
         },
         "marker": {
          "color": [
           0.272594,
           0.025563,
           0.353093
          ],
          "size": 9
         },
         "mode": "markers",
         "name": "non",
         "text": [
          "token: non || tf   : 3.0 || cluster: 4"
         ],
         "type": "scatter",
         "x": [
          7.4083709716796875
         ],
         "y": [
          4.183470249176025
         ]
        },
        {
         "line": {
          "color": "DarkSlateGrey",
          "width": 2
         },
         "marker": {
          "color": [
           0.272594,
           0.025563,
           0.353093
          ],
          "size": 9
         },
         "mode": "markers",
         "name": "classical",
         "text": [
          "token: classical || tf   : 3.0 || cluster: 4"
         ],
         "type": "scatter",
         "x": [
          7.316405296325684
         ],
         "y": [
          4.233579635620117
         ]
        },
        {
         "line": {
          "color": "DarkSlateGrey",
          "width": 2
         },
         "marker": {
          "color": [
           0.272594,
           0.025563,
           0.353093
          ],
          "size": 9
         },
         "mode": "markers",
         "name": "##h",
         "text": [
          "token: ##h || tf   : 17.0 || cluster: 4"
         ],
         "type": "scatter",
         "x": [
          7.368614196777344
         ],
         "y": [
          4.286261558532715
         ]
        },
        {
         "line": {
          "color": "DarkSlateGrey",
          "width": 2
         },
         "marker": {
          "color": [
           0.272594,
           0.025563,
           0.353093
          ],
          "size": 9
         },
         "mode": "markers",
         "name": "classic",
         "text": [
          "token: classic || tf   : 5.0 || cluster: 4"
         ],
         "type": "scatter",
         "x": [
          7.314312934875488
         ],
         "y": [
          4.246525287628174
         ]
        },
        {
         "line": {
          "color": "DarkSlateGrey",
          "width": 2
         },
         "marker": {
          "color": [
           0.272594,
           0.025563,
           0.353093
          ],
          "size": 9
         },
         "mode": "markers",
         "name": "##h",
         "text": [
          "token: ##h || tf   : 17.0 || cluster: 4"
         ],
         "type": "scatter",
         "x": [
          7.3032121658325195
         ],
         "y": [
          4.305401802062988
         ]
        },
        {
         "line": {
          "color": "DarkSlateGrey",
          "width": 2
         },
         "marker": {
          "color": [
           0.272594,
           0.025563,
           0.353093
          ],
          "size": 9
         },
         "mode": "markers",
         "name": "however",
         "text": [
          "token: however || tf   : 3.0 || cluster: 4"
         ],
         "type": "scatter",
         "x": [
          6.753631591796875
         ],
         "y": [
          4.151331424713135
         ]
        },
        {
         "line": {
          "color": "DarkSlateGrey",
          "width": 2
         },
         "marker": {
          "color": [
           0.272594,
           0.025563,
           0.353093
          ],
          "size": 9
         },
         "mode": "markers",
         "name": "the",
         "text": [
          "token: the || tf   : 32.0 || cluster: 4"
         ],
         "type": "scatter",
         "x": [
          6.89257287979126
         ],
         "y": [
          4.286370277404785
         ]
        },
        {
         "line": {
          "color": "DarkSlateGrey",
          "width": 2
         },
         "marker": {
          "color": [
           0.272594,
           0.025563,
           0.353093
          ],
          "size": 9
         },
         "mode": "markers",
         "name": "non",
         "text": [
          "token: non || tf   : 3.0 || cluster: 4"
         ],
         "type": "scatter",
         "x": [
          7.000618934631348
         ],
         "y": [
          4.340325355529785
         ]
        },
        {
         "line": {
          "color": "DarkSlateGrey",
          "width": 2
         },
         "marker": {
          "color": [
           0.272594,
           0.025563,
           0.353093
          ],
          "size": 9
         },
         "mode": "markers",
         "name": "classical",
         "text": [
          "token: classical || tf   : 3.0 || cluster: 4"
         ],
         "type": "scatter",
         "x": [
          7.210762023925781
         ],
         "y": [
          4.281949996948242
         ]
        },
        {
         "line": {
          "color": "DarkSlateGrey",
          "width": 2
         },
         "marker": {
          "color": [
           0.272594,
           0.025563,
           0.353093
          ],
          "size": 9
         },
         "mode": "markers",
         "name": "##h",
         "text": [
          "token: ##h || tf   : 17.0 || cluster: 4"
         ],
         "type": "scatter",
         "x": [
          7.16428279876709
         ],
         "y": [
          4.301285266876221
         ]
        },
        {
         "line": {
          "color": "DarkSlateGrey",
          "width": 2
         },
         "marker": {
          "color": [
           0.272594,
           0.025563,
           0.353093
          ],
          "size": 9
         },
         "mode": "markers",
         "name": "variant",
         "text": [
          "token: variant || tf   : 1.0 || cluster: 4"
         ],
         "type": "scatter",
         "x": [
          7.0158467292785645
         ],
         "y": [
          4.304250717163086
         ]
        },
        {
         "line": {
          "color": "DarkSlateGrey",
          "width": 2
         },
         "marker": {
          "color": [
           0.272594,
           0.025563,
           0.353093
          ],
          "size": 9
         },
         "mode": "markers",
         "name": "more",
         "text": [
          "token: more || tf   : 1.0 || cluster: 4"
         ],
         "type": "scatter",
         "x": [
          6.879461765289307
         ],
         "y": [
          4.215968132019043
         ]
        },
        {
         "line": {
          "color": "DarkSlateGrey",
          "width": 2
         },
         "marker": {
          "color": [
           0.272594,
           0.025563,
           0.353093
          ],
          "size": 9
         },
         "mode": "markers",
         "name": "common",
         "text": [
          "token: common || tf   : 2.0 || cluster: 4"
         ],
         "type": "scatter",
         "x": [
          6.925983428955078
         ],
         "y": [
          4.249258518218994
         ]
        },
        {
         "line": {
          "color": "DarkSlateGrey",
          "width": 2
         },
         "marker": {
          "color": [
           0.272594,
           0.025563,
           0.353093
          ],
          "size": 9
         },
         "mode": "markers",
         "name": "with",
         "text": [
          "token: with || tf   : 23.0 || cluster: 4"
         ],
         "type": "scatter",
         "x": [
          6.8640360832214355
         ],
         "y": [
          4.168321132659912
         ]
        },
        {
         "line": {
          "color": "DarkSlateGrey",
          "width": 2
         },
         "marker": {
          "color": [
           0.272594,
           0.025563,
           0.353093
          ],
          "size": 9
         },
         "mode": "markers",
         "name": "prevalence",
         "text": [
          "token: prevalence || tf   : 1.0 || cluster: 4"
         ],
         "type": "scatter",
         "x": [
          7.008988857269287
         ],
         "y": [
          4.133816242218018
         ]
        },
        {
         "line": {
          "color": "DarkSlateGrey",
          "width": 2
         },
         "marker": {
          "color": [
           0.272594,
           0.025563,
           0.353093
          ],
          "size": 9
         },
         "mode": "markers",
         "name": "rate",
         "text": [
          "token: rate || tf   : 1.0 || cluster: 4"
         ],
         "type": "scatter",
         "x": [
          7.003541946411133
         ],
         "y": [
          4.102074146270752
         ]
        },
        {
         "line": {
          "color": "DarkSlateGrey",
          "width": 2
         },
         "marker": {
          "color": [
           0.272594,
           0.025563,
           0.353093
          ],
          "size": 9
         },
         "mode": "markers",
         "name": "1000",
         "text": [
          "token: 1000 || tf   : 1.0 || cluster: 4"
         ],
         "type": "scatter",
         "x": [
          6.950827121734619
         ],
         "y": [
          4.165656566619873
         ]
        },
        {
         "line": {
          "color": "DarkSlateGrey",
          "width": 2
         },
         "marker": {
          "color": [
           0.272594,
           0.025563,
           0.353093
          ],
          "size": 9
         },
         "mode": "markers",
         "name": "also",
         "text": [
          "token: also || tf   : 4.0 || cluster: 4"
         ],
         "type": "scatter",
         "x": [
          6.7588067054748535
         ],
         "y": [
          4.499831199645996
         ]
        },
        {
         "line": {
          "color": "DarkSlateGrey",
          "width": 2
         },
         "marker": {
          "color": [
           0.272594,
           0.025563,
           0.353093
          ],
          "size": 9
         },
         "mode": "markers",
         "name": "helps",
         "text": [
          "token: helps || tf   : 1.0 || cluster: 4"
         ],
         "type": "scatter",
         "x": [
          6.85980749130249
         ],
         "y": [
          4.686304092407227
         ]
        },
        {
         "line": {
          "color": "DarkSlateGrey",
          "width": 2
         },
         "marker": {
          "color": [
           0.272594,
           0.025563,
           0.353093
          ],
          "size": 9
         },
         "mode": "markers",
         "name": "maintaining",
         "text": [
          "token: maintaining || tf   : 1.0 || cluster: 4"
         ],
         "type": "scatter",
         "x": [
          6.89759635925293
         ],
         "y": [
          5.03834867477417
         ]
        },
        {
         "line": {
          "color": "DarkSlateGrey",
          "width": 2
         },
         "marker": {
          "color": [
           0.993248,
           0.906157,
           0.143936
          ],
          "size": 9
         },
         "mode": "markers",
         "name": "normal",
         "text": [
          "token: normal || tf   : 2.0 || cluster: -1"
         ],
         "type": "scatter",
         "x": [
          7.083268165588379
         ],
         "y": [
          5.0954766273498535
         ]
        },
        {
         "line": {
          "color": "DarkSlateGrey",
          "width": 2
         },
         "marker": {
          "color": [
           0.271305,
           0.019942,
           0.347269
          ],
          "size": 9
         },
         "mode": "markers",
         "name": "levels",
         "text": [
          "token: levels || tf   : 6.0 || cluster: 3"
         ],
         "type": "scatter",
         "x": [
          7.265714168548584
         ],
         "y": [
          5.080289840698242
         ]
        },
        {
         "line": {
          "color": "DarkSlateGrey",
          "width": 2
         },
         "marker": {
          "color": [
           0.271305,
           0.019942,
           0.347269
          ],
          "size": 9
         },
         "mode": "markers",
         "name": "precursor",
         "text": [
          "token: precursor || tf   : 2.0 || cluster: 3"
         ],
         "type": "scatter",
         "x": [
          7.715083599090576
         ],
         "y": [
          5.208531856536865
         ]
        },
        {
         "line": {
          "color": "DarkSlateGrey",
          "width": 2
         },
         "marker": {
          "color": [
           0.271305,
           0.019942,
           0.347269
          ],
          "size": 9
         },
         "mode": "markers",
         "name": "##s",
         "text": [
          "token: ##s || tf   : 5.0 || cluster: 3"
         ],
         "type": "scatter",
         "x": [
          7.690481662750244
         ],
         "y": [
          5.153014659881592
         ]
        },
        {
         "line": {
          "color": "DarkSlateGrey",
          "width": 2
         },
         "marker": {
          "color": [
           0.272594,
           0.025563,
           0.353093
          ],
          "size": 9
         },
         "mode": "markers",
         "name": "suppress",
         "text": [
          "token: suppress || tf   : 1.0 || cluster: 4"
         ],
         "type": "scatter",
         "x": [
          6.947752475738525
         ],
         "y": [
          4.983505725860596
         ]
        },
        {
         "line": {
          "color": "DarkSlateGrey",
          "width": 2
         },
         "marker": {
          "color": [
           0.272594,
           0.025563,
           0.353093
          ],
          "size": 9
         },
         "mode": "markers",
         "name": "##ing",
         "text": [
          "token: ##ing || tf   : 2.0 || cluster: 4"
         ],
         "type": "scatter",
         "x": [
          6.901891708374023
         ],
         "y": [
          5.022428512573242
         ]
        },
        {
         "line": {
          "color": "DarkSlateGrey",
          "width": 2
         },
         "marker": {
          "color": [
           0.263663,
           0.237631,
           0.518762
          ],
          "size": 9
         },
         "mode": "markers",
         "name": "##ren",
         "text": [
          "token: ##ren || tf   : 7.0 || cluster: 45"
         ],
         "type": "scatter",
         "x": [
          1.8666999340057373
         ],
         "y": [
          8.86135196685791
         ]
        },
        {
         "line": {
          "color": "DarkSlateGrey",
          "width": 2
         },
         "marker": {
          "color": [
           0.280267,
           0.073417,
           0.397163
          ],
          "size": 9
         },
         "mode": "markers",
         "name": "##o",
         "text": [
          "token: ##o || tf   : 1.0 || cluster: 12"
         ],
         "type": "scatter",
         "x": [
          3.034907102584839
         ],
         "y": [
          9.936553955078125
         ]
        },
        {
         "line": {
          "color": "DarkSlateGrey",
          "width": 2
         },
         "marker": {
          "color": [
           0.280267,
           0.073417,
           0.397163
          ],
          "size": 9
         },
         "mode": "markers",
         "name": "##rti",
         "text": [
          "token: ##rti || tf   : 1.0 || cluster: 12"
         ],
         "type": "scatter",
         "x": [
          2.904207468032837
         ],
         "y": [
          9.905132293701172
         ]
        },
        {
         "line": {
          "color": "DarkSlateGrey",
          "width": 2
         },
         "marker": {
          "color": [
           0.280267,
           0.073417,
           0.397163
          ],
          "size": 9
         },
         "mode": "markers",
         "name": "##co",
         "text": [
          "token: ##co || tf   : 2.0 || cluster: 12"
         ],
         "type": "scatter",
         "x": [
          2.972630739212036
         ],
         "y": [
          9.93676471710205
         ]
        },
        {
         "line": {
          "color": "DarkSlateGrey",
          "width": 2
         },
         "marker": {
          "color": [
           0.280267,
           0.073417,
           0.397163
          ],
          "size": 9
         },
         "mode": "markers",
         "name": "##op",
         "text": [
          "token: ##op || tf   : 1.0 || cluster: 12"
         ],
         "type": "scatter",
         "x": [
          2.905385732650757
         ],
         "y": [
          9.876821517944336
         ]
        },
        {
         "line": {
          "color": "DarkSlateGrey",
          "width": 2
         },
         "marker": {
          "color": [
           0.280267,
           0.073417,
           0.397163
          ],
          "size": 9
         },
         "mode": "markers",
         "name": "##hic",
         "text": [
          "token: ##hic || tf   : 1.0 || cluster: 12"
         ],
         "type": "scatter",
         "x": [
          3.030036449432373
         ],
         "y": [
          10.027027130126953
         ]
        },
        {
         "line": {
          "color": "DarkSlateGrey",
          "width": 2
         },
         "marker": {
          "color": [
           0.280267,
           0.073417,
           0.397163
          ],
          "size": 9
         },
         "mode": "markers",
         "name": "hormone",
         "text": [
          "token: hormone || tf   : 1.0 || cluster: 12"
         ],
         "type": "scatter",
         "x": [
          3.0309150218963623
         ],
         "y": [
          10.033041954040527
         ]
        },
        {
         "line": {
          "color": "DarkSlateGrey",
          "width": 2
         },
         "marker": {
          "color": [
           0.280267,
           0.073417,
           0.397163
          ],
          "size": 9
         },
         "mode": "markers",
         "name": "act",
         "text": [
          "token: act || tf   : 1.0 || cluster: 12"
         ],
         "type": "scatter",
         "x": [
          3.043210029602051
         ],
         "y": [
          10.023388862609863
         ]
        },
        {
         "line": {
          "color": "DarkSlateGrey",
          "width": 2
         },
         "marker": {
          "color": [
           0.280267,
           0.073417,
           0.397163
          ],
          "size": 9
         },
         "mode": "markers",
         "name": "##h",
         "text": [
          "token: ##h || tf   : 17.0 || cluster: 12"
         ],
         "type": "scatter",
         "x": [
          3.101588249206543
         ],
         "y": [
          10.057037353515625
         ]
        },
        {
         "line": {
          "color": "DarkSlateGrey",
          "width": 2
         },
         "marker": {
          "color": [
           0.279566,
           0.067836,
           0.391917
          ],
          "size": 9
         },
         "mode": "markers",
         "name": "during",
         "text": [
          "token: during || tf   : 2.0 || cluster: 11"
         ],
         "type": "scatter",
         "x": [
          6.076586723327637
         ],
         "y": [
          5.512060165405273
         ]
        },
        {
         "line": {
          "color": "DarkSlateGrey",
          "width": 2
         },
         "marker": {
          "color": [
           0.279566,
           0.067836,
           0.391917
          ],
          "size": 9
         },
         "mode": "markers",
         "name": "childhood",
         "text": [
          "token: childhood || tf   : 1.0 || cluster: 11"
         ],
         "type": "scatter",
         "x": [
          6.0264716148376465
         ],
         "y": [
          5.7688822746276855
         ]
        },
        {
         "line": {
          "color": "DarkSlateGrey",
          "width": 2
         },
         "marker": {
          "color": [
           0.993248,
           0.906157,
           0.143936
          ],
          "size": 9
         },
         "mode": "markers",
         "name": "the",
         "text": [
          "token: the || tf   : 32.0 || cluster: -1"
         ],
         "type": "scatter",
         "x": [
          6.162016868591309
         ],
         "y": [
          5.103071689605713
         ]
        },
        {
         "line": {
          "color": "DarkSlateGrey",
          "width": 2
         },
         "marker": {
          "color": [
           0.279566,
           0.067836,
           0.391917
          ],
          "size": 9
         },
         "mode": "markers",
         "name": "management",
         "text": [
          "token: management || tf   : 1.0 || cluster: 11"
         ],
         "type": "scatter",
         "x": [
          6.202213764190674
         ],
         "y": [
          5.298179626464844
         ]
        },
        {
         "line": {
          "color": "DarkSlateGrey",
          "width": 2
         },
         "marker": {
          "color": [
           0.279566,
           0.067836,
           0.391917
          ],
          "size": 9
         },
         "mode": "markers",
         "name": "largely",
         "text": [
          "token: largely || tf   : 1.0 || cluster: 11"
         ],
         "type": "scatter",
         "x": [
          6.21681547164917
         ],
         "y": [
          5.3042473793029785
         ]
        },
        {
         "line": {
          "color": "DarkSlateGrey",
          "width": 2
         },
         "marker": {
          "color": [
           0.279566,
           0.067836,
           0.391917
          ],
          "size": 9
         },
         "mode": "markers",
         "name": "focused",
         "text": [
          "token: focused || tf   : 1.0 || cluster: 11"
         ],
         "type": "scatter",
         "x": [
          6.191422939300537
         ],
         "y": [
          5.342288017272949
         ]
        },
        {
         "line": {
          "color": "DarkSlateGrey",
          "width": 2
         },
         "marker": {
          "color": [
           0.279566,
           0.067836,
           0.391917
          ],
          "size": 9
         },
         "mode": "markers",
         "name": "achieving",
         "text": [
          "token: achieving || tf   : 1.0 || cluster: 11"
         ],
         "type": "scatter",
         "x": [
          6.076337814331055
         ],
         "y": [
          5.525957107543945
         ]
        },
        {
         "line": {
          "color": "DarkSlateGrey",
          "width": 2
         },
         "marker": {
          "color": [
           0.279566,
           0.067836,
           0.391917
          ],
          "size": 9
         },
         "mode": "markers",
         "name": "normal",
         "text": [
          "token: normal || tf   : 2.0 || cluster: 11"
         ],
         "type": "scatter",
         "x": [
          6.076972484588623
         ],
         "y": [
          5.548486709594727
         ]
        },
        {
         "line": {
          "color": "DarkSlateGrey",
          "width": 2
         },
         "marker": {
          "color": [
           0.279566,
           0.067836,
           0.391917
          ],
          "size": 9
         },
         "mode": "markers",
         "name": "growth",
         "text": [
          "token: growth || tf   : 1.0 || cluster: 11"
         ],
         "type": "scatter",
         "x": [
          5.94020938873291
         ],
         "y": [
          5.70509147644043
         ]
        },
        {
         "line": {
          "color": "DarkSlateGrey",
          "width": 2
         },
         "marker": {
          "color": [
           0.279566,
           0.067836,
           0.391917
          ],
          "size": 9
         },
         "mode": "markers",
         "name": "and",
         "text": [
          "token: and || tf   : 26.0 || cluster: 11"
         ],
         "type": "scatter",
         "x": [
          5.946858882904053
         ],
         "y": [
          5.466981410980225
         ]
        },
        {
         "line": {
          "color": "DarkSlateGrey",
          "width": 2
         },
         "marker": {
          "color": [
           0.279566,
           0.067836,
           0.391917
          ],
          "size": 9
         },
         "mode": "markers",
         "name": "attaining",
         "text": [
          "token: attaining || tf   : 1.0 || cluster: 11"
         ],
         "type": "scatter",
         "x": [
          5.955331325531006
         ],
         "y": [
          5.502514362335205
         ]
        },
        {
         "line": {
          "color": "DarkSlateGrey",
          "width": 2
         },
         "marker": {
          "color": [
           0.279566,
           0.067836,
           0.391917
          ],
          "size": 9
         },
         "mode": "markers",
         "name": "appropriate",
         "text": [
          "token: appropriate || tf   : 3.0 || cluster: 11"
         ],
         "type": "scatter",
         "x": [
          6.050325870513916
         ],
         "y": [
          5.6183576583862305
         ]
        },
        {
         "line": {
          "color": "DarkSlateGrey",
          "width": 2
         },
         "marker": {
          "color": [
           0.279566,
           0.067836,
           0.391917
          ],
          "size": 9
         },
         "mode": "markers",
         "name": "final",
         "text": [
          "token: final || tf   : 4.0 || cluster: 11"
         ],
         "type": "scatter",
         "x": [
          5.921938896179199
         ],
         "y": [
          5.705263137817383
         ]
        },
        {
         "line": {
          "color": "DarkSlateGrey",
          "width": 2
         },
         "marker": {
          "color": [
           0.279566,
           0.067836,
           0.391917
          ],
          "size": 9
         },
         "mode": "markers",
         "name": "adult",
         "text": [
          "token: adult || tf   : 8.0 || cluster: 11"
         ],
         "type": "scatter",
         "x": [
          5.9143290519714355
         ],
         "y": [
          5.767197608947754
         ]
        },
        {
         "line": {
          "color": "DarkSlateGrey",
          "width": 2
         },
         "marker": {
          "color": [
           0.279566,
           0.067836,
           0.391917
          ],
          "size": 9
         },
         "mode": "markers",
         "name": "height",
         "text": [
          "token: height || tf   : 7.0 || cluster: 11"
         ],
         "type": "scatter",
         "x": [
          5.856093883514404
         ],
         "y": [
          5.823882102966309
         ]
        },
        {
         "line": {
          "color": "DarkSlateGrey",
          "width": 2
         },
         "marker": {
          "color": [
           0.277018,
           0.050344,
           0.375715
          ],
          "size": 9
         },
         "mode": "markers",
         "name": "johns",
         "text": [
          "token: johns || tf   : 1.0 || cluster: 8"
         ],
         "type": "scatter",
         "x": [
          0.4219338595867157
         ],
         "y": [
          2.954249858856201
         ]
        },
        {
         "line": {
          "color": "DarkSlateGrey",
          "width": 2
         },
         "marker": {
          "color": [
           0.277018,
           0.050344,
           0.375715
          ],
          "size": 9
         },
         "mode": "markers",
         "name": "medical",
         "text": [
          "token: medical || tf   : 3.0 || cluster: 8"
         ],
         "type": "scatter",
         "x": [
          0.4413733184337616
         ],
         "y": [
          2.927778959274292
         ]
        },
        {
         "line": {
          "color": "DarkSlateGrey",
          "width": 2
         },
         "marker": {
          "color": [
           0.277018,
           0.050344,
           0.375715
          ],
          "size": 9
         },
         "mode": "markers",
         "name": "college",
         "text": [
          "token: college || tf   : 1.0 || cluster: 8"
         ],
         "type": "scatter",
         "x": [
          0.45218798518180847
         ],
         "y": [
          2.958456516265869
         ]
        },
        {
         "line": {
          "color": "DarkSlateGrey",
          "width": 2
         },
         "marker": {
          "color": [
           0.277018,
           0.050344,
           0.375715
          ],
          "size": 9
         },
         "mode": "markers",
         "name": "hospital",
         "text": [
          "token: hospital || tf   : 1.0 || cluster: 8"
         ],
         "type": "scatter",
         "x": [
          0.4608260691165924
         ],
         "y": [
          3.01289701461792
         ]
        },
        {
         "line": {
          "color": "DarkSlateGrey",
          "width": 2
         },
         "marker": {
          "color": [
           0.277018,
           0.050344,
           0.375715
          ],
          "size": 9
         },
         "mode": "markers",
         "name": "bangalore",
         "text": [
          "token: bangalore || tf   : 1.0 || cluster: 8"
         ],
         "type": "scatter",
         "x": [
          0.4231325387954712
         ],
         "y": [
          2.947913408279419
         ]
        },
        {
         "line": {
          "color": "DarkSlateGrey",
          "width": 2
         },
         "marker": {
          "color": [
           0.277018,
           0.050344,
           0.375715
          ],
          "size": 9
         },
         "mode": "markers",
         "name": "the",
         "text": [
          "token: the || tf   : 32.0 || cluster: 8"
         ],
         "type": "scatter",
         "x": [
          0.7104548811912537
         ],
         "y": [
          2.778470993041992
         ]
        },
        {
         "line": {
          "color": "DarkSlateGrey",
          "width": 2
         },
         "marker": {
          "color": [
           0.277018,
           0.050344,
           0.375715
          ],
          "size": 9
         },
         "mode": "markers",
         "name": "department",
         "text": [
          "token: department || tf   : 1.0 || cluster: 8"
         ],
         "type": "scatter",
         "x": [
          0.43276703357696533
         ],
         "y": [
          2.826916456222534
         ]
        },
        {
         "line": {
          "color": "DarkSlateGrey",
          "width": 2
         },
         "marker": {
          "color": [
           0.277018,
           0.050344,
           0.375715
          ],
          "size": 9
         },
         "mode": "markers",
         "name": "end",
         "text": [
          "token: end || tf   : 1.0 || cluster: 8"
         ],
         "type": "scatter",
         "x": [
          0.4584398865699768
         ],
         "y": [
          2.783451795578003
         ]
        },
        {
         "line": {
          "color": "DarkSlateGrey",
          "width": 2
         },
         "marker": {
          "color": [
           0.277018,
           0.050344,
           0.375715
          ],
          "size": 9
         },
         "mode": "markers",
         "name": "##oc",
         "text": [
          "token: ##oc || tf   : 1.0 || cluster: 8"
         ],
         "type": "scatter",
         "x": [
          0.4579791724681854
         ],
         "y": [
          2.7135791778564453
         ]
        },
        {
         "line": {
          "color": "DarkSlateGrey",
          "width": 2
         },
         "marker": {
          "color": [
           0.277018,
           0.050344,
           0.375715
          ],
          "size": 9
         },
         "mode": "markers",
         "name": "##rino",
         "text": [
          "token: ##rino || tf   : 1.0 || cluster: 8"
         ],
         "type": "scatter",
         "x": [
          0.3989897072315216
         ],
         "y": [
          2.7742295265197754
         ]
        },
        {
         "line": {
          "color": "DarkSlateGrey",
          "width": 2
         },
         "marker": {
          "color": [
           0.277018,
           0.050344,
           0.375715
          ],
          "size": 9
         },
         "mode": "markers",
         "name": "##logy",
         "text": [
          "token: ##logy || tf   : 1.0 || cluster: 8"
         ],
         "type": "scatter",
         "x": [
          0.377968966960907
         ],
         "y": [
          2.8475723266601562
         ]
        },
        {
         "line": {
          "color": "DarkSlateGrey",
          "width": 2
         },
         "marker": {
          "color": [
           0.993248,
           0.906157,
           0.143936
          ],
          "size": 9
         },
         "mode": "markers",
         "name": "patients",
         "text": [
          "token: patients || tf   : 25.0 || cluster: -1"
         ],
         "type": "scatter",
         "x": [
          1.700137972831726
         ],
         "y": [
          3.9476728439331055
         ]
        },
        {
         "line": {
          "color": "DarkSlateGrey",
          "width": 2
         },
         "marker": {
          "color": [
           0.993248,
           0.906157,
           0.143936
          ],
          "size": 9
         },
         "mode": "markers",
         "name": "diagnosed",
         "text": [
          "token: diagnosed || tf   : 1.0 || cluster: -1"
         ],
         "type": "scatter",
         "x": [
          1.6349313259124756
         ],
         "y": [
          4.000429630279541
         ]
        },
        {
         "line": {
          "color": "DarkSlateGrey",
          "width": 2
         },
         "marker": {
          "color": [
           0.273809,
           0.031497,
           0.358853
          ],
          "size": 9
         },
         "mode": "markers",
         "name": "have",
         "text": [
          "token: have || tf   : 1.0 || cluster: 5"
         ],
         "type": "scatter",
         "x": [
          5.55628776550293
         ],
         "y": [
          6.792153835296631
         ]
        },
        {
         "line": {
          "color": "DarkSlateGrey",
          "width": 2
         },
         "marker": {
          "color": [
           0.26851,
           0.009605,
           0.335427
          ],
          "size": 9
         },
         "mode": "markers",
         "name": "##h",
         "text": [
          "token: ##h || tf   : 17.0 || cluster: 1"
         ],
         "type": "scatter",
         "x": [
          3.8444173336029053
         ],
         "y": [
          10.670478820800781
         ]
        },
        {
         "line": {
          "color": "DarkSlateGrey",
          "width": 2
         },
         "marker": {
          "color": [
           0.277941,
           0.056324,
           0.381191
          ],
          "size": 9
         },
         "mode": "markers",
         "name": "and",
         "text": [
          "token: and || tf   : 26.0 || cluster: 9"
         ],
         "type": "scatter",
         "x": [
          1.1150788068771362
         ],
         "y": [
          3.480522632598877
         ]
        },
        {
         "line": {
          "color": "DarkSlateGrey",
          "width": 2
         },
         "marker": {
          "color": [
           0.277941,
           0.056324,
           0.381191
          ],
          "size": 9
         },
         "mode": "markers",
         "name": "seen",
         "text": [
          "token: seen || tf   : 3.0 || cluster: 9"
         ],
         "type": "scatter",
         "x": [
          1.0492371320724487
         ],
         "y": [
          3.466794729232788
         ]
        },
        {
         "line": {
          "color": "DarkSlateGrey",
          "width": 2
         },
         "marker": {
          "color": [
           0.277941,
           0.056324,
           0.381191
          ],
          "size": 9
         },
         "mode": "markers",
         "name": "the",
         "text": [
          "token: the || tf   : 32.0 || cluster: 9"
         ],
         "type": "scatter",
         "x": [
          0.9075920581817627
         ],
         "y": [
          3.1427698135375977
         ]
        },
        {
         "line": {
          "color": "DarkSlateGrey",
          "width": 2
         },
         "marker": {
          "color": [
           0.277941,
           0.056324,
           0.381191
          ],
          "size": 9
         },
         "mode": "markers",
         "name": "out",
         "text": [
          "token: out || tf   : 1.0 || cluster: 9"
         ],
         "type": "scatter",
         "x": [
          0.8727773427963257
         ],
         "y": [
          3.335306406021118
         ]
        },
        {
         "line": {
          "color": "DarkSlateGrey",
          "width": 2
         },
         "marker": {
          "color": [
           0.277941,
           0.056324,
           0.381191
          ],
          "size": 9
         },
         "mode": "markers",
         "name": "##patient",
         "text": [
          "token: ##patient || tf   : 1.0 || cluster: 9"
         ],
         "type": "scatter",
         "x": [
          0.8338928818702698
         ],
         "y": [
          3.383662462234497
         ]
        },
        {
         "line": {
          "color": "DarkSlateGrey",
          "width": 2
         },
         "marker": {
          "color": [
           0.277941,
           0.056324,
           0.381191
          ],
          "size": 9
         },
         "mode": "markers",
         "name": "clinic",
         "text": [
          "token: clinic || tf   : 1.0 || cluster: 9"
         ],
         "type": "scatter",
         "x": [
          0.8383239507675171
         ],
         "y": [
          3.353736639022827
         ]
        },
        {
         "line": {
          "color": "DarkSlateGrey",
          "width": 2
         },
         "marker": {
          "color": [
           0.277941,
           0.056324,
           0.381191
          ],
          "size": 9
         },
         "mode": "markers",
         "name": "between",
         "text": [
          "token: between || tf   : 4.0 || cluster: 9"
         ],
         "type": "scatter",
         "x": [
          0.8031297326087952
         ],
         "y": [
          3.4922451972961426
         ]
        },
        {
         "line": {
          "color": "DarkSlateGrey",
          "width": 2
         },
         "marker": {
          "color": [
           0.277941,
           0.056324,
           0.381191
          ],
          "size": 9
         },
         "mode": "markers",
         "name": "january",
         "text": [
          "token: january || tf   : 1.0 || cluster: 9"
         ],
         "type": "scatter",
         "x": [
          0.7514867782592773
         ],
         "y": [
          3.51669979095459
         ]
        },
        {
         "line": {
          "color": "DarkSlateGrey",
          "width": 2
         },
         "marker": {
          "color": [
           0.277941,
           0.056324,
           0.381191
          ],
          "size": 9
         },
         "mode": "markers",
         "name": "2012",
         "text": [
          "token: 2012 || tf   : 2.0 || cluster: 9"
         ],
         "type": "scatter",
         "x": [
          0.6921918392181396
         ],
         "y": [
          3.596141815185547
         ]
        },
        {
         "line": {
          "color": "DarkSlateGrey",
          "width": 2
         },
         "marker": {
          "color": [
           0.277941,
           0.056324,
           0.381191
          ],
          "size": 9
         },
         "mode": "markers",
         "name": "and",
         "text": [
          "token: and || tf   : 26.0 || cluster: 9"
         ],
         "type": "scatter",
         "x": [
          0.7489442229270935
         ],
         "y": [
          3.6091020107269287
         ]
        },
        {
         "line": {
          "color": "DarkSlateGrey",
          "width": 2
         },
         "marker": {
          "color": [
           0.277941,
           0.056324,
           0.381191
          ],
          "size": 9
         },
         "mode": "markers",
         "name": "october",
         "text": [
          "token: october || tf   : 1.0 || cluster: 9"
         ],
         "type": "scatter",
         "x": [
          0.7129994034767151
         ],
         "y": [
          3.588521957397461
         ]
        },
        {
         "line": {
          "color": "DarkSlateGrey",
          "width": 2
         },
         "marker": {
          "color": [
           0.277941,
           0.056324,
           0.381191
          ],
          "size": 9
         },
         "mode": "markers",
         "name": "2012",
         "text": [
          "token: 2012 || tf   : 2.0 || cluster: 9"
         ],
         "type": "scatter",
         "x": [
          0.6175726056098938
         ],
         "y": [
          3.6968536376953125
         ]
        },
        {
         "line": {
          "color": "DarkSlateGrey",
          "width": 2
         },
         "marker": {
          "color": [
           0.993248,
           0.906157,
           0.143936
          ],
          "size": 9
         },
         "mode": "markers",
         "name": "during",
         "text": [
          "token: during || tf   : 2.0 || cluster: -1"
         ],
         "type": "scatter",
         "x": [
          0.5310437679290771
         ],
         "y": [
          4.427474498748779
         ]
        },
        {
         "line": {
          "color": "DarkSlateGrey",
          "width": 2
         },
         "marker": {
          "color": [
           0.993248,
           0.906157,
           0.143936
          ],
          "size": 9
         },
         "mode": "markers",
         "name": "this",
         "text": [
          "token: this || tf   : 3.0 || cluster: -1"
         ],
         "type": "scatter",
         "x": [
          0.5380869507789612
         ],
         "y": [
          4.325002670288086
         ]
        },
        {
         "line": {
          "color": "DarkSlateGrey",
          "width": 2
         },
         "marker": {
          "color": [
           0.993248,
           0.906157,
           0.143936
          ],
          "size": 9
         },
         "mode": "markers",
         "name": "period",
         "text": [
          "token: period || tf   : 4.0 || cluster: -1"
         ],
         "type": "scatter",
         "x": [
          0.5891276597976685
         ],
         "y": [
          4.4222540855407715
         ]
        },
        {
         "line": {
          "color": "DarkSlateGrey",
          "width": 2
         },
         "marker": {
          "color": [
           0.993248,
           0.906157,
           0.143936
          ],
          "size": 9
         },
         "mode": "markers",
         "name": "data",
         "text": [
          "token: data || tf   : 2.0 || cluster: -1"
         ],
         "type": "scatter",
         "x": [
          1.079671025276184
         ],
         "y": [
          5.484454154968262
         ]
        },
        {
         "line": {
          "color": "DarkSlateGrey",
          "width": 2
         },
         "marker": {
          "color": [
           0.993248,
           0.906157,
           0.143936
          ],
          "size": 9
         },
         "mode": "markers",
         "name": "regarding",
         "text": [
          "token: regarding || tf   : 1.0 || cluster: -1"
         ],
         "type": "scatter",
         "x": [
          1.1211367845535278
         ],
         "y": [
          5.593721866607666
         ]
        },
        {
         "line": {
          "color": "DarkSlateGrey",
          "width": 2
         },
         "marker": {
          "color": [
           0.993248,
           0.906157,
           0.143936
          ],
          "size": 9
         },
         "mode": "markers",
         "name": "demo",
         "text": [
          "token: demo || tf   : 1.0 || cluster: -1"
         ],
         "type": "scatter",
         "x": [
          1.2293676137924194
         ],
         "y": [
          5.789977550506592
         ]
        },
        {
         "line": {
          "color": "DarkSlateGrey",
          "width": 2
         },
         "marker": {
          "color": [
           0.993248,
           0.906157,
           0.143936
          ],
          "size": 9
         },
         "mode": "markers",
         "name": "##graphy",
         "text": [
          "token: ##graphy || tf   : 1.0 || cluster: -1"
         ],
         "type": "scatter",
         "x": [
          1.1623482704162598
         ],
         "y": [
          5.723020076751709
         ]
        },
        {
         "line": {
          "color": "DarkSlateGrey",
          "width": 2
         },
         "marker": {
          "color": [
           0.993248,
           0.906157,
           0.143936
          ],
          "size": 9
         },
         "mode": "markers",
         "name": "clinical",
         "text": [
          "token: clinical || tf   : 2.0 || cluster: -1"
         ],
         "type": "scatter",
         "x": [
          1.5314147472381592
         ],
         "y": [
          6.0303826332092285
         ]
        },
        {
         "line": {
          "color": "DarkSlateGrey",
          "width": 2
         },
         "marker": {
          "color": [
           0.993248,
           0.906157,
           0.143936
          ],
          "size": 9
         },
         "mode": "markers",
         "name": "presentation",
         "text": [
          "token: presentation || tf   : 3.0 || cluster: -1"
         ],
         "type": "scatter",
         "x": [
          1.7550512552261353
         ],
         "y": [
          6.088267803192139
         ]
        },
        {
         "line": {
          "color": "DarkSlateGrey",
          "width": 2
         },
         "marker": {
          "color": [
           0.281887,
           0.150881,
           0.465405
          ],
          "size": 9
         },
         "mode": "markers",
         "name": "time",
         "text": [
          "token: time || tf   : 1.0 || cluster: 27"
         ],
         "type": "scatter",
         "x": [
          1.8679536581039429
         ],
         "y": [
          6.606908798217773
         ]
        },
        {
         "line": {
          "color": "DarkSlateGrey",
          "width": 2
         },
         "marker": {
          "color": [
           0.281887,
           0.150881,
           0.465405
          ],
          "size": 9
         },
         "mode": "markers",
         "name": "diagnosis",
         "text": [
          "token: diagnosis || tf   : 2.0 || cluster: 27"
         ],
         "type": "scatter",
         "x": [
          1.7071301937103271
         ],
         "y": [
          6.563255310058594
         ]
        },
        {
         "line": {
          "color": "DarkSlateGrey",
          "width": 2
         },
         "marker": {
          "color": [
           0.281887,
           0.150881,
           0.465405
          ],
          "size": 9
         },
         "mode": "markers",
         "name": "treatment",
         "text": [
          "token: treatment || tf   : 3.0 || cluster: 27"
         ],
         "type": "scatter",
         "x": [
          1.6003811359405518
         ],
         "y": [
          6.570377826690674
         ]
        },
        {
         "line": {
          "color": "DarkSlateGrey",
          "width": 2
         },
         "marker": {
          "color": [
           0.281887,
           0.150881,
           0.465405
          ],
          "size": 9
         },
         "mode": "markers",
         "name": "details",
         "text": [
          "token: details || tf   : 1.0 || cluster: 27"
         ],
         "type": "scatter",
         "x": [
          1.743661642074585
         ],
         "y": [
          6.676370143890381
         ]
        },
        {
         "line": {
          "color": "DarkSlateGrey",
          "width": 2
         },
         "marker": {
          "color": [
           0.281887,
           0.150881,
           0.465405
          ],
          "size": 9
         },
         "mode": "markers",
         "name": "height",
         "text": [
          "token: height || tf   : 7.0 || cluster: 27"
         ],
         "type": "scatter",
         "x": [
          1.784804344177246
         ],
         "y": [
          6.76935338973999
         ]
        },
        {
         "line": {
          "color": "DarkSlateGrey",
          "width": 2
         },
         "marker": {
          "color": [
           0.281887,
           0.150881,
           0.465405
          ],
          "size": 9
         },
         "mode": "markers",
         "name": "##s",
         "text": [
          "token: ##s || tf   : 5.0 || cluster: 27"
         ],
         "type": "scatter",
         "x": [
          1.6318204402923584
         ],
         "y": [
          6.876917839050293
         ]
        },
        {
         "line": {
          "color": "DarkSlateGrey",
          "width": 2
         },
         "marker": {
          "color": [
           0.283072,
           0.130895,
           0.449241
          ],
          "size": 9
         },
         "mode": "markers",
         "name": "and",
         "text": [
          "token: and || tf   : 26.0 || cluster: 23"
         ],
         "type": "scatter",
         "x": [
          5.106838226318359
         ],
         "y": [
          5.212770938873291
         ]
        },
        {
         "line": {
          "color": "DarkSlateGrey",
          "width": 2
         },
         "marker": {
          "color": [
           0.281887,
           0.150881,
           0.465405
          ],
          "size": 9
         },
         "mode": "markers",
         "name": "##mi",
         "text": [
          "token: ##mi || tf   : 2.0 || cluster: 27"
         ],
         "type": "scatter",
         "x": [
          1.6102120876312256
         ],
         "y": [
          6.792486190795898
         ]
        },
        {
         "line": {
          "color": "DarkSlateGrey",
          "width": 2
         },
         "marker": {
          "color": [
           0.993248,
           0.906157,
           0.143936
          ],
          "size": 9
         },
         "mode": "markers",
         "name": "were",
         "text": [
          "token: were || tf   : 17.0 || cluster: -1"
         ],
         "type": "scatter",
         "x": [
          0.8388732075691223
         ],
         "y": [
          5.074989318847656
         ]
        },
        {
         "line": {
          "color": "DarkSlateGrey",
          "width": 2
         },
         "marker": {
          "color": [
           0.993248,
           0.906157,
           0.143936
          ],
          "size": 9
         },
         "mode": "markers",
         "name": "collected",
         "text": [
          "token: collected || tf   : 2.0 || cluster: -1"
         ],
         "type": "scatter",
         "x": [
          0.8468288779258728
         ],
         "y": [
          5.128089427947998
         ]
        },
        {
         "line": {
          "color": "DarkSlateGrey",
          "width": 2
         },
         "marker": {
          "color": [
           0.993248,
           0.906157,
           0.143936
          ],
          "size": 9
         },
         "mode": "markers",
         "name": "all",
         "text": [
          "token: all || tf   : 6.0 || cluster: -1"
         ],
         "type": "scatter",
         "x": [
          0.7734224796295166
         ],
         "y": [
          5.239816665649414
         ]
        },
        {
         "line": {
          "color": "DarkSlateGrey",
          "width": 2
         },
         "marker": {
          "color": [
           0.993248,
           0.906157,
           0.143936
          ],
          "size": 9
         },
         "mode": "markers",
         "name": "patients",
         "text": [
          "token: patients || tf   : 25.0 || cluster: -1"
         ],
         "type": "scatter",
         "x": [
          1.127147912979126
         ],
         "y": [
          5.269165515899658
         ]
        },
        {
         "line": {
          "color": "DarkSlateGrey",
          "width": 2
         },
         "marker": {
          "color": [
           0.993248,
           0.906157,
           0.143936
          ],
          "size": 9
         },
         "mode": "markers",
         "name": "underwent",
         "text": [
          "token: underwent || tf   : 2.0 || cluster: -1"
         ],
         "type": "scatter",
         "x": [
          0.6114169955253601
         ],
         "y": [
          5.308305263519287
         ]
        },
        {
         "line": {
          "color": "DarkSlateGrey",
          "width": 2
         },
         "marker": {
          "color": [
           0.993248,
           0.906157,
           0.143936
          ],
          "size": 9
         },
         "mode": "markers",
         "name": "bio",
         "text": [
          "token: bio || tf   : 2.0 || cluster: -1"
         ],
         "type": "scatter",
         "x": [
          0.6244115829467773
         ],
         "y": [
          5.436180114746094
         ]
        },
        {
         "line": {
          "color": "DarkSlateGrey",
          "width": 2
         },
         "marker": {
          "color": [
           0.993248,
           0.906157,
           0.143936
          ],
          "size": 9
         },
         "mode": "markers",
         "name": "##chemical",
         "text": [
          "token: ##chemical || tf   : 1.0 || cluster: -1"
         ],
         "type": "scatter",
         "x": [
          0.5947908759117126
         ],
         "y": [
          5.388693332672119
         ]
        },
        {
         "line": {
          "color": "DarkSlateGrey",
          "width": 2
         },
         "marker": {
          "color": [
           0.993248,
           0.906157,
           0.143936
          ],
          "size": 9
         },
         "mode": "markers",
         "name": "testing",
         "text": [
          "token: testing || tf   : 1.0 || cluster: -1"
         ],
         "type": "scatter",
         "x": [
          0.48593538999557495
         ],
         "y": [
          5.4220194816589355
         ]
        },
        {
         "line": {
          "color": "DarkSlateGrey",
          "width": 2
         },
         "marker": {
          "color": [
           0.993248,
           0.906157,
           0.143936
          ],
          "size": 9
         },
         "mode": "markers",
         "name": "for",
         "text": [
          "token: for || tf   : 6.0 || cluster: -1"
         ],
         "type": "scatter",
         "x": [
          0.26587414741516113
         ],
         "y": [
          5.351662635803223
         ]
        },
        {
         "line": {
          "color": "DarkSlateGrey",
          "width": 2
         },
         "marker": {
          "color": [
           0.275191,
           0.194905,
           0.496005
          ],
          "size": 9
         },
         "mode": "markers",
         "name": "hydro",
         "text": [
          "token: hydro || tf   : 3.0 || cluster: 36"
         ],
         "type": "scatter",
         "x": [
          1.0510410070419312
         ],
         "y": [
          8.543642044067383
         ]
        },
        {
         "line": {
          "color": "DarkSlateGrey",
          "width": 2
         },
         "marker": {
          "color": [
           0.275191,
           0.194905,
           0.496005
          ],
          "size": 9
         },
         "mode": "markers",
         "name": "##xy",
         "text": [
          "token: ##xy || tf   : 2.0 || cluster: 36"
         ],
         "type": "scatter",
         "x": [
          0.990605890750885
         ],
         "y": [
          8.538178443908691
         ]
        },
        {
         "line": {
          "color": "DarkSlateGrey",
          "width": 2
         },
         "marker": {
          "color": [
           0.275191,
           0.194905,
           0.496005
          ],
          "size": 9
         },
         "mode": "markers",
         "name": "pro",
         "text": [
          "token: pro || tf   : 1.0 || cluster: 36"
         ],
         "type": "scatter",
         "x": [
          1.0465561151504517
         ],
         "y": [
          8.552093505859375
         ]
        },
        {
         "line": {
          "color": "DarkSlateGrey",
          "width": 2
         },
         "marker": {
          "color": [
           0.275191,
           0.194905,
           0.496005
          ],
          "size": 9
         },
         "mode": "markers",
         "name": "##ges",
         "text": [
          "token: ##ges || tf   : 1.0 || cluster: 36"
         ],
         "type": "scatter",
         "x": [
          1.046938419342041
         ],
         "y": [
          8.59653091430664
         ]
        },
        {
         "line": {
          "color": "DarkSlateGrey",
          "width": 2
         },
         "marker": {
          "color": [
           0.275191,
           0.194905,
           0.496005
          ],
          "size": 9
         },
         "mode": "markers",
         "name": "##ter",
         "text": [
          "token: ##ter || tf   : 1.0 || cluster: 36"
         ],
         "type": "scatter",
         "x": [
          1.1165488958358765
         ],
         "y": [
          8.606342315673828
         ]
        },
        {
         "line": {
          "color": "DarkSlateGrey",
          "width": 2
         },
         "marker": {
          "color": [
           0.275191,
           0.194905,
           0.496005
          ],
          "size": 9
         },
         "mode": "markers",
         "name": "##one",
         "text": [
          "token: ##one || tf   : 2.0 || cluster: 36"
         ],
         "type": "scatter",
         "x": [
          0.9743255376815796
         ],
         "y": [
          8.493985176086426
         ]
        },
        {
         "line": {
          "color": "DarkSlateGrey",
          "width": 2
         },
         "marker": {
          "color": [
           0.275191,
           0.194905,
           0.496005
          ],
          "size": 9
         },
         "mode": "markers",
         "name": "##p",
         "text": [
          "token: ##p || tf   : 4.0 || cluster: 36"
         ],
         "type": "scatter",
         "x": [
          0.8956278562545776
         ],
         "y": [
          8.324366569519043
         ]
        },
        {
         "line": {
          "color": "DarkSlateGrey",
          "width": 2
         },
         "marker": {
          "color": [
           0.275191,
           0.194905,
           0.496005
          ],
          "size": 9
         },
         "mode": "markers",
         "name": "levels",
         "text": [
          "token: levels || tf   : 6.0 || cluster: 36"
         ],
         "type": "scatter",
         "x": [
          0.8905757665634155
         ],
         "y": [
          8.307861328125
         ]
        },
        {
         "line": {
          "color": "DarkSlateGrey",
          "width": 2
         },
         "marker": {
          "color": [
           0.993248,
           0.906157,
           0.143936
          ],
          "size": 9
         },
         "mode": "markers",
         "name": "for",
         "text": [
          "token: for || tf   : 6.0 || cluster: -1"
         ],
         "type": "scatter",
         "x": [
          0.15926593542099
         ],
         "y": [
          5.274416923522949
         ]
        },
        {
         "line": {
          "color": "DarkSlateGrey",
          "width": 2
         },
         "marker": {
          "color": [
           0.993248,
           0.906157,
           0.143936
          ],
          "size": 9
         },
         "mode": "markers",
         "name": "assessment",
         "text": [
          "token: assessment || tf   : 2.0 || cluster: -1"
         ],
         "type": "scatter",
         "x": [
          0.2963237464427948
         ],
         "y": [
          5.5324554443359375
         ]
        },
        {
         "line": {
          "color": "DarkSlateGrey",
          "width": 2
         },
         "marker": {
          "color": [
           0.993248,
           0.906157,
           0.143936
          ],
          "size": 9
         },
         "mode": "markers",
         "name": "##e",
         "text": [
          "token: ##e || tf   : 3.0 || cluster: -1"
         ],
         "type": "scatter",
         "x": [
          1.637317180633545
         ],
         "y": [
          7.563168525695801
         ]
        },
        {
         "line": {
          "color": "DarkSlateGrey",
          "width": 2
         },
         "marker": {
          "color": [
           0.993248,
           0.906157,
           0.143936
          ],
          "size": 9
         },
         "mode": "markers",
         "name": "##qua",
         "text": [
          "token: ##qua || tf   : 1.0 || cluster: -1"
         ],
         "type": "scatter",
         "x": [
          1.6487538814544678
         ],
         "y": [
          7.619009017944336
         ]
        },
        {
         "line": {
          "color": "DarkSlateGrey",
          "width": 2
         },
         "marker": {
          "color": [
           0.993248,
           0.906157,
           0.143936
          ],
          "size": 9
         },
         "mode": "markers",
         "name": "##cy",
         "text": [
          "token: ##cy || tf   : 1.0 || cluster: -1"
         ],
         "type": "scatter",
         "x": [
          1.6739997863769531
         ],
         "y": [
          7.521520614624023
         ]
        },
        {
         "line": {
          "color": "DarkSlateGrey",
          "width": 2
         },
         "marker": {
          "color": [
           0.282656,
           0.100196,
           0.42216
          ],
          "size": 9
         },
         "mode": "markers",
         "name": "therapy",
         "text": [
          "token: therapy || tf   : 4.0 || cluster: 17"
         ],
         "type": "scatter",
         "x": [
          1.1423883438110352
         ],
         "y": [
          6.4862565994262695
         ]
        },
        {
         "line": {
          "color": "DarkSlateGrey",
          "width": 2
         },
         "marker": {
          "color": [
           0.282623,
           0.140926,
           0.457517
          ],
          "size": 9
         },
         "mode": "markers",
         "name": "bone",
         "text": [
          "token: bone || tf   : 2.0 || cluster: 25"
         ],
         "type": "scatter",
         "x": [
          -0.21991071105003357
         ],
         "y": [
          5.64694881439209
         ]
        },
        {
         "line": {
          "color": "DarkSlateGrey",
          "width": 2
         },
         "marker": {
          "color": [
           0.282623,
           0.140926,
           0.457517
          ],
          "size": 9
         },
         "mode": "markers",
         "name": "age",
         "text": [
          "token: age || tf   : 4.0 || cluster: 25"
         ],
         "type": "scatter",
         "x": [
          -0.27829158306121826
         ],
         "y": [
          5.640746593475342
         ]
        },
        {
         "line": {
          "color": "DarkSlateGrey",
          "width": 2
         },
         "marker": {
          "color": [
           0.282623,
           0.140926,
           0.457517
          ],
          "size": 9
         },
         "mode": "markers",
         "name": "assessment",
         "text": [
          "token: assessment || tf   : 2.0 || cluster: 25"
         ],
         "type": "scatter",
         "x": [
          -0.23886530101299286
         ],
         "y": [
          5.602980136871338
         ]
        },
        {
         "line": {
          "color": "DarkSlateGrey",
          "width": 2
         },
         "marker": {
          "color": [
           0.282623,
           0.140926,
           0.457517
          ],
          "size": 9
         },
         "mode": "markers",
         "name": "with",
         "text": [
          "token: with || tf   : 23.0 || cluster: 25"
         ],
         "type": "scatter",
         "x": [
          -0.31926214694976807
         ],
         "y": [
          5.485126495361328
         ]
        },
        {
         "line": {
          "color": "DarkSlateGrey",
          "width": 2
         },
         "marker": {
          "color": [
           0.282623,
           0.140926,
           0.457517
          ],
          "size": 9
         },
         "mode": "markers",
         "name": "left",
         "text": [
          "token: left || tf   : 1.0 || cluster: 25"
         ],
         "type": "scatter",
         "x": [
          -0.4059159457683563
         ],
         "y": [
          5.594459056854248
         ]
        },
        {
         "line": {
          "color": "DarkSlateGrey",
          "width": 2
         },
         "marker": {
          "color": [
           0.282623,
           0.140926,
           0.457517
          ],
          "size": 9
         },
         "mode": "markers",
         "name": "hand",
         "text": [
          "token: hand || tf   : 1.0 || cluster: 25"
         ],
         "type": "scatter",
         "x": [
          -0.3303386867046356
         ],
         "y": [
          5.681199550628662
         ]
        },
        {
         "line": {
          "color": "DarkSlateGrey",
          "width": 2
         },
         "marker": {
          "color": [
           0.282623,
           0.140926,
           0.457517
          ],
          "size": 9
         },
         "mode": "markers",
         "name": "and",
         "text": [
          "token: and || tf   : 26.0 || cluster: 25"
         ],
         "type": "scatter",
         "x": [
          -0.3508910834789276
         ],
         "y": [
          5.603960990905762
         ]
        },
        {
         "line": {
          "color": "DarkSlateGrey",
          "width": 2
         },
         "marker": {
          "color": [
           0.282623,
           0.140926,
           0.457517
          ],
          "size": 9
         },
         "mode": "markers",
         "name": "wrist",
         "text": [
          "token: wrist || tf   : 1.0 || cluster: 25"
         ],
         "type": "scatter",
         "x": [
          -0.3038039207458496
         ],
         "y": [
          5.73760986328125
         ]
        },
        {
         "line": {
          "color": "DarkSlateGrey",
          "width": 2
         },
         "marker": {
          "color": [
           0.993248,
           0.906157,
           0.143936
          ],
          "size": 9
         },
         "mode": "markers",
         "name": "##mi",
         "text": [
          "token: ##mi || tf   : 2.0 || cluster: -1"
         ],
         "type": "scatter",
         "x": [
          -0.14566516876220703
         ],
         "y": [
          5.939342021942139
         ]
        },
        {
         "line": {
          "color": "DarkSlateGrey",
          "width": 2
         },
         "marker": {
          "color": [
           0.28229,
           0.145912,
           0.46151
          ],
          "size": 9
         },
         "mode": "markers",
         "name": "was",
         "text": [
          "token: was || tf   : 15.0 || cluster: 26"
         ],
         "type": "scatter",
         "x": [
          0.07755181938409805
         ],
         "y": [
          5.617605686187744
         ]
        },
        {
         "line": {
          "color": "DarkSlateGrey",
          "width": 2
         },
         "marker": {
          "color": [
           0.28229,
           0.145912,
           0.46151
          ],
          "size": 9
         },
         "mode": "markers",
         "name": "calculated",
         "text": [
          "token: calculated || tf   : 1.0 || cluster: 26"
         ],
         "type": "scatter",
         "x": [
          0.011203118599951267
         ],
         "y": [
          5.671074867248535
         ]
        },
        {
         "line": {
          "color": "DarkSlateGrey",
          "width": 2
         },
         "marker": {
          "color": [
           0.993248,
           0.906157,
           0.143936
          ],
          "size": 9
         },
         "mode": "markers",
         "name": "for",
         "text": [
          "token: for || tf   : 6.0 || cluster: -1"
         ],
         "type": "scatter",
         "x": [
          -0.031389545649290085
         ],
         "y": [
          5.397119522094727
         ]
        },
        {
         "line": {
          "color": "DarkSlateGrey",
          "width": 2
         },
         "marker": {
          "color": [
           0.28229,
           0.145912,
           0.46151
          ],
          "size": 9
         },
         "mode": "markers",
         "name": "all",
         "text": [
          "token: all || tf   : 6.0 || cluster: 26"
         ],
         "type": "scatter",
         "x": [
          -0.02038303017616272
         ],
         "y": [
          5.503654479980469
         ]
        },
        {
         "line": {
          "color": "DarkSlateGrey",
          "width": 2
         },
         "marker": {
          "color": [
           0.28229,
           0.145912,
           0.46151
          ],
          "size": 9
         },
         "mode": "markers",
         "name": "patients",
         "text": [
          "token: patients || tf   : 25.0 || cluster: 26"
         ],
         "type": "scatter",
         "x": [
          0.0617508664727211
         ],
         "y": [
          5.652834415435791
         ]
        },
        {
         "line": {
          "color": "DarkSlateGrey",
          "width": 2
         },
         "marker": {
          "color": [
           0.993248,
           0.906157,
           0.143936
          ],
          "size": 9
         },
         "mode": "markers",
         "name": "and",
         "text": [
          "token: and || tf   : 26.0 || cluster: -1"
         ],
         "type": "scatter",
         "x": [
          0.033700618892908096
         ],
         "y": [
          5.359457969665527
         ]
        },
        {
         "line": {
          "color": "DarkSlateGrey",
          "width": 2
         },
         "marker": {
          "color": [
           0.282623,
           0.140926,
           0.457517
          ],
          "size": 9
         },
         "mode": "markers",
         "name": "obesity",
         "text": [
          "token: obesity || tf   : 2.0 || cluster: 25"
         ],
         "type": "scatter",
         "x": [
          -0.1289617121219635
         ],
         "y": [
          5.849011421203613
         ]
        },
        {
         "line": {
          "color": "DarkSlateGrey",
          "width": 2
         },
         "marker": {
          "color": [
           0.28229,
           0.145912,
           0.46151
          ],
          "size": 9
         },
         "mode": "markers",
         "name": "was",
         "text": [
          "token: was || tf   : 15.0 || cluster: 26"
         ],
         "type": "scatter",
         "x": [
          0.11376319080591202
         ],
         "y": [
          5.659520626068115
         ]
        },
        {
         "line": {
          "color": "DarkSlateGrey",
          "width": 2
         },
         "marker": {
          "color": [
           0.28229,
           0.145912,
           0.46151
          ],
          "size": 9
         },
         "mode": "markers",
         "name": "defined",
         "text": [
          "token: defined || tf   : 2.0 || cluster: 26"
         ],
         "type": "scatter",
         "x": [
          0.11979042738676071
         ],
         "y": [
          5.860808849334717
         ]
        },
        {
         "line": {
          "color": "DarkSlateGrey",
          "width": 2
         },
         "marker": {
          "color": [
           0.28229,
           0.145912,
           0.46151
          ],
          "size": 9
         },
         "mode": "markers",
         "name": "using",
         "text": [
          "token: using || tf   : 1.0 || cluster: 26"
         ],
         "type": "scatter",
         "x": [
          0.06483276188373566
         ],
         "y": [
          5.8242340087890625
         ]
        },
        {
         "line": {
          "color": "DarkSlateGrey",
          "width": 2
         },
         "marker": {
          "color": [
           0.28229,
           0.145912,
           0.46151
          ],
          "size": 9
         },
         "mode": "markers",
         "name": "who",
         "text": [
          "token: who || tf   : 4.0 || cluster: 26"
         ],
         "type": "scatter",
         "x": [
          0.004142080433666706
         ],
         "y": [
          5.950738430023193
         ]
        },
        {
         "line": {
          "color": "DarkSlateGrey",
          "width": 2
         },
         "marker": {
          "color": [
           0.993248,
           0.906157,
           0.143936
          ],
          "size": 9
         },
         "mode": "markers",
         "name": "charts",
         "text": [
          "token: charts || tf   : 1.0 || cluster: -1"
         ],
         "type": "scatter",
         "x": [
          -0.003126192605122924
         ],
         "y": [
          6.121843338012695
         ]
        },
        {
         "line": {
          "color": "DarkSlateGrey",
          "width": 2
         },
         "marker": {
          "color": [
           0.282884,
           0.13592,
           0.453427
          ],
          "size": 9
         },
         "mode": "markers",
         "name": "values",
         "text": [
          "token: values || tf   : 3.0 || cluster: 24"
         ],
         "type": "scatter",
         "x": [
          0.04846688359975815
         ],
         "y": [
          6.199368953704834
         ]
        },
        {
         "line": {
          "color": "DarkSlateGrey",
          "width": 2
         },
         "marker": {
          "color": [
           0.282884,
           0.13592,
           0.453427
          ],
          "size": 9
         },
         "mode": "markers",
         "name": "above",
         "text": [
          "token: above || tf   : 2.0 || cluster: 24"
         ],
         "type": "scatter",
         "x": [
          0.16767875850200653
         ],
         "y": [
          6.346160411834717
         ]
        },
        {
         "line": {
          "color": "DarkSlateGrey",
          "width": 2
         },
         "marker": {
          "color": [
           0.993248,
           0.906157,
           0.143936
          ],
          "size": 9
         },
         "mode": "markers",
         "name": "##th",
         "text": [
          "token: ##th || tf   : 1.0 || cluster: -1"
         ],
         "type": "scatter",
         "x": [
          -0.1052796021103859
         ],
         "y": [
          6.315048694610596
         ]
        },
        {
         "line": {
          "color": "DarkSlateGrey",
          "width": 2
         },
         "marker": {
          "color": [
           0.993248,
           0.906157,
           0.143936
          ],
          "size": 9
         },
         "mode": "markers",
         "name": "percent",
         "text": [
          "token: percent || tf   : 1.0 || cluster: -1"
         ],
         "type": "scatter",
         "x": [
          -0.12479062378406525
         ],
         "y": [
          6.318458557128906
         ]
        },
        {
         "line": {
          "color": "DarkSlateGrey",
          "width": 2
         },
         "marker": {
          "color": [
           0.993248,
           0.906157,
           0.143936
          ],
          "size": 9
         },
         "mode": "markers",
         "name": "##ile",
         "text": [
          "token: ##ile || tf   : 1.0 || cluster: -1"
         ],
         "type": "scatter",
         "x": [
          -0.14536452293395996
         ],
         "y": [
          6.327078819274902
         ]
        },
        {
         "line": {
          "color": "DarkSlateGrey",
          "width": 2
         },
         "marker": {
          "color": [
           0.993248,
           0.906157,
           0.143936
          ],
          "size": 9
         },
         "mode": "markers",
         "name": "##p",
         "text": [
          "token: ##p || tf   : 4.0 || cluster: -1"
         ],
         "type": "scatter",
         "x": [
          0.3434923589229584
         ],
         "y": [
          6.84295654296875
         ]
        },
        {
         "line": {
          "color": "DarkSlateGrey",
          "width": 2
         },
         "marker": {
          "color": [
           0.282884,
           0.13592,
           0.453427
          ],
          "size": 9
         },
         "mode": "markers",
         "name": "levels",
         "text": [
          "token: levels || tf   : 6.0 || cluster: 24"
         ],
         "type": "scatter",
         "x": [
          0.35040003061294556
         ],
         "y": [
          6.574450492858887
         ]
        },
        {
         "line": {
          "color": "DarkSlateGrey",
          "width": 2
         },
         "marker": {
          "color": [
           0.282884,
           0.13592,
           0.453427
          ],
          "size": 9
         },
         "mode": "markers",
         "name": "between",
         "text": [
          "token: between || tf   : 4.0 || cluster: 24"
         ],
         "type": "scatter",
         "x": [
          0.32044628262519836
         ],
         "y": [
          6.448232650756836
         ]
        },
        {
         "line": {
          "color": "DarkSlateGrey",
          "width": 2
         },
         "marker": {
          "color": [
           0.282884,
           0.13592,
           0.453427
          ],
          "size": 9
         },
         "mode": "markers",
         "name": "and",
         "text": [
          "token: and || tf   : 26.0 || cluster: 24"
         ],
         "type": "scatter",
         "x": [
          0.37476497888565063
         ],
         "y": [
          6.365506172180176
         ]
        },
        {
         "line": {
          "color": "DarkSlateGrey",
          "width": 2
         },
         "marker": {
          "color": [
           0.993248,
           0.906157,
           0.143936
          ],
          "size": 9
         },
         "mode": "markers",
         "name": "were",
         "text": [
          "token: were || tf   : 17.0 || cluster: -1"
         ],
         "type": "scatter",
         "x": [
          0.7942822575569153
         ],
         "y": [
          5.814361572265625
         ]
        },
        {
         "line": {
          "color": "DarkSlateGrey",
          "width": 2
         },
         "marker": {
          "color": [
           0.282656,
           0.100196,
           0.42216
          ],
          "size": 9
         },
         "mode": "markers",
         "name": "considered",
         "text": [
          "token: considered || tf   : 1.0 || cluster: 17"
         ],
         "type": "scatter",
         "x": [
          0.8000539541244507
         ],
         "y": [
          6.079829692840576
         ]
        },
        {
         "line": {
          "color": "DarkSlateGrey",
          "width": 2
         },
         "marker": {
          "color": [
           0.282656,
           0.100196,
           0.42216
          ],
          "size": 9
         },
         "mode": "markers",
         "name": "appropriate",
         "text": [
          "token: appropriate || tf   : 3.0 || cluster: 17"
         ],
         "type": "scatter",
         "x": [
          0.7997145056724548
         ],
         "y": [
          6.150282859802246
         ]
        },
        {
         "line": {
          "color": "DarkSlateGrey",
          "width": 2
         },
         "marker": {
          "color": [
           0.282884,
           0.13592,
           0.453427
          ],
          "size": 9
         },
         "mode": "markers",
         "name": "values",
         "text": [
          "token: values || tf   : 3.0 || cluster: 24"
         ],
         "type": "scatter",
         "x": [
          0.3137483298778534
         ],
         "y": [
          6.352707862854004
         ]
        },
        {
         "line": {
          "color": "DarkSlateGrey",
          "width": 2
         },
         "marker": {
          "color": [
           0.282884,
           0.13592,
           0.453427
          ],
          "size": 9
         },
         "mode": "markers",
         "name": "below",
         "text": [
          "token: below || tf   : 1.0 || cluster: 24"
         ],
         "type": "scatter",
         "x": [
          0.34573543071746826
         ],
         "y": [
          6.373188018798828
         ]
        },
        {
         "line": {
          "color": "DarkSlateGrey",
          "width": 2
         },
         "marker": {
          "color": [
           0.282656,
           0.100196,
           0.42216
          ],
          "size": 9
         },
         "mode": "markers",
         "name": "suggested",
         "text": [
          "token: suggested || tf   : 2.0 || cluster: 17"
         ],
         "type": "scatter",
         "x": [
          0.7706291079521179
         ],
         "y": [
          6.238191604614258
         ]
        },
        {
         "line": {
          "color": "DarkSlateGrey",
          "width": 2
         },
         "marker": {
          "color": [
           0.282656,
           0.100196,
           0.42216
          ],
          "size": 9
         },
         "mode": "markers",
         "name": "suppression",
         "text": [
          "token: suppression || tf   : 1.0 || cluster: 17"
         ],
         "type": "scatter",
         "x": [
          0.9496752619743347
         ],
         "y": [
          6.320220470428467
         ]
        },
        {
         "line": {
          "color": "DarkSlateGrey",
          "width": 2
         },
         "marker": {
          "color": [
           0.282656,
           0.100196,
           0.42216
          ],
          "size": 9
         },
         "mode": "markers",
         "name": "and",
         "text": [
          "token: and || tf   : 26.0 || cluster: 17"
         ],
         "type": "scatter",
         "x": [
          0.8780242204666138
         ],
         "y": [
          6.319266319274902
         ]
        },
        {
         "line": {
          "color": "DarkSlateGrey",
          "width": 2
         },
         "marker": {
          "color": [
           0.282656,
           0.100196,
           0.42216
          ],
          "size": 9
         },
         "mode": "markers",
         "name": "over",
         "text": [
          "token: over || tf   : 2.0 || cluster: 17"
         ],
         "type": "scatter",
         "x": [
          0.9587318897247314
         ],
         "y": [
          6.329104900360107
         ]
        },
        {
         "line": {
          "color": "DarkSlateGrey",
          "width": 2
         },
         "marker": {
          "color": [
           0.282656,
           0.100196,
           0.42216
          ],
          "size": 9
         },
         "mode": "markers",
         "name": "treatment",
         "text": [
          "token: treatment || tf   : 3.0 || cluster: 17"
         ],
         "type": "scatter",
         "x": [
          1.0186153650283813
         ],
         "y": [
          6.380575180053711
         ]
        },
        {
         "line": {
          "color": "DarkSlateGrey",
          "width": 2
         },
         "marker": {
          "color": [
           0.993248,
           0.906157,
           0.143936
          ],
          "size": 9
         },
         "mode": "markers",
         "name": "and",
         "text": [
          "token: and || tf   : 26.0 || cluster: -1"
         ],
         "type": "scatter",
         "x": [
          0.534662663936615
         ],
         "y": [
          6.035009860992432
         ]
        },
        {
         "line": {
          "color": "DarkSlateGrey",
          "width": 2
         },
         "marker": {
          "color": [
           0.282884,
           0.13592,
           0.453427
          ],
          "size": 9
         },
         "mode": "markers",
         "name": "values",
         "text": [
          "token: values || tf   : 3.0 || cluster: 24"
         ],
         "type": "scatter",
         "x": [
          0.4495590329170227
         ],
         "y": [
          6.323923587799072
         ]
        },
        {
         "line": {
          "color": "DarkSlateGrey",
          "width": 2
         },
         "marker": {
          "color": [
           0.282884,
           0.13592,
           0.453427
          ],
          "size": 9
         },
         "mode": "markers",
         "name": "above",
         "text": [
          "token: above || tf   : 2.0 || cluster: 24"
         ],
         "type": "scatter",
         "x": [
          0.36516472697257996
         ],
         "y": [
          6.398556709289551
         ]
        },
        {
         "line": {
          "color": "DarkSlateGrey",
          "width": 2
         },
         "marker": {
          "color": [
           0.282656,
           0.100196,
           0.42216
          ],
          "size": 9
         },
         "mode": "markers",
         "name": "suggested",
         "text": [
          "token: suggested || tf   : 2.0 || cluster: 17"
         ],
         "type": "scatter",
         "x": [
          0.7740074396133423
         ],
         "y": [
          6.193903923034668
         ]
        },
        {
         "line": {
          "color": "DarkSlateGrey",
          "width": 2
         },
         "marker": {
          "color": [
           0.282656,
           0.100196,
           0.42216
          ],
          "size": 9
         },
         "mode": "markers",
         "name": "under",
         "text": [
          "token: under || tf   : 1.0 || cluster: 17"
         ],
         "type": "scatter",
         "x": [
          0.9746817350387573
         ],
         "y": [
          6.317980766296387
         ]
        },
        {
         "line": {
          "color": "DarkSlateGrey",
          "width": 2
         },
         "marker": {
          "color": [
           0.282656,
           0.100196,
           0.42216
          ],
          "size": 9
         },
         "mode": "markers",
         "name": "treatment",
         "text": [
          "token: treatment || tf   : 3.0 || cluster: 17"
         ],
         "type": "scatter",
         "x": [
          1.1202375888824463
         ],
         "y": [
          6.394040107727051
         ]
        },
        {
         "line": {
          "color": "DarkSlateGrey",
          "width": 2
         },
         "marker": {
          "color": [
           0.280255,
           0.165693,
           0.476498
          ],
          "size": 9
         },
         "mode": "markers",
         "name": "patients",
         "text": [
          "token: patients || tf   : 25.0 || cluster: 30"
         ],
         "type": "scatter",
         "x": [
          1.8081060647964478
         ],
         "y": [
          4.854905605316162
         ]
        },
        {
         "line": {
          "color": "DarkSlateGrey",
          "width": 2
         },
         "marker": {
          "color": [
           0.993248,
           0.906157,
           0.143936
          ],
          "size": 9
         },
         "mode": "markers",
         "name": "were",
         "text": [
          "token: were || tf   : 17.0 || cluster: -1"
         ],
         "type": "scatter",
         "x": [
          2.239095687866211
         ],
         "y": [
          4.853471279144287
         ]
        },
        {
         "line": {
          "color": "DarkSlateGrey",
          "width": 2
         },
         "marker": {
          "color": [
           0.280255,
           0.165693,
           0.476498
          ],
          "size": 9
         },
         "mode": "markers",
         "name": "included",
         "text": [
          "token: included || tf   : 1.0 || cluster: 30"
         ],
         "type": "scatter",
         "x": [
          1.8866313695907593
         ],
         "y": [
          4.893976211547852
         ]
        },
        {
         "line": {
          "color": "DarkSlateGrey",
          "width": 2
         },
         "marker": {
          "color": [
           0.993248,
           0.906157,
           0.143936
          ],
          "size": 9
         },
         "mode": "markers",
         "name": "the",
         "text": [
          "token: the || tf   : 32.0 || cluster: -1"
         ],
         "type": "scatter",
         "x": [
          2.5717082023620605
         ],
         "y": [
          2.1535253524780273
         ]
        },
        {
         "line": {
          "color": "DarkSlateGrey",
          "width": 2
         },
         "marker": {
          "color": [
           0.281924,
           0.089666,
           0.412415
          ],
          "size": 9
         },
         "mode": "markers",
         "name": "study",
         "text": [
          "token: study || tf   : 1.0 || cluster: 15"
         ],
         "type": "scatter",
         "x": [
          2.095121383666992
         ],
         "y": [
          2.6941354274749756
         ]
        },
        {
         "line": {
          "color": "DarkSlateGrey",
          "width": 2
         },
         "marker": {
          "color": [
           0.280894,
           0.078907,
           0.402329
          ],
          "size": 9
         },
         "mode": "markers",
         "name": "which",
         "text": [
          "token: which || tf   : 5.0 || cluster: 13"
         ],
         "type": "scatter",
         "x": [
          0.1875130981206894
         ],
         "y": [
          4.172772407531738
         ]
        },
        {
         "line": {
          "color": "DarkSlateGrey",
          "width": 2
         },
         "marker": {
          "color": [
           0.277134,
           0.185228,
           0.489898
          ],
          "size": 9
         },
         "mode": "markers",
         "name": "were",
         "text": [
          "token: were || tf   : 17.0 || cluster: 34"
         ],
         "type": "scatter",
         "x": [
          1.41383695602417
         ],
         "y": [
          5.125359058380127
         ]
        },
        {
         "line": {
          "color": "DarkSlateGrey",
          "width": 2
         },
         "marker": {
          "color": [
           0.277134,
           0.185228,
           0.489898
          ],
          "size": 9
         },
         "mode": "markers",
         "name": "females",
         "text": [
          "token: females || tf   : 3.0 || cluster: 34"
         ],
         "type": "scatter",
         "x": [
          1.4854040145874023
         ],
         "y": [
          5.04964542388916
         ]
        },
        {
         "line": {
          "color": "DarkSlateGrey",
          "width": 2
         },
         "marker": {
          "color": [
           0.993248,
           0.906157,
           0.143936
          ],
          "size": 9
         },
         "mode": "markers",
         "name": "and",
         "text": [
          "token: and || tf   : 26.0 || cluster: -1"
         ],
         "type": "scatter",
         "x": [
          1.002652645111084
         ],
         "y": [
          4.610900402069092
         ]
        },
        {
         "line": {
          "color": "DarkSlateGrey",
          "width": 2
         },
         "marker": {
          "color": [
           0.277134,
           0.185228,
           0.489898
          ],
          "size": 9
         },
         "mode": "markers",
         "name": "were",
         "text": [
          "token: were || tf   : 17.0 || cluster: 34"
         ],
         "type": "scatter",
         "x": [
          1.4644516706466675
         ],
         "y": [
          5.130892276763916
         ]
        },
        {
         "line": {
          "color": "DarkSlateGrey",
          "width": 2
         },
         "marker": {
          "color": [
           0.277134,
           0.185228,
           0.489898
          ],
          "size": 9
         },
         "mode": "markers",
         "name": "males",
         "text": [
          "token: males || tf   : 2.0 || cluster: 34"
         ],
         "type": "scatter",
         "x": [
          1.4622551202774048
         ],
         "y": [
          5.042708396911621
         ]
        },
        {
         "line": {
          "color": "DarkSlateGrey",
          "width": 2
         },
         "marker": {
          "color": [
           0.281924,
           0.089666,
           0.412415
          ],
          "size": 9
         },
         "mode": "markers",
         "name": "based",
         "text": [
          "token: based || tf   : 1.0 || cluster: 15"
         ],
         "type": "scatter",
         "x": [
          1.9086874723434448
         ],
         "y": [
          2.412552833557129
         ]
        },
        {
         "line": {
          "color": "DarkSlateGrey",
          "width": 2
         },
         "marker": {
          "color": [
           0.993248,
           0.906157,
           0.143936
          ],
          "size": 9
         },
         "mode": "markers",
         "name": "the",
         "text": [
          "token: the || tf   : 32.0 || cluster: -1"
         ],
         "type": "scatter",
         "x": [
          2.158454418182373
         ],
         "y": [
          2.2360477447509766
         ]
        },
        {
         "line": {
          "color": "DarkSlateGrey",
          "width": 2
         },
         "marker": {
          "color": [
           0.281924,
           0.089666,
           0.412415
          ],
          "size": 9
         },
         "mode": "markers",
         "name": "cross",
         "text": [
          "token: cross || tf   : 1.0 || cluster: 15"
         ],
         "type": "scatter",
         "x": [
          1.8909565210342407
         ],
         "y": [
          2.4195008277893066
         ]
        },
        {
         "line": {
          "color": "DarkSlateGrey",
          "width": 2
         },
         "marker": {
          "color": [
           0.281924,
           0.089666,
           0.412415
          ],
          "size": 9
         },
         "mode": "markers",
         "name": "sectional",
         "text": [
          "token: sectional || tf   : 1.0 || cluster: 15"
         ],
         "type": "scatter",
         "x": [
          1.9349862337112427
         ],
         "y": [
          2.416348695755005
         ]
        },
        {
         "line": {
          "color": "DarkSlateGrey",
          "width": 2
         },
         "marker": {
          "color": [
           0.281924,
           0.089666,
           0.412415
          ],
          "size": 9
         },
         "mode": "markers",
         "name": "data",
         "text": [
          "token: data || tf   : 2.0 || cluster: 15"
         ],
         "type": "scatter",
         "x": [
          1.929497480392456
         ],
         "y": [
          2.459773540496826
         ]
        },
        {
         "line": {
          "color": "DarkSlateGrey",
          "width": 2
         },
         "marker": {
          "color": [
           0.281924,
           0.089666,
           0.412415
          ],
          "size": 9
         },
         "mode": "markers",
         "name": "collected",
         "text": [
          "token: collected || tf   : 2.0 || cluster: 15"
         ],
         "type": "scatter",
         "x": [
          1.8628010749816895
         ],
         "y": [
          2.4905660152435303
         ]
        },
        {
         "line": {
          "color": "DarkSlateGrey",
          "width": 2
         },
         "marker": {
          "color": [
           0.277134,
           0.185228,
           0.489898
          ],
          "size": 9
         },
         "mode": "markers",
         "name": "patients",
         "text": [
          "token: patients || tf   : 25.0 || cluster: 34"
         ],
         "type": "scatter",
         "x": [
          1.5256963968276978
         ],
         "y": [
          5.23358154296875
         ]
        },
        {
         "line": {
          "color": "DarkSlateGrey",
          "width": 2
         },
         "marker": {
          "color": [
           0.277134,
           0.185228,
           0.489898
          ],
          "size": 9
         },
         "mode": "markers",
         "name": "were",
         "text": [
          "token: were || tf   : 17.0 || cluster: 34"
         ],
         "type": "scatter",
         "x": [
          1.473617672920227
         ],
         "y": [
          5.124938488006592
         ]
        },
        {
         "line": {
          "color": "DarkSlateGrey",
          "width": 2
         },
         "marker": {
          "color": [
           0.277134,
           0.185228,
           0.489898
          ],
          "size": 9
         },
         "mode": "markers",
         "name": "adults",
         "text": [
          "token: adults || tf   : 1.0 || cluster: 34"
         ],
         "type": "scatter",
         "x": [
          1.5720551013946533
         ],
         "y": [
          5.3515543937683105
         ]
        },
        {
         "line": {
          "color": "DarkSlateGrey",
          "width": 2
         },
         "marker": {
          "color": [
           0.281887,
           0.150881,
           0.465405
          ],
          "size": 9
         },
         "mode": "markers",
         "name": "age",
         "text": [
          "token: age || tf   : 4.0 || cluster: 27"
         ],
         "type": "scatter",
         "x": [
          1.813785195350647
         ],
         "y": [
          6.765368461608887
         ]
        },
        {
         "line": {
          "color": "DarkSlateGrey",
          "width": 2
         },
         "marker": {
          "color": [
           0.993248,
           0.906157,
           0.143936
          ],
          "size": 9
         },
         "mode": "markers",
         "name": "and",
         "text": [
          "token: and || tf   : 26.0 || cluster: -1"
         ],
         "type": "scatter",
         "x": [
          1.0254769325256348
         ],
         "y": [
          4.605492115020752
         ]
        },
        {
         "line": {
          "color": "DarkSlateGrey",
          "width": 2
         },
         "marker": {
          "color": [
           0.277134,
           0.185228,
           0.489898
          ],
          "size": 9
         },
         "mode": "markers",
         "name": "patients",
         "text": [
          "token: patients || tf   : 25.0 || cluster: 34"
         ],
         "type": "scatter",
         "x": [
          1.5016279220581055
         ],
         "y": [
          5.236783027648926
         ]
        },
        {
         "line": {
          "color": "DarkSlateGrey",
          "width": 2
         },
         "marker": {
          "color": [
           0.277134,
           0.185228,
           0.489898
          ],
          "size": 9
         },
         "mode": "markers",
         "name": "were",
         "text": [
          "token: were || tf   : 17.0 || cluster: 34"
         ],
         "type": "scatter",
         "x": [
          1.421751856803894
         ],
         "y": [
          5.195858001708984
         ]
        },
        {
         "line": {
          "color": "DarkSlateGrey",
          "width": 2
         },
         "marker": {
          "color": [
           0.277134,
           0.185228,
           0.489898
          ],
          "size": 9
         },
         "mode": "markers",
         "name": "children",
         "text": [
          "token: children || tf   : 2.0 || cluster: 34"
         ],
         "type": "scatter",
         "x": [
          1.55198073387146
         ],
         "y": [
          5.211112976074219
         ]
        },
        {
         "line": {
          "color": "DarkSlateGrey",
          "width": 2
         },
         "marker": {
          "color": [
           0.993248,
           0.906157,
           0.143936
          ],
          "size": 9
         },
         "mode": "markers",
         "name": "among",
         "text": [
          "token: among || tf   : 6.0 || cluster: -1"
         ],
         "type": "scatter",
         "x": [
          1.4227674007415771
         ],
         "y": [
          3.641221046447754
         ]
        },
        {
         "line": {
          "color": "DarkSlateGrey",
          "width": 2
         },
         "marker": {
          "color": [
           0.283091,
           0.110553,
           0.431554
          ],
          "size": 9
         },
         "mode": "markers",
         "name": "the",
         "text": [
          "token: the || tf   : 32.0 || cluster: 19"
         ],
         "type": "scatter",
         "x": [
          2.8562872409820557
         ],
         "y": [
          1.9607491493225098
         ]
        },
        {
         "line": {
          "color": "DarkSlateGrey",
          "width": 2
         },
         "marker": {
          "color": [
           0.993248,
           0.906157,
           0.143936
          ],
          "size": 9
         },
         "mode": "markers",
         "name": "males",
         "text": [
          "token: males || tf   : 2.0 || cluster: -1"
         ],
         "type": "scatter",
         "x": [
          1.5868866443634033
         ],
         "y": [
          4.38044548034668
         ]
        },
        {
         "line": {
          "color": "DarkSlateGrey",
          "width": 2
         },
         "marker": {
          "color": [
           0.993248,
           0.906157,
           0.143936
          ],
          "size": 9
         },
         "mode": "markers",
         "name": "one",
         "text": [
          "token: one || tf   : 6.0 || cluster: -1"
         ],
         "type": "scatter",
         "x": [
          1.8769992589950562
         ],
         "y": [
          3.3444511890411377
         ]
        },
        {
         "line": {
          "color": "DarkSlateGrey",
          "width": 2
         },
         "marker": {
          "color": [
           0.280255,
           0.165693,
           0.476498
          ],
          "size": 9
         },
         "mode": "markers",
         "name": "child",
         "text": [
          "token: child || tf   : 2.0 || cluster: 30"
         ],
         "type": "scatter",
         "x": [
          1.9650436639785767
         ],
         "y": [
          4.997766017913818
         ]
        },
        {
         "line": {
          "color": "DarkSlateGrey",
          "width": 2
         },
         "marker": {
          "color": [
           0.280868,
           0.160771,
           0.472899
          ],
          "size": 9
         },
         "mode": "markers",
         "name": "was",
         "text": [
          "token: was || tf   : 15.0 || cluster: 29"
         ],
         "type": "scatter",
         "x": [
          2.345327377319336
         ],
         "y": [
          4.957808971405029
         ]
        },
        {
         "line": {
          "color": "DarkSlateGrey",
          "width": 2
         },
         "marker": {
          "color": [
           0.280868,
           0.160771,
           0.472899
          ],
          "size": 9
         },
         "mode": "markers",
         "name": "identified",
         "text": [
          "token: identified || tf   : 3.0 || cluster: 29"
         ],
         "type": "scatter",
         "x": [
          2.4023282527923584
         ],
         "y": [
          5.094746112823486
         ]
        },
        {
         "line": {
          "color": "DarkSlateGrey",
          "width": 2
         },
         "marker": {
          "color": [
           0.278012,
           0.180367,
           0.486697
          ],
          "size": 9
         },
         "mode": "markers",
         "name": "birth",
         "text": [
          "token: birth || tf   : 4.0 || cluster: 33"
         ],
         "type": "scatter",
         "x": [
          2.5562305450439453
         ],
         "y": [
          6.111253261566162
         ]
        },
        {
         "line": {
          "color": "DarkSlateGrey",
          "width": 2
         },
         "marker": {
          "color": [
           0.278012,
           0.180367,
           0.486697
          ],
          "size": 9
         },
         "mode": "markers",
         "name": "via",
         "text": [
          "token: via || tf   : 1.0 || cluster: 33"
         ],
         "type": "scatter",
         "x": [
          2.1127336025238037
         ],
         "y": [
          5.800180912017822
         ]
        },
        {
         "line": {
          "color": "DarkSlateGrey",
          "width": 2
         },
         "marker": {
          "color": [
           0.278012,
           0.180367,
           0.486697
          ],
          "size": 9
         },
         "mode": "markers",
         "name": "neon",
         "text": [
          "token: neon || tf   : 1.0 || cluster: 33"
         ],
         "type": "scatter",
         "x": [
          2.329357385635376
         ],
         "y": [
          6.078487873077393
         ]
        },
        {
         "line": {
          "color": "DarkSlateGrey",
          "width": 2
         },
         "marker": {
          "color": [
           0.278012,
           0.180367,
           0.486697
          ],
          "size": 9
         },
         "mode": "markers",
         "name": "##atal",
         "text": [
          "token: ##atal || tf   : 1.0 || cluster: 33"
         ],
         "type": "scatter",
         "x": [
          2.3494393825531006
         ],
         "y": [
          5.908627510070801
         ]
        },
        {
         "line": {
          "color": "DarkSlateGrey",
          "width": 2
         },
         "marker": {
          "color": [
           0.278012,
           0.180367,
           0.486697
          ],
          "size": 9
         },
         "mode": "markers",
         "name": "screening",
         "text": [
          "token: screening || tf   : 1.0 || cluster: 33"
         ],
         "type": "scatter",
         "x": [
          2.3357129096984863
         ],
         "y": [
          5.852471351623535
         ]
        },
        {
         "line": {
          "color": "DarkSlateGrey",
          "width": 2
         },
         "marker": {
          "color": [
           0.278012,
           0.180367,
           0.486697
          ],
          "size": 9
         },
         "mode": "markers",
         "name": "program",
         "text": [
          "token: program || tf   : 1.0 || cluster: 33"
         ],
         "type": "scatter",
         "x": [
          2.1747868061065674
         ],
         "y": [
          5.816273212432861
         ]
        },
        {
         "line": {
          "color": "DarkSlateGrey",
          "width": 2
         },
         "marker": {
          "color": [
           0.993248,
           0.906157,
           0.143936
          ],
          "size": 9
         },
         "mode": "markers",
         "name": "one",
         "text": [
          "token: one || tf   : 6.0 || cluster: -1"
         ],
         "type": "scatter",
         "x": [
          1.8414984941482544
         ],
         "y": [
          3.404366970062256
         ]
        },
        {
         "line": {
          "color": "DarkSlateGrey",
          "width": 2
         },
         "marker": {
          "color": [
           0.280255,
           0.165693,
           0.476498
          ],
          "size": 9
         },
         "mode": "markers",
         "name": "child",
         "text": [
          "token: child || tf   : 2.0 || cluster: 30"
         ],
         "type": "scatter",
         "x": [
          1.9103987216949463
         ],
         "y": [
          5.112069606781006
         ]
        },
        {
         "line": {
          "color": "DarkSlateGrey",
          "width": 2
         },
         "marker": {
          "color": [
           0.993248,
           0.906157,
           0.143936
          ],
          "size": 9
         },
         "mode": "markers",
         "name": "presented",
         "text": [
          "token: presented || tf   : 9.0 || cluster: -1"
         ],
         "type": "scatter",
         "x": [
          2.0323326587677
         ],
         "y": [
          5.59384822845459
         ]
        },
        {
         "line": {
          "color": "DarkSlateGrey",
          "width": 2
         },
         "marker": {
          "color": [
           0.278012,
           0.180367,
           0.486697
          ],
          "size": 9
         },
         "mode": "markers",
         "name": "with",
         "text": [
          "token: with || tf   : 23.0 || cluster: 33"
         ],
         "type": "scatter",
         "x": [
          2.2983129024505615
         ],
         "y": [
          6.030045509338379
         ]
        },
        {
         "line": {
          "color": "DarkSlateGrey",
          "width": 2
         },
         "marker": {
          "color": [
           0.993248,
           0.906157,
           0.143936
          ],
          "size": 9
         },
         "mode": "markers",
         "name": "early",
         "text": [
          "token: early || tf   : 2.0 || cluster: -1"
         ],
         "type": "scatter",
         "x": [
          2.1903672218322754
         ],
         "y": [
          6.56755256652832
         ]
        },
        {
         "line": {
          "color": "DarkSlateGrey",
          "width": 2
         },
         "marker": {
          "color": [
           0.993248,
           0.906157,
           0.143936
          ],
          "size": 9
         },
         "mode": "markers",
         "name": "pub",
         "text": [
          "token: pub || tf   : 3.0 || cluster: -1"
         ],
         "type": "scatter",
         "x": [
          1.9160232543945312
         ],
         "y": [
          7.520679950714111
         ]
        },
        {
         "line": {
          "color": "DarkSlateGrey",
          "width": 2
         },
         "marker": {
          "color": [
           0.263663,
           0.237631,
           0.518762
          ],
          "size": 9
         },
         "mode": "markers",
         "name": "##ar",
         "text": [
          "token: ##ar || tf   : 4.0 || cluster: 45"
         ],
         "type": "scatter",
         "x": [
          1.743451714515686
         ],
         "y": [
          8.453394889831543
         ]
        },
        {
         "line": {
          "color": "DarkSlateGrey",
          "width": 2
         },
         "marker": {
          "color": [
           0.993248,
           0.906157,
           0.143936
          ],
          "size": 9
         },
         "mode": "markers",
         "name": "##che",
         "text": [
          "token: ##che || tf   : 4.0 || cluster: -1"
         ],
         "type": "scatter",
         "x": [
          2.5003793239593506
         ],
         "y": [
          8.09217357635498
         ]
        },
        {
         "line": {
          "color": "DarkSlateGrey",
          "width": 2
         },
         "marker": {
          "color": [
           0.283091,
           0.110553,
           0.431554
          ],
          "size": 9
         },
         "mode": "markers",
         "name": "the",
         "text": [
          "token: the || tf   : 32.0 || cluster: 19"
         ],
         "type": "scatter",
         "x": [
          2.8744702339172363
         ],
         "y": [
          1.9540330171585083
         ]
        },
        {
         "line": {
          "color": "DarkSlateGrey",
          "width": 2
         },
         "marker": {
          "color": [
           0.993248,
           0.906157,
           0.143936
          ],
          "size": 9
         },
         "mode": "markers",
         "name": "other",
         "text": [
          "token: other || tf   : 1.0 || cluster: -1"
         ],
         "type": "scatter",
         "x": [
          1.2915539741516113
         ],
         "y": [
          4.095978260040283
         ]
        },
        {
         "line": {
          "color": "DarkSlateGrey",
          "width": 2
         },
         "marker": {
          "color": [
           0.280255,
           0.165693,
           0.476498
          ],
          "size": 9
         },
         "mode": "markers",
         "name": "infants",
         "text": [
          "token: infants || tf   : 2.0 || cluster: 30"
         ],
         "type": "scatter",
         "x": [
          1.9084964990615845
         ],
         "y": [
          5.162561416625977
         ]
        },
        {
         "line": {
          "color": "DarkSlateGrey",
          "width": 2
         },
         "marker": {
          "color": [
           0.993248,
           0.906157,
           0.143936
          ],
          "size": 9
         },
         "mode": "markers",
         "name": "presented",
         "text": [
          "token: presented || tf   : 9.0 || cluster: -1"
         ],
         "type": "scatter",
         "x": [
          2.06003737449646
         ],
         "y": [
          5.5150861740112305
         ]
        },
        {
         "line": {
          "color": "DarkSlateGrey",
          "width": 2
         },
         "marker": {
          "color": [
           0.278012,
           0.180367,
           0.486697
          ],
          "size": 9
         },
         "mode": "markers",
         "name": "between",
         "text": [
          "token: between || tf   : 4.0 || cluster: 33"
         ],
         "type": "scatter",
         "x": [
          2.625235080718994
         ],
         "y": [
          6.297426223754883
         ]
        },
        {
         "line": {
          "color": "DarkSlateGrey",
          "width": 2
         },
         "marker": {
          "color": [
           0.278012,
           0.180367,
           0.486697
          ],
          "size": 9
         },
         "mode": "markers",
         "name": "their",
         "text": [
          "token: their || tf   : 3.0 || cluster: 33"
         ],
         "type": "scatter",
         "x": [
          2.5049333572387695
         ],
         "y": [
          6.418006896972656
         ]
        },
        {
         "line": {
          "color": "DarkSlateGrey",
          "width": 2
         },
         "marker": {
          "color": [
           0.278012,
           0.180367,
           0.486697
          ],
          "size": 9
         },
         "mode": "markers",
         "name": "3rd",
         "text": [
          "token: 3rd || tf   : 1.0 || cluster: 33"
         ],
         "type": "scatter",
         "x": [
          2.505669116973877
         ],
         "y": [
          6.554077625274658
         ]
        },
        {
         "line": {
          "color": "DarkSlateGrey",
          "width": 2
         },
         "marker": {
          "color": [
           0.278012,
           0.180367,
           0.486697
          ],
          "size": 9
         },
         "mode": "markers",
         "name": "and",
         "text": [
          "token: and || tf   : 26.0 || cluster: 33"
         ],
         "type": "scatter",
         "x": [
          2.477506637573242
         ],
         "y": [
          6.392300605773926
         ]
        },
        {
         "line": {
          "color": "DarkSlateGrey",
          "width": 2
         },
         "marker": {
          "color": [
           0.278012,
           0.180367,
           0.486697
          ],
          "size": 9
         },
         "mode": "markers",
         "name": "6th",
         "text": [
          "token: 6th || tf   : 1.0 || cluster: 33"
         ],
         "type": "scatter",
         "x": [
          2.4886724948883057
         ],
         "y": [
          6.638145446777344
         ]
        },
        {
         "line": {
          "color": "DarkSlateGrey",
          "width": 2
         },
         "marker": {
          "color": [
           0.278012,
           0.180367,
           0.486697
          ],
          "size": 9
         },
         "mode": "markers",
         "name": "week",
         "text": [
          "token: week || tf   : 2.0 || cluster: 33"
         ],
         "type": "scatter",
         "x": [
          2.577152967453003
         ],
         "y": [
          6.700241565704346
         ]
        },
        {
         "line": {
          "color": "DarkSlateGrey",
          "width": 2
         },
         "marker": {
          "color": [
           0.278012,
           0.180367,
           0.486697
          ],
          "size": 9
         },
         "mode": "markers",
         "name": "life",
         "text": [
          "token: life || tf   : 3.0 || cluster: 33"
         ],
         "type": "scatter",
         "x": [
          2.6175947189331055
         ],
         "y": [
          6.7541584968566895
         ]
        },
        {
         "line": {
          "color": "DarkSlateGrey",
          "width": 2
         },
         "marker": {
          "color": [
           0.273809,
           0.031497,
           0.358853
          ],
          "size": 9
         },
         "mode": "markers",
         "name": "with",
         "text": [
          "token: with || tf   : 23.0 || cluster: 5"
         ],
         "type": "scatter",
         "x": [
          5.263009548187256
         ],
         "y": [
          6.373899936676025
         ]
        },
        {
         "line": {
          "color": "DarkSlateGrey",
          "width": 2
         },
         "marker": {
          "color": [
           0.28291,
           0.105393,
           0.426902
          ],
          "size": 9
         },
         "mode": "markers",
         "name": "features",
         "text": [
          "token: features || tf   : 4.0 || cluster: 18"
         ],
         "type": "scatter",
         "x": [
          3.938631772994995
         ],
         "y": [
          5.793337345123291
         ]
        },
        {
         "line": {
          "color": "DarkSlateGrey",
          "width": 2
         },
         "marker": {
          "color": [
           0.28291,
           0.105393,
           0.426902
          ],
          "size": 9
         },
         "mode": "markers",
         "name": "suggest",
         "text": [
          "token: suggest || tf   : 2.0 || cluster: 18"
         ],
         "type": "scatter",
         "x": [
          3.771594524383545
         ],
         "y": [
          5.590097904205322
         ]
        },
        {
         "line": {
          "color": "DarkSlateGrey",
          "width": 2
         },
         "marker": {
          "color": [
           0.28291,
           0.105393,
           0.426902
          ],
          "size": 9
         },
         "mode": "markers",
         "name": "##ive",
         "text": [
          "token: ##ive || tf   : 3.0 || cluster: 18"
         ],
         "type": "scatter",
         "x": [
          3.687875509262085
         ],
         "y": [
          5.525452613830566
         ]
        },
        {
         "line": {
          "color": "DarkSlateGrey",
          "width": 2
         },
         "marker": {
          "color": [
           0.263663,
           0.237631,
           0.518762
          ],
          "size": 9
         },
         "mode": "markers",
         "name": "##ren",
         "text": [
          "token: ##ren || tf   : 7.0 || cluster: 45"
         ],
         "type": "scatter",
         "x": [
          1.8088821172714233
         ],
         "y": [
          8.551897048950195
         ]
        },
        {
         "line": {
          "color": "DarkSlateGrey",
          "width": 2
         },
         "marker": {
          "color": [
           0.993248,
           0.906157,
           0.143936
          ],
          "size": 9
         },
         "mode": "markers",
         "name": "##al",
         "text": [
          "token: ##al || tf   : 7.0 || cluster: -1"
         ],
         "type": "scatter",
         "x": [
          2.1232781410217285
         ],
         "y": [
          8.126835823059082
         ]
        },
        {
         "line": {
          "color": "DarkSlateGrey",
          "width": 2
         },
         "marker": {
          "color": [
           0.993248,
           0.906157,
           0.143936
          ],
          "size": 9
         },
         "mode": "markers",
         "name": "crisis",
         "text": [
          "token: crisis || tf   : 3.0 || cluster: -1"
         ],
         "type": "scatter",
         "x": [
          2.3655714988708496
         ],
         "y": [
          7.504364490509033
         ]
        },
        {
         "line": {
          "color": "DarkSlateGrey",
          "width": 2
         },
         "marker": {
          "color": [
           0.993248,
           0.906157,
           0.143936
          ],
          "size": 9
         },
         "mode": "markers",
         "name": "poor",
         "text": [
          "token: poor || tf   : 2.0 || cluster: -1"
         ],
         "type": "scatter",
         "x": [
          5.120813846588135
         ],
         "y": [
          5.713499546051025
         ]
        },
        {
         "line": {
          "color": "DarkSlateGrey",
          "width": 2
         },
         "marker": {
          "color": [
           0.279566,
           0.067836,
           0.391917
          ],
          "size": 9
         },
         "mode": "markers",
         "name": "feeding",
         "text": [
          "token: feeding || tf   : 1.0 || cluster: 11"
         ],
         "type": "scatter",
         "x": [
          5.803562164306641
         ],
         "y": [
          5.661667823791504
         ]
        },
        {
         "line": {
          "color": "DarkSlateGrey",
          "width": 2
         },
         "marker": {
          "color": [
           0.279566,
           0.067836,
           0.391917
          ],
          "size": 9
         },
         "mode": "markers",
         "name": "vomiting",
         "text": [
          "token: vomiting || tf   : 1.0 || cluster: 11"
         ],
         "type": "scatter",
         "x": [
          5.827203750610352
         ],
         "y": [
          5.5893449783325195
         ]
        },
        {
         "line": {
          "color": "DarkSlateGrey",
          "width": 2
         },
         "marker": {
          "color": [
           0.283072,
           0.130895,
           0.449241
          ],
          "size": 9
         },
         "mode": "markers",
         "name": "and",
         "text": [
          "token: and || tf   : 26.0 || cluster: 23"
         ],
         "type": "scatter",
         "x": [
          5.329080581665039
         ],
         "y": [
          5.279770374298096
         ]
        },
        {
         "line": {
          "color": "DarkSlateGrey",
          "width": 2
         },
         "marker": {
          "color": [
           0.279566,
           0.067836,
           0.391917
          ],
          "size": 9
         },
         "mode": "markers",
         "name": "failure",
         "text": [
          "token: failure || tf   : 2.0 || cluster: 11"
         ],
         "type": "scatter",
         "x": [
          5.7044901847839355
         ],
         "y": [
          5.540563106536865
         ]
        },
        {
         "line": {
          "color": "DarkSlateGrey",
          "width": 2
         },
         "marker": {
          "color": [
           0.279566,
           0.067836,
           0.391917
          ],
          "size": 9
         },
         "mode": "markers",
         "name": "gain",
         "text": [
          "token: gain || tf   : 1.0 || cluster: 11"
         ],
         "type": "scatter",
         "x": [
          5.892666339874268
         ],
         "y": [
          5.624561786651611
         ]
        },
        {
         "line": {
          "color": "DarkSlateGrey",
          "width": 2
         },
         "marker": {
          "color": [
           0.279566,
           0.067836,
           0.391917
          ],
          "size": 9
         },
         "mode": "markers",
         "name": "weight",
         "text": [
          "token: weight || tf   : 1.0 || cluster: 11"
         ],
         "type": "scatter",
         "x": [
          5.917815685272217
         ],
         "y": [
          5.6912078857421875
         ]
        },
        {
         "line": {
          "color": "DarkSlateGrey",
          "width": 2
         },
         "marker": {
          "color": [
           0.993248,
           0.906157,
           0.143936
          ],
          "size": 9
         },
         "mode": "markers",
         "name": "one",
         "text": [
          "token: one || tf   : 6.0 || cluster: -1"
         ],
         "type": "scatter",
         "x": [
          1.7695529460906982
         ],
         "y": [
          3.420487642288208
         ]
        },
        {
         "line": {
          "color": "DarkSlateGrey",
          "width": 2
         },
         "marker": {
          "color": [
           0.283091,
           0.110553,
           0.431554
          ],
          "size": 9
         },
         "mode": "markers",
         "name": "the",
         "text": [
          "token: the || tf   : 32.0 || cluster: 19"
         ],
         "type": "scatter",
         "x": [
          3.006195068359375
         ],
         "y": [
          1.9466817378997803
         ]
        },
        {
         "line": {
          "color": "DarkSlateGrey",
          "width": 2
         },
         "marker": {
          "color": [
           0.993248,
           0.906157,
           0.143936
          ],
          "size": 9
         },
         "mode": "markers",
         "name": "male",
         "text": [
          "token: male || tf   : 2.0 || cluster: -1"
         ],
         "type": "scatter",
         "x": [
          1.7053353786468506
         ],
         "y": [
          4.39370059967041
         ]
        },
        {
         "line": {
          "color": "DarkSlateGrey",
          "width": 2
         },
         "marker": {
          "color": [
           0.993248,
           0.906157,
           0.143936
          ],
          "size": 9
         },
         "mode": "markers",
         "name": "patients",
         "text": [
          "token: patients || tf   : 25.0 || cluster: -1"
         ],
         "type": "scatter",
         "x": [
          1.7844951152801514
         ],
         "y": [
          4.593986988067627
         ]
        },
        {
         "line": {
          "color": "DarkSlateGrey",
          "width": 2
         },
         "marker": {
          "color": [
           0.280868,
           0.160771,
           0.472899
          ],
          "size": 9
         },
         "mode": "markers",
         "name": "incident",
         "text": [
          "token: incident || tf   : 1.0 || cluster: 29"
         ],
         "type": "scatter",
         "x": [
          2.127039909362793
         ],
         "y": [
          5.239723205566406
         ]
        },
        {
         "line": {
          "color": "DarkSlateGrey",
          "width": 2
         },
         "marker": {
          "color": [
           0.993248,
           0.906157,
           0.143936
          ],
          "size": 9
         },
         "mode": "markers",
         "name": "##ally",
         "text": [
          "token: ##ally || tf   : 1.0 || cluster: -1"
         ],
         "type": "scatter",
         "x": [
          2.2968130111694336
         ],
         "y": [
          5.267923831939697
         ]
        },
        {
         "line": {
          "color": "DarkSlateGrey",
          "width": 2
         },
         "marker": {
          "color": [
           0.280868,
           0.160771,
           0.472899
          ],
          "size": 9
         },
         "mode": "markers",
         "name": "also",
         "text": [
          "token: also || tf   : 4.0 || cluster: 29"
         ],
         "type": "scatter",
         "x": [
          2.4357635974884033
         ],
         "y": [
          5.154792785644531
         ]
        },
        {
         "line": {
          "color": "DarkSlateGrey",
          "width": 2
         },
         "marker": {
          "color": [
           0.993248,
           0.906157,
           0.143936
          ],
          "size": 9
         },
         "mode": "markers",
         "name": "had",
         "text": [
          "token: had || tf   : 8.0 || cluster: -1"
         ],
         "type": "scatter",
         "x": [
          4.019566059112549
         ],
         "y": [
          4.397387504577637
         ]
        },
        {
         "line": {
          "color": "DarkSlateGrey",
          "width": 2
         },
         "marker": {
          "color": [
           0.275191,
           0.194905,
           0.496005
          ],
          "size": 9
         },
         "mode": "markers",
         "name": "pen",
         "text": [
          "token: pen || tf   : 1.0 || cluster: 36"
         ],
         "type": "scatter",
         "x": [
          1.302423119544983
         ],
         "y": [
          8.593055725097656
         ]
        },
        {
         "line": {
          "color": "DarkSlateGrey",
          "width": 2
         },
         "marker": {
          "color": [
           0.263663,
           0.237631,
           0.518762
          ],
          "size": 9
         },
         "mode": "markers",
         "name": "##os",
         "text": [
          "token: ##os || tf   : 3.0 || cluster: 45"
         ],
         "type": "scatter",
         "x": [
          1.7372480630874634
         ],
         "y": [
          8.506185531616211
         ]
        },
        {
         "line": {
          "color": "DarkSlateGrey",
          "width": 2
         },
         "marker": {
          "color": [
           0.263663,
           0.237631,
           0.518762
          ],
          "size": 9
         },
         "mode": "markers",
         "name": "##cr",
         "text": [
          "token: ##cr || tf   : 1.0 || cluster: 45"
         ],
         "type": "scatter",
         "x": [
          1.6707494258880615
         ],
         "y": [
          8.553194046020508
         ]
        },
        {
         "line": {
          "color": "DarkSlateGrey",
          "width": 2
         },
         "marker": {
          "color": [
           0.263663,
           0.237631,
           0.518762
          ],
          "size": 9
         },
         "mode": "markers",
         "name": "##ota",
         "text": [
          "token: ##ota || tf   : 1.0 || cluster: 45"
         ],
         "type": "scatter",
         "x": [
          1.9120211601257324
         ],
         "y": [
          8.399983406066895
         ]
        },
        {
         "line": {
          "color": "DarkSlateGrey",
          "width": 2
         },
         "marker": {
          "color": [
           0.993248,
           0.906157,
           0.143936
          ],
          "size": 9
         },
         "mode": "markers",
         "name": "##l",
         "text": [
          "token: ##l || tf   : 1.0 || cluster: -1"
         ],
         "type": "scatter",
         "x": [
          2.2639832496643066
         ],
         "y": [
          8.372112274169922
         ]
        },
        {
         "line": {
          "color": "DarkSlateGrey",
          "width": 2
         },
         "marker": {
          "color": [
           0.263663,
           0.237631,
           0.518762
          ],
          "size": 9
         },
         "mode": "markers",
         "name": "##yp",
         "text": [
          "token: ##yp || tf   : 1.0 || cluster: 45"
         ],
         "type": "scatter",
         "x": [
          1.6085712909698486
         ],
         "y": [
          8.533011436462402
         ]
        },
        {
         "line": {
          "color": "DarkSlateGrey",
          "width": 2
         },
         "marker": {
          "color": [
           0.263663,
           0.237631,
           0.518762
          ],
          "size": 9
         },
         "mode": "markers",
         "name": "##os",
         "text": [
          "token: ##os || tf   : 3.0 || cluster: 45"
         ],
         "type": "scatter",
         "x": [
          1.6867152452468872
         ],
         "y": [
          8.493273735046387
         ]
        },
        {
         "line": {
          "color": "DarkSlateGrey",
          "width": 2
         },
         "marker": {
          "color": [
           0.263663,
           0.237631,
           0.518762
          ],
          "size": 9
         },
         "mode": "markers",
         "name": "##pad",
         "text": [
          "token: ##pad || tf   : 1.0 || cluster: 45"
         ],
         "type": "scatter",
         "x": [
          1.6997367143630981
         ],
         "y": [
          8.539336204528809
         ]
        },
        {
         "line": {
          "color": "DarkSlateGrey",
          "width": 2
         },
         "marker": {
          "color": [
           0.993248,
           0.906157,
           0.143936
          ],
          "size": 9
         },
         "mode": "markers",
         "name": "##ias",
         "text": [
          "token: ##ias || tf   : 1.0 || cluster: -1"
         ],
         "type": "scatter",
         "x": [
          2.3621766567230225
         ],
         "y": [
          8.295431137084961
         ]
        },
        {
         "line": {
          "color": "DarkSlateGrey",
          "width": 2
         },
         "marker": {
          "color": [
           0.283229,
           0.120777,
           0.440584
          ],
          "size": 9
         },
         "mode": "markers",
         "name": "which",
         "text": [
          "token: which || tf   : 5.0 || cluster: 21"
         ],
         "type": "scatter",
         "x": [
          3.468062400817871
         ],
         "y": [
          5.085076332092285
         ]
        },
        {
         "line": {
          "color": "DarkSlateGrey",
          "width": 2
         },
         "marker": {
          "color": [
           0.283229,
           0.120777,
           0.440584
          ],
          "size": 9
         },
         "mode": "markers",
         "name": "was",
         "text": [
          "token: was || tf   : 15.0 || cluster: 21"
         ],
         "type": "scatter",
         "x": [
          3.5676522254943848
         ],
         "y": [
          4.8887786865234375
         ]
        },
        {
         "line": {
          "color": "DarkSlateGrey",
          "width": 2
         },
         "marker": {
          "color": [
           0.283229,
           0.120777,
           0.440584
          ],
          "size": 9
         },
         "mode": "markers",
         "name": "surgical",
         "text": [
          "token: surgical || tf   : 1.0 || cluster: 21"
         ],
         "type": "scatter",
         "x": [
          3.1343891620635986
         ],
         "y": [
          5.178506374359131
         ]
        },
        {
         "line": {
          "color": "DarkSlateGrey",
          "width": 2
         },
         "marker": {
          "color": [
           0.283229,
           0.120777,
           0.440584
          ],
          "size": 9
         },
         "mode": "markers",
         "name": "##ly",
         "text": [
          "token: ##ly || tf   : 2.0 || cluster: 21"
         ],
         "type": "scatter",
         "x": [
          3.458669424057007
         ],
         "y": [
          5.0105133056640625
         ]
        },
        {
         "line": {
          "color": "DarkSlateGrey",
          "width": 2
         },
         "marker": {
          "color": [
           0.283229,
           0.120777,
           0.440584
          ],
          "size": 9
         },
         "mode": "markers",
         "name": "corrected",
         "text": [
          "token: corrected || tf   : 1.0 || cluster: 21"
         ],
         "type": "scatter",
         "x": [
          3.271996259689331
         ],
         "y": [
          5.0372161865234375
         ]
        },
        {
         "line": {
          "color": "DarkSlateGrey",
          "width": 2
         },
         "marker": {
          "color": [
           0.993248,
           0.906157,
           0.143936
          ],
          "size": 9
         },
         "mode": "markers",
         "name": "among",
         "text": [
          "token: among || tf   : 6.0 || cluster: -1"
         ],
         "type": "scatter",
         "x": [
          1.5163938999176025
         ],
         "y": [
          3.6754512786865234
         ]
        },
        {
         "line": {
          "color": "DarkSlateGrey",
          "width": 2
         },
         "marker": {
          "color": [
           0.283091,
           0.110553,
           0.431554
          ],
          "size": 9
         },
         "mode": "markers",
         "name": "the",
         "text": [
          "token: the || tf   : 32.0 || cluster: 19"
         ],
         "type": "scatter",
         "x": [
          2.954594373703003
         ],
         "y": [
          1.9664872884750366
         ]
        },
        {
         "line": {
          "color": "DarkSlateGrey",
          "width": 2
         },
         "marker": {
          "color": [
           0.993248,
           0.906157,
           0.143936
          ],
          "size": 9
         },
         "mode": "markers",
         "name": "females",
         "text": [
          "token: females || tf   : 3.0 || cluster: -1"
         ],
         "type": "scatter",
         "x": [
          1.6317535638809204
         ],
         "y": [
          4.387223243713379
         ]
        },
        {
         "line": {
          "color": "DarkSlateGrey",
          "width": 2
         },
         "marker": {
          "color": [
           0.280255,
           0.165693,
           0.476498
          ],
          "size": 9
         },
         "mode": "markers",
         "name": "infants",
         "text": [
          "token: infants || tf   : 2.0 || cluster: 30"
         ],
         "type": "scatter",
         "x": [
          1.876671314239502
         ],
         "y": [
          5.0804972648620605
         ]
        },
        {
         "line": {
          "color": "DarkSlateGrey",
          "width": 2
         },
         "marker": {
          "color": [
           0.280868,
           0.160771,
           0.472899
          ],
          "size": 9
         },
         "mode": "markers",
         "name": "were",
         "text": [
          "token: were || tf   : 17.0 || cluster: 29"
         ],
         "type": "scatter",
         "x": [
          2.2649340629577637
         ],
         "y": [
          4.967136383056641
         ]
        },
        {
         "line": {
          "color": "DarkSlateGrey",
          "width": 2
         },
         "marker": {
          "color": [
           0.280868,
           0.160771,
           0.472899
          ],
          "size": 9
         },
         "mode": "markers",
         "name": "identified",
         "text": [
          "token: identified || tf   : 3.0 || cluster: 29"
         ],
         "type": "scatter",
         "x": [
          2.3635733127593994
         ],
         "y": [
          5.161308765411377
         ]
        },
        {
         "line": {
          "color": "DarkSlateGrey",
          "width": 2
         },
         "marker": {
          "color": [
           0.278012,
           0.180367,
           0.486697
          ],
          "size": 9
         },
         "mode": "markers",
         "name": "birth",
         "text": [
          "token: birth || tf   : 4.0 || cluster: 33"
         ],
         "type": "scatter",
         "x": [
          2.515719175338745
         ],
         "y": [
          6.02158260345459
         ]
        },
        {
         "line": {
          "color": "DarkSlateGrey",
          "width": 2
         },
         "marker": {
          "color": [
           0.278012,
           0.180367,
           0.486697
          ],
          "size": 9
         },
         "mode": "markers",
         "name": "due",
         "text": [
          "token: due || tf   : 4.0 || cluster: 33"
         ],
         "type": "scatter",
         "x": [
          2.269836664199829
         ],
         "y": [
          5.817033290863037
         ]
        },
        {
         "line": {
          "color": "DarkSlateGrey",
          "width": 2
         },
         "marker": {
          "color": [
           0.993248,
           0.906157,
           0.143936
          ],
          "size": 9
         },
         "mode": "markers",
         "name": "presence",
         "text": [
          "token: presence || tf   : 2.0 || cluster: -1"
         ],
         "type": "scatter",
         "x": [
          2.7380969524383545
         ],
         "y": [
          6.016940593719482
         ]
        },
        {
         "line": {
          "color": "DarkSlateGrey",
          "width": 2
         },
         "marker": {
          "color": [
           0.993248,
           0.906157,
           0.143936
          ],
          "size": 9
         },
         "mode": "markers",
         "name": "gen",
         "text": [
          "token: gen || tf   : 3.0 || cluster: -1"
         ],
         "type": "scatter",
         "x": [
          2.180727005004883
         ],
         "y": [
          7.816585540771484
         ]
        },
        {
         "line": {
          "color": "DarkSlateGrey",
          "width": 2
         },
         "marker": {
          "color": [
           0.993248,
           0.906157,
           0.143936
          ],
          "size": 9
         },
         "mode": "markers",
         "name": "##ital",
         "text": [
          "token: ##ital || tf   : 3.0 || cluster: -1"
         ],
         "type": "scatter",
         "x": [
          2.249939203262329
         ],
         "y": [
          7.913715362548828
         ]
        },
        {
         "line": {
          "color": "DarkSlateGrey",
          "width": 2
         },
         "marker": {
          "color": [
           0.993248,
           0.906157,
           0.143936
          ],
          "size": 9
         },
         "mode": "markers",
         "name": "ambiguity",
         "text": [
          "token: ambiguity || tf   : 3.0 || cluster: -1"
         ],
         "type": "scatter",
         "x": [
          2.430751085281372
         ],
         "y": [
          7.50943660736084
         ]
        },
        {
         "line": {
          "color": "DarkSlateGrey",
          "width": 2
         },
         "marker": {
          "color": [
           0.278012,
           0.180367,
           0.486697
          ],
          "size": 9
         },
         "mode": "markers",
         "name": "presented",
         "text": [
          "token: presented || tf   : 9.0 || cluster: 33"
         ],
         "type": "scatter",
         "x": [
          1.7569407224655151
         ],
         "y": [
          5.768714904785156
         ]
        },
        {
         "line": {
          "color": "DarkSlateGrey",
          "width": 2
         },
         "marker": {
          "color": [
           0.278012,
           0.180367,
           0.486697
          ],
          "size": 9
         },
         "mode": "markers",
         "name": "with",
         "text": [
          "token: with || tf   : 23.0 || cluster: 33"
         ],
         "type": "scatter",
         "x": [
          1.9153709411621094
         ],
         "y": [
          5.906368255615234
         ]
        },
        {
         "line": {
          "color": "DarkSlateGrey",
          "width": 2
         },
         "marker": {
          "color": [
           0.993248,
           0.906157,
           0.143936
          ],
          "size": 9
         },
         "mode": "markers",
         "name": "symptoms",
         "text": [
          "token: symptoms || tf   : 1.0 || cluster: -1"
         ],
         "type": "scatter",
         "x": [
          2.003408432006836
         ],
         "y": [
          6.190084934234619
         ]
        },
        {
         "line": {
          "color": "DarkSlateGrey",
          "width": 2
         },
         "marker": {
          "color": [
           0.263663,
           0.237631,
           0.518762
          ],
          "size": 9
         },
         "mode": "markers",
         "name": "##ren",
         "text": [
          "token: ##ren || tf   : 7.0 || cluster: 45"
         ],
         "type": "scatter",
         "x": [
          1.8526755571365356
         ],
         "y": [
          8.241171836853027
         ]
        },
        {
         "line": {
          "color": "DarkSlateGrey",
          "width": 2
         },
         "marker": {
          "color": [
           0.993248,
           0.906157,
           0.143936
          ],
          "size": 9
         },
         "mode": "markers",
         "name": "##al",
         "text": [
          "token: ##al || tf   : 7.0 || cluster: -1"
         ],
         "type": "scatter",
         "x": [
          1.9701848030090332
         ],
         "y": [
          7.899755477905273
         ]
        },
        {
         "line": {
          "color": "DarkSlateGrey",
          "width": 2
         },
         "marker": {
          "color": [
           0.993248,
           0.906157,
           0.143936
          ],
          "size": 9
         },
         "mode": "markers",
         "name": "crisis",
         "text": [
          "token: crisis || tf   : 3.0 || cluster: -1"
         ],
         "type": "scatter",
         "x": [
          2.258665084838867
         ],
         "y": [
          7.267666339874268
         ]
        },
        {
         "line": {
          "color": "DarkSlateGrey",
          "width": 2
         },
         "marker": {
          "color": [
           0.278012,
           0.180367,
           0.486697
          ],
          "size": 9
         },
         "mode": "markers",
         "name": "weeks",
         "text": [
          "token: weeks || tf   : 1.0 || cluster: 33"
         ],
         "type": "scatter",
         "x": [
          2.334655284881592
         ],
         "y": [
          6.776021480560303
         ]
        },
        {
         "line": {
          "color": "DarkSlateGrey",
          "width": 2
         },
         "marker": {
          "color": [
           0.278012,
           0.180367,
           0.486697
          ],
          "size": 9
         },
         "mode": "markers",
         "name": "life",
         "text": [
          "token: life || tf   : 3.0 || cluster: 33"
         ],
         "type": "scatter",
         "x": [
          2.3314292430877686
         ],
         "y": [
          6.77896785736084
         ]
        },
        {
         "line": {
          "color": "DarkSlateGrey",
          "width": 2
         },
         "marker": {
          "color": [
           0.278012,
           0.180367,
           0.486697
          ],
          "size": 9
         },
         "mode": "markers",
         "name": "patients",
         "text": [
          "token: patients || tf   : 25.0 || cluster: 33"
         ],
         "type": "scatter",
         "x": [
          1.6118069887161255
         ],
         "y": [
          5.582607746124268
         ]
        },
        {
         "line": {
          "color": "DarkSlateGrey",
          "width": 2
         },
         "marker": {
          "color": [
           0.278012,
           0.180367,
           0.486697
          ],
          "size": 9
         },
         "mode": "markers",
         "name": "presented",
         "text": [
          "token: presented || tf   : 9.0 || cluster: 33"
         ],
         "type": "scatter",
         "x": [
          1.7588311433792114
         ],
         "y": [
          5.782952308654785
         ]
        },
        {
         "line": {
          "color": "DarkSlateGrey",
          "width": 2
         },
         "marker": {
          "color": [
           0.283091,
           0.110553,
           0.431554
          ],
          "size": 9
         },
         "mode": "markers",
         "name": "the",
         "text": [
          "token: the || tf   : 32.0 || cluster: 19"
         ],
         "type": "scatter",
         "x": [
          3.093353033065796
         ],
         "y": [
          2.0604639053344727
         ]
        },
        {
         "line": {
          "color": "DarkSlateGrey",
          "width": 2
         },
         "marker": {
          "color": [
           0.281887,
           0.150881,
           0.465405
          ],
          "size": 9
         },
         "mode": "markers",
         "name": "pre",
         "text": [
          "token: pre || tf   : 1.0 || cluster: 27"
         ],
         "type": "scatter",
         "x": [
          1.9901875257492065
         ],
         "y": [
          6.982030868530273
         ]
        },
        {
         "line": {
          "color": "DarkSlateGrey",
          "width": 2
         },
         "marker": {
          "color": [
           0.281887,
           0.150881,
           0.465405
          ],
          "size": 9
         },
         "mode": "markers",
         "name": "pub",
         "text": [
          "token: pub || tf   : 3.0 || cluster: 27"
         ],
         "type": "scatter",
         "x": [
          1.8984695672988892
         ],
         "y": [
          7.33745002746582
         ]
        },
        {
         "line": {
          "color": "DarkSlateGrey",
          "width": 2
         },
         "marker": {
          "color": [
           0.993248,
           0.906157,
           0.143936
          ],
          "size": 9
         },
         "mode": "markers",
         "name": "##ert",
         "text": [
          "token: ##ert || tf   : 2.0 || cluster: -1"
         ],
         "type": "scatter",
         "x": [
          1.880747675895691
         ],
         "y": [
          7.661286354064941
         ]
        },
        {
         "line": {
          "color": "DarkSlateGrey",
          "width": 2
         },
         "marker": {
          "color": [
           0.993248,
           0.906157,
           0.143936
          ],
          "size": 9
         },
         "mode": "markers",
         "name": "##al",
         "text": [
          "token: ##al || tf   : 7.0 || cluster: -1"
         ],
         "type": "scatter",
         "x": [
          1.949094533920288
         ],
         "y": [
          7.561803340911865
         ]
        },
        {
         "line": {
          "color": "DarkSlateGrey",
          "width": 2
         },
         "marker": {
          "color": [
           0.281887,
           0.150881,
           0.465405
          ],
          "size": 9
         },
         "mode": "markers",
         "name": "period",
         "text": [
          "token: period || tf   : 4.0 || cluster: 27"
         ],
         "type": "scatter",
         "x": [
          2.034734010696411
         ],
         "y": [
          7.002310276031494
         ]
        },
        {
         "line": {
          "color": "DarkSlateGrey",
          "width": 2
         },
         "marker": {
          "color": [
           0.993248,
           0.906157,
           0.143936
          ],
          "size": 9
         },
         "mode": "markers",
         "name": "due",
         "text": [
          "token: due || tf   : 4.0 || cluster: -1"
         ],
         "type": "scatter",
         "x": [
          1.9900336265563965
         ],
         "y": [
          6.320212364196777
         ]
        },
        {
         "line": {
          "color": "DarkSlateGrey",
          "width": 2
         },
         "marker": {
          "color": [
           0.281887,
           0.150881,
           0.465405
          ],
          "size": 9
         },
         "mode": "markers",
         "name": "early",
         "text": [
          "token: early || tf   : 2.0 || cluster: 27"
         ],
         "type": "scatter",
         "x": [
          1.975089430809021
         ],
         "y": [
          7.002737045288086
         ]
        },
        {
         "line": {
          "color": "DarkSlateGrey",
          "width": 2
         },
         "marker": {
          "color": [
           0.281887,
           0.150881,
           0.465405
          ],
          "size": 9
         },
         "mode": "markers",
         "name": "onset",
         "text": [
          "token: onset || tf   : 1.0 || cluster: 27"
         ],
         "type": "scatter",
         "x": [
          1.941765546798706
         ],
         "y": [
          7.087775707244873
         ]
        },
        {
         "line": {
          "color": "DarkSlateGrey",
          "width": 2
         },
         "marker": {
          "color": [
           0.263663,
           0.237631,
           0.518762
          ],
          "size": 9
         },
         "mode": "markers",
         "name": "##ren",
         "text": [
          "token: ##ren || tf   : 7.0 || cluster: 45"
         ],
         "type": "scatter",
         "x": [
          1.7431249618530273
         ],
         "y": [
          8.215349197387695
         ]
        },
        {
         "line": {
          "color": "DarkSlateGrey",
          "width": 2
         },
         "marker": {
          "color": [
           0.263663,
           0.237631,
           0.518762
          ],
          "size": 9
         },
         "mode": "markers",
         "name": "##ar",
         "text": [
          "token: ##ar || tf   : 4.0 || cluster: 45"
         ],
         "type": "scatter",
         "x": [
          1.6702462434768677
         ],
         "y": [
          8.265467643737793
         ]
        },
        {
         "line": {
          "color": "DarkSlateGrey",
          "width": 2
         },
         "marker": {
          "color": [
           0.993248,
           0.906157,
           0.143936
          ],
          "size": 9
         },
         "mode": "markers",
         "name": "##che",
         "text": [
          "token: ##che || tf   : 4.0 || cluster: -1"
         ],
         "type": "scatter",
         "x": [
          2.115649700164795
         ],
         "y": [
          7.833449363708496
         ]
        },
        {
         "line": {
          "color": "DarkSlateGrey",
          "width": 2
         },
         "marker": {
          "color": [
           0.993248,
           0.906157,
           0.143936
          ],
          "size": 9
         },
         "mode": "markers",
         "name": "patients",
         "text": [
          "token: patients || tf   : 25.0 || cluster: -1"
         ],
         "type": "scatter",
         "x": [
          1.665612816810608
         ],
         "y": [
          5.712912082672119
         ]
        },
        {
         "line": {
          "color": "DarkSlateGrey",
          "width": 2
         },
         "marker": {
          "color": [
           0.278012,
           0.180367,
           0.486697
          ],
          "size": 9
         },
         "mode": "markers",
         "name": "presented",
         "text": [
          "token: presented || tf   : 9.0 || cluster: 33"
         ],
         "type": "scatter",
         "x": [
          1.826828122138977
         ],
         "y": [
          5.7816972732543945
         ]
        },
        {
         "line": {
          "color": "DarkSlateGrey",
          "width": 2
         },
         "marker": {
          "color": [
           0.283091,
           0.110553,
           0.431554
          ],
          "size": 9
         },
         "mode": "markers",
         "name": "the",
         "text": [
          "token: the || tf   : 32.0 || cluster: 19"
         ],
         "type": "scatter",
         "x": [
          3.098186492919922
         ],
         "y": [
          2.034796953201294
         ]
        },
        {
         "line": {
          "color": "DarkSlateGrey",
          "width": 2
         },
         "marker": {
          "color": [
           0.281887,
           0.150881,
           0.465405
          ],
          "size": 9
         },
         "mode": "markers",
         "name": "late",
         "text": [
          "token: late || tf   : 4.0 || cluster: 27"
         ],
         "type": "scatter",
         "x": [
          2.0397541522979736
         ],
         "y": [
          6.92935037612915
         ]
        },
        {
         "line": {
          "color": "DarkSlateGrey",
          "width": 2
         },
         "marker": {
          "color": [
           0.281887,
           0.150881,
           0.465405
          ],
          "size": 9
         },
         "mode": "markers",
         "name": "adolescent",
         "text": [
          "token: adolescent || tf   : 2.0 || cluster: 27"
         ],
         "type": "scatter",
         "x": [
          2.0003762245178223
         ],
         "y": [
          6.999622344970703
         ]
        },
        {
         "line": {
          "color": "DarkSlateGrey",
          "width": 2
         },
         "marker": {
          "color": [
           0.281887,
           0.150881,
           0.465405
          ],
          "size": 9
         },
         "mode": "markers",
         "name": "period",
         "text": [
          "token: period || tf   : 4.0 || cluster: 27"
         ],
         "type": "scatter",
         "x": [
          1.8925083875656128
         ],
         "y": [
          6.9326395988464355
         ]
        },
        {
         "line": {
          "color": "DarkSlateGrey",
          "width": 2
         },
         "marker": {
          "color": [
           0.267004,
           0.004874,
           0.329415
          ],
          "size": 9
         },
         "mode": "markers",
         "name": "with",
         "text": [
          "token: with || tf   : 23.0 || cluster: 0"
         ],
         "type": "scatter",
         "x": [
          5.168689727783203
         ],
         "y": [
          9.7845458984375
         ]
        },
        {
         "line": {
          "color": "DarkSlateGrey",
          "width": 2
         },
         "marker": {
          "color": [
           0.993248,
           0.906157,
           0.143936
          ],
          "size": 9
         },
         "mode": "markers",
         "name": "marked",
         "text": [
          "token: marked || tf   : 2.0 || cluster: -1"
         ],
         "type": "scatter",
         "x": [
          4.57590913772583
         ],
         "y": [
          5.893916606903076
         ]
        },
        {
         "line": {
          "color": "DarkSlateGrey",
          "width": 2
         },
         "marker": {
          "color": [
           0.267968,
           0.223549,
           0.512008
          ],
          "size": 9
         },
         "mode": "markers",
         "name": "##ril",
         "text": [
          "token: ##ril || tf   : 4.0 || cluster: 42"
         ],
         "type": "scatter",
         "x": [
          2.3645894527435303
         ],
         "y": [
          9.462870597839355
         ]
        },
        {
         "line": {
          "color": "DarkSlateGrey",
          "width": 2
         },
         "marker": {
          "color": [
           0.260571,
           0.246922,
           0.522828
          ],
          "size": 9
         },
         "mode": "markers",
         "name": "##ization",
         "text": [
          "token: ##ization || tf   : 2.0 || cluster: 47"
         ],
         "type": "scatter",
         "x": [
          2.892998456954956
         ],
         "y": [
          8.112833023071289
         ]
        },
        {
         "line": {
          "color": "DarkSlateGrey",
          "width": 2
         },
         "marker": {
          "color": [
           0.993248,
           0.906157,
           0.143936
          ],
          "size": 9
         },
         "mode": "markers",
         "name": "and",
         "text": [
          "token: and || tf   : 26.0 || cluster: -1"
         ],
         "type": "scatter",
         "x": [
          0.8589491248130798
         ],
         "y": [
          4.280690670013428
         ]
        },
        {
         "line": {
          "color": "DarkSlateGrey",
          "width": 2
         },
         "marker": {
          "color": [
           0.278826,
           0.17549,
           0.483397
          ],
          "size": 9
         },
         "mode": "markers",
         "name": "patients",
         "text": [
          "token: patients || tf   : 25.0 || cluster: 32"
         ],
         "type": "scatter",
         "x": [
          2.5798323154449463
         ],
         "y": [
          3.986332654953003
         ]
        },
        {
         "line": {
          "color": "DarkSlateGrey",
          "width": 2
         },
         "marker": {
          "color": [
           0.283197,
           0.11568,
           0.436115
          ],
          "size": 9
         },
         "mode": "markers",
         "name": "presented",
         "text": [
          "token: presented || tf   : 9.0 || cluster: 20"
         ],
         "type": "scatter",
         "x": [
          3.3413991928100586
         ],
         "y": [
          4.309385299682617
         ]
        },
        {
         "line": {
          "color": "DarkSlateGrey",
          "width": 2
         },
         "marker": {
          "color": [
           0.273809,
           0.031497,
           0.358853
          ],
          "size": 9
         },
         "mode": "markers",
         "name": "with",
         "text": [
          "token: with || tf   : 23.0 || cluster: 5"
         ],
         "type": "scatter",
         "x": [
          5.463415145874023
         ],
         "y": [
          6.6481614112854
         ]
        },
        {
         "line": {
          "color": "DarkSlateGrey",
          "width": 2
         },
         "marker": {
          "color": [
           0.28291,
           0.105393,
           0.426902
          ],
          "size": 9
         },
         "mode": "markers",
         "name": "features",
         "text": [
          "token: features || tf   : 4.0 || cluster: 18"
         ],
         "type": "scatter",
         "x": [
          4.144776344299316
         ],
         "y": [
          5.8713788986206055
         ]
        },
        {
         "line": {
          "color": "DarkSlateGrey",
          "width": 2
         },
         "marker": {
          "color": [
           0.262138,
           0.242286,
           0.520837
          ],
          "size": 9
         },
         "mode": "markers",
         "name": "poly",
         "text": [
          "token: poly || tf   : 1.0 || cluster: 46"
         ],
         "type": "scatter",
         "x": [
          3.5074307918548584
         ],
         "y": [
          8.385643005371094
         ]
        },
        {
         "line": {
          "color": "DarkSlateGrey",
          "width": 2
         },
         "marker": {
          "color": [
           0.993248,
           0.906157,
           0.143936
          ],
          "size": 9
         },
         "mode": "markers",
         "name": "##stic",
         "text": [
          "token: ##stic || tf   : 1.0 || cluster: -1"
         ],
         "type": "scatter",
         "x": [
          3.148711681365967
         ],
         "y": [
          8.747766494750977
         ]
        },
        {
         "line": {
          "color": "DarkSlateGrey",
          "width": 2
         },
         "marker": {
          "color": [
           0.276194,
           0.190074,
           0.493001
          ],
          "size": 9
         },
         "mode": "markers",
         "name": "##var",
         "text": [
          "token: ##var || tf   : 1.0 || cluster: 35"
         ],
         "type": "scatter",
         "x": [
          2.8950355052948
         ],
         "y": [
          9.082073211669922
         ]
        },
        {
         "line": {
          "color": "DarkSlateGrey",
          "width": 2
         },
         "marker": {
          "color": [
           0.276194,
           0.190074,
           0.493001
          ],
          "size": 9
         },
         "mode": "markers",
         "name": "##ian",
         "text": [
          "token: ##ian || tf   : 2.0 || cluster: 35"
         ],
         "type": "scatter",
         "x": [
          2.9070003032684326
         ],
         "y": [
          9.039495468139648
         ]
        },
        {
         "line": {
          "color": "DarkSlateGrey",
          "width": 2
         },
         "marker": {
          "color": [
           0.993248,
           0.906157,
           0.143936
          ],
          "size": 9
         },
         "mode": "markers",
         "name": "disease",
         "text": [
          "token: disease || tf   : 1.0 || cluster: -1"
         ],
         "type": "scatter",
         "x": [
          3.1035244464874268
         ],
         "y": [
          8.453861236572266
         ]
        },
        {
         "line": {
          "color": "DarkSlateGrey",
          "width": 2
         },
         "marker": {
          "color": [
           0.26851,
           0.009605,
           0.335427
          ],
          "size": 9
         },
         "mode": "markers",
         "name": "##os",
         "text": [
          "token: ##os || tf   : 3.0 || cluster: 1"
         ],
         "type": "scatter",
         "x": [
          3.829916477203369
         ],
         "y": [
          10.45809268951416
         ]
        },
        {
         "line": {
          "color": "DarkSlateGrey",
          "width": 2
         },
         "marker": {
          "color": [
           0.273006,
           0.20452,
           0.501721
          ],
          "size": 9
         },
         "mode": "markers",
         "name": "all",
         "text": [
          "token: all || tf   : 6.0 || cluster: 38"
         ],
         "type": "scatter",
         "x": [
          2.6909303665161133
         ],
         "y": [
          2.719539165496826
         ]
        },
        {
         "line": {
          "color": "DarkSlateGrey",
          "width": 2
         },
         "marker": {
          "color": [
           0.283091,
           0.110553,
           0.431554
          ],
          "size": 9
         },
         "mode": "markers",
         "name": "the",
         "text": [
          "token: the || tf   : 32.0 || cluster: 19"
         ],
         "type": "scatter",
         "x": [
          2.9036247730255127
         ],
         "y": [
          2.04970383644104
         ]
        },
        {
         "line": {
          "color": "DarkSlateGrey",
          "width": 2
         },
         "marker": {
          "color": [
           0.993248,
           0.906157,
           0.143936
          ],
          "size": 9
         },
         "mode": "markers",
         "name": "five",
         "text": [
          "token: five || tf   : 1.0 || cluster: -1"
         ],
         "type": "scatter",
         "x": [
          2.484873056411743
         ],
         "y": [
          2.925912618637085
         ]
        },
        {
         "line": {
          "color": "DarkSlateGrey",
          "width": 2
         },
         "marker": {
          "color": [
           0.278826,
           0.17549,
           0.483397
          ],
          "size": 9
         },
         "mode": "markers",
         "name": "patients",
         "text": [
          "token: patients || tf   : 25.0 || cluster: 32"
         ],
         "type": "scatter",
         "x": [
          2.5031659603118896
         ],
         "y": [
          4.013733386993408
         ]
        },
        {
         "line": {
          "color": "DarkSlateGrey",
          "width": 2
         },
         "marker": {
          "color": [
           0.282327,
           0.094955,
           0.417331
          ],
          "size": 9
         },
         "mode": "markers",
         "name": "who",
         "text": [
          "token: who || tf   : 4.0 || cluster: 16"
         ],
         "type": "scatter",
         "x": [
          3.109328269958496
         ],
         "y": [
          3.6613311767578125
         ]
        },
        {
         "line": {
          "color": "DarkSlateGrey",
          "width": 2
         },
         "marker": {
          "color": [
           0.283197,
           0.11568,
           0.436115
          ],
          "size": 9
         },
         "mode": "markers",
         "name": "presented",
         "text": [
          "token: presented || tf   : 9.0 || cluster: 20"
         ],
         "type": "scatter",
         "x": [
          3.301403522491455
         ],
         "y": [
          4.342628479003906
         ]
        },
        {
         "line": {
          "color": "DarkSlateGrey",
          "width": 2
         },
         "marker": {
          "color": [
           0.283091,
           0.110553,
           0.431554
          ],
          "size": 9
         },
         "mode": "markers",
         "name": "the",
         "text": [
          "token: the || tf   : 32.0 || cluster: 19"
         ],
         "type": "scatter",
         "x": [
          3.1792519092559814
         ],
         "y": [
          2.0620715618133545
         ]
        },
        {
         "line": {
          "color": "DarkSlateGrey",
          "width": 2
         },
         "marker": {
          "color": [
           0.276022,
           0.044167,
           0.370164
          ],
          "size": 9
         },
         "mode": "markers",
         "name": "late",
         "text": [
          "token: late || tf   : 4.0 || cluster: 7"
         ],
         "type": "scatter",
         "x": [
          3.452220916748047
         ],
         "y": [
          6.2903361320495605
         ]
        },
        {
         "line": {
          "color": "DarkSlateGrey",
          "width": 2
         },
         "marker": {
          "color": [
           0.278791,
           0.062145,
           0.386592
          ],
          "size": 9
         },
         "mode": "markers",
         "name": "adolescent",
         "text": [
          "token: adolescent || tf   : 2.0 || cluster: 10"
         ],
         "type": "scatter",
         "x": [
          3.6278860569000244
         ],
         "y": [
          6.837153434753418
         ]
        },
        {
         "line": {
          "color": "DarkSlateGrey",
          "width": 2
         },
         "marker": {
          "color": [
           0.993248,
           0.906157,
           0.143936
          ],
          "size": 9
         },
         "mode": "markers",
         "name": "period",
         "text": [
          "token: period || tf   : 4.0 || cluster: -1"
         ],
         "type": "scatter",
         "x": [
          3.031360387802124
         ],
         "y": [
          6.744262218475342
         ]
        },
        {
         "line": {
          "color": "DarkSlateGrey",
          "width": 2
         },
         "marker": {
          "color": [
           0.270595,
           0.214069,
           0.507052
          ],
          "size": 9
         },
         "mode": "markers",
         "name": "had",
         "text": [
          "token: had || tf   : 8.0 || cluster: 40"
         ],
         "type": "scatter",
         "x": [
          4.036281585693359
         ],
         "y": [
          4.151463985443115
         ]
        },
        {
         "line": {
          "color": "DarkSlateGrey",
          "width": 2
         },
         "marker": {
          "color": [
           0.281446,
           0.08432,
           0.407414
          ],
          "size": 9
         },
         "mode": "markers",
         "name": "obvious",
         "text": [
          "token: obvious || tf   : 1.0 || cluster: 14"
         ],
         "type": "scatter",
         "x": [
          4.485919952392578
         ],
         "y": [
          5.75221061706543
         ]
        },
        {
         "line": {
          "color": "DarkSlateGrey",
          "width": 2
         },
         "marker": {
          "color": [
           0.993248,
           0.906157,
           0.143936
          ],
          "size": 9
         },
         "mode": "markers",
         "name": "gen",
         "text": [
          "token: gen || tf   : 3.0 || cluster: -1"
         ],
         "type": "scatter",
         "x": [
          2.0919625759124756
         ],
         "y": [
          8.8610200881958
         ]
        },
        {
         "line": {
          "color": "DarkSlateGrey",
          "width": 2
         },
         "marker": {
          "color": [
           0.276194,
           0.190074,
           0.493001
          ],
          "size": 9
         },
         "mode": "markers",
         "name": "##ital",
         "text": [
          "token: ##ital || tf   : 3.0 || cluster: 35"
         ],
         "type": "scatter",
         "x": [
          2.688126564025879
         ],
         "y": [
          8.901810646057129
         ]
        },
        {
         "line": {
          "color": "DarkSlateGrey",
          "width": 2
         },
         "marker": {
          "color": [
           0.993248,
           0.906157,
           0.143936
          ],
          "size": 9
         },
         "mode": "markers",
         "name": "ambiguity",
         "text": [
          "token: ambiguity || tf   : 3.0 || cluster: -1"
         ],
         "type": "scatter",
         "x": [
          2.9941062927246094
         ],
         "y": [
          7.884835720062256
         ]
        },
        {
         "line": {
          "color": "DarkSlateGrey",
          "width": 2
         },
         "marker": {
          "color": [
           0.276022,
           0.044167,
           0.370164
          ],
          "size": 9
         },
         "mode": "markers",
         "name": "from",
         "text": [
          "token: from || tf   : 2.0 || cluster: 7"
         ],
         "type": "scatter",
         "x": [
          3.443232774734497
         ],
         "y": [
          6.0324625968933105
         ]
        },
        {
         "line": {
          "color": "DarkSlateGrey",
          "width": 2
         },
         "marker": {
          "color": [
           0.278791,
           0.062145,
           0.386592
          ],
          "size": 9
         },
         "mode": "markers",
         "name": "birth",
         "text": [
          "token: birth || tf   : 4.0 || cluster: 10"
         ],
         "type": "scatter",
         "x": [
          3.3427772521972656
         ],
         "y": [
          6.711837291717529
         ]
        },
        {
         "line": {
          "color": "DarkSlateGrey",
          "width": 2
         },
         "marker": {
          "color": [
           0.274128,
           0.199721,
           0.498911
          ],
          "size": 9
         },
         "mode": "markers",
         "name": "however",
         "text": [
          "token: however || tf   : 3.0 || cluster: 37"
         ],
         "type": "scatter",
         "x": [
          5.023914813995361
         ],
         "y": [
          4.079505920410156
         ]
        },
        {
         "line": {
          "color": "DarkSlateGrey",
          "width": 2
         },
         "marker": {
          "color": [
           0.282327,
           0.094955,
           0.417331
          ],
          "size": 9
         },
         "mode": "markers",
         "name": "they",
         "text": [
          "token: they || tf   : 3.0 || cluster: 16"
         ],
         "type": "scatter",
         "x": [
          3.261334180831909
         ],
         "y": [
          3.640908718109131
         ]
        },
        {
         "line": {
          "color": "DarkSlateGrey",
          "width": 2
         },
         "marker": {
          "color": [
           0.993248,
           0.906157,
           0.143936
          ],
          "size": 9
         },
         "mode": "markers",
         "name": "sought",
         "text": [
          "token: sought || tf   : 2.0 || cluster: -1"
         ],
         "type": "scatter",
         "x": [
          4.15056848526001
         ],
         "y": [
          4.561731815338135
         ]
        },
        {
         "line": {
          "color": "DarkSlateGrey",
          "width": 2
         },
         "marker": {
          "color": [
           0.283229,
           0.120777,
           0.440584
          ],
          "size": 9
         },
         "mode": "markers",
         "name": "medical",
         "text": [
          "token: medical || tf   : 3.0 || cluster: 21"
         ],
         "type": "scatter",
         "x": [
          2.949509859085083
         ],
         "y": [
          5.068862438201904
         ]
        },
        {
         "line": {
          "color": "DarkSlateGrey",
          "width": 2
         },
         "marker": {
          "color": [
           0.283229,
           0.120777,
           0.440584
          ],
          "size": 9
         },
         "mode": "markers",
         "name": "attention",
         "text": [
          "token: attention || tf   : 1.0 || cluster: 21"
         ],
         "type": "scatter",
         "x": [
          2.9810471534729004
         ],
         "y": [
          5.042897701263428
         ]
        },
        {
         "line": {
          "color": "DarkSlateGrey",
          "width": 2
         },
         "marker": {
          "color": [
           0.274128,
           0.199721,
           0.498911
          ],
          "size": 9
         },
         "mode": "markers",
         "name": "only",
         "text": [
          "token: only || tf   : 2.0 || cluster: 37"
         ],
         "type": "scatter",
         "x": [
          4.736776351928711
         ],
         "y": [
          4.433243274688721
         ]
        },
        {
         "line": {
          "color": "DarkSlateGrey",
          "width": 2
         },
         "marker": {
          "color": [
           0.993248,
           0.906157,
           0.143936
          ],
          "size": 9
         },
         "mode": "markers",
         "name": "much",
         "text": [
          "token: much || tf   : 1.0 || cluster: -1"
         ],
         "type": "scatter",
         "x": [
          4.854579448699951
         ],
         "y": [
          4.412754058837891
         ]
        },
        {
         "line": {
          "color": "DarkSlateGrey",
          "width": 2
         },
         "marker": {
          "color": [
           0.281412,
           0.155834,
           0.469201
          ],
          "size": 9
         },
         "mode": "markers",
         "name": "later",
         "text": [
          "token: later || tf   : 1.0 || cluster: 28"
         ],
         "type": "scatter",
         "x": [
          4.706189155578613
         ],
         "y": [
          4.604411602020264
         ]
        },
        {
         "line": {
          "color": "DarkSlateGrey",
          "width": 2
         },
         "marker": {
          "color": [
           0.281412,
           0.155834,
           0.469201
          ],
          "size": 9
         },
         "mode": "markers",
         "name": "due",
         "text": [
          "token: due || tf   : 4.0 || cluster: 28"
         ],
         "type": "scatter",
         "x": [
          4.860341548919678
         ],
         "y": [
          4.746581554412842
         ]
        },
        {
         "line": {
          "color": "DarkSlateGrey",
          "width": 2
         },
         "marker": {
          "color": [
           0.281446,
           0.08432,
           0.407414
          ],
          "size": 9
         },
         "mode": "markers",
         "name": "marked",
         "text": [
          "token: marked || tf   : 2.0 || cluster: 14"
         ],
         "type": "scatter",
         "x": [
          4.618931293487549
         ],
         "y": [
          5.769598484039307
         ]
        },
        {
         "line": {
          "color": "DarkSlateGrey",
          "width": 2
         },
         "marker": {
          "color": [
           0.267968,
           0.223549,
           0.512008
          ],
          "size": 9
         },
         "mode": "markers",
         "name": "##ril",
         "text": [
          "token: ##ril || tf   : 4.0 || cluster: 42"
         ],
         "type": "scatter",
         "x": [
          2.281489372253418
         ],
         "y": [
          9.437172889709473
         ]
        },
        {
         "line": {
          "color": "DarkSlateGrey",
          "width": 2
         },
         "marker": {
          "color": [
           0.260571,
           0.246922,
           0.522828
          ],
          "size": 9
         },
         "mode": "markers",
         "name": "##ization",
         "text": [
          "token: ##ization || tf   : 2.0 || cluster: 47"
         ],
         "type": "scatter",
         "x": [
          2.8463358879089355
         ],
         "y": [
          8.137992858886719
         ]
        },
        {
         "line": {
          "color": "DarkSlateGrey",
          "width": 2
         },
         "marker": {
          "color": [
           0.283072,
           0.130895,
           0.449241
          ],
          "size": 9
         },
         "mode": "markers",
         "name": "and",
         "text": [
          "token: and || tf   : 26.0 || cluster: 23"
         ],
         "type": "scatter",
         "x": [
          5.061577796936035
         ],
         "y": [
          5.126100540161133
         ]
        },
        {
         "line": {
          "color": "DarkSlateGrey",
          "width": 2
         },
         "marker": {
          "color": [
           0.993248,
           0.906157,
           0.143936
          ],
          "size": 9
         },
         "mode": "markers",
         "name": "failure",
         "text": [
          "token: failure || tf   : 2.0 || cluster: -1"
         ],
         "type": "scatter",
         "x": [
          5.234218120574951
         ],
         "y": [
          5.430462837219238
         ]
        },
        {
         "line": {
          "color": "DarkSlateGrey",
          "width": 2
         },
         "marker": {
          "color": [
           0.993248,
           0.906157,
           0.143936
          ],
          "size": 9
         },
         "mode": "markers",
         "name": "attain",
         "text": [
          "token: attain || tf   : 1.0 || cluster: -1"
         ],
         "type": "scatter",
         "x": [
          5.340127944946289
         ],
         "y": [
          5.4469122886657715
         ]
        },
        {
         "line": {
          "color": "DarkSlateGrey",
          "width": 2
         },
         "marker": {
          "color": [
           0.993248,
           0.906157,
           0.143936
          ],
          "size": 9
         },
         "mode": "markers",
         "name": "men",
         "text": [
          "token: men || tf   : 1.0 || cluster: -1"
         ],
         "type": "scatter",
         "x": [
          2.228452444076538
         ],
         "y": [
          8.933117866516113
         ]
        },
        {
         "line": {
          "color": "DarkSlateGrey",
          "width": 2
         },
         "marker": {
          "color": [
           0.263663,
           0.237631,
           0.518762
          ],
          "size": 9
         },
         "mode": "markers",
         "name": "##ar",
         "text": [
          "token: ##ar || tf   : 4.0 || cluster: 45"
         ],
         "type": "scatter",
         "x": [
          1.6878870725631714
         ],
         "y": [
          8.736109733581543
         ]
        },
        {
         "line": {
          "color": "DarkSlateGrey",
          "width": 2
         },
         "marker": {
          "color": [
           0.993248,
           0.906157,
           0.143936
          ],
          "size": 9
         },
         "mode": "markers",
         "name": "##che",
         "text": [
          "token: ##che || tf   : 4.0 || cluster: -1"
         ],
         "type": "scatter",
         "x": [
          2.575686454772949
         ],
         "y": [
          8.098018646240234
         ]
        },
        {
         "line": {
          "color": "DarkSlateGrey",
          "width": 2
         },
         "marker": {
          "color": [
           0.993248,
           0.906157,
           0.143936
          ],
          "size": 9
         },
         "mode": "markers",
         "name": "one",
         "text": [
          "token: one || tf   : 6.0 || cluster: -1"
         ],
         "type": "scatter",
         "x": [
          2.048583984375
         ],
         "y": [
          3.194810390472412
         ]
        },
        {
         "line": {
          "color": "DarkSlateGrey",
          "width": 2
         },
         "marker": {
          "color": [
           0.271828,
           0.209303,
           0.504434
          ],
          "size": 9
         },
         "mode": "markers",
         "name": "among",
         "text": [
          "token: among || tf   : 6.0 || cluster: 39"
         ],
         "type": "scatter",
         "x": [
          2.578181743621826
         ],
         "y": [
          3.2788705825805664
         ]
        },
        {
         "line": {
          "color": "DarkSlateGrey",
          "width": 2
         },
         "marker": {
          "color": [
           0.282327,
           0.094955,
           0.417331
          ],
          "size": 9
         },
         "mode": "markers",
         "name": "them",
         "text": [
          "token: them || tf   : 1.0 || cluster: 16"
         ],
         "type": "scatter",
         "x": [
          3.0761771202087402
         ],
         "y": [
          3.548708200454712
         ]
        },
        {
         "line": {
          "color": "DarkSlateGrey",
          "width": 2
         },
         "marker": {
          "color": [
           0.993248,
           0.906157,
           0.143936
          ],
          "size": 9
         },
         "mode": "markers",
         "name": "had",
         "text": [
          "token: had || tf   : 8.0 || cluster: -1"
         ],
         "type": "scatter",
         "x": [
          4.272903919219971
         ],
         "y": [
          4.252122402191162
         ]
        },
        {
         "line": {
          "color": "DarkSlateGrey",
          "width": 2
         },
         "marker": {
          "color": [
           0.274128,
           0.199721,
           0.498911
          ],
          "size": 9
         },
         "mode": "markers",
         "name": "actually",
         "text": [
          "token: actually || tf   : 1.0 || cluster: 37"
         ],
         "type": "scatter",
         "x": [
          4.609772205352783
         ],
         "y": [
          4.32033109664917
         ]
        },
        {
         "line": {
          "color": "DarkSlateGrey",
          "width": 2
         },
         "marker": {
          "color": [
           0.993248,
           0.906157,
           0.143936
          ],
          "size": 9
         },
         "mode": "markers",
         "name": "been",
         "text": [
          "token: been || tf   : 1.0 || cluster: -1"
         ],
         "type": "scatter",
         "x": [
          4.219911575317383
         ],
         "y": [
          4.2939348220825195
         ]
        },
        {
         "line": {
          "color": "DarkSlateGrey",
          "width": 2
         },
         "marker": {
          "color": [
           0.283229,
           0.120777,
           0.440584
          ],
          "size": 9
         },
         "mode": "markers",
         "name": "evaluated",
         "text": [
          "token: evaluated || tf   : 2.0 || cluster: 21"
         ],
         "type": "scatter",
         "x": [
          3.126668691635132
         ],
         "y": [
          4.761263370513916
         ]
        },
        {
         "line": {
          "color": "DarkSlateGrey",
          "width": 2
         },
         "marker": {
          "color": [
           0.281412,
           0.155834,
           0.469201
          ],
          "size": 9
         },
         "mode": "markers",
         "name": "and",
         "text": [
          "token: and || tf   : 26.0 || cluster: 28"
         ],
         "type": "scatter",
         "x": [
          4.8910956382751465
         ],
         "y": [
          4.802618026733398
         ]
        },
        {
         "line": {
          "color": "DarkSlateGrey",
          "width": 2
         },
         "marker": {
          "color": [
           0.274128,
           0.199721,
           0.498911
          ],
          "size": 9
         },
         "mode": "markers",
         "name": "even",
         "text": [
          "token: even || tf   : 2.0 || cluster: 37"
         ],
         "type": "scatter",
         "x": [
          4.812387466430664
         ],
         "y": [
          4.335930824279785
         ]
        },
        {
         "line": {
          "color": "DarkSlateGrey",
          "width": 2
         },
         "marker": {
          "color": [
           0.993248,
           0.906157,
           0.143936
          ],
          "size": 9
         },
         "mode": "markers",
         "name": "underwent",
         "text": [
          "token: underwent || tf   : 2.0 || cluster: -1"
         ],
         "type": "scatter",
         "x": [
          4.020130157470703
         ],
         "y": [
          4.530391216278076
         ]
        },
        {
         "line": {
          "color": "DarkSlateGrey",
          "width": 2
         },
         "marker": {
          "color": [
           0.993248,
           0.906157,
           0.143936
          ],
          "size": 9
         },
         "mode": "markers",
         "name": "clit",
         "text": [
          "token: clit || tf   : 1.0 || cluster: -1"
         ],
         "type": "scatter",
         "x": [
          1.8293523788452148
         ],
         "y": [
          9.666470527648926
         ]
        },
        {
         "line": {
          "color": "DarkSlateGrey",
          "width": 2
         },
         "marker": {
          "color": [
           0.267968,
           0.223549,
           0.512008
          ],
          "size": 9
         },
         "mode": "markers",
         "name": "##oro",
         "text": [
          "token: ##oro || tf   : 1.0 || cluster: 42"
         ],
         "type": "scatter",
         "x": [
          2.251598834991455
         ],
         "y": [
          9.599857330322266
         ]
        },
        {
         "line": {
          "color": "DarkSlateGrey",
          "width": 2
         },
         "marker": {
          "color": [
           0.267968,
           0.223549,
           0.512008
          ],
          "size": 9
         },
         "mode": "markers",
         "name": "##pl",
         "text": [
          "token: ##pl || tf   : 2.0 || cluster: 42"
         ],
         "type": "scatter",
         "x": [
          1.9705095291137695
         ],
         "y": [
          9.613483428955078
         ]
        },
        {
         "line": {
          "color": "DarkSlateGrey",
          "width": 2
         },
         "marker": {
          "color": [
           0.993248,
           0.906157,
           0.143936
          ],
          "size": 9
         },
         "mode": "markers",
         "name": "##ast",
         "text": [
          "token: ##ast || tf   : 1.0 || cluster: -1"
         ],
         "type": "scatter",
         "x": [
          2.8535804748535156
         ],
         "y": [
          9.59453010559082
         ]
        },
        {
         "line": {
          "color": "DarkSlateGrey",
          "width": 2
         },
         "marker": {
          "color": [
           0.260571,
           0.246922,
           0.522828
          ],
          "size": 9
         },
         "mode": "markers",
         "name": "##y",
         "text": [
          "token: ##y || tf   : 1.0 || cluster: 47"
         ],
         "type": "scatter",
         "x": [
          2.866974115371704
         ],
         "y": [
          8.32667064666748
         ]
        },
        {
         "line": {
          "color": "DarkSlateGrey",
          "width": 2
         },
         "marker": {
          "color": [
           0.278791,
           0.062145,
           0.386592
          ],
          "size": 9
         },
         "mode": "markers",
         "name": "young",
         "text": [
          "token: young || tf   : 1.0 || cluster: 10"
         ],
         "type": "scatter",
         "x": [
          3.574012279510498
         ],
         "y": [
          6.714987754821777
         ]
        },
        {
         "line": {
          "color": "DarkSlateGrey",
          "width": 2
         },
         "marker": {
          "color": [
           0.278791,
           0.062145,
           0.386592
          ],
          "size": 9
         },
         "mode": "markers",
         "name": "age",
         "text": [
          "token: age || tf   : 4.0 || cluster: 10"
         ],
         "type": "scatter",
         "x": [
          3.613375663757324
         ],
         "y": [
          6.869952201843262
         ]
        },
        {
         "line": {
          "color": "DarkSlateGrey",
          "width": 2
         },
         "marker": {
          "color": [
           0.274128,
           0.199721,
           0.498911
          ],
          "size": 9
         },
         "mode": "markers",
         "name": "but",
         "text": [
          "token: but || tf   : 1.0 || cluster: 37"
         ],
         "type": "scatter",
         "x": [
          5.036775588989258
         ],
         "y": [
          4.124589443206787
         ]
        },
        {
         "line": {
          "color": "DarkSlateGrey",
          "width": 2
         },
         "marker": {
          "color": [
           0.274128,
           0.199721,
           0.498911
          ],
          "size": 9
         },
         "mode": "markers",
         "name": "unfortunately",
         "text": [
          "token: unfortunately || tf   : 1.0 || cluster: 37"
         ],
         "type": "scatter",
         "x": [
          4.947300910949707
         ],
         "y": [
          4.103559970855713
         ]
        },
        {
         "line": {
          "color": "DarkSlateGrey",
          "width": 2
         },
         "marker": {
          "color": [
           0.993248,
           0.906157,
           0.143936
          ],
          "size": 9
         },
         "mode": "markers",
         "name": "the",
         "text": [
          "token: the || tf   : 32.0 || cluster: -1"
         ],
         "type": "scatter",
         "x": [
          4.509897232055664
         ],
         "y": [
          3.8712880611419678
         ]
        },
        {
         "line": {
          "color": "DarkSlateGrey",
          "width": 2
         },
         "marker": {
          "color": [
           0.283229,
           0.120777,
           0.440584
          ],
          "size": 9
         },
         "mode": "markers",
         "name": "diagnosis",
         "text": [
          "token: diagnosis || tf   : 2.0 || cluster: 21"
         ],
         "type": "scatter",
         "x": [
          3.4175024032592773
         ],
         "y": [
          4.805022716522217
         ]
        },
        {
         "line": {
          "color": "DarkSlateGrey",
          "width": 2
         },
         "marker": {
          "color": [
           0.26851,
           0.009605,
           0.335427
          ],
          "size": 9
         },
         "mode": "markers",
         "name": "##h",
         "text": [
          "token: ##h || tf   : 17.0 || cluster: 1"
         ],
         "type": "scatter",
         "x": [
          3.899829149246216
         ],
         "y": [
          10.721211433410645
         ]
        },
        {
         "line": {
          "color": "DarkSlateGrey",
          "width": 2
         },
         "marker": {
          "color": [
           0.993248,
           0.906157,
           0.143936
          ],
          "size": 9
         },
         "mode": "markers",
         "name": "was",
         "text": [
          "token: was || tf   : 15.0 || cluster: -1"
         ],
         "type": "scatter",
         "x": [
          4.310389518737793
         ],
         "y": [
          3.9702041149139404
         ]
        },
        {
         "line": {
          "color": "DarkSlateGrey",
          "width": 2
         },
         "marker": {
          "color": [
           0.993248,
           0.906157,
           0.143936
          ],
          "size": 9
         },
         "mode": "markers",
         "name": "missed",
         "text": [
          "token: missed || tf   : 1.0 || cluster: -1"
         ],
         "type": "scatter",
         "x": [
          4.544355869293213
         ],
         "y": [
          4.270808696746826
         ]
        },
        {
         "line": {
          "color": "DarkSlateGrey",
          "width": 2
         },
         "marker": {
          "color": [
           0.282327,
           0.094955,
           0.417331
          ],
          "size": 9
         },
         "mode": "markers",
         "name": "she",
         "text": [
          "token: she || tf   : 1.0 || cluster: 16"
         ],
         "type": "scatter",
         "x": [
          3.1151881217956543
         ],
         "y": [
          3.86250901222229
         ]
        },
        {
         "line": {
          "color": "DarkSlateGrey",
          "width": 2
         },
         "marker": {
          "color": [
           0.270595,
           0.214069,
           0.507052
          ],
          "size": 9
         },
         "mode": "markers",
         "name": "was",
         "text": [
          "token: was || tf   : 15.0 || cluster: 40"
         ],
         "type": "scatter",
         "x": [
          4.165953159332275
         ],
         "y": [
          4.213696002960205
         ]
        },
        {
         "line": {
          "color": "DarkSlateGrey",
          "width": 2
         },
         "marker": {
          "color": [
           0.274128,
           0.199721,
           0.498911
          ],
          "size": 9
         },
         "mode": "markers",
         "name": "mistakenly",
         "text": [
          "token: mistakenly || tf   : 1.0 || cluster: 37"
         ],
         "type": "scatter",
         "x": [
          4.50311279296875
         ],
         "y": [
          4.248342990875244
         ]
        },
        {
         "line": {
          "color": "DarkSlateGrey",
          "width": 2
         },
         "marker": {
          "color": [
           0.993248,
           0.906157,
           0.143936
          ],
          "size": 9
         },
         "mode": "markers",
         "name": "categorized",
         "text": [
          "token: categorized || tf   : 1.0 || cluster: -1"
         ],
         "type": "scatter",
         "x": [
          3.664713144302368
         ],
         "y": [
          4.811137676239014
         ]
        },
        {
         "line": {
          "color": "DarkSlateGrey",
          "width": 2
         },
         "marker": {
          "color": [
           0.993248,
           0.906157,
           0.143936
          ],
          "size": 9
         },
         "mode": "markers",
         "name": "probable",
         "text": [
          "token: probable || tf   : 1.0 || cluster: -1"
         ],
         "type": "scatter",
         "x": [
          4.602935791015625
         ],
         "y": [
          5.953990459442139
         ]
        },
        {
         "line": {
          "color": "DarkSlateGrey",
          "width": 2
         },
         "marker": {
          "color": [
           0.993248,
           0.906157,
           0.143936
          ],
          "size": 9
         },
         "mode": "markers",
         "name": "##vo",
         "text": [
          "token: ##vo || tf   : 1.0 || cluster: -1"
         ],
         "type": "scatter",
         "x": [
          3.0414390563964844
         ],
         "y": [
          9.518592834472656
         ]
        },
        {
         "line": {
          "color": "DarkSlateGrey",
          "width": 2
         },
         "marker": {
          "color": [
           0.276194,
           0.190074,
           0.493001
          ],
          "size": 9
         },
         "mode": "markers",
         "name": "test",
         "text": [
          "token: test || tf   : 1.0 || cluster: 35"
         ],
         "type": "scatter",
         "x": [
          2.737273931503296
         ],
         "y": [
          9.286218643188477
         ]
        },
        {
         "line": {
          "color": "DarkSlateGrey",
          "width": 2
         },
         "marker": {
          "color": [
           0.276194,
           0.190074,
           0.493001
          ],
          "size": 9
         },
         "mode": "markers",
         "name": "##icular",
         "text": [
          "token: ##icular || tf   : 1.0 || cluster: 35"
         ],
         "type": "scatter",
         "x": [
          2.839719533920288
         ],
         "y": [
          9.172388076782227
         ]
        },
        {
         "line": {
          "color": "DarkSlateGrey",
          "width": 2
         },
         "marker": {
          "color": [
           0.26851,
           0.009605,
           0.335427
          ],
          "size": 9
         },
         "mode": "markers",
         "name": "##d",
         "text": [
          "token: ##d || tf   : 1.0 || cluster: 1"
         ],
         "type": "scatter",
         "x": [
          3.6658341884613037
         ],
         "y": [
          10.181663513183594
         ]
        },
        {
         "line": {
          "color": "DarkSlateGrey",
          "width": 2
         },
         "marker": {
          "color": [
           0.281412,
           0.155834,
           0.469201
          ],
          "size": 9
         },
         "mode": "markers",
         "name": "due",
         "text": [
          "token: due || tf   : 4.0 || cluster: 28"
         ],
         "type": "scatter",
         "x": [
          4.816606521606445
         ],
         "y": [
          4.7398505210876465
         ]
        },
        {
         "line": {
          "color": "DarkSlateGrey",
          "width": 2
         },
         "marker": {
          "color": [
           0.28291,
           0.105393,
           0.426902
          ],
          "size": 9
         },
         "mode": "markers",
         "name": "presence",
         "text": [
          "token: presence || tf   : 2.0 || cluster: 18"
         ],
         "type": "scatter",
         "x": [
          3.825319766998291
         ],
         "y": [
          5.6743483543396
         ]
        },
        {
         "line": {
          "color": "DarkSlateGrey",
          "width": 2
         },
         "marker": {
          "color": [
           0.276194,
           0.190074,
           0.493001
          ],
          "size": 9
         },
         "mode": "markers",
         "name": "muller",
         "text": [
          "token: muller || tf   : 1.0 || cluster: 35"
         ],
         "type": "scatter",
         "x": [
          3.3696157932281494
         ],
         "y": [
          9.299172401428223
         ]
        },
        {
         "line": {
          "color": "DarkSlateGrey",
          "width": 2
         },
         "marker": {
          "color": [
           0.276194,
           0.190074,
           0.493001
          ],
          "size": 9
         },
         "mode": "markers",
         "name": "##ian",
         "text": [
          "token: ##ian || tf   : 2.0 || cluster: 35"
         ],
         "type": "scatter",
         "x": [
          3.1486337184906006
         ],
         "y": [
          9.08960247039795
         ]
        },
        {
         "line": {
          "color": "DarkSlateGrey",
          "width": 2
         },
         "marker": {
          "color": [
           0.283187,
           0.125848,
           0.44496
          ],
          "size": 9
         },
         "mode": "markers",
         "name": "structures",
         "text": [
          "token: structures || tf   : 1.0 || cluster: 22"
         ],
         "type": "scatter",
         "x": [
          3.7681331634521484
         ],
         "y": [
          8.6155366897583
         ]
        },
        {
         "line": {
          "color": "DarkSlateGrey",
          "width": 2
         },
         "marker": {
          "color": [
           0.273809,
           0.031497,
           0.358853
          ],
          "size": 9
         },
         "mode": "markers",
         "name": "with",
         "text": [
          "token: with || tf   : 23.0 || cluster: 5"
         ],
         "type": "scatter",
         "x": [
          5.190534591674805
         ],
         "y": [
          6.288161754608154
         ]
        },
        {
         "line": {
          "color": "DarkSlateGrey",
          "width": 2
         },
         "marker": {
          "color": [
           0.993248,
           0.906157,
           0.143936
          ],
          "size": 9
         },
         "mode": "markers",
         "name": "##all",
         "text": [
          "token: ##all || tf   : 1.0 || cluster: -1"
         ],
         "type": "scatter",
         "x": [
          3.138728380203247
         ],
         "y": [
          9.367406845092773
         ]
        },
        {
         "line": {
          "color": "DarkSlateGrey",
          "width": 2
         },
         "marker": {
          "color": [
           0.276194,
           0.190074,
           0.493001
          ],
          "size": 9
         },
         "mode": "markers",
         "name": "##ic",
         "text": [
          "token: ##ic || tf   : 1.0 || cluster: 35"
         ],
         "type": "scatter",
         "x": [
          3.3169775009155273
         ],
         "y": [
          9.083449363708496
         ]
        },
        {
         "line": {
          "color": "DarkSlateGrey",
          "width": 2
         },
         "marker": {
          "color": [
           0.283187,
           0.125848,
           0.44496
          ],
          "size": 9
         },
         "mode": "markers",
         "name": "length",
         "text": [
          "token: length || tf   : 1.0 || cluster: 22"
         ],
         "type": "scatter",
         "x": [
          3.9708192348480225
         ],
         "y": [
          8.427562713623047
         ]
        },
        {
         "line": {
          "color": "DarkSlateGrey",
          "width": 2
         },
         "marker": {
          "color": [
           0.993248,
           0.906157,
           0.143936
          ],
          "size": 9
         },
         "mode": "markers",
         "name": "around",
         "text": [
          "token: around || tf   : 3.0 || cluster: -1"
         ],
         "type": "scatter",
         "x": [
          3.129579544067383
         ],
         "y": [
          3.007986545562744
         ]
        },
        {
         "line": {
          "color": "DarkSlateGrey",
          "width": 2
         },
         "marker": {
          "color": [
           0.273006,
           0.20452,
           0.501721
          ],
          "size": 9
         },
         "mode": "markers",
         "name": "all",
         "text": [
          "token: all || tf   : 6.0 || cluster: 38"
         ],
         "type": "scatter",
         "x": [
          2.742037773132324
         ],
         "y": [
          2.6658108234405518
         ]
        },
        {
         "line": {
          "color": "DarkSlateGrey",
          "width": 2
         },
         "marker": {
          "color": [
           0.283091,
           0.110553,
           0.431554
          ],
          "size": 9
         },
         "mode": "markers",
         "name": "these",
         "text": [
          "token: these || tf   : 1.0 || cluster: 19"
         ],
         "type": "scatter",
         "x": [
          2.7880003452301025
         ],
         "y": [
          2.25117826461792
         ]
        },
        {
         "line": {
          "color": "DarkSlateGrey",
          "width": 2
         },
         "marker": {
          "color": [
           0.279574,
           0.170599,
           0.479997
          ],
          "size": 9
         },
         "mode": "markers",
         "name": "women",
         "text": [
          "token: women || tf   : 2.0 || cluster: 31"
         ],
         "type": "scatter",
         "x": [
          2.2237775325775146
         ],
         "y": [
          4.161597728729248
         ]
        },
        {
         "line": {
          "color": "DarkSlateGrey",
          "width": 2
         },
         "marker": {
          "color": [
           0.270595,
           0.214069,
           0.507052
          ],
          "size": 9
         },
         "mode": "markers",
         "name": "had",
         "text": [
          "token: had || tf   : 8.0 || cluster: 40"
         ],
         "type": "scatter",
         "x": [
          4.019969463348389
         ],
         "y": [
          4.053953170776367
         ]
        },
        {
         "line": {
          "color": "DarkSlateGrey",
          "width": 2
         },
         "marker": {
          "color": [
           0.279566,
           0.067836,
           0.391917
          ],
          "size": 9
         },
         "mode": "markers",
         "name": "masculine",
         "text": [
          "token: masculine || tf   : 1.0 || cluster: 11"
         ],
         "type": "scatter",
         "x": [
          5.500909805297852
         ],
         "y": [
          5.7832207679748535
         ]
        },
        {
         "line": {
          "color": "DarkSlateGrey",
          "width": 2
         },
         "marker": {
          "color": [
           0.279566,
           0.067836,
           0.391917
          ],
          "size": 9
         },
         "mode": "markers",
         "name": "built",
         "text": [
          "token: built || tf   : 1.0 || cluster: 11"
         ],
         "type": "scatter",
         "x": [
          5.578943729400635
         ],
         "y": [
          5.838650226593018
         ]
        },
        {
         "line": {
          "color": "DarkSlateGrey",
          "width": 2
         },
         "marker": {
          "color": [
           0.283229,
           0.120777,
           0.440584
          ],
          "size": 9
         },
         "mode": "markers",
         "name": "presentation",
         "text": [
          "token: presentation || tf   : 3.0 || cluster: 21"
         ],
         "type": "scatter",
         "x": [
          3.4729769229888916
         ],
         "y": [
          5.0675435066223145
         ]
        },
        {
         "line": {
          "color": "DarkSlateGrey",
          "width": 2
         },
         "marker": {
          "color": [
           0.273809,
           0.031497,
           0.358853
          ],
          "size": 9
         },
         "mode": "markers",
         "name": "with",
         "text": [
          "token: with || tf   : 23.0 || cluster: 5"
         ],
         "type": "scatter",
         "x": [
          5.284759998321533
         ],
         "y": [
          6.246860504150391
         ]
        },
        {
         "line": {
          "color": "DarkSlateGrey",
          "width": 2
         },
         "marker": {
          "color": [
           0.281446,
           0.08432,
           0.407414
          ],
          "size": 9
         },
         "mode": "markers",
         "name": "poor",
         "text": [
          "token: poor || tf   : 2.0 || cluster: 14"
         ],
         "type": "scatter",
         "x": [
          4.832570552825928
         ],
         "y": [
          5.644648551940918
         ]
        },
        {
         "line": {
          "color": "DarkSlateGrey",
          "width": 2
         },
         "marker": {
          "color": [
           0.276194,
           0.190074,
           0.493001
          ],
          "size": 9
         },
         "mode": "markers",
         "name": "breast",
         "text": [
          "token: breast || tf   : 1.0 || cluster: 35"
         ],
         "type": "scatter",
         "x": [
          2.8915977478027344
         ],
         "y": [
          8.942312240600586
         ]
        },
        {
         "line": {
          "color": "DarkSlateGrey",
          "width": 2
         },
         "marker": {
          "color": [
           0.993248,
           0.906157,
           0.143936
          ],
          "size": 9
         },
         "mode": "markers",
         "name": "development",
         "text": [
          "token: development || tf   : 1.0 || cluster: -1"
         ],
         "type": "scatter",
         "x": [
          3.592543125152588
         ],
         "y": [
          7.602077484130859
         ]
        },
        {
         "line": {
          "color": "DarkSlateGrey",
          "width": 2
         },
         "marker": {
          "color": [
           0.281446,
           0.08432,
           0.407414
          ],
          "size": 9
         },
         "mode": "markers",
         "name": "severe",
         "text": [
          "token: severe || tf   : 1.0 || cluster: 14"
         ],
         "type": "scatter",
         "x": [
          4.627602577209473
         ],
         "y": [
          5.8354597091674805
         ]
        },
        {
         "line": {
          "color": "DarkSlateGrey",
          "width": 2
         },
         "marker": {
          "color": [
           0.993248,
           0.906157,
           0.143936
          ],
          "size": 9
         },
         "mode": "markers",
         "name": "##rs",
         "text": [
          "token: ##rs || tf   : 3.0 || cluster: -1"
         ],
         "type": "scatter",
         "x": [
          1.8590060472488403
         ],
         "y": [
          9.266504287719727
         ]
        },
        {
         "line": {
          "color": "DarkSlateGrey",
          "width": 2
         },
         "marker": {
          "color": [
           0.267968,
           0.223549,
           0.512008
          ],
          "size": 9
         },
         "mode": "markers",
         "name": "##uti",
         "text": [
          "token: ##uti || tf   : 3.0 || cluster: 42"
         ],
         "type": "scatter",
         "x": [
          2.232797384262085
         ],
         "y": [
          9.224729537963867
         ]
        },
        {
         "line": {
          "color": "DarkSlateGrey",
          "width": 2
         },
         "marker": {
          "color": [
           0.260571,
           0.246922,
           0.522828
          ],
          "size": 9
         },
         "mode": "markers",
         "name": "##sm",
         "text": [
          "token: ##sm || tf   : 3.0 || cluster: 47"
         ],
         "type": "scatter",
         "x": [
          3.0330724716186523
         ],
         "y": [
          8.235733985900879
         ]
        },
        {
         "line": {
          "color": "DarkSlateGrey",
          "width": 2
         },
         "marker": {
          "color": [
           0.262138,
           0.242286,
           0.520837
          ],
          "size": 9
         },
         "mode": "markers",
         "name": "muscular",
         "text": [
          "token: muscular || tf   : 1.0 || cluster: 46"
         ],
         "type": "scatter",
         "x": [
          3.6531593799591064
         ],
         "y": [
          8.220481872558594
         ]
        },
        {
         "line": {
          "color": "DarkSlateGrey",
          "width": 2
         },
         "marker": {
          "color": [
           0.262138,
           0.242286,
           0.520837
          ],
          "size": 9
         },
         "mode": "markers",
         "name": "body",
         "text": [
          "token: body || tf   : 1.0 || cluster: 46"
         ],
         "type": "scatter",
         "x": [
          3.4204485416412354
         ],
         "y": [
          8.202911376953125
         ]
        },
        {
         "line": {
          "color": "DarkSlateGrey",
          "width": 2
         },
         "marker": {
          "color": [
           0.262138,
           0.242286,
           0.520837
          ],
          "size": 9
         },
         "mode": "markers",
         "name": "habit",
         "text": [
          "token: habit || tf   : 1.0 || cluster: 46"
         ],
         "type": "scatter",
         "x": [
          3.419215679168701
         ],
         "y": [
          8.155325889587402
         ]
        },
        {
         "line": {
          "color": "DarkSlateGrey",
          "width": 2
         },
         "marker": {
          "color": [
           0.262138,
           0.242286,
           0.520837
          ],
          "size": 9
         },
         "mode": "markers",
         "name": "##us",
         "text": [
          "token: ##us || tf   : 1.0 || cluster: 46"
         ],
         "type": "scatter",
         "x": [
          3.378997802734375
         ],
         "y": [
          8.194645881652832
         ]
        },
        {
         "line": {
          "color": "DarkSlateGrey",
          "width": 2
         },
         "marker": {
          "color": [
           0.262138,
           0.242286,
           0.520837
          ],
          "size": 9
         },
         "mode": "markers",
         "name": "temporal",
         "text": [
          "token: temporal || tf   : 1.0 || cluster: 46"
         ],
         "type": "scatter",
         "x": [
          3.4887287616729736
         ],
         "y": [
          8.290363311767578
         ]
        },
        {
         "line": {
          "color": "DarkSlateGrey",
          "width": 2
         },
         "marker": {
          "color": [
           0.262138,
           0.242286,
           0.520837
          ],
          "size": 9
         },
         "mode": "markers",
         "name": "bald",
         "text": [
          "token: bald || tf   : 1.0 || cluster: 46"
         ],
         "type": "scatter",
         "x": [
          3.498471975326538
         ],
         "y": [
          8.175145149230957
         ]
        },
        {
         "line": {
          "color": "DarkSlateGrey",
          "width": 2
         },
         "marker": {
          "color": [
           0.262138,
           0.242286,
           0.520837
          ],
          "size": 9
         },
         "mode": "markers",
         "name": "##ing",
         "text": [
          "token: ##ing || tf   : 2.0 || cluster: 46"
         ],
         "type": "scatter",
         "x": [
          3.322347640991211
         ],
         "y": [
          8.072942733764648
         ]
        },
        {
         "line": {
          "color": "DarkSlateGrey",
          "width": 2
         },
         "marker": {
          "color": [
           0.993248,
           0.906157,
           0.143936
          ],
          "size": 9
         },
         "mode": "markers",
         "name": "and",
         "text": [
          "token: and || tf   : 26.0 || cluster: -1"
         ],
         "type": "scatter",
         "x": [
          5.062759876251221
         ],
         "y": [
          5.217906951904297
         ]
        },
        {
         "line": {
          "color": "DarkSlateGrey",
          "width": 2
         },
         "marker": {
          "color": [
           0.281446,
           0.08432,
           0.407414
          ],
          "size": 9
         },
         "mode": "markers",
         "name": "varying",
         "text": [
          "token: varying || tf   : 1.0 || cluster: 14"
         ],
         "type": "scatter",
         "x": [
          4.878781795501709
         ],
         "y": [
          5.694777488708496
         ]
        },
        {
         "line": {
          "color": "DarkSlateGrey",
          "width": 2
         },
         "marker": {
          "color": [
           0.993248,
           0.906157,
           0.143936
          ],
          "size": 9
         },
         "mode": "markers",
         "name": "degrees",
         "text": [
          "token: degrees || tf   : 1.0 || cluster: -1"
         ],
         "type": "scatter",
         "x": [
          4.161932945251465
         ],
         "y": [
          6.19181489944458
         ]
        },
        {
         "line": {
          "color": "DarkSlateGrey",
          "width": 2
         },
         "marker": {
          "color": [
           0.262138,
           0.242286,
           0.520837
          ],
          "size": 9
         },
         "mode": "markers",
         "name": "deep",
         "text": [
          "token: deep || tf   : 1.0 || cluster: 46"
         ],
         "type": "scatter",
         "x": [
          3.5762805938720703
         ],
         "y": [
          8.135979652404785
         ]
        },
        {
         "line": {
          "color": "DarkSlateGrey",
          "width": 2
         },
         "marker": {
          "color": [
           0.262138,
           0.242286,
           0.520837
          ],
          "size": 9
         },
         "mode": "markers",
         "name": "##ening",
         "text": [
          "token: ##ening || tf   : 1.0 || cluster: 46"
         ],
         "type": "scatter",
         "x": [
          3.4564595222473145
         ],
         "y": [
          7.97395133972168
         ]
        },
        {
         "line": {
          "color": "DarkSlateGrey",
          "width": 2
         },
         "marker": {
          "color": [
           0.262138,
           0.242286,
           0.520837
          ],
          "size": 9
         },
         "mode": "markers",
         "name": "voice",
         "text": [
          "token: voice || tf   : 1.0 || cluster: 46"
         ],
         "type": "scatter",
         "x": [
          3.5596227645874023
         ],
         "y": [
          8.13150691986084
         ]
        },
        {
         "line": {
          "color": "DarkSlateGrey",
          "width": 2
         },
         "marker": {
          "color": [
           0.283091,
           0.110553,
           0.431554
          ],
          "size": 9
         },
         "mode": "markers",
         "name": "the",
         "text": [
          "token: the || tf   : 32.0 || cluster: 19"
         ],
         "type": "scatter",
         "x": [
          3.010817527770996
         ],
         "y": [
          2.010293483734131
         ]
        },
        {
         "line": {
          "color": "DarkSlateGrey",
          "width": 2
         },
         "marker": {
          "color": [
           0.993248,
           0.906157,
           0.143936
          ],
          "size": 9
         },
         "mode": "markers",
         "name": "non",
         "text": [
          "token: non || tf   : 3.0 || cluster: -1"
         ],
         "type": "scatter",
         "x": [
          6.37901496887207
         ],
         "y": [
          4.791902542114258
         ]
        },
        {
         "line": {
          "color": "DarkSlateGrey",
          "width": 2
         },
         "marker": {
          "color": [
           0.274952,
           0.037752,
           0.364543
          ],
          "size": 9
         },
         "mode": "markers",
         "name": "classical",
         "text": [
          "token: classical || tf   : 3.0 || cluster: 6"
         ],
         "type": "scatter",
         "x": [
          4.721243858337402
         ],
         "y": [
          7.076383590698242
         ]
        },
        {
         "line": {
          "color": "DarkSlateGrey",
          "width": 2
         },
         "marker": {
          "color": [
           0.26851,
           0.009605,
           0.335427
          ],
          "size": 9
         },
         "mode": "markers",
         "name": "##h",
         "text": [
          "token: ##h || tf   : 17.0 || cluster: 1"
         ],
         "type": "scatter",
         "x": [
          3.88326358795166
         ],
         "y": [
          10.832218170166016
         ]
        },
        {
         "line": {
          "color": "DarkSlateGrey",
          "width": 2
         },
         "marker": {
          "color": [
           0.26851,
           0.009605,
           0.335427
          ],
          "size": 9
         },
         "mode": "markers",
         "name": "##ca",
         "text": [
          "token: ##ca || tf   : 3.0 || cluster: 1"
         ],
         "type": "scatter",
         "x": [
          4.160995960235596
         ],
         "y": [
          10.500535011291504
         ]
        },
        {
         "line": {
          "color": "DarkSlateGrey",
          "width": 2
         },
         "marker": {
          "color": [
           0.26851,
           0.009605,
           0.335427
          ],
          "size": 9
         },
         "mode": "markers",
         "name": "##h",
         "text": [
          "token: ##h || tf   : 17.0 || cluster: 1"
         ],
         "type": "scatter",
         "x": [
          3.958012819290161
         ],
         "y": [
          10.710845947265625
         ]
        },
        {
         "line": {
          "color": "DarkSlateGrey",
          "width": 2
         },
         "marker": {
          "color": [
           0.278826,
           0.17549,
           0.483397
          ],
          "size": 9
         },
         "mode": "markers",
         "name": "patients",
         "text": [
          "token: patients || tf   : 25.0 || cluster: 32"
         ],
         "type": "scatter",
         "x": [
          2.387561082839966
         ],
         "y": [
          4.146019458770752
         ]
        },
        {
         "line": {
          "color": "DarkSlateGrey",
          "width": 2
         },
         "marker": {
          "color": [
           0.283197,
           0.11568,
           0.436115
          ],
          "size": 9
         },
         "mode": "markers",
         "name": "presented",
         "text": [
          "token: presented || tf   : 9.0 || cluster: 20"
         ],
         "type": "scatter",
         "x": [
          3.39951491355896
         ],
         "y": [
          4.291016578674316
         ]
        },
        {
         "line": {
          "color": "DarkSlateGrey",
          "width": 2
         },
         "marker": {
          "color": [
           0.278791,
           0.062145,
           0.386592
          ],
          "size": 9
         },
         "mode": "markers",
         "name": "adulthood",
         "text": [
          "token: adulthood || tf   : 1.0 || cluster: 10"
         ],
         "type": "scatter",
         "x": [
          3.6035478115081787
         ],
         "y": [
          6.824051380157471
         ]
        },
        {
         "line": {
          "color": "DarkSlateGrey",
          "width": 2
         },
         "marker": {
          "color": [
           0.273809,
           0.031497,
           0.358853
          ],
          "size": 9
         },
         "mode": "markers",
         "name": "with",
         "text": [
          "token: with || tf   : 23.0 || cluster: 5"
         ],
         "type": "scatter",
         "x": [
          5.390595436096191
         ],
         "y": [
          6.514469623565674
         ]
        },
        {
         "line": {
          "color": "DarkSlateGrey",
          "width": 2
         },
         "marker": {
          "color": [
           0.28291,
           0.105393,
           0.426902
          ],
          "size": 9
         },
         "mode": "markers",
         "name": "complaints",
         "text": [
          "token: complaints || tf   : 2.0 || cluster: 18"
         ],
         "type": "scatter",
         "x": [
          4.059256553649902
         ],
         "y": [
          5.991948127746582
         ]
        },
        {
         "line": {
          "color": "DarkSlateGrey",
          "width": 2
         },
         "marker": {
          "color": [
           0.993248,
           0.906157,
           0.143936
          ],
          "size": 9
         },
         "mode": "markers",
         "name": "irregular",
         "text": [
          "token: irregular || tf   : 1.0 || cluster: -1"
         ],
         "type": "scatter",
         "x": [
          3.591057062149048
         ],
         "y": [
          7.749949932098389
         ]
        },
        {
         "line": {
          "color": "DarkSlateGrey",
          "width": 2
         },
         "marker": {
          "color": [
           0.993248,
           0.906157,
           0.143936
          ],
          "size": 9
         },
         "mode": "markers",
         "name": "cycles",
         "text": [
          "token: cycles || tf   : 1.0 || cluster: -1"
         ],
         "type": "scatter",
         "x": [
          3.4250476360321045
         ],
         "y": [
          7.8192853927612305
         ]
        },
        {
         "line": {
          "color": "DarkSlateGrey",
          "width": 2
         },
         "marker": {
          "color": [
           0.283072,
           0.130895,
           0.449241
          ],
          "size": 9
         },
         "mode": "markers",
         "name": "and",
         "text": [
          "token: and || tf   : 26.0 || cluster: 23"
         ],
         "type": "scatter",
         "x": [
          5.09635066986084
         ],
         "y": [
          5.15829610824585
         ]
        },
        {
         "line": {
          "color": "DarkSlateGrey",
          "width": 2
         },
         "marker": {
          "color": [
           0.993248,
           0.906157,
           0.143936
          ],
          "size": 9
         },
         "mode": "markers",
         "name": "##rs",
         "text": [
          "token: ##rs || tf   : 3.0 || cluster: -1"
         ],
         "type": "scatter",
         "x": [
          1.8128228187561035
         ],
         "y": [
          9.34847354888916
         ]
        },
        {
         "line": {
          "color": "DarkSlateGrey",
          "width": 2
         },
         "marker": {
          "color": [
           0.267968,
           0.223549,
           0.512008
          ],
          "size": 9
         },
         "mode": "markers",
         "name": "##uti",
         "text": [
          "token: ##uti || tf   : 3.0 || cluster: 42"
         ],
         "type": "scatter",
         "x": [
          2.222921848297119
         ],
         "y": [
          9.260729789733887
         ]
        },
        {
         "line": {
          "color": "DarkSlateGrey",
          "width": 2
         },
         "marker": {
          "color": [
           0.262138,
           0.242286,
           0.520837
          ],
          "size": 9
         },
         "mode": "markers",
         "name": "##sm",
         "text": [
          "token: ##sm || tf   : 3.0 || cluster: 46"
         ],
         "type": "scatter",
         "x": [
          3.107527732849121
         ],
         "y": [
          8.148258209228516
         ]
        },
        {
         "line": {
          "color": "DarkSlateGrey",
          "width": 2
         },
         "marker": {
          "color": [
           0.282327,
           0.094955,
           0.417331
          ],
          "size": 9
         },
         "mode": "markers",
         "name": "they",
         "text": [
          "token: they || tf   : 3.0 || cluster: 16"
         ],
         "type": "scatter",
         "x": [
          3.3406851291656494
         ],
         "y": [
          3.5414085388183594
         ]
        },
        {
         "line": {
          "color": "DarkSlateGrey",
          "width": 2
         },
         "marker": {
          "color": [
           0.270595,
           0.214069,
           0.507052
          ],
          "size": 9
         },
         "mode": "markers",
         "name": "had",
         "text": [
          "token: had || tf   : 8.0 || cluster: 40"
         ],
         "type": "scatter",
         "x": [
          4.059546947479248
         ],
         "y": [
          4.101873397827148
         ]
        },
        {
         "line": {
          "color": "DarkSlateGrey",
          "width": 2
         },
         "marker": {
          "color": [
           0.28291,
           0.105393,
           0.426902
          ],
          "size": 9
         },
         "mode": "markers",
         "name": "features",
         "text": [
          "token: features || tf   : 4.0 || cluster: 18"
         ],
         "type": "scatter",
         "x": [
          4.089643955230713
         ],
         "y": [
          5.873104095458984
         ]
        },
        {
         "line": {
          "color": "DarkSlateGrey",
          "width": 2
         },
         "marker": {
          "color": [
           0.267968,
           0.223549,
           0.512008
          ],
          "size": 9
         },
         "mode": "markers",
         "name": "##ril",
         "text": [
          "token: ##ril || tf   : 4.0 || cluster: 42"
         ],
         "type": "scatter",
         "x": [
          2.2739510536193848
         ],
         "y": [
          9.447129249572754
         ]
        },
        {
         "line": {
          "color": "DarkSlateGrey",
          "width": 2
         },
         "marker": {
          "color": [
           0.260571,
           0.246922,
           0.522828
          ],
          "size": 9
         },
         "mode": "markers",
         "name": "##isation",
         "text": [
          "token: ##isation || tf   : 1.0 || cluster: 47"
         ],
         "type": "scatter",
         "x": [
          2.86191987991333
         ],
         "y": [
          8.108875274658203
         ]
        },
        {
         "line": {
          "color": "DarkSlateGrey",
          "width": 2
         },
         "marker": {
          "color": [
           0.274952,
           0.037752,
           0.364543
          ],
          "size": 9
         },
         "mode": "markers",
         "name": "simple",
         "text": [
          "token: simple || tf   : 1.0 || cluster: 6"
         ],
         "type": "scatter",
         "x": [
          4.751837253570557
         ],
         "y": [
          7.068602561950684
         ]
        },
        {
         "line": {
          "color": "DarkSlateGrey",
          "width": 2
         },
         "marker": {
          "color": [
           0.267968,
           0.223549,
           0.512008
          ],
          "size": 9
         },
         "mode": "markers",
         "name": "##ril",
         "text": [
          "token: ##ril || tf   : 4.0 || cluster: 42"
         ],
         "type": "scatter",
         "x": [
          2.2330985069274902
         ],
         "y": [
          9.477071762084961
         ]
        },
        {
         "line": {
          "color": "DarkSlateGrey",
          "width": 2
         },
         "marker": {
          "color": [
           0.260571,
           0.246922,
           0.522828
          ],
          "size": 9
         },
         "mode": "markers",
         "name": "##izing",
         "text": [
          "token: ##izing || tf   : 1.0 || cluster: 47"
         ],
         "type": "scatter",
         "x": [
          2.861762046813965
         ],
         "y": [
          8.11961841583252
         ]
        },
        {
         "line": {
          "color": "DarkSlateGrey",
          "width": 2
         },
         "marker": {
          "color": [
           0.269308,
           0.218818,
           0.509577
          ],
          "size": 9
         },
         "mode": "markers",
         "name": "was",
         "text": [
          "token: was || tf   : 15.0 || cluster: 41"
         ],
         "type": "scatter",
         "x": [
          4.075444221496582
         ],
         "y": [
          3.193404197692871
         ]
        },
        {
         "line": {
          "color": "DarkSlateGrey",
          "width": 2
         },
         "marker": {
          "color": [
           0.993248,
           0.906157,
           0.143936
          ],
          "size": 9
         },
         "mode": "markers",
         "name": "the",
         "text": [
          "token: the || tf   : 32.0 || cluster: -1"
         ],
         "type": "scatter",
         "x": [
          3.75567364692688
         ],
         "y": [
          2.660416841506958
         ]
        },
        {
         "line": {
          "color": "DarkSlateGrey",
          "width": 2
         },
         "marker": {
          "color": [
           0.993248,
           0.906157,
           0.143936
          ],
          "size": 9
         },
         "mode": "markers",
         "name": "most",
         "text": [
          "token: most || tf   : 2.0 || cluster: -1"
         ],
         "type": "scatter",
         "x": [
          3.730790376663208
         ],
         "y": [
          2.9210879802703857
         ]
        },
        {
         "line": {
          "color": "DarkSlateGrey",
          "width": 2
         },
         "marker": {
          "color": [
           0.993248,
           0.906157,
           0.143936
          ],
          "size": 9
         },
         "mode": "markers",
         "name": "common",
         "text": [
          "token: common || tf   : 2.0 || cluster: -1"
         ],
         "type": "scatter",
         "x": [
          3.7650704383850098
         ],
         "y": [
          2.977306842803955
         ]
        },
        {
         "line": {
          "color": "DarkSlateGrey",
          "width": 2
         },
         "marker": {
          "color": [
           0.993248,
           0.906157,
           0.143936
          ],
          "size": 9
         },
         "mode": "markers",
         "name": "sub",
         "text": [
          "token: sub || tf   : 1.0 || cluster: -1"
         ],
         "type": "scatter",
         "x": [
          0.2888489365577698
         ],
         "y": [
          5.7007975578308105
         ]
        },
        {
         "line": {
          "color": "DarkSlateGrey",
          "width": 2
         },
         "marker": {
          "color": [
           0.267004,
           0.004874,
           0.329415
          ],
          "size": 9
         },
         "mode": "markers",
         "name": "class",
         "text": [
          "token: class || tf   : 1.0 || cluster: 0"
         ],
         "type": "scatter",
         "x": [
          5.003599166870117
         ],
         "y": [
          9.5677490234375
         ]
        },
        {
         "line": {
          "color": "DarkSlateGrey",
          "width": 2
         },
         "marker": {
          "color": [
           0.993248,
           0.906157,
           0.143936
          ],
          "size": 9
         },
         "mode": "markers",
         "name": "seen",
         "text": [
          "token: seen || tf   : 3.0 || cluster: -1"
         ],
         "type": "scatter",
         "x": [
          3.6504061222076416
         ],
         "y": [
          3.5819947719573975
         ]
        },
        {
         "line": {
          "color": "DarkSlateGrey",
          "width": 2
         },
         "marker": {
          "color": [
           0.271828,
           0.209303,
           0.504434
          ],
          "size": 9
         },
         "mode": "markers",
         "name": "among",
         "text": [
          "token: among || tf   : 6.0 || cluster: 39"
         ],
         "type": "scatter",
         "x": [
          2.7534072399139404
         ],
         "y": [
          3.1716065406799316
         ]
        },
        {
         "line": {
          "color": "DarkSlateGrey",
          "width": 2
         },
         "marker": {
          "color": [
           0.283091,
           0.110553,
           0.431554
          ],
          "size": 9
         },
         "mode": "markers",
         "name": "the",
         "text": [
          "token: the || tf   : 32.0 || cluster: 19"
         ],
         "type": "scatter",
         "x": [
          2.951451539993286
         ],
         "y": [
          1.967513918876648
         ]
        },
        {
         "line": {
          "color": "DarkSlateGrey",
          "width": 2
         },
         "marker": {
          "color": [
           0.279574,
           0.170599,
           0.479997
          ],
          "size": 9
         },
         "mode": "markers",
         "name": "women",
         "text": [
          "token: women || tf   : 2.0 || cluster: 31"
         ],
         "type": "scatter",
         "x": [
          2.0446059703826904
         ],
         "y": [
          4.30785608291626
         ]
        },
        {
         "line": {
          "color": "DarkSlateGrey",
          "width": 2
         },
         "marker": {
          "color": [
           0.274128,
           0.199721,
           0.498911
          ],
          "size": 9
         },
         "mode": "markers",
         "name": "whereas",
         "text": [
          "token: whereas || tf   : 1.0 || cluster: 37"
         ],
         "type": "scatter",
         "x": [
          4.84522008895874
         ],
         "y": [
          4.032068252563477
         ]
        },
        {
         "line": {
          "color": "DarkSlateGrey",
          "width": 2
         },
         "marker": {
          "color": [
           0.283091,
           0.110553,
           0.431554
          ],
          "size": 9
         },
         "mode": "markers",
         "name": "the",
         "text": [
          "token: the || tf   : 32.0 || cluster: 19"
         ],
         "type": "scatter",
         "x": [
          3.4829487800598145
         ],
         "y": [
          2.30998158454895
         ]
        },
        {
         "line": {
          "color": "DarkSlateGrey",
          "width": 2
         },
         "marker": {
          "color": [
           0.265145,
           0.232956,
           0.516599
          ],
          "size": 9
         },
         "mode": "markers",
         "name": "salt",
         "text": [
          "token: salt || tf   : 1.0 || cluster: 44"
         ],
         "type": "scatter",
         "x": [
          2.1003596782684326
         ],
         "y": [
          10.106932640075684
         ]
        },
        {
         "line": {
          "color": "DarkSlateGrey",
          "width": 2
         },
         "marker": {
          "color": [
           0.283187,
           0.125848,
           0.44496
          ],
          "size": 9
         },
         "mode": "markers",
         "name": "wasting",
         "text": [
          "token: wasting || tf   : 1.0 || cluster: 22"
         ],
         "type": "scatter",
         "x": [
          3.998095989227295
         ],
         "y": [
          8.443377494812012
         ]
        },
        {
         "line": {
          "color": "DarkSlateGrey",
          "width": 2
         },
         "marker": {
          "color": [
           0.993248,
           0.906157,
           0.143936
          ],
          "size": 9
         },
         "mode": "markers",
         "name": "type",
         "text": [
          "token: type || tf   : 1.0 || cluster: -1"
         ],
         "type": "scatter",
         "x": [
          3.5111424922943115
         ],
         "y": [
          2.7326080799102783
         ]
        },
        {
         "line": {
          "color": "DarkSlateGrey",
          "width": 2
         },
         "marker": {
          "color": [
           0.269308,
           0.218818,
           0.509577
          ],
          "size": 9
         },
         "mode": "markers",
         "name": "was",
         "text": [
          "token: was || tf   : 15.0 || cluster: 41"
         ],
         "type": "scatter",
         "x": [
          4.115393161773682
         ],
         "y": [
          3.2609477043151855
         ]
        },
        {
         "line": {
          "color": "DarkSlateGrey",
          "width": 2
         },
         "marker": {
          "color": [
           0.993248,
           0.906157,
           0.143936
          ],
          "size": 9
         },
         "mode": "markers",
         "name": "predominant",
         "text": [
          "token: predominant || tf   : 1.0 || cluster: -1"
         ],
         "type": "scatter",
         "x": [
          3.9351634979248047
         ],
         "y": [
          3.1266329288482666
         ]
        },
        {
         "line": {
          "color": "DarkSlateGrey",
          "width": 2
         },
         "marker": {
          "color": [
           0.271828,
           0.209303,
           0.504434
          ],
          "size": 9
         },
         "mode": "markers",
         "name": "among",
         "text": [
          "token: among || tf   : 6.0 || cluster: 39"
         ],
         "type": "scatter",
         "x": [
          2.906160354614258
         ],
         "y": [
          3.075815200805664
         ]
        },
        {
         "line": {
          "color": "DarkSlateGrey",
          "width": 2
         },
         "marker": {
          "color": [
           0.279574,
           0.170599,
           0.479997
          ],
          "size": 9
         },
         "mode": "markers",
         "name": "boys",
         "text": [
          "token: boys || tf   : 1.0 || cluster: 31"
         ],
         "type": "scatter",
         "x": [
          1.9984924793243408
         ],
         "y": [
          4.458949089050293
         ]
        },
        {
         "line": {
          "color": "DarkSlateGrey",
          "width": 2
         },
         "marker": {
          "color": [
           0.993248,
           0.906157,
           0.143936
          ],
          "size": 9
         },
         "mode": "markers",
         "name": "around",
         "text": [
          "token: around || tf   : 3.0 || cluster: -1"
         ],
         "type": "scatter",
         "x": [
          3.0757336616516113
         ],
         "y": [
          2.9851269721984863
         ]
        },
        {
         "line": {
          "color": "DarkSlateGrey",
          "width": 2
         },
         "marker": {
          "color": [
           0.278826,
           0.17549,
           0.483397
          ],
          "size": 9
         },
         "mode": "markers",
         "name": "patients",
         "text": [
          "token: patients || tf   : 25.0 || cluster: 32"
         ],
         "type": "scatter",
         "x": [
          2.470024347305298
         ],
         "y": [
          4.076653957366943
         ]
        },
        {
         "line": {
          "color": "DarkSlateGrey",
          "width": 2
         },
         "marker": {
          "color": [
           0.270595,
           0.214069,
           0.507052
          ],
          "size": 9
         },
         "mode": "markers",
         "name": "had",
         "text": [
          "token: had || tf   : 8.0 || cluster: 40"
         ],
         "type": "scatter",
         "x": [
          3.9429359436035156
         ],
         "y": [
          4.0168609619140625
         ]
        },
        {
         "line": {
          "color": "DarkSlateGrey",
          "width": 2
         },
         "marker": {
          "color": [
           0.283187,
           0.125848,
           0.44496
          ],
          "size": 9
         },
         "mode": "markers",
         "name": "short",
         "text": [
          "token: short || tf   : 2.0 || cluster: 22"
         ],
         "type": "scatter",
         "x": [
          4.347772121429443
         ],
         "y": [
          7.897193431854248
         ]
        },
        {
         "line": {
          "color": "DarkSlateGrey",
          "width": 2
         },
         "marker": {
          "color": [
           0.283187,
           0.125848,
           0.44496
          ],
          "size": 9
         },
         "mode": "markers",
         "name": "stature",
         "text": [
          "token: stature || tf   : 3.0 || cluster: 22"
         ],
         "type": "scatter",
         "x": [
          4.300688743591309
         ],
         "y": [
          8.004537582397461
         ]
        },
        {
         "line": {
          "color": "DarkSlateGrey",
          "width": 2
         },
         "marker": {
          "color": [
           0.28291,
           0.105393,
           0.426902
          ],
          "size": 9
         },
         "mode": "markers",
         "name": "defined",
         "text": [
          "token: defined || tf   : 2.0 || cluster: 18"
         ],
         "type": "scatter",
         "x": [
          3.7167606353759766
         ],
         "y": [
          5.311665058135986
         ]
        },
        {
         "line": {
          "color": "DarkSlateGrey",
          "width": 2
         },
         "marker": {
          "color": [
           0.283187,
           0.125848,
           0.44496
          ],
          "size": 9
         },
         "mode": "markers",
         "name": "height",
         "text": [
          "token: height || tf   : 7.0 || cluster: 22"
         ],
         "type": "scatter",
         "x": [
          4.350801467895508
         ],
         "y": [
          7.947277069091797
         ]
        },
        {
         "line": {
          "color": "DarkSlateGrey",
          "width": 2
         },
         "marker": {
          "color": [
           0.26851,
           0.009605,
           0.335427
          ],
          "size": 9
         },
         "mode": "markers",
         "name": "##s",
         "text": [
          "token: ##s || tf   : 5.0 || cluster: 1"
         ],
         "type": "scatter",
         "x": [
          3.7979631423950195
         ],
         "y": [
          10.64350700378418
         ]
        },
        {
         "line": {
          "color": "DarkSlateGrey",
          "width": 2
         },
         "marker": {
          "color": [
           0.278826,
           0.17549,
           0.483397
          ],
          "size": 9
         },
         "mode": "markers",
         "name": "patients",
         "text": [
          "token: patients || tf   : 25.0 || cluster: 32"
         ],
         "type": "scatter",
         "x": [
          2.5112245082855225
         ],
         "y": [
          4.005763530731201
         ]
        },
        {
         "line": {
          "color": "DarkSlateGrey",
          "width": 2
         },
         "marker": {
          "color": [
           0.282327,
           0.094955,
           0.417331
          ],
          "size": 9
         },
         "mode": "markers",
         "name": "who",
         "text": [
          "token: who || tf   : 4.0 || cluster: 16"
         ],
         "type": "scatter",
         "x": [
          3.29464054107666
         ],
         "y": [
          3.7851929664611816
         ]
        },
        {
         "line": {
          "color": "DarkSlateGrey",
          "width": 2
         },
         "marker": {
          "color": [
           0.283197,
           0.11568,
           0.436115
          ],
          "size": 9
         },
         "mode": "markers",
         "name": "presented",
         "text": [
          "token: presented || tf   : 9.0 || cluster: 20"
         ],
         "type": "scatter",
         "x": [
          3.318007707595825
         ],
         "y": [
          4.308423042297363
         ]
        },
        {
         "line": {
          "color": "DarkSlateGrey",
          "width": 2
         },
         "marker": {
          "color": [
           0.273809,
           0.031497,
           0.358853
          ],
          "size": 9
         },
         "mode": "markers",
         "name": "with",
         "text": [
          "token: with || tf   : 23.0 || cluster: 5"
         ],
         "type": "scatter",
         "x": [
          5.6194233894348145
         ],
         "y": [
          6.890562534332275
         ]
        },
        {
         "line": {
          "color": "DarkSlateGrey",
          "width": 2
         },
         "marker": {
          "color": [
           0.263663,
           0.237631,
           0.518762
          ],
          "size": 9
         },
         "mode": "markers",
         "name": "##ren",
         "text": [
          "token: ##ren || tf   : 7.0 || cluster: 45"
         ],
         "type": "scatter",
         "x": [
          1.872436761856079
         ],
         "y": [
          9.049723625183105
         ]
        },
        {
         "line": {
          "color": "DarkSlateGrey",
          "width": 2
         },
         "marker": {
          "color": [
           0.993248,
           0.906157,
           0.143936
          ],
          "size": 9
         },
         "mode": "markers",
         "name": "##ar",
         "text": [
          "token: ##ar || tf   : 4.0 || cluster: -1"
         ],
         "type": "scatter",
         "x": [
          1.63760244846344
         ],
         "y": [
          8.92214298248291
         ]
        },
        {
         "line": {
          "color": "DarkSlateGrey",
          "width": 2
         },
         "marker": {
          "color": [
           0.993248,
           0.906157,
           0.143936
          ],
          "size": 9
         },
         "mode": "markers",
         "name": "##che",
         "text": [
          "token: ##che || tf   : 4.0 || cluster: -1"
         ],
         "type": "scatter",
         "x": [
          2.554060697555542
         ],
         "y": [
          8.16800594329834
         ]
        },
        {
         "line": {
          "color": "DarkSlateGrey",
          "width": 2
         },
         "marker": {
          "color": [
           0.270595,
           0.214069,
           0.507052
          ],
          "size": 9
         },
         "mode": "markers",
         "name": "had",
         "text": [
          "token: had || tf   : 8.0 || cluster: 40"
         ],
         "type": "scatter",
         "x": [
          4.025537014007568
         ],
         "y": [
          4.014200210571289
         ]
        },
        {
         "line": {
          "color": "DarkSlateGrey",
          "width": 2
         },
         "marker": {
          "color": [
           0.993248,
           0.906157,
           0.143936
          ],
          "size": 9
         },
         "mode": "markers",
         "name": "increase",
         "text": [
          "token: increase || tf   : 1.0 || cluster: -1"
         ],
         "type": "scatter",
         "x": [
          4.336779594421387
         ],
         "y": [
          5.187139511108398
         ]
        },
        {
         "line": {
          "color": "DarkSlateGrey",
          "width": 2
         },
         "marker": {
          "color": [
           0.283187,
           0.125848,
           0.44496
          ],
          "size": 9
         },
         "mode": "markers",
         "name": "height",
         "text": [
          "token: height || tf   : 7.0 || cluster: 22"
         ],
         "type": "scatter",
         "x": [
          4.3455610275268555
         ],
         "y": [
          7.935572624206543
         ]
        },
        {
         "line": {
          "color": "DarkSlateGrey",
          "width": 2
         },
         "marker": {
          "color": [
           0.26851,
           0.009605,
           0.335427
          ],
          "size": 9
         },
         "mode": "markers",
         "name": "##s",
         "text": [
          "token: ##s || tf   : 5.0 || cluster: 1"
         ],
         "type": "scatter",
         "x": [
          3.7666988372802734
         ],
         "y": [
          10.562493324279785
         ]
        },
        {
         "line": {
          "color": "DarkSlateGrey",
          "width": 2
         },
         "marker": {
          "color": [
           0.274128,
           0.199721,
           0.498911
          ],
          "size": 9
         },
         "mode": "markers",
         "name": "however",
         "text": [
          "token: however || tf   : 3.0 || cluster: 37"
         ],
         "type": "scatter",
         "x": [
          4.994715213775635
         ],
         "y": [
          3.9841670989990234
         ]
        },
        {
         "line": {
          "color": "DarkSlateGrey",
          "width": 2
         },
         "marker": {
          "color": [
           0.282327,
           0.094955,
           0.417331
          ],
          "size": 9
         },
         "mode": "markers",
         "name": "their",
         "text": [
          "token: their || tf   : 3.0 || cluster: 16"
         ],
         "type": "scatter",
         "x": [
          3.259510040283203
         ],
         "y": [
          3.5869712829589844
         ]
        },
        {
         "line": {
          "color": "DarkSlateGrey",
          "width": 2
         },
         "marker": {
          "color": [
           0.283187,
           0.125848,
           0.44496
          ],
          "size": 9
         },
         "mode": "markers",
         "name": "bone",
         "text": [
          "token: bone || tf   : 2.0 || cluster: 22"
         ],
         "type": "scatter",
         "x": [
          4.166858196258545
         ],
         "y": [
          8.164648056030273
         ]
        },
        {
         "line": {
          "color": "DarkSlateGrey",
          "width": 2
         },
         "marker": {
          "color": [
           0.283187,
           0.125848,
           0.44496
          ],
          "size": 9
         },
         "mode": "markers",
         "name": "age",
         "text": [
          "token: age || tf   : 4.0 || cluster: 22"
         ],
         "type": "scatter",
         "x": [
          4.336368083953857
         ],
         "y": [
          7.828795433044434
         ]
        },
        {
         "line": {
          "color": "DarkSlateGrey",
          "width": 2
         },
         "marker": {
          "color": [
           0.269308,
           0.218818,
           0.509577
          ],
          "size": 9
         },
         "mode": "markers",
         "name": "was",
         "text": [
          "token: was || tf   : 15.0 || cluster: 41"
         ],
         "type": "scatter",
         "x": [
          4.322700023651123
         ],
         "y": [
          3.233077049255371
         ]
        },
        {
         "line": {
          "color": "DarkSlateGrey",
          "width": 2
         },
         "marker": {
          "color": [
           0.269308,
           0.218818,
           0.509577
          ],
          "size": 9
         },
         "mode": "markers",
         "name": "also",
         "text": [
          "token: also || tf   : 4.0 || cluster: 41"
         ],
         "type": "scatter",
         "x": [
          4.548573970794678
         ],
         "y": [
          3.429551839828491
         ]
        },
        {
         "line": {
          "color": "DarkSlateGrey",
          "width": 2
         },
         "marker": {
          "color": [
           0.269308,
           0.218818,
           0.509577
          ],
          "size": 9
         },
         "mode": "markers",
         "name": "corresponding",
         "text": [
          "token: corresponding || tf   : 1.0 || cluster: 41"
         ],
         "type": "scatter",
         "x": [
          4.5129594802856445
         ],
         "y": [
          3.33634877204895
         ]
        },
        {
         "line": {
          "color": "DarkSlateGrey",
          "width": 2
         },
         "marker": {
          "color": [
           0.269308,
           0.218818,
           0.509577
          ],
          "size": 9
         },
         "mode": "markers",
         "name": "##ly",
         "text": [
          "token: ##ly || tf   : 2.0 || cluster: 41"
         ],
         "type": "scatter",
         "x": [
          4.450216293334961
         ],
         "y": [
          3.288145065307617
         ]
        },
        {
         "line": {
          "color": "DarkSlateGrey",
          "width": 2
         },
         "marker": {
          "color": [
           0.993248,
           0.906157,
           0.143936
          ],
          "size": 9
         },
         "mode": "markers",
         "name": "advanced",
         "text": [
          "token: advanced || tf   : 1.0 || cluster: -1"
         ],
         "type": "scatter",
         "x": [
          4.160211563110352
         ],
         "y": [
          5.177187919616699
         ]
        },
        {
         "line": {
          "color": "DarkSlateGrey",
          "width": 2
         },
         "marker": {
          "color": [
           0.273006,
           0.20452,
           0.501721
          ],
          "size": 9
         },
         "mode": "markers",
         "name": "all",
         "text": [
          "token: all || tf   : 6.0 || cluster: 38"
         ],
         "type": "scatter",
         "x": [
          2.696096181869507
         ],
         "y": [
          2.7383835315704346
         ]
        },
        {
         "line": {
          "color": "DarkSlateGrey",
          "width": 2
         },
         "marker": {
          "color": [
           0.283091,
           0.110553,
           0.431554
          ],
          "size": 9
         },
         "mode": "markers",
         "name": "the",
         "text": [
          "token: the || tf   : 32.0 || cluster: 19"
         ],
         "type": "scatter",
         "x": [
          2.9390347003936768
         ],
         "y": [
          1.956066370010376
         ]
        },
        {
         "line": {
          "color": "DarkSlateGrey",
          "width": 2
         },
         "marker": {
          "color": [
           0.993248,
           0.906157,
           0.143936
          ],
          "size": 9
         },
         "mode": "markers",
         "name": "children",
         "text": [
          "token: children || tf   : 2.0 || cluster: -1"
         ],
         "type": "scatter",
         "x": [
          2.0884008407592773
         ],
         "y": [
          4.517680644989014
         ]
        },
        {
         "line": {
          "color": "DarkSlateGrey",
          "width": 2
         },
         "marker": {
          "color": [
           0.270595,
           0.214069,
           0.507052
          ],
          "size": 9
         },
         "mode": "markers",
         "name": "were",
         "text": [
          "token: were || tf   : 17.0 || cluster: 40"
         ],
         "type": "scatter",
         "x": [
          3.723309278488159
         ],
         "y": [
          3.8964831829071045
         ]
        },
        {
         "line": {
          "color": "DarkSlateGrey",
          "width": 2
         },
         "marker": {
          "color": [
           0.283229,
           0.120777,
           0.440584
          ],
          "size": 9
         },
         "mode": "markers",
         "name": "treated",
         "text": [
          "token: treated || tf   : 4.0 || cluster: 21"
         ],
         "type": "scatter",
         "x": [
          2.8830606937408447
         ],
         "y": [
          4.891871929168701
         ]
        },
        {
         "line": {
          "color": "DarkSlateGrey",
          "width": 2
         },
         "marker": {
          "color": [
           0.269944,
           0.014625,
           0.341379
          ],
          "size": 9
         },
         "mode": "markers",
         "name": "with",
         "text": [
          "token: with || tf   : 23.0 || cluster: 2"
         ],
         "type": "scatter",
         "x": [
          5.744785308837891
         ],
         "y": [
          7.424646854400635
         ]
        },
        {
         "line": {
          "color": "DarkSlateGrey",
          "width": 2
         },
         "marker": {
          "color": [
           0.265145,
           0.232956,
           0.516599
          ],
          "size": 9
         },
         "mode": "markers",
         "name": "hydro",
         "text": [
          "token: hydro || tf   : 3.0 || cluster: 44"
         ],
         "type": "scatter",
         "x": [
          1.81993567943573
         ],
         "y": [
          10.045775413513184
         ]
        },
        {
         "line": {
          "color": "DarkSlateGrey",
          "width": 2
         },
         "marker": {
          "color": [
           0.265145,
           0.232956,
           0.516599
          ],
          "size": 9
         },
         "mode": "markers",
         "name": "##cor",
         "text": [
          "token: ##cor || tf   : 2.0 || cluster: 44"
         ],
         "type": "scatter",
         "x": [
          1.5178606510162354
         ],
         "y": [
          9.900282859802246
         ]
        },
        {
         "line": {
          "color": "DarkSlateGrey",
          "width": 2
         },
         "marker": {
          "color": [
           0.265145,
           0.232956,
           0.516599
          ],
          "size": 9
         },
         "mode": "markers",
         "name": "##tis",
         "text": [
          "token: ##tis || tf   : 1.0 || cluster: 44"
         ],
         "type": "scatter",
         "x": [
          1.5039197206497192
         ],
         "y": [
          9.933658599853516
         ]
        },
        {
         "line": {
          "color": "DarkSlateGrey",
          "width": 2
         },
         "marker": {
          "color": [
           0.26658,
           0.228262,
           0.514349
          ],
          "size": 9
         },
         "mode": "markers",
         "name": "##one",
         "text": [
          "token: ##one || tf   : 2.0 || cluster: 43"
         ],
         "type": "scatter",
         "x": [
          1.7398182153701782
         ],
         "y": [
          10.575949668884277
         ]
        },
        {
         "line": {
          "color": "DarkSlateGrey",
          "width": 2
         },
         "marker": {
          "color": [
           0.273006,
           0.20452,
           0.501721
          ],
          "size": 9
         },
         "mode": "markers",
         "name": "almost",
         "text": [
          "token: almost || tf   : 1.0 || cluster: 38"
         ],
         "type": "scatter",
         "x": [
          2.9323909282684326
         ],
         "y": [
          2.792902708053589
         ]
        },
        {
         "line": {
          "color": "DarkSlateGrey",
          "width": 2
         },
         "marker": {
          "color": [
           0.273006,
           0.20452,
           0.501721
          ],
          "size": 9
         },
         "mode": "markers",
         "name": "all",
         "text": [
          "token: all || tf   : 6.0 || cluster: 38"
         ],
         "type": "scatter",
         "x": [
          2.8010125160217285
         ],
         "y": [
          2.699230432510376
         ]
        },
        {
         "line": {
          "color": "DarkSlateGrey",
          "width": 2
         },
         "marker": {
          "color": [
           0.278791,
           0.062145,
           0.386592
          ],
          "size": 9
         },
         "mode": "markers",
         "name": "adult",
         "text": [
          "token: adult || tf   : 8.0 || cluster: 10"
         ],
         "type": "scatter",
         "x": [
          3.8886027336120605
         ],
         "y": [
          6.876323223114014
         ]
        },
        {
         "line": {
          "color": "DarkSlateGrey",
          "width": 2
         },
         "marker": {
          "color": [
           0.278826,
           0.17549,
           0.483397
          ],
          "size": 9
         },
         "mode": "markers",
         "name": "patients",
         "text": [
          "token: patients || tf   : 25.0 || cluster: 32"
         ],
         "type": "scatter",
         "x": [
          2.563387632369995
         ],
         "y": [
          4.1446027755737305
         ]
        },
        {
         "line": {
          "color": "DarkSlateGrey",
          "width": 2
         },
         "marker": {
          "color": [
           0.270595,
           0.214069,
           0.507052
          ],
          "size": 9
         },
         "mode": "markers",
         "name": "were",
         "text": [
          "token: were || tf   : 17.0 || cluster: 40"
         ],
         "type": "scatter",
         "x": [
          3.7742817401885986
         ],
         "y": [
          3.8949337005615234
         ]
        },
        {
         "line": {
          "color": "DarkSlateGrey",
          "width": 2
         },
         "marker": {
          "color": [
           0.265145,
           0.232956,
           0.516599
          ],
          "size": 9
         },
         "mode": "markers",
         "name": "dex",
         "text": [
          "token: dex || tf   : 1.0 || cluster: 44"
         ],
         "type": "scatter",
         "x": [
          1.6468291282653809
         ],
         "y": [
          10.025375366210938
         ]
        },
        {
         "line": {
          "color": "DarkSlateGrey",
          "width": 2
         },
         "marker": {
          "color": [
           0.265145,
           0.232956,
           0.516599
          ],
          "size": 9
         },
         "mode": "markers",
         "name": "##ame",
         "text": [
          "token: ##ame || tf   : 1.0 || cluster: 44"
         ],
         "type": "scatter",
         "x": [
          1.4455392360687256
         ],
         "y": [
          10.028794288635254
         ]
        },
        {
         "line": {
          "color": "DarkSlateGrey",
          "width": 2
         },
         "marker": {
          "color": [
           0.265145,
           0.232956,
           0.516599
          ],
          "size": 9
         },
         "mode": "markers",
         "name": "##tha",
         "text": [
          "token: ##tha || tf   : 1.0 || cluster: 44"
         ],
         "type": "scatter",
         "x": [
          1.4558945894241333
         ],
         "y": [
          10.055659294128418
         ]
        },
        {
         "line": {
          "color": "DarkSlateGrey",
          "width": 2
         },
         "marker": {
          "color": [
           0.265145,
           0.232956,
           0.516599
          ],
          "size": 9
         },
         "mode": "markers",
         "name": "##son",
         "text": [
          "token: ##son || tf   : 1.0 || cluster: 44"
         ],
         "type": "scatter",
         "x": [
          1.519107699394226
         ],
         "y": [
          10.184606552124023
         ]
        },
        {
         "line": {
          "color": "DarkSlateGrey",
          "width": 2
         },
         "marker": {
          "color": [
           0.26658,
           0.228262,
           0.514349
          ],
          "size": 9
         },
         "mode": "markers",
         "name": "##e",
         "text": [
          "token: ##e || tf   : 3.0 || cluster: 43"
         ],
         "type": "scatter",
         "x": [
          1.8192943334579468
         ],
         "y": [
          10.574451446533203
         ]
        },
        {
         "line": {
          "color": "DarkSlateGrey",
          "width": 2
         },
         "marker": {
          "color": [
           0.273006,
           0.20452,
           0.501721
          ],
          "size": 9
         },
         "mode": "markers",
         "name": "none",
         "text": [
          "token: none || tf   : 1.0 || cluster: 38"
         ],
         "type": "scatter",
         "x": [
          2.7773191928863525
         ],
         "y": [
          2.725050210952759
         ]
        },
        {
         "line": {
          "color": "DarkSlateGrey",
          "width": 2
         },
         "marker": {
          "color": [
           0.283091,
           0.110553,
           0.431554
          ],
          "size": 9
         },
         "mode": "markers",
         "name": "the",
         "text": [
          "token: the || tf   : 32.0 || cluster: 19"
         ],
         "type": "scatter",
         "x": [
          3.0055887699127197
         ],
         "y": [
          2.004514217376709
         ]
        },
        {
         "line": {
          "color": "DarkSlateGrey",
          "width": 2
         },
         "marker": {
          "color": [
           0.26851,
           0.009605,
           0.335427
          ],
          "size": 9
         },
         "mode": "markers",
         "name": "##ca",
         "text": [
          "token: ##ca || tf   : 3.0 || cluster: 1"
         ],
         "type": "scatter",
         "x": [
          4.037476062774658
         ],
         "y": [
          10.578442573547363
         ]
        },
        {
         "line": {
          "color": "DarkSlateGrey",
          "width": 2
         },
         "marker": {
          "color": [
           0.26851,
           0.009605,
           0.335427
          ],
          "size": 9
         },
         "mode": "markers",
         "name": "##h",
         "text": [
          "token: ##h || tf   : 17.0 || cluster: 1"
         ],
         "type": "scatter",
         "x": [
          3.9441206455230713
         ],
         "y": [
          10.696566581726074
         ]
        },
        {
         "line": {
          "color": "DarkSlateGrey",
          "width": 2
         },
         "marker": {
          "color": [
           0.278826,
           0.17549,
           0.483397
          ],
          "size": 9
         },
         "mode": "markers",
         "name": "patients",
         "text": [
          "token: patients || tf   : 25.0 || cluster: 32"
         ],
         "type": "scatter",
         "x": [
          2.5163779258728027
         ],
         "y": [
          4.129949569702148
         ]
        },
        {
         "line": {
          "color": "DarkSlateGrey",
          "width": 2
         },
         "marker": {
          "color": [
           0.270595,
           0.214069,
           0.507052
          ],
          "size": 9
         },
         "mode": "markers",
         "name": "were",
         "text": [
          "token: were || tf   : 17.0 || cluster: 40"
         ],
         "type": "scatter",
         "x": [
          3.756442070007324
         ],
         "y": [
          3.8989548683166504
         ]
        },
        {
         "line": {
          "color": "DarkSlateGrey",
          "width": 2
         },
         "marker": {
          "color": [
           0.283229,
           0.120777,
           0.440584
          ],
          "size": 9
         },
         "mode": "markers",
         "name": "treated",
         "text": [
          "token: treated || tf   : 4.0 || cluster: 21"
         ],
         "type": "scatter",
         "x": [
          2.9687209129333496
         ],
         "y": [
          4.872555732727051
         ]
        },
        {
         "line": {
          "color": "DarkSlateGrey",
          "width": 2
         },
         "marker": {
          "color": [
           0.269944,
           0.014625,
           0.341379
          ],
          "size": 9
         },
         "mode": "markers",
         "name": "with",
         "text": [
          "token: with || tf   : 23.0 || cluster: 2"
         ],
         "type": "scatter",
         "x": [
          5.742752552032471
         ],
         "y": [
          7.416714668273926
         ]
        },
        {
         "line": {
          "color": "DarkSlateGrey",
          "width": 2
         },
         "marker": {
          "color": [
           0.265145,
           0.232956,
           0.516599
          ],
          "size": 9
         },
         "mode": "markers",
         "name": "##lu",
         "text": [
          "token: ##lu || tf   : 1.0 || cluster: 44"
         ],
         "type": "scatter",
         "x": [
          1.5895153284072876
         ],
         "y": [
          9.824112892150879
         ]
        },
        {
         "line": {
          "color": "DarkSlateGrey",
          "width": 2
         },
         "marker": {
          "color": [
           0.265145,
           0.232956,
           0.516599
          ],
          "size": 9
         },
         "mode": "markers",
         "name": "##co",
         "text": [
          "token: ##co || tf   : 2.0 || cluster: 44"
         ],
         "type": "scatter",
         "x": [
          1.6984601020812988
         ],
         "y": [
          9.926743507385254
         ]
        },
        {
         "line": {
          "color": "DarkSlateGrey",
          "width": 2
         },
         "marker": {
          "color": [
           0.265145,
           0.232956,
           0.516599
          ],
          "size": 9
         },
         "mode": "markers",
         "name": "##cor",
         "text": [
          "token: ##cor || tf   : 2.0 || cluster: 44"
         ],
         "type": "scatter",
         "x": [
          1.497581124305725
         ],
         "y": [
          9.870230674743652
         ]
        },
        {
         "line": {
          "color": "DarkSlateGrey",
          "width": 2
         },
         "marker": {
          "color": [
           0.265145,
           0.232956,
           0.516599
          ],
          "size": 9
         },
         "mode": "markers",
         "name": "##tic",
         "text": [
          "token: ##tic || tf   : 1.0 || cluster: 44"
         ],
         "type": "scatter",
         "x": [
          1.6217777729034424
         ],
         "y": [
          9.84142780303955
         ]
        },
        {
         "line": {
          "color": "DarkSlateGrey",
          "width": 2
         },
         "marker": {
          "color": [
           0.26658,
           0.228262,
           0.514349
          ],
          "size": 9
         },
         "mode": "markers",
         "name": "##oids",
         "text": [
          "token: ##oids || tf   : 1.0 || cluster: 43"
         ],
         "type": "scatter",
         "x": [
          1.8702102899551392
         ],
         "y": [
          10.525221824645996
         ]
        },
        {
         "line": {
          "color": "DarkSlateGrey",
          "width": 2
         },
         "marker": {
          "color": [
           0.282327,
           0.094955,
           0.417331
          ],
          "size": 9
         },
         "mode": "markers",
         "name": "they",
         "text": [
          "token: they || tf   : 3.0 || cluster: 16"
         ],
         "type": "scatter",
         "x": [
          3.2523953914642334
         ],
         "y": [
          3.61271595954895
         ]
        },
        {
         "line": {
          "color": "DarkSlateGrey",
          "width": 2
         },
         "marker": {
          "color": [
           0.270595,
           0.214069,
           0.507052
          ],
          "size": 9
         },
         "mode": "markers",
         "name": "were",
         "text": [
          "token: were || tf   : 17.0 || cluster: 40"
         ],
         "type": "scatter",
         "x": [
          3.629121780395508
         ],
         "y": [
          3.9044132232666016
         ]
        },
        {
         "line": {
          "color": "DarkSlateGrey",
          "width": 2
         },
         "marker": {
          "color": [
           0.26658,
           0.228262,
           0.514349
          ],
          "size": 9
         },
         "mode": "markers",
         "name": "anti",
         "text": [
          "token: anti || tf   : 1.0 || cluster: 43"
         ],
         "type": "scatter",
         "x": [
          1.9926066398620605
         ],
         "y": [
          10.357522010803223
         ]
        },
        {
         "line": {
          "color": "DarkSlateGrey",
          "width": 2
         },
         "marker": {
          "color": [
           0.265145,
           0.232956,
           0.516599
          ],
          "size": 9
         },
         "mode": "markers",
         "name": "and",
         "text": [
          "token: and || tf   : 26.0 || cluster: 44"
         ],
         "type": "scatter",
         "x": [
          1.8440254926681519
         ],
         "y": [
          9.799738883972168
         ]
        },
        {
         "line": {
          "color": "DarkSlateGrey",
          "width": 2
         },
         "marker": {
          "color": [
           0.265145,
           0.232956,
           0.516599
          ],
          "size": 9
         },
         "mode": "markers",
         "name": "##rogen",
         "text": [
          "token: ##rogen || tf   : 1.0 || cluster: 44"
         ],
         "type": "scatter",
         "x": [
          2.083954095840454
         ],
         "y": [
          9.953681945800781
         ]
        },
        {
         "line": {
          "color": "DarkSlateGrey",
          "width": 2
         },
         "marker": {
          "color": [
           0.26658,
           0.228262,
           0.514349
          ],
          "size": 9
         },
         "mode": "markers",
         "name": "therapy",
         "text": [
          "token: therapy || tf   : 4.0 || cluster: 43"
         ],
         "type": "scatter",
         "x": [
          2.029125690460205
         ],
         "y": [
          10.450220108032227
         ]
        },
        {
         "line": {
          "color": "DarkSlateGrey",
          "width": 2
         },
         "marker": {
          "color": [
           0.274128,
           0.199721,
           0.498911
          ],
          "size": 9
         },
         "mode": "markers",
         "name": "along",
         "text": [
          "token: along || tf   : 1.0 || cluster: 37"
         ],
         "type": "scatter",
         "x": [
          4.85917329788208
         ],
         "y": [
          4.095026969909668
         ]
        },
        {
         "line": {
          "color": "DarkSlateGrey",
          "width": 2
         },
         "marker": {
          "color": [
           0.269944,
           0.014625,
           0.341379
          ],
          "size": 9
         },
         "mode": "markers",
         "name": "with",
         "text": [
          "token: with || tf   : 23.0 || cluster: 2"
         ],
         "type": "scatter",
         "x": [
          5.767964839935303
         ],
         "y": [
          7.4640212059021
         ]
        },
        {
         "line": {
          "color": "DarkSlateGrey",
          "width": 2
         },
         "marker": {
          "color": [
           0.265145,
           0.232956,
           0.516599
          ],
          "size": 9
         },
         "mode": "markers",
         "name": "oral",
         "text": [
          "token: oral || tf   : 1.0 || cluster: 44"
         ],
         "type": "scatter",
         "x": [
          2.0906829833984375
         ],
         "y": [
          10.184693336486816
         ]
        },
        {
         "line": {
          "color": "DarkSlateGrey",
          "width": 2
         },
         "marker": {
          "color": [
           0.265145,
           0.232956,
           0.516599
          ],
          "size": 9
         },
         "mode": "markers",
         "name": "contra",
         "text": [
          "token: contra || tf   : 1.0 || cluster: 44"
         ],
         "type": "scatter",
         "x": [
          2.021899700164795
         ],
         "y": [
          9.939371109008789
         ]
        },
        {
         "line": {
          "color": "DarkSlateGrey",
          "width": 2
         },
         "marker": {
          "color": [
           0.265145,
           0.232956,
           0.516599
          ],
          "size": 9
         },
         "mode": "markers",
         "name": "##ceptive",
         "text": [
          "token: ##ceptive || tf   : 1.0 || cluster: 44"
         ],
         "type": "scatter",
         "x": [
          2.0715389251708984
         ],
         "y": [
          10.106679916381836
         ]
        },
        {
         "line": {
          "color": "DarkSlateGrey",
          "width": 2
         },
         "marker": {
          "color": [
           0.26658,
           0.228262,
           0.514349
          ],
          "size": 9
         },
         "mode": "markers",
         "name": "pills",
         "text": [
          "token: pills || tf   : 1.0 || cluster: 43"
         ],
         "type": "scatter",
         "x": [
          1.9538811445236206
         ],
         "y": [
          10.420502662658691
         ]
        },
        {
         "line": {
          "color": "DarkSlateGrey",
          "width": 2
         },
         "marker": {
          "color": [
           0.273006,
           0.20452,
           0.501721
          ],
          "size": 9
         },
         "mode": "markers",
         "name": "most",
         "text": [
          "token: most || tf   : 2.0 || cluster: 38"
         ],
         "type": "scatter",
         "x": [
          2.8905606269836426
         ],
         "y": [
          2.758971691131592
         ]
        },
        {
         "line": {
          "color": "DarkSlateGrey",
          "width": 2
         },
         "marker": {
          "color": [
           0.278791,
           0.062145,
           0.386592
          ],
          "size": 9
         },
         "mode": "markers",
         "name": "adult",
         "text": [
          "token: adult || tf   : 8.0 || cluster: 10"
         ],
         "type": "scatter",
         "x": [
          3.9599382877349854
         ],
         "y": [
          6.896731376647949
         ]
        },
        {
         "line": {
          "color": "DarkSlateGrey",
          "width": 2
         },
         "marker": {
          "color": [
           0.274952,
           0.037752,
           0.364543
          ],
          "size": 9
         },
         "mode": "markers",
         "name": "classic",
         "text": [
          "token: classic || tf   : 5.0 || cluster: 6"
         ],
         "type": "scatter",
         "x": [
          4.750161647796631
         ],
         "y": [
          7.065037250518799
         ]
        },
        {
         "line": {
          "color": "DarkSlateGrey",
          "width": 2
         },
         "marker": {
          "color": [
           0.26851,
           0.009605,
           0.335427
          ],
          "size": 9
         },
         "mode": "markers",
         "name": "##h",
         "text": [
          "token: ##h || tf   : 17.0 || cluster: 1"
         ],
         "type": "scatter",
         "x": [
          3.8956873416900635
         ],
         "y": [
          10.74439525604248
         ]
        },
        {
         "line": {
          "color": "DarkSlateGrey",
          "width": 2
         },
         "marker": {
          "color": [
           0.278826,
           0.17549,
           0.483397
          ],
          "size": 9
         },
         "mode": "markers",
         "name": "patients",
         "text": [
          "token: patients || tf   : 25.0 || cluster: 32"
         ],
         "type": "scatter",
         "x": [
          2.5121734142303467
         ],
         "y": [
          4.110439300537109
         ]
        },
        {
         "line": {
          "color": "DarkSlateGrey",
          "width": 2
         },
         "marker": {
          "color": [
           0.273809,
           0.031497,
           0.358853
          ],
          "size": 9
         },
         "mode": "markers",
         "name": "with",
         "text": [
          "token: with || tf   : 23.0 || cluster: 5"
         ],
         "type": "scatter",
         "x": [
          5.5400567054748535
         ],
         "y": [
          6.722942352294922
         ]
        },
        {
         "line": {
          "color": "DarkSlateGrey",
          "width": 2
         },
         "marker": {
          "color": [
           0.28291,
           0.105393,
           0.426902
          ],
          "size": 9
         },
         "mode": "markers",
         "name": "complaints",
         "text": [
          "token: complaints || tf   : 2.0 || cluster: 18"
         ],
         "type": "scatter",
         "x": [
          3.9925429821014404
         ],
         "y": [
          5.967518329620361
         ]
        },
        {
         "line": {
          "color": "DarkSlateGrey",
          "width": 2
         },
         "marker": {
          "color": [
           0.993248,
           0.906157,
           0.143936
          ],
          "size": 9
         },
         "mode": "markers",
         "name": "##rs",
         "text": [
          "token: ##rs || tf   : 3.0 || cluster: -1"
         ],
         "type": "scatter",
         "x": [
          1.7917922735214233
         ],
         "y": [
          9.378868103027344
         ]
        },
        {
         "line": {
          "color": "DarkSlateGrey",
          "width": 2
         },
         "marker": {
          "color": [
           0.267968,
           0.223549,
           0.512008
          ],
          "size": 9
         },
         "mode": "markers",
         "name": "##uti",
         "text": [
          "token: ##uti || tf   : 3.0 || cluster: 42"
         ],
         "type": "scatter",
         "x": [
          2.2038540840148926
         ],
         "y": [
          9.283164024353027
         ]
        },
        {
         "line": {
          "color": "DarkSlateGrey",
          "width": 2
         },
         "marker": {
          "color": [
           0.260571,
           0.246922,
           0.522828
          ],
          "size": 9
         },
         "mode": "markers",
         "name": "##sm",
         "text": [
          "token: ##sm || tf   : 3.0 || cluster: 47"
         ],
         "type": "scatter",
         "x": [
          2.9243533611297607
         ],
         "y": [
          8.217571258544922
         ]
        },
        {
         "line": {
          "color": "DarkSlateGrey",
          "width": 2
         },
         "marker": {
          "color": [
           0.270595,
           0.214069,
           0.507052
          ],
          "size": 9
         },
         "mode": "markers",
         "name": "were",
         "text": [
          "token: were || tf   : 17.0 || cluster: 40"
         ],
         "type": "scatter",
         "x": [
          3.847219705581665
         ],
         "y": [
          3.9030354022979736
         ]
        },
        {
         "line": {
          "color": "DarkSlateGrey",
          "width": 2
         },
         "marker": {
          "color": [
           0.283229,
           0.120777,
           0.440584
          ],
          "size": 9
         },
         "mode": "markers",
         "name": "treated",
         "text": [
          "token: treated || tf   : 4.0 || cluster: 21"
         ],
         "type": "scatter",
         "x": [
          2.980376720428467
         ],
         "y": [
          4.784904956817627
         ]
        },
        {
         "line": {
          "color": "DarkSlateGrey",
          "width": 2
         },
         "marker": {
          "color": [
           0.269944,
           0.014625,
           0.341379
          ],
          "size": 9
         },
         "mode": "markers",
         "name": "with",
         "text": [
          "token: with || tf   : 23.0 || cluster: 2"
         ],
         "type": "scatter",
         "x": [
          5.7436652183532715
         ],
         "y": [
          7.44707727432251
         ]
        },
        {
         "line": {
          "color": "DarkSlateGrey",
          "width": 2
         },
         "marker": {
          "color": [
           0.269944,
           0.014625,
           0.341379
          ],
          "size": 9
         },
         "mode": "markers",
         "name": "either",
         "text": [
          "token: either || tf   : 1.0 || cluster: 2"
         ],
         "type": "scatter",
         "x": [
          5.735350608825684
         ],
         "y": [
          7.702752590179443
         ]
        },
        {
         "line": {
          "color": "DarkSlateGrey",
          "width": 2
         },
         "marker": {
          "color": [
           0.265145,
           0.232956,
           0.516599
          ],
          "size": 9
         },
         "mode": "markers",
         "name": "##iro",
         "text": [
          "token: ##iro || tf   : 1.0 || cluster: 44"
         ],
         "type": "scatter",
         "x": [
          1.5569759607315063
         ],
         "y": [
          10.084400177001953
         ]
        },
        {
         "line": {
          "color": "DarkSlateGrey",
          "width": 2
         },
         "marker": {
          "color": [
           0.265145,
           0.232956,
           0.516599
          ],
          "size": 9
         },
         "mode": "markers",
         "name": "##no",
         "text": [
          "token: ##no || tf   : 1.0 || cluster: 44"
         ],
         "type": "scatter",
         "x": [
          1.4934574365615845
         ],
         "y": [
          10.24402141571045
         ]
        },
        {
         "line": {
          "color": "DarkSlateGrey",
          "width": 2
         },
         "marker": {
          "color": [
           0.265145,
           0.232956,
           0.516599
          ],
          "size": 9
         },
         "mode": "markers",
         "name": "##la",
         "text": [
          "token: ##la || tf   : 1.0 || cluster: 44"
         ],
         "type": "scatter",
         "x": [
          1.4344698190689087
         ],
         "y": [
          10.06646728515625
         ]
        },
        {
         "line": {
          "color": "DarkSlateGrey",
          "width": 2
         },
         "marker": {
          "color": [
           0.265145,
           0.232956,
           0.516599
          ],
          "size": 9
         },
         "mode": "markers",
         "name": "##cton",
         "text": [
          "token: ##cton || tf   : 1.0 || cluster: 44"
         ],
         "type": "scatter",
         "x": [
          1.5990893840789795
         ],
         "y": [
          10.201176643371582
         ]
        },
        {
         "line": {
          "color": "DarkSlateGrey",
          "width": 2
         },
         "marker": {
          "color": [
           0.26658,
           0.228262,
           0.514349
          ],
          "size": 9
         },
         "mode": "markers",
         "name": "##e",
         "text": [
          "token: ##e || tf   : 3.0 || cluster: 43"
         ],
         "type": "scatter",
         "x": [
          1.7989786863327026
         ],
         "y": [
          10.553450584411621
         ]
        },
        {
         "line": {
          "color": "DarkSlateGrey",
          "width": 2
         },
         "marker": {
          "color": [
           0.265145,
           0.232956,
           0.516599
          ],
          "size": 9
         },
         "mode": "markers",
         "name": "fin",
         "text": [
          "token: fin || tf   : 1.0 || cluster: 44"
         ],
         "type": "scatter",
         "x": [
          1.7806143760681152
         ],
         "y": [
          10.061593055725098
         ]
        },
        {
         "line": {
          "color": "DarkSlateGrey",
          "width": 2
         },
         "marker": {
          "color": [
           0.265145,
           0.232956,
           0.516599
          ],
          "size": 9
         },
         "mode": "markers",
         "name": "##aster",
         "text": [
          "token: ##aster || tf   : 1.0 || cluster: 44"
         ],
         "type": "scatter",
         "x": [
          1.5148272514343262
         ],
         "y": [
          10.153939247131348
         ]
        },
        {
         "line": {
          "color": "DarkSlateGrey",
          "width": 2
         },
         "marker": {
          "color": [
           0.26658,
           0.228262,
           0.514349
          ],
          "size": 9
         },
         "mode": "markers",
         "name": "##ide",
         "text": [
          "token: ##ide || tf   : 1.0 || cluster: 43"
         ],
         "type": "scatter",
         "x": [
          1.8494757413864136
         ],
         "y": [
          10.497356414794922
         ]
        },
        {
         "line": {
          "color": "DarkSlateGrey",
          "width": 2
         },
         "marker": {
          "color": [
           0.993248,
           0.906157,
           0.143936
          ],
          "size": 9
         },
         "mode": "markers",
         "name": "pub",
         "text": [
          "token: pub || tf   : 3.0 || cluster: -1"
         ],
         "type": "scatter",
         "x": [
          2.516500473022461
         ],
         "y": [
          9.172741889953613
         ]
        },
        {
         "line": {
          "color": "DarkSlateGrey",
          "width": 2
         },
         "marker": {
          "color": [
           0.993248,
           0.906157,
           0.143936
          ],
          "size": 9
         },
         "mode": "markers",
         "name": "##ert",
         "text": [
          "token: ##ert || tf   : 2.0 || cluster: -1"
         ],
         "type": "scatter",
         "x": [
          2.5190963745117188
         ],
         "y": [
          9.17055892944336
         ]
        },
        {
         "line": {
          "color": "DarkSlateGrey",
          "width": 2
         },
         "marker": {
          "color": [
           0.276194,
           0.190074,
           0.493001
          ],
          "size": 9
         },
         "mode": "markers",
         "name": "##al",
         "text": [
          "token: ##al || tf   : 7.0 || cluster: 35"
         ],
         "type": "scatter",
         "x": [
          2.8512279987335205
         ],
         "y": [
          9.106792449951172
         ]
        },
        {
         "line": {
          "color": "DarkSlateGrey",
          "width": 2
         },
         "marker": {
          "color": [
           0.283229,
           0.120777,
           0.440584
          ],
          "size": 9
         },
         "mode": "markers",
         "name": "induction",
         "text": [
          "token: induction || tf   : 1.0 || cluster: 21"
         ],
         "type": "scatter",
         "x": [
          2.997004747390747
         ],
         "y": [
          5.349354267120361
         ]
        },
        {
         "line": {
          "color": "DarkSlateGrey",
          "width": 2
         },
         "marker": {
          "color": [
           0.269944,
           0.014625,
           0.341379
          ],
          "size": 9
         },
         "mode": "markers",
         "name": "with",
         "text": [
          "token: with || tf   : 23.0 || cluster: 2"
         ],
         "type": "scatter",
         "x": [
          5.738040447235107
         ],
         "y": [
          7.422754764556885
         ]
        },
        {
         "line": {
          "color": "DarkSlateGrey",
          "width": 2
         },
         "marker": {
          "color": [
           0.265145,
           0.232956,
           0.516599
          ],
          "size": 9
         },
         "mode": "markers",
         "name": "##hin",
         "text": [
          "token: ##hin || tf   : 1.0 || cluster: 44"
         ],
         "type": "scatter",
         "x": [
          1.8542664051055908
         ],
         "y": [
          10.044588088989258
         ]
        },
        {
         "line": {
          "color": "DarkSlateGrey",
          "width": 2
         },
         "marker": {
          "color": [
           0.26658,
           0.228262,
           0.514349
          ],
          "size": 9
         },
         "mode": "markers",
         "name": "##yl",
         "text": [
          "token: ##yl || tf   : 1.0 || cluster: 43"
         ],
         "type": "scatter",
         "x": [
          1.8404182195663452
         ],
         "y": [
          10.495798110961914
         ]
        },
        {
         "line": {
          "color": "DarkSlateGrey",
          "width": 2
         },
         "marker": {
          "color": [
           0.265145,
           0.232956,
           0.516599
          ],
          "size": 9
         },
         "mode": "markers",
         "name": "est",
         "text": [
          "token: est || tf   : 1.0 || cluster: 44"
         ],
         "type": "scatter",
         "x": [
          1.7432726621627808
         ],
         "y": [
          9.897002220153809
         ]
        },
        {
         "line": {
          "color": "DarkSlateGrey",
          "width": 2
         },
         "marker": {
          "color": [
           0.265145,
           0.232956,
           0.516599
          ],
          "size": 9
         },
         "mode": "markers",
         "name": "##rad",
         "text": [
          "token: ##rad || tf   : 1.0 || cluster: 44"
         ],
         "type": "scatter",
         "x": [
          1.7320293188095093
         ],
         "y": [
          9.91123104095459
         ]
        },
        {
         "line": {
          "color": "DarkSlateGrey",
          "width": 2
         },
         "marker": {
          "color": [
           0.26658,
           0.228262,
           0.514349
          ],
          "size": 9
         },
         "mode": "markers",
         "name": "##iol",
         "text": [
          "token: ##iol || tf   : 1.0 || cluster: 43"
         ],
         "type": "scatter",
         "x": [
          1.8362964391708374
         ],
         "y": [
          10.47978401184082
         ]
        },
        {
         "line": {
          "color": "DarkSlateGrey",
          "width": 2
         },
         "marker": {
          "color": [
           0.270595,
           0.214069,
           0.507052
          ],
          "size": 9
         },
         "mode": "markers",
         "name": "was",
         "text": [
          "token: was || tf   : 15.0 || cluster: 40"
         ],
         "type": "scatter",
         "x": [
          3.928797960281372
         ],
         "y": [
          3.6968741416931152
         ]
        },
        {
         "line": {
          "color": "DarkSlateGrey",
          "width": 2
         },
         "marker": {
          "color": [
           0.283197,
           0.11568,
           0.436115
          ],
          "size": 9
         },
         "mode": "markers",
         "name": "initiated",
         "text": [
          "token: initiated || tf   : 1.0 || cluster: 20"
         ],
         "type": "scatter",
         "x": [
          3.485206365585327
         ],
         "y": [
          4.480401515960693
         ]
        },
        {
         "line": {
          "color": "DarkSlateGrey",
          "width": 2
         },
         "marker": {
          "color": [
           0.271828,
           0.209303,
           0.504434
          ],
          "size": 9
         },
         "mode": "markers",
         "name": "for",
         "text": [
          "token: for || tf   : 6.0 || cluster: 39"
         ],
         "type": "scatter",
         "x": [
          2.7743890285491943
         ],
         "y": [
          3.114382266998291
         ]
        },
        {
         "line": {
          "color": "DarkSlateGrey",
          "width": 2
         },
         "marker": {
          "color": [
           0.271828,
           0.209303,
           0.504434
          ],
          "size": 9
         },
         "mode": "markers",
         "name": "three",
         "text": [
          "token: three || tf   : 1.0 || cluster: 39"
         ],
         "type": "scatter",
         "x": [
          2.302464485168457
         ],
         "y": [
          3.0244784355163574
         ]
        },
        {
         "line": {
          "color": "DarkSlateGrey",
          "width": 2
         },
         "marker": {
          "color": [
           0.283091,
           0.110553,
           0.431554
          ],
          "size": 9
         },
         "mode": "markers",
         "name": "the",
         "text": [
          "token: the || tf   : 32.0 || cluster: 19"
         ],
         "type": "scatter",
         "x": [
          3.0076770782470703
         ],
         "y": [
          1.9839154481887817
         ]
        },
        {
         "line": {
          "color": "DarkSlateGrey",
          "width": 2
         },
         "marker": {
          "color": [
           0.278791,
           0.062145,
           0.386592
          ],
          "size": 9
         },
         "mode": "markers",
         "name": "adult",
         "text": [
          "token: adult || tf   : 8.0 || cluster: 10"
         ],
         "type": "scatter",
         "x": [
          3.9299778938293457
         ],
         "y": [
          6.855835437774658
         ]
        },
        {
         "line": {
          "color": "DarkSlateGrey",
          "width": 2
         },
         "marker": {
          "color": [
           0.278826,
           0.17549,
           0.483397
          ],
          "size": 9
         },
         "mode": "markers",
         "name": "patients",
         "text": [
          "token: patients || tf   : 25.0 || cluster: 32"
         ],
         "type": "scatter",
         "x": [
          2.5608952045440674
         ],
         "y": [
          4.085569858551025
         ]
        },
        {
         "line": {
          "color": "DarkSlateGrey",
          "width": 2
         },
         "marker": {
          "color": [
           0.282327,
           0.094955,
           0.417331
          ],
          "size": 9
         },
         "mode": "markers",
         "name": "who",
         "text": [
          "token: who || tf   : 4.0 || cluster: 16"
         ],
         "type": "scatter",
         "x": [
          3.300337076187134
         ],
         "y": [
          3.805051565170288
         ]
        },
        {
         "line": {
          "color": "DarkSlateGrey",
          "width": 2
         },
         "marker": {
          "color": [
           0.993248,
           0.906157,
           0.143936
          ],
          "size": 9
         },
         "mode": "markers",
         "name": "sought",
         "text": [
          "token: sought || tf   : 2.0 || cluster: -1"
         ],
         "type": "scatter",
         "x": [
          3.862309455871582
         ],
         "y": [
          4.510422229766846
         ]
        },
        {
         "line": {
          "color": "DarkSlateGrey",
          "width": 2
         },
         "marker": {
          "color": [
           0.283229,
           0.120777,
           0.440584
          ],
          "size": 9
         },
         "mode": "markers",
         "name": "medical",
         "text": [
          "token: medical || tf   : 3.0 || cluster: 21"
         ],
         "type": "scatter",
         "x": [
          2.9609570503234863
         ],
         "y": [
          5.013581275939941
         ]
        },
        {
         "line": {
          "color": "DarkSlateGrey",
          "width": 2
         },
         "marker": {
          "color": [
           0.283229,
           0.120777,
           0.440584
          ],
          "size": 9
         },
         "mode": "markers",
         "name": "care",
         "text": [
          "token: care || tf   : 1.0 || cluster: 21"
         ],
         "type": "scatter",
         "x": [
          2.9511663913726807
         ],
         "y": [
          4.977174758911133
         ]
        },
        {
         "line": {
          "color": "DarkSlateGrey",
          "width": 2
         },
         "marker": {
          "color": [
           0.276022,
           0.044167,
           0.370164
          ],
          "size": 9
         },
         "mode": "markers",
         "name": "late",
         "text": [
          "token: late || tf   : 4.0 || cluster: 7"
         ],
         "type": "scatter",
         "x": [
          3.4473798274993896
         ],
         "y": [
          6.124634265899658
         ]
        },
        {
         "line": {
          "color": "DarkSlateGrey",
          "width": 2
         },
         "marker": {
          "color": [
           0.993248,
           0.906157,
           0.143936
          ],
          "size": 9
         },
         "mode": "markers",
         "name": "analysis",
         "text": [
          "token: analysis || tf   : 1.0 || cluster: -1"
         ],
         "type": "scatter",
         "x": [
          2.246959924697876
         ],
         "y": [
          2.807915449142456
         ]
        },
        {
         "line": {
          "color": "DarkSlateGrey",
          "width": 2
         },
         "marker": {
          "color": [
           0.993248,
           0.906157,
           0.143936
          ],
          "size": 9
         },
         "mode": "markers",
         "name": "##p",
         "text": [
          "token: ##p || tf   : 4.0 || cluster: -1"
         ],
         "type": "scatter",
         "x": [
          3.5019965171813965
         ],
         "y": [
          9.233123779296875
         ]
        },
        {
         "line": {
          "color": "DarkSlateGrey",
          "width": 2
         },
         "marker": {
          "color": [
           0.993248,
           0.906157,
           0.143936
          ],
          "size": 9
         },
         "mode": "markers",
         "name": "levels",
         "text": [
          "token: levels || tf   : 6.0 || cluster: -1"
         ],
         "type": "scatter",
         "x": [
          3.736506223678589
         ],
         "y": [
          8.991189956665039
         ]
        },
        {
         "line": {
          "color": "DarkSlateGrey",
          "width": 2
         },
         "marker": {
          "color": [
           0.993248,
           0.906157,
           0.143936
          ],
          "size": 9
         },
         "mode": "markers",
         "name": "revealed",
         "text": [
          "token: revealed || tf   : 1.0 || cluster: -1"
         ],
         "type": "scatter",
         "x": [
          3.7207069396972656
         ],
         "y": [
          3.2635018825531006
         ]
        },
        {
         "line": {
          "color": "DarkSlateGrey",
          "width": 2
         },
         "marker": {
          "color": [
           0.993248,
           0.906157,
           0.143936
          ],
          "size": 9
         },
         "mode": "markers",
         "name": "that",
         "text": [
          "token: that || tf   : 1.0 || cluster: -1"
         ],
         "type": "scatter",
         "x": [
          3.701549530029297
         ],
         "y": [
          3.2576985359191895
         ]
        },
        {
         "line": {
          "color": "DarkSlateGrey",
          "width": 2
         },
         "marker": {
          "color": [
           0.270595,
           0.214069,
           0.507052
          ],
          "size": 9
         },
         "mode": "markers",
         "name": "were",
         "text": [
          "token: were || tf   : 17.0 || cluster: 40"
         ],
         "type": "scatter",
         "x": [
          3.8229689598083496
         ],
         "y": [
          3.8681771755218506
         ]
        },
        {
         "line": {
          "color": "DarkSlateGrey",
          "width": 2
         },
         "marker": {
          "color": [
           0.281446,
           0.08432,
           0.407414
          ],
          "size": 9
         },
         "mode": "markers",
         "name": "suppressed",
         "text": [
          "token: suppressed || tf   : 2.0 || cluster: 14"
         ],
         "type": "scatter",
         "x": [
          4.671169281005859
         ],
         "y": [
          5.560117244720459
         ]
        },
        {
         "line": {
          "color": "DarkSlateGrey",
          "width": 2
         },
         "marker": {
          "color": [
           0.273809,
           0.031497,
           0.358853
          ],
          "size": 9
         },
         "mode": "markers",
         "name": "with",
         "text": [
          "token: with || tf   : 23.0 || cluster: 5"
         ],
         "type": "scatter",
         "x": [
          5.274116516113281
         ],
         "y": [
          6.305691719055176
         ]
        },
        {
         "line": {
          "color": "DarkSlateGrey",
          "width": 2
         },
         "marker": {
          "color": [
           0.993248,
           0.906157,
           0.143936
          ],
          "size": 9
         },
         "mode": "markers",
         "name": "levels",
         "text": [
          "token: levels || tf   : 6.0 || cluster: -1"
         ],
         "type": "scatter",
         "x": [
          3.7569568157196045
         ],
         "y": [
          8.898530960083008
         ]
        },
        {
         "line": {
          "color": "DarkSlateGrey",
          "width": 2
         },
         "marker": {
          "color": [
           0.993248,
           0.906157,
           0.143936
          ],
          "size": 9
         },
         "mode": "markers",
         "name": "less",
         "text": [
          "token: less || tf   : 1.0 || cluster: -1"
         ],
         "type": "scatter",
         "x": [
          4.649684429168701
         ],
         "y": [
          8.470660209655762
         ]
        },
        {
         "line": {
          "color": "DarkSlateGrey",
          "width": 2
         },
         "marker": {
          "color": [
           0.993248,
           0.906157,
           0.143936
          ],
          "size": 9
         },
         "mode": "markers",
         "name": "than",
         "text": [
          "token: than || tf   : 3.0 || cluster: -1"
         ],
         "type": "scatter",
         "x": [
          4.908218860626221
         ],
         "y": [
          9.016334533691406
         ]
        },
        {
         "line": {
          "color": "DarkSlateGrey",
          "width": 2
         },
         "marker": {
          "color": [
           0.276194,
           0.190074,
           0.493001
          ],
          "size": 9
         },
         "mode": "markers",
         "name": "##ng",
         "text": [
          "token: ##ng || tf   : 1.0 || cluster: 35"
         ],
         "type": "scatter",
         "x": [
          3.521188735961914
         ],
         "y": [
          9.09975528717041
         ]
        },
        {
         "line": {
          "color": "DarkSlateGrey",
          "width": 2
         },
         "marker": {
          "color": [
           0.281446,
           0.08432,
           0.407414
          ],
          "size": 9
         },
         "mode": "markers",
         "name": "appropriate",
         "text": [
          "token: appropriate || tf   : 3.0 || cluster: 14"
         ],
         "type": "scatter",
         "x": [
          4.746761322021484
         ],
         "y": [
          5.581238746643066
         ]
        },
        {
         "line": {
          "color": "DarkSlateGrey",
          "width": 2
         },
         "marker": {
          "color": [
           0.281412,
           0.155834,
           0.469201
          ],
          "size": 9
         },
         "mode": "markers",
         "name": "and",
         "text": [
          "token: and || tf   : 26.0 || cluster: 28"
         ],
         "type": "scatter",
         "x": [
          4.885455131530762
         ],
         "y": [
          4.930747032165527
         ]
        },
        {
         "line": {
          "color": "DarkSlateGrey",
          "width": 2
         },
         "marker": {
          "color": [
           0.281446,
           0.08432,
           0.407414
          ],
          "size": 9
         },
         "mode": "markers",
         "name": "inadequate",
         "text": [
          "token: inadequate || tf   : 1.0 || cluster: 14"
         ],
         "type": "scatter",
         "x": [
          4.823000907897949
         ],
         "y": [
          5.545140743255615
         ]
        },
        {
         "line": {
          "color": "DarkSlateGrey",
          "width": 2
         },
         "marker": {
          "color": [
           0.278826,
           0.17549,
           0.483397
          ],
          "size": 9
         },
         "mode": "markers",
         "name": "patients",
         "text": [
          "token: patients || tf   : 25.0 || cluster: 32"
         ],
         "type": "scatter",
         "x": [
          2.5730674266815186
         ],
         "y": [
          4.047232627868652
         ]
        },
        {
         "line": {
          "color": "DarkSlateGrey",
          "width": 2
         },
         "marker": {
          "color": [
           0.993248,
           0.906157,
           0.143936
          ],
          "size": 9
         },
         "mode": "markers",
         "name": "report",
         "text": [
          "token: report || tf   : 1.0 || cluster: -1"
         ],
         "type": "scatter",
         "x": [
          3.6245243549346924
         ],
         "y": [
          3.131673812866211
         ]
        },
        {
         "line": {
          "color": "DarkSlateGrey",
          "width": 2
         },
         "marker": {
          "color": [
           0.283091,
           0.110553,
           0.431554
          ],
          "size": 9
         },
         "mode": "markers",
         "name": "the",
         "text": [
          "token: the || tf   : 32.0 || cluster: 19"
         ],
         "type": "scatter",
         "x": [
          3.247312307357788
         ],
         "y": [
          2.1883559226989746
         ]
        },
        {
         "line": {
          "color": "DarkSlateGrey",
          "width": 2
         },
         "marker": {
          "color": [
           0.993248,
           0.906157,
           0.143936
          ],
          "size": 9
         },
         "mode": "markers",
         "name": "##eno",
         "text": [
          "token: ##eno || tf   : 1.0 || cluster: -1"
         ],
         "type": "scatter",
         "x": [
          1.888406753540039
         ],
         "y": [
          9.658634185791016
         ]
        },
        {
         "line": {
          "color": "DarkSlateGrey",
          "width": 2
         },
         "marker": {
          "color": [
           0.267004,
           0.004874,
           0.329415
          ],
          "size": 9
         },
         "mode": "markers",
         "name": "##typic",
         "text": [
          "token: ##typic || tf   : 1.0 || cluster: 0"
         ],
         "type": "scatter",
         "x": [
          4.756272792816162
         ],
         "y": [
          9.363320350646973
         ]
        },
        {
         "line": {
          "color": "DarkSlateGrey",
          "width": 2
         },
         "marker": {
          "color": [
           0.28291,
           0.105393,
           0.426902
          ],
          "size": 9
         },
         "mode": "markers",
         "name": "features",
         "text": [
          "token: features || tf   : 4.0 || cluster: 18"
         ],
         "type": "scatter",
         "x": [
          4.037756443023682
         ],
         "y": [
          5.770429611206055
         ]
        },
        {
         "line": {
          "color": "DarkSlateGrey",
          "width": 2
         },
         "marker": {
          "color": [
           0.993248,
           0.906157,
           0.143936
          ],
          "size": 9
         },
         "mode": "markers",
         "name": "##hort",
         "text": [
          "token: ##hort || tf   : 2.0 || cluster: -1"
         ],
         "type": "scatter",
         "x": [
          2.456331968307495
         ],
         "y": [
          3.515504837036133
         ]
        },
        {
         "line": {
          "color": "DarkSlateGrey",
          "width": 2
         },
         "marker": {
          "color": [
           0.278826,
           0.17549,
           0.483397
          ],
          "size": 9
         },
         "mode": "markers",
         "name": "patients",
         "text": [
          "token: patients || tf   : 25.0 || cluster: 32"
         ],
         "type": "scatter",
         "x": [
          2.5231869220733643
         ],
         "y": [
          4.036678314208984
         ]
        },
        {
         "line": {
          "color": "DarkSlateGrey",
          "width": 2
         },
         "marker": {
          "color": [
           0.273809,
           0.031497,
           0.358853
          ],
          "size": 9
         },
         "mode": "markers",
         "name": "with",
         "text": [
          "token: with || tf   : 23.0 || cluster: 5"
         ],
         "type": "scatter",
         "x": [
          5.6177778244018555
         ],
         "y": [
          6.839154243469238
         ]
        },
        {
         "line": {
          "color": "DarkSlateGrey",
          "width": 2
         },
         "marker": {
          "color": [
           0.26851,
           0.009605,
           0.335427
          ],
          "size": 9
         },
         "mode": "markers",
         "name": "##h",
         "text": [
          "token: ##h || tf   : 17.0 || cluster: 1"
         ],
         "type": "scatter",
         "x": [
          3.8530144691467285
         ],
         "y": [
          10.74149227142334
         ]
        },
        {
         "line": {
          "color": "DarkSlateGrey",
          "width": 2
         },
         "marker": {
          "color": [
           0.993248,
           0.906157,
           0.143936
          ],
          "size": 9
         },
         "mode": "markers",
         "name": "being",
         "text": [
          "token: being || tf   : 1.0 || cluster: -1"
         ],
         "type": "scatter",
         "x": [
          3.8602120876312256
         ],
         "y": [
          4.338881492614746
         ]
        },
        {
         "line": {
          "color": "DarkSlateGrey",
          "width": 2
         },
         "marker": {
          "color": [
           0.283229,
           0.120777,
           0.440584
          ],
          "size": 9
         },
         "mode": "markers",
         "name": "evaluated",
         "text": [
          "token: evaluated || tf   : 2.0 || cluster: 21"
         ],
         "type": "scatter",
         "x": [
          2.9471168518066406
         ],
         "y": [
          4.672266483306885
         ]
        },
        {
         "line": {
          "color": "DarkSlateGrey",
          "width": 2
         },
         "marker": {
          "color": [
           0.281412,
           0.155834,
           0.469201
          ],
          "size": 9
         },
         "mode": "markers",
         "name": "and",
         "text": [
          "token: and || tf   : 26.0 || cluster: 28"
         ],
         "type": "scatter",
         "x": [
          4.784946918487549
         ],
         "y": [
          4.896911144256592
         ]
        },
        {
         "line": {
          "color": "DarkSlateGrey",
          "width": 2
         },
         "marker": {
          "color": [
           0.283229,
           0.120777,
           0.440584
          ],
          "size": 9
         },
         "mode": "markers",
         "name": "managed",
         "text": [
          "token: managed || tf   : 1.0 || cluster: 21"
         ],
         "type": "scatter",
         "x": [
          2.974195718765259
         ],
         "y": [
          4.6931071281433105
         ]
        },
        {
         "line": {
          "color": "DarkSlateGrey",
          "width": 2
         },
         "marker": {
          "color": [
           0.993248,
           0.906157,
           0.143936
          ],
          "size": 9
         },
         "mode": "markers",
         "name": "tertiary",
         "text": [
          "token: tertiary || tf   : 1.0 || cluster: -1"
         ],
         "type": "scatter",
         "x": [
          2.693260669708252
         ],
         "y": [
          4.443089485168457
         ]
        },
        {
         "line": {
          "color": "DarkSlateGrey",
          "width": 2
         },
         "marker": {
          "color": [
           0.993248,
           0.906157,
           0.143936
          ],
          "size": 9
         },
         "mode": "markers",
         "name": "centre",
         "text": [
          "token: centre || tf   : 1.0 || cluster: -1"
         ],
         "type": "scatter",
         "x": [
          2.7140285968780518
         ],
         "y": [
          4.396580219268799
         ]
        },
        {
         "line": {
          "color": "DarkSlateGrey",
          "width": 2
         },
         "marker": {
          "color": [
           0.267004,
           0.004874,
           0.329415
          ],
          "size": 9
         },
         "mode": "markers",
         "name": "southern",
         "text": [
          "token: southern || tf   : 1.0 || cluster: 0"
         ],
         "type": "scatter",
         "x": [
          5.230204105377197
         ],
         "y": [
          9.902426719665527
         ]
        },
        {
         "line": {
          "color": "DarkSlateGrey",
          "width": 2
         },
         "marker": {
          "color": [
           0.267004,
           0.004874,
           0.329415
          ],
          "size": 9
         },
         "mode": "markers",
         "name": "india",
         "text": [
          "token: india || tf   : 1.0 || cluster: 0"
         ],
         "type": "scatter",
         "x": [
          5.203659534454346
         ],
         "y": [
          9.91368579864502
         ]
        },
        {
         "line": {
          "color": "DarkSlateGrey",
          "width": 2
         },
         "marker": {
          "color": [
           0.993248,
           0.906157,
           0.143936
          ],
          "size": 9
         },
         "mode": "markers",
         "name": "this",
         "text": [
          "token: this || tf   : 3.0 || cluster: -1"
         ],
         "type": "scatter",
         "x": [
          2.744453191757202
         ],
         "y": [
          2.3193371295928955
         ]
        },
        {
         "line": {
          "color": "DarkSlateGrey",
          "width": 2
         },
         "marker": {
          "color": [
           0.271828,
           0.209303,
           0.504434
          ],
          "size": 9
         },
         "mode": "markers",
         "name": "series",
         "text": [
          "token: series || tf   : 1.0 || cluster: 39"
         ],
         "type": "scatter",
         "x": [
          2.449406862258911
         ],
         "y": [
          3.209084987640381
         ]
        },
        {
         "line": {
          "color": "DarkSlateGrey",
          "width": 2
         },
         "marker": {
          "color": [
           0.283091,
           0.110553,
           0.431554
          ],
          "size": 9
         },
         "mode": "markers",
         "name": "the",
         "text": [
          "token: the || tf   : 32.0 || cluster: 19"
         ],
         "type": "scatter",
         "x": [
          3.31490159034729
         ],
         "y": [
          2.242398500442505
         ]
        },
        {
         "line": {
          "color": "DarkSlateGrey",
          "width": 2
         },
         "marker": {
          "color": [
           0.993248,
           0.906157,
           0.143936
          ],
          "size": 9
         },
         "mode": "markers",
         "name": "typical",
         "text": [
          "token: typical || tf   : 1.0 || cluster: -1"
         ],
         "type": "scatter",
         "x": [
          3.5631837844848633
         ],
         "y": [
          2.976900577545166
         ]
        },
        {
         "line": {
          "color": "DarkSlateGrey",
          "width": 2
         },
         "marker": {
          "color": [
           0.283197,
           0.11568,
           0.436115
          ],
          "size": 9
         },
         "mode": "markers",
         "name": "presentation",
         "text": [
          "token: presentation || tf   : 3.0 || cluster: 20"
         ],
         "type": "scatter",
         "x": [
          3.3135576248168945
         ],
         "y": [
          4.406681537628174
         ]
        },
        {
         "line": {
          "color": "DarkSlateGrey",
          "width": 2
         },
         "marker": {
          "color": [
           0.279574,
           0.170599,
           0.479997
          ],
          "size": 9
         },
         "mode": "markers",
         "name": "male",
         "text": [
          "token: male || tf   : 2.0 || cluster: 31"
         ],
         "type": "scatter",
         "x": [
          1.9852231740951538
         ],
         "y": [
          4.323294162750244
         ]
        },
        {
         "line": {
          "color": "DarkSlateGrey",
          "width": 2
         },
         "marker": {
          "color": [
           0.279574,
           0.170599,
           0.479997
          ],
          "size": 9
         },
         "mode": "markers",
         "name": "babies",
         "text": [
          "token: babies || tf   : 1.0 || cluster: 31"
         ],
         "type": "scatter",
         "x": [
          2.112239122390747
         ],
         "y": [
          4.370748996734619
         ]
        },
        {
         "line": {
          "color": "DarkSlateGrey",
          "width": 2
         },
         "marker": {
          "color": [
           0.270595,
           0.214069,
           0.507052
          ],
          "size": 9
         },
         "mode": "markers",
         "name": "were",
         "text": [
          "token: were || tf   : 17.0 || cluster: 40"
         ],
         "type": "scatter",
         "x": [
          3.8442976474761963
         ],
         "y": [
          3.8592991828918457
         ]
        },
        {
         "line": {
          "color": "DarkSlateGrey",
          "width": 2
         },
         "marker": {
          "color": [
           0.273809,
           0.031497,
           0.358853
          ],
          "size": 9
         },
         "mode": "markers",
         "name": "with",
         "text": [
          "token: with || tf   : 23.0 || cluster: 5"
         ],
         "type": "scatter",
         "x": [
          5.431463718414307
         ],
         "y": [
          6.5971999168396
         ]
        },
        {
         "line": {
          "color": "DarkSlateGrey",
          "width": 2
         },
         "marker": {
          "color": [
           0.993248,
           0.906157,
           0.143936
          ],
          "size": 9
         },
         "mode": "markers",
         "name": "##ren",
         "text": [
          "token: ##ren || tf   : 7.0 || cluster: -1"
         ],
         "type": "scatter",
         "x": [
          1.8295046091079712
         ],
         "y": [
          9.031075477600098
         ]
        },
        {
         "line": {
          "color": "DarkSlateGrey",
          "width": 2
         },
         "marker": {
          "color": [
           0.276194,
           0.190074,
           0.493001
          ],
          "size": 9
         },
         "mode": "markers",
         "name": "##al",
         "text": [
          "token: ##al || tf   : 7.0 || cluster: 35"
         ],
         "type": "scatter",
         "x": [
          2.838286876678467
         ],
         "y": [
          9.002874374389648
         ]
        },
        {
         "line": {
          "color": "DarkSlateGrey",
          "width": 2
         },
         "marker": {
          "color": [
           0.993248,
           0.906157,
           0.143936
          ],
          "size": 9
         },
         "mode": "markers",
         "name": "crisis",
         "text": [
          "token: crisis || tf   : 3.0 || cluster: -1"
         ],
         "type": "scatter",
         "x": [
          2.962181329727173
         ],
         "y": [
          7.731233596801758
         ]
        },
        {
         "line": {
          "color": "DarkSlateGrey",
          "width": 2
         },
         "marker": {
          "color": [
           0.276022,
           0.044167,
           0.370164
          ],
          "size": 9
         },
         "mode": "markers",
         "name": "between",
         "text": [
          "token: between || tf   : 4.0 || cluster: 7"
         ],
         "type": "scatter",
         "x": [
          3.2648181915283203
         ],
         "y": [
          6.074229717254639
         ]
        },
        {
         "line": {
          "color": "DarkSlateGrey",
          "width": 2
         },
         "marker": {
          "color": [
           0.283091,
           0.110553,
           0.431554
          ],
          "size": 9
         },
         "mode": "markers",
         "name": "the",
         "text": [
          "token: the || tf   : 32.0 || cluster: 19"
         ],
         "type": "scatter",
         "x": [
          3.249035596847534
         ],
         "y": [
          2.1162619590759277
         ]
        },
        {
         "line": {
          "color": "DarkSlateGrey",
          "width": 2
         },
         "marker": {
          "color": [
           0.278012,
           0.180367,
           0.486697
          ],
          "size": 9
         },
         "mode": "markers",
         "name": "and",
         "text": [
          "token: and || tf   : 26.0 || cluster: 33"
         ],
         "type": "scatter",
         "x": [
          2.6536905765533447
         ],
         "y": [
          6.2556915283203125
         ]
        },
        {
         "line": {
          "color": "DarkSlateGrey",
          "width": 2
         },
         "marker": {
          "color": [
           0.278791,
           0.062145,
           0.386592
          ],
          "size": 9
         },
         "mode": "markers",
         "name": "week",
         "text": [
          "token: week || tf   : 2.0 || cluster: 10"
         ],
         "type": "scatter",
         "x": [
          2.9643073081970215
         ],
         "y": [
          6.715225696563721
         ]
        },
        {
         "line": {
          "color": "DarkSlateGrey",
          "width": 2
         },
         "marker": {
          "color": [
           0.993248,
           0.906157,
           0.143936
          ],
          "size": 9
         },
         "mode": "markers",
         "name": "life",
         "text": [
          "token: life || tf   : 3.0 || cluster: -1"
         ],
         "type": "scatter",
         "x": [
          3.0584189891815186
         ],
         "y": [
          6.825079917907715
         ]
        },
        {
         "line": {
          "color": "DarkSlateGrey",
          "width": 2
         },
         "marker": {
          "color": [
           0.273006,
           0.20452,
           0.501721
          ],
          "size": 9
         },
         "mode": "markers",
         "name": "around",
         "text": [
          "token: around || tf   : 3.0 || cluster: 38"
         ],
         "type": "scatter",
         "x": [
          3.041651964187622
         ],
         "y": [
          2.997753143310547
         ]
        },
        {
         "line": {
          "color": "DarkSlateGrey",
          "width": 2
         },
         "marker": {
          "color": [
           0.279574,
           0.170599,
           0.479997
          ],
          "size": 9
         },
         "mode": "markers",
         "name": "female",
         "text": [
          "token: female || tf   : 1.0 || cluster: 31"
         ],
         "type": "scatter",
         "x": [
          1.9610122442245483
         ],
         "y": [
          4.2817463874816895
         ]
        },
        {
         "line": {
          "color": "DarkSlateGrey",
          "width": 2
         },
         "marker": {
          "color": [
           0.278826,
           0.17549,
           0.483397
          ],
          "size": 9
         },
         "mode": "markers",
         "name": "patients",
         "text": [
          "token: patients || tf   : 25.0 || cluster: 32"
         ],
         "type": "scatter",
         "x": [
          2.4722039699554443
         ],
         "y": [
          4.121284484863281
         ]
        },
        {
         "line": {
          "color": "DarkSlateGrey",
          "width": 2
         },
         "marker": {
          "color": [
           0.273809,
           0.031497,
           0.358853
          ],
          "size": 9
         },
         "mode": "markers",
         "name": "with",
         "text": [
          "token: with || tf   : 23.0 || cluster: 5"
         ],
         "type": "scatter",
         "x": [
          5.586819171905518
         ],
         "y": [
          6.774584770202637
         ]
        },
        {
         "line": {
          "color": "DarkSlateGrey",
          "width": 2
         },
         "marker": {
          "color": [
           0.274952,
           0.037752,
           0.364543
          ],
          "size": 9
         },
         "mode": "markers",
         "name": "classic",
         "text": [
          "token: classic || tf   : 5.0 || cluster: 6"
         ],
         "type": "scatter",
         "x": [
          4.757349014282227
         ],
         "y": [
          7.0737762451171875
         ]
        },
        {
         "line": {
          "color": "DarkSlateGrey",
          "width": 2
         },
         "marker": {
          "color": [
           0.26851,
           0.009605,
           0.335427
          ],
          "size": 9
         },
         "mode": "markers",
         "name": "##h",
         "text": [
          "token: ##h || tf   : 17.0 || cluster: 1"
         ],
         "type": "scatter",
         "x": [
          3.9341471195220947
         ],
         "y": [
          10.741732597351074
         ]
        },
        {
         "line": {
          "color": "DarkSlateGrey",
          "width": 2
         },
         "marker": {
          "color": [
           0.270595,
           0.214069,
           0.507052
          ],
          "size": 9
         },
         "mode": "markers",
         "name": "were",
         "text": [
          "token: were || tf   : 17.0 || cluster: 40"
         ],
         "type": "scatter",
         "x": [
          3.7543249130249023
         ],
         "y": [
          3.9419217109680176
         ]
        },
        {
         "line": {
          "color": "DarkSlateGrey",
          "width": 2
         },
         "marker": {
          "color": [
           0.283229,
           0.120777,
           0.440584
          ],
          "size": 9
         },
         "mode": "markers",
         "name": "identified",
         "text": [
          "token: identified || tf   : 3.0 || cluster: 21"
         ],
         "type": "scatter",
         "x": [
          2.7624282836914062
         ],
         "y": [
          4.732285022735596
         ]
        },
        {
         "line": {
          "color": "DarkSlateGrey",
          "width": 2
         },
         "marker": {
          "color": [
           0.281412,
           0.155834,
           0.469201
          ],
          "size": 9
         },
         "mode": "markers",
         "name": "and",
         "text": [
          "token: and || tf   : 26.0 || cluster: 28"
         ],
         "type": "scatter",
         "x": [
          4.770559787750244
         ],
         "y": [
          4.887979507446289
         ]
        },
        {
         "line": {
          "color": "DarkSlateGrey",
          "width": 2
         },
         "marker": {
          "color": [
           0.993248,
           0.906157,
           0.143936
          ],
          "size": 9
         },
         "mode": "markers",
         "name": "appropriately",
         "text": [
          "token: appropriately || tf   : 1.0 || cluster: -1"
         ],
         "type": "scatter",
         "x": [
          4.497030735015869
         ],
         "y": [
          5.168067455291748
         ]
        },
        {
         "line": {
          "color": "DarkSlateGrey",
          "width": 2
         },
         "marker": {
          "color": [
           0.283229,
           0.120777,
           0.440584
          ],
          "size": 9
         },
         "mode": "markers",
         "name": "treated",
         "text": [
          "token: treated || tf   : 4.0 || cluster: 21"
         ],
         "type": "scatter",
         "x": [
          2.992621421813965
         ],
         "y": [
          4.7915215492248535
         ]
        },
        {
         "line": {
          "color": "DarkSlateGrey",
          "width": 2
         },
         "marker": {
          "color": [
           0.274128,
           0.199721,
           0.498911
          ],
          "size": 9
         },
         "mode": "markers",
         "name": "only",
         "text": [
          "token: only || tf   : 2.0 || cluster: 37"
         ],
         "type": "scatter",
         "x": [
          4.61258602142334
         ],
         "y": [
          4.3680739402771
         ]
        },
        {
         "line": {
          "color": "DarkSlateGrey",
          "width": 2
         },
         "marker": {
          "color": [
           0.276022,
           0.044167,
           0.370164
          ],
          "size": 9
         },
         "mode": "markers",
         "name": "after",
         "text": [
          "token: after || tf   : 1.0 || cluster: 7"
         ],
         "type": "scatter",
         "x": [
          3.466822862625122
         ],
         "y": [
          6.011266231536865
         ]
        },
        {
         "line": {
          "color": "DarkSlateGrey",
          "width": 2
         },
         "marker": {
          "color": [
           0.276022,
           0.044167,
           0.370164
          ],
          "size": 9
         },
         "mode": "markers",
         "name": "late",
         "text": [
          "token: late || tf   : 4.0 || cluster: 7"
         ],
         "type": "scatter",
         "x": [
          3.4554638862609863
         ],
         "y": [
          6.217237949371338
         ]
        },
        {
         "line": {
          "color": "DarkSlateGrey",
          "width": 2
         },
         "marker": {
          "color": [
           0.278791,
           0.062145,
           0.386592
          ],
          "size": 9
         },
         "mode": "markers",
         "name": "adolescence",
         "text": [
          "token: adolescence || tf   : 1.0 || cluster: 10"
         ],
         "type": "scatter",
         "x": [
          3.56552791595459
         ],
         "y": [
          6.829349994659424
         ]
        },
        {
         "line": {
          "color": "DarkSlateGrey",
          "width": 2
         },
         "marker": {
          "color": [
           0.274128,
           0.199721,
           0.498911
          ],
          "size": 9
         },
         "mode": "markers",
         "name": "even",
         "text": [
          "token: even || tf   : 2.0 || cluster: 37"
         ],
         "type": "scatter",
         "x": [
          4.789219379425049
         ],
         "y": [
          4.23455286026001
         ]
        },
        {
         "line": {
          "color": "DarkSlateGrey",
          "width": 2
         },
         "marker": {
          "color": [
           0.274128,
           0.199721,
           0.498911
          ],
          "size": 9
         },
         "mode": "markers",
         "name": "when",
         "text": [
          "token: when || tf   : 1.0 || cluster: 37"
         ],
         "type": "scatter",
         "x": [
          4.390813827514648
         ],
         "y": [
          4.441439628601074
         ]
        },
        {
         "line": {
          "color": "DarkSlateGrey",
          "width": 2
         },
         "marker": {
          "color": [
           0.993248,
           0.906157,
           0.143936
          ],
          "size": 9
         },
         "mode": "markers",
         "name": "gen",
         "text": [
          "token: gen || tf   : 3.0 || cluster: -1"
         ],
         "type": "scatter",
         "x": [
          2.105638265609741
         ],
         "y": [
          8.928171157836914
         ]
        },
        {
         "line": {
          "color": "DarkSlateGrey",
          "width": 2
         },
         "marker": {
          "color": [
           0.276194,
           0.190074,
           0.493001
          ],
          "size": 9
         },
         "mode": "markers",
         "name": "##ital",
         "text": [
          "token: ##ital || tf   : 3.0 || cluster: 35"
         ],
         "type": "scatter",
         "x": [
          2.6110899448394775
         ],
         "y": [
          8.93243408203125
         ]
        },
        {
         "line": {
          "color": "DarkSlateGrey",
          "width": 2
         },
         "marker": {
          "color": [
           0.993248,
           0.906157,
           0.143936
          ],
          "size": 9
         },
         "mode": "markers",
         "name": "ambiguity",
         "text": [
          "token: ambiguity || tf   : 3.0 || cluster: -1"
         ],
         "type": "scatter",
         "x": [
          3.200824499130249
         ],
         "y": [
          7.8512468338012695
         ]
        },
        {
         "line": {
          "color": "DarkSlateGrey",
          "width": 2
         },
         "marker": {
          "color": [
           0.269308,
           0.218818,
           0.509577
          ],
          "size": 9
         },
         "mode": "markers",
         "name": "was",
         "text": [
          "token: was || tf   : 15.0 || cluster: 41"
         ],
         "type": "scatter",
         "x": [
          4.1588335037231445
         ],
         "y": [
          3.347316026687622
         ]
        },
        {
         "line": {
          "color": "DarkSlateGrey",
          "width": 2
         },
         "marker": {
          "color": [
           0.270595,
           0.214069,
           0.507052
          ],
          "size": 9
         },
         "mode": "markers",
         "name": "present",
         "text": [
          "token: present || tf   : 1.0 || cluster: 40"
         ],
         "type": "scatter",
         "x": [
          4.061356544494629
         ],
         "y": [
          3.5122299194335938
         ]
        },
        {
         "line": {
          "color": "DarkSlateGrey",
          "width": 2
         },
         "marker": {
          "color": [
           0.276022,
           0.044167,
           0.370164
          ],
          "size": 9
         },
         "mode": "markers",
         "name": "since",
         "text": [
          "token: since || tf   : 1.0 || cluster: 7"
         ],
         "type": "scatter",
         "x": [
          3.3704779148101807
         ],
         "y": [
          6.058709144592285
         ]
        },
        {
         "line": {
          "color": "DarkSlateGrey",
          "width": 2
         },
         "marker": {
          "color": [
           0.278791,
           0.062145,
           0.386592
          ],
          "size": 9
         },
         "mode": "markers",
         "name": "birth",
         "text": [
          "token: birth || tf   : 4.0 || cluster: 10"
         ],
         "type": "scatter",
         "x": [
          3.3188352584838867
         ],
         "y": [
          6.690808296203613
         ]
        },
        {
         "line": {
          "color": "DarkSlateGrey",
          "width": 2
         },
         "marker": {
          "color": [
           0.283187,
           0.125848,
           0.44496
          ],
          "size": 9
         },
         "mode": "markers",
         "name": "short",
         "text": [
          "token: short || tf   : 2.0 || cluster: 22"
         ],
         "type": "scatter",
         "x": [
          4.256176471710205
         ],
         "y": [
          7.889709949493408
         ]
        },
        {
         "line": {
          "color": "DarkSlateGrey",
          "width": 2
         },
         "marker": {
          "color": [
           0.283187,
           0.125848,
           0.44496
          ],
          "size": 9
         },
         "mode": "markers",
         "name": "stature",
         "text": [
          "token: stature || tf   : 3.0 || cluster: 22"
         ],
         "type": "scatter",
         "x": [
          4.307351589202881
         ],
         "y": [
          8.006110191345215
         ]
        },
        {
         "line": {
          "color": "DarkSlateGrey",
          "width": 2
         },
         "marker": {
          "color": [
           0.993248,
           0.906157,
           0.143936
          ],
          "size": 9
         },
         "mode": "markers",
         "name": "was",
         "text": [
          "token: was || tf   : 15.0 || cluster: -1"
         ],
         "type": "scatter",
         "x": [
          4.1150689125061035
         ],
         "y": [
          3.4427194595336914
         ]
        },
        {
         "line": {
          "color": "DarkSlateGrey",
          "width": 2
         },
         "marker": {
          "color": [
           0.270595,
           0.214069,
           0.507052
          ],
          "size": 9
         },
         "mode": "markers",
         "name": "seen",
         "text": [
          "token: seen || tf   : 3.0 || cluster: 40"
         ],
         "type": "scatter",
         "x": [
          3.6819446086883545
         ],
         "y": [
          3.688290596008301
         ]
        },
        {
         "line": {
          "color": "DarkSlateGrey",
          "width": 2
         },
         "marker": {
          "color": [
           0.993248,
           0.906157,
           0.143936
          ],
          "size": 9
         },
         "mode": "markers",
         "name": "one",
         "text": [
          "token: one || tf   : 6.0 || cluster: -1"
         ],
         "type": "scatter",
         "x": [
          1.9819546937942505
         ],
         "y": [
          3.1992111206054688
         ]
        },
        {
         "line": {
          "color": "DarkSlateGrey",
          "width": 2
         },
         "marker": {
          "color": [
           0.271828,
           0.209303,
           0.504434
          ],
          "size": 9
         },
         "mode": "markers",
         "name": "third",
         "text": [
          "token: third || tf   : 2.0 || cluster: 39"
         ],
         "type": "scatter",
         "x": [
          2.4072318077087402
         ],
         "y": [
          3.125298023223877
         ]
        },
        {
         "line": {
          "color": "DarkSlateGrey",
          "width": 2
         },
         "marker": {
          "color": [
           0.278826,
           0.17549,
           0.483397
          ],
          "size": 9
         },
         "mode": "markers",
         "name": "patients",
         "text": [
          "token: patients || tf   : 25.0 || cluster: 32"
         ],
         "type": "scatter",
         "x": [
          2.5703988075256348
         ],
         "y": [
          4.047385215759277
         ]
        },
        {
         "line": {
          "color": "DarkSlateGrey",
          "width": 2
         },
         "marker": {
          "color": [
           0.283229,
           0.120777,
           0.440584
          ],
          "size": 9
         },
         "mode": "markers",
         "name": "therapy",
         "text": [
          "token: therapy || tf   : 4.0 || cluster: 21"
         ],
         "type": "scatter",
         "x": [
          2.974004030227661
         ],
         "y": [
          5.069947242736816
         ]
        },
        {
         "line": {
          "color": "DarkSlateGrey",
          "width": 2
         },
         "marker": {
          "color": [
           0.993248,
           0.906157,
           0.143936
          ],
          "size": 9
         },
         "mode": "markers",
         "name": "and",
         "text": [
          "token: and || tf   : 26.0 || cluster: -1"
         ],
         "type": "scatter",
         "x": [
          0.7782081365585327
         ],
         "y": [
          4.31333065032959
         ]
        },
        {
         "line": {
          "color": "DarkSlateGrey",
          "width": 2
         },
         "marker": {
          "color": [
           0.283091,
           0.110553,
           0.431554
          ],
          "size": 9
         },
         "mode": "markers",
         "name": "the",
         "text": [
          "token: the || tf   : 32.0 || cluster: 19"
         ],
         "type": "scatter",
         "x": [
          3.5692007541656494
         ],
         "y": [
          2.325671434402466
         ]
        },
        {
         "line": {
          "color": "DarkSlateGrey",
          "width": 2
         },
         "marker": {
          "color": [
           0.274952,
           0.037752,
           0.364543
          ],
          "size": 9
         },
         "mode": "markers",
         "name": "average",
         "text": [
          "token: average || tf   : 1.0 || cluster: 6"
         ],
         "type": "scatter",
         "x": [
          4.600064277648926
         ],
         "y": [
          6.391477584838867
         ]
        },
        {
         "line": {
          "color": "DarkSlateGrey",
          "width": 2
         },
         "marker": {
          "color": [
           0.274952,
           0.037752,
           0.364543
          ],
          "size": 9
         },
         "mode": "markers",
         "name": "final",
         "text": [
          "token: final || tf   : 4.0 || cluster: 6"
         ],
         "type": "scatter",
         "x": [
          4.546444416046143
         ],
         "y": [
          6.826356887817383
         ]
        },
        {
         "line": {
          "color": "DarkSlateGrey",
          "width": 2
         },
         "marker": {
          "color": [
           0.278791,
           0.062145,
           0.386592
          ],
          "size": 9
         },
         "mode": "markers",
         "name": "adult",
         "text": [
          "token: adult || tf   : 8.0 || cluster: 10"
         ],
         "type": "scatter",
         "x": [
          3.887425661087036
         ],
         "y": [
          6.959152698516846
         ]
        },
        {
         "line": {
          "color": "DarkSlateGrey",
          "width": 2
         },
         "marker": {
          "color": [
           0.283187,
           0.125848,
           0.44496
          ],
          "size": 9
         },
         "mode": "markers",
         "name": "height",
         "text": [
          "token: height || tf   : 7.0 || cluster: 22"
         ],
         "type": "scatter",
         "x": [
          4.357396125793457
         ],
         "y": [
          7.92415189743042
         ]
        },
        {
         "line": {
          "color": "DarkSlateGrey",
          "width": 2
         },
         "marker": {
          "color": [
           0.271828,
           0.209303,
           0.504434
          ],
          "size": 9
         },
         "mode": "markers",
         "name": "among",
         "text": [
          "token: among || tf   : 6.0 || cluster: 39"
         ],
         "type": "scatter",
         "x": [
          2.7631664276123047
         ],
         "y": [
          3.1714608669281006
         ]
        },
        {
         "line": {
          "color": "DarkSlateGrey",
          "width": 2
         },
         "marker": {
          "color": [
           0.278826,
           0.17549,
           0.483397
          ],
          "size": 9
         },
         "mode": "markers",
         "name": "patients",
         "text": [
          "token: patients || tf   : 25.0 || cluster: 32"
         ],
         "type": "scatter",
         "x": [
          2.577853202819824
         ],
         "y": [
          4.034348011016846
         ]
        },
        {
         "line": {
          "color": "DarkSlateGrey",
          "width": 2
         },
         "marker": {
          "color": [
           0.273809,
           0.031497,
           0.358853
          ],
          "size": 9
         },
         "mode": "markers",
         "name": "with",
         "text": [
          "token: with || tf   : 23.0 || cluster: 5"
         ],
         "type": "scatter",
         "x": [
          5.595662593841553
         ],
         "y": [
          6.824521541595459
         ]
        },
        {
         "line": {
          "color": "DarkSlateGrey",
          "width": 2
         },
         "marker": {
          "color": [
           0.274952,
           0.037752,
           0.364543
          ],
          "size": 9
         },
         "mode": "markers",
         "name": "classic",
         "text": [
          "token: classic || tf   : 5.0 || cluster: 6"
         ],
         "type": "scatter",
         "x": [
          4.779478549957275
         ],
         "y": [
          7.0608744621276855
         ]
        },
        {
         "line": {
          "color": "DarkSlateGrey",
          "width": 2
         },
         "marker": {
          "color": [
           0.26851,
           0.009605,
           0.335427
          ],
          "size": 9
         },
         "mode": "markers",
         "name": "##h",
         "text": [
          "token: ##h || tf   : 17.0 || cluster: 1"
         ],
         "type": "scatter",
         "x": [
          3.86714506149292
         ],
         "y": [
          10.73925495147705
         ]
        },
        {
         "line": {
          "color": "DarkSlateGrey",
          "width": 2
         },
         "marker": {
          "color": [
           0.269308,
           0.218818,
           0.509577
          ],
          "size": 9
         },
         "mode": "markers",
         "name": "was",
         "text": [
          "token: was || tf   : 15.0 || cluster: 41"
         ],
         "type": "scatter",
         "x": [
          4.275912284851074
         ],
         "y": [
          3.105325698852539
         ]
        },
        {
         "line": {
          "color": "DarkSlateGrey",
          "width": 2
         },
         "marker": {
          "color": [
           0.267004,
           0.004874,
           0.329415
          ],
          "size": 9
         },
         "mode": "markers",
         "name": "142",
         "text": [
          "token: 142 || tf   : 1.0 || cluster: 0"
         ],
         "type": "scatter",
         "x": [
          5.027912139892578
         ],
         "y": [
          9.966862678527832
         ]
        },
        {
         "line": {
          "color": "DarkSlateGrey",
          "width": 2
         },
         "marker": {
          "color": [
           0.993248,
           0.906157,
           0.143936
          ],
          "size": 9
         },
         "mode": "markers",
         "name": "which",
         "text": [
          "token: which || tf   : 5.0 || cluster: -1"
         ],
         "type": "scatter",
         "x": [
          4.558620929718018
         ],
         "y": [
          3.162367105484009
         ]
        },
        {
         "line": {
          "color": "DarkSlateGrey",
          "width": 2
         },
         "marker": {
          "color": [
           0.269308,
           0.218818,
           0.509577
          ],
          "size": 9
         },
         "mode": "markers",
         "name": "was",
         "text": [
          "token: was || tf   : 15.0 || cluster: 41"
         ],
         "type": "scatter",
         "x": [
          4.306138515472412
         ],
         "y": [
          3.059135913848877
         ]
        },
        {
         "line": {
          "color": "DarkSlateGrey",
          "width": 2
         },
         "marker": {
          "color": [
           0.269308,
           0.218818,
           0.509577
          ],
          "size": 9
         },
         "mode": "markers",
         "name": "significantly",
         "text": [
          "token: significantly || tf   : 2.0 || cluster: 41"
         ],
         "type": "scatter",
         "x": [
          4.552123546600342
         ],
         "y": [
          3.253593921661377
         ]
        },
        {
         "line": {
          "color": "DarkSlateGrey",
          "width": 2
         },
         "marker": {
          "color": [
           0.269308,
           0.218818,
           0.509577
          ],
          "size": 9
         },
         "mode": "markers",
         "name": "lower",
         "text": [
          "token: lower || tf   : 1.0 || cluster: 41"
         ],
         "type": "scatter",
         "x": [
          4.355098247528076
         ],
         "y": [
          3.0264031887054443
         ]
        },
        {
         "line": {
          "color": "DarkSlateGrey",
          "width": 2
         },
         "marker": {
          "color": [
           0.269308,
           0.218818,
           0.509577
          ],
          "size": 9
         },
         "mode": "markers",
         "name": "than",
         "text": [
          "token: than || tf   : 3.0 || cluster: 41"
         ],
         "type": "scatter",
         "x": [
          4.234942436218262
         ],
         "y": [
          2.910181999206543
         ]
        },
        {
         "line": {
          "color": "DarkSlateGrey",
          "width": 2
         },
         "marker": {
          "color": [
           0.283091,
           0.110553,
           0.431554
          ],
          "size": 9
         },
         "mode": "markers",
         "name": "the",
         "text": [
          "token: the || tf   : 32.0 || cluster: 19"
         ],
         "type": "scatter",
         "x": [
          3.565110445022583
         ],
         "y": [
          2.3548786640167236
         ]
        },
        {
         "line": {
          "color": "DarkSlateGrey",
          "width": 2
         },
         "marker": {
          "color": [
           0.274952,
           0.037752,
           0.364543
          ],
          "size": 9
         },
         "mode": "markers",
         "name": "mean",
         "text": [
          "token: mean || tf   : 2.0 || cluster: 6"
         ],
         "type": "scatter",
         "x": [
          4.5852437019348145
         ],
         "y": [
          6.618861675262451
         ]
        },
        {
         "line": {
          "color": "DarkSlateGrey",
          "width": 2
         },
         "marker": {
          "color": [
           0.278791,
           0.062145,
           0.386592
          ],
          "size": 9
         },
         "mode": "markers",
         "name": "adult",
         "text": [
          "token: adult || tf   : 8.0 || cluster: 10"
         ],
         "type": "scatter",
         "x": [
          3.9104504585266113
         ],
         "y": [
          6.91785192489624
         ]
        },
        {
         "line": {
          "color": "DarkSlateGrey",
          "width": 2
         },
         "marker": {
          "color": [
           0.283187,
           0.125848,
           0.44496
          ],
          "size": 9
         },
         "mode": "markers",
         "name": "height",
         "text": [
          "token: height || tf   : 7.0 || cluster: 22"
         ],
         "type": "scatter",
         "x": [
          4.251697540283203
         ],
         "y": [
          7.833138465881348
         ]
        },
        {
         "line": {
          "color": "DarkSlateGrey",
          "width": 2
         },
         "marker": {
          "color": [
           0.271828,
           0.209303,
           0.504434
          ],
          "size": 9
         },
         "mode": "markers",
         "name": "for",
         "text": [
          "token: for || tf   : 6.0 || cluster: 39"
         ],
         "type": "scatter",
         "x": [
          2.7987866401672363
         ],
         "y": [
          3.151014804840088
         ]
        },
        {
         "line": {
          "color": "DarkSlateGrey",
          "width": 2
         },
         "marker": {
          "color": [
           0.279574,
           0.170599,
           0.479997
          ],
          "size": 9
         },
         "mode": "markers",
         "name": "females",
         "text": [
          "token: females || tf   : 3.0 || cluster: 31"
         ],
         "type": "scatter",
         "x": [
          1.9646161794662476
         ],
         "y": [
          4.280102252960205
         ]
        },
        {
         "line": {
          "color": "DarkSlateGrey",
          "width": 2
         },
         "marker": {
          "color": [
           0.267004,
           0.004874,
           0.329415
          ],
          "size": 9
         },
         "mode": "markers",
         "name": "our",
         "text": [
          "token: our || tf   : 1.0 || cluster: 0"
         ],
         "type": "scatter",
         "x": [
          5.195374488830566
         ],
         "y": [
          9.764680862426758
         ]
        },
        {
         "line": {
          "color": "DarkSlateGrey",
          "width": 2
         },
         "marker": {
          "color": [
           0.993248,
           0.906157,
           0.143936
          ],
          "size": 9
         },
         "mode": "markers",
         "name": "population",
         "text": [
          "token: population || tf   : 1.0 || cluster: -1"
         ],
         "type": "scatter",
         "x": [
          2.436877489089966
         ],
         "y": [
          3.6789276599884033
         ]
        },
        {
         "line": {
          "color": "DarkSlateGrey",
          "width": 2
         },
         "marker": {
          "color": [
           0.283091,
           0.110553,
           0.431554
          ],
          "size": 9
         },
         "mode": "markers",
         "name": "the",
         "text": [
          "token: the || tf   : 32.0 || cluster: 19"
         ],
         "type": "scatter",
         "x": [
          3.51454758644104
         ],
         "y": [
          2.3393843173980713
         ]
        },
        {
         "line": {
          "color": "DarkSlateGrey",
          "width": 2
         },
         "marker": {
          "color": [
           0.274952,
           0.037752,
           0.364543
          ],
          "size": 9
         },
         "mode": "markers",
         "name": "mean",
         "text": [
          "token: mean || tf   : 2.0 || cluster: 6"
         ],
         "type": "scatter",
         "x": [
          4.5482330322265625
         ],
         "y": [
          6.522654056549072
         ]
        },
        {
         "line": {
          "color": "DarkSlateGrey",
          "width": 2
         },
         "marker": {
          "color": [
           0.274952,
           0.037752,
           0.364543
          ],
          "size": 9
         },
         "mode": "markers",
         "name": "final",
         "text": [
          "token: final || tf   : 4.0 || cluster: 6"
         ],
         "type": "scatter",
         "x": [
          4.569563388824463
         ],
         "y": [
          6.891229152679443
         ]
        },
        {
         "line": {
          "color": "DarkSlateGrey",
          "width": 2
         },
         "marker": {
          "color": [
           0.278791,
           0.062145,
           0.386592
          ],
          "size": 9
         },
         "mode": "markers",
         "name": "adult",
         "text": [
          "token: adult || tf   : 8.0 || cluster: 10"
         ],
         "type": "scatter",
         "x": [
          3.8945910930633545
         ],
         "y": [
          6.95867919921875
         ]
        },
        {
         "line": {
          "color": "DarkSlateGrey",
          "width": 2
         },
         "marker": {
          "color": [
           0.283187,
           0.125848,
           0.44496
          ],
          "size": 9
         },
         "mode": "markers",
         "name": "height",
         "text": [
          "token: height || tf   : 7.0 || cluster: 22"
         ],
         "type": "scatter",
         "x": [
          4.376369476318359
         ],
         "y": [
          7.8477373123168945
         ]
        },
        {
         "line": {
          "color": "DarkSlateGrey",
          "width": 2
         },
         "marker": {
          "color": [
           0.267004,
           0.004874,
           0.329415
          ],
          "size": 9
         },
         "mode": "markers",
         "name": "157",
         "text": [
          "token: 157 || tf   : 1.0 || cluster: 0"
         ],
         "type": "scatter",
         "x": [
          5.024779796600342
         ],
         "y": [
          9.91076946258545
         ]
        },
        {
         "line": {
          "color": "DarkSlateGrey",
          "width": 2
         },
         "marker": {
          "color": [
           0.271828,
           0.209303,
           0.504434
          ],
          "size": 9
         },
         "mode": "markers",
         "name": "for",
         "text": [
          "token: for || tf   : 6.0 || cluster: 39"
         ],
         "type": "scatter",
         "x": [
          2.8223605155944824
         ],
         "y": [
          3.1516401767730713
         ]
        },
        {
         "line": {
          "color": "DarkSlateGrey",
          "width": 2
         },
         "marker": {
          "color": [
           0.278826,
           0.17549,
           0.483397
          ],
          "size": 9
         },
         "mode": "markers",
         "name": "those",
         "text": [
          "token: those || tf   : 1.0 || cluster: 32"
         ],
         "type": "scatter",
         "x": [
          2.589850425720215
         ],
         "y": [
          3.817586660385132
         ]
        },
        {
         "line": {
          "color": "DarkSlateGrey",
          "width": 2
         },
         "marker": {
          "color": [
           0.273809,
           0.031497,
           0.358853
          ],
          "size": 9
         },
         "mode": "markers",
         "name": "with",
         "text": [
          "token: with || tf   : 23.0 || cluster: 5"
         ],
         "type": "scatter",
         "x": [
          5.601024150848389
         ],
         "y": [
          6.840487003326416
         ]
        },
        {
         "line": {
          "color": "DarkSlateGrey",
          "width": 2
         },
         "marker": {
          "color": [
           0.26851,
           0.009605,
           0.335427
          ],
          "size": 9
         },
         "mode": "markers",
         "name": "##ca",
         "text": [
          "token: ##ca || tf   : 3.0 || cluster: 1"
         ],
         "type": "scatter",
         "x": [
          4.00849723815918
         ],
         "y": [
          10.523820877075195
         ]
        },
        {
         "line": {
          "color": "DarkSlateGrey",
          "width": 2
         },
         "marker": {
          "color": [
           0.26851,
           0.009605,
           0.335427
          ],
          "size": 9
         },
         "mode": "markers",
         "name": "##h",
         "text": [
          "token: ##h || tf   : 17.0 || cluster: 1"
         ],
         "type": "scatter",
         "x": [
          3.859116315841675
         ],
         "y": [
          10.61709976196289
         ]
        },
        {
         "line": {
          "color": "DarkSlateGrey",
          "width": 2
         },
         "marker": {
          "color": [
           0.269308,
           0.218818,
           0.509577
          ],
          "size": 9
         },
         "mode": "markers",
         "name": "was",
         "text": [
          "token: was || tf   : 15.0 || cluster: 41"
         ],
         "type": "scatter",
         "x": [
          4.267692565917969
         ],
         "y": [
          3.063032865524292
         ]
        },
        {
         "line": {
          "color": "DarkSlateGrey",
          "width": 2
         },
         "marker": {
          "color": [
           0.269308,
           0.218818,
           0.509577
          ],
          "size": 9
         },
         "mode": "markers",
         "name": "better",
         "text": [
          "token: better || tf   : 1.0 || cluster: 41"
         ],
         "type": "scatter",
         "x": [
          4.317501544952393
         ],
         "y": [
          3.028118133544922
         ]
        },
        {
         "line": {
          "color": "DarkSlateGrey",
          "width": 2
         },
         "marker": {
          "color": [
           0.269308,
           0.218818,
           0.509577
          ],
          "size": 9
         },
         "mode": "markers",
         "name": "than",
         "text": [
          "token: than || tf   : 3.0 || cluster: 41"
         ],
         "type": "scatter",
         "x": [
          4.191733360290527
         ],
         "y": [
          2.9849257469177246
         ]
        },
        {
         "line": {
          "color": "DarkSlateGrey",
          "width": 2
         },
         "marker": {
          "color": [
           0.282327,
           0.094955,
           0.417331
          ],
          "size": 9
         },
         "mode": "markers",
         "name": "their",
         "text": [
          "token: their || tf   : 3.0 || cluster: 16"
         ],
         "type": "scatter",
         "x": [
          3.3071742057800293
         ],
         "y": [
          3.4733834266662598
         ]
        },
        {
         "line": {
          "color": "DarkSlateGrey",
          "width": 2
         },
         "marker": {
          "color": [
           0.274952,
           0.037752,
           0.364543
          ],
          "size": 9
         },
         "mode": "markers",
         "name": "classic",
         "text": [
          "token: classic || tf   : 5.0 || cluster: 6"
         ],
         "type": "scatter",
         "x": [
          4.7259674072265625
         ],
         "y": [
          7.049336910247803
         ]
        },
        {
         "line": {
          "color": "DarkSlateGrey",
          "width": 2
         },
         "marker": {
          "color": [
           0.26851,
           0.009605,
           0.335427
          ],
          "size": 9
         },
         "mode": "markers",
         "name": "##h",
         "text": [
          "token: ##h || tf   : 17.0 || cluster: 1"
         ],
         "type": "scatter",
         "x": [
          3.905435800552368
         ],
         "y": [
          10.680537223815918
         ]
        },
        {
         "line": {
          "color": "DarkSlateGrey",
          "width": 2
         },
         "marker": {
          "color": [
           0.267004,
           0.004874,
           0.329415
          ],
          "size": 9
         },
         "mode": "markers",
         "name": "counterpart",
         "text": [
          "token: counterpart || tf   : 1.0 || cluster: 0"
         ],
         "type": "scatter",
         "x": [
          4.901979446411133
         ],
         "y": [
          9.872572898864746
         ]
        },
        {
         "line": {
          "color": "DarkSlateGrey",
          "width": 2
         },
         "marker": {
          "color": [
           0.283187,
           0.125848,
           0.44496
          ],
          "size": 9
         },
         "mode": "markers",
         "name": "obesity",
         "text": [
          "token: obesity || tf   : 2.0 || cluster: 22"
         ],
         "type": "scatter",
         "x": [
          4.169577598571777
         ],
         "y": [
          8.33025074005127
         ]
        },
        {
         "line": {
          "color": "DarkSlateGrey",
          "width": 2
         },
         "marker": {
          "color": [
           0.283072,
           0.130895,
           0.449241
          ],
          "size": 9
         },
         "mode": "markers",
         "name": "and",
         "text": [
          "token: and || tf   : 26.0 || cluster: 23"
         ],
         "type": "scatter",
         "x": [
          5.167730331420898
         ],
         "y": [
          5.196413516998291
         ]
        },
        {
         "line": {
          "color": "DarkSlateGrey",
          "width": 2
         },
         "marker": {
          "color": [
           0.283187,
           0.125848,
           0.44496
          ],
          "size": 9
         },
         "mode": "markers",
         "name": "hyper",
         "text": [
          "token: hyper || tf   : 2.0 || cluster: 22"
         ],
         "type": "scatter",
         "x": [
          4.033046722412109
         ],
         "y": [
          8.605656623840332
         ]
        },
        {
         "line": {
          "color": "DarkSlateGrey",
          "width": 2
         },
         "marker": {
          "color": [
           0.283187,
           0.125848,
           0.44496
          ],
          "size": 9
         },
         "mode": "markers",
         "name": "##tension",
         "text": [
          "token: ##tension || tf   : 1.0 || cluster: 22"
         ],
         "type": "scatter",
         "x": [
          4.109010696411133
         ],
         "y": [
          8.614462852478027
         ]
        },
        {
         "line": {
          "color": "DarkSlateGrey",
          "width": 2
         },
         "marker": {
          "color": [
           0.269308,
           0.218818,
           0.509577
          ],
          "size": 9
         },
         "mode": "markers",
         "name": "were",
         "text": [
          "token: were || tf   : 17.0 || cluster: 41"
         ],
         "type": "scatter",
         "x": [
          4.098415851593018
         ],
         "y": [
          3.3782899379730225
         ]
        },
        {
         "line": {
          "color": "DarkSlateGrey",
          "width": 2
         },
         "marker": {
          "color": [
           0.269308,
           0.218818,
           0.509577
          ],
          "size": 9
         },
         "mode": "markers",
         "name": "not",
         "text": [
          "token: not || tf   : 1.0 || cluster: 41"
         ],
         "type": "scatter",
         "x": [
          4.174995422363281
         ],
         "y": [
          3.2114450931549072
         ]
        },
        {
         "line": {
          "color": "DarkSlateGrey",
          "width": 2
         },
         "marker": {
          "color": [
           0.993248,
           0.906157,
           0.143936
          ],
          "size": 9
         },
         "mode": "markers",
         "name": "found",
         "text": [
          "token: found || tf   : 1.0 || cluster: -1"
         ],
         "type": "scatter",
         "x": [
          3.8332183361053467
         ],
         "y": [
          3.4811394214630127
         ]
        },
        {
         "line": {
          "color": "DarkSlateGrey",
          "width": 2
         },
         "marker": {
          "color": [
           0.269308,
           0.218818,
           0.509577
          ],
          "size": 9
         },
         "mode": "markers",
         "name": "significantly",
         "text": [
          "token: significantly || tf   : 2.0 || cluster: 41"
         ],
         "type": "scatter",
         "x": [
          4.455226898193359
         ],
         "y": [
          3.2202017307281494
         ]
        },
        {
         "line": {
          "color": "DarkSlateGrey",
          "width": 2
         },
         "marker": {
          "color": [
           0.269308,
           0.218818,
           0.509577
          ],
          "size": 9
         },
         "mode": "markers",
         "name": "higher",
         "text": [
          "token: higher || tf   : 1.0 || cluster: 41"
         ],
         "type": "scatter",
         "x": [
          4.294984817504883
         ],
         "y": [
          3.0540945529937744
         ]
        },
        {
         "line": {
          "color": "DarkSlateGrey",
          "width": 2
         },
         "marker": {
          "color": [
           0.283091,
           0.110553,
           0.431554
          ],
          "size": 9
         },
         "mode": "markers",
         "name": "this",
         "text": [
          "token: this || tf   : 3.0 || cluster: 19"
         ],
         "type": "scatter",
         "x": [
          2.7435224056243896
         ],
         "y": [
          2.252890110015869
         ]
        },
        {
         "line": {
          "color": "DarkSlateGrey",
          "width": 2
         },
         "marker": {
          "color": [
           0.993248,
           0.906157,
           0.143936
          ],
          "size": 9
         },
         "mode": "markers",
         "name": "##hort",
         "text": [
          "token: ##hort || tf   : 2.0 || cluster: -1"
         ],
         "type": "scatter",
         "x": [
          2.447669744491577
         ],
         "y": [
          3.3952276706695557
         ]
        },
        {
         "line": {
          "color": "DarkSlateGrey",
          "width": 2
         },
         "marker": {
          "color": [
           0.26851,
           0.009605,
           0.335427
          ],
          "size": 9
         },
         "mode": "markers",
         "name": "##h",
         "text": [
          "token: ##h || tf   : 17.0 || cluster: 1"
         ],
         "type": "scatter",
         "x": [
          3.8570973873138428
         ],
         "y": [
          10.750088691711426
         ]
        },
        {
         "line": {
          "color": "DarkSlateGrey",
          "width": 2
         },
         "marker": {
          "color": [
           0.278826,
           0.17549,
           0.483397
          ],
          "size": 9
         },
         "mode": "markers",
         "name": "patients",
         "text": [
          "token: patients || tf   : 25.0 || cluster: 32"
         ],
         "type": "scatter",
         "x": [
          2.5646955966949463
         ],
         "y": [
          4.00521183013916
         ]
        },
        {
         "line": {
          "color": "DarkSlateGrey",
          "width": 2
         },
         "marker": {
          "color": [
           0.993248,
           0.906157,
           0.143936
          ],
          "size": 9
         },
         "mode": "markers",
         "name": "one",
         "text": [
          "token: one || tf   : 6.0 || cluster: -1"
         ],
         "type": "scatter",
         "x": [
          2.124965190887451
         ],
         "y": [
          3.085242509841919
         ]
        },
        {
         "line": {
          "color": "DarkSlateGrey",
          "width": 2
         },
         "marker": {
          "color": [
           0.271828,
           0.209303,
           0.504434
          ],
          "size": 9
         },
         "mode": "markers",
         "name": "third",
         "text": [
          "token: third || tf   : 2.0 || cluster: 39"
         ],
         "type": "scatter",
         "x": [
          2.4200541973114014
         ],
         "y": [
          3.113084554672241
         ]
        },
        {
         "line": {
          "color": "DarkSlateGrey",
          "width": 2
         },
         "marker": {
          "color": [
           0.278826,
           0.17549,
           0.483397
          ],
          "size": 9
         },
         "mode": "markers",
         "name": "patients",
         "text": [
          "token: patients || tf   : 25.0 || cluster: 32"
         ],
         "type": "scatter",
         "x": [
          2.5068445205688477
         ],
         "y": [
          4.062398433685303
         ]
        },
        {
         "line": {
          "color": "DarkSlateGrey",
          "width": 2
         },
         "marker": {
          "color": [
           0.270595,
           0.214069,
           0.507052
          ],
          "size": 9
         },
         "mode": "markers",
         "name": "had",
         "text": [
          "token: had || tf   : 8.0 || cluster: 40"
         ],
         "type": "scatter",
         "x": [
          3.8749656677246094
         ],
         "y": [
          3.7631218433380127
         ]
        },
        {
         "line": {
          "color": "DarkSlateGrey",
          "width": 2
         },
         "marker": {
          "color": [
           0.281446,
           0.08432,
           0.407414
          ],
          "size": 9
         },
         "mode": "markers",
         "name": "suppressed",
         "text": [
          "token: suppressed || tf   : 2.0 || cluster: 14"
         ],
         "type": "scatter",
         "x": [
          4.631396770477295
         ],
         "y": [
          5.402413845062256
         ]
        },
        {
         "line": {
          "color": "DarkSlateGrey",
          "width": 2
         },
         "marker": {
          "color": [
           0.993248,
           0.906157,
           0.143936
          ],
          "size": 9
         },
         "mode": "markers",
         "name": "##p",
         "text": [
          "token: ##p || tf   : 4.0 || cluster: -1"
         ],
         "type": "scatter",
         "x": [
          3.493189573287964
         ],
         "y": [
          9.196393966674805
         ]
        },
        {
         "line": {
          "color": "DarkSlateGrey",
          "width": 2
         },
         "marker": {
          "color": [
           0.993248,
           0.906157,
           0.143936
          ],
          "size": 9
         },
         "mode": "markers",
         "name": "levels",
         "text": [
          "token: levels || tf   : 6.0 || cluster: -1"
         ],
         "type": "scatter",
         "x": [
          3.719648838043213
         ],
         "y": [
          8.93929386138916
         ]
        },
        {
         "line": {
          "color": "DarkSlateGrey",
          "width": 2
         },
         "marker": {
          "color": [
           0.28291,
           0.105393,
           0.426902
          ],
          "size": 9
         },
         "mode": "markers",
         "name": "suggest",
         "text": [
          "token: suggest || tf   : 2.0 || cluster: 18"
         ],
         "type": "scatter",
         "x": [
          3.962048053741455
         ],
         "y": [
          5.481217384338379
         ]
        },
        {
         "line": {
          "color": "DarkSlateGrey",
          "width": 2
         },
         "marker": {
          "color": [
           0.28291,
           0.105393,
           0.426902
          ],
          "size": 9
         },
         "mode": "markers",
         "name": "##ive",
         "text": [
          "token: ##ive || tf   : 3.0 || cluster: 18"
         ],
         "type": "scatter",
         "x": [
          3.9616403579711914
         ],
         "y": [
          5.453078269958496
         ]
        },
        {
         "line": {
          "color": "DarkSlateGrey",
          "width": 2
         },
         "marker": {
          "color": [
           0.993248,
           0.906157,
           0.143936
          ],
          "size": 9
         },
         "mode": "markers",
         "name": "over",
         "text": [
          "token: over || tf   : 2.0 || cluster: -1"
         ],
         "type": "scatter",
         "x": [
          3.137974739074707
         ],
         "y": [
          5.521085262298584
         ]
        },
        {
         "line": {
          "color": "DarkSlateGrey",
          "width": 2
         },
         "marker": {
          "color": [
           0.993248,
           0.906157,
           0.143936
          ],
          "size": 9
         },
         "mode": "markers",
         "name": "replacement",
         "text": [
          "token: replacement || tf   : 1.0 || cluster: -1"
         ],
         "type": "scatter",
         "x": [
          3.108982563018799
         ],
         "y": [
          5.505281925201416
         ]
        },
        {
         "line": {
          "color": "DarkSlateGrey",
          "width": 2
         },
         "marker": {
          "color": [
           0.283229,
           0.120777,
           0.440584
          ],
          "size": 9
         },
         "mode": "markers",
         "name": "therapy",
         "text": [
          "token: therapy || tf   : 4.0 || cluster: 21"
         ],
         "type": "scatter",
         "x": [
          3.0094287395477295
         ],
         "y": [
          5.381369113922119
         ]
        },
        {
         "line": {
          "color": "DarkSlateGrey",
          "width": 2
         },
         "marker": {
          "color": [
           0.993248,
           0.906157,
           0.143936
          ],
          "size": 9
         },
         "mode": "markers",
         "name": "which",
         "text": [
          "token: which || tf   : 5.0 || cluster: -1"
         ],
         "type": "scatter",
         "x": [
          4.740891933441162
         ],
         "y": [
          3.7893691062927246
         ]
        },
        {
         "line": {
          "color": "DarkSlateGrey",
          "width": 2
         },
         "marker": {
          "color": [
           0.993248,
           0.906157,
           0.143936
          ],
          "size": 9
         },
         "mode": "markers",
         "name": "may",
         "text": [
          "token: may || tf   : 2.0 || cluster: -1"
         ],
         "type": "scatter",
         "x": [
          4.747027397155762
         ],
         "y": [
          3.5986456871032715
         ]
        },
        {
         "line": {
          "color": "DarkSlateGrey",
          "width": 2
         },
         "marker": {
          "color": [
           0.993248,
           0.906157,
           0.143936
          ],
          "size": 9
         },
         "mode": "markers",
         "name": "also",
         "text": [
          "token: also || tf   : 4.0 || cluster: -1"
         ],
         "type": "scatter",
         "x": [
          4.686903476715088
         ],
         "y": [
          3.548293113708496
         ]
        },
        {
         "line": {
          "color": "DarkSlateGrey",
          "width": 2
         },
         "marker": {
          "color": [
           0.993248,
           0.906157,
           0.143936
          ],
          "size": 9
         },
         "mode": "markers",
         "name": "contribute",
         "text": [
          "token: contribute || tf   : 1.0 || cluster: -1"
         ],
         "type": "scatter",
         "x": [
          4.69002628326416
         ],
         "y": [
          3.642869234085083
         ]
        },
        {
         "line": {
          "color": "DarkSlateGrey",
          "width": 2
         },
         "marker": {
          "color": [
           0.283091,
           0.110553,
           0.431554
          ],
          "size": 9
         },
         "mode": "markers",
         "name": "the",
         "text": [
          "token: the || tf   : 32.0 || cluster: 19"
         ],
         "type": "scatter",
         "x": [
          3.494502544403076
         ],
         "y": [
          2.2733070850372314
         ]
        },
        {
         "line": {
          "color": "DarkSlateGrey",
          "width": 2
         },
         "marker": {
          "color": [
           0.281446,
           0.08432,
           0.407414
          ],
          "size": 9
         },
         "mode": "markers",
         "name": "reduction",
         "text": [
          "token: reduction || tf   : 1.0 || cluster: 14"
         ],
         "type": "scatter",
         "x": [
          4.579962730407715
         ],
         "y": [
          5.346433639526367
         ]
        },
        {
         "line": {
          "color": "DarkSlateGrey",
          "width": 2
         },
         "marker": {
          "color": [
           0.283091,
           0.110553,
           0.431554
          ],
          "size": 9
         },
         "mode": "markers",
         "name": "the",
         "text": [
          "token: the || tf   : 32.0 || cluster: 19"
         ],
         "type": "scatter",
         "x": [
          3.398770332336426
         ],
         "y": [
          2.170914649963379
         ]
        },
        {
         "line": {
          "color": "DarkSlateGrey",
          "width": 2
         },
         "marker": {
          "color": [
           0.274952,
           0.037752,
           0.364543
          ],
          "size": 9
         },
         "mode": "markers",
         "name": "final",
         "text": [
          "token: final || tf   : 4.0 || cluster: 6"
         ],
         "type": "scatter",
         "x": [
          4.556977272033691
         ],
         "y": [
          6.86178731918335
         ]
        },
        {
         "line": {
          "color": "DarkSlateGrey",
          "width": 2
         },
         "marker": {
          "color": [
           0.278791,
           0.062145,
           0.386592
          ],
          "size": 9
         },
         "mode": "markers",
         "name": "adult",
         "text": [
          "token: adult || tf   : 8.0 || cluster: 10"
         ],
         "type": "scatter",
         "x": [
          3.916304111480713
         ],
         "y": [
          6.90621280670166
         ]
        },
        {
         "line": {
          "color": "DarkSlateGrey",
          "width": 2
         },
         "marker": {
          "color": [
           0.283187,
           0.125848,
           0.44496
          ],
          "size": 9
         },
         "mode": "markers",
         "name": "stature",
         "text": [
          "token: stature || tf   : 3.0 || cluster: 22"
         ],
         "type": "scatter",
         "x": [
          4.321898937225342
         ],
         "y": [
          7.906436920166016
         ]
        },
        {
         "line": {
          "color": "DarkSlateGrey",
          "width": 2
         },
         "marker": {
          "color": "red",
          "size": 9,
          "symbol": "diamond"
         },
         "mode": "markers",
         "name": "congenital",
         "text": [
          "token: congenital"
         ],
         "type": "scatter",
         "x": [
          2.942108154296875
         ],
         "y": [
          12.352617263793945
         ]
        },
        {
         "line": {
          "color": "DarkSlateGrey",
          "width": 2
         },
         "marker": {
          "color": "red",
          "size": 9,
          "symbol": "diamond"
         },
         "mode": "markers",
         "name": "##ren",
         "text": [
          "token: ##ren"
         ],
         "type": "scatter",
         "x": [
          1.1112438440322876
         ],
         "y": [
          2.668739080429077
         ]
        },
        {
         "line": {
          "color": "DarkSlateGrey",
          "width": 2
         },
         "marker": {
          "color": "red",
          "size": 9,
          "symbol": "diamond"
         },
         "mode": "markers",
         "name": "##al",
         "text": [
          "token: ##al"
         ],
         "type": "scatter",
         "x": [
          4.182624816894531
         ],
         "y": [
          4.797068119049072
         ]
        },
        {
         "line": {
          "color": "DarkSlateGrey",
          "width": 2
         },
         "marker": {
          "color": "red",
          "size": 9,
          "symbol": "diamond"
         },
         "mode": "markers",
         "name": "hyper",
         "text": [
          "token: hyper"
         ],
         "type": "scatter",
         "x": [
          2.483837604522705
         ],
         "y": [
          5.030216217041016
         ]
        },
        {
         "line": {
          "color": "DarkSlateGrey",
          "width": 2
         },
         "marker": {
          "color": "red",
          "size": 9,
          "symbol": "diamond"
         },
         "mode": "markers",
         "name": "##pl",
         "text": [
          "token: ##pl"
         ],
         "type": "scatter",
         "x": [
          1.7791980504989624
         ],
         "y": [
          2.5393283367156982
         ]
        },
        {
         "line": {
          "color": "DarkSlateGrey",
          "width": 2
         },
         "marker": {
          "color": "red",
          "size": 9,
          "symbol": "diamond"
         },
         "mode": "markers",
         "name": "##asia",
         "text": [
          "token: ##asia"
         ],
         "type": "scatter",
         "x": [
          2.5863120555877686
         ],
         "y": [
          5.166683673858643
         ]
        },
        {
         "line": {
          "color": "DarkSlateGrey",
          "width": 2
         },
         "marker": {
          "color": "red",
          "size": 9,
          "symbol": "diamond"
         },
         "mode": "markers",
         "name": "group",
         "text": [
          "token: group"
         ],
         "type": "scatter",
         "x": [
          -3.545330047607422
         ],
         "y": [
          -2.820958137512207
         ]
        },
        {
         "line": {
          "color": "DarkSlateGrey",
          "width": 2
         },
         "marker": {
          "color": "red",
          "size": 9,
          "symbol": "diamond"
         },
         "mode": "markers",
         "name": "auto",
         "text": [
          "token: auto"
         ],
         "type": "scatter",
         "x": [
          2.273865222930908
         ],
         "y": [
          3.9939727783203125
         ]
        },
        {
         "line": {
          "color": "DarkSlateGrey",
          "width": 2
         },
         "marker": {
          "color": "red",
          "size": 9,
          "symbol": "diamond"
         },
         "mode": "markers",
         "name": "##som",
         "text": [
          "token: ##som"
         ],
         "type": "scatter",
         "x": [
          3.116086959838867
         ],
         "y": [
          12.541637420654297
         ]
        },
        {
         "line": {
          "color": "DarkSlateGrey",
          "width": 2
         },
         "marker": {
          "color": "red",
          "size": 9,
          "symbol": "diamond"
         },
         "mode": "markers",
         "name": "##al",
         "text": [
          "token: ##al"
         ],
         "type": "scatter",
         "x": [
          3.687756061553955
         ],
         "y": [
          5.017226219177246
         ]
        },
        {
         "line": {
          "color": "DarkSlateGrey",
          "width": 2
         },
         "marker": {
          "color": "red",
          "size": 9,
          "symbol": "diamond"
         },
         "mode": "markers",
         "name": "recess",
         "text": [
          "token: recess"
         ],
         "type": "scatter",
         "x": [
          2.151491165161133
         ],
         "y": [
          4.225114345550537
         ]
        },
        {
         "line": {
          "color": "DarkSlateGrey",
          "width": 2
         },
         "marker": {
          "color": "red",
          "size": 9,
          "symbol": "diamond"
         },
         "mode": "markers",
         "name": "##ive",
         "text": [
          "token: ##ive"
         ],
         "type": "scatter",
         "x": [
          3.4645485877990723
         ],
         "y": [
          5.055217266082764
         ]
        },
        {
         "line": {
          "color": "DarkSlateGrey",
          "width": 2
         },
         "marker": {
          "color": "red",
          "size": 9,
          "symbol": "diamond"
         },
         "mode": "markers",
         "name": "disorders",
         "text": [
          "token: disorders"
         ],
         "type": "scatter",
         "x": [
          2.579826831817627
         ],
         "y": [
          5.037139415740967
         ]
        },
        {
         "line": {
          "color": "DarkSlateGrey",
          "width": 2
         },
         "marker": {
          "color": "red",
          "size": 9,
          "symbol": "diamond"
         },
         "mode": "markers",
         "name": "caused",
         "text": [
          "token: caused"
         ],
         "type": "scatter",
         "x": [
          2.827462911605835
         ],
         "y": [
          5.254303932189941
         ]
        },
        {
         "line": {
          "color": "DarkSlateGrey",
          "width": 2
         },
         "marker": {
          "color": "red",
          "size": 9,
          "symbol": "diamond"
         },
         "mode": "markers",
         "name": "enzyme",
         "text": [
          "token: enzyme"
         ],
         "type": "scatter",
         "x": [
          10.746212005615234
         ],
         "y": [
          5.741751670837402
         ]
        },
        {
         "line": {
          "color": "DarkSlateGrey",
          "width": 2
         },
         "marker": {
          "color": "red",
          "size": 9,
          "symbol": "diamond"
         },
         "mode": "markers",
         "name": "deficiency",
         "text": [
          "token: deficiency"
         ],
         "type": "scatter",
         "x": [
          2.6810712814331055
         ],
         "y": [
          5.060041427612305
         ]
        },
        {
         "line": {
          "color": "DarkSlateGrey",
          "width": 2
         },
         "marker": {
          "color": "red",
          "size": 9,
          "symbol": "diamond"
         },
         "mode": "markers",
         "name": "which",
         "text": [
          "token: which"
         ],
         "type": "scatter",
         "x": [
          2.407503604888916
         ],
         "y": [
          7.892829895019531
         ]
        },
        {
         "line": {
          "color": "DarkSlateGrey",
          "width": 2
         },
         "marker": {
          "color": "red",
          "size": 9,
          "symbol": "diamond"
         },
         "mode": "markers",
         "name": "leads",
         "text": [
          "token: leads"
         ],
         "type": "scatter",
         "x": [
          1.458884358406067
         ],
         "y": [
          7.50428581237793
         ]
        },
        {
         "line": {
          "color": "DarkSlateGrey",
          "width": 2
         },
         "marker": {
          "color": "red",
          "size": 9,
          "symbol": "diamond"
         },
         "mode": "markers",
         "name": "defects",
         "text": [
          "token: defects"
         ],
         "type": "scatter",
         "x": [
          1.2978403568267822
         ],
         "y": [
          7.511250972747803
         ]
        },
        {
         "line": {
          "color": "DarkSlateGrey",
          "width": 2
         },
         "marker": {
          "color": "red",
          "size": 9,
          "symbol": "diamond"
         },
         "mode": "markers",
         "name": "bio",
         "text": [
          "token: bio"
         ],
         "type": "scatter",
         "x": [
          3.9610519409179688
         ],
         "y": [
          4.517300128936768
         ]
        },
        {
         "line": {
          "color": "DarkSlateGrey",
          "width": 2
         },
         "marker": {
          "color": "red",
          "size": 9,
          "symbol": "diamond"
         },
         "mode": "markers",
         "name": "##sy",
         "text": [
          "token: ##sy"
         ],
         "type": "scatter",
         "x": [
          2.4147748947143555
         ],
         "y": [
          3.6010377407073975
         ]
        },
        {
         "line": {
          "color": "DarkSlateGrey",
          "width": 2
         },
         "marker": {
          "color": "red",
          "size": 9,
          "symbol": "diamond"
         },
         "mode": "markers",
         "name": "##nt",
         "text": [
          "token: ##nt"
         ],
         "type": "scatter",
         "x": [
          2.422729969024658
         ],
         "y": [
          2.630436897277832
         ]
        },
        {
         "line": {
          "color": "DarkSlateGrey",
          "width": 2
         },
         "marker": {
          "color": "red",
          "size": 9,
          "symbol": "diamond"
         },
         "mode": "markers",
         "name": "##hesis",
         "text": [
          "token: ##hesis"
         ],
         "type": "scatter",
         "x": [
          2.4988248348236084
         ],
         "y": [
          6.544580459594727
         ]
        },
        {
         "line": {
          "color": "DarkSlateGrey",
          "width": 2
         },
         "marker": {
          "color": "red",
          "size": 9,
          "symbol": "diamond"
         },
         "mode": "markers",
         "name": "ste",
         "text": [
          "token: ste"
         ],
         "type": "scatter",
         "x": [
          4.948553562164307
         ],
         "y": [
          3.1360437870025635
         ]
        },
        {
         "line": {
          "color": "DarkSlateGrey",
          "width": 2
         },
         "marker": {
          "color": "red",
          "size": 9,
          "symbol": "diamond"
         },
         "mode": "markers",
         "name": "##roid",
         "text": [
          "token: ##roid"
         ],
         "type": "scatter",
         "x": [
          5.013498783111572
         ],
         "y": [
          1.8735061883926392
         ]
        },
        {
         "line": {
          "color": "DarkSlateGrey",
          "width": 2
         },
         "marker": {
          "color": "red",
          "size": 9,
          "symbol": "diamond"
         },
         "mode": "markers",
         "name": "precursor",
         "text": [
          "token: precursor"
         ],
         "type": "scatter",
         "x": [
          4.2953200340271
         ],
         "y": [
          3.8624112606048584
         ]
        },
        {
         "line": {
          "color": "DarkSlateGrey",
          "width": 2
         },
         "marker": {
          "color": "red",
          "size": 9,
          "symbol": "diamond"
         },
         "mode": "markers",
         "name": "##s",
         "text": [
          "token: ##s"
         ],
         "type": "scatter",
         "x": [
          4.030109405517578
         ],
         "y": [
          3.943432092666626
         ]
        },
        {
         "line": {
          "color": "DarkSlateGrey",
          "width": 2
         },
         "marker": {
          "color": "red",
          "size": 9,
          "symbol": "diamond"
         },
         "mode": "markers",
         "name": "most",
         "text": [
          "token: most"
         ],
         "type": "scatter",
         "x": [
          3.2015459537506104
         ],
         "y": [
          10.704349517822266
         ]
        },
        {
         "line": {
          "color": "DarkSlateGrey",
          "width": 2
         },
         "marker": {
          "color": "red",
          "size": 9,
          "symbol": "diamond"
         },
         "mode": "markers",
         "name": "common",
         "text": [
          "token: common"
         ],
         "type": "scatter",
         "x": [
          2.194568634033203
         ],
         "y": [
          8.662755012512207
         ]
        },
        {
         "line": {
          "color": "DarkSlateGrey",
          "width": 2
         },
         "marker": {
          "color": "red",
          "size": 9,
          "symbol": "diamond"
         },
         "mode": "markers",
         "name": "hydro",
         "text": [
          "token: hydro"
         ],
         "type": "scatter",
         "x": [
          3.907184362411499
         ],
         "y": [
          1.042772650718689
         ]
        },
        {
         "line": {
          "color": "DarkSlateGrey",
          "width": 2
         },
         "marker": {
          "color": "red",
          "size": 9,
          "symbol": "diamond"
         },
         "mode": "markers",
         "name": "##xy",
         "text": [
          "token: ##xy"
         ],
         "type": "scatter",
         "x": [
          4.186986446380615
         ],
         "y": [
          0.6970530152320862
         ]
        },
        {
         "line": {
          "color": "DarkSlateGrey",
          "width": 2
         },
         "marker": {
          "color": "red",
          "size": 9,
          "symbol": "diamond"
         },
         "mode": "markers",
         "name": "##lase",
         "text": [
          "token: ##lase"
         ],
         "type": "scatter",
         "x": [
          4.860724925994873
         ],
         "y": [
          1.7766505479812622
         ]
        },
        {
         "line": {
          "color": "DarkSlateGrey",
          "width": 2
         },
         "marker": {
          "color": "red",
          "size": 9,
          "symbol": "diamond"
         },
         "mode": "markers",
         "name": "deficiency",
         "text": [
          "token: deficiency"
         ],
         "type": "scatter",
         "x": [
          2.6597399711608887
         ],
         "y": [
          5.265377044677734
         ]
        },
        {
         "line": {
          "color": "DarkSlateGrey",
          "width": 2
         },
         "marker": {
          "color": "red",
          "size": 9,
          "symbol": "diamond"
         },
         "mode": "markers",
         "name": "clinical",
         "text": [
          "token: clinical"
         ],
         "type": "scatter",
         "x": [
          7.0324249267578125
         ],
         "y": [
          8.359787940979004
         ]
        },
        {
         "line": {
          "color": "DarkSlateGrey",
          "width": 2
         },
         "marker": {
          "color": "red",
          "size": 9,
          "symbol": "diamond"
         },
         "mode": "markers",
         "name": "spectrum",
         "text": [
          "token: spectrum"
         ],
         "type": "scatter",
         "x": [
          6.417852401733398
         ],
         "y": [
          9.019563674926758
         ]
        },
        {
         "line": {
          "color": "DarkSlateGrey",
          "width": 2
         },
         "marker": {
          "color": "red",
          "size": 9,
          "symbol": "diamond"
         },
         "mode": "markers",
         "name": "varies",
         "text": [
          "token: varies"
         ],
         "type": "scatter",
         "x": [
          2.416494131088257
         ],
         "y": [
          9.178306579589844
         ]
        },
        {
         "line": {
          "color": "DarkSlateGrey",
          "width": 2
         },
         "marker": {
          "color": "red",
          "size": 9,
          "symbol": "diamond"
         },
         "mode": "markers",
         "name": "from",
         "text": [
          "token: from"
         ],
         "type": "scatter",
         "x": [
          5.8222432136535645
         ],
         "y": [
          8.4376802444458
         ]
        },
        {
         "line": {
          "color": "DarkSlateGrey",
          "width": 2
         },
         "marker": {
          "color": "red",
          "size": 9,
          "symbol": "diamond"
         },
         "mode": "markers",
         "name": "non",
         "text": [
          "token: non"
         ],
         "type": "scatter",
         "x": [
          5.08738899230957
         ],
         "y": [
          6.504204273223877
         ]
        },
        {
         "line": {
          "color": "DarkSlateGrey",
          "width": 2
         },
         "marker": {
          "color": "red",
          "size": 9,
          "symbol": "diamond"
         },
         "mode": "markers",
         "name": "classical",
         "text": [
          "token: classical"
         ],
         "type": "scatter",
         "x": [
          7.00305700302124
         ],
         "y": [
          8.7446928024292
         ]
        },
        {
         "line": {
          "color": "DarkSlateGrey",
          "width": 2
         },
         "marker": {
          "color": "red",
          "size": 9,
          "symbol": "diamond"
         },
         "mode": "markers",
         "name": "##h",
         "text": [
          "token: ##h"
         ],
         "type": "scatter",
         "x": [
          7.171037673950195
         ],
         "y": [
          2.4372782707214355
         ]
        },
        {
         "line": {
          "color": "DarkSlateGrey",
          "width": 2
         },
         "marker": {
          "color": "red",
          "size": 9,
          "symbol": "diamond"
         },
         "mode": "markers",
         "name": "classic",
         "text": [
          "token: classic"
         ],
         "type": "scatter",
         "x": [
          6.856515407562256
         ],
         "y": [
          8.980908393859863
         ]
        },
        {
         "line": {
          "color": "DarkSlateGrey",
          "width": 2
         },
         "marker": {
          "color": "red",
          "size": 9,
          "symbol": "diamond"
         },
         "mode": "markers",
         "name": "##h",
         "text": [
          "token: ##h"
         ],
         "type": "scatter",
         "x": [
          7.3656697273254395
         ],
         "y": [
          2.4090142250061035
         ]
        },
        {
         "line": {
          "color": "DarkSlateGrey",
          "width": 2
         },
         "marker": {
          "color": "red",
          "size": 9,
          "symbol": "diamond"
         },
         "mode": "markers",
         "name": "and",
         "text": [
          "token: and"
         ],
         "type": "scatter",
         "x": [
          3.4806132316589355
         ],
         "y": [
          8.588499069213867
         ]
        },
        {
         "line": {
          "color": "DarkSlateGrey",
          "width": 2
         },
         "marker": {
          "color": "red",
          "size": 9,
          "symbol": "diamond"
         },
         "mode": "markers",
         "name": "may",
         "text": [
          "token: may"
         ],
         "type": "scatter",
         "x": [
          1.9254710674285889
         ],
         "y": [
          8.963273048400879
         ]
        },
        {
         "line": {
          "color": "DarkSlateGrey",
          "width": 2
         },
         "marker": {
          "color": "red",
          "size": 9,
          "symbol": "diamond"
         },
         "mode": "markers",
         "name": "simple",
         "text": [
          "token: simple"
         ],
         "type": "scatter",
         "x": [
          4.3592143058776855
         ],
         "y": [
          8.077159881591797
         ]
        },
        {
         "line": {
          "color": "DarkSlateGrey",
          "width": 2
         },
         "marker": {
          "color": "red",
          "size": 9,
          "symbol": "diamond"
         },
         "mode": "markers",
         "name": "##ril",
         "text": [
          "token: ##ril"
         ],
         "type": "scatter",
         "x": [
          5.200403213500977
         ],
         "y": [
          4.5803117752075195
         ]
        },
        {
         "line": {
          "color": "DarkSlateGrey",
          "width": 2
         },
         "marker": {
          "color": "red",
          "size": 9,
          "symbol": "diamond"
         },
         "mode": "markers",
         "name": "##ising",
         "text": [
          "token: ##ising"
         ],
         "type": "scatter",
         "x": [
          4.490415573120117
         ],
         "y": [
          5.593841075897217
         ]
        },
        {
         "line": {
          "color": "DarkSlateGrey",
          "width": 2
         },
         "marker": {
          "color": "red",
          "size": 9,
          "symbol": "diamond"
         },
         "mode": "markers",
         "name": "form",
         "text": [
          "token: form"
         ],
         "type": "scatter",
         "x": [
          6.634157657623291
         ],
         "y": [
          9.086864471435547
         ]
        },
        {
         "line": {
          "color": "DarkSlateGrey",
          "width": 2
         },
         "marker": {
          "color": "red",
          "size": 9,
          "symbol": "diamond"
         },
         "mode": "markers",
         "name": "salt",
         "text": [
          "token: salt"
         ],
         "type": "scatter",
         "x": [
          6.430776596069336
         ],
         "y": [
          3.901200294494629
         ]
        },
        {
         "line": {
          "color": "DarkSlateGrey",
          "width": 2
         },
         "marker": {
          "color": "red",
          "size": 9,
          "symbol": "diamond"
         },
         "mode": "markers",
         "name": "was",
         "text": [
          "token: was"
         ],
         "type": "scatter",
         "x": [
          5.979943752288818
         ],
         "y": [
          10.42885971069336
         ]
        },
        {
         "line": {
          "color": "DarkSlateGrey",
          "width": 2
         },
         "marker": {
          "color": "red",
          "size": 9,
          "symbol": "diamond"
         },
         "mode": "markers",
         "name": "##tin",
         "text": [
          "token: ##tin"
         ],
         "type": "scatter",
         "x": [
          6.286431312561035
         ],
         "y": [
          3.124849319458008
         ]
        },
        {
         "line": {
          "color": "DarkSlateGrey",
          "width": 2
         },
         "marker": {
          "color": "red",
          "size": 9,
          "symbol": "diamond"
         },
         "mode": "markers",
         "name": "##f",
         "text": [
          "token: ##f"
         ],
         "type": "scatter",
         "x": [
          6.438493251800537
         ],
         "y": [
          3.5027482509613037
         ]
        },
        {
         "line": {
          "color": "DarkSlateGrey",
          "width": 2
         },
         "marker": {
          "color": "red",
          "size": 9,
          "symbol": "diamond"
         },
         "mode": "markers",
         "name": "##g",
         "text": [
          "token: ##g"
         ],
         "type": "scatter",
         "x": [
          5.918094158172607
         ],
         "y": [
          2.4134652614593506
         ]
        },
        {
         "line": {
          "color": "DarkSlateGrey",
          "width": 2
         },
         "marker": {
          "color": "red",
          "size": 9,
          "symbol": "diamond"
         },
         "mode": "markers",
         "name": "type",
         "text": [
          "token: type"
         ],
         "type": "scatter",
         "x": [
          6.554036617279053
         ],
         "y": [
          4.117609977722168
         ]
        },
        {
         "line": {
          "color": "DarkSlateGrey",
          "width": 2
         },
         "marker": {
          "color": "red",
          "size": 9,
          "symbol": "diamond"
         },
         "mode": "markers",
         "name": "patients",
         "text": [
          "token: patients"
         ],
         "type": "scatter",
         "x": [
          8.447590827941895
         ],
         "y": [
          6.284292697906494
         ]
        },
        {
         "line": {
          "color": "DarkSlateGrey",
          "width": 2
         },
         "marker": {
          "color": "red",
          "size": 9,
          "symbol": "diamond"
         },
         "mode": "markers",
         "name": "were",
         "text": [
          "token: were"
         ],
         "type": "scatter",
         "x": [
          5.571150302886963
         ],
         "y": [
          10.030503273010254
         ]
        },
        {
         "line": {
          "color": "DarkSlateGrey",
          "width": 2
         },
         "marker": {
          "color": "red",
          "size": 9,
          "symbol": "diamond"
         },
         "mode": "markers",
         "name": "included",
         "text": [
          "token: included"
         ],
         "type": "scatter",
         "x": [
          5.984490871429443
         ],
         "y": [
          7.837691783905029
         ]
        },
        {
         "line": {
          "color": "DarkSlateGrey",
          "width": 2
         },
         "marker": {
          "color": "red",
          "size": 9,
          "symbol": "diamond"
         },
         "mode": "markers",
         "name": "our",
         "text": [
          "token: our"
         ],
         "type": "scatter",
         "x": [
          3.312457799911499
         ],
         "y": [
          10.821046829223633
         ]
        },
        {
         "line": {
          "color": "DarkSlateGrey",
          "width": 2
         },
         "marker": {
          "color": "red",
          "size": 9,
          "symbol": "diamond"
         },
         "mode": "markers",
         "name": "study",
         "text": [
          "token: study"
         ],
         "type": "scatter",
         "x": [
          3.201894760131836
         ],
         "y": [
          9.438882827758789
         ]
        },
        {
         "line": {
          "color": "DarkSlateGrey",
          "width": 2
         },
         "marker": {
          "color": "red",
          "size": 9,
          "symbol": "diamond"
         },
         "mode": "markers",
         "name": "from",
         "text": [
          "token: from"
         ],
         "type": "scatter",
         "x": [
          5.544787406921387
         ],
         "y": [
          10.169129371643066
         ]
        },
        {
         "line": {
          "color": "DarkSlateGrey",
          "width": 2
         },
         "marker": {
          "color": "red",
          "size": 9,
          "symbol": "diamond"
         },
         "mode": "markers",
         "name": "january",
         "text": [
          "token: january"
         ],
         "type": "scatter",
         "x": [
          3.202373504638672
         ],
         "y": [
          12.171964645385742
         ]
        },
        {
         "line": {
          "color": "DarkSlateGrey",
          "width": 2
         },
         "marker": {
          "color": "red",
          "size": 9,
          "symbol": "diamond"
         },
         "mode": "markers",
         "name": "2012",
         "text": [
          "token: 2012"
         ],
         "type": "scatter",
         "x": [
          3.3213613033294678
         ],
         "y": [
          11.84329605102539
         ]
        },
        {
         "line": {
          "color": "DarkSlateGrey",
          "width": 2
         },
         "marker": {
          "color": "red",
          "size": 9,
          "symbol": "diamond"
         },
         "mode": "markers",
         "name": "october",
         "text": [
          "token: october"
         ],
         "type": "scatter",
         "x": [
          3.6870625019073486
         ],
         "y": [
          12.313117980957031
         ]
        },
        {
         "line": {
          "color": "DarkSlateGrey",
          "width": 2
         },
         "marker": {
          "color": "red",
          "size": 9,
          "symbol": "diamond"
         },
         "mode": "markers",
         "name": "2012",
         "text": [
          "token: 2012"
         ],
         "type": "scatter",
         "x": [
          3.7655575275421143
         ],
         "y": [
          12.00820541381836
         ]
        },
        {
         "line": {
          "color": "DarkSlateGrey",
          "width": 2
         },
         "marker": {
          "color": "red",
          "size": 9,
          "symbol": "diamond"
         },
         "mode": "markers",
         "name": "were",
         "text": [
          "token: were"
         ],
         "type": "scatter",
         "x": [
          5.640858173370361
         ],
         "y": [
          9.968137741088867
         ]
        },
        {
         "line": {
          "color": "DarkSlateGrey",
          "width": 2
         },
         "marker": {
          "color": "red",
          "size": 9,
          "symbol": "diamond"
         },
         "mode": "markers",
         "name": "females",
         "text": [
          "token: females"
         ],
         "type": "scatter",
         "x": [
          7.956638813018799
         ],
         "y": [
          6.66826868057251
         ]
        },
        {
         "line": {
          "color": "DarkSlateGrey",
          "width": 2
         },
         "marker": {
          "color": "red",
          "size": 9,
          "symbol": "diamond"
         },
         "mode": "markers",
         "name": "male",
         "text": [
          "token: male"
         ],
         "type": "scatter",
         "x": [
          8.108780860900879
         ],
         "y": [
          6.505454063415527
         ]
        },
        {
         "line": {
          "color": "DarkSlateGrey",
          "width": 2
         },
         "marker": {
          "color": "red",
          "size": 9,
          "symbol": "diamond"
         },
         "mode": "markers",
         "name": "babies",
         "text": [
          "token: babies"
         ],
         "type": "scatter",
         "x": [
          8.227542877197266
         ],
         "y": [
          6.391303062438965
         ]
        },
        {
         "line": {
          "color": "DarkSlateGrey",
          "width": 2
         },
         "marker": {
          "color": "red",
          "size": 9,
          "symbol": "diamond"
         },
         "mode": "markers",
         "name": "typically",
         "text": [
          "token: typically"
         ],
         "type": "scatter",
         "x": [
          5.532668113708496
         ],
         "y": [
          9.85492992401123
         ]
        },
        {
         "line": {
          "color": "DarkSlateGrey",
          "width": 2
         },
         "marker": {
          "color": "red",
          "size": 9,
          "symbol": "diamond"
         },
         "mode": "markers",
         "name": "presented",
         "text": [
          "token: presented"
         ],
         "type": "scatter",
         "x": [
          5.481428146362305
         ],
         "y": [
          9.83906078338623
         ]
        },
        {
         "line": {
          "color": "DarkSlateGrey",
          "width": 2
         },
         "marker": {
          "color": "red",
          "size": 9,
          "symbol": "diamond"
         },
         "mode": "markers",
         "name": "with",
         "text": [
          "token: with"
         ],
         "type": "scatter",
         "x": [
          5.229885101318359
         ],
         "y": [
          7.56276273727417
         ]
        },
        {
         "line": {
          "color": "DarkSlateGrey",
          "width": 2
         },
         "marker": {
          "color": "red",
          "size": 9,
          "symbol": "diamond"
         },
         "mode": "markers",
         "name": "##ren",
         "text": [
          "token: ##ren"
         ],
         "type": "scatter",
         "x": [
          1.0374306440353394
         ],
         "y": [
          2.5891623497009277
         ]
        },
        {
         "line": {
          "color": "DarkSlateGrey",
          "width": 2
         },
         "marker": {
          "color": "red",
          "size": 9,
          "symbol": "diamond"
         },
         "mode": "markers",
         "name": "##al",
         "text": [
          "token: ##al"
         ],
         "type": "scatter",
         "x": [
          4.172562599182129
         ],
         "y": [
          4.696930408477783
         ]
        },
        {
         "line": {
          "color": "DarkSlateGrey",
          "width": 2
         },
         "marker": {
          "color": "red",
          "size": 9,
          "symbol": "diamond"
         },
         "mode": "markers",
         "name": "crisis",
         "text": [
          "token: crisis"
         ],
         "type": "scatter",
         "x": [
          2.8292267322540283
         ],
         "y": [
          5.444246768951416
         ]
        },
        {
         "line": {
          "color": "DarkSlateGrey",
          "width": 2
         },
         "marker": {
          "color": "red",
          "size": 9,
          "symbol": "diamond"
         },
         "mode": "markers",
         "name": "between",
         "text": [
          "token: between"
         ],
         "type": "scatter",
         "x": [
          4.904737949371338
         ],
         "y": [
          10.876463890075684
         ]
        },
        {
         "line": {
          "color": "DarkSlateGrey",
          "width": 2
         },
         "marker": {
          "color": "red",
          "size": 9,
          "symbol": "diamond"
         },
         "mode": "markers",
         "name": "3rd",
         "text": [
          "token: 3rd"
         ],
         "type": "scatter",
         "x": [
          3.238132953643799
         ],
         "y": [
          12.42237663269043
         ]
        },
        {
         "line": {
          "color": "DarkSlateGrey",
          "width": 2
         },
         "marker": {
          "color": "red",
          "size": 9,
          "symbol": "diamond"
         },
         "mode": "markers",
         "name": "6th",
         "text": [
          "token: 6th"
         ],
         "type": "scatter",
         "x": [
          3.32700777053833
         ],
         "y": [
          12.385231971740723
         ]
        },
        {
         "line": {
          "color": "DarkSlateGrey",
          "width": 2
         },
         "marker": {
          "color": "red",
          "size": 9,
          "symbol": "diamond"
         },
         "mode": "markers",
         "name": "week",
         "text": [
          "token: week"
         ],
         "type": "scatter",
         "x": [
          8.021720886230469
         ],
         "y": [
          9.003173828125
         ]
        },
        {
         "line": {
          "color": "DarkSlateGrey",
          "width": 2
         },
         "marker": {
          "color": "red",
          "size": 9,
          "symbol": "diamond"
         },
         "mode": "markers",
         "name": "life",
         "text": [
          "token: life"
         ],
         "type": "scatter",
         "x": [
          3.4779961109161377
         ],
         "y": [
          12.492668151855469
         ]
        },
        {
         "line": {
          "color": "DarkSlateGrey",
          "width": 2
         },
         "marker": {
          "color": "red",
          "size": 9,
          "symbol": "diamond"
         },
         "mode": "markers",
         "name": "around",
         "text": [
          "token: around"
         ],
         "type": "scatter",
         "x": [
          3.6252052783966064
         ],
         "y": [
          12.040668487548828
         ]
        },
        {
         "line": {
          "color": "DarkSlateGrey",
          "width": 2
         },
         "marker": {
          "color": "red",
          "size": 9,
          "symbol": "diamond"
         },
         "mode": "markers",
         "name": "females",
         "text": [
          "token: females"
         ],
         "type": "scatter",
         "x": [
          8.127223014831543
         ],
         "y": [
          6.537669658660889
         ]
        },
        {
         "line": {
          "color": "DarkSlateGrey",
          "width": 2
         },
         "marker": {
          "color": "red",
          "size": 9,
          "symbol": "diamond"
         },
         "mode": "markers",
         "name": "were",
         "text": [
          "token: were"
         ],
         "type": "scatter",
         "x": [
          5.640821933746338
         ],
         "y": [
          9.990495681762695
         ]
        },
        {
         "line": {
          "color": "DarkSlateGrey",
          "width": 2
         },
         "marker": {
          "color": "red",
          "size": 9,
          "symbol": "diamond"
         },
         "mode": "markers",
         "name": "identified",
         "text": [
          "token: identified"
         ],
         "type": "scatter",
         "x": [
          5.51977014541626
         ],
         "y": [
          8.30226993560791
         ]
        },
        {
         "line": {
          "color": "DarkSlateGrey",
          "width": 2
         },
         "marker": {
          "color": "red",
          "size": 9,
          "symbol": "diamond"
         },
         "mode": "markers",
         "name": "and",
         "text": [
          "token: and"
         ],
         "type": "scatter",
         "x": [
          3.531942367553711
         ],
         "y": [
          8.528234481811523
         ]
        },
        {
         "line": {
          "color": "DarkSlateGrey",
          "width": 2
         },
         "marker": {
          "color": "red",
          "size": 9,
          "symbol": "diamond"
         },
         "mode": "markers",
         "name": "appropriately",
         "text": [
          "token: appropriately"
         ],
         "type": "scatter",
         "x": [
          2.9220669269561768
         ],
         "y": [
          9.104792594909668
         ]
        },
        {
         "line": {
          "color": "DarkSlateGrey",
          "width": 2
         },
         "marker": {
          "color": "red",
          "size": 9,
          "symbol": "diamond"
         },
         "mode": "markers",
         "name": "treated",
         "text": [
          "token: treated"
         ],
         "type": "scatter",
         "x": [
          6.911968231201172
         ],
         "y": [
          8.282977104187012
         ]
        },
        {
         "line": {
          "color": "DarkSlateGrey",
          "width": 2
         },
         "marker": {
          "color": "red",
          "size": 9,
          "symbol": "diamond"
         },
         "mode": "markers",
         "name": "only",
         "text": [
          "token: only"
         ],
         "type": "scatter",
         "x": [
          4.664220809936523
         ],
         "y": [
          10.4840669631958
         ]
        },
        {
         "line": {
          "color": "DarkSlateGrey",
          "width": 2
         },
         "marker": {
          "color": "red",
          "size": 9,
          "symbol": "diamond"
         },
         "mode": "markers",
         "name": "after",
         "text": [
          "token: after"
         ],
         "type": "scatter",
         "x": [
          4.891214847564697
         ],
         "y": [
          10.96596908569336
         ]
        },
        {
         "line": {
          "color": "DarkSlateGrey",
          "width": 2
         },
         "marker": {
          "color": "red",
          "size": 9,
          "symbol": "diamond"
         },
         "mode": "markers",
         "name": "late",
         "text": [
          "token: late"
         ],
         "type": "scatter",
         "x": [
          3.893892765045166
         ],
         "y": [
          11.668400764465332
         ]
        },
        {
         "line": {
          "color": "DarkSlateGrey",
          "width": 2
         },
         "marker": {
          "color": "red",
          "size": 9,
          "symbol": "diamond"
         },
         "mode": "markers",
         "name": "adolescence",
         "text": [
          "token: adolescence"
         ],
         "type": "scatter",
         "x": [
          8.116986274719238
         ],
         "y": [
          6.527157783508301
         ]
        },
        {
         "line": {
          "color": "DarkSlateGrey",
          "width": 2
         },
         "marker": {
          "color": "red",
          "size": 9,
          "symbol": "diamond"
         },
         "mode": "markers",
         "name": "short",
         "text": [
          "token: short"
         ],
         "type": "scatter",
         "x": [
          2.9702043533325195
         ],
         "y": [
          8.55051040649414
         ]
        },
        {
         "line": {
          "color": "DarkSlateGrey",
          "width": 2
         },
         "marker": {
          "color": "red",
          "size": 9,
          "symbol": "diamond"
         },
         "mode": "markers",
         "name": "stature",
         "text": [
          "token: stature"
         ],
         "type": "scatter",
         "x": [
          2.998966932296753
         ],
         "y": [
          12.465126991271973
         ]
        },
        {
         "line": {
          "color": "DarkSlateGrey",
          "width": 2
         },
         "marker": {
          "color": "red",
          "size": 9,
          "symbol": "diamond"
         },
         "mode": "markers",
         "name": "was",
         "text": [
          "token: was"
         ],
         "type": "scatter",
         "x": [
          5.495138168334961
         ],
         "y": [
          10.165603637695312
         ]
        },
        {
         "line": {
          "color": "DarkSlateGrey",
          "width": 2
         },
         "marker": {
          "color": "red",
          "size": 9,
          "symbol": "diamond"
         },
         "mode": "markers",
         "name": "seen",
         "text": [
          "token: seen"
         ],
         "type": "scatter",
         "x": [
          2.7764089107513428
         ],
         "y": [
          9.306656837463379
         ]
        },
        {
         "line": {
          "color": "DarkSlateGrey",
          "width": 2
         },
         "marker": {
          "color": "red",
          "size": 9,
          "symbol": "diamond"
         },
         "mode": "markers",
         "name": "3rd",
         "text": [
          "token: 3rd"
         ],
         "type": "scatter",
         "x": [
          3.14928936958313
         ],
         "y": [
          12.418705940246582
         ]
        },
        {
         "line": {
          "color": "DarkSlateGrey",
          "width": 2
         },
         "marker": {
          "color": "red",
          "size": 9,
          "symbol": "diamond"
         },
         "mode": "markers",
         "name": "patients",
         "text": [
          "token: patients"
         ],
         "type": "scatter",
         "x": [
          8.673651695251465
         ],
         "y": [
          6.138367652893066
         ]
        },
        {
         "line": {
          "color": "DarkSlateGrey",
          "width": 2
         },
         "marker": {
          "color": "red",
          "size": 9,
          "symbol": "diamond"
         },
         "mode": "markers",
         "name": "3rd",
         "text": [
          "token: 3rd"
         ],
         "type": "scatter",
         "x": [
          3.1407692432403564
         ],
         "y": [
          12.463579177856445
         ]
        },
        {
         "line": {
          "color": "DarkSlateGrey",
          "width": 2
         },
         "marker": {
          "color": "red",
          "size": 9,
          "symbol": "diamond"
         },
         "mode": "markers",
         "name": "patients",
         "text": [
          "token: patients"
         ],
         "type": "scatter",
         "x": [
          8.748628616333008
         ],
         "y": [
          5.981154441833496
         ]
        },
        {
         "line": {
          "color": "DarkSlateGrey",
          "width": 2
         },
         "marker": {
          "color": "red",
          "size": 9,
          "symbol": "diamond"
         },
         "mode": "markers",
         "name": "had",
         "text": [
          "token: had"
         ],
         "type": "scatter",
         "x": [
          5.501887321472168
         ],
         "y": [
          10.107588768005371
         ]
        },
        {
         "line": {
          "color": "DarkSlateGrey",
          "width": 2
         },
         "marker": {
          "color": "red",
          "size": 9,
          "symbol": "diamond"
         },
         "mode": "markers",
         "name": "suppressed",
         "text": [
          "token: suppressed"
         ],
         "type": "scatter",
         "x": [
          1.20265531539917
         ],
         "y": [
          7.721156597137451
         ]
        },
        {
         "line": {
          "color": "DarkSlateGrey",
          "width": 2
         },
         "marker": {
          "color": "red",
          "size": 9,
          "symbol": "diamond"
         },
         "mode": "markers",
         "name": "##p",
         "text": [
          "token: ##p"
         ],
         "type": "scatter",
         "x": [
          6.214089870452881
         ],
         "y": [
          2.4217069149017334
         ]
        },
        {
         "line": {
          "color": "DarkSlateGrey",
          "width": 2
         },
         "marker": {
          "color": "red",
          "size": 9,
          "symbol": "diamond"
         },
         "mode": "markers",
         "name": "levels",
         "text": [
          "token: levels"
         ],
         "type": "scatter",
         "x": [
          4.265726566314697
         ],
         "y": [
          7.27300500869751
         ]
        },
        {
         "line": {
          "color": "DarkSlateGrey",
          "width": 2
         },
         "marker": {
          "color": "red",
          "size": 9,
          "symbol": "diamond"
         },
         "mode": "markers",
         "name": "suggest",
         "text": [
          "token: suggest"
         ],
         "type": "scatter",
         "x": [
          2.636369228363037
         ],
         "y": [
          9.303243637084961
         ]
        },
        {
         "line": {
          "color": "DarkSlateGrey",
          "width": 2
         },
         "marker": {
          "color": "red",
          "size": 9,
          "symbol": "diamond"
         },
         "mode": "markers",
         "name": "##ive",
         "text": [
          "token: ##ive"
         ],
         "type": "scatter",
         "x": [
          2.3948264122009277
         ],
         "y": [
          9.229851722717285
         ]
        },
        {
         "line": {
          "color": "DarkSlateGrey",
          "width": 2
         },
         "marker": {
          "color": "red",
          "size": 9,
          "symbol": "diamond"
         },
         "mode": "markers",
         "name": "over",
         "text": [
          "token: over"
         ],
         "type": "scatter",
         "x": [
          5.408355712890625
         ],
         "y": [
          5.571562767028809
         ]
        },
        {
         "line": {
          "color": "DarkSlateGrey",
          "width": 2
         },
         "marker": {
          "color": "red",
          "size": 9,
          "symbol": "diamond"
         },
         "mode": "markers",
         "name": "replacement",
         "text": [
          "token: replacement"
         ],
         "type": "scatter",
         "x": [
          6.914001941680908
         ],
         "y": [
          8.668309211730957
         ]
        },
        {
         "line": {
          "color": "DarkSlateGrey",
          "width": 2
         },
         "marker": {
          "color": "red",
          "size": 9,
          "symbol": "diamond"
         },
         "mode": "markers",
         "name": "therapy",
         "text": [
          "token: therapy"
         ],
         "type": "scatter",
         "x": [
          7.064802169799805
         ],
         "y": [
          8.409268379211426
         ]
        },
        {
         "line": {
          "color": "DarkSlateGrey",
          "width": 2
         },
         "marker": {
          "color": "red",
          "size": 9,
          "symbol": "diamond"
         },
         "mode": "markers",
         "name": "which",
         "text": [
          "token: which"
         ],
         "type": "scatter",
         "x": [
          2.514803886413574
         ],
         "y": [
          8.104805946350098
         ]
        },
        {
         "line": {
          "color": "DarkSlateGrey",
          "width": 2
         },
         "marker": {
          "color": "red",
          "size": 9,
          "symbol": "diamond"
         },
         "mode": "markers",
         "name": "may",
         "text": [
          "token: may"
         ],
         "type": "scatter",
         "x": [
          2.045790195465088
         ],
         "y": [
          8.82682991027832
         ]
        },
        {
         "line": {
          "color": "DarkSlateGrey",
          "width": 2
         },
         "marker": {
          "color": "red",
          "size": 9,
          "symbol": "diamond"
         },
         "mode": "markers",
         "name": "contribute",
         "text": [
          "token: contribute"
         ],
         "type": "scatter",
         "x": [
          1.5388292074203491
         ],
         "y": [
          7.7164740562438965
         ]
        },
        {
         "line": {
          "color": "DarkSlateGrey",
          "width": 2
         },
         "marker": {
          "color": "red",
          "size": 9,
          "symbol": "diamond"
         },
         "mode": "markers",
         "name": "final",
         "text": [
          "token: final"
         ],
         "type": "scatter",
         "x": [
          3.8002054691314697
         ],
         "y": [
          9.556822776794434
         ]
        },
        {
         "line": {
          "color": "DarkSlateGrey",
          "width": 2
         },
         "marker": {
          "color": "red",
          "size": 9,
          "symbol": "diamond"
         },
         "mode": "markers",
         "name": "reduction",
         "text": [
          "token: reduction"
         ],
         "type": "scatter",
         "x": [
          0.9906243681907654
         ],
         "y": [
          7.7253804206848145
         ]
        },
        {
         "line": {
          "color": "DarkSlateGrey",
          "width": 2
         },
         "marker": {
          "color": "red",
          "size": 9,
          "symbol": "diamond"
         },
         "mode": "markers",
         "name": "adult",
         "text": [
          "token: adult"
         ],
         "type": "scatter",
         "x": [
          8.165902137756348
         ],
         "y": [
          6.436945915222168
         ]
        },
        {
         "line": {
          "color": "DarkSlateGrey",
          "width": 2
         },
         "marker": {
          "color": "red",
          "size": 9,
          "symbol": "diamond"
         },
         "mode": "markers",
         "name": "height",
         "text": [
          "token: height"
         ],
         "type": "scatter",
         "x": [
          2.9460501670837402
         ],
         "y": [
          12.431336402893066
         ]
        }
       ],
       "layout": {
        "scene": {
         "xaxis": {
          "title": {
           "text": "X"
          }
         },
         "yaxis": {
          "title": {
           "text": "Y"
          }
         }
        },
        "template": {
         "data": {
          "bar": [
           {
            "error_x": {
             "color": "#2a3f5f"
            },
            "error_y": {
             "color": "#2a3f5f"
            },
            "marker": {
             "line": {
              "color": "#E5ECF6",
              "width": 0.5
             },
             "pattern": {
              "fillmode": "overlay",
              "size": 10,
              "solidity": 0.2
             }
            },
            "type": "bar"
           }
          ],
          "barpolar": [
           {
            "marker": {
             "line": {
              "color": "#E5ECF6",
              "width": 0.5
             },
             "pattern": {
              "fillmode": "overlay",
              "size": 10,
              "solidity": 0.2
             }
            },
            "type": "barpolar"
           }
          ],
          "carpet": [
           {
            "aaxis": {
             "endlinecolor": "#2a3f5f",
             "gridcolor": "white",
             "linecolor": "white",
             "minorgridcolor": "white",
             "startlinecolor": "#2a3f5f"
            },
            "baxis": {
             "endlinecolor": "#2a3f5f",
             "gridcolor": "white",
             "linecolor": "white",
             "minorgridcolor": "white",
             "startlinecolor": "#2a3f5f"
            },
            "type": "carpet"
           }
          ],
          "choropleth": [
           {
            "colorbar": {
             "outlinewidth": 0,
             "ticks": ""
            },
            "type": "choropleth"
           }
          ],
          "contour": [
           {
            "colorbar": {
             "outlinewidth": 0,
             "ticks": ""
            },
            "colorscale": [
             [
              0,
              "#0d0887"
             ],
             [
              0.1111111111111111,
              "#46039f"
             ],
             [
              0.2222222222222222,
              "#7201a8"
             ],
             [
              0.3333333333333333,
              "#9c179e"
             ],
             [
              0.4444444444444444,
              "#bd3786"
             ],
             [
              0.5555555555555556,
              "#d8576b"
             ],
             [
              0.6666666666666666,
              "#ed7953"
             ],
             [
              0.7777777777777778,
              "#fb9f3a"
             ],
             [
              0.8888888888888888,
              "#fdca26"
             ],
             [
              1,
              "#f0f921"
             ]
            ],
            "type": "contour"
           }
          ],
          "contourcarpet": [
           {
            "colorbar": {
             "outlinewidth": 0,
             "ticks": ""
            },
            "type": "contourcarpet"
           }
          ],
          "heatmap": [
           {
            "colorbar": {
             "outlinewidth": 0,
             "ticks": ""
            },
            "colorscale": [
             [
              0,
              "#0d0887"
             ],
             [
              0.1111111111111111,
              "#46039f"
             ],
             [
              0.2222222222222222,
              "#7201a8"
             ],
             [
              0.3333333333333333,
              "#9c179e"
             ],
             [
              0.4444444444444444,
              "#bd3786"
             ],
             [
              0.5555555555555556,
              "#d8576b"
             ],
             [
              0.6666666666666666,
              "#ed7953"
             ],
             [
              0.7777777777777778,
              "#fb9f3a"
             ],
             [
              0.8888888888888888,
              "#fdca26"
             ],
             [
              1,
              "#f0f921"
             ]
            ],
            "type": "heatmap"
           }
          ],
          "heatmapgl": [
           {
            "colorbar": {
             "outlinewidth": 0,
             "ticks": ""
            },
            "colorscale": [
             [
              0,
              "#0d0887"
             ],
             [
              0.1111111111111111,
              "#46039f"
             ],
             [
              0.2222222222222222,
              "#7201a8"
             ],
             [
              0.3333333333333333,
              "#9c179e"
             ],
             [
              0.4444444444444444,
              "#bd3786"
             ],
             [
              0.5555555555555556,
              "#d8576b"
             ],
             [
              0.6666666666666666,
              "#ed7953"
             ],
             [
              0.7777777777777778,
              "#fb9f3a"
             ],
             [
              0.8888888888888888,
              "#fdca26"
             ],
             [
              1,
              "#f0f921"
             ]
            ],
            "type": "heatmapgl"
           }
          ],
          "histogram": [
           {
            "marker": {
             "pattern": {
              "fillmode": "overlay",
              "size": 10,
              "solidity": 0.2
             }
            },
            "type": "histogram"
           }
          ],
          "histogram2d": [
           {
            "colorbar": {
             "outlinewidth": 0,
             "ticks": ""
            },
            "colorscale": [
             [
              0,
              "#0d0887"
             ],
             [
              0.1111111111111111,
              "#46039f"
             ],
             [
              0.2222222222222222,
              "#7201a8"
             ],
             [
              0.3333333333333333,
              "#9c179e"
             ],
             [
              0.4444444444444444,
              "#bd3786"
             ],
             [
              0.5555555555555556,
              "#d8576b"
             ],
             [
              0.6666666666666666,
              "#ed7953"
             ],
             [
              0.7777777777777778,
              "#fb9f3a"
             ],
             [
              0.8888888888888888,
              "#fdca26"
             ],
             [
              1,
              "#f0f921"
             ]
            ],
            "type": "histogram2d"
           }
          ],
          "histogram2dcontour": [
           {
            "colorbar": {
             "outlinewidth": 0,
             "ticks": ""
            },
            "colorscale": [
             [
              0,
              "#0d0887"
             ],
             [
              0.1111111111111111,
              "#46039f"
             ],
             [
              0.2222222222222222,
              "#7201a8"
             ],
             [
              0.3333333333333333,
              "#9c179e"
             ],
             [
              0.4444444444444444,
              "#bd3786"
             ],
             [
              0.5555555555555556,
              "#d8576b"
             ],
             [
              0.6666666666666666,
              "#ed7953"
             ],
             [
              0.7777777777777778,
              "#fb9f3a"
             ],
             [
              0.8888888888888888,
              "#fdca26"
             ],
             [
              1,
              "#f0f921"
             ]
            ],
            "type": "histogram2dcontour"
           }
          ],
          "mesh3d": [
           {
            "colorbar": {
             "outlinewidth": 0,
             "ticks": ""
            },
            "type": "mesh3d"
           }
          ],
          "parcoords": [
           {
            "line": {
             "colorbar": {
              "outlinewidth": 0,
              "ticks": ""
             }
            },
            "type": "parcoords"
           }
          ],
          "pie": [
           {
            "automargin": true,
            "type": "pie"
           }
          ],
          "scatter": [
           {
            "fillpattern": {
             "fillmode": "overlay",
             "size": 10,
             "solidity": 0.2
            },
            "type": "scatter"
           }
          ],
          "scatter3d": [
           {
            "line": {
             "colorbar": {
              "outlinewidth": 0,
              "ticks": ""
             }
            },
            "marker": {
             "colorbar": {
              "outlinewidth": 0,
              "ticks": ""
             }
            },
            "type": "scatter3d"
           }
          ],
          "scattercarpet": [
           {
            "marker": {
             "colorbar": {
              "outlinewidth": 0,
              "ticks": ""
             }
            },
            "type": "scattercarpet"
           }
          ],
          "scattergeo": [
           {
            "marker": {
             "colorbar": {
              "outlinewidth": 0,
              "ticks": ""
             }
            },
            "type": "scattergeo"
           }
          ],
          "scattergl": [
           {
            "marker": {
             "colorbar": {
              "outlinewidth": 0,
              "ticks": ""
             }
            },
            "type": "scattergl"
           }
          ],
          "scattermapbox": [
           {
            "marker": {
             "colorbar": {
              "outlinewidth": 0,
              "ticks": ""
             }
            },
            "type": "scattermapbox"
           }
          ],
          "scatterpolar": [
           {
            "marker": {
             "colorbar": {
              "outlinewidth": 0,
              "ticks": ""
             }
            },
            "type": "scatterpolar"
           }
          ],
          "scatterpolargl": [
           {
            "marker": {
             "colorbar": {
              "outlinewidth": 0,
              "ticks": ""
             }
            },
            "type": "scatterpolargl"
           }
          ],
          "scatterternary": [
           {
            "marker": {
             "colorbar": {
              "outlinewidth": 0,
              "ticks": ""
             }
            },
            "type": "scatterternary"
           }
          ],
          "surface": [
           {
            "colorbar": {
             "outlinewidth": 0,
             "ticks": ""
            },
            "colorscale": [
             [
              0,
              "#0d0887"
             ],
             [
              0.1111111111111111,
              "#46039f"
             ],
             [
              0.2222222222222222,
              "#7201a8"
             ],
             [
              0.3333333333333333,
              "#9c179e"
             ],
             [
              0.4444444444444444,
              "#bd3786"
             ],
             [
              0.5555555555555556,
              "#d8576b"
             ],
             [
              0.6666666666666666,
              "#ed7953"
             ],
             [
              0.7777777777777778,
              "#fb9f3a"
             ],
             [
              0.8888888888888888,
              "#fdca26"
             ],
             [
              1,
              "#f0f921"
             ]
            ],
            "type": "surface"
           }
          ],
          "table": [
           {
            "cells": {
             "fill": {
              "color": "#EBF0F8"
             },
             "line": {
              "color": "white"
             }
            },
            "header": {
             "fill": {
              "color": "#C8D4E3"
             },
             "line": {
              "color": "white"
             }
            },
            "type": "table"
           }
          ]
         },
         "layout": {
          "annotationdefaults": {
           "arrowcolor": "#2a3f5f",
           "arrowhead": 0,
           "arrowwidth": 1
          },
          "autotypenumbers": "strict",
          "coloraxis": {
           "colorbar": {
            "outlinewidth": 0,
            "ticks": ""
           }
          },
          "colorscale": {
           "diverging": [
            [
             0,
             "#8e0152"
            ],
            [
             0.1,
             "#c51b7d"
            ],
            [
             0.2,
             "#de77ae"
            ],
            [
             0.3,
             "#f1b6da"
            ],
            [
             0.4,
             "#fde0ef"
            ],
            [
             0.5,
             "#f7f7f7"
            ],
            [
             0.6,
             "#e6f5d0"
            ],
            [
             0.7,
             "#b8e186"
            ],
            [
             0.8,
             "#7fbc41"
            ],
            [
             0.9,
             "#4d9221"
            ],
            [
             1,
             "#276419"
            ]
           ],
           "sequential": [
            [
             0,
             "#0d0887"
            ],
            [
             0.1111111111111111,
             "#46039f"
            ],
            [
             0.2222222222222222,
             "#7201a8"
            ],
            [
             0.3333333333333333,
             "#9c179e"
            ],
            [
             0.4444444444444444,
             "#bd3786"
            ],
            [
             0.5555555555555556,
             "#d8576b"
            ],
            [
             0.6666666666666666,
             "#ed7953"
            ],
            [
             0.7777777777777778,
             "#fb9f3a"
            ],
            [
             0.8888888888888888,
             "#fdca26"
            ],
            [
             1,
             "#f0f921"
            ]
           ],
           "sequentialminus": [
            [
             0,
             "#0d0887"
            ],
            [
             0.1111111111111111,
             "#46039f"
            ],
            [
             0.2222222222222222,
             "#7201a8"
            ],
            [
             0.3333333333333333,
             "#9c179e"
            ],
            [
             0.4444444444444444,
             "#bd3786"
            ],
            [
             0.5555555555555556,
             "#d8576b"
            ],
            [
             0.6666666666666666,
             "#ed7953"
            ],
            [
             0.7777777777777778,
             "#fb9f3a"
            ],
            [
             0.8888888888888888,
             "#fdca26"
            ],
            [
             1,
             "#f0f921"
            ]
           ]
          },
          "colorway": [
           "#636efa",
           "#EF553B",
           "#00cc96",
           "#ab63fa",
           "#FFA15A",
           "#19d3f3",
           "#FF6692",
           "#B6E880",
           "#FF97FF",
           "#FECB52"
          ],
          "font": {
           "color": "#2a3f5f"
          },
          "geo": {
           "bgcolor": "white",
           "lakecolor": "white",
           "landcolor": "#E5ECF6",
           "showlakes": true,
           "showland": true,
           "subunitcolor": "white"
          },
          "hoverlabel": {
           "align": "left"
          },
          "hovermode": "closest",
          "mapbox": {
           "style": "light"
          },
          "paper_bgcolor": "white",
          "plot_bgcolor": "#E5ECF6",
          "polar": {
           "angularaxis": {
            "gridcolor": "white",
            "linecolor": "white",
            "ticks": ""
           },
           "bgcolor": "#E5ECF6",
           "radialaxis": {
            "gridcolor": "white",
            "linecolor": "white",
            "ticks": ""
           }
          },
          "scene": {
           "xaxis": {
            "backgroundcolor": "#E5ECF6",
            "gridcolor": "white",
            "gridwidth": 2,
            "linecolor": "white",
            "showbackground": true,
            "ticks": "",
            "zerolinecolor": "white"
           },
           "yaxis": {
            "backgroundcolor": "#E5ECF6",
            "gridcolor": "white",
            "gridwidth": 2,
            "linecolor": "white",
            "showbackground": true,
            "ticks": "",
            "zerolinecolor": "white"
           },
           "zaxis": {
            "backgroundcolor": "#E5ECF6",
            "gridcolor": "white",
            "gridwidth": 2,
            "linecolor": "white",
            "showbackground": true,
            "ticks": "",
            "zerolinecolor": "white"
           }
          },
          "shapedefaults": {
           "line": {
            "color": "#2a3f5f"
           }
          },
          "ternary": {
           "aaxis": {
            "gridcolor": "white",
            "linecolor": "white",
            "ticks": ""
           },
           "baxis": {
            "gridcolor": "white",
            "linecolor": "white",
            "ticks": ""
           },
           "bgcolor": "#E5ECF6",
           "caxis": {
            "gridcolor": "white",
            "linecolor": "white",
            "ticks": ""
           }
          },
          "title": {
           "x": 0.05
          },
          "xaxis": {
           "automargin": true,
           "gridcolor": "white",
           "linecolor": "white",
           "ticks": "",
           "title": {
            "standoff": 15
           },
           "zerolinecolor": "white",
           "zerolinewidth": 2
          },
          "yaxis": {
           "automargin": true,
           "gridcolor": "white",
           "linecolor": "white",
           "ticks": "",
           "title": {
            "standoff": 15
           },
           "zerolinecolor": "white",
           "zerolinewidth": 2
          }
         }
        },
        "title": {
         "text": "2D Scatter Plot"
        }
       }
      }
     },
     "metadata": {},
     "output_type": "display_data"
    }
   ],
   "source": [
    "ms.visualize(dim=2)"
   ]
  }
 ],
 "metadata": {
  "kernelspec": {
   "display_name": ".venv",
   "language": "python",
   "name": "python3"
  },
  "language_info": {
   "codemirror_mode": {
    "name": "ipython",
    "version": 3
   },
   "file_extension": ".py",
   "mimetype": "text/x-python",
   "name": "python",
   "nbconvert_exporter": "python",
   "pygments_lexer": "ipython3",
   "version": "3.11.3"
  },
  "orig_nbformat": 4
 },
 "nbformat": 4,
 "nbformat_minor": 2
}

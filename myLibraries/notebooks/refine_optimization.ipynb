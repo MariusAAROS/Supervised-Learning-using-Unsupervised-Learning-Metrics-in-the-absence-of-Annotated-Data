{
 "cells": [
  {
   "attachments": {},
   "cell_type": "markdown",
   "metadata": {},
   "source": [
    "### Libraries"
   ]
  },
  {
   "cell_type": "code",
   "execution_count": null,
   "metadata": {},
   "outputs": [],
   "source": [
    "import sys\n",
    "sys.path.append(r\"C:\\Pro\\Stages\\A4 - DVRC\\Work\\Supervised-Learning-using-Unsupervised-Learning-Metrics-in-the-absence-of-Annotated-Data\\myLibraries\")"
   ]
  },
  {
   "attachments": {},
   "cell_type": "markdown",
   "metadata": {},
   "source": [
    "### Optimized Generalized Scorer"
   ]
  },
  {
   "cell_type": "code",
   "execution_count": null,
   "metadata": {},
   "outputs": [],
   "source": [
    "from custom_score.utils import *\n",
    "from custom_score.score import score \n",
    "from rouge_score import rouge_scorer\n",
    "import bert_score\n",
    "import pandas as pd\n",
    "from scipy.stats import pearsonr\n",
    "from colorama import Fore, Style\n",
    "from datetime import datetime\n",
    "import numpy as np\n",
    "\n",
    "import sys\n",
    "sys.path.append(get_git_root())\n",
    "\n",
    "from BARTScore.bart_score import BARTScorer\n",
    "\n",
    "class Refiner:\n",
    "\n",
    "    def __init__(self, corpus, gold, model=None, metric=score, ratio=2, threshold=0.70, maxSpacing=10, printRange=range(0, 1)):\n",
    "        \"\"\"\n",
    "        Constructor of the Refiner class. Aims at reducing the size and noise of a given independant list of documents.\n",
    "        \n",
    "        :param1 self (Refiner): Object to initialize.\n",
    "        :param2 corpus (List): List of documents to simplify.\n",
    "        :param3 gold (List): List of gold summaries to compare to the extractive summary created with the refiner.\n",
    "        :param4 model (Any): Model used to compute scores and create sentence's ranking.\n",
    "        :param5 ratio (float, int or array-like): Number determining how much the reference text will be shortened. \n",
    "        :param6 threshold (float): Number between 0 and 1 indicating the lowest acceptable quality when tuning the length of the summary.\n",
    "        :param7 maxSpacing (int): Maximal number of adjacent space to be found and suppressed in the corpus.\n",
    "        :param8 printRange (range): Range of corpus that should be displayed when the Refiner object in printed. \n",
    "        \"\"\"\n",
    "        self.corpus = corpus\n",
    "        self.gold = gold\n",
    "        self.processedCorpus = None\n",
    "        self.model = model\n",
    "        self.metric = metric\n",
    "        self.ratio = ratio\n",
    "        self.threshold = threshold\n",
    "        self.ms = maxSpacing\n",
    "        self.refined = None\n",
    "        self.printRange = printRange\n",
    "        self.selectedIndexes = None\n",
    "\n",
    "    def refine(self, checkpoints=False, saveRate=50):\n",
    "        \"\"\"\n",
    "        Return a reduced string computed using static embedding vectors similarity. Also denoises the data by removing superfluous elements such as \"\\n\" or useless signs.\n",
    "\n",
    "        :param1 self (Refiner): Refiner Object (see __init__ function for more details).\n",
    "        :param2 checkpoints (bool): Indicates whether the refining should save partial outputs along computation to prevent from losing data in the context of a crash.\n",
    "        :param3 saveRate (int): Only applicable id safe equals True. Specify the number of consicutive iterations after which a checkpoint should be created. \n",
    "\n",
    "        :output refined (string): refined version of the initial document.\n",
    "        \"\"\"\n",
    "        self.refined = []\n",
    "        self.selectedIndexes = []\n",
    "        self.processedCorpus = []\n",
    "        if checkpoints:\n",
    "            iter = 0\n",
    "            start = datetime.now()\n",
    "            createFolder = True\n",
    "\n",
    "        for indiv in self.corpus:\n",
    "            #preprocess corpus\n",
    "            #clean = cleanString(indiv, self.ms)\n",
    "            clean = indiv\n",
    "            sentences = clean.split(\".\")\n",
    "            sentences.pop()\n",
    "            temp = []\n",
    "            for sentence in sentences: \n",
    "                if sentence != None and sentence != \"\":\n",
    "                    temp.append(sentence)\n",
    "            sentences = temp\n",
    "            respaced_sentences = []\n",
    "            for sentence in sentences:\n",
    "                if sentence[0] == \" \":\n",
    "                    sentence = sentence[1:]\n",
    "                respaced_sentences.append(sentence)\n",
    "            self.processedCorpus.append(respaced_sentences)\n",
    "\n",
    "            #compute ranking\n",
    "            scores = []\n",
    "            formated_refs = []\n",
    "            formated_cands = []\n",
    "            for sentence in respaced_sentences:\n",
    "                formated_refs.append(indiv.replace(sentence+\".\", \"\"))\n",
    "                formated_cands.append(sentence)\n",
    "                #scoreOut = self.scorer(indiv.replace(sentence+\".\", \"\"), sentence)\n",
    "                #scores.append(scoreOut)\n",
    "            scores = self.scorer(formated_refs, formated_cands)\n",
    "\n",
    "            #compute distances\n",
    "            distances = []\n",
    "            for x in range(len(respaced_sentences)):\n",
    "                try:\n",
    "                    distance = self.scorer(respaced_sentences[x]*len(respaced_sentences), respaced_sentences)\n",
    "                except:\n",
    "                    distance = [-1]*len(respaced_sentences)\n",
    "                distances.append(distance)\n",
    "            distances = parseDistances(distances)\n",
    "\n",
    "            #selection of best individuals\n",
    "            indices = None\n",
    "            if type(self.ratio) == int or type(self.ratio) == float: \n",
    "                indices = sentenceSelection(respaced_sentences, scores, distances, self.ratio)\n",
    "            else:\n",
    "                for curRatio in sorted(self.ratio):\n",
    "                    curIndices = sentenceSelection(respaced_sentences, scores, distances, curRatio)\n",
    "                    subCurRefined = [respaced_sentences[i] for i in curIndices]\n",
    "                    curSentence = \" \".join(subCurRefined)\n",
    "                    curScore = self.scorer(indiv.replace(curSentence+\".\", \"\"), curSentence) #potentiellement faux \n",
    "                    if curScore < self.threshold:\n",
    "                        try:\n",
    "                            indices = curBest\n",
    "                        except:\n",
    "                            indices = curIndices\n",
    "                        finally:\n",
    "                            break\n",
    "                    else:\n",
    "                        curBest = curIndices\n",
    "                if indices is None:\n",
    "                    indices = curIndices\n",
    "            indices.sort()\n",
    "            curRefined = []\n",
    "            for index in indices:\n",
    "                curRefined.append(respaced_sentences[index])\n",
    "            curRefined = \". \\n\".join(curRefined) + \".\"\n",
    "            self.selectedIndexes.append(indices)\n",
    "            self.refined.append(curRefined)\n",
    "\n",
    "            #checkpoint verification\n",
    "            if checkpoints:\n",
    "                if iter % saveRate == 0 and iter != 0:\n",
    "                    stop = datetime.now()\n",
    "                    partial_runtime = stop - start\n",
    "                    self.save(runtime=partial_runtime, new=createFolder)\n",
    "                    createFolder = False\n",
    "                iter += 1\n",
    "        if checkpoints:\n",
    "            stop = datetime.now()\n",
    "            runtime = stop - start\n",
    "            self.save(runtime=runtime, new=createFolder)\n",
    "\n",
    "    def scorer(self, refs, cands, param=\"F\"):\n",
    "        param = param.upper()\n",
    "        if self.metric.__module__ == \"custom_score.score\":\n",
    "            if self.model == None:\n",
    "                self.model = model_load(\"Word2Vec\", True)\n",
    "            scores = self.metric(self.model, cands, refs)[0]\n",
    "            R, P, F = []\n",
    "            for score in scores:\n",
    "                R.append(score[0])\n",
    "                P.append(score[1])\n",
    "                F.append(score[2])\n",
    "            \n",
    "        elif self.metric.__module__ == \"bert_score.score\":\n",
    "            with nostd():\n",
    "                scores = self.metric(cands, refs, lang=\"en\", verbose=0)\n",
    "            P = scores[0].tolist()\n",
    "            R = scores[1].tolist()\n",
    "            F = scores[2].tolist()\n",
    "      \n",
    "        if param == \"F\":\n",
    "            output = F\n",
    "        elif param == \"R\":\n",
    "            output = R\n",
    "        elif param == \"P\":\n",
    "            output = P\n",
    "        elif param == \"ALL\":\n",
    "            output = (R, P, F)\n",
    "        return output\n",
    "\n",
    "    def assess(self, start=0, stop=None, verbose=True):\n",
    "        \"\"\"\n",
    "        Assesses quality of the refined corpus by computing Static BERTscore and Rouge-Score on the refined version compared to it's initial version.\n",
    "\n",
    "        :param1 self (Refiner): Refiner Object (see __init__ function for more details).\n",
    "        :param2 start (int): Starting index to assess.\n",
    "        :param3 stop (int): Ending index to assess.\n",
    "        :param4 verbose (Boolean): When put to True, assess results will be printed.\n",
    "\n",
    "        :output (dict): Dictionnary containing both the scores of Static BERTScore, BERTScore, BARTScore and Rouge as well as their correlation.\n",
    "        \"\"\"\n",
    "        assert self.refined != None, \"refined corpus doesn't exists\"\n",
    "        \n",
    "        if stop == None:\n",
    "            stop = len(self.refined)\n",
    "        subset_refined = self.refined[start:stop]\n",
    "        subset_gold = self.gold[start:stop]\n",
    "\n",
    "        #Static BERTScore computation\n",
    "        scoreOut = score(self.model, subset_refined, subset_gold)\n",
    "        customScore = [parseScore(curScore) for curScore in scoreOut]\n",
    "\n",
    "        #Rouge-Score computation\n",
    "        rougeScorer = rouge_scorer.RougeScorer(['rouge1', 'rouge2', 'rougeL'], use_stemmer=True)\n",
    "        rougeScore = [rougeScorer.score(c, r) for c, r in zip(subset_gold, subset_refined)]\n",
    "\n",
    "        #BERTScore computation\n",
    "        with nostd():\n",
    "            bertscore = bert_score.score(subset_refined, subset_gold, lang=\"en\", verbose=0)\n",
    "\n",
    "        #bartscore\n",
    "        bart_scorer = BARTScorer(device='cuda:0', checkpoint='facebook/bart-large-cnn')\n",
    "        bartscore = bart_scorer.score(subset_refined, subset_gold, batch_size=4)\n",
    "\n",
    "        #Data formating\n",
    "        custom_R = [round(t, 2) for t in customScore]\n",
    "        bertscore_R = [round(t.item(), 2) for t in bertscore[1]]\n",
    "        bartscore = [round(t, 2) for t in bartscore]\n",
    "        rouge1_R = [round(t['rouge1'][0], 2) for t in rougeScore]\n",
    "        rouge2_R = [round(t['rouge2'][0], 2) for t in rougeScore]\n",
    "        rougeL_R = [round(t['rougeL'][0], 2) for t in rougeScore]\n",
    "\n",
    "        dfCustom = pd.DataFrame({'CBERT' : custom_R,\n",
    "                                 'BERTScore' : bertscore_R,\n",
    "                                 'BARTScore' : bartscore,\n",
    "                                 'R-1' : rouge1_R,\n",
    "                                 'R-2' : rouge2_R,\n",
    "                                 'R-L' : rougeL_R\n",
    "                                })\n",
    "\n",
    "        #Correlation estimation\n",
    "        pearsonCor_c_r1 = np.round(pearsonr(custom_R, rouge1_R), 2)\n",
    "        pearsonCor_c_r2 = np.round(pearsonr(custom_R, rouge2_R), 2)\n",
    "        pearsonCor_c_rl = np.round(pearsonr(custom_R, rougeL_R), 2)\n",
    "        pearsonCor_bertscore_r1 = np.round(pearsonr(bertscore_R, rouge1_R), 2)\n",
    "        pearsonCor_bertscore_r2 = np.round(pearsonr(bertscore_R, rouge2_R), 2)\n",
    "        pearsonCor_bertscore_rl = np.round(pearsonr(bertscore_R, rougeL_R), 2)\n",
    "        pearsonCor_bartscore_r1 = np.round(pearsonr(bartscore, rouge1_R), 2)\n",
    "        pearsonCor_bartscore_r2 = np.round(pearsonr(bartscore, rouge2_R), 2)\n",
    "        pearsonCor_bartscore_rl = np.round(pearsonr(bartscore, rougeL_R), 2)\n",
    "\n",
    "        dfCor = pd.DataFrame({'pearson_CBERT_R-1' : pearsonCor_c_r1,\n",
    "                              'pearson_CBERT_R-2' : pearsonCor_c_r2,\n",
    "                              'pearson_CBERT_R-L' : pearsonCor_c_rl,\n",
    "                              'pearson_BERT_R-1' : pearsonCor_bertscore_r1,\n",
    "                              'pearson_BERT_R-2' : pearsonCor_bertscore_r2,\n",
    "                              'pearson_BERT_R-l' : pearsonCor_bertscore_rl,\n",
    "                              'pearson_BART_R-1' : pearsonCor_bartscore_r1,\n",
    "                              'pearson_BART_R-2' : pearsonCor_bartscore_r2,\n",
    "                              'pearson_BART_R-l' : pearsonCor_bartscore_rl}, index=[\"Pearson score\", \"p-value\"])\n",
    "        if verbose:\n",
    "            printout = \"Scores: \\n\"\n",
    "            printout += dfCustom.to_string().decode(\"utf8\") + \"\\n\\n\"\n",
    "            printout += \"Correlations: \\n\"\n",
    "            printout += dfCor.to_string().decode(\"utf8\")\n",
    "            print(printout)\n",
    "\n",
    "        return {\"scores\": dfCustom, \"correlations\": dfCor}\n",
    "    \n",
    "    def to_dataframe(self):\n",
    "        \"\"\"\n",
    "        Transforms a Refiner object to a dataframe.\n",
    "\n",
    "        :param1 self (Refiner): Refiner Object (see __init__ function for more details).\n",
    "\n",
    "        :output output (DataFrame): DataFrame containing both the corpus and the refined texts of the Refiner class. \n",
    "        \"\"\"\n",
    "        output = pd.DataFrame({\"text\": self.corpus,\n",
    "                               \"summary\": self.refined,\n",
    "                               \"processedText\": [\". \".join(c) for c in self.processedCorpus]})\n",
    "        return output\n",
    "\n",
    "    def save(self, runtime=None, new=True):\n",
    "        \"\"\"\n",
    "        Saves Refiner output to a local folder.\n",
    "\n",
    "        :param1 self (Refiner): Refiner Object (see __init__ function for more details).\n",
    "        :param2 new (bool): Indicates if a new folder should be created. If false, output is append to the most recent ouput folder.\n",
    "        \"\"\"\n",
    "\n",
    "        #evaluation\n",
    "        start = 0\n",
    "        stop = len(self.refined)\n",
    "        assessement = self.assess(start=start, stop=stop)\n",
    "\n",
    "        #mainDf = r.to_dataframe()\n",
    "        scoreDf = assessement[\"scores\"]\n",
    "        corDf = assessement[\"correlations\"]\n",
    "\n",
    "        #write output\n",
    "        main_folder_path = os.path.join(get_git_root(), r\"myLibraries\\refining_output\")\n",
    "        countfile_name = r\"count.txt\"\n",
    "        if new:\n",
    "            count = updateFileCount(os.path.join(main_folder_path, countfile_name))\n",
    "        else:\n",
    "            count = readFileCount(os.path.join(main_folder_path, countfile_name))\n",
    "\n",
    "        current_path = os.path.join(main_folder_path, f\"experimentation_{count}\")\n",
    "        try:\n",
    "            os.mkdir(current_path)\n",
    "        except FileExistsError:\n",
    "            pass\n",
    "\n",
    "        #mainDf.to_csv(os.path.join(current_path, \"main.csv\"))\n",
    "        scoreDf.to_csv(os.path.join(current_path, \"scores.csv\"))\n",
    "        corDf.to_csv(os.path.join(current_path, \"correlations.csv\"))\n",
    "        with open(os.path.join(current_path, \"runtimes.txt\"), \"w\") as f:\n",
    "            f.write(str(runtime))\n",
    "\n",
    "    def __str__(self) -> str:\n",
    "        \"\"\"\n",
    "        Summarizes Refiner object to a string.\n",
    "\n",
    "        :param1 self (Refiner): Refiner Object (see __init__ function for more details).\n",
    "\n",
    "        :output printout (string): Summarized informations about the refiner object.\n",
    "        \"\"\"\n",
    "\n",
    "        printout = \"--------REFINER OBJECT--------\\n\\n\"\n",
    "        printout += \"Number of Documents : \" + str(len(self.corpus)) + \"\\n\"\n",
    "        printout += \"Corpus Avg Size     : \" + str(int(np.average([len(x) for x in self.corpus]))+1) + \"\\n\"\n",
    "        printout += \"Refined Avg Size    : \" + str(int(np.average([len(x) for x in self.refined]))+1) + \"\\n\"\n",
    "        printout += \"Ratio(s)            : \" + str(self.ratio) + \"\\n\"\n",
    "        printout += \"Threshold           : \" + str(self.threshold) + \"\\n\"\n",
    "        printout += \"Maximum Spacing     : \" + str(self.ms) + \"\\n\"\n",
    "        \n",
    "        self.printRange = self.printRange if self.printRange.start >= 0 and self.printRange.stop < len(self.processedCorpus) else range(0, len(self.processedCorpus))\n",
    "\n",
    "        for index in self.printRange:\n",
    "            printout += f\"\\nCorpus no.{index+1} : \\n\" + str(\".\\n\".join([f\"{Fore.LIGHTGREEN_EX}{self.processedCorpus[index][i]}{Style.RESET_ALL}\"\n",
    "                                                        if i in self.selectedIndexes[index]\n",
    "                                                        else f\"{Fore.RED}{self.processedCorpus[index][i]}{Style.RESET_ALL}\"\n",
    "                                                        for i in range(len(self.processedCorpus[index]))])) + \".\" + \"\\n\"\n",
    "        printout += \"\\n------------------------------\"\n",
    "        return printout"
   ]
  },
  {
   "cell_type": "code",
   "execution_count": null,
   "metadata": {},
   "outputs": [],
   "source": [
    "w2v = model_load(\"Word2Vec\", True)"
   ]
  },
  {
   "cell_type": "code",
   "execution_count": null,
   "metadata": {},
   "outputs": [],
   "source": [
    "r = Refiner([\"I am Marius. I like trains.\", \"Engineering is good. It is fun.\"], [\"My name is Marius. I think trains are cool.\", \"I enjoy datascience. It is my studies.\"], w2v, metric=bert_score.score)"
   ]
  },
  {
   "cell_type": "code",
   "execution_count": null,
   "metadata": {},
   "outputs": [],
   "source": [
    "r.refine()"
   ]
  },
  {
   "cell_type": "code",
   "execution_count": null,
   "metadata": {},
   "outputs": [],
   "source": [
    "_=r.assess()"
   ]
  },
  {
   "attachments": {},
   "cell_type": "markdown",
   "metadata": {},
   "source": [
    "### Refiner .py Test"
   ]
  },
  {
   "attachments": {},
   "cell_type": "markdown",
   "metadata": {},
   "source": [
    "see file <refine_tests_2.py>"
   ]
  },
  {
   "cell_type": "code",
   "execution_count": 1,
   "metadata": {},
   "outputs": [],
   "source": [
    "import sys\n",
    "sys.path.append(r\"C:\\Pro\\Stages\\A4 - DVRC\\Work\\Supervised-Learning-using-Unsupervised-Learning-Metrics-in-the-absence-of-Annotated-Data\\myLibraries\")"
   ]
  },
  {
   "cell_type": "code",
   "execution_count": 2,
   "metadata": {},
   "outputs": [
    {
     "name": "stderr",
     "output_type": "stream",
     "text": [
      "c:\\Pro\\Stages\\A4 - DVRC\\Work\\Supervised-Learning-using-Unsupervised-Learning-Metrics-in-the-absence-of-Annotated-Data\\.venv\\Lib\\site-packages\\tqdm\\auto.py:21: TqdmWarning: IProgress not found. Please update jupyter and ipywidgets. See https://ipywidgets.readthedocs.io/en/stable/user_install.html\n",
      "  from .autonotebook import tqdm as notebook_tqdm\n"
     ]
    }
   ],
   "source": [
    "from refine_tests_2 import Refiner\n",
    "from custom_score.utils import model_load\n",
    "from custom_score.score import score\n",
    "import bert_score"
   ]
  },
  {
   "cell_type": "code",
   "execution_count": 3,
   "metadata": {},
   "outputs": [],
   "source": [
    "w2v = model_load(\"Word2Vec\", True)"
   ]
  },
  {
   "cell_type": "code",
   "execution_count": 4,
   "metadata": {},
   "outputs": [],
   "source": [
    "r = Refiner([\"I am Marius. I like trains.\", \"Engineering is good. It is fun.\"], [\"My name is Marius. I think trains are cool.\", \"I enjoy datascience. It is my studies.\"], w2v, metric=bert_score.score, ratio=[2, 3])\n",
    "r.refine()"
   ]
  },
  {
   "cell_type": "code",
   "execution_count": null,
   "metadata": {},
   "outputs": [],
   "source": [
    "out = r.assess()\n",
    "print(r)"
   ]
  },
  {
   "attachments": {},
   "cell_type": "markdown",
   "metadata": {},
   "source": [
    "### Generalized Refiner - Test on Billsum"
   ]
  },
  {
   "cell_type": "code",
   "execution_count": null,
   "metadata": {},
   "outputs": [],
   "source": [
    "import sys\n",
    "sys.path.append(r\"C:\\Pro\\Stages\\A4 - DVRC\\Work\\Supervised-Learning-using-Unsupervised-Learning-Metrics-in-the-absence-of-Annotated-Data\\myLibraries\")\n",
    "\n",
    "from refine_tests_2 import Refiner\n",
    "from custom_score.utils import model_load\n",
    "from custom_score.score import score\n",
    "import bert_score\n",
    "import pandas as pd"
   ]
  },
  {
   "cell_type": "code",
   "execution_count": null,
   "metadata": {},
   "outputs": [],
   "source": [
    "dataset_url=\"https://drive.google.com/file/d/1Wd0M3qepNF6B4YwFYrpo7CaSERpudAG_/view?usp=share_link\"\n",
    "dataset_url='https://drive.google.com/uc?export=download&id=' + dataset_url.split('/')[-2]\n",
    "dataset = pd.read_json(dataset_url, lines=True)\n",
    "dataset = dataset.loc[:, [\"text\", \"summary\"]]"
   ]
  },
  {
   "cell_type": "code",
   "execution_count": null,
   "metadata": {},
   "outputs": [],
   "source": [
    "subset = dataset.iloc[:2, :]"
   ]
  },
  {
   "cell_type": "code",
   "execution_count": null,
   "metadata": {},
   "outputs": [],
   "source": [
    "w2v = model_load(\"Word2Vec\", True)"
   ]
  },
  {
   "cell_type": "code",
   "execution_count": null,
   "metadata": {},
   "outputs": [],
   "source": [
    "r = Refiner(subset[\"text\"].to_list(), subset[\"summary\"].to_list(), w2v, metric=bert_score.score)\n",
    "r.refine()"
   ]
  },
  {
   "cell_type": "code",
   "execution_count": null,
   "metadata": {},
   "outputs": [],
   "source": [
    "r.assess()"
   ]
  },
  {
   "cell_type": "code",
   "execution_count": null,
   "metadata": {},
   "outputs": [],
   "source": [
    "print(r)"
   ]
  },
  {
   "attachments": {},
   "cell_type": "markdown",
   "metadata": {},
   "source": [
    "### Package test"
   ]
  },
  {
   "cell_type": "code",
   "execution_count": 1,
   "metadata": {},
   "outputs": [
    {
     "name": "stderr",
     "output_type": "stream",
     "text": [
      "c:\\Pro\\Stages\\A4 - DVRC\\Work\\Supervised-Learning-using-Unsupervised-Learning-Metrics-in-the-absence-of-Annotated-Data\\.venv\\Lib\\site-packages\\tqdm\\auto.py:21: TqdmWarning: IProgress not found. Please update jupyter and ipywidgets. See https://ipywidgets.readthedocs.io/en/stable/user_install.html\n",
      "  from .autonotebook import tqdm as notebook_tqdm\n"
     ]
    }
   ],
   "source": [
    "import sys\n",
    "sys.path.append(r\"C:\\Pro\\Stages\\A4 - DVRC\\Work\\Supervised-Learning-using-Unsupervised-Learning-Metrics-in-the-absence-of-Annotated-Data\\myLibraries\")\n",
    "from custom_score.refine import Refiner\n",
    "from custom_score.utils import model_load\n",
    "from custom_score.score import score\n",
    "import bert_score\n",
    "from datasets_loaders.loaders import load_billsum"
   ]
  },
  {
   "cell_type": "code",
   "execution_count": 2,
   "metadata": {},
   "outputs": [],
   "source": [
    "billsum = load_billsum()"
   ]
  },
  {
   "cell_type": "code",
   "execution_count": 3,
   "metadata": {},
   "outputs": [],
   "source": [
    "subset = billsum.iloc[30:32, :]"
   ]
  },
  {
   "cell_type": "code",
   "execution_count": 4,
   "metadata": {},
   "outputs": [],
   "source": [
    "w2v = model_load(\"Word2Vec\", True)"
   ]
  },
  {
   "cell_type": "code",
   "execution_count": 5,
   "metadata": {},
   "outputs": [],
   "source": [
    "r = Refiner(subset[\"text\"].to_list(), subset[\"summary\"].to_list(), w2v, metric=bert_score.score, dist_metric=score)\n",
    "r.refine()"
   ]
  },
  {
   "cell_type": "code",
   "execution_count": 6,
   "metadata": {},
   "outputs": [
    {
     "name": "stdout",
     "output_type": "stream",
     "text": [
      "Scores: \n",
      "   CBERT-R  CBERT-P  CBERT-F  BERTScore-R  BERTScore-P  BERTScore-F  BARTScore   R-1   R-2   R-L\n",
      "0     0.83     0.55     0.67         0.87         0.79         0.83       0.37  0.15  0.07  0.11\n",
      "1     0.86     0.60     0.70         0.87         0.79         0.83       0.44  0.09  0.05  0.07\n",
      "\n",
      "Correlations: \n",
      "               pearson_CBERT_R-1  pearson_CBERT_R-2  pearson_CBERT_R-L  pearson_BERT_R-1  pearson_BERT_R-2  pearson_BERT_R-l  pearson_BART_R-1  pearson_BART_R-2  pearson_BART_R-l\n",
      "Pearson score               -1.0               -1.0               -1.0               NaN               NaN               NaN              -1.0              -1.0              -1.0\n",
      "p-value                      1.0                1.0                1.0               NaN               NaN               NaN               1.0               1.0               1.0\n"
     ]
    },
    {
     "name": "stderr",
     "output_type": "stream",
     "text": [
      "c:\\Pro\\Stages\\A4 - DVRC\\Work\\Supervised-Learning-using-Unsupervised-Learning-Metrics-in-the-absence-of-Annotated-Data\\.venv\\Lib\\site-packages\\scipy\\stats\\_stats_py.py:4424: ConstantInputWarning: An input array is constant; the correlation coefficient is not defined.\n",
      "  warnings.warn(stats.ConstantInputWarning(msg))\n"
     ]
    }
   ],
   "source": [
    "_=r.assess()"
   ]
  },
  {
   "cell_type": "code",
   "execution_count": 7,
   "metadata": {},
   "outputs": [
    {
     "name": "stdout",
     "output_type": "stream",
     "text": [
      "--------REFINER OBJECT--------\n",
      "\n",
      "Number of Documents : 2\n",
      "Corpus Avg Size     : 6339\n",
      "Refined Avg Size    : 3442\n",
      "Ratio(s)            : 2\n",
      "Threshold           : 0.7\n",
      "Maximum Spacing     : 10\n",
      "\n",
      "------------------------------\n",
      "\n",
      "Corpus no.1 : 83.0%\n",
      "\u001b[95m(76%)\u001b[0m \u001b[92mSECTION 1\u001b[0m.\n",
      "\u001b[95m(75%)\u001b[0m \u001b[92mSHORT TITLE\u001b[0m.\n",
      "\u001b[95m(80%)\u001b[0m \u001b[92mThis Act may be referred to as the Sweetgrass Hills Protection Act of 1995\u001b[0m.\n",
      "\u001b[95m(77%)\u001b[0m \u001b[92mSEC\u001b[0m.\n",
      "\u001b[95m(76%)\u001b[0m \u001b[31m2\u001b[0m.\n",
      "\u001b[95m(76%)\u001b[0m \u001b[92mSPECIAL MANAGEMENT AREA\u001b[0m.\n",
      "\u001b[95m(77%)\u001b[0m \u001b[92m(a) In General\u001b[0m.\n",
      "\u001b[95m(82%)\u001b[0m \u001b[31mFor the purpose of conserving, protecting, and enhancing the exceptional scenic, wildlife, water quality, and cultural characteristics of lands along the Sweetgrass Hills in north central Montana, there is hereby established the Sweetgrass Hills Natural Area within the Bureau of Land Management's Sweetgrass Hills Area of Critical Environmental Concern (ACEC) as identified in the West HiLine Resource Management Plan in the State of Montana (hereinafter in this Act referred to as the natural area)\u001b[0m.\n",
      "\u001b[95m(78%)\u001b[0m \u001b[92m(b) Area Included\u001b[0m.\n",
      "\u001b[95m(81%)\u001b[0m \u001b[92mThe natural area shall consist of the lands, waters, and interests therein within the area generally depicted on the map entitled Boundary Map, \u001b[0m.\n",
      "\u001b[95m(75%)\u001b[0m \u001b[31m, numbered , and Dated \u001b[0m.\n",
      "\u001b[95m(81%)\u001b[0m \u001b[92mThe map shall be on file and available for public inspection in the office of the Bureau of Land Management, Department of the Interior\u001b[0m.\n",
      "\u001b[95m(82%)\u001b[0m \u001b[92mThe Secretary of the Interior (hereinafter in this Act referred to as the Secretary) may from time to time make minor revisions in the boundary of the natural area to promote management effectiveness and efficiency in the furtherance of this Act\u001b[0m.\n",
      "\u001b[95m(77%)\u001b[0m \u001b[31mSEC\u001b[0m.\n",
      "\u001b[95m(76%)\u001b[0m \u001b[92m3\u001b[0m.\n",
      "\u001b[95m(74%)\u001b[0m \u001b[92mADMINISTRATION\u001b[0m.\n",
      "\u001b[95m(77%)\u001b[0m \u001b[31m(a) In General\u001b[0m.\n",
      "\u001b[95m(83%)\u001b[0m \u001b[31mThe Secretary shall administer the natural area in accordance with this Act and with the provisions of law generally applicable to units of the Bureau of Land Management\u001b[0m.\n",
      "\u001b[95m(83%)\u001b[0m \u001b[92mIn the administration of such natural area, the Secretary may utilize such statutory authority as may be available to him for the conservation of wildlife, natural and cultural resources, and water quality as he deems necessary to carry out the purposes of this Act\u001b[0m.\n",
      "\u001b[95m(79%)\u001b[0m \u001b[31m(b) Hunting and Fishing\u001b[0m.\n",
      "\u001b[95m(82%)\u001b[0m \u001b[92mThe Secretary shall permit hunting and fishing on lands and waters within the natural area in accordance with applicable Federal and State law\u001b[0m.\n",
      "\u001b[95m(77%)\u001b[0m \u001b[92mSEC\u001b[0m.\n",
      "\u001b[95m(76%)\u001b[0m \u001b[31m4\u001b[0m.\n",
      "\u001b[95m(74%)\u001b[0m \u001b[31mACQUISITION OF LANDS\u001b[0m.\n",
      "\u001b[95m(82%)\u001b[0m \u001b[31mThe Secretary is directed to acquire lands or interests in lands within the boundaries of the natural area that are necessary to carry out the purposes of this Act by donation, purchase with donation or appropriated funds, or exchange\u001b[0m.\n",
      "\u001b[95m(81%)\u001b[0m \u001b[92mLands within the boundaries of the natural area owned by the State of Montana or any political subdivision thereof may only be acquired by donation or exchange\u001b[0m.\n",
      "\u001b[95m(77%)\u001b[0m \u001b[31mSEC\u001b[0m.\n",
      "\u001b[95m(76%)\u001b[0m \u001b[92m5\u001b[0m.\n",
      "\u001b[95m(76%)\u001b[0m \u001b[31mMINERALS AND MINING\u001b[0m.\n",
      "\u001b[95m(78%)\u001b[0m \u001b[92m(a) Withdrawals\u001b[0m.\n",
      "\u001b[95m(82%)\u001b[0m \u001b[92mAfter the enactment of this Act: (1) Lands within the natural area shall not be open to location of mining claims under the mining laws of the United States\u001b[0m.\n",
      "\u001b[95m(82%)\u001b[0m \u001b[31m(2) The Secretary shall not issue any lease under the mineral leasing or geothermal leasing laws of the United States for lands within the natural area\u001b[0m.\n",
      "\u001b[95m(82%)\u001b[0m \u001b[31m(3) Lands within the natural area shall not be available for disposal of mineral materials under the Act of July 31, 1947, commonly known as the Materials Act of 1947 (30 U\u001b[0m.\n",
      "\u001b[95m(76%)\u001b[0m \u001b[92mS\u001b[0m.\n",
      "\u001b[95m(76%)\u001b[0m \u001b[31mC\u001b[0m.\n",
      "\u001b[95m(74%)\u001b[0m \u001b[31m601 and following)\u001b[0m.\n",
      "\u001b[95m(78%)\u001b[0m \u001b[92m(b) Limitation on Patent Issuance\u001b[0m.\n",
      "\u001b[95m(82%)\u001b[0m \u001b[92m(1) Notwithstanding any other provision of law, no patents shall be issued after July 19, 1995, for any location or claim made in the natural area under the mining laws of the United States\u001b[0m.\n",
      "\u001b[95m(80%)\u001b[0m \u001b[31m(2) Notwithstanding any statute of limitations or similar restriction otherwise applicable, any party claiming to have been deprived of any property right enactment of paragraph (1) may file in the United States Claims Court a claim against the United States within one year after the date of enactment of this Act seeking compensation for such property right\u001b[0m.\n",
      "\u001b[95m(78%)\u001b[0m \u001b[92mThe United States Claims Court shall have jurisdiction to render judgement on such claim in accordance with section 1491 of title 28, United States Code\u001b[0m.\n",
      "\u001b[95m(75%)\u001b[0m \u001b[92m(c) Prohibition\u001b[0m.\n",
      "\u001b[95m(80%)\u001b[0m \u001b[31mNo Federal lands may be used in connection with any mining or mining related activities within the Natural Area\u001b[0m.\n",
      "\u001b[95m(78%)\u001b[0m \u001b[92m(d) Reclamation\u001b[0m.\n",
      "\u001b[95m(80%)\u001b[0m \u001b[92mNo mining or mining related activities involving any surface disturbance of lands or waters within such area, including disturbances through subsistence, shall be permitted except in accordance with requirements imposed by the Secretary, including requirements for reasonable reclamation of disturbed lands to a visual and hydrological condition as close as practicable to their premining condition\u001b[0m.\n",
      "\u001b[95m(78%)\u001b[0m \u001b[92m(e) Mining Claim Validity Review\u001b[0m.\n",
      "\u001b[95m(81%)\u001b[0m \u001b[92mThe Secretary shall undertake and complete within three years after the enactment of this Act an expedited program to examine all unpatented mining claims, including those for which a patent application has been filed, within the natural area\u001b[0m.\n",
      "\u001b[95m(79%)\u001b[0m \u001b[31mUpon determination by the Secretary that the elements of contest are present, the Secretary shall immediately determine the validity of such claims\u001b[0m.\n",
      "\u001b[95m(79%)\u001b[0m \u001b[31mIf a claim is determined to be invalid, the Secretary shall declare the claim null and void\u001b[0m.\n",
      "\u001b[95m(77%)\u001b[0m \u001b[92mSEC\u001b[0m.\n",
      "\u001b[95m(76%)\u001b[0m \u001b[92m6\u001b[0m.\n",
      "\u001b[95m(75%)\u001b[0m \u001b[31mAUTHORIZATION FOR APPROPRIATIONS\u001b[0m.\n",
      "\u001b[95m(81%)\u001b[0m \u001b[92mThere are authorized to be appropriated such sums as may be necessary to carry out the purposes of this Act\u001b[0m.\n",
      "\n",
      "------------------------------\n"
     ]
    }
   ],
   "source": [
    "print(r)"
   ]
  },
  {
   "cell_type": "code",
   "execution_count": 9,
   "metadata": {},
   "outputs": [
    {
     "name": "stdout",
     "output_type": "stream",
     "text": [
      "Corpus n.0 : 83.0% \n",
      "\n"
     ]
    },
    {
     "data": {
      "application/vnd.plotly.v1+json": {
       "config": {
        "plotlyServerURL": "https://plot.ly"
       },
       "data": [
        {
         "alignmentgroup": "True",
         "hovertemplate": "sentences=%{x}<br>scores=%{y}<extra></extra>",
         "legendgroup": "",
         "marker": {
          "color": "#636efa",
          "pattern": {
           "shape": ""
          }
         },
         "name": "",
         "offsetgroup": "",
         "orientation": "v",
         "showlegend": false,
         "textposition": "auto",
         "type": "bar",
         "x": [
          0,
          1,
          2,
          3,
          4,
          5,
          6,
          7,
          8,
          9,
          10,
          11,
          12,
          13,
          14,
          15,
          16,
          17,
          18,
          19,
          20,
          21,
          22,
          23,
          24,
          25,
          26,
          27,
          28,
          29,
          30,
          31,
          32,
          33,
          34,
          35,
          36,
          37,
          38,
          39,
          40,
          41,
          42,
          43,
          44,
          45,
          46,
          47,
          48,
          49,
          50,
          51
         ],
         "xaxis": "x",
         "y": [
          0.755824863910675,
          0.7488013505935669,
          0.800098180770874,
          0.7686651945114136,
          0.7621529698371887,
          0.758314311504364,
          0.773866593837738,
          0.8235591650009155,
          0.7785811424255371,
          0.8072075843811035,
          0.7451276779174805,
          0.812680184841156,
          0.822799026966095,
          0.7686651945114136,
          0.7590471506118774,
          0.736479640007019,
          0.773866593837738,
          0.8275949358940125,
          0.8275140523910522,
          0.7857593297958374,
          0.8179448843002319,
          0.7686651945114136,
          0.7598490118980408,
          0.7438686490058899,
          0.8183286190032959,
          0.8108605742454529,
          0.7686651945114136,
          0.7620126605033875,
          0.7568174600601196,
          0.7824808359146118,
          0.8197423219680786,
          0.8246456980705261,
          0.8151466846466064,
          0.7620525360107422,
          0.7600182890892029,
          0.7435665130615234,
          0.7796133756637573,
          0.8191506266593933,
          0.7951955795288086,
          0.7839746475219727,
          0.7521010637283325,
          0.8002236485481262,
          0.7799783945083618,
          0.7987088561058044,
          0.7782454490661621,
          0.8073303699493408,
          0.7917754650115967,
          0.7940995097160339,
          0.7686651945114136,
          0.7601485848426819,
          0.7494664192199707,
          0.8107290267944336
         ],
         "yaxis": "y"
        }
       ],
       "layout": {
        "barmode": "relative",
        "height": 150,
        "legend": {
         "tracegroupgap": 0
        },
        "margin": {
         "b": 5,
         "l": 5,
         "pad": 4,
         "r": 5,
         "t": 5
        },
        "template": {
         "data": {
          "bar": [
           {
            "error_x": {
             "color": "#2a3f5f"
            },
            "error_y": {
             "color": "#2a3f5f"
            },
            "marker": {
             "line": {
              "color": "#E5ECF6",
              "width": 0.5
             },
             "pattern": {
              "fillmode": "overlay",
              "size": 10,
              "solidity": 0.2
             }
            },
            "type": "bar"
           }
          ],
          "barpolar": [
           {
            "marker": {
             "line": {
              "color": "#E5ECF6",
              "width": 0.5
             },
             "pattern": {
              "fillmode": "overlay",
              "size": 10,
              "solidity": 0.2
             }
            },
            "type": "barpolar"
           }
          ],
          "carpet": [
           {
            "aaxis": {
             "endlinecolor": "#2a3f5f",
             "gridcolor": "white",
             "linecolor": "white",
             "minorgridcolor": "white",
             "startlinecolor": "#2a3f5f"
            },
            "baxis": {
             "endlinecolor": "#2a3f5f",
             "gridcolor": "white",
             "linecolor": "white",
             "minorgridcolor": "white",
             "startlinecolor": "#2a3f5f"
            },
            "type": "carpet"
           }
          ],
          "choropleth": [
           {
            "colorbar": {
             "outlinewidth": 0,
             "ticks": ""
            },
            "type": "choropleth"
           }
          ],
          "contour": [
           {
            "colorbar": {
             "outlinewidth": 0,
             "ticks": ""
            },
            "colorscale": [
             [
              0,
              "#0d0887"
             ],
             [
              0.1111111111111111,
              "#46039f"
             ],
             [
              0.2222222222222222,
              "#7201a8"
             ],
             [
              0.3333333333333333,
              "#9c179e"
             ],
             [
              0.4444444444444444,
              "#bd3786"
             ],
             [
              0.5555555555555556,
              "#d8576b"
             ],
             [
              0.6666666666666666,
              "#ed7953"
             ],
             [
              0.7777777777777778,
              "#fb9f3a"
             ],
             [
              0.8888888888888888,
              "#fdca26"
             ],
             [
              1,
              "#f0f921"
             ]
            ],
            "type": "contour"
           }
          ],
          "contourcarpet": [
           {
            "colorbar": {
             "outlinewidth": 0,
             "ticks": ""
            },
            "type": "contourcarpet"
           }
          ],
          "heatmap": [
           {
            "colorbar": {
             "outlinewidth": 0,
             "ticks": ""
            },
            "colorscale": [
             [
              0,
              "#0d0887"
             ],
             [
              0.1111111111111111,
              "#46039f"
             ],
             [
              0.2222222222222222,
              "#7201a8"
             ],
             [
              0.3333333333333333,
              "#9c179e"
             ],
             [
              0.4444444444444444,
              "#bd3786"
             ],
             [
              0.5555555555555556,
              "#d8576b"
             ],
             [
              0.6666666666666666,
              "#ed7953"
             ],
             [
              0.7777777777777778,
              "#fb9f3a"
             ],
             [
              0.8888888888888888,
              "#fdca26"
             ],
             [
              1,
              "#f0f921"
             ]
            ],
            "type": "heatmap"
           }
          ],
          "heatmapgl": [
           {
            "colorbar": {
             "outlinewidth": 0,
             "ticks": ""
            },
            "colorscale": [
             [
              0,
              "#0d0887"
             ],
             [
              0.1111111111111111,
              "#46039f"
             ],
             [
              0.2222222222222222,
              "#7201a8"
             ],
             [
              0.3333333333333333,
              "#9c179e"
             ],
             [
              0.4444444444444444,
              "#bd3786"
             ],
             [
              0.5555555555555556,
              "#d8576b"
             ],
             [
              0.6666666666666666,
              "#ed7953"
             ],
             [
              0.7777777777777778,
              "#fb9f3a"
             ],
             [
              0.8888888888888888,
              "#fdca26"
             ],
             [
              1,
              "#f0f921"
             ]
            ],
            "type": "heatmapgl"
           }
          ],
          "histogram": [
           {
            "marker": {
             "pattern": {
              "fillmode": "overlay",
              "size": 10,
              "solidity": 0.2
             }
            },
            "type": "histogram"
           }
          ],
          "histogram2d": [
           {
            "colorbar": {
             "outlinewidth": 0,
             "ticks": ""
            },
            "colorscale": [
             [
              0,
              "#0d0887"
             ],
             [
              0.1111111111111111,
              "#46039f"
             ],
             [
              0.2222222222222222,
              "#7201a8"
             ],
             [
              0.3333333333333333,
              "#9c179e"
             ],
             [
              0.4444444444444444,
              "#bd3786"
             ],
             [
              0.5555555555555556,
              "#d8576b"
             ],
             [
              0.6666666666666666,
              "#ed7953"
             ],
             [
              0.7777777777777778,
              "#fb9f3a"
             ],
             [
              0.8888888888888888,
              "#fdca26"
             ],
             [
              1,
              "#f0f921"
             ]
            ],
            "type": "histogram2d"
           }
          ],
          "histogram2dcontour": [
           {
            "colorbar": {
             "outlinewidth": 0,
             "ticks": ""
            },
            "colorscale": [
             [
              0,
              "#0d0887"
             ],
             [
              0.1111111111111111,
              "#46039f"
             ],
             [
              0.2222222222222222,
              "#7201a8"
             ],
             [
              0.3333333333333333,
              "#9c179e"
             ],
             [
              0.4444444444444444,
              "#bd3786"
             ],
             [
              0.5555555555555556,
              "#d8576b"
             ],
             [
              0.6666666666666666,
              "#ed7953"
             ],
             [
              0.7777777777777778,
              "#fb9f3a"
             ],
             [
              0.8888888888888888,
              "#fdca26"
             ],
             [
              1,
              "#f0f921"
             ]
            ],
            "type": "histogram2dcontour"
           }
          ],
          "mesh3d": [
           {
            "colorbar": {
             "outlinewidth": 0,
             "ticks": ""
            },
            "type": "mesh3d"
           }
          ],
          "parcoords": [
           {
            "line": {
             "colorbar": {
              "outlinewidth": 0,
              "ticks": ""
             }
            },
            "type": "parcoords"
           }
          ],
          "pie": [
           {
            "automargin": true,
            "type": "pie"
           }
          ],
          "scatter": [
           {
            "fillpattern": {
             "fillmode": "overlay",
             "size": 10,
             "solidity": 0.2
            },
            "type": "scatter"
           }
          ],
          "scatter3d": [
           {
            "line": {
             "colorbar": {
              "outlinewidth": 0,
              "ticks": ""
             }
            },
            "marker": {
             "colorbar": {
              "outlinewidth": 0,
              "ticks": ""
             }
            },
            "type": "scatter3d"
           }
          ],
          "scattercarpet": [
           {
            "marker": {
             "colorbar": {
              "outlinewidth": 0,
              "ticks": ""
             }
            },
            "type": "scattercarpet"
           }
          ],
          "scattergeo": [
           {
            "marker": {
             "colorbar": {
              "outlinewidth": 0,
              "ticks": ""
             }
            },
            "type": "scattergeo"
           }
          ],
          "scattergl": [
           {
            "marker": {
             "colorbar": {
              "outlinewidth": 0,
              "ticks": ""
             }
            },
            "type": "scattergl"
           }
          ],
          "scattermapbox": [
           {
            "marker": {
             "colorbar": {
              "outlinewidth": 0,
              "ticks": ""
             }
            },
            "type": "scattermapbox"
           }
          ],
          "scatterpolar": [
           {
            "marker": {
             "colorbar": {
              "outlinewidth": 0,
              "ticks": ""
             }
            },
            "type": "scatterpolar"
           }
          ],
          "scatterpolargl": [
           {
            "marker": {
             "colorbar": {
              "outlinewidth": 0,
              "ticks": ""
             }
            },
            "type": "scatterpolargl"
           }
          ],
          "scatterternary": [
           {
            "marker": {
             "colorbar": {
              "outlinewidth": 0,
              "ticks": ""
             }
            },
            "type": "scatterternary"
           }
          ],
          "surface": [
           {
            "colorbar": {
             "outlinewidth": 0,
             "ticks": ""
            },
            "colorscale": [
             [
              0,
              "#0d0887"
             ],
             [
              0.1111111111111111,
              "#46039f"
             ],
             [
              0.2222222222222222,
              "#7201a8"
             ],
             [
              0.3333333333333333,
              "#9c179e"
             ],
             [
              0.4444444444444444,
              "#bd3786"
             ],
             [
              0.5555555555555556,
              "#d8576b"
             ],
             [
              0.6666666666666666,
              "#ed7953"
             ],
             [
              0.7777777777777778,
              "#fb9f3a"
             ],
             [
              0.8888888888888888,
              "#fdca26"
             ],
             [
              1,
              "#f0f921"
             ]
            ],
            "type": "surface"
           }
          ],
          "table": [
           {
            "cells": {
             "fill": {
              "color": "#EBF0F8"
             },
             "line": {
              "color": "white"
             }
            },
            "header": {
             "fill": {
              "color": "#C8D4E3"
             },
             "line": {
              "color": "white"
             }
            },
            "type": "table"
           }
          ]
         },
         "layout": {
          "annotationdefaults": {
           "arrowcolor": "#2a3f5f",
           "arrowhead": 0,
           "arrowwidth": 1
          },
          "autotypenumbers": "strict",
          "coloraxis": {
           "colorbar": {
            "outlinewidth": 0,
            "ticks": ""
           }
          },
          "colorscale": {
           "diverging": [
            [
             0,
             "#8e0152"
            ],
            [
             0.1,
             "#c51b7d"
            ],
            [
             0.2,
             "#de77ae"
            ],
            [
             0.3,
             "#f1b6da"
            ],
            [
             0.4,
             "#fde0ef"
            ],
            [
             0.5,
             "#f7f7f7"
            ],
            [
             0.6,
             "#e6f5d0"
            ],
            [
             0.7,
             "#b8e186"
            ],
            [
             0.8,
             "#7fbc41"
            ],
            [
             0.9,
             "#4d9221"
            ],
            [
             1,
             "#276419"
            ]
           ],
           "sequential": [
            [
             0,
             "#0d0887"
            ],
            [
             0.1111111111111111,
             "#46039f"
            ],
            [
             0.2222222222222222,
             "#7201a8"
            ],
            [
             0.3333333333333333,
             "#9c179e"
            ],
            [
             0.4444444444444444,
             "#bd3786"
            ],
            [
             0.5555555555555556,
             "#d8576b"
            ],
            [
             0.6666666666666666,
             "#ed7953"
            ],
            [
             0.7777777777777778,
             "#fb9f3a"
            ],
            [
             0.8888888888888888,
             "#fdca26"
            ],
            [
             1,
             "#f0f921"
            ]
           ],
           "sequentialminus": [
            [
             0,
             "#0d0887"
            ],
            [
             0.1111111111111111,
             "#46039f"
            ],
            [
             0.2222222222222222,
             "#7201a8"
            ],
            [
             0.3333333333333333,
             "#9c179e"
            ],
            [
             0.4444444444444444,
             "#bd3786"
            ],
            [
             0.5555555555555556,
             "#d8576b"
            ],
            [
             0.6666666666666666,
             "#ed7953"
            ],
            [
             0.7777777777777778,
             "#fb9f3a"
            ],
            [
             0.8888888888888888,
             "#fdca26"
            ],
            [
             1,
             "#f0f921"
            ]
           ]
          },
          "colorway": [
           "#636efa",
           "#EF553B",
           "#00cc96",
           "#ab63fa",
           "#FFA15A",
           "#19d3f3",
           "#FF6692",
           "#B6E880",
           "#FF97FF",
           "#FECB52"
          ],
          "font": {
           "color": "#2a3f5f"
          },
          "geo": {
           "bgcolor": "white",
           "lakecolor": "white",
           "landcolor": "#E5ECF6",
           "showlakes": true,
           "showland": true,
           "subunitcolor": "white"
          },
          "hoverlabel": {
           "align": "left"
          },
          "hovermode": "closest",
          "mapbox": {
           "style": "light"
          },
          "paper_bgcolor": "white",
          "plot_bgcolor": "#E5ECF6",
          "polar": {
           "angularaxis": {
            "gridcolor": "white",
            "linecolor": "white",
            "ticks": ""
           },
           "bgcolor": "#E5ECF6",
           "radialaxis": {
            "gridcolor": "white",
            "linecolor": "white",
            "ticks": ""
           }
          },
          "scene": {
           "xaxis": {
            "backgroundcolor": "#E5ECF6",
            "gridcolor": "white",
            "gridwidth": 2,
            "linecolor": "white",
            "showbackground": true,
            "ticks": "",
            "zerolinecolor": "white"
           },
           "yaxis": {
            "backgroundcolor": "#E5ECF6",
            "gridcolor": "white",
            "gridwidth": 2,
            "linecolor": "white",
            "showbackground": true,
            "ticks": "",
            "zerolinecolor": "white"
           },
           "zaxis": {
            "backgroundcolor": "#E5ECF6",
            "gridcolor": "white",
            "gridwidth": 2,
            "linecolor": "white",
            "showbackground": true,
            "ticks": "",
            "zerolinecolor": "white"
           }
          },
          "shapedefaults": {
           "line": {
            "color": "#2a3f5f"
           }
          },
          "ternary": {
           "aaxis": {
            "gridcolor": "white",
            "linecolor": "white",
            "ticks": ""
           },
           "baxis": {
            "gridcolor": "white",
            "linecolor": "white",
            "ticks": ""
           },
           "bgcolor": "#E5ECF6",
           "caxis": {
            "gridcolor": "white",
            "linecolor": "white",
            "ticks": ""
           }
          },
          "title": {
           "x": 0.05
          },
          "xaxis": {
           "automargin": true,
           "gridcolor": "white",
           "linecolor": "white",
           "ticks": "",
           "title": {
            "standoff": 15
           },
           "zerolinecolor": "white",
           "zerolinewidth": 2
          },
          "yaxis": {
           "automargin": true,
           "gridcolor": "white",
           "linecolor": "white",
           "ticks": "",
           "title": {
            "standoff": 15
           },
           "zerolinecolor": "white",
           "zerolinewidth": 2
          }
         }
        },
        "width": 400,
        "xaxis": {
         "anchor": "y",
         "domain": [
          0,
          1
         ],
         "title": {
          "text": "sentences"
         }
        },
        "yaxis": {
         "anchor": "x",
         "domain": [
          0,
          1
         ],
         "title": {
          "text": "scores"
         }
        }
       }
      }
     },
     "metadata": {},
     "output_type": "display_data"
    },
    {
     "name": "stdout",
     "output_type": "stream",
     "text": [
      "Corpus n.1 : 83.0% \n",
      "\n"
     ]
    },
    {
     "data": {
      "application/vnd.plotly.v1+json": {
       "config": {
        "plotlyServerURL": "https://plot.ly"
       },
       "data": [
        {
         "alignmentgroup": "True",
         "hovertemplate": "sentences=%{x}<br>scores=%{y}<extra></extra>",
         "legendgroup": "",
         "marker": {
          "color": "#636efa",
          "pattern": {
           "shape": ""
          }
         },
         "name": "",
         "offsetgroup": "",
         "orientation": "v",
         "showlegend": false,
         "textposition": "auto",
         "type": "bar",
         "x": [
          0,
          1,
          2,
          3,
          4,
          5,
          6,
          7,
          8,
          9,
          10,
          11,
          12,
          13,
          14,
          15,
          16,
          17,
          18,
          19,
          20,
          21,
          22,
          23,
          24,
          25,
          26,
          27,
          28,
          29,
          30,
          31,
          32,
          33,
          34,
          35,
          36,
          37,
          38,
          39,
          40,
          41,
          42,
          43,
          44,
          45,
          46,
          47,
          48,
          49,
          50,
          51,
          52,
          53,
          54,
          55,
          56,
          57,
          58,
          59,
          60,
          61,
          62,
          63,
          64,
          65,
          66,
          67,
          68,
          69,
          70
         ],
         "xaxis": "x",
         "y": [
          0.7569537162780762,
          0.7465621829032898,
          0.7912121415138245,
          0.766383171081543,
          0.7653290629386902,
          0.7635606527328491,
          0.8247039914131165,
          0.8065898418426514,
          0.821471095085144,
          0.8150184154510498,
          0.8294575214385986,
          0.8157533407211304,
          0.766383171081543,
          0.7659412622451782,
          0.7285987138748169,
          0.7961979508399963,
          0.7959136366844177,
          0.7750678062438965,
          0.7889775633811951,
          0.78125,
          0.7883797287940979,
          0.7749684453010559,
          0.8034176230430603,
          0.7712904214859009,
          0.7946449518203735,
          0.766383171081543,
          0.7622382640838623,
          0.7584794163703918,
          0.7636057138442993,
          0.8024601936340332,
          0.812921941280365,
          0.7721433639526367,
          0.8032107353210449,
          0.766383171081543,
          0.7661876082420349,
          0.7591232061386108,
          0.7765211462974548,
          0.7866404056549072,
          0.8248462677001953,
          0.8032519817352295,
          0.782209575176239,
          0.7962472438812256,
          0.7916573286056519,
          0.8006939888000488,
          0.8004646301269531,
          0.8005716800689697,
          0.8009502291679382,
          0.7953324913978577,
          0.79096919298172,
          0.8137590885162354,
          0.7961364984512329,
          0.8155436515808105,
          0.7932960391044617,
          0.7932168245315552,
          0.7982156872749329,
          0.7917847037315369,
          0.8118516206741333,
          0.7882503271102905,
          0.7720018029212952,
          0.7966625690460205,
          0.7712641954421997,
          0.8110267519950867,
          0.8014050722122192,
          0.8013280034065247,
          0.800739049911499,
          0.7967959642410278,
          0.7844448089599609,
          0.7868134379386902,
          0.7988319993019104,
          0.791553258895874,
          0.7928985953330994
         ],
         "yaxis": "y"
        }
       ],
       "layout": {
        "barmode": "relative",
        "height": 150,
        "legend": {
         "tracegroupgap": 0
        },
        "margin": {
         "b": 5,
         "l": 5,
         "pad": 4,
         "r": 5,
         "t": 5
        },
        "template": {
         "data": {
          "bar": [
           {
            "error_x": {
             "color": "#2a3f5f"
            },
            "error_y": {
             "color": "#2a3f5f"
            },
            "marker": {
             "line": {
              "color": "#E5ECF6",
              "width": 0.5
             },
             "pattern": {
              "fillmode": "overlay",
              "size": 10,
              "solidity": 0.2
             }
            },
            "type": "bar"
           }
          ],
          "barpolar": [
           {
            "marker": {
             "line": {
              "color": "#E5ECF6",
              "width": 0.5
             },
             "pattern": {
              "fillmode": "overlay",
              "size": 10,
              "solidity": 0.2
             }
            },
            "type": "barpolar"
           }
          ],
          "carpet": [
           {
            "aaxis": {
             "endlinecolor": "#2a3f5f",
             "gridcolor": "white",
             "linecolor": "white",
             "minorgridcolor": "white",
             "startlinecolor": "#2a3f5f"
            },
            "baxis": {
             "endlinecolor": "#2a3f5f",
             "gridcolor": "white",
             "linecolor": "white",
             "minorgridcolor": "white",
             "startlinecolor": "#2a3f5f"
            },
            "type": "carpet"
           }
          ],
          "choropleth": [
           {
            "colorbar": {
             "outlinewidth": 0,
             "ticks": ""
            },
            "type": "choropleth"
           }
          ],
          "contour": [
           {
            "colorbar": {
             "outlinewidth": 0,
             "ticks": ""
            },
            "colorscale": [
             [
              0,
              "#0d0887"
             ],
             [
              0.1111111111111111,
              "#46039f"
             ],
             [
              0.2222222222222222,
              "#7201a8"
             ],
             [
              0.3333333333333333,
              "#9c179e"
             ],
             [
              0.4444444444444444,
              "#bd3786"
             ],
             [
              0.5555555555555556,
              "#d8576b"
             ],
             [
              0.6666666666666666,
              "#ed7953"
             ],
             [
              0.7777777777777778,
              "#fb9f3a"
             ],
             [
              0.8888888888888888,
              "#fdca26"
             ],
             [
              1,
              "#f0f921"
             ]
            ],
            "type": "contour"
           }
          ],
          "contourcarpet": [
           {
            "colorbar": {
             "outlinewidth": 0,
             "ticks": ""
            },
            "type": "contourcarpet"
           }
          ],
          "heatmap": [
           {
            "colorbar": {
             "outlinewidth": 0,
             "ticks": ""
            },
            "colorscale": [
             [
              0,
              "#0d0887"
             ],
             [
              0.1111111111111111,
              "#46039f"
             ],
             [
              0.2222222222222222,
              "#7201a8"
             ],
             [
              0.3333333333333333,
              "#9c179e"
             ],
             [
              0.4444444444444444,
              "#bd3786"
             ],
             [
              0.5555555555555556,
              "#d8576b"
             ],
             [
              0.6666666666666666,
              "#ed7953"
             ],
             [
              0.7777777777777778,
              "#fb9f3a"
             ],
             [
              0.8888888888888888,
              "#fdca26"
             ],
             [
              1,
              "#f0f921"
             ]
            ],
            "type": "heatmap"
           }
          ],
          "heatmapgl": [
           {
            "colorbar": {
             "outlinewidth": 0,
             "ticks": ""
            },
            "colorscale": [
             [
              0,
              "#0d0887"
             ],
             [
              0.1111111111111111,
              "#46039f"
             ],
             [
              0.2222222222222222,
              "#7201a8"
             ],
             [
              0.3333333333333333,
              "#9c179e"
             ],
             [
              0.4444444444444444,
              "#bd3786"
             ],
             [
              0.5555555555555556,
              "#d8576b"
             ],
             [
              0.6666666666666666,
              "#ed7953"
             ],
             [
              0.7777777777777778,
              "#fb9f3a"
             ],
             [
              0.8888888888888888,
              "#fdca26"
             ],
             [
              1,
              "#f0f921"
             ]
            ],
            "type": "heatmapgl"
           }
          ],
          "histogram": [
           {
            "marker": {
             "pattern": {
              "fillmode": "overlay",
              "size": 10,
              "solidity": 0.2
             }
            },
            "type": "histogram"
           }
          ],
          "histogram2d": [
           {
            "colorbar": {
             "outlinewidth": 0,
             "ticks": ""
            },
            "colorscale": [
             [
              0,
              "#0d0887"
             ],
             [
              0.1111111111111111,
              "#46039f"
             ],
             [
              0.2222222222222222,
              "#7201a8"
             ],
             [
              0.3333333333333333,
              "#9c179e"
             ],
             [
              0.4444444444444444,
              "#bd3786"
             ],
             [
              0.5555555555555556,
              "#d8576b"
             ],
             [
              0.6666666666666666,
              "#ed7953"
             ],
             [
              0.7777777777777778,
              "#fb9f3a"
             ],
             [
              0.8888888888888888,
              "#fdca26"
             ],
             [
              1,
              "#f0f921"
             ]
            ],
            "type": "histogram2d"
           }
          ],
          "histogram2dcontour": [
           {
            "colorbar": {
             "outlinewidth": 0,
             "ticks": ""
            },
            "colorscale": [
             [
              0,
              "#0d0887"
             ],
             [
              0.1111111111111111,
              "#46039f"
             ],
             [
              0.2222222222222222,
              "#7201a8"
             ],
             [
              0.3333333333333333,
              "#9c179e"
             ],
             [
              0.4444444444444444,
              "#bd3786"
             ],
             [
              0.5555555555555556,
              "#d8576b"
             ],
             [
              0.6666666666666666,
              "#ed7953"
             ],
             [
              0.7777777777777778,
              "#fb9f3a"
             ],
             [
              0.8888888888888888,
              "#fdca26"
             ],
             [
              1,
              "#f0f921"
             ]
            ],
            "type": "histogram2dcontour"
           }
          ],
          "mesh3d": [
           {
            "colorbar": {
             "outlinewidth": 0,
             "ticks": ""
            },
            "type": "mesh3d"
           }
          ],
          "parcoords": [
           {
            "line": {
             "colorbar": {
              "outlinewidth": 0,
              "ticks": ""
             }
            },
            "type": "parcoords"
           }
          ],
          "pie": [
           {
            "automargin": true,
            "type": "pie"
           }
          ],
          "scatter": [
           {
            "fillpattern": {
             "fillmode": "overlay",
             "size": 10,
             "solidity": 0.2
            },
            "type": "scatter"
           }
          ],
          "scatter3d": [
           {
            "line": {
             "colorbar": {
              "outlinewidth": 0,
              "ticks": ""
             }
            },
            "marker": {
             "colorbar": {
              "outlinewidth": 0,
              "ticks": ""
             }
            },
            "type": "scatter3d"
           }
          ],
          "scattercarpet": [
           {
            "marker": {
             "colorbar": {
              "outlinewidth": 0,
              "ticks": ""
             }
            },
            "type": "scattercarpet"
           }
          ],
          "scattergeo": [
           {
            "marker": {
             "colorbar": {
              "outlinewidth": 0,
              "ticks": ""
             }
            },
            "type": "scattergeo"
           }
          ],
          "scattergl": [
           {
            "marker": {
             "colorbar": {
              "outlinewidth": 0,
              "ticks": ""
             }
            },
            "type": "scattergl"
           }
          ],
          "scattermapbox": [
           {
            "marker": {
             "colorbar": {
              "outlinewidth": 0,
              "ticks": ""
             }
            },
            "type": "scattermapbox"
           }
          ],
          "scatterpolar": [
           {
            "marker": {
             "colorbar": {
              "outlinewidth": 0,
              "ticks": ""
             }
            },
            "type": "scatterpolar"
           }
          ],
          "scatterpolargl": [
           {
            "marker": {
             "colorbar": {
              "outlinewidth": 0,
              "ticks": ""
             }
            },
            "type": "scatterpolargl"
           }
          ],
          "scatterternary": [
           {
            "marker": {
             "colorbar": {
              "outlinewidth": 0,
              "ticks": ""
             }
            },
            "type": "scatterternary"
           }
          ],
          "surface": [
           {
            "colorbar": {
             "outlinewidth": 0,
             "ticks": ""
            },
            "colorscale": [
             [
              0,
              "#0d0887"
             ],
             [
              0.1111111111111111,
              "#46039f"
             ],
             [
              0.2222222222222222,
              "#7201a8"
             ],
             [
              0.3333333333333333,
              "#9c179e"
             ],
             [
              0.4444444444444444,
              "#bd3786"
             ],
             [
              0.5555555555555556,
              "#d8576b"
             ],
             [
              0.6666666666666666,
              "#ed7953"
             ],
             [
              0.7777777777777778,
              "#fb9f3a"
             ],
             [
              0.8888888888888888,
              "#fdca26"
             ],
             [
              1,
              "#f0f921"
             ]
            ],
            "type": "surface"
           }
          ],
          "table": [
           {
            "cells": {
             "fill": {
              "color": "#EBF0F8"
             },
             "line": {
              "color": "white"
             }
            },
            "header": {
             "fill": {
              "color": "#C8D4E3"
             },
             "line": {
              "color": "white"
             }
            },
            "type": "table"
           }
          ]
         },
         "layout": {
          "annotationdefaults": {
           "arrowcolor": "#2a3f5f",
           "arrowhead": 0,
           "arrowwidth": 1
          },
          "autotypenumbers": "strict",
          "coloraxis": {
           "colorbar": {
            "outlinewidth": 0,
            "ticks": ""
           }
          },
          "colorscale": {
           "diverging": [
            [
             0,
             "#8e0152"
            ],
            [
             0.1,
             "#c51b7d"
            ],
            [
             0.2,
             "#de77ae"
            ],
            [
             0.3,
             "#f1b6da"
            ],
            [
             0.4,
             "#fde0ef"
            ],
            [
             0.5,
             "#f7f7f7"
            ],
            [
             0.6,
             "#e6f5d0"
            ],
            [
             0.7,
             "#b8e186"
            ],
            [
             0.8,
             "#7fbc41"
            ],
            [
             0.9,
             "#4d9221"
            ],
            [
             1,
             "#276419"
            ]
           ],
           "sequential": [
            [
             0,
             "#0d0887"
            ],
            [
             0.1111111111111111,
             "#46039f"
            ],
            [
             0.2222222222222222,
             "#7201a8"
            ],
            [
             0.3333333333333333,
             "#9c179e"
            ],
            [
             0.4444444444444444,
             "#bd3786"
            ],
            [
             0.5555555555555556,
             "#d8576b"
            ],
            [
             0.6666666666666666,
             "#ed7953"
            ],
            [
             0.7777777777777778,
             "#fb9f3a"
            ],
            [
             0.8888888888888888,
             "#fdca26"
            ],
            [
             1,
             "#f0f921"
            ]
           ],
           "sequentialminus": [
            [
             0,
             "#0d0887"
            ],
            [
             0.1111111111111111,
             "#46039f"
            ],
            [
             0.2222222222222222,
             "#7201a8"
            ],
            [
             0.3333333333333333,
             "#9c179e"
            ],
            [
             0.4444444444444444,
             "#bd3786"
            ],
            [
             0.5555555555555556,
             "#d8576b"
            ],
            [
             0.6666666666666666,
             "#ed7953"
            ],
            [
             0.7777777777777778,
             "#fb9f3a"
            ],
            [
             0.8888888888888888,
             "#fdca26"
            ],
            [
             1,
             "#f0f921"
            ]
           ]
          },
          "colorway": [
           "#636efa",
           "#EF553B",
           "#00cc96",
           "#ab63fa",
           "#FFA15A",
           "#19d3f3",
           "#FF6692",
           "#B6E880",
           "#FF97FF",
           "#FECB52"
          ],
          "font": {
           "color": "#2a3f5f"
          },
          "geo": {
           "bgcolor": "white",
           "lakecolor": "white",
           "landcolor": "#E5ECF6",
           "showlakes": true,
           "showland": true,
           "subunitcolor": "white"
          },
          "hoverlabel": {
           "align": "left"
          },
          "hovermode": "closest",
          "mapbox": {
           "style": "light"
          },
          "paper_bgcolor": "white",
          "plot_bgcolor": "#E5ECF6",
          "polar": {
           "angularaxis": {
            "gridcolor": "white",
            "linecolor": "white",
            "ticks": ""
           },
           "bgcolor": "#E5ECF6",
           "radialaxis": {
            "gridcolor": "white",
            "linecolor": "white",
            "ticks": ""
           }
          },
          "scene": {
           "xaxis": {
            "backgroundcolor": "#E5ECF6",
            "gridcolor": "white",
            "gridwidth": 2,
            "linecolor": "white",
            "showbackground": true,
            "ticks": "",
            "zerolinecolor": "white"
           },
           "yaxis": {
            "backgroundcolor": "#E5ECF6",
            "gridcolor": "white",
            "gridwidth": 2,
            "linecolor": "white",
            "showbackground": true,
            "ticks": "",
            "zerolinecolor": "white"
           },
           "zaxis": {
            "backgroundcolor": "#E5ECF6",
            "gridcolor": "white",
            "gridwidth": 2,
            "linecolor": "white",
            "showbackground": true,
            "ticks": "",
            "zerolinecolor": "white"
           }
          },
          "shapedefaults": {
           "line": {
            "color": "#2a3f5f"
           }
          },
          "ternary": {
           "aaxis": {
            "gridcolor": "white",
            "linecolor": "white",
            "ticks": ""
           },
           "baxis": {
            "gridcolor": "white",
            "linecolor": "white",
            "ticks": ""
           },
           "bgcolor": "#E5ECF6",
           "caxis": {
            "gridcolor": "white",
            "linecolor": "white",
            "ticks": ""
           }
          },
          "title": {
           "x": 0.05
          },
          "xaxis": {
           "automargin": true,
           "gridcolor": "white",
           "linecolor": "white",
           "ticks": "",
           "title": {
            "standoff": 15
           },
           "zerolinecolor": "white",
           "zerolinewidth": 2
          },
          "yaxis": {
           "automargin": true,
           "gridcolor": "white",
           "linecolor": "white",
           "ticks": "",
           "title": {
            "standoff": 15
           },
           "zerolinecolor": "white",
           "zerolinewidth": 2
          }
         }
        },
        "width": 400,
        "xaxis": {
         "anchor": "y",
         "domain": [
          0,
          1
         ],
         "title": {
          "text": "sentences"
         }
        },
        "yaxis": {
         "anchor": "x",
         "domain": [
          0,
          1
         ],
         "title": {
          "text": "scores"
         }
        }
       }
      }
     },
     "metadata": {},
     "output_type": "display_data"
    }
   ],
   "source": [
    "r.showDistributions([0, 1])"
   ]
  }
 ],
 "metadata": {
  "kernelspec": {
   "display_name": ".venv",
   "language": "python",
   "name": "python3"
  },
  "language_info": {
   "codemirror_mode": {
    "name": "ipython",
    "version": 3
   },
   "file_extension": ".py",
   "mimetype": "text/x-python",
   "name": "python",
   "nbconvert_exporter": "python",
   "pygments_lexer": "ipython3",
   "version": "3.11.3"
  },
  "orig_nbformat": 4
 },
 "nbformat": 4,
 "nbformat_minor": 2
}

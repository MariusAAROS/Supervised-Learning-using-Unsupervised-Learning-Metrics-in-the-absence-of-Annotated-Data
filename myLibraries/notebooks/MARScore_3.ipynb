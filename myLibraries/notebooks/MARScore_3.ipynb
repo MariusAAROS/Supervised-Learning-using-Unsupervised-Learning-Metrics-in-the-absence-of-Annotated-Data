{
 "cells": [
  {
   "cell_type": "code",
   "execution_count": 1,
   "metadata": {},
   "outputs": [],
   "source": [
    "import pandas as pd\n",
    "import sys\n",
    "sys.path.append(r\"C:\\Pro\\Stages\\A4 - DVRC\\Work\\Supervised-Learning-using-Unsupervised-Learning-Metrics-in-the-absence-of-Annotated-Data\\myLibraries\")"
   ]
  },
  {
   "cell_type": "code",
   "execution_count": 2,
   "metadata": {},
   "outputs": [],
   "source": [
    "dataset_url=\"https://drive.google.com/file/d/1Wd0M3qepNF6B4YwFYrpo7CaSERpudAG_/view?usp=share_link\"\n",
    "dataset_url='https://drive.google.com/uc?export=download&id=' + dataset_url.split('/')[-2]\n",
    "dataset = pd.read_json(dataset_url, lines=True)\n",
    "dataset = dataset.loc[:, [\"text\", \"summary\"]]"
   ]
  },
  {
   "cell_type": "code",
   "execution_count": 3,
   "metadata": {},
   "outputs": [
    {
     "data": {
      "text/html": [
       "<div>\n",
       "<style scoped>\n",
       "    .dataframe tbody tr th:only-of-type {\n",
       "        vertical-align: middle;\n",
       "    }\n",
       "\n",
       "    .dataframe tbody tr th {\n",
       "        vertical-align: top;\n",
       "    }\n",
       "\n",
       "    .dataframe thead th {\n",
       "        text-align: right;\n",
       "    }\n",
       "</style>\n",
       "<table border=\"1\" class=\"dataframe\">\n",
       "  <thead>\n",
       "    <tr style=\"text-align: right;\">\n",
       "      <th></th>\n",
       "      <th>text</th>\n",
       "      <th>summary</th>\n",
       "    </tr>\n",
       "  </thead>\n",
       "  <tbody>\n",
       "    <tr>\n",
       "      <th>0</th>\n",
       "      <td>SECTION 1. SHORT TITLE.\\n\\n    This Act may be...</td>\n",
       "      <td>National Science Education Tax Incentive for B...</td>\n",
       "    </tr>\n",
       "    <tr>\n",
       "      <th>1</th>\n",
       "      <td>SECTION 1. SHORT TITLE.\\n\\n    This Act may be...</td>\n",
       "      <td>Small Business Expansion and Hiring Act of 201...</td>\n",
       "    </tr>\n",
       "  </tbody>\n",
       "</table>\n",
       "</div>"
      ],
      "text/plain": [
       "                                                text   \n",
       "0  SECTION 1. SHORT TITLE.\\n\\n    This Act may be...  \\\n",
       "1  SECTION 1. SHORT TITLE.\\n\\n    This Act may be...   \n",
       "\n",
       "                                             summary  \n",
       "0  National Science Education Tax Incentive for B...  \n",
       "1  Small Business Expansion and Hiring Act of 201...  "
      ]
     },
     "execution_count": 3,
     "metadata": {},
     "output_type": "execute_result"
    }
   ],
   "source": [
    "subset = dataset.iloc[:2, :]\n",
    "subset"
   ]
  },
  {
   "attachments": {},
   "cell_type": "markdown",
   "metadata": {},
   "source": [
    "### MARScore class creation"
   ]
  },
  {
   "cell_type": "code",
   "execution_count": null,
   "metadata": {},
   "outputs": [],
   "source": [
    "from MARScore.utils import *\n",
    "import hdbscan\n",
    "import os\n",
    "\n",
    "class MARSCore():\n",
    "    def __init__(self, corpus, model=BertModel.from_pretrained('bert-base-uncased', \n",
    "                                                               output_hidden_states=True), \n",
    "                               tokenizer=BertTokenizer.from_pretrained('bert-base-uncased')) -> None:\n",
    "        \"\"\"\n",
    "        Constructor of the MARScore class.\n",
    "\n",
    "        :param1 corpus (list): List of texts to summarize.\n",
    "        :param2 model (transformer): Transformer model used compute dynamic embeddings.\n",
    "        :param3 tokenizer (transformer) Transformer used to create token from a plain text. \n",
    "        \"\"\"\n",
    "        self.corpus = corpus\n",
    "        self.summary = []\n",
    "        self.model = model\n",
    "        self.tokenizer = tokenizer\n",
    "    \n",
    "    def compute(self):\n",
    "        for indiv in self.corpus:\n",
    "            #creation of embeddings\n",
    "            o, l = tokenizeCorpus(indiv)\n",
    "            v = vectorizeCorpus(o)\n",
    "            v, l = cleanAll(v, l)\n",
    "\n",
    "            #clusterization\n",
    "            clusterer = hdbscan.HDBSCAN()\n",
    "            clusterer.fit(v)\n",
    "            clabels = clusterer.labels_\n",
    "\n",
    "            #TF calculation\n",
    "            tf_values = tf(l)\n",
    "            clusters_tf_values = clusters_tf(tf_values, l, clabels)\n",
    "\n",
    "            #ILP computation\n",
    "            check = to_ilp_format(l, clabels, clusters_tf_values)\n",
    "            root = get_git_root()\n",
    "            dirpath = os.path.join(root, \"myLibraries\\MARScore_output\")\n",
    "            os.system(f'glpsol --tmlim 100 --lp \"{os.path.join(dirpath, \"ilp_in.ilp\")}\" -o \"{os.path.join(dirpath, \"ilp_out.sol\")}\"')\n",
    "            selected = readILP()\n",
    "\n",
    "            #summary construction\n",
    "            sentences = indiv.split(\".\")\n",
    "            sentences.pop()\n",
    "            sum_sentences = []\n",
    "            for i, value in enumerate(selected):\n",
    "                if value == 1:\n",
    "                    sum_sentences.append(sentences[i]+\".\")\n",
    "            self.summary.append(\" \".join(sum_sentences))"
   ]
  },
  {
   "cell_type": "code",
   "execution_count": null,
   "metadata": {},
   "outputs": [],
   "source": [
    "mscore = MARSCore(subset[\"text\"])\n",
    "mscore.compute()"
   ]
  },
  {
   "cell_type": "code",
   "execution_count": null,
   "metadata": {},
   "outputs": [],
   "source": [
    "mscore.summary"
   ]
  },
  {
   "attachments": {},
   "cell_type": "markdown",
   "metadata": {},
   "source": [
    "### MARScore class test"
   ]
  },
  {
   "cell_type": "code",
   "execution_count": 4,
   "metadata": {},
   "outputs": [
    {
     "name": "stderr",
     "output_type": "stream",
     "text": [
      "Some weights of the model checkpoint at bert-base-uncased were not used when initializing BertModel: ['cls.seq_relationship.bias', 'cls.predictions.transform.dense.bias', 'cls.seq_relationship.weight', 'cls.predictions.decoder.weight', 'cls.predictions.transform.LayerNorm.weight', 'cls.predictions.transform.dense.weight', 'cls.predictions.transform.LayerNorm.bias', 'cls.predictions.bias']\n",
      "- This IS expected if you are initializing BertModel from the checkpoint of a model trained on another task or with another architecture (e.g. initializing a BertForSequenceClassification model from a BertForPreTraining model).\n",
      "- This IS NOT expected if you are initializing BertModel from the checkpoint of a model that you expect to be exactly identical (initializing a BertForSequenceClassification model from a BertForSequenceClassification model).\n"
     ]
    }
   ],
   "source": [
    "from MARScore.score import MARSCore"
   ]
  },
  {
   "cell_type": "code",
   "execution_count": 6,
   "metadata": {},
   "outputs": [],
   "source": [
    "ms = MARSCore(subset[\"text\"])\n",
    "ms.compute()"
   ]
  },
  {
   "cell_type": "code",
   "execution_count": 7,
   "metadata": {},
   "outputs": [
    {
     "data": {
      "text/plain": [
       "[\"SECTION 1. \\n\\n    This Act may be cited as the ``National Science Education Tax \\nIncentive for Businesses Act of 2007''. \\n\\n    (a) In General. --The term `STEM school contributions' \\n        means--\\n                    ``(A) STEM property contributions, and\\n                    ``(B) STEM service contributions. \\n        The determination of the amount of deduction under section 170 \\n        for purposes of this paragraph shall be made as if the \\n        limitation under section 170(e)(3)(B) applied to all STEM \\n        inventory property. \\n    ``(d) STEM Teacher Externship Expenses. --The term `STEM teacher externship \\n        expenses' means any amount paid or incurred to carry out a STEM \\n        externship program of the taxpayer but only to the extent that \\n        such amount is attributable to the participation in such \\n        program of any eligible STEM teacher, including amounts paid to \\n        such a teacher as a stipend while participating in such \\n        program. ''. \\n    (c) Effective Date.\",\n",
       " \"SECTION 1. \\n\\n    This Act may be cited as the ``Small Business Expansion and Hiring \\nAct of 2011''. --Subpart D of part IV of subchapter A of chapter 1 \\nof the Internal Revenue Code of 1986 (relating to business-related \\ncredits) is amended by adding at the end the following new section:\\n\\n``SEC. --The number of retained \\n        workers taken into account under subsection (a) shall not \\n        exceed the excess of (if any)--\\n                    ``(A) the number of employees of the taxpayer at \\n                the end of the taxable year, over\\n                    ``(B) the number of employees of the taxpayer at \\n                the beginning of the taxable year. \\n            ``(2) Qualified individual. --Notwithstanding subparagraph \\n                (A), the term `qualified employer' includes any \\n                employer which is a public institution of higher \\n                education (as defined in section 101(b) of the Higher \\n                Education Act of 1965). ''.\"]"
      ]
     },
     "execution_count": 7,
     "metadata": {},
     "output_type": "execute_result"
    }
   ],
   "source": [
    "ms.summary"
   ]
  }
 ],
 "metadata": {
  "kernelspec": {
   "display_name": ".venv",
   "language": "python",
   "name": "python3"
  },
  "language_info": {
   "codemirror_mode": {
    "name": "ipython",
    "version": 3
   },
   "file_extension": ".py",
   "mimetype": "text/x-python",
   "name": "python",
   "nbconvert_exporter": "python",
   "pygments_lexer": "ipython3",
   "version": "3.11.3"
  },
  "orig_nbformat": 4
 },
 "nbformat": 4,
 "nbformat_minor": 2
}

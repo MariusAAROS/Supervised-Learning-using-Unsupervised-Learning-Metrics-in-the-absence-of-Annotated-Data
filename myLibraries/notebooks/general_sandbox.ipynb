{
 "cells": [
  {
   "attachments": {},
   "cell_type": "markdown",
   "metadata": {},
   "source": [
    "### Basics"
   ]
  },
  {
   "cell_type": "code",
   "execution_count": null,
   "metadata": {},
   "outputs": [],
   "source": [
    "def test():\n",
    "    for i in range(10):\n",
    "        yield i\n",
    "\n",
    "arr = test()"
   ]
  },
  {
   "cell_type": "code",
   "execution_count": null,
   "metadata": {},
   "outputs": [],
   "source": [
    "str(None)"
   ]
  },
  {
   "cell_type": "code",
   "execution_count": null,
   "metadata": {},
   "outputs": [],
   "source": [
    "arr = [1, 2, 3, 4]"
   ]
  },
  {
   "cell_type": "code",
   "execution_count": null,
   "metadata": {},
   "outputs": [],
   "source": [
    "arr[0:len(arr)]"
   ]
  },
  {
   "attachments": {},
   "cell_type": "markdown",
   "metadata": {},
   "source": [
    "### BERTScore (custom and classic) output format analysis"
   ]
  },
  {
   "cell_type": "code",
   "execution_count": null,
   "metadata": {},
   "outputs": [],
   "source": [
    "import bert_score\n",
    "import sys\n",
    "sys.path.append(r\"D:\\COURS\\A4\\S8 - ESILV\\Stage\\Work\\Supervised-Learning-using-Unsupervised-Learning-Metrics-in-the-absence-of-Annotated-Data\\myLibraries\")\n",
    "from custom_score.score import score\n",
    "from custom_score.utils import model_load"
   ]
  },
  {
   "cell_type": "code",
   "execution_count": null,
   "metadata": {},
   "outputs": [],
   "source": [
    "w2v = model_load(\"Word2Vec\", True)\n",
    "custom_o = score(w2v, [\"I am Marius\"], [\"My name is Marius\"])"
   ]
  },
  {
   "cell_type": "code",
   "execution_count": null,
   "metadata": {},
   "outputs": [],
   "source": [
    "classic_o = bert_score.score([\"I am Marius\"], [\"My name is Marius\"],  lang=\"en\", verbose=0)"
   ]
  },
  {
   "cell_type": "code",
   "execution_count": null,
   "metadata": {},
   "outputs": [],
   "source": [
    "custom_o"
   ]
  },
  {
   "cell_type": "code",
   "execution_count": null,
   "metadata": {},
   "outputs": [],
   "source": [
    "classic_o"
   ]
  },
  {
   "cell_type": "code",
   "execution_count": null,
   "metadata": {},
   "outputs": [],
   "source": [
    "classic_o[0].item()"
   ]
  },
  {
   "attachments": {},
   "cell_type": "markdown",
   "metadata": {},
   "source": [
    "### BERTScore multi-output"
   ]
  },
  {
   "cell_type": "code",
   "execution_count": null,
   "metadata": {},
   "outputs": [],
   "source": [
    "classic_o = bert_score.score([\"I am Marius\", \"I like trains.\"], [\"My name is Marius\", \"I enjoy vehicules.\"],  lang=\"en\", verbose=0)"
   ]
  },
  {
   "cell_type": "code",
   "execution_count": null,
   "metadata": {},
   "outputs": [],
   "source": [
    "classic_o"
   ]
  },
  {
   "cell_type": "code",
   "execution_count": null,
   "metadata": {},
   "outputs": [],
   "source": [
    "classic_o[0].tolist()"
   ]
  },
  {
   "cell_type": "code",
   "execution_count": null,
   "metadata": {},
   "outputs": [],
   "source": [
    "w2v = model_load(\"Word2Vec\", True)\n",
    "custom_o = score(w2v, [\"I am Marius\", \"I like trains.\"], [\"My name is Marius\", \"I enjoy vehicules.\"])"
   ]
  },
  {
   "cell_type": "code",
   "execution_count": null,
   "metadata": {},
   "outputs": [],
   "source": [
    "custom_o"
   ]
  },
  {
   "attachments": {},
   "cell_type": "markdown",
   "metadata": {},
   "source": [
    "### Sets experimentation"
   ]
  },
  {
   "cell_type": "code",
   "execution_count": null,
   "metadata": {},
   "outputs": [],
   "source": [
    "s = set()"
   ]
  },
  {
   "cell_type": "code",
   "execution_count": null,
   "metadata": {},
   "outputs": [],
   "source": [
    "s.add(\"a\")\n",
    "s"
   ]
  },
  {
   "cell_type": "code",
   "execution_count": null,
   "metadata": {},
   "outputs": [],
   "source": [
    "s.add(\"a\")\n",
    "s"
   ]
  },
  {
   "cell_type": "code",
   "execution_count": null,
   "metadata": {},
   "outputs": [],
   "source": [
    "test = {1}\n",
    "test"
   ]
  },
  {
   "cell_type": "code",
   "execution_count": null,
   "metadata": {},
   "outputs": [],
   "source": [
    "type(test)"
   ]
  },
  {
   "attachments": {},
   "cell_type": "markdown",
   "metadata": {},
   "source": [
    "### Dataset file test"
   ]
  },
  {
   "cell_type": "code",
   "execution_count": null,
   "metadata": {},
   "outputs": [],
   "source": [
    "import sys\n",
    "sys.path.append(r\"C:\\Pro\\Stages\\A4 - DVRC\\Work\\Supervised-Learning-using-Unsupervised-Learning-Metrics-in-the-absence-of-Annotated-Data.myLibraries\")\n",
    "from datasets_loaders.loaders import load_billsum"
   ]
  },
  {
   "cell_type": "code",
   "execution_count": null,
   "metadata": {},
   "outputs": [],
   "source": [
    "load_billsum()"
   ]
  },
  {
   "attachments": {},
   "cell_type": "markdown",
   "metadata": {},
   "source": [
    "### Dataset_loaders test"
   ]
  },
  {
   "cell_type": "code",
   "execution_count": null,
   "metadata": {},
   "outputs": [],
   "source": [
    "import sys\n",
    "sys.path.append(r\"D:\\COURS\\A4\\S8 - ESILV\\Stage\\Work\\Supervised-Learning-using-Unsupervised-Learning-Metrics-in-the-absence-of-Annotated-Data\\myLibraries\")\n",
    "from datasets_loaders.loaders import load_billsum\n",
    "from datasets_loaders.utils import cleanDataset"
   ]
  },
  {
   "cell_type": "code",
   "execution_count": null,
   "metadata": {},
   "outputs": [],
   "source": [
    "billsum = load_billsum()"
   ]
  },
  {
   "cell_type": "code",
   "execution_count": null,
   "metadata": {},
   "outputs": [],
   "source": [
    "print(billsum.iloc[0, 0])"
   ]
  },
  {
   "cell_type": "code",
   "execution_count": null,
   "metadata": {},
   "outputs": [],
   "source": [
    "billsum.head()"
   ]
  },
  {
   "cell_type": "code",
   "execution_count": null,
   "metadata": {},
   "outputs": [],
   "source": [
    "cleanDataset(billsum)"
   ]
  },
  {
   "cell_type": "code",
   "execution_count": null,
   "metadata": {},
   "outputs": [],
   "source": [
    "print(billsum.iloc[0, 0])"
   ]
  },
  {
   "cell_type": "code",
   "execution_count": null,
   "metadata": {},
   "outputs": [],
   "source": [
    "billsum.head()"
   ]
  },
  {
   "attachments": {},
   "cell_type": "markdown",
   "metadata": {},
   "source": [
    "### Memory optimization"
   ]
  },
  {
   "cell_type": "code",
   "execution_count": null,
   "metadata": {},
   "outputs": [],
   "source": [
    "import psutil\n",
    "\n",
    "# Get memory information\n",
    "memory_info = psutil.virtual_memory()\n",
    "\n",
    "# Total physical memory\n",
    "total_memory = memory_info.total\n",
    "\n",
    "# Available memory\n",
    "available_memory = memory_info.available\n",
    "\n",
    "# Used memory\n",
    "used_memory = memory_info.used\n",
    "\n",
    "# Memory usage percentage\n",
    "memory_percent = memory_info.percent\n",
    "\n",
    "# Maximum memory that can be consumed by Python\n",
    "max_memory = memory_info.available\n",
    "\n",
    "print(\"Total memory:\", total_memory)\n",
    "print(\"Available memory:\", available_memory)\n",
    "print(\"Used memory:\", used_memory)\n",
    "print(\"Memory usage percentage:\", memory_percent)\n",
    "print(\"Maximum memory:\", max_memory)"
   ]
  },
  {
   "cell_type": "markdown",
   "metadata": {},
   "source": [
    "### Metric test"
   ]
  },
  {
   "cell_type": "code",
   "execution_count": 3,
   "metadata": {},
   "outputs": [],
   "source": [
    "import sys\n",
    "sys.path.append(r\"C:\\Pro\\Stages\\A4 - DVRC\\Work\\Supervised-Learning-using-Unsupervised-Learning-Metrics-in-the-absence-of-Annotated-Data\\myLibraries\")\n",
    "from datasets_loaders.loaders import load_billsum "
   ]
  },
  {
   "cell_type": "code",
   "execution_count": 4,
   "metadata": {},
   "outputs": [
    {
     "data": {
      "text/html": [
       "<div>\n",
       "<style scoped>\n",
       "    .dataframe tbody tr th:only-of-type {\n",
       "        vertical-align: middle;\n",
       "    }\n",
       "\n",
       "    .dataframe tbody tr th {\n",
       "        vertical-align: top;\n",
       "    }\n",
       "\n",
       "    .dataframe thead th {\n",
       "        text-align: right;\n",
       "    }\n",
       "</style>\n",
       "<table border=\"1\" class=\"dataframe\">\n",
       "  <thead>\n",
       "    <tr style=\"text-align: right;\">\n",
       "      <th></th>\n",
       "      <th>text</th>\n",
       "      <th>summary</th>\n",
       "    </tr>\n",
       "  </thead>\n",
       "  <tbody>\n",
       "    <tr>\n",
       "      <th>0</th>\n",
       "      <td>SECTION 1. SHORT TITLE. This Act may be cited ...</td>\n",
       "      <td>National Science Education Tax Incentive for B...</td>\n",
       "    </tr>\n",
       "    <tr>\n",
       "      <th>1</th>\n",
       "      <td>SECTION 1. SHORT TITLE. This Act may be cited ...</td>\n",
       "      <td>Small Business Expansion and Hiring Act of 201...</td>\n",
       "    </tr>\n",
       "  </tbody>\n",
       "</table>\n",
       "</div>"
      ],
      "text/plain": [
       "                                                text   \n",
       "0  SECTION 1. SHORT TITLE. This Act may be cited ...  \\\n",
       "1  SECTION 1. SHORT TITLE. This Act may be cited ...   \n",
       "\n",
       "                                             summary  \n",
       "0  National Science Education Tax Incentive for B...  \n",
       "1  Small Business Expansion and Hiring Act of 201...  "
      ]
     },
     "execution_count": 4,
     "metadata": {},
     "output_type": "execute_result"
    }
   ],
   "source": [
    "billsum = load_billsum()\n",
    "subset = billsum.iloc[:20, :]\n",
    "subset"
   ]
  },
  {
   "cell_type": "markdown",
   "metadata": {},
   "source": [
    "#### TextRank"
   ]
  },
  {
   "cell_type": "code",
   "execution_count": 2,
   "metadata": {},
   "outputs": [],
   "source": [
    "import spacy\n",
    "import pytextrank"
   ]
  },
  {
   "cell_type": "code",
   "execution_count": 3,
   "metadata": {},
   "outputs": [
    {
     "data": {
      "text/plain": [
       "<pytextrank.base.BaseTextRankFactory at 0x1e24edd34d0>"
      ]
     },
     "execution_count": 3,
     "metadata": {},
     "output_type": "execute_result"
    }
   ],
   "source": [
    "nlp = spacy.load(\"en_core_web_sm\")\n",
    "nlp.add_pipe(\"textrank\")"
   ]
  },
  {
   "cell_type": "code",
   "execution_count": 14,
   "metadata": {},
   "outputs": [],
   "source": [
    "text_rank_result = []\n",
    "for indiv in subset[\"text\"]:\n",
    "    doc = nlp(indiv)\n",
    "    text_rank_result.append(doc._.phrases)"
   ]
  },
  {
   "cell_type": "code",
   "execution_count": 15,
   "metadata": {},
   "outputs": [
    {
     "data": {
      "text/plain": [
       "[[Phrase(text='such school', chunks=[such school, such school], count=2, rank=0.10232675861556258),\n",
       "  Phrase(text='such areas', chunks=[such areas], count=1, rank=0.09696859945619907),\n",
       "  Phrase(text='such services', chunks=[such services, such services], count=2, rank=0.09153777360316157),\n",
       "  Phrase(text='such amount', chunks=[such amount], count=1, rank=0.09127397489961109),\n",
       "  Phrase(text='STEM property contributions', chunks=[STEM property contributions, STEM property contributions], count=2, rank=0.0911272094401518),\n",
       "  Phrase(text='such program', chunks=[such program, such program], count=2, rank=0.09092314455372393),\n",
       "  Phrase(text='property contributions', chunks=[property contributions], count=1, rank=0.0892527054585331),\n",
       "  Phrase(text='eligible STEM teachers', chunks=[eligible STEM teachers], count=1, rank=0.08843169737807141),\n",
       "  Phrase(text='STEM inventory property', chunks=[STEM inventory property], count=1, rank=0.08715376471399243),\n",
       "  Phrase(text='STEM school contributions', chunks=[STEM school contributions], count=1, rank=0.08658981781588497),\n",
       "  Phrase(text='such taxable year', chunks=[such taxable year], count=1, rank=0.08439760026145653),\n",
       "  Phrase(text='STEM teacher externship expenses', chunks=[STEM teacher externship expenses], count=1, rank=0.08404978443772938),\n",
       "  Phrase(text='such Code', chunks=[such Code, such Code], count=2, rank=0.08257252131128974),\n",
       "  Phrase(text='STEM Teacher Training Expenses', chunks=[STEM Teacher Training Expenses], count=1, rank=0.08255095471694732),\n",
       "  Phrase(text='STEM services', chunks=[STEM services], count=1, rank=0.08132580393804541),\n",
       "  Phrase(text='secondary science', chunks=[secondary science], count=1, rank=0.07614334468970964),\n",
       "  Phrase(text='inventory property', chunks=[inventory property], count=1, rank=0.07139266482053105),\n",
       "  Phrase(text='other property', chunks=[other property], count=1, rank=0.07097302605178739),\n",
       "  Phrase(text='SECTION', chunks=[SECTION], count=1, rank=0.06912503365735384),\n",
       "  Phrase(text='section', chunks=[section, section, section, section, section, section, section, section, section], count=9, rank=0.06912503365735384),\n",
       "  Phrase(text='sections', chunks=[sections], count=1, rank=0.06912503365735384),\n",
       "  Phrase(text='MATHEMATICS EDUCATION', chunks=[MATHEMATICS EDUCATION, MATHEMATICS EDUCATION], count=2, rank=0.06673068117520763),\n",
       "  Phrase(text='STEM', chunks=[STEM, STEM], count=2, rank=0.06628482687976554),\n",
       "  Phrase(text='engineering', chunks=[engineering, engineering, engineering, engineering, engineering, engineering, engineering, engineering, engineering, engineering], count=10, rank=0.06602701854024194),\n",
       "  Phrase(text='technology', chunks=[technology, technology, technology, technology, technology, technology, technology, technology, technology, technology], count=10, rank=0.06560371146057997),\n",
       "  Phrase(text='science', chunks=[science, science, science, science, science, science, science, science], count=8, rank=0.06521913063050824),\n",
       "  Phrase(text='STEM Teacher Externship Expenses', chunks=[STEM Teacher Externship Expenses], count=1, rank=0.06471540043099333),\n",
       "  Phrase(text='such teachers school', chunks=[such teacher's school], count=1, rank=0.0646529336923822),\n",
       "  Phrase(text='CONTRIBUTIONS BENEFITING SCIENCE', chunks=[CONTRIBUTIONS BENEFITING SCIENCE], count=1, rank=0.06453332821425609),\n",
       "  Phrase(text='education', chunks=[education, education, education], count=3, rank=0.06332685552785541),\n",
       "  Phrase(text='STEM school contributions means', chunks=[STEM school contributions' means], count=1, rank=0.0626960269131824),\n",
       "  Phrase(text='45O. CONTRIBUTIONS', chunks=[45O. CONTRIBUTIONS], count=1, rank=0.06202495912402501),\n",
       "  Phrase(text='45O. Contributions', chunks=[45O. Contributions], count=1, rank=0.06202495912402501),\n",
       "  Phrase(text='Act', chunks=[Act], count=1, rank=0.06064823434083455),\n",
       "  Phrase(text='business related credits', chunks=[business related credits], count=1, rank=0.05860286731389184),\n",
       "  Phrase(text='subchapter A', chunks=[subchapter A, subchapter A], count=2, rank=0.057931926276790224),\n",
       "  Phrase(text='such teachers teaching skills', chunks=[such teacher's teaching skills], count=1, rank=0.05745631199565843),\n",
       "  Phrase(text='mathematics', chunks=[mathematics, mathematics, mathematics, mathematics, mathematics, mathematics, mathematics, mathematics, mathematics], count=9, rank=0.05571980425929892),\n",
       "  Phrase(text='services', chunks=[services], count=1, rank=0.05519912961234162),\n",
       "  Phrase(text='`STEM service contributions', chunks=[`STEM service contributions], count=1, rank=0.05489540933124793),\n",
       "  Phrase(text='amounts', chunks=[amounts], count=1, rank=0.05470548619590323),\n",
       "  Phrase(text='`STEM teacher training expenses', chunks=[`STEM teacher training expenses], count=1, rank=0.054353543011244),\n",
       "  Phrase(text='A', chunks=[A, A, A], count=3, rank=0.05371681305991328),\n",
       "  Phrase(text='`STEM teacher externship expenses', chunks=[`STEM teacher externship expenses], count=1, rank=0.05361434501649878),\n",
       "  Phrase(text='taxable years', chunks=[taxable years], count=1, rank=0.05264267516053895),\n",
       "  Phrase(text='`eligible STEM teacher', chunks=[`eligible STEM teacher], count=1, rank=0.052189636757657094),\n",
       "  Phrase(text='all STEM inventory property', chunks=[all STEM inventory property], count=1, rank=0.05143544065471578),\n",
       "  Phrase(text='any such area', chunks=[any such area], count=1, rank=0.05142536567823039),\n",
       "  Phrase(text='SECONDARY SCHOOL LEVEL', chunks=[SECONDARY SCHOOL LEVEL, SECONDARY SCHOOL LEVEL], count=2, rank=0.04937911182099335),\n",
       "  Phrase(text='contributions credit', chunks=[contributions credit], count=1, rank=0.047625345079849196),\n",
       "  Phrase(text='STEM services means', chunks=[STEM services' means], count=1, rank=0.0475234394738911),\n",
       "  Phrase(text='`STEM externship program', chunks=[`STEM externship program], count=1, rank=0.0469176736126931),\n",
       "  Phrase(text='a STEM externship program', chunks=[a STEM externship program], count=1, rank=0.0469176736126931),\n",
       "  Phrase(text='any eligible STEM teacher', chunks=[any eligible STEM teacher, any eligible STEM teacher], count=2, rank=0.046122836713057745),\n",
       "  Phrase(text='paragraph', chunks=[paragraph, paragraph, paragraph], count=3, rank=0.04564729160666965),\n",
       "  Phrase(text='the following new section', chunks=[the following new section], count=1, rank=0.04479134327571217),\n",
       "  Phrase(text='educational purposes', chunks=[educational purposes], count=1, rank=0.04438228812308351),\n",
       "  Phrase(text='the qualified STEM contributions', chunks=[the qualified STEM contributions], count=1, rank=0.042888201111940354),\n",
       "  Phrase(text='(e) STEM Teacher Training Expenses', chunks=[(e) STEM Teacher Training Expenses], count=1, rank=0.042751449608629456),\n",
       "  Phrase(text='(B) STEM service contributions', chunks=[(B) STEM service contributions], count=1, rank=0.04243789895237841),\n",
       "  Phrase(text='grades', chunks=[grades, grades, grades], count=3, rank=0.041025532630815216),\n",
       "  Phrase(text='business', chunks=[business, business, business], count=3, rank=0.040694991829106804),\n",
       "  Phrase(text='K12', chunks=[K12, K12, K12, K12, K12, K12, K12, K12], count=8, rank=0.04045450098411693),\n",
       "  Phrase(text='year', chunks=[year], count=1, rank=0.040319484209343046),\n",
       "  Phrase(text='years', chunks=[years], count=1, rank=0.040319484209343046),\n",
       "  Phrase(text='the elementary and secondary school level', chunks=[the elementary and secondary school level], count=1, rank=0.03954134223583753),\n",
       "  Phrase(text='a United States military base', chunks=[a United States military base], count=1, rank=0.03893351788337261),\n",
       "  Phrase(text='the National Science Education Tax Incentive', chunks=[the National Science Education Tax Incentive, the National Science Education Tax Incentive], count=2, rank=0.03872140413402106),\n",
       "  Phrase(text='E', chunks=[E], count=1, rank=0.0379104723949816),\n",
       "  Phrase(text='CERTAIN CONTRIBUTIONS BENEFITING SCIENCE', chunks=[CERTAIN CONTRIBUTIONS BENEFITING SCIENCE], count=1, rank=0.03774016530959124),\n",
       "  Phrase(text='training', chunks=[training], count=1, rank=0.03766616911002468),\n",
       "  Phrase(text='an elementary or secondary school', chunks=[an elementary or secondary school, an elementary or secondary school], count=2, rank=0.037599606716776535),\n",
       "  Phrase(text='(c) STEM School Contributions', chunks=[(c) STEM School Contributions], count=1, rank=0.036755075997959866),\n",
       "  Phrase(text='courses', chunks=[courses], count=1, rank=0.03639691195697638),\n",
       "  Phrase(text='the following new paragraph', chunks=[the following new paragraph], count=1, rank=0.036088366769027116),\n",
       "  Phrase(text='BENEFITING SCIENCE', chunks=[BENEFITING SCIENCE], count=1, rank=0.03599109264598477),\n",
       "  Phrase(text='Code', chunks=[Code, Code], count=2, rank=0.035928865127843844),\n",
       "  Phrase(text='a regular training program', chunks=[a regular training program], count=1, rank=0.03577164655164398),\n",
       "  Phrase(text='purposes', chunks=[purposes, purposes, purposes, purposes, purposes, purposes], count=6, rank=0.035590987961045116),\n",
       "  Phrase(text='the elementary and secondary science', chunks=[the elementary and secondary science], count=1, rank=0.03535463667898483),\n",
       "  Phrase(text='Businesses', chunks=[Businesses], count=1, rank=0.03494825233543678),\n",
       "  Phrase(text='the defense dependents education system', chunks=[the defense dependents' education system, the defense dependents' education system], count=2, rank=0.034570081583591074),\n",
       "  Phrase(text='the donees education plan', chunks=[the donee's education plan], count=1, rank=0.03428102186000251),\n",
       "  Phrase(text='a school', chunks=[a school, a school], count=2, rank=0.03394111177616363),\n",
       "  Phrase(text='the school', chunks=[the school, the school, the school, the school], count=4, rank=0.03394111177616363),\n",
       "  Phrase(text='a charitable contribution', chunks=[a charitable contribution], count=1, rank=0.033846144316256314),\n",
       "  Phrase(text='respect', chunks=[respect, respect, respect], count=3, rank=0.03377482748672937),\n",
       "  Phrase(text='a United States', chunks=[a United States], count=1, rank=0.033614184690125865),\n",
       "  Phrase(text='the United States', chunks=[the United States, the United States, the United States, the United States, the United States, the United States, the United States, the United States], count=8, rank=0.033614184690125865),\n",
       "  Phrase(text='subpart D', chunks=[subpart D], count=1, rank=0.0335878891406325),\n",
       "  Phrase(text='Sec', chunks=[Sec, Sec], count=2, rank=0.03343483396003853),\n",
       "  Phrase(text='chapter', chunks=[chapter, chapter], count=2, rank=0.033160989954483217),\n",
       "  Phrase(text='any property', chunks=[any property], count=1, rank=0.032220393609285185),\n",
       "  Phrase(text='the property', chunks=[the property, the property, the property, the property, the property], count=5, rank=0.032220393609285185),\n",
       "  Phrase(text='SECTION 1', chunks=[SECTION 1], count=1, rank=0.03192748543185215),\n",
       "  Phrase(text='section 1221(a', chunks=[section 1221(a], count=1, rank=0.03192748543185215),\n",
       "  Phrase(text='section 170', chunks=[section 170, section 170], count=2, rank=0.03192748543185215),\n",
       "  Phrase(text='section 170(b)(1)(A)(ii', chunks=[section 170(b)(1)(A)(ii, section 170(b)(1)(A)(ii, section 170(b)(1)(A)(ii], count=3, rank=0.03192748543185215),\n",
       "  Phrase(text='section 170(e)(3)(B', chunks=[section 170(e)(3)(B], count=1, rank=0.03192748543185215),\n",
       "  Phrase(text='section 38', chunks=[section 38], count=1, rank=0.03192748543185215),\n",
       "  Phrase(text='section 45O.', chunks=[section 45O.], count=1, rank=0.03192748543185215),\n",
       "  Phrase(text='this section', chunks=[this section, this section, this section, this section, this section, this section], count=6, rank=0.03192748543185215),\n",
       "  Phrase(text='subparagraphs (B', chunks=[subparagraphs (B], count=1, rank=0.031425276124923865),\n",
       "  Phrase(text='the Defense Dependents Education Act', chunks=[the Defense Dependents' Education Act, the Defense Dependents' Education Act], count=2, rank=0.03110110081066291),\n",
       "  Phrase(text='the following new item', chunks=[the following new item], count=1, rank=0.030561613284262355),\n",
       "  Phrase(text='(3) STEM teacher training expenses', chunks=[(3) STEM teacher training expenses], count=1, rank=0.03010197060791816),\n",
       "  Phrase(text='a teacher', chunks=[a teacher], count=1, rank=0.030011405138239633),\n",
       "  Phrase(text='an area', chunks=[an area, an area], count=2, rank=0.029928474217992326),\n",
       "  Phrase(text='the areas', chunks=[the areas, the areas, the areas, the areas, the areas], count=5, rank=0.029928474217992326),\n",
       "  Phrase(text='ENGINEERING', chunks=[ENGINEERING, ENGINEERING], count=2, rank=0.029838319665131594),\n",
       "  Phrase(text='the term `defense dependents education system', chunks=[the term `defense dependents' education system], count=1, rank=0.029711466642205975),\n",
       "  Phrase(text='F', chunks=[F], count=1, rank=0.02966888803127689),\n",
       "  Phrase(text='any contribution', chunks=[any contribution, any contribution], count=2, rank=0.029558368345748966),\n",
       "  Phrase(text='IV', chunks=[IV, IV, IV, IV], count=4, rank=0.02949591294498269),\n",
       "  Phrase(text='TECHNOLOGY', chunks=[TECHNOLOGY, TECHNOLOGY], count=2, rank=0.02940126423835186),\n",
       "  Phrase(text='costs', chunks=[costs], count=1, rank=0.02903072064141879),\n",
       "  Phrase(text='Double Benefit', chunks=[Double Benefit], count=1, rank=0.028973340227681266),\n",
       "  Phrase(text='Subpart D', chunks=[Subpart D], count=1, rank=0.028831776182114695),\n",
       "  Phrase(text='(2) STEM externship program', chunks=[(2) STEM externship program], count=1, rank=0.028245298184958054),\n",
       "  Phrase(text='money', chunks=[money], count=1, rank=0.02812418046493808),\n",
       "  Phrase(text='disposition', chunks=[disposition], count=1, rank=0.028088888554898186),\n",
       "  Phrase(text='This Act', chunks=[This Act], count=1, rank=0.02801221953804507),\n",
       "  Phrase(text='this Act', chunks=[this Act], count=1, rank=0.02801221953804507),\n",
       "  Phrase(text='the taxable year', chunks=[the taxable year, the taxable year, the taxable year, the taxable year], count=4, rank=0.027917994439363287),\n",
       "  Phrase(text='transfer', chunks=[transfer], count=1, rank=0.027524211581342807),\n",
       "  Phrase(text='students', chunks=[students], count=1, rank=0.027473863181998154),\n",
       "  Phrase(text='the donee', chunks=[the donee, the donee, the donee, the donee, the donee], count=5, rank=0.027371334514943443),\n",
       "  Phrase(text='part', chunks=[part, part], count=2, rank=0.02735421197804288),\n",
       "  Phrase(text='accordance', chunks=[accordance], count=1, rank=0.02725127531855775),\n",
       "  Phrase(text='instruction', chunks=[instruction], count=1, rank=0.0271603728671648),\n",
       "  Phrase(text='ELEMENTARY', chunks=[ELEMENTARY, ELEMENTARY], count=2, rank=0.02706657891981603),\n",
       "  Phrase(text='deduction', chunks=[deduction], count=1, rank=0.0266780310360586),\n",
       "  Phrase(text='exchange', chunks=[exchange], count=1, rank=0.02666660502540125),\n",
       "  Phrase(text='shipping', chunks=[shipping], count=1, rank=0.02665726004916845),\n",
       "  Phrase(text='(3) STEM service contributions', chunks=[(3) STEM service contributions], count=1, rank=0.02662002220533204),\n",
       "  Phrase(text='responsibilities', chunks=[responsibilities], count=1, rank=0.026396223604484757),\n",
       "  Phrase(text='the donees use', chunks=[the donee's use], count=1, rank=0.026308991302042044),\n",
       "  Phrase(text='installation', chunks=[installation], count=1, rank=0.026174676483424204),\n",
       "  Phrase(text='(B', chunks=[(B, (B, (B, (B], count=4, rank=0.025972454983331374),\n",
       "  Phrase(text='inserting', chunks=[inserting], count=1, rank=0.02561494066486597),\n",
       "  Phrase(text='(d) STEM Teacher Externship Expenses', chunks=[(d) STEM Teacher Externship Expenses], count=1, rank=0.02558100813147267),\n",
       "  Phrase(text='any service', chunks=[any service], count=1, rank=0.025495385872574786),\n",
       "  Phrase(text='(5) STEM services', chunks=[(5) STEM services], count=1, rank=0.025414313730639192),\n",
       "  Phrase(text='the Internal Revenue Code', chunks=[the Internal Revenue Code, the Internal Revenue Code], count=2, rank=0.02531967387230537),\n",
       "  Phrase(text='an amount', chunks=[an amount], count=1, rank=0.025267381745083268),\n",
       "  Phrase(text='any amount', chunks=[any amount, any amount, any amount], count=3, rank=0.025267381745083268),\n",
       "  Phrase(text='the amount', chunks=[the amount, the amount, the amount], count=3, rank=0.025267381745083268),\n",
       "  Phrase(text='SEC', chunks=[SEC, SEC, SEC, SEC], count=4, rank=0.025211836342140338),\n",
       "  Phrase(text='employees', chunks=[employees], count=1, rank=0.02503805268305614),\n",
       "  Phrase(text='any program', chunks=[any program], count=1, rank=0.024961965335821974),\n",
       "  Phrase(text='the program', chunks=[the program], count=1, rank=0.024961965335821974),\n",
       "  Phrase(text='(A', chunks=[(A, (A], count=2, rank=0.02481073318411979),\n",
       "  Phrase(text='the original use', chunks=[the original use], count=1, rank=0.024644243116280558),\n",
       "  Phrase(text='(3) Eligible stem teacher', chunks=[(3) Eligible stem teacher], count=1, rank=0.024568545800264716),\n",
       "  Phrase(text='SHORT TITLE', chunks=[SHORT TITLE], count=1, rank=0.024270950066623723),\n",
       "  Phrase(text='subsection', chunks=[subsection], count=1, rank=0.023805068739210542),\n",
       "  Phrase(text='(6) Defense dependents education system', chunks=[(6) Defense dependents' education system], count=1, rank=0.02359721079509624),\n",
       "  Phrase(text='(b) Qualified STEM Contributions', chunks=[(b) Qualified STEM Contributions], count=1, rank=0.023049742063644255),\n",
       "  Phrase(text='function', chunks=[function], count=1, rank=0.022875998724900634),\n",
       "  Phrase(text='their teaching skills', chunks=[their teaching skills], count=1, rank=0.022776856761901866),\n",
       "  Phrase(text='f', chunks=[f], count=1, rank=0.022390080149636865),\n",
       "  Phrase(text='the end', chunks=[the end, the end, the end, the end, the end], count=5, rank=0.021967303913885662),\n",
       "  Phrase(text='(20 U.S.C. 921 et seq', chunks=[(20 U.S.C. 921 et seq], count=1, rank=0.021942287833873492),\n",
       "  Phrase(text='a taxpayer', chunks=[a taxpayer, a taxpayer], count=2, rank=0.021942047602808455),\n",
       "  Phrase(text='the taxpayer', chunks=[the taxpayer, the taxpayer, the taxpayer, the taxpayer], count=4, rank=0.021942047602808455),\n",
       "  Phrase(text='such a teacher', chunks=[such a teacher], count=1, rank=0.021793813555628587),\n",
       "  Phrase(text='this paragraph', chunks=[this paragraph], count=1, rank=0.021083580877510458),\n",
       "  Phrase(text='an educational organization', chunks=[an educational organization], count=1, rank=0.019694247087118023),\n",
       "  Phrase(text='the use', chunks=[the use], count=1, rank=0.019290260357682137),\n",
       "  Phrase(text='(1) Section', chunks=[(1) Section], count=1, rank=0.019001314122215885),\n",
       "  Phrase(text='the grades', chunks=[the grades], count=1, rank=0.018948881846439156),\n",
       "  Phrase(text='a commercial basis', chunks=[a commercial basis], count=1, rank=0.018548330932775477),\n",
       "  Phrase(text='a credit', chunks=[a credit], count=1, rank=0.018415773018758252),\n",
       "  Phrase(text='the exclusive benefit', chunks=[the exclusive benefit], count=1, rank=0.01810785512261122),\n",
       "  Phrase(text='(E', chunks=[(E], count=1, rank=0.0175100971538788),\n",
       "  Phrase(text='any course', chunks=[any course], count=1, rank=0.016811013532825134),\n",
       "  Phrase(text='the purpose', chunks=[the purpose], count=1, rank=0.016438773184027304),\n",
       "  Phrase(text='a trade', chunks=[a trade, a trade], count=2, rank=0.016209282231691213),\n",
       "  Phrase(text='the trade', chunks=[the trade], count=1, rank=0.016209282231691213),\n",
       "  Phrase(text='the participation', chunks=[the participation, the participation], count=2, rank=0.015951619202076144),\n",
       "  Phrase(text='chapter 1', chunks=[chapter 1, chapter 1], count=2, rank=0.015316405181452289),\n",
       "  Phrase(text='this chapter', chunks=[this chapter], count=1, rank=0.015316405181452289),\n",
       "  Phrase(text='General', chunks=[General, General], count=2, rank=0.015248841212823447),\n",
       "  Phrase(text='2. CREDITS', chunks=[2. CREDITS], count=1, rank=0.013373246664222486),\n",
       "  Phrase(text='the enactment', chunks=[the enactment], count=1, rank=0.013279688836094719),\n",
       "  Phrase(text='their knowledge', chunks=[their knowledge], count=1, rank=0.013201532052619447),\n",
       "  Phrase(text='no charge', chunks=[no charge], count=1, rank=0.012985369409629376),\n",
       "  Phrase(text='the provisions', chunks=[the provisions], count=1, rank=0.012968332377547423),\n",
       "  Phrase(text='THE ELEMENTARY', chunks=[THE ELEMENTARY, THE ELEMENTARY], count=2, rank=0.012501517300318427),\n",
       "  Phrase(text='No deduction', chunks=[No deduction], count=1, rank=0.012322054720094098),\n",
       "  Phrase(text='a deduction', chunks=[a deduction], count=1, rank=0.012322054720094098),\n",
       "  Phrase(text='the date', chunks=[the date], count=1, rank=0.011947338990170968),\n",
       "  Phrase(text='(D', chunks=[(D], count=1, rank=0.011799772691591005),\n",
       "  Phrase(text='100 percent', chunks=[100 percent, 100 percent], count=2, rank=0.011795664411128913),\n",
       "  Phrase(text='the period', chunks=[the period], count=1, rank=0.011556126489369035),\n",
       "  Phrase(text='(C', chunks=[(C], count=1, rank=0.011045970859657389),\n",
       "  Phrase(text='this subsection', chunks=[this subsection], count=1, rank=0.010995090275728602),\n",
       "  Phrase(text='the extent', chunks=[the extent], count=1, rank=0.010828991108981355),\n",
       "  Phrase(text='the donor', chunks=[the donor], count=1, rank=0.010818184545503652),\n",
       "  Phrase(text='The table', chunks=[The table], count=1, rank=0.010750452572525313),\n",
       "  Phrase(text='a stipend', chunks=[a stipend], count=1, rank=0.010620833306860249),\n",
       "  Phrase(text='The term', chunks=[The term, The term, The term, The term, The term, The term, The term, The term, The term], count=9, rank=0.010337666206899071),\n",
       "  Phrase(text='any individual', chunks=[any individual], count=1, rank=0.010172123320004023),\n",
       "  Phrase(text='the limitation', chunks=[the limitation], count=1, rank=0.01010097901015046),\n",
       "  Phrase(text='(b) Conforming Amendments', chunks=[(b) Conforming Amendments], count=1, rank=0.007584671895819914),\n",
       "  Phrase(text='(c) Effective Date', chunks=[(c) Effective Date], count=1, rank=0.007584671895819914),\n",
       "  Phrase(text='The amendments', chunks=[The amendments], count=1, rank=0.007043138063242781),\n",
       "  Phrase(text='The determination', chunks=[The determination], count=1, rank=0.007043138063242781),\n",
       "  Phrase(text='(f) Denial', chunks=[(f) Denial], count=1, rank=0.004191651078549964),\n",
       "  Phrase(text='1', chunks=[1, 1, 1], count=3, rank=0.0),\n",
       "  Phrase(text='1986', chunks=[1986], count=1, rank=0.0),\n",
       "  Phrase(text='2', chunks=[2, 2, 2, 2, 2, 2], count=6, rank=0.0),\n",
       "  Phrase(text='20', chunks=[20], count=1, rank=0.0),\n",
       "  Phrase(text='2007', chunks=[2007], count=1, rank=0.0),\n",
       "  Phrase(text='3', chunks=[3, 3, 3], count=3, rank=0.0),\n",
       "  Phrase(text='30', chunks=[30], count=1, rank=0.0),\n",
       "  Phrase(text='32', chunks=[32], count=1, rank=0.0),\n",
       "  Phrase(text='4', chunks=[4], count=1, rank=0.0),\n",
       "  Phrase(text='5', chunks=[5], count=1, rank=0.0),\n",
       "  Phrase(text='6', chunks=[6], count=1, rank=0.0),\n",
       "  Phrase(text='921', chunks=[921], count=1, rank=0.0),\n",
       "  Phrase(text='any', chunks=[any], count=1, rank=0.0),\n",
       "  Phrase(text='substantially all', chunks=[substantially all], count=1, rank=0.0),\n",
       "  Phrase(text='that', chunks=[that], count=1, rank=0.0),\n",
       "  Phrase(text='which', chunks=[which, which, which, which, which, which, which, which], count=8, rank=0.0),\n",
       "  Phrase(text='who', chunks=[who], count=1, rank=0.0)],\n",
       " [Phrase(text='such taxable year', chunks=[such taxable year], count=1, rank=0.12031985852814293),\n",
       "  Phrase(text='such individual', chunks=[such individual, such individual], count=2, rank=0.10730816572334664),\n",
       "  Phrase(text='such employer', chunks=[such employer], count=1, rank=0.10578740469100713),\n",
       "  Phrase(text='taxable years', chunks=[taxable years], count=1, rank=0.10490868568685152),\n",
       "  Phrase(text='such period', chunks=[such period, such period], count=2, rank=0.10027821578907486),\n",
       "  Phrase(text='such other employee', chunks=[such other employee], count=1, rank=0.09531180792199243),\n",
       "  Phrase(text='such employment', chunks=[such employment, such employment], count=2, rank=0.09188966038625537),\n",
       "  Phrase(text='such retained worker', chunks=[such retained worker], count=1, rank=0.0911336165492027),\n",
       "  Phrase(text='current year business credit', chunks=[current year business credit], count=1, rank=0.09087454259726954),\n",
       "  Phrase(text='such wages', chunks=[such wages], count=1, rank=0.0891943838246951),\n",
       "  Phrase(text='such Code', chunks=[such Code], count=1, rank=0.08829254820833823),\n",
       "  Phrase(text='retained worker credit', chunks=[retained worker credit], count=1, rank=0.08199381506710146),\n",
       "  Phrase(text='SECTION', chunks=[SECTION], count=1, rank=0.0809363967953151),\n",
       "  Phrase(text='Section', chunks=[Section, Section], count=2, rank=0.0809363967953151),\n",
       "  Phrase(text='section', chunks=[section, section, section, section, section, section, section], count=7, rank=0.0809363967953151),\n",
       "  Phrase(text='sections', chunks=[sections], count=1, rank=0.0809363967953151),\n",
       "  Phrase(text='year', chunks=[year, year, year], count=3, rank=0.08067557331164407),\n",
       "  Phrase(text='years', chunks=[years], count=1, rank=0.08067557331164407),\n",
       "  Phrase(text='Section 39(a', chunks=[Section 39(a], count=1, rank=0.07859887164978234),\n",
       "  Phrase(text='CERTAIN INDIVIDUALS', chunks=[CERTAIN INDIVIDUALS, CERTAIN INDIVIDUALS], count=2, rank=0.07836594698813615),\n",
       "  Phrase(text='certain individuals', chunks=[certain individuals], count=1, rank=0.07836594698813615),\n",
       "  Phrase(text='Business Credit', chunks=[Business Credit], count=1, rank=0.07641007066149792),\n",
       "  Phrase(text='subchapter A', chunks=[subchapter A, subchapter A], count=2, rank=0.07429005725546282),\n",
       "  Phrase(text='A', chunks=[A], count=1, rank=0.07245479693568437),\n",
       "  Phrase(text='a', chunks=[a, a], count=2, rank=0.07245479693568437),\n",
       "  Phrase(text='retained workers', chunks=[retained workers], count=1, rank=0.0712171971236501),\n",
       "  Phrase(text='week', chunks=[week], count=1, rank=0.06414015704612634),\n",
       "  Phrase(text='business days', chunks=[business days], count=1, rank=0.063332705694001),\n",
       "  Phrase(text='employees', chunks=[employees, employees, employees, employees], count=4, rank=0.06219599142459308),\n",
       "  Phrase(text='businessrelated credits', chunks=[businessrelated credits], count=1, rank=0.05919234036022739),\n",
       "  Phrase(text='the Small Business Expansion and Hiring Act', chunks=[the Small Business Expansion and Hiring Act], count=1, rank=0.05648425799044922),\n",
       "  Phrase(text='20 taxable years', chunks=[20 taxable years, 20 taxable years'], count=2, rank=0.055636232290905606),\n",
       "  Phrase(text='21 taxable years', chunks=[21 taxable years, 21 taxable years'], count=2, rank=0.055636232290905606),\n",
       "  Phrase(text='a taxable year', chunks=[a taxable year], count=1, rank=0.055636232290905606),\n",
       "  Phrase(text='any taxable year', chunks=[any taxable year], count=1, rank=0.055636232290905606),\n",
       "  Phrase(text='the taxable year', chunks=[the taxable year, the taxable year, the taxable year, the taxable year, the taxable year, the taxable year], count=6, rank=0.055636232290905606),\n",
       "  Phrase(text='B', chunks=[B], count=1, rank=0.05306199542627141),\n",
       "  Phrase(text='the Small Business Expansion', chunks=[the Small Business Expansion], count=1, rank=0.05217682904308861),\n",
       "  Phrase(text='paragraph', chunks=[paragraph, paragraph, paragraph, paragraph], count=4, rank=0.052049517171532035),\n",
       "  Phrase(text='the following new section', chunks=[the following new section], count=1, rank=0.05109654737906658),\n",
       "  Phrase(text='employment', chunks=[employment, employment, employment], count=3, rank=0.05077640819422287),\n",
       "  Phrase(text='postsecondary educational institutions', chunks=[postsecondary educational institutions], count=1, rank=0.05028680008376098),\n",
       "  Phrase(text='the Higher Education Act', chunks=[the Higher Education Act, the Higher Education Act], count=2, rank=0.0499659014522711),\n",
       "  Phrase(text='business', chunks=[business], count=1, rank=0.04952940755765487),\n",
       "  Phrase(text='subsection', chunks=[subsection, subsection, subsection], count=3, rank=0.04874209118306578),\n",
       "  Phrase(text='higher education', chunks=[higher education], count=1, rank=0.04869088310660316),\n",
       "  Phrase(text='the retained worker credit', chunks=[the retained worker credit, the retained worker credit, the retained worker credit], count=3, rank=0.04839019889476491),\n",
       "  Phrase(text='any qualified individual', chunks=[any qualified individual], count=1, rank=0.04632528711680505),\n",
       "  Phrase(text='`qualified employer', chunks=[`qualified employer, `qualified employer], count=2, rank=0.04533087533958255),\n",
       "  Phrase(text='a qualified employer', chunks=[a qualified employer], count=1, rank=0.04533087533958255),\n",
       "  Phrase(text='the qualified employer', chunks=[the qualified employer], count=1, rank=0.04533087533958255),\n",
       "  Phrase(text='`longterm unemployed individual', chunks=[`longterm unemployed individual], count=1, rank=0.045238152936364226),\n",
       "  Phrase(text='a longterm unemployed individual', chunks=[a longterm unemployed individual], count=1, rank=0.045238152936364226),\n",
       "  Phrase(text='Code', chunks=[Code], count=1, rank=0.04300105882683906),\n",
       "  Phrase(text='3 taxable years', chunks=[3 taxable years'], count=1, rank=0.04037937194775571),\n",
       "  Phrase(text='`2 taxable years', chunks=[`2 taxable years], count=1, rank=0.04037937194775571),\n",
       "  Phrase(text='`3 taxable years', chunks=[`3 taxable years], count=1, rank=0.04037937194775571),\n",
       "  Phrase(text='the following new paragraph', chunks=[the following new paragraph], count=1, rank=0.04009177864148006),\n",
       "  Phrase(text='State', chunks=[State, State], count=2, rank=0.03998797354185376),\n",
       "  Phrase(text='This Act', chunks=[This Act], count=1, rank=0.03968002285493391),\n",
       "  Phrase(text='this Act', chunks=[this Act], count=1, rank=0.03968002285493391),\n",
       "  Phrase(text='year ending after the date', chunks=[year ending after the date], count=1, rank=0.03932238376683703),\n",
       "  Phrase(text='signed affidavit', chunks=[signed affidavit], count=1, rank=0.03905492947623518),\n",
       "  Phrase(text='unemployment compensation', chunks=[unemployment compensation], count=1, rank=0.038143038159610676),\n",
       "  Phrase(text='Carryforward', chunks=[Carryforward], count=1, rank=0.03787952327355857),\n",
       "  Phrase(text='`retained worker', chunks=[`retained worker], count=1, rank=0.037768622267424064),\n",
       "  Phrase(text='the 52 consecutive week period', chunks=[the 52 consecutive week period], count=1, rank=0.037660709327522544),\n",
       "  Phrase(text='SECTION 1', chunks=[SECTION 1], count=1, rank=0.03738292038161083),\n",
       "  Phrase(text='section 101(b', chunks=[section 101(b], count=1, rank=0.03738292038161083),\n",
       "  Phrase(text='section 38', chunks=[section 38], count=1, rank=0.03738292038161083),\n",
       "  Phrase(text='section 45S.', chunks=[section 45S.], count=1, rank=0.03738292038161083),\n",
       "  Phrase(text='section 51(i)(1', chunks=[section 51(i)(1], count=1, rank=0.03738292038161083),\n",
       "  Phrase(text='this section', chunks=[this section, this section, this section, this section, this section], count=5, rank=0.03738292038161083),\n",
       "  Phrase(text='January', chunks=[January], count=1, rank=0.03738152050680598),\n",
       "  Phrase(text='an individual', chunks=[an individual, an individual], count=2, rank=0.03587680540885124),\n",
       "  Phrase(text='any individual', chunks=[any individual], count=1, rank=0.03587680540885124),\n",
       "  Phrase(text='the individual', chunks=[the individual], count=1, rank=0.03587680540885124),\n",
       "  Phrase(text='subparagraph', chunks=[subparagraph, subparagraph, subparagraph], count=3, rank=0.03576603702651042),\n",
       "  Phrase(text='the following new item', chunks=[the following new item], count=1, rank=0.03491409803450076),\n",
       "  Phrase(text='less than 52 consecutive weeks', chunks=[less than 52 consecutive weeks], count=1, rank=0.03487052179122279),\n",
       "  Phrase(text='any employer', chunks=[any employer, any employer], count=2, rank=0.034775982816140555),\n",
       "  Phrase(text='the employer', chunks=[the employer, the employer], count=2, rank=0.034775982816140555),\n",
       "  Phrase(text='account', chunks=[account, account], count=2, rank=0.03471823994752695),\n",
       "  Phrase(text='the Internal Revenue Code', chunks=[the Internal Revenue Code, the Internal Revenue Code, the Internal Revenue Code, the Internal Revenue Code, the Internal Revenue Code, the Internal Revenue Code], count=6, rank=0.0339940681320405),\n",
       "  Phrase(text='(A', chunks=[(A, (A, (A, (A, (A], count=5, rank=0.03346543721191763),\n",
       "  Phrase(text='any business location', chunks=[any business location], count=1, rank=0.03305568174925782),\n",
       "  Phrase(text='chapter', chunks=[chapter, chapter], count=2, rank=0.032812700011370884),\n",
       "  Phrase(text='perjury', chunks=[perjury], count=1, rank=0.032300000835375625),\n",
       "  Phrase(text='subpart D', chunks=[subpart D], count=1, rank=0.032222833751127715),\n",
       "  Phrase(text='penalties', chunks=[penalties], count=1, rank=0.03151949989922924),\n",
       "  Phrase(text='State or Federal law', chunks=[State or Federal law], count=1, rank=0.030612346426454398),\n",
       "  Phrase(text='a period', chunks=[a period], count=1, rank=0.03060895159537526),\n",
       "  Phrase(text='the period', chunks=[the period], count=1, rank=0.03060895159537526),\n",
       "  Phrase(text='less than 26 weeks', chunks=[less than 26 weeks], count=1, rank=0.030553921466919202),\n",
       "  Phrase(text='(A) Businesslocation specific', chunks=[(A) Businesslocation specific], count=1, rank=0.03028542044015341),\n",
       "  Phrase(text='IV', chunks=[IV, IV, IV, IV], count=4, rank=0.030226685246092164),\n",
       "  Phrase(text='Sec', chunks=[Sec, Sec], count=2, rank=0.03010018671183346),\n",
       "  Phrase(text='less than 100 employees', chunks=[less than 100 employees], count=1, rank=0.03001994849389412),\n",
       "  Phrase(text='(B) Employees', chunks=[(B) Employees], count=1, rank=0.029667938289641104),\n",
       "  Phrase(text='Subpart D', chunks=[Subpart D], count=1, rank=0.0293071991871258),\n",
       "  Phrase(text='the 60 day period', chunks=[the 60 day period], count=1, rank=0.02914643988789066),\n",
       "  Phrase(text='purposes', chunks=[purposes, purposes, purposes], count=3, rank=0.028810006124111994),\n",
       "  Phrase(text='An employee', chunks=[An employee], count=1, rank=0.028727097913203575),\n",
       "  Phrase(text='another employee', chunks=[another employee], count=1, rank=0.028727097913203575),\n",
       "  Phrase(text='part', chunks=[part, part], count=2, rank=0.028431605381894483),\n",
       "  Phrase(text='not less than 52 consecutive weeks', chunks=[not less than 52 consecutive weeks], count=1, rank=0.028387301152810483),\n",
       "  Phrase(text='C', chunks=[C], count=1, rank=0.028246125094897358),\n",
       "  Phrase(text='cause', chunks=[cause], count=1, rank=0.028217539178228935),\n",
       "  Phrase(text='SEC', chunks=[SEC, SEC, SEC, SEC], count=4, rank=0.027748339800850595),\n",
       "  Phrase(text='`taxpayer', chunks=[`taxpayer], count=1, rank=0.027493655760248422),\n",
       "  Phrase(text='the taxpayer', chunks=[the taxpayer, the taxpayer, the taxpayer, the taxpayer, the taxpayer, the taxpayer], count=6, rank=0.027493655760248422),\n",
       "  Phrase(text='1) Retained worker', chunks=[1) Retained worker], count=1, rank=0.027411511953513355),\n",
       "  Phrase(text='December', chunks=[December], count=1, rank=0.027299043903496294),\n",
       "  Phrase(text='(2) Qualified individual', chunks=[(2) Qualified individual], count=1, rank=0.027297437217255548),\n",
       "  Phrase(text='respect', chunks=[respect], count=1, rank=0.027197568670160915),\n",
       "  Phrase(text='receipt', chunks=[receipt], count=1, rank=0.02702310362649877),\n",
       "  Phrase(text='the 52 consecutive week', chunks=[the 52 consecutive week], count=1, rank=0.027001715720100464),\n",
       "  Phrase(text='(3) Qualified employer', chunks=[(3) Qualified employer], count=1, rank=0.026711474458117387),\n",
       "  Phrase(text='SHORT TITLE', chunks=[SHORT TITLE], count=1, rank=0.02642118550443954),\n",
       "  Phrase(text='a credit', chunks=[a credit], count=1, rank=0.026364038673961167),\n",
       "  Phrase(text='a public institution', chunks=[a public institution], count=1, rank=0.026303418999475685),\n",
       "  Phrase(text='(4) Longterm unemployed individual', chunks=[(4) Longterm unemployed individual], count=1, rank=0.026256926482881603),\n",
       "  Phrase(text='the end', chunks=[the end, the end, the end, the end, the end, the end], count=6, rank=0.026095217920534763),\n",
       "  Phrase(text='a location basis', chunks=[a location basis], count=1, rank=0.025766288745999556),\n",
       "  Phrase(text='the first 26 weeks', chunks=[the first 26 weeks, the first 26 weeks], count=2, rank=0.0255256094252051),\n",
       "  Phrase(text='the last 26 weeks', chunks=[the last 26 weeks, the last 26 weeks], count=2, rank=0.02533514512973371),\n",
       "  Phrase(text='not less than 26 weeks', chunks=[not less than 26 weeks], count=1, rank=0.024806692664612558),\n",
       "  Phrase(text='(B', chunks=[(B, (B, (B], count=3, rank=0.02450828587447719),\n",
       "  Phrase(text='the 1year period ending on the day', chunks=[the 1year period ending on the day], count=1, rank=0.0242004188813441),\n",
       "  Phrase(text='RETENTION', chunks=[RETENTION, RETENTION], count=2, rank=0.023653830981592263),\n",
       "  Phrase(text='any date', chunks=[any date], count=1, rank=0.022399146624994724),\n",
       "  Phrase(text='the date', chunks=[the date, the date, the date], count=3, rank=0.022399146624994724),\n",
       "  Phrase(text='any political subdivision', chunks=[any political subdivision], count=1, rank=0.022311302893685568),\n",
       "  Phrase(text='the 1year period', chunks=[the 1year period], count=1, rank=0.022227742457579497),\n",
       "  Phrase(text='the day', chunks=[the day], count=1, rank=0.020959635359810554),\n",
       "  Phrase(text='the wages', chunks=[the wages], count=1, rank=0.02080596376845953),\n",
       "  Phrase(text='whose wages', chunks=[whose wages], count=1, rank=0.02080596376845953),\n",
       "  Phrase(text='(B) Treatment', chunks=[(B) Treatment], count=1, rank=0.020605182767448053),\n",
       "  Phrase(text='The number', chunks=[The number], count=1, rank=0.02045945559602174),\n",
       "  Phrase(text='the number', chunks=[the number, the number, the number], count=3, rank=0.02045945559602174),\n",
       "  Phrase(text='the United States', chunks=[the United States, the United States], count=2, rank=0.020261530427770652),\n",
       "  Phrase(text='another location', chunks=[another location], count=1, rank=0.02022566116922737),\n",
       "  Phrase(text='one location', chunks=[one location], count=1, rank=0.02022566116922737),\n",
       "  Phrase(text='2. BUSINESS CREDIT', chunks=[2. BUSINESS CREDIT], count=1, rank=0.019505437500383582),\n",
       "  Phrase(text='any State', chunks=[any State], count=1, rank=0.018469653830989523),\n",
       "  Phrase(text='less than 100', chunks=[less than 100], count=1, rank=0.018294852877947174),\n",
       "  Phrase(text='the enactment', chunks=[the enactment, the enactment], count=2, rank=0.01685500698421653),\n",
       "  Phrase(text='6.2 percent', chunks=[6.2 percent], count=1, rank=0.01683792113042978),\n",
       "  Phrase(text='General', chunks=[General, General], count=2, rank=0.016599893807154088),\n",
       "  Phrase(text='NEWLY', chunks=[NEWLY, NEWLY], count=2, rank=0.016599893807154088),\n",
       "  Phrase(text='the beginning', chunks=[the beginning], count=1, rank=0.016495464285776945),\n",
       "  Phrase(text='the item', chunks=[the item], count=1, rank=0.016149139018869486),\n",
       "  Phrase(text='the excess', chunks=[the excess], count=1, rank=0.015789358414411512),\n",
       "  Phrase(text='the foregoing', chunks=[the foregoing], count=1, rank=0.015607963450221148),\n",
       "  Phrase(text='the case', chunks=[the case, the case, the case], count=3, rank=0.015249842996325544),\n",
       "  Phrase(text='an average', chunks=[an average], count=1, rank=0.015231366174434864),\n",
       "  Phrase(text='the 60 day', chunks=[the 60 day], count=1, rank=0.015220559754586194),\n",
       "  Phrase(text='chapter 1', chunks=[chapter 1, chapter 1], count=2, rank=0.015155536947522733),\n",
       "  Phrase(text='any instrumentality', chunks=[any instrumentality], count=1, rank=0.015082482490362188),\n",
       "  Phrase(text='January 1, 2014, (B) certifies', chunks=[January 1, 2014, (B) certifies], count=1, rank=0.014983580371598143),\n",
       "  Phrase(text='(c) Limitation', chunks=[(c) Limitation], count=1, rank=0.014399767749041881),\n",
       "  Phrase(text='(e) Effective Date', chunks=[(e) Effective Date], count=1, rank=0.014115184055616138),\n",
       "  Phrase(text='(D', chunks=[(D], count=1, rank=0.01385681085705593),\n",
       "  Phrase(text='(C', chunks=[(C], count=1, rank=0.013806991020247475),\n",
       "  Phrase(text='40 hours', chunks=[40 hours, 40 hours], count=2, rank=0.013153571159284727),\n",
       "  Phrase(text='the following', chunks=[the following], count=1, rank=0.012536482843857836),\n",
       "  Phrase(text='the aggregate', chunks=[the aggregate], count=1, rank=0.012464160447077401),\n",
       "  Phrase(text='(b) Credit', chunks=[(b) Credit], count=1, rank=0.012180990085195454),\n",
       "  Phrase(text='The term', chunks=[The term, The term, The term, The term], count=4, rank=0.010989789039801988),\n",
       "  Phrase(text='the term', chunks=[the term], count=1, rank=0.010989789039801988),\n",
       "  Phrase(text='45S. RETENTION', chunks=[45S. RETENTION], count=1, rank=0.010925236547670563),\n",
       "  Phrase(text='January 1, 2013', chunks=[January 1, 2013], count=1, rank=0.010275553962646214),\n",
       "  Phrase(text='January 1, 2014', chunks=[January 1, 2014], count=1, rank=0.010275553962646214),\n",
       "  Phrase(text='at least 80 percent', chunks=[at least 80 percent, at least 80 percent], count=2, rank=0.010020915341024788),\n",
       "  Phrase(text='(2) 6.2 percent', chunks=[(2) 6.2 percent], count=1, rank=0.00867980205111368),\n",
       "  Phrase(text='(2) Dollar limitation', chunks=[(2) Dollar limitation], count=1, rank=0.008256620470137357),\n",
       "  Phrase(text='(3) Special rules', chunks=[(3) Special rules], count=1, rank=0.008256620470137357),\n",
       "  Phrase(text='45S. Retention', chunks=[45S. Retention], count=1, rank=0.007667162526463692),\n",
       "  Phrase(text='All determinations', chunks=[All determinations], count=1, rank=0.007667162526463692),\n",
       "  Phrase(text='The amendments', chunks=[The amendments], count=1, rank=0.007667162526463692),\n",
       "  Phrase(text='The amount', chunks=[The amount], count=1, rank=0.007667162526463692),\n",
       "  Phrase(text='The table', chunks=[The table], count=1, rank=0.007667162526463692),\n",
       "  Phrase(text='December 31, 2010', chunks=[December 31, 2010], count=1, rank=0.007504049994647807),\n",
       "  Phrase(text='(b) Limitations', chunks=[(b) Limitations], count=1, rank=0.006206413711108289),\n",
       "  Phrase(text='2) Dollar', chunks=[2) Dollar], count=1, rank=0.005567773645811149),\n",
       "  Phrase(text='(c) Definitions', chunks=[(c) Definitions], count=1, rank=0.004563032810785549),\n",
       "  Phrase(text='1', chunks=[1], count=1, rank=0.0),\n",
       "  Phrase(text='1) $4,000', chunks=[1) $4,000], count=1, rank=0.0),\n",
       "  Phrase(text='1965', chunks=[1965], count=1, rank=0.0),\n",
       "  Phrase(text='1986', chunks=[1986, 1986, 1986], count=3, rank=0.0),\n",
       "  Phrase(text='2', chunks=[2, 2, 2, 2, 2], count=5, rank=0.0),\n",
       "  Phrase(text='2011', chunks=[2011], count=1, rank=0.0),\n",
       "  Phrase(text='2013', chunks=[2013], count=1, rank=0.0),\n",
       "  Phrase(text='3', chunks=[3, 3], count=2, rank=0.0),\n",
       "  Phrase(text='35', chunks=[35], count=1, rank=0.0),\n",
       "  Phrase(text='36', chunks=[36], count=1, rank=0.0),\n",
       "  Phrase(text='37', chunks=[37], count=1, rank=0.0),\n",
       "  Phrase(text='3year', chunks=[3year], count=1, rank=0.0),\n",
       "  Phrase(text='400,000', chunks=[400,000], count=1, rank=0.0),\n",
       "  Phrase(text='45R', chunks=[45R], count=1, rank=0.0),\n",
       "  Phrase(text='5', chunks=[5], count=1, rank=0.0),\n",
       "  Phrase(text='6,000', chunks=[6,000], count=1, rank=0.0),\n",
       "  Phrase(text='BEFORE 2013', chunks=[BEFORE 2013, BEFORE 2013], count=2, rank=0.0),\n",
       "  Phrase(text='if any', chunks=[if any], count=1, rank=0.0),\n",
       "  Phrase(text='it', chunks=[it], count=1, rank=0.0),\n",
       "  Phrase(text='one', chunks=[one], count=1, rank=0.0),\n",
       "  Phrase(text='which', chunks=[which, which], count=2, rank=0.0),\n",
       "  Phrase(text='who', chunks=[who, who, who, who, who], count=5, rank=0.0)]]"
      ]
     },
     "execution_count": 15,
     "metadata": {},
     "output_type": "execute_result"
    }
   ],
   "source": [
    "text_rank_result"
   ]
  },
  {
   "cell_type": "code",
   "execution_count": null,
   "metadata": {},
   "outputs": [],
   "source": []
  },
  {
   "cell_type": "markdown",
   "metadata": {},
   "source": [
    "#### Mauve"
   ]
  },
  {
   "cell_type": "code",
   "execution_count": 23,
   "metadata": {},
   "outputs": [],
   "source": [
    "import mauve\n",
    "import json"
   ]
  },
  {
   "cell_type": "code",
   "execution_count": 27,
   "metadata": {},
   "outputs": [
    {
     "name": "stderr",
     "output_type": "stream",
     "text": [
      "Fetching amazon.valid.jsonl: 4.66Mit [00:00, 4.96Mit/s]                                             \n",
      "Fetching amazon-xl-1542M.valid.jsonl: 4.62Mit [00:00, 4.66Mit/s]                                    \n"
     ]
    }
   ],
   "source": [
    "import os\n",
    "import requests\n",
    "from tqdm import tqdm\n",
    "\n",
    "DATA_URL = \"https://openaipublic.azureedge.net/gpt-2/output-dataset/v1-amazonfinetune/\"\n",
    "subdir = r'C:\\Pro\\Stages\\A4 - DVRC\\Work\\Datasets\\GPT2'\n",
    "\n",
    "\n",
    "if not os.path.exists(subdir):\n",
    "    os.makedirs(subdir)\n",
    "subdir = subdir.replace('\\\\','/') # needed for Windows\n",
    "\n",
    "for ds in [\n",
    "    'amazon',                   # human-written data\n",
    "    'amazon-xl-1542M',          # machine generation: sampled from GPT-2 XL\n",
    "]:\n",
    "    for split in ['valid']:\n",
    "        filename = ds + \".\" + split + '.jsonl'\n",
    "        r = requests.get(DATA_URL + filename, stream=True)\n",
    "\n",
    "        with open(os.path.join(subdir, filename), 'wb') as f:\n",
    "            file_size = int(r.headers[\"content-length\"])\n",
    "            chunk_size = 1000\n",
    "            with tqdm(ncols=100, desc=\"Fetching \" + filename, total=file_size, unit_scale=True) as pbar:\n",
    "                # 1k for chunk_size, since Ethernet packet size is around 1500 bytes\n",
    "                for chunk in r.iter_content(chunk_size=chunk_size):\n",
    "                    f.write(chunk)\n",
    "                    pbar.update(chunk_size)"
   ]
  },
  {
   "cell_type": "code",
   "execution_count": 28,
   "metadata": {},
   "outputs": [],
   "source": [
    "def load_gpt2_dataset(json_file_name, num_examples=float('inf')):\n",
    "    texts = []\n",
    "    for i, line in enumerate(open(json_file_name)):\n",
    "        if i >= num_examples:\n",
    "            break\n",
    "        texts.append(json.loads(line)['text'])\n",
    "    return texts"
   ]
  },
  {
   "cell_type": "code",
   "execution_count": 34,
   "metadata": {},
   "outputs": [],
   "source": [
    "p_text = load_gpt2_dataset(r'C:\\Pro\\Stages\\A4 - DVRC\\Work\\Datasets\\GPT2\\amazon.valid.jsonl'.replace(\"\\\\\", \"/\"), num_examples=100) # human\n",
    "q_text = load_gpt2_dataset(r'C:\\Pro\\Stages\\A4 - DVRC\\Work\\Datasets\\GPT2\\amazon-xl-1542M.valid.jsonl'.replace(\"\\\\\", \"/\"), num_examples=100) # machine"
   ]
  },
  {
   "cell_type": "code",
   "execution_count": 35,
   "metadata": {},
   "outputs": [
    {
     "name": "stderr",
     "output_type": "stream",
     "text": [
      "Featurizing p: 100%|██████████| 100/100 [00:28<00:00,  3.47it/s]\n",
      "Featurizing q: 100%|██████████| 100/100 [00:26<00:00,  3.81it/s]\n"
     ]
    },
    {
     "name": "stdout",
     "output_type": "stream",
     "text": [
      "0.9916393957428877\n"
     ]
    }
   ],
   "source": [
    "out = mauve.compute_mauve(p_text=p_text, q_text=q_text, device_id=0)\n",
    "print(out.mauve) # prints 0.9917"
   ]
  },
  {
   "cell_type": "code",
   "execution_count": 20,
   "metadata": {},
   "outputs": [
    {
     "name": "stderr",
     "output_type": "stream",
     "text": [
      "Featurizing p:   0%|          | 0/2 [00:00<?, ?it/s]"
     ]
    },
    {
     "name": "stderr",
     "output_type": "stream",
     "text": [
      "Featurizing p: 100%|██████████| 2/2 [00:04<00:00,  2.12s/it]\n",
      "Featurizing q: 100%|██████████| 2/2 [00:00<00:00,  3.75it/s]\n"
     ]
    },
    {
     "name": "stdout",
     "output_type": "stream",
     "text": [
      "0.0040720962619612555\n"
     ]
    }
   ],
   "source": [
    "out = mauve.compute_mauve(p_text=subset[\"text\"].tolist(), q_text=subset[\"summary\"].tolist(), device_id=0)\n",
    "print(out.mauve) # prints 0.9917"
   ]
  }
 ],
 "metadata": {
  "kernelspec": {
   "display_name": ".venv",
   "language": "python",
   "name": "python3"
  },
  "language_info": {
   "codemirror_mode": {
    "name": "ipython",
    "version": 3
   },
   "file_extension": ".py",
   "mimetype": "text/x-python",
   "name": "python",
   "nbconvert_exporter": "python",
   "pygments_lexer": "ipython3",
   "version": "3.11.3"
  },
  "orig_nbformat": 4
 },
 "nbformat": 4,
 "nbformat_minor": 2
}

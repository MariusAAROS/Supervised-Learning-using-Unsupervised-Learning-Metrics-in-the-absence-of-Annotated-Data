{
 "cells": [
  {
   "attachments": {},
   "cell_type": "markdown",
   "metadata": {},
   "source": [
    "### Basics"
   ]
  },
  {
   "cell_type": "code",
   "execution_count": null,
   "metadata": {},
   "outputs": [],
   "source": [
    "def test():\n",
    "    for i in range(10):\n",
    "        yield i\n",
    "\n",
    "arr = test()"
   ]
  },
  {
   "cell_type": "code",
   "execution_count": null,
   "metadata": {},
   "outputs": [],
   "source": [
    "str(None)"
   ]
  },
  {
   "cell_type": "code",
   "execution_count": null,
   "metadata": {},
   "outputs": [],
   "source": [
    "arr = [1, 2, 3, 4]"
   ]
  },
  {
   "cell_type": "code",
   "execution_count": null,
   "metadata": {},
   "outputs": [],
   "source": [
    "arr[0:len(arr)]"
   ]
  },
  {
   "attachments": {},
   "cell_type": "markdown",
   "metadata": {},
   "source": [
    "### BERTScore (custom and classic) output format analysis"
   ]
  },
  {
   "cell_type": "code",
   "execution_count": null,
   "metadata": {},
   "outputs": [],
   "source": [
    "import bert_score\n",
    "import sys\n",
    "sys.path.append(r\"D:\\COURS\\A4\\S8 - ESILV\\Stage\\Work\\Supervised-Learning-using-Unsupervised-Learning-Metrics-in-the-absence-of-Annotated-Data\\myLibraries\")\n",
    "from custom_score.score import score\n",
    "from custom_score.utils import model_load"
   ]
  },
  {
   "cell_type": "code",
   "execution_count": null,
   "metadata": {},
   "outputs": [],
   "source": [
    "w2v = model_load(\"Word2Vec\", True)\n",
    "custom_o = score(w2v, [\"I am Marius\"], [\"My name is Marius\"])"
   ]
  },
  {
   "cell_type": "code",
   "execution_count": null,
   "metadata": {},
   "outputs": [],
   "source": [
    "classic_o = bert_score.score([\"I am Marius\"], [\"My name is Marius\"],  lang=\"en\", verbose=0)"
   ]
  },
  {
   "cell_type": "code",
   "execution_count": null,
   "metadata": {},
   "outputs": [],
   "source": [
    "custom_o"
   ]
  },
  {
   "cell_type": "code",
   "execution_count": null,
   "metadata": {},
   "outputs": [],
   "source": [
    "classic_o"
   ]
  },
  {
   "cell_type": "code",
   "execution_count": null,
   "metadata": {},
   "outputs": [],
   "source": [
    "classic_o[0].item()"
   ]
  },
  {
   "attachments": {},
   "cell_type": "markdown",
   "metadata": {},
   "source": [
    "### BERTScore multi-output"
   ]
  },
  {
   "cell_type": "code",
   "execution_count": null,
   "metadata": {},
   "outputs": [],
   "source": [
    "classic_o = bert_score.score([\"I am Marius\", \"I like trains.\"], [\"My name is Marius\", \"I enjoy vehicules.\"],  lang=\"en\", verbose=0)"
   ]
  },
  {
   "cell_type": "code",
   "execution_count": null,
   "metadata": {},
   "outputs": [],
   "source": [
    "classic_o"
   ]
  },
  {
   "cell_type": "code",
   "execution_count": null,
   "metadata": {},
   "outputs": [],
   "source": [
    "classic_o[0].tolist()"
   ]
  },
  {
   "cell_type": "code",
   "execution_count": null,
   "metadata": {},
   "outputs": [],
   "source": [
    "w2v = model_load(\"Word2Vec\", True)\n",
    "custom_o = score(w2v, [\"I am Marius\", \"I like trains.\"], [\"My name is Marius\", \"I enjoy vehicules.\"])"
   ]
  },
  {
   "cell_type": "code",
   "execution_count": null,
   "metadata": {},
   "outputs": [],
   "source": [
    "custom_o"
   ]
  },
  {
   "attachments": {},
   "cell_type": "markdown",
   "metadata": {},
   "source": [
    "### Sets experimentation"
   ]
  },
  {
   "cell_type": "code",
   "execution_count": null,
   "metadata": {},
   "outputs": [],
   "source": [
    "s = set()"
   ]
  },
  {
   "cell_type": "code",
   "execution_count": null,
   "metadata": {},
   "outputs": [],
   "source": [
    "s.add(\"a\")\n",
    "s"
   ]
  },
  {
   "cell_type": "code",
   "execution_count": null,
   "metadata": {},
   "outputs": [],
   "source": [
    "s.add(\"a\")\n",
    "s"
   ]
  },
  {
   "cell_type": "code",
   "execution_count": null,
   "metadata": {},
   "outputs": [],
   "source": [
    "test = {1}\n",
    "test"
   ]
  },
  {
   "cell_type": "code",
   "execution_count": null,
   "metadata": {},
   "outputs": [],
   "source": [
    "type(test)"
   ]
  },
  {
   "attachments": {},
   "cell_type": "markdown",
   "metadata": {},
   "source": [
    "### Dataset file test"
   ]
  },
  {
   "cell_type": "code",
   "execution_count": null,
   "metadata": {},
   "outputs": [],
   "source": [
    "import sys\n",
    "sys.path.append(r\"C:\\Pro\\Stages\\A4 - DVRC\\Work\\Supervised-Learning-using-Unsupervised-Learning-Metrics-in-the-absence-of-Annotated-Data.myLibraries\")\n",
    "from loaders import load_billsum"
   ]
  },
  {
   "cell_type": "code",
   "execution_count": null,
   "metadata": {},
   "outputs": [],
   "source": [
    "load_billsum()"
   ]
  },
  {
   "attachments": {},
   "cell_type": "markdown",
   "metadata": {},
   "source": [
    "### Dataset_loaders test"
   ]
  },
  {
   "cell_type": "code",
   "execution_count": 1,
   "metadata": {},
   "outputs": [],
   "source": [
    "import sys\n",
    "sys.path.append(r\"D:\\COURS\\A4\\S8 - ESILV\\Stage\\Work\\Supervised-Learning-using-Unsupervised-Learning-Metrics-in-the-absence-of-Annotated-Data\\myLibraries\")\n",
    "from datasets_loaders.loaders import load_billsum\n",
    "from datasets_loaders.utils import cleanDataset"
   ]
  },
  {
   "cell_type": "code",
   "execution_count": 2,
   "metadata": {},
   "outputs": [],
   "source": [
    "billsum = load_billsum()"
   ]
  },
  {
   "cell_type": "code",
   "execution_count": 3,
   "metadata": {},
   "outputs": [
    {
     "name": "stdout",
     "output_type": "stream",
     "text": [
      "SECTION 1. SHORT TITLE. This Act may be cited as the National Science Education Tax Incentive for Businesses Act of 2007. SEC. 2. CREDITS FOR CERTAIN CONTRIBUTIONS BENEFITING SCIENCE, TECHNOLOGY, ENGINEERING, AND MATHEMATICS EDUCATION AT THE ELEMENTARY AND SECONDARY SCHOOL LEVEL. (a) In General.Subpart D of part IV of subchapter A of chapter 1 of the Internal Revenue Code of 1986 (relating to business related credits) is amended by adding at the end the following new section: SEC. 45O. CONTRIBUTIONS BENEFITING SCIENCE, TECHNOLOGY, ENGINEERING, AND MATHEMATICS EDUCATION AT THE ELEMENTARY AND SECONDARY SCHOOL LEVEL. (a) In General.For purposes of section 38, the elementary and secondary science, technology, engineering, and mathematics (STEM) contributions credit determined under this section for the taxable year is an amount equal to 100 percent of the qualified STEM contributions of the taxpayer for such taxable year. (b) Qualified STEM Contributions.For purposes of this section, the term `qualified STEM contributions' means (1) STEM school contributions, (2) STEM teacher externship expenses, and (3) STEM teacher training expenses. (c) STEM School Contributions.For purposes of this section (1) In general.The term `STEM school contributions' means (A) STEM property contributions, and (B) STEM service contributions. (2) STEM property contributions.The term `STEM property contributions' means the amount which would (but for subsection (f)) be allowed as a deduction under section 170 for a charitable contribution of STEM inventory property if (A) the donee is an elementary or secondary school described in section 170(b)(1)(A)(ii), (B) substantially all of the use of the property by the donee is within the United States or within the defense dependents' education system for educational purposes in any of the grades K12 that are related to the purpose or function of the donee, (C) the original use of the property begins with the donee, (D) the property will fit productively into the donee's education plan, (E) the property is not transferred by the donee in exchange for money, other property, or services, except for shipping, installation and transfer costs, and (F) the donee's use and disposition of the property will be in accordance with the provisions of subparagraphs (B) and (E). The determination of the amount of deduction under section 170 for purposes of this paragraph shall be made as if the limitation under section 170(e)(3)(B) applied to all STEM inventory property. (3) STEM service contributions.The term `STEM service contributions' means the amount paid or incurred during the taxable year for STEM services provided in the United States or in the defense dependents' education system for the exclusive benefit of students at an elementary or secondary school described in section 170(b)(1)(A)(ii) but only if (A) the taxpayer is engaged in the trade or business of providing such services on a commercial basis, and (B) no charge is imposed for providing such services. (4) STEM inventory property.The term `STEM inventory property' means, with respect to any contribution to a school, any property (A) which is described in paragraph (1) or (2) of section 1221(a) with respect to the donor, and (B) which is determined by the school to be needed by the school in providing education in grades K12 in the areas of science, technology, engineering, or mathematics. (5) STEM services.The term `STEM services' means, with respect to any contribution to a school, any service determined by the school to be needed by the school in providing education in grades K12 in the areas of science, technology, engineering, or mathematics, including teaching courses of instruction at such school in any such area. (6) Defense dependents' education system.For purposes of this subsection, the term `defense dependents' education system' means the program established and operated under the Defense Dependents' Education Act of 1978 (20 U.S.C. 921 et seq.). (d) STEM Teacher Externship Expenses.For purposes of this section (1) In general.The term `STEM teacher externship expenses' means any amount paid or incurred to carry out a STEM externship program of the taxpayer but only to the extent that such amount is attributable to the participation in such program of any eligible STEM teacher, including amounts paid to such a teacher as a stipend while participating in such program. (2) STEM externship program.The term `STEM externship program' means any program (A) established by a taxpayer engaged in a trade or business within an area of science, technology, engineering, or mathematics, and (B) under which eligible STEM teachers receive training to enhance their teaching skills in the areas of science, technology, engineering, or mathematics or otherwise improve their knowledge in such areas. (3) Eligible stem teacher.The term `eligible STEM teacher' means any individual (A) who is a teacher in grades K12 at an educational organization described in section 170(b)(1)(A)(ii) which is located in the United States or which is located on a United States military base outside the United States, and (B) whose teaching responsibilities at such school include, or are likely to include, any course in the areas of science, technology, engineering, or mathematics. (e) STEM Teacher Training Expenses.The term `STEM teacher training expenses' means any amount paid or incurred by a taxpayer engaged in a trade or business within an area of science, technology, engineering, or mathematics which is attributable to the participation of any eligible STEM teacher in a regular training program provided to employees of the taxpayer which is determined by such teacher's school as enhancing such teacher's teaching skills in the areas of science, technology, engineering, or mathematics. (f) Denial of Double Benefit.No deduction shall be allowed under this chapter for any amount allowed as a credit under this section. (b) Conforming Amendments. (1) Section 38(b) of such Code is amended by striking plus at the end of paragraph (30), by striking the period at the end of paragraph (31), and inserting , plus, and by adding at the end the following new paragraph: (32) the elementary and secondary science, technology, engineering, and mathematics (STEM) contributions credit determined under section 45O. (2) The table of sections for subpart D of part IV of subchapter A of chapter 1 of such Code is amended by adding at the end the following new item: Sec. 45O. Contributions benefiting science, technology, engineering, and mathematics education at the elementary and secondary school level. (c) Effective Date.The amendments made by this section shall apply to taxable years beginning after the date of the enactment of this Act.\n"
     ]
    }
   ],
   "source": [
    "print(billsum.iloc[0, 0])"
   ]
  },
  {
   "cell_type": "code",
   "execution_count": 4,
   "metadata": {},
   "outputs": [
    {
     "data": {
      "text/html": [
       "<div>\n",
       "<style scoped>\n",
       "    .dataframe tbody tr th:only-of-type {\n",
       "        vertical-align: middle;\n",
       "    }\n",
       "\n",
       "    .dataframe tbody tr th {\n",
       "        vertical-align: top;\n",
       "    }\n",
       "\n",
       "    .dataframe thead th {\n",
       "        text-align: right;\n",
       "    }\n",
       "</style>\n",
       "<table border=\"1\" class=\"dataframe\">\n",
       "  <thead>\n",
       "    <tr style=\"text-align: right;\">\n",
       "      <th></th>\n",
       "      <th>text</th>\n",
       "      <th>summary</th>\n",
       "    </tr>\n",
       "  </thead>\n",
       "  <tbody>\n",
       "    <tr>\n",
       "      <th>0</th>\n",
       "      <td>SECTION 1. SHORT TITLE. This Act may be cited ...</td>\n",
       "      <td>National Science Education Tax Incentive for B...</td>\n",
       "    </tr>\n",
       "    <tr>\n",
       "      <th>1</th>\n",
       "      <td>SECTION 1. SHORT TITLE. This Act may be cited ...</td>\n",
       "      <td>Small Business Expansion and Hiring Act of 201...</td>\n",
       "    </tr>\n",
       "    <tr>\n",
       "      <th>2</th>\n",
       "      <td>SECTION 1. RELEASE OF DOCUMENTS CAPTURED IN IR...</td>\n",
       "      <td>Requires the Director of National Intelligence...</td>\n",
       "    </tr>\n",
       "    <tr>\n",
       "      <th>3</th>\n",
       "      <td>SECTION 1. SHORT TITLE. This Act may be cited ...</td>\n",
       "      <td>National Cancer Act of 2003 - Amends the Publi...</td>\n",
       "    </tr>\n",
       "    <tr>\n",
       "      <th>4</th>\n",
       "      <td>SECTION 1. SHORT TITLE. This Act may be cited ...</td>\n",
       "      <td>Military Call-up Relief Act - Amends the Inter...</td>\n",
       "    </tr>\n",
       "  </tbody>\n",
       "</table>\n",
       "</div>"
      ],
      "text/plain": [
       "                                                text   \n",
       "0  SECTION 1. SHORT TITLE. This Act may be cited ...  \\\n",
       "1  SECTION 1. SHORT TITLE. This Act may be cited ...   \n",
       "2  SECTION 1. RELEASE OF DOCUMENTS CAPTURED IN IR...   \n",
       "3  SECTION 1. SHORT TITLE. This Act may be cited ...   \n",
       "4  SECTION 1. SHORT TITLE. This Act may be cited ...   \n",
       "\n",
       "                                             summary  \n",
       "0  National Science Education Tax Incentive for B...  \n",
       "1  Small Business Expansion and Hiring Act of 201...  \n",
       "2  Requires the Director of National Intelligence...  \n",
       "3  National Cancer Act of 2003 - Amends the Publi...  \n",
       "4  Military Call-up Relief Act - Amends the Inter...  "
      ]
     },
     "execution_count": 4,
     "metadata": {},
     "output_type": "execute_result"
    }
   ],
   "source": [
    "billsum.head()"
   ]
  },
  {
   "cell_type": "code",
   "execution_count": 5,
   "metadata": {},
   "outputs": [],
   "source": [
    "cleanDataset(billsum)"
   ]
  },
  {
   "cell_type": "code",
   "execution_count": 6,
   "metadata": {},
   "outputs": [
    {
     "name": "stdout",
     "output_type": "stream",
     "text": [
      "SECTION 1. SHORT TITLE. This Act may be cited as the National Science Education Tax Incentive for Businesses Act of 2007. SEC. 2. CREDITS FOR CERTAIN CONTRIBUTIONS BENEFITING SCIENCE, TECHNOLOGY, ENGINEERING, AND MATHEMATICS EDUCATION AT THE ELEMENTARY AND SECONDARY SCHOOL LEVEL. (a) In General.Subpart D of part IV of subchapter A of chapter 1 of the Internal Revenue Code of 1986 (relating to business related credits) is amended by adding at the end the following new section: SEC. 45O. CONTRIBUTIONS BENEFITING SCIENCE, TECHNOLOGY, ENGINEERING, AND MATHEMATICS EDUCATION AT THE ELEMENTARY AND SECONDARY SCHOOL LEVEL. (a) In General.For purposes of section 38, the elementary and secondary science, technology, engineering, and mathematics (STEM) contributions credit determined under this section for the taxable year is an amount equal to 100 percent of the qualified STEM contributions of the taxpayer for such taxable year. (b) Qualified STEM Contributions.For purposes of this section, the term `qualified STEM contributions' means (1) STEM school contributions, (2) STEM teacher externship expenses, and (3) STEM teacher training expenses. (c) STEM School Contributions.For purposes of this section (1) In general.The term `STEM school contributions' means (A) STEM property contributions, and (B) STEM service contributions. (2) STEM property contributions.The term `STEM property contributions' means the amount which would (but for subsection (f)) be allowed as a deduction under section 170 for a charitable contribution of STEM inventory property if (A) the donee is an elementary or secondary school described in section 170(b)(1)(A)(ii), (B) substantially all of the use of the property by the donee is within the United States or within the defense dependents' education system for educational purposes in any of the grades K12 that are related to the purpose or function of the donee, (C) the original use of the property begins with the donee, (D) the property will fit productively into the donee's education plan, (E) the property is not transferred by the donee in exchange for money, other property, or services, except for shipping, installation and transfer costs, and (F) the donee's use and disposition of the property will be in accordance with the provisions of subparagraphs (B) and (E). The determination of the amount of deduction under section 170 for purposes of this paragraph shall be made as if the limitation under section 170(e)(3)(B) applied to all STEM inventory property. (3) STEM service contributions.The term `STEM service contributions' means the amount paid or incurred during the taxable year for STEM services provided in the United States or in the defense dependents' education system for the exclusive benefit of students at an elementary or secondary school described in section 170(b)(1)(A)(ii) but only if (A) the taxpayer is engaged in the trade or business of providing such services on a commercial basis, and (B) no charge is imposed for providing such services. (4) STEM inventory property.The term `STEM inventory property' means, with respect to any contribution to a school, any property (A) which is described in paragraph (1) or (2) of section 1221(a) with respect to the donor, and (B) which is determined by the school to be needed by the school in providing education in grades K12 in the areas of science, technology, engineering, or mathematics. (5) STEM services.The term `STEM services' means, with respect to any contribution to a school, any service determined by the school to be needed by the school in providing education in grades K12 in the areas of science, technology, engineering, or mathematics, including teaching courses of instruction at such school in any such area. (6) Defense dependents' education system.For purposes of this subsection, the term `defense dependents' education system' means the program established and operated under the Defense Dependents' Education Act of 1978 (20 U.S.C. 921 et seq.). (d) STEM Teacher Externship Expenses.For purposes of this section (1) In general.The term `STEM teacher externship expenses' means any amount paid or incurred to carry out a STEM externship program of the taxpayer but only to the extent that such amount is attributable to the participation in such program of any eligible STEM teacher, including amounts paid to such a teacher as a stipend while participating in such program. (2) STEM externship program.The term `STEM externship program' means any program (A) established by a taxpayer engaged in a trade or business within an area of science, technology, engineering, or mathematics, and (B) under which eligible STEM teachers receive training to enhance their teaching skills in the areas of science, technology, engineering, or mathematics or otherwise improve their knowledge in such areas. (3) Eligible stem teacher.The term `eligible STEM teacher' means any individual (A) who is a teacher in grades K12 at an educational organization described in section 170(b)(1)(A)(ii) which is located in the United States or which is located on a United States military base outside the United States, and (B) whose teaching responsibilities at such school include, or are likely to include, any course in the areas of science, technology, engineering, or mathematics. (e) STEM Teacher Training Expenses.The term `STEM teacher training expenses' means any amount paid or incurred by a taxpayer engaged in a trade or business within an area of science, technology, engineering, or mathematics which is attributable to the participation of any eligible STEM teacher in a regular training program provided to employees of the taxpayer which is determined by such teacher's school as enhancing such teacher's teaching skills in the areas of science, technology, engineering, or mathematics. (f) Denial of Double Benefit.No deduction shall be allowed under this chapter for any amount allowed as a credit under this section. (b) Conforming Amendments. (1) Section 38(b) of such Code is amended by striking plus at the end of paragraph (30), by striking the period at the end of paragraph (31), and inserting , plus, and by adding at the end the following new paragraph: (32) the elementary and secondary science, technology, engineering, and mathematics (STEM) contributions credit determined under section 45O. (2) The table of sections for subpart D of part IV of subchapter A of chapter 1 of such Code is amended by adding at the end the following new item: Sec. 45O. Contributions benefiting science, technology, engineering, and mathematics education at the elementary and secondary school level. (c) Effective Date.The amendments made by this section shall apply to taxable years beginning after the date of the enactment of this Act.\n"
     ]
    }
   ],
   "source": [
    "print(billsum.iloc[0, 0])"
   ]
  },
  {
   "cell_type": "code",
   "execution_count": 7,
   "metadata": {},
   "outputs": [
    {
     "data": {
      "text/html": [
       "<div>\n",
       "<style scoped>\n",
       "    .dataframe tbody tr th:only-of-type {\n",
       "        vertical-align: middle;\n",
       "    }\n",
       "\n",
       "    .dataframe tbody tr th {\n",
       "        vertical-align: top;\n",
       "    }\n",
       "\n",
       "    .dataframe thead th {\n",
       "        text-align: right;\n",
       "    }\n",
       "</style>\n",
       "<table border=\"1\" class=\"dataframe\">\n",
       "  <thead>\n",
       "    <tr style=\"text-align: right;\">\n",
       "      <th></th>\n",
       "      <th>text</th>\n",
       "      <th>summary</th>\n",
       "    </tr>\n",
       "  </thead>\n",
       "  <tbody>\n",
       "    <tr>\n",
       "      <th>0</th>\n",
       "      <td>SECTION 1. SHORT TITLE. This Act may be cited ...</td>\n",
       "      <td>National Science Education Tax Incentive for B...</td>\n",
       "    </tr>\n",
       "    <tr>\n",
       "      <th>1</th>\n",
       "      <td>SECTION 1. SHORT TITLE. This Act may be cited ...</td>\n",
       "      <td>Small Business Expansion and Hiring Act of 201...</td>\n",
       "    </tr>\n",
       "    <tr>\n",
       "      <th>2</th>\n",
       "      <td>SECTION 1. RELEASE OF DOCUMENTS CAPTURED IN IR...</td>\n",
       "      <td>Requires the Director of National Intelligence...</td>\n",
       "    </tr>\n",
       "    <tr>\n",
       "      <th>3</th>\n",
       "      <td>SECTION 1. SHORT TITLE. This Act may be cited ...</td>\n",
       "      <td>National Cancer Act of 2003 Amends the Public ...</td>\n",
       "    </tr>\n",
       "    <tr>\n",
       "      <th>4</th>\n",
       "      <td>SECTION 1. SHORT TITLE. This Act may be cited ...</td>\n",
       "      <td>Military Callup Relief Act Amends the Internal...</td>\n",
       "    </tr>\n",
       "  </tbody>\n",
       "</table>\n",
       "</div>"
      ],
      "text/plain": [
       "                                                text   \n",
       "0  SECTION 1. SHORT TITLE. This Act may be cited ...  \\\n",
       "1  SECTION 1. SHORT TITLE. This Act may be cited ...   \n",
       "2  SECTION 1. RELEASE OF DOCUMENTS CAPTURED IN IR...   \n",
       "3  SECTION 1. SHORT TITLE. This Act may be cited ...   \n",
       "4  SECTION 1. SHORT TITLE. This Act may be cited ...   \n",
       "\n",
       "                                             summary  \n",
       "0  National Science Education Tax Incentive for B...  \n",
       "1  Small Business Expansion and Hiring Act of 201...  \n",
       "2  Requires the Director of National Intelligence...  \n",
       "3  National Cancer Act of 2003 Amends the Public ...  \n",
       "4  Military Callup Relief Act Amends the Internal...  "
      ]
     },
     "execution_count": 7,
     "metadata": {},
     "output_type": "execute_result"
    }
   ],
   "source": [
    "billsum.head()"
   ]
  },
  {
   "attachments": {},
   "cell_type": "markdown",
   "metadata": {},
   "source": [
    "### Memory optimization"
   ]
  },
  {
   "cell_type": "code",
   "execution_count": 8,
   "metadata": {},
   "outputs": [
    {
     "name": "stdout",
     "output_type": "stream",
     "text": [
      "Total memory: 16866471936\n",
      "Available memory: 8721133568\n",
      "Used memory: 8145338368\n",
      "Memory usage percentage: 48.3\n",
      "Maximum memory: 8721133568\n"
     ]
    }
   ],
   "source": [
    "import psutil\n",
    "\n",
    "# Get memory information\n",
    "memory_info = psutil.virtual_memory()\n",
    "\n",
    "# Total physical memory\n",
    "total_memory = memory_info.total\n",
    "\n",
    "# Available memory\n",
    "available_memory = memory_info.available\n",
    "\n",
    "# Used memory\n",
    "used_memory = memory_info.used\n",
    "\n",
    "# Memory usage percentage\n",
    "memory_percent = memory_info.percent\n",
    "\n",
    "# Maximum memory that can be consumed by Python\n",
    "max_memory = memory_info.available\n",
    "\n",
    "print(\"Total memory:\", total_memory)\n",
    "print(\"Available memory:\", available_memory)\n",
    "print(\"Used memory:\", used_memory)\n",
    "print(\"Memory usage percentage:\", memory_percent)\n",
    "print(\"Maximum memory:\", max_memory)"
   ]
  }
 ],
 "metadata": {
  "kernelspec": {
   "display_name": ".venv",
   "language": "python",
   "name": "python3"
  },
  "language_info": {
   "codemirror_mode": {
    "name": "ipython",
    "version": 3
   },
   "file_extension": ".py",
   "mimetype": "text/x-python",
   "name": "python",
   "nbconvert_exporter": "python",
   "pygments_lexer": "ipython3",
   "version": "3.11.3"
  },
  "orig_nbformat": 4
 },
 "nbformat": 4,
 "nbformat_minor": 2
}

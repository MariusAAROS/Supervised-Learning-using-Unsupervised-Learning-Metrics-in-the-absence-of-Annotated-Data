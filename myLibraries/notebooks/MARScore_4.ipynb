{
 "cells": [
  {
   "cell_type": "code",
   "execution_count": 1,
   "metadata": {},
   "outputs": [
    {
     "name": "stderr",
     "output_type": "stream",
     "text": [
      "c:\\Pro\\Stages\\A4 - DVRC\\Work\\Supervised-Learning-using-Unsupervised-Learning-Metrics-in-the-absence-of-Annotated-Data\\.venv\\Lib\\site-packages\\tqdm\\auto.py:21: TqdmWarning: IProgress not found. Please update jupyter and ipywidgets. See https://ipywidgets.readthedocs.io/en/stable/user_install.html\n",
      "  from .autonotebook import tqdm as notebook_tqdm\n",
      "c:\\Pro\\Stages\\A4 - DVRC\\Work\\Supervised-Learning-using-Unsupervised-Learning-Metrics-in-the-absence-of-Annotated-Data\\.venv\\Lib\\site-packages\\umap\\distances.py:1063: NumbaDeprecationWarning: \u001b[1mThe 'nopython' keyword argument was not supplied to the 'numba.jit' decorator. The implicit default value for this argument is currently False, but it will be changed to True in Numba 0.59.0. See https://numba.readthedocs.io/en/stable/reference/deprecation.html#deprecation-of-object-mode-fall-back-behaviour-when-using-jit for details.\u001b[0m\n",
      "  @numba.jit()\n",
      "c:\\Pro\\Stages\\A4 - DVRC\\Work\\Supervised-Learning-using-Unsupervised-Learning-Metrics-in-the-absence-of-Annotated-Data\\.venv\\Lib\\site-packages\\umap\\distances.py:1071: NumbaDeprecationWarning: \u001b[1mThe 'nopython' keyword argument was not supplied to the 'numba.jit' decorator. The implicit default value for this argument is currently False, but it will be changed to True in Numba 0.59.0. See https://numba.readthedocs.io/en/stable/reference/deprecation.html#deprecation-of-object-mode-fall-back-behaviour-when-using-jit for details.\u001b[0m\n",
      "  @numba.jit()\n",
      "c:\\Pro\\Stages\\A4 - DVRC\\Work\\Supervised-Learning-using-Unsupervised-Learning-Metrics-in-the-absence-of-Annotated-Data\\.venv\\Lib\\site-packages\\umap\\distances.py:1086: NumbaDeprecationWarning: \u001b[1mThe 'nopython' keyword argument was not supplied to the 'numba.jit' decorator. The implicit default value for this argument is currently False, but it will be changed to True in Numba 0.59.0. See https://numba.readthedocs.io/en/stable/reference/deprecation.html#deprecation-of-object-mode-fall-back-behaviour-when-using-jit for details.\u001b[0m\n",
      "  @numba.jit()\n",
      "c:\\Pro\\Stages\\A4 - DVRC\\Work\\Supervised-Learning-using-Unsupervised-Learning-Metrics-in-the-absence-of-Annotated-Data\\.venv\\Lib\\site-packages\\umap\\umap_.py:660: NumbaDeprecationWarning: \u001b[1mThe 'nopython' keyword argument was not supplied to the 'numba.jit' decorator. The implicit default value for this argument is currently False, but it will be changed to True in Numba 0.59.0. See https://numba.readthedocs.io/en/stable/reference/deprecation.html#deprecation-of-object-mode-fall-back-behaviour-when-using-jit for details.\u001b[0m\n",
      "  @numba.jit()\n",
      "Some weights of the model checkpoint at bert-base-uncased were not used when initializing BertModel: ['cls.seq_relationship.bias', 'cls.predictions.decoder.weight', 'cls.predictions.transform.LayerNorm.bias', 'cls.predictions.bias', 'cls.seq_relationship.weight', 'cls.predictions.transform.LayerNorm.weight', 'cls.predictions.transform.dense.weight', 'cls.predictions.transform.dense.bias']\n",
      "- This IS expected if you are initializing BertModel from the checkpoint of a model trained on another task or with another architecture (e.g. initializing a BertForSequenceClassification model from a BertForPreTraining model).\n",
      "- This IS NOT expected if you are initializing BertModel from the checkpoint of a model that you expect to be exactly identical (initializing a BertForSequenceClassification model from a BertForSequenceClassification model).\n"
     ]
    }
   ],
   "source": [
    "import pandas as pd\n",
    "import sys\n",
    "sys.path.append(r\"C:\\Pro\\Stages\\A4 - DVRC\\Work\\Supervised-Learning-using-Unsupervised-Learning-Metrics-in-the-absence-of-Annotated-Data\\myLibraries\")\n",
    "from MARScore.score import MARSCore\n",
    "from custom_score.utils import cleanString\n",
    "from datasets_loaders.loaders import load_billsum\n",
    "from sklearn.cluster import SpectralClustering"
   ]
  },
  {
   "attachments": {},
   "cell_type": "markdown",
   "metadata": {},
   "source": [
    "\n",
    "### Billsum experimentation"
   ]
  },
  {
   "cell_type": "code",
   "execution_count": null,
   "metadata": {},
   "outputs": [],
   "source": [
    "dataset = load_billsum()\n",
    "subset = dataset.iloc[:2, :]"
   ]
  },
  {
   "cell_type": "code",
   "execution_count": null,
   "metadata": {},
   "outputs": [],
   "source": [
    "#ms = MARSCore(subset[\"text\"].to_list(), subset[\"summary\"].to_list(), clusterizer=SpectralClustering(affinity='nearest_neighbors'))\n",
    "ms = MARSCore(subset[\"text\"].to_list(), subset[\"summary\"].to_list())\n",
    "ms.compute()"
   ]
  },
  {
   "cell_type": "code",
   "execution_count": null,
   "metadata": {},
   "outputs": [],
   "source": [
    "_=ms.assess()"
   ]
  },
  {
   "cell_type": "code",
   "execution_count": null,
   "metadata": {},
   "outputs": [],
   "source": [
    "print(ms)"
   ]
  },
  {
   "attachments": {},
   "cell_type": "markdown",
   "metadata": {},
   "source": [
    "### Pubmed experimentation"
   ]
  },
  {
   "cell_type": "code",
   "execution_count": 2,
   "metadata": {},
   "outputs": [],
   "source": [
    "dataset = pd.read_json(r'C:\\Pro\\Stages\\A4 - DVRC\\Work\\Datasets\\pubmed\\test.json', lines=True)\n",
    "dataset = dataset[[\"article_text\", \"abstract_text\"]]\n",
    "cleaner = lambda x: \". \".join(x).replace(\"<S>\", \"\").strip()\n",
    "format_dot = lambda x: x.replace(\" .\", \".\")\n",
    "dataset.loc[:,\"abstract_text\"] = dataset[\"abstract_text\"].replace(regex=r\"\\[[^\\]]*\\]\", value=\"\")\n",
    "dataset.loc[:,\"article_text\"] = dataset[\"article_text\"].replace(regex=r\"\\[[^\\]]*\\]\", value=\"\")\n",
    "dataset.loc[:,\"abstract_text\"] = dataset[\"abstract_text\"].map(cleaner)\n",
    "dataset.loc[:,\"article_text\"] = dataset[\"article_text\"].map(cleaner)\n",
    "dataset.loc[:,\"abstract_text\"] = dataset[\"abstract_text\"].map(cleanString)\n",
    "dataset.loc[:,\"article_text\"] = dataset[\"article_text\"].map(cleanString)\n",
    "dataset.loc[:,\"abstract_text\"] = dataset[\"abstract_text\"].map(format_dot)\n",
    "dataset.loc[:,\"article_text\"] = dataset[\"article_text\"].map(format_dot)\n",
    "dataset = dataset.rename(columns={\"abstract_text\": \"summary\",\n",
    "                        \"article_text\": \"text\"})"
   ]
  },
  {
   "cell_type": "code",
   "execution_count": 3,
   "metadata": {},
   "outputs": [
    {
     "data": {
      "text/html": [
       "<div>\n",
       "<style scoped>\n",
       "    .dataframe tbody tr th:only-of-type {\n",
       "        vertical-align: middle;\n",
       "    }\n",
       "\n",
       "    .dataframe tbody tr th {\n",
       "        vertical-align: top;\n",
       "    }\n",
       "\n",
       "    .dataframe thead th {\n",
       "        text-align: right;\n",
       "    }\n",
       "</style>\n",
       "<table border=\"1\" class=\"dataframe\">\n",
       "  <thead>\n",
       "    <tr style=\"text-align: right;\">\n",
       "      <th></th>\n",
       "      <th>text</th>\n",
       "      <th>summary</th>\n",
       "    </tr>\n",
       "  </thead>\n",
       "  <tbody>\n",
       "    <tr>\n",
       "      <th>3</th>\n",
       "      <td>congenital adrenal hyperplasia ( cah ) refers ...</td>\n",
       "      <td>congenital adrenal hyperplasia is a group of a...</td>\n",
       "    </tr>\n",
       "    <tr>\n",
       "      <th>4</th>\n",
       "      <td>type 1 diabetes ( t1d ) results from the destr...</td>\n",
       "      <td>objective(s):pentoxifylline is an immunomodula...</td>\n",
       "    </tr>\n",
       "  </tbody>\n",
       "</table>\n",
       "</div>"
      ],
      "text/plain": [
       "                                                text   \n",
       "3  congenital adrenal hyperplasia ( cah ) refers ...  \\\n",
       "4  type 1 diabetes ( t1d ) results from the destr...   \n",
       "\n",
       "                                             summary  \n",
       "3  congenital adrenal hyperplasia is a group of a...  \n",
       "4  objective(s):pentoxifylline is an immunomodula...  "
      ]
     },
     "execution_count": 3,
     "metadata": {},
     "output_type": "execute_result"
    }
   ],
   "source": [
    "subset = dataset.iloc[3:5, :]\n",
    "subset"
   ]
  },
  {
   "cell_type": "code",
   "execution_count": 4,
   "metadata": {},
   "outputs": [
    {
     "name": "stdout",
     "output_type": "stream",
     "text": [
      "congenital adrenal hyperplasia ( cah ) refers to a group of autosomal recessive disorders caused by an enzyme deficiency which leads to defects in biosynthesis of steroid precursors. depending on the severity and degree of 21 hydroxylase deficiency , the clinical spectrum may vary from mild form of non classical cah to classic cah. however , the non classical cah variant is more common with a prevalence rate of 1 in 1000. it also helps in maintaining normal levels of precursors by suppressing adreno cortico trophic hormone ( acth ). during childhood. , the management is largely focused on achieving normal growth and attaining appropriate final adult height. johns medical college hospital , bangalore by the department of endocrinology on patients diagnosed to have cah and seen in the outpatient clinic between january 2012 and october 2012. during this period. data regarding demography , clinical presentation at time of diagnosis , treatment details , height sds and bmi were collected. all patients underwent biochemical testing for 17 hydroxy progesterone ( 17 ohp ) levels for assessment of adequacy of therapy. bone age assessment with left hand and wrist. bmi was calculated for all patients and obesity was defined using who charts as values above 95th percentile. 17 ohp levels between 1 ng / ml and 12 ng / ml were considered appropriate ; values below 1 ng / ml suggested suppression and over treatment and values above 12 ng / ml suggested under treatment. 29 patients were included in the study of which 22 were females ( 76% ) and 7 were males ( 24% ). based on the cross sectional data collected , 11 patients were adults ( age > 18 ) and 18 patients were children ( 62% ). among the males ,. one child was identified at birth via a neonatal screening program , one child presented with early pubarche , the other 5 infants presented between their 3rd and 6th week of life with features suggestive of adrenal crisis poor feeding , vomiting and failure to gain weight. one of the male patients incidentally also had a penoscrotal hypospadias which was surgically corrected. among the females ,. 9 infants were identified at birth due to presence of genital ambiguity ( 40% ) , 1 presented with symptoms of adrenal crisis at 4 weeks of life , 4 patients presented in the pre pubertal period due to early onset adrenarche ( 18% ) , 5 patients presented in the late adolescent period with marked virilization ( 23% ) and 3 patients presented with features of poly cystic ovarian disease ( pcos ). all the five patients who presented in the late adolescent period had obvious genital ambiguity from birth , however , they sought medical attention only much later due to marked virilization and failure to attain menarche. one among them had actually been evaluated and even underwent a clitoroplasty at a young age , but unfortunately , the diagnosis of cah was missed as she was mistakenly categorized as probable ovo testicular dsd due to presence of mullerian structures with a phallic length of around 6 cm. all these 5 women had a masculine built at presentation with poor breast development , severe hirsutism , muscular body habitus , temporal balding and varying degrees of deepening of voice. the non classical cah ( nccah ) patients presented in adulthood with complaints of irregular cycles and hirsutism ; they had no features of virilisation. simple virilizing was the most common sub class seen among the women ( 81% ) whereas the salt wasting type was predominant among boys ( 85% ). around 35% of patients had short stature as defined by height sds < 2.0 ; 2 patients who presented with adrenarche had increase in height sds , however , their bone age was also correspondingly advanced. all the children were treated with hydrocortisone ; almost all adult patients were on dexamethasone. none of the nccah patients were treated with glucocorticoids ; they were on anti androgen therapy along with oral contraceptive pills. most adult classic cah patients with complaints of hirsutism were treated with either spironolactone or finasteride. pubertal induction with ethinyl estradiol was initiated for three of the adult patients who sought medical care late. analysis of 17 ohp levels revealed that 32% were suppressed with levels less than 1ng / ml ; appropriate in 47% and inadequate in 21% of patients. we report the phenotypic features of a cohort of patients with cah being evaluated and managed in a tertiary centre in southern india. in this series ,. the typical presentation of male babies were with adrenal crisis between the 3 and 6 week of life. around 20% of female patients with classic cah. were identified and appropriately treated only after late adolescence even when genital ambiguity was present since birth. short stature was seen in one third of patients on therapy and the average final adult height among patients with classic cah was 142.37 , which was significantly lower than the mean adult height for females in our population. the mean final adult height of 157.5 cm for those with nccah was better than their classic cah counterpart. obesity and hypertension were not found to be significantly higher in this cohort of cah patients. one third of patients had suppressed 17 ohp levels suggestive of over replacement therapy which may also contribute to the reduction in the final adult stature.\n"
     ]
    }
   ],
   "source": [
    "print(subset.iloc[0, 0])"
   ]
  },
  {
   "cell_type": "code",
   "execution_count": 5,
   "metadata": {},
   "outputs": [],
   "source": [
    "ms = MARSCore(subset[\"text\"].to_list(), subset[\"summary\"].to_list())\n",
    "ms.compute()"
   ]
  },
  {
   "cell_type": "code",
   "execution_count": 6,
   "metadata": {},
   "outputs": [
    {
     "name": "stdout",
     "output_type": "stream",
     "text": [
      "Scores: \n",
      "   CBERT-R  CBERT-P  CBERT-F  BERTScore-R  BERTScore-P  BERTScore-F  BARTScore   R-1   R-2   R-L\n",
      "0     0.83     0.68     0.75         0.88         0.86         0.87       0.44  0.39  0.22  0.24\n",
      "1     0.88     0.73     0.80         0.85         0.82         0.84       0.45  0.29  0.12  0.15\n",
      "\n",
      "Correlations: \n",
      "               pearson_CBERT_R-1  pearson_CBERT_R-2  pearson_CBERT_R-L  pearson_BERT_R-1  pearson_BERT_R-2  pearson_BERT_R-l  pearson_BART_R-1  pearson_BART_R-2  pearson_BART_R-l\n",
      "Pearson score               -1.0               -1.0               -1.0               1.0               1.0               1.0              -1.0              -1.0              -1.0\n",
      "p-value                      1.0                1.0                1.0               1.0               1.0               1.0               1.0               1.0               1.0\n"
     ]
    }
   ],
   "source": [
    "_=ms.assess()"
   ]
  },
  {
   "cell_type": "code",
   "execution_count": 8,
   "metadata": {},
   "outputs": [
    {
     "name": "stdout",
     "output_type": "stream",
     "text": [
      "['congenital', '##ren', '##al', 'hyper', '##pl', '##asia', '##h', 'refers', 'group', 'auto', '##som', '##al', 'recess', '##ive', 'disorders', 'caused', 'enzyme', 'deficiency', 'which', 'leads', 'defects', 'bio', '##sy', '##nt', '##hesis', 'ste', '##roid', 'precursor', '##s', '.', 'depending', 'the', 'severity', 'and', 'degree', 'hydro', '##xy', '##lase', 'deficiency', 'the', 'clinical', 'spectrum', 'may', 'vary', 'from', 'mild', 'form', 'non', 'classical', '##h', 'classic', '##h', '.', 'however', 'the', 'non', 'classical', '##h', 'variant', 'more', 'common', 'with', 'prevalence', 'rate', '1000', '.', 'also', 'helps', 'maintaining', 'normal', 'levels', 'precursor', '##s', 'suppress', '##ing', '##ren', '##o', '##rti', '##co', '##op', '##hic', 'hormone', 'act', '##h', '.', 'during', 'childhood', '.', 'the', 'management', 'largely', 'focused', 'achieving', 'normal', 'growth', 'and', 'attaining', 'appropriate', 'final', 'adult', 'height', '.', 'johns', 'medical', 'college', 'hospital', 'bangalore', 'the', 'department', 'end', '##oc', '##rino', '##logy', 'patients', 'diagnosed', 'have', '##h', 'and', 'seen', 'the', 'out', '##patient', 'clinic', 'between', 'january', '2012', 'and', 'october', '2012', '.', 'during', 'this', 'period', '.', 'data', 'regarding', 'demo', '##graphy', 'clinical', 'presentation', 'time', 'diagnosis', 'treatment', 'details', 'height', '##s', 'and', '##mi', 'were', 'collected', '.', 'all', 'patients', 'underwent', 'bio', '##chemical', 'testing', 'for', 'hydro', '##xy', 'pro', '##ges', '##ter', '##one', '##p', 'levels', 'for', 'assessment', '##e', '##qua', '##cy', 'therapy', '.', 'bone', 'age', 'assessment', 'with', 'left', 'hand', 'and', 'wrist', '.', '##mi', 'was', 'calculated', 'for', 'all', 'patients', 'and', 'obesity', 'was', 'defined', 'using', 'who', 'charts', 'values', 'above', '##th', 'percent', '##ile', '.', '##p', 'levels', 'between', 'and', 'were', 'considered', 'appropriate', 'values', 'below', 'suggested', 'suppression', 'and', 'over', 'treatment', 'and', 'values', 'above', 'suggested', 'under', 'treatment', '.', 'patients', 'were', 'included', 'the', 'study', 'which', 'were', 'females', 'and', 'were', 'males', '.', 'based', 'the', 'cross', 'sectional', 'data', 'collected', 'patients', 'were', 'adults', 'age', 'and', 'patients', 'were', 'children', '.', 'among', 'the', 'males', '.', 'one', 'child', 'was', 'identified', 'birth', 'via', 'neon', '##atal', 'screening', 'program', 'one', 'child', 'presented', 'with', 'early', 'pub', '##ar', '##che', 'the', 'other', 'infants', 'presented', 'between', 'their', '3rd', 'and', '6th', 'week', 'life', 'with', 'features', 'suggest', '##ive', '##ren', '##al', 'crisis', 'poor', 'feeding', 'vomiting', 'and', 'failure', 'gain', 'weight', '.', 'one', 'the', 'male', 'patients', 'incident', '##ally', 'also', 'had', 'pen', '##os', '##cr', '##ota', '##l', '##yp', '##os', '##pad', '##ias', 'which', 'was', 'surgical', '##ly', 'corrected', '.', 'among', 'the', 'females', '.', 'infants', 'were', 'identified', 'birth', 'due', 'presence', 'gen', '##ital', 'ambiguity', 'presented', 'with', 'symptoms', '##ren', '##al', 'crisis', 'weeks', 'life', 'patients', 'presented', 'the', 'pre', 'pub', '##ert', '##al', 'period', 'due', 'early', 'onset', '##ren', '##ar', '##che', 'patients', 'presented', 'the', 'late', 'adolescent', 'she', 'was', 'mistakenly', 'categorized', 'probable', '##vo', 'test', '##icular', '##d', 'due', 'presence', 'muller', '##ian', 'structures', 'with', '##all', '##ic', 'length', 'around', '.', 'all', 'these', 'women', 'had', 'masculine', 'built', 'presentation', 'with', 'poor', 'breast', 'development', 'severe', '##rs', '##uti', '##sm', 'muscular', 'body', 'habit', '##us', 'temporal', 'bald', '##ing', 'and', 'varying', 'degrees', 'deep', '##ening', 'voice', '.', 'the', 'non', 'classical', '##h', '##ca', '##h', 'patients', 'presented', 'adulthood', 'with', 'complaints', 'irregular', 'cycles', 'and', '##rs', '##uti', '##sm', 'they', 'had', 'features', '##ril', '##isation', '.', 'simple', '##ril', '##izing', 'was', 'the', 'most', 'common', 'sub', 'class', 'seen', 'among', 'the', 'women', 'whereas', 'the', 'salt', 'wasting', 'type', 'was', 'predominant', 'among', 'boys', '.', 'around', 'patients', 'had', 'short', 'stature', 'defined', 'height', '##s', '.', 'patients', 'who', 'presented', 'with', '##ren', '##ar', '##che', 'had', 'increase', 'height', '##s', 'however', 'their', 'bone', 'age', 'was', 'also', 'corresponding', '##ly', 'advanced', '.', 'all', 'the', 'children', 'were', 'treated', 'with', 'hydro', '##cor', '##tis', '##one', 'almost', 'all', 'adult', 'patients', 'were', 'dex', '##ame', '##tha', '##son', '##e', '.', 'none', 'the', '##ca', '##h', 'patients', 'were', 'treated', 'with', '##lu', '##co', '##cor', '##tic', '##oids', 'they', 'were', 'anti', 'and', '##rogen', 'therapy', 'along', 'with', 'oral', 'contra', '##ceptive', 'pills', '.', 'most', 'adult', 'classic', '##h', 'patients', 'with', 'complaints', '##rs', '##uti', '##sm', 'were', 'treated', 'with', 'either', '##iro', '##no', '##la', '##cton', '##e', 'fin', '##aster', '##ide', '.', 'pub', '##ert', '##al', 'induction', 'with', '##hin', '##yl', 'est', '##rad', '##iol', 'was', 'initiated', 'for', 'three', 'the', 'adult', 'patients', 'who', 'sought', 'medical', 'care', 'late', '.', 'analysis', '##p', 'levels', 'revealed', 'that', 'were', 'suppressed', 'with', 'levels', 'less', 'than', '##ng', 'appropriate', 'and', 'inadequate', 'patients', '.', 'report', 'the', '##eno', '##typic', 'features', '##hort', 'patients', 'with', '##h', 'being', 'evaluated', 'and', 'managed', 'tertiary', 'centre', 'southern', 'india', '.', 'this', 'series', '.', 'the', 'typical', 'presentation', 'male', 'babies', 'were', 'with', '##ren', '##al', 'crisis', 'between', 'the', 'and', 'week', 'life', '.', 'around', 'female', 'patients', 'with', 'classic', '##h', '.', 'were', 'identified', 'and', 'appropriately', 'treated', 'only', 'after', 'late', 'adolescence', 'even', 'when', 'gen', '##ital', 'ambiguity', 'was', 'present', 'since', 'birth', '.', 'short', 'stature', 'was', 'seen', 'one', 'third', 'patients', 'therapy', 'and', 'the', 'average', 'final', 'adult', 'height', 'among', 'patients', 'with', 'classic', '##h', 'was', '142', '.', 'which', 'was', 'significantly', 'lower', 'than', 'the', 'mean', 'adult', 'height', 'for', 'females', 'our', 'population', '.', 'the', 'mean', 'final', 'adult', 'height', '157', '.', 'for', 'those', 'with', '##ca', '##h', 'was', 'better', 'than', 'their', 'classic', '##h', 'counterpart', '.', 'obesity', 'and', 'hyper', '##tension', 'were', 'not', 'found', 'significantly', 'higher', 'this', '##hort', '##h', 'patients', '.', 'one', 'third', 'patients', 'had', 'suppressed', '##p', 'levels', 'suggest', '##ive', 'over', 'replacement', 'therapy', 'which']\n"
     ]
    }
   ],
   "source": [
    "print(ms.labels[0])"
   ]
  },
  {
   "attachments": {},
   "cell_type": "markdown",
   "metadata": {},
   "source": [
    "### Spectral Clustering - Mincut"
   ]
  },
  {
   "cell_type": "code",
   "execution_count": null,
   "metadata": {},
   "outputs": [],
   "source": [
    "from sklearn.cluster import SpectralClustering\n",
    "from MARScore.utils import *\n",
    "import hdbscan"
   ]
  },
  {
   "cell_type": "code",
   "execution_count": null,
   "metadata": {},
   "outputs": [],
   "source": [
    "v = ms.vectors\n",
    "l = ms.labels"
   ]
  },
  {
   "cell_type": "code",
   "execution_count": null,
   "metadata": {},
   "outputs": [],
   "source": [
    "clusterer = SpectralClustering(affinity='nearest_neighbors')\n",
    "v_clustered = clusterer.fit(v[0])\n"
   ]
  },
  {
   "cell_type": "code",
   "execution_count": null,
   "metadata": {},
   "outputs": [],
   "source": [
    "v_clustered.labels_.astype(int)"
   ]
  },
  {
   "cell_type": "code",
   "execution_count": null,
   "metadata": {},
   "outputs": [],
   "source": [
    "clusterer.__module__"
   ]
  },
  {
   "cell_type": "code",
   "execution_count": null,
   "metadata": {},
   "outputs": [],
   "source": [
    "hdbscan.HDBSCAN().__module__"
   ]
  }
 ],
 "metadata": {
  "kernelspec": {
   "display_name": ".venv",
   "language": "python",
   "name": "python3"
  },
  "language_info": {
   "codemirror_mode": {
    "name": "ipython",
    "version": 3
   },
   "file_extension": ".py",
   "mimetype": "text/x-python",
   "name": "python",
   "nbconvert_exporter": "python",
   "pygments_lexer": "ipython3",
   "version": "3.11.3"
  },
  "orig_nbformat": 4
 },
 "nbformat": 4,
 "nbformat_minor": 2
}

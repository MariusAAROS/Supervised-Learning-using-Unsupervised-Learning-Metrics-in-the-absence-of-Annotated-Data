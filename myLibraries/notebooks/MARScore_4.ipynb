{
 "cells": [
  {
   "cell_type": "code",
   "execution_count": 1,
   "metadata": {},
   "outputs": [
    {
     "name": "stderr",
     "output_type": "stream",
     "text": [
      "c:\\Pro\\Stages\\A4 - DVRC\\Work\\Supervised-Learning-using-Unsupervised-Learning-Metrics-in-the-absence-of-Annotated-Data\\.venv\\Lib\\site-packages\\tqdm\\auto.py:21: TqdmWarning: IProgress not found. Please update jupyter and ipywidgets. See https://ipywidgets.readthedocs.io/en/stable/user_install.html\n",
      "  from .autonotebook import tqdm as notebook_tqdm\n",
      "Some weights of the model checkpoint at bert-base-uncased were not used when initializing BertModel: ['cls.predictions.bias', 'cls.seq_relationship.weight', 'cls.predictions.transform.dense.bias', 'cls.predictions.transform.LayerNorm.weight', 'cls.predictions.transform.LayerNorm.bias', 'cls.seq_relationship.bias', 'cls.predictions.transform.dense.weight', 'cls.predictions.decoder.weight']\n",
      "- This IS expected if you are initializing BertModel from the checkpoint of a model trained on another task or with another architecture (e.g. initializing a BertForSequenceClassification model from a BertForPreTraining model).\n",
      "- This IS NOT expected if you are initializing BertModel from the checkpoint of a model that you expect to be exactly identical (initializing a BertForSequenceClassification model from a BertForSequenceClassification model).\n",
      "c:\\Pro\\Stages\\A4 - DVRC\\Work\\Supervised-Learning-using-Unsupervised-Learning-Metrics-in-the-absence-of-Annotated-Data\\.venv\\Lib\\site-packages\\umap\\distances.py:1063: NumbaDeprecationWarning: \u001b[1mThe 'nopython' keyword argument was not supplied to the 'numba.jit' decorator. The implicit default value for this argument is currently False, but it will be changed to True in Numba 0.59.0. See https://numba.readthedocs.io/en/stable/reference/deprecation.html#deprecation-of-object-mode-fall-back-behaviour-when-using-jit for details.\u001b[0m\n",
      "  @numba.jit()\n",
      "c:\\Pro\\Stages\\A4 - DVRC\\Work\\Supervised-Learning-using-Unsupervised-Learning-Metrics-in-the-absence-of-Annotated-Data\\.venv\\Lib\\site-packages\\umap\\distances.py:1071: NumbaDeprecationWarning: \u001b[1mThe 'nopython' keyword argument was not supplied to the 'numba.jit' decorator. The implicit default value for this argument is currently False, but it will be changed to True in Numba 0.59.0. See https://numba.readthedocs.io/en/stable/reference/deprecation.html#deprecation-of-object-mode-fall-back-behaviour-when-using-jit for details.\u001b[0m\n",
      "  @numba.jit()\n",
      "c:\\Pro\\Stages\\A4 - DVRC\\Work\\Supervised-Learning-using-Unsupervised-Learning-Metrics-in-the-absence-of-Annotated-Data\\.venv\\Lib\\site-packages\\umap\\distances.py:1086: NumbaDeprecationWarning: \u001b[1mThe 'nopython' keyword argument was not supplied to the 'numba.jit' decorator. The implicit default value for this argument is currently False, but it will be changed to True in Numba 0.59.0. See https://numba.readthedocs.io/en/stable/reference/deprecation.html#deprecation-of-object-mode-fall-back-behaviour-when-using-jit for details.\u001b[0m\n",
      "  @numba.jit()\n",
      "c:\\Pro\\Stages\\A4 - DVRC\\Work\\Supervised-Learning-using-Unsupervised-Learning-Metrics-in-the-absence-of-Annotated-Data\\.venv\\Lib\\site-packages\\umap\\umap_.py:660: NumbaDeprecationWarning: \u001b[1mThe 'nopython' keyword argument was not supplied to the 'numba.jit' decorator. The implicit default value for this argument is currently False, but it will be changed to True in Numba 0.59.0. See https://numba.readthedocs.io/en/stable/reference/deprecation.html#deprecation-of-object-mode-fall-back-behaviour-when-using-jit for details.\u001b[0m\n",
      "  @numba.jit()\n"
     ]
    }
   ],
   "source": [
    "import pandas as pd\n",
    "import sys\n",
    "sys.path.append(r\"C:\\Pro\\Stages\\A4 - DVRC\\Work\\Supervised-Learning-using-Unsupervised-Learning-Metrics-in-the-absence-of-Annotated-Data\\myLibraries\")\n",
    "from MARScore.score import MARSCore\n",
    "from custom_score.utils import cleanString\n",
    "from datasets_loaders.loaders import load_billsum\n",
    "from sklearn.cluster import SpectralClustering, AffinityPropagation\n",
    "from transformers import BertModel, BertTokenizer\n",
    "\n",
    "import matplotlib.pyplot as plt\n",
    "import numpy as np"
   ]
  },
  {
   "attachments": {},
   "cell_type": "markdown",
   "metadata": {},
   "source": [
    "\n",
    "### Billsum experimentation"
   ]
  },
  {
   "cell_type": "code",
   "execution_count": null,
   "metadata": {},
   "outputs": [],
   "source": [
    "dataset = load_billsum()\n",
    "subset = dataset.iloc[:2, :]"
   ]
  },
  {
   "cell_type": "code",
   "execution_count": null,
   "metadata": {},
   "outputs": [],
   "source": [
    "#ms = MARSCore(subset[\"text\"].to_list(), subset[\"summary\"].to_list(), clusterizer=SpectralClustering(affinity='nearest_neighbors'))\n",
    "ms = MARSCore(subset[\"text\"].to_list(), subset[\"summary\"].to_list())\n",
    "ms.compute()"
   ]
  },
  {
   "cell_type": "code",
   "execution_count": null,
   "metadata": {},
   "outputs": [],
   "source": [
    "_=ms.assess()"
   ]
  },
  {
   "cell_type": "code",
   "execution_count": null,
   "metadata": {},
   "outputs": [],
   "source": [
    "print(ms)"
   ]
  },
  {
   "attachments": {},
   "cell_type": "markdown",
   "metadata": {},
   "source": [
    "### Pubmed experimentation"
   ]
  },
  {
   "cell_type": "code",
   "execution_count": 2,
   "metadata": {},
   "outputs": [],
   "source": [
    "dataset = pd.read_json(r'C:\\Pro\\Stages\\A4 - DVRC\\Work\\Datasets\\pubmed\\test.json', lines=True)\n",
    "dataset = dataset[[\"article_text\", \"abstract_text\"]]\n",
    "cleaner = lambda x: \". \".join(x).replace(\"<S>\", \"\").strip()\n",
    "format_dot = lambda x: x.replace(\" .\", \".\")\n",
    "dataset.loc[:,\"abstract_text\"] = dataset[\"abstract_text\"].replace(regex=r\"\\[[^\\]]*\\]\", value=\"\")\n",
    "dataset.loc[:,\"article_text\"] = dataset[\"article_text\"].replace(regex=r\"\\[[^\\]]*\\]\", value=\"\")\n",
    "dataset.loc[:,\"abstract_text\"] = dataset[\"abstract_text\"].map(cleaner)\n",
    "dataset.loc[:,\"article_text\"] = dataset[\"article_text\"].map(cleaner)\n",
    "dataset.loc[:,\"abstract_text\"] = dataset[\"abstract_text\"].map(cleanString)\n",
    "dataset.loc[:,\"article_text\"] = dataset[\"article_text\"].map(cleanString)\n",
    "dataset.loc[:,\"abstract_text\"] = dataset[\"abstract_text\"].map(format_dot)\n",
    "dataset.loc[:,\"article_text\"] = dataset[\"article_text\"].map(format_dot)\n",
    "dataset = dataset.rename(columns={\"abstract_text\": \"summary\",\n",
    "                        \"article_text\": \"text\"})"
   ]
  },
  {
   "cell_type": "code",
   "execution_count": 3,
   "metadata": {},
   "outputs": [
    {
     "data": {
      "text/html": [
       "<div>\n",
       "<style scoped>\n",
       "    .dataframe tbody tr th:only-of-type {\n",
       "        vertical-align: middle;\n",
       "    }\n",
       "\n",
       "    .dataframe tbody tr th {\n",
       "        vertical-align: top;\n",
       "    }\n",
       "\n",
       "    .dataframe thead th {\n",
       "        text-align: right;\n",
       "    }\n",
       "</style>\n",
       "<table border=\"1\" class=\"dataframe\">\n",
       "  <thead>\n",
       "    <tr style=\"text-align: right;\">\n",
       "      <th></th>\n",
       "      <th>text</th>\n",
       "      <th>summary</th>\n",
       "    </tr>\n",
       "  </thead>\n",
       "  <tbody>\n",
       "    <tr>\n",
       "      <th>3</th>\n",
       "      <td>congenital adrenal hyperplasia ( cah ) refers ...</td>\n",
       "      <td>congenital adrenal hyperplasia is a group of a...</td>\n",
       "    </tr>\n",
       "    <tr>\n",
       "      <th>4</th>\n",
       "      <td>type 1 diabetes ( t1d ) results from the destr...</td>\n",
       "      <td>objective(s):pentoxifylline is an immunomodula...</td>\n",
       "    </tr>\n",
       "  </tbody>\n",
       "</table>\n",
       "</div>"
      ],
      "text/plain": [
       "                                                text   \n",
       "3  congenital adrenal hyperplasia ( cah ) refers ...  \\\n",
       "4  type 1 diabetes ( t1d ) results from the destr...   \n",
       "\n",
       "                                             summary  \n",
       "3  congenital adrenal hyperplasia is a group of a...  \n",
       "4  objective(s):pentoxifylline is an immunomodula...  "
      ]
     },
     "execution_count": 3,
     "metadata": {},
     "output_type": "execute_result"
    }
   ],
   "source": [
    "subset = dataset.iloc[3:5, :]\n",
    "subset"
   ]
  },
  {
   "cell_type": "code",
   "execution_count": 4,
   "metadata": {},
   "outputs": [],
   "source": [
    "ms = MARSCore(subset[\"text\"].to_list(),\n",
    "              subset[\"summary\"].to_list(),\n",
    "              precision_level=\"s\",\n",
    "              ratio=5,\n",
    "              n_allowed_elements=7,\n",
    "              extraction_method=\"concat_l4\",\n",
    "              model=BertModel.from_pretrained('aitslab/biobert_huner_gene_v1'),\n",
    "              tokenizer=BertTokenizer.from_pretrained('aitslab/biobert_huner_gene_v1'))\n",
    "              #clusterizer=AffinityPropagation(random_state=0))\n",
    "ms.compute()"
   ]
  },
  {
   "cell_type": "code",
   "execution_count": 5,
   "metadata": {},
   "outputs": [
    {
     "data": {
      "text/plain": [
       "['depending on the severity and degree of 21 hydroxylase deficiency , the clinical spectrum may vary from mild form of non classical cah to classic cah. data regarding demography , clinical presentation at time of diagnosis , treatment details , height sds and bmi were collected. 29 patients were included in the study of which 22 were females ( 76% ) and 7 were males ( 24% ). one child was identified at birth via a neonatal screening program , one child presented with early pubarche , the other 5 infants presented between their 3rd and 6th week of life with features suggestive of adrenal crisis poor feeding , vomiting and failure to gain weight. 9 infants were identified at birth due to presence of genital ambiguity ( 40% ) , 1 presented with symptoms of adrenal crisis at 4 weeks of life , 4 patients presented in the pre pubertal period due to early onset adrenarche ( 18% ) , 5 patients presented in the late adolescent period with marked virilization ( 23% ) and 3 patients presented with features of poly cystic ovarian disease ( pcos ). around 35% of patients had short stature as defined by height sds < 2. the mean final adult height of 157.',\n",
       " 'diabetes was induced by multiple low dose of streptozotocin ( mlds ) injection in male c57bl/6 mice. 5 ) and injected intraperitoneally ( ip ) , within 10 min of preparation , at a dose of 40 mg / kg / day for 5 consecutive days. after aseptic removal , spleens were placed in cold hanks solution and teased apart with a pair of forceps and a needle. mouse splenic lymphocytes ( 110cells / ml ) were incubated in the absence or presence of concanavalin a ( 1. 05 ) to evaluate cell function in terms of insulin release , we measured the plasma insulin levels on day 21 ( figure 2 ). 05 ). this model of diabetes offers some advantages , such as simultaneous appearance of diabetes mellitus in all animals and not having immune abnormalities that may complicate studies in spontaneous diabetes in non obese diabetic ( nod ) mice or bio breeding ( bb ) rats.']"
      ]
     },
     "execution_count": 5,
     "metadata": {},
     "output_type": "execute_result"
    }
   ],
   "source": [
    "ms.summaries"
   ]
  },
  {
   "cell_type": "code",
   "execution_count": 6,
   "metadata": {},
   "outputs": [
    {
     "name": "stderr",
     "output_type": "stream",
     "text": [
      "c:\\Pro\\Stages\\A4 - DVRC\\Work\\Supervised-Learning-using-Unsupervised-Learning-Metrics-in-the-absence-of-Annotated-Data\\.venv\\Lib\\site-packages\\scipy\\stats\\_stats_py.py:4424: ConstantInputWarning: An input array is constant; the correlation coefficient is not defined.\n",
      "  warnings.warn(stats.ConstantInputWarning(msg))\n"
     ]
    },
    {
     "name": "stdout",
     "output_type": "stream",
     "text": [
      "Scores: \n",
      "   CBERT-R  CBERT-P  CBERT-F  BERTScore-R  BERTScore-P  BERTScore-F  BARTScore   R-1   R-2   R-L\n",
      "0     0.75     0.67     0.71         0.84         0.85         0.85       0.34  0.36  0.14  0.24\n",
      "1     0.70     0.68     0.69         0.83         0.85         0.84       0.34  0.51  0.20  0.27\n",
      "\n",
      "Correlations: \n",
      "               pearson_CBERT_R-1  pearson_CBERT_R-2  pearson_CBERT_R-L  pearson_BERT_R-1  pearson_BERT_R-2  pearson_BERT_R-l  pearson_BART_R-1  pearson_BART_R-2  pearson_BART_R-l\n",
      "Pearson score               -1.0               -1.0               -1.0              -1.0              -1.0              -1.0               NaN               NaN               NaN\n",
      "p-value                      1.0                1.0                1.0               1.0               1.0               1.0               NaN               NaN               NaN\n"
     ]
    }
   ],
   "source": [
    "_=ms.assess()"
   ]
  },
  {
   "cell_type": "code",
   "execution_count": 7,
   "metadata": {},
   "outputs": [
    {
     "data": {
      "image/png": "[encoded data removed]",
      "text/plain": [
       "<Figure size 640x480 with 1 Axes>"
      ]
     },
     "metadata": {},
     "output_type": "display_data"
    }
   ],
   "source": [
    "plt.imshow(ms.similarity_matrices[0], cmap='hot', interpolation='nearest')\n",
    "plt.show()"
   ]
  },
  {
   "cell_type": "code",
   "execution_count": 8,
   "metadata": {},
   "outputs": [
    {
     "name": "stdout",
     "output_type": "stream",
     "text": [
      "--------MARScore OBJECT--------\n",
      "\n",
      "Number of Documents : 2\n",
      "Corpus Avg Size     : 11483\n",
      "Refined Avg Size    : 1007\n",
      "\n",
      "-------------------------------\n",
      "\n",
      "Corpus no.1 : 85.0%\n",
      "\u001b[31mcongenital adrenal hyperplasia ( cah ) refers to a group of autosomal recessive disorders caused by an enzyme deficiency which leads to defects in biosynthesis of steroid precursors\u001b[0m.\n",
      "\u001b[92mdepending on the severity and degree of 21 hydroxylase deficiency , the clinical spectrum may vary from mild form of non classical cah to classic cah\u001b[0m.\n",
      "\u001b[31mhowever , the non classical cah variant is more common with a prevalence rate of 1 in 1000\u001b[0m.\n",
      "\u001b[31mit also helps in maintaining normal levels of precursors by suppressing adreno cortico trophic hormone ( acth )\u001b[0m.\n",
      "\u001b[31mduring childhood\u001b[0m.\n",
      "\u001b[31m, the management is largely focused on achieving normal growth and attaining appropriate final adult height\u001b[0m.\n",
      "\u001b[31mjohns medical college hospital , bangalore by the department of endocrinology on patients diagnosed to have cah and seen in the outpatient clinic between january 2012 and october 2012\u001b[0m.\n",
      "\u001b[31mduring this period\u001b[0m.\n",
      "\u001b[92mdata regarding demography , clinical presentation at time of diagnosis , treatment details , height sds and bmi were collected\u001b[0m.\n",
      "\u001b[31mall patients underwent biochemical testing for 17 hydroxy progesterone ( 17 ohp ) levels for assessment of adequacy of therapy\u001b[0m.\n",
      "\u001b[31mbone age assessment with left hand and wrist\u001b[0m.\n",
      "\u001b[31mbmi was calculated for all patients and obesity was defined using who charts as values above 95th percentile\u001b[0m.\n",
      "\u001b[31m17 ohp levels between 1 ng / ml and 12 ng / ml were considered appropriate ; values below 1 ng / ml suggested suppression and over treatment and values above 12 ng / ml suggested under treatment\u001b[0m.\n",
      "\u001b[92m29 patients were included in the study of which 22 were females ( 76% ) and 7 were males ( 24% )\u001b[0m.\n",
      "\u001b[31mbased on the cross sectional data collected , 11 patients were adults ( age > 18 ) and 18 patients were children ( 62% )\u001b[0m.\n",
      "\u001b[31mamong the males ,\u001b[0m.\n",
      "\u001b[92mone child was identified at birth via a neonatal screening program , one child presented with early pubarche , the other 5 infants presented between their 3rd and 6th week of life with features suggestive of adrenal crisis poor feeding , vomiting and failure to gain weight\u001b[0m.\n",
      "\u001b[31mone of the male patients incidentally also had a penoscrotal hypospadias which was surgically corrected\u001b[0m.\n",
      "\u001b[31mamong the females ,\u001b[0m.\n",
      "\u001b[92m9 infants were identified at birth due to presence of genital ambiguity ( 40% ) , 1 presented with symptoms of adrenal crisis at 4 weeks of life , 4 patients presented in the pre pubertal period due to early onset adrenarche ( 18% ) , 5 patients presented in the late adolescent period with marked virilization ( 23% ) and 3 patients presented with features of poly cystic ovarian disease ( pcos )\u001b[0m.\n",
      "\u001b[31mall the five patients who presented in the late adolescent period had obvious genital ambiguity from birth , however , they sought medical attention only much later due to marked virilization and failure to attain menarche\u001b[0m.\n",
      "\u001b[31mone among them had actually been evaluated and even underwent a clitoroplasty at a young age , but unfortunately , the diagnosis of cah was missed as she was mistakenly categorized as probable ovo testicular dsd due to presence of mullerian structures with a phallic length of around 6 cm\u001b[0m.\n",
      "\u001b[31mall these 5 women had a masculine built at presentation with poor breast development , severe hirsutism , muscular body habitus , temporal balding and varying degrees of deepening of voice\u001b[0m.\n",
      "\u001b[31mthe non classical cah ( nccah ) patients presented in adulthood with complaints of irregular cycles and hirsutism ; they had no features of virilisation\u001b[0m.\n",
      "\u001b[31msimple virilizing was the most common sub class seen among the women ( 81% ) whereas the salt wasting type was predominant among boys ( 85% )\u001b[0m.\n",
      "\u001b[92maround 35% of patients had short stature as defined by height sds < 2\u001b[0m.\n",
      "\u001b[31m0 ; 2 patients who presented with adrenarche had increase in height sds , however , their bone age was also correspondingly advanced\u001b[0m.\n",
      "\u001b[31mall the children were treated with hydrocortisone ; almost all adult patients were on dexamethasone\u001b[0m.\n",
      "\u001b[31mnone of the nccah patients were treated with glucocorticoids ; they were on anti androgen therapy along with oral contraceptive pills\u001b[0m.\n",
      "\u001b[31mmost adult classic cah patients with complaints of hirsutism were treated with either spironolactone or finasteride\u001b[0m.\n",
      "\u001b[31mpubertal induction with ethinyl estradiol was initiated for three of the adult patients who sought medical care late\u001b[0m.\n",
      "\u001b[31manalysis of 17 ohp levels revealed that 32% were suppressed with levels less than 1ng / ml ; appropriate in 47% and inadequate in 21% of patients\u001b[0m.\n",
      "\u001b[31mwe report the phenotypic features of a cohort of patients with cah being evaluated and managed in a tertiary centre in southern india\u001b[0m.\n",
      "\u001b[31min this series ,\u001b[0m.\n",
      "\u001b[31mthe typical presentation of male babies were with adrenal crisis between the 3 and 6 week of life\u001b[0m.\n",
      "\u001b[31maround 20% of female patients with classic cah\u001b[0m.\n",
      "\u001b[31mwere identified and appropriately treated only after late adolescence even when genital ambiguity was present since birth\u001b[0m.\n",
      "\u001b[31mshort stature was seen in one third of patients on therapy and the average final adult height among patients with classic cah was 142\u001b[0m.\n",
      "\u001b[31m37 , which was significantly lower than the mean adult height for females in our population\u001b[0m.\n",
      "\u001b[92mthe mean final adult height of 157\u001b[0m.\n",
      "\u001b[31m5 cm for those with nccah was better than their classic cah counterpart\u001b[0m.\n",
      "\u001b[31mobesity and hypertension were not found to be significantly higher in this cohort of cah patients\u001b[0m.\n",
      "\u001b[31mone third of patients had suppressed 17 ohp levels suggestive of over replacement therapy which may also contribute to the reduction in the final adult stature\u001b[0m.\n",
      "\n",
      "-------------------------------\n"
     ]
    }
   ],
   "source": [
    "print(ms)"
   ]
  },
  {
   "cell_type": "code",
   "execution_count": 9,
   "metadata": {},
   "outputs": [
    {
     "data": {
      "application/vnd.plotly.v1+json": {
       "config": {
        "plotlyServerURL": "https://plot.ly"
       },
       "data": [
        {
         "line": {
          "color": "DarkSlateGrey",
          "width": 2
         },
         "marker": {
          "color": [
           0.281924,
           0.089666,
           0.412415
          ],
          "size": 9
         },
         "mode": "markers",
         "name": "congenital",
         "text": [
          "token: congenital || tf   : 1.0 || cluster: 15"
         ],
         "type": "scatter",
         "x": [
          8.346677780151367
         ],
         "y": [
          4.096076488494873
         ]
        },
        {
         "line": {
          "color": "DarkSlateGrey",
          "width": 2
         },
         "marker": {
          "color": [
           0.281924,
           0.089666,
           0.412415
          ],
          "size": 9
         },
         "mode": "markers",
         "name": "##ren",
         "text": [
          "token: ##ren || tf   : 7.0 || cluster: 15"
         ],
         "type": "scatter",
         "x": [
          8.410360336303711
         ],
         "y": [
          4.155815124511719
         ]
        },
        {
         "line": {
          "color": "DarkSlateGrey",
          "width": 2
         },
         "marker": {
          "color": [
           0.281924,
           0.089666,
           0.412415
          ],
          "size": 9
         },
         "mode": "markers",
         "name": "##al",
         "text": [
          "token: ##al || tf   : 7.0 || cluster: 15"
         ],
         "type": "scatter",
         "x": [
          8.385809898376465
         ],
         "y": [
          4.143895626068115
         ]
        },
        {
         "line": {
          "color": "DarkSlateGrey",
          "width": 2
         },
         "marker": {
          "color": [
           0.281924,
           0.089666,
           0.412415
          ],
          "size": 9
         },
         "mode": "markers",
         "name": "hyper",
         "text": [
          "token: hyper || tf   : 2.0 || cluster: 15"
         ],
         "type": "scatter",
         "x": [
          8.367596626281738
         ],
         "y": [
          4.122246742248535
         ]
        },
        {
         "line": {
          "color": "DarkSlateGrey",
          "width": 2
         },
         "marker": {
          "color": [
           0.281924,
           0.089666,
           0.412415
          ],
          "size": 9
         },
         "mode": "markers",
         "name": "##pl",
         "text": [
          "token: ##pl || tf   : 2.0 || cluster: 15"
         ],
         "type": "scatter",
         "x": [
          8.34628677368164
         ],
         "y": [
          4.122318744659424
         ]
        },
        {
         "line": {
          "color": "DarkSlateGrey",
          "width": 2
         },
         "marker": {
          "color": [
           0.281924,
           0.089666,
           0.412415
          ],
          "size": 9
         },
         "mode": "markers",
         "name": "##asia",
         "text": [
          "token: ##asia || tf   : 1.0 || cluster: 15"
         ],
         "type": "scatter",
         "x": [
          8.287604331970215
         ],
         "y": [
          4.04421854019165
         ]
        },
        {
         "line": {
          "color": "DarkSlateGrey",
          "width": 2
         },
         "marker": {
          "color": [
           0.281924,
           0.089666,
           0.412415
          ],
          "size": 9
         },
         "mode": "markers",
         "name": "##h",
         "text": [
          "token: ##h || tf   : 17.0 || cluster: 15"
         ],
         "type": "scatter",
         "x": [
          8.325974464416504
         ],
         "y": [
          4.117886543273926
         ]
        },
        {
         "line": {
          "color": "DarkSlateGrey",
          "width": 2
         },
         "marker": {
          "color": [
           0.282327,
           0.094955,
           0.417331
          ],
          "size": 9
         },
         "mode": "markers",
         "name": "refers",
         "text": [
          "token: refers || tf   : 1.0 || cluster: 16"
         ],
         "type": "scatter",
         "x": [
          8.12770938873291
         ],
         "y": [
          3.8315727710723877
         ]
        },
        {
         "line": {
          "color": "DarkSlateGrey",
          "width": 2
         },
         "marker": {
          "color": [
           0.282327,
           0.094955,
           0.417331
          ],
          "size": 9
         },
         "mode": "markers",
         "name": "group",
         "text": [
          "token: group || tf   : 1.0 || cluster: 16"
         ],
         "type": "scatter",
         "x": [
          8.020896911621094
         ],
         "y": [
          3.7237741947174072
         ]
        },
        {
         "line": {
          "color": "DarkSlateGrey",
          "width": 2
         },
         "marker": {
          "color": [
           0.282327,
           0.094955,
           0.417331
          ],
          "size": 9
         },
         "mode": "markers",
         "name": "auto",
         "text": [
          "token: auto || tf   : 1.0 || cluster: 16"
         ],
         "type": "scatter",
         "x": [
          7.976235389709473
         ],
         "y": [
          3.781426191329956
         ]
        },
        {
         "line": {
          "color": "DarkSlateGrey",
          "width": 2
         },
         "marker": {
          "color": [
           0.282327,
           0.094955,
           0.417331
          ],
          "size": 9
         },
         "mode": "markers",
         "name": "##som",
         "text": [
          "token: ##som || tf   : 1.0 || cluster: 16"
         ],
         "type": "scatter",
         "x": [
          8.04367446899414
         ],
         "y": [
          3.7994024753570557
         ]
        },
        {
         "line": {
          "color": "DarkSlateGrey",
          "width": 2
         },
         "marker": {
          "color": [
           0.282327,
           0.094955,
           0.417331
          ],
          "size": 9
         },
         "mode": "markers",
         "name": "##al",
         "text": [
          "token: ##al || tf   : 7.0 || cluster: 16"
         ],
         "type": "scatter",
         "x": [
          7.940881729125977
         ],
         "y": [
          3.797179698944092
         ]
        },
        {
         "line": {
          "color": "DarkSlateGrey",
          "width": 2
         },
         "marker": {
          "color": [
           0.282327,
           0.094955,
           0.417331
          ],
          "size": 9
         },
         "mode": "markers",
         "name": "recess",
         "text": [
          "token: recess || tf   : 1.0 || cluster: 16"
         ],
         "type": "scatter",
         "x": [
          8.068710327148438
         ],
         "y": [
          3.841535806655884
         ]
        },
        {
         "line": {
          "color": "DarkSlateGrey",
          "width": 2
         },
         "marker": {
          "color": [
           0.282327,
           0.094955,
           0.417331
          ],
          "size": 9
         },
         "mode": "markers",
         "name": "##ive",
         "text": [
          "token: ##ive || tf   : 3.0 || cluster: 16"
         ],
         "type": "scatter",
         "x": [
          7.951507091522217
         ],
         "y": [
          3.743365526199341
         ]
        },
        {
         "line": {
          "color": "DarkSlateGrey",
          "width": 2
         },
         "marker": {
          "color": [
           0.282327,
           0.094955,
           0.417331
          ],
          "size": 9
         },
         "mode": "markers",
         "name": "disorders",
         "text": [
          "token: disorders || tf   : 1.0 || cluster: 16"
         ],
         "type": "scatter",
         "x": [
          7.954550743103027
         ],
         "y": [
          3.700169324874878
         ]
        },
        {
         "line": {
          "color": "DarkSlateGrey",
          "width": 2
         },
         "marker": {
          "color": [
           0.282327,
           0.094955,
           0.417331
          ],
          "size": 9
         },
         "mode": "markers",
         "name": "caused",
         "text": [
          "token: caused || tf   : 1.0 || cluster: 16"
         ],
         "type": "scatter",
         "x": [
          7.968404293060303
         ],
         "y": [
          3.7197632789611816
         ]
        },
        {
         "line": {
          "color": "DarkSlateGrey",
          "width": 2
         },
         "marker": {
          "color": [
           0.282327,
           0.094955,
           0.417331
          ],
          "size": 9
         },
         "mode": "markers",
         "name": "enzyme",
         "text": [
          "token: enzyme || tf   : 1.0 || cluster: 16"
         ],
         "type": "scatter",
         "x": [
          7.641808032989502
         ],
         "y": [
          3.650620460510254
         ]
        },
        {
         "line": {
          "color": "DarkSlateGrey",
          "width": 2
         },
         "marker": {
          "color": [
           0.282327,
           0.094955,
           0.417331
          ],
          "size": 9
         },
         "mode": "markers",
         "name": "deficiency",
         "text": [
          "token: deficiency || tf   : 2.0 || cluster: 16"
         ],
         "type": "scatter",
         "x": [
          7.681540012359619
         ],
         "y": [
          3.6634199619293213
         ]
        },
        {
         "line": {
          "color": "DarkSlateGrey",
          "width": 2
         },
         "marker": {
          "color": [
           0.282327,
           0.094955,
           0.417331
          ],
          "size": 9
         },
         "mode": "markers",
         "name": "which",
         "text": [
          "token: which || tf   : 5.0 || cluster: 16"
         ],
         "type": "scatter",
         "x": [
          7.668487548828125
         ],
         "y": [
          3.663724422454834
         ]
        },
        {
         "line": {
          "color": "DarkSlateGrey",
          "width": 2
         },
         "marker": {
          "color": [
           0.280894,
           0.078907,
           0.402329
          ],
          "size": 9
         },
         "mode": "markers",
         "name": "leads",
         "text": [
          "token: leads || tf   : 1.0 || cluster: 13"
         ],
         "type": "scatter",
         "x": [
          7.591972827911377
         ],
         "y": [
          3.7793800830841064
         ]
        },
        {
         "line": {
          "color": "DarkSlateGrey",
          "width": 2
         },
         "marker": {
          "color": [
           0.280894,
           0.078907,
           0.402329
          ],
          "size": 9
         },
         "mode": "markers",
         "name": "defects",
         "text": [
          "token: defects || tf   : 1.0 || cluster: 13"
         ],
         "type": "scatter",
         "x": [
          7.427395820617676
         ],
         "y": [
          3.914374589920044
         ]
        },
        {
         "line": {
          "color": "DarkSlateGrey",
          "width": 2
         },
         "marker": {
          "color": [
           0.280894,
           0.078907,
           0.402329
          ],
          "size": 9
         },
         "mode": "markers",
         "name": "bio",
         "text": [
          "token: bio || tf   : 2.0 || cluster: 13"
         ],
         "type": "scatter",
         "x": [
          7.3366618156433105
         ],
         "y": [
          4.00687313079834
         ]
        },
        {
         "line": {
          "color": "DarkSlateGrey",
          "width": 2
         },
         "marker": {
          "color": [
           0.280894,
           0.078907,
           0.402329
          ],
          "size": 9
         },
         "mode": "markers",
         "name": "##sy",
         "text": [
          "token: ##sy || tf   : 1.0 || cluster: 13"
         ],
         "type": "scatter",
         "x": [
          7.392061233520508
         ],
         "y": [
          3.9500160217285156
         ]
        },
        {
         "line": {
          "color": "DarkSlateGrey",
          "width": 2
         },
         "marker": {
          "color": [
           0.280894,
           0.078907,
           0.402329
          ],
          "size": 9
         },
         "mode": "markers",
         "name": "##nt",
         "text": [
          "token: ##nt || tf   : 1.0 || cluster: 13"
         ],
         "type": "scatter",
         "x": [
          7.410688400268555
         ],
         "y": [
          3.938721179962158
         ]
        },
        {
         "line": {
          "color": "DarkSlateGrey",
          "width": 2
         },
         "marker": {
          "color": [
           0.280894,
           0.078907,
           0.402329
          ],
          "size": 9
         },
         "mode": "markers",
         "name": "##hesis",
         "text": [
          "token: ##hesis || tf   : 1.0 || cluster: 13"
         ],
         "type": "scatter",
         "x": [
          7.315647125244141
         ],
         "y": [
          4.051733493804932
         ]
        },
        {
         "line": {
          "color": "DarkSlateGrey",
          "width": 2
         },
         "marker": {
          "color": [
           0.280894,
           0.078907,
           0.402329
          ],
          "size": 9
         },
         "mode": "markers",
         "name": "ste",
         "text": [
          "token: ste || tf   : 1.0 || cluster: 13"
         ],
         "type": "scatter",
         "x": [
          7.258756160736084
         ],
         "y": [
          4.0726518630981445
         ]
        },
        {
         "line": {
          "color": "DarkSlateGrey",
          "width": 2
         },
         "marker": {
          "color": [
           0.280894,
           0.078907,
           0.402329
          ],
          "size": 9
         },
         "mode": "markers",
         "name": "##roid",
         "text": [
          "token: ##roid || tf   : 1.0 || cluster: 13"
         ],
         "type": "scatter",
         "x": [
          7.247015953063965
         ],
         "y": [
          4.0980682373046875
         ]
        },
        {
         "line": {
          "color": "DarkSlateGrey",
          "width": 2
         },
         "marker": {
          "color": [
           0.280894,
           0.078907,
           0.402329
          ],
          "size": 9
         },
         "mode": "markers",
         "name": "precursor",
         "text": [
          "token: precursor || tf   : 2.0 || cluster: 13"
         ],
         "type": "scatter",
         "x": [
          7.244694709777832
         ],
         "y": [
          4.1020402908325195
         ]
        },
        {
         "line": {
          "color": "DarkSlateGrey",
          "width": 2
         },
         "marker": {
          "color": [
           0.280894,
           0.078907,
           0.402329
          ],
          "size": 9
         },
         "mode": "markers",
         "name": "##s",
         "text": [
          "token: ##s || tf   : 5.0 || cluster: 13"
         ],
         "type": "scatter",
         "x": [
          7.231551647186279
         ],
         "y": [
          4.124965667724609
         ]
        },
        {
         "line": {
          "color": "DarkSlateGrey",
          "width": 2
         },
         "marker": {
          "color": [
           0.277941,
           0.056324,
           0.381191
          ],
          "size": 9
         },
         "mode": "markers",
         "name": "depending",
         "text": [
          "token: depending || tf   : 1.0 || cluster: 9"
         ],
         "type": "scatter",
         "x": [
          6.471672058105469
         ],
         "y": [
          3.3126065731048584
         ]
        },
        {
         "line": {
          "color": "DarkSlateGrey",
          "width": 2
         },
         "marker": {
          "color": [
           0.277941,
           0.056324,
           0.381191
          ],
          "size": 9
         },
         "mode": "markers",
         "name": "the",
         "text": [
          "token: the || tf   : 32.0 || cluster: 9"
         ],
         "type": "scatter",
         "x": [
          6.47084903717041
         ],
         "y": [
          3.339188814163208
         ]
        },
        {
         "line": {
          "color": "DarkSlateGrey",
          "width": 2
         },
         "marker": {
          "color": [
           0.277941,
           0.056324,
           0.381191
          ],
          "size": 9
         },
         "mode": "markers",
         "name": "severity",
         "text": [
          "token: severity || tf   : 1.0 || cluster: 9"
         ],
         "type": "scatter",
         "x": [
          6.5902605056762695
         ],
         "y": [
          3.370500326156616
         ]
        },
        {
         "line": {
          "color": "DarkSlateGrey",
          "width": 2
         },
         "marker": {
          "color": [
           0.277941,
           0.056324,
           0.381191
          ],
          "size": 9
         },
         "mode": "markers",
         "name": "and",
         "text": [
          "token: and || tf   : 26.0 || cluster: 9"
         ],
         "type": "scatter",
         "x": [
          6.5291748046875
         ],
         "y": [
          3.317721366882324
         ]
        },
        {
         "line": {
          "color": "DarkSlateGrey",
          "width": 2
         },
         "marker": {
          "color": [
           0.277941,
           0.056324,
           0.381191
          ],
          "size": 9
         },
         "mode": "markers",
         "name": "degree",
         "text": [
          "token: degree || tf   : 1.0 || cluster: 9"
         ],
         "type": "scatter",
         "x": [
          6.641385555267334
         ],
         "y": [
          3.3958027362823486
         ]
        },
        {
         "line": {
          "color": "DarkSlateGrey",
          "width": 2
         },
         "marker": {
          "color": [
           0.993248,
           0.906157,
           0.143936
          ],
          "size": 9
         },
         "mode": "markers",
         "name": "hydro",
         "text": [
          "token: hydro || tf   : 3.0 || cluster: -1"
         ],
         "type": "scatter",
         "x": [
          7.254485130310059
         ],
         "y": [
          3.5395760536193848
         ]
        },
        {
         "line": {
          "color": "DarkSlateGrey",
          "width": 2
         },
         "marker": {
          "color": [
           0.993248,
           0.906157,
           0.143936
          ],
          "size": 9
         },
         "mode": "markers",
         "name": "##xy",
         "text": [
          "token: ##xy || tf   : 2.0 || cluster: -1"
         ],
         "type": "scatter",
         "x": [
          7.288279056549072
         ],
         "y": [
          3.555872917175293
         ]
        },
        {
         "line": {
          "color": "DarkSlateGrey",
          "width": 2
         },
         "marker": {
          "color": [
           0.993248,
           0.906157,
           0.143936
          ],
          "size": 9
         },
         "mode": "markers",
         "name": "##lase",
         "text": [
          "token: ##lase || tf   : 1.0 || cluster: -1"
         ],
         "type": "scatter",
         "x": [
          7.311107158660889
         ],
         "y": [
          3.5385935306549072
         ]
        },
        {
         "line": {
          "color": "DarkSlateGrey",
          "width": 2
         },
         "marker": {
          "color": [
           0.993248,
           0.906157,
           0.143936
          ],
          "size": 9
         },
         "mode": "markers",
         "name": "deficiency",
         "text": [
          "token: deficiency || tf   : 2.0 || cluster: -1"
         ],
         "type": "scatter",
         "x": [
          7.238170623779297
         ],
         "y": [
          3.500842809677124
         ]
        },
        {
         "line": {
          "color": "DarkSlateGrey",
          "width": 2
         },
         "marker": {
          "color": [
           0.278791,
           0.062145,
           0.386592
          ],
          "size": 9
         },
         "mode": "markers",
         "name": "the",
         "text": [
          "token: the || tf   : 32.0 || cluster: 10"
         ],
         "type": "scatter",
         "x": [
          6.135758399963379
         ],
         "y": [
          3.5491421222686768
         ]
        },
        {
         "line": {
          "color": "DarkSlateGrey",
          "width": 2
         },
         "marker": {
          "color": [
           0.278791,
           0.062145,
           0.386592
          ],
          "size": 9
         },
         "mode": "markers",
         "name": "clinical",
         "text": [
          "token: clinical || tf   : 2.0 || cluster: 10"
         ],
         "type": "scatter",
         "x": [
          6.209659099578857
         ],
         "y": [
          3.4828238487243652
         ]
        },
        {
         "line": {
          "color": "DarkSlateGrey",
          "width": 2
         },
         "marker": {
          "color": [
           0.278791,
           0.062145,
           0.386592
          ],
          "size": 9
         },
         "mode": "markers",
         "name": "spectrum",
         "text": [
          "token: spectrum || tf   : 1.0 || cluster: 10"
         ],
         "type": "scatter",
         "x": [
          6.212345123291016
         ],
         "y": [
          3.425478458404541
         ]
        },
        {
         "line": {
          "color": "DarkSlateGrey",
          "width": 2
         },
         "marker": {
          "color": [
           0.278791,
           0.062145,
           0.386592
          ],
          "size": 9
         },
         "mode": "markers",
         "name": "may",
         "text": [
          "token: may || tf   : 2.0 || cluster: 10"
         ],
         "type": "scatter",
         "x": [
          6.2381205558776855
         ],
         "y": [
          3.4977777004241943
         ]
        },
        {
         "line": {
          "color": "DarkSlateGrey",
          "width": 2
         },
         "marker": {
          "color": [
           0.278791,
           0.062145,
           0.386592
          ],
          "size": 9
         },
         "mode": "markers",
         "name": "vary",
         "text": [
          "token: vary || tf   : 1.0 || cluster: 10"
         ],
         "type": "scatter",
         "x": [
          6.202170372009277
         ],
         "y": [
          3.4974746704101562
         ]
        },
        {
         "line": {
          "color": "DarkSlateGrey",
          "width": 2
         },
         "marker": {
          "color": [
           0.278791,
           0.062145,
           0.386592
          ],
          "size": 9
         },
         "mode": "markers",
         "name": "from",
         "text": [
          "token: from || tf   : 2.0 || cluster: 10"
         ],
         "type": "scatter",
         "x": [
          6.298069953918457
         ],
         "y": [
          3.5823116302490234
         ]
        },
        {
         "line": {
          "color": "DarkSlateGrey",
          "width": 2
         },
         "marker": {
          "color": [
           0.278791,
           0.062145,
           0.386592
          ],
          "size": 9
         },
         "mode": "markers",
         "name": "mild",
         "text": [
          "token: mild || tf   : 1.0 || cluster: 10"
         ],
         "type": "scatter",
         "x": [
          6.323490619659424
         ],
         "y": [
          3.6045470237731934
         ]
        },
        {
         "line": {
          "color": "DarkSlateGrey",
          "width": 2
         },
         "marker": {
          "color": [
           0.278791,
           0.062145,
           0.386592
          ],
          "size": 9
         },
         "mode": "markers",
         "name": "form",
         "text": [
          "token: form || tf   : 1.0 || cluster: 10"
         ],
         "type": "scatter",
         "x": [
          6.369776248931885
         ],
         "y": [
          3.6881520748138428
         ]
        },
        {
         "line": {
          "color": "DarkSlateGrey",
          "width": 2
         },
         "marker": {
          "color": [
           0.278791,
           0.062145,
           0.386592
          ],
          "size": 9
         },
         "mode": "markers",
         "name": "non",
         "text": [
          "token: non || tf   : 3.0 || cluster: 10"
         ],
         "type": "scatter",
         "x": [
          6.3077192306518555
         ],
         "y": [
          3.6574747562408447
         ]
        },
        {
         "line": {
          "color": "DarkSlateGrey",
          "width": 2
         },
         "marker": {
          "color": [
           0.278791,
           0.062145,
           0.386592
          ],
          "size": 9
         },
         "mode": "markers",
         "name": "classical",
         "text": [
          "token: classical || tf   : 3.0 || cluster: 10"
         ],
         "type": "scatter",
         "x": [
          6.344470500946045
         ],
         "y": [
          3.727064847946167
         ]
        },
        {
         "line": {
          "color": "DarkSlateGrey",
          "width": 2
         },
         "marker": {
          "color": [
           0.278791,
           0.062145,
           0.386592
          ],
          "size": 9
         },
         "mode": "markers",
         "name": "##h",
         "text": [
          "token: ##h || tf   : 17.0 || cluster: 10"
         ],
         "type": "scatter",
         "x": [
          6.358531951904297
         ],
         "y": [
          3.8874197006225586
         ]
        },
        {
         "line": {
          "color": "DarkSlateGrey",
          "width": 2
         },
         "marker": {
          "color": [
           0.278791,
           0.062145,
           0.386592
          ],
          "size": 9
         },
         "mode": "markers",
         "name": "classic",
         "text": [
          "token: classic || tf   : 5.0 || cluster: 10"
         ],
         "type": "scatter",
         "x": [
          6.274726390838623
         ],
         "y": [
          3.7973134517669678
         ]
        },
        {
         "line": {
          "color": "DarkSlateGrey",
          "width": 2
         },
         "marker": {
          "color": [
           0.278791,
           0.062145,
           0.386592
          ],
          "size": 9
         },
         "mode": "markers",
         "name": "##h",
         "text": [
          "token: ##h || tf   : 17.0 || cluster: 10"
         ],
         "type": "scatter",
         "x": [
          6.344803810119629
         ],
         "y": [
          3.8804657459259033
         ]
        },
        {
         "line": {
          "color": "DarkSlateGrey",
          "width": 2
         },
         "marker": {
          "color": [
           0.993248,
           0.906157,
           0.143936
          ],
          "size": 9
         },
         "mode": "markers",
         "name": "however",
         "text": [
          "token: however || tf   : 3.0 || cluster: -1"
         ],
         "type": "scatter",
         "x": [
          5.485918998718262
         ],
         "y": [
          4.017879009246826
         ]
        },
        {
         "line": {
          "color": "DarkSlateGrey",
          "width": 2
         },
         "marker": {
          "color": [
           0.279566,
           0.067836,
           0.391917
          ],
          "size": 9
         },
         "mode": "markers",
         "name": "the",
         "text": [
          "token: the || tf   : 32.0 || cluster: 11"
         ],
         "type": "scatter",
         "x": [
          5.848574161529541
         ],
         "y": [
          4.04139518737793
         ]
        },
        {
         "line": {
          "color": "DarkSlateGrey",
          "width": 2
         },
         "marker": {
          "color": [
           0.278791,
           0.062145,
           0.386592
          ],
          "size": 9
         },
         "mode": "markers",
         "name": "non",
         "text": [
          "token: non || tf   : 3.0 || cluster: 10"
         ],
         "type": "scatter",
         "x": [
          6.097951889038086
         ],
         "y": [
          3.913569211959839
         ]
        },
        {
         "line": {
          "color": "DarkSlateGrey",
          "width": 2
         },
         "marker": {
          "color": [
           0.278791,
           0.062145,
           0.386592
          ],
          "size": 9
         },
         "mode": "markers",
         "name": "classical",
         "text": [
          "token: classical || tf   : 3.0 || cluster: 10"
         ],
         "type": "scatter",
         "x": [
          6.15095329284668
         ],
         "y": [
          3.9070427417755127
         ]
        },
        {
         "line": {
          "color": "DarkSlateGrey",
          "width": 2
         },
         "marker": {
          "color": [
           0.278791,
           0.062145,
           0.386592
          ],
          "size": 9
         },
         "mode": "markers",
         "name": "##h",
         "text": [
          "token: ##h || tf   : 17.0 || cluster: 10"
         ],
         "type": "scatter",
         "x": [
          6.2346086502075195
         ],
         "y": [
          3.9469239711761475
         ]
        },
        {
         "line": {
          "color": "DarkSlateGrey",
          "width": 2
         },
         "marker": {
          "color": [
           0.278791,
           0.062145,
           0.386592
          ],
          "size": 9
         },
         "mode": "markers",
         "name": "variant",
         "text": [
          "token: variant || tf   : 1.0 || cluster: 10"
         ],
         "type": "scatter",
         "x": [
          6.001150608062744
         ],
         "y": [
          3.969095230102539
         ]
        },
        {
         "line": {
          "color": "DarkSlateGrey",
          "width": 2
         },
         "marker": {
          "color": [
           0.279566,
           0.067836,
           0.391917
          ],
          "size": 9
         },
         "mode": "markers",
         "name": "more",
         "text": [
          "token: more || tf   : 1.0 || cluster: 11"
         ],
         "type": "scatter",
         "x": [
          5.740547180175781
         ],
         "y": [
          3.904467821121216
         ]
        },
        {
         "line": {
          "color": "DarkSlateGrey",
          "width": 2
         },
         "marker": {
          "color": [
           0.279566,
           0.067836,
           0.391917
          ],
          "size": 9
         },
         "mode": "markers",
         "name": "common",
         "text": [
          "token: common || tf   : 2.0 || cluster: 11"
         ],
         "type": "scatter",
         "x": [
          5.701225280761719
         ],
         "y": [
          3.8676538467407227
         ]
        },
        {
         "line": {
          "color": "DarkSlateGrey",
          "width": 2
         },
         "marker": {
          "color": [
           0.279566,
           0.067836,
           0.391917
          ],
          "size": 9
         },
         "mode": "markers",
         "name": "with",
         "text": [
          "token: with || tf   : 23.0 || cluster: 11"
         ],
         "type": "scatter",
         "x": [
          5.674922943115234
         ],
         "y": [
          3.865475654602051
         ]
        },
        {
         "line": {
          "color": "DarkSlateGrey",
          "width": 2
         },
         "marker": {
          "color": [
           0.279566,
           0.067836,
           0.391917
          ],
          "size": 9
         },
         "mode": "markers",
         "name": "prevalence",
         "text": [
          "token: prevalence || tf   : 1.0 || cluster: 11"
         ],
         "type": "scatter",
         "x": [
          5.755329608917236
         ],
         "y": [
          3.7950565814971924
         ]
        },
        {
         "line": {
          "color": "DarkSlateGrey",
          "width": 2
         },
         "marker": {
          "color": [
           0.279566,
           0.067836,
           0.391917
          ],
          "size": 9
         },
         "mode": "markers",
         "name": "rate",
         "text": [
          "token: rate || tf   : 1.0 || cluster: 11"
         ],
         "type": "scatter",
         "x": [
          5.73354434967041
         ],
         "y": [
          3.8023998737335205
         ]
        },
        {
         "line": {
          "color": "DarkSlateGrey",
          "width": 2
         },
         "marker": {
          "color": [
           0.279566,
           0.067836,
           0.391917
          ],
          "size": 9
         },
         "mode": "markers",
         "name": "1000",
         "text": [
          "token: 1000 || tf   : 1.0 || cluster: 11"
         ],
         "type": "scatter",
         "x": [
          5.714596748352051
         ],
         "y": [
          3.8646018505096436
         ]
        },
        {
         "line": {
          "color": "DarkSlateGrey",
          "width": 2
         },
         "marker": {
          "color": [
           0.993248,
           0.906157,
           0.143936
          ],
          "size": 9
         },
         "mode": "markers",
         "name": "also",
         "text": [
          "token: also || tf   : 4.0 || cluster: -1"
         ],
         "type": "scatter",
         "x": [
          5.877012729644775
         ],
         "y": [
          4.440802097320557
         ]
        },
        {
         "line": {
          "color": "DarkSlateGrey",
          "width": 2
         },
         "marker": {
          "color": [
           0.277018,
           0.050344,
           0.375715
          ],
          "size": 9
         },
         "mode": "markers",
         "name": "helps",
         "text": [
          "token: helps || tf   : 1.0 || cluster: 8"
         ],
         "type": "scatter",
         "x": [
          6.010282516479492
         ],
         "y": [
          4.490789890289307
         ]
        },
        {
         "line": {
          "color": "DarkSlateGrey",
          "width": 2
         },
         "marker": {
          "color": [
           0.277018,
           0.050344,
           0.375715
          ],
          "size": 9
         },
         "mode": "markers",
         "name": "maintaining",
         "text": [
          "token: maintaining || tf   : 1.0 || cluster: 8"
         ],
         "type": "scatter",
         "x": [
          6.231028079986572
         ],
         "y": [
          4.5741496086120605
         ]
        },
        {
         "line": {
          "color": "DarkSlateGrey",
          "width": 2
         },
         "marker": {
          "color": [
           0.277018,
           0.050344,
           0.375715
          ],
          "size": 9
         },
         "mode": "markers",
         "name": "normal",
         "text": [
          "token: normal || tf   : 2.0 || cluster: 8"
         ],
         "type": "scatter",
         "x": [
          6.426926612854004
         ],
         "y": [
          4.511504650115967
         ]
        },
        {
         "line": {
          "color": "DarkSlateGrey",
          "width": 2
         },
         "marker": {
          "color": [
           0.993248,
           0.906157,
           0.143936
          ],
          "size": 9
         },
         "mode": "markers",
         "name": "levels",
         "text": [
          "token: levels || tf   : 6.0 || cluster: -1"
         ],
         "type": "scatter",
         "x": [
          6.696075439453125
         ],
         "y": [
          4.431374549865723
         ]
        },
        {
         "line": {
          "color": "DarkSlateGrey",
          "width": 2
         },
         "marker": {
          "color": [
           0.993248,
           0.906157,
           0.143936
          ],
          "size": 9
         },
         "mode": "markers",
         "name": "precursor",
         "text": [
          "token: precursor || tf   : 2.0 || cluster: -1"
         ],
         "type": "scatter",
         "x": [
          6.960124492645264
         ],
         "y": [
          4.282851219177246
         ]
        },
        {
         "line": {
          "color": "DarkSlateGrey",
          "width": 2
         },
         "marker": {
          "color": [
           0.993248,
           0.906157,
           0.143936
          ],
          "size": 9
         },
         "mode": "markers",
         "name": "##s",
         "text": [
          "token: ##s || tf   : 5.0 || cluster: -1"
         ],
         "type": "scatter",
         "x": [
          6.909807205200195
         ],
         "y": [
          4.3221116065979
         ]
        },
        {
         "line": {
          "color": "DarkSlateGrey",
          "width": 2
         },
         "marker": {
          "color": [
           0.277018,
           0.050344,
           0.375715
          ],
          "size": 9
         },
         "mode": "markers",
         "name": "suppress",
         "text": [
          "token: suppress || tf   : 1.0 || cluster: 8"
         ],
         "type": "scatter",
         "x": [
          6.276476860046387
         ],
         "y": [
          4.5879130363464355
         ]
        },
        {
         "line": {
          "color": "DarkSlateGrey",
          "width": 2
         },
         "marker": {
          "color": [
           0.277018,
           0.050344,
           0.375715
          ],
          "size": 9
         },
         "mode": "markers",
         "name": "##ing",
         "text": [
          "token: ##ing || tf   : 2.0 || cluster: 8"
         ],
         "type": "scatter",
         "x": [
          6.266269683837891
         ],
         "y": [
          4.618350982666016
         ]
        },
        {
         "line": {
          "color": "DarkSlateGrey",
          "width": 2
         },
         "marker": {
          "color": [
           0.993248,
           0.906157,
           0.143936
          ],
          "size": 9
         },
         "mode": "markers",
         "name": "##ren",
         "text": [
          "token: ##ren || tf   : 7.0 || cluster: -1"
         ],
         "type": "scatter",
         "x": [
          3.6062042713165283
         ],
         "y": [
          9.698631286621094
         ]
        },
        {
         "line": {
          "color": "DarkSlateGrey",
          "width": 2
         },
         "marker": {
          "color": [
           0.26851,
           0.009605,
           0.335427
          ],
          "size": 9
         },
         "mode": "markers",
         "name": "##o",
         "text": [
          "token: ##o || tf   : 1.0 || cluster: 1"
         ],
         "type": "scatter",
         "x": [
          7.0595502853393555
         ],
         "y": [
          6.609137058258057
         ]
        },
        {
         "line": {
          "color": "DarkSlateGrey",
          "width": 2
         },
         "marker": {
          "color": [
           0.26851,
           0.009605,
           0.335427
          ],
          "size": 9
         },
         "mode": "markers",
         "name": "##rti",
         "text": [
          "token: ##rti || tf   : 1.0 || cluster: 1"
         ],
         "type": "scatter",
         "x": [
          7.132274150848389
         ],
         "y": [
          6.676534652709961
         ]
        },
        {
         "line": {
          "color": "DarkSlateGrey",
          "width": 2
         },
         "marker": {
          "color": [
           0.26851,
           0.009605,
           0.335427
          ],
          "size": 9
         },
         "mode": "markers",
         "name": "##co",
         "text": [
          "token: ##co || tf   : 2.0 || cluster: 1"
         ],
         "type": "scatter",
         "x": [
          7.095209121704102
         ],
         "y": [
          6.653172492980957
         ]
        },
        {
         "line": {
          "color": "DarkSlateGrey",
          "width": 2
         },
         "marker": {
          "color": [
           0.26851,
           0.009605,
           0.335427
          ],
          "size": 9
         },
         "mode": "markers",
         "name": "##op",
         "text": [
          "token: ##op || tf   : 1.0 || cluster: 1"
         ],
         "type": "scatter",
         "x": [
          7.140646934509277
         ],
         "y": [
          6.710092067718506
         ]
        },
        {
         "line": {
          "color": "DarkSlateGrey",
          "width": 2
         },
         "marker": {
          "color": [
           0.26851,
           0.009605,
           0.335427
          ],
          "size": 9
         },
         "mode": "markers",
         "name": "##hic",
         "text": [
          "token: ##hic || tf   : 1.0 || cluster: 1"
         ],
         "type": "scatter",
         "x": [
          7.090897560119629
         ],
         "y": [
          6.60841178894043
         ]
        },
        {
         "line": {
          "color": "DarkSlateGrey",
          "width": 2
         },
         "marker": {
          "color": [
           0.26851,
           0.009605,
           0.335427
          ],
          "size": 9
         },
         "mode": "markers",
         "name": "hormone",
         "text": [
          "token: hormone || tf   : 1.0 || cluster: 1"
         ],
         "type": "scatter",
         "x": [
          7.061604976654053
         ],
         "y": [
          6.555049896240234
         ]
        },
        {
         "line": {
          "color": "DarkSlateGrey",
          "width": 2
         },
         "marker": {
          "color": [
           0.26851,
           0.009605,
           0.335427
          ],
          "size": 9
         },
         "mode": "markers",
         "name": "act",
         "text": [
          "token: act || tf   : 1.0 || cluster: 1"
         ],
         "type": "scatter",
         "x": [
          7.068500995635986
         ],
         "y": [
          6.5038981437683105
         ]
        },
        {
         "line": {
          "color": "DarkSlateGrey",
          "width": 2
         },
         "marker": {
          "color": [
           0.26851,
           0.009605,
           0.335427
          ],
          "size": 9
         },
         "mode": "markers",
         "name": "##h",
         "text": [
          "token: ##h || tf   : 17.0 || cluster: 1"
         ],
         "type": "scatter",
         "x": [
          7.025022029876709
         ],
         "y": [
          6.471053123474121
         ]
        },
        {
         "line": {
          "color": "DarkSlateGrey",
          "width": 2
         },
         "marker": {
          "color": [
           0.282884,
           0.13592,
           0.453427
          ],
          "size": 9
         },
         "mode": "markers",
         "name": "during",
         "text": [
          "token: during || tf   : 2.0 || cluster: 24"
         ],
         "type": "scatter",
         "x": [
          4.6977338790893555
         ],
         "y": [
          5.078412055969238
         ]
        },
        {
         "line": {
          "color": "DarkSlateGrey",
          "width": 2
         },
         "marker": {
          "color": [
           0.282884,
           0.13592,
           0.453427
          ],
          "size": 9
         },
         "mode": "markers",
         "name": "childhood",
         "text": [
          "token: childhood || tf   : 1.0 || cluster: 24"
         ],
         "type": "scatter",
         "x": [
          4.728024959564209
         ],
         "y": [
          5.301615238189697
         ]
        },
        {
         "line": {
          "color": "DarkSlateGrey",
          "width": 2
         },
         "marker": {
          "color": [
           0.283072,
           0.130895,
           0.449241
          ],
          "size": 9
         },
         "mode": "markers",
         "name": "the",
         "text": [
          "token: the || tf   : 32.0 || cluster: 23"
         ],
         "type": "scatter",
         "x": [
          5.044229030609131
         ],
         "y": [
          4.678380489349365
         ]
        },
        {
         "line": {
          "color": "DarkSlateGrey",
          "width": 2
         },
         "marker": {
          "color": [
           0.283072,
           0.130895,
           0.449241
          ],
          "size": 9
         },
         "mode": "markers",
         "name": "management",
         "text": [
          "token: management || tf   : 1.0 || cluster: 23"
         ],
         "type": "scatter",
         "x": [
          5.0663981437683105
         ],
         "y": [
          4.836141586303711
         ]
        },
        {
         "line": {
          "color": "DarkSlateGrey",
          "width": 2
         },
         "marker": {
          "color": [
           0.283072,
           0.130895,
           0.449241
          ],
          "size": 9
         },
         "mode": "markers",
         "name": "largely",
         "text": [
          "token: largely || tf   : 1.0 || cluster: 23"
         ],
         "type": "scatter",
         "x": [
          5.071831703186035
         ],
         "y": [
          4.857660293579102
         ]
        },
        {
         "line": {
          "color": "DarkSlateGrey",
          "width": 2
         },
         "marker": {
          "color": [
           0.283072,
           0.130895,
           0.449241
          ],
          "size": 9
         },
         "mode": "markers",
         "name": "focused",
         "text": [
          "token: focused || tf   : 1.0 || cluster: 23"
         ],
         "type": "scatter",
         "x": [
          5.034566879272461
         ],
         "y": [
          4.933173179626465
         ]
        },
        {
         "line": {
          "color": "DarkSlateGrey",
          "width": 2
         },
         "marker": {
          "color": [
           0.282884,
           0.13592,
           0.453427
          ],
          "size": 9
         },
         "mode": "markers",
         "name": "achieving",
         "text": [
          "token: achieving || tf   : 1.0 || cluster: 24"
         ],
         "type": "scatter",
         "x": [
          4.702737331390381
         ],
         "y": [
          5.395959377288818
         ]
        },
        {
         "line": {
          "color": "DarkSlateGrey",
          "width": 2
         },
         "marker": {
          "color": [
           0.282884,
           0.13592,
           0.453427
          ],
          "size": 9
         },
         "mode": "markers",
         "name": "normal",
         "text": [
          "token: normal || tf   : 2.0 || cluster: 24"
         ],
         "type": "scatter",
         "x": [
          4.692481517791748
         ],
         "y": [
          5.4104180335998535
         ]
        },
        {
         "line": {
          "color": "DarkSlateGrey",
          "width": 2
         },
         "marker": {
          "color": [
           0.282884,
           0.13592,
           0.453427
          ],
          "size": 9
         },
         "mode": "markers",
         "name": "growth",
         "text": [
          "token: growth || tf   : 1.0 || cluster: 24"
         ],
         "type": "scatter",
         "x": [
          4.669234752655029
         ],
         "y": [
          5.513786315917969
         ]
        },
        {
         "line": {
          "color": "DarkSlateGrey",
          "width": 2
         },
         "marker": {
          "color": [
           0.282884,
           0.13592,
           0.453427
          ],
          "size": 9
         },
         "mode": "markers",
         "name": "and",
         "text": [
          "token: and || tf   : 26.0 || cluster: 24"
         ],
         "type": "scatter",
         "x": [
          4.621170997619629
         ],
         "y": [
          5.234375
         ]
        },
        {
         "line": {
          "color": "DarkSlateGrey",
          "width": 2
         },
         "marker": {
          "color": [
           0.282884,
           0.13592,
           0.453427
          ],
          "size": 9
         },
         "mode": "markers",
         "name": "attaining",
         "text": [
          "token: attaining || tf   : 1.0 || cluster: 24"
         ],
         "type": "scatter",
         "x": [
          4.612887382507324
         ],
         "y": [
          5.460723876953125
         ]
        },
        {
         "line": {
          "color": "DarkSlateGrey",
          "width": 2
         },
         "marker": {
          "color": [
           0.282884,
           0.13592,
           0.453427
          ],
          "size": 9
         },
         "mode": "markers",
         "name": "appropriate",
         "text": [
          "token: appropriate || tf   : 3.0 || cluster: 24"
         ],
         "type": "scatter",
         "x": [
          4.653865337371826
         ],
         "y": [
          5.471338748931885
         ]
        },
        {
         "line": {
          "color": "DarkSlateGrey",
          "width": 2
         },
         "marker": {
          "color": [
           0.282884,
           0.13592,
           0.453427
          ],
          "size": 9
         },
         "mode": "markers",
         "name": "final",
         "text": [
          "token: final || tf   : 4.0 || cluster: 24"
         ],
         "type": "scatter",
         "x": [
          4.72715950012207
         ],
         "y": [
          5.65172004699707
         ]
        },
        {
         "line": {
          "color": "DarkSlateGrey",
          "width": 2
         },
         "marker": {
          "color": [
           0.282884,
           0.13592,
           0.453427
          ],
          "size": 9
         },
         "mode": "markers",
         "name": "adult",
         "text": [
          "token: adult || tf   : 8.0 || cluster: 24"
         ],
         "type": "scatter",
         "x": [
          4.697640895843506
         ],
         "y": [
          5.572572708129883
         ]
        },
        {
         "line": {
          "color": "DarkSlateGrey",
          "width": 2
         },
         "marker": {
          "color": [
           0.282884,
           0.13592,
           0.453427
          ],
          "size": 9
         },
         "mode": "markers",
         "name": "height",
         "text": [
          "token: height || tf   : 7.0 || cluster: 24"
         ],
         "type": "scatter",
         "x": [
          4.661464691162109
         ],
         "y": [
          5.648509979248047
         ]
        },
        {
         "line": {
          "color": "DarkSlateGrey",
          "width": 2
         },
         "marker": {
          "color": [
           0.282656,
           0.100196,
           0.42216
          ],
          "size": 9
         },
         "mode": "markers",
         "name": "johns",
         "text": [
          "token: johns || tf   : 1.0 || cluster: 17"
         ],
         "type": "scatter",
         "x": [
          2.522940158843994
         ],
         "y": [
          2.584016799926758
         ]
        },
        {
         "line": {
          "color": "DarkSlateGrey",
          "width": 2
         },
         "marker": {
          "color": [
           0.282656,
           0.100196,
           0.42216
          ],
          "size": 9
         },
         "mode": "markers",
         "name": "medical",
         "text": [
          "token: medical || tf   : 3.0 || cluster: 17"
         ],
         "type": "scatter",
         "x": [
          2.42439341545105
         ],
         "y": [
          2.546083927154541
         ]
        },
        {
         "line": {
          "color": "DarkSlateGrey",
          "width": 2
         },
         "marker": {
          "color": [
           0.282656,
           0.100196,
           0.42216
          ],
          "size": 9
         },
         "mode": "markers",
         "name": "college",
         "text": [
          "token: college || tf   : 1.0 || cluster: 17"
         ],
         "type": "scatter",
         "x": [
          2.473228931427002
         ],
         "y": [
          2.5666027069091797
         ]
        },
        {
         "line": {
          "color": "DarkSlateGrey",
          "width": 2
         },
         "marker": {
          "color": [
           0.282656,
           0.100196,
           0.42216
          ],
          "size": 9
         },
         "mode": "markers",
         "name": "hospital",
         "text": [
          "token: hospital || tf   : 1.0 || cluster: 17"
         ],
         "type": "scatter",
         "x": [
          2.4631869792938232
         ],
         "y": [
          2.6705329418182373
         ]
        },
        {
         "line": {
          "color": "DarkSlateGrey",
          "width": 2
         },
         "marker": {
          "color": [
           0.282656,
           0.100196,
           0.42216
          ],
          "size": 9
         },
         "mode": "markers",
         "name": "bangalore",
         "text": [
          "token: bangalore || tf   : 1.0 || cluster: 17"
         ],
         "type": "scatter",
         "x": [
          2.4952728748321533
         ],
         "y": [
          2.6265313625335693
         ]
        },
        {
         "line": {
          "color": "DarkSlateGrey",
          "width": 2
         },
         "marker": {
          "color": [
           0.28291,
           0.105393,
           0.426902
          ],
          "size": 9
         },
         "mode": "markers",
         "name": "the",
         "text": [
          "token: the || tf   : 32.0 || cluster: 18"
         ],
         "type": "scatter",
         "x": [
          2.2277379035949707
         ],
         "y": [
          2.542937755584717
         ]
        },
        {
         "line": {
          "color": "DarkSlateGrey",
          "width": 2
         },
         "marker": {
          "color": [
           0.28291,
           0.105393,
           0.426902
          ],
          "size": 9
         },
         "mode": "markers",
         "name": "department",
         "text": [
          "token: department || tf   : 1.0 || cluster: 18"
         ],
         "type": "scatter",
         "x": [
          2.257392406463623
         ],
         "y": [
          2.4082674980163574
         ]
        },
        {
         "line": {
          "color": "DarkSlateGrey",
          "width": 2
         },
         "marker": {
          "color": [
           0.28291,
           0.105393,
           0.426902
          ],
          "size": 9
         },
         "mode": "markers",
         "name": "end",
         "text": [
          "token: end || tf   : 1.0 || cluster: 18"
         ],
         "type": "scatter",
         "x": [
          2.2463369369506836
         ],
         "y": [
          2.3768811225891113
         ]
        },
        {
         "line": {
          "color": "DarkSlateGrey",
          "width": 2
         },
         "marker": {
          "color": [
           0.28291,
           0.105393,
           0.426902
          ],
          "size": 9
         },
         "mode": "markers",
         "name": "##oc",
         "text": [
          "token: ##oc || tf   : 1.0 || cluster: 18"
         ],
         "type": "scatter",
         "x": [
          2.267782211303711
         ],
         "y": [
          2.3942201137542725
         ]
        },
        {
         "line": {
          "color": "DarkSlateGrey",
          "width": 2
         },
         "marker": {
          "color": [
           0.28291,
           0.105393,
           0.426902
          ],
          "size": 9
         },
         "mode": "markers",
         "name": "##rino",
         "text": [
          "token: ##rino || tf   : 1.0 || cluster: 18"
         ],
         "type": "scatter",
         "x": [
          2.2685868740081787
         ],
         "y": [
          2.3853185176849365
         ]
        },
        {
         "line": {
          "color": "DarkSlateGrey",
          "width": 2
         },
         "marker": {
          "color": [
           0.28291,
           0.105393,
           0.426902
          ],
          "size": 9
         },
         "mode": "markers",
         "name": "##logy",
         "text": [
          "token: ##logy || tf   : 1.0 || cluster: 18"
         ],
         "type": "scatter",
         "x": [
          2.2631282806396484
         ],
         "y": [
          2.391371011734009
         ]
        },
        {
         "line": {
          "color": "DarkSlateGrey",
          "width": 2
         },
         "marker": {
          "color": [
           0.993248,
           0.906157,
           0.143936
          ],
          "size": 9
         },
         "mode": "markers",
         "name": "patients",
         "text": [
          "token: patients || tf   : 25.0 || cluster: -1"
         ],
         "type": "scatter",
         "x": [
          0.48110705614089966
         ],
         "y": [
          5.7082953453063965
         ]
        },
        {
         "line": {
          "color": "DarkSlateGrey",
          "width": 2
         },
         "marker": {
          "color": [
           0.273006,
           0.20452,
           0.501721
          ],
          "size": 9
         },
         "mode": "markers",
         "name": "diagnosed",
         "text": [
          "token: diagnosed || tf   : 1.0 || cluster: 38"
         ],
         "type": "scatter",
         "x": [
          0.6633413434028625
         ],
         "y": [
          5.675551414489746
         ]
        },
        {
         "line": {
          "color": "DarkSlateGrey",
          "width": 2
         },
         "marker": {
          "color": [
           0.243113,
           0.292092,
           0.538516
          ],
          "size": 9
         },
         "mode": "markers",
         "name": "have",
         "text": [
          "token: have || tf   : 1.0 || cluster: 57"
         ],
         "type": "scatter",
         "x": [
          4.0182414054870605
         ],
         "y": [
          6.390908241271973
         ]
        },
        {
         "line": {
          "color": "DarkSlateGrey",
          "width": 2
         },
         "marker": {
          "color": [
           0.272594,
           0.025563,
           0.353093
          ],
          "size": 9
         },
         "mode": "markers",
         "name": "##h",
         "text": [
          "token: ##h || tf   : 17.0 || cluster: 4"
         ],
         "type": "scatter",
         "x": [
          6.848258972167969
         ],
         "y": [
          10.161688804626465
         ]
        },
        {
         "line": {
          "color": "DarkSlateGrey",
          "width": 2
         },
         "marker": {
          "color": [
           0.281446,
           0.08432,
           0.407414
          ],
          "size": 9
         },
         "mode": "markers",
         "name": "and",
         "text": [
          "token: and || tf   : 26.0 || cluster: 14"
         ],
         "type": "scatter",
         "x": [
          2.282238006591797
         ],
         "y": [
          3.4112508296966553
         ]
        },
        {
         "line": {
          "color": "DarkSlateGrey",
          "width": 2
         },
         "marker": {
          "color": [
           0.281446,
           0.08432,
           0.407414
          ],
          "size": 9
         },
         "mode": "markers",
         "name": "seen",
         "text": [
          "token: seen || tf   : 3.0 || cluster: 14"
         ],
         "type": "scatter",
         "x": [
          2.021799087524414
         ],
         "y": [
          3.1928560733795166
         ]
        },
        {
         "line": {
          "color": "DarkSlateGrey",
          "width": 2
         },
         "marker": {
          "color": [
           0.281446,
           0.08432,
           0.407414
          ],
          "size": 9
         },
         "mode": "markers",
         "name": "the",
         "text": [
          "token: the || tf   : 32.0 || cluster: 14"
         ],
         "type": "scatter",
         "x": [
          1.9232152700424194
         ],
         "y": [
          3.032390832901001
         ]
        },
        {
         "line": {
          "color": "DarkSlateGrey",
          "width": 2
         },
         "marker": {
          "color": [
           0.281446,
           0.08432,
           0.407414
          ],
          "size": 9
         },
         "mode": "markers",
         "name": "out",
         "text": [
          "token: out || tf   : 1.0 || cluster: 14"
         ],
         "type": "scatter",
         "x": [
          2.0710299015045166
         ],
         "y": [
          3.1567554473876953
         ]
        },
        {
         "line": {
          "color": "DarkSlateGrey",
          "width": 2
         },
         "marker": {
          "color": [
           0.281446,
           0.08432,
           0.407414
          ],
          "size": 9
         },
         "mode": "markers",
         "name": "##patient",
         "text": [
          "token: ##patient || tf   : 1.0 || cluster: 14"
         ],
         "type": "scatter",
         "x": [
          2.053591012954712
         ],
         "y": [
          3.1058318614959717
         ]
        },
        {
         "line": {
          "color": "DarkSlateGrey",
          "width": 2
         },
         "marker": {
          "color": [
           0.281446,
           0.08432,
           0.407414
          ],
          "size": 9
         },
         "mode": "markers",
         "name": "clinic",
         "text": [
          "token: clinic || tf   : 1.0 || cluster: 14"
         ],
         "type": "scatter",
         "x": [
          2.0520551204681396
         ],
         "y": [
          3.1201281547546387
         ]
        },
        {
         "line": {
          "color": "DarkSlateGrey",
          "width": 2
         },
         "marker": {
          "color": [
           0.281446,
           0.08432,
           0.407414
          ],
          "size": 9
         },
         "mode": "markers",
         "name": "between",
         "text": [
          "token: between || tf   : 4.0 || cluster: 14"
         ],
         "type": "scatter",
         "x": [
          2.107903242111206
         ],
         "y": [
          3.179758071899414
         ]
        },
        {
         "line": {
          "color": "DarkSlateGrey",
          "width": 2
         },
         "marker": {
          "color": [
           0.281446,
           0.08432,
           0.407414
          ],
          "size": 9
         },
         "mode": "markers",
         "name": "january",
         "text": [
          "token: january || tf   : 1.0 || cluster: 14"
         ],
         "type": "scatter",
         "x": [
          2.1171255111694336
         ],
         "y": [
          3.2067759037017822
         ]
        },
        {
         "line": {
          "color": "DarkSlateGrey",
          "width": 2
         },
         "marker": {
          "color": [
           0.281446,
           0.08432,
           0.407414
          ],
          "size": 9
         },
         "mode": "markers",
         "name": "2012",
         "text": [
          "token: 2012 || tf   : 2.0 || cluster: 14"
         ],
         "type": "scatter",
         "x": [
          2.162813425064087
         ],
         "y": [
          3.202453851699829
         ]
        },
        {
         "line": {
          "color": "DarkSlateGrey",
          "width": 2
         },
         "marker": {
          "color": [
           0.281446,
           0.08432,
           0.407414
          ],
          "size": 9
         },
         "mode": "markers",
         "name": "and",
         "text": [
          "token: and || tf   : 26.0 || cluster: 14"
         ],
         "type": "scatter",
         "x": [
          2.097334146499634
         ],
         "y": [
          3.177640438079834
         ]
        },
        {
         "line": {
          "color": "DarkSlateGrey",
          "width": 2
         },
         "marker": {
          "color": [
           0.281446,
           0.08432,
           0.407414
          ],
          "size": 9
         },
         "mode": "markers",
         "name": "october",
         "text": [
          "token: october || tf   : 1.0 || cluster: 14"
         ],
         "type": "scatter",
         "x": [
          2.125610113143921
         ],
         "y": [
          3.1903669834136963
         ]
        },
        {
         "line": {
          "color": "DarkSlateGrey",
          "width": 2
         },
         "marker": {
          "color": [
           0.281446,
           0.08432,
           0.407414
          ],
          "size": 9
         },
         "mode": "markers",
         "name": "2012",
         "text": [
          "token: 2012 || tf   : 2.0 || cluster: 14"
         ],
         "type": "scatter",
         "x": [
          2.192138910293579
         ],
         "y": [
          3.2524490356445312
         ]
        },
        {
         "line": {
          "color": "DarkSlateGrey",
          "width": 2
         },
         "marker": {
          "color": [
           0.993248,
           0.906157,
           0.143936
          ],
          "size": 9
         },
         "mode": "markers",
         "name": "during",
         "text": [
          "token: during || tf   : 2.0 || cluster: -1"
         ],
         "type": "scatter",
         "x": [
          2.455291271209717
         ],
         "y": [
          3.5248115062713623
         ]
        },
        {
         "line": {
          "color": "DarkSlateGrey",
          "width": 2
         },
         "marker": {
          "color": [
           0.993248,
           0.906157,
           0.143936
          ],
          "size": 9
         },
         "mode": "markers",
         "name": "this",
         "text": [
          "token: this || tf   : 3.0 || cluster: -1"
         ],
         "type": "scatter",
         "x": [
          2.234290838241577
         ],
         "y": [
          3.6003918647766113
         ]
        },
        {
         "line": {
          "color": "DarkSlateGrey",
          "width": 2
         },
         "marker": {
          "color": [
           0.993248,
           0.906157,
           0.143936
          ],
          "size": 9
         },
         "mode": "markers",
         "name": "period",
         "text": [
          "token: period || tf   : 4.0 || cluster: -1"
         ],
         "type": "scatter",
         "x": [
          2.290832042694092
         ],
         "y": [
          3.5785892009735107
         ]
        },
        {
         "line": {
          "color": "DarkSlateGrey",
          "width": 2
         },
         "marker": {
          "color": [
           0.263663,
           0.237631,
           0.518762
          ],
          "size": 9
         },
         "mode": "markers",
         "name": "data",
         "text": [
          "token: data || tf   : 2.0 || cluster: 45"
         ],
         "type": "scatter",
         "x": [
          1.2713074684143066
         ],
         "y": [
          7.483252048492432
         ]
        },
        {
         "line": {
          "color": "DarkSlateGrey",
          "width": 2
         },
         "marker": {
          "color": [
           0.263663,
           0.237631,
           0.518762
          ],
          "size": 9
         },
         "mode": "markers",
         "name": "regarding",
         "text": [
          "token: regarding || tf   : 1.0 || cluster: 45"
         ],
         "type": "scatter",
         "x": [
          1.4049532413482666
         ],
         "y": [
          7.583077430725098
         ]
        },
        {
         "line": {
          "color": "DarkSlateGrey",
          "width": 2
         },
         "marker": {
          "color": [
           0.993248,
           0.906157,
           0.143936
          ],
          "size": 9
         },
         "mode": "markers",
         "name": "demo",
         "text": [
          "token: demo || tf   : 1.0 || cluster: -1"
         ],
         "type": "scatter",
         "x": [
          1.4637683629989624
         ],
         "y": [
          7.7705230712890625
         ]
        },
        {
         "line": {
          "color": "DarkSlateGrey",
          "width": 2
         },
         "marker": {
          "color": [
           0.993248,
           0.906157,
           0.143936
          ],
          "size": 9
         },
         "mode": "markers",
         "name": "##graphy",
         "text": [
          "token: ##graphy || tf   : 1.0 || cluster: -1"
         ],
         "type": "scatter",
         "x": [
          1.4367954730987549
         ],
         "y": [
          7.689413070678711
         ]
        },
        {
         "line": {
          "color": "DarkSlateGrey",
          "width": 2
         },
         "marker": {
          "color": [
           0.993248,
           0.906157,
           0.143936
          ],
          "size": 9
         },
         "mode": "markers",
         "name": "clinical",
         "text": [
          "token: clinical || tf   : 2.0 || cluster: -1"
         ],
         "type": "scatter",
         "x": [
          1.498519778251648
         ],
         "y": [
          7.6602463722229
         ]
        },
        {
         "line": {
          "color": "DarkSlateGrey",
          "width": 2
         },
         "marker": {
          "color": [
           0.993248,
           0.906157,
           0.143936
          ],
          "size": 9
         },
         "mode": "markers",
         "name": "presentation",
         "text": [
          "token: presentation || tf   : 3.0 || cluster: -1"
         ],
         "type": "scatter",
         "x": [
          1.7193421125411987
         ],
         "y": [
          7.6142168045043945
         ]
        },
        {
         "line": {
          "color": "DarkSlateGrey",
          "width": 2
         },
         "marker": {
          "color": [
           0.248629,
           0.278775,
           0.534556
          ],
          "size": 9
         },
         "mode": "markers",
         "name": "time",
         "text": [
          "token: time || tf   : 1.0 || cluster: 54"
         ],
         "type": "scatter",
         "x": [
          2.142688274383545
         ],
         "y": [
          8.275250434875488
         ]
        },
        {
         "line": {
          "color": "DarkSlateGrey",
          "width": 2
         },
         "marker": {
          "color": [
           0.248629,
           0.278775,
           0.534556
          ],
          "size": 9
         },
         "mode": "markers",
         "name": "diagnosis",
         "text": [
          "token: diagnosis || tf   : 2.0 || cluster: 54"
         ],
         "type": "scatter",
         "x": [
          2.122992992401123
         ],
         "y": [
          8.36844539642334
         ]
        },
        {
         "line": {
          "color": "DarkSlateGrey",
          "width": 2
         },
         "marker": {
          "color": [
           0.993248,
           0.906157,
           0.143936
          ],
          "size": 9
         },
         "mode": "markers",
         "name": "treatment",
         "text": [
          "token: treatment || tf   : 3.0 || cluster: -1"
         ],
         "type": "scatter",
         "x": [
          2.096097469329834
         ],
         "y": [
          8.592658996582031
         ]
        },
        {
         "line": {
          "color": "DarkSlateGrey",
          "width": 2
         },
         "marker": {
          "color": [
           0.250425,
           0.27429,
           0.533103
          ],
          "size": 9
         },
         "mode": "markers",
         "name": "details",
         "text": [
          "token: details || tf   : 1.0 || cluster: 53"
         ],
         "type": "scatter",
         "x": [
          2.2356300354003906
         ],
         "y": [
          8.500831604003906
         ]
        },
        {
         "line": {
          "color": "DarkSlateGrey",
          "width": 2
         },
         "marker": {
          "color": [
           0.250425,
           0.27429,
           0.533103
          ],
          "size": 9
         },
         "mode": "markers",
         "name": "height",
         "text": [
          "token: height || tf   : 7.0 || cluster: 53"
         ],
         "type": "scatter",
         "x": [
          2.363715410232544
         ],
         "y": [
          8.649797439575195
         ]
        },
        {
         "line": {
          "color": "DarkSlateGrey",
          "width": 2
         },
         "marker": {
          "color": [
           0.993248,
           0.906157,
           0.143936
          ],
          "size": 9
         },
         "mode": "markers",
         "name": "##s",
         "text": [
          "token: ##s || tf   : 5.0 || cluster: -1"
         ],
         "type": "scatter",
         "x": [
          2.2809712886810303
         ],
         "y": [
          8.765461921691895
         ]
        },
        {
         "line": {
          "color": "DarkSlateGrey",
          "width": 2
         },
         "marker": {
          "color": [
           0.277134,
           0.185228,
           0.489898
          ],
          "size": 9
         },
         "mode": "markers",
         "name": "and",
         "text": [
          "token: and || tf   : 26.0 || cluster: 34"
         ],
         "type": "scatter",
         "x": [
          3.903972625732422
         ],
         "y": [
          4.477209091186523
         ]
        },
        {
         "line": {
          "color": "DarkSlateGrey",
          "width": 2
         },
         "marker": {
          "color": [
           0.250425,
           0.27429,
           0.533103
          ],
          "size": 9
         },
         "mode": "markers",
         "name": "##mi",
         "text": [
          "token: ##mi || tf   : 2.0 || cluster: 53"
         ],
         "type": "scatter",
         "x": [
          2.1146373748779297
         ],
         "y": [
          8.691986083984375
         ]
        },
        {
         "line": {
          "color": "DarkSlateGrey",
          "width": 2
         },
         "marker": {
          "color": [
           0.993248,
           0.906157,
           0.143936
          ],
          "size": 9
         },
         "mode": "markers",
         "name": "were",
         "text": [
          "token: were || tf   : 17.0 || cluster: -1"
         ],
         "type": "scatter",
         "x": [
          1.1474896669387817
         ],
         "y": [
          7.265400409698486
         ]
        },
        {
         "line": {
          "color": "DarkSlateGrey",
          "width": 2
         },
         "marker": {
          "color": [
           0.263663,
           0.237631,
           0.518762
          ],
          "size": 9
         },
         "mode": "markers",
         "name": "collected",
         "text": [
          "token: collected || tf   : 2.0 || cluster: 45"
         ],
         "type": "scatter",
         "x": [
          1.234358549118042
         ],
         "y": [
          7.39238977432251
         ]
        },
        {
         "line": {
          "color": "DarkSlateGrey",
          "width": 2
         },
         "marker": {
          "color": [
           0.993248,
           0.906157,
           0.143936
          ],
          "size": 9
         },
         "mode": "markers",
         "name": "all",
         "text": [
          "token: all || tf   : 6.0 || cluster: -1"
         ],
         "type": "scatter",
         "x": [
          0.5257022380828857
         ],
         "y": [
          7.614747047424316
         ]
        },
        {
         "line": {
          "color": "DarkSlateGrey",
          "width": 2
         },
         "marker": {
          "color": [
           0.993248,
           0.906157,
           0.143936
          ],
          "size": 9
         },
         "mode": "markers",
         "name": "patients",
         "text": [
          "token: patients || tf   : 25.0 || cluster: -1"
         ],
         "type": "scatter",
         "x": [
          0.842154324054718
         ],
         "y": [
          7.366495132446289
         ]
        },
        {
         "line": {
          "color": "DarkSlateGrey",
          "width": 2
         },
         "marker": {
          "color": [
           0.993248,
           0.906157,
           0.143936
          ],
          "size": 9
         },
         "mode": "markers",
         "name": "underwent",
         "text": [
          "token: underwent || tf   : 2.0 || cluster: -1"
         ],
         "type": "scatter",
         "x": [
          1.012882947921753
         ],
         "y": [
          7.760638236999512
         ]
        },
        {
         "line": {
          "color": "DarkSlateGrey",
          "width": 2
         },
         "marker": {
          "color": [
           0.993248,
           0.906157,
           0.143936
          ],
          "size": 9
         },
         "mode": "markers",
         "name": "bio",
         "text": [
          "token: bio || tf   : 2.0 || cluster: -1"
         ],
         "type": "scatter",
         "x": [
          1.0616185665130615
         ],
         "y": [
          7.7938008308410645
         ]
        },
        {
         "line": {
          "color": "DarkSlateGrey",
          "width": 2
         },
         "marker": {
          "color": [
           0.993248,
           0.906157,
           0.143936
          ],
          "size": 9
         },
         "mode": "markers",
         "name": "##chemical",
         "text": [
          "token: ##chemical || tf   : 1.0 || cluster: -1"
         ],
         "type": "scatter",
         "x": [
          1.0594083070755005
         ],
         "y": [
          7.801706790924072
         ]
        },
        {
         "line": {
          "color": "DarkSlateGrey",
          "width": 2
         },
         "marker": {
          "color": [
           0.993248,
           0.906157,
           0.143936
          ],
          "size": 9
         },
         "mode": "markers",
         "name": "testing",
         "text": [
          "token: testing || tf   : 1.0 || cluster: -1"
         ],
         "type": "scatter",
         "x": [
          1.0216431617736816
         ],
         "y": [
          7.878958225250244
         ]
        },
        {
         "line": {
          "color": "DarkSlateGrey",
          "width": 2
         },
         "marker": {
          "color": [
           0.993248,
           0.906157,
           0.143936
          ],
          "size": 9
         },
         "mode": "markers",
         "name": "for",
         "text": [
          "token: for || tf   : 6.0 || cluster: -1"
         ],
         "type": "scatter",
         "x": [
          0.9929915070533752
         ],
         "y": [
          7.956432819366455
         ]
        },
        {
         "line": {
          "color": "DarkSlateGrey",
          "width": 2
         },
         "marker": {
          "color": [
           0.279574,
           0.170599,
           0.479997
          ],
          "size": 9
         },
         "mode": "markers",
         "name": "hydro",
         "text": [
          "token: hydro || tf   : 3.0 || cluster: 31"
         ],
         "type": "scatter",
         "x": [
          2.147113084793091
         ],
         "y": [
          10.059693336486816
         ]
        },
        {
         "line": {
          "color": "DarkSlateGrey",
          "width": 2
         },
         "marker": {
          "color": [
           0.279574,
           0.170599,
           0.479997
          ],
          "size": 9
         },
         "mode": "markers",
         "name": "##xy",
         "text": [
          "token: ##xy || tf   : 2.0 || cluster: 31"
         ],
         "type": "scatter",
         "x": [
          2.229140520095825
         ],
         "y": [
          10.097403526306152
         ]
        },
        {
         "line": {
          "color": "DarkSlateGrey",
          "width": 2
         },
         "marker": {
          "color": [
           0.279574,
           0.170599,
           0.479997
          ],
          "size": 9
         },
         "mode": "markers",
         "name": "pro",
         "text": [
          "token: pro || tf   : 1.0 || cluster: 31"
         ],
         "type": "scatter",
         "x": [
          2.364514112472534
         ],
         "y": [
          10.069561958312988
         ]
        },
        {
         "line": {
          "color": "DarkSlateGrey",
          "width": 2
         },
         "marker": {
          "color": [
           0.279574,
           0.170599,
           0.479997
          ],
          "size": 9
         },
         "mode": "markers",
         "name": "##ges",
         "text": [
          "token: ##ges || tf   : 1.0 || cluster: 31"
         ],
         "type": "scatter",
         "x": [
          2.3646445274353027
         ],
         "y": [
          10.078128814697266
         ]
        },
        {
         "line": {
          "color": "DarkSlateGrey",
          "width": 2
         },
         "marker": {
          "color": [
           0.279574,
           0.170599,
           0.479997
          ],
          "size": 9
         },
         "mode": "markers",
         "name": "##ter",
         "text": [
          "token: ##ter || tf   : 1.0 || cluster: 31"
         ],
         "type": "scatter",
         "x": [
          2.39115834236145
         ],
         "y": [
          10.072144508361816
         ]
        },
        {
         "line": {
          "color": "DarkSlateGrey",
          "width": 2
         },
         "marker": {
          "color": [
           0.279574,
           0.170599,
           0.479997
          ],
          "size": 9
         },
         "mode": "markers",
         "name": "##one",
         "text": [
          "token: ##one || tf   : 2.0 || cluster: 31"
         ],
         "type": "scatter",
         "x": [
          2.259085178375244
         ],
         "y": [
          10.097841262817383
         ]
        },
        {
         "line": {
          "color": "DarkSlateGrey",
          "width": 2
         },
         "marker": {
          "color": [
           0.993248,
           0.906157,
           0.143936
          ],
          "size": 9
         },
         "mode": "markers",
         "name": "##p",
         "text": [
          "token: ##p || tf   : 4.0 || cluster: -1"
         ],
         "type": "scatter",
         "x": [
          1.702876091003418
         ],
         "y": [
          10.033747673034668
         ]
        },
        {
         "line": {
          "color": "DarkSlateGrey",
          "width": 2
         },
         "marker": {
          "color": [
           0.993248,
           0.906157,
           0.143936
          ],
          "size": 9
         },
         "mode": "markers",
         "name": "levels",
         "text": [
          "token: levels || tf   : 6.0 || cluster: -1"
         ],
         "type": "scatter",
         "x": [
          1.7285375595092773
         ],
         "y": [
          9.989114761352539
         ]
        },
        {
         "line": {
          "color": "DarkSlateGrey",
          "width": 2
         },
         "marker": {
          "color": [
           0.993248,
           0.906157,
           0.143936
          ],
          "size": 9
         },
         "mode": "markers",
         "name": "for",
         "text": [
          "token: for || tf   : 6.0 || cluster: -1"
         ],
         "type": "scatter",
         "x": [
          1.5312299728393555
         ],
         "y": [
          8.587504386901855
         ]
        },
        {
         "line": {
          "color": "DarkSlateGrey",
          "width": 2
         },
         "marker": {
          "color": [
           0.993248,
           0.906157,
           0.143936
          ],
          "size": 9
         },
         "mode": "markers",
         "name": "assessment",
         "text": [
          "token: assessment || tf   : 2.0 || cluster: -1"
         ],
         "type": "scatter",
         "x": [
          1.6343576908111572
         ],
         "y": [
          8.663220405578613
         ]
        },
        {
         "line": {
          "color": "DarkSlateGrey",
          "width": 2
         },
         "marker": {
          "color": [
           0.993248,
           0.906157,
           0.143936
          ],
          "size": 9
         },
         "mode": "markers",
         "name": "##e",
         "text": [
          "token: ##e || tf   : 3.0 || cluster: -1"
         ],
         "type": "scatter",
         "x": [
          2.1170687675476074
         ],
         "y": [
          9.081411361694336
         ]
        },
        {
         "line": {
          "color": "DarkSlateGrey",
          "width": 2
         },
         "marker": {
          "color": [
           0.993248,
           0.906157,
           0.143936
          ],
          "size": 9
         },
         "mode": "markers",
         "name": "##qua",
         "text": [
          "token: ##qua || tf   : 1.0 || cluster: -1"
         ],
         "type": "scatter",
         "x": [
          2.174525022506714
         ],
         "y": [
          9.070028305053711
         ]
        },
        {
         "line": {
          "color": "DarkSlateGrey",
          "width": 2
         },
         "marker": {
          "color": [
           0.993248,
           0.906157,
           0.143936
          ],
          "size": 9
         },
         "mode": "markers",
         "name": "##cy",
         "text": [
          "token: ##cy || tf   : 1.0 || cluster: -1"
         ],
         "type": "scatter",
         "x": [
          1.9720041751861572
         ],
         "y": [
          8.96317195892334
         ]
        },
        {
         "line": {
          "color": "DarkSlateGrey",
          "width": 2
         },
         "marker": {
          "color": [
           0.993248,
           0.906157,
           0.143936
          ],
          "size": 9
         },
         "mode": "markers",
         "name": "therapy",
         "text": [
          "token: therapy || tf   : 4.0 || cluster: -1"
         ],
         "type": "scatter",
         "x": [
          1.6959354877471924
         ],
         "y": [
          8.83273983001709
         ]
        },
        {
         "line": {
          "color": "DarkSlateGrey",
          "width": 2
         },
         "marker": {
          "color": [
           0.281887,
           0.150881,
           0.465405
          ],
          "size": 9
         },
         "mode": "markers",
         "name": "bone",
         "text": [
          "token: bone || tf   : 2.0 || cluster: 27"
         ],
         "type": "scatter",
         "x": [
          0.9904976487159729
         ],
         "y": [
          8.413108825683594
         ]
        },
        {
         "line": {
          "color": "DarkSlateGrey",
          "width": 2
         },
         "marker": {
          "color": [
           0.281887,
           0.150881,
           0.465405
          ],
          "size": 9
         },
         "mode": "markers",
         "name": "age",
         "text": [
          "token: age || tf   : 4.0 || cluster: 27"
         ],
         "type": "scatter",
         "x": [
          0.9530872106552124
         ],
         "y": [
          8.438429832458496
         ]
        },
        {
         "line": {
          "color": "DarkSlateGrey",
          "width": 2
         },
         "marker": {
          "color": [
           0.281887,
           0.150881,
           0.465405
          ],
          "size": 9
         },
         "mode": "markers",
         "name": "assessment",
         "text": [
          "token: assessment || tf   : 2.0 || cluster: 27"
         ],
         "type": "scatter",
         "x": [
          0.9558694362640381
         ],
         "y": [
          8.366244316101074
         ]
        },
        {
         "line": {
          "color": "DarkSlateGrey",
          "width": 2
         },
         "marker": {
          "color": [
           0.281887,
           0.150881,
           0.465405
          ],
          "size": 9
         },
         "mode": "markers",
         "name": "with",
         "text": [
          "token: with || tf   : 23.0 || cluster: 27"
         ],
         "type": "scatter",
         "x": [
          0.9647127985954285
         ],
         "y": [
          8.38339900970459
         ]
        },
        {
         "line": {
          "color": "DarkSlateGrey",
          "width": 2
         },
         "marker": {
          "color": [
           0.281887,
           0.150881,
           0.465405
          ],
          "size": 9
         },
         "mode": "markers",
         "name": "left",
         "text": [
          "token: left || tf   : 1.0 || cluster: 27"
         ],
         "type": "scatter",
         "x": [
          0.982581377029419
         ],
         "y": [
          8.379658699035645
         ]
        },
        {
         "line": {
          "color": "DarkSlateGrey",
          "width": 2
         },
         "marker": {
          "color": [
           0.281887,
           0.150881,
           0.465405
          ],
          "size": 9
         },
         "mode": "markers",
         "name": "hand",
         "text": [
          "token: hand || tf   : 1.0 || cluster: 27"
         ],
         "type": "scatter",
         "x": [
          0.9799759387969971
         ],
         "y": [
          8.397834777832031
         ]
        },
        {
         "line": {
          "color": "DarkSlateGrey",
          "width": 2
         },
         "marker": {
          "color": [
           0.281887,
           0.150881,
           0.465405
          ],
          "size": 9
         },
         "mode": "markers",
         "name": "and",
         "text": [
          "token: and || tf   : 26.0 || cluster: 27"
         ],
         "type": "scatter",
         "x": [
          0.9953794479370117
         ],
         "y": [
          8.364185333251953
         ]
        },
        {
         "line": {
          "color": "DarkSlateGrey",
          "width": 2
         },
         "marker": {
          "color": [
           0.281887,
           0.150881,
           0.465405
          ],
          "size": 9
         },
         "mode": "markers",
         "name": "wrist",
         "text": [
          "token: wrist || tf   : 1.0 || cluster: 27"
         ],
         "type": "scatter",
         "x": [
          0.9772856831550598
         ],
         "y": [
          8.417972564697266
         ]
        },
        {
         "line": {
          "color": "DarkSlateGrey",
          "width": 2
         },
         "marker": {
          "color": [
           0.281887,
           0.150881,
           0.465405
          ],
          "size": 9
         },
         "mode": "markers",
         "name": "##mi",
         "text": [
          "token: ##mi || tf   : 2.0 || cluster: 27"
         ],
         "type": "scatter",
         "x": [
          0.9718550443649292
         ],
         "y": [
          8.485103607177734
         ]
        },
        {
         "line": {
          "color": "DarkSlateGrey",
          "width": 2
         },
         "marker": {
          "color": [
           0.28229,
           0.145912,
           0.46151
          ],
          "size": 9
         },
         "mode": "markers",
         "name": "was",
         "text": [
          "token: was || tf   : 15.0 || cluster: 26"
         ],
         "type": "scatter",
         "x": [
          0.7895504236221313
         ],
         "y": [
          8.244333267211914
         ]
        },
        {
         "line": {
          "color": "DarkSlateGrey",
          "width": 2
         },
         "marker": {
          "color": [
           0.28229,
           0.145912,
           0.46151
          ],
          "size": 9
         },
         "mode": "markers",
         "name": "calculated",
         "text": [
          "token: calculated || tf   : 1.0 || cluster: 26"
         ],
         "type": "scatter",
         "x": [
          0.80156409740448
         ],
         "y": [
          8.277420997619629
         ]
        },
        {
         "line": {
          "color": "DarkSlateGrey",
          "width": 2
         },
         "marker": {
          "color": [
           0.28229,
           0.145912,
           0.46151
          ],
          "size": 9
         },
         "mode": "markers",
         "name": "for",
         "text": [
          "token: for || tf   : 6.0 || cluster: 26"
         ],
         "type": "scatter",
         "x": [
          0.8027659058570862
         ],
         "y": [
          8.216968536376953
         ]
        },
        {
         "line": {
          "color": "DarkSlateGrey",
          "width": 2
         },
         "marker": {
          "color": [
           0.28229,
           0.145912,
           0.46151
          ],
          "size": 9
         },
         "mode": "markers",
         "name": "all",
         "text": [
          "token: all || tf   : 6.0 || cluster: 26"
         ],
         "type": "scatter",
         "x": [
          0.7594708800315857
         ],
         "y": [
          8.143607139587402
         ]
        },
        {
         "line": {
          "color": "DarkSlateGrey",
          "width": 2
         },
         "marker": {
          "color": [
           0.993248,
           0.906157,
           0.143936
          ],
          "size": 9
         },
         "mode": "markers",
         "name": "patients",
         "text": [
          "token: patients || tf   : 25.0 || cluster: -1"
         ],
         "type": "scatter",
         "x": [
          0.9288866519927979
         ],
         "y": [
          8.180173873901367
         ]
        },
        {
         "line": {
          "color": "DarkSlateGrey",
          "width": 2
         },
         "marker": {
          "color": [
           0.278012,
           0.180367,
           0.486697
          ],
          "size": 9
         },
         "mode": "markers",
         "name": "and",
         "text": [
          "token: and || tf   : 26.0 || cluster: 33"
         ],
         "type": "scatter",
         "x": [
          3.2702929973602295
         ],
         "y": [
          3.7994048595428467
         ]
        },
        {
         "line": {
          "color": "DarkSlateGrey",
          "width": 2
         },
         "marker": {
          "color": [
           0.281887,
           0.150881,
           0.465405
          ],
          "size": 9
         },
         "mode": "markers",
         "name": "obesity",
         "text": [
          "token: obesity || tf   : 2.0 || cluster: 27"
         ],
         "type": "scatter",
         "x": [
          1.0118284225463867
         ],
         "y": [
          8.441386222839355
         ]
        },
        {
         "line": {
          "color": "DarkSlateGrey",
          "width": 2
         },
         "marker": {
          "color": [
           0.28229,
           0.145912,
           0.46151
          ],
          "size": 9
         },
         "mode": "markers",
         "name": "was",
         "text": [
          "token: was || tf   : 15.0 || cluster: 26"
         ],
         "type": "scatter",
         "x": [
          0.6981785893440247
         ],
         "y": [
          8.181421279907227
         ]
        },
        {
         "line": {
          "color": "DarkSlateGrey",
          "width": 2
         },
         "marker": {
          "color": [
           0.993248,
           0.906157,
           0.143936
          ],
          "size": 9
         },
         "mode": "markers",
         "name": "defined",
         "text": [
          "token: defined || tf   : 2.0 || cluster: -1"
         ],
         "type": "scatter",
         "x": [
          0.7695521116256714
         ],
         "y": [
          8.394123077392578
         ]
        },
        {
         "line": {
          "color": "DarkSlateGrey",
          "width": 2
         },
         "marker": {
          "color": [
           0.28229,
           0.145912,
           0.46151
          ],
          "size": 9
         },
         "mode": "markers",
         "name": "using",
         "text": [
          "token: using || tf   : 1.0 || cluster: 26"
         ],
         "type": "scatter",
         "x": [
          0.6963198184967041
         ],
         "y": [
          8.388718605041504
         ]
        },
        {
         "line": {
          "color": "DarkSlateGrey",
          "width": 2
         },
         "marker": {
          "color": [
           0.993248,
           0.906157,
           0.143936
          ],
          "size": 9
         },
         "mode": "markers",
         "name": "who",
         "text": [
          "token: who || tf   : 4.0 || cluster: -1"
         ],
         "type": "scatter",
         "x": [
          0.6440913677215576
         ],
         "y": [
          8.52878189086914
         ]
        },
        {
         "line": {
          "color": "DarkSlateGrey",
          "width": 2
         },
         "marker": {
          "color": [
           0.993248,
           0.906157,
           0.143936
          ],
          "size": 9
         },
         "mode": "markers",
         "name": "charts",
         "text": [
          "token: charts || tf   : 1.0 || cluster: -1"
         ],
         "type": "scatter",
         "x": [
          0.6074318885803223
         ],
         "y": [
          8.707222938537598
         ]
        },
        {
         "line": {
          "color": "DarkSlateGrey",
          "width": 2
         },
         "marker": {
          "color": [
           0.281412,
           0.155834,
           0.469201
          ],
          "size": 9
         },
         "mode": "markers",
         "name": "values",
         "text": [
          "token: values || tf   : 3.0 || cluster: 28"
         ],
         "type": "scatter",
         "x": [
          0.5369852185249329
         ],
         "y": [
          9.217707633972168
         ]
        },
        {
         "line": {
          "color": "DarkSlateGrey",
          "width": 2
         },
         "marker": {
          "color": [
           0.281412,
           0.155834,
           0.469201
          ],
          "size": 9
         },
         "mode": "markers",
         "name": "above",
         "text": [
          "token: above || tf   : 2.0 || cluster: 28"
         ],
         "type": "scatter",
         "x": [
          0.39551785588264465
         ],
         "y": [
          9.33847427368164
         ]
        },
        {
         "line": {
          "color": "DarkSlateGrey",
          "width": 2
         },
         "marker": {
          "color": [
           0.993248,
           0.906157,
           0.143936
          ],
          "size": 9
         },
         "mode": "markers",
         "name": "##th",
         "text": [
          "token: ##th || tf   : 1.0 || cluster: -1"
         ],
         "type": "scatter",
         "x": [
          0.27302634716033936
         ],
         "y": [
          9.637996673583984
         ]
        },
        {
         "line": {
          "color": "DarkSlateGrey",
          "width": 2
         },
         "marker": {
          "color": [
           0.993248,
           0.906157,
           0.143936
          ],
          "size": 9
         },
         "mode": "markers",
         "name": "percent",
         "text": [
          "token: percent || tf   : 1.0 || cluster: -1"
         ],
         "type": "scatter",
         "x": [
          0.30369439721107483
         ],
         "y": [
          9.728535652160645
         ]
        },
        {
         "line": {
          "color": "DarkSlateGrey",
          "width": 2
         },
         "marker": {
          "color": [
           0.281412,
           0.155834,
           0.469201
          ],
          "size": 9
         },
         "mode": "markers",
         "name": "##ile",
         "text": [
          "token: ##ile || tf   : 1.0 || cluster: 28"
         ],
         "type": "scatter",
         "x": [
          0.4250083565711975
         ],
         "y": [
          9.78009033203125
         ]
        },
        {
         "line": {
          "color": "DarkSlateGrey",
          "width": 2
         },
         "marker": {
          "color": [
           0.993248,
           0.906157,
           0.143936
          ],
          "size": 9
         },
         "mode": "markers",
         "name": "##p",
         "text": [
          "token: ##p || tf   : 4.0 || cluster: -1"
         ],
         "type": "scatter",
         "x": [
          1.0067346096038818
         ],
         "y": [
          9.797222137451172
         ]
        },
        {
         "line": {
          "color": "DarkSlateGrey",
          "width": 2
         },
         "marker": {
          "color": [
           0.281412,
           0.155834,
           0.469201
          ],
          "size": 9
         },
         "mode": "markers",
         "name": "levels",
         "text": [
          "token: levels || tf   : 6.0 || cluster: 28"
         ],
         "type": "scatter",
         "x": [
          0.7452696561813354
         ],
         "y": [
          9.52025318145752
         ]
        },
        {
         "line": {
          "color": "DarkSlateGrey",
          "width": 2
         },
         "marker": {
          "color": [
           0.281412,
           0.155834,
           0.469201
          ],
          "size": 9
         },
         "mode": "markers",
         "name": "between",
         "text": [
          "token: between || tf   : 4.0 || cluster: 28"
         ],
         "type": "scatter",
         "x": [
          0.4974951446056366
         ],
         "y": [
          9.393181800842285
         ]
        },
        {
         "line": {
          "color": "DarkSlateGrey",
          "width": 2
         },
         "marker": {
          "color": [
           0.281412,
           0.155834,
           0.469201
          ],
          "size": 9
         },
         "mode": "markers",
         "name": "and",
         "text": [
          "token: and || tf   : 26.0 || cluster: 28"
         ],
         "type": "scatter",
         "x": [
          0.5236855745315552
         ],
         "y": [
          9.552131652832031
         ]
        },
        {
         "line": {
          "color": "DarkSlateGrey",
          "width": 2
         },
         "marker": {
          "color": [
           0.993248,
           0.906157,
           0.143936
          ],
          "size": 9
         },
         "mode": "markers",
         "name": "were",
         "text": [
          "token: were || tf   : 17.0 || cluster: -1"
         ],
         "type": "scatter",
         "x": [
          0.758284330368042
         ],
         "y": [
          8.08997631072998
         ]
        },
        {
         "line": {
          "color": "DarkSlateGrey",
          "width": 2
         },
         "marker": {
          "color": [
           0.993248,
           0.906157,
           0.143936
          ],
          "size": 9
         },
         "mode": "markers",
         "name": "considered",
         "text": [
          "token: considered || tf   : 1.0 || cluster: -1"
         ],
         "type": "scatter",
         "x": [
          1.0016454458236694
         ],
         "y": [
          8.823956489562988
         ]
        },
        {
         "line": {
          "color": "DarkSlateGrey",
          "width": 2
         },
         "marker": {
          "color": [
           0.282623,
           0.140926,
           0.457517
          ],
          "size": 9
         },
         "mode": "markers",
         "name": "appropriate",
         "text": [
          "token: appropriate || tf   : 3.0 || cluster: 25"
         ],
         "type": "scatter",
         "x": [
          1.1161746978759766
         ],
         "y": [
          9.01931095123291
         ]
        },
        {
         "line": {
          "color": "DarkSlateGrey",
          "width": 2
         },
         "marker": {
          "color": [
           0.281412,
           0.155834,
           0.469201
          ],
          "size": 9
         },
         "mode": "markers",
         "name": "values",
         "text": [
          "token: values || tf   : 3.0 || cluster: 28"
         ],
         "type": "scatter",
         "x": [
          0.6108587384223938
         ],
         "y": [
          9.306946754455566
         ]
        },
        {
         "line": {
          "color": "DarkSlateGrey",
          "width": 2
         },
         "marker": {
          "color": [
           0.281412,
           0.155834,
           0.469201
          ],
          "size": 9
         },
         "mode": "markers",
         "name": "below",
         "text": [
          "token: below || tf   : 1.0 || cluster: 28"
         ],
         "type": "scatter",
         "x": [
          0.4894859492778778
         ],
         "y": [
          9.376398086547852
         ]
        },
        {
         "line": {
          "color": "DarkSlateGrey",
          "width": 2
         },
         "marker": {
          "color": [
           0.282623,
           0.140926,
           0.457517
          ],
          "size": 9
         },
         "mode": "markers",
         "name": "suggested",
         "text": [
          "token: suggested || tf   : 2.0 || cluster: 25"
         ],
         "type": "scatter",
         "x": [
          1.0931353569030762
         ],
         "y": [
          9.185704231262207
         ]
        },
        {
         "line": {
          "color": "DarkSlateGrey",
          "width": 2
         },
         "marker": {
          "color": [
           0.282623,
           0.140926,
           0.457517
          ],
          "size": 9
         },
         "mode": "markers",
         "name": "suppression",
         "text": [
          "token: suppression || tf   : 1.0 || cluster: 25"
         ],
         "type": "scatter",
         "x": [
          1.2165565490722656
         ],
         "y": [
          9.17841911315918
         ]
        },
        {
         "line": {
          "color": "DarkSlateGrey",
          "width": 2
         },
         "marker": {
          "color": [
           0.282623,
           0.140926,
           0.457517
          ],
          "size": 9
         },
         "mode": "markers",
         "name": "and",
         "text": [
          "token: and || tf   : 26.0 || cluster: 25"
         ],
         "type": "scatter",
         "x": [
          1.248136281967163
         ],
         "y": [
          9.1935453414917
         ]
        },
        {
         "line": {
          "color": "DarkSlateGrey",
          "width": 2
         },
         "marker": {
          "color": [
           0.282623,
           0.140926,
           0.457517
          ],
          "size": 9
         },
         "mode": "markers",
         "name": "over",
         "text": [
          "token: over || tf   : 2.0 || cluster: 25"
         ],
         "type": "scatter",
         "x": [
          1.1928203105926514
         ],
         "y": [
          9.193957328796387
         ]
        },
        {
         "line": {
          "color": "DarkSlateGrey",
          "width": 2
         },
         "marker": {
          "color": [
           0.282623,
           0.140926,
           0.457517
          ],
          "size": 9
         },
         "mode": "markers",
         "name": "treatment",
         "text": [
          "token: treatment || tf   : 3.0 || cluster: 25"
         ],
         "type": "scatter",
         "x": [
          1.2684462070465088
         ],
         "y": [
          9.085577011108398
         ]
        },
        {
         "line": {
          "color": "DarkSlateGrey",
          "width": 2
         },
         "marker": {
          "color": [
           0.278012,
           0.180367,
           0.486697
          ],
          "size": 9
         },
         "mode": "markers",
         "name": "and",
         "text": [
          "token: and || tf   : 26.0 || cluster: 33"
         ],
         "type": "scatter",
         "x": [
          3.47279691696167
         ],
         "y": [
          3.8246042728424072
         ]
        },
        {
         "line": {
          "color": "DarkSlateGrey",
          "width": 2
         },
         "marker": {
          "color": [
           0.281412,
           0.155834,
           0.469201
          ],
          "size": 9
         },
         "mode": "markers",
         "name": "values",
         "text": [
          "token: values || tf   : 3.0 || cluster: 28"
         ],
         "type": "scatter",
         "x": [
          0.6371577978134155
         ],
         "y": [
          9.346003532409668
         ]
        },
        {
         "line": {
          "color": "DarkSlateGrey",
          "width": 2
         },
         "marker": {
          "color": [
           0.281412,
           0.155834,
           0.469201
          ],
          "size": 9
         },
         "mode": "markers",
         "name": "above",
         "text": [
          "token: above || tf   : 2.0 || cluster: 28"
         ],
         "type": "scatter",
         "x": [
          0.5477795600891113
         ],
         "y": [
          9.452685356140137
         ]
        },
        {
         "line": {
          "color": "DarkSlateGrey",
          "width": 2
         },
         "marker": {
          "color": [
           0.282623,
           0.140926,
           0.457517
          ],
          "size": 9
         },
         "mode": "markers",
         "name": "suggested",
         "text": [
          "token: suggested || tf   : 2.0 || cluster: 25"
         ],
         "type": "scatter",
         "x": [
          0.9605388641357422
         ],
         "y": [
          9.207242012023926
         ]
        },
        {
         "line": {
          "color": "DarkSlateGrey",
          "width": 2
         },
         "marker": {
          "color": [
           0.282623,
           0.140926,
           0.457517
          ],
          "size": 9
         },
         "mode": "markers",
         "name": "under",
         "text": [
          "token: under || tf   : 1.0 || cluster: 25"
         ],
         "type": "scatter",
         "x": [
          1.2154799699783325
         ],
         "y": [
          9.159210205078125
         ]
        },
        {
         "line": {
          "color": "DarkSlateGrey",
          "width": 2
         },
         "marker": {
          "color": [
           0.282623,
           0.140926,
           0.457517
          ],
          "size": 9
         },
         "mode": "markers",
         "name": "treatment",
         "text": [
          "token: treatment || tf   : 3.0 || cluster: 25"
         ],
         "type": "scatter",
         "x": [
          1.2387290000915527
         ],
         "y": [
          9.084595680236816
         ]
        },
        {
         "line": {
          "color": "DarkSlateGrey",
          "width": 2
         },
         "marker": {
          "color": [
           0.263663,
           0.237631,
           0.518762
          ],
          "size": 9
         },
         "mode": "markers",
         "name": "patients",
         "text": [
          "token: patients || tf   : 25.0 || cluster: 45"
         ],
         "type": "scatter",
         "x": [
          0.8599759936332703
         ],
         "y": [
          6.924654006958008
         ]
        },
        {
         "line": {
          "color": "DarkSlateGrey",
          "width": 2
         },
         "marker": {
          "color": [
           0.21813,
           0.347432,
           0.550038
          ],
          "size": 9
         },
         "mode": "markers",
         "name": "were",
         "text": [
          "token: were || tf   : 17.0 || cluster: 70"
         ],
         "type": "scatter",
         "x": [
          1.3779008388519287
         ],
         "y": [
          6.479283332824707
         ]
        },
        {
         "line": {
          "color": "DarkSlateGrey",
          "width": 2
         },
         "marker": {
          "color": [
           0.993248,
           0.906157,
           0.143936
          ],
          "size": 9
         },
         "mode": "markers",
         "name": "included",
         "text": [
          "token: included || tf   : 1.0 || cluster: -1"
         ],
         "type": "scatter",
         "x": [
          1.2941582202911377
         ],
         "y": [
          6.690063953399658
         ]
        },
        {
         "line": {
          "color": "DarkSlateGrey",
          "width": 2
         },
         "marker": {
          "color": [
           0.239346,
           0.300855,
           0.540844
          ],
          "size": 9
         },
         "mode": "markers",
         "name": "the",
         "text": [
          "token: the || tf   : 32.0 || cluster: 59"
         ],
         "type": "scatter",
         "x": [
          1.1230223178863525
         ],
         "y": [
          4.004433631896973
         ]
        },
        {
         "line": {
          "color": "DarkSlateGrey",
          "width": 2
         },
         "marker": {
          "color": [
           0.993248,
           0.906157,
           0.143936
          ],
          "size": 9
         },
         "mode": "markers",
         "name": "study",
         "text": [
          "token: study || tf   : 1.0 || cluster: -1"
         ],
         "type": "scatter",
         "x": [
          0.9118719696998596
         ],
         "y": [
          4.019887447357178
         ]
        },
        {
         "line": {
          "color": "DarkSlateGrey",
          "width": 2
         },
         "marker": {
          "color": [
           0.993248,
           0.906157,
           0.143936
          ],
          "size": 9
         },
         "mode": "markers",
         "name": "which",
         "text": [
          "token: which || tf   : 5.0 || cluster: -1"
         ],
         "type": "scatter",
         "x": [
          1.5887000560760498
         ],
         "y": [
          3.8092713356018066
         ]
        },
        {
         "line": {
          "color": "DarkSlateGrey",
          "width": 2
         },
         "marker": {
          "color": [
           0.265145,
           0.232956,
           0.516599
          ],
          "size": 9
         },
         "mode": "markers",
         "name": "were",
         "text": [
          "token: were || tf   : 17.0 || cluster: 44"
         ],
         "type": "scatter",
         "x": [
          0.5604166984558105
         ],
         "y": [
          7.147482395172119
         ]
        },
        {
         "line": {
          "color": "DarkSlateGrey",
          "width": 2
         },
         "marker": {
          "color": [
           0.265145,
           0.232956,
           0.516599
          ],
          "size": 9
         },
         "mode": "markers",
         "name": "females",
         "text": [
          "token: females || tf   : 3.0 || cluster: 44"
         ],
         "type": "scatter",
         "x": [
          0.3886014223098755
         ],
         "y": [
          7.127534866333008
         ]
        },
        {
         "line": {
          "color": "DarkSlateGrey",
          "width": 2
         },
         "marker": {
          "color": [
           0.278012,
           0.180367,
           0.486697
          ],
          "size": 9
         },
         "mode": "markers",
         "name": "and",
         "text": [
          "token: and || tf   : 26.0 || cluster: 33"
         ],
         "type": "scatter",
         "x": [
          3.6823084354400635
         ],
         "y": [
          4.001203536987305
         ]
        },
        {
         "line": {
          "color": "DarkSlateGrey",
          "width": 2
         },
         "marker": {
          "color": [
           0.265145,
           0.232956,
           0.516599
          ],
          "size": 9
         },
         "mode": "markers",
         "name": "were",
         "text": [
          "token: were || tf   : 17.0 || cluster: 44"
         ],
         "type": "scatter",
         "x": [
          0.5393295884132385
         ],
         "y": [
          7.239993095397949
         ]
        },
        {
         "line": {
          "color": "DarkSlateGrey",
          "width": 2
         },
         "marker": {
          "color": [
           0.265145,
           0.232956,
           0.516599
          ],
          "size": 9
         },
         "mode": "markers",
         "name": "males",
         "text": [
          "token: males || tf   : 2.0 || cluster: 44"
         ],
         "type": "scatter",
         "x": [
          0.4473918378353119
         ],
         "y": [
          7.1378960609436035
         ]
        },
        {
         "line": {
          "color": "DarkSlateGrey",
          "width": 2
         },
         "marker": {
          "color": [
           0.239346,
           0.300855,
           0.540844
          ],
          "size": 9
         },
         "mode": "markers",
         "name": "based",
         "text": [
          "token: based || tf   : 1.0 || cluster: 59"
         ],
         "type": "scatter",
         "x": [
          0.982616126537323
         ],
         "y": [
          3.6787021160125732
         ]
        },
        {
         "line": {
          "color": "DarkSlateGrey",
          "width": 2
         },
         "marker": {
          "color": [
           0.239346,
           0.300855,
           0.540844
          ],
          "size": 9
         },
         "mode": "markers",
         "name": "the",
         "text": [
          "token: the || tf   : 32.0 || cluster: 59"
         ],
         "type": "scatter",
         "x": [
          1.017478346824646
         ],
         "y": [
          3.6904003620147705
         ]
        },
        {
         "line": {
          "color": "DarkSlateGrey",
          "width": 2
         },
         "marker": {
          "color": [
           0.239346,
           0.300855,
           0.540844
          ],
          "size": 9
         },
         "mode": "markers",
         "name": "cross",
         "text": [
          "token: cross || tf   : 1.0 || cluster: 59"
         ],
         "type": "scatter",
         "x": [
          0.9379172325134277
         ],
         "y": [
          3.6323602199554443
         ]
        },
        {
         "line": {
          "color": "DarkSlateGrey",
          "width": 2
         },
         "marker": {
          "color": [
           0.239346,
           0.300855,
           0.540844
          ],
          "size": 9
         },
         "mode": "markers",
         "name": "sectional",
         "text": [
          "token: sectional || tf   : 1.0 || cluster: 59"
         ],
         "type": "scatter",
         "x": [
          0.9487999081611633
         ],
         "y": [
          3.632997989654541
         ]
        },
        {
         "line": {
          "color": "DarkSlateGrey",
          "width": 2
         },
         "marker": {
          "color": [
           0.239346,
           0.300855,
           0.540844
          ],
          "size": 9
         },
         "mode": "markers",
         "name": "data",
         "text": [
          "token: data || tf   : 2.0 || cluster: 59"
         ],
         "type": "scatter",
         "x": [
          0.9374563694000244
         ],
         "y": [
          3.6676526069641113
         ]
        },
        {
         "line": {
          "color": "DarkSlateGrey",
          "width": 2
         },
         "marker": {
          "color": [
           0.239346,
           0.300855,
           0.540844
          ],
          "size": 9
         },
         "mode": "markers",
         "name": "collected",
         "text": [
          "token: collected || tf   : 2.0 || cluster: 59"
         ],
         "type": "scatter",
         "x": [
          0.9449111223220825
         ],
         "y": [
          3.6770753860473633
         ]
        },
        {
         "line": {
          "color": "DarkSlateGrey",
          "width": 2
         },
         "marker": {
          "color": [
           0.265145,
           0.232956,
           0.516599
          ],
          "size": 9
         },
         "mode": "markers",
         "name": "patients",
         "text": [
          "token: patients || tf   : 25.0 || cluster: 44"
         ],
         "type": "scatter",
         "x": [
          0.740445077419281
         ],
         "y": [
          7.187995910644531
         ]
        },
        {
         "line": {
          "color": "DarkSlateGrey",
          "width": 2
         },
         "marker": {
          "color": [
           0.265145,
           0.232956,
           0.516599
          ],
          "size": 9
         },
         "mode": "markers",
         "name": "were",
         "text": [
          "token: were || tf   : 17.0 || cluster: 44"
         ],
         "type": "scatter",
         "x": [
          0.5865325331687927
         ],
         "y": [
          7.184662818908691
         ]
        },
        {
         "line": {
          "color": "DarkSlateGrey",
          "width": 2
         },
         "marker": {
          "color": [
           0.265145,
           0.232956,
           0.516599
          ],
          "size": 9
         },
         "mode": "markers",
         "name": "adults",
         "text": [
          "token: adults || tf   : 1.0 || cluster: 44"
         ],
         "type": "scatter",
         "x": [
          0.492337703704834
         ],
         "y": [
          7.295571804046631
         ]
        },
        {
         "line": {
          "color": "DarkSlateGrey",
          "width": 2
         },
         "marker": {
          "color": [
           0.283187,
           0.125848,
           0.44496
          ],
          "size": 9
         },
         "mode": "markers",
         "name": "age",
         "text": [
          "token: age || tf   : 4.0 || cluster: 22"
         ],
         "type": "scatter",
         "x": [
          0.1031634509563446
         ],
         "y": [
          8.45179557800293
         ]
        },
        {
         "line": {
          "color": "DarkSlateGrey",
          "width": 2
         },
         "marker": {
          "color": [
           0.278012,
           0.180367,
           0.486697
          ],
          "size": 9
         },
         "mode": "markers",
         "name": "and",
         "text": [
          "token: and || tf   : 26.0 || cluster: 33"
         ],
         "type": "scatter",
         "x": [
          3.674614429473877
         ],
         "y": [
          3.988457441329956
         ]
        },
        {
         "line": {
          "color": "DarkSlateGrey",
          "width": 2
         },
         "marker": {
          "color": [
           0.265145,
           0.232956,
           0.516599
          ],
          "size": 9
         },
         "mode": "markers",
         "name": "patients",
         "text": [
          "token: patients || tf   : 25.0 || cluster: 44"
         ],
         "type": "scatter",
         "x": [
          0.7379307746887207
         ],
         "y": [
          7.240241527557373
         ]
        },
        {
         "line": {
          "color": "DarkSlateGrey",
          "width": 2
         },
         "marker": {
          "color": [
           0.265145,
           0.232956,
           0.516599
          ],
          "size": 9
         },
         "mode": "markers",
         "name": "were",
         "text": [
          "token: were || tf   : 17.0 || cluster: 44"
         ],
         "type": "scatter",
         "x": [
          0.5356425046920776
         ],
         "y": [
          7.228262424468994
         ]
        },
        {
         "line": {
          "color": "DarkSlateGrey",
          "width": 2
         },
         "marker": {
          "color": [
           0.265145,
           0.232956,
           0.516599
          ],
          "size": 9
         },
         "mode": "markers",
         "name": "children",
         "text": [
          "token: children || tf   : 2.0 || cluster: 44"
         ],
         "type": "scatter",
         "x": [
          0.5627692341804504
         ],
         "y": [
          7.193490982055664
         ]
        },
        {
         "line": {
          "color": "DarkSlateGrey",
          "width": 2
         },
         "marker": {
          "color": [
           0.993248,
           0.906157,
           0.143936
          ],
          "size": 9
         },
         "mode": "markers",
         "name": "among",
         "text": [
          "token: among || tf   : 6.0 || cluster: -1"
         ],
         "type": "scatter",
         "x": [
          1.2455365657806396
         ],
         "y": [
          3.875744581222534
         ]
        },
        {
         "line": {
          "color": "DarkSlateGrey",
          "width": 2
         },
         "marker": {
          "color": [
           0.237441,
           0.305202,
           0.541921
          ],
          "size": 9
         },
         "mode": "markers",
         "name": "the",
         "text": [
          "token: the || tf   : 32.0 || cluster: 60"
         ],
         "type": "scatter",
         "x": [
          1.426081657409668
         ],
         "y": [
          4.1019673347473145
         ]
        },
        {
         "line": {
          "color": "DarkSlateGrey",
          "width": 2
         },
         "marker": {
          "color": [
           0.993248,
           0.906157,
           0.143936
          ],
          "size": 9
         },
         "mode": "markers",
         "name": "males",
         "text": [
          "token: males || tf   : 2.0 || cluster: -1"
         ],
         "type": "scatter",
         "x": [
          0.4994576573371887
         ],
         "y": [
          6.720849514007568
         ]
        },
        {
         "line": {
          "color": "DarkSlateGrey",
          "width": 2
         },
         "marker": {
          "color": [
           0.283091,
           0.110553,
           0.431554
          ],
          "size": 9
         },
         "mode": "markers",
         "name": "one",
         "text": [
          "token: one || tf   : 6.0 || cluster: 19"
         ],
         "type": "scatter",
         "x": [
          -0.30599507689476013
         ],
         "y": [
          7.102128028869629
         ]
        },
        {
         "line": {
          "color": "DarkSlateGrey",
          "width": 2
         },
         "marker": {
          "color": [
           0.263663,
           0.237631,
           0.518762
          ],
          "size": 9
         },
         "mode": "markers",
         "name": "child",
         "text": [
          "token: child || tf   : 2.0 || cluster: 45"
         ],
         "type": "scatter",
         "x": [
          0.9052810668945312
         ],
         "y": [
          6.939955234527588
         ]
        },
        {
         "line": {
          "color": "DarkSlateGrey",
          "width": 2
         },
         "marker": {
          "color": [
           0.993248,
           0.906157,
           0.143936
          ],
          "size": 9
         },
         "mode": "markers",
         "name": "was",
         "text": [
          "token: was || tf   : 15.0 || cluster: -1"
         ],
         "type": "scatter",
         "x": [
          1.579450011253357
         ],
         "y": [
          6.485645771026611
         ]
        },
        {
         "line": {
          "color": "DarkSlateGrey",
          "width": 2
         },
         "marker": {
          "color": [
           0.21813,
           0.347432,
           0.550038
          ],
          "size": 9
         },
         "mode": "markers",
         "name": "identified",
         "text": [
          "token: identified || tf   : 3.0 || cluster: 70"
         ],
         "type": "scatter",
         "x": [
          1.5102192163467407
         ],
         "y": [
          6.640526294708252
         ]
        },
        {
         "line": {
          "color": "DarkSlateGrey",
          "width": 2
         },
         "marker": {
          "color": [
           0.248629,
           0.278775,
           0.534556
          ],
          "size": 9
         },
         "mode": "markers",
         "name": "birth",
         "text": [
          "token: birth || tf   : 4.0 || cluster: 54"
         ],
         "type": "scatter",
         "x": [
          2.8073151111602783
         ],
         "y": [
          7.965456008911133
         ]
        },
        {
         "line": {
          "color": "DarkSlateGrey",
          "width": 2
         },
         "marker": {
          "color": [
           0.223925,
           0.334994,
           0.548053
          ],
          "size": 9
         },
         "mode": "markers",
         "name": "via",
         "text": [
          "token: via || tf   : 1.0 || cluster: 67"
         ],
         "type": "scatter",
         "x": [
          2.0378615856170654
         ],
         "y": [
          7.112094879150391
         ]
        },
        {
         "line": {
          "color": "DarkSlateGrey",
          "width": 2
         },
         "marker": {
          "color": [
           0.993248,
           0.906157,
           0.143936
          ],
          "size": 9
         },
         "mode": "markers",
         "name": "neon",
         "text": [
          "token: neon || tf   : 1.0 || cluster: -1"
         ],
         "type": "scatter",
         "x": [
          2.6833605766296387
         ],
         "y": [
          8.251347541809082
         ]
        },
        {
         "line": {
          "color": "DarkSlateGrey",
          "width": 2
         },
         "marker": {
          "color": [
           0.248629,
           0.278775,
           0.534556
          ],
          "size": 9
         },
         "mode": "markers",
         "name": "##atal",
         "text": [
          "token: ##atal || tf   : 1.0 || cluster: 54"
         ],
         "type": "scatter",
         "x": [
          2.7814507484436035
         ],
         "y": [
          8.096067428588867
         ]
        },
        {
         "line": {
          "color": "DarkSlateGrey",
          "width": 2
         },
         "marker": {
          "color": [
           0.993248,
           0.906157,
           0.143936
          ],
          "size": 9
         },
         "mode": "markers",
         "name": "screening",
         "text": [
          "token: screening || tf   : 1.0 || cluster: -1"
         ],
         "type": "scatter",
         "x": [
          1.92853844165802
         ],
         "y": [
          7.302002906799316
         ]
        },
        {
         "line": {
          "color": "DarkSlateGrey",
          "width": 2
         },
         "marker": {
          "color": [
           0.993248,
           0.906157,
           0.143936
          ],
          "size": 9
         },
         "mode": "markers",
         "name": "program",
         "text": [
          "token: program || tf   : 1.0 || cluster: -1"
         ],
         "type": "scatter",
         "x": [
          1.8822129964828491
         ],
         "y": [
          7.24446964263916
         ]
        },
        {
         "line": {
          "color": "DarkSlateGrey",
          "width": 2
         },
         "marker": {
          "color": [
           0.283091,
           0.110553,
           0.431554
          ],
          "size": 9
         },
         "mode": "markers",
         "name": "one",
         "text": [
          "token: one || tf   : 6.0 || cluster: 19"
         ],
         "type": "scatter",
         "x": [
          -0.24638624489307404
         ],
         "y": [
          7.154260635375977
         ]
        },
        {
         "line": {
          "color": "DarkSlateGrey",
          "width": 2
         },
         "marker": {
          "color": [
           0.263663,
           0.237631,
           0.518762
          ],
          "size": 9
         },
         "mode": "markers",
         "name": "child",
         "text": [
          "token: child || tf   : 2.0 || cluster: 45"
         ],
         "type": "scatter",
         "x": [
          0.9658595323562622
         ],
         "y": [
          7.027745723724365
         ]
        },
        {
         "line": {
          "color": "DarkSlateGrey",
          "width": 2
         },
         "marker": {
          "color": [
           0.993248,
           0.906157,
           0.143936
          ],
          "size": 9
         },
         "mode": "markers",
         "name": "presented",
         "text": [
          "token: presented || tf   : 9.0 || cluster: -1"
         ],
         "type": "scatter",
         "x": [
          1.511265754699707
         ],
         "y": [
          7.023838520050049
         ]
        },
        {
         "line": {
          "color": "DarkSlateGrey",
          "width": 2
         },
         "marker": {
          "color": [
           0.233603,
           0.313828,
           0.543914
          ],
          "size": 9
         },
         "mode": "markers",
         "name": "with",
         "text": [
          "token: with || tf   : 23.0 || cluster: 62"
         ],
         "type": "scatter",
         "x": [
          2.6690526008605957
         ],
         "y": [
          7.119307518005371
         ]
        },
        {
         "line": {
          "color": "DarkSlateGrey",
          "width": 2
         },
         "marker": {
          "color": [
           0.993248,
           0.906157,
           0.143936
          ],
          "size": 9
         },
         "mode": "markers",
         "name": "early",
         "text": [
          "token: early || tf   : 2.0 || cluster: -1"
         ],
         "type": "scatter",
         "x": [
          2.743555784225464
         ],
         "y": [
          8.521931648254395
         ]
        },
        {
         "line": {
          "color": "DarkSlateGrey",
          "width": 2
         },
         "marker": {
          "color": [
           0.244972,
           0.287675,
           0.53726
          ],
          "size": 9
         },
         "mode": "markers",
         "name": "pub",
         "text": [
          "token: pub || tf   : 3.0 || cluster: 56"
         ],
         "type": "scatter",
         "x": [
          2.9118993282318115
         ],
         "y": [
          9.113184928894043
         ]
        },
        {
         "line": {
          "color": "DarkSlateGrey",
          "width": 2
         },
         "marker": {
          "color": [
           0.246811,
           0.283237,
           0.535941
          ],
          "size": 9
         },
         "mode": "markers",
         "name": "##ar",
         "text": [
          "token: ##ar || tf   : 4.0 || cluster: 55"
         ],
         "type": "scatter",
         "x": [
          3.1579208374023438
         ],
         "y": [
          9.571613311767578
         ]
        },
        {
         "line": {
          "color": "DarkSlateGrey",
          "width": 2
         },
         "marker": {
          "color": [
           0.993248,
           0.906157,
           0.143936
          ],
          "size": 9
         },
         "mode": "markers",
         "name": "##che",
         "text": [
          "token: ##che || tf   : 4.0 || cluster: -1"
         ],
         "type": "scatter",
         "x": [
          3.4806978702545166
         ],
         "y": [
          9.127297401428223
         ]
        },
        {
         "line": {
          "color": "DarkSlateGrey",
          "width": 2
         },
         "marker": {
          "color": [
           0.993248,
           0.906157,
           0.143936
          ],
          "size": 9
         },
         "mode": "markers",
         "name": "the",
         "text": [
          "token: the || tf   : 32.0 || cluster: -1"
         ],
         "type": "scatter",
         "x": [
          1.7265311479568481
         ],
         "y": [
          4.0342936515808105
         ]
        },
        {
         "line": {
          "color": "DarkSlateGrey",
          "width": 2
         },
         "marker": {
          "color": [
           0.993248,
           0.906157,
           0.143936
          ],
          "size": 9
         },
         "mode": "markers",
         "name": "other",
         "text": [
          "token: other || tf   : 1.0 || cluster: -1"
         ],
         "type": "scatter",
         "x": [
          1.788696527481079
         ],
         "y": [
          4.014546871185303
         ]
        },
        {
         "line": {
          "color": "DarkSlateGrey",
          "width": 2
         },
         "marker": {
          "color": [
           0.263663,
           0.237631,
           0.518762
          ],
          "size": 9
         },
         "mode": "markers",
         "name": "infants",
         "text": [
          "token: infants || tf   : 2.0 || cluster: 45"
         ],
         "type": "scatter",
         "x": [
          0.9679176807403564
         ],
         "y": [
          7.015755653381348
         ]
        },
        {
         "line": {
          "color": "DarkSlateGrey",
          "width": 2
         },
         "marker": {
          "color": [
           0.993248,
           0.906157,
           0.143936
          ],
          "size": 9
         },
         "mode": "markers",
         "name": "presented",
         "text": [
          "token: presented || tf   : 9.0 || cluster: -1"
         ],
         "type": "scatter",
         "x": [
          1.473412036895752
         ],
         "y": [
          7.075354099273682
         ]
        },
        {
         "line": {
          "color": "DarkSlateGrey",
          "width": 2
         },
         "marker": {
          "color": [
           0.225863,
           0.330805,
           0.547314
          ],
          "size": 9
         },
         "mode": "markers",
         "name": "between",
         "text": [
          "token: between || tf   : 4.0 || cluster: 66"
         ],
         "type": "scatter",
         "x": [
          2.0817527770996094
         ],
         "y": [
          7.533667087554932
         ]
        },
        {
         "line": {
          "color": "DarkSlateGrey",
          "width": 2
         },
         "marker": {
          "color": [
           0.993248,
           0.906157,
           0.143936
          ],
          "size": 9
         },
         "mode": "markers",
         "name": "their",
         "text": [
          "token: their || tf   : 3.0 || cluster: -1"
         ],
         "type": "scatter",
         "x": [
          2.0041537284851074
         ],
         "y": [
          7.8122124671936035
         ]
        },
        {
         "line": {
          "color": "DarkSlateGrey",
          "width": 2
         },
         "marker": {
          "color": [
           0.248629,
           0.278775,
           0.534556
          ],
          "size": 9
         },
         "mode": "markers",
         "name": "3rd",
         "text": [
          "token: 3rd || tf   : 1.0 || cluster: 54"
         ],
         "type": "scatter",
         "x": [
          2.0197179317474365
         ],
         "y": [
          8.138373374938965
         ]
        },
        {
         "line": {
          "color": "DarkSlateGrey",
          "width": 2
         },
         "marker": {
          "color": [
           0.993248,
           0.906157,
           0.143936
          ],
          "size": 9
         },
         "mode": "markers",
         "name": "and",
         "text": [
          "token: and || tf   : 26.0 || cluster: -1"
         ],
         "type": "scatter",
         "x": [
          2.0519683361053467
         ],
         "y": [
          7.960235595703125
         ]
        },
        {
         "line": {
          "color": "DarkSlateGrey",
          "width": 2
         },
         "marker": {
          "color": [
           0.248629,
           0.278775,
           0.534556
          ],
          "size": 9
         },
         "mode": "markers",
         "name": "6th",
         "text": [
          "token: 6th || tf   : 1.0 || cluster: 54"
         ],
         "type": "scatter",
         "x": [
          2.084693431854248
         ],
         "y": [
          8.158638000488281
         ]
        },
        {
         "line": {
          "color": "DarkSlateGrey",
          "width": 2
         },
         "marker": {
          "color": [
           0.248629,
           0.278775,
           0.534556
          ],
          "size": 9
         },
         "mode": "markers",
         "name": "week",
         "text": [
          "token: week || tf   : 2.0 || cluster: 54"
         ],
         "type": "scatter",
         "x": [
          2.2977454662323
         ],
         "y": [
          8.136314392089844
         ]
        },
        {
         "line": {
          "color": "DarkSlateGrey",
          "width": 2
         },
         "marker": {
          "color": [
           0.248629,
           0.278775,
           0.534556
          ],
          "size": 9
         },
         "mode": "markers",
         "name": "life",
         "text": [
          "token: life || tf   : 3.0 || cluster: 54"
         ],
         "type": "scatter",
         "x": [
          2.6059818267822266
         ],
         "y": [
          8.083632469177246
         ]
        },
        {
         "line": {
          "color": "DarkSlateGrey",
          "width": 2
         },
         "marker": {
          "color": [
           0.243113,
           0.292092,
           0.538516
          ],
          "size": 9
         },
         "mode": "markers",
         "name": "with",
         "text": [
          "token: with || tf   : 23.0 || cluster: 57"
         ],
         "type": "scatter",
         "x": [
          3.877558946609497
         ],
         "y": [
          6.331277847290039
         ]
        },
        {
         "line": {
          "color": "DarkSlateGrey",
          "width": 2
         },
         "marker": {
          "color": [
           0.235526,
           0.309527,
           0.542944
          ],
          "size": 9
         },
         "mode": "markers",
         "name": "features",
         "text": [
          "token: features || tf   : 4.0 || cluster: 61"
         ],
         "type": "scatter",
         "x": [
          3.4224069118499756
         ],
         "y": [
          7.020406246185303
         ]
        },
        {
         "line": {
          "color": "DarkSlateGrey",
          "width": 2
         },
         "marker": {
          "color": [
           0.231674,
           0.318106,
           0.544834
          ],
          "size": 9
         },
         "mode": "markers",
         "name": "suggest",
         "text": [
          "token: suggest || tf   : 2.0 || cluster: 63"
         ],
         "type": "scatter",
         "x": [
          3.1625537872314453
         ],
         "y": [
          6.868436813354492
         ]
        },
        {
         "line": {
          "color": "DarkSlateGrey",
          "width": 2
         },
         "marker": {
          "color": [
           0.231674,
           0.318106,
           0.544834
          ],
          "size": 9
         },
         "mode": "markers",
         "name": "##ive",
         "text": [
          "token: ##ive || tf   : 3.0 || cluster: 63"
         ],
         "type": "scatter",
         "x": [
          3.1279842853546143
         ],
         "y": [
          6.895076751708984
         ]
        },
        {
         "line": {
          "color": "DarkSlateGrey",
          "width": 2
         },
         "marker": {
          "color": [
           0.993248,
           0.906157,
           0.143936
          ],
          "size": 9
         },
         "mode": "markers",
         "name": "##ren",
         "text": [
          "token: ##ren || tf   : 7.0 || cluster: -1"
         ],
         "type": "scatter",
         "x": [
          3.427417755126953
         ],
         "y": [
          9.587142944335938
         ]
        },
        {
         "line": {
          "color": "DarkSlateGrey",
          "width": 2
         },
         "marker": {
          "color": [
           0.993248,
           0.906157,
           0.143936
          ],
          "size": 9
         },
         "mode": "markers",
         "name": "##al",
         "text": [
          "token: ##al || tf   : 7.0 || cluster: -1"
         ],
         "type": "scatter",
         "x": [
          3.336411237716675
         ],
         "y": [
          9.35991382598877
         ]
        },
        {
         "line": {
          "color": "DarkSlateGrey",
          "width": 2
         },
         "marker": {
          "color": [
           0.244972,
           0.287675,
           0.53726
          ],
          "size": 9
         },
         "mode": "markers",
         "name": "crisis",
         "text": [
          "token: crisis || tf   : 3.0 || cluster: 56"
         ],
         "type": "scatter",
         "x": [
          3.191171884536743
         ],
         "y": [
          8.94049072265625
         ]
        },
        {
         "line": {
          "color": "DarkSlateGrey",
          "width": 2
         },
         "marker": {
          "color": [
           0.993248,
           0.906157,
           0.143936
          ],
          "size": 9
         },
         "mode": "markers",
         "name": "poor",
         "text": [
          "token: poor || tf   : 2.0 || cluster: -1"
         ],
         "type": "scatter",
         "x": [
          4.0309858322143555
         ],
         "y": [
          5.648750305175781
         ]
        },
        {
         "line": {
          "color": "DarkSlateGrey",
          "width": 2
         },
         "marker": {
          "color": [
           0.282884,
           0.13592,
           0.453427
          ],
          "size": 9
         },
         "mode": "markers",
         "name": "feeding",
         "text": [
          "token: feeding || tf   : 1.0 || cluster: 24"
         ],
         "type": "scatter",
         "x": [
          4.485183238983154
         ],
         "y": [
          5.463837623596191
         ]
        },
        {
         "line": {
          "color": "DarkSlateGrey",
          "width": 2
         },
         "marker": {
          "color": [
           0.282884,
           0.13592,
           0.453427
          ],
          "size": 9
         },
         "mode": "markers",
         "name": "vomiting",
         "text": [
          "token: vomiting || tf   : 1.0 || cluster: 24"
         ],
         "type": "scatter",
         "x": [
          4.468899250030518
         ],
         "y": [
          5.435686111450195
         ]
        },
        {
         "line": {
          "color": "DarkSlateGrey",
          "width": 2
         },
         "marker": {
          "color": [
           0.277134,
           0.185228,
           0.489898
          ],
          "size": 9
         },
         "mode": "markers",
         "name": "and",
         "text": [
          "token: and || tf   : 26.0 || cluster: 34"
         ],
         "type": "scatter",
         "x": [
          4.0222883224487305
         ],
         "y": [
          4.898926258087158
         ]
        },
        {
         "line": {
          "color": "DarkSlateGrey",
          "width": 2
         },
         "marker": {
          "color": [
           0.282884,
           0.13592,
           0.453427
          ],
          "size": 9
         },
         "mode": "markers",
         "name": "failure",
         "text": [
          "token: failure || tf   : 2.0 || cluster: 24"
         ],
         "type": "scatter",
         "x": [
          4.374824047088623
         ],
         "y": [
          5.498687744140625
         ]
        },
        {
         "line": {
          "color": "DarkSlateGrey",
          "width": 2
         },
         "marker": {
          "color": [
           0.282884,
           0.13592,
           0.453427
          ],
          "size": 9
         },
         "mode": "markers",
         "name": "gain",
         "text": [
          "token: gain || tf   : 1.0 || cluster: 24"
         ],
         "type": "scatter",
         "x": [
          4.564991474151611
         ],
         "y": [
          5.4917073249816895
         ]
        },
        {
         "line": {
          "color": "DarkSlateGrey",
          "width": 2
         },
         "marker": {
          "color": [
           0.282884,
           0.13592,
           0.453427
          ],
          "size": 9
         },
         "mode": "markers",
         "name": "weight",
         "text": [
          "token: weight || tf   : 1.0 || cluster: 24"
         ],
         "type": "scatter",
         "x": [
          4.628971099853516
         ],
         "y": [
          5.524646282196045
         ]
        },
        {
         "line": {
          "color": "DarkSlateGrey",
          "width": 2
         },
         "marker": {
          "color": [
           0.283091,
           0.110553,
           0.431554
          ],
          "size": 9
         },
         "mode": "markers",
         "name": "one",
         "text": [
          "token: one || tf   : 6.0 || cluster: 19"
         ],
         "type": "scatter",
         "x": [
          -0.24236343801021576
         ],
         "y": [
          6.916686534881592
         ]
        },
        {
         "line": {
          "color": "DarkSlateGrey",
          "width": 2
         },
         "marker": {
          "color": [
           0.237441,
           0.305202,
           0.541921
          ],
          "size": 9
         },
         "mode": "markers",
         "name": "the",
         "text": [
          "token: the || tf   : 32.0 || cluster: 60"
         ],
         "type": "scatter",
         "x": [
          1.4278974533081055
         ],
         "y": [
          4.157210350036621
         ]
        },
        {
         "line": {
          "color": "DarkSlateGrey",
          "width": 2
         },
         "marker": {
          "color": [
           0.271828,
           0.209303,
           0.504434
          ],
          "size": 9
         },
         "mode": "markers",
         "name": "male",
         "text": [
          "token: male || tf   : 2.0 || cluster: 39"
         ],
         "type": "scatter",
         "x": [
          0.4585789740085602
         ],
         "y": [
          6.663328647613525
         ]
        },
        {
         "line": {
          "color": "DarkSlateGrey",
          "width": 2
         },
         "marker": {
          "color": [
           0.993248,
           0.906157,
           0.143936
          ],
          "size": 9
         },
         "mode": "markers",
         "name": "patients",
         "text": [
          "token: patients || tf   : 25.0 || cluster: -1"
         ],
         "type": "scatter",
         "x": [
          0.7945730686187744
         ],
         "y": [
          6.760375022888184
         ]
        },
        {
         "line": {
          "color": "DarkSlateGrey",
          "width": 2
         },
         "marker": {
          "color": [
           0.993248,
           0.906157,
           0.143936
          ],
          "size": 9
         },
         "mode": "markers",
         "name": "incident",
         "text": [
          "token: incident || tf   : 1.0 || cluster: -1"
         ],
         "type": "scatter",
         "x": [
          1.3612356185913086
         ],
         "y": [
          6.8406901359558105
         ]
        },
        {
         "line": {
          "color": "DarkSlateGrey",
          "width": 2
         },
         "marker": {
          "color": [
           0.993248,
           0.906157,
           0.143936
          ],
          "size": 9
         },
         "mode": "markers",
         "name": "##ally",
         "text": [
          "token: ##ally || tf   : 1.0 || cluster: -1"
         ],
         "type": "scatter",
         "x": [
          1.595349907875061
         ],
         "y": [
          6.744812965393066
         ]
        },
        {
         "line": {
          "color": "DarkSlateGrey",
          "width": 2
         },
         "marker": {
          "color": [
           0.993248,
           0.906157,
           0.143936
          ],
          "size": 9
         },
         "mode": "markers",
         "name": "also",
         "text": [
          "token: also || tf   : 4.0 || cluster: -1"
         ],
         "type": "scatter",
         "x": [
          1.8064343929290771
         ],
         "y": [
          6.587367057800293
         ]
        },
        {
         "line": {
          "color": "DarkSlateGrey",
          "width": 2
         },
         "marker": {
          "color": [
           0.993248,
           0.906157,
           0.143936
          ],
          "size": 9
         },
         "mode": "markers",
         "name": "had",
         "text": [
          "token: had || tf   : 8.0 || cluster: -1"
         ],
         "type": "scatter",
         "x": [
          2.276721715927124
         ],
         "y": [
          6.157985687255859
         ]
        },
        {
         "line": {
          "color": "DarkSlateGrey",
          "width": 2
         },
         "marker": {
          "color": [
           0.993248,
           0.906157,
           0.143936
          ],
          "size": 9
         },
         "mode": "markers",
         "name": "pen",
         "text": [
          "token: pen || tf   : 1.0 || cluster: -1"
         ],
         "type": "scatter",
         "x": [
          2.702261447906494
         ],
         "y": [
          10.032023429870605
         ]
        },
        {
         "line": {
          "color": "DarkSlateGrey",
          "width": 2
         },
         "marker": {
          "color": [
           0.246811,
           0.283237,
           0.535941
          ],
          "size": 9
         },
         "mode": "markers",
         "name": "##os",
         "text": [
          "token: ##os || tf   : 3.0 || cluster: 55"
         ],
         "type": "scatter",
         "x": [
          3.052156925201416
         ],
         "y": [
          9.937250137329102
         ]
        },
        {
         "line": {
          "color": "DarkSlateGrey",
          "width": 2
         },
         "marker": {
          "color": [
           0.246811,
           0.283237,
           0.535941
          ],
          "size": 9
         },
         "mode": "markers",
         "name": "##cr",
         "text": [
          "token: ##cr || tf   : 1.0 || cluster: 55"
         ],
         "type": "scatter",
         "x": [
          3.0208187103271484
         ],
         "y": [
          9.940084457397461
         ]
        },
        {
         "line": {
          "color": "DarkSlateGrey",
          "width": 2
         },
         "marker": {
          "color": [
           0.246811,
           0.283237,
           0.535941
          ],
          "size": 9
         },
         "mode": "markers",
         "name": "##ota",
         "text": [
          "token: ##ota || tf   : 1.0 || cluster: 55"
         ],
         "type": "scatter",
         "x": [
          3.075045108795166
         ],
         "y": [
          9.894590377807617
         ]
        },
        {
         "line": {
          "color": "DarkSlateGrey",
          "width": 2
         },
         "marker": {
          "color": [
           0.246811,
           0.283237,
           0.535941
          ],
          "size": 9
         },
         "mode": "markers",
         "name": "##l",
         "text": [
          "token: ##l || tf   : 1.0 || cluster: 55"
         ],
         "type": "scatter",
         "x": [
          3.1740500926971436
         ],
         "y": [
          9.780118942260742
         ]
        },
        {
         "line": {
          "color": "DarkSlateGrey",
          "width": 2
         },
         "marker": {
          "color": [
           0.246811,
           0.283237,
           0.535941
          ],
          "size": 9
         },
         "mode": "markers",
         "name": "##yp",
         "text": [
          "token: ##yp || tf   : 1.0 || cluster: 55"
         ],
         "type": "scatter",
         "x": [
          3.024240016937256
         ],
         "y": [
          9.907909393310547
         ]
        },
        {
         "line": {
          "color": "DarkSlateGrey",
          "width": 2
         },
         "marker": {
          "color": [
           0.246811,
           0.283237,
           0.535941
          ],
          "size": 9
         },
         "mode": "markers",
         "name": "##os",
         "text": [
          "token: ##os || tf   : 3.0 || cluster: 55"
         ],
         "type": "scatter",
         "x": [
          3.0515503883361816
         ],
         "y": [
          9.893919944763184
         ]
        },
        {
         "line": {
          "color": "DarkSlateGrey",
          "width": 2
         },
         "marker": {
          "color": [
           0.246811,
           0.283237,
           0.535941
          ],
          "size": 9
         },
         "mode": "markers",
         "name": "##pad",
         "text": [
          "token: ##pad || tf   : 1.0 || cluster: 55"
         ],
         "type": "scatter",
         "x": [
          3.0603220462799072
         ],
         "y": [
          9.90922737121582
         ]
        },
        {
         "line": {
          "color": "DarkSlateGrey",
          "width": 2
         },
         "marker": {
          "color": [
           0.246811,
           0.283237,
           0.535941
          ],
          "size": 9
         },
         "mode": "markers",
         "name": "##ias",
         "text": [
          "token: ##ias || tf   : 1.0 || cluster: 55"
         ],
         "type": "scatter",
         "x": [
          3.191678047180176
         ],
         "y": [
          9.677801132202148
         ]
        },
        {
         "line": {
          "color": "DarkSlateGrey",
          "width": 2
         },
         "marker": {
          "color": [
           0.21813,
           0.347432,
           0.550038
          ],
          "size": 9
         },
         "mode": "markers",
         "name": "which",
         "text": [
          "token: which || tf   : 5.0 || cluster: 70"
         ],
         "type": "scatter",
         "x": [
          1.5476019382476807
         ],
         "y": [
          6.282132625579834
         ]
        },
        {
         "line": {
          "color": "DarkSlateGrey",
          "width": 2
         },
         "marker": {
          "color": [
           0.993248,
           0.906157,
           0.143936
          ],
          "size": 9
         },
         "mode": "markers",
         "name": "was",
         "text": [
          "token: was || tf   : 15.0 || cluster: -1"
         ],
         "type": "scatter",
         "x": [
          1.5000964403152466
         ],
         "y": [
          6.010798931121826
         ]
        },
        {
         "line": {
          "color": "DarkSlateGrey",
          "width": 2
         },
         "marker": {
          "color": [
           0.993248,
           0.906157,
           0.143936
          ],
          "size": 9
         },
         "mode": "markers",
         "name": "surgical",
         "text": [
          "token: surgical || tf   : 1.0 || cluster: -1"
         ],
         "type": "scatter",
         "x": [
          1.2677110433578491
         ],
         "y": [
          6.220155715942383
         ]
        },
        {
         "line": {
          "color": "DarkSlateGrey",
          "width": 2
         },
         "marker": {
          "color": [
           0.21813,
           0.347432,
           0.550038
          ],
          "size": 9
         },
         "mode": "markers",
         "name": "##ly",
         "text": [
          "token: ##ly || tf   : 2.0 || cluster: 70"
         ],
         "type": "scatter",
         "x": [
          1.4804270267486572
         ],
         "y": [
          6.081592559814453
         ]
        },
        {
         "line": {
          "color": "DarkSlateGrey",
          "width": 2
         },
         "marker": {
          "color": [
           0.220057,
           0.343307,
           0.549413
          ],
          "size": 9
         },
         "mode": "markers",
         "name": "corrected",
         "text": [
          "token: corrected || tf   : 1.0 || cluster: 69"
         ],
         "type": "scatter",
         "x": [
          1.205604910850525
         ],
         "y": [
          6.197499752044678
         ]
        },
        {
         "line": {
          "color": "DarkSlateGrey",
          "width": 2
         },
         "marker": {
          "color": [
           0.239346,
           0.300855,
           0.540844
          ],
          "size": 9
         },
         "mode": "markers",
         "name": "among",
         "text": [
          "token: among || tf   : 6.0 || cluster: 59"
         ],
         "type": "scatter",
         "x": [
          1.0335134267807007
         ],
         "y": [
          3.838340997695923
         ]
        },
        {
         "line": {
          "color": "DarkSlateGrey",
          "width": 2
         },
         "marker": {
          "color": [
           0.237441,
           0.305202,
           0.541921
          ],
          "size": 9
         },
         "mode": "markers",
         "name": "the",
         "text": [
          "token: the || tf   : 32.0 || cluster: 60"
         ],
         "type": "scatter",
         "x": [
          1.4450674057006836
         ],
         "y": [
          4.155580043792725
         ]
        },
        {
         "line": {
          "color": "DarkSlateGrey",
          "width": 2
         },
         "marker": {
          "color": [
           0.993248,
           0.906157,
           0.143936
          ],
          "size": 9
         },
         "mode": "markers",
         "name": "females",
         "text": [
          "token: females || tf   : 3.0 || cluster: -1"
         ],
         "type": "scatter",
         "x": [
          0.48837000131607056
         ],
         "y": [
          6.710238456726074
         ]
        },
        {
         "line": {
          "color": "DarkSlateGrey",
          "width": 2
         },
         "marker": {
          "color": [
           0.263663,
           0.237631,
           0.518762
          ],
          "size": 9
         },
         "mode": "markers",
         "name": "infants",
         "text": [
          "token: infants || tf   : 2.0 || cluster: 45"
         ],
         "type": "scatter",
         "x": [
          0.9225477576255798
         ],
         "y": [
          6.9267897605896
         ]
        },
        {
         "line": {
          "color": "DarkSlateGrey",
          "width": 2
         },
         "marker": {
          "color": [
           0.21813,
           0.347432,
           0.550038
          ],
          "size": 9
         },
         "mode": "markers",
         "name": "were",
         "text": [
          "token: were || tf   : 17.0 || cluster: 70"
         ],
         "type": "scatter",
         "x": [
          1.5053905248641968
         ],
         "y": [
          6.489720821380615
         ]
        },
        {
         "line": {
          "color": "DarkSlateGrey",
          "width": 2
         },
         "marker": {
          "color": [
           0.21813,
           0.347432,
           0.550038
          ],
          "size": 9
         },
         "mode": "markers",
         "name": "identified",
         "text": [
          "token: identified || tf   : 3.0 || cluster: 70"
         ],
         "type": "scatter",
         "x": [
          1.4227721691131592
         ],
         "y": [
          6.677000999450684
         ]
        },
        {
         "line": {
          "color": "DarkSlateGrey",
          "width": 2
         },
         "marker": {
          "color": [
           0.248629,
           0.278775,
           0.534556
          ],
          "size": 9
         },
         "mode": "markers",
         "name": "birth",
         "text": [
          "token: birth || tf   : 4.0 || cluster: 54"
         ],
         "type": "scatter",
         "x": [
          2.8306734561920166
         ],
         "y": [
          7.959647178649902
         ]
        },
        {
         "line": {
          "color": "DarkSlateGrey",
          "width": 2
         },
         "marker": {
          "color": [
           0.223925,
           0.334994,
           0.548053
          ],
          "size": 9
         },
         "mode": "markers",
         "name": "due",
         "text": [
          "token: due || tf   : 4.0 || cluster: 67"
         ],
         "type": "scatter",
         "x": [
          2.3303864002227783
         ],
         "y": [
          7.126014232635498
         ]
        },
        {
         "line": {
          "color": "DarkSlateGrey",
          "width": 2
         },
         "marker": {
          "color": [
           0.233603,
           0.313828,
           0.543914
          ],
          "size": 9
         },
         "mode": "markers",
         "name": "presence",
         "text": [
          "token: presence || tf   : 2.0 || cluster: 62"
         ],
         "type": "scatter",
         "x": [
          2.826629161834717
         ],
         "y": [
          7.084364891052246
         ]
        },
        {
         "line": {
          "color": "DarkSlateGrey",
          "width": 2
         },
         "marker": {
          "color": [
           0.244972,
           0.287675,
           0.53726
          ],
          "size": 9
         },
         "mode": "markers",
         "name": "gen",
         "text": [
          "token: gen || tf   : 3.0 || cluster: 56"
         ],
         "type": "scatter",
         "x": [
          3.107292652130127
         ],
         "y": [
          9.150818824768066
         ]
        },
        {
         "line": {
          "color": "DarkSlateGrey",
          "width": 2
         },
         "marker": {
          "color": [
           0.244972,
           0.287675,
           0.53726
          ],
          "size": 9
         },
         "mode": "markers",
         "name": "##ital",
         "text": [
          "token: ##ital || tf   : 3.0 || cluster: 56"
         ],
         "type": "scatter",
         "x": [
          3.2395944595336914
         ],
         "y": [
          9.180432319641113
         ]
        },
        {
         "line": {
          "color": "DarkSlateGrey",
          "width": 2
         },
         "marker": {
          "color": [
           0.993248,
           0.906157,
           0.143936
          ],
          "size": 9
         },
         "mode": "markers",
         "name": "ambiguity",
         "text": [
          "token: ambiguity || tf   : 3.0 || cluster: -1"
         ],
         "type": "scatter",
         "x": [
          3.282919406890869
         ],
         "y": [
          8.800846099853516
         ]
        },
        {
         "line": {
          "color": "DarkSlateGrey",
          "width": 2
         },
         "marker": {
          "color": [
           0.263663,
           0.237631,
           0.518762
          ],
          "size": 9
         },
         "mode": "markers",
         "name": "presented",
         "text": [
          "token: presented || tf   : 9.0 || cluster: 45"
         ],
         "type": "scatter",
         "x": [
          1.44635808467865
         ],
         "y": [
          7.345250129699707
         ]
        },
        {
         "line": {
          "color": "DarkSlateGrey",
          "width": 2
         },
         "marker": {
          "color": [
           0.993248,
           0.906157,
           0.143936
          ],
          "size": 9
         },
         "mode": "markers",
         "name": "with",
         "text": [
          "token: with || tf   : 23.0 || cluster: -1"
         ],
         "type": "scatter",
         "x": [
          1.9989491701126099
         ],
         "y": [
          7.365753173828125
         ]
        },
        {
         "line": {
          "color": "DarkSlateGrey",
          "width": 2
         },
         "marker": {
          "color": [
           0.225863,
           0.330805,
           0.547314
          ],
          "size": 9
         },
         "mode": "markers",
         "name": "symptoms",
         "text": [
          "token: symptoms || tf   : 1.0 || cluster: 66"
         ],
         "type": "scatter",
         "x": [
          2.0097949504852295
         ],
         "y": [
          7.675631046295166
         ]
        },
        {
         "line": {
          "color": "DarkSlateGrey",
          "width": 2
         },
         "marker": {
          "color": [
           0.246811,
           0.283237,
           0.535941
          ],
          "size": 9
         },
         "mode": "markers",
         "name": "##ren",
         "text": [
          "token: ##ren || tf   : 7.0 || cluster: 55"
         ],
         "type": "scatter",
         "x": [
          3.1875271797180176
         ],
         "y": [
          9.522334098815918
         ]
        },
        {
         "line": {
          "color": "DarkSlateGrey",
          "width": 2
         },
         "marker": {
          "color": [
           0.244972,
           0.287675,
           0.53726
          ],
          "size": 9
         },
         "mode": "markers",
         "name": "##al",
         "text": [
          "token: ##al || tf   : 7.0 || cluster: 56"
         ],
         "type": "scatter",
         "x": [
          3.034167766571045
         ],
         "y": [
          9.2511568069458
         ]
        },
        {
         "line": {
          "color": "DarkSlateGrey",
          "width": 2
         },
         "marker": {
          "color": [
           0.993248,
           0.906157,
           0.143936
          ],
          "size": 9
         },
         "mode": "markers",
         "name": "crisis",
         "text": [
          "token: crisis || tf   : 3.0 || cluster: -1"
         ],
         "type": "scatter",
         "x": [
          3.020909309387207
         ],
         "y": [
          8.78198528289795
         ]
        },
        {
         "line": {
          "color": "DarkSlateGrey",
          "width": 2
         },
         "marker": {
          "color": [
           0.248629,
           0.278775,
           0.534556
          ],
          "size": 9
         },
         "mode": "markers",
         "name": "weeks",
         "text": [
          "token: weeks || tf   : 1.0 || cluster: 54"
         ],
         "type": "scatter",
         "x": [
          2.257089614868164
         ],
         "y": [
          8.255228042602539
         ]
        },
        {
         "line": {
          "color": "DarkSlateGrey",
          "width": 2
         },
         "marker": {
          "color": [
           0.248629,
           0.278775,
           0.534556
          ],
          "size": 9
         },
         "mode": "markers",
         "name": "life",
         "text": [
          "token: life || tf   : 3.0 || cluster: 54"
         ],
         "type": "scatter",
         "x": [
          2.540207862854004
         ],
         "y": [
          8.254093170166016
         ]
        },
        {
         "line": {
          "color": "DarkSlateGrey",
          "width": 2
         },
         "marker": {
          "color": [
           0.263663,
           0.237631,
           0.518762
          ],
          "size": 9
         },
         "mode": "markers",
         "name": "patients",
         "text": [
          "token: patients || tf   : 25.0 || cluster: 45"
         ],
         "type": "scatter",
         "x": [
          1.0339653491973877
         ],
         "y": [
          7.262254238128662
         ]
        },
        {
         "line": {
          "color": "DarkSlateGrey",
          "width": 2
         },
         "marker": {
          "color": [
           0.263663,
           0.237631,
           0.518762
          ],
          "size": 9
         },
         "mode": "markers",
         "name": "presented",
         "text": [
          "token: presented || tf   : 9.0 || cluster: 45"
         ],
         "type": "scatter",
         "x": [
          1.4401612281799316
         ],
         "y": [
          7.364760875701904
         ]
        },
        {
         "line": {
          "color": "DarkSlateGrey",
          "width": 2
         },
         "marker": {
          "color": [
           0.225863,
           0.330805,
           0.547314
          ],
          "size": 9
         },
         "mode": "markers",
         "name": "the",
         "text": [
          "token: the || tf   : 32.0 || cluster: 66"
         ],
         "type": "scatter",
         "x": [
          2.4150948524475098
         ],
         "y": [
          7.603899955749512
         ]
        },
        {
         "line": {
          "color": "DarkSlateGrey",
          "width": 2
         },
         "marker": {
          "color": [
           0.250425,
           0.27429,
           0.533103
          ],
          "size": 9
         },
         "mode": "markers",
         "name": "pre",
         "text": [
          "token: pre || tf   : 1.0 || cluster: 53"
         ],
         "type": "scatter",
         "x": [
          2.5780506134033203
         ],
         "y": [
          8.690529823303223
         ]
        },
        {
         "line": {
          "color": "DarkSlateGrey",
          "width": 2
         },
         "marker": {
          "color": [
           0.993248,
           0.906157,
           0.143936
          ],
          "size": 9
         },
         "mode": "markers",
         "name": "pub",
         "text": [
          "token: pub || tf   : 3.0 || cluster: -1"
         ],
         "type": "scatter",
         "x": [
          2.7271692752838135
         ],
         "y": [
          9.048955917358398
         ]
        },
        {
         "line": {
          "color": "DarkSlateGrey",
          "width": 2
         },
         "marker": {
          "color": [
           0.244972,
           0.287675,
           0.53726
          ],
          "size": 9
         },
         "mode": "markers",
         "name": "##ert",
         "text": [
          "token: ##ert || tf   : 2.0 || cluster: 56"
         ],
         "type": "scatter",
         "x": [
          2.8624002933502197
         ],
         "y": [
          9.215349197387695
         ]
        },
        {
         "line": {
          "color": "DarkSlateGrey",
          "width": 2
         },
         "marker": {
          "color": [
           0.993248,
           0.906157,
           0.143936
          ],
          "size": 9
         },
         "mode": "markers",
         "name": "##al",
         "text": [
          "token: ##al || tf   : 7.0 || cluster: -1"
         ],
         "type": "scatter",
         "x": [
          2.8104023933410645
         ],
         "y": [
          8.975347518920898
         ]
        },
        {
         "line": {
          "color": "DarkSlateGrey",
          "width": 2
         },
         "marker": {
          "color": [
           0.250425,
           0.27429,
           0.533103
          ],
          "size": 9
         },
         "mode": "markers",
         "name": "period",
         "text": [
          "token: period || tf   : 4.0 || cluster: 53"
         ],
         "type": "scatter",
         "x": [
          2.6549248695373535
         ],
         "y": [
          8.514264106750488
         ]
        },
        {
         "line": {
          "color": "DarkSlateGrey",
          "width": 2
         },
         "marker": {
          "color": [
           0.225863,
           0.330805,
           0.547314
          ],
          "size": 9
         },
         "mode": "markers",
         "name": "due",
         "text": [
          "token: due || tf   : 4.0 || cluster: 66"
         ],
         "type": "scatter",
         "x": [
          2.190685987472534
         ],
         "y": [
          7.532382011413574
         ]
        },
        {
         "line": {
          "color": "DarkSlateGrey",
          "width": 2
         },
         "marker": {
          "color": [
           0.250425,
           0.27429,
           0.533103
          ],
          "size": 9
         },
         "mode": "markers",
         "name": "early",
         "text": [
          "token: early || tf   : 2.0 || cluster: 53"
         ],
         "type": "scatter",
         "x": [
          2.533808708190918
         ],
         "y": [
          8.707464218139648
         ]
        },
        {
         "line": {
          "color": "DarkSlateGrey",
          "width": 2
         },
         "marker": {
          "color": [
           0.993248,
           0.906157,
           0.143936
          ],
          "size": 9
         },
         "mode": "markers",
         "name": "onset",
         "text": [
          "token: onset || tf   : 1.0 || cluster: -1"
         ],
         "type": "scatter",
         "x": [
          2.6072964668273926
         ],
         "y": [
          8.817383766174316
         ]
        },
        {
         "line": {
          "color": "DarkSlateGrey",
          "width": 2
         },
         "marker": {
          "color": [
           0.246811,
           0.283237,
           0.535941
          ],
          "size": 9
         },
         "mode": "markers",
         "name": "##ren",
         "text": [
          "token: ##ren || tf   : 7.0 || cluster: 55"
         ],
         "type": "scatter",
         "x": [
          3.029372215270996
         ],
         "y": [
          9.445503234863281
         ]
        },
        {
         "line": {
          "color": "DarkSlateGrey",
          "width": 2
         },
         "marker": {
          "color": [
           0.993248,
           0.906157,
           0.143936
          ],
          "size": 9
         },
         "mode": "markers",
         "name": "##ar",
         "text": [
          "token: ##ar || tf   : 4.0 || cluster: -1"
         ],
         "type": "scatter",
         "x": [
          2.9943487644195557
         ],
         "y": [
          9.50061321258545
         ]
        },
        {
         "line": {
          "color": "DarkSlateGrey",
          "width": 2
         },
         "marker": {
          "color": [
           0.993248,
           0.906157,
           0.143936
          ],
          "size": 9
         },
         "mode": "markers",
         "name": "##che",
         "text": [
          "token: ##che || tf   : 4.0 || cluster: -1"
         ],
         "type": "scatter",
         "x": [
          3.155721664428711
         ],
         "y": [
          9.056686401367188
         ]
        },
        {
         "line": {
          "color": "DarkSlateGrey",
          "width": 2
         },
         "marker": {
          "color": [
           0.263663,
           0.237631,
           0.518762
          ],
          "size": 9
         },
         "mode": "markers",
         "name": "patients",
         "text": [
          "token: patients || tf   : 25.0 || cluster: 45"
         ],
         "type": "scatter",
         "x": [
          1.1021448373794556
         ],
         "y": [
          7.348033905029297
         ]
        },
        {
         "line": {
          "color": "DarkSlateGrey",
          "width": 2
         },
         "marker": {
          "color": [
           0.263663,
           0.237631,
           0.518762
          ],
          "size": 9
         },
         "mode": "markers",
         "name": "presented",
         "text": [
          "token: presented || tf   : 9.0 || cluster: 45"
         ],
         "type": "scatter",
         "x": [
          1.4761725664138794
         ],
         "y": [
          7.356328010559082
         ]
        },
        {
         "line": {
          "color": "DarkSlateGrey",
          "width": 2
         },
         "marker": {
          "color": [
           0.225863,
           0.330805,
           0.547314
          ],
          "size": 9
         },
         "mode": "markers",
         "name": "the",
         "text": [
          "token: the || tf   : 32.0 || cluster: 66"
         ],
         "type": "scatter",
         "x": [
          2.3950536251068115
         ],
         "y": [
          7.5159993171691895
         ]
        },
        {
         "line": {
          "color": "DarkSlateGrey",
          "width": 2
         },
         "marker": {
          "color": [
           0.250425,
           0.27429,
           0.533103
          ],
          "size": 9
         },
         "mode": "markers",
         "name": "late",
         "text": [
          "token: late || tf   : 4.0 || cluster: 53"
         ],
         "type": "scatter",
         "x": [
          2.5566978454589844
         ],
         "y": [
          8.606104850769043
         ]
        },
        {
         "line": {
          "color": "DarkSlateGrey",
          "width": 2
         },
         "marker": {
          "color": [
           0.250425,
           0.27429,
           0.533103
          ],
          "size": 9
         },
         "mode": "markers",
         "name": "adolescent",
         "text": [
          "token: adolescent || tf   : 2.0 || cluster: 53"
         ],
         "type": "scatter",
         "x": [
          2.5052645206451416
         ],
         "y": [
          8.660881996154785
         ]
        },
        {
         "line": {
          "color": "DarkSlateGrey",
          "width": 2
         },
         "marker": {
          "color": [
           0.250425,
           0.27429,
           0.533103
          ],
          "size": 9
         },
         "mode": "markers",
         "name": "period",
         "text": [
          "token: period || tf   : 4.0 || cluster: 53"
         ],
         "type": "scatter",
         "x": [
          2.4992806911468506
         ],
         "y": [
          8.576552391052246
         ]
        },
        {
         "line": {
          "color": "DarkSlateGrey",
          "width": 2
         },
         "marker": {
          "color": [
           0.273809,
           0.031497,
           0.358853
          ],
          "size": 9
         },
         "mode": "markers",
         "name": "with",
         "text": [
          "token: with || tf   : 23.0 || cluster: 5"
         ],
         "type": "scatter",
         "x": [
          6.696203231811523
         ],
         "y": [
          8.391986846923828
         ]
        },
        {
         "line": {
          "color": "DarkSlateGrey",
          "width": 2
         },
         "marker": {
          "color": [
           0.241237,
           0.296485,
           0.539709
          ],
          "size": 9
         },
         "mode": "markers",
         "name": "marked",
         "text": [
          "token: marked || tf   : 2.0 || cluster: 58"
         ],
         "type": "scatter",
         "x": [
          3.4441282749176025
         ],
         "y": [
          6.107575416564941
         ]
        },
        {
         "line": {
          "color": "DarkSlateGrey",
          "width": 2
         },
         "marker": {
          "color": [
           0.258965,
           0.251537,
           0.524736
          ],
          "size": 9
         },
         "mode": "markers",
         "name": "##ril",
         "text": [
          "token: ##ril || tf   : 4.0 || cluster: 48"
         ],
         "type": "scatter",
         "x": [
          4.511270046234131
         ],
         "y": [
          9.79493522644043
         ]
        },
        {
         "line": {
          "color": "DarkSlateGrey",
          "width": 2
         },
         "marker": {
          "color": [
           0.276194,
           0.190074,
           0.493001
          ],
          "size": 9
         },
         "mode": "markers",
         "name": "##ization",
         "text": [
          "token: ##ization || tf   : 2.0 || cluster: 35"
         ],
         "type": "scatter",
         "x": [
          3.911674976348877
         ],
         "y": [
          8.83153247833252
         ]
        },
        {
         "line": {
          "color": "DarkSlateGrey",
          "width": 2
         },
         "marker": {
          "color": [
           0.278012,
           0.180367,
           0.486697
          ],
          "size": 9
         },
         "mode": "markers",
         "name": "and",
         "text": [
          "token: and || tf   : 26.0 || cluster: 33"
         ],
         "type": "scatter",
         "x": [
          3.4157180786132812
         ],
         "y": [
          3.7726213932037354
         ]
        },
        {
         "line": {
          "color": "DarkSlateGrey",
          "width": 2
         },
         "marker": {
          "color": [
           0.274128,
           0.199721,
           0.498911
          ],
          "size": 9
         },
         "mode": "markers",
         "name": "patients",
         "text": [
          "token: patients || tf   : 25.0 || cluster: 37"
         ],
         "type": "scatter",
         "x": [
          0.06747229397296906
         ],
         "y": [
          5.716426849365234
         ]
        },
        {
         "line": {
          "color": "DarkSlateGrey",
          "width": 2
         },
         "marker": {
          "color": [
           0.21813,
           0.347432,
           0.550038
          ],
          "size": 9
         },
         "mode": "markers",
         "name": "presented",
         "text": [
          "token: presented || tf   : 9.0 || cluster: 70"
         ],
         "type": "scatter",
         "x": [
          1.6875712871551514
         ],
         "y": [
          6.1542768478393555
         ]
        },
        {
         "line": {
          "color": "DarkSlateGrey",
          "width": 2
         },
         "marker": {
          "color": [
           0.243113,
           0.292092,
           0.538516
          ],
          "size": 9
         },
         "mode": "markers",
         "name": "with",
         "text": [
          "token: with || tf   : 23.0 || cluster: 57"
         ],
         "type": "scatter",
         "x": [
          3.929147958755493
         ],
         "y": [
          6.333370208740234
         ]
        },
        {
         "line": {
          "color": "DarkSlateGrey",
          "width": 2
         },
         "marker": {
          "color": [
           0.235526,
           0.309527,
           0.542944
          ],
          "size": 9
         },
         "mode": "markers",
         "name": "features",
         "text": [
          "token: features || tf   : 4.0 || cluster: 61"
         ],
         "type": "scatter",
         "x": [
          3.512394666671753
         ],
         "y": [
          7.035945892333984
         ]
        },
        {
         "line": {
          "color": "DarkSlateGrey",
          "width": 2
         },
         "marker": {
          "color": [
           0.993248,
           0.906157,
           0.143936
          ],
          "size": 9
         },
         "mode": "markers",
         "name": "poly",
         "text": [
          "token: poly || tf   : 1.0 || cluster: -1"
         ],
         "type": "scatter",
         "x": [
          4.604833602905273
         ],
         "y": [
          9.14123249053955
         ]
        },
        {
         "line": {
          "color": "DarkSlateGrey",
          "width": 2
         },
         "marker": {
          "color": [
           0.993248,
           0.906157,
           0.143936
          ],
          "size": 9
         },
         "mode": "markers",
         "name": "##stic",
         "text": [
          "token: ##stic || tf   : 1.0 || cluster: -1"
         ],
         "type": "scatter",
         "x": [
          4.439446449279785
         ],
         "y": [
          9.115588188171387
         ]
        },
        {
         "line": {
          "color": "DarkSlateGrey",
          "width": 2
         },
         "marker": {
          "color": [
           0.257322,
           0.25613,
           0.526563
          ],
          "size": 9
         },
         "mode": "markers",
         "name": "##var",
         "text": [
          "token: ##var || tf   : 1.0 || cluster: 49"
         ],
         "type": "scatter",
         "x": [
          4.486171722412109
         ],
         "y": [
          9.369161605834961
         ]
        },
        {
         "line": {
          "color": "DarkSlateGrey",
          "width": 2
         },
         "marker": {
          "color": [
           0.257322,
           0.25613,
           0.526563
          ],
          "size": 9
         },
         "mode": "markers",
         "name": "##ian",
         "text": [
          "token: ##ian || tf   : 2.0 || cluster: 49"
         ],
         "type": "scatter",
         "x": [
          4.498828411102295
         ],
         "y": [
          9.325676918029785
         ]
        },
        {
         "line": {
          "color": "DarkSlateGrey",
          "width": 2
         },
         "marker": {
          "color": [
           0.993248,
           0.906157,
           0.143936
          ],
          "size": 9
         },
         "mode": "markers",
         "name": "disease",
         "text": [
          "token: disease || tf   : 1.0 || cluster: -1"
         ],
         "type": "scatter",
         "x": [
          4.197559356689453
         ],
         "y": [
          8.985539436340332
         ]
        },
        {
         "line": {
          "color": "DarkSlateGrey",
          "width": 2
         },
         "marker": {
          "color": [
           0.993248,
           0.906157,
           0.143936
          ],
          "size": 9
         },
         "mode": "markers",
         "name": "##os",
         "text": [
          "token: ##os || tf   : 3.0 || cluster: -1"
         ],
         "type": "scatter",
         "x": [
          6.833888053894043
         ],
         "y": [
          9.587445259094238
         ]
        },
        {
         "line": {
          "color": "DarkSlateGrey",
          "width": 2
         },
         "marker": {
          "color": [
           0.253935,
           0.265254,
           0.529983
          ],
          "size": 9
         },
         "mode": "markers",
         "name": "all",
         "text": [
          "token: all || tf   : 6.0 || cluster: 51"
         ],
         "type": "scatter",
         "x": [
          -0.29817643761634827
         ],
         "y": [
          4.66409158706665
         ]
        },
        {
         "line": {
          "color": "DarkSlateGrey",
          "width": 2
         },
         "marker": {
          "color": [
           0.237441,
           0.305202,
           0.541921
          ],
          "size": 9
         },
         "mode": "markers",
         "name": "the",
         "text": [
          "token: the || tf   : 32.0 || cluster: 60"
         ],
         "type": "scatter",
         "x": [
          1.4189980030059814
         ],
         "y": [
          4.20591402053833
         ]
        },
        {
         "line": {
          "color": "DarkSlateGrey",
          "width": 2
         },
         "marker": {
          "color": [
           0.283091,
           0.110553,
           0.431554
          ],
          "size": 9
         },
         "mode": "markers",
         "name": "five",
         "text": [
          "token: five || tf   : 1.0 || cluster: 19"
         ],
         "type": "scatter",
         "x": [
          -0.34398767352104187
         ],
         "y": [
          7.288822174072266
         ]
        },
        {
         "line": {
          "color": "DarkSlateGrey",
          "width": 2
         },
         "marker": {
          "color": [
           0.274128,
           0.199721,
           0.498911
          ],
          "size": 9
         },
         "mode": "markers",
         "name": "patients",
         "text": [
          "token: patients || tf   : 25.0 || cluster: 37"
         ],
         "type": "scatter",
         "x": [
          0.08860089629888535
         ],
         "y": [
          5.754078388214111
         ]
        },
        {
         "line": {
          "color": "DarkSlateGrey",
          "width": 2
         },
         "marker": {
          "color": [
           0.273006,
           0.20452,
           0.501721
          ],
          "size": 9
         },
         "mode": "markers",
         "name": "who",
         "text": [
          "token: who || tf   : 4.0 || cluster: 38"
         ],
         "type": "scatter",
         "x": [
          0.7223779559135437
         ],
         "y": [
          5.501173973083496
         ]
        },
        {
         "line": {
          "color": "DarkSlateGrey",
          "width": 2
         },
         "marker": {
          "color": [
           0.21813,
           0.347432,
           0.550038
          ],
          "size": 9
         },
         "mode": "markers",
         "name": "presented",
         "text": [
          "token: presented || tf   : 9.0 || cluster: 70"
         ],
         "type": "scatter",
         "x": [
          1.6270496845245361
         ],
         "y": [
          6.197422504425049
         ]
        },
        {
         "line": {
          "color": "DarkSlateGrey",
          "width": 2
         },
         "marker": {
          "color": [
           0.237441,
           0.305202,
           0.541921
          ],
          "size": 9
         },
         "mode": "markers",
         "name": "the",
         "text": [
          "token: the || tf   : 32.0 || cluster: 60"
         ],
         "type": "scatter",
         "x": [
          1.7284133434295654
         ],
         "y": [
          4.488550662994385
         ]
        },
        {
         "line": {
          "color": "DarkSlateGrey",
          "width": 2
         },
         "marker": {
          "color": [
           0.233603,
           0.313828,
           0.543914
          ],
          "size": 9
         },
         "mode": "markers",
         "name": "late",
         "text": [
          "token: late || tf   : 4.0 || cluster: 62"
         ],
         "type": "scatter",
         "x": [
          2.8053739070892334
         ],
         "y": [
          7.235844612121582
         ]
        },
        {
         "line": {
          "color": "DarkSlateGrey",
          "width": 2
         },
         "marker": {
          "color": [
           0.26658,
           0.228262,
           0.514349
          ],
          "size": 9
         },
         "mode": "markers",
         "name": "adolescent",
         "text": [
          "token: adolescent || tf   : 2.0 || cluster: 43"
         ],
         "type": "scatter",
         "x": [
          3.526660203933716
         ],
         "y": [
          7.705582141876221
         ]
        },
        {
         "line": {
          "color": "DarkSlateGrey",
          "width": 2
         },
         "marker": {
          "color": [
           0.993248,
           0.906157,
           0.143936
          ],
          "size": 9
         },
         "mode": "markers",
         "name": "period",
         "text": [
          "token: period || tf   : 4.0 || cluster: -1"
         ],
         "type": "scatter",
         "x": [
          2.933178663253784
         ],
         "y": [
          8.110296249389648
         ]
        },
        {
         "line": {
          "color": "DarkSlateGrey",
          "width": 2
         },
         "marker": {
          "color": [
           0.227802,
           0.326594,
           0.546532
          ],
          "size": 9
         },
         "mode": "markers",
         "name": "had",
         "text": [
          "token: had || tf   : 8.0 || cluster: 65"
         ],
         "type": "scatter",
         "x": [
          2.272416830062866
         ],
         "y": [
          5.987403869628906
         ]
        },
        {
         "line": {
          "color": "DarkSlateGrey",
          "width": 2
         },
         "marker": {
          "color": [
           0.241237,
           0.296485,
           0.539709
          ],
          "size": 9
         },
         "mode": "markers",
         "name": "obvious",
         "text": [
          "token: obvious || tf   : 1.0 || cluster: 58"
         ],
         "type": "scatter",
         "x": [
          3.4736135005950928
         ],
         "y": [
          6.0474772453308105
         ]
        },
        {
         "line": {
          "color": "DarkSlateGrey",
          "width": 2
         },
         "marker": {
          "color": [
           0.993248,
           0.906157,
           0.143936
          ],
          "size": 9
         },
         "mode": "markers",
         "name": "gen",
         "text": [
          "token: gen || tf   : 3.0 || cluster: -1"
         ],
         "type": "scatter",
         "x": [
          4.0190582275390625
         ],
         "y": [
          10.056818008422852
         ]
        },
        {
         "line": {
          "color": "DarkSlateGrey",
          "width": 2
         },
         "marker": {
          "color": [
           0.257322,
           0.25613,
           0.526563
          ],
          "size": 9
         },
         "mode": "markers",
         "name": "##ital",
         "text": [
          "token: ##ital || tf   : 3.0 || cluster: 49"
         ],
         "type": "scatter",
         "x": [
          4.311133861541748
         ],
         "y": [
          9.340323448181152
         ]
        },
        {
         "line": {
          "color": "DarkSlateGrey",
          "width": 2
         },
         "marker": {
          "color": [
           0.993248,
           0.906157,
           0.143936
          ],
          "size": 9
         },
         "mode": "markers",
         "name": "ambiguity",
         "text": [
          "token: ambiguity || tf   : 3.0 || cluster: -1"
         ],
         "type": "scatter",
         "x": [
          3.748645305633545
         ],
         "y": [
          8.622208595275879
         ]
        },
        {
         "line": {
          "color": "DarkSlateGrey",
          "width": 2
         },
         "marker": {
          "color": [
           0.223925,
           0.334994,
           0.548053
          ],
          "size": 9
         },
         "mode": "markers",
         "name": "from",
         "text": [
          "token: from || tf   : 2.0 || cluster: 67"
         ],
         "type": "scatter",
         "x": [
          2.4030370712280273
         ],
         "y": [
          7.047171592712402
         ]
        },
        {
         "line": {
          "color": "DarkSlateGrey",
          "width": 2
         },
         "marker": {
          "color": [
           0.993248,
           0.906157,
           0.143936
          ],
          "size": 9
         },
         "mode": "markers",
         "name": "birth",
         "text": [
          "token: birth || tf   : 4.0 || cluster: -1"
         ],
         "type": "scatter",
         "x": [
          3.2888941764831543
         ],
         "y": [
          7.834508895874023
         ]
        },
        {
         "line": {
          "color": "DarkSlateGrey",
          "width": 2
         },
         "marker": {
          "color": [
           0.993248,
           0.906157,
           0.143936
          ],
          "size": 9
         },
         "mode": "markers",
         "name": "however",
         "text": [
          "token: however || tf   : 3.0 || cluster: -1"
         ],
         "type": "scatter",
         "x": [
          3.4478771686553955
         ],
         "y": [
          4.559054851531982
         ]
        },
        {
         "line": {
          "color": "DarkSlateGrey",
          "width": 2
         },
         "marker": {
          "color": [
           0.273006,
           0.20452,
           0.501721
          ],
          "size": 9
         },
         "mode": "markers",
         "name": "they",
         "text": [
          "token: they || tf   : 3.0 || cluster: 38"
         ],
         "type": "scatter",
         "x": [
          1.0637431144714355
         ],
         "y": [
          5.55189847946167
         ]
        },
        {
         "line": {
          "color": "DarkSlateGrey",
          "width": 2
         },
         "marker": {
          "color": [
           0.229739,
           0.322361,
           0.545706
          ],
          "size": 9
         },
         "mode": "markers",
         "name": "sought",
         "text": [
          "token: sought || tf   : 2.0 || cluster: 64"
         ],
         "type": "scatter",
         "x": [
          2.675654649734497
         ],
         "y": [
          6.30390739440918
         ]
        },
        {
         "line": {
          "color": "DarkSlateGrey",
          "width": 2
         },
         "marker": {
          "color": [
           0.220057,
           0.343307,
           0.549413
          ],
          "size": 9
         },
         "mode": "markers",
         "name": "medical",
         "text": [
          "token: medical || tf   : 3.0 || cluster: 69"
         ],
         "type": "scatter",
         "x": [
          1.0543211698532104
         ],
         "y": [
          6.255416393280029
         ]
        },
        {
         "line": {
          "color": "DarkSlateGrey",
          "width": 2
         },
         "marker": {
          "color": [
           0.220057,
           0.343307,
           0.549413
          ],
          "size": 9
         },
         "mode": "markers",
         "name": "attention",
         "text": [
          "token: attention || tf   : 1.0 || cluster: 69"
         ],
         "type": "scatter",
         "x": [
          1.0963120460510254
         ],
         "y": [
          6.314878940582275
         ]
        },
        {
         "line": {
          "color": "DarkSlateGrey",
          "width": 2
         },
         "marker": {
          "color": [
           0.229739,
           0.322361,
           0.545706
          ],
          "size": 9
         },
         "mode": "markers",
         "name": "only",
         "text": [
          "token: only || tf   : 2.0 || cluster: 64"
         ],
         "type": "scatter",
         "x": [
          2.661829948425293
         ],
         "y": [
          6.25856876373291
         ]
        },
        {
         "line": {
          "color": "DarkSlateGrey",
          "width": 2
         },
         "marker": {
          "color": [
           0.229739,
           0.322361,
           0.545706
          ],
          "size": 9
         },
         "mode": "markers",
         "name": "much",
         "text": [
          "token: much || tf   : 1.0 || cluster: 64"
         ],
         "type": "scatter",
         "x": [
          2.686964750289917
         ],
         "y": [
          6.41655969619751
         ]
        },
        {
         "line": {
          "color": "DarkSlateGrey",
          "width": 2
         },
         "marker": {
          "color": [
           0.993248,
           0.906157,
           0.143936
          ],
          "size": 9
         },
         "mode": "markers",
         "name": "later",
         "text": [
          "token: later || tf   : 1.0 || cluster: -1"
         ],
         "type": "scatter",
         "x": [
          2.701218605041504
         ],
         "y": [
          6.609043598175049
         ]
        },
        {
         "line": {
          "color": "DarkSlateGrey",
          "width": 2
         },
         "marker": {
          "color": [
           0.993248,
           0.906157,
           0.143936
          ],
          "size": 9
         },
         "mode": "markers",
         "name": "due",
         "text": [
          "token: due || tf   : 4.0 || cluster: -1"
         ],
         "type": "scatter",
         "x": [
          3.4101402759552
         ],
         "y": [
          5.579842567443848
         ]
        },
        {
         "line": {
          "color": "DarkSlateGrey",
          "width": 2
         },
         "marker": {
          "color": [
           0.241237,
           0.296485,
           0.539709
          ],
          "size": 9
         },
         "mode": "markers",
         "name": "marked",
         "text": [
          "token: marked || tf   : 2.0 || cluster: 58"
         ],
         "type": "scatter",
         "x": [
          3.508082628250122
         ],
         "y": [
          6.090915203094482
         ]
        },
        {
         "line": {
          "color": "DarkSlateGrey",
          "width": 2
         },
         "marker": {
          "color": [
           0.258965,
           0.251537,
           0.524736
          ],
          "size": 9
         },
         "mode": "markers",
         "name": "##ril",
         "text": [
          "token: ##ril || tf   : 4.0 || cluster: 48"
         ],
         "type": "scatter",
         "x": [
          4.592465400695801
         ],
         "y": [
          9.813068389892578
         ]
        },
        {
         "line": {
          "color": "DarkSlateGrey",
          "width": 2
         },
         "marker": {
          "color": [
           0.276194,
           0.190074,
           0.493001
          ],
          "size": 9
         },
         "mode": "markers",
         "name": "##ization",
         "text": [
          "token: ##ization || tf   : 2.0 || cluster: 35"
         ],
         "type": "scatter",
         "x": [
          3.886209011077881
         ],
         "y": [
          8.84699535369873
         ]
        },
        {
         "line": {
          "color": "DarkSlateGrey",
          "width": 2
         },
         "marker": {
          "color": [
           0.277134,
           0.185228,
           0.489898
          ],
          "size": 9
         },
         "mode": "markers",
         "name": "and",
         "text": [
          "token: and || tf   : 26.0 || cluster: 34"
         ],
         "type": "scatter",
         "x": [
          3.9136531352996826
         ],
         "y": [
          4.886424541473389
         ]
        },
        {
         "line": {
          "color": "DarkSlateGrey",
          "width": 2
         },
         "marker": {
          "color": [
           0.993248,
           0.906157,
           0.143936
          ],
          "size": 9
         },
         "mode": "markers",
         "name": "failure",
         "text": [
          "token: failure || tf   : 2.0 || cluster: -1"
         ],
         "type": "scatter",
         "x": [
          3.9836809635162354
         ],
         "y": [
          5.635340690612793
         ]
        },
        {
         "line": {
          "color": "DarkSlateGrey",
          "width": 2
         },
         "marker": {
          "color": [
           0.993248,
           0.906157,
           0.143936
          ],
          "size": 9
         },
         "mode": "markers",
         "name": "attain",
         "text": [
          "token: attain || tf   : 1.0 || cluster: -1"
         ],
         "type": "scatter",
         "x": [
          3.8917739391326904
         ],
         "y": [
          5.7003960609436035
         ]
        },
        {
         "line": {
          "color": "DarkSlateGrey",
          "width": 2
         },
         "marker": {
          "color": [
           0.993248,
           0.906157,
           0.143936
          ],
          "size": 9
         },
         "mode": "markers",
         "name": "men",
         "text": [
          "token: men || tf   : 1.0 || cluster: -1"
         ],
         "type": "scatter",
         "x": [
          3.949749231338501
         ],
         "y": [
          9.741897583007812
         ]
        },
        {
         "line": {
          "color": "DarkSlateGrey",
          "width": 2
         },
         "marker": {
          "color": [
           0.993248,
           0.906157,
           0.143936
          ],
          "size": 9
         },
         "mode": "markers",
         "name": "##ar",
         "text": [
          "token: ##ar || tf   : 4.0 || cluster: -1"
         ],
         "type": "scatter",
         "x": [
          3.44789719581604
         ],
         "y": [
          9.759435653686523
         ]
        },
        {
         "line": {
          "color": "DarkSlateGrey",
          "width": 2
         },
         "marker": {
          "color": [
           0.993248,
           0.906157,
           0.143936
          ],
          "size": 9
         },
         "mode": "markers",
         "name": "##che",
         "text": [
          "token: ##che || tf   : 4.0 || cluster: -1"
         ],
         "type": "scatter",
         "x": [
          3.617865800857544
         ],
         "y": [
          9.011876106262207
         ]
        },
        {
         "line": {
          "color": "DarkSlateGrey",
          "width": 2
         },
         "marker": {
          "color": [
           0.283091,
           0.110553,
           0.431554
          ],
          "size": 9
         },
         "mode": "markers",
         "name": "one",
         "text": [
          "token: one || tf   : 6.0 || cluster: 19"
         ],
         "type": "scatter",
         "x": [
          -0.32338425517082214
         ],
         "y": [
          6.954024314880371
         ]
        },
        {
         "line": {
          "color": "DarkSlateGrey",
          "width": 2
         },
         "marker": {
          "color": [
           0.252194,
           0.269783,
           0.531579
          ],
          "size": 9
         },
         "mode": "markers",
         "name": "among",
         "text": [
          "token: among || tf   : 6.0 || cluster: 52"
         ],
         "type": "scatter",
         "x": [
          -0.09783630073070526
         ],
         "y": [
          4.510964393615723
         ]
        },
        {
         "line": {
          "color": "DarkSlateGrey",
          "width": 2
         },
         "marker": {
          "color": [
           0.273006,
           0.20452,
           0.501721
          ],
          "size": 9
         },
         "mode": "markers",
         "name": "them",
         "text": [
          "token: them || tf   : 1.0 || cluster: 38"
         ],
         "type": "scatter",
         "x": [
          0.9438408017158508
         ],
         "y": [
          5.505626678466797
         ]
        },
        {
         "line": {
          "color": "DarkSlateGrey",
          "width": 2
         },
         "marker": {
          "color": [
           0.993248,
           0.906157,
           0.143936
          ],
          "size": 9
         },
         "mode": "markers",
         "name": "had",
         "text": [
          "token: had || tf   : 8.0 || cluster: -1"
         ],
         "type": "scatter",
         "x": [
          2.618981122970581
         ],
         "y": [
          5.7996039390563965
         ]
        },
        {
         "line": {
          "color": "DarkSlateGrey",
          "width": 2
         },
         "marker": {
          "color": [
           0.21621,
           0.351535,
           0.550627
          ],
          "size": 9
         },
         "mode": "markers",
         "name": "actually",
         "text": [
          "token: actually || tf   : 1.0 || cluster: 71"
         ],
         "type": "scatter",
         "x": [
          2.8806586265563965
         ],
         "y": [
          5.6426897048950195
         ]
        },
        {
         "line": {
          "color": "DarkSlateGrey",
          "width": 2
         },
         "marker": {
          "color": [
           0.993248,
           0.906157,
           0.143936
          ],
          "size": 9
         },
         "mode": "markers",
         "name": "been",
         "text": [
          "token: been || tf   : 1.0 || cluster: -1"
         ],
         "type": "scatter",
         "x": [
          2.568145513534546
         ],
         "y": [
          5.804873466491699
         ]
        },
        {
         "line": {
          "color": "DarkSlateGrey",
          "width": 2
         },
         "marker": {
          "color": [
           0.220057,
           0.343307,
           0.549413
          ],
          "size": 9
         },
         "mode": "markers",
         "name": "evaluated",
         "text": [
          "token: evaluated || tf   : 2.0 || cluster: 69"
         ],
         "type": "scatter",
         "x": [
          1.2537249326705933
         ],
         "y": [
          6.181656837463379
         ]
        },
        {
         "line": {
          "color": "DarkSlateGrey",
          "width": 2
         },
         "marker": {
          "color": [
           0.269308,
           0.218818,
           0.509577
          ],
          "size": 9
         },
         "mode": "markers",
         "name": "and",
         "text": [
          "token: and || tf   : 26.0 || cluster: 41"
         ],
         "type": "scatter",
         "x": [
          3.343156337738037
         ],
         "y": [
          4.9490766525268555
         ]
        },
        {
         "line": {
          "color": "DarkSlateGrey",
          "width": 2
         },
         "marker": {
          "color": [
           0.21621,
           0.351535,
           0.550627
          ],
          "size": 9
         },
         "mode": "markers",
         "name": "even",
         "text": [
          "token: even || tf   : 2.0 || cluster: 71"
         ],
         "type": "scatter",
         "x": [
          2.935856819152832
         ],
         "y": [
          5.541731357574463
         ]
        },
        {
         "line": {
          "color": "DarkSlateGrey",
          "width": 2
         },
         "marker": {
          "color": [
           0.229739,
           0.322361,
           0.545706
          ],
          "size": 9
         },
         "mode": "markers",
         "name": "underwent",
         "text": [
          "token: underwent || tf   : 2.0 || cluster: 64"
         ],
         "type": "scatter",
         "x": [
          2.5248498916625977
         ],
         "y": [
          6.176125526428223
         ]
        },
        {
         "line": {
          "color": "DarkSlateGrey",
          "width": 2
         },
         "marker": {
          "color": [
           0.267968,
           0.223549,
           0.512008
          ],
          "size": 9
         },
         "mode": "markers",
         "name": "clit",
         "text": [
          "token: clit || tf   : 1.0 || cluster: 42"
         ],
         "type": "scatter",
         "x": [
          4.607961177825928
         ],
         "y": [
          10.26789665222168
         ]
        },
        {
         "line": {
          "color": "DarkSlateGrey",
          "width": 2
         },
         "marker": {
          "color": [
           0.993248,
           0.906157,
           0.143936
          ],
          "size": 9
         },
         "mode": "markers",
         "name": "##oro",
         "text": [
          "token: ##oro || tf   : 1.0 || cluster: -1"
         ],
         "type": "scatter",
         "x": [
          4.711099147796631
         ],
         "y": [
          9.623332977294922
         ]
        },
        {
         "line": {
          "color": "DarkSlateGrey",
          "width": 2
         },
         "marker": {
          "color": [
           0.258965,
           0.251537,
           0.524736
          ],
          "size": 9
         },
         "mode": "markers",
         "name": "##pl",
         "text": [
          "token: ##pl || tf   : 2.0 || cluster: 48"
         ],
         "type": "scatter",
         "x": [
          4.60676908493042
         ],
         "y": [
          9.707531929016113
         ]
        },
        {
         "line": {
          "color": "DarkSlateGrey",
          "width": 2
         },
         "marker": {
          "color": [
           0.993248,
           0.906157,
           0.143936
          ],
          "size": 9
         },
         "mode": "markers",
         "name": "##ast",
         "text": [
          "token: ##ast || tf   : 1.0 || cluster: -1"
         ],
         "type": "scatter",
         "x": [
          4.792560577392578
         ],
         "y": [
          9.221903800964355
         ]
        },
        {
         "line": {
          "color": "DarkSlateGrey",
          "width": 2
         },
         "marker": {
          "color": [
           0.276194,
           0.190074,
           0.493001
          ],
          "size": 9
         },
         "mode": "markers",
         "name": "##y",
         "text": [
          "token: ##y || tf   : 1.0 || cluster: 35"
         ],
         "type": "scatter",
         "x": [
          3.934300661087036
         ],
         "y": [
          8.901217460632324
         ]
        },
        {
         "line": {
          "color": "DarkSlateGrey",
          "width": 2
         },
         "marker": {
          "color": [
           0.993248,
           0.906157,
           0.143936
          ],
          "size": 9
         },
         "mode": "markers",
         "name": "young",
         "text": [
          "token: young || tf   : 1.0 || cluster: -1"
         ],
         "type": "scatter",
         "x": [
          3.2256360054016113
         ],
         "y": [
          7.475283145904541
         ]
        },
        {
         "line": {
          "color": "DarkSlateGrey",
          "width": 2
         },
         "marker": {
          "color": [
           0.26658,
           0.228262,
           0.514349
          ],
          "size": 9
         },
         "mode": "markers",
         "name": "age",
         "text": [
          "token: age || tf   : 4.0 || cluster: 43"
         ],
         "type": "scatter",
         "x": [
          3.571624517440796
         ],
         "y": [
          7.67989444732666
         ]
        },
        {
         "line": {
          "color": "DarkSlateGrey",
          "width": 2
         },
         "marker": {
          "color": [
           0.269308,
           0.218818,
           0.509577
          ],
          "size": 9
         },
         "mode": "markers",
         "name": "but",
         "text": [
          "token: but || tf   : 1.0 || cluster: 41"
         ],
         "type": "scatter",
         "x": [
          3.403726100921631
         ],
         "y": [
          4.755621433258057
         ]
        },
        {
         "line": {
          "color": "DarkSlateGrey",
          "width": 2
         },
         "marker": {
          "color": [
           0.269308,
           0.218818,
           0.509577
          ],
          "size": 9
         },
         "mode": "markers",
         "name": "unfortunately",
         "text": [
          "token: unfortunately || tf   : 1.0 || cluster: 41"
         ],
         "type": "scatter",
         "x": [
          3.283176898956299
         ],
         "y": [
          4.941843032836914
         ]
        },
        {
         "line": {
          "color": "DarkSlateGrey",
          "width": 2
         },
         "marker": {
          "color": [
           0.993248,
           0.906157,
           0.143936
          ],
          "size": 9
         },
         "mode": "markers",
         "name": "the",
         "text": [
          "token: the || tf   : 32.0 || cluster: -1"
         ],
         "type": "scatter",
         "x": [
          2.951064109802246
         ],
         "y": [
          5.462271690368652
         ]
        },
        {
         "line": {
          "color": "DarkSlateGrey",
          "width": 2
         },
         "marker": {
          "color": [
           0.229739,
           0.322361,
           0.545706
          ],
          "size": 9
         },
         "mode": "markers",
         "name": "diagnosis",
         "text": [
          "token: diagnosis || tf   : 2.0 || cluster: 64"
         ],
         "type": "scatter",
         "x": [
          2.6830227375030518
         ],
         "y": [
          6.217460632324219
         ]
        },
        {
         "line": {
          "color": "DarkSlateGrey",
          "width": 2
         },
         "marker": {
          "color": [
           0.272594,
           0.025563,
           0.353093
          ],
          "size": 9
         },
         "mode": "markers",
         "name": "##h",
         "text": [
          "token: ##h || tf   : 17.0 || cluster: 4"
         ],
         "type": "scatter",
         "x": [
          6.794432640075684
         ],
         "y": [
          10.262948036193848
         ]
        },
        {
         "line": {
          "color": "DarkSlateGrey",
          "width": 2
         },
         "marker": {
          "color": [
           0.21621,
           0.351535,
           0.550627
          ],
          "size": 9
         },
         "mode": "markers",
         "name": "was",
         "text": [
          "token: was || tf   : 15.0 || cluster: 71"
         ],
         "type": "scatter",
         "x": [
          2.5668654441833496
         ],
         "y": [
          5.596356391906738
         ]
        },
        {
         "line": {
          "color": "DarkSlateGrey",
          "width": 2
         },
         "marker": {
          "color": [
           0.993248,
           0.906157,
           0.143936
          ],
          "size": 9
         },
         "mode": "markers",
         "name": "missed",
         "text": [
          "token: missed || tf   : 1.0 || cluster: -1"
         ],
         "type": "scatter",
         "x": [
          2.9151501655578613
         ],
         "y": [
          5.679427146911621
         ]
        },
        {
         "line": {
          "color": "DarkSlateGrey",
          "width": 2
         },
         "marker": {
          "color": [
           0.273006,
           0.20452,
           0.501721
          ],
          "size": 9
         },
         "mode": "markers",
         "name": "she",
         "text": [
          "token: she || tf   : 1.0 || cluster: 38"
         ],
         "type": "scatter",
         "x": [
          0.6845161318778992
         ],
         "y": [
          5.979995250701904
         ]
        },
        {
         "line": {
          "color": "DarkSlateGrey",
          "width": 2
         },
         "marker": {
          "color": [
           0.993248,
           0.906157,
           0.143936
          ],
          "size": 9
         },
         "mode": "markers",
         "name": "was",
         "text": [
          "token: was || tf   : 15.0 || cluster: -1"
         ],
         "type": "scatter",
         "x": [
          2.637099266052246
         ],
         "y": [
          5.8328118324279785
         ]
        },
        {
         "line": {
          "color": "DarkSlateGrey",
          "width": 2
         },
         "marker": {
          "color": [
           0.993248,
           0.906157,
           0.143936
          ],
          "size": 9
         },
         "mode": "markers",
         "name": "mistakenly",
         "text": [
          "token: mistakenly || tf   : 1.0 || cluster: -1"
         ],
         "type": "scatter",
         "x": [
          2.941620111465454
         ],
         "y": [
          5.717164039611816
         ]
        },
        {
         "line": {
          "color": "DarkSlateGrey",
          "width": 2
         },
         "marker": {
          "color": [
           0.993248,
           0.906157,
           0.143936
          ],
          "size": 9
         },
         "mode": "markers",
         "name": "categorized",
         "text": [
          "token: categorized || tf   : 1.0 || cluster: -1"
         ],
         "type": "scatter",
         "x": [
          2.785571813583374
         ],
         "y": [
          6.019876003265381
         ]
        },
        {
         "line": {
          "color": "DarkSlateGrey",
          "width": 2
         },
         "marker": {
          "color": [
           0.241237,
           0.296485,
           0.539709
          ],
          "size": 9
         },
         "mode": "markers",
         "name": "probable",
         "text": [
          "token: probable || tf   : 1.0 || cluster: 58"
         ],
         "type": "scatter",
         "x": [
          3.4989423751831055
         ],
         "y": [
          6.049283981323242
         ]
        },
        {
         "line": {
          "color": "DarkSlateGrey",
          "width": 2
         },
         "marker": {
          "color": [
           0.993248,
           0.906157,
           0.143936
          ],
          "size": 9
         },
         "mode": "markers",
         "name": "##vo",
         "text": [
          "token: ##vo || tf   : 1.0 || cluster: -1"
         ],
         "type": "scatter",
         "x": [
          4.7164788246154785
         ],
         "y": [
          9.3641996383667
         ]
        },
        {
         "line": {
          "color": "DarkSlateGrey",
          "width": 2
         },
         "marker": {
          "color": [
           0.257322,
           0.25613,
           0.526563
          ],
          "size": 9
         },
         "mode": "markers",
         "name": "test",
         "text": [
          "token: test || tf   : 1.0 || cluster: 49"
         ],
         "type": "scatter",
         "x": [
          4.443034648895264
         ],
         "y": [
          9.462610244750977
         ]
        },
        {
         "line": {
          "color": "DarkSlateGrey",
          "width": 2
         },
         "marker": {
          "color": [
           0.257322,
           0.25613,
           0.526563
          ],
          "size": 9
         },
         "mode": "markers",
         "name": "##icular",
         "text": [
          "token: ##icular || tf   : 1.0 || cluster: 49"
         ],
         "type": "scatter",
         "x": [
          4.52512264251709
         ],
         "y": [
          9.311083793640137
         ]
        },
        {
         "line": {
          "color": "DarkSlateGrey",
          "width": 2
         },
         "marker": {
          "color": [
           0.272594,
           0.025563,
           0.353093
          ],
          "size": 9
         },
         "mode": "markers",
         "name": "##d",
         "text": [
          "token: ##d || tf   : 1.0 || cluster: 4"
         ],
         "type": "scatter",
         "x": [
          6.511540412902832
         ],
         "y": [
          9.984275817871094
         ]
        },
        {
         "line": {
          "color": "DarkSlateGrey",
          "width": 2
         },
         "marker": {
          "color": [
           0.993248,
           0.906157,
           0.143936
          ],
          "size": 9
         },
         "mode": "markers",
         "name": "due",
         "text": [
          "token: due || tf   : 4.0 || cluster: -1"
         ],
         "type": "scatter",
         "x": [
          3.4323978424072266
         ],
         "y": [
          5.45650053024292
         ]
        },
        {
         "line": {
          "color": "DarkSlateGrey",
          "width": 2
         },
         "marker": {
          "color": [
           0.231674,
           0.318106,
           0.544834
          ],
          "size": 9
         },
         "mode": "markers",
         "name": "presence",
         "text": [
          "token: presence || tf   : 2.0 || cluster: 63"
         ],
         "type": "scatter",
         "x": [
          3.267320394515991
         ],
         "y": [
          6.482823848724365
         ]
        },
        {
         "line": {
          "color": "DarkSlateGrey",
          "width": 2
         },
         "marker": {
          "color": [
           0.993248,
           0.906157,
           0.143936
          ],
          "size": 9
         },
         "mode": "markers",
         "name": "muller",
         "text": [
          "token: muller || tf   : 1.0 || cluster: -1"
         ],
         "type": "scatter",
         "x": [
          4.809850692749023
         ],
         "y": [
          9.031075477600098
         ]
        },
        {
         "line": {
          "color": "DarkSlateGrey",
          "width": 2
         },
         "marker": {
          "color": [
           0.993248,
           0.906157,
           0.143936
          ],
          "size": 9
         },
         "mode": "markers",
         "name": "##ian",
         "text": [
          "token: ##ian || tf   : 2.0 || cluster: -1"
         ],
         "type": "scatter",
         "x": [
          4.652981758117676
         ],
         "y": [
          9.01771354675293
         ]
        },
        {
         "line": {
          "color": "DarkSlateGrey",
          "width": 2
         },
         "marker": {
          "color": [
           0.280255,
           0.165693,
           0.476498
          ],
          "size": 9
         },
         "mode": "markers",
         "name": "structures",
         "text": [
          "token: structures || tf   : 1.0 || cluster: 30"
         ],
         "type": "scatter",
         "x": [
          4.4890336990356445
         ],
         "y": [
          8.127785682678223
         ]
        },
        {
         "line": {
          "color": "DarkSlateGrey",
          "width": 2
         },
         "marker": {
          "color": [
           0.243113,
           0.292092,
           0.538516
          ],
          "size": 9
         },
         "mode": "markers",
         "name": "with",
         "text": [
          "token: with || tf   : 23.0 || cluster: 57"
         ],
         "type": "scatter",
         "x": [
          3.7543959617614746
         ],
         "y": [
          6.276358604431152
         ]
        },
        {
         "line": {
          "color": "DarkSlateGrey",
          "width": 2
         },
         "marker": {
          "color": [
           0.993248,
           0.906157,
           0.143936
          ],
          "size": 9
         },
         "mode": "markers",
         "name": "##all",
         "text": [
          "token: ##all || tf   : 1.0 || cluster: -1"
         ],
         "type": "scatter",
         "x": [
          4.83415412902832
         ],
         "y": [
          9.05966854095459
         ]
        },
        {
         "line": {
          "color": "DarkSlateGrey",
          "width": 2
         },
         "marker": {
          "color": [
           0.993248,
           0.906157,
           0.143936
          ],
          "size": 9
         },
         "mode": "markers",
         "name": "##ic",
         "text": [
          "token: ##ic || tf   : 1.0 || cluster: -1"
         ],
         "type": "scatter",
         "x": [
          4.689197063446045
         ],
         "y": [
          8.811559677124023
         ]
        },
        {
         "line": {
          "color": "DarkSlateGrey",
          "width": 2
         },
         "marker": {
          "color": [
           0.280255,
           0.165693,
           0.476498
          ],
          "size": 9
         },
         "mode": "markers",
         "name": "length",
         "text": [
          "token: length || tf   : 1.0 || cluster: 30"
         ],
         "type": "scatter",
         "x": [
          4.547303676605225
         ],
         "y": [
          8.20223617553711
         ]
        },
        {
         "line": {
          "color": "DarkSlateGrey",
          "width": 2
         },
         "marker": {
          "color": [
           0.283187,
           0.125848,
           0.44496
          ],
          "size": 9
         },
         "mode": "markers",
         "name": "around",
         "text": [
          "token: around || tf   : 3.0 || cluster: 22"
         ],
         "type": "scatter",
         "x": [
          0.012676696293056011
         ],
         "y": [
          8.17987060546875
         ]
        },
        {
         "line": {
          "color": "DarkSlateGrey",
          "width": 2
         },
         "marker": {
          "color": [
           0.253935,
           0.265254,
           0.529983
          ],
          "size": 9
         },
         "mode": "markers",
         "name": "all",
         "text": [
          "token: all || tf   : 6.0 || cluster: 51"
         ],
         "type": "scatter",
         "x": [
          -0.24746209383010864
         ],
         "y": [
          4.595794677734375
         ]
        },
        {
         "line": {
          "color": "DarkSlateGrey",
          "width": 2
         },
         "marker": {
          "color": [
           0.239346,
           0.300855,
           0.540844
          ],
          "size": 9
         },
         "mode": "markers",
         "name": "these",
         "text": [
          "token: these || tf   : 1.0 || cluster: 59"
         ],
         "type": "scatter",
         "x": [
          1.1929271221160889
         ],
         "y": [
          4.276719570159912
         ]
        },
        {
         "line": {
          "color": "DarkSlateGrey",
          "width": 2
         },
         "marker": {
          "color": [
           0.271828,
           0.209303,
           0.504434
          ],
          "size": 9
         },
         "mode": "markers",
         "name": "women",
         "text": [
          "token: women || tf   : 2.0 || cluster: 39"
         ],
         "type": "scatter",
         "x": [
          0.3522607386112213
         ],
         "y": [
          6.306045055389404
         ]
        },
        {
         "line": {
          "color": "DarkSlateGrey",
          "width": 2
         },
         "marker": {
          "color": [
           0.227802,
           0.326594,
           0.546532
          ],
          "size": 9
         },
         "mode": "markers",
         "name": "had",
         "text": [
          "token: had || tf   : 8.0 || cluster: 65"
         ],
         "type": "scatter",
         "x": [
          2.1604435443878174
         ],
         "y": [
          5.939931392669678
         ]
        },
        {
         "line": {
          "color": "DarkSlateGrey",
          "width": 2
         },
         "marker": {
          "color": [
           0.993248,
           0.906157,
           0.143936
          ],
          "size": 9
         },
         "mode": "markers",
         "name": "masculine",
         "text": [
          "token: masculine || tf   : 1.0 || cluster: -1"
         ],
         "type": "scatter",
         "x": [
          3.9619503021240234
         ],
         "y": [
          6.821858882904053
         ]
        },
        {
         "line": {
          "color": "DarkSlateGrey",
          "width": 2
         },
         "marker": {
          "color": [
           0.993248,
           0.906157,
           0.143936
          ],
          "size": 9
         },
         "mode": "markers",
         "name": "built",
         "text": [
          "token: built || tf   : 1.0 || cluster: -1"
         ],
         "type": "scatter",
         "x": [
          4.035904884338379
         ],
         "y": [
          6.892925262451172
         ]
        },
        {
         "line": {
          "color": "DarkSlateGrey",
          "width": 2
         },
         "marker": {
          "color": [
           0.235526,
           0.309527,
           0.542944
          ],
          "size": 9
         },
         "mode": "markers",
         "name": "presentation",
         "text": [
          "token: presentation || tf   : 3.0 || cluster: 61"
         ],
         "type": "scatter",
         "x": [
          3.429471969604492
         ],
         "y": [
          7.233804225921631
         ]
        },
        {
         "line": {
          "color": "DarkSlateGrey",
          "width": 2
         },
         "marker": {
          "color": [
           0.993248,
           0.906157,
           0.143936
          ],
          "size": 9
         },
         "mode": "markers",
         "name": "with",
         "text": [
          "token: with || tf   : 23.0 || cluster: -1"
         ],
         "type": "scatter",
         "x": [
          3.8532793521881104
         ],
         "y": [
          5.971948146820068
         ]
        },
        {
         "line": {
          "color": "DarkSlateGrey",
          "width": 2
         },
         "marker": {
          "color": [
           0.241237,
           0.296485,
           0.539709
          ],
          "size": 9
         },
         "mode": "markers",
         "name": "poor",
         "text": [
          "token: poor || tf   : 2.0 || cluster: 58"
         ],
         "type": "scatter",
         "x": [
          3.532005548477173
         ],
         "y": [
          5.968734264373779
         ]
        },
        {
         "line": {
          "color": "DarkSlateGrey",
          "width": 2
         },
         "marker": {
          "color": [
           0.993248,
           0.906157,
           0.143936
          ],
          "size": 9
         },
         "mode": "markers",
         "name": "breast",
         "text": [
          "token: breast || tf   : 1.0 || cluster: -1"
         ],
         "type": "scatter",
         "x": [
          4.302516937255859
         ],
         "y": [
          9.339383125305176
         ]
        },
        {
         "line": {
          "color": "DarkSlateGrey",
          "width": 2
         },
         "marker": {
          "color": [
           0.993248,
           0.906157,
           0.143936
          ],
          "size": 9
         },
         "mode": "markers",
         "name": "development",
         "text": [
          "token: development || tf   : 1.0 || cluster: -1"
         ],
         "type": "scatter",
         "x": [
          3.9589335918426514
         ],
         "y": [
          8.149200439453125
         ]
        },
        {
         "line": {
          "color": "DarkSlateGrey",
          "width": 2
         },
         "marker": {
          "color": [
           0.241237,
           0.296485,
           0.539709
          ],
          "size": 9
         },
         "mode": "markers",
         "name": "severe",
         "text": [
          "token: severe || tf   : 1.0 || cluster: 58"
         ],
         "type": "scatter",
         "x": [
          3.562380075454712
         ],
         "y": [
          6.118997573852539
         ]
        },
        {
         "line": {
          "color": "DarkSlateGrey",
          "width": 2
         },
         "marker": {
          "color": [
           0.993248,
           0.906157,
           0.143936
          ],
          "size": 9
         },
         "mode": "markers",
         "name": "##rs",
         "text": [
          "token: ##rs || tf   : 3.0 || cluster: -1"
         ],
         "type": "scatter",
         "x": [
          4.3652424812316895
         ],
         "y": [
          10.059319496154785
         ]
        },
        {
         "line": {
          "color": "DarkSlateGrey",
          "width": 2
         },
         "marker": {
          "color": [
           0.993248,
           0.906157,
           0.143936
          ],
          "size": 9
         },
         "mode": "markers",
         "name": "##uti",
         "text": [
          "token: ##uti || tf   : 3.0 || cluster: -1"
         ],
         "type": "scatter",
         "x": [
          4.387880325317383
         ],
         "y": [
          9.878459930419922
         ]
        },
        {
         "line": {
          "color": "DarkSlateGrey",
          "width": 2
         },
         "marker": {
          "color": [
           0.276194,
           0.190074,
           0.493001
          ],
          "size": 9
         },
         "mode": "markers",
         "name": "##sm",
         "text": [
          "token: ##sm || tf   : 3.0 || cluster: 35"
         ],
         "type": "scatter",
         "x": [
          3.8986058235168457
         ],
         "y": [
          8.726655960083008
         ]
        },
        {
         "line": {
          "color": "DarkSlateGrey",
          "width": 2
         },
         "marker": {
          "color": [
           0.275191,
           0.194905,
           0.496005
          ],
          "size": 9
         },
         "mode": "markers",
         "name": "muscular",
         "text": [
          "token: muscular || tf   : 1.0 || cluster: 36"
         ],
         "type": "scatter",
         "x": [
          4.3415656089782715
         ],
         "y": [
          8.480051040649414
         ]
        },
        {
         "line": {
          "color": "DarkSlateGrey",
          "width": 2
         },
         "marker": {
          "color": [
           0.275191,
           0.194905,
           0.496005
          ],
          "size": 9
         },
         "mode": "markers",
         "name": "body",
         "text": [
          "token: body || tf   : 1.0 || cluster: 36"
         ],
         "type": "scatter",
         "x": [
          4.216936111450195
         ],
         "y": [
          8.53859806060791
         ]
        },
        {
         "line": {
          "color": "DarkSlateGrey",
          "width": 2
         },
         "marker": {
          "color": [
           0.275191,
           0.194905,
           0.496005
          ],
          "size": 9
         },
         "mode": "markers",
         "name": "habit",
         "text": [
          "token: habit || tf   : 1.0 || cluster: 36"
         ],
         "type": "scatter",
         "x": [
          4.1903557777404785
         ],
         "y": [
          8.53592586517334
         ]
        },
        {
         "line": {
          "color": "DarkSlateGrey",
          "width": 2
         },
         "marker": {
          "color": [
           0.275191,
           0.194905,
           0.496005
          ],
          "size": 9
         },
         "mode": "markers",
         "name": "##us",
         "text": [
          "token: ##us || tf   : 1.0 || cluster: 36"
         ],
         "type": "scatter",
         "x": [
          4.169445037841797
         ],
         "y": [
          8.579185485839844
         ]
        },
        {
         "line": {
          "color": "DarkSlateGrey",
          "width": 2
         },
         "marker": {
          "color": [
           0.275191,
           0.194905,
           0.496005
          ],
          "size": 9
         },
         "mode": "markers",
         "name": "temporal",
         "text": [
          "token: temporal || tf   : 1.0 || cluster: 36"
         ],
         "type": "scatter",
         "x": [
          4.287159442901611
         ],
         "y": [
          8.58981704711914
         ]
        },
        {
         "line": {
          "color": "DarkSlateGrey",
          "width": 2
         },
         "marker": {
          "color": [
           0.275191,
           0.194905,
           0.496005
          ],
          "size": 9
         },
         "mode": "markers",
         "name": "bald",
         "text": [
          "token: bald || tf   : 1.0 || cluster: 36"
         ],
         "type": "scatter",
         "x": [
          4.216582298278809
         ],
         "y": [
          8.503320693969727
         ]
        },
        {
         "line": {
          "color": "DarkSlateGrey",
          "width": 2
         },
         "marker": {
          "color": [
           0.275191,
           0.194905,
           0.496005
          ],
          "size": 9
         },
         "mode": "markers",
         "name": "##ing",
         "text": [
          "token: ##ing || tf   : 2.0 || cluster: 36"
         ],
         "type": "scatter",
         "x": [
          4.044889450073242
         ],
         "y": [
          8.428729057312012
         ]
        },
        {
         "line": {
          "color": "DarkSlateGrey",
          "width": 2
         },
         "marker": {
          "color": [
           0.277134,
           0.185228,
           0.489898
          ],
          "size": 9
         },
         "mode": "markers",
         "name": "and",
         "text": [
          "token: and || tf   : 26.0 || cluster: 34"
         ],
         "type": "scatter",
         "x": [
          3.877163887023926
         ],
         "y": [
          4.805102825164795
         ]
        },
        {
         "line": {
          "color": "DarkSlateGrey",
          "width": 2
         },
         "marker": {
          "color": [
           0.241237,
           0.296485,
           0.539709
          ],
          "size": 9
         },
         "mode": "markers",
         "name": "varying",
         "text": [
          "token: varying || tf   : 1.0 || cluster: 58"
         ],
         "type": "scatter",
         "x": [
          3.545288324356079
         ],
         "y": [
          5.9695539474487305
         ]
        },
        {
         "line": {
          "color": "DarkSlateGrey",
          "width": 2
         },
         "marker": {
          "color": [
           0.235526,
           0.309527,
           0.542944
          ],
          "size": 9
         },
         "mode": "markers",
         "name": "degrees",
         "text": [
          "token: degrees || tf   : 1.0 || cluster: 61"
         ],
         "type": "scatter",
         "x": [
          3.6304707527160645
         ],
         "y": [
          7.195865631103516
         ]
        },
        {
         "line": {
          "color": "DarkSlateGrey",
          "width": 2
         },
         "marker": {
          "color": [
           0.275191,
           0.194905,
           0.496005
          ],
          "size": 9
         },
         "mode": "markers",
         "name": "deep",
         "text": [
          "token: deep || tf   : 1.0 || cluster: 36"
         ],
         "type": "scatter",
         "x": [
          4.210299491882324
         ],
         "y": [
          8.332452774047852
         ]
        },
        {
         "line": {
          "color": "DarkSlateGrey",
          "width": 2
         },
         "marker": {
          "color": [
           0.275191,
           0.194905,
           0.496005
          ],
          "size": 9
         },
         "mode": "markers",
         "name": "##ening",
         "text": [
          "token: ##ening || tf   : 1.0 || cluster: 36"
         ],
         "type": "scatter",
         "x": [
          4.005769729614258
         ],
         "y": [
          8.211198806762695
         ]
        },
        {
         "line": {
          "color": "DarkSlateGrey",
          "width": 2
         },
         "marker": {
          "color": [
           0.275191,
           0.194905,
           0.496005
          ],
          "size": 9
         },
         "mode": "markers",
         "name": "voice",
         "text": [
          "token: voice || tf   : 1.0 || cluster: 36"
         ],
         "type": "scatter",
         "x": [
          4.164974689483643
         ],
         "y": [
          8.33812141418457
         ]
        },
        {
         "line": {
          "color": "DarkSlateGrey",
          "width": 2
         },
         "marker": {
          "color": [
           0.237441,
           0.305202,
           0.541921
          ],
          "size": 9
         },
         "mode": "markers",
         "name": "the",
         "text": [
          "token: the || tf   : 32.0 || cluster: 60"
         ],
         "type": "scatter",
         "x": [
          1.5048973560333252
         ],
         "y": [
          4.271756649017334
         ]
        },
        {
         "line": {
          "color": "DarkSlateGrey",
          "width": 2
         },
         "marker": {
          "color": [
           0.280267,
           0.073417,
           0.397163
          ],
          "size": 9
         },
         "mode": "markers",
         "name": "non",
         "text": [
          "token: non || tf   : 3.0 || cluster: 12"
         ],
         "type": "scatter",
         "x": [
          5.159083843231201
         ],
         "y": [
          6.504007816314697
         ]
        },
        {
         "line": {
          "color": "DarkSlateGrey",
          "width": 2
         },
         "marker": {
          "color": [
           0.280267,
           0.073417,
           0.397163
          ],
          "size": 9
         },
         "mode": "markers",
         "name": "classical",
         "text": [
          "token: classical || tf   : 3.0 || cluster: 12"
         ],
         "type": "scatter",
         "x": [
          4.963583469390869
         ],
         "y": [
          6.699636936187744
         ]
        },
        {
         "line": {
          "color": "DarkSlateGrey",
          "width": 2
         },
         "marker": {
          "color": [
           0.272594,
           0.025563,
           0.353093
          ],
          "size": 9
         },
         "mode": "markers",
         "name": "##h",
         "text": [
          "token: ##h || tf   : 17.0 || cluster: 4"
         ],
         "type": "scatter",
         "x": [
          6.785941123962402
         ],
         "y": [
          10.261173248291016
         ]
        },
        {
         "line": {
          "color": "DarkSlateGrey",
          "width": 2
         },
         "marker": {
          "color": [
           0.274952,
           0.037752,
           0.364543
          ],
          "size": 9
         },
         "mode": "markers",
         "name": "##ca",
         "text": [
          "token: ##ca || tf   : 3.0 || cluster: 6"
         ],
         "type": "scatter",
         "x": [
          7.576866626739502
         ],
         "y": [
          9.433464050292969
         ]
        },
        {
         "line": {
          "color": "DarkSlateGrey",
          "width": 2
         },
         "marker": {
          "color": [
           0.272594,
           0.025563,
           0.353093
          ],
          "size": 9
         },
         "mode": "markers",
         "name": "##h",
         "text": [
          "token: ##h || tf   : 17.0 || cluster: 4"
         ],
         "type": "scatter",
         "x": [
          6.763557434082031
         ],
         "y": [
          10.229483604431152
         ]
        },
        {
         "line": {
          "color": "DarkSlateGrey",
          "width": 2
         },
         "marker": {
          "color": [
           0.274128,
           0.199721,
           0.498911
          ],
          "size": 9
         },
         "mode": "markers",
         "name": "patients",
         "text": [
          "token: patients || tf   : 25.0 || cluster: 37"
         ],
         "type": "scatter",
         "x": [
          0.1675102412700653
         ],
         "y": [
          5.863819122314453
         ]
        },
        {
         "line": {
          "color": "DarkSlateGrey",
          "width": 2
         },
         "marker": {
          "color": [
           0.21813,
           0.347432,
           0.550038
          ],
          "size": 9
         },
         "mode": "markers",
         "name": "presented",
         "text": [
          "token: presented || tf   : 9.0 || cluster: 70"
         ],
         "type": "scatter",
         "x": [
          1.5964665412902832
         ],
         "y": [
          6.199246883392334
         ]
        },
        {
         "line": {
          "color": "DarkSlateGrey",
          "width": 2
         },
         "marker": {
          "color": [
           0.26658,
           0.228262,
           0.514349
          ],
          "size": 9
         },
         "mode": "markers",
         "name": "adulthood",
         "text": [
          "token: adulthood || tf   : 1.0 || cluster: 43"
         ],
         "type": "scatter",
         "x": [
          3.4979755878448486
         ],
         "y": [
          7.7372050285339355
         ]
        },
        {
         "line": {
          "color": "DarkSlateGrey",
          "width": 2
         },
         "marker": {
          "color": [
           0.243113,
           0.292092,
           0.538516
          ],
          "size": 9
         },
         "mode": "markers",
         "name": "with",
         "text": [
          "token: with || tf   : 23.0 || cluster: 57"
         ],
         "type": "scatter",
         "x": [
          3.8937153816223145
         ],
         "y": [
          6.276221752166748
         ]
        },
        {
         "line": {
          "color": "DarkSlateGrey",
          "width": 2
         },
         "marker": {
          "color": [
           0.235526,
           0.309527,
           0.542944
          ],
          "size": 9
         },
         "mode": "markers",
         "name": "complaints",
         "text": [
          "token: complaints || tf   : 2.0 || cluster: 61"
         ],
         "type": "scatter",
         "x": [
          3.5885770320892334
         ],
         "y": [
          7.027089595794678
         ]
        },
        {
         "line": {
          "color": "DarkSlateGrey",
          "width": 2
         },
         "marker": {
          "color": [
           0.275191,
           0.194905,
           0.496005
          ],
          "size": 9
         },
         "mode": "markers",
         "name": "irregular",
         "text": [
          "token: irregular || tf   : 1.0 || cluster: 36"
         ],
         "type": "scatter",
         "x": [
          4.029603958129883
         ],
         "y": [
          8.223064422607422
         ]
        },
        {
         "line": {
          "color": "DarkSlateGrey",
          "width": 2
         },
         "marker": {
          "color": [
           0.275191,
           0.194905,
           0.496005
          ],
          "size": 9
         },
         "mode": "markers",
         "name": "cycles",
         "text": [
          "token: cycles || tf   : 1.0 || cluster: 36"
         ],
         "type": "scatter",
         "x": [
          3.9455618858337402
         ],
         "y": [
          8.338737487792969
         ]
        },
        {
         "line": {
          "color": "DarkSlateGrey",
          "width": 2
         },
         "marker": {
          "color": [
           0.277134,
           0.185228,
           0.489898
          ],
          "size": 9
         },
         "mode": "markers",
         "name": "and",
         "text": [
          "token: and || tf   : 26.0 || cluster: 34"
         ],
         "type": "scatter",
         "x": [
          3.919106960296631
         ],
         "y": [
          4.818682670593262
         ]
        },
        {
         "line": {
          "color": "DarkSlateGrey",
          "width": 2
         },
         "marker": {
          "color": [
           0.993248,
           0.906157,
           0.143936
          ],
          "size": 9
         },
         "mode": "markers",
         "name": "##rs",
         "text": [
          "token: ##rs || tf   : 3.0 || cluster: -1"
         ],
         "type": "scatter",
         "x": [
          4.415815353393555
         ],
         "y": [
          10.125312805175781
         ]
        },
        {
         "line": {
          "color": "DarkSlateGrey",
          "width": 2
         },
         "marker": {
          "color": [
           0.993248,
           0.906157,
           0.143936
          ],
          "size": 9
         },
         "mode": "markers",
         "name": "##uti",
         "text": [
          "token: ##uti || tf   : 3.0 || cluster: -1"
         ],
         "type": "scatter",
         "x": [
          4.4114532470703125
         ],
         "y": [
          9.87991714477539
         ]
        },
        {
         "line": {
          "color": "DarkSlateGrey",
          "width": 2
         },
         "marker": {
          "color": [
           0.276194,
           0.190074,
           0.493001
          ],
          "size": 9
         },
         "mode": "markers",
         "name": "##sm",
         "text": [
          "token: ##sm || tf   : 3.0 || cluster: 35"
         ],
         "type": "scatter",
         "x": [
          3.926927089691162
         ],
         "y": [
          8.679428100585938
         ]
        },
        {
         "line": {
          "color": "DarkSlateGrey",
          "width": 2
         },
         "marker": {
          "color": [
           0.273006,
           0.20452,
           0.501721
          ],
          "size": 9
         },
         "mode": "markers",
         "name": "they",
         "text": [
          "token: they || tf   : 3.0 || cluster: 38"
         ],
         "type": "scatter",
         "x": [
          1.0780199766159058
         ],
         "y": [
          5.5504279136657715
         ]
        },
        {
         "line": {
          "color": "DarkSlateGrey",
          "width": 2
         },
         "marker": {
          "color": [
           0.227802,
           0.326594,
           0.546532
          ],
          "size": 9
         },
         "mode": "markers",
         "name": "had",
         "text": [
          "token: had || tf   : 8.0 || cluster: 65"
         ],
         "type": "scatter",
         "x": [
          2.237804412841797
         ],
         "y": [
          5.938145160675049
         ]
        },
        {
         "line": {
          "color": "DarkSlateGrey",
          "width": 2
         },
         "marker": {
          "color": [
           0.235526,
           0.309527,
           0.542944
          ],
          "size": 9
         },
         "mode": "markers",
         "name": "features",
         "text": [
          "token: features || tf   : 4.0 || cluster: 61"
         ],
         "type": "scatter",
         "x": [
          3.4982285499572754
         ],
         "y": [
          7.015346050262451
         ]
        },
        {
         "line": {
          "color": "DarkSlateGrey",
          "width": 2
         },
         "marker": {
          "color": [
           0.258965,
           0.251537,
           0.524736
          ],
          "size": 9
         },
         "mode": "markers",
         "name": "##ril",
         "text": [
          "token: ##ril || tf   : 4.0 || cluster: 48"
         ],
         "type": "scatter",
         "x": [
          4.571620464324951
         ],
         "y": [
          9.752427101135254
         ]
        },
        {
         "line": {
          "color": "DarkSlateGrey",
          "width": 2
         },
         "marker": {
          "color": [
           0.276194,
           0.190074,
           0.493001
          ],
          "size": 9
         },
         "mode": "markers",
         "name": "##isation",
         "text": [
          "token: ##isation || tf   : 1.0 || cluster: 35"
         ],
         "type": "scatter",
         "x": [
          3.9027645587921143
         ],
         "y": [
          8.838202476501465
         ]
        },
        {
         "line": {
          "color": "DarkSlateGrey",
          "width": 2
         },
         "marker": {
          "color": [
           0.280267,
           0.073417,
           0.397163
          ],
          "size": 9
         },
         "mode": "markers",
         "name": "simple",
         "text": [
          "token: simple || tf   : 1.0 || cluster: 12"
         ],
         "type": "scatter",
         "x": [
          4.9225006103515625
         ],
         "y": [
          6.734111309051514
         ]
        },
        {
         "line": {
          "color": "DarkSlateGrey",
          "width": 2
         },
         "marker": {
          "color": [
           0.258965,
           0.251537,
           0.524736
          ],
          "size": 9
         },
         "mode": "markers",
         "name": "##ril",
         "text": [
          "token: ##ril || tf   : 4.0 || cluster: 48"
         ],
         "type": "scatter",
         "x": [
          4.592292785644531
         ],
         "y": [
          9.905056953430176
         ]
        },
        {
         "line": {
          "color": "DarkSlateGrey",
          "width": 2
         },
         "marker": {
          "color": [
           0.276194,
           0.190074,
           0.493001
          ],
          "size": 9
         },
         "mode": "markers",
         "name": "##izing",
         "text": [
          "token: ##izing || tf   : 1.0 || cluster: 35"
         ],
         "type": "scatter",
         "x": [
          3.9152672290802
         ],
         "y": [
          8.856399536132812
         ]
        },
        {
         "line": {
          "color": "DarkSlateGrey",
          "width": 2
         },
         "marker": {
          "color": [
           0.214298,
           0.355619,
           0.551184
          ],
          "size": 9
         },
         "mode": "markers",
         "name": "was",
         "text": [
          "token: was || tf   : 15.0 || cluster: 72"
         ],
         "type": "scatter",
         "x": [
          1.917083978652954
         ],
         "y": [
          5.188868999481201
         ]
        },
        {
         "line": {
          "color": "DarkSlateGrey",
          "width": 2
         },
         "marker": {
          "color": [
           0.993248,
           0.906157,
           0.143936
          ],
          "size": 9
         },
         "mode": "markers",
         "name": "the",
         "text": [
          "token: the || tf   : 32.0 || cluster: -1"
         ],
         "type": "scatter",
         "x": [
          1.7450369596481323
         ],
         "y": [
          4.822815418243408
         ]
        },
        {
         "line": {
          "color": "DarkSlateGrey",
          "width": 2
         },
         "marker": {
          "color": [
           0.993248,
           0.906157,
           0.143936
          ],
          "size": 9
         },
         "mode": "markers",
         "name": "most",
         "text": [
          "token: most || tf   : 2.0 || cluster: -1"
         ],
         "type": "scatter",
         "x": [
          1.7285183668136597
         ],
         "y": [
          4.89453649520874
         ]
        },
        {
         "line": {
          "color": "DarkSlateGrey",
          "width": 2
         },
         "marker": {
          "color": [
           0.993248,
           0.906157,
           0.143936
          ],
          "size": 9
         },
         "mode": "markers",
         "name": "common",
         "text": [
          "token: common || tf   : 2.0 || cluster: -1"
         ],
         "type": "scatter",
         "x": [
          1.7932941913604736
         ],
         "y": [
          5.042805194854736
         ]
        },
        {
         "line": {
          "color": "DarkSlateGrey",
          "width": 2
         },
         "marker": {
          "color": [
           0.993248,
           0.906157,
           0.143936
          ],
          "size": 9
         },
         "mode": "markers",
         "name": "sub",
         "text": [
          "token: sub || tf   : 1.0 || cluster: -1"
         ],
         "type": "scatter",
         "x": [
          1.273730993270874
         ],
         "y": [
          4.8575568199157715
         ]
        },
        {
         "line": {
          "color": "DarkSlateGrey",
          "width": 2
         },
         "marker": {
          "color": [
           0.993248,
           0.906157,
           0.143936
          ],
          "size": 9
         },
         "mode": "markers",
         "name": "class",
         "text": [
          "token: class || tf   : 1.0 || cluster: -1"
         ],
         "type": "scatter",
         "x": [
          1.3196489810943604
         ],
         "y": [
          4.84243106842041
         ]
        },
        {
         "line": {
          "color": "DarkSlateGrey",
          "width": 2
         },
         "marker": {
          "color": [
           0.993248,
           0.906157,
           0.143936
          ],
          "size": 9
         },
         "mode": "markers",
         "name": "seen",
         "text": [
          "token: seen || tf   : 3.0 || cluster: -1"
         ],
         "type": "scatter",
         "x": [
          1.8657786846160889
         ],
         "y": [
          5.590529441833496
         ]
        },
        {
         "line": {
          "color": "DarkSlateGrey",
          "width": 2
         },
         "marker": {
          "color": [
           0.255645,
           0.260703,
           0.528312
          ],
          "size": 9
         },
         "mode": "markers",
         "name": "among",
         "text": [
          "token: among || tf   : 6.0 || cluster: 50"
         ],
         "type": "scatter",
         "x": [
          0.3744830787181854
         ],
         "y": [
          4.220137596130371
         ]
        },
        {
         "line": {
          "color": "DarkSlateGrey",
          "width": 2
         },
         "marker": {
          "color": [
           0.237441,
           0.305202,
           0.541921
          ],
          "size": 9
         },
         "mode": "markers",
         "name": "the",
         "text": [
          "token: the || tf   : 32.0 || cluster: 60"
         ],
         "type": "scatter",
         "x": [
          1.495927095413208
         ],
         "y": [
          4.211956024169922
         ]
        },
        {
         "line": {
          "color": "DarkSlateGrey",
          "width": 2
         },
         "marker": {
          "color": [
           0.271828,
           0.209303,
           0.504434
          ],
          "size": 9
         },
         "mode": "markers",
         "name": "women",
         "text": [
          "token: women || tf   : 2.0 || cluster: 39"
         ],
         "type": "scatter",
         "x": [
          0.2623719871044159
         ],
         "y": [
          6.362768650054932
         ]
        },
        {
         "line": {
          "color": "DarkSlateGrey",
          "width": 2
         },
         "marker": {
          "color": [
           0.278012,
           0.180367,
           0.486697
          ],
          "size": 9
         },
         "mode": "markers",
         "name": "whereas",
         "text": [
          "token: whereas || tf   : 1.0 || cluster: 33"
         ],
         "type": "scatter",
         "x": [
          3.53165602684021
         ],
         "y": [
          4.224912166595459
         ]
        },
        {
         "line": {
          "color": "DarkSlateGrey",
          "width": 2
         },
         "marker": {
          "color": [
           0.237441,
           0.305202,
           0.541921
          ],
          "size": 9
         },
         "mode": "markers",
         "name": "the",
         "text": [
          "token: the || tf   : 32.0 || cluster: 60"
         ],
         "type": "scatter",
         "x": [
          1.755696177482605
         ],
         "y": [
          4.54189920425415
         ]
        },
        {
         "line": {
          "color": "DarkSlateGrey",
          "width": 2
         },
         "marker": {
          "color": [
           0.270595,
           0.214069,
           0.507052
          ],
          "size": 9
         },
         "mode": "markers",
         "name": "salt",
         "text": [
          "token: salt || tf   : 1.0 || cluster: 40"
         ],
         "type": "scatter",
         "x": [
          5.130134582519531
         ],
         "y": [
          9.882530212402344
         ]
        },
        {
         "line": {
          "color": "DarkSlateGrey",
          "width": 2
         },
         "marker": {
          "color": [
           0.993248,
           0.906157,
           0.143936
          ],
          "size": 9
         },
         "mode": "markers",
         "name": "wasting",
         "text": [
          "token: wasting || tf   : 1.0 || cluster: -1"
         ],
         "type": "scatter",
         "x": [
          4.811951160430908
         ],
         "y": [
          8.934467315673828
         ]
        },
        {
         "line": {
          "color": "DarkSlateGrey",
          "width": 2
         },
         "marker": {
          "color": [
           0.993248,
           0.906157,
           0.143936
          ],
          "size": 9
         },
         "mode": "markers",
         "name": "type",
         "text": [
          "token: type || tf   : 1.0 || cluster: -1"
         ],
         "type": "scatter",
         "x": [
          1.5473228693008423
         ],
         "y": [
          4.810917854309082
         ]
        },
        {
         "line": {
          "color": "DarkSlateGrey",
          "width": 2
         },
         "marker": {
          "color": [
           0.214298,
           0.355619,
           0.551184
          ],
          "size": 9
         },
         "mode": "markers",
         "name": "was",
         "text": [
          "token: was || tf   : 15.0 || cluster: 72"
         ],
         "type": "scatter",
         "x": [
          2.048732042312622
         ],
         "y": [
          5.196870803833008
         ]
        },
        {
         "line": {
          "color": "DarkSlateGrey",
          "width": 2
         },
         "marker": {
          "color": [
           0.214298,
           0.355619,
           0.551184
          ],
          "size": 9
         },
         "mode": "markers",
         "name": "predominant",
         "text": [
          "token: predominant || tf   : 1.0 || cluster: 72"
         ],
         "type": "scatter",
         "x": [
          1.97409188747406
         ],
         "y": [
          5.108855247497559
         ]
        },
        {
         "line": {
          "color": "DarkSlateGrey",
          "width": 2
         },
         "marker": {
          "color": [
           0.255645,
           0.260703,
           0.528312
          ],
          "size": 9
         },
         "mode": "markers",
         "name": "among",
         "text": [
          "token: among || tf   : 6.0 || cluster: 50"
         ],
         "type": "scatter",
         "x": [
          0.4528314173221588
         ],
         "y": [
          4.215178966522217
         ]
        },
        {
         "line": {
          "color": "DarkSlateGrey",
          "width": 2
         },
         "marker": {
          "color": [
           0.271828,
           0.209303,
           0.504434
          ],
          "size": 9
         },
         "mode": "markers",
         "name": "boys",
         "text": [
          "token: boys || tf   : 1.0 || cluster: 39"
         ],
         "type": "scatter",
         "x": [
          0.303688108921051
         ],
         "y": [
          6.395524978637695
         ]
        },
        {
         "line": {
          "color": "DarkSlateGrey",
          "width": 2
         },
         "marker": {
          "color": [
           0.993248,
           0.906157,
           0.143936
          ],
          "size": 9
         },
         "mode": "markers",
         "name": "around",
         "text": [
          "token: around || tf   : 3.0 || cluster: -1"
         ],
         "type": "scatter",
         "x": [
          -0.24271069467067719
         ],
         "y": [
          8.182046890258789
         ]
        },
        {
         "line": {
          "color": "DarkSlateGrey",
          "width": 2
         },
         "marker": {
          "color": [
           0.274128,
           0.199721,
           0.498911
          ],
          "size": 9
         },
         "mode": "markers",
         "name": "patients",
         "text": [
          "token: patients || tf   : 25.0 || cluster: 37"
         ],
         "type": "scatter",
         "x": [
          0.18690837919712067
         ],
         "y": [
          5.655618190765381
         ]
        },
        {
         "line": {
          "color": "DarkSlateGrey",
          "width": 2
         },
         "marker": {
          "color": [
           0.227802,
           0.326594,
           0.546532
          ],
          "size": 9
         },
         "mode": "markers",
         "name": "had",
         "text": [
          "token: had || tf   : 8.0 || cluster: 65"
         ],
         "type": "scatter",
         "x": [
          2.1047396659851074
         ],
         "y": [
          5.875618934631348
         ]
        },
        {
         "line": {
          "color": "DarkSlateGrey",
          "width": 2
         },
         "marker": {
          "color": [
           0.280255,
           0.165693,
           0.476498
          ],
          "size": 9
         },
         "mode": "markers",
         "name": "short",
         "text": [
          "token: short || tf   : 2.0 || cluster: 30"
         ],
         "type": "scatter",
         "x": [
          4.673983097076416
         ],
         "y": [
          7.9463419914245605
         ]
        },
        {
         "line": {
          "color": "DarkSlateGrey",
          "width": 2
         },
         "marker": {
          "color": [
           0.280255,
           0.165693,
           0.476498
          ],
          "size": 9
         },
         "mode": "markers",
         "name": "stature",
         "text": [
          "token: stature || tf   : 3.0 || cluster: 30"
         ],
         "type": "scatter",
         "x": [
          4.724911212921143
         ],
         "y": [
          8.005690574645996
         ]
        },
        {
         "line": {
          "color": "DarkSlateGrey",
          "width": 2
         },
         "marker": {
          "color": [
           0.227802,
           0.326594,
           0.546532
          ],
          "size": 9
         },
         "mode": "markers",
         "name": "defined",
         "text": [
          "token: defined || tf   : 2.0 || cluster: 65"
         ],
         "type": "scatter",
         "x": [
          2.1414222717285156
         ],
         "y": [
          6.090116024017334
         ]
        },
        {
         "line": {
          "color": "DarkSlateGrey",
          "width": 2
         },
         "marker": {
          "color": [
           0.280255,
           0.165693,
           0.476498
          ],
          "size": 9
         },
         "mode": "markers",
         "name": "height",
         "text": [
          "token: height || tf   : 7.0 || cluster: 30"
         ],
         "type": "scatter",
         "x": [
          4.690640449523926
         ],
         "y": [
          7.952757358551025
         ]
        },
        {
         "line": {
          "color": "DarkSlateGrey",
          "width": 2
         },
         "marker": {
          "color": [
           0.272594,
           0.025563,
           0.353093
          ],
          "size": 9
         },
         "mode": "markers",
         "name": "##s",
         "text": [
          "token: ##s || tf   : 5.0 || cluster: 4"
         ],
         "type": "scatter",
         "x": [
          6.718113422393799
         ],
         "y": [
          10.174717903137207
         ]
        },
        {
         "line": {
          "color": "DarkSlateGrey",
          "width": 2
         },
         "marker": {
          "color": [
           0.274128,
           0.199721,
           0.498911
          ],
          "size": 9
         },
         "mode": "markers",
         "name": "patients",
         "text": [
          "token: patients || tf   : 25.0 || cluster: 37"
         ],
         "type": "scatter",
         "x": [
          0.07626810669898987
         ],
         "y": [
          5.731412887573242
         ]
        },
        {
         "line": {
          "color": "DarkSlateGrey",
          "width": 2
         },
         "marker": {
          "color": [
           0.273006,
           0.20452,
           0.501721
          ],
          "size": 9
         },
         "mode": "markers",
         "name": "who",
         "text": [
          "token: who || tf   : 4.0 || cluster: 38"
         ],
         "type": "scatter",
         "x": [
          0.8694256544113159
         ],
         "y": [
          5.503025531768799
         ]
        },
        {
         "line": {
          "color": "DarkSlateGrey",
          "width": 2
         },
         "marker": {
          "color": [
           0.21813,
           0.347432,
           0.550038
          ],
          "size": 9
         },
         "mode": "markers",
         "name": "presented",
         "text": [
          "token: presented || tf   : 9.0 || cluster: 70"
         ],
         "type": "scatter",
         "x": [
          1.62278413772583
         ],
         "y": [
          6.188486576080322
         ]
        },
        {
         "line": {
          "color": "DarkSlateGrey",
          "width": 2
         },
         "marker": {
          "color": [
           0.243113,
           0.292092,
           0.538516
          ],
          "size": 9
         },
         "mode": "markers",
         "name": "with",
         "text": [
          "token: with || tf   : 23.0 || cluster: 57"
         ],
         "type": "scatter",
         "x": [
          4.068032741546631
         ],
         "y": [
          6.444581985473633
         ]
        },
        {
         "line": {
          "color": "DarkSlateGrey",
          "width": 2
         },
         "marker": {
          "color": [
           0.993248,
           0.906157,
           0.143936
          ],
          "size": 9
         },
         "mode": "markers",
         "name": "##ren",
         "text": [
          "token: ##ren || tf   : 7.0 || cluster: -1"
         ],
         "type": "scatter",
         "x": [
          3.8846077919006348
         ],
         "y": [
          9.828919410705566
         ]
        },
        {
         "line": {
          "color": "DarkSlateGrey",
          "width": 2
         },
         "marker": {
          "color": [
           0.993248,
           0.906157,
           0.143936
          ],
          "size": 9
         },
         "mode": "markers",
         "name": "##ar",
         "text": [
          "token: ##ar || tf   : 4.0 || cluster: -1"
         ],
         "type": "scatter",
         "x": [
          3.542327404022217
         ],
         "y": [
          9.815680503845215
         ]
        },
        {
         "line": {
          "color": "DarkSlateGrey",
          "width": 2
         },
         "marker": {
          "color": [
           0.993248,
           0.906157,
           0.143936
          ],
          "size": 9
         },
         "mode": "markers",
         "name": "##che",
         "text": [
          "token: ##che || tf   : 4.0 || cluster: -1"
         ],
         "type": "scatter",
         "x": [
          3.6068053245544434
         ],
         "y": [
          9.092265129089355
         ]
        },
        {
         "line": {
          "color": "DarkSlateGrey",
          "width": 2
         },
         "marker": {
          "color": [
           0.227802,
           0.326594,
           0.546532
          ],
          "size": 9
         },
         "mode": "markers",
         "name": "had",
         "text": [
          "token: had || tf   : 8.0 || cluster: 65"
         ],
         "type": "scatter",
         "x": [
          2.2692711353302
         ],
         "y": [
          5.806639671325684
         ]
        },
        {
         "line": {
          "color": "DarkSlateGrey",
          "width": 2
         },
         "marker": {
          "color": [
           0.21621,
           0.351535,
           0.550627
          ],
          "size": 9
         },
         "mode": "markers",
         "name": "increase",
         "text": [
          "token: increase || tf   : 1.0 || cluster: 71"
         ],
         "type": "scatter",
         "x": [
          2.712233781814575
         ],
         "y": [
          5.504452705383301
         ]
        },
        {
         "line": {
          "color": "DarkSlateGrey",
          "width": 2
         },
         "marker": {
          "color": [
           0.280255,
           0.165693,
           0.476498
          ],
          "size": 9
         },
         "mode": "markers",
         "name": "height",
         "text": [
          "token: height || tf   : 7.0 || cluster: 30"
         ],
         "type": "scatter",
         "x": [
          4.693760395050049
         ],
         "y": [
          7.983469009399414
         ]
        },
        {
         "line": {
          "color": "DarkSlateGrey",
          "width": 2
         },
         "marker": {
          "color": [
           0.272594,
           0.025563,
           0.353093
          ],
          "size": 9
         },
         "mode": "markers",
         "name": "##s",
         "text": [
          "token: ##s || tf   : 5.0 || cluster: 4"
         ],
         "type": "scatter",
         "x": [
          6.670684337615967
         ],
         "y": [
          10.155926704406738
         ]
        },
        {
         "line": {
          "color": "DarkSlateGrey",
          "width": 2
         },
         "marker": {
          "color": [
           0.993248,
           0.906157,
           0.143936
          ],
          "size": 9
         },
         "mode": "markers",
         "name": "however",
         "text": [
          "token: however || tf   : 3.0 || cluster: -1"
         ],
         "type": "scatter",
         "x": [
          3.410742998123169
         ],
         "y": [
          4.500327110290527
         ]
        },
        {
         "line": {
          "color": "DarkSlateGrey",
          "width": 2
         },
         "marker": {
          "color": [
           0.273006,
           0.20452,
           0.501721
          ],
          "size": 9
         },
         "mode": "markers",
         "name": "their",
         "text": [
          "token: their || tf   : 3.0 || cluster: 38"
         ],
         "type": "scatter",
         "x": [
          1.062598466873169
         ],
         "y": [
          5.591231346130371
         ]
        },
        {
         "line": {
          "color": "DarkSlateGrey",
          "width": 2
         },
         "marker": {
          "color": [
           0.280255,
           0.165693,
           0.476498
          ],
          "size": 9
         },
         "mode": "markers",
         "name": "bone",
         "text": [
          "token: bone || tf   : 2.0 || cluster: 30"
         ],
         "type": "scatter",
         "x": [
          4.7264251708984375
         ],
         "y": [
          8.332406997680664
         ]
        },
        {
         "line": {
          "color": "DarkSlateGrey",
          "width": 2
         },
         "marker": {
          "color": [
           0.280255,
           0.165693,
           0.476498
          ],
          "size": 9
         },
         "mode": "markers",
         "name": "age",
         "text": [
          "token: age || tf   : 4.0 || cluster: 30"
         ],
         "type": "scatter",
         "x": [
          4.630765914916992
         ],
         "y": [
          7.816574573516846
         ]
        },
        {
         "line": {
          "color": "DarkSlateGrey",
          "width": 2
         },
         "marker": {
          "color": [
           0.993248,
           0.906157,
           0.143936
          ],
          "size": 9
         },
         "mode": "markers",
         "name": "was",
         "text": [
          "token: was || tf   : 15.0 || cluster: -1"
         ],
         "type": "scatter",
         "x": [
          2.127305269241333
         ],
         "y": [
          5.301993370056152
         ]
        },
        {
         "line": {
          "color": "DarkSlateGrey",
          "width": 2
         },
         "marker": {
          "color": [
           0.212395,
           0.359683,
           0.55171
          ],
          "size": 9
         },
         "mode": "markers",
         "name": "also",
         "text": [
          "token: also || tf   : 4.0 || cluster: 73"
         ],
         "type": "scatter",
         "x": [
          2.4497127532958984
         ],
         "y": [
          5.214117527008057
         ]
        },
        {
         "line": {
          "color": "DarkSlateGrey",
          "width": 2
         },
         "marker": {
          "color": [
           0.212395,
           0.359683,
           0.55171
          ],
          "size": 9
         },
         "mode": "markers",
         "name": "corresponding",
         "text": [
          "token: corresponding || tf   : 1.0 || cluster: 73"
         ],
         "type": "scatter",
         "x": [
          2.4772772789001465
         ],
         "y": [
          5.26905632019043
         ]
        },
        {
         "line": {
          "color": "DarkSlateGrey",
          "width": 2
         },
         "marker": {
          "color": [
           0.212395,
           0.359683,
           0.55171
          ],
          "size": 9
         },
         "mode": "markers",
         "name": "##ly",
         "text": [
          "token: ##ly || tf   : 2.0 || cluster: 73"
         ],
         "type": "scatter",
         "x": [
          2.3665578365325928
         ],
         "y": [
          5.24670934677124
         ]
        },
        {
         "line": {
          "color": "DarkSlateGrey",
          "width": 2
         },
         "marker": {
          "color": [
           0.21621,
           0.351535,
           0.550627
          ],
          "size": 9
         },
         "mode": "markers",
         "name": "advanced",
         "text": [
          "token: advanced || tf   : 1.0 || cluster: 71"
         ],
         "type": "scatter",
         "x": [
          2.7402663230895996
         ],
         "y": [
          5.542722702026367
         ]
        },
        {
         "line": {
          "color": "DarkSlateGrey",
          "width": 2
         },
         "marker": {
          "color": [
           0.253935,
           0.265254,
           0.529983
          ],
          "size": 9
         },
         "mode": "markers",
         "name": "all",
         "text": [
          "token: all || tf   : 6.0 || cluster: 51"
         ],
         "type": "scatter",
         "x": [
          -0.36926594376564026
         ],
         "y": [
          4.700150966644287
         ]
        },
        {
         "line": {
          "color": "DarkSlateGrey",
          "width": 2
         },
         "marker": {
          "color": [
           0.237441,
           0.305202,
           0.541921
          ],
          "size": 9
         },
         "mode": "markers",
         "name": "the",
         "text": [
          "token: the || tf   : 32.0 || cluster: 60"
         ],
         "type": "scatter",
         "x": [
          1.4398337602615356
         ],
         "y": [
          4.211263179779053
         ]
        },
        {
         "line": {
          "color": "DarkSlateGrey",
          "width": 2
         },
         "marker": {
          "color": [
           0.271828,
           0.209303,
           0.504434
          ],
          "size": 9
         },
         "mode": "markers",
         "name": "children",
         "text": [
          "token: children || tf   : 2.0 || cluster: 39"
         ],
         "type": "scatter",
         "x": [
          0.38384315371513367
         ],
         "y": [
          6.423561096191406
         ]
        },
        {
         "line": {
          "color": "DarkSlateGrey",
          "width": 2
         },
         "marker": {
          "color": [
           0.221989,
           0.339161,
           0.548752
          ],
          "size": 9
         },
         "mode": "markers",
         "name": "were",
         "text": [
          "token: were || tf   : 17.0 || cluster: 68"
         ],
         "type": "scatter",
         "x": [
          1.5722311735153198
         ],
         "y": [
          5.7539873123168945
         ]
        },
        {
         "line": {
          "color": "DarkSlateGrey",
          "width": 2
         },
         "marker": {
          "color": [
           0.220057,
           0.343307,
           0.549413
          ],
          "size": 9
         },
         "mode": "markers",
         "name": "treated",
         "text": [
          "token: treated || tf   : 4.0 || cluster: 69"
         ],
         "type": "scatter",
         "x": [
          0.9022538661956787
         ],
         "y": [
          6.1333699226379395
         ]
        },
        {
         "line": {
          "color": "DarkSlateGrey",
          "width": 2
         },
         "marker": {
          "color": [
           0.276022,
           0.044167,
           0.370164
          ],
          "size": 9
         },
         "mode": "markers",
         "name": "with",
         "text": [
          "token: with || tf   : 23.0 || cluster: 7"
         ],
         "type": "scatter",
         "x": [
          5.432437419891357
         ],
         "y": [
          7.3590521812438965
         ]
        },
        {
         "line": {
          "color": "DarkSlateGrey",
          "width": 2
         },
         "marker": {
          "color": [
           0.267968,
           0.223549,
           0.512008
          ],
          "size": 9
         },
         "mode": "markers",
         "name": "hydro",
         "text": [
          "token: hydro || tf   : 3.0 || cluster: 42"
         ],
         "type": "scatter",
         "x": [
          4.900065898895264
         ],
         "y": [
          10.222561836242676
         ]
        },
        {
         "line": {
          "color": "DarkSlateGrey",
          "width": 2
         },
         "marker": {
          "color": [
           0.267968,
           0.223549,
           0.512008
          ],
          "size": 9
         },
         "mode": "markers",
         "name": "##cor",
         "text": [
          "token: ##cor || tf   : 2.0 || cluster: 42"
         ],
         "type": "scatter",
         "x": [
          4.721340179443359
         ],
         "y": [
          10.494824409484863
         ]
        },
        {
         "line": {
          "color": "DarkSlateGrey",
          "width": 2
         },
         "marker": {
          "color": [
           0.267968,
           0.223549,
           0.512008
          ],
          "size": 9
         },
         "mode": "markers",
         "name": "##tis",
         "text": [
          "token: ##tis || tf   : 1.0 || cluster: 42"
         ],
         "type": "scatter",
         "x": [
          5.002850532531738
         ],
         "y": [
          10.244473457336426
         ]
        },
        {
         "line": {
          "color": "DarkSlateGrey",
          "width": 2
         },
         "marker": {
          "color": [
           0.270595,
           0.214069,
           0.507052
          ],
          "size": 9
         },
         "mode": "markers",
         "name": "##one",
         "text": [
          "token: ##one || tf   : 2.0 || cluster: 40"
         ],
         "type": "scatter",
         "x": [
          5.542685508728027
         ],
         "y": [
          9.906963348388672
         ]
        },
        {
         "line": {
          "color": "DarkSlateGrey",
          "width": 2
         },
         "marker": {
          "color": [
           0.253935,
           0.265254,
           0.529983
          ],
          "size": 9
         },
         "mode": "markers",
         "name": "almost",
         "text": [
          "token: almost || tf   : 1.0 || cluster: 51"
         ],
         "type": "scatter",
         "x": [
          -0.33856335282325745
         ],
         "y": [
          4.681911468505859
         ]
        },
        {
         "line": {
          "color": "DarkSlateGrey",
          "width": 2
         },
         "marker": {
          "color": [
           0.253935,
           0.265254,
           0.529983
          ],
          "size": 9
         },
         "mode": "markers",
         "name": "all",
         "text": [
          "token: all || tf   : 6.0 || cluster: 51"
         ],
         "type": "scatter",
         "x": [
          -0.3206837475299835
         ],
         "y": [
          4.668267250061035
         ]
        },
        {
         "line": {
          "color": "DarkSlateGrey",
          "width": 2
         },
         "marker": {
          "color": [
           0.26658,
           0.228262,
           0.514349
          ],
          "size": 9
         },
         "mode": "markers",
         "name": "adult",
         "text": [
          "token: adult || tf   : 8.0 || cluster: 43"
         ],
         "type": "scatter",
         "x": [
          3.6815695762634277
         ],
         "y": [
          7.5608344078063965
         ]
        },
        {
         "line": {
          "color": "DarkSlateGrey",
          "width": 2
         },
         "marker": {
          "color": [
           0.274128,
           0.199721,
           0.498911
          ],
          "size": 9
         },
         "mode": "markers",
         "name": "patients",
         "text": [
          "token: patients || tf   : 25.0 || cluster: 37"
         ],
         "type": "scatter",
         "x": [
          0.15209978818893433
         ],
         "y": [
          5.687929630279541
         ]
        },
        {
         "line": {
          "color": "DarkSlateGrey",
          "width": 2
         },
         "marker": {
          "color": [
           0.221989,
           0.339161,
           0.548752
          ],
          "size": 9
         },
         "mode": "markers",
         "name": "were",
         "text": [
          "token: were || tf   : 17.0 || cluster: 68"
         ],
         "type": "scatter",
         "x": [
          1.6024872064590454
         ],
         "y": [
          5.76293420791626
         ]
        },
        {
         "line": {
          "color": "DarkSlateGrey",
          "width": 2
         },
         "marker": {
          "color": [
           0.267968,
           0.223549,
           0.512008
          ],
          "size": 9
         },
         "mode": "markers",
         "name": "dex",
         "text": [
          "token: dex || tf   : 1.0 || cluster: 42"
         ],
         "type": "scatter",
         "x": [
          4.990018844604492
         ],
         "y": [
          10.363372802734375
         ]
        },
        {
         "line": {
          "color": "DarkSlateGrey",
          "width": 2
         },
         "marker": {
          "color": [
           0.267968,
           0.223549,
           0.512008
          ],
          "size": 9
         },
         "mode": "markers",
         "name": "##ame",
         "text": [
          "token: ##ame || tf   : 1.0 || cluster: 42"
         ],
         "type": "scatter",
         "x": [
          5.01271390914917
         ],
         "y": [
          10.387203216552734
         ]
        },
        {
         "line": {
          "color": "DarkSlateGrey",
          "width": 2
         },
         "marker": {
          "color": [
           0.267968,
           0.223549,
           0.512008
          ],
          "size": 9
         },
         "mode": "markers",
         "name": "##tha",
         "text": [
          "token: ##tha || tf   : 1.0 || cluster: 42"
         ],
         "type": "scatter",
         "x": [
          5.070940017700195
         ],
         "y": [
          10.325418472290039
         ]
        },
        {
         "line": {
          "color": "DarkSlateGrey",
          "width": 2
         },
         "marker": {
          "color": [
           0.993248,
           0.906157,
           0.143936
          ],
          "size": 9
         },
         "mode": "markers",
         "name": "##son",
         "text": [
          "token: ##son || tf   : 1.0 || cluster: -1"
         ],
         "type": "scatter",
         "x": [
          5.263700008392334
         ],
         "y": [
          10.24586009979248
         ]
        },
        {
         "line": {
          "color": "DarkSlateGrey",
          "width": 2
         },
         "marker": {
          "color": [
           0.270595,
           0.214069,
           0.507052
          ],
          "size": 9
         },
         "mode": "markers",
         "name": "##e",
         "text": [
          "token: ##e || tf   : 3.0 || cluster: 40"
         ],
         "type": "scatter",
         "x": [
          5.517079830169678
         ],
         "y": [
          9.885299682617188
         ]
        },
        {
         "line": {
          "color": "DarkSlateGrey",
          "width": 2
         },
         "marker": {
          "color": [
           0.253935,
           0.265254,
           0.529983
          ],
          "size": 9
         },
         "mode": "markers",
         "name": "none",
         "text": [
          "token: none || tf   : 1.0 || cluster: 51"
         ],
         "type": "scatter",
         "x": [
          -0.3256877362728119
         ],
         "y": [
          4.737124919891357
         ]
        },
        {
         "line": {
          "color": "DarkSlateGrey",
          "width": 2
         },
         "marker": {
          "color": [
           0.237441,
           0.305202,
           0.541921
          ],
          "size": 9
         },
         "mode": "markers",
         "name": "the",
         "text": [
          "token: the || tf   : 32.0 || cluster: 60"
         ],
         "type": "scatter",
         "x": [
          1.4525700807571411
         ],
         "y": [
          4.249112606048584
         ]
        },
        {
         "line": {
          "color": "DarkSlateGrey",
          "width": 2
         },
         "marker": {
          "color": [
           0.274952,
           0.037752,
           0.364543
          ],
          "size": 9
         },
         "mode": "markers",
         "name": "##ca",
         "text": [
          "token: ##ca || tf   : 3.0 || cluster: 6"
         ],
         "type": "scatter",
         "x": [
          7.587594509124756
         ],
         "y": [
          9.458051681518555
         ]
        },
        {
         "line": {
          "color": "DarkSlateGrey",
          "width": 2
         },
         "marker": {
          "color": [
           0.272594,
           0.025563,
           0.353093
          ],
          "size": 9
         },
         "mode": "markers",
         "name": "##h",
         "text": [
          "token: ##h || tf   : 17.0 || cluster: 4"
         ],
         "type": "scatter",
         "x": [
          6.7303385734558105
         ],
         "y": [
          10.200175285339355
         ]
        },
        {
         "line": {
          "color": "DarkSlateGrey",
          "width": 2
         },
         "marker": {
          "color": [
           0.274128,
           0.199721,
           0.498911
          ],
          "size": 9
         },
         "mode": "markers",
         "name": "patients",
         "text": [
          "token: patients || tf   : 25.0 || cluster: 37"
         ],
         "type": "scatter",
         "x": [
          0.15856583416461945
         ],
         "y": [
          5.691618919372559
         ]
        },
        {
         "line": {
          "color": "DarkSlateGrey",
          "width": 2
         },
         "marker": {
          "color": [
           0.221989,
           0.339161,
           0.548752
          ],
          "size": 9
         },
         "mode": "markers",
         "name": "were",
         "text": [
          "token: were || tf   : 17.0 || cluster: 68"
         ],
         "type": "scatter",
         "x": [
          1.6221108436584473
         ],
         "y": [
          5.783379554748535
         ]
        },
        {
         "line": {
          "color": "DarkSlateGrey",
          "width": 2
         },
         "marker": {
          "color": [
           0.220057,
           0.343307,
           0.549413
          ],
          "size": 9
         },
         "mode": "markers",
         "name": "treated",
         "text": [
          "token: treated || tf   : 4.0 || cluster: 69"
         ],
         "type": "scatter",
         "x": [
          0.950968325138092
         ],
         "y": [
          6.1421074867248535
         ]
        },
        {
         "line": {
          "color": "DarkSlateGrey",
          "width": 2
         },
         "marker": {
          "color": [
           0.276022,
           0.044167,
           0.370164
          ],
          "size": 9
         },
         "mode": "markers",
         "name": "with",
         "text": [
          "token: with || tf   : 23.0 || cluster: 7"
         ],
         "type": "scatter",
         "x": [
          5.44012975692749
         ],
         "y": [
          7.368143081665039
         ]
        },
        {
         "line": {
          "color": "DarkSlateGrey",
          "width": 2
         },
         "marker": {
          "color": [
           0.267968,
           0.223549,
           0.512008
          ],
          "size": 9
         },
         "mode": "markers",
         "name": "##lu",
         "text": [
          "token: ##lu || tf   : 1.0 || cluster: 42"
         ],
         "type": "scatter",
         "x": [
          4.8115129470825195
         ],
         "y": [
          10.314484596252441
         ]
        },
        {
         "line": {
          "color": "DarkSlateGrey",
          "width": 2
         },
         "marker": {
          "color": [
           0.267968,
           0.223549,
           0.512008
          ],
          "size": 9
         },
         "mode": "markers",
         "name": "##co",
         "text": [
          "token: ##co || tf   : 2.0 || cluster: 42"
         ],
         "type": "scatter",
         "x": [
          4.942806243896484
         ],
         "y": [
          10.230632781982422
         ]
        },
        {
         "line": {
          "color": "DarkSlateGrey",
          "width": 2
         },
         "marker": {
          "color": [
           0.267968,
           0.223549,
           0.512008
          ],
          "size": 9
         },
         "mode": "markers",
         "name": "##cor",
         "text": [
          "token: ##cor || tf   : 2.0 || cluster: 42"
         ],
         "type": "scatter",
         "x": [
          4.822030544281006
         ],
         "y": [
          10.350264549255371
         ]
        },
        {
         "line": {
          "color": "DarkSlateGrey",
          "width": 2
         },
         "marker": {
          "color": [
           0.267968,
           0.223549,
           0.512008
          ],
          "size": 9
         },
         "mode": "markers",
         "name": "##tic",
         "text": [
          "token: ##tic || tf   : 1.0 || cluster: 42"
         ],
         "type": "scatter",
         "x": [
          4.904911041259766
         ],
         "y": [
          10.20694637298584
         ]
        },
        {
         "line": {
          "color": "DarkSlateGrey",
          "width": 2
         },
         "marker": {
          "color": [
           0.270595,
           0.214069,
           0.507052
          ],
          "size": 9
         },
         "mode": "markers",
         "name": "##oids",
         "text": [
          "token: ##oids || tf   : 1.0 || cluster: 40"
         ],
         "type": "scatter",
         "x": [
          5.510157108306885
         ],
         "y": [
          9.91772174835205
         ]
        },
        {
         "line": {
          "color": "DarkSlateGrey",
          "width": 2
         },
         "marker": {
          "color": [
           0.273006,
           0.20452,
           0.501721
          ],
          "size": 9
         },
         "mode": "markers",
         "name": "they",
         "text": [
          "token: they || tf   : 3.0 || cluster: 38"
         ],
         "type": "scatter",
         "x": [
          1.0773296356201172
         ],
         "y": [
          5.554340839385986
         ]
        },
        {
         "line": {
          "color": "DarkSlateGrey",
          "width": 2
         },
         "marker": {
          "color": [
           0.221989,
           0.339161,
           0.548752
          ],
          "size": 9
         },
         "mode": "markers",
         "name": "were",
         "text": [
          "token: were || tf   : 17.0 || cluster: 68"
         ],
         "type": "scatter",
         "x": [
          1.5698986053466797
         ],
         "y": [
          5.727133274078369
         ]
        },
        {
         "line": {
          "color": "DarkSlateGrey",
          "width": 2
         },
         "marker": {
          "color": [
           0.270595,
           0.214069,
           0.507052
          ],
          "size": 9
         },
         "mode": "markers",
         "name": "anti",
         "text": [
          "token: anti || tf   : 1.0 || cluster: 40"
         ],
         "type": "scatter",
         "x": [
          5.391655921936035
         ],
         "y": [
          9.754595756530762
         ]
        },
        {
         "line": {
          "color": "DarkSlateGrey",
          "width": 2
         },
         "marker": {
          "color": [
           0.993248,
           0.906157,
           0.143936
          ],
          "size": 9
         },
         "mode": "markers",
         "name": "and",
         "text": [
          "token: and || tf   : 26.0 || cluster: -1"
         ],
         "type": "scatter",
         "x": [
          4.529247760772705
         ],
         "y": [
          10.410187721252441
         ]
        },
        {
         "line": {
          "color": "DarkSlateGrey",
          "width": 2
         },
         "marker": {
          "color": [
           0.993248,
           0.906157,
           0.143936
          ],
          "size": 9
         },
         "mode": "markers",
         "name": "##rogen",
         "text": [
          "token: ##rogen || tf   : 1.0 || cluster: -1"
         ],
         "type": "scatter",
         "x": [
          4.985713481903076
         ],
         "y": [
          9.755099296569824
         ]
        },
        {
         "line": {
          "color": "DarkSlateGrey",
          "width": 2
         },
         "marker": {
          "color": [
           0.993248,
           0.906157,
           0.143936
          ],
          "size": 9
         },
         "mode": "markers",
         "name": "therapy",
         "text": [
          "token: therapy || tf   : 4.0 || cluster: -1"
         ],
         "type": "scatter",
         "x": [
          5.452241897583008
         ],
         "y": [
          9.535127639770508
         ]
        },
        {
         "line": {
          "color": "DarkSlateGrey",
          "width": 2
         },
         "marker": {
          "color": [
           0.276022,
           0.044167,
           0.370164
          ],
          "size": 9
         },
         "mode": "markers",
         "name": "along",
         "text": [
          "token: along || tf   : 1.0 || cluster: 7"
         ],
         "type": "scatter",
         "x": [
          5.559035301208496
         ],
         "y": [
          7.416999340057373
         ]
        },
        {
         "line": {
          "color": "DarkSlateGrey",
          "width": 2
         },
         "marker": {
          "color": [
           0.276022,
           0.044167,
           0.370164
          ],
          "size": 9
         },
         "mode": "markers",
         "name": "with",
         "text": [
          "token: with || tf   : 23.0 || cluster: 7"
         ],
         "type": "scatter",
         "x": [
          5.494794845581055
         ],
         "y": [
          7.4463887214660645
         ]
        },
        {
         "line": {
          "color": "DarkSlateGrey",
          "width": 2
         },
         "marker": {
          "color": [
           0.993248,
           0.906157,
           0.143936
          ],
          "size": 9
         },
         "mode": "markers",
         "name": "oral",
         "text": [
          "token: oral || tf   : 1.0 || cluster: -1"
         ],
         "type": "scatter",
         "x": [
          5.108396530151367
         ],
         "y": [
          9.846846580505371
         ]
        },
        {
         "line": {
          "color": "DarkSlateGrey",
          "width": 2
         },
         "marker": {
          "color": [
           0.267968,
           0.223549,
           0.512008
          ],
          "size": 9
         },
         "mode": "markers",
         "name": "contra",
         "text": [
          "token: contra || tf   : 1.0 || cluster: 42"
         ],
         "type": "scatter",
         "x": [
          4.96815824508667
         ],
         "y": [
          9.988751411437988
         ]
        },
        {
         "line": {
          "color": "DarkSlateGrey",
          "width": 2
         },
         "marker": {
          "color": [
           0.993248,
           0.906157,
           0.143936
          ],
          "size": 9
         },
         "mode": "markers",
         "name": "##ceptive",
         "text": [
          "token: ##ceptive || tf   : 1.0 || cluster: -1"
         ],
         "type": "scatter",
         "x": [
          5.1050872802734375
         ],
         "y": [
          9.820101737976074
         ]
        },
        {
         "line": {
          "color": "DarkSlateGrey",
          "width": 2
         },
         "marker": {
          "color": [
           0.270595,
           0.214069,
           0.507052
          ],
          "size": 9
         },
         "mode": "markers",
         "name": "pills",
         "text": [
          "token: pills || tf   : 1.0 || cluster: 40"
         ],
         "type": "scatter",
         "x": [
          5.425939559936523
         ],
         "y": [
          9.810401916503906
         ]
        },
        {
         "line": {
          "color": "DarkSlateGrey",
          "width": 2
         },
         "marker": {
          "color": [
           0.253935,
           0.265254,
           0.529983
          ],
          "size": 9
         },
         "mode": "markers",
         "name": "most",
         "text": [
          "token: most || tf   : 2.0 || cluster: 51"
         ],
         "type": "scatter",
         "x": [
          -0.31255942583084106
         ],
         "y": [
          4.691201686859131
         ]
        },
        {
         "line": {
          "color": "DarkSlateGrey",
          "width": 2
         },
         "marker": {
          "color": [
           0.26658,
           0.228262,
           0.514349
          ],
          "size": 9
         },
         "mode": "markers",
         "name": "adult",
         "text": [
          "token: adult || tf   : 8.0 || cluster: 43"
         ],
         "type": "scatter",
         "x": [
          3.753352165222168
         ],
         "y": [
          7.568151473999023
         ]
        },
        {
         "line": {
          "color": "DarkSlateGrey",
          "width": 2
         },
         "marker": {
          "color": [
           0.280267,
           0.073417,
           0.397163
          ],
          "size": 9
         },
         "mode": "markers",
         "name": "classic",
         "text": [
          "token: classic || tf   : 5.0 || cluster: 12"
         ],
         "type": "scatter",
         "x": [
          4.89951229095459
         ],
         "y": [
          6.694962024688721
         ]
        },
        {
         "line": {
          "color": "DarkSlateGrey",
          "width": 2
         },
         "marker": {
          "color": [
           0.272594,
           0.025563,
           0.353093
          ],
          "size": 9
         },
         "mode": "markers",
         "name": "##h",
         "text": [
          "token: ##h || tf   : 17.0 || cluster: 4"
         ],
         "type": "scatter",
         "x": [
          6.785415172576904
         ],
         "y": [
          10.24975872039795
         ]
        },
        {
         "line": {
          "color": "DarkSlateGrey",
          "width": 2
         },
         "marker": {
          "color": [
           0.274128,
           0.199721,
           0.498911
          ],
          "size": 9
         },
         "mode": "markers",
         "name": "patients",
         "text": [
          "token: patients || tf   : 25.0 || cluster: 37"
         ],
         "type": "scatter",
         "x": [
          0.12792421877384186
         ],
         "y": [
          5.706559658050537
         ]
        },
        {
         "line": {
          "color": "DarkSlateGrey",
          "width": 2
         },
         "marker": {
          "color": [
           0.243113,
           0.292092,
           0.538516
          ],
          "size": 9
         },
         "mode": "markers",
         "name": "with",
         "text": [
          "token: with || tf   : 23.0 || cluster: 57"
         ],
         "type": "scatter",
         "x": [
          4.052916049957275
         ],
         "y": [
          6.373777866363525
         ]
        },
        {
         "line": {
          "color": "DarkSlateGrey",
          "width": 2
         },
         "marker": {
          "color": [
           0.235526,
           0.309527,
           0.542944
          ],
          "size": 9
         },
         "mode": "markers",
         "name": "complaints",
         "text": [
          "token: complaints || tf   : 2.0 || cluster: 61"
         ],
         "type": "scatter",
         "x": [
          3.5801174640655518
         ],
         "y": [
          7.0551934242248535
         ]
        },
        {
         "line": {
          "color": "DarkSlateGrey",
          "width": 2
         },
         "marker": {
          "color": [
           0.993248,
           0.906157,
           0.143936
          ],
          "size": 9
         },
         "mode": "markers",
         "name": "##rs",
         "text": [
          "token: ##rs || tf   : 3.0 || cluster: -1"
         ],
         "type": "scatter",
         "x": [
          4.414982318878174
         ],
         "y": [
          10.137219429016113
         ]
        },
        {
         "line": {
          "color": "DarkSlateGrey",
          "width": 2
         },
         "marker": {
          "color": [
           0.258965,
           0.251537,
           0.524736
          ],
          "size": 9
         },
         "mode": "markers",
         "name": "##uti",
         "text": [
          "token: ##uti || tf   : 3.0 || cluster: 48"
         ],
         "type": "scatter",
         "x": [
          4.455607891082764
         ],
         "y": [
          9.881645202636719
         ]
        },
        {
         "line": {
          "color": "DarkSlateGrey",
          "width": 2
         },
         "marker": {
          "color": [
           0.276194,
           0.190074,
           0.493001
          ],
          "size": 9
         },
         "mode": "markers",
         "name": "##sm",
         "text": [
          "token: ##sm || tf   : 3.0 || cluster: 35"
         ],
         "type": "scatter",
         "x": [
          3.8714795112609863
         ],
         "y": [
          8.85793685913086
         ]
        },
        {
         "line": {
          "color": "DarkSlateGrey",
          "width": 2
         },
         "marker": {
          "color": [
           0.221989,
           0.339161,
           0.548752
          ],
          "size": 9
         },
         "mode": "markers",
         "name": "were",
         "text": [
          "token: were || tf   : 17.0 || cluster: 68"
         ],
         "type": "scatter",
         "x": [
          1.6078133583068848
         ],
         "y": [
          5.742825508117676
         ]
        },
        {
         "line": {
          "color": "DarkSlateGrey",
          "width": 2
         },
         "marker": {
          "color": [
           0.220057,
           0.343307,
           0.549413
          ],
          "size": 9
         },
         "mode": "markers",
         "name": "treated",
         "text": [
          "token: treated || tf   : 4.0 || cluster: 69"
         ],
         "type": "scatter",
         "x": [
          0.9528884291648865
         ],
         "y": [
          6.16612434387207
         ]
        },
        {
         "line": {
          "color": "DarkSlateGrey",
          "width": 2
         },
         "marker": {
          "color": [
           0.276022,
           0.044167,
           0.370164
          ],
          "size": 9
         },
         "mode": "markers",
         "name": "with",
         "text": [
          "token: with || tf   : 23.0 || cluster: 7"
         ],
         "type": "scatter",
         "x": [
          5.4472270011901855
         ],
         "y": [
          7.3930439949035645
         ]
        },
        {
         "line": {
          "color": "DarkSlateGrey",
          "width": 2
         },
         "marker": {
          "color": [
           0.276022,
           0.044167,
           0.370164
          ],
          "size": 9
         },
         "mode": "markers",
         "name": "either",
         "text": [
          "token: either || tf   : 1.0 || cluster: 7"
         ],
         "type": "scatter",
         "x": [
          5.902613639831543
         ],
         "y": [
          7.684216499328613
         ]
        },
        {
         "line": {
          "color": "DarkSlateGrey",
          "width": 2
         },
         "marker": {
          "color": [
           0.267968,
           0.223549,
           0.512008
          ],
          "size": 9
         },
         "mode": "markers",
         "name": "##iro",
         "text": [
          "token: ##iro || tf   : 1.0 || cluster: 42"
         ],
         "type": "scatter",
         "x": [
          5.016202926635742
         ],
         "y": [
          10.374250411987305
         ]
        },
        {
         "line": {
          "color": "DarkSlateGrey",
          "width": 2
         },
         "marker": {
          "color": [
           0.267968,
           0.223549,
           0.512008
          ],
          "size": 9
         },
         "mode": "markers",
         "name": "##no",
         "text": [
          "token: ##no || tf   : 1.0 || cluster: 42"
         ],
         "type": "scatter",
         "x": [
          5.113840579986572
         ],
         "y": [
          10.284896850585938
         ]
        },
        {
         "line": {
          "color": "DarkSlateGrey",
          "width": 2
         },
         "marker": {
          "color": [
           0.267968,
           0.223549,
           0.512008
          ],
          "size": 9
         },
         "mode": "markers",
         "name": "##la",
         "text": [
          "token: ##la || tf   : 1.0 || cluster: 42"
         ],
         "type": "scatter",
         "x": [
          5.007699489593506
         ],
         "y": [
          10.34811019897461
         ]
        },
        {
         "line": {
          "color": "DarkSlateGrey",
          "width": 2
         },
         "marker": {
          "color": [
           0.993248,
           0.906157,
           0.143936
          ],
          "size": 9
         },
         "mode": "markers",
         "name": "##cton",
         "text": [
          "token: ##cton || tf   : 1.0 || cluster: -1"
         ],
         "type": "scatter",
         "x": [
          5.2579426765441895
         ],
         "y": [
          10.244597434997559
         ]
        },
        {
         "line": {
          "color": "DarkSlateGrey",
          "width": 2
         },
         "marker": {
          "color": [
           0.270595,
           0.214069,
           0.507052
          ],
          "size": 9
         },
         "mode": "markers",
         "name": "##e",
         "text": [
          "token: ##e || tf   : 3.0 || cluster: 40"
         ],
         "type": "scatter",
         "x": [
          5.5380377769470215
         ],
         "y": [
          9.912336349487305
         ]
        },
        {
         "line": {
          "color": "DarkSlateGrey",
          "width": 2
         },
         "marker": {
          "color": [
           0.267968,
           0.223549,
           0.512008
          ],
          "size": 9
         },
         "mode": "markers",
         "name": "fin",
         "text": [
          "token: fin || tf   : 1.0 || cluster: 42"
         ],
         "type": "scatter",
         "x": [
          4.977657318115234
         ],
         "y": [
          10.268789291381836
         ]
        },
        {
         "line": {
          "color": "DarkSlateGrey",
          "width": 2
         },
         "marker": {
          "color": [
           0.267968,
           0.223549,
           0.512008
          ],
          "size": 9
         },
         "mode": "markers",
         "name": "##aster",
         "text": [
          "token: ##aster || tf   : 1.0 || cluster: 42"
         ],
         "type": "scatter",
         "x": [
          5.204137325286865
         ],
         "y": [
          10.279919624328613
         ]
        },
        {
         "line": {
          "color": "DarkSlateGrey",
          "width": 2
         },
         "marker": {
          "color": [
           0.270595,
           0.214069,
           0.507052
          ],
          "size": 9
         },
         "mode": "markers",
         "name": "##ide",
         "text": [
          "token: ##ide || tf   : 1.0 || cluster: 40"
         ],
         "type": "scatter",
         "x": [
          5.501924991607666
         ],
         "y": [
          9.882006645202637
         ]
        },
        {
         "line": {
          "color": "DarkSlateGrey",
          "width": 2
         },
         "marker": {
          "color": [
           0.993248,
           0.906157,
           0.143936
          ],
          "size": 9
         },
         "mode": "markers",
         "name": "pub",
         "text": [
          "token: pub || tf   : 3.0 || cluster: -1"
         ],
         "type": "scatter",
         "x": [
          4.171079158782959
         ],
         "y": [
          9.652822494506836
         ]
        },
        {
         "line": {
          "color": "DarkSlateGrey",
          "width": 2
         },
         "marker": {
          "color": [
           0.993248,
           0.906157,
           0.143936
          ],
          "size": 9
         },
         "mode": "markers",
         "name": "##ert",
         "text": [
          "token: ##ert || tf   : 2.0 || cluster: -1"
         ],
         "type": "scatter",
         "x": [
          4.222662925720215
         ],
         "y": [
          9.586522102355957
         ]
        },
        {
         "line": {
          "color": "DarkSlateGrey",
          "width": 2
         },
         "marker": {
          "color": [
           0.257322,
           0.25613,
           0.526563
          ],
          "size": 9
         },
         "mode": "markers",
         "name": "##al",
         "text": [
          "token: ##al || tf   : 7.0 || cluster: 49"
         ],
         "type": "scatter",
         "x": [
          4.645459175109863
         ],
         "y": [
          9.211470603942871
         ]
        },
        {
         "line": {
          "color": "DarkSlateGrey",
          "width": 2
         },
         "marker": {
          "color": [
           0.993248,
           0.906157,
           0.143936
          ],
          "size": 9
         },
         "mode": "markers",
         "name": "induction",
         "text": [
          "token: induction || tf   : 1.0 || cluster: -1"
         ],
         "type": "scatter",
         "x": [
          5.004014492034912
         ],
         "y": [
          9.17393684387207
         ]
        },
        {
         "line": {
          "color": "DarkSlateGrey",
          "width": 2
         },
         "marker": {
          "color": [
           0.276022,
           0.044167,
           0.370164
          ],
          "size": 9
         },
         "mode": "markers",
         "name": "with",
         "text": [
          "token: with || tf   : 23.0 || cluster: 7"
         ],
         "type": "scatter",
         "x": [
          5.471153736114502
         ],
         "y": [
          7.413021564483643
         ]
        },
        {
         "line": {
          "color": "DarkSlateGrey",
          "width": 2
         },
         "marker": {
          "color": [
           0.267968,
           0.223549,
           0.512008
          ],
          "size": 9
         },
         "mode": "markers",
         "name": "##hin",
         "text": [
          "token: ##hin || tf   : 1.0 || cluster: 42"
         ],
         "type": "scatter",
         "x": [
          4.943474769592285
         ],
         "y": [
          10.135274887084961
         ]
        },
        {
         "line": {
          "color": "DarkSlateGrey",
          "width": 2
         },
         "marker": {
          "color": [
           0.270595,
           0.214069,
           0.507052
          ],
          "size": 9
         },
         "mode": "markers",
         "name": "##yl",
         "text": [
          "token: ##yl || tf   : 1.0 || cluster: 40"
         ],
         "type": "scatter",
         "x": [
          5.564116954803467
         ],
         "y": [
          9.926515579223633
         ]
        },
        {
         "line": {
          "color": "DarkSlateGrey",
          "width": 2
         },
         "marker": {
          "color": [
           0.267968,
           0.223549,
           0.512008
          ],
          "size": 9
         },
         "mode": "markers",
         "name": "est",
         "text": [
          "token: est || tf   : 1.0 || cluster: 42"
         ],
         "type": "scatter",
         "x": [
          4.646352291107178
         ],
         "y": [
          10.3723783493042
         ]
        },
        {
         "line": {
          "color": "DarkSlateGrey",
          "width": 2
         },
         "marker": {
          "color": [
           0.267968,
           0.223549,
           0.512008
          ],
          "size": 9
         },
         "mode": "markers",
         "name": "##rad",
         "text": [
          "token: ##rad || tf   : 1.0 || cluster: 42"
         ],
         "type": "scatter",
         "x": [
          4.949992656707764
         ],
         "y": [
          10.256389617919922
         ]
        },
        {
         "line": {
          "color": "DarkSlateGrey",
          "width": 2
         },
         "marker": {
          "color": [
           0.270595,
           0.214069,
           0.507052
          ],
          "size": 9
         },
         "mode": "markers",
         "name": "##iol",
         "text": [
          "token: ##iol || tf   : 1.0 || cluster: 40"
         ],
         "type": "scatter",
         "x": [
          5.514869689941406
         ],
         "y": [
          9.93336009979248
         ]
        },
        {
         "line": {
          "color": "DarkSlateGrey",
          "width": 2
         },
         "marker": {
          "color": [
           0.221989,
           0.339161,
           0.548752
          ],
          "size": 9
         },
         "mode": "markers",
         "name": "was",
         "text": [
          "token: was || tf   : 15.0 || cluster: 68"
         ],
         "type": "scatter",
         "x": [
          1.8336998224258423
         ],
         "y": [
          5.541724681854248
         ]
        },
        {
         "line": {
          "color": "DarkSlateGrey",
          "width": 2
         },
         "marker": {
          "color": [
           0.993248,
           0.906157,
           0.143936
          ],
          "size": 9
         },
         "mode": "markers",
         "name": "initiated",
         "text": [
          "token: initiated || tf   : 1.0 || cluster: -1"
         ],
         "type": "scatter",
         "x": [
          1.7718051671981812
         ],
         "y": [
          6.040037631988525
         ]
        },
        {
         "line": {
          "color": "DarkSlateGrey",
          "width": 2
         },
         "marker": {
          "color": [
           0.255645,
           0.260703,
           0.528312
          ],
          "size": 9
         },
         "mode": "markers",
         "name": "for",
         "text": [
          "token: for || tf   : 6.0 || cluster: 50"
         ],
         "type": "scatter",
         "x": [
          0.350972056388855
         ],
         "y": [
          4.297872543334961
         ]
        },
        {
         "line": {
          "color": "DarkSlateGrey",
          "width": 2
         },
         "marker": {
          "color": [
           0.283091,
           0.110553,
           0.431554
          ],
          "size": 9
         },
         "mode": "markers",
         "name": "three",
         "text": [
          "token: three || tf   : 1.0 || cluster: 19"
         ],
         "type": "scatter",
         "x": [
          -0.32998162508010864
         ],
         "y": [
          7.252908229827881
         ]
        },
        {
         "line": {
          "color": "DarkSlateGrey",
          "width": 2
         },
         "marker": {
          "color": [
           0.237441,
           0.305202,
           0.541921
          ],
          "size": 9
         },
         "mode": "markers",
         "name": "the",
         "text": [
          "token: the || tf   : 32.0 || cluster: 60"
         ],
         "type": "scatter",
         "x": [
          1.4441019296646118
         ],
         "y": [
          4.229345321655273
         ]
        },
        {
         "line": {
          "color": "DarkSlateGrey",
          "width": 2
         },
         "marker": {
          "color": [
           0.26658,
           0.228262,
           0.514349
          ],
          "size": 9
         },
         "mode": "markers",
         "name": "adult",
         "text": [
          "token: adult || tf   : 8.0 || cluster: 43"
         ],
         "type": "scatter",
         "x": [
          3.659186601638794
         ],
         "y": [
          7.612651348114014
         ]
        },
        {
         "line": {
          "color": "DarkSlateGrey",
          "width": 2
         },
         "marker": {
          "color": [
           0.274128,
           0.199721,
           0.498911
          ],
          "size": 9
         },
         "mode": "markers",
         "name": "patients",
         "text": [
          "token: patients || tf   : 25.0 || cluster: 37"
         ],
         "type": "scatter",
         "x": [
          0.12625457346439362
         ],
         "y": [
          5.671095848083496
         ]
        },
        {
         "line": {
          "color": "DarkSlateGrey",
          "width": 2
         },
         "marker": {
          "color": [
           0.273006,
           0.20452,
           0.501721
          ],
          "size": 9
         },
         "mode": "markers",
         "name": "who",
         "text": [
          "token: who || tf   : 4.0 || cluster: 38"
         ],
         "type": "scatter",
         "x": [
          0.8571943044662476
         ],
         "y": [
          5.494348526000977
         ]
        },
        {
         "line": {
          "color": "DarkSlateGrey",
          "width": 2
         },
         "marker": {
          "color": [
           0.229739,
           0.322361,
           0.545706
          ],
          "size": 9
         },
         "mode": "markers",
         "name": "sought",
         "text": [
          "token: sought || tf   : 2.0 || cluster: 64"
         ],
         "type": "scatter",
         "x": [
          2.49060320854187
         ],
         "y": [
          6.380867958068848
         ]
        },
        {
         "line": {
          "color": "DarkSlateGrey",
          "width": 2
         },
         "marker": {
          "color": [
           0.220057,
           0.343307,
           0.549413
          ],
          "size": 9
         },
         "mode": "markers",
         "name": "medical",
         "text": [
          "token: medical || tf   : 3.0 || cluster: 69"
         ],
         "type": "scatter",
         "x": [
          1.020196795463562
         ],
         "y": [
          6.196474552154541
         ]
        },
        {
         "line": {
          "color": "DarkSlateGrey",
          "width": 2
         },
         "marker": {
          "color": [
           0.220057,
           0.343307,
           0.549413
          ],
          "size": 9
         },
         "mode": "markers",
         "name": "care",
         "text": [
          "token: care || tf   : 1.0 || cluster: 69"
         ],
         "type": "scatter",
         "x": [
          0.9897423386573792
         ],
         "y": [
          6.177060604095459
         ]
        },
        {
         "line": {
          "color": "DarkSlateGrey",
          "width": 2
         },
         "marker": {
          "color": [
           0.233603,
           0.313828,
           0.543914
          ],
          "size": 9
         },
         "mode": "markers",
         "name": "late",
         "text": [
          "token: late || tf   : 4.0 || cluster: 62"
         ],
         "type": "scatter",
         "x": [
          2.7450649738311768
         ],
         "y": [
          7.125394821166992
         ]
        },
        {
         "line": {
          "color": "DarkSlateGrey",
          "width": 2
         },
         "marker": {
          "color": [
           0.262138,
           0.242286,
           0.520837
          ],
          "size": 9
         },
         "mode": "markers",
         "name": "analysis",
         "text": [
          "token: analysis || tf   : 1.0 || cluster: 46"
         ],
         "type": "scatter",
         "x": [
          0.9459192156791687
         ],
         "y": [
          4.800444602966309
         ]
        },
        {
         "line": {
          "color": "DarkSlateGrey",
          "width": 2
         },
         "marker": {
          "color": [
           0.993248,
           0.906157,
           0.143936
          ],
          "size": 9
         },
         "mode": "markers",
         "name": "##p",
         "text": [
          "token: ##p || tf   : 4.0 || cluster: -1"
         ],
         "type": "scatter",
         "x": [
          5.527796268463135
         ],
         "y": [
          8.863364219665527
         ]
        },
        {
         "line": {
          "color": "DarkSlateGrey",
          "width": 2
         },
         "marker": {
          "color": [
           0.993248,
           0.906157,
           0.143936
          ],
          "size": 9
         },
         "mode": "markers",
         "name": "levels",
         "text": [
          "token: levels || tf   : 6.0 || cluster: -1"
         ],
         "type": "scatter",
         "x": [
          5.397149562835693
         ],
         "y": [
          8.720925331115723
         ]
        },
        {
         "line": {
          "color": "DarkSlateGrey",
          "width": 2
         },
         "marker": {
          "color": [
           0.993248,
           0.906157,
           0.143936
          ],
          "size": 9
         },
         "mode": "markers",
         "name": "revealed",
         "text": [
          "token: revealed || tf   : 1.0 || cluster: -1"
         ],
         "type": "scatter",
         "x": [
          1.4843796491622925
         ],
         "y": [
          5.123723983764648
         ]
        },
        {
         "line": {
          "color": "DarkSlateGrey",
          "width": 2
         },
         "marker": {
          "color": [
           0.993248,
           0.906157,
           0.143936
          ],
          "size": 9
         },
         "mode": "markers",
         "name": "that",
         "text": [
          "token: that || tf   : 1.0 || cluster: -1"
         ],
         "type": "scatter",
         "x": [
          1.453603982925415
         ],
         "y": [
          5.172835350036621
         ]
        },
        {
         "line": {
          "color": "DarkSlateGrey",
          "width": 2
         },
         "marker": {
          "color": [
           0.221989,
           0.339161,
           0.548752
          ],
          "size": 9
         },
         "mode": "markers",
         "name": "were",
         "text": [
          "token: were || tf   : 17.0 || cluster: 68"
         ],
         "type": "scatter",
         "x": [
          1.7184637784957886
         ],
         "y": [
          5.667954444885254
         ]
        },
        {
         "line": {
          "color": "DarkSlateGrey",
          "width": 2
         },
         "marker": {
          "color": [
           0.993248,
           0.906157,
           0.143936
          ],
          "size": 9
         },
         "mode": "markers",
         "name": "suppressed",
         "text": [
          "token: suppressed || tf   : 2.0 || cluster: -1"
         ],
         "type": "scatter",
         "x": [
          3.19866943359375
         ],
         "y": [
          5.741816520690918
         ]
        },
        {
         "line": {
          "color": "DarkSlateGrey",
          "width": 2
         },
         "marker": {
          "color": [
           0.243113,
           0.292092,
           0.538516
          ],
          "size": 9
         },
         "mode": "markers",
         "name": "with",
         "text": [
          "token: with || tf   : 23.0 || cluster: 57"
         ],
         "type": "scatter",
         "x": [
          3.8385608196258545
         ],
         "y": [
          6.209536075592041
         ]
        },
        {
         "line": {
          "color": "DarkSlateGrey",
          "width": 2
         },
         "marker": {
          "color": [
           0.993248,
           0.906157,
           0.143936
          ],
          "size": 9
         },
         "mode": "markers",
         "name": "levels",
         "text": [
          "token: levels || tf   : 6.0 || cluster: -1"
         ],
         "type": "scatter",
         "x": [
          5.293849468231201
         ],
         "y": [
          8.636072158813477
         ]
        },
        {
         "line": {
          "color": "DarkSlateGrey",
          "width": 2
         },
         "marker": {
          "color": [
           0.231674,
           0.318106,
           0.544834
          ],
          "size": 9
         },
         "mode": "markers",
         "name": "less",
         "text": [
          "token: less || tf   : 1.0 || cluster: 63"
         ],
         "type": "scatter",
         "x": [
          3.3305487632751465
         ],
         "y": [
          6.3787736892700195
         ]
        },
        {
         "line": {
          "color": "DarkSlateGrey",
          "width": 2
         },
         "marker": {
          "color": [
           0.231674,
           0.318106,
           0.544834
          ],
          "size": 9
         },
         "mode": "markers",
         "name": "than",
         "text": [
          "token: than || tf   : 3.0 || cluster: 63"
         ],
         "type": "scatter",
         "x": [
          3.299548625946045
         ],
         "y": [
          6.470619201660156
         ]
        },
        {
         "line": {
          "color": "DarkSlateGrey",
          "width": 2
         },
         "marker": {
          "color": [
           0.280868,
           0.160771,
           0.472899
          ],
          "size": 9
         },
         "mode": "markers",
         "name": "##ng",
         "text": [
          "token: ##ng || tf   : 1.0 || cluster: 29"
         ],
         "type": "scatter",
         "x": [
          0.9797483682632446
         ],
         "y": [
          9.89558219909668
         ]
        },
        {
         "line": {
          "color": "DarkSlateGrey",
          "width": 2
         },
         "marker": {
          "color": [
           0.993248,
           0.906157,
           0.143936
          ],
          "size": 9
         },
         "mode": "markers",
         "name": "appropriate",
         "text": [
          "token: appropriate || tf   : 3.0 || cluster: -1"
         ],
         "type": "scatter",
         "x": [
          3.2759101390838623
         ],
         "y": [
          5.563410758972168
         ]
        },
        {
         "line": {
          "color": "DarkSlateGrey",
          "width": 2
         },
         "marker": {
          "color": [
           0.993248,
           0.906157,
           0.143936
          ],
          "size": 9
         },
         "mode": "markers",
         "name": "and",
         "text": [
          "token: and || tf   : 26.0 || cluster: -1"
         ],
         "type": "scatter",
         "x": [
          3.6688241958618164
         ],
         "y": [
          4.56536340713501
         ]
        },
        {
         "line": {
          "color": "DarkSlateGrey",
          "width": 2
         },
         "marker": {
          "color": [
           0.993248,
           0.906157,
           0.143936
          ],
          "size": 9
         },
         "mode": "markers",
         "name": "inadequate",
         "text": [
          "token: inadequate || tf   : 1.0 || cluster: -1"
         ],
         "type": "scatter",
         "x": [
          3.178900957107544
         ],
         "y": [
          5.67209529876709
         ]
        },
        {
         "line": {
          "color": "DarkSlateGrey",
          "width": 2
         },
         "marker": {
          "color": [
           0.274128,
           0.199721,
           0.498911
          ],
          "size": 9
         },
         "mode": "markers",
         "name": "patients",
         "text": [
          "token: patients || tf   : 25.0 || cluster: 37"
         ],
         "type": "scatter",
         "x": [
          0.2153579592704773
         ],
         "y": [
          5.543892860412598
         ]
        },
        {
         "line": {
          "color": "DarkSlateGrey",
          "width": 2
         },
         "marker": {
          "color": [
           0.993248,
           0.906157,
           0.143936
          ],
          "size": 9
         },
         "mode": "markers",
         "name": "report",
         "text": [
          "token: report || tf   : 1.0 || cluster: -1"
         ],
         "type": "scatter",
         "x": [
          1.410211443901062
         ],
         "y": [
          4.892605304718018
         ]
        },
        {
         "line": {
          "color": "DarkSlateGrey",
          "width": 2
         },
         "marker": {
          "color": [
           0.237441,
           0.305202,
           0.541921
          ],
          "size": 9
         },
         "mode": "markers",
         "name": "the",
         "text": [
          "token: the || tf   : 32.0 || cluster: 60"
         ],
         "type": "scatter",
         "x": [
          1.5646690130233765
         ],
         "y": [
          4.442874431610107
         ]
        },
        {
         "line": {
          "color": "DarkSlateGrey",
          "width": 2
         },
         "marker": {
          "color": [
           0.993248,
           0.906157,
           0.143936
          ],
          "size": 9
         },
         "mode": "markers",
         "name": "##eno",
         "text": [
          "token: ##eno || tf   : 1.0 || cluster: -1"
         ],
         "type": "scatter",
         "x": [
          4.714102745056152
         ],
         "y": [
          10.052755355834961
         ]
        },
        {
         "line": {
          "color": "DarkSlateGrey",
          "width": 2
         },
         "marker": {
          "color": [
           0.273809,
           0.031497,
           0.358853
          ],
          "size": 9
         },
         "mode": "markers",
         "name": "##typic",
         "text": [
          "token: ##typic || tf   : 1.0 || cluster: 5"
         ],
         "type": "scatter",
         "x": [
          6.32010555267334
         ],
         "y": [
          8.4224214553833
         ]
        },
        {
         "line": {
          "color": "DarkSlateGrey",
          "width": 2
         },
         "marker": {
          "color": [
           0.235526,
           0.309527,
           0.542944
          ],
          "size": 9
         },
         "mode": "markers",
         "name": "features",
         "text": [
          "token: features || tf   : 4.0 || cluster: 61"
         ],
         "type": "scatter",
         "x": [
          3.471895217895508
         ],
         "y": [
          7.04531192779541
         ]
        },
        {
         "line": {
          "color": "DarkSlateGrey",
          "width": 2
         },
         "marker": {
          "color": [
           0.993248,
           0.906157,
           0.143936
          ],
          "size": 9
         },
         "mode": "markers",
         "name": "##hort",
         "text": [
          "token: ##hort || tf   : 2.0 || cluster: -1"
         ],
         "type": "scatter",
         "x": [
          0.32879918813705444
         ],
         "y": [
          4.897200107574463
         ]
        },
        {
         "line": {
          "color": "DarkSlateGrey",
          "width": 2
         },
         "marker": {
          "color": [
           0.274128,
           0.199721,
           0.498911
          ],
          "size": 9
         },
         "mode": "markers",
         "name": "patients",
         "text": [
          "token: patients || tf   : 25.0 || cluster: 37"
         ],
         "type": "scatter",
         "x": [
          0.16752247512340546
         ],
         "y": [
          5.678534984588623
         ]
        },
        {
         "line": {
          "color": "DarkSlateGrey",
          "width": 2
         },
         "marker": {
          "color": [
           0.243113,
           0.292092,
           0.538516
          ],
          "size": 9
         },
         "mode": "markers",
         "name": "with",
         "text": [
          "token: with || tf   : 23.0 || cluster: 57"
         ],
         "type": "scatter",
         "x": [
          4.108436584472656
         ],
         "y": [
          6.445987701416016
         ]
        },
        {
         "line": {
          "color": "DarkSlateGrey",
          "width": 2
         },
         "marker": {
          "color": [
           0.272594,
           0.025563,
           0.353093
          ],
          "size": 9
         },
         "mode": "markers",
         "name": "##h",
         "text": [
          "token: ##h || tf   : 17.0 || cluster: 4"
         ],
         "type": "scatter",
         "x": [
          6.764408111572266
         ],
         "y": [
          10.2266845703125
         ]
        },
        {
         "line": {
          "color": "DarkSlateGrey",
          "width": 2
         },
         "marker": {
          "color": [
           0.993248,
           0.906157,
           0.143936
          ],
          "size": 9
         },
         "mode": "markers",
         "name": "being",
         "text": [
          "token: being || tf   : 1.0 || cluster: -1"
         ],
         "type": "scatter",
         "x": [
          1.2882047891616821
         ],
         "y": [
          5.206021785736084
         ]
        },
        {
         "line": {
          "color": "DarkSlateGrey",
          "width": 2
         },
         "marker": {
          "color": [
           0.220057,
           0.343307,
           0.549413
          ],
          "size": 9
         },
         "mode": "markers",
         "name": "evaluated",
         "text": [
          "token: evaluated || tf   : 2.0 || cluster: 69"
         ],
         "type": "scatter",
         "x": [
          0.9715209603309631
         ],
         "y": [
          6.046683311462402
         ]
        },
        {
         "line": {
          "color": "DarkSlateGrey",
          "width": 2
         },
         "marker": {
          "color": [
           0.993248,
           0.906157,
           0.143936
          ],
          "size": 9
         },
         "mode": "markers",
         "name": "and",
         "text": [
          "token: and || tf   : 26.0 || cluster: -1"
         ],
         "type": "scatter",
         "x": [
          3.1071016788482666
         ],
         "y": [
          4.775860786437988
         ]
        },
        {
         "line": {
          "color": "DarkSlateGrey",
          "width": 2
         },
         "marker": {
          "color": [
           0.220057,
           0.343307,
           0.549413
          ],
          "size": 9
         },
         "mode": "markers",
         "name": "managed",
         "text": [
          "token: managed || tf   : 1.0 || cluster: 69"
         ],
         "type": "scatter",
         "x": [
          1.0232834815979004
         ],
         "y": [
          6.0968499183654785
         ]
        },
        {
         "line": {
          "color": "DarkSlateGrey",
          "width": 2
         },
         "marker": {
          "color": [
           0.993248,
           0.906157,
           0.143936
          ],
          "size": 9
         },
         "mode": "markers",
         "name": "tertiary",
         "text": [
          "token: tertiary || tf   : 1.0 || cluster: -1"
         ],
         "type": "scatter",
         "x": [
          0.7130277156829834
         ],
         "y": [
          5.262228488922119
         ]
        },
        {
         "line": {
          "color": "DarkSlateGrey",
          "width": 2
         },
         "marker": {
          "color": [
           0.993248,
           0.906157,
           0.143936
          ],
          "size": 9
         },
         "mode": "markers",
         "name": "centre",
         "text": [
          "token: centre || tf   : 1.0 || cluster: -1"
         ],
         "type": "scatter",
         "x": [
          0.735023558139801
         ],
         "y": [
          5.170079231262207
         ]
        },
        {
         "line": {
          "color": "DarkSlateGrey",
          "width": 2
         },
         "marker": {
          "color": [
           0.273809,
           0.031497,
           0.358853
          ],
          "size": 9
         },
         "mode": "markers",
         "name": "southern",
         "text": [
          "token: southern || tf   : 1.0 || cluster: 5"
         ],
         "type": "scatter",
         "x": [
          6.813851833343506
         ],
         "y": [
          8.541470527648926
         ]
        },
        {
         "line": {
          "color": "DarkSlateGrey",
          "width": 2
         },
         "marker": {
          "color": [
           0.273809,
           0.031497,
           0.358853
          ],
          "size": 9
         },
         "mode": "markers",
         "name": "india",
         "text": [
          "token: india || tf   : 1.0 || cluster: 5"
         ],
         "type": "scatter",
         "x": [
          6.93381404876709
         ],
         "y": [
          8.583060264587402
         ]
        },
        {
         "line": {
          "color": "DarkSlateGrey",
          "width": 2
         },
         "marker": {
          "color": [
           0.993248,
           0.906157,
           0.143936
          ],
          "size": 9
         },
         "mode": "markers",
         "name": "this",
         "text": [
          "token: this || tf   : 3.0 || cluster: -1"
         ],
         "type": "scatter",
         "x": [
          1.1113964319229126
         ],
         "y": [
          4.391186237335205
         ]
        },
        {
         "line": {
          "color": "DarkSlateGrey",
          "width": 2
         },
         "marker": {
          "color": [
           0.993248,
           0.906157,
           0.143936
          ],
          "size": 9
         },
         "mode": "markers",
         "name": "series",
         "text": [
          "token: series || tf   : 1.0 || cluster: -1"
         ],
         "type": "scatter",
         "x": [
          0.5337728261947632
         ],
         "y": [
          4.773276329040527
         ]
        },
        {
         "line": {
          "color": "DarkSlateGrey",
          "width": 2
         },
         "marker": {
          "color": [
           0.237441,
           0.305202,
           0.541921
          ],
          "size": 9
         },
         "mode": "markers",
         "name": "the",
         "text": [
          "token: the || tf   : 32.0 || cluster: 60"
         ],
         "type": "scatter",
         "x": [
          1.5833368301391602
         ],
         "y": [
          4.353572845458984
         ]
        },
        {
         "line": {
          "color": "DarkSlateGrey",
          "width": 2
         },
         "marker": {
          "color": [
           0.993248,
           0.906157,
           0.143936
          ],
          "size": 9
         },
         "mode": "markers",
         "name": "typical",
         "text": [
          "token: typical || tf   : 1.0 || cluster: -1"
         ],
         "type": "scatter",
         "x": [
          1.5829832553863525
         ],
         "y": [
          4.8025736808776855
         ]
        },
        {
         "line": {
          "color": "DarkSlateGrey",
          "width": 2
         },
         "marker": {
          "color": [
           0.21813,
           0.347432,
           0.550038
          ],
          "size": 9
         },
         "mode": "markers",
         "name": "presentation",
         "text": [
          "token: presentation || tf   : 3.0 || cluster: 70"
         ],
         "type": "scatter",
         "x": [
          1.7693902254104614
         ],
         "y": [
          6.083396911621094
         ]
        },
        {
         "line": {
          "color": "DarkSlateGrey",
          "width": 2
         },
         "marker": {
          "color": [
           0.271828,
           0.209303,
           0.504434
          ],
          "size": 9
         },
         "mode": "markers",
         "name": "male",
         "text": [
          "token: male || tf   : 2.0 || cluster: 39"
         ],
         "type": "scatter",
         "x": [
          0.33482852578163147
         ],
         "y": [
          6.443188190460205
         ]
        },
        {
         "line": {
          "color": "DarkSlateGrey",
          "width": 2
         },
         "marker": {
          "color": [
           0.271828,
           0.209303,
           0.504434
          ],
          "size": 9
         },
         "mode": "markers",
         "name": "babies",
         "text": [
          "token: babies || tf   : 1.0 || cluster: 39"
         ],
         "type": "scatter",
         "x": [
          0.30536285042762756
         ],
         "y": [
          6.26644229888916
         ]
        },
        {
         "line": {
          "color": "DarkSlateGrey",
          "width": 2
         },
         "marker": {
          "color": [
           0.221989,
           0.339161,
           0.548752
          ],
          "size": 9
         },
         "mode": "markers",
         "name": "were",
         "text": [
          "token: were || tf   : 17.0 || cluster: 68"
         ],
         "type": "scatter",
         "x": [
          1.5931295156478882
         ],
         "y": [
          5.783519268035889
         ]
        },
        {
         "line": {
          "color": "DarkSlateGrey",
          "width": 2
         },
         "marker": {
          "color": [
           0.243113,
           0.292092,
           0.538516
          ],
          "size": 9
         },
         "mode": "markers",
         "name": "with",
         "text": [
          "token: with || tf   : 23.0 || cluster: 57"
         ],
         "type": "scatter",
         "x": [
          4.034217834472656
         ],
         "y": [
          6.385983943939209
         ]
        },
        {
         "line": {
          "color": "DarkSlateGrey",
          "width": 2
         },
         "marker": {
          "color": [
           0.993248,
           0.906157,
           0.143936
          ],
          "size": 9
         },
         "mode": "markers",
         "name": "##ren",
         "text": [
          "token: ##ren || tf   : 7.0 || cluster: -1"
         ],
         "type": "scatter",
         "x": [
          3.853841781616211
         ],
         "y": [
          9.825186729431152
         ]
        },
        {
         "line": {
          "color": "DarkSlateGrey",
          "width": 2
         },
         "marker": {
          "color": [
           0.257322,
           0.25613,
           0.526563
          ],
          "size": 9
         },
         "mode": "markers",
         "name": "##al",
         "text": [
          "token: ##al || tf   : 7.0 || cluster: 49"
         ],
         "type": "scatter",
         "x": [
          4.461681842803955
         ],
         "y": [
          9.215962409973145
         ]
        },
        {
         "line": {
          "color": "DarkSlateGrey",
          "width": 2
         },
         "marker": {
          "color": [
           0.993248,
           0.906157,
           0.143936
          ],
          "size": 9
         },
         "mode": "markers",
         "name": "crisis",
         "text": [
          "token: crisis || tf   : 3.0 || cluster: -1"
         ],
         "type": "scatter",
         "x": [
          3.479375123977661
         ],
         "y": [
          8.648188591003418
         ]
        },
        {
         "line": {
          "color": "DarkSlateGrey",
          "width": 2
         },
         "marker": {
          "color": [
           0.223925,
           0.334994,
           0.548053
          ],
          "size": 9
         },
         "mode": "markers",
         "name": "between",
         "text": [
          "token: between || tf   : 4.0 || cluster: 67"
         ],
         "type": "scatter",
         "x": [
          2.4205055236816406
         ],
         "y": [
          7.0764994621276855
         ]
        },
        {
         "line": {
          "color": "DarkSlateGrey",
          "width": 2
         },
         "marker": {
          "color": [
           0.225863,
           0.330805,
           0.547314
          ],
          "size": 9
         },
         "mode": "markers",
         "name": "the",
         "text": [
          "token: the || tf   : 32.0 || cluster: 66"
         ],
         "type": "scatter",
         "x": [
          2.4282288551330566
         ],
         "y": [
          7.508579254150391
         ]
        },
        {
         "line": {
          "color": "DarkSlateGrey",
          "width": 2
         },
         "marker": {
          "color": [
           0.993248,
           0.906157,
           0.143936
          ],
          "size": 9
         },
         "mode": "markers",
         "name": "and",
         "text": [
          "token: and || tf   : 26.0 || cluster: -1"
         ],
         "type": "scatter",
         "x": [
          2.0267112255096436
         ],
         "y": [
          7.961186408996582
         ]
        },
        {
         "line": {
          "color": "DarkSlateGrey",
          "width": 2
         },
         "marker": {
          "color": [
           0.248629,
           0.278775,
           0.534556
          ],
          "size": 9
         },
         "mode": "markers",
         "name": "week",
         "text": [
          "token: week || tf   : 2.0 || cluster: 54"
         ],
         "type": "scatter",
         "x": [
          2.3937368392944336
         ],
         "y": [
          8.0787992477417
         ]
        },
        {
         "line": {
          "color": "DarkSlateGrey",
          "width": 2
         },
         "marker": {
          "color": [
           0.993248,
           0.906157,
           0.143936
          ],
          "size": 9
         },
         "mode": "markers",
         "name": "life",
         "text": [
          "token: life || tf   : 3.0 || cluster: -1"
         ],
         "type": "scatter",
         "x": [
          3.016449451446533
         ],
         "y": [
          7.9682440757751465
         ]
        },
        {
         "line": {
          "color": "DarkSlateGrey",
          "width": 2
         },
         "marker": {
          "color": [
           0.283091,
           0.110553,
           0.431554
          ],
          "size": 9
         },
         "mode": "markers",
         "name": "around",
         "text": [
          "token: around || tf   : 3.0 || cluster: 19"
         ],
         "type": "scatter",
         "x": [
          -0.26920628547668457
         ],
         "y": [
          8.051950454711914
         ]
        },
        {
         "line": {
          "color": "DarkSlateGrey",
          "width": 2
         },
         "marker": {
          "color": [
           0.271828,
           0.209303,
           0.504434
          ],
          "size": 9
         },
         "mode": "markers",
         "name": "female",
         "text": [
          "token: female || tf   : 1.0 || cluster: 39"
         ],
         "type": "scatter",
         "x": [
          0.3374868333339691
         ],
         "y": [
          6.416569709777832
         ]
        },
        {
         "line": {
          "color": "DarkSlateGrey",
          "width": 2
         },
         "marker": {
          "color": [
           0.274128,
           0.199721,
           0.498911
          ],
          "size": 9
         },
         "mode": "markers",
         "name": "patients",
         "text": [
          "token: patients || tf   : 25.0 || cluster: 37"
         ],
         "type": "scatter",
         "x": [
          0.15635260939598083
         ],
         "y": [
          5.722510814666748
         ]
        },
        {
         "line": {
          "color": "DarkSlateGrey",
          "width": 2
         },
         "marker": {
          "color": [
           0.243113,
           0.292092,
           0.538516
          ],
          "size": 9
         },
         "mode": "markers",
         "name": "with",
         "text": [
          "token: with || tf   : 23.0 || cluster: 57"
         ],
         "type": "scatter",
         "x": [
          4.078074932098389
         ],
         "y": [
          6.397295951843262
         ]
        },
        {
         "line": {
          "color": "DarkSlateGrey",
          "width": 2
         },
         "marker": {
          "color": [
           0.280267,
           0.073417,
           0.397163
          ],
          "size": 9
         },
         "mode": "markers",
         "name": "classic",
         "text": [
          "token: classic || tf   : 5.0 || cluster: 12"
         ],
         "type": "scatter",
         "x": [
          4.92607307434082
         ],
         "y": [
          6.720581531524658
         ]
        },
        {
         "line": {
          "color": "DarkSlateGrey",
          "width": 2
         },
         "marker": {
          "color": [
           0.272594,
           0.025563,
           0.353093
          ],
          "size": 9
         },
         "mode": "markers",
         "name": "##h",
         "text": [
          "token: ##h || tf   : 17.0 || cluster: 4"
         ],
         "type": "scatter",
         "x": [
          6.759134292602539
         ],
         "y": [
          10.231170654296875
         ]
        },
        {
         "line": {
          "color": "DarkSlateGrey",
          "width": 2
         },
         "marker": {
          "color": [
           0.221989,
           0.339161,
           0.548752
          ],
          "size": 9
         },
         "mode": "markers",
         "name": "were",
         "text": [
          "token: were || tf   : 17.0 || cluster: 68"
         ],
         "type": "scatter",
         "x": [
          1.6147626638412476
         ],
         "y": [
          5.751741409301758
         ]
        },
        {
         "line": {
          "color": "DarkSlateGrey",
          "width": 2
         },
         "marker": {
          "color": [
           0.21813,
           0.347432,
           0.550038
          ],
          "size": 9
         },
         "mode": "markers",
         "name": "identified",
         "text": [
          "token: identified || tf   : 3.0 || cluster: 70"
         ],
         "type": "scatter",
         "x": [
          1.3583948612213135
         ],
         "y": [
          6.348372459411621
         ]
        },
        {
         "line": {
          "color": "DarkSlateGrey",
          "width": 2
         },
         "marker": {
          "color": [
           0.269308,
           0.218818,
           0.509577
          ],
          "size": 9
         },
         "mode": "markers",
         "name": "and",
         "text": [
          "token: and || tf   : 26.0 || cluster: 41"
         ],
         "type": "scatter",
         "x": [
          3.3086798191070557
         ],
         "y": [
          4.841902256011963
         ]
        },
        {
         "line": {
          "color": "DarkSlateGrey",
          "width": 2
         },
         "marker": {
          "color": [
           0.993248,
           0.906157,
           0.143936
          ],
          "size": 9
         },
         "mode": "markers",
         "name": "appropriately",
         "text": [
          "token: appropriately || tf   : 1.0 || cluster: -1"
         ],
         "type": "scatter",
         "x": [
          3.193636178970337
         ],
         "y": [
          5.332619667053223
         ]
        },
        {
         "line": {
          "color": "DarkSlateGrey",
          "width": 2
         },
         "marker": {
          "color": [
           0.220057,
           0.343307,
           0.549413
          ],
          "size": 9
         },
         "mode": "markers",
         "name": "treated",
         "text": [
          "token: treated || tf   : 4.0 || cluster: 69"
         ],
         "type": "scatter",
         "x": [
          0.951461911201477
         ],
         "y": [
          6.139307022094727
         ]
        },
        {
         "line": {
          "color": "DarkSlateGrey",
          "width": 2
         },
         "marker": {
          "color": [
           0.993248,
           0.906157,
           0.143936
          ],
          "size": 9
         },
         "mode": "markers",
         "name": "only",
         "text": [
          "token: only || tf   : 2.0 || cluster: -1"
         ],
         "type": "scatter",
         "x": [
          2.52476167678833
         ],
         "y": [
          6.07936954498291
         ]
        },
        {
         "line": {
          "color": "DarkSlateGrey",
          "width": 2
         },
         "marker": {
          "color": [
           0.223925,
           0.334994,
           0.548053
          ],
          "size": 9
         },
         "mode": "markers",
         "name": "after",
         "text": [
          "token: after || tf   : 1.0 || cluster: 67"
         ],
         "type": "scatter",
         "x": [
          2.5162925720214844
         ],
         "y": [
          6.871921539306641
         ]
        },
        {
         "line": {
          "color": "DarkSlateGrey",
          "width": 2
         },
         "marker": {
          "color": [
           0.233603,
           0.313828,
           0.543914
          ],
          "size": 9
         },
         "mode": "markers",
         "name": "late",
         "text": [
          "token: late || tf   : 4.0 || cluster: 62"
         ],
         "type": "scatter",
         "x": [
          2.6653831005096436
         ],
         "y": [
          7.288044452667236
         ]
        },
        {
         "line": {
          "color": "DarkSlateGrey",
          "width": 2
         },
         "marker": {
          "color": [
           0.26658,
           0.228262,
           0.514349
          ],
          "size": 9
         },
         "mode": "markers",
         "name": "adolescence",
         "text": [
          "token: adolescence || tf   : 1.0 || cluster: 43"
         ],
         "type": "scatter",
         "x": [
          3.5164995193481445
         ],
         "y": [
          7.758867263793945
         ]
        },
        {
         "line": {
          "color": "DarkSlateGrey",
          "width": 2
         },
         "marker": {
          "color": [
           0.993248,
           0.906157,
           0.143936
          ],
          "size": 9
         },
         "mode": "markers",
         "name": "even",
         "text": [
          "token: even || tf   : 2.0 || cluster: -1"
         ],
         "type": "scatter",
         "x": [
          3.103708028793335
         ],
         "y": [
          5.268708229064941
         ]
        },
        {
         "line": {
          "color": "DarkSlateGrey",
          "width": 2
         },
         "marker": {
          "color": [
           0.993248,
           0.906157,
           0.143936
          ],
          "size": 9
         },
         "mode": "markers",
         "name": "when",
         "text": [
          "token: when || tf   : 1.0 || cluster: -1"
         ],
         "type": "scatter",
         "x": [
          2.509232997894287
         ],
         "y": [
          6.615519046783447
         ]
        },
        {
         "line": {
          "color": "DarkSlateGrey",
          "width": 2
         },
         "marker": {
          "color": [
           0.993248,
           0.906157,
           0.143936
          ],
          "size": 9
         },
         "mode": "markers",
         "name": "gen",
         "text": [
          "token: gen || tf   : 3.0 || cluster: -1"
         ],
         "type": "scatter",
         "x": [
          4.027982234954834
         ],
         "y": [
          10.131661415100098
         ]
        },
        {
         "line": {
          "color": "DarkSlateGrey",
          "width": 2
         },
         "marker": {
          "color": [
           0.257322,
           0.25613,
           0.526563
          ],
          "size": 9
         },
         "mode": "markers",
         "name": "##ital",
         "text": [
          "token: ##ital || tf   : 3.0 || cluster: 49"
         ],
         "type": "scatter",
         "x": [
          4.359330177307129
         ],
         "y": [
          9.381205558776855
         ]
        },
        {
         "line": {
          "color": "DarkSlateGrey",
          "width": 2
         },
         "marker": {
          "color": [
           0.993248,
           0.906157,
           0.143936
          ],
          "size": 9
         },
         "mode": "markers",
         "name": "ambiguity",
         "text": [
          "token: ambiguity || tf   : 3.0 || cluster: -1"
         ],
         "type": "scatter",
         "x": [
          3.7526116371154785
         ],
         "y": [
          8.595685958862305
         ]
        },
        {
         "line": {
          "color": "DarkSlateGrey",
          "width": 2
         },
         "marker": {
          "color": [
           0.993248,
           0.906157,
           0.143936
          ],
          "size": 9
         },
         "mode": "markers",
         "name": "was",
         "text": [
          "token: was || tf   : 15.0 || cluster: -1"
         ],
         "type": "scatter",
         "x": [
          2.0510876178741455
         ],
         "y": [
          5.355228424072266
         ]
        },
        {
         "line": {
          "color": "DarkSlateGrey",
          "width": 2
         },
         "marker": {
          "color": [
           0.993248,
           0.906157,
           0.143936
          ],
          "size": 9
         },
         "mode": "markers",
         "name": "present",
         "text": [
          "token: present || tf   : 1.0 || cluster: -1"
         ],
         "type": "scatter",
         "x": [
          2.1248204708099365
         ],
         "y": [
          5.49953556060791
         ]
        },
        {
         "line": {
          "color": "DarkSlateGrey",
          "width": 2
         },
         "marker": {
          "color": [
           0.223925,
           0.334994,
           0.548053
          ],
          "size": 9
         },
         "mode": "markers",
         "name": "since",
         "text": [
          "token: since || tf   : 1.0 || cluster: 67"
         ],
         "type": "scatter",
         "x": [
          2.4201509952545166
         ],
         "y": [
          7.108981132507324
         ]
        },
        {
         "line": {
          "color": "DarkSlateGrey",
          "width": 2
         },
         "marker": {
          "color": [
           0.26658,
           0.228262,
           0.514349
          ],
          "size": 9
         },
         "mode": "markers",
         "name": "birth",
         "text": [
          "token: birth || tf   : 4.0 || cluster: 43"
         ],
         "type": "scatter",
         "x": [
          3.263211727142334
         ],
         "y": [
          7.8367919921875
         ]
        },
        {
         "line": {
          "color": "DarkSlateGrey",
          "width": 2
         },
         "marker": {
          "color": [
           0.280255,
           0.165693,
           0.476498
          ],
          "size": 9
         },
         "mode": "markers",
         "name": "short",
         "text": [
          "token: short || tf   : 2.0 || cluster: 30"
         ],
         "type": "scatter",
         "x": [
          4.67622184753418
         ],
         "y": [
          7.9454803466796875
         ]
        },
        {
         "line": {
          "color": "DarkSlateGrey",
          "width": 2
         },
         "marker": {
          "color": [
           0.280255,
           0.165693,
           0.476498
          ],
          "size": 9
         },
         "mode": "markers",
         "name": "stature",
         "text": [
          "token: stature || tf   : 3.0 || cluster: 30"
         ],
         "type": "scatter",
         "x": [
          4.721307277679443
         ],
         "y": [
          8.009835243225098
         ]
        },
        {
         "line": {
          "color": "DarkSlateGrey",
          "width": 2
         },
         "marker": {
          "color": [
           0.214298,
           0.355619,
           0.551184
          ],
          "size": 9
         },
         "mode": "markers",
         "name": "was",
         "text": [
          "token: was || tf   : 15.0 || cluster: 72"
         ],
         "type": "scatter",
         "x": [
          1.9267812967300415
         ],
         "y": [
          5.27161169052124
         ]
        },
        {
         "line": {
          "color": "DarkSlateGrey",
          "width": 2
         },
         "marker": {
          "color": [
           0.221989,
           0.339161,
           0.548752
          ],
          "size": 9
         },
         "mode": "markers",
         "name": "seen",
         "text": [
          "token: seen || tf   : 3.0 || cluster: 68"
         ],
         "type": "scatter",
         "x": [
          1.8927916288375854
         ],
         "y": [
          5.642517566680908
         ]
        },
        {
         "line": {
          "color": "DarkSlateGrey",
          "width": 2
         },
         "marker": {
          "color": [
           0.283091,
           0.110553,
           0.431554
          ],
          "size": 9
         },
         "mode": "markers",
         "name": "one",
         "text": [
          "token: one || tf   : 6.0 || cluster: 19"
         ],
         "type": "scatter",
         "x": [
          -0.41086968779563904
         ],
         "y": [
          6.938601970672607
         ]
        },
        {
         "line": {
          "color": "DarkSlateGrey",
          "width": 2
         },
         "marker": {
          "color": [
           0.271305,
           0.019942,
           0.347269
          ],
          "size": 9
         },
         "mode": "markers",
         "name": "third",
         "text": [
          "token: third || tf   : 2.0 || cluster: 3"
         ],
         "type": "scatter",
         "x": [
          -1.4203770160675049
         ],
         "y": [
          6.532060146331787
         ]
        },
        {
         "line": {
          "color": "DarkSlateGrey",
          "width": 2
         },
         "marker": {
          "color": [
           0.274128,
           0.199721,
           0.498911
          ],
          "size": 9
         },
         "mode": "markers",
         "name": "patients",
         "text": [
          "token: patients || tf   : 25.0 || cluster: 37"
         ],
         "type": "scatter",
         "x": [
          0.1702401340007782
         ],
         "y": [
          5.622282028198242
         ]
        },
        {
         "line": {
          "color": "DarkSlateGrey",
          "width": 2
         },
         "marker": {
          "color": [
           0.993248,
           0.906157,
           0.143936
          ],
          "size": 9
         },
         "mode": "markers",
         "name": "therapy",
         "text": [
          "token: therapy || tf   : 4.0 || cluster: -1"
         ],
         "type": "scatter",
         "x": [
          5.478741645812988
         ],
         "y": [
          9.251391410827637
         ]
        },
        {
         "line": {
          "color": "DarkSlateGrey",
          "width": 2
         },
         "marker": {
          "color": [
           0.278012,
           0.180367,
           0.486697
          ],
          "size": 9
         },
         "mode": "markers",
         "name": "and",
         "text": [
          "token: and || tf   : 26.0 || cluster: 33"
         ],
         "type": "scatter",
         "x": [
          3.3510191440582275
         ],
         "y": [
          3.8087847232818604
         ]
        },
        {
         "line": {
          "color": "DarkSlateGrey",
          "width": 2
         },
         "marker": {
          "color": [
           0.237441,
           0.305202,
           0.541921
          ],
          "size": 9
         },
         "mode": "markers",
         "name": "the",
         "text": [
          "token: the || tf   : 32.0 || cluster: 60"
         ],
         "type": "scatter",
         "x": [
          1.916896104812622
         ],
         "y": [
          4.512986660003662
         ]
        },
        {
         "line": {
          "color": "DarkSlateGrey",
          "width": 2
         },
         "marker": {
          "color": [
           0.280267,
           0.073417,
           0.397163
          ],
          "size": 9
         },
         "mode": "markers",
         "name": "average",
         "text": [
          "token: average || tf   : 1.0 || cluster: 12"
         ],
         "type": "scatter",
         "x": [
          4.567765712738037
         ],
         "y": [
          6.494959354400635
         ]
        },
        {
         "line": {
          "color": "DarkSlateGrey",
          "width": 2
         },
         "marker": {
          "color": [
           0.280267,
           0.073417,
           0.397163
          ],
          "size": 9
         },
         "mode": "markers",
         "name": "final",
         "text": [
          "token: final || tf   : 4.0 || cluster: 12"
         ],
         "type": "scatter",
         "x": [
          4.789618968963623
         ],
         "y": [
          6.638113975524902
         ]
        },
        {
         "line": {
          "color": "DarkSlateGrey",
          "width": 2
         },
         "marker": {
          "color": [
           0.26658,
           0.228262,
           0.514349
          ],
          "size": 9
         },
         "mode": "markers",
         "name": "adult",
         "text": [
          "token: adult || tf   : 8.0 || cluster: 43"
         ],
         "type": "scatter",
         "x": [
          3.759793281555176
         ],
         "y": [
          7.63118314743042
         ]
        },
        {
         "line": {
          "color": "DarkSlateGrey",
          "width": 2
         },
         "marker": {
          "color": [
           0.280255,
           0.165693,
           0.476498
          ],
          "size": 9
         },
         "mode": "markers",
         "name": "height",
         "text": [
          "token: height || tf   : 7.0 || cluster: 30"
         ],
         "type": "scatter",
         "x": [
          4.625715255737305
         ],
         "y": [
          7.937933444976807
         ]
        },
        {
         "line": {
          "color": "DarkSlateGrey",
          "width": 2
         },
         "marker": {
          "color": [
           0.255645,
           0.260703,
           0.528312
          ],
          "size": 9
         },
         "mode": "markers",
         "name": "among",
         "text": [
          "token: among || tf   : 6.0 || cluster: 50"
         ],
         "type": "scatter",
         "x": [
          0.3723253309726715
         ],
         "y": [
          4.255059242248535
         ]
        },
        {
         "line": {
          "color": "DarkSlateGrey",
          "width": 2
         },
         "marker": {
          "color": [
           0.274128,
           0.199721,
           0.498911
          ],
          "size": 9
         },
         "mode": "markers",
         "name": "patients",
         "text": [
          "token: patients || tf   : 25.0 || cluster: 37"
         ],
         "type": "scatter",
         "x": [
          0.17539151012897491
         ],
         "y": [
          5.631682395935059
         ]
        },
        {
         "line": {
          "color": "DarkSlateGrey",
          "width": 2
         },
         "marker": {
          "color": [
           0.243113,
           0.292092,
           0.538516
          ],
          "size": 9
         },
         "mode": "markers",
         "name": "with",
         "text": [
          "token: with || tf   : 23.0 || cluster: 57"
         ],
         "type": "scatter",
         "x": [
          4.103724479675293
         ],
         "y": [
          6.4024248123168945
         ]
        },
        {
         "line": {
          "color": "DarkSlateGrey",
          "width": 2
         },
         "marker": {
          "color": [
           0.280267,
           0.073417,
           0.397163
          ],
          "size": 9
         },
         "mode": "markers",
         "name": "classic",
         "text": [
          "token: classic || tf   : 5.0 || cluster: 12"
         ],
         "type": "scatter",
         "x": [
          4.9062957763671875
         ],
         "y": [
          6.708090305328369
         ]
        },
        {
         "line": {
          "color": "DarkSlateGrey",
          "width": 2
         },
         "marker": {
          "color": [
           0.272594,
           0.025563,
           0.353093
          ],
          "size": 9
         },
         "mode": "markers",
         "name": "##h",
         "text": [
          "token: ##h || tf   : 17.0 || cluster: 4"
         ],
         "type": "scatter",
         "x": [
          6.744178295135498
         ],
         "y": [
          10.193351745605469
         ]
        },
        {
         "line": {
          "color": "DarkSlateGrey",
          "width": 2
         },
         "marker": {
          "color": [
           0.214298,
           0.355619,
           0.551184
          ],
          "size": 9
         },
         "mode": "markers",
         "name": "was",
         "text": [
          "token: was || tf   : 15.0 || cluster: 72"
         ],
         "type": "scatter",
         "x": [
          2.1581106185913086
         ],
         "y": [
          5.063766956329346
         ]
        },
        {
         "line": {
          "color": "DarkSlateGrey",
          "width": 2
         },
         "marker": {
          "color": [
           0.993248,
           0.906157,
           0.143936
          ],
          "size": 9
         },
         "mode": "markers",
         "name": "142",
         "text": [
          "token: 142 || tf   : 1.0 || cluster: -1"
         ],
         "type": "scatter",
         "x": [
          -0.34013786911964417
         ],
         "y": [
          8.714339256286621
         ]
        },
        {
         "line": {
          "color": "DarkSlateGrey",
          "width": 2
         },
         "marker": {
          "color": [
           0.993248,
           0.906157,
           0.143936
          ],
          "size": 9
         },
         "mode": "markers",
         "name": "which",
         "text": [
          "token: which || tf   : 5.0 || cluster: -1"
         ],
         "type": "scatter",
         "x": [
          2.5675878524780273
         ],
         "y": [
          5.030309200286865
         ]
        },
        {
         "line": {
          "color": "DarkSlateGrey",
          "width": 2
         },
         "marker": {
          "color": [
           0.993248,
           0.906157,
           0.143936
          ],
          "size": 9
         },
         "mode": "markers",
         "name": "was",
         "text": [
          "token: was || tf   : 15.0 || cluster: -1"
         ],
         "type": "scatter",
         "x": [
          2.2801835536956787
         ],
         "y": [
          5.048184394836426
         ]
        },
        {
         "line": {
          "color": "DarkSlateGrey",
          "width": 2
         },
         "marker": {
          "color": [
           0.212395,
           0.359683,
           0.55171
          ],
          "size": 9
         },
         "mode": "markers",
         "name": "significantly",
         "text": [
          "token: significantly || tf   : 2.0 || cluster: 73"
         ],
         "type": "scatter",
         "x": [
          2.4264144897460938
         ],
         "y": [
          5.134739875793457
         ]
        },
        {
         "line": {
          "color": "DarkSlateGrey",
          "width": 2
         },
         "marker": {
          "color": [
           0.212395,
           0.359683,
           0.55171
          ],
          "size": 9
         },
         "mode": "markers",
         "name": "lower",
         "text": [
          "token: lower || tf   : 1.0 || cluster: 73"
         ],
         "type": "scatter",
         "x": [
          2.511746644973755
         ],
         "y": [
          5.131155967712402
         ]
        },
        {
         "line": {
          "color": "DarkSlateGrey",
          "width": 2
         },
         "marker": {
          "color": [
           0.993248,
           0.906157,
           0.143936
          ],
          "size": 9
         },
         "mode": "markers",
         "name": "than",
         "text": [
          "token: than || tf   : 3.0 || cluster: -1"
         ],
         "type": "scatter",
         "x": [
          2.2540063858032227
         ],
         "y": [
          4.971945762634277
         ]
        },
        {
         "line": {
          "color": "DarkSlateGrey",
          "width": 2
         },
         "marker": {
          "color": [
           0.237441,
           0.305202,
           0.541921
          ],
          "size": 9
         },
         "mode": "markers",
         "name": "the",
         "text": [
          "token: the || tf   : 32.0 || cluster: 60"
         ],
         "type": "scatter",
         "x": [
          1.941145896911621
         ],
         "y": [
          4.651031494140625
         ]
        },
        {
         "line": {
          "color": "DarkSlateGrey",
          "width": 2
         },
         "marker": {
          "color": [
           0.280267,
           0.073417,
           0.397163
          ],
          "size": 9
         },
         "mode": "markers",
         "name": "mean",
         "text": [
          "token: mean || tf   : 2.0 || cluster: 12"
         ],
         "type": "scatter",
         "x": [
          4.671462059020996
         ],
         "y": [
          6.599085807800293
         ]
        },
        {
         "line": {
          "color": "DarkSlateGrey",
          "width": 2
         },
         "marker": {
          "color": [
           0.26658,
           0.228262,
           0.514349
          ],
          "size": 9
         },
         "mode": "markers",
         "name": "adult",
         "text": [
          "token: adult || tf   : 8.0 || cluster: 43"
         ],
         "type": "scatter",
         "x": [
          3.7478950023651123
         ],
         "y": [
          7.635119438171387
         ]
        },
        {
         "line": {
          "color": "DarkSlateGrey",
          "width": 2
         },
         "marker": {
          "color": [
           0.280255,
           0.165693,
           0.476498
          ],
          "size": 9
         },
         "mode": "markers",
         "name": "height",
         "text": [
          "token: height || tf   : 7.0 || cluster: 30"
         ],
         "type": "scatter",
         "x": [
          4.7111592292785645
         ],
         "y": [
          7.885547161102295
         ]
        },
        {
         "line": {
          "color": "DarkSlateGrey",
          "width": 2
         },
         "marker": {
          "color": [
           0.255645,
           0.260703,
           0.528312
          ],
          "size": 9
         },
         "mode": "markers",
         "name": "for",
         "text": [
          "token: for || tf   : 6.0 || cluster: 50"
         ],
         "type": "scatter",
         "x": [
          0.4213763475418091
         ],
         "y": [
          4.2573323249816895
         ]
        },
        {
         "line": {
          "color": "DarkSlateGrey",
          "width": 2
         },
         "marker": {
          "color": [
           0.271828,
           0.209303,
           0.504434
          ],
          "size": 9
         },
         "mode": "markers",
         "name": "females",
         "text": [
          "token: females || tf   : 3.0 || cluster: 39"
         ],
         "type": "scatter",
         "x": [
          0.3223789632320404
         ],
         "y": [
          6.396721839904785
         ]
        },
        {
         "line": {
          "color": "DarkSlateGrey",
          "width": 2
         },
         "marker": {
          "color": [
           0.273809,
           0.031497,
           0.358853
          ],
          "size": 9
         },
         "mode": "markers",
         "name": "our",
         "text": [
          "token: our || tf   : 1.0 || cluster: 5"
         ],
         "type": "scatter",
         "x": [
          6.798580646514893
         ],
         "y": [
          8.330648422241211
         ]
        },
        {
         "line": {
          "color": "DarkSlateGrey",
          "width": 2
         },
         "marker": {
          "color": [
           0.993248,
           0.906157,
           0.143936
          ],
          "size": 9
         },
         "mode": "markers",
         "name": "population",
         "text": [
          "token: population || tf   : 1.0 || cluster: -1"
         ],
         "type": "scatter",
         "x": [
          0.2905341684818268
         ],
         "y": [
          4.989120006561279
         ]
        },
        {
         "line": {
          "color": "DarkSlateGrey",
          "width": 2
         },
         "marker": {
          "color": [
           0.237441,
           0.305202,
           0.541921
          ],
          "size": 9
         },
         "mode": "markers",
         "name": "the",
         "text": [
          "token: the || tf   : 32.0 || cluster: 60"
         ],
         "type": "scatter",
         "x": [
          1.9230396747589111
         ],
         "y": [
          4.612534999847412
         ]
        },
        {
         "line": {
          "color": "DarkSlateGrey",
          "width": 2
         },
         "marker": {
          "color": [
           0.280267,
           0.073417,
           0.397163
          ],
          "size": 9
         },
         "mode": "markers",
         "name": "mean",
         "text": [
          "token: mean || tf   : 2.0 || cluster: 12"
         ],
         "type": "scatter",
         "x": [
          4.655981540679932
         ],
         "y": [
          6.610556125640869
         ]
        },
        {
         "line": {
          "color": "DarkSlateGrey",
          "width": 2
         },
         "marker": {
          "color": [
           0.280267,
           0.073417,
           0.397163
          ],
          "size": 9
         },
         "mode": "markers",
         "name": "final",
         "text": [
          "token: final || tf   : 4.0 || cluster: 12"
         ],
         "type": "scatter",
         "x": [
          4.765231609344482
         ],
         "y": [
          6.699079990386963
         ]
        },
        {
         "line": {
          "color": "DarkSlateGrey",
          "width": 2
         },
         "marker": {
          "color": [
           0.26658,
           0.228262,
           0.514349
          ],
          "size": 9
         },
         "mode": "markers",
         "name": "adult",
         "text": [
          "token: adult || tf   : 8.0 || cluster: 43"
         ],
         "type": "scatter",
         "x": [
          3.728382110595703
         ],
         "y": [
          7.593676567077637
         ]
        },
        {
         "line": {
          "color": "DarkSlateGrey",
          "width": 2
         },
         "marker": {
          "color": [
           0.280255,
           0.165693,
           0.476498
          ],
          "size": 9
         },
         "mode": "markers",
         "name": "height",
         "text": [
          "token: height || tf   : 7.0 || cluster: 30"
         ],
         "type": "scatter",
         "x": [
          4.585144996643066
         ],
         "y": [
          7.9022698402404785
         ]
        },
        {
         "line": {
          "color": "DarkSlateGrey",
          "width": 2
         },
         "marker": {
          "color": [
           0.283229,
           0.120777,
           0.440584
          ],
          "size": 9
         },
         "mode": "markers",
         "name": "157",
         "text": [
          "token: 157 || tf   : 1.0 || cluster: 21"
         ],
         "type": "scatter",
         "x": [
          -0.532018780708313
         ],
         "y": [
          8.582582473754883
         ]
        },
        {
         "line": {
          "color": "DarkSlateGrey",
          "width": 2
         },
         "marker": {
          "color": [
           0.255645,
           0.260703,
           0.528312
          ],
          "size": 9
         },
         "mode": "markers",
         "name": "for",
         "text": [
          "token: for || tf   : 6.0 || cluster: 50"
         ],
         "type": "scatter",
         "x": [
          0.3866634666919708
         ],
         "y": [
          4.2385029792785645
         ]
        },
        {
         "line": {
          "color": "DarkSlateGrey",
          "width": 2
         },
         "marker": {
          "color": [
           0.274128,
           0.199721,
           0.498911
          ],
          "size": 9
         },
         "mode": "markers",
         "name": "those",
         "text": [
          "token: those || tf   : 1.0 || cluster: 37"
         ],
         "type": "scatter",
         "x": [
          0.28999999165534973
         ],
         "y": [
          5.585053443908691
         ]
        },
        {
         "line": {
          "color": "DarkSlateGrey",
          "width": 2
         },
         "marker": {
          "color": [
           0.243113,
           0.292092,
           0.538516
          ],
          "size": 9
         },
         "mode": "markers",
         "name": "with",
         "text": [
          "token: with || tf   : 23.0 || cluster: 57"
         ],
         "type": "scatter",
         "x": [
          4.126264572143555
         ],
         "y": [
          6.474966049194336
         ]
        },
        {
         "line": {
          "color": "DarkSlateGrey",
          "width": 2
         },
         "marker": {
          "color": [
           0.274952,
           0.037752,
           0.364543
          ],
          "size": 9
         },
         "mode": "markers",
         "name": "##ca",
         "text": [
          "token: ##ca || tf   : 3.0 || cluster: 6"
         ],
         "type": "scatter",
         "x": [
          7.468599319458008
         ],
         "y": [
          9.46085262298584
         ]
        },
        {
         "line": {
          "color": "DarkSlateGrey",
          "width": 2
         },
         "marker": {
          "color": [
           0.272594,
           0.025563,
           0.353093
          ],
          "size": 9
         },
         "mode": "markers",
         "name": "##h",
         "text": [
          "token: ##h || tf   : 17.0 || cluster: 4"
         ],
         "type": "scatter",
         "x": [
          6.720117092132568
         ],
         "y": [
          10.130471229553223
         ]
        },
        {
         "line": {
          "color": "DarkSlateGrey",
          "width": 2
         },
         "marker": {
          "color": [
           0.214298,
           0.355619,
           0.551184
          ],
          "size": 9
         },
         "mode": "markers",
         "name": "was",
         "text": [
          "token: was || tf   : 15.0 || cluster: 72"
         ],
         "type": "scatter",
         "x": [
          2.1009104251861572
         ],
         "y": [
          5.0990471839904785
         ]
        },
        {
         "line": {
          "color": "DarkSlateGrey",
          "width": 2
         },
         "marker": {
          "color": [
           0.212395,
           0.359683,
           0.55171
          ],
          "size": 9
         },
         "mode": "markers",
         "name": "better",
         "text": [
          "token: better || tf   : 1.0 || cluster: 73"
         ],
         "type": "scatter",
         "x": [
          2.4190444946289062
         ],
         "y": [
          5.151021957397461
         ]
        },
        {
         "line": {
          "color": "DarkSlateGrey",
          "width": 2
         },
         "marker": {
          "color": [
           0.993248,
           0.906157,
           0.143936
          ],
          "size": 9
         },
         "mode": "markers",
         "name": "than",
         "text": [
          "token: than || tf   : 3.0 || cluster: -1"
         ],
         "type": "scatter",
         "x": [
          1.9824262857437134
         ],
         "y": [
          5.0282769203186035
         ]
        },
        {
         "line": {
          "color": "DarkSlateGrey",
          "width": 2
         },
         "marker": {
          "color": [
           0.273006,
           0.20452,
           0.501721
          ],
          "size": 9
         },
         "mode": "markers",
         "name": "their",
         "text": [
          "token: their || tf   : 3.0 || cluster: 38"
         ],
         "type": "scatter",
         "x": [
          1.106080174446106
         ],
         "y": [
          5.512307643890381
         ]
        },
        {
         "line": {
          "color": "DarkSlateGrey",
          "width": 2
         },
         "marker": {
          "color": [
           0.280267,
           0.073417,
           0.397163
          ],
          "size": 9
         },
         "mode": "markers",
         "name": "classic",
         "text": [
          "token: classic || tf   : 5.0 || cluster: 12"
         ],
         "type": "scatter",
         "x": [
          4.914036750793457
         ],
         "y": [
          6.725853443145752
         ]
        },
        {
         "line": {
          "color": "DarkSlateGrey",
          "width": 2
         },
         "marker": {
          "color": [
           0.272594,
           0.025563,
           0.353093
          ],
          "size": 9
         },
         "mode": "markers",
         "name": "##h",
         "text": [
          "token: ##h || tf   : 17.0 || cluster: 4"
         ],
         "type": "scatter",
         "x": [
          6.749359130859375
         ],
         "y": [
          10.18184757232666
         ]
        },
        {
         "line": {
          "color": "DarkSlateGrey",
          "width": 2
         },
         "marker": {
          "color": [
           0.273809,
           0.031497,
           0.358853
          ],
          "size": 9
         },
         "mode": "markers",
         "name": "counterpart",
         "text": [
          "token: counterpart || tf   : 1.0 || cluster: 5"
         ],
         "type": "scatter",
         "x": [
          6.615790843963623
         ],
         "y": [
          8.218332290649414
         ]
        },
        {
         "line": {
          "color": "DarkSlateGrey",
          "width": 2
         },
         "marker": {
          "color": [
           0.993248,
           0.906157,
           0.143936
          ],
          "size": 9
         },
         "mode": "markers",
         "name": "obesity",
         "text": [
          "token: obesity || tf   : 2.0 || cluster: -1"
         ],
         "type": "scatter",
         "x": [
          4.854602813720703
         ],
         "y": [
          8.580836296081543
         ]
        },
        {
         "line": {
          "color": "DarkSlateGrey",
          "width": 2
         },
         "marker": {
          "color": [
           0.277134,
           0.185228,
           0.489898
          ],
          "size": 9
         },
         "mode": "markers",
         "name": "and",
         "text": [
          "token: and || tf   : 26.0 || cluster: 34"
         ],
         "type": "scatter",
         "x": [
          3.9793519973754883
         ],
         "y": [
          4.837535858154297
         ]
        },
        {
         "line": {
          "color": "DarkSlateGrey",
          "width": 2
         },
         "marker": {
          "color": [
           0.993248,
           0.906157,
           0.143936
          ],
          "size": 9
         },
         "mode": "markers",
         "name": "hyper",
         "text": [
          "token: hyper || tf   : 2.0 || cluster: -1"
         ],
         "type": "scatter",
         "x": [
          4.900075912475586
         ],
         "y": [
          9.4901762008667
         ]
        },
        {
         "line": {
          "color": "DarkSlateGrey",
          "width": 2
         },
         "marker": {
          "color": [
           0.993248,
           0.906157,
           0.143936
          ],
          "size": 9
         },
         "mode": "markers",
         "name": "##tension",
         "text": [
          "token: ##tension || tf   : 1.0 || cluster: -1"
         ],
         "type": "scatter",
         "x": [
          5.018062591552734
         ],
         "y": [
          8.928339004516602
         ]
        },
        {
         "line": {
          "color": "DarkSlateGrey",
          "width": 2
         },
         "marker": {
          "color": [
           0.214298,
           0.355619,
           0.551184
          ],
          "size": 9
         },
         "mode": "markers",
         "name": "were",
         "text": [
          "token: were || tf   : 17.0 || cluster: 72"
         ],
         "type": "scatter",
         "x": [
          1.9459608793258667
         ],
         "y": [
          5.23179292678833
         ]
        },
        {
         "line": {
          "color": "DarkSlateGrey",
          "width": 2
         },
         "marker": {
          "color": [
           0.214298,
           0.355619,
           0.551184
          ],
          "size": 9
         },
         "mode": "markers",
         "name": "not",
         "text": [
          "token: not || tf   : 1.0 || cluster: 72"
         ],
         "type": "scatter",
         "x": [
          1.965596318244934
         ],
         "y": [
          5.207788467407227
         ]
        },
        {
         "line": {
          "color": "DarkSlateGrey",
          "width": 2
         },
         "marker": {
          "color": [
           0.993248,
           0.906157,
           0.143936
          ],
          "size": 9
         },
         "mode": "markers",
         "name": "found",
         "text": [
          "token: found || tf   : 1.0 || cluster: -1"
         ],
         "type": "scatter",
         "x": [
          1.757073998451233
         ],
         "y": [
          5.353725910186768
         ]
        },
        {
         "line": {
          "color": "DarkSlateGrey",
          "width": 2
         },
         "marker": {
          "color": [
           0.212395,
           0.359683,
           0.55171
          ],
          "size": 9
         },
         "mode": "markers",
         "name": "significantly",
         "text": [
          "token: significantly || tf   : 2.0 || cluster: 73"
         ],
         "type": "scatter",
         "x": [
          2.4070749282836914
         ],
         "y": [
          5.195831298828125
         ]
        },
        {
         "line": {
          "color": "DarkSlateGrey",
          "width": 2
         },
         "marker": {
          "color": [
           0.212395,
           0.359683,
           0.55171
          ],
          "size": 9
         },
         "mode": "markers",
         "name": "higher",
         "text": [
          "token: higher || tf   : 1.0 || cluster: 73"
         ],
         "type": "scatter",
         "x": [
          2.438995599746704
         ],
         "y": [
          5.212279319763184
         ]
        },
        {
         "line": {
          "color": "DarkSlateGrey",
          "width": 2
         },
         "marker": {
          "color": [
           0.993248,
           0.906157,
           0.143936
          ],
          "size": 9
         },
         "mode": "markers",
         "name": "this",
         "text": [
          "token: this || tf   : 3.0 || cluster: -1"
         ],
         "type": "scatter",
         "x": [
          0.953342080116272
         ],
         "y": [
          4.514465808868408
         ]
        },
        {
         "line": {
          "color": "DarkSlateGrey",
          "width": 2
         },
         "marker": {
          "color": [
           0.993248,
           0.906157,
           0.143936
          ],
          "size": 9
         },
         "mode": "markers",
         "name": "##hort",
         "text": [
          "token: ##hort || tf   : 2.0 || cluster: -1"
         ],
         "type": "scatter",
         "x": [
          0.4192192852497101
         ],
         "y": [
          4.839783191680908
         ]
        },
        {
         "line": {
          "color": "DarkSlateGrey",
          "width": 2
         },
         "marker": {
          "color": [
           0.272594,
           0.025563,
           0.353093
          ],
          "size": 9
         },
         "mode": "markers",
         "name": "##h",
         "text": [
          "token: ##h || tf   : 17.0 || cluster: 4"
         ],
         "type": "scatter",
         "x": [
          6.7729411125183105
         ],
         "y": [
          10.180946350097656
         ]
        },
        {
         "line": {
          "color": "DarkSlateGrey",
          "width": 2
         },
         "marker": {
          "color": [
           0.274128,
           0.199721,
           0.498911
          ],
          "size": 9
         },
         "mode": "markers",
         "name": "patients",
         "text": [
          "token: patients || tf   : 25.0 || cluster: 37"
         ],
         "type": "scatter",
         "x": [
          0.18858379125595093
         ],
         "y": [
          5.551658630371094
         ]
        },
        {
         "line": {
          "color": "DarkSlateGrey",
          "width": 2
         },
         "marker": {
          "color": [
           0.283091,
           0.110553,
           0.431554
          ],
          "size": 9
         },
         "mode": "markers",
         "name": "one",
         "text": [
          "token: one || tf   : 6.0 || cluster: 19"
         ],
         "type": "scatter",
         "x": [
          -0.4025783836841583
         ],
         "y": [
          6.960704803466797
         ]
        },
        {
         "line": {
          "color": "DarkSlateGrey",
          "width": 2
         },
         "marker": {
          "color": [
           0.271305,
           0.019942,
           0.347269
          ],
          "size": 9
         },
         "mode": "markers",
         "name": "third",
         "text": [
          "token: third || tf   : 2.0 || cluster: 3"
         ],
         "type": "scatter",
         "x": [
          -1.4483680725097656
         ],
         "y": [
          6.527850151062012
         ]
        },
        {
         "line": {
          "color": "DarkSlateGrey",
          "width": 2
         },
         "marker": {
          "color": [
           0.274128,
           0.199721,
           0.498911
          ],
          "size": 9
         },
         "mode": "markers",
         "name": "patients",
         "text": [
          "token: patients || tf   : 25.0 || cluster: 37"
         ],
         "type": "scatter",
         "x": [
          0.1849517673254013
         ],
         "y": [
          5.619195938110352
         ]
        },
        {
         "line": {
          "color": "DarkSlateGrey",
          "width": 2
         },
         "marker": {
          "color": [
           0.221989,
           0.339161,
           0.548752
          ],
          "size": 9
         },
         "mode": "markers",
         "name": "had",
         "text": [
          "token: had || tf   : 8.0 || cluster: 68"
         ],
         "type": "scatter",
         "x": [
          1.821549654006958
         ],
         "y": [
          5.677107334136963
         ]
        },
        {
         "line": {
          "color": "DarkSlateGrey",
          "width": 2
         },
         "marker": {
          "color": [
           0.993248,
           0.906157,
           0.143936
          ],
          "size": 9
         },
         "mode": "markers",
         "name": "suppressed",
         "text": [
          "token: suppressed || tf   : 2.0 || cluster: -1"
         ],
         "type": "scatter",
         "x": [
          3.094881057739258
         ],
         "y": [
          5.683008193969727
         ]
        },
        {
         "line": {
          "color": "DarkSlateGrey",
          "width": 2
         },
         "marker": {
          "color": [
           0.993248,
           0.906157,
           0.143936
          ],
          "size": 9
         },
         "mode": "markers",
         "name": "##p",
         "text": [
          "token: ##p || tf   : 4.0 || cluster: -1"
         ],
         "type": "scatter",
         "x": [
          5.484086990356445
         ],
         "y": [
          8.873220443725586
         ]
        },
        {
         "line": {
          "color": "DarkSlateGrey",
          "width": 2
         },
         "marker": {
          "color": [
           0.993248,
           0.906157,
           0.143936
          ],
          "size": 9
         },
         "mode": "markers",
         "name": "levels",
         "text": [
          "token: levels || tf   : 6.0 || cluster: -1"
         ],
         "type": "scatter",
         "x": [
          5.3475542068481445
         ],
         "y": [
          8.675545692443848
         ]
        },
        {
         "line": {
          "color": "DarkSlateGrey",
          "width": 2
         },
         "marker": {
          "color": [
           0.231674,
           0.318106,
           0.544834
          ],
          "size": 9
         },
         "mode": "markers",
         "name": "suggest",
         "text": [
          "token: suggest || tf   : 2.0 || cluster: 63"
         ],
         "type": "scatter",
         "x": [
          3.1854453086853027
         ],
         "y": [
          6.732534885406494
         ]
        },
        {
         "line": {
          "color": "DarkSlateGrey",
          "width": 2
         },
         "marker": {
          "color": [
           0.231674,
           0.318106,
           0.544834
          ],
          "size": 9
         },
         "mode": "markers",
         "name": "##ive",
         "text": [
          "token: ##ive || tf   : 3.0 || cluster: 63"
         ],
         "type": "scatter",
         "x": [
          3.2644546031951904
         ],
         "y": [
          6.700108051300049
         ]
        },
        {
         "line": {
          "color": "DarkSlateGrey",
          "width": 2
         },
         "marker": {
          "color": [
           0.993248,
           0.906157,
           0.143936
          ],
          "size": 9
         },
         "mode": "markers",
         "name": "over",
         "text": [
          "token: over || tf   : 2.0 || cluster: -1"
         ],
         "type": "scatter",
         "x": [
          4.212819576263428
         ],
         "y": [
          7.150631427764893
         ]
        },
        {
         "line": {
          "color": "DarkSlateGrey",
          "width": 2
         },
         "marker": {
          "color": [
           0.273809,
           0.031497,
           0.358853
          ],
          "size": 9
         },
         "mode": "markers",
         "name": "replacement",
         "text": [
          "token: replacement || tf   : 1.0 || cluster: 5"
         ],
         "type": "scatter",
         "x": [
          6.547421932220459
         ],
         "y": [
          8.62335205078125
         ]
        },
        {
         "line": {
          "color": "DarkSlateGrey",
          "width": 2
         },
         "marker": {
          "color": [
           0.993248,
           0.906157,
           0.143936
          ],
          "size": 9
         },
         "mode": "markers",
         "name": "therapy",
         "text": [
          "token: therapy || tf   : 4.0 || cluster: -1"
         ],
         "type": "scatter",
         "x": [
          5.4981184005737305
         ],
         "y": [
          9.401711463928223
         ]
        },
        {
         "line": {
          "color": "DarkSlateGrey",
          "width": 2
         },
         "marker": {
          "color": [
           0.993248,
           0.906157,
           0.143936
          ],
          "size": 9
         },
         "mode": "markers",
         "name": "which",
         "text": [
          "token: which || tf   : 5.0 || cluster: -1"
         ],
         "type": "scatter",
         "x": [
          2.912363290786743
         ],
         "y": [
          4.940675735473633
         ]
        },
        {
         "line": {
          "color": "DarkSlateGrey",
          "width": 2
         },
         "marker": {
          "color": [
           0.993248,
           0.906157,
           0.143936
          ],
          "size": 9
         },
         "mode": "markers",
         "name": "may",
         "text": [
          "token: may || tf   : 2.0 || cluster: -1"
         ],
         "type": "scatter",
         "x": [
          2.8364243507385254
         ],
         "y": [
          5.093351364135742
         ]
        },
        {
         "line": {
          "color": "DarkSlateGrey",
          "width": 2
         },
         "marker": {
          "color": [
           0.993248,
           0.906157,
           0.143936
          ],
          "size": 9
         },
         "mode": "markers",
         "name": "also",
         "text": [
          "token: also || tf   : 4.0 || cluster: -1"
         ],
         "type": "scatter",
         "x": [
          2.764239549636841
         ],
         "y": [
          5.050943374633789
         ]
        },
        {
         "line": {
          "color": "DarkSlateGrey",
          "width": 2
         },
         "marker": {
          "color": [
           0.993248,
           0.906157,
           0.143936
          ],
          "size": 9
         },
         "mode": "markers",
         "name": "contribute",
         "text": [
          "token: contribute || tf   : 1.0 || cluster: -1"
         ],
         "type": "scatter",
         "x": [
          2.7306406497955322
         ],
         "y": [
          5.093897819519043
         ]
        },
        {
         "line": {
          "color": "DarkSlateGrey",
          "width": 2
         },
         "marker": {
          "color": [
           0.993248,
           0.906157,
           0.143936
          ],
          "size": 9
         },
         "mode": "markers",
         "name": "the",
         "text": [
          "token: the || tf   : 32.0 || cluster: -1"
         ],
         "type": "scatter",
         "x": [
          2.1885783672332764
         ],
         "y": [
          4.746580123901367
         ]
        },
        {
         "line": {
          "color": "DarkSlateGrey",
          "width": 2
         },
         "marker": {
          "color": [
           0.993248,
           0.906157,
           0.143936
          ],
          "size": 9
         },
         "mode": "markers",
         "name": "reduction",
         "text": [
          "token: reduction || tf   : 1.0 || cluster: -1"
         ],
         "type": "scatter",
         "x": [
          2.7526814937591553
         ],
         "y": [
          5.379129409790039
         ]
        },
        {
         "line": {
          "color": "DarkSlateGrey",
          "width": 2
         },
         "marker": {
          "color": [
           0.237441,
           0.305202,
           0.541921
          ],
          "size": 9
         },
         "mode": "markers",
         "name": "the",
         "text": [
          "token: the || tf   : 32.0 || cluster: 60"
         ],
         "type": "scatter",
         "x": [
          1.995375394821167
         ],
         "y": [
          4.577943801879883
         ]
        },
        {
         "line": {
          "color": "DarkSlateGrey",
          "width": 2
         },
         "marker": {
          "color": [
           0.280267,
           0.073417,
           0.397163
          ],
          "size": 9
         },
         "mode": "markers",
         "name": "final",
         "text": [
          "token: final || tf   : 4.0 || cluster: 12"
         ],
         "type": "scatter",
         "x": [
          4.7372331619262695
         ],
         "y": [
          6.713488578796387
         ]
        },
        {
         "line": {
          "color": "DarkSlateGrey",
          "width": 2
         },
         "marker": {
          "color": [
           0.26658,
           0.228262,
           0.514349
          ],
          "size": 9
         },
         "mode": "markers",
         "name": "adult",
         "text": [
          "token: adult || tf   : 8.0 || cluster: 43"
         ],
         "type": "scatter",
         "x": [
          3.7625741958618164
         ],
         "y": [
          7.634730815887451
         ]
        },
        {
         "line": {
          "color": "DarkSlateGrey",
          "width": 2
         },
         "marker": {
          "color": [
           0.280255,
           0.165693,
           0.476498
          ],
          "size": 9
         },
         "mode": "markers",
         "name": "stature",
         "text": [
          "token: stature || tf   : 3.0 || cluster: 30"
         ],
         "type": "scatter",
         "x": [
          4.641272068023682
         ],
         "y": [
          7.927501201629639
         ]
        },
        {
         "line": {
          "color": "DarkSlateGrey",
          "width": 2
         },
         "marker": {
          "color": "red",
          "size": 9,
          "symbol": "diamond"
         },
         "mode": "markers",
         "name": "congenital",
         "text": [
          "token: congenital"
         ],
         "type": "scatter",
         "x": [
          12.285669326782227
         ],
         "y": [
          4.730812072753906
         ]
        },
        {
         "line": {
          "color": "DarkSlateGrey",
          "width": 2
         },
         "marker": {
          "color": "red",
          "size": 9,
          "symbol": "diamond"
         },
         "mode": "markers",
         "name": "##ren",
         "text": [
          "token: ##ren"
         ],
         "type": "scatter",
         "x": [
          3.74124813079834
         ],
         "y": [
          9.44144058227539
         ]
        },
        {
         "line": {
          "color": "DarkSlateGrey",
          "width": 2
         },
         "marker": {
          "color": "red",
          "size": 9,
          "symbol": "diamond"
         },
         "mode": "markers",
         "name": "##al",
         "text": [
          "token: ##al"
         ],
         "type": "scatter",
         "x": [
          4.738011837005615
         ],
         "y": [
          7.126425743103027
         ]
        },
        {
         "line": {
          "color": "DarkSlateGrey",
          "width": 2
         },
         "marker": {
          "color": "red",
          "size": 9,
          "symbol": "diamond"
         },
         "mode": "markers",
         "name": "hyper",
         "text": [
          "token: hyper"
         ],
         "type": "scatter",
         "x": [
          4.787142753601074
         ],
         "y": [
          8.091885566711426
         ]
        },
        {
         "line": {
          "color": "DarkSlateGrey",
          "width": 2
         },
         "marker": {
          "color": "red",
          "size": 9,
          "symbol": "diamond"
         },
         "mode": "markers",
         "name": "##pl",
         "text": [
          "token: ##pl"
         ],
         "type": "scatter",
         "x": [
          3.8048181533813477
         ],
         "y": [
          8.187908172607422
         ]
        },
        {
         "line": {
          "color": "DarkSlateGrey",
          "width": 2
         },
         "marker": {
          "color": "red",
          "size": 9,
          "symbol": "diamond"
         },
         "mode": "markers",
         "name": "##asia",
         "text": [
          "token: ##asia"
         ],
         "type": "scatter",
         "x": [
          5.5208353996276855
         ],
         "y": [
          8.076688766479492
         ]
        },
        {
         "line": {
          "color": "DarkSlateGrey",
          "width": 2
         },
         "marker": {
          "color": "red",
          "size": 9,
          "symbol": "diamond"
         },
         "mode": "markers",
         "name": "group",
         "text": [
          "token: group"
         ],
         "type": "scatter",
         "x": [
          12.115617752075195
         ],
         "y": [
          4.801757335662842
         ]
        },
        {
         "line": {
          "color": "DarkSlateGrey",
          "width": 2
         },
         "marker": {
          "color": "red",
          "size": 9,
          "symbol": "diamond"
         },
         "mode": "markers",
         "name": "auto",
         "text": [
          "token: auto"
         ],
         "type": "scatter",
         "x": [
          4.595828056335449
         ],
         "y": [
          8.21314811706543
         ]
        },
        {
         "line": {
          "color": "DarkSlateGrey",
          "width": 2
         },
         "marker": {
          "color": "red",
          "size": 9,
          "symbol": "diamond"
         },
         "mode": "markers",
         "name": "##som",
         "text": [
          "token: ##som"
         ],
         "type": "scatter",
         "x": [
          3.5405921936035156
         ],
         "y": [
          8.859508514404297
         ]
        },
        {
         "line": {
          "color": "DarkSlateGrey",
          "width": 2
         },
         "marker": {
          "color": "red",
          "size": 9,
          "symbol": "diamond"
         },
         "mode": "markers",
         "name": "##al",
         "text": [
          "token: ##al"
         ],
         "type": "scatter",
         "x": [
          4.9601969718933105
         ],
         "y": [
          7.512259483337402
         ]
        },
        {
         "line": {
          "color": "DarkSlateGrey",
          "width": 2
         },
         "marker": {
          "color": "red",
          "size": 9,
          "symbol": "diamond"
         },
         "mode": "markers",
         "name": "recess",
         "text": [
          "token: recess"
         ],
         "type": "scatter",
         "x": [
          12.324740409851074
         ],
         "y": [
          4.745389461517334
         ]
        },
        {
         "line": {
          "color": "DarkSlateGrey",
          "width": 2
         },
         "marker": {
          "color": "red",
          "size": 9,
          "symbol": "diamond"
         },
         "mode": "markers",
         "name": "##ive",
         "text": [
          "token: ##ive"
         ],
         "type": "scatter",
         "x": [
          4.922934055328369
         ],
         "y": [
          7.615422248840332
         ]
        },
        {
         "line": {
          "color": "DarkSlateGrey",
          "width": 2
         },
         "marker": {
          "color": "red",
          "size": 9,
          "symbol": "diamond"
         },
         "mode": "markers",
         "name": "disorders",
         "text": [
          "token: disorders"
         ],
         "type": "scatter",
         "x": [
          5.390991687774658
         ],
         "y": [
          8.016257286071777
         ]
        },
        {
         "line": {
          "color": "DarkSlateGrey",
          "width": 2
         },
         "marker": {
          "color": "red",
          "size": 9,
          "symbol": "diamond"
         },
         "mode": "markers",
         "name": "caused",
         "text": [
          "token: caused"
         ],
         "type": "scatter",
         "x": [
          9.136218070983887
         ],
         "y": [
          8.677820205688477
         ]
        },
        {
         "line": {
          "color": "DarkSlateGrey",
          "width": 2
         },
         "marker": {
          "color": "red",
          "size": 9,
          "symbol": "diamond"
         },
         "mode": "markers",
         "name": "enzyme",
         "text": [
          "token: enzyme"
         ],
         "type": "scatter",
         "x": [
          7.126619815826416
         ],
         "y": [
          12.722065925598145
         ]
        },
        {
         "line": {
          "color": "DarkSlateGrey",
          "width": 2
         },
         "marker": {
          "color": "red",
          "size": 9,
          "symbol": "diamond"
         },
         "mode": "markers",
         "name": "deficiency",
         "text": [
          "token: deficiency"
         ],
         "type": "scatter",
         "x": [
          5.491042137145996
         ],
         "y": [
          8.028850555419922
         ]
        },
        {
         "line": {
          "color": "DarkSlateGrey",
          "width": 2
         },
         "marker": {
          "color": "red",
          "size": 9,
          "symbol": "diamond"
         },
         "mode": "markers",
         "name": "which",
         "text": [
          "token: which"
         ],
         "type": "scatter",
         "x": [
          9.452844619750977
         ],
         "y": [
          6.978559494018555
         ]
        },
        {
         "line": {
          "color": "DarkSlateGrey",
          "width": 2
         },
         "marker": {
          "color": "red",
          "size": 9,
          "symbol": "diamond"
         },
         "mode": "markers",
         "name": "leads",
         "text": [
          "token: leads"
         ],
         "type": "scatter",
         "x": [
          9.230098724365234
         ],
         "y": [
          7.881246566772461
         ]
        },
        {
         "line": {
          "color": "DarkSlateGrey",
          "width": 2
         },
         "marker": {
          "color": "red",
          "size": 9,
          "symbol": "diamond"
         },
         "mode": "markers",
         "name": "defects",
         "text": [
          "token: defects"
         ],
         "type": "scatter",
         "x": [
          9.171111106872559
         ],
         "y": [
          7.704233646392822
         ]
        },
        {
         "line": {
          "color": "DarkSlateGrey",
          "width": 2
         },
         "marker": {
          "color": "red",
          "size": 9,
          "symbol": "diamond"
         },
         "mode": "markers",
         "name": "bio",
         "text": [
          "token: bio"
         ],
         "type": "scatter",
         "x": [
          4.706085205078125
         ],
         "y": [
          8.55169677734375
         ]
        },
        {
         "line": {
          "color": "DarkSlateGrey",
          "width": 2
         },
         "marker": {
          "color": "red",
          "size": 9,
          "symbol": "diamond"
         },
         "mode": "markers",
         "name": "##sy",
         "text": [
          "token: ##sy"
         ],
         "type": "scatter",
         "x": [
          4.743459224700928
         ],
         "y": [
          9.041508674621582
         ]
        },
        {
         "line": {
          "color": "DarkSlateGrey",
          "width": 2
         },
         "marker": {
          "color": "red",
          "size": 9,
          "symbol": "diamond"
         },
         "mode": "markers",
         "name": "##nt",
         "text": [
          "token: ##nt"
         ],
         "type": "scatter",
         "x": [
          4.215180397033691
         ],
         "y": [
          8.357307434082031
         ]
        },
        {
         "line": {
          "color": "DarkSlateGrey",
          "width": 2
         },
         "marker": {
          "color": "red",
          "size": 9,
          "symbol": "diamond"
         },
         "mode": "markers",
         "name": "##hesis",
         "text": [
          "token: ##hesis"
         ],
         "type": "scatter",
         "x": [
          8.065897941589355
         ],
         "y": [
          7.541651725769043
         ]
        },
        {
         "line": {
          "color": "DarkSlateGrey",
          "width": 2
         },
         "marker": {
          "color": "red",
          "size": 9,
          "symbol": "diamond"
         },
         "mode": "markers",
         "name": "ste",
         "text": [
          "token: ste"
         ],
         "type": "scatter",
         "x": [
          3.80647873878479
         ],
         "y": [
          7.45999002456665
         ]
        },
        {
         "line": {
          "color": "DarkSlateGrey",
          "width": 2
         },
         "marker": {
          "color": "red",
          "size": 9,
          "symbol": "diamond"
         },
         "mode": "markers",
         "name": "##roid",
         "text": [
          "token: ##roid"
         ],
         "type": "scatter",
         "x": [
          2.2850401401519775
         ],
         "y": [
          6.901646137237549
         ]
        },
        {
         "line": {
          "color": "DarkSlateGrey",
          "width": 2
         },
         "marker": {
          "color": "red",
          "size": 9,
          "symbol": "diamond"
         },
         "mode": "markers",
         "name": "precursor",
         "text": [
          "token: precursor"
         ],
         "type": "scatter",
         "x": [
          4.354051113128662
         ],
         "y": [
          7.116118907928467
         ]
        },
        {
         "line": {
          "color": "DarkSlateGrey",
          "width": 2
         },
         "marker": {
          "color": "red",
          "size": 9,
          "symbol": "diamond"
         },
         "mode": "markers",
         "name": "##s",
         "text": [
          "token: ##s"
         ],
         "type": "scatter",
         "x": [
          5.889954566955566
         ],
         "y": [
          9.066147804260254
         ]
        },
        {
         "line": {
          "color": "DarkSlateGrey",
          "width": 2
         },
         "marker": {
          "color": "red",
          "size": 9,
          "symbol": "diamond"
         },
         "mode": "markers",
         "name": "most",
         "text": [
          "token: most"
         ],
         "type": "scatter",
         "x": [
          10.149665832519531
         ],
         "y": [
          5.793088912963867
         ]
        },
        {
         "line": {
          "color": "DarkSlateGrey",
          "width": 2
         },
         "marker": {
          "color": "red",
          "size": 9,
          "symbol": "diamond"
         },
         "mode": "markers",
         "name": "common",
         "text": [
          "token: common"
         ],
         "type": "scatter",
         "x": [
          9.31865119934082
         ],
         "y": [
          6.948423862457275
         ]
        },
        {
         "line": {
          "color": "DarkSlateGrey",
          "width": 2
         },
         "marker": {
          "color": "red",
          "size": 9,
          "symbol": "diamond"
         },
         "mode": "markers",
         "name": "hydro",
         "text": [
          "token: hydro"
         ],
         "type": "scatter",
         "x": [
          2.459984064102173
         ],
         "y": [
          7.487515449523926
         ]
        },
        {
         "line": {
          "color": "DarkSlateGrey",
          "width": 2
         },
         "marker": {
          "color": "red",
          "size": 9,
          "symbol": "diamond"
         },
         "mode": "markers",
         "name": "##xy",
         "text": [
          "token: ##xy"
         ],
         "type": "scatter",
         "x": [
          2.3622024059295654
         ],
         "y": [
          7.4878363609313965
         ]
        },
        {
         "line": {
          "color": "DarkSlateGrey",
          "width": 2
         },
         "marker": {
          "color": "red",
          "size": 9,
          "symbol": "diamond"
         },
         "mode": "markers",
         "name": "##lase",
         "text": [
          "token: ##lase"
         ],
         "type": "scatter",
         "x": [
          2.3675992488861084
         ],
         "y": [
          7.182910442352295
         ]
        },
        {
         "line": {
          "color": "DarkSlateGrey",
          "width": 2
         },
         "marker": {
          "color": "red",
          "size": 9,
          "symbol": "diamond"
         },
         "mode": "markers",
         "name": "deficiency",
         "text": [
          "token: deficiency"
         ],
         "type": "scatter",
         "x": [
          5.375522613525391
         ],
         "y": [
          7.986770153045654
         ]
        },
        {
         "line": {
          "color": "DarkSlateGrey",
          "width": 2
         },
         "marker": {
          "color": "red",
          "size": 9,
          "symbol": "diamond"
         },
         "mode": "markers",
         "name": "clinical",
         "text": [
          "token: clinical"
         ],
         "type": "scatter",
         "x": [
          5.637721061706543
         ],
         "y": [
          3.1100239753723145
         ]
        },
        {
         "line": {
          "color": "DarkSlateGrey",
          "width": 2
         },
         "marker": {
          "color": "red",
          "size": 9,
          "symbol": "diamond"
         },
         "mode": "markers",
         "name": "spectrum",
         "text": [
          "token: spectrum"
         ],
         "type": "scatter",
         "x": [
          6.06361722946167
         ],
         "y": [
          2.60019588470459
         ]
        },
        {
         "line": {
          "color": "DarkSlateGrey",
          "width": 2
         },
         "marker": {
          "color": "red",
          "size": 9,
          "symbol": "diamond"
         },
         "mode": "markers",
         "name": "varies",
         "text": [
          "token: varies"
         ],
         "type": "scatter",
         "x": [
          9.39411449432373
         ],
         "y": [
          6.1149115562438965
         ]
        },
        {
         "line": {
          "color": "DarkSlateGrey",
          "width": 2
         },
         "marker": {
          "color": "red",
          "size": 9,
          "symbol": "diamond"
         },
         "mode": "markers",
         "name": "from",
         "text": [
          "token: from"
         ],
         "type": "scatter",
         "x": [
          7.227076530456543
         ],
         "y": [
          4.268243789672852
         ]
        },
        {
         "line": {
          "color": "DarkSlateGrey",
          "width": 2
         },
         "marker": {
          "color": "red",
          "size": 9,
          "symbol": "diamond"
         },
         "mode": "markers",
         "name": "non",
         "text": [
          "token: non"
         ],
         "type": "scatter",
         "x": [
          5.345994472503662
         ],
         "y": [
          4.382623195648193
         ]
        },
        {
         "line": {
          "color": "DarkSlateGrey",
          "width": 2
         },
         "marker": {
          "color": "red",
          "size": 9,
          "symbol": "diamond"
         },
         "mode": "markers",
         "name": "classical",
         "text": [
          "token: classical"
         ],
         "type": "scatter",
         "x": [
          5.441375255584717
         ],
         "y": [
          2.713013172149658
         ]
        },
        {
         "line": {
          "color": "DarkSlateGrey",
          "width": 2
         },
         "marker": {
          "color": "red",
          "size": 9,
          "symbol": "diamond"
         },
         "mode": "markers",
         "name": "##h",
         "text": [
          "token: ##h"
         ],
         "type": "scatter",
         "x": [
          2.378741502761841
         ],
         "y": [
          9.852788925170898
         ]
        },
        {
         "line": {
          "color": "DarkSlateGrey",
          "width": 2
         },
         "marker": {
          "color": "red",
          "size": 9,
          "symbol": "diamond"
         },
         "mode": "markers",
         "name": "classic",
         "text": [
          "token: classic"
         ],
         "type": "scatter",
         "x": [
          5.569160461425781
         ],
         "y": [
          2.6858479976654053
         ]
        },
        {
         "line": {
          "color": "DarkSlateGrey",
          "width": 2
         },
         "marker": {
          "color": "red",
          "size": 9,
          "symbol": "diamond"
         },
         "mode": "markers",
         "name": "##h",
         "text": [
          "token: ##h"
         ],
         "type": "scatter",
         "x": [
          2.329475164413452
         ],
         "y": [
          9.901421546936035
         ]
        },
        {
         "line": {
          "color": "DarkSlateGrey",
          "width": 2
         },
         "marker": {
          "color": "red",
          "size": 9,
          "symbol": "diamond"
         },
         "mode": "markers",
         "name": "and",
         "text": [
          "token: and"
         ],
         "type": "scatter",
         "x": [
          9.269304275512695
         ],
         "y": [
          3.4755115509033203
         ]
        },
        {
         "line": {
          "color": "DarkSlateGrey",
          "width": 2
         },
         "marker": {
          "color": "red",
          "size": 9,
          "symbol": "diamond"
         },
         "mode": "markers",
         "name": "may",
         "text": [
          "token: may"
         ],
         "type": "scatter",
         "x": [
          9.568819046020508
         ],
         "y": [
          6.36553430557251
         ]
        },
        {
         "line": {
          "color": "DarkSlateGrey",
          "width": 2
         },
         "marker": {
          "color": "red",
          "size": 9,
          "symbol": "diamond"
         },
         "mode": "markers",
         "name": "simple",
         "text": [
          "token: simple"
         ],
         "type": "scatter",
         "x": [
          6.371030807495117
         ],
         "y": [
          3.4102203845977783
         ]
        },
        {
         "line": {
          "color": "DarkSlateGrey",
          "width": 2
         },
         "marker": {
          "color": "red",
          "size": 9,
          "symbol": "diamond"
         },
         "mode": "markers",
         "name": "##ril",
         "text": [
          "token: ##ril"
         ],
         "type": "scatter",
         "x": [
          3.62333083152771
         ],
         "y": [
          8.449725151062012
         ]
        },
        {
         "line": {
          "color": "DarkSlateGrey",
          "width": 2
         },
         "marker": {
          "color": "red",
          "size": 9,
          "symbol": "diamond"
         },
         "mode": "markers",
         "name": "##ising",
         "text": [
          "token: ##ising"
         ],
         "type": "scatter",
         "x": [
          4.955151081085205
         ],
         "y": [
          7.021266937255859
         ]
        },
        {
         "line": {
          "color": "DarkSlateGrey",
          "width": 2
         },
         "marker": {
          "color": "red",
          "size": 9,
          "symbol": "diamond"
         },
         "mode": "markers",
         "name": "form",
         "text": [
          "token: form"
         ],
         "type": "scatter",
         "x": [
          5.5933942794799805
         ],
         "y": [
          2.579376697540283
         ]
        },
        {
         "line": {
          "color": "DarkSlateGrey",
          "width": 2
         },
         "marker": {
          "color": "red",
          "size": 9,
          "symbol": "diamond"
         },
         "mode": "markers",
         "name": "salt",
         "text": [
          "token: salt"
         ],
         "type": "scatter",
         "x": [
          2.6906280517578125
         ],
         "y": [
          5.586567401885986
         ]
        },
        {
         "line": {
          "color": "DarkSlateGrey",
          "width": 2
         },
         "marker": {
          "color": "red",
          "size": 9,
          "symbol": "diamond"
         },
         "mode": "markers",
         "name": "was",
         "text": [
          "token: was"
         ],
         "type": "scatter",
         "x": [
          2.466238498687744
         ],
         "y": [
          5.845273017883301
         ]
        },
        {
         "line": {
          "color": "DarkSlateGrey",
          "width": 2
         },
         "marker": {
          "color": "red",
          "size": 9,
          "symbol": "diamond"
         },
         "mode": "markers",
         "name": "##tin",
         "text": [
          "token: ##tin"
         ],
         "type": "scatter",
         "x": [
          2.3292086124420166
         ],
         "y": [
          6.375239372253418
         ]
        },
        {
         "line": {
          "color": "DarkSlateGrey",
          "width": 2
         },
         "marker": {
          "color": "red",
          "size": 9,
          "symbol": "diamond"
         },
         "mode": "markers",
         "name": "##f",
         "text": [
          "token: ##f"
         ],
         "type": "scatter",
         "x": [
          2.457062244415283
         ],
         "y": [
          5.977495193481445
         ]
        },
        {
         "line": {
          "color": "DarkSlateGrey",
          "width": 2
         },
         "marker": {
          "color": "red",
          "size": 9,
          "symbol": "diamond"
         },
         "mode": "markers",
         "name": "##g",
         "text": [
          "token: ##g"
         ],
         "type": "scatter",
         "x": [
          2.4148123264312744
         ],
         "y": [
          6.29676628112793
         ]
        },
        {
         "line": {
          "color": "DarkSlateGrey",
          "width": 2
         },
         "marker": {
          "color": "red",
          "size": 9,
          "symbol": "diamond"
         },
         "mode": "markers",
         "name": "type",
         "text": [
          "token: type"
         ],
         "type": "scatter",
         "x": [
          2.5811798572540283
         ],
         "y": [
          5.57327127456665
         ]
        },
        {
         "line": {
          "color": "DarkSlateGrey",
          "width": 2
         },
         "marker": {
          "color": "red",
          "size": 9,
          "symbol": "diamond"
         },
         "mode": "markers",
         "name": "patients",
         "text": [
          "token: patients"
         ],
         "type": "scatter",
         "x": [
          5.596496105194092
         ],
         "y": [
          6.027075290679932
         ]
        },
        {
         "line": {
          "color": "DarkSlateGrey",
          "width": 2
         },
         "marker": {
          "color": "red",
          "size": 9,
          "symbol": "diamond"
         },
         "mode": "markers",
         "name": "were",
         "text": [
          "token: were"
         ],
         "type": "scatter",
         "x": [
          7.67600154876709
         ],
         "y": [
          3.1838057041168213
         ]
        },
        {
         "line": {
          "color": "DarkSlateGrey",
          "width": 2
         },
         "marker": {
          "color": "red",
          "size": 9,
          "symbol": "diamond"
         },
         "mode": "markers",
         "name": "included",
         "text": [
          "token: included"
         ],
         "type": "scatter",
         "x": [
          6.369089126586914
         ],
         "y": [
          3.715696334838867
         ]
        },
        {
         "line": {
          "color": "DarkSlateGrey",
          "width": 2
         },
         "marker": {
          "color": "red",
          "size": 9,
          "symbol": "diamond"
         },
         "mode": "markers",
         "name": "our",
         "text": [
          "token: our"
         ],
         "type": "scatter",
         "x": [
          10.982292175292969
         ],
         "y": [
          4.952913284301758
         ]
        },
        {
         "line": {
          "color": "DarkSlateGrey",
          "width": 2
         },
         "marker": {
          "color": "red",
          "size": 9,
          "symbol": "diamond"
         },
         "mode": "markers",
         "name": "study",
         "text": [
          "token: study"
         ],
         "type": "scatter",
         "x": [
          8.866829872131348
         ],
         "y": [
          4.860411643981934
         ]
        },
        {
         "line": {
          "color": "DarkSlateGrey",
          "width": 2
         },
         "marker": {
          "color": "red",
          "size": 9,
          "symbol": "diamond"
         },
         "mode": "markers",
         "name": "from",
         "text": [
          "token: from"
         ],
         "type": "scatter",
         "x": [
          7.970579147338867
         ],
         "y": [
          3.047844171524048
         ]
        },
        {
         "line": {
          "color": "DarkSlateGrey",
          "width": 2
         },
         "marker": {
          "color": "red",
          "size": 9,
          "symbol": "diamond"
         },
         "mode": "markers",
         "name": "january",
         "text": [
          "token: january"
         ],
         "type": "scatter",
         "x": [
          11.833213806152344
         ],
         "y": [
          4.719220161437988
         ]
        },
        {
         "line": {
          "color": "DarkSlateGrey",
          "width": 2
         },
         "marker": {
          "color": "red",
          "size": 9,
          "symbol": "diamond"
         },
         "mode": "markers",
         "name": "2012",
         "text": [
          "token: 2012"
         ],
         "type": "scatter",
         "x": [
          11.70301628112793
         ],
         "y": [
          4.523062229156494
         ]
        },
        {
         "line": {
          "color": "DarkSlateGrey",
          "width": 2
         },
         "marker": {
          "color": "red",
          "size": 9,
          "symbol": "diamond"
         },
         "mode": "markers",
         "name": "october",
         "text": [
          "token: october"
         ],
         "type": "scatter",
         "x": [
          11.952009201049805
         ],
         "y": [
          4.671338081359863
         ]
        },
        {
         "line": {
          "color": "DarkSlateGrey",
          "width": 2
         },
         "marker": {
          "color": "red",
          "size": 9,
          "symbol": "diamond"
         },
         "mode": "markers",
         "name": "2012",
         "text": [
          "token: 2012"
         ],
         "type": "scatter",
         "x": [
          11.608813285827637
         ],
         "y": [
          4.432894229888916
         ]
        },
        {
         "line": {
          "color": "DarkSlateGrey",
          "width": 2
         },
         "marker": {
          "color": "red",
          "size": 9,
          "symbol": "diamond"
         },
         "mode": "markers",
         "name": "were",
         "text": [
          "token: were"
         ],
         "type": "scatter",
         "x": [
          7.5586771965026855
         ],
         "y": [
          3.0541861057281494
         ]
        },
        {
         "line": {
          "color": "DarkSlateGrey",
          "width": 2
         },
         "marker": {
          "color": "red",
          "size": 9,
          "symbol": "diamond"
         },
         "mode": "markers",
         "name": "females",
         "text": [
          "token: females"
         ],
         "type": "scatter",
         "x": [
          5.569467544555664
         ],
         "y": [
          5.892559051513672
         ]
        },
        {
         "line": {
          "color": "DarkSlateGrey",
          "width": 2
         },
         "marker": {
          "color": "red",
          "size": 9,
          "symbol": "diamond"
         },
         "mode": "markers",
         "name": "male",
         "text": [
          "token: male"
         ],
         "type": "scatter",
         "x": [
          5.498981952667236
         ],
         "y": [
          5.784429550170898
         ]
        },
        {
         "line": {
          "color": "DarkSlateGrey",
          "width": 2
         },
         "marker": {
          "color": "red",
          "size": 9,
          "symbol": "diamond"
         },
         "mode": "markers",
         "name": "babies",
         "text": [
          "token: babies"
         ],
         "type": "scatter",
         "x": [
          12.250223159790039
         ],
         "y": [
          4.825139999389648
         ]
        },
        {
         "line": {
          "color": "DarkSlateGrey",
          "width": 2
         },
         "marker": {
          "color": "red",
          "size": 9,
          "symbol": "diamond"
         },
         "mode": "markers",
         "name": "typically",
         "text": [
          "token: typically"
         ],
         "type": "scatter",
         "x": [
          7.441386699676514
         ],
         "y": [
          3.229304552078247
         ]
        },
        {
         "line": {
          "color": "DarkSlateGrey",
          "width": 2
         },
         "marker": {
          "color": "red",
          "size": 9,
          "symbol": "diamond"
         },
         "mode": "markers",
         "name": "presented",
         "text": [
          "token: presented"
         ],
         "type": "scatter",
         "x": [
          7.585281848907471
         ],
         "y": [
          3.3534834384918213
         ]
        },
        {
         "line": {
          "color": "DarkSlateGrey",
          "width": 2
         },
         "marker": {
          "color": "red",
          "size": 9,
          "symbol": "diamond"
         },
         "mode": "markers",
         "name": "with",
         "text": [
          "token: with"
         ],
         "type": "scatter",
         "x": [
          7.084904193878174
         ],
         "y": [
          4.193899154663086
         ]
        },
        {
         "line": {
          "color": "DarkSlateGrey",
          "width": 2
         },
         "marker": {
          "color": "red",
          "size": 9,
          "symbol": "diamond"
         },
         "mode": "markers",
         "name": "##ren",
         "text": [
          "token: ##ren"
         ],
         "type": "scatter",
         "x": [
          3.6650071144104004
         ],
         "y": [
          9.466007232666016
         ]
        },
        {
         "line": {
          "color": "DarkSlateGrey",
          "width": 2
         },
         "marker": {
          "color": "red",
          "size": 9,
          "symbol": "diamond"
         },
         "mode": "markers",
         "name": "##al",
         "text": [
          "token: ##al"
         ],
         "type": "scatter",
         "x": [
          4.732316493988037
         ],
         "y": [
          7.1465535163879395
         ]
        },
        {
         "line": {
          "color": "DarkSlateGrey",
          "width": 2
         },
         "marker": {
          "color": "red",
          "size": 9,
          "symbol": "diamond"
         },
         "mode": "markers",
         "name": "crisis",
         "text": [
          "token: crisis"
         ],
         "type": "scatter",
         "x": [
          5.391812801361084
         ],
         "y": [
          7.818498611450195
         ]
        },
        {
         "line": {
          "color": "DarkSlateGrey",
          "width": 2
         },
         "marker": {
          "color": "red",
          "size": 9,
          "symbol": "diamond"
         },
         "mode": "markers",
         "name": "between",
         "text": [
          "token: between"
         ],
         "type": "scatter",
         "x": [
          8.290445327758789
         ],
         "y": [
          2.9821765422821045
         ]
        },
        {
         "line": {
          "color": "DarkSlateGrey",
          "width": 2
         },
         "marker": {
          "color": "red",
          "size": 9,
          "symbol": "diamond"
         },
         "mode": "markers",
         "name": "3rd",
         "text": [
          "token: 3rd"
         ],
         "type": "scatter",
         "x": [
          12.17464542388916
         ],
         "y": [
          4.7870612144470215
         ]
        },
        {
         "line": {
          "color": "DarkSlateGrey",
          "width": 2
         },
         "marker": {
          "color": "red",
          "size": 9,
          "symbol": "diamond"
         },
         "mode": "markers",
         "name": "6th",
         "text": [
          "token: 6th"
         ],
         "type": "scatter",
         "x": [
          2.3514485359191895
         ],
         "y": [
          1.8880683183670044
         ]
        },
        {
         "line": {
          "color": "DarkSlateGrey",
          "width": 2
         },
         "marker": {
          "color": "red",
          "size": 9,
          "symbol": "diamond"
         },
         "mode": "markers",
         "name": "week",
         "text": [
          "token: week"
         ],
         "type": "scatter",
         "x": [
          2.9270427227020264
         ],
         "y": [
          3.2935452461242676
         ]
        },
        {
         "line": {
          "color": "DarkSlateGrey",
          "width": 2
         },
         "marker": {
          "color": "red",
          "size": 9,
          "symbol": "diamond"
         },
         "mode": "markers",
         "name": "life",
         "text": [
          "token: life"
         ],
         "type": "scatter",
         "x": [
          11.989174842834473
         ],
         "y": [
          4.761450290679932
         ]
        },
        {
         "line": {
          "color": "DarkSlateGrey",
          "width": 2
         },
         "marker": {
          "color": "red",
          "size": 9,
          "symbol": "diamond"
         },
         "mode": "markers",
         "name": "around",
         "text": [
          "token: around"
         ],
         "type": "scatter",
         "x": [
          11.379952430725098
         ],
         "y": [
          4.4756574630737305
         ]
        },
        {
         "line": {
          "color": "DarkSlateGrey",
          "width": 2
         },
         "marker": {
          "color": "red",
          "size": 9,
          "symbol": "diamond"
         },
         "mode": "markers",
         "name": "females",
         "text": [
          "token: females"
         ],
         "type": "scatter",
         "x": [
          5.515246391296387
         ],
         "y": [
          5.804544925689697
         ]
        },
        {
         "line": {
          "color": "DarkSlateGrey",
          "width": 2
         },
         "marker": {
          "color": "red",
          "size": 9,
          "symbol": "diamond"
         },
         "mode": "markers",
         "name": "were",
         "text": [
          "token: were"
         ],
         "type": "scatter",
         "x": [
          7.567025184631348
         ],
         "y": [
          3.1749143600463867
         ]
        },
        {
         "line": {
          "color": "DarkSlateGrey",
          "width": 2
         },
         "marker": {
          "color": "red",
          "size": 9,
          "symbol": "diamond"
         },
         "mode": "markers",
         "name": "identified",
         "text": [
          "token: identified"
         ],
         "type": "scatter",
         "x": [
          8.632415771484375
         ],
         "y": [
          4.470489501953125
         ]
        },
        {
         "line": {
          "color": "DarkSlateGrey",
          "width": 2
         },
         "marker": {
          "color": "red",
          "size": 9,
          "symbol": "diamond"
         },
         "mode": "markers",
         "name": "and",
         "text": [
          "token: and"
         ],
         "type": "scatter",
         "x": [
          9.067328453063965
         ],
         "y": [
          3.3376121520996094
         ]
        },
        {
         "line": {
          "color": "DarkSlateGrey",
          "width": 2
         },
         "marker": {
          "color": "red",
          "size": 9,
          "symbol": "diamond"
         },
         "mode": "markers",
         "name": "appropriately",
         "text": [
          "token: appropriately"
         ],
         "type": "scatter",
         "x": [
          9.413960456848145
         ],
         "y": [
          4.811851501464844
         ]
        },
        {
         "line": {
          "color": "DarkSlateGrey",
          "width": 2
         },
         "marker": {
          "color": "red",
          "size": 9,
          "symbol": "diamond"
         },
         "mode": "markers",
         "name": "treated",
         "text": [
          "token: treated"
         ],
         "type": "scatter",
         "x": [
          5.796379566192627
         ],
         "y": [
          3.0985498428344727
         ]
        },
        {
         "line": {
          "color": "DarkSlateGrey",
          "width": 2
         },
         "marker": {
          "color": "red",
          "size": 9,
          "symbol": "diamond"
         },
         "mode": "markers",
         "name": "only",
         "text": [
          "token: only"
         ],
         "type": "scatter",
         "x": [
          8.73484992980957
         ],
         "y": [
          3.564648151397705
         ]
        },
        {
         "line": {
          "color": "DarkSlateGrey",
          "width": 2
         },
         "marker": {
          "color": "red",
          "size": 9,
          "symbol": "diamond"
         },
         "mode": "markers",
         "name": "after",
         "text": [
          "token: after"
         ],
         "type": "scatter",
         "x": [
          8.389790534973145
         ],
         "y": [
          3.1364762783050537
         ]
        },
        {
         "line": {
          "color": "DarkSlateGrey",
          "width": 2
         },
         "marker": {
          "color": "red",
          "size": 9,
          "symbol": "diamond"
         },
         "mode": "markers",
         "name": "late",
         "text": [
          "token: late"
         ],
         "type": "scatter",
         "x": [
          11.244820594787598
         ],
         "y": [
          4.491083145141602
         ]
        },
        {
         "line": {
          "color": "DarkSlateGrey",
          "width": 2
         },
         "marker": {
          "color": "red",
          "size": 9,
          "symbol": "diamond"
         },
         "mode": "markers",
         "name": "adolescence",
         "text": [
          "token: adolescence"
         ],
         "type": "scatter",
         "x": [
          5.464996337890625
         ],
         "y": [
          5.598451137542725
         ]
        },
        {
         "line": {
          "color": "DarkSlateGrey",
          "width": 2
         },
         "marker": {
          "color": "red",
          "size": 9,
          "symbol": "diamond"
         },
         "mode": "markers",
         "name": "short",
         "text": [
          "token: short"
         ],
         "type": "scatter",
         "x": [
          10.927449226379395
         ],
         "y": [
          5.058093547821045
         ]
        },
        {
         "line": {
          "color": "DarkSlateGrey",
          "width": 2
         },
         "marker": {
          "color": "red",
          "size": 9,
          "symbol": "diamond"
         },
         "mode": "markers",
         "name": "stature",
         "text": [
          "token: stature"
         ],
         "type": "scatter",
         "x": [
          5.796172618865967
         ],
         "y": [
          7.926239490509033
         ]
        },
        {
         "line": {
          "color": "DarkSlateGrey",
          "width": 2
         },
         "marker": {
          "color": "red",
          "size": 9,
          "symbol": "diamond"
         },
         "mode": "markers",
         "name": "was",
         "text": [
          "token: was"
         ],
         "type": "scatter",
         "x": [
          7.763148784637451
         ],
         "y": [
          3.1810948848724365
         ]
        },
        {
         "line": {
          "color": "DarkSlateGrey",
          "width": 2
         },
         "marker": {
          "color": "red",
          "size": 9,
          "symbol": "diamond"
         },
         "mode": "markers",
         "name": "seen",
         "text": [
          "token: seen"
         ],
         "type": "scatter",
         "x": [
          8.834811210632324
         ],
         "y": [
          4.512872219085693
         ]
        },
        {
         "line": {
          "color": "DarkSlateGrey",
          "width": 2
         },
         "marker": {
          "color": "red",
          "size": 9,
          "symbol": "diamond"
         },
         "mode": "markers",
         "name": "3rd",
         "text": [
          "token: 3rd"
         ],
         "type": "scatter",
         "x": [
          12.28752326965332
         ],
         "y": [
          4.716485023498535
         ]
        },
        {
         "line": {
          "color": "DarkSlateGrey",
          "width": 2
         },
         "marker": {
          "color": "red",
          "size": 9,
          "symbol": "diamond"
         },
         "mode": "markers",
         "name": "patients",
         "text": [
          "token: patients"
         ],
         "type": "scatter",
         "x": [
          5.601444244384766
         ],
         "y": [
          6.081319332122803
         ]
        },
        {
         "line": {
          "color": "DarkSlateGrey",
          "width": 2
         },
         "marker": {
          "color": "red",
          "size": 9,
          "symbol": "diamond"
         },
         "mode": "markers",
         "name": "3rd",
         "text": [
          "token: 3rd"
         ],
         "type": "scatter",
         "x": [
          12.121271133422852
         ],
         "y": [
          4.574575901031494
         ]
        },
        {
         "line": {
          "color": "DarkSlateGrey",
          "width": 2
         },
         "marker": {
          "color": "red",
          "size": 9,
          "symbol": "diamond"
         },
         "mode": "markers",
         "name": "patients",
         "text": [
          "token: patients"
         ],
         "type": "scatter",
         "x": [
          5.554905414581299
         ],
         "y": [
          6.203514575958252
         ]
        },
        {
         "line": {
          "color": "DarkSlateGrey",
          "width": 2
         },
         "marker": {
          "color": "red",
          "size": 9,
          "symbol": "diamond"
         },
         "mode": "markers",
         "name": "had",
         "text": [
          "token: had"
         ],
         "type": "scatter",
         "x": [
          7.687365531921387
         ],
         "y": [
          3.1784021854400635
         ]
        },
        {
         "line": {
          "color": "DarkSlateGrey",
          "width": 2
         },
         "marker": {
          "color": "red",
          "size": 9,
          "symbol": "diamond"
         },
         "mode": "markers",
         "name": "suppressed",
         "text": [
          "token: suppressed"
         ],
         "type": "scatter",
         "x": [
          9.377701759338379
         ],
         "y": [
          7.758662223815918
         ]
        },
        {
         "line": {
          "color": "DarkSlateGrey",
          "width": 2
         },
         "marker": {
          "color": "red",
          "size": 9,
          "symbol": "diamond"
         },
         "mode": "markers",
         "name": "##p",
         "text": [
          "token: ##p"
         ],
         "type": "scatter",
         "x": [
          2.674131155014038
         ],
         "y": [
          6.364907741546631
         ]
        },
        {
         "line": {
          "color": "DarkSlateGrey",
          "width": 2
         },
         "marker": {
          "color": "red",
          "size": 9,
          "symbol": "diamond"
         },
         "mode": "markers",
         "name": "levels",
         "text": [
          "token: levels"
         ],
         "type": "scatter",
         "x": [
          6.412233829498291
         ],
         "y": [
          5.564388751983643
         ]
        },
        {
         "line": {
          "color": "DarkSlateGrey",
          "width": 2
         },
         "marker": {
          "color": "red",
          "size": 9,
          "symbol": "diamond"
         },
         "mode": "markers",
         "name": "suggest",
         "text": [
          "token: suggest"
         ],
         "type": "scatter",
         "x": [
          9.490291595458984
         ],
         "y": [
          4.887470245361328
         ]
        },
        {
         "line": {
          "color": "DarkSlateGrey",
          "width": 2
         },
         "marker": {
          "color": "red",
          "size": 9,
          "symbol": "diamond"
         },
         "mode": "markers",
         "name": "##ive",
         "text": [
          "token: ##ive"
         ],
         "type": "scatter",
         "x": [
          9.409405708312988
         ],
         "y": [
          5.410214424133301
         ]
        },
        {
         "line": {
          "color": "DarkSlateGrey",
          "width": 2
         },
         "marker": {
          "color": "red",
          "size": 9,
          "symbol": "diamond"
         },
         "mode": "markers",
         "name": "over",
         "text": [
          "token: over"
         ],
         "type": "scatter",
         "x": [
          8.159366607666016
         ],
         "y": [
          5.339384078979492
         ]
        },
        {
         "line": {
          "color": "DarkSlateGrey",
          "width": 2
         },
         "marker": {
          "color": "red",
          "size": 9,
          "symbol": "diamond"
         },
         "mode": "markers",
         "name": "replacement",
         "text": [
          "token: replacement"
         ],
         "type": "scatter",
         "x": [
          12.38714599609375
         ],
         "y": [
          4.683990001678467
         ]
        },
        {
         "line": {
          "color": "DarkSlateGrey",
          "width": 2
         },
         "marker": {
          "color": "red",
          "size": 9,
          "symbol": "diamond"
         },
         "mode": "markers",
         "name": "therapy",
         "text": [
          "token: therapy"
         ],
         "type": "scatter",
         "x": [
          5.720644950866699
         ],
         "y": [
          3.009026050567627
         ]
        },
        {
         "line": {
          "color": "DarkSlateGrey",
          "width": 2
         },
         "marker": {
          "color": "red",
          "size": 9,
          "symbol": "diamond"
         },
         "mode": "markers",
         "name": "which",
         "text": [
          "token: which"
         ],
         "type": "scatter",
         "x": [
          9.452489852905273
         ],
         "y": [
          6.997450828552246
         ]
        },
        {
         "line": {
          "color": "DarkSlateGrey",
          "width": 2
         },
         "marker": {
          "color": "red",
          "size": 9,
          "symbol": "diamond"
         },
         "mode": "markers",
         "name": "may",
         "text": [
          "token: may"
         ],
         "type": "scatter",
         "x": [
          9.524764060974121
         ],
         "y": [
          6.449528217315674
         ]
        },
        {
         "line": {
          "color": "DarkSlateGrey",
          "width": 2
         },
         "marker": {
          "color": "red",
          "size": 9,
          "symbol": "diamond"
         },
         "mode": "markers",
         "name": "contribute",
         "text": [
          "token: contribute"
         ],
         "type": "scatter",
         "x": [
          9.172516822814941
         ],
         "y": [
          7.8552985191345215
         ]
        },
        {
         "line": {
          "color": "DarkSlateGrey",
          "width": 2
         },
         "marker": {
          "color": "red",
          "size": 9,
          "symbol": "diamond"
         },
         "mode": "markers",
         "name": "final",
         "text": [
          "token: final"
         ],
         "type": "scatter",
         "x": [
          8.348640441894531
         ],
         "y": [
          5.55539083480835
         ]
        },
        {
         "line": {
          "color": "DarkSlateGrey",
          "width": 2
         },
         "marker": {
          "color": "red",
          "size": 9,
          "symbol": "diamond"
         },
         "mode": "markers",
         "name": "reduction",
         "text": [
          "token: reduction"
         ],
         "type": "scatter",
         "x": [
          9.355952262878418
         ],
         "y": [
          7.623925685882568
         ]
        },
        {
         "line": {
          "color": "DarkSlateGrey",
          "width": 2
         },
         "marker": {
          "color": "red",
          "size": 9,
          "symbol": "diamond"
         },
         "mode": "markers",
         "name": "adult",
         "text": [
          "token: adult"
         ],
         "type": "scatter",
         "x": [
          5.271117210388184
         ],
         "y": [
          5.705949306488037
         ]
        },
        {
         "line": {
          "color": "DarkSlateGrey",
          "width": 2
         },
         "marker": {
          "color": "red",
          "size": 9,
          "symbol": "diamond"
         },
         "mode": "markers",
         "name": "height",
         "text": [
          "token: height"
         ],
         "type": "scatter",
         "x": [
          12.38774585723877
         ],
         "y": [
          4.828078746795654
         ]
        }
       ],
       "layout": {
        "autosize": false,
        "height": 1000,
        "scene": {
         "xaxis": {
          "title": {
           "text": "X"
          }
         },
         "yaxis": {
          "title": {
           "text": "Y"
          }
         }
        },
        "template": {
         "data": {
          "bar": [
           {
            "error_x": {
             "color": "#2a3f5f"
            },
            "error_y": {
             "color": "#2a3f5f"
            },
            "marker": {
             "line": {
              "color": "#E5ECF6",
              "width": 0.5
             },
             "pattern": {
              "fillmode": "overlay",
              "size": 10,
              "solidity": 0.2
             }
            },
            "type": "bar"
           }
          ],
          "barpolar": [
           {
            "marker": {
             "line": {
              "color": "#E5ECF6",
              "width": 0.5
             },
             "pattern": {
              "fillmode": "overlay",
              "size": 10,
              "solidity": 0.2
             }
            },
            "type": "barpolar"
           }
          ],
          "carpet": [
           {
            "aaxis": {
             "endlinecolor": "#2a3f5f",
             "gridcolor": "white",
             "linecolor": "white",
             "minorgridcolor": "white",
             "startlinecolor": "#2a3f5f"
            },
            "baxis": {
             "endlinecolor": "#2a3f5f",
             "gridcolor": "white",
             "linecolor": "white",
             "minorgridcolor": "white",
             "startlinecolor": "#2a3f5f"
            },
            "type": "carpet"
           }
          ],
          "choropleth": [
           {
            "colorbar": {
             "outlinewidth": 0,
             "ticks": ""
            },
            "type": "choropleth"
           }
          ],
          "contour": [
           {
            "colorbar": {
             "outlinewidth": 0,
             "ticks": ""
            },
            "colorscale": [
             [
              0,
              "#0d0887"
             ],
             [
              0.1111111111111111,
              "#46039f"
             ],
             [
              0.2222222222222222,
              "#7201a8"
             ],
             [
              0.3333333333333333,
              "#9c179e"
             ],
             [
              0.4444444444444444,
              "#bd3786"
             ],
             [
              0.5555555555555556,
              "#d8576b"
             ],
             [
              0.6666666666666666,
              "#ed7953"
             ],
             [
              0.7777777777777778,
              "#fb9f3a"
             ],
             [
              0.8888888888888888,
              "#fdca26"
             ],
             [
              1,
              "#f0f921"
             ]
            ],
            "type": "contour"
           }
          ],
          "contourcarpet": [
           {
            "colorbar": {
             "outlinewidth": 0,
             "ticks": ""
            },
            "type": "contourcarpet"
           }
          ],
          "heatmap": [
           {
            "colorbar": {
             "outlinewidth": 0,
             "ticks": ""
            },
            "colorscale": [
             [
              0,
              "#0d0887"
             ],
             [
              0.1111111111111111,
              "#46039f"
             ],
             [
              0.2222222222222222,
              "#7201a8"
             ],
             [
              0.3333333333333333,
              "#9c179e"
             ],
             [
              0.4444444444444444,
              "#bd3786"
             ],
             [
              0.5555555555555556,
              "#d8576b"
             ],
             [
              0.6666666666666666,
              "#ed7953"
             ],
             [
              0.7777777777777778,
              "#fb9f3a"
             ],
             [
              0.8888888888888888,
              "#fdca26"
             ],
             [
              1,
              "#f0f921"
             ]
            ],
            "type": "heatmap"
           }
          ],
          "heatmapgl": [
           {
            "colorbar": {
             "outlinewidth": 0,
             "ticks": ""
            },
            "colorscale": [
             [
              0,
              "#0d0887"
             ],
             [
              0.1111111111111111,
              "#46039f"
             ],
             [
              0.2222222222222222,
              "#7201a8"
             ],
             [
              0.3333333333333333,
              "#9c179e"
             ],
             [
              0.4444444444444444,
              "#bd3786"
             ],
             [
              0.5555555555555556,
              "#d8576b"
             ],
             [
              0.6666666666666666,
              "#ed7953"
             ],
             [
              0.7777777777777778,
              "#fb9f3a"
             ],
             [
              0.8888888888888888,
              "#fdca26"
             ],
             [
              1,
              "#f0f921"
             ]
            ],
            "type": "heatmapgl"
           }
          ],
          "histogram": [
           {
            "marker": {
             "pattern": {
              "fillmode": "overlay",
              "size": 10,
              "solidity": 0.2
             }
            },
            "type": "histogram"
           }
          ],
          "histogram2d": [
           {
            "colorbar": {
             "outlinewidth": 0,
             "ticks": ""
            },
            "colorscale": [
             [
              0,
              "#0d0887"
             ],
             [
              0.1111111111111111,
              "#46039f"
             ],
             [
              0.2222222222222222,
              "#7201a8"
             ],
             [
              0.3333333333333333,
              "#9c179e"
             ],
             [
              0.4444444444444444,
              "#bd3786"
             ],
             [
              0.5555555555555556,
              "#d8576b"
             ],
             [
              0.6666666666666666,
              "#ed7953"
             ],
             [
              0.7777777777777778,
              "#fb9f3a"
             ],
             [
              0.8888888888888888,
              "#fdca26"
             ],
             [
              1,
              "#f0f921"
             ]
            ],
            "type": "histogram2d"
           }
          ],
          "histogram2dcontour": [
           {
            "colorbar": {
             "outlinewidth": 0,
             "ticks": ""
            },
            "colorscale": [
             [
              0,
              "#0d0887"
             ],
             [
              0.1111111111111111,
              "#46039f"
             ],
             [
              0.2222222222222222,
              "#7201a8"
             ],
             [
              0.3333333333333333,
              "#9c179e"
             ],
             [
              0.4444444444444444,
              "#bd3786"
             ],
             [
              0.5555555555555556,
              "#d8576b"
             ],
             [
              0.6666666666666666,
              "#ed7953"
             ],
             [
              0.7777777777777778,
              "#fb9f3a"
             ],
             [
              0.8888888888888888,
              "#fdca26"
             ],
             [
              1,
              "#f0f921"
             ]
            ],
            "type": "histogram2dcontour"
           }
          ],
          "mesh3d": [
           {
            "colorbar": {
             "outlinewidth": 0,
             "ticks": ""
            },
            "type": "mesh3d"
           }
          ],
          "parcoords": [
           {
            "line": {
             "colorbar": {
              "outlinewidth": 0,
              "ticks": ""
             }
            },
            "type": "parcoords"
           }
          ],
          "pie": [
           {
            "automargin": true,
            "type": "pie"
           }
          ],
          "scatter": [
           {
            "fillpattern": {
             "fillmode": "overlay",
             "size": 10,
             "solidity": 0.2
            },
            "type": "scatter"
           }
          ],
          "scatter3d": [
           {
            "line": {
             "colorbar": {
              "outlinewidth": 0,
              "ticks": ""
             }
            },
            "marker": {
             "colorbar": {
              "outlinewidth": 0,
              "ticks": ""
             }
            },
            "type": "scatter3d"
           }
          ],
          "scattercarpet": [
           {
            "marker": {
             "colorbar": {
              "outlinewidth": 0,
              "ticks": ""
             }
            },
            "type": "scattercarpet"
           }
          ],
          "scattergeo": [
           {
            "marker": {
             "colorbar": {
              "outlinewidth": 0,
              "ticks": ""
             }
            },
            "type": "scattergeo"
           }
          ],
          "scattergl": [
           {
            "marker": {
             "colorbar": {
              "outlinewidth": 0,
              "ticks": ""
             }
            },
            "type": "scattergl"
           }
          ],
          "scattermapbox": [
           {
            "marker": {
             "colorbar": {
              "outlinewidth": 0,
              "ticks": ""
             }
            },
            "type": "scattermapbox"
           }
          ],
          "scatterpolar": [
           {
            "marker": {
             "colorbar": {
              "outlinewidth": 0,
              "ticks": ""
             }
            },
            "type": "scatterpolar"
           }
          ],
          "scatterpolargl": [
           {
            "marker": {
             "colorbar": {
              "outlinewidth": 0,
              "ticks": ""
             }
            },
            "type": "scatterpolargl"
           }
          ],
          "scatterternary": [
           {
            "marker": {
             "colorbar": {
              "outlinewidth": 0,
              "ticks": ""
             }
            },
            "type": "scatterternary"
           }
          ],
          "surface": [
           {
            "colorbar": {
             "outlinewidth": 0,
             "ticks": ""
            },
            "colorscale": [
             [
              0,
              "#0d0887"
             ],
             [
              0.1111111111111111,
              "#46039f"
             ],
             [
              0.2222222222222222,
              "#7201a8"
             ],
             [
              0.3333333333333333,
              "#9c179e"
             ],
             [
              0.4444444444444444,
              "#bd3786"
             ],
             [
              0.5555555555555556,
              "#d8576b"
             ],
             [
              0.6666666666666666,
              "#ed7953"
             ],
             [
              0.7777777777777778,
              "#fb9f3a"
             ],
             [
              0.8888888888888888,
              "#fdca26"
             ],
             [
              1,
              "#f0f921"
             ]
            ],
            "type": "surface"
           }
          ],
          "table": [
           {
            "cells": {
             "fill": {
              "color": "#EBF0F8"
             },
             "line": {
              "color": "white"
             }
            },
            "header": {
             "fill": {
              "color": "#C8D4E3"
             },
             "line": {
              "color": "white"
             }
            },
            "type": "table"
           }
          ]
         },
         "layout": {
          "annotationdefaults": {
           "arrowcolor": "#2a3f5f",
           "arrowhead": 0,
           "arrowwidth": 1
          },
          "autotypenumbers": "strict",
          "coloraxis": {
           "colorbar": {
            "outlinewidth": 0,
            "ticks": ""
           }
          },
          "colorscale": {
           "diverging": [
            [
             0,
             "#8e0152"
            ],
            [
             0.1,
             "#c51b7d"
            ],
            [
             0.2,
             "#de77ae"
            ],
            [
             0.3,
             "#f1b6da"
            ],
            [
             0.4,
             "#fde0ef"
            ],
            [
             0.5,
             "#f7f7f7"
            ],
            [
             0.6,
             "#e6f5d0"
            ],
            [
             0.7,
             "#b8e186"
            ],
            [
             0.8,
             "#7fbc41"
            ],
            [
             0.9,
             "#4d9221"
            ],
            [
             1,
             "#276419"
            ]
           ],
           "sequential": [
            [
             0,
             "#0d0887"
            ],
            [
             0.1111111111111111,
             "#46039f"
            ],
            [
             0.2222222222222222,
             "#7201a8"
            ],
            [
             0.3333333333333333,
             "#9c179e"
            ],
            [
             0.4444444444444444,
             "#bd3786"
            ],
            [
             0.5555555555555556,
             "#d8576b"
            ],
            [
             0.6666666666666666,
             "#ed7953"
            ],
            [
             0.7777777777777778,
             "#fb9f3a"
            ],
            [
             0.8888888888888888,
             "#fdca26"
            ],
            [
             1,
             "#f0f921"
            ]
           ],
           "sequentialminus": [
            [
             0,
             "#0d0887"
            ],
            [
             0.1111111111111111,
             "#46039f"
            ],
            [
             0.2222222222222222,
             "#7201a8"
            ],
            [
             0.3333333333333333,
             "#9c179e"
            ],
            [
             0.4444444444444444,
             "#bd3786"
            ],
            [
             0.5555555555555556,
             "#d8576b"
            ],
            [
             0.6666666666666666,
             "#ed7953"
            ],
            [
             0.7777777777777778,
             "#fb9f3a"
            ],
            [
             0.8888888888888888,
             "#fdca26"
            ],
            [
             1,
             "#f0f921"
            ]
           ]
          },
          "colorway": [
           "#636efa",
           "#EF553B",
           "#00cc96",
           "#ab63fa",
           "#FFA15A",
           "#19d3f3",
           "#FF6692",
           "#B6E880",
           "#FF97FF",
           "#FECB52"
          ],
          "font": {
           "color": "#2a3f5f"
          },
          "geo": {
           "bgcolor": "white",
           "lakecolor": "white",
           "landcolor": "#E5ECF6",
           "showlakes": true,
           "showland": true,
           "subunitcolor": "white"
          },
          "hoverlabel": {
           "align": "left"
          },
          "hovermode": "closest",
          "mapbox": {
           "style": "light"
          },
          "paper_bgcolor": "white",
          "plot_bgcolor": "#E5ECF6",
          "polar": {
           "angularaxis": {
            "gridcolor": "white",
            "linecolor": "white",
            "ticks": ""
           },
           "bgcolor": "#E5ECF6",
           "radialaxis": {
            "gridcolor": "white",
            "linecolor": "white",
            "ticks": ""
           }
          },
          "scene": {
           "xaxis": {
            "backgroundcolor": "#E5ECF6",
            "gridcolor": "white",
            "gridwidth": 2,
            "linecolor": "white",
            "showbackground": true,
            "ticks": "",
            "zerolinecolor": "white"
           },
           "yaxis": {
            "backgroundcolor": "#E5ECF6",
            "gridcolor": "white",
            "gridwidth": 2,
            "linecolor": "white",
            "showbackground": true,
            "ticks": "",
            "zerolinecolor": "white"
           },
           "zaxis": {
            "backgroundcolor": "#E5ECF6",
            "gridcolor": "white",
            "gridwidth": 2,
            "linecolor": "white",
            "showbackground": true,
            "ticks": "",
            "zerolinecolor": "white"
           }
          },
          "shapedefaults": {
           "line": {
            "color": "#2a3f5f"
           }
          },
          "ternary": {
           "aaxis": {
            "gridcolor": "white",
            "linecolor": "white",
            "ticks": ""
           },
           "baxis": {
            "gridcolor": "white",
            "linecolor": "white",
            "ticks": ""
           },
           "bgcolor": "#E5ECF6",
           "caxis": {
            "gridcolor": "white",
            "linecolor": "white",
            "ticks": ""
           }
          },
          "title": {
           "x": 0.05
          },
          "xaxis": {
           "automargin": true,
           "gridcolor": "white",
           "linecolor": "white",
           "ticks": "",
           "title": {
            "standoff": 15
           },
           "zerolinecolor": "white",
           "zerolinewidth": 2
          },
          "yaxis": {
           "automargin": true,
           "gridcolor": "white",
           "linecolor": "white",
           "ticks": "",
           "title": {
            "standoff": 15
           },
           "zerolinecolor": "white",
           "zerolinewidth": 2
          }
         }
        },
        "title": {
         "text": "2D Scatter Plot"
        },
        "width": 1000,
        "yaxis": {
         "scaleanchor": "x",
         "scaleratio": 1
        }
       }
      }
     },
     "metadata": {},
     "output_type": "display_data"
    }
   ],
   "source": [
    "ms.visualize(dim=2)"
   ]
  },
  {
   "attachments": {},
   "cell_type": "markdown",
   "metadata": {},
   "source": [
    "### Spectral Clustering - Mincut"
   ]
  },
  {
   "cell_type": "code",
   "execution_count": null,
   "metadata": {},
   "outputs": [],
   "source": [
    "from sklearn.cluster import SpectralClustering\n",
    "from MARScore.utils import *\n",
    "import hdbscan"
   ]
  },
  {
   "cell_type": "code",
   "execution_count": null,
   "metadata": {},
   "outputs": [],
   "source": [
    "v = ms.vectors\n",
    "l = ms.labels"
   ]
  },
  {
   "cell_type": "code",
   "execution_count": null,
   "metadata": {},
   "outputs": [],
   "source": [
    "clusterer = SpectralClustering(affinity='nearest_neighbors')\n",
    "v_clustered = clusterer.fit(v[0])\n"
   ]
  },
  {
   "cell_type": "code",
   "execution_count": null,
   "metadata": {},
   "outputs": [],
   "source": [
    "v_clustered.labels_.astype(int)"
   ]
  },
  {
   "cell_type": "code",
   "execution_count": null,
   "metadata": {},
   "outputs": [],
   "source": [
    "clusterer.__module__"
   ]
  },
  {
   "cell_type": "code",
   "execution_count": null,
   "metadata": {},
   "outputs": [],
   "source": [
    "hdbscan.HDBSCAN().__module__"
   ]
  },
  {
   "attachments": {},
   "cell_type": "markdown",
   "metadata": {},
   "source": [
    "### Saving similarity Matrix"
   ]
  },
  {
   "cell_type": "code",
   "execution_count": null,
   "metadata": {},
   "outputs": [],
   "source": [
    "import csv\n",
    "\n",
    "def saveSimilarityMatrix(path, mat):\n",
    "    with open(path, 'w', newline='') as f:\n",
    "        write = csv.writer(f)\n",
    "        write.writerows(mat)"
   ]
  },
  {
   "cell_type": "code",
   "execution_count": null,
   "metadata": {},
   "outputs": [],
   "source": [
    "saveSimilarityMatrix(r\"C:\\Pro\\Stages\\A4 - DVRC\\Work\\Supervised-Learning-using-Unsupervised-Learning-Metrics-in-the-absence-of-Annotated-Data\\myLibraries\\MARScore_output\\SimMat\\simmat.csv\", ms.similarity_matrices[0])"
   ]
  }
 ],
 "metadata": {
  "kernelspec": {
   "display_name": ".venv",
   "language": "python",
   "name": "python3"
  },
  "language_info": {
   "codemirror_mode": {
    "name": "ipython",
    "version": 3
   },
   "file_extension": ".py",
   "mimetype": "text/x-python",
   "name": "python",
   "nbconvert_exporter": "python",
   "pygments_lexer": "ipython3",
   "version": "3.11.3"
  },
  "orig_nbformat": 4
 },
 "nbformat": 4,
 "nbformat_minor": 2
}

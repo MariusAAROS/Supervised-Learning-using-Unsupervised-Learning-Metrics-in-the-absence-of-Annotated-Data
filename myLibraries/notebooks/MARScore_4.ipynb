{
 "cells": [
  {
   "cell_type": "code",
   "execution_count": 1,
   "metadata": {},
   "outputs": [
    {
     "name": "stderr",
     "output_type": "stream",
     "text": [
      "c:\\Pro\\Stages\\A4 - DVRC\\Work\\Supervised-Learning-using-Unsupervised-Learning-Metrics-in-the-absence-of-Annotated-Data\\.venv\\Lib\\site-packages\\tqdm\\auto.py:21: TqdmWarning: IProgress not found. Please update jupyter and ipywidgets. See https://ipywidgets.readthedocs.io/en/stable/user_install.html\n",
      "  from .autonotebook import tqdm as notebook_tqdm\n",
      "c:\\Pro\\Stages\\A4 - DVRC\\Work\\Supervised-Learning-using-Unsupervised-Learning-Metrics-in-the-absence-of-Annotated-Data\\.venv\\Lib\\site-packages\\umap\\distances.py:1063: NumbaDeprecationWarning: \u001b[1mThe 'nopython' keyword argument was not supplied to the 'numba.jit' decorator. The implicit default value for this argument is currently False, but it will be changed to True in Numba 0.59.0. See https://numba.readthedocs.io/en/stable/reference/deprecation.html#deprecation-of-object-mode-fall-back-behaviour-when-using-jit for details.\u001b[0m\n",
      "  @numba.jit()\n",
      "c:\\Pro\\Stages\\A4 - DVRC\\Work\\Supervised-Learning-using-Unsupervised-Learning-Metrics-in-the-absence-of-Annotated-Data\\.venv\\Lib\\site-packages\\umap\\distances.py:1071: NumbaDeprecationWarning: \u001b[1mThe 'nopython' keyword argument was not supplied to the 'numba.jit' decorator. The implicit default value for this argument is currently False, but it will be changed to True in Numba 0.59.0. See https://numba.readthedocs.io/en/stable/reference/deprecation.html#deprecation-of-object-mode-fall-back-behaviour-when-using-jit for details.\u001b[0m\n",
      "  @numba.jit()\n",
      "c:\\Pro\\Stages\\A4 - DVRC\\Work\\Supervised-Learning-using-Unsupervised-Learning-Metrics-in-the-absence-of-Annotated-Data\\.venv\\Lib\\site-packages\\umap\\distances.py:1086: NumbaDeprecationWarning: \u001b[1mThe 'nopython' keyword argument was not supplied to the 'numba.jit' decorator. The implicit default value for this argument is currently False, but it will be changed to True in Numba 0.59.0. See https://numba.readthedocs.io/en/stable/reference/deprecation.html#deprecation-of-object-mode-fall-back-behaviour-when-using-jit for details.\u001b[0m\n",
      "  @numba.jit()\n",
      "c:\\Pro\\Stages\\A4 - DVRC\\Work\\Supervised-Learning-using-Unsupervised-Learning-Metrics-in-the-absence-of-Annotated-Data\\.venv\\Lib\\site-packages\\umap\\umap_.py:660: NumbaDeprecationWarning: \u001b[1mThe 'nopython' keyword argument was not supplied to the 'numba.jit' decorator. The implicit default value for this argument is currently False, but it will be changed to True in Numba 0.59.0. See https://numba.readthedocs.io/en/stable/reference/deprecation.html#deprecation-of-object-mode-fall-back-behaviour-when-using-jit for details.\u001b[0m\n",
      "  @numba.jit()\n",
      "Some weights of the model checkpoint at bert-base-uncased were not used when initializing BertModel: ['cls.predictions.transform.LayerNorm.bias', 'cls.predictions.transform.dense.bias', 'cls.predictions.bias', 'cls.predictions.transform.dense.weight', 'cls.predictions.transform.LayerNorm.weight', 'cls.seq_relationship.bias', 'cls.seq_relationship.weight', 'cls.predictions.decoder.weight']\n",
      "- This IS expected if you are initializing BertModel from the checkpoint of a model trained on another task or with another architecture (e.g. initializing a BertForSequenceClassification model from a BertForPreTraining model).\n",
      "- This IS NOT expected if you are initializing BertModel from the checkpoint of a model that you expect to be exactly identical (initializing a BertForSequenceClassification model from a BertForSequenceClassification model).\n"
     ]
    }
   ],
   "source": [
    "import pandas as pd\n",
    "import sys\n",
    "sys.path.append(r\"C:\\Pro\\Stages\\A4 - DVRC\\Work\\Supervised-Learning-using-Unsupervised-Learning-Metrics-in-the-absence-of-Annotated-Data\\myLibraries\")\n",
    "from MARScore.score import MARSCore\n",
    "from datasets_loaders.loaders import load_billsum"
   ]
  },
  {
   "cell_type": "code",
   "execution_count": 2,
   "metadata": {},
   "outputs": [],
   "source": [
    "dataset = load_billsum()\n",
    "subset = dataset.iloc[:2, :]"
   ]
  },
  {
   "cell_type": "code",
   "execution_count": 3,
   "metadata": {},
   "outputs": [],
   "source": [
    "ms = MARSCore(subset[\"text\"].to_list(), subset[\"summary\"].to_list())\n",
    "ms.compute()"
   ]
  },
  {
   "cell_type": "code",
   "execution_count": 4,
   "metadata": {},
   "outputs": [
    {
     "name": "stdout",
     "output_type": "stream",
     "text": [
      "Scores: \n",
      "   CBERT-R  CBERT-P  CBERT-F  BERTScore-R  BERTScore-P  BERTScore-F  BARTScore   R-1   R-2   R-L\n",
      "0     0.64     0.55     0.59         0.85         0.82         0.84       0.24  0.20  0.05  0.13\n",
      "1     0.78     0.78     0.78         0.86         0.85         0.85       0.34  0.65  0.30  0.40\n",
      "\n",
      "Correlations: \n",
      "               pearson_CBERT_R-1  pearson_CBERT_R-2  pearson_CBERT_R-L  pearson_BERT_R-1  pearson_BERT_R-2  pearson_BERT_R-l  pearson_BART_R-1  pearson_BART_R-2  pearson_BART_R-l\n",
      "Pearson score                1.0                1.0                1.0               1.0               1.0               1.0               1.0               1.0               1.0\n",
      "p-value                      1.0                1.0                1.0               1.0               1.0               1.0               1.0               1.0               1.0\n"
     ]
    }
   ],
   "source": [
    "_=ms.assess()"
   ]
  },
  {
   "cell_type": "code",
   "execution_count": 5,
   "metadata": {},
   "outputs": [
    {
     "name": "stdout",
     "output_type": "stream",
     "text": [
      "--------MARScore OBJECT--------\n",
      "\n",
      "Number of Documents : 2\n",
      "Corpus Avg Size     : 5946\n",
      "Refined Avg Size    : 971\n",
      "\n",
      "-------------------------------\n",
      "\n",
      "Corpus no.1 : 84.0%\n",
      "\u001b[92mSECTION 1\u001b[0m.\n",
      "\u001b[31mSHORT TITLE\u001b[0m.\n",
      "\u001b[31mThis Act may be cited as the National Science Education Tax Incentive for Businesses Act of 2007\u001b[0m.\n",
      "\u001b[31mSEC\u001b[0m.\n",
      "\u001b[31m2\u001b[0m.\n",
      "\u001b[31mCREDITS FOR CERTAIN CONTRIBUTIONS BENEFITING SCIENCE, TECHNOLOGY, ENGINEERING, AND MATHEMATICS EDUCATION AT THE ELEMENTARY AND SECONDARY SCHOOL LEVEL\u001b[0m.\n",
      "\u001b[31m(a) In General\u001b[0m.\n",
      "\u001b[31mSubpart D of part IV of subchapter A of chapter 1 of the Internal Revenue Code of 1986 (relating to business related credits) is amended by adding at the end the following new section: SEC\u001b[0m.\n",
      "\u001b[31m45O\u001b[0m.\n",
      "\u001b[31mCONTRIBUTIONS BENEFITING SCIENCE, TECHNOLOGY, ENGINEERING, AND MATHEMATICS EDUCATION AT THE ELEMENTARY AND SECONDARY SCHOOL LEVEL\u001b[0m.\n",
      "\u001b[31m(a) In General\u001b[0m.\n",
      "\u001b[92mFor purposes of section 38, the elementary and secondary science, technology, engineering, and mathematics (STEM) contributions credit determined under this section for the taxable year is an amount equal to 100 percent of the qualified STEM contributions of the taxpayer for such taxable year\u001b[0m.\n",
      "\u001b[92m(b) Qualified STEM Contributions\u001b[0m.\n",
      "\u001b[31mFor purposes of this section, the term `qualified STEM contributions' means (1) STEM school contributions, (2) STEM teacher externship expenses, and (3) STEM teacher training expenses\u001b[0m.\n",
      "\u001b[92m(c) STEM School Contributions\u001b[0m.\n",
      "\u001b[31mFor purposes of this section (1) In general\u001b[0m.\n",
      "\u001b[31mThe term `STEM school contributions' means (A) STEM property contributions, and (B) STEM service contributions\u001b[0m.\n",
      "\u001b[31m(2) STEM property contributions\u001b[0m.\n",
      "\u001b[31mThe term `STEM property contributions' means the amount which would (but for subsection (f)) be allowed as a deduction under section 170 for a charitable contribution of STEM inventory property if (A) the donee is an elementary or secondary school described in section 170(b)(1)(A)(ii), (B) substantially all of the use of the property by the donee is within the United States or within the defense dependents' education system for educational purposes in any of the grades K12 that are related to the purpose or function of the donee, (C) the original use of the property begins with the donee, (D) the property will fit productively into the donee's education plan, (E) the property is not transferred by the donee in exchange for money, other property, or services, except for shipping, installation and transfer costs, and (F) the donee's use and disposition of the property will be in accordance with the provisions of subparagraphs (B) and (E)\u001b[0m.\n",
      "\u001b[92mThe determination of the amount of deduction under section 170 for purposes of this paragraph shall be made as if the limitation under section 170(e)(3)(B) applied to all STEM inventory property\u001b[0m.\n",
      "\u001b[31m(3) STEM service contributions\u001b[0m.\n",
      "\u001b[31mThe term `STEM service contributions' means the amount paid or incurred during the taxable year for STEM services provided in the United States or in the defense dependents' education system for the exclusive benefit of students at an elementary or secondary school described in section 170(b)(1)(A)(ii) but only if (A) the taxpayer is engaged in the trade or business of providing such services on a commercial basis, and (B) no charge is imposed for providing such services\u001b[0m.\n",
      "\u001b[31m(4) STEM inventory property\u001b[0m.\n",
      "\u001b[31mThe term `STEM inventory property' means, with respect to any contribution to a school, any property (A) which is described in paragraph (1) or (2) of section 1221(a) with respect to the donor, and (B) which is determined by the school to be needed by the school in providing education in grades K12 in the areas of science, technology, engineering, or mathematics\u001b[0m.\n",
      "\u001b[31m(5) STEM services\u001b[0m.\n",
      "\u001b[92mThe term `STEM services' means, with respect to any contribution to a school, any service determined by the school to be needed by the school in providing education in grades K12 in the areas of science, technology, engineering, or mathematics, including teaching courses of instruction at such school in any such area\u001b[0m.\n",
      "\u001b[31m(6) Defense dependents' education system\u001b[0m.\n",
      "\u001b[31mFor purposes of this subsection, the term `defense dependents' education system' means the program established and operated under the Defense Dependents' Education Act of 1978 (20 U\u001b[0m.\n",
      "\u001b[31mS\u001b[0m.\n",
      "\u001b[31mC\u001b[0m.\n",
      "\u001b[31m921 et seq\u001b[0m.\n",
      "\u001b[31m)\u001b[0m.\n",
      "\u001b[31m(d) STEM Teacher Externship Expenses\u001b[0m.\n",
      "\u001b[31mFor purposes of this section (1) In general\u001b[0m.\n",
      "\u001b[31mThe term `STEM teacher externship expenses' means any amount paid or incurred to carry out a STEM externship program of the taxpayer but only to the extent that such amount is attributable to the participation in such program of any eligible STEM teacher, including amounts paid to such a teacher as a stipend while participating in such program\u001b[0m.\n",
      "\u001b[31m(2) STEM externship program\u001b[0m.\n",
      "\u001b[31mThe term `STEM externship program' means any program (A) established by a taxpayer engaged in a trade or business within an area of science, technology, engineering, or mathematics, and (B) under which eligible STEM teachers receive training to enhance their teaching skills in the areas of science, technology, engineering, or mathematics or otherwise improve their knowledge in such areas\u001b[0m.\n",
      "\u001b[31m(3) Eligible stem teacher\u001b[0m.\n",
      "\u001b[31mThe term `eligible STEM teacher' means any individual (A) who is a teacher in grades K12 at an educational organization described in section 170(b)(1)(A)(ii) which is located in the United States or which is located on a United States military base outside the United States, and (B) whose teaching responsibilities at such school include, or are likely to include, any course in the areas of science, technology, engineering, or mathematics\u001b[0m.\n",
      "\u001b[31m(e) STEM Teacher Training Expenses\u001b[0m.\n",
      "\u001b[31mThe term `STEM teacher training expenses' means any amount paid or incurred by a taxpayer engaged in a trade or business within an area of science, technology, engineering, or mathematics which is attributable to the participation of any eligible STEM teacher in a regular training program provided to employees of the taxpayer which is determined by such teacher's school as enhancing such teacher's teaching skills in the areas of science, technology, engineering, or mathematics\u001b[0m.\n",
      "\u001b[31m(f) Denial of Double Benefit\u001b[0m.\n",
      "\u001b[31mNo deduction shall be allowed under this chapter for any amount allowed as a credit under this section\u001b[0m.\n",
      "\u001b[31m(b) Conforming Amendments\u001b[0m.\n",
      "\u001b[31m(1) Section 38(b) of such Code is amended by striking plus at the end of paragraph (30), by striking the period at the end of paragraph (31), and inserting , plus, and by adding at the end the following new paragraph: (32) the elementary and secondary science, technology, engineering, and mathematics (STEM) contributions credit determined under section 45O\u001b[0m.\n",
      "\u001b[31m(2) The table of sections for subpart D of part IV of subchapter A of chapter 1 of such Code is amended by adding at the end the following new item: Sec\u001b[0m.\n",
      "\u001b[31m45O\u001b[0m.\n",
      "\u001b[31mContributions benefiting science, technology, engineering, and mathematics education at the elementary and secondary school level\u001b[0m.\n",
      "\u001b[31m(c) Effective Date\u001b[0m.\n",
      "\u001b[31mThe amendments made by this section shall apply to taxable years beginning after the date of the enactment of this Act\u001b[0m.\n",
      "\n",
      "-------------------------------\n"
     ]
    }
   ],
   "source": [
    "print(ms)"
   ]
  },
  {
   "attachments": {},
   "cell_type": "markdown",
   "metadata": {},
   "source": [
    "### Spectral Clustering - Mincut"
   ]
  },
  {
   "cell_type": "code",
   "execution_count": null,
   "metadata": {},
   "outputs": [],
   "source": [
    "from sklearn.cluster import SpectralClustering"
   ]
  }
 ],
 "metadata": {
  "kernelspec": {
   "display_name": ".venv",
   "language": "python",
   "name": "python3"
  },
  "language_info": {
   "codemirror_mode": {
    "name": "ipython",
    "version": 3
   },
   "file_extension": ".py",
   "mimetype": "text/x-python",
   "name": "python",
   "nbconvert_exporter": "python",
   "pygments_lexer": "ipython3",
   "version": "3.11.3"
  },
  "orig_nbformat": 4
 },
 "nbformat": 4,
 "nbformat_minor": 2
}

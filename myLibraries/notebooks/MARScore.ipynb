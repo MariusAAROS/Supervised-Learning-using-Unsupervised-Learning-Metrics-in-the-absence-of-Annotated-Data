{
 "cells": [
  {
   "attachments": {},
   "cell_type": "markdown",
   "metadata": {},
   "source": [
    "### Experimenting with BERTScore"
   ]
  },
  {
   "cell_type": "code",
   "execution_count": 10,
   "metadata": {},
   "outputs": [],
   "source": [
    "import sys\n",
    "sys.path.append(r\"D:\\COURS\\A4\\S8 - ESILV\\Stage\\Work\\Repositories\\bert_score\")\n",
    "\n",
    "from bert_score.score import score as bscore"
   ]
  },
  {
   "cell_type": "code",
   "execution_count": 11,
   "metadata": {},
   "outputs": [
    {
     "name": "stderr",
     "output_type": "stream",
     "text": [
      "Some weights of the model checkpoint at roberta-large were not used when initializing RobertaModel: ['lm_head.decoder.weight', 'lm_head.dense.weight', 'lm_head.layer_norm.weight', 'lm_head.dense.bias', 'lm_head.layer_norm.bias', 'lm_head.bias']\n",
      "- This IS expected if you are initializing RobertaModel from the checkpoint of a model trained on another task or with another architecture (e.g. initializing a BertForSequenceClassification model from a BertForPreTraining model).\n",
      "- This IS NOT expected if you are initializing RobertaModel from the checkpoint of a model that you expect to be exactly identical (initializing a BertForSequenceClassification model from a BertForSequenceClassification model).\n"
     ]
    }
   ],
   "source": [
    "o = bscore([\"I am Marius\"], [\"My name is marius\"], lang=\"en\")"
   ]
  },
  {
   "attachments": {},
   "cell_type": "markdown",
   "metadata": {},
   "source": [
    "### Experimenting with Roberta tokenizer"
   ]
  },
  {
   "cell_type": "code",
   "execution_count": 1,
   "metadata": {},
   "outputs": [
    {
     "name": "stderr",
     "output_type": "stream",
     "text": [
      "d:\\COURS\\A4\\S8 - ESILV\\Stage\\Work\\Supervised-Learning-using-Unsupervised-Learning-Metrics-in-the-absence-of-Annotated-Data\\.venv\\Lib\\site-packages\\tqdm\\auto.py:21: TqdmWarning: IProgress not found. Please update jupyter and ipywidgets. See https://ipywidgets.readthedocs.io/en/stable/user_install.html\n",
      "  from .autonotebook import tqdm as notebook_tqdm\n"
     ]
    }
   ],
   "source": [
    "from transformers import RobertaTokenizer"
   ]
  },
  {
   "cell_type": "code",
   "execution_count": 2,
   "metadata": {},
   "outputs": [],
   "source": [
    "tokenizer = RobertaTokenizer.from_pretrained(\"roberta-base\")\n",
    "test = tokenizer(\"I am Marius\")"
   ]
  },
  {
   "cell_type": "code",
   "execution_count": 3,
   "metadata": {},
   "outputs": [],
   "source": [
    "out = tokenizer(\"I am Marius\")"
   ]
  },
  {
   "cell_type": "code",
   "execution_count": 20,
   "metadata": {},
   "outputs": [
    {
     "data": {
      "text/plain": [
       "{'input_ids': [0, 100, 524, 1127, 6125, 2], 'attention_mask': [1, 1, 1, 1, 1, 1]}"
      ]
     },
     "execution_count": 20,
     "metadata": {},
     "output_type": "execute_result"
    }
   ],
   "source": [
    "out"
   ]
  },
  {
   "cell_type": "code",
   "execution_count": 21,
   "metadata": {},
   "outputs": [
    {
     "data": {
      "text/plain": [
       "[0, 100, 524, 1127, 6125, 2]"
      ]
     },
     "execution_count": 21,
     "metadata": {},
     "output_type": "execute_result"
    }
   ],
   "source": [
    "test.input_ids"
   ]
  },
  {
   "attachments": {},
   "cell_type": "markdown",
   "metadata": {},
   "source": [
    "### Experimenting with AutoModel class"
   ]
  },
  {
   "cell_type": "code",
   "execution_count": 4,
   "metadata": {},
   "outputs": [],
   "source": [
    "from transformers import AutoModel\n",
    "from transformers import RobertaTokenizer"
   ]
  },
  {
   "cell_type": "code",
   "execution_count": 5,
   "metadata": {},
   "outputs": [
    {
     "name": "stderr",
     "output_type": "stream",
     "text": [
      "Some weights of the model checkpoint at roberta-large were not used when initializing RobertaModel: ['lm_head.decoder.weight', 'lm_head.dense.weight', 'lm_head.layer_norm.weight', 'lm_head.dense.bias', 'lm_head.layer_norm.bias', 'lm_head.bias']\n",
      "- This IS expected if you are initializing RobertaModel from the checkpoint of a model trained on another task or with another architecture (e.g. initializing a BertForSequenceClassification model from a BertForPreTraining model).\n",
      "- This IS NOT expected if you are initializing RobertaModel from the checkpoint of a model that you expect to be exactly identical (initializing a BertForSequenceClassification model from a BertForSequenceClassification model).\n"
     ]
    }
   ],
   "source": [
    "model = AutoModel.from_pretrained(\"roberta-large\")\n",
    "tokenizer = RobertaTokenizer.from_pretrained(\"roberta-large\")"
   ]
  },
  {
   "cell_type": "code",
   "execution_count": 6,
   "metadata": {},
   "outputs": [],
   "source": [
    "sentence = \"I am Marius\"\n",
    "tokens = tokenizer(sentence)\n",
    "token_ids = tokens[\"input_ids\"]\n",
    "masks = tokens[\"attention_mask\"]"
   ]
  },
  {
   "cell_type": "code",
   "execution_count": 8,
   "metadata": {},
   "outputs": [
    {
     "data": {
      "text/plain": [
       "list"
      ]
     },
     "execution_count": 8,
     "metadata": {},
     "output_type": "execute_result"
    }
   ],
   "source": [
    "type(masks)"
   ]
  },
  {
   "cell_type": "code",
   "execution_count": null,
   "metadata": {},
   "outputs": [],
   "source": [
    "out = model(token_ids, attention_mask=masks, output_hidden_states=True)"
   ]
  },
  {
   "attachments": {},
   "cell_type": "markdown",
   "metadata": {},
   "source": [
    "### BERT Embedding - Discovery"
   ]
  },
  {
   "cell_type": "code",
   "execution_count": 34,
   "metadata": {},
   "outputs": [
    {
     "name": "stderr",
     "output_type": "stream",
     "text": [
      "Some weights of the model checkpoint at bert-base-uncased were not used when initializing BertModel: ['cls.predictions.decoder.weight', 'cls.predictions.transform.LayerNorm.bias', 'cls.predictions.bias', 'cls.seq_relationship.weight', 'cls.predictions.transform.dense.weight', 'cls.predictions.transform.LayerNorm.weight', 'cls.seq_relationship.bias', 'cls.predictions.transform.dense.bias']\n",
      "- This IS expected if you are initializing BertModel from the checkpoint of a model trained on another task or with another architecture (e.g. initializing a BertForSequenceClassification model from a BertForPreTraining model).\n",
      "- This IS NOT expected if you are initializing BertModel from the checkpoint of a model that you expect to be exactly identical (initializing a BertForSequenceClassification model from a BertForSequenceClassification model).\n"
     ]
    },
    {
     "data": {
      "text/plain": [
       "BertModel(\n",
       "  (embeddings): BertEmbeddings(\n",
       "    (word_embeddings): Embedding(30522, 768, padding_idx=0)\n",
       "    (position_embeddings): Embedding(512, 768)\n",
       "    (token_type_embeddings): Embedding(2, 768)\n",
       "    (LayerNorm): LayerNorm((768,), eps=1e-12, elementwise_affine=True)\n",
       "    (dropout): Dropout(p=0.1, inplace=False)\n",
       "  )\n",
       "  (encoder): BertEncoder(\n",
       "    (layer): ModuleList(\n",
       "      (0-11): 12 x BertLayer(\n",
       "        (attention): BertAttention(\n",
       "          (self): BertSelfAttention(\n",
       "            (query): Linear(in_features=768, out_features=768, bias=True)\n",
       "            (key): Linear(in_features=768, out_features=768, bias=True)\n",
       "            (value): Linear(in_features=768, out_features=768, bias=True)\n",
       "            (dropout): Dropout(p=0.1, inplace=False)\n",
       "          )\n",
       "          (output): BertSelfOutput(\n",
       "            (dense): Linear(in_features=768, out_features=768, bias=True)\n",
       "            (LayerNorm): LayerNorm((768,), eps=1e-12, elementwise_affine=True)\n",
       "            (dropout): Dropout(p=0.1, inplace=False)\n",
       "          )\n",
       "        )\n",
       "        (intermediate): BertIntermediate(\n",
       "          (dense): Linear(in_features=768, out_features=3072, bias=True)\n",
       "          (intermediate_act_fn): GELUActivation()\n",
       "        )\n",
       "        (output): BertOutput(\n",
       "          (dense): Linear(in_features=3072, out_features=768, bias=True)\n",
       "          (LayerNorm): LayerNorm((768,), eps=1e-12, elementwise_affine=True)\n",
       "          (dropout): Dropout(p=0.1, inplace=False)\n",
       "        )\n",
       "      )\n",
       "    )\n",
       "  )\n",
       "  (pooler): BertPooler(\n",
       "    (dense): Linear(in_features=768, out_features=768, bias=True)\n",
       "    (activation): Tanh()\n",
       "  )\n",
       ")"
      ]
     },
     "execution_count": 34,
     "metadata": {},
     "output_type": "execute_result"
    }
   ],
   "source": [
    "from transformers import BertTokenizer, BertModel\n",
    "import torch\n",
    "import numpy as np\n",
    "\n",
    "model = BertModel.from_pretrained('bert-base-uncased',\n",
    "                                  output_hidden_states=True)\n",
    "model.eval()"
   ]
  },
  {
   "cell_type": "code",
   "execution_count": 15,
   "metadata": {},
   "outputs": [
    {
     "name": "stdout",
     "output_type": "stream",
     "text": [
      "['[CLS]', 'my', 'name', 'is', 'marius', '.', '[SEP]']\n"
     ]
    }
   ],
   "source": [
    "tokenizer = BertTokenizer.from_pretrained('bert-base-uncased')\n",
    "text = \"My name is Marius.\"\n",
    "marked_text = \"[CLS]\"+text+\"[SEP]\"\n",
    "tokenized_text = tokenizer.tokenize(marked_text)\n",
    "print(tokenized_text)"
   ]
  },
  {
   "cell_type": "code",
   "execution_count": 16,
   "metadata": {},
   "outputs": [
    {
     "name": "stdout",
     "output_type": "stream",
     "text": [
      "[CLS]          101\n",
      "my           2,026\n",
      "name         2,171\n",
      "is           2,003\n",
      "marius      20,032\n",
      ".            1,012\n",
      "[SEP]          102\n"
     ]
    }
   ],
   "source": [
    "indexed_tokens = tokenizer.convert_tokens_to_ids(tokenized_text)\n",
    "for tup in zip(tokenized_text, indexed_tokens):\n",
    "    print('{:<12}{:>6,}'.format(tup[0], tup[1]))"
   ]
  },
  {
   "cell_type": "code",
   "execution_count": 17,
   "metadata": {},
   "outputs": [
    {
     "name": "stdout",
     "output_type": "stream",
     "text": [
      "[1, 1, 1, 1, 1, 1, 1]\n"
     ]
    }
   ],
   "source": [
    "#mark tokenks as belonging to sentence 1.\n",
    "segment_ids = [1]*len(tokenized_text)\n",
    "print(segment_ids)"
   ]
  },
  {
   "cell_type": "code",
   "execution_count": 18,
   "metadata": {},
   "outputs": [
    {
     "name": "stdout",
     "output_type": "stream",
     "text": [
      "tensor([[  101,  2026,  2171,  2003, 20032,  1012,   102]])\n",
      "tensor([[1, 1, 1, 1, 1, 1, 1]])\n"
     ]
    }
   ],
   "source": [
    "tokens_tensor = torch.tensor([indexed_tokens])\n",
    "segments_tensor = torch.tensor([segment_ids])\n",
    "print(tokens_tensor)\n",
    "print(segments_tensor)"
   ]
  },
  {
   "cell_type": "code",
   "execution_count": 21,
   "metadata": {},
   "outputs": [
    {
     "data": {
      "text/plain": [
       "odict_keys(['last_hidden_state', 'pooler_output', 'hidden_states'])"
      ]
     },
     "execution_count": 21,
     "metadata": {},
     "output_type": "execute_result"
    }
   ],
   "source": [
    "with torch.no_grad():\n",
    "    outputs = model(tokens_tensor, segments_tensor)\n",
    "outputs.keys()"
   ]
  },
  {
   "cell_type": "code",
   "execution_count": 27,
   "metadata": {},
   "outputs": [
    {
     "data": {
      "text/plain": [
       "13"
      ]
     },
     "execution_count": 27,
     "metadata": {},
     "output_type": "execute_result"
    }
   ],
   "source": [
    "bert_hidden_states = outputs[-1]\n",
    "len(bert_hidden_states)"
   ]
  },
  {
   "cell_type": "code",
   "execution_count": 31,
   "metadata": {},
   "outputs": [
    {
     "data": {
      "text/plain": [
       "torch.Size([13, 1, 7, 768])"
      ]
     },
     "execution_count": 31,
     "metadata": {},
     "output_type": "execute_result"
    }
   ],
   "source": [
    "token_embeddings = torch.stack(bert_hidden_states, dim=0)\n",
    "token_embeddings.size()"
   ]
  },
  {
   "cell_type": "code",
   "execution_count": 32,
   "metadata": {},
   "outputs": [
    {
     "data": {
      "text/plain": [
       "torch.Size([13, 7, 768])"
      ]
     },
     "execution_count": 32,
     "metadata": {},
     "output_type": "execute_result"
    }
   ],
   "source": [
    "#here we have 1 sentence so we remove the batch size\n",
    "token_embeddings = torch.squeeze(token_embeddings, dim=1)\n",
    "token_embeddings.size()"
   ]
  },
  {
   "cell_type": "code",
   "execution_count": 33,
   "metadata": {},
   "outputs": [
    {
     "data": {
      "text/plain": [
       "torch.Size([7, 13, 768])"
      ]
     },
     "execution_count": 33,
     "metadata": {},
     "output_type": "execute_result"
    }
   ],
   "source": [
    "#swap dim 0 and 1\n",
    "token_embeddings = token_embeddings.permute(1, 0, 2)\n",
    "token_embeddings.size()"
   ]
  },
  {
   "attachments": {},
   "cell_type": "markdown",
   "metadata": {},
   "source": [
    "#### Word Vectors"
   ]
  },
  {
   "cell_type": "code",
   "execution_count": 47,
   "metadata": {},
   "outputs": [
    {
     "name": "stdout",
     "output_type": "stream",
     "text": [
      "Shape: 7 x 3072\n"
     ]
    }
   ],
   "source": [
    "#concatenate layers\n",
    "token_vec_cat = []\n",
    "for token in token_embeddings:\n",
    "    cat_vec = torch.cat((token[-1], token[-2], token[-3], token[-4]), dim=0)\n",
    "    token_vec_cat.append(cat_vec)\n",
    "print(\"Shape:\", len(token_vec_cat),\"x\", len(token_vec_cat[0]))"
   ]
  },
  {
   "cell_type": "code",
   "execution_count": 59,
   "metadata": {},
   "outputs": [
    {
     "name": "stdout",
     "output_type": "stream",
     "text": [
      "0\n",
      "3072\n",
      "1\n",
      "3072\n",
      "2\n",
      "3072\n",
      "3\n",
      "3072\n",
      "4\n",
      "3072\n",
      "5\n",
      "3072\n",
      "6\n",
      "3072\n"
     ]
    }
   ],
   "source": [
    "for i in range(len(token_vec_cat)):\n",
    "    if len(token_vec_cat[i] != 3072):\n",
    "        print(i)\n",
    "        print(len(token_vec_cat[i]))"
   ]
  },
  {
   "cell_type": "code",
   "execution_count": 78,
   "metadata": {},
   "outputs": [],
   "source": [
    "test = [token.tolist() for token in token_vec_cat]\n",
    "test = np.array(test)"
   ]
  },
  {
   "cell_type": "code",
   "execution_count": 79,
   "metadata": {},
   "outputs": [
    {
     "data": {
      "text/plain": [
       "(7, 3072)"
      ]
     },
     "execution_count": 79,
     "metadata": {},
     "output_type": "execute_result"
    }
   ],
   "source": [
    "test.shape"
   ]
  },
  {
   "cell_type": "code",
   "execution_count": 48,
   "metadata": {},
   "outputs": [
    {
     "name": "stdout",
     "output_type": "stream",
     "text": [
      "Shape: 7 x 768\n"
     ]
    }
   ],
   "source": [
    "#sum layers\n",
    "token_vec_sum = []\n",
    "for token in token_embeddings:\n",
    "    cat_vec = torch.sum(token[-4:], dim=0)\n",
    "    token_vec_sum.append(cat_vec)\n",
    "print(\"Shape:\", len(token_vec_sum),\"x\", len(token_vec_sum[0]))"
   ]
  },
  {
   "attachments": {},
   "cell_type": "markdown",
   "metadata": {},
   "source": [
    "#### Sentence Vectors"
   ]
  },
  {
   "cell_type": "code",
   "execution_count": 51,
   "metadata": {},
   "outputs": [
    {
     "data": {
      "text/plain": [
       "torch.Size([768])"
      ]
     },
     "execution_count": 51,
     "metadata": {},
     "output_type": "execute_result"
    }
   ],
   "source": [
    "token_vecs = bert_hidden_states[-2][0]\n",
    "sentence_embedding = torch.mean(token_vecs, dim=0)\n",
    "sentence_embedding.size()"
   ]
  },
  {
   "attachments": {},
   "cell_type": "markdown",
   "metadata": {},
   "source": [
    "### Vector Visualization"
   ]
  },
  {
   "cell_type": "code",
   "execution_count": 82,
   "metadata": {},
   "outputs": [],
   "source": [
    "from umap import UMAP\n",
    "import plotly.express as px"
   ]
  },
  {
   "cell_type": "code",
   "execution_count": 80,
   "metadata": {},
   "outputs": [
    {
     "name": "stderr",
     "output_type": "stream",
     "text": [
      "d:\\COURS\\A4\\S8 - ESILV\\Stage\\Work\\Supervised-Learning-using-Unsupervised-Learning-Metrics-in-the-absence-of-Annotated-Data\\.venv\\Lib\\site-packages\\umap\\umap_.py:2344: UserWarning: n_neighbors is larger than the dataset size; truncating to X.shape[0] - 1\n",
      "  warn(\n"
     ]
    }
   ],
   "source": [
    "umap3D = UMAP(n_components=3, init='random', random_state=0)\n",
    "proj3D = umap3D.fit_transform(test)"
   ]
  },
  {
   "cell_type": "code",
   "execution_count": 85,
   "metadata": {},
   "outputs": [
    {
     "data": {
      "application/vnd.plotly.v1+json": {
       "config": {
        "plotlyServerURL": "https://plot.ly"
       },
       "data": [
        {
         "hovertemplate": "0=%{x}<br>1=%{y}<br>2=%{z}<extra></extra>",
         "legendgroup": "",
         "marker": {
          "color": "#636efa",
          "symbol": "circle"
         },
         "mode": "markers",
         "name": "",
         "scene": "scene",
         "showlegend": false,
         "type": "scatter3d",
         "x": [
          -14.382111549377441,
          -13.482431411743164,
          -13.616006851196289,
          -13.816569328308105,
          -14.84157657623291,
          -14.942224502563477,
          -14.374594688415527
         ],
         "y": [
          24.415237426757812,
          24.406505584716797,
          23.54535675048828,
          24.07982635498047,
          24.99071502685547,
          24.25547981262207,
          25.099777221679688
         ],
         "z": [
          15.910723686218262,
          16.352338790893555,
          16.82695198059082,
          17.403045654296875,
          17.326881408691406,
          16.687265396118164,
          16.677001953125
         ]
        }
       ],
       "layout": {
        "legend": {
         "tracegroupgap": 0
        },
        "margin": {
         "t": 60
        },
        "scene": {
         "domain": {
          "x": [
           0,
           1
          ],
          "y": [
           0,
           1
          ]
         },
         "xaxis": {
          "title": {
           "text": "0"
          }
         },
         "yaxis": {
          "title": {
           "text": "1"
          }
         },
         "zaxis": {
          "title": {
           "text": "2"
          }
         }
        },
        "template": {
         "data": {
          "bar": [
           {
            "error_x": {
             "color": "#2a3f5f"
            },
            "error_y": {
             "color": "#2a3f5f"
            },
            "marker": {
             "line": {
              "color": "#E5ECF6",
              "width": 0.5
             },
             "pattern": {
              "fillmode": "overlay",
              "size": 10,
              "solidity": 0.2
             }
            },
            "type": "bar"
           }
          ],
          "barpolar": [
           {
            "marker": {
             "line": {
              "color": "#E5ECF6",
              "width": 0.5
             },
             "pattern": {
              "fillmode": "overlay",
              "size": 10,
              "solidity": 0.2
             }
            },
            "type": "barpolar"
           }
          ],
          "carpet": [
           {
            "aaxis": {
             "endlinecolor": "#2a3f5f",
             "gridcolor": "white",
             "linecolor": "white",
             "minorgridcolor": "white",
             "startlinecolor": "#2a3f5f"
            },
            "baxis": {
             "endlinecolor": "#2a3f5f",
             "gridcolor": "white",
             "linecolor": "white",
             "minorgridcolor": "white",
             "startlinecolor": "#2a3f5f"
            },
            "type": "carpet"
           }
          ],
          "choropleth": [
           {
            "colorbar": {
             "outlinewidth": 0,
             "ticks": ""
            },
            "type": "choropleth"
           }
          ],
          "contour": [
           {
            "colorbar": {
             "outlinewidth": 0,
             "ticks": ""
            },
            "colorscale": [
             [
              0,
              "#0d0887"
             ],
             [
              0.1111111111111111,
              "#46039f"
             ],
             [
              0.2222222222222222,
              "#7201a8"
             ],
             [
              0.3333333333333333,
              "#9c179e"
             ],
             [
              0.4444444444444444,
              "#bd3786"
             ],
             [
              0.5555555555555556,
              "#d8576b"
             ],
             [
              0.6666666666666666,
              "#ed7953"
             ],
             [
              0.7777777777777778,
              "#fb9f3a"
             ],
             [
              0.8888888888888888,
              "#fdca26"
             ],
             [
              1,
              "#f0f921"
             ]
            ],
            "type": "contour"
           }
          ],
          "contourcarpet": [
           {
            "colorbar": {
             "outlinewidth": 0,
             "ticks": ""
            },
            "type": "contourcarpet"
           }
          ],
          "heatmap": [
           {
            "colorbar": {
             "outlinewidth": 0,
             "ticks": ""
            },
            "colorscale": [
             [
              0,
              "#0d0887"
             ],
             [
              0.1111111111111111,
              "#46039f"
             ],
             [
              0.2222222222222222,
              "#7201a8"
             ],
             [
              0.3333333333333333,
              "#9c179e"
             ],
             [
              0.4444444444444444,
              "#bd3786"
             ],
             [
              0.5555555555555556,
              "#d8576b"
             ],
             [
              0.6666666666666666,
              "#ed7953"
             ],
             [
              0.7777777777777778,
              "#fb9f3a"
             ],
             [
              0.8888888888888888,
              "#fdca26"
             ],
             [
              1,
              "#f0f921"
             ]
            ],
            "type": "heatmap"
           }
          ],
          "heatmapgl": [
           {
            "colorbar": {
             "outlinewidth": 0,
             "ticks": ""
            },
            "colorscale": [
             [
              0,
              "#0d0887"
             ],
             [
              0.1111111111111111,
              "#46039f"
             ],
             [
              0.2222222222222222,
              "#7201a8"
             ],
             [
              0.3333333333333333,
              "#9c179e"
             ],
             [
              0.4444444444444444,
              "#bd3786"
             ],
             [
              0.5555555555555556,
              "#d8576b"
             ],
             [
              0.6666666666666666,
              "#ed7953"
             ],
             [
              0.7777777777777778,
              "#fb9f3a"
             ],
             [
              0.8888888888888888,
              "#fdca26"
             ],
             [
              1,
              "#f0f921"
             ]
            ],
            "type": "heatmapgl"
           }
          ],
          "histogram": [
           {
            "marker": {
             "pattern": {
              "fillmode": "overlay",
              "size": 10,
              "solidity": 0.2
             }
            },
            "type": "histogram"
           }
          ],
          "histogram2d": [
           {
            "colorbar": {
             "outlinewidth": 0,
             "ticks": ""
            },
            "colorscale": [
             [
              0,
              "#0d0887"
             ],
             [
              0.1111111111111111,
              "#46039f"
             ],
             [
              0.2222222222222222,
              "#7201a8"
             ],
             [
              0.3333333333333333,
              "#9c179e"
             ],
             [
              0.4444444444444444,
              "#bd3786"
             ],
             [
              0.5555555555555556,
              "#d8576b"
             ],
             [
              0.6666666666666666,
              "#ed7953"
             ],
             [
              0.7777777777777778,
              "#fb9f3a"
             ],
             [
              0.8888888888888888,
              "#fdca26"
             ],
             [
              1,
              "#f0f921"
             ]
            ],
            "type": "histogram2d"
           }
          ],
          "histogram2dcontour": [
           {
            "colorbar": {
             "outlinewidth": 0,
             "ticks": ""
            },
            "colorscale": [
             [
              0,
              "#0d0887"
             ],
             [
              0.1111111111111111,
              "#46039f"
             ],
             [
              0.2222222222222222,
              "#7201a8"
             ],
             [
              0.3333333333333333,
              "#9c179e"
             ],
             [
              0.4444444444444444,
              "#bd3786"
             ],
             [
              0.5555555555555556,
              "#d8576b"
             ],
             [
              0.6666666666666666,
              "#ed7953"
             ],
             [
              0.7777777777777778,
              "#fb9f3a"
             ],
             [
              0.8888888888888888,
              "#fdca26"
             ],
             [
              1,
              "#f0f921"
             ]
            ],
            "type": "histogram2dcontour"
           }
          ],
          "mesh3d": [
           {
            "colorbar": {
             "outlinewidth": 0,
             "ticks": ""
            },
            "type": "mesh3d"
           }
          ],
          "parcoords": [
           {
            "line": {
             "colorbar": {
              "outlinewidth": 0,
              "ticks": ""
             }
            },
            "type": "parcoords"
           }
          ],
          "pie": [
           {
            "automargin": true,
            "type": "pie"
           }
          ],
          "scatter": [
           {
            "fillpattern": {
             "fillmode": "overlay",
             "size": 10,
             "solidity": 0.2
            },
            "type": "scatter"
           }
          ],
          "scatter3d": [
           {
            "line": {
             "colorbar": {
              "outlinewidth": 0,
              "ticks": ""
             }
            },
            "marker": {
             "colorbar": {
              "outlinewidth": 0,
              "ticks": ""
             }
            },
            "type": "scatter3d"
           }
          ],
          "scattercarpet": [
           {
            "marker": {
             "colorbar": {
              "outlinewidth": 0,
              "ticks": ""
             }
            },
            "type": "scattercarpet"
           }
          ],
          "scattergeo": [
           {
            "marker": {
             "colorbar": {
              "outlinewidth": 0,
              "ticks": ""
             }
            },
            "type": "scattergeo"
           }
          ],
          "scattergl": [
           {
            "marker": {
             "colorbar": {
              "outlinewidth": 0,
              "ticks": ""
             }
            },
            "type": "scattergl"
           }
          ],
          "scattermapbox": [
           {
            "marker": {
             "colorbar": {
              "outlinewidth": 0,
              "ticks": ""
             }
            },
            "type": "scattermapbox"
           }
          ],
          "scatterpolar": [
           {
            "marker": {
             "colorbar": {
              "outlinewidth": 0,
              "ticks": ""
             }
            },
            "type": "scatterpolar"
           }
          ],
          "scatterpolargl": [
           {
            "marker": {
             "colorbar": {
              "outlinewidth": 0,
              "ticks": ""
             }
            },
            "type": "scatterpolargl"
           }
          ],
          "scatterternary": [
           {
            "marker": {
             "colorbar": {
              "outlinewidth": 0,
              "ticks": ""
             }
            },
            "type": "scatterternary"
           }
          ],
          "surface": [
           {
            "colorbar": {
             "outlinewidth": 0,
             "ticks": ""
            },
            "colorscale": [
             [
              0,
              "#0d0887"
             ],
             [
              0.1111111111111111,
              "#46039f"
             ],
             [
              0.2222222222222222,
              "#7201a8"
             ],
             [
              0.3333333333333333,
              "#9c179e"
             ],
             [
              0.4444444444444444,
              "#bd3786"
             ],
             [
              0.5555555555555556,
              "#d8576b"
             ],
             [
              0.6666666666666666,
              "#ed7953"
             ],
             [
              0.7777777777777778,
              "#fb9f3a"
             ],
             [
              0.8888888888888888,
              "#fdca26"
             ],
             [
              1,
              "#f0f921"
             ]
            ],
            "type": "surface"
           }
          ],
          "table": [
           {
            "cells": {
             "fill": {
              "color": "#EBF0F8"
             },
             "line": {
              "color": "white"
             }
            },
            "header": {
             "fill": {
              "color": "#C8D4E3"
             },
             "line": {
              "color": "white"
             }
            },
            "type": "table"
           }
          ]
         },
         "layout": {
          "annotationdefaults": {
           "arrowcolor": "#2a3f5f",
           "arrowhead": 0,
           "arrowwidth": 1
          },
          "autotypenumbers": "strict",
          "coloraxis": {
           "colorbar": {
            "outlinewidth": 0,
            "ticks": ""
           }
          },
          "colorscale": {
           "diverging": [
            [
             0,
             "#8e0152"
            ],
            [
             0.1,
             "#c51b7d"
            ],
            [
             0.2,
             "#de77ae"
            ],
            [
             0.3,
             "#f1b6da"
            ],
            [
             0.4,
             "#fde0ef"
            ],
            [
             0.5,
             "#f7f7f7"
            ],
            [
             0.6,
             "#e6f5d0"
            ],
            [
             0.7,
             "#b8e186"
            ],
            [
             0.8,
             "#7fbc41"
            ],
            [
             0.9,
             "#4d9221"
            ],
            [
             1,
             "#276419"
            ]
           ],
           "sequential": [
            [
             0,
             "#0d0887"
            ],
            [
             0.1111111111111111,
             "#46039f"
            ],
            [
             0.2222222222222222,
             "#7201a8"
            ],
            [
             0.3333333333333333,
             "#9c179e"
            ],
            [
             0.4444444444444444,
             "#bd3786"
            ],
            [
             0.5555555555555556,
             "#d8576b"
            ],
            [
             0.6666666666666666,
             "#ed7953"
            ],
            [
             0.7777777777777778,
             "#fb9f3a"
            ],
            [
             0.8888888888888888,
             "#fdca26"
            ],
            [
             1,
             "#f0f921"
            ]
           ],
           "sequentialminus": [
            [
             0,
             "#0d0887"
            ],
            [
             0.1111111111111111,
             "#46039f"
            ],
            [
             0.2222222222222222,
             "#7201a8"
            ],
            [
             0.3333333333333333,
             "#9c179e"
            ],
            [
             0.4444444444444444,
             "#bd3786"
            ],
            [
             0.5555555555555556,
             "#d8576b"
            ],
            [
             0.6666666666666666,
             "#ed7953"
            ],
            [
             0.7777777777777778,
             "#fb9f3a"
            ],
            [
             0.8888888888888888,
             "#fdca26"
            ],
            [
             1,
             "#f0f921"
            ]
           ]
          },
          "colorway": [
           "#636efa",
           "#EF553B",
           "#00cc96",
           "#ab63fa",
           "#FFA15A",
           "#19d3f3",
           "#FF6692",
           "#B6E880",
           "#FF97FF",
           "#FECB52"
          ],
          "font": {
           "color": "#2a3f5f"
          },
          "geo": {
           "bgcolor": "white",
           "lakecolor": "white",
           "landcolor": "#E5ECF6",
           "showlakes": true,
           "showland": true,
           "subunitcolor": "white"
          },
          "hoverlabel": {
           "align": "left"
          },
          "hovermode": "closest",
          "mapbox": {
           "style": "light"
          },
          "paper_bgcolor": "white",
          "plot_bgcolor": "#E5ECF6",
          "polar": {
           "angularaxis": {
            "gridcolor": "white",
            "linecolor": "white",
            "ticks": ""
           },
           "bgcolor": "#E5ECF6",
           "radialaxis": {
            "gridcolor": "white",
            "linecolor": "white",
            "ticks": ""
           }
          },
          "scene": {
           "xaxis": {
            "backgroundcolor": "#E5ECF6",
            "gridcolor": "white",
            "gridwidth": 2,
            "linecolor": "white",
            "showbackground": true,
            "ticks": "",
            "zerolinecolor": "white"
           },
           "yaxis": {
            "backgroundcolor": "#E5ECF6",
            "gridcolor": "white",
            "gridwidth": 2,
            "linecolor": "white",
            "showbackground": true,
            "ticks": "",
            "zerolinecolor": "white"
           },
           "zaxis": {
            "backgroundcolor": "#E5ECF6",
            "gridcolor": "white",
            "gridwidth": 2,
            "linecolor": "white",
            "showbackground": true,
            "ticks": "",
            "zerolinecolor": "white"
           }
          },
          "shapedefaults": {
           "line": {
            "color": "#2a3f5f"
           }
          },
          "ternary": {
           "aaxis": {
            "gridcolor": "white",
            "linecolor": "white",
            "ticks": ""
           },
           "baxis": {
            "gridcolor": "white",
            "linecolor": "white",
            "ticks": ""
           },
           "bgcolor": "#E5ECF6",
           "caxis": {
            "gridcolor": "white",
            "linecolor": "white",
            "ticks": ""
           }
          },
          "title": {
           "x": 0.05
          },
          "xaxis": {
           "automargin": true,
           "gridcolor": "white",
           "linecolor": "white",
           "ticks": "",
           "title": {
            "standoff": 15
           },
           "zerolinecolor": "white",
           "zerolinewidth": 2
          },
          "yaxis": {
           "automargin": true,
           "gridcolor": "white",
           "linecolor": "white",
           "ticks": "",
           "title": {
            "standoff": 15
           },
           "zerolinecolor": "white",
           "zerolinewidth": 2
          }
         }
        }
       }
      }
     },
     "metadata": {},
     "output_type": "display_data"
    }
   ],
   "source": [
    "f = px.scatter_3d(proj3D, x=0, y=1, z=2)\n",
    "f.show()"
   ]
  },
  {
   "attachments": {},
   "cell_type": "markdown",
   "metadata": {},
   "source": [
    "### BERT Sentence-level Embedding - Paragraphs "
   ]
  },
  {
   "cell_type": "code",
   "execution_count": 6,
   "metadata": {},
   "outputs": [
    {
     "name": "stderr",
     "output_type": "stream",
     "text": [
      "c:\\Pro\\Stages\\A4 - DVRC\\Work\\Supervised-Learning-using-Unsupervised-Learning-Metrics-in-the-absence-of-Annotated-Data\\.venv\\Lib\\site-packages\\tqdm\\auto.py:21: TqdmWarning: IProgress not found. Please update jupyter and ipywidgets. See https://ipywidgets.readthedocs.io/en/stable/user_install.html\n",
      "  from .autonotebook import tqdm as notebook_tqdm\n"
     ]
    }
   ],
   "source": [
    "from transformers import BertTokenizer, BertModel\n",
    "import torch\n",
    "import numpy as np"
   ]
  },
  {
   "cell_type": "code",
   "execution_count": 7,
   "metadata": {},
   "outputs": [
    {
     "name": "stderr",
     "output_type": "stream",
     "text": [
      "Downloading (…)lve/main/config.json: 100%|██████████| 570/570 [00:00<?, ?B/s] \n",
      "Downloading pytorch_model.bin: 100%|██████████| 440M/440M [00:11<00:00, 40.0MB/s] \n",
      "Some weights of the model checkpoint at bert-base-uncased were not used when initializing BertModel: ['cls.predictions.decoder.weight', 'cls.predictions.transform.LayerNorm.bias', 'cls.predictions.bias', 'cls.predictions.transform.dense.bias', 'cls.seq_relationship.weight', 'cls.predictions.transform.dense.weight', 'cls.seq_relationship.bias', 'cls.predictions.transform.LayerNorm.weight']\n",
      "- This IS expected if you are initializing BertModel from the checkpoint of a model trained on another task or with another architecture (e.g. initializing a BertForSequenceClassification model from a BertForPreTraining model).\n",
      "- This IS NOT expected if you are initializing BertModel from the checkpoint of a model that you expect to be exactly identical (initializing a BertForSequenceClassification model from a BertForSequenceClassification model).\n",
      "Downloading (…)solve/main/vocab.txt: 100%|██████████| 232k/232k [00:00<00:00, 3.36MB/s]\n",
      "Downloading (…)okenizer_config.json: 100%|██████████| 28.0/28.0 [00:00<00:00, 23.2kB/s]\n"
     ]
    }
   ],
   "source": [
    "model = BertModel.from_pretrained('bert-base-uncased',\n",
    "                                  output_hidden_states=True)\n",
    "tokenizer = BertTokenizer.from_pretrained('bert-base-uncased')"
   ]
  },
  {
   "cell_type": "code",
   "execution_count": 4,
   "metadata": {},
   "outputs": [
    {
     "name": "stdout",
     "output_type": "stream",
     "text": [
      "Wikipedia is a multilingual, free, online encyclopedia written and maintained by a community of volunteers, known as Wikipedians, through open collaboration and using a wiki-based editing system called MediaWiki. Wikipedia is the largest and most-read reference work in history. It is consistently one of the 10 most popular websites ranked by Similarweb and formerly Alexa; as of 2023, Wikipedia was ranked the 5th most popular site in the world according to Semrush. It is hosted by the Wikimedia Foundation, an American non-profit organization funded mainly through donations.\n"
     ]
    }
   ],
   "source": [
    "corpus = \"Wikipedia is a multilingual, free, online encyclopedia written and maintained by a community of volunteers, known as Wikipedians, through open collaboration and using a wiki-based editing system called MediaWiki. Wikipedia is the largest and most-read reference work in history. It is consistently one of the 10 most popular websites ranked by Similarweb and formerly Alexa; as of 2023, Wikipedia was ranked the 5th most popular site in the world according to Semrush. It is hosted by the Wikimedia Foundation, an American non-profit organization funded mainly through donations.\"\n",
    "delimiter=\".\"\n",
    "print(corpus)"
   ]
  },
  {
   "cell_type": "code",
   "execution_count": 20,
   "metadata": {},
   "outputs": [
    {
     "name": "stderr",
     "output_type": "stream",
     "text": [
      "c:\\Pro\\Stages\\A4 - DVRC\\Work\\Supervised-Learning-using-Unsupervised-Learning-Metrics-in-the-absence-of-Annotated-Data\\.venv\\Lib\\site-packages\\transformers\\tokenization_utils_base.py:2354: FutureWarning: The `pad_to_max_length` argument is deprecated and will be removed in a future version, use `padding=True` or `padding='longest'` to pad to the longest sequence in the batch, or use `padding='max_length'` to pad to a max length. In this case, you can give a specific length with `max_length` (e.g. `max_length=45`) or leave max_length to None to pad to the maximal input size of the model (e.g. 512 for Bert).\n",
      "  warnings.warn(\n",
      "c:\\Pro\\Stages\\A4 - DVRC\\Work\\Supervised-Learning-using-Unsupervised-Learning-Metrics-in-the-absence-of-Annotated-Data\\.venv\\Lib\\site-packages\\transformers\\tokenization_utils_base.py:2354: FutureWarning: The `pad_to_max_length` argument is deprecated and will be removed in a future version, use `padding=True` or `padding='longest'` to pad to the longest sequence in the batch, or use `padding='max_length'` to pad to a max length. In this case, you can give a specific length with `max_length` (e.g. `max_length=45`) or leave max_length to None to pad to the maximal input size of the model (e.g. 512 for Bert).\n",
      "  warnings.warn(\n"
     ]
    },
    {
     "data": {
      "text/plain": [
       "(5, 768)"
      ]
     },
     "execution_count": 20,
     "metadata": {},
     "output_type": "execute_result"
    }
   ],
   "source": [
    "splited = [sentence+delimiter for sentence in corpus.split(\".\")]\n",
    "max_len = max(len(x) for x in splited)\n",
    "\n",
    "input_ids = []\n",
    "attention_masks = []\n",
    "for sentence in splited:\n",
    "    encoded = tokenizer.encode_plus(sentence, \n",
    "                                    add_special_tokens=True,\n",
    "                                    max_length=max_len+1,\n",
    "                                    pad_to_max_length=True,\n",
    "                                    return_attention_mask=True,\n",
    "                                    return_tensors='pt',\n",
    "                                    truncation=True)\n",
    "    input_ids.append(encoded[\"input_ids\"])\n",
    "    attention_masks.append(encoded[\"attention_mask\"])\n",
    "\n",
    "inputs_ids = torch.cat(input_ids, dim=0)\n",
    "attention_masks = torch.cat(attention_masks, dim=0)\n",
    "\n",
    "with torch.no_grad():\n",
    "    output = model(inputs_ids, attention_mask=attention_masks)\n",
    "hidden_state = output.last_hidden_state\n",
    "cls_emb = hidden_state[:,0,:]\n",
    "cls_emb = cls_emb.detach().numpy()\n",
    "np.shape(cls_emb)"
   ]
  },
  {
   "cell_type": "code",
   "execution_count": 19,
   "metadata": {},
   "outputs": [
    {
     "data": {
      "text/plain": [
       "array([[-0.10181614, -0.04256969, -0.37916115, ..., -0.01706432,\n",
       "         0.38435265,  0.77578974],\n",
       "       [-0.15074998,  0.16900486, -0.4508034 , ..., -0.41086987,\n",
       "         0.6468059 ,  0.44568998],\n",
       "       [-0.00590458,  0.07766522, -0.09788167, ..., -0.05835519,\n",
       "         0.6742643 ,  0.6657301 ],\n",
       "       [-0.46835747,  0.30540103, -0.3483228 , ..., -0.31408456,\n",
       "         0.18837832,  0.8075387 ],\n",
       "       [-0.1548306 ,  0.25915366,  0.14536104, ..., -0.2707459 ,\n",
       "         0.49331143,  0.22958532]], dtype=float32)"
      ]
     },
     "execution_count": 19,
     "metadata": {},
     "output_type": "execute_result"
    }
   ],
   "source": [
    "cls_emb"
   ]
  },
  {
   "cell_type": "code",
   "execution_count": 14,
   "metadata": {},
   "outputs": [
    {
     "data": {
      "text/plain": [
       "5"
      ]
     },
     "execution_count": 14,
     "metadata": {},
     "output_type": "execute_result"
    }
   ],
   "source": [
    "len(splited)"
   ]
  },
  {
   "attachments": {},
   "cell_type": "markdown",
   "metadata": {},
   "source": [
    "### BERT Word-level Embedding - Paragraphs"
   ]
  },
  {
   "cell_type": "code",
   "execution_count": 2,
   "metadata": {},
   "outputs": [
    {
     "name": "stderr",
     "output_type": "stream",
     "text": [
      "d:\\COURS\\A4\\S8 - ESILV\\Stage\\Work\\Supervised-Learning-using-Unsupervised-Learning-Metrics-in-the-absence-of-Annotated-Data\\.venv\\Lib\\site-packages\\tqdm\\auto.py:21: TqdmWarning: IProgress not found. Please update jupyter and ipywidgets. See https://ipywidgets.readthedocs.io/en/stable/user_install.html\n",
      "  from .autonotebook import tqdm as notebook_tqdm\n",
      "d:\\COURS\\A4\\S8 - ESILV\\Stage\\Work\\Supervised-Learning-using-Unsupervised-Learning-Metrics-in-the-absence-of-Annotated-Data\\.venv\\Lib\\site-packages\\umap\\distances.py:1063: NumbaDeprecationWarning: \u001b[1mThe 'nopython' keyword argument was not supplied to the 'numba.jit' decorator. The implicit default value for this argument is currently False, but it will be changed to True in Numba 0.59.0. See https://numba.readthedocs.io/en/stable/reference/deprecation.html#deprecation-of-object-mode-fall-back-behaviour-when-using-jit for details.\u001b[0m\n",
      "  @numba.jit()\n",
      "d:\\COURS\\A4\\S8 - ESILV\\Stage\\Work\\Supervised-Learning-using-Unsupervised-Learning-Metrics-in-the-absence-of-Annotated-Data\\.venv\\Lib\\site-packages\\umap\\distances.py:1071: NumbaDeprecationWarning: \u001b[1mThe 'nopython' keyword argument was not supplied to the 'numba.jit' decorator. The implicit default value for this argument is currently False, but it will be changed to True in Numba 0.59.0. See https://numba.readthedocs.io/en/stable/reference/deprecation.html#deprecation-of-object-mode-fall-back-behaviour-when-using-jit for details.\u001b[0m\n",
      "  @numba.jit()\n",
      "d:\\COURS\\A4\\S8 - ESILV\\Stage\\Work\\Supervised-Learning-using-Unsupervised-Learning-Metrics-in-the-absence-of-Annotated-Data\\.venv\\Lib\\site-packages\\umap\\distances.py:1086: NumbaDeprecationWarning: \u001b[1mThe 'nopython' keyword argument was not supplied to the 'numba.jit' decorator. The implicit default value for this argument is currently False, but it will be changed to True in Numba 0.59.0. See https://numba.readthedocs.io/en/stable/reference/deprecation.html#deprecation-of-object-mode-fall-back-behaviour-when-using-jit for details.\u001b[0m\n",
      "  @numba.jit()\n",
      "d:\\COURS\\A4\\S8 - ESILV\\Stage\\Work\\Supervised-Learning-using-Unsupervised-Learning-Metrics-in-the-absence-of-Annotated-Data\\.venv\\Lib\\site-packages\\umap\\umap_.py:660: NumbaDeprecationWarning: \u001b[1mThe 'nopython' keyword argument was not supplied to the 'numba.jit' decorator. The implicit default value for this argument is currently False, but it will be changed to True in Numba 0.59.0. See https://numba.readthedocs.io/en/stable/reference/deprecation.html#deprecation-of-object-mode-fall-back-behaviour-when-using-jit for details.\u001b[0m\n",
      "  @numba.jit()\n",
      "Some weights of the model checkpoint at bert-base-uncased were not used when initializing BertModel: ['cls.predictions.transform.dense.weight', 'cls.seq_relationship.weight', 'cls.predictions.decoder.weight', 'cls.predictions.transform.dense.bias', 'cls.seq_relationship.bias', 'cls.predictions.transform.LayerNorm.weight', 'cls.predictions.bias', 'cls.predictions.transform.LayerNorm.bias']\n",
      "- This IS expected if you are initializing BertModel from the checkpoint of a model trained on another task or with another architecture (e.g. initializing a BertForSequenceClassification model from a BertForPreTraining model).\n",
      "- This IS NOT expected if you are initializing BertModel from the checkpoint of a model that you expect to be exactly identical (initializing a BertForSequenceClassification model from a BertForSequenceClassification model).\n"
     ]
    },
    {
     "name": "stdout",
     "output_type": "stream",
     "text": [
      "Wikipedia is a multilingual, free, online encyclopedia written and maintained by a community of volunteers, known as Wikipedians, through open collaboration and using a wiki-based editing system called MediaWiki. Wikipedia is the largest and most-read reference work in history. It is consistently one of the 10 most popular websites ranked by Similarweb and formerly Alexa; as of 2023, Wikipedia was ranked the 5th most popular site in the world according to Semrush. It is hosted by the Wikimedia Foundation, an American non-profit organization funded mainly through donations.\n"
     ]
    }
   ],
   "source": [
    "from transformers import BertTokenizer, BertModel\n",
    "import torch\n",
    "from umap import UMAP\n",
    "import plotly.express as px\n",
    "import plotly.graph_objects as go\n",
    "import numpy as np\n",
    "\n",
    "model = BertModel.from_pretrained('bert-base-uncased',\n",
    "                                  output_hidden_states=True)\n",
    "tokenizer = BertTokenizer.from_pretrained('bert-base-uncased')\n",
    "\n",
    "corpus = \"Wikipedia is a multilingual, free, online encyclopedia written and maintained by a community of volunteers, known as Wikipedians, through open collaboration and using a wiki-based editing system called MediaWiki. Wikipedia is the largest and most-read reference work in history. It is consistently one of the 10 most popular websites ranked by Similarweb and formerly Alexa; as of 2023, Wikipedia was ranked the 5th most popular site in the world according to Semrush. It is hosted by the Wikimedia Foundation, an American non-profit organization funded mainly through donations.\"\n",
    "delimiter=\".\"\n",
    "print(corpus)"
   ]
  },
  {
   "cell_type": "code",
   "execution_count": 23,
   "metadata": {},
   "outputs": [
    {
     "name": "stderr",
     "output_type": "stream",
     "text": [
      "d:\\COURS\\A4\\S8 - ESILV\\Stage\\Work\\Supervised-Learning-using-Unsupervised-Learning-Metrics-in-the-absence-of-Annotated-Data\\.venv\\Lib\\site-packages\\transformers\\tokenization_utils_base.py:2354: FutureWarning: The `pad_to_max_length` argument is deprecated and will be removed in a future version, use `padding=True` or `padding='longest'` to pad to the longest sequence in the batch, or use `padding='max_length'` to pad to a max length. In this case, you can give a specific length with `max_length` (e.g. `max_length=45`) or leave max_length to None to pad to the maximal input size of the model (e.g. 512 for Bert).\n",
      "  warnings.warn(\n"
     ]
    }
   ],
   "source": [
    "splited = [sentence+delimiter for sentence in corpus.split(\".\")]\n",
    "max_len = max(len(x) for x in splited)\n",
    "\n",
    "input_ids = []\n",
    "attention_masks = []\n",
    "for sentence in splited:\n",
    "    encoded = tokenizer.encode_plus(sentence, \n",
    "                                    add_special_tokens=True,\n",
    "                                    max_length=max_len+1,\n",
    "                                    pad_to_max_length=True,\n",
    "                                    return_attention_mask=True,\n",
    "                                    return_tensors='pt',\n",
    "                                    truncation=True)\n",
    "    input_ids.append(encoded[\"input_ids\"])\n",
    "    attention_masks.append(encoded[\"attention_mask\"])\n",
    "\n",
    "#inputs_ids = torch.Tensor(len(input_ids),1, max_len+1)\n",
    "#torch.cat(input_ids, out=inputs_ids)\n",
    "inputs_ids = torch.cat(input_ids, dim=0)\n",
    "attention_masks = torch.cat(attention_masks, dim=0)\n",
    "\n",
    "with torch.no_grad():\n",
    "    output = model(inputs_ids, attention_mask=attention_masks)"
   ]
  },
  {
   "cell_type": "code",
   "execution_count": 38,
   "metadata": {},
   "outputs": [],
   "source": [
    "hidden_states = output.hidden_states"
   ]
  },
  {
   "cell_type": "code",
   "execution_count": 39,
   "metadata": {},
   "outputs": [
    {
     "name": "stdout",
     "output_type": "stream",
     "text": [
      "torch.Size([13, 5, 213, 768])\n",
      "torch.Size([13, 5, 213, 768])\n"
     ]
    }
   ],
   "source": [
    "token_embeddings = torch.stack(hidden_states, dim=0)\n",
    "print(token_embeddings.size())\n",
    "token_embeddings = torch.squeeze(token_embeddings, dim=1)\n",
    "print(token_embeddings.size())\n"
   ]
  },
  {
   "cell_type": "code",
   "execution_count": 40,
   "metadata": {},
   "outputs": [
    {
     "name": "stdout",
     "output_type": "stream",
     "text": [
      "torch.Size([5, 213, 13, 768])\n"
     ]
    }
   ],
   "source": [
    "token_embeddings = token_embeddings.permute(1,2,0,3)\n",
    "print(token_embeddings.size())"
   ]
  },
  {
   "cell_type": "code",
   "execution_count": 41,
   "metadata": {},
   "outputs": [],
   "source": [
    "embs = []\n",
    "for batch in token_embeddings:\n",
    "    for token in batch:\n",
    "        emb = torch.cat((token[-1], token[-2], token[-3], token[-4]), dim=0)\n",
    "        embs.append(emb)"
   ]
  },
  {
   "cell_type": "code",
   "execution_count": 42,
   "metadata": {},
   "outputs": [
    {
     "data": {
      "text/plain": [
       "torch.Size([3072])"
      ]
     },
     "execution_count": 42,
     "metadata": {},
     "output_type": "execute_result"
    }
   ],
   "source": [
    "embs[0].size()"
   ]
  },
  {
   "cell_type": "code",
   "execution_count": 44,
   "metadata": {},
   "outputs": [],
   "source": [
    "test = [token.tolist() for token in embs]\n",
    "test = np.array(test)"
   ]
  },
  {
   "cell_type": "code",
   "execution_count": 45,
   "metadata": {},
   "outputs": [],
   "source": [
    "umap3D = UMAP(n_components=3, init='random', random_state=0)\n",
    "proj3D = umap3D.fit_transform(test).T"
   ]
  },
  {
   "cell_type": "code",
   "execution_count": 56,
   "metadata": {},
   "outputs": [],
   "source": [
    "def flatten(l):\n",
    "    return [item for sublist in l for item in sublist]\n",
    "temp = flatten([batch.tolist() for batch in input_ids])\n",
    "labels = np.array(temp)\n",
    "labels = labels.reshape((labels.shape[0]*labels.shape[1]))\n",
    "labels = tokenizer.convert_ids_to_tokens(labels)"
   ]
  },
  {
   "cell_type": "code",
   "execution_count": 60,
   "metadata": {},
   "outputs": [],
   "source": [
    "data = {\"x\": proj3D[0][:100],\n",
    "        \"y\": proj3D[1][:100],\n",
    "        \"z\": proj3D[2][:100], \n",
    "        \"labels\": labels[:100]}"
   ]
  },
  {
   "cell_type": "code",
   "execution_count": 61,
   "metadata": {},
   "outputs": [
    {
     "data": {
      "application/vnd.plotly.v1+json": {
       "config": {
        "plotlyServerURL": "https://plot.ly"
       },
       "data": [
        {
         "marker": {
          "size": 6
         },
         "mode": "markers",
         "name": "[CLS]",
         "text": [
          "[CLS]"
         ],
         "type": "scatter3d",
         "x": [
          4.579276084899902
         ],
         "y": [
          2.2132232189178467
         ],
         "z": [
          5.1033124923706055
         ]
        },
        {
         "marker": {
          "size": 6
         },
         "mode": "markers",
         "name": "wikipedia",
         "text": [
          "wikipedia"
         ],
         "type": "scatter3d",
         "x": [
          4.73355770111084
         ],
         "y": [
          1.9722211360931396
         ],
         "z": [
          5.707751750946045
         ]
        },
        {
         "marker": {
          "size": 6
         },
         "mode": "markers",
         "name": "is",
         "text": [
          "is"
         ],
         "type": "scatter3d",
         "x": [
          4.490370750427246
         ],
         "y": [
          2.1913464069366455
         ],
         "z": [
          6.199138641357422
         ]
        },
        {
         "marker": {
          "size": 6
         },
         "mode": "markers",
         "name": "a",
         "text": [
          "a"
         ],
         "type": "scatter3d",
         "x": [
          4.392567157745361
         ],
         "y": [
          2.224320411682129
         ],
         "z": [
          6.2422590255737305
         ]
        },
        {
         "marker": {
          "size": 6
         },
         "mode": "markers",
         "name": "multi",
         "text": [
          "multi"
         ],
         "type": "scatter3d",
         "x": [
          4.320117950439453
         ],
         "y": [
          2.360527515411377
         ],
         "z": [
          6.127896308898926
         ]
        },
        {
         "marker": {
          "size": 6
         },
         "mode": "markers",
         "name": "##ling",
         "text": [
          "##ling"
         ],
         "type": "scatter3d",
         "x": [
          4.524954795837402
         ],
         "y": [
          2.3085665702819824
         ],
         "z": [
          5.571161270141602
         ]
        },
        {
         "marker": {
          "size": 6
         },
         "mode": "markers",
         "name": "##ual",
         "text": [
          "##ual"
         ],
         "type": "scatter3d",
         "x": [
          4.396079063415527
         ],
         "y": [
          2.234189033508301
         ],
         "z": [
          6.153416156768799
         ]
        },
        {
         "marker": {
          "size": 6
         },
         "mode": "markers",
         "name": ",",
         "text": [
          ","
         ],
         "type": "scatter3d",
         "x": [
          4.170401096343994
         ],
         "y": [
          2.5628914833068848
         ],
         "z": [
          5.947328090667725
         ]
        },
        {
         "marker": {
          "size": 6
         },
         "mode": "markers",
         "name": "free",
         "text": [
          "free"
         ],
         "type": "scatter3d",
         "x": [
          4.285091400146484
         ],
         "y": [
          2.3161661624908447
         ],
         "z": [
          6.2703070640563965
         ]
        },
        {
         "marker": {
          "size": 6
         },
         "mode": "markers",
         "name": ",",
         "text": [
          ","
         ],
         "type": "scatter3d",
         "x": [
          4.32027006149292
         ],
         "y": [
          2.4366719722747803
         ],
         "z": [
          5.527764320373535
         ]
        },
        {
         "marker": {
          "size": 6
         },
         "mode": "markers",
         "name": "online",
         "text": [
          "online"
         ],
         "type": "scatter3d",
         "x": [
          4.508809566497803
         ],
         "y": [
          2.2609527111053467
         ],
         "z": [
          6.1987199783325195
         ]
        },
        {
         "marker": {
          "size": 6
         },
         "mode": "markers",
         "name": "encyclopedia",
         "text": [
          "encyclopedia"
         ],
         "type": "scatter3d",
         "x": [
          4.720232963562012
         ],
         "y": [
          2.0107107162475586
         ],
         "z": [
          5.984659194946289
         ]
        },
        {
         "marker": {
          "size": 6
         },
         "mode": "markers",
         "name": "written",
         "text": [
          "written"
         ],
         "type": "scatter3d",
         "x": [
          4.420619964599609
         ],
         "y": [
          2.1202585697174072
         ],
         "z": [
          6.314436435699463
         ]
        },
        {
         "marker": {
          "size": 6
         },
         "mode": "markers",
         "name": "and",
         "text": [
          "and"
         ],
         "type": "scatter3d",
         "x": [
          4.113529682159424
         ],
         "y": [
          2.537665605545044
         ],
         "z": [
          6.169384479522705
         ]
        },
        {
         "marker": {
          "size": 6
         },
         "mode": "markers",
         "name": "maintained",
         "text": [
          "maintained"
         ],
         "type": "scatter3d",
         "x": [
          4.4571661949157715
         ],
         "y": [
          2.1392219066619873
         ],
         "z": [
          6.248110294342041
         ]
        },
        {
         "marker": {
          "size": 6
         },
         "mode": "markers",
         "name": "by",
         "text": [
          "by"
         ],
         "type": "scatter3d",
         "x": [
          3.503725528717041
         ],
         "y": [
          2.6001365184783936
         ],
         "z": [
          6.477643013000488
         ]
        },
        {
         "marker": {
          "size": 6
         },
         "mode": "markers",
         "name": "a",
         "text": [
          "a"
         ],
         "type": "scatter3d",
         "x": [
          3.6149799823760986
         ],
         "y": [
          2.6847763061523438
         ],
         "z": [
          6.426269054412842
         ]
        },
        {
         "marker": {
          "size": 6
         },
         "mode": "markers",
         "name": "community",
         "text": [
          "community"
         ],
         "type": "scatter3d",
         "x": [
          3.5191216468811035
         ],
         "y": [
          2.6749324798583984
         ],
         "z": [
          6.430771827697754
         ]
        },
        {
         "marker": {
          "size": 6
         },
         "mode": "markers",
         "name": "of",
         "text": [
          "of"
         ],
         "type": "scatter3d",
         "x": [
          3.42991304397583
         ],
         "y": [
          2.762507200241089
         ],
         "z": [
          6.4803667068481445
         ]
        },
        {
         "marker": {
          "size": 6
         },
         "mode": "markers",
         "name": "volunteers",
         "text": [
          "volunteers"
         ],
         "type": "scatter3d",
         "x": [
          3.5256950855255127
         ],
         "y": [
          2.688612937927246
         ],
         "z": [
          6.442286491394043
         ]
        },
        {
         "marker": {
          "size": 6
         },
         "mode": "markers",
         "name": ",",
         "text": [
          ","
         ],
         "type": "scatter3d",
         "x": [
          3.181703805923462
         ],
         "y": [
          3.016752243041992
         ],
         "z": [
          6.5562238693237305
         ]
        },
        {
         "marker": {
          "size": 6
         },
         "mode": "markers",
         "name": "known",
         "text": [
          "known"
         ],
         "type": "scatter3d",
         "x": [
          3.2831614017486572
         ],
         "y": [
          2.96142578125
         ],
         "z": [
          6.541669845581055
         ]
        },
        {
         "marker": {
          "size": 6
         },
         "mode": "markers",
         "name": "as",
         "text": [
          "as"
         ],
         "type": "scatter3d",
         "x": [
          3.3477959632873535
         ],
         "y": [
          2.9132463932037354
         ],
         "z": [
          6.517169952392578
         ]
        },
        {
         "marker": {
          "size": 6
         },
         "mode": "markers",
         "name": "wikipedia",
         "text": [
          "wikipedia"
         ],
         "type": "scatter3d",
         "x": [
          4.758450031280518
         ],
         "y": [
          1.973990797996521
         ],
         "z": [
          5.829179286956787
         ]
        },
        {
         "marker": {
          "size": 6
         },
         "mode": "markers",
         "name": "##ns",
         "text": [
          "##ns"
         ],
         "type": "scatter3d",
         "x": [
          3.449164390563965
         ],
         "y": [
          2.7419958114624023
         ],
         "z": [
          6.466590881347656
         ]
        },
        {
         "marker": {
          "size": 6
         },
         "mode": "markers",
         "name": ",",
         "text": [
          ","
         ],
         "type": "scatter3d",
         "x": [
          4.499416351318359
         ],
         "y": [
          2.3423643112182617
         ],
         "z": [
          5.124661922454834
         ]
        },
        {
         "marker": {
          "size": 6
         },
         "mode": "markers",
         "name": "through",
         "text": [
          "through"
         ],
         "type": "scatter3d",
         "x": [
          3.672943592071533
         ],
         "y": [
          2.6919209957122803
         ],
         "z": [
          6.4086689949035645
         ]
        },
        {
         "marker": {
          "size": 6
         },
         "mode": "markers",
         "name": "open",
         "text": [
          "open"
         ],
         "type": "scatter3d",
         "x": [
          3.9423861503601074
         ],
         "y": [
          2.4921061992645264
         ],
         "z": [
          6.332374572753906
         ]
        },
        {
         "marker": {
          "size": 6
         },
         "mode": "markers",
         "name": "collaboration",
         "text": [
          "collaboration"
         ],
         "type": "scatter3d",
         "x": [
          3.7565155029296875
         ],
         "y": [
          2.6143596172332764
         ],
         "z": [
          6.409914970397949
         ]
        },
        {
         "marker": {
          "size": 6
         },
         "mode": "markers",
         "name": "and",
         "text": [
          "and"
         ],
         "type": "scatter3d",
         "x": [
          3.8283941745758057
         ],
         "y": [
          2.7279162406921387
         ],
         "z": [
          6.382576942443848
         ]
        },
        {
         "marker": {
          "size": 6
         },
         "mode": "markers",
         "name": "using",
         "text": [
          "using"
         ],
         "type": "scatter3d",
         "x": [
          3.743992805480957
         ],
         "y": [
          2.68356990814209
         ],
         "z": [
          6.415807723999023
         ]
        },
        {
         "marker": {
          "size": 6
         },
         "mode": "markers",
         "name": "a",
         "text": [
          "a"
         ],
         "type": "scatter3d",
         "x": [
          3.8028621673583984
         ],
         "y": [
          2.8005967140197754
         ],
         "z": [
          6.404904842376709
         ]
        },
        {
         "marker": {
          "size": 6
         },
         "mode": "markers",
         "name": "wi",
         "text": [
          "wi"
         ],
         "type": "scatter3d",
         "x": [
          4.570291519165039
         ],
         "y": [
          2.389746904373169
         ],
         "z": [
          5.720233917236328
         ]
        },
        {
         "marker": {
          "size": 6
         },
         "mode": "markers",
         "name": "##ki",
         "text": [
          "##ki"
         ],
         "type": "scatter3d",
         "x": [
          4.6508073806762695
         ],
         "y": [
          2.36660099029541
         ],
         "z": [
          5.921053409576416
         ]
        },
        {
         "marker": {
          "size": 6
         },
         "mode": "markers",
         "name": "-",
         "text": [
          "-"
         ],
         "type": "scatter3d",
         "x": [
          3.891240119934082
         ],
         "y": [
          2.733872413635254
         ],
         "z": [
          6.34492301940918
         ]
        },
        {
         "marker": {
          "size": 6
         },
         "mode": "markers",
         "name": "based",
         "text": [
          "based"
         ],
         "type": "scatter3d",
         "x": [
          3.787907838821411
         ],
         "y": [
          2.809805154800415
         ],
         "z": [
          6.421933174133301
         ]
        },
        {
         "marker": {
          "size": 6
         },
         "mode": "markers",
         "name": "editing",
         "text": [
          "editing"
         ],
         "type": "scatter3d",
         "x": [
          4.736363887786865
         ],
         "y": [
          2.1175994873046875
         ],
         "z": [
          6.068909168243408
         ]
        },
        {
         "marker": {
          "size": 6
         },
         "mode": "markers",
         "name": "system",
         "text": [
          "system"
         ],
         "type": "scatter3d",
         "x": [
          3.890774965286255
         ],
         "y": [
          2.858086585998535
         ],
         "z": [
          6.393129348754883
         ]
        },
        {
         "marker": {
          "size": 6
         },
         "mode": "markers",
         "name": "called",
         "text": [
          "called"
         ],
         "type": "scatter3d",
         "x": [
          3.782407283782959
         ],
         "y": [
          3.017287015914917
         ],
         "z": [
          6.480398178100586
         ]
        },
        {
         "marker": {
          "size": 6
         },
         "mode": "markers",
         "name": "media",
         "text": [
          "media"
         ],
         "type": "scatter3d",
         "x": [
          4.77884578704834
         ],
         "y": [
          2.304417848587036
         ],
         "z": [
          6.003754615783691
         ]
        },
        {
         "marker": {
          "size": 6
         },
         "mode": "markers",
         "name": "##wi",
         "text": [
          "##wi"
         ],
         "type": "scatter3d",
         "x": [
          4.721534252166748
         ],
         "y": [
          2.455678701400757
         ],
         "z": [
          5.623293876647949
         ]
        },
        {
         "marker": {
          "size": 6
         },
         "mode": "markers",
         "name": "##ki",
         "text": [
          "##ki"
         ],
         "type": "scatter3d",
         "x": [
          4.72068452835083
         ],
         "y": [
          2.2749948501586914
         ],
         "z": [
          6.015951156616211
         ]
        },
        {
         "marker": {
          "size": 6
         },
         "mode": "markers",
         "name": ".",
         "text": [
          "."
         ],
         "type": "scatter3d",
         "x": [
          4.523037910461426
         ],
         "y": [
          2.334663152694702
         ],
         "z": [
          5.145654678344727
         ]
        },
        {
         "marker": {
          "size": 6
         },
         "mode": "markers",
         "name": "[SEP]",
         "text": [
          "[SEP]"
         ],
         "type": "scatter3d",
         "x": [
          4.595799922943115
         ],
         "y": [
          2.3247628211975098
         ],
         "z": [
          5.308201313018799
         ]
        },
        {
         "marker": {
          "size": 6
         },
         "mode": "markers",
         "name": "[PAD]",
         "text": [
          "[PAD]"
         ],
         "type": "scatter3d",
         "x": [
          3.340383529663086
         ],
         "y": [
          4.484932899475098
         ],
         "z": [
          7.887460231781006
         ]
        },
        {
         "marker": {
          "size": 6
         },
         "mode": "markers",
         "name": "[PAD]",
         "text": [
          "[PAD]"
         ],
         "type": "scatter3d",
         "x": [
          3.338989734649658
         ],
         "y": [
          4.512271881103516
         ],
         "z": [
          7.974593639373779
         ]
        },
        {
         "marker": {
          "size": 6
         },
         "mode": "markers",
         "name": "[PAD]",
         "text": [
          "[PAD]"
         ],
         "type": "scatter3d",
         "x": [
          3.1812334060668945
         ],
         "y": [
          4.431544780731201
         ],
         "z": [
          7.723560333251953
         ]
        },
        {
         "marker": {
          "size": 6
         },
         "mode": "markers",
         "name": "[PAD]",
         "text": [
          "[PAD]"
         ],
         "type": "scatter3d",
         "x": [
          3.264263868331909
         ],
         "y": [
          4.536281585693359
         ],
         "z": [
          8.033408164978027
         ]
        },
        {
         "marker": {
          "size": 6
         },
         "mode": "markers",
         "name": "[PAD]",
         "text": [
          "[PAD]"
         ],
         "type": "scatter3d",
         "x": [
          2.557117462158203
         ],
         "y": [
          4.147359848022461
         ],
         "z": [
          6.993157863616943
         ]
        },
        {
         "marker": {
          "size": 6
         },
         "mode": "markers",
         "name": "[PAD]",
         "text": [
          "[PAD]"
         ],
         "type": "scatter3d",
         "x": [
          2.258293867111206
         ],
         "y": [
          3.8514368534088135
         ],
         "z": [
          7.059735298156738
         ]
        },
        {
         "marker": {
          "size": 6
         },
         "mode": "markers",
         "name": "[PAD]",
         "text": [
          "[PAD]"
         ],
         "type": "scatter3d",
         "x": [
          2.6211414337158203
         ],
         "y": [
          4.124701976776123
         ],
         "z": [
          6.910911560058594
         ]
        },
        {
         "marker": {
          "size": 6
         },
         "mode": "markers",
         "name": "[PAD]",
         "text": [
          "[PAD]"
         ],
         "type": "scatter3d",
         "x": [
          2.294835329055786
         ],
         "y": [
          3.719196319580078
         ],
         "z": [
          6.946880340576172
         ]
        },
        {
         "marker": {
          "size": 6
         },
         "mode": "markers",
         "name": "[PAD]",
         "text": [
          "[PAD]"
         ],
         "type": "scatter3d",
         "x": [
          2.686561107635498
         ],
         "y": [
          4.153975009918213
         ],
         "z": [
          6.891709804534912
         ]
        },
        {
         "marker": {
          "size": 6
         },
         "mode": "markers",
         "name": "[PAD]",
         "text": [
          "[PAD]"
         ],
         "type": "scatter3d",
         "x": [
          2.8128256797790527
         ],
         "y": [
          4.297942161560059
         ],
         "z": [
          6.945233345031738
         ]
        },
        {
         "marker": {
          "size": 6
         },
         "mode": "markers",
         "name": "[PAD]",
         "text": [
          "[PAD]"
         ],
         "type": "scatter3d",
         "x": [
          2.238974094390869
         ],
         "y": [
          5.422402381896973
         ],
         "z": [
          7.387890338897705
         ]
        },
        {
         "marker": {
          "size": 6
         },
         "mode": "markers",
         "name": "[PAD]",
         "text": [
          "[PAD]"
         ],
         "type": "scatter3d",
         "x": [
          3.3018293380737305
         ],
         "y": [
          4.523172378540039
         ],
         "z": [
          7.730766773223877
         ]
        },
        {
         "marker": {
          "size": 6
         },
         "mode": "markers",
         "name": "[PAD]",
         "text": [
          "[PAD]"
         ],
         "type": "scatter3d",
         "x": [
          2.039316177368164
         ],
         "y": [
          5.8059401512146
         ],
         "z": [
          6.9824066162109375
         ]
        },
        {
         "marker": {
          "size": 6
         },
         "mode": "markers",
         "name": "[PAD]",
         "text": [
          "[PAD]"
         ],
         "type": "scatter3d",
         "x": [
          2.235067367553711
         ],
         "y": [
          5.908730983734131
         ],
         "z": [
          6.581051826477051
         ]
        },
        {
         "marker": {
          "size": 6
         },
         "mode": "markers",
         "name": "[PAD]",
         "text": [
          "[PAD]"
         ],
         "type": "scatter3d",
         "x": [
          2.674909830093384
         ],
         "y": [
          5.933163166046143
         ],
         "z": [
          5.939529895782471
         ]
        },
        {
         "marker": {
          "size": 6
         },
         "mode": "markers",
         "name": "[PAD]",
         "text": [
          "[PAD]"
         ],
         "type": "scatter3d",
         "x": [
          6.209000110626221
         ],
         "y": [
          4.003701210021973
         ],
         "z": [
          6.586331367492676
         ]
        },
        {
         "marker": {
          "size": 6
         },
         "mode": "markers",
         "name": "[PAD]",
         "text": [
          "[PAD]"
         ],
         "type": "scatter3d",
         "x": [
          6.186083793640137
         ],
         "y": [
          4.022023677825928
         ],
         "z": [
          6.66087007522583
         ]
        },
        {
         "marker": {
          "size": 6
         },
         "mode": "markers",
         "name": "[PAD]",
         "text": [
          "[PAD]"
         ],
         "type": "scatter3d",
         "x": [
          3.680384874343872
         ],
         "y": [
          5.749114990234375
         ],
         "z": [
          6.424030303955078
         ]
        },
        {
         "marker": {
          "size": 6
         },
         "mode": "markers",
         "name": "[PAD]",
         "text": [
          "[PAD]"
         ],
         "type": "scatter3d",
         "x": [
          2.6844120025634766
         ],
         "y": [
          6.167605400085449
         ],
         "z": [
          5.4822258949279785
         ]
        },
        {
         "marker": {
          "size": 6
         },
         "mode": "markers",
         "name": "[PAD]",
         "text": [
          "[PAD]"
         ],
         "type": "scatter3d",
         "x": [
          2.5700409412384033
         ],
         "y": [
          6.180780410766602
         ],
         "z": [
          5.534098148345947
         ]
        },
        {
         "marker": {
          "size": 6
         },
         "mode": "markers",
         "name": "[PAD]",
         "text": [
          "[PAD]"
         ],
         "type": "scatter3d",
         "x": [
          3.7931346893310547
         ],
         "y": [
          5.703223705291748
         ],
         "z": [
          6.5936455726623535
         ]
        },
        {
         "marker": {
          "size": 6
         },
         "mode": "markers",
         "name": "[PAD]",
         "text": [
          "[PAD]"
         ],
         "type": "scatter3d",
         "x": [
          3.8615195751190186
         ],
         "y": [
          5.633250713348389
         ],
         "z": [
          6.648448944091797
         ]
        },
        {
         "marker": {
          "size": 6
         },
         "mode": "markers",
         "name": "[PAD]",
         "text": [
          "[PAD]"
         ],
         "type": "scatter3d",
         "x": [
          3.965435266494751
         ],
         "y": [
          5.28822135925293
         ],
         "z": [
          7.000476837158203
         ]
        },
        {
         "marker": {
          "size": 6
         },
         "mode": "markers",
         "name": "[PAD]",
         "text": [
          "[PAD]"
         ],
         "type": "scatter3d",
         "x": [
          3.8387255668640137
         ],
         "y": [
          5.048451900482178
         ],
         "z": [
          7.2767252922058105
         ]
        },
        {
         "marker": {
          "size": 6
         },
         "mode": "markers",
         "name": "[PAD]",
         "text": [
          "[PAD]"
         ],
         "type": "scatter3d",
         "x": [
          3.9859530925750732
         ],
         "y": [
          5.02644681930542
         ],
         "z": [
          7.280727863311768
         ]
        },
        {
         "marker": {
          "size": 6
         },
         "mode": "markers",
         "name": "[PAD]",
         "text": [
          "[PAD]"
         ],
         "type": "scatter3d",
         "x": [
          2.3025615215301514
         ],
         "y": [
          4.26375675201416
         ],
         "z": [
          7.91025447845459
         ]
        },
        {
         "marker": {
          "size": 6
         },
         "mode": "markers",
         "name": "[PAD]",
         "text": [
          "[PAD]"
         ],
         "type": "scatter3d",
         "x": [
          2.387254476547241
         ],
         "y": [
          4.224504470825195
         ],
         "z": [
          7.717452049255371
         ]
        },
        {
         "marker": {
          "size": 6
         },
         "mode": "markers",
         "name": "[PAD]",
         "text": [
          "[PAD]"
         ],
         "type": "scatter3d",
         "x": [
          2.3746109008789062
         ],
         "y": [
          4.157235145568848
         ],
         "z": [
          7.565476894378662
         ]
        },
        {
         "marker": {
          "size": 6
         },
         "mode": "markers",
         "name": "[PAD]",
         "text": [
          "[PAD]"
         ],
         "type": "scatter3d",
         "x": [
          2.4596378803253174
         ],
         "y": [
          4.288726806640625
         ],
         "z": [
          7.7052812576293945
         ]
        },
        {
         "marker": {
          "size": 6
         },
         "mode": "markers",
         "name": "[PAD]",
         "text": [
          "[PAD]"
         ],
         "type": "scatter3d",
         "x": [
          2.3934555053710938
         ],
         "y": [
          4.127328395843506
         ],
         "z": [
          7.281316757202148
         ]
        },
        {
         "marker": {
          "size": 6
         },
         "mode": "markers",
         "name": "[PAD]",
         "text": [
          "[PAD]"
         ],
         "type": "scatter3d",
         "x": [
          2.2232069969177246
         ],
         "y": [
          3.7938761711120605
         ],
         "z": [
          7.051916122436523
         ]
        },
        {
         "marker": {
          "size": 6
         },
         "mode": "markers",
         "name": "[PAD]",
         "text": [
          "[PAD]"
         ],
         "type": "scatter3d",
         "x": [
          2.3326950073242188
         ],
         "y": [
          3.607658863067627
         ],
         "z": [
          6.923449993133545
         ]
        },
        {
         "marker": {
          "size": 6
         },
         "mode": "markers",
         "name": "[PAD]",
         "text": [
          "[PAD]"
         ],
         "type": "scatter3d",
         "x": [
          2.3507306575775146
         ],
         "y": [
          3.688878297805786
         ],
         "z": [
          6.907630920410156
         ]
        },
        {
         "marker": {
          "size": 6
         },
         "mode": "markers",
         "name": "[PAD]",
         "text": [
          "[PAD]"
         ],
         "type": "scatter3d",
         "x": [
          2.6179563999176025
         ],
         "y": [
          4.061520576477051
         ],
         "z": [
          6.877048969268799
         ]
        },
        {
         "marker": {
          "size": 6
         },
         "mode": "markers",
         "name": "[PAD]",
         "text": [
          "[PAD]"
         ],
         "type": "scatter3d",
         "x": [
          3.0057289600372314
         ],
         "y": [
          4.064408302307129
         ],
         "z": [
          7.2634711265563965
         ]
        },
        {
         "marker": {
          "size": 6
         },
         "mode": "markers",
         "name": "[PAD]",
         "text": [
          "[PAD]"
         ],
         "type": "scatter3d",
         "x": [
          2.2003204822540283
         ],
         "y": [
          3.850052833557129
         ],
         "z": [
          7.066915035247803
         ]
        },
        {
         "marker": {
          "size": 6
         },
         "mode": "markers",
         "name": "[PAD]",
         "text": [
          "[PAD]"
         ],
         "type": "scatter3d",
         "x": [
          2.1478147506713867
         ],
         "y": [
          3.8310799598693848
         ],
         "z": [
          7.037993431091309
         ]
        },
        {
         "marker": {
          "size": 6
         },
         "mode": "markers",
         "name": "[PAD]",
         "text": [
          "[PAD]"
         ],
         "type": "scatter3d",
         "x": [
          1.9055613279342651
         ],
         "y": [
          6.1130900382995605
         ],
         "z": [
          6.667168617248535
         ]
        },
        {
         "marker": {
          "size": 6
         },
         "mode": "markers",
         "name": "[PAD]",
         "text": [
          "[PAD]"
         ],
         "type": "scatter3d",
         "x": [
          1.8654193878173828
         ],
         "y": [
          6.0812907218933105
         ],
         "z": [
          6.701627254486084
         ]
        },
        {
         "marker": {
          "size": 6
         },
         "mode": "markers",
         "name": "[PAD]",
         "text": [
          "[PAD]"
         ],
         "type": "scatter3d",
         "x": [
          2.1965079307556152
         ],
         "y": [
          5.5135297775268555
         ],
         "z": [
          7.368047714233398
         ]
        },
        {
         "marker": {
          "size": 6
         },
         "mode": "markers",
         "name": "[PAD]",
         "text": [
          "[PAD]"
         ],
         "type": "scatter3d",
         "x": [
          2.143819808959961
         ],
         "y": [
          5.550790786743164
         ],
         "z": [
          7.293880462646484
         ]
        },
        {
         "marker": {
          "size": 6
         },
         "mode": "markers",
         "name": "[PAD]",
         "text": [
          "[PAD]"
         ],
         "type": "scatter3d",
         "x": [
          2.183603525161743
         ],
         "y": [
          5.668280124664307
         ],
         "z": [
          7.074164867401123
         ]
        },
        {
         "marker": {
          "size": 6
         },
         "mode": "markers",
         "name": "[PAD]",
         "text": [
          "[PAD]"
         ],
         "type": "scatter3d",
         "x": [
          2.812081813812256
         ],
         "y": [
          5.813941478729248
         ],
         "z": [
          6.16229772567749
         ]
        },
        {
         "marker": {
          "size": 6
         },
         "mode": "markers",
         "name": "[PAD]",
         "text": [
          "[PAD]"
         ],
         "type": "scatter3d",
         "x": [
          2.7702128887176514
         ],
         "y": [
          5.880446434020996
         ],
         "z": [
          6.058047771453857
         ]
        },
        {
         "marker": {
          "size": 6
         },
         "mode": "markers",
         "name": "[PAD]",
         "text": [
          "[PAD]"
         ],
         "type": "scatter3d",
         "x": [
          3.934250831604004
         ],
         "y": [
          5.804206848144531
         ],
         "z": [
          6.121676445007324
         ]
        },
        {
         "marker": {
          "size": 6
         },
         "mode": "markers",
         "name": "[PAD]",
         "text": [
          "[PAD]"
         ],
         "type": "scatter3d",
         "x": [
          4.016976356506348
         ],
         "y": [
          5.8894877433776855
         ],
         "z": [
          6.2154541015625
         ]
        },
        {
         "marker": {
          "size": 6
         },
         "mode": "markers",
         "name": "[PAD]",
         "text": [
          "[PAD]"
         ],
         "type": "scatter3d",
         "x": [
          3.8665664196014404
         ],
         "y": [
          5.764173984527588
         ],
         "z": [
          6.520251750946045
         ]
        },
        {
         "marker": {
          "size": 6
         },
         "mode": "markers",
         "name": "[PAD]",
         "text": [
          "[PAD]"
         ],
         "type": "scatter3d",
         "x": [
          3.8228108882904053
         ],
         "y": [
          5.716037273406982
         ],
         "z": [
          6.583039283752441
         ]
        },
        {
         "marker": {
          "size": 6
         },
         "mode": "markers",
         "name": "[PAD]",
         "text": [
          "[PAD]"
         ],
         "type": "scatter3d",
         "x": [
          3.874382734298706
         ],
         "y": [
          5.620182037353516
         ],
         "z": [
          6.649744510650635
         ]
        },
        {
         "marker": {
          "size": 6
         },
         "mode": "markers",
         "name": "[PAD]",
         "text": [
          "[PAD]"
         ],
         "type": "scatter3d",
         "x": [
          3.9136581420898438
         ],
         "y": [
          5.261597633361816
         ],
         "z": [
          7.029228687286377
         ]
        },
        {
         "marker": {
          "size": 6
         },
         "mode": "markers",
         "name": "[PAD]",
         "text": [
          "[PAD]"
         ],
         "type": "scatter3d",
         "x": [
          3.876042127609253
         ],
         "y": [
          5.246546268463135
         ],
         "z": [
          7.043433666229248
         ]
        },
        {
         "marker": {
          "size": 6
         },
         "mode": "markers",
         "name": "[PAD]",
         "text": [
          "[PAD]"
         ],
         "type": "scatter3d",
         "x": [
          3.980264663696289
         ],
         "y": [
          5.079841613769531
         ],
         "z": [
          7.220241069793701
         ]
        },
        {
         "marker": {
          "size": 6
         },
         "mode": "markers",
         "name": "[PAD]",
         "text": [
          "[PAD]"
         ],
         "type": "scatter3d",
         "x": [
          4.006239891052246
         ],
         "y": [
          5.072060585021973
         ],
         "z": [
          7.223398208618164
         ]
        },
        {
         "marker": {
          "size": 6
         },
         "mode": "markers",
         "name": "[PAD]",
         "text": [
          "[PAD]"
         ],
         "type": "scatter3d",
         "x": [
          5.404189109802246
         ],
         "y": [
          3.758277177810669
         ],
         "z": [
          12.271306037902832
         ]
        },
        {
         "marker": {
          "size": 6
         },
         "mode": "markers",
         "name": "[PAD]",
         "text": [
          "[PAD]"
         ],
         "type": "scatter3d",
         "x": [
          3.95414400100708
         ],
         "y": [
          4.991123676300049
         ],
         "z": [
          7.310806751251221
         ]
        },
        {
         "marker": {
          "size": 6
         },
         "mode": "markers",
         "name": "[PAD]",
         "text": [
          "[PAD]"
         ],
         "type": "scatter3d",
         "x": [
          2.350954294204712
         ],
         "y": [
          5.206636905670166
         ],
         "z": [
          7.40712833404541
         ]
        }
       ],
       "layout": {
        "scene": {
         "xaxis": {
          "title": {
           "text": "X"
          }
         },
         "yaxis": {
          "title": {
           "text": "Y"
          }
         },
         "zaxis": {
          "title": {
           "text": "Z"
          }
         }
        },
        "template": {
         "data": {
          "bar": [
           {
            "error_x": {
             "color": "#2a3f5f"
            },
            "error_y": {
             "color": "#2a3f5f"
            },
            "marker": {
             "line": {
              "color": "#E5ECF6",
              "width": 0.5
             },
             "pattern": {
              "fillmode": "overlay",
              "size": 10,
              "solidity": 0.2
             }
            },
            "type": "bar"
           }
          ],
          "barpolar": [
           {
            "marker": {
             "line": {
              "color": "#E5ECF6",
              "width": 0.5
             },
             "pattern": {
              "fillmode": "overlay",
              "size": 10,
              "solidity": 0.2
             }
            },
            "type": "barpolar"
           }
          ],
          "carpet": [
           {
            "aaxis": {
             "endlinecolor": "#2a3f5f",
             "gridcolor": "white",
             "linecolor": "white",
             "minorgridcolor": "white",
             "startlinecolor": "#2a3f5f"
            },
            "baxis": {
             "endlinecolor": "#2a3f5f",
             "gridcolor": "white",
             "linecolor": "white",
             "minorgridcolor": "white",
             "startlinecolor": "#2a3f5f"
            },
            "type": "carpet"
           }
          ],
          "choropleth": [
           {
            "colorbar": {
             "outlinewidth": 0,
             "ticks": ""
            },
            "type": "choropleth"
           }
          ],
          "contour": [
           {
            "colorbar": {
             "outlinewidth": 0,
             "ticks": ""
            },
            "colorscale": [
             [
              0,
              "#0d0887"
             ],
             [
              0.1111111111111111,
              "#46039f"
             ],
             [
              0.2222222222222222,
              "#7201a8"
             ],
             [
              0.3333333333333333,
              "#9c179e"
             ],
             [
              0.4444444444444444,
              "#bd3786"
             ],
             [
              0.5555555555555556,
              "#d8576b"
             ],
             [
              0.6666666666666666,
              "#ed7953"
             ],
             [
              0.7777777777777778,
              "#fb9f3a"
             ],
             [
              0.8888888888888888,
              "#fdca26"
             ],
             [
              1,
              "#f0f921"
             ]
            ],
            "type": "contour"
           }
          ],
          "contourcarpet": [
           {
            "colorbar": {
             "outlinewidth": 0,
             "ticks": ""
            },
            "type": "contourcarpet"
           }
          ],
          "heatmap": [
           {
            "colorbar": {
             "outlinewidth": 0,
             "ticks": ""
            },
            "colorscale": [
             [
              0,
              "#0d0887"
             ],
             [
              0.1111111111111111,
              "#46039f"
             ],
             [
              0.2222222222222222,
              "#7201a8"
             ],
             [
              0.3333333333333333,
              "#9c179e"
             ],
             [
              0.4444444444444444,
              "#bd3786"
             ],
             [
              0.5555555555555556,
              "#d8576b"
             ],
             [
              0.6666666666666666,
              "#ed7953"
             ],
             [
              0.7777777777777778,
              "#fb9f3a"
             ],
             [
              0.8888888888888888,
              "#fdca26"
             ],
             [
              1,
              "#f0f921"
             ]
            ],
            "type": "heatmap"
           }
          ],
          "heatmapgl": [
           {
            "colorbar": {
             "outlinewidth": 0,
             "ticks": ""
            },
            "colorscale": [
             [
              0,
              "#0d0887"
             ],
             [
              0.1111111111111111,
              "#46039f"
             ],
             [
              0.2222222222222222,
              "#7201a8"
             ],
             [
              0.3333333333333333,
              "#9c179e"
             ],
             [
              0.4444444444444444,
              "#bd3786"
             ],
             [
              0.5555555555555556,
              "#d8576b"
             ],
             [
              0.6666666666666666,
              "#ed7953"
             ],
             [
              0.7777777777777778,
              "#fb9f3a"
             ],
             [
              0.8888888888888888,
              "#fdca26"
             ],
             [
              1,
              "#f0f921"
             ]
            ],
            "type": "heatmapgl"
           }
          ],
          "histogram": [
           {
            "marker": {
             "pattern": {
              "fillmode": "overlay",
              "size": 10,
              "solidity": 0.2
             }
            },
            "type": "histogram"
           }
          ],
          "histogram2d": [
           {
            "colorbar": {
             "outlinewidth": 0,
             "ticks": ""
            },
            "colorscale": [
             [
              0,
              "#0d0887"
             ],
             [
              0.1111111111111111,
              "#46039f"
             ],
             [
              0.2222222222222222,
              "#7201a8"
             ],
             [
              0.3333333333333333,
              "#9c179e"
             ],
             [
              0.4444444444444444,
              "#bd3786"
             ],
             [
              0.5555555555555556,
              "#d8576b"
             ],
             [
              0.6666666666666666,
              "#ed7953"
             ],
             [
              0.7777777777777778,
              "#fb9f3a"
             ],
             [
              0.8888888888888888,
              "#fdca26"
             ],
             [
              1,
              "#f0f921"
             ]
            ],
            "type": "histogram2d"
           }
          ],
          "histogram2dcontour": [
           {
            "colorbar": {
             "outlinewidth": 0,
             "ticks": ""
            },
            "colorscale": [
             [
              0,
              "#0d0887"
             ],
             [
              0.1111111111111111,
              "#46039f"
             ],
             [
              0.2222222222222222,
              "#7201a8"
             ],
             [
              0.3333333333333333,
              "#9c179e"
             ],
             [
              0.4444444444444444,
              "#bd3786"
             ],
             [
              0.5555555555555556,
              "#d8576b"
             ],
             [
              0.6666666666666666,
              "#ed7953"
             ],
             [
              0.7777777777777778,
              "#fb9f3a"
             ],
             [
              0.8888888888888888,
              "#fdca26"
             ],
             [
              1,
              "#f0f921"
             ]
            ],
            "type": "histogram2dcontour"
           }
          ],
          "mesh3d": [
           {
            "colorbar": {
             "outlinewidth": 0,
             "ticks": ""
            },
            "type": "mesh3d"
           }
          ],
          "parcoords": [
           {
            "line": {
             "colorbar": {
              "outlinewidth": 0,
              "ticks": ""
             }
            },
            "type": "parcoords"
           }
          ],
          "pie": [
           {
            "automargin": true,
            "type": "pie"
           }
          ],
          "scatter": [
           {
            "fillpattern": {
             "fillmode": "overlay",
             "size": 10,
             "solidity": 0.2
            },
            "type": "scatter"
           }
          ],
          "scatter3d": [
           {
            "line": {
             "colorbar": {
              "outlinewidth": 0,
              "ticks": ""
             }
            },
            "marker": {
             "colorbar": {
              "outlinewidth": 0,
              "ticks": ""
             }
            },
            "type": "scatter3d"
           }
          ],
          "scattercarpet": [
           {
            "marker": {
             "colorbar": {
              "outlinewidth": 0,
              "ticks": ""
             }
            },
            "type": "scattercarpet"
           }
          ],
          "scattergeo": [
           {
            "marker": {
             "colorbar": {
              "outlinewidth": 0,
              "ticks": ""
             }
            },
            "type": "scattergeo"
           }
          ],
          "scattergl": [
           {
            "marker": {
             "colorbar": {
              "outlinewidth": 0,
              "ticks": ""
             }
            },
            "type": "scattergl"
           }
          ],
          "scattermapbox": [
           {
            "marker": {
             "colorbar": {
              "outlinewidth": 0,
              "ticks": ""
             }
            },
            "type": "scattermapbox"
           }
          ],
          "scatterpolar": [
           {
            "marker": {
             "colorbar": {
              "outlinewidth": 0,
              "ticks": ""
             }
            },
            "type": "scatterpolar"
           }
          ],
          "scatterpolargl": [
           {
            "marker": {
             "colorbar": {
              "outlinewidth": 0,
              "ticks": ""
             }
            },
            "type": "scatterpolargl"
           }
          ],
          "scatterternary": [
           {
            "marker": {
             "colorbar": {
              "outlinewidth": 0,
              "ticks": ""
             }
            },
            "type": "scatterternary"
           }
          ],
          "surface": [
           {
            "colorbar": {
             "outlinewidth": 0,
             "ticks": ""
            },
            "colorscale": [
             [
              0,
              "#0d0887"
             ],
             [
              0.1111111111111111,
              "#46039f"
             ],
             [
              0.2222222222222222,
              "#7201a8"
             ],
             [
              0.3333333333333333,
              "#9c179e"
             ],
             [
              0.4444444444444444,
              "#bd3786"
             ],
             [
              0.5555555555555556,
              "#d8576b"
             ],
             [
              0.6666666666666666,
              "#ed7953"
             ],
             [
              0.7777777777777778,
              "#fb9f3a"
             ],
             [
              0.8888888888888888,
              "#fdca26"
             ],
             [
              1,
              "#f0f921"
             ]
            ],
            "type": "surface"
           }
          ],
          "table": [
           {
            "cells": {
             "fill": {
              "color": "#EBF0F8"
             },
             "line": {
              "color": "white"
             }
            },
            "header": {
             "fill": {
              "color": "#C8D4E3"
             },
             "line": {
              "color": "white"
             }
            },
            "type": "table"
           }
          ]
         },
         "layout": {
          "annotationdefaults": {
           "arrowcolor": "#2a3f5f",
           "arrowhead": 0,
           "arrowwidth": 1
          },
          "autotypenumbers": "strict",
          "coloraxis": {
           "colorbar": {
            "outlinewidth": 0,
            "ticks": ""
           }
          },
          "colorscale": {
           "diverging": [
            [
             0,
             "#8e0152"
            ],
            [
             0.1,
             "#c51b7d"
            ],
            [
             0.2,
             "#de77ae"
            ],
            [
             0.3,
             "#f1b6da"
            ],
            [
             0.4,
             "#fde0ef"
            ],
            [
             0.5,
             "#f7f7f7"
            ],
            [
             0.6,
             "#e6f5d0"
            ],
            [
             0.7,
             "#b8e186"
            ],
            [
             0.8,
             "#7fbc41"
            ],
            [
             0.9,
             "#4d9221"
            ],
            [
             1,
             "#276419"
            ]
           ],
           "sequential": [
            [
             0,
             "#0d0887"
            ],
            [
             0.1111111111111111,
             "#46039f"
            ],
            [
             0.2222222222222222,
             "#7201a8"
            ],
            [
             0.3333333333333333,
             "#9c179e"
            ],
            [
             0.4444444444444444,
             "#bd3786"
            ],
            [
             0.5555555555555556,
             "#d8576b"
            ],
            [
             0.6666666666666666,
             "#ed7953"
            ],
            [
             0.7777777777777778,
             "#fb9f3a"
            ],
            [
             0.8888888888888888,
             "#fdca26"
            ],
            [
             1,
             "#f0f921"
            ]
           ],
           "sequentialminus": [
            [
             0,
             "#0d0887"
            ],
            [
             0.1111111111111111,
             "#46039f"
            ],
            [
             0.2222222222222222,
             "#7201a8"
            ],
            [
             0.3333333333333333,
             "#9c179e"
            ],
            [
             0.4444444444444444,
             "#bd3786"
            ],
            [
             0.5555555555555556,
             "#d8576b"
            ],
            [
             0.6666666666666666,
             "#ed7953"
            ],
            [
             0.7777777777777778,
             "#fb9f3a"
            ],
            [
             0.8888888888888888,
             "#fdca26"
            ],
            [
             1,
             "#f0f921"
            ]
           ]
          },
          "colorway": [
           "#636efa",
           "#EF553B",
           "#00cc96",
           "#ab63fa",
           "#FFA15A",
           "#19d3f3",
           "#FF6692",
           "#B6E880",
           "#FF97FF",
           "#FECB52"
          ],
          "font": {
           "color": "#2a3f5f"
          },
          "geo": {
           "bgcolor": "white",
           "lakecolor": "white",
           "landcolor": "#E5ECF6",
           "showlakes": true,
           "showland": true,
           "subunitcolor": "white"
          },
          "hoverlabel": {
           "align": "left"
          },
          "hovermode": "closest",
          "mapbox": {
           "style": "light"
          },
          "paper_bgcolor": "white",
          "plot_bgcolor": "#E5ECF6",
          "polar": {
           "angularaxis": {
            "gridcolor": "white",
            "linecolor": "white",
            "ticks": ""
           },
           "bgcolor": "#E5ECF6",
           "radialaxis": {
            "gridcolor": "white",
            "linecolor": "white",
            "ticks": ""
           }
          },
          "scene": {
           "xaxis": {
            "backgroundcolor": "#E5ECF6",
            "gridcolor": "white",
            "gridwidth": 2,
            "linecolor": "white",
            "showbackground": true,
            "ticks": "",
            "zerolinecolor": "white"
           },
           "yaxis": {
            "backgroundcolor": "#E5ECF6",
            "gridcolor": "white",
            "gridwidth": 2,
            "linecolor": "white",
            "showbackground": true,
            "ticks": "",
            "zerolinecolor": "white"
           },
           "zaxis": {
            "backgroundcolor": "#E5ECF6",
            "gridcolor": "white",
            "gridwidth": 2,
            "linecolor": "white",
            "showbackground": true,
            "ticks": "",
            "zerolinecolor": "white"
           }
          },
          "shapedefaults": {
           "line": {
            "color": "#2a3f5f"
           }
          },
          "ternary": {
           "aaxis": {
            "gridcolor": "white",
            "linecolor": "white",
            "ticks": ""
           },
           "baxis": {
            "gridcolor": "white",
            "linecolor": "white",
            "ticks": ""
           },
           "bgcolor": "#E5ECF6",
           "caxis": {
            "gridcolor": "white",
            "linecolor": "white",
            "ticks": ""
           }
          },
          "title": {
           "x": 0.05
          },
          "xaxis": {
           "automargin": true,
           "gridcolor": "white",
           "linecolor": "white",
           "ticks": "",
           "title": {
            "standoff": 15
           },
           "zerolinecolor": "white",
           "zerolinewidth": 2
          },
          "yaxis": {
           "automargin": true,
           "gridcolor": "white",
           "linecolor": "white",
           "ticks": "",
           "title": {
            "standoff": 15
           },
           "zerolinecolor": "white",
           "zerolinewidth": 2
          }
         }
        },
        "title": {
         "text": "3D Scatter Plot"
        }
       }
      }
     },
     "metadata": {},
     "output_type": "display_data"
    }
   ],
   "source": [
    "traces = []\n",
    "for i in range(len(data['x'])):\n",
    "    trace = go.Scatter3d(\n",
    "        x=[data['x'][i]],\n",
    "        y=[data['y'][i]],\n",
    "        z=[data['z'][i]],\n",
    "        mode='markers',\n",
    "        marker=dict(size=6),\n",
    "        text=[data['labels'][i]],\n",
    "        name=data['labels'][i]\n",
    "    )\n",
    "    traces.append(trace)\n",
    "\n",
    "# Create layout\n",
    "layout = go.Layout(\n",
    "    title='3D Scatter Plot',\n",
    "    scene=dict(\n",
    "        xaxis=dict(title='X'),\n",
    "        yaxis=dict(title='Y'),\n",
    "        zaxis=dict(title='Z')\n",
    "    )\n",
    ")\n",
    "\n",
    "# Create figure\n",
    "fig = go.Figure(data=traces, layout=layout)\n",
    "\n",
    "# Show the plot\n",
    "fig.show()"
   ]
  },
  {
   "cell_type": "code",
   "execution_count": 62,
   "metadata": {},
   "outputs": [
    {
     "data": {
      "application/vnd.plotly.v1+json": {
       "config": {
        "plotlyServerURL": "https://plot.ly"
       },
       "data": [
        {
         "hovertemplate": "x=%{x}<br>y=%{y}<br>z=%{z}<extra></extra>",
         "legendgroup": "",
         "marker": {
          "color": "#636efa",
          "symbol": "circle"
         },
         "mode": "markers",
         "name": "",
         "scene": "scene",
         "showlegend": false,
         "type": "scatter3d",
         "x": [
          4.579276084899902,
          4.73355770111084,
          4.490370750427246,
          4.392567157745361,
          4.320117950439453,
          4.524954795837402,
          4.396079063415527,
          4.170401096343994,
          4.285091400146484,
          4.32027006149292,
          4.508809566497803,
          4.720232963562012,
          4.420619964599609,
          4.113529682159424,
          4.4571661949157715,
          3.503725528717041,
          3.6149799823760986,
          3.5191216468811035,
          3.42991304397583,
          3.5256950855255127,
          3.181703805923462,
          3.2831614017486572,
          3.3477959632873535,
          4.758450031280518,
          3.449164390563965,
          4.499416351318359,
          3.672943592071533,
          3.9423861503601074,
          3.7565155029296875,
          3.8283941745758057,
          3.743992805480957,
          3.8028621673583984,
          4.570291519165039,
          4.6508073806762695,
          3.891240119934082,
          3.787907838821411,
          4.736363887786865,
          3.890774965286255,
          3.782407283782959,
          4.77884578704834,
          4.721534252166748,
          4.72068452835083,
          4.523037910461426,
          4.595799922943115,
          3.340383529663086,
          3.338989734649658,
          3.1812334060668945,
          3.264263868331909,
          2.557117462158203,
          2.258293867111206,
          2.6211414337158203,
          2.294835329055786,
          2.686561107635498,
          2.8128256797790527,
          2.238974094390869,
          3.3018293380737305,
          2.039316177368164,
          2.235067367553711,
          2.674909830093384,
          6.209000110626221,
          6.186083793640137,
          3.680384874343872,
          2.6844120025634766,
          2.5700409412384033,
          3.7931346893310547,
          3.8615195751190186,
          3.965435266494751,
          3.8387255668640137,
          3.9859530925750732,
          2.3025615215301514,
          2.387254476547241,
          2.3746109008789062,
          2.4596378803253174,
          2.3934555053710938,
          2.2232069969177246,
          2.3326950073242188,
          2.3507306575775146,
          2.6179563999176025,
          3.0057289600372314,
          2.2003204822540283,
          2.1478147506713867,
          1.9055613279342651,
          1.8654193878173828,
          2.1965079307556152,
          2.143819808959961,
          2.183603525161743,
          2.812081813812256,
          2.7702128887176514,
          3.934250831604004,
          4.016976356506348,
          3.8665664196014404,
          3.8228108882904053,
          3.874382734298706,
          3.9136581420898438,
          3.876042127609253,
          3.980264663696289,
          4.006239891052246,
          5.404189109802246,
          3.95414400100708,
          2.350954294204712
         ],
         "y": [
          2.2132232189178467,
          1.9722211360931396,
          2.1913464069366455,
          2.224320411682129,
          2.360527515411377,
          2.3085665702819824,
          2.234189033508301,
          2.5628914833068848,
          2.3161661624908447,
          2.4366719722747803,
          2.2609527111053467,
          2.0107107162475586,
          2.1202585697174072,
          2.537665605545044,
          2.1392219066619873,
          2.6001365184783936,
          2.6847763061523438,
          2.6749324798583984,
          2.762507200241089,
          2.688612937927246,
          3.016752243041992,
          2.96142578125,
          2.9132463932037354,
          1.973990797996521,
          2.7419958114624023,
          2.3423643112182617,
          2.6919209957122803,
          2.4921061992645264,
          2.6143596172332764,
          2.7279162406921387,
          2.68356990814209,
          2.8005967140197754,
          2.389746904373169,
          2.36660099029541,
          2.733872413635254,
          2.809805154800415,
          2.1175994873046875,
          2.858086585998535,
          3.017287015914917,
          2.304417848587036,
          2.455678701400757,
          2.2749948501586914,
          2.334663152694702,
          2.3247628211975098,
          4.484932899475098,
          4.512271881103516,
          4.431544780731201,
          4.536281585693359,
          4.147359848022461,
          3.8514368534088135,
          4.124701976776123,
          3.719196319580078,
          4.153975009918213,
          4.297942161560059,
          5.422402381896973,
          4.523172378540039,
          5.8059401512146,
          5.908730983734131,
          5.933163166046143,
          4.003701210021973,
          4.022023677825928,
          5.749114990234375,
          6.167605400085449,
          6.180780410766602,
          5.703223705291748,
          5.633250713348389,
          5.28822135925293,
          5.048451900482178,
          5.02644681930542,
          4.26375675201416,
          4.224504470825195,
          4.157235145568848,
          4.288726806640625,
          4.127328395843506,
          3.7938761711120605,
          3.607658863067627,
          3.688878297805786,
          4.061520576477051,
          4.064408302307129,
          3.850052833557129,
          3.8310799598693848,
          6.1130900382995605,
          6.0812907218933105,
          5.5135297775268555,
          5.550790786743164,
          5.668280124664307,
          5.813941478729248,
          5.880446434020996,
          5.804206848144531,
          5.8894877433776855,
          5.764173984527588,
          5.716037273406982,
          5.620182037353516,
          5.261597633361816,
          5.246546268463135,
          5.079841613769531,
          5.072060585021973,
          3.758277177810669,
          4.991123676300049,
          5.206636905670166
         ],
         "z": [
          5.1033124923706055,
          5.707751750946045,
          6.199138641357422,
          6.2422590255737305,
          6.127896308898926,
          5.571161270141602,
          6.153416156768799,
          5.947328090667725,
          6.2703070640563965,
          5.527764320373535,
          6.1987199783325195,
          5.984659194946289,
          6.314436435699463,
          6.169384479522705,
          6.248110294342041,
          6.477643013000488,
          6.426269054412842,
          6.430771827697754,
          6.4803667068481445,
          6.442286491394043,
          6.5562238693237305,
          6.541669845581055,
          6.517169952392578,
          5.829179286956787,
          6.466590881347656,
          5.124661922454834,
          6.4086689949035645,
          6.332374572753906,
          6.409914970397949,
          6.382576942443848,
          6.415807723999023,
          6.404904842376709,
          5.720233917236328,
          5.921053409576416,
          6.34492301940918,
          6.421933174133301,
          6.068909168243408,
          6.393129348754883,
          6.480398178100586,
          6.003754615783691,
          5.623293876647949,
          6.015951156616211,
          5.145654678344727,
          5.308201313018799,
          7.887460231781006,
          7.974593639373779,
          7.723560333251953,
          8.033408164978027,
          6.993157863616943,
          7.059735298156738,
          6.910911560058594,
          6.946880340576172,
          6.891709804534912,
          6.945233345031738,
          7.387890338897705,
          7.730766773223877,
          6.9824066162109375,
          6.581051826477051,
          5.939529895782471,
          6.586331367492676,
          6.66087007522583,
          6.424030303955078,
          5.4822258949279785,
          5.534098148345947,
          6.5936455726623535,
          6.648448944091797,
          7.000476837158203,
          7.2767252922058105,
          7.280727863311768,
          7.91025447845459,
          7.717452049255371,
          7.565476894378662,
          7.7052812576293945,
          7.281316757202148,
          7.051916122436523,
          6.923449993133545,
          6.907630920410156,
          6.877048969268799,
          7.2634711265563965,
          7.066915035247803,
          7.037993431091309,
          6.667168617248535,
          6.701627254486084,
          7.368047714233398,
          7.293880462646484,
          7.074164867401123,
          6.16229772567749,
          6.058047771453857,
          6.121676445007324,
          6.2154541015625,
          6.520251750946045,
          6.583039283752441,
          6.649744510650635,
          7.029228687286377,
          7.043433666229248,
          7.220241069793701,
          7.223398208618164,
          12.271306037902832,
          7.310806751251221,
          7.40712833404541
         ]
        }
       ],
       "layout": {
        "legend": {
         "tracegroupgap": 0
        },
        "margin": {
         "t": 60
        },
        "scene": {
         "domain": {
          "x": [
           0,
           1
          ],
          "y": [
           0,
           1
          ]
         },
         "xaxis": {
          "title": {
           "text": "x"
          }
         },
         "yaxis": {
          "title": {
           "text": "y"
          }
         },
         "zaxis": {
          "title": {
           "text": "z"
          }
         }
        },
        "template": {
         "data": {
          "bar": [
           {
            "error_x": {
             "color": "#2a3f5f"
            },
            "error_y": {
             "color": "#2a3f5f"
            },
            "marker": {
             "line": {
              "color": "#E5ECF6",
              "width": 0.5
             },
             "pattern": {
              "fillmode": "overlay",
              "size": 10,
              "solidity": 0.2
             }
            },
            "type": "bar"
           }
          ],
          "barpolar": [
           {
            "marker": {
             "line": {
              "color": "#E5ECF6",
              "width": 0.5
             },
             "pattern": {
              "fillmode": "overlay",
              "size": 10,
              "solidity": 0.2
             }
            },
            "type": "barpolar"
           }
          ],
          "carpet": [
           {
            "aaxis": {
             "endlinecolor": "#2a3f5f",
             "gridcolor": "white",
             "linecolor": "white",
             "minorgridcolor": "white",
             "startlinecolor": "#2a3f5f"
            },
            "baxis": {
             "endlinecolor": "#2a3f5f",
             "gridcolor": "white",
             "linecolor": "white",
             "minorgridcolor": "white",
             "startlinecolor": "#2a3f5f"
            },
            "type": "carpet"
           }
          ],
          "choropleth": [
           {
            "colorbar": {
             "outlinewidth": 0,
             "ticks": ""
            },
            "type": "choropleth"
           }
          ],
          "contour": [
           {
            "colorbar": {
             "outlinewidth": 0,
             "ticks": ""
            },
            "colorscale": [
             [
              0,
              "#0d0887"
             ],
             [
              0.1111111111111111,
              "#46039f"
             ],
             [
              0.2222222222222222,
              "#7201a8"
             ],
             [
              0.3333333333333333,
              "#9c179e"
             ],
             [
              0.4444444444444444,
              "#bd3786"
             ],
             [
              0.5555555555555556,
              "#d8576b"
             ],
             [
              0.6666666666666666,
              "#ed7953"
             ],
             [
              0.7777777777777778,
              "#fb9f3a"
             ],
             [
              0.8888888888888888,
              "#fdca26"
             ],
             [
              1,
              "#f0f921"
             ]
            ],
            "type": "contour"
           }
          ],
          "contourcarpet": [
           {
            "colorbar": {
             "outlinewidth": 0,
             "ticks": ""
            },
            "type": "contourcarpet"
           }
          ],
          "heatmap": [
           {
            "colorbar": {
             "outlinewidth": 0,
             "ticks": ""
            },
            "colorscale": [
             [
              0,
              "#0d0887"
             ],
             [
              0.1111111111111111,
              "#46039f"
             ],
             [
              0.2222222222222222,
              "#7201a8"
             ],
             [
              0.3333333333333333,
              "#9c179e"
             ],
             [
              0.4444444444444444,
              "#bd3786"
             ],
             [
              0.5555555555555556,
              "#d8576b"
             ],
             [
              0.6666666666666666,
              "#ed7953"
             ],
             [
              0.7777777777777778,
              "#fb9f3a"
             ],
             [
              0.8888888888888888,
              "#fdca26"
             ],
             [
              1,
              "#f0f921"
             ]
            ],
            "type": "heatmap"
           }
          ],
          "heatmapgl": [
           {
            "colorbar": {
             "outlinewidth": 0,
             "ticks": ""
            },
            "colorscale": [
             [
              0,
              "#0d0887"
             ],
             [
              0.1111111111111111,
              "#46039f"
             ],
             [
              0.2222222222222222,
              "#7201a8"
             ],
             [
              0.3333333333333333,
              "#9c179e"
             ],
             [
              0.4444444444444444,
              "#bd3786"
             ],
             [
              0.5555555555555556,
              "#d8576b"
             ],
             [
              0.6666666666666666,
              "#ed7953"
             ],
             [
              0.7777777777777778,
              "#fb9f3a"
             ],
             [
              0.8888888888888888,
              "#fdca26"
             ],
             [
              1,
              "#f0f921"
             ]
            ],
            "type": "heatmapgl"
           }
          ],
          "histogram": [
           {
            "marker": {
             "pattern": {
              "fillmode": "overlay",
              "size": 10,
              "solidity": 0.2
             }
            },
            "type": "histogram"
           }
          ],
          "histogram2d": [
           {
            "colorbar": {
             "outlinewidth": 0,
             "ticks": ""
            },
            "colorscale": [
             [
              0,
              "#0d0887"
             ],
             [
              0.1111111111111111,
              "#46039f"
             ],
             [
              0.2222222222222222,
              "#7201a8"
             ],
             [
              0.3333333333333333,
              "#9c179e"
             ],
             [
              0.4444444444444444,
              "#bd3786"
             ],
             [
              0.5555555555555556,
              "#d8576b"
             ],
             [
              0.6666666666666666,
              "#ed7953"
             ],
             [
              0.7777777777777778,
              "#fb9f3a"
             ],
             [
              0.8888888888888888,
              "#fdca26"
             ],
             [
              1,
              "#f0f921"
             ]
            ],
            "type": "histogram2d"
           }
          ],
          "histogram2dcontour": [
           {
            "colorbar": {
             "outlinewidth": 0,
             "ticks": ""
            },
            "colorscale": [
             [
              0,
              "#0d0887"
             ],
             [
              0.1111111111111111,
              "#46039f"
             ],
             [
              0.2222222222222222,
              "#7201a8"
             ],
             [
              0.3333333333333333,
              "#9c179e"
             ],
             [
              0.4444444444444444,
              "#bd3786"
             ],
             [
              0.5555555555555556,
              "#d8576b"
             ],
             [
              0.6666666666666666,
              "#ed7953"
             ],
             [
              0.7777777777777778,
              "#fb9f3a"
             ],
             [
              0.8888888888888888,
              "#fdca26"
             ],
             [
              1,
              "#f0f921"
             ]
            ],
            "type": "histogram2dcontour"
           }
          ],
          "mesh3d": [
           {
            "colorbar": {
             "outlinewidth": 0,
             "ticks": ""
            },
            "type": "mesh3d"
           }
          ],
          "parcoords": [
           {
            "line": {
             "colorbar": {
              "outlinewidth": 0,
              "ticks": ""
             }
            },
            "type": "parcoords"
           }
          ],
          "pie": [
           {
            "automargin": true,
            "type": "pie"
           }
          ],
          "scatter": [
           {
            "fillpattern": {
             "fillmode": "overlay",
             "size": 10,
             "solidity": 0.2
            },
            "type": "scatter"
           }
          ],
          "scatter3d": [
           {
            "line": {
             "colorbar": {
              "outlinewidth": 0,
              "ticks": ""
             }
            },
            "marker": {
             "colorbar": {
              "outlinewidth": 0,
              "ticks": ""
             }
            },
            "type": "scatter3d"
           }
          ],
          "scattercarpet": [
           {
            "marker": {
             "colorbar": {
              "outlinewidth": 0,
              "ticks": ""
             }
            },
            "type": "scattercarpet"
           }
          ],
          "scattergeo": [
           {
            "marker": {
             "colorbar": {
              "outlinewidth": 0,
              "ticks": ""
             }
            },
            "type": "scattergeo"
           }
          ],
          "scattergl": [
           {
            "marker": {
             "colorbar": {
              "outlinewidth": 0,
              "ticks": ""
             }
            },
            "type": "scattergl"
           }
          ],
          "scattermapbox": [
           {
            "marker": {
             "colorbar": {
              "outlinewidth": 0,
              "ticks": ""
             }
            },
            "type": "scattermapbox"
           }
          ],
          "scatterpolar": [
           {
            "marker": {
             "colorbar": {
              "outlinewidth": 0,
              "ticks": ""
             }
            },
            "type": "scatterpolar"
           }
          ],
          "scatterpolargl": [
           {
            "marker": {
             "colorbar": {
              "outlinewidth": 0,
              "ticks": ""
             }
            },
            "type": "scatterpolargl"
           }
          ],
          "scatterternary": [
           {
            "marker": {
             "colorbar": {
              "outlinewidth": 0,
              "ticks": ""
             }
            },
            "type": "scatterternary"
           }
          ],
          "surface": [
           {
            "colorbar": {
             "outlinewidth": 0,
             "ticks": ""
            },
            "colorscale": [
             [
              0,
              "#0d0887"
             ],
             [
              0.1111111111111111,
              "#46039f"
             ],
             [
              0.2222222222222222,
              "#7201a8"
             ],
             [
              0.3333333333333333,
              "#9c179e"
             ],
             [
              0.4444444444444444,
              "#bd3786"
             ],
             [
              0.5555555555555556,
              "#d8576b"
             ],
             [
              0.6666666666666666,
              "#ed7953"
             ],
             [
              0.7777777777777778,
              "#fb9f3a"
             ],
             [
              0.8888888888888888,
              "#fdca26"
             ],
             [
              1,
              "#f0f921"
             ]
            ],
            "type": "surface"
           }
          ],
          "table": [
           {
            "cells": {
             "fill": {
              "color": "#EBF0F8"
             },
             "line": {
              "color": "white"
             }
            },
            "header": {
             "fill": {
              "color": "#C8D4E3"
             },
             "line": {
              "color": "white"
             }
            },
            "type": "table"
           }
          ]
         },
         "layout": {
          "annotationdefaults": {
           "arrowcolor": "#2a3f5f",
           "arrowhead": 0,
           "arrowwidth": 1
          },
          "autotypenumbers": "strict",
          "coloraxis": {
           "colorbar": {
            "outlinewidth": 0,
            "ticks": ""
           }
          },
          "colorscale": {
           "diverging": [
            [
             0,
             "#8e0152"
            ],
            [
             0.1,
             "#c51b7d"
            ],
            [
             0.2,
             "#de77ae"
            ],
            [
             0.3,
             "#f1b6da"
            ],
            [
             0.4,
             "#fde0ef"
            ],
            [
             0.5,
             "#f7f7f7"
            ],
            [
             0.6,
             "#e6f5d0"
            ],
            [
             0.7,
             "#b8e186"
            ],
            [
             0.8,
             "#7fbc41"
            ],
            [
             0.9,
             "#4d9221"
            ],
            [
             1,
             "#276419"
            ]
           ],
           "sequential": [
            [
             0,
             "#0d0887"
            ],
            [
             0.1111111111111111,
             "#46039f"
            ],
            [
             0.2222222222222222,
             "#7201a8"
            ],
            [
             0.3333333333333333,
             "#9c179e"
            ],
            [
             0.4444444444444444,
             "#bd3786"
            ],
            [
             0.5555555555555556,
             "#d8576b"
            ],
            [
             0.6666666666666666,
             "#ed7953"
            ],
            [
             0.7777777777777778,
             "#fb9f3a"
            ],
            [
             0.8888888888888888,
             "#fdca26"
            ],
            [
             1,
             "#f0f921"
            ]
           ],
           "sequentialminus": [
            [
             0,
             "#0d0887"
            ],
            [
             0.1111111111111111,
             "#46039f"
            ],
            [
             0.2222222222222222,
             "#7201a8"
            ],
            [
             0.3333333333333333,
             "#9c179e"
            ],
            [
             0.4444444444444444,
             "#bd3786"
            ],
            [
             0.5555555555555556,
             "#d8576b"
            ],
            [
             0.6666666666666666,
             "#ed7953"
            ],
            [
             0.7777777777777778,
             "#fb9f3a"
            ],
            [
             0.8888888888888888,
             "#fdca26"
            ],
            [
             1,
             "#f0f921"
            ]
           ]
          },
          "colorway": [
           "#636efa",
           "#EF553B",
           "#00cc96",
           "#ab63fa",
           "#FFA15A",
           "#19d3f3",
           "#FF6692",
           "#B6E880",
           "#FF97FF",
           "#FECB52"
          ],
          "font": {
           "color": "#2a3f5f"
          },
          "geo": {
           "bgcolor": "white",
           "lakecolor": "white",
           "landcolor": "#E5ECF6",
           "showlakes": true,
           "showland": true,
           "subunitcolor": "white"
          },
          "hoverlabel": {
           "align": "left"
          },
          "hovermode": "closest",
          "mapbox": {
           "style": "light"
          },
          "paper_bgcolor": "white",
          "plot_bgcolor": "#E5ECF6",
          "polar": {
           "angularaxis": {
            "gridcolor": "white",
            "linecolor": "white",
            "ticks": ""
           },
           "bgcolor": "#E5ECF6",
           "radialaxis": {
            "gridcolor": "white",
            "linecolor": "white",
            "ticks": ""
           }
          },
          "scene": {
           "xaxis": {
            "backgroundcolor": "#E5ECF6",
            "gridcolor": "white",
            "gridwidth": 2,
            "linecolor": "white",
            "showbackground": true,
            "ticks": "",
            "zerolinecolor": "white"
           },
           "yaxis": {
            "backgroundcolor": "#E5ECF6",
            "gridcolor": "white",
            "gridwidth": 2,
            "linecolor": "white",
            "showbackground": true,
            "ticks": "",
            "zerolinecolor": "white"
           },
           "zaxis": {
            "backgroundcolor": "#E5ECF6",
            "gridcolor": "white",
            "gridwidth": 2,
            "linecolor": "white",
            "showbackground": true,
            "ticks": "",
            "zerolinecolor": "white"
           }
          },
          "shapedefaults": {
           "line": {
            "color": "#2a3f5f"
           }
          },
          "ternary": {
           "aaxis": {
            "gridcolor": "white",
            "linecolor": "white",
            "ticks": ""
           },
           "baxis": {
            "gridcolor": "white",
            "linecolor": "white",
            "ticks": ""
           },
           "bgcolor": "#E5ECF6",
           "caxis": {
            "gridcolor": "white",
            "linecolor": "white",
            "ticks": ""
           }
          },
          "title": {
           "x": 0.05
          },
          "xaxis": {
           "automargin": true,
           "gridcolor": "white",
           "linecolor": "white",
           "ticks": "",
           "title": {
            "standoff": 15
           },
           "zerolinecolor": "white",
           "zerolinewidth": 2
          },
          "yaxis": {
           "automargin": true,
           "gridcolor": "white",
           "linecolor": "white",
           "ticks": "",
           "title": {
            "standoff": 15
           },
           "zerolinecolor": "white",
           "zerolinewidth": 2
          }
         }
        }
       }
      }
     },
     "metadata": {},
     "output_type": "display_data"
    }
   ],
   "source": [
    "f = px.scatter_3d(data, x=\"x\", y=\"y\", z=\"z\", labels=\"labels\")\n",
    "f.show()"
   ]
  },
  {
   "attachments": {},
   "cell_type": "markdown",
   "metadata": {},
   "source": [
    "### BERT Sentence Transformers"
   ]
  },
  {
   "cell_type": "code",
   "execution_count": 17,
   "metadata": {},
   "outputs": [
    {
     "name": "stderr",
     "output_type": "stream",
     "text": [
      "Downloading (…)e9125/.gitattributes: 100%|██████████| 1.18k/1.18k [00:00<?, ?B/s]\n",
      "Downloading (…)_Pooling/config.json: 100%|██████████| 190/190 [00:00<?, ?B/s] \n",
      "Downloading (…)7e55de9125/README.md: 100%|██████████| 10.6k/10.6k [00:00<?, ?B/s]\n",
      "Downloading (…)55de9125/config.json: 100%|██████████| 612/612 [00:00<?, ?B/s] \n",
      "Downloading (…)ce_transformers.json: 100%|██████████| 116/116 [00:00<?, ?B/s] \n",
      "Downloading (…)125/data_config.json: 100%|██████████| 39.3k/39.3k [00:00<00:00, 485kB/s]\n",
      "Downloading pytorch_model.bin: 100%|██████████| 90.9M/90.9M [00:02<00:00, 44.5MB/s]\n",
      "Downloading (…)nce_bert_config.json: 100%|██████████| 53.0/53.0 [00:00<?, ?B/s]\n",
      "Downloading (…)cial_tokens_map.json: 100%|██████████| 112/112 [00:00<?, ?B/s] \n",
      "Downloading (…)e9125/tokenizer.json: 100%|██████████| 466k/466k [00:00<00:00, 2.92MB/s]\n",
      "Downloading (…)okenizer_config.json: 100%|██████████| 350/350 [00:00<?, ?B/s] \n",
      "Downloading (…)9125/train_script.py: 100%|██████████| 13.2k/13.2k [00:00<?, ?B/s]\n",
      "Downloading (…)7e55de9125/vocab.txt: 100%|██████████| 232k/232k [00:00<00:00, 2.72MB/s]\n",
      "Downloading (…)5de9125/modules.json: 100%|██████████| 349/349 [00:00<?, ?B/s] \n"
     ]
    },
    {
     "name": "stdout",
     "output_type": "stream",
     "text": [
      "Sentence: This framework generates embeddings for each input sentence\n",
      "Embedding: [-1.37173552e-02 -4.28515412e-02 -1.56286098e-02  1.40537675e-02\n",
      "  3.95537615e-02  1.21796317e-01  2.94333659e-02 -3.17524336e-02\n",
      "  3.54959927e-02 -7.93139786e-02  1.75878350e-02 -4.04370092e-02\n",
      "  4.97259349e-02  2.54912134e-02 -7.18700662e-02  8.14968720e-02\n",
      "  1.47072482e-03  4.79627065e-02 -4.50336114e-02 -9.92174670e-02\n",
      " -2.81769820e-02  6.45046234e-02  4.44670580e-02 -4.76217046e-02\n",
      " -3.52952480e-02  4.38671671e-02 -5.28566055e-02  4.33045556e-04\n",
      "  1.01921499e-01  1.64072420e-02  3.26996632e-02 -3.45986634e-02\n",
      "  1.21339280e-02  7.94871151e-02  4.58342070e-03  1.57778412e-02\n",
      " -9.68210399e-03  2.87625976e-02 -5.05806208e-02 -1.55793503e-02\n",
      " -2.87907012e-02 -9.62282438e-03  3.15556787e-02  2.27348972e-02\n",
      "  8.71449485e-02 -3.85027118e-02 -8.84718373e-02 -8.75501521e-03\n",
      " -2.12343540e-02  2.08923593e-02 -9.02077407e-02 -5.25732078e-02\n",
      " -1.05638644e-02  2.88310759e-02 -1.61455162e-02  6.17835438e-03\n",
      " -1.23234289e-02 -1.07337097e-02  2.83353999e-02 -5.28567694e-02\n",
      " -3.58618274e-02 -5.97989149e-02 -1.09055219e-02  2.91566122e-02\n",
      "  7.97979608e-02 -3.27874062e-04  6.83498336e-03  1.32718282e-02\n",
      " -4.24620323e-02  1.87656973e-02 -9.89234224e-02  2.09049918e-02\n",
      " -8.69605839e-02 -1.50151886e-02 -4.86201644e-02  8.04414749e-02\n",
      " -3.67701286e-03 -6.65044412e-02  1.14556789e-01 -3.04228850e-02\n",
      "  2.96632033e-02 -2.80695353e-02  4.64990139e-02 -2.25513875e-02\n",
      "  8.54223296e-02  3.15446779e-02  7.34541863e-02 -2.21861824e-02\n",
      " -5.29678613e-02  1.27130309e-02 -5.27339913e-02 -1.06188744e-01\n",
      "  7.04731569e-02  2.76736598e-02 -8.05531368e-02  2.39649490e-02\n",
      " -2.65125111e-02 -2.17330754e-02  4.35275510e-02  4.84711640e-02\n",
      " -2.37067267e-02  2.85768267e-02  1.11846142e-01 -6.34935945e-02\n",
      " -1.58318207e-02 -2.26169750e-02 -1.31027866e-02 -1.62069069e-03\n",
      " -3.60928886e-02 -9.78297666e-02 -4.67729047e-02  1.76271796e-02\n",
      " -3.97492200e-02 -1.76388785e-04  3.39627489e-02 -2.09633652e-02\n",
      "  6.33662753e-03 -2.59411260e-02  8.10410231e-02  6.14393316e-02\n",
      " -5.44595858e-03  6.48275912e-02 -1.16844073e-01  2.36860942e-02\n",
      " -1.32058710e-02 -1.12476520e-01  1.90049503e-02 -1.74661689e-34\n",
      "  5.58949746e-02  1.94244701e-02  4.65438776e-02  5.18645346e-02\n",
      "  3.89390551e-02  3.40541191e-02 -4.32114340e-02  7.90637210e-02\n",
      " -9.79529992e-02 -1.27441091e-02 -2.91870870e-02  1.02052018e-02\n",
      "  1.88115928e-02  1.08942568e-01  6.63464963e-02 -5.35294972e-02\n",
      " -3.29228379e-02  4.69826907e-02  2.28882916e-02  2.74114534e-02\n",
      " -2.91982964e-02  3.12706679e-02 -2.22850628e-02 -1.02282189e-01\n",
      " -2.79116724e-02  1.13793267e-02  9.06308591e-02 -4.75414395e-02\n",
      " -1.00718938e-01 -1.23232193e-02 -7.96929076e-02 -1.44636277e-02\n",
      " -7.76400790e-02 -7.66916666e-03  9.73954238e-03  2.24204753e-02\n",
      "  7.77268335e-02 -3.17154033e-03  2.11537927e-02 -3.30394097e-02\n",
      "  9.55248531e-03 -3.73011716e-02  2.61360835e-02 -9.79087781e-03\n",
      " -6.31505325e-02  5.77434432e-03 -3.80031206e-02  1.29684824e-02\n",
      " -1.82499811e-02 -1.56282876e-02 -1.23363815e-03  5.55579364e-02\n",
      "  1.13087393e-04 -5.61256632e-02  7.40165487e-02  1.84452217e-02\n",
      " -2.66368277e-02  1.31951785e-02  7.50086308e-02 -2.46796962e-02\n",
      " -3.24006155e-02 -1.57674886e-02 -8.03518295e-03 -5.61318127e-03\n",
      "  1.05687715e-02  3.26167489e-03 -3.91989946e-02 -9.38677117e-02\n",
      "  1.14227191e-01  6.57304302e-02 -4.72633801e-02  1.45087512e-02\n",
      " -3.54490355e-02 -3.37761678e-02 -5.15505895e-02 -3.81005858e-03\n",
      " -5.15036434e-02 -5.93429320e-02 -1.69411942e-03  7.42107630e-02\n",
      " -4.20091674e-02 -7.19975084e-02  3.17250118e-02 -1.66303422e-02\n",
      "  3.96981975e-03 -6.52750805e-02  2.77391076e-02 -7.51648918e-02\n",
      "  2.27455646e-02 -3.91368270e-02  1.54315718e-02 -5.54908514e-02\n",
      "  1.23318862e-02 -2.59520635e-02  6.66423738e-02 -6.91258591e-34\n",
      "  3.31629068e-02  8.47929269e-02 -6.65583909e-02  3.33541408e-02\n",
      "  4.71612765e-03  1.35361934e-02 -5.38694113e-02  9.20693949e-02\n",
      " -2.96876673e-02  3.16219479e-02 -2.37497017e-02  1.98770948e-02\n",
      "  1.03446215e-01 -9.06947702e-02  6.30626967e-03  1.42886192e-02\n",
      "  1.19293891e-02  6.43724250e-03  4.20104600e-02  1.25344750e-02\n",
      "  3.93019356e-02  5.35691679e-02 -4.30750176e-02  6.10432290e-02\n",
      " -5.39811481e-05  6.91682622e-02  1.05520012e-02  1.22112045e-02\n",
      " -7.23184943e-02  2.50469781e-02 -5.18371351e-02 -4.36562113e-02\n",
      " -6.71818256e-02  1.34828426e-02 -7.25888833e-02  7.04166479e-03\n",
      "  6.58939555e-02  1.08994395e-02 -2.60012201e-03  5.49969003e-02\n",
      "  5.06966710e-02  3.27948742e-02 -6.68832958e-02  6.45557940e-02\n",
      " -2.52075847e-02 -2.92571764e-02 -1.16696715e-01  3.24064456e-02\n",
      "  5.85858040e-02 -3.51756327e-02 -7.15240240e-02  2.24936120e-02\n",
      " -1.00786746e-01 -4.74544764e-02 -7.61963055e-02 -5.87166548e-02\n",
      "  4.21138555e-02 -7.47213811e-02  1.98467858e-02 -3.36502981e-03\n",
      " -5.29736876e-02  2.74729859e-02  3.45736854e-02 -6.11846596e-02\n",
      "  1.06364816e-01 -9.64119509e-02 -4.55945134e-02  1.51489768e-02\n",
      " -5.13522048e-03 -6.64447770e-02  4.31721583e-02 -1.10405777e-02\n",
      " -9.80249792e-03  7.53783137e-02 -1.49570899e-02 -4.80208285e-02\n",
      "  5.80726378e-02 -2.43896805e-02 -2.23137513e-02 -4.36992496e-02\n",
      "  5.12053780e-02 -3.28625888e-02  1.08763315e-01  6.08926788e-02\n",
      "  3.30791320e-03  5.53819910e-02  8.43200982e-02  1.27087180e-02\n",
      "  3.84465493e-02  6.52325749e-02 -2.94683762e-02  5.08005247e-02\n",
      " -2.09348034e-02  1.46135688e-01  2.25561056e-02 -1.77227744e-08\n",
      " -5.02672680e-02 -2.79217988e-04 -1.00328587e-01  2.42811274e-02\n",
      " -7.54043385e-02 -3.79139856e-02  3.96049805e-02  3.10079996e-02\n",
      " -9.05703939e-03 -6.50411919e-02  4.05453108e-02  4.83390130e-02\n",
      " -4.56962362e-02  4.76006093e-03  2.64361198e-03  9.35614109e-02\n",
      " -4.02599461e-02  3.27401720e-02  1.18298177e-02  5.54344505e-02\n",
      "  1.48052245e-01  7.21189156e-02  2.76968669e-04  1.68651380e-02\n",
      "  8.34882259e-03 -8.76155589e-03 -1.33649791e-02  6.14237227e-02\n",
      "  1.57167856e-02  6.94960803e-02  1.08621800e-02  6.08018301e-02\n",
      " -5.33421896e-02 -3.47923823e-02 -3.36272158e-02  6.93906844e-02\n",
      "  1.22987675e-02 -1.45237386e-01 -2.06969213e-03 -4.61132526e-02\n",
      "  3.72749381e-03 -5.59355551e-03 -1.00659855e-01 -4.45953310e-02\n",
      "  5.40921204e-02  4.98893578e-03  1.49534279e-02 -8.26059952e-02\n",
      "  6.26630858e-02 -5.01906965e-03 -4.81857695e-02 -3.53991278e-02\n",
      "  9.03388113e-03 -2.42338069e-02  5.66267483e-02  2.51529217e-02\n",
      " -1.70708969e-02 -1.24780377e-02  3.19518335e-02  1.38421012e-02\n",
      " -1.55815175e-02  1.00178257e-01  1.23657197e-01 -4.22967114e-02]\n",
      "\n",
      "Sentence: Sentences are passed as a list of string.\n",
      "Embedding: [ 5.64524680e-02  5.50024174e-02  3.13795842e-02  3.39485072e-02\n",
      " -3.54247317e-02  8.34668055e-02  9.88801047e-02  7.27545656e-03\n",
      " -6.68659527e-03 -7.65814353e-03  7.93738067e-02  7.39676878e-04\n",
      "  1.49292015e-02 -1.51046831e-02  3.67674194e-02  4.78743315e-02\n",
      " -4.81969342e-02 -3.76052037e-02 -4.60278317e-02 -8.89815986e-02\n",
      "  1.20228142e-01  1.30663216e-01 -3.73935886e-02  2.47856718e-03\n",
      "  2.55824998e-03  7.25814551e-02 -6.80436566e-02 -5.24696223e-02\n",
      "  4.90234047e-02  2.99563184e-02 -5.84429577e-02 -2.02263352e-02\n",
      "  2.08821986e-02  9.76691917e-02  3.52390222e-02  3.91140766e-02\n",
      "  1.05668101e-02  1.56232214e-03 -1.30823022e-02  8.52904655e-03\n",
      " -4.84091695e-03 -2.03766637e-02 -2.71800943e-02  2.83307564e-02\n",
      "  3.66017781e-02  2.51276512e-02 -9.90861878e-02  1.15626566e-02\n",
      " -3.60380486e-02 -7.23784119e-02 -1.12670071e-01  1.12941880e-02\n",
      " -3.86397354e-02  4.67386283e-02 -2.88461000e-02  2.26703621e-02\n",
      " -8.52407888e-03  3.32815051e-02 -1.06580416e-03 -7.09745362e-02\n",
      " -6.31170198e-02 -5.72187193e-02 -6.16026372e-02  5.47146648e-02\n",
      "  1.18317613e-02 -4.66261208e-02  2.56959815e-02 -7.07414700e-03\n",
      " -5.73842935e-02  4.12839167e-02 -5.91503195e-02  5.89021929e-02\n",
      " -4.41697501e-02  4.65081595e-02 -3.15814093e-02  5.58312312e-02\n",
      "  5.54578640e-02 -5.96533529e-02  4.06406969e-02  4.83761635e-03\n",
      " -4.96768020e-02 -1.00944370e-01  3.40078361e-02  4.13270993e-03\n",
      " -2.93522305e-03  2.11837403e-02 -3.73962112e-02 -2.79066768e-02\n",
      " -4.61767986e-02  5.26138432e-02 -2.79734787e-02 -1.62379250e-01\n",
      "  6.61042035e-02  1.72274057e-02 -5.45110693e-03  4.74474132e-02\n",
      " -3.82237434e-02 -3.96896712e-02  1.34544717e-02  4.49653938e-02\n",
      "  4.53674421e-03  2.82978918e-02  8.36633295e-02 -1.00858193e-02\n",
      " -1.19353965e-01 -3.84624526e-02  4.82858680e-02 -9.46083814e-02\n",
      "  1.91854071e-02 -9.96518508e-02 -6.30596578e-02  3.02696042e-02\n",
      "  1.17402663e-02 -4.78372499e-02 -6.20265398e-03 -3.32850479e-02\n",
      " -4.04385710e-03  1.28307156e-02  4.05253991e-02  7.56477043e-02\n",
      "  2.92434730e-02  2.84270346e-02 -2.78938990e-02  1.66858118e-02\n",
      " -2.47961786e-02 -6.83650672e-02  2.89968699e-02 -5.39867784e-33\n",
      " -2.69014016e-03 -2.65069250e-02 -6.47948007e-04 -8.46194755e-03\n",
      " -7.35154748e-02  4.94082971e-03 -5.97842298e-02  1.03438376e-02\n",
      "  2.12907116e-03 -2.88217608e-03 -3.17076370e-02 -9.42364335e-02\n",
      "  3.03020086e-02  7.00226426e-02  4.50685918e-02  3.69439498e-02\n",
      "  1.13593210e-02  3.53026949e-02  5.50449779e-03  1.34416856e-03\n",
      "  3.46122310e-03  7.75047541e-02  5.45112342e-02 -7.92055726e-02\n",
      " -9.31696743e-02 -4.03398760e-02  3.10668796e-02 -3.83081436e-02\n",
      " -5.89443222e-02  1.93331931e-02 -2.67160218e-02 -7.91938156e-02\n",
      "  1.04167084e-04  7.70621300e-02  4.16603684e-02  8.90932605e-02\n",
      "  3.56843062e-02 -1.09153129e-02  3.71498577e-02 -2.07070485e-02\n",
      " -2.46100798e-02 -2.05025375e-02  2.62201298e-02  3.43590379e-02\n",
      "  4.39251103e-02 -8.20518006e-03 -8.40710029e-02  4.24170531e-02\n",
      "  4.87499125e-02  5.95385022e-02  2.87747774e-02  3.37638371e-02\n",
      " -4.07443047e-02 -1.66371954e-03  7.91927576e-02  3.41088399e-02\n",
      " -5.72830730e-04  1.87749546e-02 -1.36963921e-02  7.38333166e-02\n",
      "  5.74524689e-04  8.33505467e-02  5.60811087e-02 -1.13710631e-02\n",
      "  4.42611724e-02  2.69582067e-02 -4.80536111e-02 -3.15087363e-02\n",
      "  7.75226504e-02  1.81773156e-02 -8.83005112e-02 -7.85520673e-03\n",
      " -6.22243024e-02  7.19372854e-02 -2.33475063e-02  6.52483990e-03\n",
      " -9.49527696e-03 -9.88313034e-02  4.01306450e-02  3.07397265e-02\n",
      " -2.21607015e-02 -9.45911631e-02  1.02368211e-02  1.02187768e-01\n",
      " -4.12960313e-02 -3.15778181e-02  4.74752374e-02 -1.10209785e-01\n",
      "  1.69614665e-02 -3.71709354e-02 -1.03261694e-02 -4.72538061e-02\n",
      " -1.20214000e-02 -1.93255264e-02  5.79292364e-02  4.23866870e-34\n",
      "  3.92013118e-02  8.41362029e-02 -1.02946699e-01  6.92259818e-02\n",
      "  1.68821476e-02 -3.26760784e-02  9.65956785e-03  1.80899836e-02\n",
      "  2.17940304e-02  1.63189452e-02 -9.69292447e-02  3.74847278e-03\n",
      " -2.38456912e-02 -3.44056040e-02  7.11962655e-02  9.21890896e-04\n",
      " -6.23857509e-03  3.23754027e-02 -8.90389609e-04  5.01904683e-03\n",
      " -4.24538329e-02  9.89083871e-02 -4.60321084e-02  4.69704978e-02\n",
      " -1.75284687e-02 -7.02514872e-03  1.32743679e-02 -5.30152470e-02\n",
      "  2.66409595e-03  1.45818982e-02  7.43344938e-03 -3.07131745e-02\n",
      " -2.09416468e-02  8.24110433e-02 -5.15893996e-02 -2.71178447e-02\n",
      "  1.17583029e-01  7.72509351e-03 -1.89522896e-02  3.94559279e-02\n",
      "  7.17360228e-02  2.59116702e-02  2.75191721e-02  9.50542651e-03\n",
      " -3.02355643e-02 -4.07944806e-02 -1.04028471e-01 -7.97419436e-03\n",
      " -3.64458491e-03  3.29716504e-02 -2.35954728e-02 -7.50513747e-03\n",
      " -5.82234189e-02 -3.17906216e-02 -4.18049283e-02  2.17453465e-02\n",
      " -6.67292178e-02 -4.89104167e-02  4.58515296e-03 -2.66046412e-02\n",
      " -1.12597026e-01  5.11167720e-02  5.48534133e-02 -6.69857115e-02\n",
      "  1.26766309e-01 -8.59487951e-02 -5.94231524e-02 -2.92191119e-03\n",
      " -1.14875855e-02 -1.26025781e-01 -3.48276924e-03 -9.12001729e-02\n",
      " -1.22933060e-01  1.33777205e-02 -4.75774817e-02 -6.57933056e-02\n",
      " -3.39409709e-02 -3.07107456e-02 -5.22034131e-02 -2.35463865e-02\n",
      "  5.90035059e-02 -3.85757759e-02  3.19701135e-02  4.05118763e-02\n",
      "  1.67077929e-02 -3.58281098e-02  1.45687908e-02  3.20137553e-02\n",
      " -1.34843802e-02  6.07819781e-02 -8.31397530e-03 -1.08106034e-02\n",
      "  4.69410606e-02  7.66133741e-02 -4.23400402e-02 -2.11963318e-08\n",
      " -7.25292638e-02 -4.20227982e-02 -6.12374656e-02  5.24666533e-02\n",
      " -1.42363729e-02  1.18487515e-02 -1.40789254e-02 -3.67530212e-02\n",
      " -4.44977731e-02 -1.15139959e-02  5.23317270e-02  2.96651851e-02\n",
      " -4.62780371e-02 -3.70892622e-02  1.89129841e-02  2.04307064e-02\n",
      " -2.24006027e-02 -1.48562631e-02 -1.79504305e-02  4.20007706e-02\n",
      "  1.40942698e-02 -2.83492431e-02 -1.16862997e-01  1.48956478e-02\n",
      " -7.30583211e-04  5.66028282e-02 -2.68739909e-02  1.09106690e-01\n",
      "  2.94558844e-03  1.19267896e-01  1.14212424e-01  8.92973691e-02\n",
      " -1.70255750e-02 -4.99053672e-02 -2.11930890e-02  3.18421274e-02\n",
      "  7.03435838e-02 -1.02929436e-01  8.23816732e-02  2.81968303e-02\n",
      "  3.21146473e-02  3.79107893e-02 -1.09553084e-01  8.19620490e-02\n",
      "  8.73216689e-02 -5.73563762e-02 -2.01709308e-02 -5.69444448e-02\n",
      " -1.30338343e-02 -5.55684157e-02 -1.32966395e-02  8.64009745e-03\n",
      "  5.30012473e-02 -4.06847149e-02  2.71709040e-02 -2.55948678e-03\n",
      "  3.05775534e-02 -4.61865515e-02  4.68034158e-03 -3.64947058e-02\n",
      "  6.80802986e-02  6.65087774e-02  8.49152133e-02 -3.32848988e-02]\n",
      "\n",
      "Sentence: The quick brown fox jumps over the lazy dog.\n",
      "Embedding: [ 4.39335704e-02  5.89344501e-02  4.81783673e-02  7.75481015e-02\n",
      "  2.67443936e-02 -3.76295634e-02 -2.60511087e-03 -5.99430278e-02\n",
      " -2.49600294e-03  2.20728200e-02  4.80259694e-02  5.57553098e-02\n",
      " -3.89454216e-02 -2.66167801e-02  7.69339455e-03 -2.62376741e-02\n",
      " -3.64160873e-02 -3.78161147e-02  7.40781426e-02 -4.95050363e-02\n",
      " -5.85217439e-02 -6.36196807e-02  3.24349664e-02  2.20085494e-02\n",
      " -7.10637197e-02 -3.31577770e-02 -6.94103986e-02 -5.00373952e-02\n",
      "  7.46267810e-02 -1.11133851e-01 -1.23063186e-02  3.77456769e-02\n",
      " -2.80313343e-02  1.45353572e-02 -3.15585695e-02 -8.05836096e-02\n",
      "  5.83525896e-02  2.59005441e-03  3.92801873e-02  2.57695932e-02\n",
      "  4.98505756e-02 -1.75626890e-03 -4.55297753e-02  2.92607471e-02\n",
      " -1.02017261e-01  5.22287488e-02 -7.90899470e-02 -1.02857612e-02\n",
      "  9.20246262e-03  1.30732525e-02 -4.04777937e-02 -2.77925283e-02\n",
      "  1.24667073e-02  6.72832653e-02  6.81248009e-02 -7.57119851e-03\n",
      " -6.09940477e-03 -4.23776656e-02  5.17815948e-02 -1.56707261e-02\n",
      "  9.56360903e-03  4.12390195e-02  2.14959066e-02  1.04293600e-02\n",
      "  2.73349509e-02  1.87062360e-02 -2.69607585e-02 -7.00542256e-02\n",
      " -1.04700468e-01 -1.89871888e-03  1.77016705e-02 -5.74725568e-02\n",
      " -1.44223543e-02  4.70450439e-04  2.33228644e-03 -2.51920652e-02\n",
      "  4.93004322e-02 -5.09609841e-02  6.31983057e-02  1.49165075e-02\n",
      " -2.70766746e-02 -4.52875644e-02 -4.90594469e-02  3.74940485e-02\n",
      "  3.84579897e-02  1.56902603e-03  3.09922379e-02  2.01630481e-02\n",
      " -1.24363741e-02 -3.06720156e-02 -2.78819017e-02 -6.89182580e-02\n",
      " -5.13676666e-02  2.14795880e-02  1.15746930e-02  1.25410571e-03\n",
      "  1.88765563e-02 -4.42319065e-02 -4.49817292e-02 -3.41869332e-03\n",
      "  1.31131476e-02  2.00099498e-02  1.21099755e-01  2.31074784e-02\n",
      " -2.20158976e-02 -3.28847170e-02 -3.15515604e-03  1.17878408e-04\n",
      "  9.91498753e-02  1.65239088e-02 -4.69672075e-03 -1.45366723e-02\n",
      " -3.71077610e-03  9.65136215e-02  2.85908207e-02  2.13481877e-02\n",
      " -7.17645735e-02 -2.41142102e-02 -4.40940633e-02 -1.07346870e-01\n",
      "  6.79945573e-02  1.30466774e-01 -7.97030032e-02  6.79507293e-03\n",
      " -2.37511788e-02 -4.61636446e-02 -2.99650785e-02 -3.69410010e-33\n",
      "  7.30969608e-02 -2.20171511e-02 -8.61464366e-02 -7.14379549e-02\n",
      " -6.36741892e-02 -7.21863210e-02 -5.93045168e-03 -2.33641304e-02\n",
      " -2.83658206e-02  4.77434695e-02 -8.06176364e-02 -1.56476395e-03\n",
      "  1.38443531e-02 -2.86235940e-02 -3.35386544e-02 -1.13777518e-01\n",
      " -9.17634834e-03 -1.08101144e-02  3.23195867e-02  5.88380955e-02\n",
      "  3.34209017e-02  1.07987933e-01 -3.72713245e-02 -2.96770725e-02\n",
      "  5.17190322e-02 -2.25339010e-02 -6.96090907e-02 -2.14475319e-02\n",
      " -2.33410560e-02  4.82199639e-02 -3.58766392e-02 -4.68991175e-02\n",
      " -3.97873446e-02  1.10813215e-01 -1.43007059e-02 -1.18464500e-01\n",
      "  5.82915507e-02 -6.25889078e-02 -2.94040777e-02  6.03238493e-02\n",
      " -2.44415249e-03  1.60115883e-02  2.67233849e-02  2.49530282e-02\n",
      " -6.49318919e-02 -1.06802201e-02  2.81464476e-02  1.03564160e-02\n",
      " -6.63588231e-04  1.98186468e-02 -3.04288473e-02  6.28424389e-03\n",
      "  5.15268408e-02 -4.75375056e-02 -6.44421130e-02  9.55031961e-02\n",
      "  7.55858347e-02 -2.81574447e-02 -3.49966101e-02  1.01816393e-01\n",
      "  1.98732279e-02 -3.68036292e-02  2.93524913e-03 -5.00745066e-02\n",
      "  1.50932148e-01 -6.16079383e-02 -8.58812854e-02  7.13991933e-03\n",
      " -1.33065563e-02  7.80405179e-02  1.75250601e-02  4.21279445e-02\n",
      "  3.57939936e-02 -1.32950455e-01  3.56970318e-02 -2.03117039e-02\n",
      "  1.24909896e-02 -3.80355380e-02  4.91543300e-02 -1.56541094e-02\n",
      "  1.21418223e-01 -8.08644369e-02 -4.68781702e-02  4.10843194e-02\n",
      " -1.84318163e-02  6.69690669e-02  4.33594687e-03  2.27315016e-02\n",
      " -1.36428932e-02 -4.53238375e-02 -3.92829925e-02 -6.29889686e-03\n",
      "  5.29609881e-02 -3.69064547e-02  7.11676851e-02  2.33343416e-33\n",
      "  1.05231345e-01 -4.81874309e-02  6.95919171e-02  6.56976476e-02\n",
      " -4.65148576e-02  5.14492691e-02 -1.24475248e-02  3.20872180e-02\n",
      " -9.23356637e-02  5.00932932e-02 -3.28875929e-02  1.39138810e-02\n",
      " -8.70249700e-04 -4.90908930e-03  1.03946418e-01  3.21575440e-04\n",
      "  5.28110452e-02 -1.17990533e-02  2.31565759e-02  1.31768268e-02\n",
      " -5.25962599e-02  3.26702446e-02  3.08661431e-04  6.41128942e-02\n",
      "  3.88500877e-02  5.88008612e-02  8.29793215e-02 -1.88149698e-02\n",
      " -2.26377714e-02 -1.00473635e-01 -3.83752659e-02 -5.88081852e-02\n",
      "  1.82419305e-03 -4.26995531e-02  2.50195134e-02  6.40060008e-02\n",
      " -3.77482921e-02 -6.83899596e-03 -2.54607713e-03 -9.76042897e-02\n",
      "  1.88475624e-02 -8.83171742e-04  1.73611958e-02  7.10790828e-02\n",
      "  3.30393203e-02  6.93424093e-03 -5.60523421e-02  5.14634699e-02\n",
      " -4.29541990e-02  4.60077450e-02 -8.78834073e-03  3.17289047e-02\n",
      "  4.93965447e-02  2.95190178e-02 -5.05192764e-02 -5.43186888e-02\n",
      "  1.49943458e-04 -2.76614130e-02  3.46878618e-02 -2.10890323e-02\n",
      "  1.38059799e-02  2.99886353e-02  1.39744533e-02 -4.26468812e-03\n",
      " -1.50337061e-02 -8.76095295e-02 -6.85053691e-02 -4.28141691e-02\n",
      "  7.76945204e-02 -7.10285529e-02 -7.37687247e-03  2.13727243e-02\n",
      "  1.35562364e-02 -7.90464580e-02  5.47668152e-03  8.30663368e-02\n",
      "  1.14147991e-01  1.80762587e-03  8.75491202e-02 -4.16044779e-02\n",
      "  1.55416224e-02 -1.01206480e-02 -7.32435798e-03  1.07966419e-02\n",
      " -6.62816986e-02  3.98413576e-02 -1.16711512e-01  6.42993897e-02\n",
      "  4.02920060e-02 -6.54741600e-02  1.95052773e-02  8.09995756e-02\n",
      "  5.36463782e-02  7.67969489e-02 -1.34852575e-02 -1.76919048e-08\n",
      " -4.43935208e-02  9.20641702e-03 -8.79590437e-02  4.26921584e-02\n",
      "  7.31364936e-02  1.68427583e-02 -4.03262936e-02  1.85131785e-02\n",
      "  8.44172463e-02 -3.74476798e-02  3.02996188e-02  2.90641822e-02\n",
      "  6.36878684e-02  2.89750397e-02 -1.47270057e-02  1.77543126e-02\n",
      " -3.36895287e-02  1.73160955e-02  3.37875299e-02  1.76826045e-01\n",
      " -1.75533406e-02 -6.03077933e-02 -1.43394601e-02 -2.38536131e-02\n",
      " -4.45531197e-02 -2.89850049e-02 -8.96776244e-02 -1.75938255e-03\n",
      " -2.61485875e-02  5.93999913e-03 -5.18355519e-02  8.57279599e-02\n",
      " -8.18398744e-02  8.35439656e-03  4.00789790e-02  4.17764075e-02\n",
      "  1.04573548e-01 -2.86561972e-03  1.96691044e-02  5.81046520e-03\n",
      "  1.33253438e-02  4.51001301e-02 -2.17588190e-02 -1.39493123e-02\n",
      " -6.86992407e-02 -2.94114207e-03 -3.10764872e-02 -1.05854437e-01\n",
      "  6.91624135e-02 -4.24114801e-02 -4.67682108e-02 -3.64750996e-02\n",
      "  4.50399891e-02  6.09816350e-02 -6.56561777e-02 -5.45638567e-03\n",
      " -1.86226703e-02 -6.31484836e-02 -3.87436934e-02  3.46733704e-02\n",
      "  5.55458143e-02  5.21627963e-02  5.61065264e-02  1.02063894e-01]\n",
      "\n"
     ]
    }
   ],
   "source": [
    "from sentence_transformers import SentenceTransformer\n",
    "model = SentenceTransformer('all-MiniLM-L6-v2')\n",
    "\n",
    "#Our sentences we like to encode\n",
    "sentences = ['This framework generates embeddings for each input sentence',\n",
    "    'Sentences are passed as a list of string.',\n",
    "    'The quick brown fox jumps over the lazy dog.']\n",
    "\n",
    "#Sentences are encoded by calling model.encode()\n",
    "embeddings = model.encode(sentences)\n",
    "\n",
    "#Print the embeddings\n",
    "for sentence, embedding in zip(sentences, embeddings):\n",
    "    print(\"Sentence:\", sentence)\n",
    "    print(\"Embedding:\", embedding)\n",
    "    print(\"\")"
   ]
  },
  {
   "cell_type": "code",
   "execution_count": 19,
   "metadata": {},
   "outputs": [
    {
     "data": {
      "text/plain": [
       "(384,)"
      ]
     },
     "execution_count": 19,
     "metadata": {},
     "output_type": "execute_result"
    }
   ],
   "source": [
    "embedding.shape"
   ]
  },
  {
   "attachments": {},
   "cell_type": "markdown",
   "metadata": {},
   "source": [
    "### Embedding a corpus"
   ]
  },
  {
   "cell_type": "code",
   "execution_count": 86,
   "metadata": {},
   "outputs": [
    {
     "name": "stdout",
     "output_type": "stream",
     "text": [
      "Wikipedia is a multilingual, free, online encyclopedia written and maintained by a community of volunteers, known as Wikipedians, through open collaboration and using a wiki-based editing system called MediaWiki. Wikipedia is the largest and most-read reference work in history. It is consistently one of the 10 most popular websites ranked by Similarweb and formerly Alexa; as of 2023, Wikipedia was ranked the 5th most popular site in the world according to Semrush. It is hosted by the Wikimedia Foundation, an American non-profit organization funded mainly through donations.\n"
     ]
    }
   ],
   "source": [
    "ex = \"Wikipedia is a multilingual, free, online encyclopedia written and maintained by a community of volunteers, known as Wikipedians, through open collaboration and using a wiki-based editing system called MediaWiki. Wikipedia is the largest and most-read reference work in history. It is consistently one of the 10 most popular websites ranked by Similarweb and formerly Alexa; as of 2023, Wikipedia was ranked the 5th most popular site in the world according to Semrush. It is hosted by the Wikimedia Foundation, an American non-profit organization funded mainly through donations.\"\n",
    "print(ex)"
   ]
  },
  {
   "cell_type": "code",
   "execution_count": 111,
   "metadata": {},
   "outputs": [
    {
     "name": "stderr",
     "output_type": "stream",
     "text": [
      "Some weights of the model checkpoint at bert-base-uncased were not used when initializing BertModel: ['cls.predictions.decoder.weight', 'cls.predictions.transform.LayerNorm.bias', 'cls.predictions.bias', 'cls.seq_relationship.weight', 'cls.predictions.transform.dense.weight', 'cls.predictions.transform.LayerNorm.weight', 'cls.seq_relationship.bias', 'cls.predictions.transform.dense.bias']\n",
      "- This IS expected if you are initializing BertModel from the checkpoint of a model trained on another task or with another architecture (e.g. initializing a BertForSequenceClassification model from a BertForPreTraining model).\n",
      "- This IS NOT expected if you are initializing BertModel from the checkpoint of a model that you expect to be exactly identical (initializing a BertForSequenceClassification model from a BertForSequenceClassification model).\n"
     ]
    }
   ],
   "source": [
    "def tokenizeCorpus(corpus, model=BertModel.from_pretrained('bert-base-uncased'), tokenizer = BertTokenizer.from_pretrained('bert-base-uncased'), delimiter=\".\"):\n",
    "    splited = [sentence+delimiter for sentence in corpus.split(\".\")]\n",
    "    SEPmarked = [sentence+\" [SEP]\" for sentence in splited[:-1]]\n",
    "    marked_text = \"[CLS] \"+\"\".join(SEPmarked)[:-6]\n",
    "    tokenized_text = tokenizer.tokenize(marked_text)\n",
    "    indexed_tokens = tokenizer.convert_tokens_to_ids(tokenized_text)\n",
    "    segment_ids = []\n",
    "    i = 0\n",
    "    for token in tokenized_text:\n",
    "        segment_ids.append(i)\n",
    "        if token == \"[SEP]\":\n",
    "            i += 1\n",
    "    tokens_tensor = torch.tensor([indexed_tokens])\n",
    "    segments_tensor = torch.tensor([segment_ids])\n",
    "    with torch.no_grad():\n",
    "        outputs = model(tokens_tensor, segments_tensor)\n",
    "    hidden_states = outputs[-1]\n",
    "    \n",
    "    \n",
    "    return outputs\n",
    "\n",
    "o = tokenizeCorpus(ex)"
   ]
  },
  {
   "cell_type": "code",
   "execution_count": 112,
   "metadata": {},
   "outputs": [
    {
     "data": {
      "text/plain": [
       "BaseModelOutputWithPoolingAndCrossAttentions(last_hidden_state=tensor([[[nan, nan, nan,  ..., nan, nan, nan],\n",
       "         [nan, nan, nan,  ..., nan, nan, nan],\n",
       "         [nan, nan, nan,  ..., nan, nan, nan],\n",
       "         ...,\n",
       "         [nan, nan, nan,  ..., nan, nan, nan],\n",
       "         [nan, nan, nan,  ..., nan, nan, nan],\n",
       "         [nan, nan, nan,  ..., nan, nan, nan]]]), pooler_output=tensor([[nan, nan, nan, nan, nan, nan, nan, nan, nan, nan, nan, nan, nan, nan, nan, nan, nan, nan, nan, nan, nan, nan, nan, nan,\n",
       "         nan, nan, nan, nan, nan, nan, nan, nan, nan, nan, nan, nan, nan, nan, nan, nan, nan, nan, nan, nan, nan, nan, nan, nan,\n",
       "         nan, nan, nan, nan, nan, nan, nan, nan, nan, nan, nan, nan, nan, nan, nan, nan, nan, nan, nan, nan, nan, nan, nan, nan,\n",
       "         nan, nan, nan, nan, nan, nan, nan, nan, nan, nan, nan, nan, nan, nan, nan, nan, nan, nan, nan, nan, nan, nan, nan, nan,\n",
       "         nan, nan, nan, nan, nan, nan, nan, nan, nan, nan, nan, nan, nan, nan, nan, nan, nan, nan, nan, nan, nan, nan, nan, nan,\n",
       "         nan, nan, nan, nan, nan, nan, nan, nan, nan, nan, nan, nan, nan, nan, nan, nan, nan, nan, nan, nan, nan, nan, nan, nan,\n",
       "         nan, nan, nan, nan, nan, nan, nan, nan, nan, nan, nan, nan, nan, nan, nan, nan, nan, nan, nan, nan, nan, nan, nan, nan,\n",
       "         nan, nan, nan, nan, nan, nan, nan, nan, nan, nan, nan, nan, nan, nan, nan, nan, nan, nan, nan, nan, nan, nan, nan, nan,\n",
       "         nan, nan, nan, nan, nan, nan, nan, nan, nan, nan, nan, nan, nan, nan, nan, nan, nan, nan, nan, nan, nan, nan, nan, nan,\n",
       "         nan, nan, nan, nan, nan, nan, nan, nan, nan, nan, nan, nan, nan, nan, nan, nan, nan, nan, nan, nan, nan, nan, nan, nan,\n",
       "         nan, nan, nan, nan, nan, nan, nan, nan, nan, nan, nan, nan, nan, nan, nan, nan, nan, nan, nan, nan, nan, nan, nan, nan,\n",
       "         nan, nan, nan, nan, nan, nan, nan, nan, nan, nan, nan, nan, nan, nan, nan, nan, nan, nan, nan, nan, nan, nan, nan, nan,\n",
       "         nan, nan, nan, nan, nan, nan, nan, nan, nan, nan, nan, nan, nan, nan, nan, nan, nan, nan, nan, nan, nan, nan, nan, nan,\n",
       "         nan, nan, nan, nan, nan, nan, nan, nan, nan, nan, nan, nan, nan, nan, nan, nan, nan, nan, nan, nan, nan, nan, nan, nan,\n",
       "         nan, nan, nan, nan, nan, nan, nan, nan, nan, nan, nan, nan, nan, nan, nan, nan, nan, nan, nan, nan, nan, nan, nan, nan,\n",
       "         nan, nan, nan, nan, nan, nan, nan, nan, nan, nan, nan, nan, nan, nan, nan, nan, nan, nan, nan, nan, nan, nan, nan, nan,\n",
       "         nan, nan, nan, nan, nan, nan, nan, nan, nan, nan, nan, nan, nan, nan, nan, nan, nan, nan, nan, nan, nan, nan, nan, nan,\n",
       "         nan, nan, nan, nan, nan, nan, nan, nan, nan, nan, nan, nan, nan, nan, nan, nan, nan, nan, nan, nan, nan, nan, nan, nan,\n",
       "         nan, nan, nan, nan, nan, nan, nan, nan, nan, nan, nan, nan, nan, nan, nan, nan, nan, nan, nan, nan, nan, nan, nan, nan,\n",
       "         nan, nan, nan, nan, nan, nan, nan, nan, nan, nan, nan, nan, nan, nan, nan, nan, nan, nan, nan, nan, nan, nan, nan, nan,\n",
       "         nan, nan, nan, nan, nan, nan, nan, nan, nan, nan, nan, nan, nan, nan, nan, nan, nan, nan, nan, nan, nan, nan, nan, nan,\n",
       "         nan, nan, nan, nan, nan, nan, nan, nan, nan, nan, nan, nan, nan, nan, nan, nan, nan, nan, nan, nan, nan, nan, nan, nan,\n",
       "         nan, nan, nan, nan, nan, nan, nan, nan, nan, nan, nan, nan, nan, nan, nan, nan, nan, nan, nan, nan, nan, nan, nan, nan,\n",
       "         nan, nan, nan, nan, nan, nan, nan, nan, nan, nan, nan, nan, nan, nan, nan, nan, nan, nan, nan, nan, nan, nan, nan, nan,\n",
       "         nan, nan, nan, nan, nan, nan, nan, nan, nan, nan, nan, nan, nan, nan, nan, nan, nan, nan, nan, nan, nan, nan, nan, nan,\n",
       "         nan, nan, nan, nan, nan, nan, nan, nan, nan, nan, nan, nan, nan, nan, nan, nan, nan, nan, nan, nan, nan, nan, nan, nan,\n",
       "         nan, nan, nan, nan, nan, nan, nan, nan, nan, nan, nan, nan, nan, nan, nan, nan, nan, nan, nan, nan, nan, nan, nan, nan,\n",
       "         nan, nan, nan, nan, nan, nan, nan, nan, nan, nan, nan, nan, nan, nan, nan, nan, nan, nan, nan, nan, nan, nan, nan, nan,\n",
       "         nan, nan, nan, nan, nan, nan, nan, nan, nan, nan, nan, nan, nan, nan, nan, nan, nan, nan, nan, nan, nan, nan, nan, nan,\n",
       "         nan, nan, nan, nan, nan, nan, nan, nan, nan, nan, nan, nan, nan, nan, nan, nan, nan, nan, nan, nan, nan, nan, nan, nan,\n",
       "         nan, nan, nan, nan, nan, nan, nan, nan, nan, nan, nan, nan, nan, nan, nan, nan, nan, nan, nan, nan, nan, nan, nan, nan,\n",
       "         nan, nan, nan, nan, nan, nan, nan, nan, nan, nan, nan, nan, nan, nan, nan, nan, nan, nan, nan, nan, nan, nan, nan, nan]]), hidden_states=None, past_key_values=None, attentions=None, cross_attentions=None)"
      ]
     },
     "execution_count": 112,
     "metadata": {},
     "output_type": "execute_result"
    }
   ],
   "source": [
    "o"
   ]
  }
 ],
 "metadata": {
  "kernelspec": {
   "display_name": ".venv",
   "language": "python",
   "name": "python3"
  },
  "language_info": {
   "codemirror_mode": {
    "name": "ipython",
    "version": 3
   },
   "file_extension": ".py",
   "mimetype": "text/x-python",
   "name": "python",
   "nbconvert_exporter": "python",
   "pygments_lexer": "ipython3",
   "version": "3.11.3"
  },
  "orig_nbformat": 4
 },
 "nbformat": 4,
 "nbformat_minor": 2
}

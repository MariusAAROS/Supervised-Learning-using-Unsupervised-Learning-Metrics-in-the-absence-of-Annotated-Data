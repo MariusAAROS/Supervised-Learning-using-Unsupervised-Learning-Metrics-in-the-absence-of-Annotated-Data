{
 "cells": [
  {
   "attachments": {},
   "cell_type": "markdown",
   "metadata": {},
   "source": [
    "### Experimenting with BERTScore"
   ]
  },
  {
   "cell_type": "code",
   "execution_count": 10,
   "metadata": {},
   "outputs": [],
   "source": [
    "import sys\n",
    "sys.path.append(r\"D:\\COURS\\A4\\S8 - ESILV\\Stage\\Work\\Repositories\\bert_score\")\n",
    "\n",
    "from bert_score.score import score as bscore"
   ]
  },
  {
   "cell_type": "code",
   "execution_count": 11,
   "metadata": {},
   "outputs": [
    {
     "name": "stderr",
     "output_type": "stream",
     "text": [
      "Some weights of the model checkpoint at roberta-large were not used when initializing RobertaModel: ['lm_head.decoder.weight', 'lm_head.dense.weight', 'lm_head.layer_norm.weight', 'lm_head.dense.bias', 'lm_head.layer_norm.bias', 'lm_head.bias']\n",
      "- This IS expected if you are initializing RobertaModel from the checkpoint of a model trained on another task or with another architecture (e.g. initializing a BertForSequenceClassification model from a BertForPreTraining model).\n",
      "- This IS NOT expected if you are initializing RobertaModel from the checkpoint of a model that you expect to be exactly identical (initializing a BertForSequenceClassification model from a BertForSequenceClassification model).\n"
     ]
    }
   ],
   "source": [
    "o = bscore([\"I am Marius\"], [\"My name is marius\"], lang=\"en\")"
   ]
  },
  {
   "attachments": {},
   "cell_type": "markdown",
   "metadata": {},
   "source": [
    "### Experimenting with Roberta tokenizer"
   ]
  },
  {
   "cell_type": "code",
   "execution_count": 1,
   "metadata": {},
   "outputs": [
    {
     "name": "stderr",
     "output_type": "stream",
     "text": [
      "d:\\COURS\\A4\\S8 - ESILV\\Stage\\Work\\Supervised-Learning-using-Unsupervised-Learning-Metrics-in-the-absence-of-Annotated-Data\\.venv\\Lib\\site-packages\\tqdm\\auto.py:21: TqdmWarning: IProgress not found. Please update jupyter and ipywidgets. See https://ipywidgets.readthedocs.io/en/stable/user_install.html\n",
      "  from .autonotebook import tqdm as notebook_tqdm\n"
     ]
    }
   ],
   "source": [
    "from transformers import RobertaTokenizer"
   ]
  },
  {
   "cell_type": "code",
   "execution_count": 2,
   "metadata": {},
   "outputs": [],
   "source": [
    "tokenizer = RobertaTokenizer.from_pretrained(\"roberta-base\")\n",
    "test = tokenizer(\"I am Marius\")"
   ]
  },
  {
   "cell_type": "code",
   "execution_count": 3,
   "metadata": {},
   "outputs": [],
   "source": [
    "out = tokenizer(\"I am Marius\")"
   ]
  },
  {
   "cell_type": "code",
   "execution_count": 20,
   "metadata": {},
   "outputs": [
    {
     "data": {
      "text/plain": [
       "{'input_ids': [0, 100, 524, 1127, 6125, 2], 'attention_mask': [1, 1, 1, 1, 1, 1]}"
      ]
     },
     "execution_count": 20,
     "metadata": {},
     "output_type": "execute_result"
    }
   ],
   "source": [
    "out"
   ]
  },
  {
   "cell_type": "code",
   "execution_count": 21,
   "metadata": {},
   "outputs": [
    {
     "data": {
      "text/plain": [
       "[0, 100, 524, 1127, 6125, 2]"
      ]
     },
     "execution_count": 21,
     "metadata": {},
     "output_type": "execute_result"
    }
   ],
   "source": [
    "test.input_ids"
   ]
  },
  {
   "attachments": {},
   "cell_type": "markdown",
   "metadata": {},
   "source": [
    "### Experimenting with AutoModel class"
   ]
  },
  {
   "cell_type": "code",
   "execution_count": 4,
   "metadata": {},
   "outputs": [],
   "source": [
    "from transformers import AutoModel\n",
    "from transformers import RobertaTokenizer"
   ]
  },
  {
   "cell_type": "code",
   "execution_count": 5,
   "metadata": {},
   "outputs": [
    {
     "name": "stderr",
     "output_type": "stream",
     "text": [
      "Some weights of the model checkpoint at roberta-large were not used when initializing RobertaModel: ['lm_head.decoder.weight', 'lm_head.dense.weight', 'lm_head.layer_norm.weight', 'lm_head.dense.bias', 'lm_head.layer_norm.bias', 'lm_head.bias']\n",
      "- This IS expected if you are initializing RobertaModel from the checkpoint of a model trained on another task or with another architecture (e.g. initializing a BertForSequenceClassification model from a BertForPreTraining model).\n",
      "- This IS NOT expected if you are initializing RobertaModel from the checkpoint of a model that you expect to be exactly identical (initializing a BertForSequenceClassification model from a BertForSequenceClassification model).\n"
     ]
    }
   ],
   "source": [
    "model = AutoModel.from_pretrained(\"roberta-large\")\n",
    "tokenizer = RobertaTokenizer.from_pretrained(\"roberta-large\")"
   ]
  },
  {
   "cell_type": "code",
   "execution_count": 6,
   "metadata": {},
   "outputs": [],
   "source": [
    "sentence = \"I am Marius\"\n",
    "tokens = tokenizer(sentence)\n",
    "token_ids = tokens[\"input_ids\"]\n",
    "masks = tokens[\"attention_mask\"]"
   ]
  },
  {
   "cell_type": "code",
   "execution_count": 8,
   "metadata": {},
   "outputs": [
    {
     "data": {
      "text/plain": [
       "list"
      ]
     },
     "execution_count": 8,
     "metadata": {},
     "output_type": "execute_result"
    }
   ],
   "source": [
    "type(masks)"
   ]
  },
  {
   "cell_type": "code",
   "execution_count": null,
   "metadata": {},
   "outputs": [],
   "source": [
    "out = model(token_ids, attention_mask=masks, output_hidden_states=True)"
   ]
  },
  {
   "attachments": {},
   "cell_type": "markdown",
   "metadata": {},
   "source": [
    "### BERT Embedding - Discovery"
   ]
  },
  {
   "cell_type": "code",
   "execution_count": 34,
   "metadata": {},
   "outputs": [
    {
     "name": "stderr",
     "output_type": "stream",
     "text": [
      "Some weights of the model checkpoint at bert-base-uncased were not used when initializing BertModel: ['cls.predictions.decoder.weight', 'cls.predictions.transform.LayerNorm.bias', 'cls.predictions.bias', 'cls.seq_relationship.weight', 'cls.predictions.transform.dense.weight', 'cls.predictions.transform.LayerNorm.weight', 'cls.seq_relationship.bias', 'cls.predictions.transform.dense.bias']\n",
      "- This IS expected if you are initializing BertModel from the checkpoint of a model trained on another task or with another architecture (e.g. initializing a BertForSequenceClassification model from a BertForPreTraining model).\n",
      "- This IS NOT expected if you are initializing BertModel from the checkpoint of a model that you expect to be exactly identical (initializing a BertForSequenceClassification model from a BertForSequenceClassification model).\n"
     ]
    },
    {
     "data": {
      "text/plain": [
       "BertModel(\n",
       "  (embeddings): BertEmbeddings(\n",
       "    (word_embeddings): Embedding(30522, 768, padding_idx=0)\n",
       "    (position_embeddings): Embedding(512, 768)\n",
       "    (token_type_embeddings): Embedding(2, 768)\n",
       "    (LayerNorm): LayerNorm((768,), eps=1e-12, elementwise_affine=True)\n",
       "    (dropout): Dropout(p=0.1, inplace=False)\n",
       "  )\n",
       "  (encoder): BertEncoder(\n",
       "    (layer): ModuleList(\n",
       "      (0-11): 12 x BertLayer(\n",
       "        (attention): BertAttention(\n",
       "          (self): BertSelfAttention(\n",
       "            (query): Linear(in_features=768, out_features=768, bias=True)\n",
       "            (key): Linear(in_features=768, out_features=768, bias=True)\n",
       "            (value): Linear(in_features=768, out_features=768, bias=True)\n",
       "            (dropout): Dropout(p=0.1, inplace=False)\n",
       "          )\n",
       "          (output): BertSelfOutput(\n",
       "            (dense): Linear(in_features=768, out_features=768, bias=True)\n",
       "            (LayerNorm): LayerNorm((768,), eps=1e-12, elementwise_affine=True)\n",
       "            (dropout): Dropout(p=0.1, inplace=False)\n",
       "          )\n",
       "        )\n",
       "        (intermediate): BertIntermediate(\n",
       "          (dense): Linear(in_features=768, out_features=3072, bias=True)\n",
       "          (intermediate_act_fn): GELUActivation()\n",
       "        )\n",
       "        (output): BertOutput(\n",
       "          (dense): Linear(in_features=3072, out_features=768, bias=True)\n",
       "          (LayerNorm): LayerNorm((768,), eps=1e-12, elementwise_affine=True)\n",
       "          (dropout): Dropout(p=0.1, inplace=False)\n",
       "        )\n",
       "      )\n",
       "    )\n",
       "  )\n",
       "  (pooler): BertPooler(\n",
       "    (dense): Linear(in_features=768, out_features=768, bias=True)\n",
       "    (activation): Tanh()\n",
       "  )\n",
       ")"
      ]
     },
     "execution_count": 34,
     "metadata": {},
     "output_type": "execute_result"
    }
   ],
   "source": [
    "from transformers import BertTokenizer, BertModel\n",
    "import torch\n",
    "import numpy as np\n",
    "\n",
    "model = BertModel.from_pretrained('bert-base-uncased',\n",
    "                                  output_hidden_states=True)\n",
    "model.eval()"
   ]
  },
  {
   "cell_type": "code",
   "execution_count": 15,
   "metadata": {},
   "outputs": [
    {
     "name": "stdout",
     "output_type": "stream",
     "text": [
      "['[CLS]', 'my', 'name', 'is', 'marius', '.', '[SEP]']\n"
     ]
    }
   ],
   "source": [
    "tokenizer = BertTokenizer.from_pretrained('bert-base-uncased')\n",
    "text = \"My name is Marius.\"\n",
    "marked_text = \"[CLS]\"+text+\"[SEP]\"\n",
    "tokenized_text = tokenizer.tokenize(marked_text)\n",
    "print(tokenized_text)"
   ]
  },
  {
   "cell_type": "code",
   "execution_count": 16,
   "metadata": {},
   "outputs": [
    {
     "name": "stdout",
     "output_type": "stream",
     "text": [
      "[CLS]          101\n",
      "my           2,026\n",
      "name         2,171\n",
      "is           2,003\n",
      "marius      20,032\n",
      ".            1,012\n",
      "[SEP]          102\n"
     ]
    }
   ],
   "source": [
    "indexed_tokens = tokenizer.convert_tokens_to_ids(tokenized_text)\n",
    "for tup in zip(tokenized_text, indexed_tokens):\n",
    "    print('{:<12}{:>6,}'.format(tup[0], tup[1]))"
   ]
  },
  {
   "cell_type": "code",
   "execution_count": 17,
   "metadata": {},
   "outputs": [
    {
     "name": "stdout",
     "output_type": "stream",
     "text": [
      "[1, 1, 1, 1, 1, 1, 1]\n"
     ]
    }
   ],
   "source": [
    "#mark tokenks as belonging to sentence 1.\n",
    "segment_ids = [1]*len(tokenized_text)\n",
    "print(segment_ids)"
   ]
  },
  {
   "cell_type": "code",
   "execution_count": 18,
   "metadata": {},
   "outputs": [
    {
     "name": "stdout",
     "output_type": "stream",
     "text": [
      "tensor([[  101,  2026,  2171,  2003, 20032,  1012,   102]])\n",
      "tensor([[1, 1, 1, 1, 1, 1, 1]])\n"
     ]
    }
   ],
   "source": [
    "tokens_tensor = torch.tensor([indexed_tokens])\n",
    "segments_tensor = torch.tensor([segment_ids])\n",
    "print(tokens_tensor)\n",
    "print(segments_tensor)"
   ]
  },
  {
   "cell_type": "code",
   "execution_count": 21,
   "metadata": {},
   "outputs": [
    {
     "data": {
      "text/plain": [
       "odict_keys(['last_hidden_state', 'pooler_output', 'hidden_states'])"
      ]
     },
     "execution_count": 21,
     "metadata": {},
     "output_type": "execute_result"
    }
   ],
   "source": [
    "with torch.no_grad():\n",
    "    outputs = model(tokens_tensor, segments_tensor)\n",
    "outputs.keys()"
   ]
  },
  {
   "cell_type": "code",
   "execution_count": 27,
   "metadata": {},
   "outputs": [
    {
     "data": {
      "text/plain": [
       "13"
      ]
     },
     "execution_count": 27,
     "metadata": {},
     "output_type": "execute_result"
    }
   ],
   "source": [
    "bert_hidden_states = outputs[-1]\n",
    "len(bert_hidden_states)"
   ]
  },
  {
   "cell_type": "code",
   "execution_count": 31,
   "metadata": {},
   "outputs": [
    {
     "data": {
      "text/plain": [
       "torch.Size([13, 1, 7, 768])"
      ]
     },
     "execution_count": 31,
     "metadata": {},
     "output_type": "execute_result"
    }
   ],
   "source": [
    "token_embeddings = torch.stack(bert_hidden_states, dim=0)\n",
    "token_embeddings.size()"
   ]
  },
  {
   "cell_type": "code",
   "execution_count": 32,
   "metadata": {},
   "outputs": [
    {
     "data": {
      "text/plain": [
       "torch.Size([13, 7, 768])"
      ]
     },
     "execution_count": 32,
     "metadata": {},
     "output_type": "execute_result"
    }
   ],
   "source": [
    "#here we have 1 sentence so we remove the batch size\n",
    "token_embeddings = torch.squeeze(token_embeddings, dim=1)\n",
    "token_embeddings.size()"
   ]
  },
  {
   "cell_type": "code",
   "execution_count": 33,
   "metadata": {},
   "outputs": [
    {
     "data": {
      "text/plain": [
       "torch.Size([7, 13, 768])"
      ]
     },
     "execution_count": 33,
     "metadata": {},
     "output_type": "execute_result"
    }
   ],
   "source": [
    "#swap dim 0 and 1\n",
    "token_embeddings = token_embeddings.permute(1, 0, 2)\n",
    "token_embeddings.size()"
   ]
  },
  {
   "attachments": {},
   "cell_type": "markdown",
   "metadata": {},
   "source": [
    "#### Word Vectors"
   ]
  },
  {
   "cell_type": "code",
   "execution_count": 47,
   "metadata": {},
   "outputs": [
    {
     "name": "stdout",
     "output_type": "stream",
     "text": [
      "Shape: 7 x 3072\n"
     ]
    }
   ],
   "source": [
    "#concatenate layers\n",
    "token_vec_cat = []\n",
    "for token in token_embeddings:\n",
    "    cat_vec = torch.cat((token[-1], token[-2], token[-3], token[-4]), dim=0)\n",
    "    token_vec_cat.append(cat_vec)\n",
    "print(\"Shape:\", len(token_vec_cat),\"x\", len(token_vec_cat[0]))"
   ]
  },
  {
   "cell_type": "code",
   "execution_count": 59,
   "metadata": {},
   "outputs": [
    {
     "name": "stdout",
     "output_type": "stream",
     "text": [
      "0\n",
      "3072\n",
      "1\n",
      "3072\n",
      "2\n",
      "3072\n",
      "3\n",
      "3072\n",
      "4\n",
      "3072\n",
      "5\n",
      "3072\n",
      "6\n",
      "3072\n"
     ]
    }
   ],
   "source": [
    "for i in range(len(token_vec_cat)):\n",
    "    if len(token_vec_cat[i] != 3072):\n",
    "        print(i)\n",
    "        print(len(token_vec_cat[i]))"
   ]
  },
  {
   "cell_type": "code",
   "execution_count": 78,
   "metadata": {},
   "outputs": [],
   "source": [
    "test = [token.tolist() for token in token_vec_cat]\n",
    "test = np.array(test)"
   ]
  },
  {
   "cell_type": "code",
   "execution_count": 79,
   "metadata": {},
   "outputs": [
    {
     "data": {
      "text/plain": [
       "(7, 3072)"
      ]
     },
     "execution_count": 79,
     "metadata": {},
     "output_type": "execute_result"
    }
   ],
   "source": [
    "test.shape"
   ]
  },
  {
   "cell_type": "code",
   "execution_count": 48,
   "metadata": {},
   "outputs": [
    {
     "name": "stdout",
     "output_type": "stream",
     "text": [
      "Shape: 7 x 768\n"
     ]
    }
   ],
   "source": [
    "#sum layers\n",
    "token_vec_sum = []\n",
    "for token in token_embeddings:\n",
    "    cat_vec = torch.sum(token[-4:], dim=0)\n",
    "    token_vec_sum.append(cat_vec)\n",
    "print(\"Shape:\", len(token_vec_sum),\"x\", len(token_vec_sum[0]))"
   ]
  },
  {
   "attachments": {},
   "cell_type": "markdown",
   "metadata": {},
   "source": [
    "#### Sentence Vectors"
   ]
  },
  {
   "cell_type": "code",
   "execution_count": 51,
   "metadata": {},
   "outputs": [
    {
     "data": {
      "text/plain": [
       "torch.Size([768])"
      ]
     },
     "execution_count": 51,
     "metadata": {},
     "output_type": "execute_result"
    }
   ],
   "source": [
    "token_vecs = bert_hidden_states[-2][0]\n",
    "sentence_embedding = torch.mean(token_vecs, dim=0)\n",
    "sentence_embedding.size()"
   ]
  },
  {
   "attachments": {},
   "cell_type": "markdown",
   "metadata": {},
   "source": [
    "### Vector Visualization"
   ]
  },
  {
   "cell_type": "code",
   "execution_count": 82,
   "metadata": {},
   "outputs": [],
   "source": [
    "from umap import UMAP\n",
    "import plotly.express as px"
   ]
  },
  {
   "cell_type": "code",
   "execution_count": 80,
   "metadata": {},
   "outputs": [
    {
     "name": "stderr",
     "output_type": "stream",
     "text": [
      "d:\\COURS\\A4\\S8 - ESILV\\Stage\\Work\\Supervised-Learning-using-Unsupervised-Learning-Metrics-in-the-absence-of-Annotated-Data\\.venv\\Lib\\site-packages\\umap\\umap_.py:2344: UserWarning: n_neighbors is larger than the dataset size; truncating to X.shape[0] - 1\n",
      "  warn(\n"
     ]
    }
   ],
   "source": [
    "umap3D = UMAP(n_components=3, init='random', random_state=0)\n",
    "proj3D = umap3D.fit_transform(test)"
   ]
  },
  {
   "cell_type": "code",
   "execution_count": 85,
   "metadata": {},
   "outputs": [
    {
     "data": {
      "application/vnd.plotly.v1+json": {
       "config": {
        "plotlyServerURL": "https://plot.ly"
       },
       "data": [
        {
         "hovertemplate": "0=%{x}<br>1=%{y}<br>2=%{z}<extra></extra>",
         "legendgroup": "",
         "marker": {
          "color": "#636efa",
          "symbol": "circle"
         },
         "mode": "markers",
         "name": "",
         "scene": "scene",
         "showlegend": false,
         "type": "scatter3d",
         "x": [
          -14.382111549377441,
          -13.482431411743164,
          -13.616006851196289,
          -13.816569328308105,
          -14.84157657623291,
          -14.942224502563477,
          -14.374594688415527
         ],
         "y": [
          24.415237426757812,
          24.406505584716797,
          23.54535675048828,
          24.07982635498047,
          24.99071502685547,
          24.25547981262207,
          25.099777221679688
         ],
         "z": [
          15.910723686218262,
          16.352338790893555,
          16.82695198059082,
          17.403045654296875,
          17.326881408691406,
          16.687265396118164,
          16.677001953125
         ]
        }
       ],
       "layout": {
        "legend": {
         "tracegroupgap": 0
        },
        "margin": {
         "t": 60
        },
        "scene": {
         "domain": {
          "x": [
           0,
           1
          ],
          "y": [
           0,
           1
          ]
         },
         "xaxis": {
          "title": {
           "text": "0"
          }
         },
         "yaxis": {
          "title": {
           "text": "1"
          }
         },
         "zaxis": {
          "title": {
           "text": "2"
          }
         }
        },
        "template": {
         "data": {
          "bar": [
           {
            "error_x": {
             "color": "#2a3f5f"
            },
            "error_y": {
             "color": "#2a3f5f"
            },
            "marker": {
             "line": {
              "color": "#E5ECF6",
              "width": 0.5
             },
             "pattern": {
              "fillmode": "overlay",
              "size": 10,
              "solidity": 0.2
             }
            },
            "type": "bar"
           }
          ],
          "barpolar": [
           {
            "marker": {
             "line": {
              "color": "#E5ECF6",
              "width": 0.5
             },
             "pattern": {
              "fillmode": "overlay",
              "size": 10,
              "solidity": 0.2
             }
            },
            "type": "barpolar"
           }
          ],
          "carpet": [
           {
            "aaxis": {
             "endlinecolor": "#2a3f5f",
             "gridcolor": "white",
             "linecolor": "white",
             "minorgridcolor": "white",
             "startlinecolor": "#2a3f5f"
            },
            "baxis": {
             "endlinecolor": "#2a3f5f",
             "gridcolor": "white",
             "linecolor": "white",
             "minorgridcolor": "white",
             "startlinecolor": "#2a3f5f"
            },
            "type": "carpet"
           }
          ],
          "choropleth": [
           {
            "colorbar": {
             "outlinewidth": 0,
             "ticks": ""
            },
            "type": "choropleth"
           }
          ],
          "contour": [
           {
            "colorbar": {
             "outlinewidth": 0,
             "ticks": ""
            },
            "colorscale": [
             [
              0,
              "#0d0887"
             ],
             [
              0.1111111111111111,
              "#46039f"
             ],
             [
              0.2222222222222222,
              "#7201a8"
             ],
             [
              0.3333333333333333,
              "#9c179e"
             ],
             [
              0.4444444444444444,
              "#bd3786"
             ],
             [
              0.5555555555555556,
              "#d8576b"
             ],
             [
              0.6666666666666666,
              "#ed7953"
             ],
             [
              0.7777777777777778,
              "#fb9f3a"
             ],
             [
              0.8888888888888888,
              "#fdca26"
             ],
             [
              1,
              "#f0f921"
             ]
            ],
            "type": "contour"
           }
          ],
          "contourcarpet": [
           {
            "colorbar": {
             "outlinewidth": 0,
             "ticks": ""
            },
            "type": "contourcarpet"
           }
          ],
          "heatmap": [
           {
            "colorbar": {
             "outlinewidth": 0,
             "ticks": ""
            },
            "colorscale": [
             [
              0,
              "#0d0887"
             ],
             [
              0.1111111111111111,
              "#46039f"
             ],
             [
              0.2222222222222222,
              "#7201a8"
             ],
             [
              0.3333333333333333,
              "#9c179e"
             ],
             [
              0.4444444444444444,
              "#bd3786"
             ],
             [
              0.5555555555555556,
              "#d8576b"
             ],
             [
              0.6666666666666666,
              "#ed7953"
             ],
             [
              0.7777777777777778,
              "#fb9f3a"
             ],
             [
              0.8888888888888888,
              "#fdca26"
             ],
             [
              1,
              "#f0f921"
             ]
            ],
            "type": "heatmap"
           }
          ],
          "heatmapgl": [
           {
            "colorbar": {
             "outlinewidth": 0,
             "ticks": ""
            },
            "colorscale": [
             [
              0,
              "#0d0887"
             ],
             [
              0.1111111111111111,
              "#46039f"
             ],
             [
              0.2222222222222222,
              "#7201a8"
             ],
             [
              0.3333333333333333,
              "#9c179e"
             ],
             [
              0.4444444444444444,
              "#bd3786"
             ],
             [
              0.5555555555555556,
              "#d8576b"
             ],
             [
              0.6666666666666666,
              "#ed7953"
             ],
             [
              0.7777777777777778,
              "#fb9f3a"
             ],
             [
              0.8888888888888888,
              "#fdca26"
             ],
             [
              1,
              "#f0f921"
             ]
            ],
            "type": "heatmapgl"
           }
          ],
          "histogram": [
           {
            "marker": {
             "pattern": {
              "fillmode": "overlay",
              "size": 10,
              "solidity": 0.2
             }
            },
            "type": "histogram"
           }
          ],
          "histogram2d": [
           {
            "colorbar": {
             "outlinewidth": 0,
             "ticks": ""
            },
            "colorscale": [
             [
              0,
              "#0d0887"
             ],
             [
              0.1111111111111111,
              "#46039f"
             ],
             [
              0.2222222222222222,
              "#7201a8"
             ],
             [
              0.3333333333333333,
              "#9c179e"
             ],
             [
              0.4444444444444444,
              "#bd3786"
             ],
             [
              0.5555555555555556,
              "#d8576b"
             ],
             [
              0.6666666666666666,
              "#ed7953"
             ],
             [
              0.7777777777777778,
              "#fb9f3a"
             ],
             [
              0.8888888888888888,
              "#fdca26"
             ],
             [
              1,
              "#f0f921"
             ]
            ],
            "type": "histogram2d"
           }
          ],
          "histogram2dcontour": [
           {
            "colorbar": {
             "outlinewidth": 0,
             "ticks": ""
            },
            "colorscale": [
             [
              0,
              "#0d0887"
             ],
             [
              0.1111111111111111,
              "#46039f"
             ],
             [
              0.2222222222222222,
              "#7201a8"
             ],
             [
              0.3333333333333333,
              "#9c179e"
             ],
             [
              0.4444444444444444,
              "#bd3786"
             ],
             [
              0.5555555555555556,
              "#d8576b"
             ],
             [
              0.6666666666666666,
              "#ed7953"
             ],
             [
              0.7777777777777778,
              "#fb9f3a"
             ],
             [
              0.8888888888888888,
              "#fdca26"
             ],
             [
              1,
              "#f0f921"
             ]
            ],
            "type": "histogram2dcontour"
           }
          ],
          "mesh3d": [
           {
            "colorbar": {
             "outlinewidth": 0,
             "ticks": ""
            },
            "type": "mesh3d"
           }
          ],
          "parcoords": [
           {
            "line": {
             "colorbar": {
              "outlinewidth": 0,
              "ticks": ""
             }
            },
            "type": "parcoords"
           }
          ],
          "pie": [
           {
            "automargin": true,
            "type": "pie"
           }
          ],
          "scatter": [
           {
            "fillpattern": {
             "fillmode": "overlay",
             "size": 10,
             "solidity": 0.2
            },
            "type": "scatter"
           }
          ],
          "scatter3d": [
           {
            "line": {
             "colorbar": {
              "outlinewidth": 0,
              "ticks": ""
             }
            },
            "marker": {
             "colorbar": {
              "outlinewidth": 0,
              "ticks": ""
             }
            },
            "type": "scatter3d"
           }
          ],
          "scattercarpet": [
           {
            "marker": {
             "colorbar": {
              "outlinewidth": 0,
              "ticks": ""
             }
            },
            "type": "scattercarpet"
           }
          ],
          "scattergeo": [
           {
            "marker": {
             "colorbar": {
              "outlinewidth": 0,
              "ticks": ""
             }
            },
            "type": "scattergeo"
           }
          ],
          "scattergl": [
           {
            "marker": {
             "colorbar": {
              "outlinewidth": 0,
              "ticks": ""
             }
            },
            "type": "scattergl"
           }
          ],
          "scattermapbox": [
           {
            "marker": {
             "colorbar": {
              "outlinewidth": 0,
              "ticks": ""
             }
            },
            "type": "scattermapbox"
           }
          ],
          "scatterpolar": [
           {
            "marker": {
             "colorbar": {
              "outlinewidth": 0,
              "ticks": ""
             }
            },
            "type": "scatterpolar"
           }
          ],
          "scatterpolargl": [
           {
            "marker": {
             "colorbar": {
              "outlinewidth": 0,
              "ticks": ""
             }
            },
            "type": "scatterpolargl"
           }
          ],
          "scatterternary": [
           {
            "marker": {
             "colorbar": {
              "outlinewidth": 0,
              "ticks": ""
             }
            },
            "type": "scatterternary"
           }
          ],
          "surface": [
           {
            "colorbar": {
             "outlinewidth": 0,
             "ticks": ""
            },
            "colorscale": [
             [
              0,
              "#0d0887"
             ],
             [
              0.1111111111111111,
              "#46039f"
             ],
             [
              0.2222222222222222,
              "#7201a8"
             ],
             [
              0.3333333333333333,
              "#9c179e"
             ],
             [
              0.4444444444444444,
              "#bd3786"
             ],
             [
              0.5555555555555556,
              "#d8576b"
             ],
             [
              0.6666666666666666,
              "#ed7953"
             ],
             [
              0.7777777777777778,
              "#fb9f3a"
             ],
             [
              0.8888888888888888,
              "#fdca26"
             ],
             [
              1,
              "#f0f921"
             ]
            ],
            "type": "surface"
           }
          ],
          "table": [
           {
            "cells": {
             "fill": {
              "color": "#EBF0F8"
             },
             "line": {
              "color": "white"
             }
            },
            "header": {
             "fill": {
              "color": "#C8D4E3"
             },
             "line": {
              "color": "white"
             }
            },
            "type": "table"
           }
          ]
         },
         "layout": {
          "annotationdefaults": {
           "arrowcolor": "#2a3f5f",
           "arrowhead": 0,
           "arrowwidth": 1
          },
          "autotypenumbers": "strict",
          "coloraxis": {
           "colorbar": {
            "outlinewidth": 0,
            "ticks": ""
           }
          },
          "colorscale": {
           "diverging": [
            [
             0,
             "#8e0152"
            ],
            [
             0.1,
             "#c51b7d"
            ],
            [
             0.2,
             "#de77ae"
            ],
            [
             0.3,
             "#f1b6da"
            ],
            [
             0.4,
             "#fde0ef"
            ],
            [
             0.5,
             "#f7f7f7"
            ],
            [
             0.6,
             "#e6f5d0"
            ],
            [
             0.7,
             "#b8e186"
            ],
            [
             0.8,
             "#7fbc41"
            ],
            [
             0.9,
             "#4d9221"
            ],
            [
             1,
             "#276419"
            ]
           ],
           "sequential": [
            [
             0,
             "#0d0887"
            ],
            [
             0.1111111111111111,
             "#46039f"
            ],
            [
             0.2222222222222222,
             "#7201a8"
            ],
            [
             0.3333333333333333,
             "#9c179e"
            ],
            [
             0.4444444444444444,
             "#bd3786"
            ],
            [
             0.5555555555555556,
             "#d8576b"
            ],
            [
             0.6666666666666666,
             "#ed7953"
            ],
            [
             0.7777777777777778,
             "#fb9f3a"
            ],
            [
             0.8888888888888888,
             "#fdca26"
            ],
            [
             1,
             "#f0f921"
            ]
           ],
           "sequentialminus": [
            [
             0,
             "#0d0887"
            ],
            [
             0.1111111111111111,
             "#46039f"
            ],
            [
             0.2222222222222222,
             "#7201a8"
            ],
            [
             0.3333333333333333,
             "#9c179e"
            ],
            [
             0.4444444444444444,
             "#bd3786"
            ],
            [
             0.5555555555555556,
             "#d8576b"
            ],
            [
             0.6666666666666666,
             "#ed7953"
            ],
            [
             0.7777777777777778,
             "#fb9f3a"
            ],
            [
             0.8888888888888888,
             "#fdca26"
            ],
            [
             1,
             "#f0f921"
            ]
           ]
          },
          "colorway": [
           "#636efa",
           "#EF553B",
           "#00cc96",
           "#ab63fa",
           "#FFA15A",
           "#19d3f3",
           "#FF6692",
           "#B6E880",
           "#FF97FF",
           "#FECB52"
          ],
          "font": {
           "color": "#2a3f5f"
          },
          "geo": {
           "bgcolor": "white",
           "lakecolor": "white",
           "landcolor": "#E5ECF6",
           "showlakes": true,
           "showland": true,
           "subunitcolor": "white"
          },
          "hoverlabel": {
           "align": "left"
          },
          "hovermode": "closest",
          "mapbox": {
           "style": "light"
          },
          "paper_bgcolor": "white",
          "plot_bgcolor": "#E5ECF6",
          "polar": {
           "angularaxis": {
            "gridcolor": "white",
            "linecolor": "white",
            "ticks": ""
           },
           "bgcolor": "#E5ECF6",
           "radialaxis": {
            "gridcolor": "white",
            "linecolor": "white",
            "ticks": ""
           }
          },
          "scene": {
           "xaxis": {
            "backgroundcolor": "#E5ECF6",
            "gridcolor": "white",
            "gridwidth": 2,
            "linecolor": "white",
            "showbackground": true,
            "ticks": "",
            "zerolinecolor": "white"
           },
           "yaxis": {
            "backgroundcolor": "#E5ECF6",
            "gridcolor": "white",
            "gridwidth": 2,
            "linecolor": "white",
            "showbackground": true,
            "ticks": "",
            "zerolinecolor": "white"
           },
           "zaxis": {
            "backgroundcolor": "#E5ECF6",
            "gridcolor": "white",
            "gridwidth": 2,
            "linecolor": "white",
            "showbackground": true,
            "ticks": "",
            "zerolinecolor": "white"
           }
          },
          "shapedefaults": {
           "line": {
            "color": "#2a3f5f"
           }
          },
          "ternary": {
           "aaxis": {
            "gridcolor": "white",
            "linecolor": "white",
            "ticks": ""
           },
           "baxis": {
            "gridcolor": "white",
            "linecolor": "white",
            "ticks": ""
           },
           "bgcolor": "#E5ECF6",
           "caxis": {
            "gridcolor": "white",
            "linecolor": "white",
            "ticks": ""
           }
          },
          "title": {
           "x": 0.05
          },
          "xaxis": {
           "automargin": true,
           "gridcolor": "white",
           "linecolor": "white",
           "ticks": "",
           "title": {
            "standoff": 15
           },
           "zerolinecolor": "white",
           "zerolinewidth": 2
          },
          "yaxis": {
           "automargin": true,
           "gridcolor": "white",
           "linecolor": "white",
           "ticks": "",
           "title": {
            "standoff": 15
           },
           "zerolinecolor": "white",
           "zerolinewidth": 2
          }
         }
        }
       }
      }
     },
     "metadata": {},
     "output_type": "display_data"
    }
   ],
   "source": [
    "f = px.scatter_3d(proj3D, x=0, y=1, z=2)\n",
    "f.show()"
   ]
  },
  {
   "attachments": {},
   "cell_type": "markdown",
   "metadata": {},
   "source": [
    "### BERT Sentence-level Embedding - Paragraphs "
   ]
  },
  {
   "cell_type": "code",
   "execution_count": 6,
   "metadata": {},
   "outputs": [
    {
     "name": "stderr",
     "output_type": "stream",
     "text": [
      "c:\\Pro\\Stages\\A4 - DVRC\\Work\\Supervised-Learning-using-Unsupervised-Learning-Metrics-in-the-absence-of-Annotated-Data\\.venv\\Lib\\site-packages\\tqdm\\auto.py:21: TqdmWarning: IProgress not found. Please update jupyter and ipywidgets. See https://ipywidgets.readthedocs.io/en/stable/user_install.html\n",
      "  from .autonotebook import tqdm as notebook_tqdm\n"
     ]
    }
   ],
   "source": [
    "from transformers import BertTokenizer, BertModel\n",
    "import torch\n",
    "import numpy as np"
   ]
  },
  {
   "cell_type": "code",
   "execution_count": 7,
   "metadata": {},
   "outputs": [
    {
     "name": "stderr",
     "output_type": "stream",
     "text": [
      "Downloading (…)lve/main/config.json: 100%|██████████| 570/570 [00:00<?, ?B/s] \n",
      "Downloading pytorch_model.bin: 100%|██████████| 440M/440M [00:11<00:00, 40.0MB/s] \n",
      "Some weights of the model checkpoint at bert-base-uncased were not used when initializing BertModel: ['cls.predictions.decoder.weight', 'cls.predictions.transform.LayerNorm.bias', 'cls.predictions.bias', 'cls.predictions.transform.dense.bias', 'cls.seq_relationship.weight', 'cls.predictions.transform.dense.weight', 'cls.seq_relationship.bias', 'cls.predictions.transform.LayerNorm.weight']\n",
      "- This IS expected if you are initializing BertModel from the checkpoint of a model trained on another task or with another architecture (e.g. initializing a BertForSequenceClassification model from a BertForPreTraining model).\n",
      "- This IS NOT expected if you are initializing BertModel from the checkpoint of a model that you expect to be exactly identical (initializing a BertForSequenceClassification model from a BertForSequenceClassification model).\n",
      "Downloading (…)solve/main/vocab.txt: 100%|██████████| 232k/232k [00:00<00:00, 3.36MB/s]\n",
      "Downloading (…)okenizer_config.json: 100%|██████████| 28.0/28.0 [00:00<00:00, 23.2kB/s]\n"
     ]
    }
   ],
   "source": [
    "model = BertModel.from_pretrained('bert-base-uncased',\n",
    "                                  output_hidden_states=True)\n",
    "tokenizer = BertTokenizer.from_pretrained('bert-base-uncased')"
   ]
  },
  {
   "cell_type": "code",
   "execution_count": 4,
   "metadata": {},
   "outputs": [
    {
     "name": "stdout",
     "output_type": "stream",
     "text": [
      "Wikipedia is a multilingual, free, online encyclopedia written and maintained by a community of volunteers, known as Wikipedians, through open collaboration and using a wiki-based editing system called MediaWiki. Wikipedia is the largest and most-read reference work in history. It is consistently one of the 10 most popular websites ranked by Similarweb and formerly Alexa; as of 2023, Wikipedia was ranked the 5th most popular site in the world according to Semrush. It is hosted by the Wikimedia Foundation, an American non-profit organization funded mainly through donations.\n"
     ]
    }
   ],
   "source": [
    "corpus = \"Wikipedia is a multilingual, free, online encyclopedia written and maintained by a community of volunteers, known as Wikipedians, through open collaboration and using a wiki-based editing system called MediaWiki. Wikipedia is the largest and most-read reference work in history. It is consistently one of the 10 most popular websites ranked by Similarweb and formerly Alexa; as of 2023, Wikipedia was ranked the 5th most popular site in the world according to Semrush. It is hosted by the Wikimedia Foundation, an American non-profit organization funded mainly through donations.\"\n",
    "delimiter=\".\"\n",
    "print(corpus)"
   ]
  },
  {
   "cell_type": "code",
   "execution_count": 20,
   "metadata": {},
   "outputs": [
    {
     "name": "stderr",
     "output_type": "stream",
     "text": [
      "c:\\Pro\\Stages\\A4 - DVRC\\Work\\Supervised-Learning-using-Unsupervised-Learning-Metrics-in-the-absence-of-Annotated-Data\\.venv\\Lib\\site-packages\\transformers\\tokenization_utils_base.py:2354: FutureWarning: The `pad_to_max_length` argument is deprecated and will be removed in a future version, use `padding=True` or `padding='longest'` to pad to the longest sequence in the batch, or use `padding='max_length'` to pad to a max length. In this case, you can give a specific length with `max_length` (e.g. `max_length=45`) or leave max_length to None to pad to the maximal input size of the model (e.g. 512 for Bert).\n",
      "  warnings.warn(\n",
      "c:\\Pro\\Stages\\A4 - DVRC\\Work\\Supervised-Learning-using-Unsupervised-Learning-Metrics-in-the-absence-of-Annotated-Data\\.venv\\Lib\\site-packages\\transformers\\tokenization_utils_base.py:2354: FutureWarning: The `pad_to_max_length` argument is deprecated and will be removed in a future version, use `padding=True` or `padding='longest'` to pad to the longest sequence in the batch, or use `padding='max_length'` to pad to a max length. In this case, you can give a specific length with `max_length` (e.g. `max_length=45`) or leave max_length to None to pad to the maximal input size of the model (e.g. 512 for Bert).\n",
      "  warnings.warn(\n"
     ]
    },
    {
     "data": {
      "text/plain": [
       "(5, 768)"
      ]
     },
     "execution_count": 20,
     "metadata": {},
     "output_type": "execute_result"
    }
   ],
   "source": [
    "splited = [sentence+delimiter for sentence in corpus.split(\".\")]\n",
    "max_len = max(len(x) for x in splited)\n",
    "\n",
    "input_ids = []\n",
    "attention_masks = []\n",
    "for sentence in splited:\n",
    "    encoded = tokenizer.encode_plus(sentence, \n",
    "                                    add_special_tokens=True,\n",
    "                                    max_length=max_len+1,\n",
    "                                    pad_to_max_length=True,\n",
    "                                    return_attention_mask=True,\n",
    "                                    return_tensors='pt',\n",
    "                                    truncation=True)\n",
    "    input_ids.append(encoded[\"input_ids\"])\n",
    "    attention_masks.append(encoded[\"attention_mask\"])\n",
    "\n",
    "inputs_ids = torch.cat(input_ids, dim=0)\n",
    "attention_masks = torch.cat(attention_masks, dim=0)\n",
    "\n",
    "with torch.no_grad():\n",
    "    output = model(inputs_ids, attention_mask=attention_masks)\n",
    "hidden_state = output.last_hidden_state\n",
    "cls_emb = hidden_state[:,0,:]\n",
    "cls_emb = cls_emb.detach().numpy()\n",
    "np.shape(cls_emb)"
   ]
  },
  {
   "cell_type": "code",
   "execution_count": 19,
   "metadata": {},
   "outputs": [
    {
     "data": {
      "text/plain": [
       "array([[-0.10181614, -0.04256969, -0.37916115, ..., -0.01706432,\n",
       "         0.38435265,  0.77578974],\n",
       "       [-0.15074998,  0.16900486, -0.4508034 , ..., -0.41086987,\n",
       "         0.6468059 ,  0.44568998],\n",
       "       [-0.00590458,  0.07766522, -0.09788167, ..., -0.05835519,\n",
       "         0.6742643 ,  0.6657301 ],\n",
       "       [-0.46835747,  0.30540103, -0.3483228 , ..., -0.31408456,\n",
       "         0.18837832,  0.8075387 ],\n",
       "       [-0.1548306 ,  0.25915366,  0.14536104, ..., -0.2707459 ,\n",
       "         0.49331143,  0.22958532]], dtype=float32)"
      ]
     },
     "execution_count": 19,
     "metadata": {},
     "output_type": "execute_result"
    }
   ],
   "source": [
    "cls_emb"
   ]
  },
  {
   "cell_type": "code",
   "execution_count": 14,
   "metadata": {},
   "outputs": [
    {
     "data": {
      "text/plain": [
       "5"
      ]
     },
     "execution_count": 14,
     "metadata": {},
     "output_type": "execute_result"
    }
   ],
   "source": [
    "len(splited)"
   ]
  },
  {
   "attachments": {},
   "cell_type": "markdown",
   "metadata": {},
   "source": [
    "### BERT Word-level Embedding - Paragraphs"
   ]
  },
  {
   "cell_type": "code",
   "execution_count": 1,
   "metadata": {},
   "outputs": [
    {
     "name": "stderr",
     "output_type": "stream",
     "text": [
      "c:\\Pro\\Stages\\A4 - DVRC\\Work\\Supervised-Learning-using-Unsupervised-Learning-Metrics-in-the-absence-of-Annotated-Data\\.venv\\Lib\\site-packages\\tqdm\\auto.py:21: TqdmWarning: IProgress not found. Please update jupyter and ipywidgets. See https://ipywidgets.readthedocs.io/en/stable/user_install.html\n",
      "  from .autonotebook import tqdm as notebook_tqdm\n",
      "c:\\Pro\\Stages\\A4 - DVRC\\Work\\Supervised-Learning-using-Unsupervised-Learning-Metrics-in-the-absence-of-Annotated-Data\\.venv\\Lib\\site-packages\\umap\\distances.py:1063: NumbaDeprecationWarning: \u001b[1mThe 'nopython' keyword argument was not supplied to the 'numba.jit' decorator. The implicit default value for this argument is currently False, but it will be changed to True in Numba 0.59.0. See https://numba.readthedocs.io/en/stable/reference/deprecation.html#deprecation-of-object-mode-fall-back-behaviour-when-using-jit for details.\u001b[0m\n",
      "  @numba.jit()\n",
      "c:\\Pro\\Stages\\A4 - DVRC\\Work\\Supervised-Learning-using-Unsupervised-Learning-Metrics-in-the-absence-of-Annotated-Data\\.venv\\Lib\\site-packages\\umap\\distances.py:1071: NumbaDeprecationWarning: \u001b[1mThe 'nopython' keyword argument was not supplied to the 'numba.jit' decorator. The implicit default value for this argument is currently False, but it will be changed to True in Numba 0.59.0. See https://numba.readthedocs.io/en/stable/reference/deprecation.html#deprecation-of-object-mode-fall-back-behaviour-when-using-jit for details.\u001b[0m\n",
      "  @numba.jit()\n",
      "c:\\Pro\\Stages\\A4 - DVRC\\Work\\Supervised-Learning-using-Unsupervised-Learning-Metrics-in-the-absence-of-Annotated-Data\\.venv\\Lib\\site-packages\\umap\\distances.py:1086: NumbaDeprecationWarning: \u001b[1mThe 'nopython' keyword argument was not supplied to the 'numba.jit' decorator. The implicit default value for this argument is currently False, but it will be changed to True in Numba 0.59.0. See https://numba.readthedocs.io/en/stable/reference/deprecation.html#deprecation-of-object-mode-fall-back-behaviour-when-using-jit for details.\u001b[0m\n",
      "  @numba.jit()\n",
      "c:\\Pro\\Stages\\A4 - DVRC\\Work\\Supervised-Learning-using-Unsupervised-Learning-Metrics-in-the-absence-of-Annotated-Data\\.venv\\Lib\\site-packages\\umap\\umap_.py:660: NumbaDeprecationWarning: \u001b[1mThe 'nopython' keyword argument was not supplied to the 'numba.jit' decorator. The implicit default value for this argument is currently False, but it will be changed to True in Numba 0.59.0. See https://numba.readthedocs.io/en/stable/reference/deprecation.html#deprecation-of-object-mode-fall-back-behaviour-when-using-jit for details.\u001b[0m\n",
      "  @numba.jit()\n",
      "Some weights of the model checkpoint at bert-base-uncased were not used when initializing BertModel: ['cls.seq_relationship.weight', 'cls.predictions.transform.LayerNorm.bias', 'cls.predictions.decoder.weight', 'cls.predictions.transform.dense.weight', 'cls.seq_relationship.bias', 'cls.predictions.transform.LayerNorm.weight', 'cls.predictions.bias', 'cls.predictions.transform.dense.bias']\n",
      "- This IS expected if you are initializing BertModel from the checkpoint of a model trained on another task or with another architecture (e.g. initializing a BertForSequenceClassification model from a BertForPreTraining model).\n",
      "- This IS NOT expected if you are initializing BertModel from the checkpoint of a model that you expect to be exactly identical (initializing a BertForSequenceClassification model from a BertForSequenceClassification model).\n"
     ]
    },
    {
     "name": "stdout",
     "output_type": "stream",
     "text": [
      "Wikipedia is a multilingual, free, online encyclopedia written and maintained by a community of volunteers, known as Wikipedians, through open collaboration and using a wiki-based editing system called MediaWiki. Wikipedia is the largest and most-read reference work in history. It is consistently one of the 10 most popular websites ranked by Similarweb and formerly Alexa; as of 2023, Wikipedia was ranked the 5th most popular site in the world according to Semrush. It is hosted by the Wikimedia Foundation, an American non-profit organization funded mainly through donations.\n"
     ]
    }
   ],
   "source": [
    "from transformers import BertTokenizer, BertModel\n",
    "import torch\n",
    "from umap import UMAP\n",
    "import plotly.express as px\n",
    "import numpy as np\n",
    "\n",
    "model = BertModel.from_pretrained('bert-base-uncased',\n",
    "                                  output_hidden_states=True)\n",
    "tokenizer = BertTokenizer.from_pretrained('bert-base-uncased')\n",
    "\n",
    "corpus = \"Wikipedia is a multilingual, free, online encyclopedia written and maintained by a community of volunteers, known as Wikipedians, through open collaboration and using a wiki-based editing system called MediaWiki. Wikipedia is the largest and most-read reference work in history. It is consistently one of the 10 most popular websites ranked by Similarweb and formerly Alexa; as of 2023, Wikipedia was ranked the 5th most popular site in the world according to Semrush. It is hosted by the Wikimedia Foundation, an American non-profit organization funded mainly through donations.\"\n",
    "delimiter=\".\"\n",
    "print(corpus)"
   ]
  },
  {
   "cell_type": "code",
   "execution_count": 2,
   "metadata": {},
   "outputs": [
    {
     "name": "stderr",
     "output_type": "stream",
     "text": [
      "c:\\Pro\\Stages\\A4 - DVRC\\Work\\Supervised-Learning-using-Unsupervised-Learning-Metrics-in-the-absence-of-Annotated-Data\\.venv\\Lib\\site-packages\\transformers\\tokenization_utils_base.py:2354: FutureWarning: The `pad_to_max_length` argument is deprecated and will be removed in a future version, use `padding=True` or `padding='longest'` to pad to the longest sequence in the batch, or use `padding='max_length'` to pad to a max length. In this case, you can give a specific length with `max_length` (e.g. `max_length=45`) or leave max_length to None to pad to the maximal input size of the model (e.g. 512 for Bert).\n",
      "  warnings.warn(\n"
     ]
    }
   ],
   "source": [
    "splited = [sentence+delimiter for sentence in corpus.split(\".\")]\n",
    "max_len = max(len(x) for x in splited)\n",
    "\n",
    "input_ids = []\n",
    "attention_masks = []\n",
    "for sentence in splited:\n",
    "    encoded = tokenizer.encode_plus(sentence, \n",
    "                                    add_special_tokens=True,\n",
    "                                    max_length=max_len+1,\n",
    "                                    pad_to_max_length=True,\n",
    "                                    return_attention_mask=True,\n",
    "                                    return_tensors='pt',\n",
    "                                    truncation=True)\n",
    "    input_ids.append(encoded[\"input_ids\"])\n",
    "    attention_masks.append(encoded[\"attention_mask\"])\n",
    "\n",
    "#inputs_ids = torch.Tensor(len(input_ids),1, max_len+1)\n",
    "#torch.cat(input_ids, out=inputs_ids)\n",
    "inputs_ids = torch.cat(input_ids, dim=0)\n",
    "attention_masks = torch.cat(attention_masks, dim=0)\n",
    "\n",
    "with torch.no_grad():\n",
    "    output = model(inputs_ids, attention_mask=attention_masks)"
   ]
  },
  {
   "cell_type": "code",
   "execution_count": 3,
   "metadata": {},
   "outputs": [],
   "source": [
    "hidden_states = output.hidden_states"
   ]
  },
  {
   "cell_type": "code",
   "execution_count": 4,
   "metadata": {},
   "outputs": [
    {
     "name": "stdout",
     "output_type": "stream",
     "text": [
      "torch.Size([13, 5, 213, 768])\n",
      "torch.Size([13, 5, 213, 768])\n"
     ]
    }
   ],
   "source": [
    "token_embeddings = torch.stack(hidden_states, dim=0)\n",
    "print(token_embeddings.size())\n",
    "token_embeddings = torch.squeeze(token_embeddings, dim=1)\n",
    "print(token_embeddings.size())\n"
   ]
  },
  {
   "cell_type": "code",
   "execution_count": 5,
   "metadata": {},
   "outputs": [
    {
     "name": "stdout",
     "output_type": "stream",
     "text": [
      "torch.Size([5, 213, 13, 768])\n"
     ]
    }
   ],
   "source": [
    "token_embeddings = token_embeddings.permute(1,2,0,3)\n",
    "print(token_embeddings.size())"
   ]
  },
  {
   "cell_type": "code",
   "execution_count": 6,
   "metadata": {},
   "outputs": [],
   "source": [
    "embs = []\n",
    "for batch in token_embeddings:\n",
    "    for token in batch:\n",
    "        emb = torch.cat((token[-1], token[-2], token[-3], token[-4]), dim=0)\n",
    "        embs.append(emb)"
   ]
  },
  {
   "cell_type": "code",
   "execution_count": 7,
   "metadata": {},
   "outputs": [
    {
     "data": {
      "text/plain": [
       "torch.Size([3072])"
      ]
     },
     "execution_count": 7,
     "metadata": {},
     "output_type": "execute_result"
    }
   ],
   "source": [
    "embs[0].size()"
   ]
  },
  {
   "cell_type": "code",
   "execution_count": 25,
   "metadata": {},
   "outputs": [
    {
     "data": {
      "text/plain": [
       "1065"
      ]
     },
     "execution_count": 25,
     "metadata": {},
     "output_type": "execute_result"
    }
   ],
   "source": [
    "len(embs)"
   ]
  },
  {
   "cell_type": "code",
   "execution_count": 10,
   "metadata": {},
   "outputs": [],
   "source": [
    "test = [token.tolist() for token in embs]\n",
    "test = np.array(test)"
   ]
  },
  {
   "cell_type": "code",
   "execution_count": 24,
   "metadata": {},
   "outputs": [
    {
     "data": {
      "text/plain": [
       "(1065, 3072)"
      ]
     },
     "execution_count": 24,
     "metadata": {},
     "output_type": "execute_result"
    }
   ],
   "source": [
    "test.shape"
   ]
  },
  {
   "cell_type": "code",
   "execution_count": 20,
   "metadata": {},
   "outputs": [],
   "source": [
    "umap3D = UMAP(n_components=3, init='random', random_state=0)\n",
    "proj3D = umap3D.fit_transform(test).T"
   ]
  },
  {
   "cell_type": "code",
   "execution_count": 21,
   "metadata": {},
   "outputs": [],
   "source": [
    "labels = tokenizer.convert_ids_to_tokens(tokenizer.encode(corpus))\n",
    "labels = np.pad(labels)"
   ]
  },
  {
   "cell_type": "code",
   "execution_count": 23,
   "metadata": {},
   "outputs": [
    {
     "data": {
      "text/plain": [
       "1065"
      ]
     },
     "execution_count": 23,
     "metadata": {},
     "output_type": "execute_result"
    }
   ],
   "source": [
    "len(proj3D[0])"
   ]
  },
  {
   "cell_type": "code",
   "execution_count": 27,
   "metadata": {},
   "outputs": [],
   "source": [
    "data = {\"x\": proj3D[0],\n",
    "        \"y\": proj3D[1],\n",
    "        \"z\": proj3D[2], \n",
    "        \"labels\": labels}"
   ]
  },
  {
   "cell_type": "code",
   "execution_count": null,
   "metadata": {},
   "outputs": [],
   "source": [
    "f = px.scatter_3d(data, x=\"x\", y=\"y\", z=\"z\", labels=\"labels\")\n",
    "f.show()"
   ]
  },
  {
   "cell_type": "code",
   "execution_count": 12,
   "metadata": {},
   "outputs": [
    {
     "data": {
      "application/vnd.plotly.v1+json": {
       "config": {
        "plotlyServerURL": "https://plot.ly"
       },
       "data": [
        {
         "hovertemplate": "0=%{x}<br>1=%{y}<br>2=%{z}<extra></extra>",
         "legendgroup": "",
         "marker": {
          "color": "#636efa",
          "symbol": "circle"
         },
         "mode": "markers",
         "name": "",
         "scene": "scene",
         "showlegend": false,
         "type": "scatter3d",
         "x": [
          4.579276084899902,
          4.73355770111084,
          4.490370750427246,
          4.392567157745361,
          4.320117950439453,
          4.524954795837402,
          4.396079063415527,
          4.170401096343994,
          4.285091400146484,
          4.32027006149292,
          4.508809566497803,
          4.720232963562012,
          4.420619964599609,
          4.113529682159424,
          4.4571661949157715,
          3.503725528717041,
          3.6149799823760986,
          3.5191216468811035,
          3.42991304397583,
          3.5256950855255127,
          3.181703805923462,
          3.2831614017486572,
          3.3477959632873535,
          4.758450031280518,
          3.449164390563965,
          4.499416351318359,
          3.672943592071533,
          3.9423861503601074,
          3.7565155029296875,
          3.8283941745758057,
          3.743992805480957,
          3.8028621673583984,
          4.570291519165039,
          4.6508073806762695,
          3.891240119934082,
          3.787907838821411,
          4.736363887786865,
          3.890774965286255,
          3.782407283782959,
          4.77884578704834,
          4.721534252166748,
          4.72068452835083,
          4.523037910461426,
          4.595799922943115,
          3.340383529663086,
          3.338989734649658,
          3.1812334060668945,
          3.264263868331909,
          2.557117462158203,
          2.258293867111206,
          2.6211414337158203,
          2.294835329055786,
          2.686561107635498,
          2.8128256797790527,
          2.238974094390869,
          3.3018293380737305,
          2.039316177368164,
          2.235067367553711,
          2.674909830093384,
          6.209000110626221,
          6.186083793640137,
          3.680384874343872,
          2.6844120025634766,
          2.5700409412384033,
          3.7931346893310547,
          3.8615195751190186,
          3.965435266494751,
          3.8387255668640137,
          3.9859530925750732,
          2.3025615215301514,
          2.387254476547241,
          2.3746109008789062,
          2.4596378803253174,
          2.3934555053710938,
          2.2232069969177246,
          2.3326950073242188,
          2.3507306575775146,
          2.6179563999176025,
          3.0057289600372314,
          2.2003204822540283,
          2.1478147506713867,
          1.9055613279342651,
          1.8654193878173828,
          2.1965079307556152,
          2.143819808959961,
          2.183603525161743,
          2.812081813812256,
          2.7702128887176514,
          3.934250831604004,
          4.016976356506348,
          3.8665664196014404,
          3.8228108882904053,
          3.874382734298706,
          3.9136581420898438,
          3.876042127609253,
          3.980264663696289,
          4.006239891052246,
          5.404189109802246,
          3.95414400100708,
          2.350954294204712,
          5.383578300476074,
          2.975182294845581,
          2.320756196975708,
          3.652308225631714,
          2.6487648487091064,
          2.661252498626709,
          3.1410934925079346,
          2.6605348587036133,
          3.0776917934417725,
          2.1421144008636475,
          1.903800129890442,
          1.8971692323684692,
          2.406764030456543,
          2.3097548484802246,
          2.2515032291412354,
          2.8434925079345703,
          2.83158016204834,
          3.959918260574341,
          4.006579399108887,
          4.021078586578369,
          3.847468137741089,
          3.8990397453308105,
          3.9482269287109375,
          3.995521068572998,
          3.980330228805542,
          5.332159996032715,
          5.354101657867432,
          6.223350524902344,
          6.331368923187256,
          3.3434269428253174,
          6.316745758056641,
          5.8759026527404785,
          3.3721656799316406,
          3.9717788696289062,
          6.182709693908691,
          2.6282236576080322,
          2.603318929672241,
          2.580486297607422,
          2.5544471740722656,
          2.5498037338256836,
          1.8857550621032715,
          1.9233776330947876,
          2.5916056632995605,
          2.1904211044311523,
          2.01586651802063,
          2.587087392807007,
          2.23268723487854,
          2.704833984375,
          2.699735641479492,
          3.766099452972412,
          3.815727472305298,
          2.614935874938965,
          2.6156487464904785,
          2.55961012840271,
          2.557020425796509,
          2.575657844543457,
          2.531991720199585,
          1.1998722553253174,
          2.2195074558258057,
          2.304842710494995,
          2.20011830329895,
          2.3878443241119385,
          2.3811757564544678,
          2.353287696838379,
          2.4325008392333984,
          2.2651607990264893,
          2.2569401264190674,
          2.3244786262512207,
          2.6481986045837402,
          3.011009931564331,
          2.191540479660034,
          2.0883629322052,
          1.8405635356903076,
          1.8300199508666992,
          2.1706151962280273,
          2.1617696285247803,
          1.8698734045028687,
          2.1845591068267822,
          2.711846351623535,
          6.161947727203369,
          3.048422336578369,
          2.8462135791778564,
          3.722287654876709,
          4.082292079925537,
          4.041892051696777,
          3.8458755016326904,
          3.892735481262207,
          3.8376848697662354,
          3.983555555343628,
          6.3038787841796875,
          6.2473883628845215,
          3.978785514831543,
          3.985334873199463,
          5.321095943450928,
          2.3844892978668213,
          2.797855854034424,
          5.3005571365356445,
          2.2683002948760986,
          2.641040563583374,
          1.9845212697982788,
          3.956134796142578,
          4.049218654632568,
          2.6985034942626953,
          3.027381658554077,
          2.1585493087768555,
          2.665181875228882,
          2.7053382396698,
          1.8430839776992798,
          1.9104492664337158,
          2.213175058364868,
          2.0597410202026367,
          1.8863102197647095,
          2.7657110691070557,
          4.609790802001953,
          4.770169258117676,
          5.1450653076171875,
          5.227031230926514,
          5.143849849700928,
          5.140038967132568,
          5.331968784332275,
          5.127539157867432,
          4.8887858390808105,
          4.798253536224365,
          4.773388862609863,
          5.144587516784668,
          4.872389793395996,
          4.528428077697754,
          4.645042896270752,
          7.628398418426514,
          7.173458576202393,
          7.840246200561523,
          7.164809703826904,
          7.5975422859191895,
          8.017117500305176,
          8.091492652893066,
          8.18424129486084,
          8.154191017150879,
          7.862802505493164,
          8.00528621673584,
          8.179512977600098,
          7.776259422302246,
          7.95692777633667,
          7.721007823944092,
          10.455028533935547,
          10.98097038269043,
          10.955161094665527,
          11.511505126953125,
          11.530712127685547,
          11.474824905395508,
          10.225707054138184,
          9.829465866088867,
          9.900596618652344,
          9.338622093200684,
          7.7567219734191895,
          8.747504234313965,
          8.415246963500977,
          7.654620170593262,
          7.679173469543457,
          7.787746906280518,
          8.086495399475098,
          8.18250560760498,
          7.524551868438721,
          8.3929443359375,
          8.226287841796875,
          8.088171005249023,
          8.087475776672363,
          7.771832466125488,
          7.7494096755981445,
          7.995612621307373,
          8.212345123291016,
          10.291974067687988,
          10.487086296081543,
          11.043685913085938,
          10.826992988586426,
          11.28470230102539,
          11.515460968017578,
          11.435003280639648,
          9.99465560913086,
          9.848142623901367,
          9.417984962463379,
          8.599679946899414,
          7.743058204650879,
          7.217124938964844,
          7.330634593963623,
          7.716033458709717,
          7.812929630279541,
          7.573510646820068,
          7.93281888961792,
          8.011878967285156,
          8.13682746887207,
          8.194632530212402,
          7.464273929595947,
          8.143630027770996,
          8.186487197875977,
          7.777177333831787,
          7.6876606941223145,
          7.773041725158691,
          7.669092655181885,
          8.137396812438965,
          10.277395248413086,
          10.478243827819824,
          11.046594619750977,
          10.921307563781738,
          11.348647117614746,
          11.4899263381958,
          11.413147926330566,
          10.040482521057129,
          9.77205753326416,
          8.777624130249023,
          8.701763153076172,
          8.629402160644531,
          7.677113056182861,
          7.604307651519775,
          7.759148120880127,
          7.625842571258545,
          7.659608364105225,
          7.306573390960693,
          7.758345603942871,
          8.117246627807617,
          7.761195182800293,
          7.934905529022217,
          7.955210208892822,
          7.685183525085449,
          8.046113014221191,
          8.18049430847168,
          7.752261638641357,
          7.867504596710205,
          8.182805061340332,
          10.5065279006958,
          11.04453182220459,
          10.933321952819824,
          11.340338706970215,
          11.121929168701172,
          10.05078125,
          9.922142028808594,
          9.658422470092773,
          7.670185089111328,
          7.848278522491455,
          8.197325706481934,
          7.62743616104126,
          7.701790809631348,
          7.676551818847656,
          7.708363056182861,
          7.72254753112793,
          7.7017340660095215,
          7.932444095611572,
          10.740279197692871,
          10.896087646484375,
          11.176454544067383,
          11.190624237060547,
          11.344391822814941,
          10.099723815917969,
          9.903657913208008,
          9.5118408203125,
          9.156262397766113,
          8.407322883605957,
          7.7738037109375,
          8.569991111755371,
          8.184988975524902,
          10.263042449951172,
          10.516090393066406,
          10.97240161895752,
          11.109199523925781,
          11.380555152893066,
          11.209855079650879,
          11.450470924377441,
          11.431906700134277,
          11.372602462768555,
          9.871715545654297,
          9.465093612670898,
          9.072182655334473,
          8.432476997375488,
          7.141711235046387,
          6.987171649932861,
          7.076483726501465,
          7.068343162536621,
          7.024445056915283,
          7.174110412597656,
          6.937335014343262,
          7.573816776275635,
          7.208454132080078,
          7.230884075164795,
          7.495691776275635,
          7.168743133544922,
          8.027898788452148,
          8.1714506149292,
          7.636620998382568,
          7.5677876472473145,
          8.003787994384766,
          8.174422264099121,
          10.26254940032959,
          10.507194519042969,
          11.058732032775879,
          10.892786979675293,
          11.264448165893555,
          11.501733779907227,
          11.427350997924805,
          10.011188507080078,
          10.014437675476074,
          10.116862297058105,
          7.720442771911621,
          9.862686157226562,
          8.361289978027344,
          9.129652976989746,
          8.564064979553223,
          7.389848709106445,
          7.097260475158691,
          7.383635520935059,
          7.60485315322876,
          7.123176097869873,
          7.760103702545166,
          8.085248947143555,
          8.034785270690918,
          8.145687103271484,
          10.872823715209961,
          11.165607452392578,
          10.471131324768066,
          9.9771146774292,
          8.688796997070312,
          8.26084041595459,
          7.756782531738281,
          8.485220909118652,
          8.38044548034668,
          7.826612949371338,
          8.084985733032227,
          8.192261695861816,
          4.628661632537842,
          4.728832244873047,
          5.224459648132324,
          5.6505231857299805,
          5.625290870666504,
          5.692318916320801,
          5.673953056335449,
          5.855485439300537,
          5.530635356903076,
          5.042764186859131,
          4.75109338760376,
          5.741037845611572,
          6.172022819519043,
          5.439502716064453,
          5.181556224822998,
          5.453311920166016,
          6.304657936096191,
          5.961982727050781,
          4.9385809898376465,
          7.822646617889404,
          8.365316390991211,
          8.412930488586426,
          4.799172878265381,
          5.378442764282227,
          4.4800238609313965,
          4.771950721740723,
          5.62538480758667,
          5.743923187255859,
          5.668605327606201,
          5.787035942077637,
          5.466715335845947,
          5.042974472045898,
          4.771622180938721,
          5.316448211669922,
          5.26784610748291,
          5.190072536468506,
          6.007626056671143,
          6.131433963775635,
          5.298552989959717,
          5.416346549987793,
          5.211265563964844,
          5.528294086456299,
          4.554842948913574,
          4.596719741821289,
          7.3807373046875,
          6.751502990722656,
          8.257734298706055,
          8.314167022705078,
          7.347699165344238,
          8.32856273651123,
          8.321334838867188,
          8.373071670532227,
          8.137469291687012,
          8.175771713256836,
          8.004827499389648,
          8.181447982788086,
          9.07935905456543,
          9.221024513244629,
          9.290654182434082,
          9.342512130737305,
          9.294454574584961,
          9.673084259033203,
          9.394705772399902,
          9.445554733276367,
          9.612939834594727,
          9.29227352142334,
          9.438262939453125,
          6.581724643707275,
          6.423809051513672,
          6.419219017028809,
          6.833071708679199,
          6.706514835357666,
          6.715066432952881,
          6.911694049835205,
          7.1446027755737305,
          8.368793487548828,
          8.430742263793945,
          8.02279281616211,
          8.051855087280273,
          8.113456726074219,
          8.141757011413574,
          9.045364379882812,
          9.13947582244873,
          9.200457572937012,
          9.09981918334961,
          9.15625,
          9.677306175231934,
          9.27054500579834,
          9.323965072631836,
          9.506957054138184,
          9.27920913696289,
          9.317556381225586,
          9.438299179077148,
          9.52295207977295,
          6.528792858123779,
          6.5485687255859375,
          6.613565444946289,
          6.683885097503662,
          6.445671081542969,
          6.6656341552734375,
          5.735605239868164,
          6.550894260406494,
          6.6950860023498535,
          6.915152072906494,
          8.17510986328125,
          8.325868606567383,
          8.358216285705566,
          7.9735107421875,
          8.094675064086914,
          8.02023983001709,
          8.170548439025879,
          6.630415439605713,
          9.160998344421387,
          9.103387832641602,
          9.123675346374512,
          9.51199722290039,
          9.585280418395996,
          9.446860313415527,
          9.292332649230957,
          9.470190048217773,
          9.276816368103027,
          9.237493515014648,
          6.531711101531982,
          6.574211120605469,
          6.56989049911499,
          5.739649295806885,
          5.7396321296691895,
          6.755377292633057,
          6.702676296234131,
          7.5409321784973145,
          6.711689472198486,
          6.637991905212402,
          7.539490699768066,
          7.619783401489258,
          9.25261116027832,
          9.316859245300293,
          9.356813430786133,
          9.602824211120605,
          9.624317169189453,
          9.661765098571777,
          9.050280570983887,
          9.191840171813965,
          6.510375022888184,
          6.438632488250732,
          9.197397232055664,
          9.177389144897461,
          9.230690002441406,
          9.334002494812012,
          9.26300048828125,
          9.318710327148438,
          9.368586540222168,
          9.323991775512695,
          9.316922187805176,
          9.372306823730469,
          9.463741302490234,
          9.644648551940918,
          9.40631103515625,
          9.39404010772705,
          6.637412071228027,
          6.461878776550293,
          6.680929183959961,
          6.907416343688965,
          6.757725715637207,
          6.740611553192139,
          6.884204864501953,
          8.191130638122559,
          8.329696655273438,
          8.37441349029541,
          7.982669830322266,
          8.044708251953125,
          8.10057544708252,
          8.103104591369629,
          8.153904914855957,
          9.075541496276855,
          9.168354034423828,
          9.128426551818848,
          9.126740455627441,
          9.206089973449707,
          9.278755187988281,
          9.712244033813477,
          9.304424285888672,
          9.631012916564941,
          9.45734691619873,
          9.51902961730957,
          9.228212356567383,
          9.235787391662598,
          9.156004905700684,
          6.5057501792907715,
          6.541362285614014,
          6.537052631378174,
          6.5172014236450195,
          6.403476238250732,
          6.5813446044921875,
          6.563299179077148,
          9.109582901000977,
          9.186203002929688,
          6.686727046966553,
          9.195173263549805,
          9.688840866088867,
          9.468228340148926,
          9.12197208404541,
          9.542506217956543,
          8.261874198913574,
          8.086928367614746,
          8.137174606323242,
          8.181438446044922,
          8.166154861450195,
          7.973758697509766,
          9.11520004272461,
          6.524723529815674,
          9.107728958129883,
          9.133588790893555,
          9.644912719726562,
          4.531337261199951,
          4.358957290649414,
          4.2571282386779785,
          4.342453956604004,
          3.637526035308838,
          3.7721729278564453,
          4.514815807342529,
          4.543668270111084,
          4.445181369781494,
          4.4418439865112305,
          3.837012767791748,
          4.481830596923828,
          3.6653754711151123,
          4.715634346008301,
          3.8677144050598145,
          4.009038925170898,
          3.8107364177703857,
          3.7693159580230713,
          3.755192756652832,
          3.765693187713623,
          3.7291805744171143,
          3.7501931190490723,
          4.5664849281311035,
          4.593100070953369,
          2.7131829261779785,
          2.80608868598938,
          2.3152425289154053,
          3.9302186965942383,
          2.8220057487487793,
          2.0970866680145264,
          2.022386312484741,
          1.9792433977127075,
          2.0417327880859375,
          2.080768585205078,
          2.0801210403442383,
          2.062544107437134,
          2.1158344745635986,
          2.484658718109131,
          2.498047113418579,
          0.35701635479927063,
          0.14045771956443787,
          0.3994726836681366,
          0.1499059498310089,
          0.02760363556444645,
          0.9378840923309326,
          0.8583514094352722,
          0.7791474461555481,
          0.4558485746383667,
          0.39225947856903076,
          0.28702783584594727,
          0.1991543173789978,
          0.12527252733707428,
          4.895227432250977,
          2.3158278465270996,
          2.15110182762146,
          2.3494021892547607,
          2.2691738605499268,
          1.9480652809143066,
          1.9397127628326416,
          1.9819982051849365,
          2.061199903488159,
          2.0591273307800293,
          2.153693914413452,
          2.2579703330993652,
          2.4753899574279785,
          2.480797290802002,
          0.5004460215568542,
          0.24318721890449524,
          0.19946354627609253,
          0.03363322466611862,
          -0.0917091816663742,
          -0.11799142509698868,
          0.9470950961112976,
          0.761348307132721,
          0.5199823975563049,
          0.20082871615886688,
          0.13672780990600586,
          4.955046653747559,
          2.82114577293396,
          4.5108866691589355,
          4.363587379455566,
          4.088749408721924,
          4.3486857414245605,
          2.371040105819702,
          2.311532735824585,
          3.0108189582824707,
          1.9555319547653198,
          1.9505006074905396,
          2.0126843452453613,
          2.0861361026763916,
          2.058462381362915,
          2.037095069885254,
          2.2636404037475586,
          2.2905478477478027,
          2.507899522781372,
          2.477020263671875,
          0.44403353333473206,
          0.1869320124387741,
          0.019074484705924988,
          -0.033516738563776016,
          -0.10095182061195374,
          0.9508907198905945,
          0.9266300201416016,
          0.6951776146888733,
          0.21403788030147552,
          4.928159236907959,
          0.14175736904144287,
          4.682762622833252,
          4.318758487701416,
          2.685197353363037,
          4.448079586029053,
          4.376593112945557,
          2.2659177780151367,
          3.844170570373535,
          2.5928215980529785,
          2.1044600009918213,
          1.9954560995101929,
          2.1930313110351562,
          2.048732280731201,
          2.0863475799560547,
          2.972104787826538,
          4.960497856140137,
          4.918418884277344,
          3.0584120750427246,
          3.3244426250457764,
          3.1837282180786133,
          3.3068032264709473,
          4.534982204437256,
          3.0889201164245605,
          3.263561487197876,
          3.3912737369537354,
          3.835381507873535,
          4.619993686676025,
          2.14817214012146,
          2.0734119415283203,
          4.808145523071289,
          4.235728740692139,
          2.0429294109344482,
          2.023099899291992,
          2.3386051654815674,
          2.2741997241973877,
          3.9029269218444824,
          1.742849588394165,
          0.5592202544212341,
          1.9556463956832886,
          2.014995574951172,
          1.9517968893051147,
          1.9877771139144897,
          2.0045948028564453,
          2.0001916885375977,
          2.064516067504883,
          2.0122313499450684,
          2.153102397918701,
          2.196101188659668,
          2.292668342590332,
          2.49267840385437,
          2.5030665397644043,
          0.4688624441623688,
          0.2271505743265152,
          0.05410413816571236,
          -0.04934905841946602,
          -0.10078150033950806,
          -0.11355188488960266,
          0.9153125882148743,
          0.7878413200378418,
          0.43065062165260315,
          0.20449772477149963,
          0.12991836667060852,
          4.989851951599121,
          4.333000659942627,
          2.7780675888061523,
          4.4065327644348145,
          4.33904504776001,
          2.912921905517578,
          2.7467284202575684,
          2.525449752807617,
          2.3220677375793457,
          2.0012102127075195,
          1.9615585803985596,
          1.999485731124878,
          2.0655312538146973,
          2.0282301902770996,
          2.149195671081543,
          2.085543394088745,
          2.097836494445801,
          4.986307144165039,
          5.0035881996154785,
          3.5312652587890625,
          3.965308427810669,
          2.5064022541046143,
          0.42884236574172974,
          0.27647876739501953,
          0.12410880625247955,
          0.06931759417057037,
          -0.036308079957962036,
          3.432344913482666,
          0.8857178092002869,
          0.6634680032730103,
          0.29606813192367554,
          4.946340084075928,
          0.2438242882490158,
          0.1724364012479782,
          4.957986354827881,
          4.316255569458008,
          2.7405037879943848,
          4.60093355178833,
          4.817271709442139,
          4.371153831481934,
          4.312707424163818,
          2.546961784362793,
          2.2190308570861816,
          3.833436965942383,
          2.293443202972412,
          4.090667247772217,
          3.1181869506835938,
          4.565686225891113,
          4.731191635131836,
          4.515137195587158,
          5.6891560554504395,
          4.090727806091309,
          4.214616775512695,
          6.790301322937012,
          6.931979656219482,
          6.496975898742676,
          6.109084606170654,
          3.9612314701080322,
          6.0104265213012695,
          5.185768127441406,
          3.854783535003662,
          5.5952630043029785,
          5.0643110275268555,
          6.474776268005371,
          6.6066107749938965,
          5.450066566467285,
          5.362982273101807,
          5.813694953918457,
          5.086140155792236,
          5.074436187744141,
          4.834332466125488,
          3.059399127960205,
          4.804691314697266,
          3.944469451904297,
          4.795461654663086,
          4.748286724090576,
          3.1528773307800293,
          6.300710678100586,
          7.107029438018799,
          7.28609561920166,
          7.310467720031738,
          5.561988830566406,
          7.3032379150390625,
          7.208283424377441,
          7.035451412200928,
          6.430154323577881,
          5.635008811950684,
          3.506315231323242,
          6.196322917938232,
          6.241546154022217,
          5.666218280792236,
          6.398843288421631,
          4.055110454559326,
          6.774509429931641,
          6.21412467956543,
          3.9108924865722656,
          4.630369663238525,
          3.7363784313201904,
          3.298180103302002,
          4.79473876953125,
          4.721434116363525,
          3.041776657104492,
          4.318370342254639,
          3.396916151046753,
          5.810183525085449,
          5.707823753356934,
          3.564728260040283,
          7.200525760650635,
          7.187795639038086,
          7.233115196228027,
          6.736656665802002,
          3.9159669876098633,
          5.73837423324585,
          5.788284778594971,
          5.104536533355713,
          5.1922430992126465,
          3.9079697132110596,
          3.9359824657440186,
          5.948836326599121,
          5.797760486602783,
          4.056545734405518,
          5.619123935699463,
          3.9840664863586426,
          5.899345874786377,
          4.949789047241211,
          3.171276807785034,
          3.954834222793579,
          4.783727169036865,
          3.6308088302612305,
          4.821380615234375,
          3.1029889583587646,
          3.08288836479187,
          5.627482891082764,
          5.849898338317871,
          6.567033290863037,
          7.076715469360352,
          4.2140936851501465,
          7.2718634605407715,
          7.197320938110352,
          5.877547740936279,
          6.042022705078125,
          5.877135753631592,
          5.824776649475098,
          5.9359564781188965,
          5.525793075561523,
          3.7564616203308105,
          6.343034267425537,
          6.441905498504639,
          7.144055366516113,
          7.230576038360596,
          4.068023681640625,
          5.5277838706970215,
          6.189520835876465,
          5.621895790100098,
          5.258350372314453,
          4.665600299835205,
          3.0923357009887695,
          4.937752723693848,
          4.796441078186035,
          3.5241940021514893,
          5.515868663787842,
          3.978837013244629,
          6.52049446105957,
          7.052577972412109,
          7.253155708312988,
          7.258779525756836,
          7.2792744636535645,
          7.253506183624268,
          7.186553955078125,
          6.110843658447266,
          3.884031057357788,
          5.5940985679626465,
          5.3361334800720215,
          5.84306526184082,
          5.879147052764893,
          4.203824520111084,
          4.0139851570129395,
          5.739376544952393,
          5.631119728088379,
          5.677165985107422,
          4.439919471740723,
          3.143112897872925,
          5.64164924621582,
          4.878621578216553,
          3.4509782791137695,
          3.1629745960235596,
          4.504818439483643,
          4.688946723937988,
          4.825770378112793,
          4.844425201416016,
          3.189610004425049,
          5.096308708190918,
          5.508214473724365,
          5.188397407531738,
          6.674095153808594,
          6.7753005027771,
          7.363918304443359,
          6.571545124053955,
          7.3636698722839355,
          7.414793014526367,
          7.395081996917725,
          7.362003326416016,
          6.558194637298584,
          6.700901031494141,
          6.645386695861816,
          6.623127460479736,
          6.372082233428955,
          6.530503749847412,
          6.759234428405762,
          6.878708362579346,
          6.9034318923950195,
          6.765302658081055,
          6.92396879196167,
          6.886974811553955,
          5.347825527191162,
          5.921528339385986,
          4.8541579246521,
          3.1847715377807617,
          4.383999347686768,
          4.768881797790527,
          4.745052814483643,
          3.117065906524658,
          4.418778896331787,
          5.018432140350342,
          3.450309991836548,
          4.185864448547363,
          3.2622268199920654,
          6.470814228057861,
          7.066720962524414,
          7.254781723022461,
          7.3042521476745605,
          4.212271213531494,
          7.360371112823486,
          7.298417568206787,
          7.1678338050842285,
          6.222824573516846,
          3.9928135871887207,
          6.573885440826416,
          5.167656898498535,
          5.959153652191162,
          4.906310558319092,
          5.0213141441345215,
          6.003784656524658,
          3.2467799186706543,
          5.174964427947998,
          6.746137619018555,
          6.8390069007873535,
          6.96475076675415,
          6.514439582824707,
          6.902143955230713,
          5.298434257507324,
          3.2006852626800537,
          4.537363529205322,
          5.093580722808838,
          4.388830661773682,
          4.899956703186035,
          4.842157363891602,
          3.1822867393493652
         ],
         "y": [
          2.2132232189178467,
          1.9722211360931396,
          2.1913464069366455,
          2.224320411682129,
          2.360527515411377,
          2.3085665702819824,
          2.234189033508301,
          2.5628914833068848,
          2.3161661624908447,
          2.4366719722747803,
          2.2609527111053467,
          2.0107107162475586,
          2.1202585697174072,
          2.537665605545044,
          2.1392219066619873,
          2.6001365184783936,
          2.6847763061523438,
          2.6749324798583984,
          2.762507200241089,
          2.688612937927246,
          3.016752243041992,
          2.96142578125,
          2.9132463932037354,
          1.973990797996521,
          2.7419958114624023,
          2.3423643112182617,
          2.6919209957122803,
          2.4921061992645264,
          2.6143596172332764,
          2.7279162406921387,
          2.68356990814209,
          2.8005967140197754,
          2.389746904373169,
          2.36660099029541,
          2.733872413635254,
          2.809805154800415,
          2.1175994873046875,
          2.858086585998535,
          3.017287015914917,
          2.304417848587036,
          2.455678701400757,
          2.2749948501586914,
          2.334663152694702,
          2.3247628211975098,
          4.484932899475098,
          4.512271881103516,
          4.431544780731201,
          4.536281585693359,
          4.147359848022461,
          3.8514368534088135,
          4.124701976776123,
          3.719196319580078,
          4.153975009918213,
          4.297942161560059,
          5.422402381896973,
          4.523172378540039,
          5.8059401512146,
          5.908730983734131,
          5.933163166046143,
          4.003701210021973,
          4.022023677825928,
          5.749114990234375,
          6.167605400085449,
          6.180780410766602,
          5.703223705291748,
          5.633250713348389,
          5.28822135925293,
          5.048451900482178,
          5.02644681930542,
          4.26375675201416,
          4.224504470825195,
          4.157235145568848,
          4.288726806640625,
          4.127328395843506,
          3.7938761711120605,
          3.607658863067627,
          3.688878297805786,
          4.061520576477051,
          4.064408302307129,
          3.850052833557129,
          3.8310799598693848,
          6.1130900382995605,
          6.0812907218933105,
          5.5135297775268555,
          5.550790786743164,
          5.668280124664307,
          5.813941478729248,
          5.880446434020996,
          5.804206848144531,
          5.8894877433776855,
          5.764173984527588,
          5.716037273406982,
          5.620182037353516,
          5.261597633361816,
          5.246546268463135,
          5.079841613769531,
          5.072060585021973,
          3.758277177810669,
          4.991123676300049,
          5.206636905670166,
          3.7991538047790527,
          4.614558696746826,
          3.9716269969940186,
          5.507826805114746,
          4.302393436431885,
          4.286114692687988,
          4.607643127441406,
          4.162265300750732,
          4.077330112457275,
          3.8510520458221436,
          6.016713619232178,
          6.048604965209961,
          5.299394130706787,
          5.408874988555908,
          5.660835266113281,
          5.85892391204834,
          5.8203840255737305,
          5.854392051696777,
          5.882228374481201,
          5.920912265777588,
          5.676725387573242,
          5.4571685791015625,
          5.072534561157227,
          5.0519490242004395,
          4.98001766204834,
          3.790633201599121,
          3.779939889907837,
          3.687106132507324,
          3.670224189758301,
          4.452048301696777,
          3.645922899246216,
          3.7181448936462402,
          4.452986240386963,
          5.787960529327393,
          4.020393371582031,
          5.997131824493408,
          6.021492958068848,
          6.0167646408081055,
          6.126685619354248,
          6.142289638519287,
          6.073649883270264,
          6.044581890106201,
          5.964813232421875,
          5.5134429931640625,
          5.90883207321167,
          4.900937080383301,
          5.484670162200928,
          5.898746967315674,
          5.922327518463135,
          5.708305358886719,
          5.754415988922119,
          6.138693332672119,
          6.192718029022217,
          6.162754058837891,
          6.162468910217285,
          6.148116588592529,
          6.177376747131348,
          3.060004472732544,
          4.180702209472656,
          4.2463860511779785,
          4.251387119293213,
          4.216691017150879,
          4.140709400177002,
          4.041941165924072,
          4.103770732879639,
          3.876974582672119,
          3.5602242946624756,
          3.703247308731079,
          4.091287136077881,
          4.04973840713501,
          3.882467269897461,
          3.7731893062591553,
          6.0775651931762695,
          6.120050430297852,
          5.496519565582275,
          5.530740261077881,
          6.063705921173096,
          5.55074405670166,
          5.8640336990356445,
          4.032563209533691,
          5.798483848571777,
          5.855360507965088,
          5.7415385246276855,
          5.945520877838135,
          5.857101917266846,
          5.73220157623291,
          5.6681294441223145,
          5.358203411102295,
          5.0653862953186035,
          3.886174201965332,
          3.90350341796875,
          5.0453972816467285,
          5.029119491577148,
          3.815477132797241,
          5.307565212249756,
          4.730155944824219,
          3.8277580738067627,
          3.893120050430298,
          4.312524318695068,
          1.4035272598266602,
          5.827431678771973,
          5.915414810180664,
          4.3138957023620605,
          4.060791015625,
          3.8121144771575928,
          4.263402462005615,
          4.309292793273926,
          6.092156887054443,
          6.0227155685424805,
          5.47268533706665,
          5.754140853881836,
          6.063084602355957,
          5.806195259094238,
          2.1747066974639893,
          1.947905421257019,
          1.9132096767425537,
          1.7601203918457031,
          1.772833228111267,
          1.9242420196533203,
          1.735836386680603,
          1.8325066566467285,
          1.874711275100708,
          1.9548527002334595,
          1.945398211479187,
          1.9108943939208984,
          2.084876298904419,
          2.3413686752319336,
          2.3211944103240967,
          2.425581932067871,
          3.4867544174194336,
          2.609184980392456,
          3.593763589859009,
          2.397817611694336,
          2.0238616466522217,
          1.9457656145095825,
          1.8869901895523071,
          2.0121233463287354,
          3.76884126663208,
          1.9033699035644531,
          2.978161334991455,
          3.697866678237915,
          2.087369680404663,
          3.6519274711608887,
          0.1775922030210495,
          0.602259635925293,
          0.5176970958709717,
          0.5897164344787598,
          0.6741014719009399,
          0.7123761773109436,
          1.6621040105819702,
          1.9487643241882324,
          1.8868632316589355,
          2.2312796115875244,
          4.042726516723633,
          1.990215539932251,
          2.8008081912994385,
          4.092490196228027,
          2.331882953643799,
          2.523911714553833,
          1.9630274772644043,
          2.0529112815856934,
          3.4549400806427,
          1.8508284091949463,
          1.942511796951294,
          2.025529146194458,
          1.9560219049453735,
          2.422560214996338,
          3.5286667346954346,
          1.9588947296142578,
          2.9787826538085938,
          0.16263438761234283,
          0.19237478077411652,
          0.8201598525047302,
          0.43214818835258484,
          0.49360141158103943,
          0.5800762176513672,
          0.7891483306884766,
          1.838661551475525,
          1.9470463991165161,
          2.254960298538208,
          2.9395205974578857,
          4.024553298950195,
          3.5109612941741943,
          3.7260372638702393,
          2.5355136394500732,
          2.5665369033813477,
          3.8821685314178467,
          2.13643741607666,
          2.087965965270996,
          2.037381410598755,
          1.944966435432434,
          3.645550012588501,
          1.9169285297393799,
          2.7706422805786133,
          3.9385054111480713,
          2.4415063858032227,
          3.7252771854400635,
          3.5828750133514404,
          3.020646095275879,
          0.16581591963768005,
          0.1933019906282425,
          0.8092595934867859,
          0.5427433252334595,
          0.4999786913394928,
          0.6056899428367615,
          0.7890375256538391,
          1.7887600660324097,
          1.9836798906326294,
          2.7455711364746094,
          2.684641122817993,
          2.8334665298461914,
          3.9958152770996094,
          2.4831087589263916,
          2.5595409870147705,
          3.8354647159576416,
          2.5679447650909424,
          3.6293609142303467,
          2.37454891204834,
          2.5046660900115967,
          2.5288281440734863,
          2.1717209815979004,
          2.289306879043579,
          3.9082882404327393,
          1.975909948348999,
          2.892367124557495,
          3.9673893451690674,
          2.130032777786255,
          2.839176654815674,
          0.22105437517166138,
          0.580369770526886,
          0.734314501285553,
          0.7718974947929382,
          0.9540430903434753,
          1.6914948225021362,
          1.8022528886795044,
          1.999050498008728,
          4.039913654327393,
          2.8555402755737305,
          2.8223607540130615,
          4.046745300292969,
          2.636977434158325,
          2.673914909362793,
          2.6638174057006836,
          2.7009146213531494,
          2.6229779720306396,
          2.2634005546569824,
          0.8180056214332581,
          0.6072208881378174,
          0.5423957109451294,
          0.7840166687965393,
          0.8514260053634644,
          1.7485617399215698,
          1.8184956312179565,
          2.0252697467803955,
          1.9985995292663574,
          2.1403679847717285,
          3.9378113746643066,
          1.9395945072174072,
          2.969061851501465,
          0.18651559948921204,
          0.21693409979343414,
          0.5745801329612732,
          0.7967069149017334,
          0.6110551953315735,
          0.4896159768104553,
          0.5681851506233215,
          0.751750648021698,
          0.8500896096229553,
          1.919185996055603,
          2.2295644283294678,
          2.121373414993286,
          2.7768237590789795,
          3.7785298824310303,
          3.588984251022339,
          3.3817999362945557,
          3.5859079360961914,
          3.45082426071167,
          3.7892892360687256,
          3.504985809326172,
          2.779116153717041,
          3.816905975341797,
          3.6491029262542725,
          2.9491257667541504,
          3.842967987060547,
          1.9245742559432983,
          2.977640390396118,
          3.883676528930664,
          2.512157440185547,
          1.9476650953292847,
          3.0114874839782715,
          0.16632811725139618,
          0.20560838282108307,
          0.7997628450393677,
          0.5032881498336792,
          0.4829899072647095,
          0.7075332403182983,
          0.772534966468811,
          1.8331520557403564,
          1.8071123361587524,
          1.7368601560592651,
          4.015084743499756,
          1.9163954257965088,
          3.0967183113098145,
          2.407392740249634,
          2.739058017730713,
          4.008332252502441,
          3.730165719985962,
          3.842306613922119,
          2.470665693283081,
          3.509409189224243,
          2.2925636768341064,
          2.711183547973633,
          2.212071657180786,
          2.13830828666687,
          0.7270058989524841,
          0.8560881018638611,
          1.3331912755966187,
          1.7248952388763428,
          1.9191073179244995,
          2.6216437816619873,
          3.2194607257843018,
          1.9034085273742676,
          2.0130817890167236,
          3.966344118118286,
          1.9112684726715088,
          2.9633266925811768,
          2.1698856353759766,
          2.126647472381592,
          1.9335554838180542,
          1.9256659746170044,
          1.8474338054656982,
          1.8329126834869385,
          1.777563452720642,
          1.7176462411880493,
          1.790497899055481,
          1.8826693296432495,
          2.0803442001342773,
          1.9730435609817505,
          2.6630914211273193,
          2.559833288192749,
          2.4868626594543457,
          2.5516419410705566,
          2.892531633377075,
          2.7057645320892334,
          2.2348220348358154,
          3.877683639526367,
          3.288350820541382,
          3.2946836948394775,
          2.328333854675293,
          2.398134708404541,
          2.3774237632751465,
          1.9618510007858276,
          1.9032552242279053,
          1.888791799545288,
          1.8116414546966553,
          1.752230167388916,
          1.8123441934585571,
          1.8732980489730835,
          2.0382797718048096,
          1.916333794593811,
          1.9395164251327515,
          2.0527703762054443,
          2.3912739753723145,
          2.6007306575775146,
          2.520768880844116,
          2.56078839302063,
          2.5056610107421875,
          2.482046127319336,
          2.322709798812866,
          2.325833559036255,
          2.711909055709839,
          3.497375965118408,
          3.1046502590179443,
          3.1836774349212646,
          3.0306942462921143,
          3.1756646633148193,
          3.1837406158447266,
          3.2223339080810547,
          2.7907474040985107,
          2.795903444290161,
          2.5019338130950928,
          2.838914632797241,
          0.18065811693668365,
          0.32760486006736755,
          0.43282389640808105,
          0.5057255029678345,
          0.6567315459251404,
          1.7892446517944336,
          2.1965131759643555,
          1.1489757299423218,
          1.536401629447937,
          2.4638705253601074,
          2.437005043029785,
          2.991530179977417,
          3.75533127784729,
          3.852468490600586,
          3.2212915420532227,
          3.1459412574768066,
          3.0525174140930176,
          3.161419153213501,
          3.0783016681671143,
          3.225212812423706,
          3.2986221313476562,
          2.7888574600219727,
          2.8014700412750244,
          2.715641975402832,
          2.7918169498443604,
          0.2251439243555069,
          0.20820316672325134,
          0.1416119784116745,
          0.33359581232070923,
          0.6355984210968018,
          1.7503929138183594,
          0.4410707652568817,
          0.8904333114624023,
          2.023314952850342,
          2.425600528717041,
          0.9006865620613098,
          1.1251307725906372,
          1.317411184310913,
          4.048760890960693,
          2.9729340076446533,
          3.0318429470062256,
          3.208883762359619,
          3.7883589267730713,
          3.484344720840454,
          3.757544994354248,
          3.5099048614501953,
          3.046578884124756,
          3.160184144973755,
          2.866516590118408,
          3.1775264739990234,
          3.2118377685546875,
          2.813401222229004,
          2.7889323234558105,
          2.552048683166504,
          2.8230772018432617,
          3.466404914855957,
          0.1839851289987564,
          0.25825121998786926,
          0.5538427233695984,
          2.0741991996765137,
          1.8990095853805542,
          2.2250611782073975,
          2.427199602127075,
          2.078456163406372,
          2.435882329940796,
          2.479184865951538,
          3.962536573410034,
          3.095432758331299,
          4.068639278411865,
          3.757826328277588,
          3.754476547241211,
          3.617656707763672,
          3.5862035751342773,
          2.678119421005249,
          3.560708999633789,
          3.575387954711914,
          2.6220927238464355,
          2.487563371658325,
          0.9969238638877869,
          0.9054837226867676,
          0.9201872944831848,
          1.3356705904006958,
          1.4157018661499023,
          1.5039231777191162,
          0.23091256618499756,
          0.5312743782997131,
          4.0895843505859375,
          3.855987310409546,
          0.4916524887084961,
          0.5103293061256409,
          0.5525935292243958,
          0.771966278553009,
          0.6607378721237183,
          0.7619922757148743,
          2.311096668243408,
          0.8668241500854492,
          0.9039463400840759,
          1.026580810546875,
          1.1904726028442383,
          1.5410982370376587,
          2.401029348373413,
          2.380819082260132,
          3.0221519470214844,
          3.760193347930908,
          3.4717354774475098,
          3.2539331912994385,
          3.1151161193847656,
          3.067168712615967,
          3.1711666584014893,
          3.0345609188079834,
          3.2041313648223877,
          3.231330156326294,
          2.7722764015197754,
          2.7961862087249756,
          2.658550262451172,
          2.693753480911255,
          2.7900168895721436,
          0.1181122213602066,
          0.15124456584453583,
          0.23243847489356995,
          0.3221679627895355,
          0.22374577820301056,
          0.4158010482788086,
          1.7835623025894165,
          0.8191247582435608,
          1.7517504692077637,
          1.9988757371902466,
          2.0087430477142334,
          2.405306100845337,
          2.465367317199707,
          2.517214059829712,
          2.9348111152648926,
          4.068991184234619,
          4.08867073059082,
          3.874847650527954,
          3.436513662338257,
          3.2700486183166504,
          4.097707271575928,
          0.21138295531272888,
          0.22599726915359497,
          3.448180913925171,
          0.7342759966850281,
          1.7570579051971436,
          2.179299831390381,
          2.2770254611968994,
          1.9725315570831299,
          2.782257080078125,
          2.813824415206909,
          2.7352023124694824,
          2.773559093475342,
          2.813765287399292,
          2.5529539585113525,
          0.19042696058750153,
          4.105487823486328,
          0.20455752313137054,
          0.5324968099594116,
          1.7440574169158936,
          2.1261117458343506,
          2.11956524848938,
          2.155226230621338,
          2.1528351306915283,
          2.264569044113159,
          2.229517936706543,
          2.2716338634490967,
          2.206179141998291,
          2.2482712268829346,
          2.2459630966186523,
          2.243852138519287,
          2.3482675552368164,
          2.2543842792510986,
          2.270782470703125,
          2.3389968872070312,
          2.3251709938049316,
          2.266763210296631,
          2.332988977432251,
          2.3527026176452637,
          2.45982027053833,
          2.4445719718933105,
          2.3565661907196045,
          2.3691506385803223,
          2.3068172931671143,
          3.702058792114258,
          3.6882681846618652,
          3.8000497817993164,
          3.626983404159546,
          3.670339584350586,
          3.6519854068756104,
          1.7517768144607544,
          1.7890015840530396,
          1.7735055685043335,
          1.6947872638702393,
          1.789543628692627,
          1.7510061264038086,
          1.6678287982940674,
          2.2660627365112305,
          2.2843029499053955,
          2.103027820587158,
          2.0708324909210205,
          2.2577295303344727,
          2.087270498275757,
          1.9970308542251587,
          2.7708916664123535,
          2.757164478302002,
          2.7940032482147217,
          2.822875499725342,
          2.844231367111206,
          2.894329309463501,
          2.9480044841766357,
          2.97631573677063,
          3.7654340267181396,
          3.7198963165283203,
          3.700153112411499,
          3.7705960273742676,
          3.7876136302948,
          3.5195541381835938,
          3.5799076557159424,
          1.7412222623825073,
          1.7063709497451782,
          1.4836491346359253,
          1.580134391784668,
          1.7560621500015259,
          2.2731800079345703,
          2.3121724128723145,
          2.3431270122528076,
          2.1489081382751465,
          2.1146092414855957,
          1.9983450174331665,
          1.8795241117477417,
          1.8581570386886597,
          2.776200294494629,
          2.742949962615967,
          2.8320891857147217,
          2.9474313259124756,
          2.974167585372925,
          3.785175323486328,
          3.527704954147339,
          3.7535746097564697,
          3.770759105682373,
          3.686887502670288,
          3.829331398010254,
          3.7210586071014404,
          3.6714446544647217,
          3.6709022521972656,
          3.5403079986572266,
          3.6111176013946533,
          1.7953895330429077,
          1.6945164203643799,
          1.5143555402755737,
          1.4515706300735474,
          1.7601510286331177,
          1.8307170867919922,
          2.311677932739258,
          2.3870646953582764,
          2.2950477600097656,
          2.100557327270508,
          1.9665496349334717,
          1.9503546953201294,
          1.873465895652771,
          2.7486703395843506,
          2.801023244857788,
          2.777667284011841,
          2.915402412414551,
          3.808432102203369,
          2.9727492332458496,
          3.774440050125122,
          3.866750478744507,
          3.6111576557159424,
          3.8483405113220215,
          3.8603241443634033,
          3.722498655319214,
          3.581975221633911,
          3.4376070499420166,
          1.816906213760376,
          1.4171727895736694,
          1.667193055152893,
          1.8370873928070068,
          1.8978450298309326,
          2.7133524417877197,
          3.770554304122925,
          3.6907312870025635,
          2.9761130809783936,
          3.144115686416626,
          3.1087734699249268,
          3.1276886463165283,
          3.6710152626037598,
          3.1496691703796387,
          3.1495985984802246,
          3.3202459812164307,
          3.5333242416381836,
          3.753829002380371,
          2.0532116889953613,
          1.7807878255844116,
          3.762765884399414,
          3.758371353149414,
          1.8892903327941895,
          1.933581829071045,
          3.268260955810547,
          3.4753024578094482,
          3.4938926696777344,
          2.1257405281066895,
          2.160435914993286,
          3.372234582901001,
          3.5512757301330566,
          3.518139123916626,
          1.7091881036758423,
          1.4457427263259888,
          1.7427005767822266,
          1.7316935062408447,
          1.4302986860275269,
          1.590641975402832,
          1.622849702835083,
          1.8370203971862793,
          2.29845929145813,
          2.317563056945801,
          2.3156023025512695,
          2.147644281387329,
          1.9996089935302734,
          1.9284089803695679,
          1.8698680400848389,
          1.8563443422317505,
          2.7695186138153076,
          2.74532151222229,
          2.860218048095703,
          2.9543421268463135,
          2.98016095161438,
          3.7863478660583496,
          3.8614771366119385,
          3.598781108856201,
          3.802210807800293,
          3.7831969261169434,
          3.6581108570098877,
          3.660709857940674,
          3.729182004928589,
          3.80930757522583,
          3.5798795223236084,
          3.6119132041931152,
          1.7498726844787598,
          1.7057627439498901,
          1.4485582113265991,
          1.5861761569976807,
          2.003192901611328,
          1.8381558656692505,
          3.7572836875915527,
          3.760495185852051,
          3.183779239654541,
          3.5620288848876953,
          3.338454008102417,
          2.2748844623565674,
          2.17350435256958,
          2.0548946857452393,
          2.000645399093628,
          1.9243003129959106,
          3.244262456893921,
          2.758544445037842,
          2.793841600418091,
          2.9070723056793213,
          3.777855157852173,
          2.951042652130127,
          2.948561191558838,
          3.7690603733062744,
          3.890148401260376,
          3.5362000465393066,
          3.7718565464019775,
          3.7662930488586426,
          3.8509039878845215,
          3.8135178089141846,
          3.6411449909210205,
          3.681041955947876,
          3.562356948852539,
          3.7524967193603516,
          11.61415958404541,
          11.742403030395508,
          2.330827236175537,
          13.817889213562012,
          12.650808334350586,
          13.387313842773438,
          11.69064712524414,
          11.627110481262207,
          13.086565971374512,
          13.0184326171875,
          13.131266593933105,
          13.376120567321777,
          11.719663619995117,
          13.280940055847168,
          13.842241287231445,
          11.727686882019043,
          12.866321563720703,
          12.208374977111816,
          12.822872161865234,
          12.952741622924805,
          12.173795700073242,
          12.194244384765625,
          13.016328811645508,
          12.482152938842773,
          13.991714477539062,
          14.007848739624023,
          11.785999298095703,
          13.918562889099121,
          12.22756290435791,
          13.570971488952637,
          13.835987091064453,
          11.717564582824707,
          13.063152313232422,
          12.992295265197754,
          12.927595138549805,
          12.864805221557617,
          12.169694900512695,
          12.715845108032227,
          12.718768119812012,
          12.841951370239258,
          13.192423820495605,
          12.819746971130371,
          11.484237670898438,
          12.802010536193848,
          12.79623794555664,
          12.320849418640137,
          12.860904693603516,
          11.507486343383789,
          12.790665626525879,
          13.222551345825195,
          11.757901191711426,
          12.692421913146973,
          11.921977043151855,
          11.822949409484863,
          13.977099418640137,
          13.815739631652832,
          11.777287483215332,
          12.513845443725586,
          11.871011734008789,
          13.09917163848877,
          13.212779998779297,
          11.613988876342773,
          13.075175285339355,
          12.989236831665039,
          12.965401649475098,
          13.076628684997559,
          11.667031288146973,
          12.567506790161133,
          13.37997055053711,
          12.865979194641113,
          13.253111839294434,
          11.81441879272461,
          11.760059356689453,
          12.964871406555176,
          13.068577766418457,
          11.634697914123535,
          12.389222145080566,
          11.74308967590332,
          13.1498384475708,
          14.0350980758667,
          11.646371841430664,
          12.208577156066895,
          13.430939674377441,
          12.033737182617188,
          13.980188369750977,
          11.76370620727539,
          11.76836109161377,
          12.980567932128906,
          13.004112243652344,
          13.051239967346191,
          13.103516578674316,
          11.597150802612305,
          13.092564582824707,
          13.08636474609375,
          12.535661697387695,
          12.691961288452148,
          12.656598091125488,
          12.643728256225586,
          12.790254592895508,
          12.837507247924805,
          11.67661190032959,
          12.923468589782715,
          12.987543106079102,
          13.087198257446289,
          13.050981521606445,
          11.611845016479492,
          12.283661842346191,
          12.989510536193848,
          13.093743324279785,
          13.377848625183105,
          12.892587661743164,
          11.73041820526123,
          13.37985897064209,
          13.543013572692871,
          11.908029556274414,
          12.843321800231934,
          11.778595924377441,
          13.053777694702148,
          13.099800109863281,
          13.14410400390625,
          13.076955795288086,
          12.999835968017578,
          13.014374732971191,
          12.879364013671875,
          13.249944686889648,
          11.72099494934082,
          12.644943237304688,
          12.4698486328125,
          12.863551139831543,
          12.9284086227417,
          11.884836196899414,
          11.790671348571777,
          12.991223335266113,
          13.001468658447266,
          13.079673767089844,
          12.552910804748535,
          11.65135383605957,
          13.291008949279785,
          14.017767906188965,
          11.863883018493652,
          11.723165512084961,
          12.506752014160156,
          12.8351411819458,
          13.824539184570312,
          14.025137901306152,
          11.420266151428223,
          12.313119888305664,
          12.868338584899902,
          12.217995643615723,
          12.50263786315918,
          12.430685997009277,
          12.482542037963867,
          12.160289764404297,
          12.493647575378418,
          12.524981498718262,
          12.495888710021973,
          12.492596626281738,
          12.154873847961426,
          12.319524765014648,
          12.286864280700684,
          12.356317520141602,
          12.171158790588379,
          12.208050727844238,
          12.18725299835205,
          12.24356746673584,
          12.284923553466797,
          12.070369720458984,
          12.286380767822266,
          12.303823471069336,
          12.217706680297852,
          13.141669273376465,
          14.03369426727295,
          11.477151870727539,
          12.530006408691406,
          13.866397857666016,
          13.890157699584961,
          11.635563850402832,
          12.558507919311523,
          13.264739990234375,
          11.838485717773438,
          11.690112113952637,
          11.512857437133789,
          13.056933403015137,
          13.098395347595215,
          13.11608600616455,
          13.007597923278809,
          11.576147079467773,
          12.878824234008789,
          12.762568473815918,
          12.6316499710083,
          12.609207153320312,
          11.456841468811035,
          12.385653495788574,
          12.217015266418457,
          13.020493507385254,
          12.163430213928223,
          12.182869911193848,
          12.9874906539917,
          11.416739463806152,
          12.198204040527344,
          12.258796691894531,
          12.394562721252441,
          12.426484107971191,
          12.169812202453613,
          12.551024436950684,
          13.311260223388672,
          11.45587158203125,
          12.13262939453125,
          13.91795825958252,
          12.475567817687988,
          13.665698051452637,
          13.933309555053711,
          11.468059539794922
         ],
         "z": [
          5.1033124923706055,
          5.707751750946045,
          6.199138641357422,
          6.2422590255737305,
          6.127896308898926,
          5.571161270141602,
          6.153416156768799,
          5.947328090667725,
          6.2703070640563965,
          5.527764320373535,
          6.1987199783325195,
          5.984659194946289,
          6.314436435699463,
          6.169384479522705,
          6.248110294342041,
          6.477643013000488,
          6.426269054412842,
          6.430771827697754,
          6.4803667068481445,
          6.442286491394043,
          6.5562238693237305,
          6.541669845581055,
          6.517169952392578,
          5.829179286956787,
          6.466590881347656,
          5.124661922454834,
          6.4086689949035645,
          6.332374572753906,
          6.409914970397949,
          6.382576942443848,
          6.415807723999023,
          6.404904842376709,
          5.720233917236328,
          5.921053409576416,
          6.34492301940918,
          6.421933174133301,
          6.068909168243408,
          6.393129348754883,
          6.480398178100586,
          6.003754615783691,
          5.623293876647949,
          6.015951156616211,
          5.145654678344727,
          5.308201313018799,
          7.887460231781006,
          7.974593639373779,
          7.723560333251953,
          8.033408164978027,
          6.993157863616943,
          7.059735298156738,
          6.910911560058594,
          6.946880340576172,
          6.891709804534912,
          6.945233345031738,
          7.387890338897705,
          7.730766773223877,
          6.9824066162109375,
          6.581051826477051,
          5.939529895782471,
          6.586331367492676,
          6.66087007522583,
          6.424030303955078,
          5.4822258949279785,
          5.534098148345947,
          6.5936455726623535,
          6.648448944091797,
          7.000476837158203,
          7.2767252922058105,
          7.280727863311768,
          7.91025447845459,
          7.717452049255371,
          7.565476894378662,
          7.7052812576293945,
          7.281316757202148,
          7.051916122436523,
          6.923449993133545,
          6.907630920410156,
          6.877048969268799,
          7.2634711265563965,
          7.066915035247803,
          7.037993431091309,
          6.667168617248535,
          6.701627254486084,
          7.368047714233398,
          7.293880462646484,
          7.074164867401123,
          6.16229772567749,
          6.058047771453857,
          6.121676445007324,
          6.2154541015625,
          6.520251750946045,
          6.583039283752441,
          6.649744510650635,
          7.029228687286377,
          7.043433666229248,
          7.220241069793701,
          7.223398208618164,
          12.271306037902832,
          7.310806751251221,
          7.40712833404541,
          12.237428665161133,
          7.89864444732666,
          7.187649726867676,
          6.408801078796387,
          6.947203159332275,
          6.8651123046875,
          7.955801486968994,
          6.89304780960083,
          7.318779945373535,
          7.053889751434326,
          6.7282304763793945,
          6.721646308898926,
          7.430495738983154,
          7.424623489379883,
          7.006785869598389,
          6.111091613769531,
          6.147215843200684,
          6.199369430541992,
          6.2286376953125,
          6.198246002197266,
          6.629194736480713,
          6.832790851593018,
          7.186131000518799,
          7.233728885650635,
          7.322693347930908,
          12.25733470916748,
          12.252545356750488,
          11.812766075134277,
          11.748618125915527,
          8.004356384277344,
          11.739747047424316,
          11.954063415527344,
          7.963508605957031,
          6.172056198120117,
          6.687044143676758,
          5.754167079925537,
          5.756467819213867,
          5.770053863525391,
          5.609470844268799,
          5.589968681335449,
          6.7071404457092285,
          6.704416751861572,
          5.874123573303223,
          7.317200660705566,
          6.86440372467041,
          7.738566875457764,
          7.333586692810059,
          5.992949962615967,
          5.970615863800049,
          6.25944709777832,
          6.3257317543029785,
          5.505527019500732,
          5.504953861236572,
          5.544248580932617,
          5.563948154449463,
          5.577693462371826,
          5.557175159454346,
          8.823244094848633,
          7.993746757507324,
          7.914001941680908,
          8.037233352661133,
          7.715906620025635,
          7.410490036010742,
          7.264949321746826,
          7.198188781738281,
          7.098320484161377,
          6.955878257751465,
          6.920006275177002,
          6.880934238433838,
          7.250202178955078,
          7.091585159301758,
          6.997486114501953,
          6.732876300811768,
          6.657326698303223,
          7.341217041015625,
          7.309148788452148,
          6.707481861114502,
          7.246816158294678,
          6.088615894317627,
          6.588078498840332,
          6.18217658996582,
          6.102112293243408,
          6.350483417510986,
          6.158686637878418,
          6.279816627502441,
          6.6339263916015625,
          6.604640960693359,
          6.883004665374756,
          7.226757049560547,
          6.583002090454102,
          6.594191551208496,
          7.251265048980713,
          7.276750087738037,
          12.21534538269043,
          7.442363262176514,
          7.891160011291504,
          12.17569637298584,
          7.091778755187988,
          6.909768104553223,
          12.182869911193848,
          6.21400785446167,
          6.194868564605713,
          6.8985395431518555,
          7.274479389190674,
          7.023126125335693,
          6.881604194641113,
          6.8579254150390625,
          6.6951165199279785,
          6.75666618347168,
          7.364249229431152,
          7.043218612670898,
          6.716936111450195,
          6.173571586608887,
          5.090364456176758,
          5.76401948928833,
          6.14894437789917,
          6.190009117126465,
          6.271926403045654,
          6.167979717254639,
          6.310084819793701,
          6.234542369842529,
          6.267192840576172,
          6.136006832122803,
          6.195984363555908,
          5.9611735343933105,
          5.6049323081970215,
          5.164175510406494,
          5.347164630889893,
          10.213040351867676,
          11.607583999633789,
          10.153731346130371,
          11.719730377197266,
          10.536761283874512,
          10.379011154174805,
          10.427206039428711,
          10.268656730651855,
          10.28554916381836,
          11.838488578796387,
          9.745686531066895,
          9.508146286010742,
          11.76643180847168,
          10.393945693969727,
          11.724175453186035,
          9.22641372680664,
          9.892309188842773,
          9.808563232421875,
          10.181866645812988,
          10.268237113952637,
          10.280274391174316,
          10.0857572555542,
          10.088367462158203,
          10.103242874145508,
          10.097833633422852,
          12.125431060791016,
          10.126158714294434,
          10.050135612487793,
          12.184056282043457,
          10.368130683898926,
          10.266800880432129,
          10.542646408081055,
          10.506166458129883,
          11.547419548034668,
          10.21427059173584,
          10.288360595703125,
          10.133000373840332,
          9.955711364746094,
          10.324549674987793,
          11.587239265441895,
          9.853727340698242,
          9.488551139831543,
          9.047146797180176,
          9.257781982421875,
          10.13767147064209,
          9.669168472290039,
          10.011726379394531,
          10.181618690490723,
          10.335681915283203,
          10.144585609436035,
          10.119088172912598,
          9.98957347869873,
          10.686721801757812,
          12.111801147460938,
          11.629388809204102,
          11.83814811706543,
          10.24925422668457,
          10.206940650939941,
          11.985496520996094,
          10.496319770812988,
          10.518665313720703,
          10.514239311218262,
          10.38053035736084,
          11.741506576538086,
          10.046996116638184,
          9.99566650390625,
          12.01864242553711,
          10.460143089294434,
          11.805484771728516,
          11.655593872070312,
          9.54914379119873,
          9.037981033325195,
          9.249818801879883,
          10.130646705627441,
          9.80172061920166,
          10.040043830871582,
          10.196399688720703,
          10.318889617919922,
          10.118937492370605,
          10.107943534851074,
          10.496973037719727,
          10.2376708984375,
          10.418505668640137,
          12.088236808776855,
          10.407736778259277,
          10.216219902038574,
          11.933408737182617,
          10.808637619018555,
          11.74105453491211,
          10.705849647521973,
          10.520854949951172,
          10.831463813781738,
          10.50412368774414,
          10.636796951293945,
          11.994354248046875,
          9.999277114868164,
          9.795212745666504,
          12.056321144104004,
          10.497049331665039,
          9.967896461486816,
          9.286553382873535,
          9.915091514587402,
          9.992663383483887,
          10.242036819458008,
          10.273969650268555,
          10.178218841552734,
          10.159916877746582,
          10.138819694519043,
          12.131662368774414,
          11.076459884643555,
          10.079779624938965,
          12.149839401245117,
          10.935050010681152,
          10.94541072845459,
          10.93800163269043,
          10.878277778625488,
          10.858527183532715,
          10.74368953704834,
          10.009146690368652,
          9.840397834777832,
          9.937520980834961,
          10.164419174194336,
          10.338201522827148,
          10.109968185424805,
          10.145480155944824,
          10.137412071228027,
          10.134765625,
          10.182064056396484,
          12.016495704650879,
          10.102787017822266,
          9.529145240783691,
          9.044707298278809,
          9.295574188232422,
          9.869990348815918,
          10.16047477722168,
          10.142038345336914,
          9.958532333374023,
          10.15674877166748,
          10.305900573730469,
          10.371891975402832,
          10.12008285522461,
          9.953713417053223,
          10.1491117477417,
          10.079071044921875,
          11.8993558883667,
          11.731266975402832,
          11.520062446594238,
          11.727126121520996,
          11.595245361328125,
          11.908557891845703,
          11.65357780456543,
          11.005255699157715,
          11.935553550720215,
          11.773621559143066,
          11.161561012268066,
          11.961446762084961,
          9.819391250610352,
          9.55739974975586,
          11.980881690979004,
          10.568441390991211,
          9.842609405517578,
          9.467472076416016,
          9.013009071350098,
          9.28261661529541,
          10.13382339477539,
          9.761463165283203,
          9.99728775024414,
          10.307710647583008,
          10.307952880859375,
          10.118446350097656,
          10.12252140045166,
          10.080376625061035,
          12.096202850341797,
          10.123122215270996,
          10.96630573272705,
          10.180180549621582,
          10.155243873596191,
          12.117352485656738,
          11.858726501464844,
          11.954099655151367,
          10.393506050109863,
          11.638392448425293,
          10.557251930236816,
          10.225235939025879,
          10.62668228149414,
          10.57663345336914,
          9.930163383483887,
          10.211795806884766,
          10.119036674499512,
          10.174675941467285,
          10.124438285827637,
          10.118293762207031,
          11.31501579284668,
          10.111151695251465,
          10.197281837463379,
          12.043375968933105,
          9.856715202331543,
          9.52013111114502,
          5.124016761779785,
          6.170716285705566,
          6.1760430335998535,
          6.243346214294434,
          6.210594654083252,
          6.176803112030029,
          6.179623126983643,
          6.254446029663086,
          6.282651424407959,
          6.26652717590332,
          6.118834018707275,
          6.271605968475342,
          6.38847541809082,
          5.905947208404541,
          5.716784954071045,
          5.90484619140625,
          6.464768886566162,
          6.250175476074219,
          6.013583183288574,
          11.954493522644043,
          7.442989826202393,
          7.512362003326416,
          5.346600532531738,
          5.8104987144470215,
          5.152197360992432,
          5.827396392822266,
          6.2525787353515625,
          6.268050193786621,
          6.216301441192627,
          6.265617370605469,
          6.26891565322876,
          6.255753040313721,
          6.172190189361572,
          5.963801860809326,
          5.9442267417907715,
          5.778313636779785,
          6.32383394241333,
          6.358608722686768,
          5.769944190979004,
          5.850080966949463,
          5.720693588256836,
          5.945207595825195,
          5.161978244781494,
          5.3579559326171875,
          10.719572067260742,
          11.584783554077148,
          7.506463050842285,
          7.541609287261963,
          7.0580902099609375,
          7.559261322021484,
          7.496649265289307,
          7.583595275878906,
          7.744269847869873,
          8.677274703979492,
          8.610126495361328,
          8.794454574584961,
          6.957235813140869,
          6.915687561035156,
          6.979855537414551,
          6.910680770874023,
          6.838314533233643,
          6.7161664962768555,
          6.8881916999816895,
          6.573654651641846,
          6.640023231506348,
          6.993453502655029,
          7.1380815505981445,
          6.60447359085083,
          6.546099662780762,
          6.489482879638672,
          6.7151947021484375,
          6.651944637298584,
          6.6710734367370605,
          6.784885883331299,
          6.924444198608398,
          7.519887924194336,
          7.57037878036499,
          7.63647985458374,
          7.747177600860596,
          8.091450691223145,
          8.772377967834473,
          6.97122859954834,
          6.858139514923096,
          6.685047149658203,
          6.480060577392578,
          6.4491729736328125,
          6.723482131958008,
          6.949911117553711,
          6.843178749084473,
          6.838693618774414,
          7.026788234710693,
          6.557994842529297,
          6.565157413482666,
          6.586600303649902,
          6.2615580558776855,
          6.577323913574219,
          6.6244096755981445,
          6.66278076171875,
          6.5113139152526855,
          6.625815391540527,
          12.109704971313477,
          11.577988624572754,
          6.682403087615967,
          6.777439117431641,
          7.537662982940674,
          7.495772361755371,
          7.546549320220947,
          7.5920023918151855,
          7.6635355949401855,
          8.488736152648926,
          8.782241821289062,
          11.493695259094238,
          6.646936893463135,
          6.514341831207275,
          6.439028263092041,
          6.877058029174805,
          6.764435291290283,
          6.956118106842041,
          7.003626823425293,
          6.830282211303711,
          7.004910945892334,
          7.012945652008057,
          6.305825233459473,
          6.580987453460693,
          6.236790657043457,
          12.111690521240234,
          12.106130599975586,
          11.743863105773926,
          11.699556350708008,
          10.909214973449707,
          11.661357879638672,
          11.694196701049805,
          10.830781936645508,
          10.681427955627441,
          7.1624016761779785,
          7.046881675720215,
          6.9706878662109375,
          6.738396644592285,
          6.688137531280518,
          6.689791679382324,
          6.976757526397705,
          6.973121643066406,
          6.261276721954346,
          6.478339195251465,
          6.926512241363525,
          6.999897480010986,
          6.820153713226318,
          6.716707706451416,
          6.859983921051025,
          6.831629753112793,
          7.001119613647461,
          6.670963764190674,
          6.588903427124023,
          6.529778480529785,
          6.566443920135498,
          6.660833358764648,
          7.078693866729736,
          7.079610347747803,
          6.645515441894531,
          6.511347770690918,
          6.62872314453125,
          6.754238128662109,
          6.704338073730469,
          6.7116265296936035,
          6.757081508636475,
          7.517023086547852,
          7.475433826446533,
          7.537041187286377,
          7.60911226272583,
          7.740530014038086,
          8.232704162597656,
          8.594121932983398,
          8.753547668457031,
          6.809529781341553,
          6.611196041107178,
          6.592743396759033,
          6.737377166748047,
          6.733976364135742,
          6.977656841278076,
          6.761070728302002,
          6.657848834991455,
          6.697622776031494,
          6.8758344650268555,
          6.799400329589844,
          6.978307247161865,
          7.035182952880859,
          7.055841445922852,
          6.5625224113464355,
          6.237799167633057,
          6.225718021392822,
          6.396029472351074,
          11.440081596374512,
          6.586510181427002,
          6.208416938781738,
          6.7659382820129395,
          6.8145036697387695,
          11.486875534057617,
          6.441455841064453,
          6.738960266113281,
          6.934671878814697,
          7.0581865310668945,
          6.7652153968811035,
          7.605794906616211,
          7.745731830596924,
          7.9704670906066895,
          7.767288684844971,
          8.791594505310059,
          8.378419876098633,
          6.860041618347168,
          6.207869529724121,
          6.885788917541504,
          6.453101634979248,
          6.720252513885498,
          5.05546236038208,
          6.18544340133667,
          6.216187000274658,
          6.167136192321777,
          6.266847610473633,
          6.155148983001709,
          5.6085405349731445,
          5.484855651855469,
          5.632298469543457,
          5.7049994468688965,
          6.076199054718018,
          5.193490982055664,
          6.189967155456543,
          5.331415176391602,
          6.101314067840576,
          5.904483318328857,
          6.072542190551758,
          6.163049221038818,
          6.256948471069336,
          6.293117046356201,
          6.30113410949707,
          6.199057579040527,
          5.233993053436279,
          5.4012451171875,
          12.637704849243164,
          12.616933822631836,
          12.487458229064941,
          12.732105255126953,
          12.619772911071777,
          12.407448768615723,
          11.485170364379883,
          11.762887001037598,
          11.491273880004883,
          11.939367294311523,
          11.697492599487305,
          11.606608390808105,
          12.108903884887695,
          12.31811237335205,
          12.32044506072998,
          10.930326461791992,
          10.731213569641113,
          10.293779373168945,
          10.658169746398926,
          10.808802604675293,
          9.017221450805664,
          8.96538257598877,
          8.91344165802002,
          8.850448608398438,
          8.841309547424316,
          8.786236763000488,
          8.797859191894531,
          8.789569854736328,
          12.496087074279785,
          12.473999977111816,
          12.403647422790527,
          12.443885803222656,
          12.440608024597168,
          12.318108558654785,
          12.275934219360352,
          11.39463996887207,
          11.473295211791992,
          12.236103057861328,
          12.35811996459961,
          12.456921577453613,
          12.308019638061523,
          12.309903144836426,
          10.145790100097656,
          10.601664543151855,
          10.679746627807617,
          10.809060096740723,
          10.946797370910645,
          10.973033905029297,
          9.029430389404297,
          8.896760940551758,
          8.858492851257324,
          8.794427871704102,
          8.81368350982666,
          12.484952926635742,
          12.477409362792969,
          12.764223098754883,
          12.864838600158691,
          12.77503490447998,
          12.948083877563477,
          12.498024940490723,
          12.461522102355957,
          12.63806438446045,
          12.336069107055664,
          12.274651527404785,
          11.3204984664917,
          11.507771492004395,
          12.18417739868164,
          12.243785858154297,
          12.428483009338379,
          12.417521476745605,
          12.319526672363281,
          12.282262802124023,
          10.219907760620117,
          10.691790580749512,
          10.850537300109863,
          10.870375633239746,
          10.954771041870117,
          9.021316528320312,
          9.024775505065918,
          8.892704963684082,
          8.821725845336914,
          12.507377624511719,
          8.811753273010254,
          12.652002334594727,
          13.017651557922363,
          12.543545722961426,
          12.9237060546875,
          12.937172889709473,
          12.468596458435059,
          12.690369606018066,
          12.441251754760742,
          11.468894958496094,
          12.209712982177734,
          12.32297134399414,
          11.912890434265137,
          11.7742280960083,
          12.371681213378906,
          12.462964057922363,
          12.443203926086426,
          12.400522232055664,
          12.451981544494629,
          12.399386405944824,
          12.415470123291016,
          12.564630508422852,
          12.417957305908203,
          12.422884941101074,
          12.493532180786133,
          12.654102325439453,
          12.657048225402832,
          11.700488090515137,
          11.57397747039795,
          12.556936264038086,
          12.913714408874512,
          11.847562789916992,
          11.839646339416504,
          12.304149627685547,
          12.37640380859375,
          12.609249114990234,
          11.682168960571289,
          10.997366905212402,
          12.17053508758545,
          12.314190864562988,
          12.321015357971191,
          11.559657096862793,
          12.255599021911621,
          11.400805473327637,
          11.538236618041992,
          12.242121696472168,
          12.351042747497559,
          12.403382301330566,
          12.414239883422852,
          12.315321922302246,
          12.290334701538086,
          10.176708221435547,
          10.614028930664062,
          10.815441131591797,
          10.894159317016602,
          10.956432342529297,
          10.971035957336426,
          9.012262344360352,
          8.923210144042969,
          8.836925506591797,
          8.787961959838867,
          8.8014497756958,
          12.446712493896484,
          12.997740745544434,
          12.554887771606445,
          12.873686790466309,
          12.893396377563477,
          12.628456115722656,
          12.581809043884277,
          12.545877456665039,
          12.44106388092041,
          12.351702690124512,
          12.276996612548828,
          11.377022743225098,
          11.530985832214355,
          12.244346618652344,
          12.367681503295898,
          11.882844924926758,
          11.754575729370117,
          12.423687934875488,
          12.40439224243164,
          12.497384071350098,
          12.674020767211914,
          12.390172958374023,
          10.235506057739258,
          10.562990188598633,
          10.754817962646484,
          10.827189445495605,
          10.899128913879395,
          12.378621101379395,
          8.980910301208496,
          8.878357887268066,
          8.836148262023926,
          12.466787338256836,
          8.78420352935791,
          8.812060356140137,
          12.471617698669434,
          13.020838737487793,
          12.505206108093262,
          12.694869995117188,
          12.554821968078613,
          12.965048789978027,
          12.929853439331055,
          12.529377937316895,
          12.437981605529785,
          12.67518138885498,
          12.468490600585938,
          -4.201290130615234,
          -4.417109966278076,
          5.2395806312561035,
          -4.027298450469971,
          -4.160305500030518,
          -4.069336891174316,
          -4.257545471191406,
          -4.149321556091309,
          -4.147130489349365,
          -4.204401969909668,
          -4.2186279296875,
          -4.222833156585693,
          -4.297712326049805,
          -4.160086154937744,
          -4.107423305511475,
          -4.371044635772705,
          -3.947998046875,
          -4.166755199432373,
          -4.117835521697998,
          -4.112179756164551,
          -3.9263713359832764,
          -4.005387783050537,
          -4.136415958404541,
          -3.969571113586426,
          -4.1565632820129395,
          -4.098063945770264,
          -4.454768180847168,
          -4.081538677215576,
          -4.314909934997559,
          -4.0041093826293945,
          -4.010204792022705,
          -4.402977466583252,
          -3.7122392654418945,
          -3.9877142906188965,
          -4.095555305480957,
          -4.1526970863342285,
          -4.013437747955322,
          -4.252543926239014,
          -4.274311065673828,
          -4.285495281219482,
          -4.296962261199951,
          -3.9877049922943115,
          -4.2411980628967285,
          -4.272970199584961,
          -4.230628490447998,
          -3.9807510375976562,
          -4.030555248260498,
          -4.179690361022949,
          -4.157392501831055,
          -4.191464900970459,
          -4.323015213012695,
          -4.131980895996094,
          -4.352550029754639,
          -4.388223171234131,
          -4.057942867279053,
          -4.039566516876221,
          -4.465997219085693,
          -4.23281717300415,
          -4.416784763336182,
          -3.8427321910858154,
          -3.982137441635132,
          -4.31892728805542,
          -3.8915457725524902,
          -4.0310211181640625,
          -4.07481575012207,
          -4.1848578453063965,
          -4.291111946105957,
          -3.8877999782562256,
          -4.145566463470459,
          -4.0167155265808105,
          -4.000670433044434,
          -4.322015762329102,
          -4.343944072723389,
          -3.9368903636932373,
          -4.013357639312744,
          -4.233699321746826,
          -3.9430084228515625,
          -4.320088863372803,
          -4.12413215637207,
          -4.139330863952637,
          -4.3391594886779785,
          -4.314916133880615,
          -4.067044258117676,
          -4.379287242889404,
          -4.081650733947754,
          -4.436227321624756,
          -4.448632717132568,
          -3.917983293533325,
          -3.833887815475464,
          -3.7141358852386475,
          -3.827282667160034,
          -4.134463787078857,
          -3.9495151042938232,
          -3.9301517009735107,
          -3.890979766845703,
          -3.969001531600952,
          -3.9071860313415527,
          -3.861025333404541,
          -3.901045322418213,
          -3.9310669898986816,
          -4.32178258895874,
          -3.738304853439331,
          -3.7997920513153076,
          -3.894176483154297,
          -3.947409152984619,
          -4.213476657867432,
          -3.9883921146392822,
          -4.009596824645996,
          -4.109823226928711,
          -4.098501205444336,
          -4.124204635620117,
          -4.41360330581665,
          -4.0401411056518555,
          -4.032181262969971,
          -4.393084526062012,
          -3.9107491970062256,
          -4.300780296325684,
          -3.760972261428833,
          -3.842268943786621,
          -3.8221142292022705,
          -3.9118611812591553,
          -4.005828857421875,
          -3.9861948490142822,
          -4.144224166870117,
          -4.2312445640563965,
          -4.317777156829834,
          -4.107442378997803,
          -4.165054798126221,
          -4.139291286468506,
          -4.246818542480469,
          -4.281991481781006,
          -4.307235240936279,
          -4.165316104888916,
          -4.143699645996094,
          -4.134027481079102,
          -4.193953514099121,
          -4.371936798095703,
          -4.133249759674072,
          -4.109531402587891,
          -4.378350734710693,
          -4.391098976135254,
          -4.177364349365234,
          -4.113600254058838,
          -4.067586421966553,
          -4.088078498840332,
          -4.248912334442139,
          -4.154994010925293,
          -3.9885380268096924,
          -4.179996013641357,
          -4.320661544799805,
          -4.3531036376953125,
          -4.4264140129089355,
          -4.428913116455078,
          -4.425212383270264,
          -4.4111247062683105,
          -4.420256614685059,
          -4.415057182312012,
          -4.4501872062683105,
          -4.48301887512207,
          -4.5110087394714355,
          -4.451731204986572,
          -4.412879943847656,
          -4.453530788421631,
          -4.4765424728393555,
          -4.448482990264893,
          -4.449816703796387,
          -4.446481704711914,
          -4.461408615112305,
          -4.44228982925415,
          -4.253122806549072,
          -4.253043174743652,
          -4.109269142150879,
          -4.274443626403809,
          -4.216558933258057,
          -4.061703681945801,
          -4.058379650115967,
          -4.366120338439941,
          -4.201443672180176,
          -4.058289527893066,
          -4.400398254394531,
          -4.2076096534729,
          -4.285305976867676,
          -3.760530948638916,
          -3.8759005069732666,
          -3.887838363647461,
          -3.9851911067962646,
          -4.12252140045166,
          -4.110691070556641,
          -4.204395294189453,
          -4.3353776931762695,
          -4.3107590675354,
          -4.0701799392700195,
          -4.473177433013916,
          -4.210516452789307,
          -4.216349124908447,
          -4.222526550292969,
          -4.192154407501221,
          -4.214186191558838,
          -4.240718841552734,
          -4.179234504699707,
          -4.381190299987793,
          -4.371408939361572,
          -4.379217147827148,
          -4.405235767364502,
          -4.31043004989624,
          -4.118228435516357,
          -4.2648444175720215,
          -4.194785118103027,
          -4.145234107971191,
          -4.212801933288574,
          -4.084283351898193,
          -4.10067081451416,
          -4.277499198913574
         ]
        }
       ],
       "layout": {
        "legend": {
         "tracegroupgap": 0
        },
        "margin": {
         "t": 60
        },
        "scene": {
         "domain": {
          "x": [
           0,
           1
          ],
          "y": [
           0,
           1
          ]
         },
         "xaxis": {
          "title": {
           "text": "0"
          }
         },
         "yaxis": {
          "title": {
           "text": "1"
          }
         },
         "zaxis": {
          "title": {
           "text": "2"
          }
         }
        },
        "template": {
         "data": {
          "bar": [
           {
            "error_x": {
             "color": "#2a3f5f"
            },
            "error_y": {
             "color": "#2a3f5f"
            },
            "marker": {
             "line": {
              "color": "#E5ECF6",
              "width": 0.5
             },
             "pattern": {
              "fillmode": "overlay",
              "size": 10,
              "solidity": 0.2
             }
            },
            "type": "bar"
           }
          ],
          "barpolar": [
           {
            "marker": {
             "line": {
              "color": "#E5ECF6",
              "width": 0.5
             },
             "pattern": {
              "fillmode": "overlay",
              "size": 10,
              "solidity": 0.2
             }
            },
            "type": "barpolar"
           }
          ],
          "carpet": [
           {
            "aaxis": {
             "endlinecolor": "#2a3f5f",
             "gridcolor": "white",
             "linecolor": "white",
             "minorgridcolor": "white",
             "startlinecolor": "#2a3f5f"
            },
            "baxis": {
             "endlinecolor": "#2a3f5f",
             "gridcolor": "white",
             "linecolor": "white",
             "minorgridcolor": "white",
             "startlinecolor": "#2a3f5f"
            },
            "type": "carpet"
           }
          ],
          "choropleth": [
           {
            "colorbar": {
             "outlinewidth": 0,
             "ticks": ""
            },
            "type": "choropleth"
           }
          ],
          "contour": [
           {
            "colorbar": {
             "outlinewidth": 0,
             "ticks": ""
            },
            "colorscale": [
             [
              0,
              "#0d0887"
             ],
             [
              0.1111111111111111,
              "#46039f"
             ],
             [
              0.2222222222222222,
              "#7201a8"
             ],
             [
              0.3333333333333333,
              "#9c179e"
             ],
             [
              0.4444444444444444,
              "#bd3786"
             ],
             [
              0.5555555555555556,
              "#d8576b"
             ],
             [
              0.6666666666666666,
              "#ed7953"
             ],
             [
              0.7777777777777778,
              "#fb9f3a"
             ],
             [
              0.8888888888888888,
              "#fdca26"
             ],
             [
              1,
              "#f0f921"
             ]
            ],
            "type": "contour"
           }
          ],
          "contourcarpet": [
           {
            "colorbar": {
             "outlinewidth": 0,
             "ticks": ""
            },
            "type": "contourcarpet"
           }
          ],
          "heatmap": [
           {
            "colorbar": {
             "outlinewidth": 0,
             "ticks": ""
            },
            "colorscale": [
             [
              0,
              "#0d0887"
             ],
             [
              0.1111111111111111,
              "#46039f"
             ],
             [
              0.2222222222222222,
              "#7201a8"
             ],
             [
              0.3333333333333333,
              "#9c179e"
             ],
             [
              0.4444444444444444,
              "#bd3786"
             ],
             [
              0.5555555555555556,
              "#d8576b"
             ],
             [
              0.6666666666666666,
              "#ed7953"
             ],
             [
              0.7777777777777778,
              "#fb9f3a"
             ],
             [
              0.8888888888888888,
              "#fdca26"
             ],
             [
              1,
              "#f0f921"
             ]
            ],
            "type": "heatmap"
           }
          ],
          "heatmapgl": [
           {
            "colorbar": {
             "outlinewidth": 0,
             "ticks": ""
            },
            "colorscale": [
             [
              0,
              "#0d0887"
             ],
             [
              0.1111111111111111,
              "#46039f"
             ],
             [
              0.2222222222222222,
              "#7201a8"
             ],
             [
              0.3333333333333333,
              "#9c179e"
             ],
             [
              0.4444444444444444,
              "#bd3786"
             ],
             [
              0.5555555555555556,
              "#d8576b"
             ],
             [
              0.6666666666666666,
              "#ed7953"
             ],
             [
              0.7777777777777778,
              "#fb9f3a"
             ],
             [
              0.8888888888888888,
              "#fdca26"
             ],
             [
              1,
              "#f0f921"
             ]
            ],
            "type": "heatmapgl"
           }
          ],
          "histogram": [
           {
            "marker": {
             "pattern": {
              "fillmode": "overlay",
              "size": 10,
              "solidity": 0.2
             }
            },
            "type": "histogram"
           }
          ],
          "histogram2d": [
           {
            "colorbar": {
             "outlinewidth": 0,
             "ticks": ""
            },
            "colorscale": [
             [
              0,
              "#0d0887"
             ],
             [
              0.1111111111111111,
              "#46039f"
             ],
             [
              0.2222222222222222,
              "#7201a8"
             ],
             [
              0.3333333333333333,
              "#9c179e"
             ],
             [
              0.4444444444444444,
              "#bd3786"
             ],
             [
              0.5555555555555556,
              "#d8576b"
             ],
             [
              0.6666666666666666,
              "#ed7953"
             ],
             [
              0.7777777777777778,
              "#fb9f3a"
             ],
             [
              0.8888888888888888,
              "#fdca26"
             ],
             [
              1,
              "#f0f921"
             ]
            ],
            "type": "histogram2d"
           }
          ],
          "histogram2dcontour": [
           {
            "colorbar": {
             "outlinewidth": 0,
             "ticks": ""
            },
            "colorscale": [
             [
              0,
              "#0d0887"
             ],
             [
              0.1111111111111111,
              "#46039f"
             ],
             [
              0.2222222222222222,
              "#7201a8"
             ],
             [
              0.3333333333333333,
              "#9c179e"
             ],
             [
              0.4444444444444444,
              "#bd3786"
             ],
             [
              0.5555555555555556,
              "#d8576b"
             ],
             [
              0.6666666666666666,
              "#ed7953"
             ],
             [
              0.7777777777777778,
              "#fb9f3a"
             ],
             [
              0.8888888888888888,
              "#fdca26"
             ],
             [
              1,
              "#f0f921"
             ]
            ],
            "type": "histogram2dcontour"
           }
          ],
          "mesh3d": [
           {
            "colorbar": {
             "outlinewidth": 0,
             "ticks": ""
            },
            "type": "mesh3d"
           }
          ],
          "parcoords": [
           {
            "line": {
             "colorbar": {
              "outlinewidth": 0,
              "ticks": ""
             }
            },
            "type": "parcoords"
           }
          ],
          "pie": [
           {
            "automargin": true,
            "type": "pie"
           }
          ],
          "scatter": [
           {
            "fillpattern": {
             "fillmode": "overlay",
             "size": 10,
             "solidity": 0.2
            },
            "type": "scatter"
           }
          ],
          "scatter3d": [
           {
            "line": {
             "colorbar": {
              "outlinewidth": 0,
              "ticks": ""
             }
            },
            "marker": {
             "colorbar": {
              "outlinewidth": 0,
              "ticks": ""
             }
            },
            "type": "scatter3d"
           }
          ],
          "scattercarpet": [
           {
            "marker": {
             "colorbar": {
              "outlinewidth": 0,
              "ticks": ""
             }
            },
            "type": "scattercarpet"
           }
          ],
          "scattergeo": [
           {
            "marker": {
             "colorbar": {
              "outlinewidth": 0,
              "ticks": ""
             }
            },
            "type": "scattergeo"
           }
          ],
          "scattergl": [
           {
            "marker": {
             "colorbar": {
              "outlinewidth": 0,
              "ticks": ""
             }
            },
            "type": "scattergl"
           }
          ],
          "scattermapbox": [
           {
            "marker": {
             "colorbar": {
              "outlinewidth": 0,
              "ticks": ""
             }
            },
            "type": "scattermapbox"
           }
          ],
          "scatterpolar": [
           {
            "marker": {
             "colorbar": {
              "outlinewidth": 0,
              "ticks": ""
             }
            },
            "type": "scatterpolar"
           }
          ],
          "scatterpolargl": [
           {
            "marker": {
             "colorbar": {
              "outlinewidth": 0,
              "ticks": ""
             }
            },
            "type": "scatterpolargl"
           }
          ],
          "scatterternary": [
           {
            "marker": {
             "colorbar": {
              "outlinewidth": 0,
              "ticks": ""
             }
            },
            "type": "scatterternary"
           }
          ],
          "surface": [
           {
            "colorbar": {
             "outlinewidth": 0,
             "ticks": ""
            },
            "colorscale": [
             [
              0,
              "#0d0887"
             ],
             [
              0.1111111111111111,
              "#46039f"
             ],
             [
              0.2222222222222222,
              "#7201a8"
             ],
             [
              0.3333333333333333,
              "#9c179e"
             ],
             [
              0.4444444444444444,
              "#bd3786"
             ],
             [
              0.5555555555555556,
              "#d8576b"
             ],
             [
              0.6666666666666666,
              "#ed7953"
             ],
             [
              0.7777777777777778,
              "#fb9f3a"
             ],
             [
              0.8888888888888888,
              "#fdca26"
             ],
             [
              1,
              "#f0f921"
             ]
            ],
            "type": "surface"
           }
          ],
          "table": [
           {
            "cells": {
             "fill": {
              "color": "#EBF0F8"
             },
             "line": {
              "color": "white"
             }
            },
            "header": {
             "fill": {
              "color": "#C8D4E3"
             },
             "line": {
              "color": "white"
             }
            },
            "type": "table"
           }
          ]
         },
         "layout": {
          "annotationdefaults": {
           "arrowcolor": "#2a3f5f",
           "arrowhead": 0,
           "arrowwidth": 1
          },
          "autotypenumbers": "strict",
          "coloraxis": {
           "colorbar": {
            "outlinewidth": 0,
            "ticks": ""
           }
          },
          "colorscale": {
           "diverging": [
            [
             0,
             "#8e0152"
            ],
            [
             0.1,
             "#c51b7d"
            ],
            [
             0.2,
             "#de77ae"
            ],
            [
             0.3,
             "#f1b6da"
            ],
            [
             0.4,
             "#fde0ef"
            ],
            [
             0.5,
             "#f7f7f7"
            ],
            [
             0.6,
             "#e6f5d0"
            ],
            [
             0.7,
             "#b8e186"
            ],
            [
             0.8,
             "#7fbc41"
            ],
            [
             0.9,
             "#4d9221"
            ],
            [
             1,
             "#276419"
            ]
           ],
           "sequential": [
            [
             0,
             "#0d0887"
            ],
            [
             0.1111111111111111,
             "#46039f"
            ],
            [
             0.2222222222222222,
             "#7201a8"
            ],
            [
             0.3333333333333333,
             "#9c179e"
            ],
            [
             0.4444444444444444,
             "#bd3786"
            ],
            [
             0.5555555555555556,
             "#d8576b"
            ],
            [
             0.6666666666666666,
             "#ed7953"
            ],
            [
             0.7777777777777778,
             "#fb9f3a"
            ],
            [
             0.8888888888888888,
             "#fdca26"
            ],
            [
             1,
             "#f0f921"
            ]
           ],
           "sequentialminus": [
            [
             0,
             "#0d0887"
            ],
            [
             0.1111111111111111,
             "#46039f"
            ],
            [
             0.2222222222222222,
             "#7201a8"
            ],
            [
             0.3333333333333333,
             "#9c179e"
            ],
            [
             0.4444444444444444,
             "#bd3786"
            ],
            [
             0.5555555555555556,
             "#d8576b"
            ],
            [
             0.6666666666666666,
             "#ed7953"
            ],
            [
             0.7777777777777778,
             "#fb9f3a"
            ],
            [
             0.8888888888888888,
             "#fdca26"
            ],
            [
             1,
             "#f0f921"
            ]
           ]
          },
          "colorway": [
           "#636efa",
           "#EF553B",
           "#00cc96",
           "#ab63fa",
           "#FFA15A",
           "#19d3f3",
           "#FF6692",
           "#B6E880",
           "#FF97FF",
           "#FECB52"
          ],
          "font": {
           "color": "#2a3f5f"
          },
          "geo": {
           "bgcolor": "white",
           "lakecolor": "white",
           "landcolor": "#E5ECF6",
           "showlakes": true,
           "showland": true,
           "subunitcolor": "white"
          },
          "hoverlabel": {
           "align": "left"
          },
          "hovermode": "closest",
          "mapbox": {
           "style": "light"
          },
          "paper_bgcolor": "white",
          "plot_bgcolor": "#E5ECF6",
          "polar": {
           "angularaxis": {
            "gridcolor": "white",
            "linecolor": "white",
            "ticks": ""
           },
           "bgcolor": "#E5ECF6",
           "radialaxis": {
            "gridcolor": "white",
            "linecolor": "white",
            "ticks": ""
           }
          },
          "scene": {
           "xaxis": {
            "backgroundcolor": "#E5ECF6",
            "gridcolor": "white",
            "gridwidth": 2,
            "linecolor": "white",
            "showbackground": true,
            "ticks": "",
            "zerolinecolor": "white"
           },
           "yaxis": {
            "backgroundcolor": "#E5ECF6",
            "gridcolor": "white",
            "gridwidth": 2,
            "linecolor": "white",
            "showbackground": true,
            "ticks": "",
            "zerolinecolor": "white"
           },
           "zaxis": {
            "backgroundcolor": "#E5ECF6",
            "gridcolor": "white",
            "gridwidth": 2,
            "linecolor": "white",
            "showbackground": true,
            "ticks": "",
            "zerolinecolor": "white"
           }
          },
          "shapedefaults": {
           "line": {
            "color": "#2a3f5f"
           }
          },
          "ternary": {
           "aaxis": {
            "gridcolor": "white",
            "linecolor": "white",
            "ticks": ""
           },
           "baxis": {
            "gridcolor": "white",
            "linecolor": "white",
            "ticks": ""
           },
           "bgcolor": "#E5ECF6",
           "caxis": {
            "gridcolor": "white",
            "linecolor": "white",
            "ticks": ""
           }
          },
          "title": {
           "x": 0.05
          },
          "xaxis": {
           "automargin": true,
           "gridcolor": "white",
           "linecolor": "white",
           "ticks": "",
           "title": {
            "standoff": 15
           },
           "zerolinecolor": "white",
           "zerolinewidth": 2
          },
          "yaxis": {
           "automargin": true,
           "gridcolor": "white",
           "linecolor": "white",
           "ticks": "",
           "title": {
            "standoff": 15
           },
           "zerolinecolor": "white",
           "zerolinewidth": 2
          }
         }
        }
       }
      }
     },
     "metadata": {},
     "output_type": "display_data"
    }
   ],
   "source": [
    "f = px.scatter_3d(proj3D, x=0, y=1, z=2)\n",
    "f.show()"
   ]
  },
  {
   "attachments": {},
   "cell_type": "markdown",
   "metadata": {},
   "source": [
    "### BERT Sentence Transformers"
   ]
  },
  {
   "cell_type": "code",
   "execution_count": 17,
   "metadata": {},
   "outputs": [
    {
     "name": "stderr",
     "output_type": "stream",
     "text": [
      "Downloading (…)e9125/.gitattributes: 100%|██████████| 1.18k/1.18k [00:00<?, ?B/s]\n",
      "Downloading (…)_Pooling/config.json: 100%|██████████| 190/190 [00:00<?, ?B/s] \n",
      "Downloading (…)7e55de9125/README.md: 100%|██████████| 10.6k/10.6k [00:00<?, ?B/s]\n",
      "Downloading (…)55de9125/config.json: 100%|██████████| 612/612 [00:00<?, ?B/s] \n",
      "Downloading (…)ce_transformers.json: 100%|██████████| 116/116 [00:00<?, ?B/s] \n",
      "Downloading (…)125/data_config.json: 100%|██████████| 39.3k/39.3k [00:00<00:00, 485kB/s]\n",
      "Downloading pytorch_model.bin: 100%|██████████| 90.9M/90.9M [00:02<00:00, 44.5MB/s]\n",
      "Downloading (…)nce_bert_config.json: 100%|██████████| 53.0/53.0 [00:00<?, ?B/s]\n",
      "Downloading (…)cial_tokens_map.json: 100%|██████████| 112/112 [00:00<?, ?B/s] \n",
      "Downloading (…)e9125/tokenizer.json: 100%|██████████| 466k/466k [00:00<00:00, 2.92MB/s]\n",
      "Downloading (…)okenizer_config.json: 100%|██████████| 350/350 [00:00<?, ?B/s] \n",
      "Downloading (…)9125/train_script.py: 100%|██████████| 13.2k/13.2k [00:00<?, ?B/s]\n",
      "Downloading (…)7e55de9125/vocab.txt: 100%|██████████| 232k/232k [00:00<00:00, 2.72MB/s]\n",
      "Downloading (…)5de9125/modules.json: 100%|██████████| 349/349 [00:00<?, ?B/s] \n"
     ]
    },
    {
     "name": "stdout",
     "output_type": "stream",
     "text": [
      "Sentence: This framework generates embeddings for each input sentence\n",
      "Embedding: [-1.37173552e-02 -4.28515412e-02 -1.56286098e-02  1.40537675e-02\n",
      "  3.95537615e-02  1.21796317e-01  2.94333659e-02 -3.17524336e-02\n",
      "  3.54959927e-02 -7.93139786e-02  1.75878350e-02 -4.04370092e-02\n",
      "  4.97259349e-02  2.54912134e-02 -7.18700662e-02  8.14968720e-02\n",
      "  1.47072482e-03  4.79627065e-02 -4.50336114e-02 -9.92174670e-02\n",
      " -2.81769820e-02  6.45046234e-02  4.44670580e-02 -4.76217046e-02\n",
      " -3.52952480e-02  4.38671671e-02 -5.28566055e-02  4.33045556e-04\n",
      "  1.01921499e-01  1.64072420e-02  3.26996632e-02 -3.45986634e-02\n",
      "  1.21339280e-02  7.94871151e-02  4.58342070e-03  1.57778412e-02\n",
      " -9.68210399e-03  2.87625976e-02 -5.05806208e-02 -1.55793503e-02\n",
      " -2.87907012e-02 -9.62282438e-03  3.15556787e-02  2.27348972e-02\n",
      "  8.71449485e-02 -3.85027118e-02 -8.84718373e-02 -8.75501521e-03\n",
      " -2.12343540e-02  2.08923593e-02 -9.02077407e-02 -5.25732078e-02\n",
      " -1.05638644e-02  2.88310759e-02 -1.61455162e-02  6.17835438e-03\n",
      " -1.23234289e-02 -1.07337097e-02  2.83353999e-02 -5.28567694e-02\n",
      " -3.58618274e-02 -5.97989149e-02 -1.09055219e-02  2.91566122e-02\n",
      "  7.97979608e-02 -3.27874062e-04  6.83498336e-03  1.32718282e-02\n",
      " -4.24620323e-02  1.87656973e-02 -9.89234224e-02  2.09049918e-02\n",
      " -8.69605839e-02 -1.50151886e-02 -4.86201644e-02  8.04414749e-02\n",
      " -3.67701286e-03 -6.65044412e-02  1.14556789e-01 -3.04228850e-02\n",
      "  2.96632033e-02 -2.80695353e-02  4.64990139e-02 -2.25513875e-02\n",
      "  8.54223296e-02  3.15446779e-02  7.34541863e-02 -2.21861824e-02\n",
      " -5.29678613e-02  1.27130309e-02 -5.27339913e-02 -1.06188744e-01\n",
      "  7.04731569e-02  2.76736598e-02 -8.05531368e-02  2.39649490e-02\n",
      " -2.65125111e-02 -2.17330754e-02  4.35275510e-02  4.84711640e-02\n",
      " -2.37067267e-02  2.85768267e-02  1.11846142e-01 -6.34935945e-02\n",
      " -1.58318207e-02 -2.26169750e-02 -1.31027866e-02 -1.62069069e-03\n",
      " -3.60928886e-02 -9.78297666e-02 -4.67729047e-02  1.76271796e-02\n",
      " -3.97492200e-02 -1.76388785e-04  3.39627489e-02 -2.09633652e-02\n",
      "  6.33662753e-03 -2.59411260e-02  8.10410231e-02  6.14393316e-02\n",
      " -5.44595858e-03  6.48275912e-02 -1.16844073e-01  2.36860942e-02\n",
      " -1.32058710e-02 -1.12476520e-01  1.90049503e-02 -1.74661689e-34\n",
      "  5.58949746e-02  1.94244701e-02  4.65438776e-02  5.18645346e-02\n",
      "  3.89390551e-02  3.40541191e-02 -4.32114340e-02  7.90637210e-02\n",
      " -9.79529992e-02 -1.27441091e-02 -2.91870870e-02  1.02052018e-02\n",
      "  1.88115928e-02  1.08942568e-01  6.63464963e-02 -5.35294972e-02\n",
      " -3.29228379e-02  4.69826907e-02  2.28882916e-02  2.74114534e-02\n",
      " -2.91982964e-02  3.12706679e-02 -2.22850628e-02 -1.02282189e-01\n",
      " -2.79116724e-02  1.13793267e-02  9.06308591e-02 -4.75414395e-02\n",
      " -1.00718938e-01 -1.23232193e-02 -7.96929076e-02 -1.44636277e-02\n",
      " -7.76400790e-02 -7.66916666e-03  9.73954238e-03  2.24204753e-02\n",
      "  7.77268335e-02 -3.17154033e-03  2.11537927e-02 -3.30394097e-02\n",
      "  9.55248531e-03 -3.73011716e-02  2.61360835e-02 -9.79087781e-03\n",
      " -6.31505325e-02  5.77434432e-03 -3.80031206e-02  1.29684824e-02\n",
      " -1.82499811e-02 -1.56282876e-02 -1.23363815e-03  5.55579364e-02\n",
      "  1.13087393e-04 -5.61256632e-02  7.40165487e-02  1.84452217e-02\n",
      " -2.66368277e-02  1.31951785e-02  7.50086308e-02 -2.46796962e-02\n",
      " -3.24006155e-02 -1.57674886e-02 -8.03518295e-03 -5.61318127e-03\n",
      "  1.05687715e-02  3.26167489e-03 -3.91989946e-02 -9.38677117e-02\n",
      "  1.14227191e-01  6.57304302e-02 -4.72633801e-02  1.45087512e-02\n",
      " -3.54490355e-02 -3.37761678e-02 -5.15505895e-02 -3.81005858e-03\n",
      " -5.15036434e-02 -5.93429320e-02 -1.69411942e-03  7.42107630e-02\n",
      " -4.20091674e-02 -7.19975084e-02  3.17250118e-02 -1.66303422e-02\n",
      "  3.96981975e-03 -6.52750805e-02  2.77391076e-02 -7.51648918e-02\n",
      "  2.27455646e-02 -3.91368270e-02  1.54315718e-02 -5.54908514e-02\n",
      "  1.23318862e-02 -2.59520635e-02  6.66423738e-02 -6.91258591e-34\n",
      "  3.31629068e-02  8.47929269e-02 -6.65583909e-02  3.33541408e-02\n",
      "  4.71612765e-03  1.35361934e-02 -5.38694113e-02  9.20693949e-02\n",
      " -2.96876673e-02  3.16219479e-02 -2.37497017e-02  1.98770948e-02\n",
      "  1.03446215e-01 -9.06947702e-02  6.30626967e-03  1.42886192e-02\n",
      "  1.19293891e-02  6.43724250e-03  4.20104600e-02  1.25344750e-02\n",
      "  3.93019356e-02  5.35691679e-02 -4.30750176e-02  6.10432290e-02\n",
      " -5.39811481e-05  6.91682622e-02  1.05520012e-02  1.22112045e-02\n",
      " -7.23184943e-02  2.50469781e-02 -5.18371351e-02 -4.36562113e-02\n",
      " -6.71818256e-02  1.34828426e-02 -7.25888833e-02  7.04166479e-03\n",
      "  6.58939555e-02  1.08994395e-02 -2.60012201e-03  5.49969003e-02\n",
      "  5.06966710e-02  3.27948742e-02 -6.68832958e-02  6.45557940e-02\n",
      " -2.52075847e-02 -2.92571764e-02 -1.16696715e-01  3.24064456e-02\n",
      "  5.85858040e-02 -3.51756327e-02 -7.15240240e-02  2.24936120e-02\n",
      " -1.00786746e-01 -4.74544764e-02 -7.61963055e-02 -5.87166548e-02\n",
      "  4.21138555e-02 -7.47213811e-02  1.98467858e-02 -3.36502981e-03\n",
      " -5.29736876e-02  2.74729859e-02  3.45736854e-02 -6.11846596e-02\n",
      "  1.06364816e-01 -9.64119509e-02 -4.55945134e-02  1.51489768e-02\n",
      " -5.13522048e-03 -6.64447770e-02  4.31721583e-02 -1.10405777e-02\n",
      " -9.80249792e-03  7.53783137e-02 -1.49570899e-02 -4.80208285e-02\n",
      "  5.80726378e-02 -2.43896805e-02 -2.23137513e-02 -4.36992496e-02\n",
      "  5.12053780e-02 -3.28625888e-02  1.08763315e-01  6.08926788e-02\n",
      "  3.30791320e-03  5.53819910e-02  8.43200982e-02  1.27087180e-02\n",
      "  3.84465493e-02  6.52325749e-02 -2.94683762e-02  5.08005247e-02\n",
      " -2.09348034e-02  1.46135688e-01  2.25561056e-02 -1.77227744e-08\n",
      " -5.02672680e-02 -2.79217988e-04 -1.00328587e-01  2.42811274e-02\n",
      " -7.54043385e-02 -3.79139856e-02  3.96049805e-02  3.10079996e-02\n",
      " -9.05703939e-03 -6.50411919e-02  4.05453108e-02  4.83390130e-02\n",
      " -4.56962362e-02  4.76006093e-03  2.64361198e-03  9.35614109e-02\n",
      " -4.02599461e-02  3.27401720e-02  1.18298177e-02  5.54344505e-02\n",
      "  1.48052245e-01  7.21189156e-02  2.76968669e-04  1.68651380e-02\n",
      "  8.34882259e-03 -8.76155589e-03 -1.33649791e-02  6.14237227e-02\n",
      "  1.57167856e-02  6.94960803e-02  1.08621800e-02  6.08018301e-02\n",
      " -5.33421896e-02 -3.47923823e-02 -3.36272158e-02  6.93906844e-02\n",
      "  1.22987675e-02 -1.45237386e-01 -2.06969213e-03 -4.61132526e-02\n",
      "  3.72749381e-03 -5.59355551e-03 -1.00659855e-01 -4.45953310e-02\n",
      "  5.40921204e-02  4.98893578e-03  1.49534279e-02 -8.26059952e-02\n",
      "  6.26630858e-02 -5.01906965e-03 -4.81857695e-02 -3.53991278e-02\n",
      "  9.03388113e-03 -2.42338069e-02  5.66267483e-02  2.51529217e-02\n",
      " -1.70708969e-02 -1.24780377e-02  3.19518335e-02  1.38421012e-02\n",
      " -1.55815175e-02  1.00178257e-01  1.23657197e-01 -4.22967114e-02]\n",
      "\n",
      "Sentence: Sentences are passed as a list of string.\n",
      "Embedding: [ 5.64524680e-02  5.50024174e-02  3.13795842e-02  3.39485072e-02\n",
      " -3.54247317e-02  8.34668055e-02  9.88801047e-02  7.27545656e-03\n",
      " -6.68659527e-03 -7.65814353e-03  7.93738067e-02  7.39676878e-04\n",
      "  1.49292015e-02 -1.51046831e-02  3.67674194e-02  4.78743315e-02\n",
      " -4.81969342e-02 -3.76052037e-02 -4.60278317e-02 -8.89815986e-02\n",
      "  1.20228142e-01  1.30663216e-01 -3.73935886e-02  2.47856718e-03\n",
      "  2.55824998e-03  7.25814551e-02 -6.80436566e-02 -5.24696223e-02\n",
      "  4.90234047e-02  2.99563184e-02 -5.84429577e-02 -2.02263352e-02\n",
      "  2.08821986e-02  9.76691917e-02  3.52390222e-02  3.91140766e-02\n",
      "  1.05668101e-02  1.56232214e-03 -1.30823022e-02  8.52904655e-03\n",
      " -4.84091695e-03 -2.03766637e-02 -2.71800943e-02  2.83307564e-02\n",
      "  3.66017781e-02  2.51276512e-02 -9.90861878e-02  1.15626566e-02\n",
      " -3.60380486e-02 -7.23784119e-02 -1.12670071e-01  1.12941880e-02\n",
      " -3.86397354e-02  4.67386283e-02 -2.88461000e-02  2.26703621e-02\n",
      " -8.52407888e-03  3.32815051e-02 -1.06580416e-03 -7.09745362e-02\n",
      " -6.31170198e-02 -5.72187193e-02 -6.16026372e-02  5.47146648e-02\n",
      "  1.18317613e-02 -4.66261208e-02  2.56959815e-02 -7.07414700e-03\n",
      " -5.73842935e-02  4.12839167e-02 -5.91503195e-02  5.89021929e-02\n",
      " -4.41697501e-02  4.65081595e-02 -3.15814093e-02  5.58312312e-02\n",
      "  5.54578640e-02 -5.96533529e-02  4.06406969e-02  4.83761635e-03\n",
      " -4.96768020e-02 -1.00944370e-01  3.40078361e-02  4.13270993e-03\n",
      " -2.93522305e-03  2.11837403e-02 -3.73962112e-02 -2.79066768e-02\n",
      " -4.61767986e-02  5.26138432e-02 -2.79734787e-02 -1.62379250e-01\n",
      "  6.61042035e-02  1.72274057e-02 -5.45110693e-03  4.74474132e-02\n",
      " -3.82237434e-02 -3.96896712e-02  1.34544717e-02  4.49653938e-02\n",
      "  4.53674421e-03  2.82978918e-02  8.36633295e-02 -1.00858193e-02\n",
      " -1.19353965e-01 -3.84624526e-02  4.82858680e-02 -9.46083814e-02\n",
      "  1.91854071e-02 -9.96518508e-02 -6.30596578e-02  3.02696042e-02\n",
      "  1.17402663e-02 -4.78372499e-02 -6.20265398e-03 -3.32850479e-02\n",
      " -4.04385710e-03  1.28307156e-02  4.05253991e-02  7.56477043e-02\n",
      "  2.92434730e-02  2.84270346e-02 -2.78938990e-02  1.66858118e-02\n",
      " -2.47961786e-02 -6.83650672e-02  2.89968699e-02 -5.39867784e-33\n",
      " -2.69014016e-03 -2.65069250e-02 -6.47948007e-04 -8.46194755e-03\n",
      " -7.35154748e-02  4.94082971e-03 -5.97842298e-02  1.03438376e-02\n",
      "  2.12907116e-03 -2.88217608e-03 -3.17076370e-02 -9.42364335e-02\n",
      "  3.03020086e-02  7.00226426e-02  4.50685918e-02  3.69439498e-02\n",
      "  1.13593210e-02  3.53026949e-02  5.50449779e-03  1.34416856e-03\n",
      "  3.46122310e-03  7.75047541e-02  5.45112342e-02 -7.92055726e-02\n",
      " -9.31696743e-02 -4.03398760e-02  3.10668796e-02 -3.83081436e-02\n",
      " -5.89443222e-02  1.93331931e-02 -2.67160218e-02 -7.91938156e-02\n",
      "  1.04167084e-04  7.70621300e-02  4.16603684e-02  8.90932605e-02\n",
      "  3.56843062e-02 -1.09153129e-02  3.71498577e-02 -2.07070485e-02\n",
      " -2.46100798e-02 -2.05025375e-02  2.62201298e-02  3.43590379e-02\n",
      "  4.39251103e-02 -8.20518006e-03 -8.40710029e-02  4.24170531e-02\n",
      "  4.87499125e-02  5.95385022e-02  2.87747774e-02  3.37638371e-02\n",
      " -4.07443047e-02 -1.66371954e-03  7.91927576e-02  3.41088399e-02\n",
      " -5.72830730e-04  1.87749546e-02 -1.36963921e-02  7.38333166e-02\n",
      "  5.74524689e-04  8.33505467e-02  5.60811087e-02 -1.13710631e-02\n",
      "  4.42611724e-02  2.69582067e-02 -4.80536111e-02 -3.15087363e-02\n",
      "  7.75226504e-02  1.81773156e-02 -8.83005112e-02 -7.85520673e-03\n",
      " -6.22243024e-02  7.19372854e-02 -2.33475063e-02  6.52483990e-03\n",
      " -9.49527696e-03 -9.88313034e-02  4.01306450e-02  3.07397265e-02\n",
      " -2.21607015e-02 -9.45911631e-02  1.02368211e-02  1.02187768e-01\n",
      " -4.12960313e-02 -3.15778181e-02  4.74752374e-02 -1.10209785e-01\n",
      "  1.69614665e-02 -3.71709354e-02 -1.03261694e-02 -4.72538061e-02\n",
      " -1.20214000e-02 -1.93255264e-02  5.79292364e-02  4.23866870e-34\n",
      "  3.92013118e-02  8.41362029e-02 -1.02946699e-01  6.92259818e-02\n",
      "  1.68821476e-02 -3.26760784e-02  9.65956785e-03  1.80899836e-02\n",
      "  2.17940304e-02  1.63189452e-02 -9.69292447e-02  3.74847278e-03\n",
      " -2.38456912e-02 -3.44056040e-02  7.11962655e-02  9.21890896e-04\n",
      " -6.23857509e-03  3.23754027e-02 -8.90389609e-04  5.01904683e-03\n",
      " -4.24538329e-02  9.89083871e-02 -4.60321084e-02  4.69704978e-02\n",
      " -1.75284687e-02 -7.02514872e-03  1.32743679e-02 -5.30152470e-02\n",
      "  2.66409595e-03  1.45818982e-02  7.43344938e-03 -3.07131745e-02\n",
      " -2.09416468e-02  8.24110433e-02 -5.15893996e-02 -2.71178447e-02\n",
      "  1.17583029e-01  7.72509351e-03 -1.89522896e-02  3.94559279e-02\n",
      "  7.17360228e-02  2.59116702e-02  2.75191721e-02  9.50542651e-03\n",
      " -3.02355643e-02 -4.07944806e-02 -1.04028471e-01 -7.97419436e-03\n",
      " -3.64458491e-03  3.29716504e-02 -2.35954728e-02 -7.50513747e-03\n",
      " -5.82234189e-02 -3.17906216e-02 -4.18049283e-02  2.17453465e-02\n",
      " -6.67292178e-02 -4.89104167e-02  4.58515296e-03 -2.66046412e-02\n",
      " -1.12597026e-01  5.11167720e-02  5.48534133e-02 -6.69857115e-02\n",
      "  1.26766309e-01 -8.59487951e-02 -5.94231524e-02 -2.92191119e-03\n",
      " -1.14875855e-02 -1.26025781e-01 -3.48276924e-03 -9.12001729e-02\n",
      " -1.22933060e-01  1.33777205e-02 -4.75774817e-02 -6.57933056e-02\n",
      " -3.39409709e-02 -3.07107456e-02 -5.22034131e-02 -2.35463865e-02\n",
      "  5.90035059e-02 -3.85757759e-02  3.19701135e-02  4.05118763e-02\n",
      "  1.67077929e-02 -3.58281098e-02  1.45687908e-02  3.20137553e-02\n",
      " -1.34843802e-02  6.07819781e-02 -8.31397530e-03 -1.08106034e-02\n",
      "  4.69410606e-02  7.66133741e-02 -4.23400402e-02 -2.11963318e-08\n",
      " -7.25292638e-02 -4.20227982e-02 -6.12374656e-02  5.24666533e-02\n",
      " -1.42363729e-02  1.18487515e-02 -1.40789254e-02 -3.67530212e-02\n",
      " -4.44977731e-02 -1.15139959e-02  5.23317270e-02  2.96651851e-02\n",
      " -4.62780371e-02 -3.70892622e-02  1.89129841e-02  2.04307064e-02\n",
      " -2.24006027e-02 -1.48562631e-02 -1.79504305e-02  4.20007706e-02\n",
      "  1.40942698e-02 -2.83492431e-02 -1.16862997e-01  1.48956478e-02\n",
      " -7.30583211e-04  5.66028282e-02 -2.68739909e-02  1.09106690e-01\n",
      "  2.94558844e-03  1.19267896e-01  1.14212424e-01  8.92973691e-02\n",
      " -1.70255750e-02 -4.99053672e-02 -2.11930890e-02  3.18421274e-02\n",
      "  7.03435838e-02 -1.02929436e-01  8.23816732e-02  2.81968303e-02\n",
      "  3.21146473e-02  3.79107893e-02 -1.09553084e-01  8.19620490e-02\n",
      "  8.73216689e-02 -5.73563762e-02 -2.01709308e-02 -5.69444448e-02\n",
      " -1.30338343e-02 -5.55684157e-02 -1.32966395e-02  8.64009745e-03\n",
      "  5.30012473e-02 -4.06847149e-02  2.71709040e-02 -2.55948678e-03\n",
      "  3.05775534e-02 -4.61865515e-02  4.68034158e-03 -3.64947058e-02\n",
      "  6.80802986e-02  6.65087774e-02  8.49152133e-02 -3.32848988e-02]\n",
      "\n",
      "Sentence: The quick brown fox jumps over the lazy dog.\n",
      "Embedding: [ 4.39335704e-02  5.89344501e-02  4.81783673e-02  7.75481015e-02\n",
      "  2.67443936e-02 -3.76295634e-02 -2.60511087e-03 -5.99430278e-02\n",
      " -2.49600294e-03  2.20728200e-02  4.80259694e-02  5.57553098e-02\n",
      " -3.89454216e-02 -2.66167801e-02  7.69339455e-03 -2.62376741e-02\n",
      " -3.64160873e-02 -3.78161147e-02  7.40781426e-02 -4.95050363e-02\n",
      " -5.85217439e-02 -6.36196807e-02  3.24349664e-02  2.20085494e-02\n",
      " -7.10637197e-02 -3.31577770e-02 -6.94103986e-02 -5.00373952e-02\n",
      "  7.46267810e-02 -1.11133851e-01 -1.23063186e-02  3.77456769e-02\n",
      " -2.80313343e-02  1.45353572e-02 -3.15585695e-02 -8.05836096e-02\n",
      "  5.83525896e-02  2.59005441e-03  3.92801873e-02  2.57695932e-02\n",
      "  4.98505756e-02 -1.75626890e-03 -4.55297753e-02  2.92607471e-02\n",
      " -1.02017261e-01  5.22287488e-02 -7.90899470e-02 -1.02857612e-02\n",
      "  9.20246262e-03  1.30732525e-02 -4.04777937e-02 -2.77925283e-02\n",
      "  1.24667073e-02  6.72832653e-02  6.81248009e-02 -7.57119851e-03\n",
      " -6.09940477e-03 -4.23776656e-02  5.17815948e-02 -1.56707261e-02\n",
      "  9.56360903e-03  4.12390195e-02  2.14959066e-02  1.04293600e-02\n",
      "  2.73349509e-02  1.87062360e-02 -2.69607585e-02 -7.00542256e-02\n",
      " -1.04700468e-01 -1.89871888e-03  1.77016705e-02 -5.74725568e-02\n",
      " -1.44223543e-02  4.70450439e-04  2.33228644e-03 -2.51920652e-02\n",
      "  4.93004322e-02 -5.09609841e-02  6.31983057e-02  1.49165075e-02\n",
      " -2.70766746e-02 -4.52875644e-02 -4.90594469e-02  3.74940485e-02\n",
      "  3.84579897e-02  1.56902603e-03  3.09922379e-02  2.01630481e-02\n",
      " -1.24363741e-02 -3.06720156e-02 -2.78819017e-02 -6.89182580e-02\n",
      " -5.13676666e-02  2.14795880e-02  1.15746930e-02  1.25410571e-03\n",
      "  1.88765563e-02 -4.42319065e-02 -4.49817292e-02 -3.41869332e-03\n",
      "  1.31131476e-02  2.00099498e-02  1.21099755e-01  2.31074784e-02\n",
      " -2.20158976e-02 -3.28847170e-02 -3.15515604e-03  1.17878408e-04\n",
      "  9.91498753e-02  1.65239088e-02 -4.69672075e-03 -1.45366723e-02\n",
      " -3.71077610e-03  9.65136215e-02  2.85908207e-02  2.13481877e-02\n",
      " -7.17645735e-02 -2.41142102e-02 -4.40940633e-02 -1.07346870e-01\n",
      "  6.79945573e-02  1.30466774e-01 -7.97030032e-02  6.79507293e-03\n",
      " -2.37511788e-02 -4.61636446e-02 -2.99650785e-02 -3.69410010e-33\n",
      "  7.30969608e-02 -2.20171511e-02 -8.61464366e-02 -7.14379549e-02\n",
      " -6.36741892e-02 -7.21863210e-02 -5.93045168e-03 -2.33641304e-02\n",
      " -2.83658206e-02  4.77434695e-02 -8.06176364e-02 -1.56476395e-03\n",
      "  1.38443531e-02 -2.86235940e-02 -3.35386544e-02 -1.13777518e-01\n",
      " -9.17634834e-03 -1.08101144e-02  3.23195867e-02  5.88380955e-02\n",
      "  3.34209017e-02  1.07987933e-01 -3.72713245e-02 -2.96770725e-02\n",
      "  5.17190322e-02 -2.25339010e-02 -6.96090907e-02 -2.14475319e-02\n",
      " -2.33410560e-02  4.82199639e-02 -3.58766392e-02 -4.68991175e-02\n",
      " -3.97873446e-02  1.10813215e-01 -1.43007059e-02 -1.18464500e-01\n",
      "  5.82915507e-02 -6.25889078e-02 -2.94040777e-02  6.03238493e-02\n",
      " -2.44415249e-03  1.60115883e-02  2.67233849e-02  2.49530282e-02\n",
      " -6.49318919e-02 -1.06802201e-02  2.81464476e-02  1.03564160e-02\n",
      " -6.63588231e-04  1.98186468e-02 -3.04288473e-02  6.28424389e-03\n",
      "  5.15268408e-02 -4.75375056e-02 -6.44421130e-02  9.55031961e-02\n",
      "  7.55858347e-02 -2.81574447e-02 -3.49966101e-02  1.01816393e-01\n",
      "  1.98732279e-02 -3.68036292e-02  2.93524913e-03 -5.00745066e-02\n",
      "  1.50932148e-01 -6.16079383e-02 -8.58812854e-02  7.13991933e-03\n",
      " -1.33065563e-02  7.80405179e-02  1.75250601e-02  4.21279445e-02\n",
      "  3.57939936e-02 -1.32950455e-01  3.56970318e-02 -2.03117039e-02\n",
      "  1.24909896e-02 -3.80355380e-02  4.91543300e-02 -1.56541094e-02\n",
      "  1.21418223e-01 -8.08644369e-02 -4.68781702e-02  4.10843194e-02\n",
      " -1.84318163e-02  6.69690669e-02  4.33594687e-03  2.27315016e-02\n",
      " -1.36428932e-02 -4.53238375e-02 -3.92829925e-02 -6.29889686e-03\n",
      "  5.29609881e-02 -3.69064547e-02  7.11676851e-02  2.33343416e-33\n",
      "  1.05231345e-01 -4.81874309e-02  6.95919171e-02  6.56976476e-02\n",
      " -4.65148576e-02  5.14492691e-02 -1.24475248e-02  3.20872180e-02\n",
      " -9.23356637e-02  5.00932932e-02 -3.28875929e-02  1.39138810e-02\n",
      " -8.70249700e-04 -4.90908930e-03  1.03946418e-01  3.21575440e-04\n",
      "  5.28110452e-02 -1.17990533e-02  2.31565759e-02  1.31768268e-02\n",
      " -5.25962599e-02  3.26702446e-02  3.08661431e-04  6.41128942e-02\n",
      "  3.88500877e-02  5.88008612e-02  8.29793215e-02 -1.88149698e-02\n",
      " -2.26377714e-02 -1.00473635e-01 -3.83752659e-02 -5.88081852e-02\n",
      "  1.82419305e-03 -4.26995531e-02  2.50195134e-02  6.40060008e-02\n",
      " -3.77482921e-02 -6.83899596e-03 -2.54607713e-03 -9.76042897e-02\n",
      "  1.88475624e-02 -8.83171742e-04  1.73611958e-02  7.10790828e-02\n",
      "  3.30393203e-02  6.93424093e-03 -5.60523421e-02  5.14634699e-02\n",
      " -4.29541990e-02  4.60077450e-02 -8.78834073e-03  3.17289047e-02\n",
      "  4.93965447e-02  2.95190178e-02 -5.05192764e-02 -5.43186888e-02\n",
      "  1.49943458e-04 -2.76614130e-02  3.46878618e-02 -2.10890323e-02\n",
      "  1.38059799e-02  2.99886353e-02  1.39744533e-02 -4.26468812e-03\n",
      " -1.50337061e-02 -8.76095295e-02 -6.85053691e-02 -4.28141691e-02\n",
      "  7.76945204e-02 -7.10285529e-02 -7.37687247e-03  2.13727243e-02\n",
      "  1.35562364e-02 -7.90464580e-02  5.47668152e-03  8.30663368e-02\n",
      "  1.14147991e-01  1.80762587e-03  8.75491202e-02 -4.16044779e-02\n",
      "  1.55416224e-02 -1.01206480e-02 -7.32435798e-03  1.07966419e-02\n",
      " -6.62816986e-02  3.98413576e-02 -1.16711512e-01  6.42993897e-02\n",
      "  4.02920060e-02 -6.54741600e-02  1.95052773e-02  8.09995756e-02\n",
      "  5.36463782e-02  7.67969489e-02 -1.34852575e-02 -1.76919048e-08\n",
      " -4.43935208e-02  9.20641702e-03 -8.79590437e-02  4.26921584e-02\n",
      "  7.31364936e-02  1.68427583e-02 -4.03262936e-02  1.85131785e-02\n",
      "  8.44172463e-02 -3.74476798e-02  3.02996188e-02  2.90641822e-02\n",
      "  6.36878684e-02  2.89750397e-02 -1.47270057e-02  1.77543126e-02\n",
      " -3.36895287e-02  1.73160955e-02  3.37875299e-02  1.76826045e-01\n",
      " -1.75533406e-02 -6.03077933e-02 -1.43394601e-02 -2.38536131e-02\n",
      " -4.45531197e-02 -2.89850049e-02 -8.96776244e-02 -1.75938255e-03\n",
      " -2.61485875e-02  5.93999913e-03 -5.18355519e-02  8.57279599e-02\n",
      " -8.18398744e-02  8.35439656e-03  4.00789790e-02  4.17764075e-02\n",
      "  1.04573548e-01 -2.86561972e-03  1.96691044e-02  5.81046520e-03\n",
      "  1.33253438e-02  4.51001301e-02 -2.17588190e-02 -1.39493123e-02\n",
      " -6.86992407e-02 -2.94114207e-03 -3.10764872e-02 -1.05854437e-01\n",
      "  6.91624135e-02 -4.24114801e-02 -4.67682108e-02 -3.64750996e-02\n",
      "  4.50399891e-02  6.09816350e-02 -6.56561777e-02 -5.45638567e-03\n",
      " -1.86226703e-02 -6.31484836e-02 -3.87436934e-02  3.46733704e-02\n",
      "  5.55458143e-02  5.21627963e-02  5.61065264e-02  1.02063894e-01]\n",
      "\n"
     ]
    }
   ],
   "source": [
    "from sentence_transformers import SentenceTransformer\n",
    "model = SentenceTransformer('all-MiniLM-L6-v2')\n",
    "\n",
    "#Our sentences we like to encode\n",
    "sentences = ['This framework generates embeddings for each input sentence',\n",
    "    'Sentences are passed as a list of string.',\n",
    "    'The quick brown fox jumps over the lazy dog.']\n",
    "\n",
    "#Sentences are encoded by calling model.encode()\n",
    "embeddings = model.encode(sentences)\n",
    "\n",
    "#Print the embeddings\n",
    "for sentence, embedding in zip(sentences, embeddings):\n",
    "    print(\"Sentence:\", sentence)\n",
    "    print(\"Embedding:\", embedding)\n",
    "    print(\"\")"
   ]
  },
  {
   "cell_type": "code",
   "execution_count": 19,
   "metadata": {},
   "outputs": [
    {
     "data": {
      "text/plain": [
       "(384,)"
      ]
     },
     "execution_count": 19,
     "metadata": {},
     "output_type": "execute_result"
    }
   ],
   "source": [
    "embedding.shape"
   ]
  },
  {
   "attachments": {},
   "cell_type": "markdown",
   "metadata": {},
   "source": [
    "### Embedding a corpus"
   ]
  },
  {
   "cell_type": "code",
   "execution_count": 86,
   "metadata": {},
   "outputs": [
    {
     "name": "stdout",
     "output_type": "stream",
     "text": [
      "Wikipedia is a multilingual, free, online encyclopedia written and maintained by a community of volunteers, known as Wikipedians, through open collaboration and using a wiki-based editing system called MediaWiki. Wikipedia is the largest and most-read reference work in history. It is consistently one of the 10 most popular websites ranked by Similarweb and formerly Alexa; as of 2023, Wikipedia was ranked the 5th most popular site in the world according to Semrush. It is hosted by the Wikimedia Foundation, an American non-profit organization funded mainly through donations.\n"
     ]
    }
   ],
   "source": [
    "ex = \"Wikipedia is a multilingual, free, online encyclopedia written and maintained by a community of volunteers, known as Wikipedians, through open collaboration and using a wiki-based editing system called MediaWiki. Wikipedia is the largest and most-read reference work in history. It is consistently one of the 10 most popular websites ranked by Similarweb and formerly Alexa; as of 2023, Wikipedia was ranked the 5th most popular site in the world according to Semrush. It is hosted by the Wikimedia Foundation, an American non-profit organization funded mainly through donations.\"\n",
    "print(ex)"
   ]
  },
  {
   "cell_type": "code",
   "execution_count": 111,
   "metadata": {},
   "outputs": [
    {
     "name": "stderr",
     "output_type": "stream",
     "text": [
      "Some weights of the model checkpoint at bert-base-uncased were not used when initializing BertModel: ['cls.predictions.decoder.weight', 'cls.predictions.transform.LayerNorm.bias', 'cls.predictions.bias', 'cls.seq_relationship.weight', 'cls.predictions.transform.dense.weight', 'cls.predictions.transform.LayerNorm.weight', 'cls.seq_relationship.bias', 'cls.predictions.transform.dense.bias']\n",
      "- This IS expected if you are initializing BertModel from the checkpoint of a model trained on another task or with another architecture (e.g. initializing a BertForSequenceClassification model from a BertForPreTraining model).\n",
      "- This IS NOT expected if you are initializing BertModel from the checkpoint of a model that you expect to be exactly identical (initializing a BertForSequenceClassification model from a BertForSequenceClassification model).\n"
     ]
    }
   ],
   "source": [
    "def tokenizeCorpus(corpus, model=BertModel.from_pretrained('bert-base-uncased'), tokenizer = BertTokenizer.from_pretrained('bert-base-uncased'), delimiter=\".\"):\n",
    "    splited = [sentence+delimiter for sentence in corpus.split(\".\")]\n",
    "    SEPmarked = [sentence+\" [SEP]\" for sentence in splited[:-1]]\n",
    "    marked_text = \"[CLS] \"+\"\".join(SEPmarked)[:-6]\n",
    "    tokenized_text = tokenizer.tokenize(marked_text)\n",
    "    indexed_tokens = tokenizer.convert_tokens_to_ids(tokenized_text)\n",
    "    segment_ids = []\n",
    "    i = 0\n",
    "    for token in tokenized_text:\n",
    "        segment_ids.append(i)\n",
    "        if token == \"[SEP]\":\n",
    "            i += 1\n",
    "    tokens_tensor = torch.tensor([indexed_tokens])\n",
    "    segments_tensor = torch.tensor([segment_ids])\n",
    "    with torch.no_grad():\n",
    "        outputs = model(tokens_tensor, segments_tensor)\n",
    "    hidden_states = outputs[-1]\n",
    "    \n",
    "    \n",
    "    return outputs\n",
    "\n",
    "o = tokenizeCorpus(ex)"
   ]
  },
  {
   "cell_type": "code",
   "execution_count": 112,
   "metadata": {},
   "outputs": [
    {
     "data": {
      "text/plain": [
       "BaseModelOutputWithPoolingAndCrossAttentions(last_hidden_state=tensor([[[nan, nan, nan,  ..., nan, nan, nan],\n",
       "         [nan, nan, nan,  ..., nan, nan, nan],\n",
       "         [nan, nan, nan,  ..., nan, nan, nan],\n",
       "         ...,\n",
       "         [nan, nan, nan,  ..., nan, nan, nan],\n",
       "         [nan, nan, nan,  ..., nan, nan, nan],\n",
       "         [nan, nan, nan,  ..., nan, nan, nan]]]), pooler_output=tensor([[nan, nan, nan, nan, nan, nan, nan, nan, nan, nan, nan, nan, nan, nan, nan, nan, nan, nan, nan, nan, nan, nan, nan, nan,\n",
       "         nan, nan, nan, nan, nan, nan, nan, nan, nan, nan, nan, nan, nan, nan, nan, nan, nan, nan, nan, nan, nan, nan, nan, nan,\n",
       "         nan, nan, nan, nan, nan, nan, nan, nan, nan, nan, nan, nan, nan, nan, nan, nan, nan, nan, nan, nan, nan, nan, nan, nan,\n",
       "         nan, nan, nan, nan, nan, nan, nan, nan, nan, nan, nan, nan, nan, nan, nan, nan, nan, nan, nan, nan, nan, nan, nan, nan,\n",
       "         nan, nan, nan, nan, nan, nan, nan, nan, nan, nan, nan, nan, nan, nan, nan, nan, nan, nan, nan, nan, nan, nan, nan, nan,\n",
       "         nan, nan, nan, nan, nan, nan, nan, nan, nan, nan, nan, nan, nan, nan, nan, nan, nan, nan, nan, nan, nan, nan, nan, nan,\n",
       "         nan, nan, nan, nan, nan, nan, nan, nan, nan, nan, nan, nan, nan, nan, nan, nan, nan, nan, nan, nan, nan, nan, nan, nan,\n",
       "         nan, nan, nan, nan, nan, nan, nan, nan, nan, nan, nan, nan, nan, nan, nan, nan, nan, nan, nan, nan, nan, nan, nan, nan,\n",
       "         nan, nan, nan, nan, nan, nan, nan, nan, nan, nan, nan, nan, nan, nan, nan, nan, nan, nan, nan, nan, nan, nan, nan, nan,\n",
       "         nan, nan, nan, nan, nan, nan, nan, nan, nan, nan, nan, nan, nan, nan, nan, nan, nan, nan, nan, nan, nan, nan, nan, nan,\n",
       "         nan, nan, nan, nan, nan, nan, nan, nan, nan, nan, nan, nan, nan, nan, nan, nan, nan, nan, nan, nan, nan, nan, nan, nan,\n",
       "         nan, nan, nan, nan, nan, nan, nan, nan, nan, nan, nan, nan, nan, nan, nan, nan, nan, nan, nan, nan, nan, nan, nan, nan,\n",
       "         nan, nan, nan, nan, nan, nan, nan, nan, nan, nan, nan, nan, nan, nan, nan, nan, nan, nan, nan, nan, nan, nan, nan, nan,\n",
       "         nan, nan, nan, nan, nan, nan, nan, nan, nan, nan, nan, nan, nan, nan, nan, nan, nan, nan, nan, nan, nan, nan, nan, nan,\n",
       "         nan, nan, nan, nan, nan, nan, nan, nan, nan, nan, nan, nan, nan, nan, nan, nan, nan, nan, nan, nan, nan, nan, nan, nan,\n",
       "         nan, nan, nan, nan, nan, nan, nan, nan, nan, nan, nan, nan, nan, nan, nan, nan, nan, nan, nan, nan, nan, nan, nan, nan,\n",
       "         nan, nan, nan, nan, nan, nan, nan, nan, nan, nan, nan, nan, nan, nan, nan, nan, nan, nan, nan, nan, nan, nan, nan, nan,\n",
       "         nan, nan, nan, nan, nan, nan, nan, nan, nan, nan, nan, nan, nan, nan, nan, nan, nan, nan, nan, nan, nan, nan, nan, nan,\n",
       "         nan, nan, nan, nan, nan, nan, nan, nan, nan, nan, nan, nan, nan, nan, nan, nan, nan, nan, nan, nan, nan, nan, nan, nan,\n",
       "         nan, nan, nan, nan, nan, nan, nan, nan, nan, nan, nan, nan, nan, nan, nan, nan, nan, nan, nan, nan, nan, nan, nan, nan,\n",
       "         nan, nan, nan, nan, nan, nan, nan, nan, nan, nan, nan, nan, nan, nan, nan, nan, nan, nan, nan, nan, nan, nan, nan, nan,\n",
       "         nan, nan, nan, nan, nan, nan, nan, nan, nan, nan, nan, nan, nan, nan, nan, nan, nan, nan, nan, nan, nan, nan, nan, nan,\n",
       "         nan, nan, nan, nan, nan, nan, nan, nan, nan, nan, nan, nan, nan, nan, nan, nan, nan, nan, nan, nan, nan, nan, nan, nan,\n",
       "         nan, nan, nan, nan, nan, nan, nan, nan, nan, nan, nan, nan, nan, nan, nan, nan, nan, nan, nan, nan, nan, nan, nan, nan,\n",
       "         nan, nan, nan, nan, nan, nan, nan, nan, nan, nan, nan, nan, nan, nan, nan, nan, nan, nan, nan, nan, nan, nan, nan, nan,\n",
       "         nan, nan, nan, nan, nan, nan, nan, nan, nan, nan, nan, nan, nan, nan, nan, nan, nan, nan, nan, nan, nan, nan, nan, nan,\n",
       "         nan, nan, nan, nan, nan, nan, nan, nan, nan, nan, nan, nan, nan, nan, nan, nan, nan, nan, nan, nan, nan, nan, nan, nan,\n",
       "         nan, nan, nan, nan, nan, nan, nan, nan, nan, nan, nan, nan, nan, nan, nan, nan, nan, nan, nan, nan, nan, nan, nan, nan,\n",
       "         nan, nan, nan, nan, nan, nan, nan, nan, nan, nan, nan, nan, nan, nan, nan, nan, nan, nan, nan, nan, nan, nan, nan, nan,\n",
       "         nan, nan, nan, nan, nan, nan, nan, nan, nan, nan, nan, nan, nan, nan, nan, nan, nan, nan, nan, nan, nan, nan, nan, nan,\n",
       "         nan, nan, nan, nan, nan, nan, nan, nan, nan, nan, nan, nan, nan, nan, nan, nan, nan, nan, nan, nan, nan, nan, nan, nan,\n",
       "         nan, nan, nan, nan, nan, nan, nan, nan, nan, nan, nan, nan, nan, nan, nan, nan, nan, nan, nan, nan, nan, nan, nan, nan]]), hidden_states=None, past_key_values=None, attentions=None, cross_attentions=None)"
      ]
     },
     "execution_count": 112,
     "metadata": {},
     "output_type": "execute_result"
    }
   ],
   "source": [
    "o"
   ]
  }
 ],
 "metadata": {
  "kernelspec": {
   "display_name": ".venv",
   "language": "python",
   "name": "python3"
  },
  "language_info": {
   "codemirror_mode": {
    "name": "ipython",
    "version": 3
   },
   "file_extension": ".py",
   "mimetype": "text/x-python",
   "name": "python",
   "nbconvert_exporter": "python",
   "pygments_lexer": "ipython3",
   "version": "3.11.3"
  },
  "orig_nbformat": 4
 },
 "nbformat": 4,
 "nbformat_minor": 2
}

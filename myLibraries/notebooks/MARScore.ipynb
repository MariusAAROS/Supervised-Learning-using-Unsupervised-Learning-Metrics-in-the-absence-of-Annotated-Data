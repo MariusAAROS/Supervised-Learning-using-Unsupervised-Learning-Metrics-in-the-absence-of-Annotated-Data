{
 "cells": [
  {
   "attachments": {},
   "cell_type": "markdown",
   "metadata": {},
   "source": [
    "### Experimenting with BERTScore"
   ]
  },
  {
   "cell_type": "code",
   "execution_count": null,
   "metadata": {},
   "outputs": [],
   "source": [
    "import sys\n",
    "sys.path.append(r\"D:\\COURS\\A4\\S8 - ESILV\\Stage\\Work\\Repositories\\bert_score\")\n",
    "\n",
    "from bert_score.score import score as bscore"
   ]
  },
  {
   "cell_type": "code",
   "execution_count": null,
   "metadata": {},
   "outputs": [],
   "source": [
    "o = bscore([\"I am Marius\"], [\"My name is marius\"], lang=\"en\")"
   ]
  },
  {
   "attachments": {},
   "cell_type": "markdown",
   "metadata": {},
   "source": [
    "### Experimenting with Roberta tokenizer"
   ]
  },
  {
   "cell_type": "code",
   "execution_count": null,
   "metadata": {},
   "outputs": [],
   "source": [
    "from transformers import RobertaTokenizer"
   ]
  },
  {
   "cell_type": "code",
   "execution_count": null,
   "metadata": {},
   "outputs": [],
   "source": [
    "tokenizer = RobertaTokenizer.from_pretrained(\"roberta-base\")\n",
    "test = tokenizer(\"I am Marius\")"
   ]
  },
  {
   "cell_type": "code",
   "execution_count": null,
   "metadata": {},
   "outputs": [],
   "source": [
    "out = tokenizer(\"I am Marius\")"
   ]
  },
  {
   "cell_type": "code",
   "execution_count": null,
   "metadata": {},
   "outputs": [],
   "source": [
    "out"
   ]
  },
  {
   "cell_type": "code",
   "execution_count": null,
   "metadata": {},
   "outputs": [],
   "source": [
    "test.input_ids"
   ]
  },
  {
   "attachments": {},
   "cell_type": "markdown",
   "metadata": {},
   "source": [
    "### Experimenting with AutoModel class"
   ]
  },
  {
   "cell_type": "code",
   "execution_count": null,
   "metadata": {},
   "outputs": [],
   "source": [
    "from transformers import AutoModel\n",
    "from transformers import RobertaTokenizer"
   ]
  },
  {
   "cell_type": "code",
   "execution_count": null,
   "metadata": {},
   "outputs": [],
   "source": [
    "model = AutoModel.from_pretrained(\"roberta-large\")\n",
    "tokenizer = RobertaTokenizer.from_pretrained(\"roberta-large\")"
   ]
  },
  {
   "cell_type": "code",
   "execution_count": null,
   "metadata": {},
   "outputs": [],
   "source": [
    "sentence = \"I am Marius\"\n",
    "tokens = tokenizer(sentence)\n",
    "token_ids = tokens[\"input_ids\"]\n",
    "masks = tokens[\"attention_mask\"]"
   ]
  },
  {
   "cell_type": "code",
   "execution_count": null,
   "metadata": {},
   "outputs": [],
   "source": [
    "type(masks)"
   ]
  },
  {
   "cell_type": "code",
   "execution_count": null,
   "metadata": {},
   "outputs": [],
   "source": [
    "out = model(token_ids, attention_mask=masks, output_hidden_states=True)"
   ]
  },
  {
   "attachments": {},
   "cell_type": "markdown",
   "metadata": {},
   "source": [
    "### BERT Embedding - Discovery"
   ]
  },
  {
   "cell_type": "code",
   "execution_count": null,
   "metadata": {},
   "outputs": [],
   "source": [
    "from transformers import BertTokenizer, BertModel\n",
    "import torch\n",
    "import numpy as np\n",
    "\n",
    "model = BertModel.from_pretrained('bert-base-uncased',\n",
    "                                  output_hidden_states=True)\n",
    "model.eval()"
   ]
  },
  {
   "cell_type": "code",
   "execution_count": null,
   "metadata": {},
   "outputs": [],
   "source": [
    "tokenizer = BertTokenizer.from_pretrained('bert-base-uncased')\n",
    "text = \"My name is Marius.\"\n",
    "marked_text = \"[CLS]\"+text+\"[SEP]\"\n",
    "tokenized_text = tokenizer.tokenize(marked_text)\n",
    "print(tokenized_text)"
   ]
  },
  {
   "cell_type": "code",
   "execution_count": null,
   "metadata": {},
   "outputs": [],
   "source": [
    "indexed_tokens = tokenizer.convert_tokens_to_ids(tokenized_text)\n",
    "for tup in zip(tokenized_text, indexed_tokens):\n",
    "    print('{:<12}{:>6,}'.format(tup[0], tup[1]))"
   ]
  },
  {
   "cell_type": "code",
   "execution_count": null,
   "metadata": {},
   "outputs": [],
   "source": [
    "#mark tokenks as belonging to sentence 1.\n",
    "segment_ids = [1]*len(tokenized_text)\n",
    "print(segment_ids)"
   ]
  },
  {
   "cell_type": "code",
   "execution_count": null,
   "metadata": {},
   "outputs": [],
   "source": [
    "tokens_tensor = torch.tensor([indexed_tokens])\n",
    "segments_tensor = torch.tensor([segment_ids])\n",
    "print(tokens_tensor)\n",
    "print(segments_tensor)"
   ]
  },
  {
   "cell_type": "code",
   "execution_count": null,
   "metadata": {},
   "outputs": [],
   "source": [
    "with torch.no_grad():\n",
    "    outputs = model(tokens_tensor, segments_tensor)\n",
    "outputs.keys()"
   ]
  },
  {
   "cell_type": "code",
   "execution_count": null,
   "metadata": {},
   "outputs": [],
   "source": [
    "bert_hidden_states = outputs[-1]\n",
    "len(bert_hidden_states)"
   ]
  },
  {
   "cell_type": "code",
   "execution_count": null,
   "metadata": {},
   "outputs": [],
   "source": [
    "token_embeddings = torch.stack(bert_hidden_states, dim=0)\n",
    "token_embeddings.size()"
   ]
  },
  {
   "cell_type": "code",
   "execution_count": null,
   "metadata": {},
   "outputs": [],
   "source": [
    "#here we have 1 sentence so we remove the batch size\n",
    "token_embeddings = torch.squeeze(token_embeddings, dim=1)\n",
    "token_embeddings.size()"
   ]
  },
  {
   "cell_type": "code",
   "execution_count": null,
   "metadata": {},
   "outputs": [],
   "source": [
    "#swap dim 0 and 1\n",
    "token_embeddings = token_embeddings.permute(1, 0, 2)\n",
    "token_embeddings.size()"
   ]
  },
  {
   "attachments": {},
   "cell_type": "markdown",
   "metadata": {},
   "source": [
    "#### Word Vectors"
   ]
  },
  {
   "cell_type": "code",
   "execution_count": null,
   "metadata": {},
   "outputs": [],
   "source": [
    "#concatenate layers\n",
    "token_vec_cat = []\n",
    "for token in token_embeddings:\n",
    "    cat_vec = torch.cat((token[-1], token[-2], token[-3], token[-4]), dim=0)\n",
    "    token_vec_cat.append(cat_vec)\n",
    "print(\"Shape:\", len(token_vec_cat),\"x\", len(token_vec_cat[0]))"
   ]
  },
  {
   "cell_type": "code",
   "execution_count": null,
   "metadata": {},
   "outputs": [],
   "source": [
    "for i in range(len(token_vec_cat)):\n",
    "    if len(token_vec_cat[i] != 3072):\n",
    "        print(i)\n",
    "        print(len(token_vec_cat[i]))"
   ]
  },
  {
   "cell_type": "code",
   "execution_count": null,
   "metadata": {},
   "outputs": [],
   "source": [
    "test = [token.tolist() for token in token_vec_cat]\n",
    "test = np.array(test)"
   ]
  },
  {
   "cell_type": "code",
   "execution_count": null,
   "metadata": {},
   "outputs": [],
   "source": [
    "test.shape"
   ]
  },
  {
   "cell_type": "code",
   "execution_count": null,
   "metadata": {},
   "outputs": [],
   "source": [
    "#sum layers\n",
    "token_vec_sum = []\n",
    "for token in token_embeddings:\n",
    "    cat_vec = torch.sum(token[-4:], dim=0)\n",
    "    token_vec_sum.append(cat_vec)\n",
    "print(\"Shape:\", len(token_vec_sum),\"x\", len(token_vec_sum[0]))"
   ]
  },
  {
   "attachments": {},
   "cell_type": "markdown",
   "metadata": {},
   "source": [
    "#### Sentence Vectors"
   ]
  },
  {
   "cell_type": "code",
   "execution_count": null,
   "metadata": {},
   "outputs": [],
   "source": [
    "token_vecs = bert_hidden_states[-2][0]\n",
    "sentence_embedding = torch.mean(token_vecs, dim=0)\n",
    "sentence_embedding.size()"
   ]
  },
  {
   "attachments": {},
   "cell_type": "markdown",
   "metadata": {},
   "source": [
    "### Vector Visualization"
   ]
  },
  {
   "cell_type": "code",
   "execution_count": null,
   "metadata": {},
   "outputs": [],
   "source": [
    "from umap import UMAP\n",
    "import plotly.express as px"
   ]
  },
  {
   "cell_type": "code",
   "execution_count": null,
   "metadata": {},
   "outputs": [],
   "source": [
    "umap3D = UMAP(n_components=3, init='random', random_state=0)\n",
    "proj3D = umap3D.fit_transform(test)"
   ]
  },
  {
   "cell_type": "code",
   "execution_count": null,
   "metadata": {},
   "outputs": [],
   "source": [
    "f = px.scatter_3d(proj3D, x=0, y=1, z=2)\n",
    "f.show()"
   ]
  },
  {
   "attachments": {},
   "cell_type": "markdown",
   "metadata": {},
   "source": [
    "### BERT Sentence-level Embedding - Paragraphs "
   ]
  },
  {
   "cell_type": "code",
   "execution_count": null,
   "metadata": {},
   "outputs": [],
   "source": [
    "from transformers import BertTokenizer, BertModel\n",
    "import torch\n",
    "import numpy as np"
   ]
  },
  {
   "cell_type": "code",
   "execution_count": null,
   "metadata": {},
   "outputs": [],
   "source": [
    "model = BertModel.from_pretrained('bert-base-uncased',\n",
    "                                  output_hidden_states=True)\n",
    "tokenizer = BertTokenizer.from_pretrained('bert-base-uncased')"
   ]
  },
  {
   "cell_type": "code",
   "execution_count": null,
   "metadata": {},
   "outputs": [],
   "source": [
    "corpus = \"Wikipedia is a multilingual, free, online encyclopedia written and maintained by a community of volunteers, known as Wikipedians, through open collaboration and using a wiki-based editing system called MediaWiki. Wikipedia is the largest and most-read reference work in history. It is consistently one of the 10 most popular websites ranked by Similarweb and formerly Alexa; as of 2023, Wikipedia was ranked the 5th most popular site in the world according to Semrush. It is hosted by the Wikimedia Foundation, an American non-profit organization funded mainly through donations.\"\n",
    "delimiter=\".\"\n",
    "print(corpus)"
   ]
  },
  {
   "cell_type": "code",
   "execution_count": null,
   "metadata": {},
   "outputs": [],
   "source": [
    "splited = [sentence+delimiter for sentence in corpus.split(\".\")]\n",
    "max_len = max(len(x) for x in splited)\n",
    "\n",
    "input_ids = []\n",
    "attention_masks = []\n",
    "for sentence in splited:\n",
    "    encoded = tokenizer.encode_plus(sentence, \n",
    "                                    add_special_tokens=True,\n",
    "                                    max_length=max_len+1,\n",
    "                                    pad_to_max_length=True,\n",
    "                                    return_attention_mask=True,\n",
    "                                    return_tensors='pt',\n",
    "                                    truncation=True)\n",
    "    input_ids.append(encoded[\"input_ids\"])\n",
    "    attention_masks.append(encoded[\"attention_mask\"])\n",
    "\n",
    "inputs_ids = torch.cat(input_ids, dim=0)\n",
    "attention_masks = torch.cat(attention_masks, dim=0)\n",
    "\n",
    "with torch.no_grad():\n",
    "    output = model(inputs_ids, attention_mask=attention_masks)\n",
    "hidden_state = output.last_hidden_state\n",
    "cls_emb = hidden_state[:,0,:]\n",
    "cls_emb = cls_emb.detach().numpy()\n",
    "np.shape(cls_emb)"
   ]
  },
  {
   "cell_type": "code",
   "execution_count": null,
   "metadata": {},
   "outputs": [],
   "source": [
    "cls_emb"
   ]
  },
  {
   "cell_type": "code",
   "execution_count": null,
   "metadata": {},
   "outputs": [],
   "source": [
    "len(splited)"
   ]
  },
  {
   "attachments": {},
   "cell_type": "markdown",
   "metadata": {},
   "source": [
    "### BERT Word-level Embedding - Paragraphs"
   ]
  },
  {
   "cell_type": "code",
   "execution_count": null,
   "metadata": {},
   "outputs": [],
   "source": [
    "from transformers import BertTokenizer, BertModel\n",
    "import torch\n",
    "from umap import UMAP\n",
    "import plotly.express as px\n",
    "import plotly.graph_objects as go\n",
    "import numpy as np\n",
    "\n",
    "model = BertModel.from_pretrained('bert-base-uncased',\n",
    "                                  output_hidden_states=True)\n",
    "tokenizer = BertTokenizer.from_pretrained('bert-base-uncased')\n",
    "\n",
    "corpus = \"Wikipedia is a multilingual, free, online encyclopedia written and maintained by a community of volunteers, known as Wikipedians, through open collaboration and using a wiki-based editing system called MediaWiki. Wikipedia is the largest and most-read reference work in history. It is consistently one of the 10 most popular websites ranked by Similarweb and formerly Alexa; as of 2023, Wikipedia was ranked the 5th most popular site in the world according to Semrush. It is hosted by the Wikimedia Foundation, an American non-profit organization funded mainly through donations.\"\n",
    "delimiter=\".\"\n",
    "print(corpus)"
   ]
  },
  {
   "cell_type": "code",
   "execution_count": null,
   "metadata": {},
   "outputs": [],
   "source": [
    "len(splited[0])"
   ]
  },
  {
   "cell_type": "code",
   "execution_count": null,
   "metadata": {},
   "outputs": [],
   "source": [
    "input_size = 512 - 1\n",
    "corpusWords = corpus.split(\" \")\n",
    "splited = [\" \".join(corpusWords[i:i+input_size]) for i in range(0, len(corpusWords), input_size)]\n",
    "\n",
    "input_ids = []\n",
    "attention_masks = []\n",
    "for sentence in splited:\n",
    "    encoded = tokenizer.encode_plus(sentence, \n",
    "                                    add_special_tokens=True,\n",
    "                                    max_length=input_size+1,\n",
    "                                    pad_to_max_length=True,\n",
    "                                    return_attention_mask=True,\n",
    "                                    return_tensors='pt',\n",
    "                                    truncation=True)\n",
    "    input_ids.append(encoded[\"input_ids\"])\n",
    "    attention_masks.append(encoded[\"attention_mask\"])\n",
    "\n",
    "#inputs_ids = torch.Tensor(len(input_ids),1, max_len+1)\n",
    "#torch.cat(input_ids, out=inputs_ids)\n",
    "inputs_ids = torch.cat(input_ids, dim=0)\n",
    "attention_masks = torch.cat(attention_masks, dim=0)\n",
    "\n",
    "with torch.no_grad():\n",
    "    output = model(inputs_ids, attention_mask=attention_masks)"
   ]
  },
  {
   "cell_type": "code",
   "execution_count": null,
   "metadata": {},
   "outputs": [],
   "source": [
    "\"\"\"\n",
    "splited = [sentence+delimiter for sentence in corpus.split(\".\")]\n",
    "max_len = max(len(x) for x in splited)\n",
    "\n",
    "input_ids = []\n",
    "attention_masks = []\n",
    "for sentence in splited:\n",
    "    encoded = tokenizer.encode_plus(sentence, \n",
    "                                    add_special_tokens=True,\n",
    "                                    max_length=max_len+1,\n",
    "                                    pad_to_max_length=True,\n",
    "                                    return_attention_mask=True,\n",
    "                                    return_tensors='pt',\n",
    "                                    truncation=True)\n",
    "    input_ids.append(encoded[\"input_ids\"])\n",
    "    attention_masks.append(encoded[\"attention_mask\"])\n",
    "\n",
    "#inputs_ids = torch.Tensor(len(input_ids),1, max_len+1)\n",
    "#torch.cat(input_ids, out=inputs_ids)\n",
    "inputs_ids = torch.cat(input_ids, dim=0)\n",
    "attention_masks = torch.cat(attention_masks, dim=0)\n",
    "\n",
    "with torch.no_grad():\n",
    "    output = model(inputs_ids, attention_mask=attention_masks)\n",
    "\"\"\""
   ]
  },
  {
   "cell_type": "code",
   "execution_count": null,
   "metadata": {},
   "outputs": [],
   "source": [
    "hidden_states = output.hidden_states"
   ]
  },
  {
   "cell_type": "code",
   "execution_count": null,
   "metadata": {},
   "outputs": [],
   "source": [
    "token_embeddings = torch.stack(hidden_states, dim=0)\n",
    "print(token_embeddings.size())\n",
    "#token_embeddings = torch.squeeze(token_embeddings, dim=1)\n",
    "#print(token_embeddings.size())\n"
   ]
  },
  {
   "cell_type": "code",
   "execution_count": null,
   "metadata": {},
   "outputs": [],
   "source": [
    "token_embeddings = token_embeddings.permute(1,2,0,3)\n",
    "print(token_embeddings.size())"
   ]
  },
  {
   "cell_type": "code",
   "execution_count": null,
   "metadata": {},
   "outputs": [],
   "source": [
    "embs = []\n",
    "for batch in token_embeddings:\n",
    "    for token in batch:\n",
    "        emb = torch.cat((token[-1], token[-2], token[-3], token[-4]), dim=0)\n",
    "        embs.append(emb)"
   ]
  },
  {
   "cell_type": "code",
   "execution_count": null,
   "metadata": {},
   "outputs": [],
   "source": [
    "embs[0].size()"
   ]
  },
  {
   "cell_type": "code",
   "execution_count": null,
   "metadata": {},
   "outputs": [],
   "source": [
    "test = [token.tolist() for token in embs]\n",
    "test = np.array(test)"
   ]
  },
  {
   "cell_type": "code",
   "execution_count": null,
   "metadata": {},
   "outputs": [],
   "source": [
    "umap3D = UMAP(n_components=3, init='random', random_state=0)\n",
    "proj3D = umap3D.fit_transform(test).T"
   ]
  },
  {
   "cell_type": "code",
   "execution_count": null,
   "metadata": {},
   "outputs": [],
   "source": [
    "def flatten(l):\n",
    "    return [item for sublist in l for item in sublist]\n",
    "temp = flatten([batch.tolist() for batch in input_ids])\n",
    "labels = np.array(temp)\n",
    "labels = labels.reshape((labels.shape[0]*labels.shape[1]))\n",
    "labels = tokenizer.convert_ids_to_tokens(labels)"
   ]
  },
  {
   "cell_type": "code",
   "execution_count": null,
   "metadata": {},
   "outputs": [],
   "source": [
    "data = {\"x\": proj3D[0],\n",
    "        \"y\": proj3D[1],\n",
    "        \"z\": proj3D[2], \n",
    "        \"labels\": labels}"
   ]
  },
  {
   "cell_type": "code",
   "execution_count": null,
   "metadata": {},
   "outputs": [],
   "source": [
    "token_indexes = [i for i in range(len(labels)) if labels[i] != \"[PAD]\" and labels[i] != \"[CLS]\" and labels[i] != \"[SEP]\"]\n",
    "for k in data.keys():\n",
    "    data[k] = [data[k][i] for i in range(len(data[k])) if i in token_indexes]"
   ]
  },
  {
   "cell_type": "code",
   "execution_count": null,
   "metadata": {},
   "outputs": [],
   "source": [
    "traces = []\n",
    "for i in range(len(data['x'])):\n",
    "    trace = go.Scatter3d(\n",
    "        x=[data['x'][i]],\n",
    "        y=[data['y'][i]],\n",
    "        z=[data['z'][i]],\n",
    "        mode='markers',\n",
    "        marker=dict(size=6),\n",
    "        text=[data['labels'][i]],\n",
    "        name=data['labels'][i]\n",
    "    )\n",
    "    traces.append(trace)\n",
    "\n",
    "# Create layout\n",
    "layout = go.Layout(\n",
    "    title='3D Scatter Plot',\n",
    "    scene=dict(\n",
    "        xaxis=dict(title='X'),\n",
    "        yaxis=dict(title='Y'),\n",
    "        zaxis=dict(title='Z')\n",
    "    )\n",
    ")\n",
    "\n",
    "# Create figure\n",
    "fig = go.Figure(data=traces, layout=layout)\n",
    "\n",
    "# Show the plot\n",
    "fig.show()"
   ]
  },
  {
   "attachments": {},
   "cell_type": "markdown",
   "metadata": {},
   "source": [
    "### BERT Sentence Transformers"
   ]
  },
  {
   "cell_type": "code",
   "execution_count": null,
   "metadata": {},
   "outputs": [],
   "source": [
    "from sentence_transformers import SentenceTransformer\n",
    "model = SentenceTransformer('all-MiniLM-L6-v2')\n",
    "\n",
    "#Our sentences we like to encode\n",
    "sentences = ['This framework generates embeddings for each input sentence',\n",
    "    'Sentences are passed as a list of string.',\n",
    "    'The quick brown fox jumps over the lazy dog.']\n",
    "\n",
    "#Sentences are encoded by calling model.encode()\n",
    "embeddings = model.encode(sentences)\n",
    "\n",
    "#Print the embeddings\n",
    "for sentence, embedding in zip(sentences, embeddings):\n",
    "    print(\"Sentence:\", sentence)\n",
    "    print(\"Embedding:\", embedding)\n",
    "    print(\"\")"
   ]
  },
  {
   "cell_type": "code",
   "execution_count": null,
   "metadata": {},
   "outputs": [],
   "source": [
    "embedding.shape"
   ]
  },
  {
   "attachments": {},
   "cell_type": "markdown",
   "metadata": {},
   "source": [
    "### Embedding a corpus"
   ]
  },
  {
   "cell_type": "code",
   "execution_count": 6,
   "metadata": {},
   "outputs": [],
   "source": [
    "from transformers import BertTokenizer, BertModel\n",
    "import torch\n",
    "from umap import UMAP\n",
    "import plotly.express as px\n",
    "import plotly.graph_objects as go\n",
    "import numpy as np"
   ]
  },
  {
   "cell_type": "code",
   "execution_count": 7,
   "metadata": {},
   "outputs": [
    {
     "name": "stderr",
     "output_type": "stream",
     "text": [
      "Some weights of the model checkpoint at bert-base-uncased were not used when initializing BertModel: ['cls.predictions.bias', 'cls.predictions.decoder.weight', 'cls.predictions.transform.LayerNorm.weight', 'cls.seq_relationship.bias', 'cls.predictions.transform.dense.weight', 'cls.predictions.transform.LayerNorm.bias', 'cls.seq_relationship.weight', 'cls.predictions.transform.dense.bias']\n",
      "- This IS expected if you are initializing BertModel from the checkpoint of a model trained on another task or with another architecture (e.g. initializing a BertForSequenceClassification model from a BertForPreTraining model).\n",
      "- This IS NOT expected if you are initializing BertModel from the checkpoint of a model that you expect to be exactly identical (initializing a BertForSequenceClassification model from a BertForSequenceClassification model).\n"
     ]
    },
    {
     "name": "stdout",
     "output_type": "stream",
     "text": [
      "Wikipedia is a multilingual, free, online encyclopedia written and maintained by a community of volunteers, known as Wikipedians, through open collaboration and using a wiki-based editing system called MediaWiki. Wikipedia is the largest and most-read reference work in history. It is consistently one of the 10 most popular websites ranked by Similarweb and formerly Alexa; as of 2023, Wikipedia was ranked the 5th most popular site in the world according to Semrush. It is hosted by the Wikimedia Foundation, an American non-profit organization funded mainly through donations.\n"
     ]
    }
   ],
   "source": [
    "model = BertModel.from_pretrained('bert-base-uncased',\n",
    "                                  output_hidden_states=True)\n",
    "tokenizer = BertTokenizer.from_pretrained('bert-base-uncased')\n",
    "\n",
    "corpus = \"Wikipedia is a multilingual, free, online encyclopedia written and maintained by a community of volunteers, known as Wikipedians, through open collaboration and using a wiki-based editing system called MediaWiki. Wikipedia is the largest and most-read reference work in history. It is consistently one of the 10 most popular websites ranked by Similarweb and formerly Alexa; as of 2023, Wikipedia was ranked the 5th most popular site in the world according to Semrush. It is hosted by the Wikimedia Foundation, an American non-profit organization funded mainly through donations.\"\n",
    "delimiter=\".\"\n",
    "print(corpus)"
   ]
  },
  {
   "cell_type": "code",
   "execution_count": 8,
   "metadata": {},
   "outputs": [
    {
     "name": "stderr",
     "output_type": "stream",
     "text": [
      "Some weights of the model checkpoint at bert-base-uncased were not used when initializing BertModel: ['cls.predictions.bias', 'cls.predictions.decoder.weight', 'cls.predictions.transform.LayerNorm.weight', 'cls.seq_relationship.bias', 'cls.predictions.transform.dense.weight', 'cls.predictions.transform.LayerNorm.bias', 'cls.seq_relationship.weight', 'cls.predictions.transform.dense.bias']\n",
      "- This IS expected if you are initializing BertModel from the checkpoint of a model trained on another task or with another architecture (e.g. initializing a BertForSequenceClassification model from a BertForPreTraining model).\n",
      "- This IS NOT expected if you are initializing BertModel from the checkpoint of a model that you expect to be exactly identical (initializing a BertForSequenceClassification model from a BertForSequenceClassification model).\n"
     ]
    }
   ],
   "source": [
    "def tokenizeCorpus(corpus, model=BertModel.from_pretrained('bert-base-uncased', \n",
    "                                                           output_hidden_states=True), \n",
    "                           tokenizer = BertTokenizer.from_pretrained('bert-base-uncased'), \n",
    "                           model_input_size=512):\n",
    "    def flatten(l):\n",
    "        return [item for sublist in l for item in sublist]\n",
    "    input_size = model_input_size - 1\n",
    "    corpusWords = corpus.split(\" \")\n",
    "    splited = [\" \".join(corpusWords[i:i+input_size]) for i in range(0, len(corpusWords), input_size)]\n",
    "\n",
    "    input_ids = []\n",
    "    attention_masks = []\n",
    "    for sentence in splited:\n",
    "        encoded = tokenizer.encode_plus(sentence, \n",
    "                                        add_special_tokens=True,\n",
    "                                        max_length=input_size+1,\n",
    "                                        pad_to_max_length=True,\n",
    "                                        return_attention_mask=True,\n",
    "                                        return_tensors='pt',\n",
    "                                        truncation=True)\n",
    "        input_ids.append(encoded[\"input_ids\"])\n",
    "        attention_masks.append(encoded[\"attention_mask\"])\n",
    "\n",
    "    #inputs_ids = torch.Tensor(len(input_ids),1, max_len+1)\n",
    "    #torch.cat(input_ids, out=inputs_ids)\n",
    "    inputs_ids = torch.cat(input_ids, dim=0)\n",
    "    attention_masks = torch.cat(attention_masks, dim=0)\n",
    "    \n",
    "    temp = flatten([batch.tolist() for batch in input_ids])\n",
    "    labels = np.array(temp)\n",
    "    labels = labels.reshape((labels.shape[0]*labels.shape[1]))\n",
    "    labels = tokenizer.convert_ids_to_tokens(labels)\n",
    "    with torch.no_grad():\n",
    "        output = model(inputs_ids, attention_mask=attention_masks)\n",
    "    return output, labels"
   ]
  },
  {
   "cell_type": "code",
   "execution_count": 9,
   "metadata": {},
   "outputs": [],
   "source": [
    "def vectorizeCorpus(model_output, allStates=True):\n",
    "    if allStates==True:\n",
    "        hidden_states = model_output.hidden_states\n",
    "    else:\n",
    "        hidden_states = [model_output.last_hidden_state]\n",
    "    token_embeddings = torch.stack(hidden_states, dim=0)\n",
    "    token_embeddings = token_embeddings.permute(1,2,0,3)\n",
    "    embs = []\n",
    "    for batch in token_embeddings:\n",
    "        for token in batch:\n",
    "            emb = torch.cat((token[-1], token[-2], token[-3], token[-4]), dim=0)\n",
    "            embs.append(emb)\n",
    "    return embs"
   ]
  },
  {
   "cell_type": "code",
   "execution_count": 10,
   "metadata": {},
   "outputs": [],
   "source": [
    "def visualizeCorpus(embs, labels):\n",
    "    \n",
    "    formated_embs = [token.tolist() for token in embs]\n",
    "    formated_embs = np.array(formated_embs)\n",
    "    umap3D = UMAP(n_components=3, init='random', random_state=0)\n",
    "    proj3D = umap3D.fit_transform(formated_embs).T\n",
    "\n",
    "    data = {\"x\": proj3D[0],\n",
    "            \"y\": proj3D[1],\n",
    "            \"z\": proj3D[2], \n",
    "            \"labels\": labels}\n",
    "    \n",
    "    token_indexes = [i for i in range(len(labels)) if labels[i] != \"[PAD]\" and labels[i] != \"[CLS]\" and labels[i] != \"[SEP]\"]\n",
    "    for k in data.keys():\n",
    "        data[k] = [data[k][i] for i in range(len(data[k])) if i in token_indexes]\n",
    "\n",
    "    traces = []\n",
    "    for i in range(len(data['x'])):\n",
    "        trace = go.Scatter3d(\n",
    "            x=[data['x'][i]],\n",
    "            y=[data['y'][i]],\n",
    "            z=[data['z'][i]],\n",
    "            mode='markers',\n",
    "            marker=dict(size=6),\n",
    "            text=[data['labels'][i]],\n",
    "            name=data['labels'][i]\n",
    "        )\n",
    "        traces.append(trace)\n",
    "\n",
    "    # Create layout\n",
    "    layout = go.Layout(\n",
    "        title='3D Scatter Plot',\n",
    "        scene=dict(\n",
    "            xaxis=dict(title='X'),\n",
    "            yaxis=dict(title='Y'),\n",
    "            zaxis=dict(title='Z')\n",
    "        )\n",
    "    )\n",
    "\n",
    "    # Create figure\n",
    "    fig = go.Figure(data=traces, layout=layout)\n",
    "\n",
    "    # Show the plot\n",
    "    fig.show()"
   ]
  },
  {
   "cell_type": "code",
   "execution_count": null,
   "metadata": {},
   "outputs": [],
   "source": [
    "o, l = tokenizeCorpus(corpus)\n",
    "v = vectorizeCorpus(o)\n",
    "visualizeCorpus(v, l)"
   ]
  },
  {
   "attachments": {},
   "cell_type": "markdown",
   "metadata": {},
   "source": [
    "### Test on billsum"
   ]
  },
  {
   "cell_type": "code",
   "execution_count": 2,
   "metadata": {},
   "outputs": [],
   "source": [
    "import pandas as pd"
   ]
  },
  {
   "cell_type": "code",
   "execution_count": 3,
   "metadata": {},
   "outputs": [],
   "source": [
    "dataset_url=\"https://drive.google.com/file/d/1Wd0M3qepNF6B4YwFYrpo7CaSERpudAG_/view?usp=share_link\"\n",
    "dataset_url='https://drive.google.com/uc?export=download&id=' + dataset_url.split('/')[-2]\n",
    "dataset = pd.read_json(dataset_url, lines=True)\n",
    "dataset = dataset.loc[:, [\"text\", \"summary\"]]"
   ]
  },
  {
   "cell_type": "code",
   "execution_count": 4,
   "metadata": {},
   "outputs": [
    {
     "name": "stdout",
     "output_type": "stream",
     "text": [
      "SECTION 1. SHORT TITLE.\n",
      "\n",
      "    This Act may be cited as the ``National Science Education Tax \n",
      "Incentive for Businesses Act of 2007''.\n",
      "\n",
      "SEC. 2. CREDITS FOR CERTAIN CONTRIBUTIONS BENEFITING SCIENCE, \n",
      "              TECHNOLOGY, ENGINEERING, AND MATHEMATICS EDUCATION AT THE \n",
      "              ELEMENTARY AND SECONDARY SCHOOL LEVEL.\n",
      "\n",
      "    (a) In General.--Subpart D of part IV of subchapter A of chapter 1 \n",
      "of the Internal Revenue Code of 1986 (relating to business related \n",
      "credits) is amended by adding at the end the following new section:\n",
      "\n",
      "``SEC. 45O. CONTRIBUTIONS BENEFITING SCIENCE, TECHNOLOGY, ENGINEERING, \n",
      "              AND MATHEMATICS EDUCATION AT THE ELEMENTARY AND SECONDARY \n",
      "              SCHOOL LEVEL.\n",
      "\n",
      "    ``(a) In General.--For purposes of section 38, the elementary and \n",
      "secondary science, technology, engineering, and mathematics (STEM) \n",
      "contributions credit determined under this section for the taxable year \n",
      "is an amount equal to 100 percent of the qualified STEM contributions \n",
      "of the taxpayer for such taxable year.\n",
      "    ``(b) Qualified STEM Contributions.--For purposes of this section, \n",
      "the term `qualified STEM contributions' means--\n",
      "            ``(1) STEM school contributions,\n",
      "            ``(2) STEM teacher externship expenses, and\n",
      "            ``(3) STEM teacher training expenses.\n",
      "    ``(c) STEM School Contributions.--For purposes of this section--\n",
      "            ``(1) In general.--The term `STEM school contributions' \n",
      "        means--\n",
      "                    ``(A) STEM property contributions, and\n",
      "                    ``(B) STEM service contributions.\n",
      "            ``(2) STEM property contributions.--The term `STEM property \n",
      "        contributions' means the amount which would (but for subsection \n",
      "        (f)) be allowed as a deduction under section 170 for a \n",
      "        charitable contribution of STEM inventory property if--\n",
      "                    ``(A) the donee is an elementary or secondary \n",
      "                school described in section 170(b)(1)(A)(ii),\n",
      "                    ``(B) substantially all of the use of the property \n",
      "                by the donee is within the United States or within the \n",
      "                defense dependents' education system for educational \n",
      "                purposes in any of the grades K-12 that are related to \n",
      "                the purpose or function of the donee,\n",
      "                    ``(C) the original use of the property begins with \n",
      "                the donee,\n",
      "                    ``(D) the property will fit productively into the \n",
      "                donee's education plan,\n",
      "                    ``(E) the property is not transferred by the donee \n",
      "                in exchange for money, other property, or services, \n",
      "                except for shipping, installation and transfer costs, \n",
      "                and\n",
      "                    ``(F) the donee's use and disposition of the \n",
      "                property will be in accordance with the provisions of \n",
      "                subparagraphs (B) and (E).\n",
      "        The determination of the amount of deduction under section 170 \n",
      "        for purposes of this paragraph shall be made as if the \n",
      "        limitation under section 170(e)(3)(B) applied to all STEM \n",
      "        inventory property.\n",
      "            ``(3) STEM service contributions.--The term `STEM service \n",
      "        contributions' means the amount paid or incurred during the \n",
      "        taxable year for STEM services provided in the United States or \n",
      "        in the defense dependents' education system for the exclusive \n",
      "        benefit of students at an elementary or secondary school \n",
      "        described in section 170(b)(1)(A)(ii) but only if--\n",
      "                    ``(A) the taxpayer is engaged in the trade or \n",
      "                business of providing such services on a commercial \n",
      "                basis, and\n",
      "                    ``(B) no charge is imposed for providing such \n",
      "                services.\n",
      "            ``(4) STEM inventory property.--The term `STEM inventory \n",
      "        property' means, with respect to any contribution to a school, \n",
      "        any property--\n",
      "                    ``(A) which is described in paragraph (1) or (2) of \n",
      "                section 1221(a) with respect to the donor, and\n",
      "                    ``(B) which is determined by the school to be \n",
      "                needed by the school in providing education in grades \n",
      "                K-12 in the areas of science, technology, engineering, \n",
      "                or mathematics.\n",
      "            ``(5) STEM services.--The term `STEM services' means, with \n",
      "        respect to any contribution to a school, any service determined \n",
      "        by the school to be needed by the school in providing education \n",
      "        in grades K-12 in the areas of science, technology, \n",
      "        engineering, or mathematics, including teaching courses of \n",
      "        instruction at such school in any such area.\n",
      "            ``(6) Defense dependents' education system.--For purposes \n",
      "        of this subsection, the term `defense dependents' education \n",
      "        system' means the program established and operated under the \n",
      "        Defense Dependents' Education Act of 1978 (20 U.S.C. 921 et \n",
      "        seq.).\n",
      "    ``(d) STEM Teacher Externship Expenses.--For purposes of this \n",
      "section--\n",
      "            ``(1) In general.--The term `STEM teacher externship \n",
      "        expenses' means any amount paid or incurred to carry out a STEM \n",
      "        externship program of the taxpayer but only to the extent that \n",
      "        such amount is attributable to the participation in such \n",
      "        program of any eligible STEM teacher, including amounts paid to \n",
      "        such a teacher as a stipend while participating in such \n",
      "        program.\n",
      "            ``(2) STEM externship program.--The term `STEM externship \n",
      "        program' means any program--\n",
      "                    ``(A) established by a taxpayer engaged in a trade \n",
      "                or business within an area of science, technology, \n",
      "                engineering, or mathematics, and\n",
      "                    ``(B) under which eligible STEM teachers receive \n",
      "                training to enhance their teaching skills in the areas \n",
      "                of science, technology, engineering, or mathematics or \n",
      "                otherwise improve their knowledge in such areas.\n",
      "            ``(3) Eligible stem teacher.--The term `eligible STEM \n",
      "        teacher' means any individual--\n",
      "                    ``(A) who is a teacher in grades K-12 at an \n",
      "                educational organization described in section \n",
      "                170(b)(1)(A)(ii) which is located in the United States \n",
      "                or which is located on a United States military base \n",
      "                outside the United States, and\n",
      "                    ``(B) whose teaching responsibilities at such \n",
      "                school include, or are likely to include, any course in \n",
      "                the areas of science, technology, engineering, or \n",
      "                mathematics.\n",
      "    ``(e) STEM Teacher Training Expenses.--The term `STEM teacher \n",
      "training expenses' means any amount paid or incurred by a taxpayer \n",
      "engaged in a trade or business within an area of science, technology, \n",
      "engineering, or mathematics which is attributable to the participation \n",
      "of any eligible STEM teacher in a regular training program provided to \n",
      "employees of the taxpayer which is determined by such teacher's school \n",
      "as enhancing such teacher's teaching skills in the areas of science, \n",
      "technology, engineering, or mathematics.\n",
      "    ``(f) Denial of Double Benefit.--No deduction shall be allowed \n",
      "under this chapter for any amount allowed as a credit under this \n",
      "section.''.\n",
      "    (b) Conforming Amendments.--\n",
      "            (1) Section 38(b) of such Code is amended by striking \n",
      "        ``plus'' at the end of paragraph (30), by striking the period \n",
      "        at the end of paragraph (31), and inserting ``, plus'', and by \n",
      "        adding at the end the following new paragraph:\n",
      "            ``(32) the elementary and secondary science, technology, \n",
      "        engineering, and mathematics (STEM) contributions credit \n",
      "        determined under section 45O.''.\n",
      "            (2) The table of sections for subpart D of part IV of \n",
      "        subchapter A of chapter 1 of such Code is amended by adding at \n",
      "        the end the following new item:\n",
      "\n",
      "``Sec. 45O. Contributions benefiting science, technology, engineering, \n",
      "                            and mathematics education at the elementary \n",
      "                            and secondary school level.''.\n",
      "    (c) Effective Date.--The amendments made by this section shall \n",
      "apply to taxable years beginning after the date of the enactment of \n",
      "this Act.\n"
     ]
    }
   ],
   "source": [
    "elem0 = dataset.iloc[0, 0]\n",
    "print(elem0)"
   ]
  },
  {
   "cell_type": "code",
   "execution_count": 11,
   "metadata": {},
   "outputs": [
    {
     "name": "stderr",
     "output_type": "stream",
     "text": [
      "c:\\Pro\\Stages\\A4 - DVRC\\Work\\Supervised-Learning-using-Unsupervised-Learning-Metrics-in-the-absence-of-Annotated-Data\\.venv\\Lib\\site-packages\\transformers\\tokenization_utils_base.py:2354: FutureWarning: The `pad_to_max_length` argument is deprecated and will be removed in a future version, use `padding=True` or `padding='longest'` to pad to the longest sequence in the batch, or use `padding='max_length'` to pad to a max length. In this case, you can give a specific length with `max_length` (e.g. `max_length=45`) or leave max_length to None to pad to the maximal input size of the model (e.g. 512 for Bert).\n",
      "  warnings.warn(\n"
     ]
    },
    {
     "data": {
      "application/vnd.plotly.v1+json": {
       "config": {
        "plotlyServerURL": "https://plot.ly"
       },
       "data": [
        {
         "marker": {
          "size": 6
         },
         "mode": "markers",
         "name": "section",
         "text": [
          "section"
         ],
         "type": "scatter3d",
         "x": [
          3.110178232192993
         ],
         "y": [
          8.309202194213867
         ],
         "z": [
          6.361584663391113
         ]
        },
        {
         "marker": {
          "size": 6
         },
         "mode": "markers",
         "name": "1",
         "text": [
          "1"
         ],
         "type": "scatter3d",
         "x": [
          3.661283493041992
         ],
         "y": [
          10.139748573303223
         ],
         "z": [
          5.169515609741211
         ]
        },
        {
         "marker": {
          "size": 6
         },
         "mode": "markers",
         "name": ".",
         "text": [
          "."
         ],
         "type": "scatter3d",
         "x": [
          -2.306434154510498
         ],
         "y": [
          6.661171913146973
         ],
         "z": [
          2.644562244415283
         ]
        },
        {
         "marker": {
          "size": 6
         },
         "mode": "markers",
         "name": "short",
         "text": [
          "short"
         ],
         "type": "scatter3d",
         "x": [
          2.9701664447784424
         ],
         "y": [
          7.722471237182617
         ],
         "z": [
          6.827713966369629
         ]
        },
        {
         "marker": {
          "size": 6
         },
         "mode": "markers",
         "name": "title",
         "text": [
          "title"
         ],
         "type": "scatter3d",
         "x": [
          2.9924139976501465
         ],
         "y": [
          7.90117883682251
         ],
         "z": [
          6.757568359375
         ]
        },
        {
         "marker": {
          "size": 6
         },
         "mode": "markers",
         "name": ".",
         "text": [
          "."
         ],
         "type": "scatter3d",
         "x": [
          -2.340553045272827
         ],
         "y": [
          6.620670318603516
         ],
         "z": [
          2.6873209476470947
         ]
        },
        {
         "marker": {
          "size": 6
         },
         "mode": "markers",
         "name": "this",
         "text": [
          "this"
         ],
         "type": "scatter3d",
         "x": [
          1.6260476112365723
         ],
         "y": [
          8.244215965270996
         ],
         "z": [
          7.44641637802124
         ]
        },
        {
         "marker": {
          "size": 6
         },
         "mode": "markers",
         "name": "act",
         "text": [
          "act"
         ],
         "type": "scatter3d",
         "x": [
          2.9320883750915527
         ],
         "y": [
          8.354187965393066
         ],
         "z": [
          6.648639678955078
         ]
        },
        {
         "marker": {
          "size": 6
         },
         "mode": "markers",
         "name": "may",
         "text": [
          "may"
         ],
         "type": "scatter3d",
         "x": [
          3.084033250808716
         ],
         "y": [
          7.821915626525879
         ],
         "z": [
          8.631453514099121
         ]
        },
        {
         "marker": {
          "size": 6
         },
         "mode": "markers",
         "name": "be",
         "text": [
          "be"
         ],
         "type": "scatter3d",
         "x": [
          3.0635643005371094
         ],
         "y": [
          7.85746955871582
         ],
         "z": [
          8.355273246765137
         ]
        },
        {
         "marker": {
          "size": 6
         },
         "mode": "markers",
         "name": "cited",
         "text": [
          "cited"
         ],
         "type": "scatter3d",
         "x": [
          3.0230329036712646
         ],
         "y": [
          7.939669132232666
         ],
         "z": [
          8.07137393951416
         ]
        },
        {
         "marker": {
          "size": 6
         },
         "mode": "markers",
         "name": "as",
         "text": [
          "as"
         ],
         "type": "scatter3d",
         "x": [
          3.142706871032715
         ],
         "y": [
          7.894162654876709
         ],
         "z": [
          8.143613815307617
         ]
        },
        {
         "marker": {
          "size": 6
         },
         "mode": "markers",
         "name": "the",
         "text": [
          "the"
         ],
         "type": "scatter3d",
         "x": [
          3.0287394523620605
         ],
         "y": [
          7.882911682128906
         ],
         "z": [
          7.992875099182129
         ]
        },
        {
         "marker": {
          "size": 6
         },
         "mode": "markers",
         "name": "`",
         "text": [
          "`"
         ],
         "type": "scatter3d",
         "x": [
          -4.704071044921875
         ],
         "y": [
          -0.7584522366523743
         ],
         "z": [
          -0.9348016977310181
         ]
        },
        {
         "marker": {
          "size": 6
         },
         "mode": "markers",
         "name": "`",
         "text": [
          "`"
         ],
         "type": "scatter3d",
         "x": [
          -4.7014899253845215
         ],
         "y": [
          -0.5782274007797241
         ],
         "z": [
          -0.9419614672660828
         ]
        },
        {
         "marker": {
          "size": 6
         },
         "mode": "markers",
         "name": "national",
         "text": [
          "national"
         ],
         "type": "scatter3d",
         "x": [
          2.8323287963867188
         ],
         "y": [
          6.714926242828369
         ],
         "z": [
          7.344762802124023
         ]
        },
        {
         "marker": {
          "size": 6
         },
         "mode": "markers",
         "name": "science",
         "text": [
          "science"
         ],
         "type": "scatter3d",
         "x": [
          5.378066539764404
         ],
         "y": [
          16.328123092651367
         ],
         "z": [
          9.902313232421875
         ]
        },
        {
         "marker": {
          "size": 6
         },
         "mode": "markers",
         "name": "education",
         "text": [
          "education"
         ],
         "type": "scatter3d",
         "x": [
          6.1233391761779785
         ],
         "y": [
          7.43015718460083
         ],
         "z": [
          11.7262601852417
         ]
        },
        {
         "marker": {
          "size": 6
         },
         "mode": "markers",
         "name": "tax",
         "text": [
          "tax"
         ],
         "type": "scatter3d",
         "x": [
          3.7143731117248535
         ],
         "y": [
          6.455600738525391
         ],
         "z": [
          7.670410633087158
         ]
        },
        {
         "marker": {
          "size": 6
         },
         "mode": "markers",
         "name": "incentive",
         "text": [
          "incentive"
         ],
         "type": "scatter3d",
         "x": [
          4.221773624420166
         ],
         "y": [
          6.6894755363464355
         ],
         "z": [
          8.366632461547852
         ]
        },
        {
         "marker": {
          "size": 6
         },
         "mode": "markers",
         "name": "for",
         "text": [
          "for"
         ],
         "type": "scatter3d",
         "x": [
          3.585146188735962
         ],
         "y": [
          6.3807573318481445
         ],
         "z": [
          9.308380126953125
         ]
        },
        {
         "marker": {
          "size": 6
         },
         "mode": "markers",
         "name": "businesses",
         "text": [
          "businesses"
         ],
         "type": "scatter3d",
         "x": [
          5.19952917098999
         ],
         "y": [
          7.297506332397461
         ],
         "z": [
          10.04129409790039
         ]
        },
        {
         "marker": {
          "size": 6
         },
         "mode": "markers",
         "name": "act",
         "text": [
          "act"
         ],
         "type": "scatter3d",
         "x": [
          2.9553816318511963
         ],
         "y": [
          8.328857421875
         ],
         "z": [
          6.744966983795166
         ]
        },
        {
         "marker": {
          "size": 6
         },
         "mode": "markers",
         "name": "of",
         "text": [
          "of"
         ],
         "type": "scatter3d",
         "x": [
          3.1495771408081055
         ],
         "y": [
          8.164335250854492
         ],
         "z": [
          7.104925632476807
         ]
        },
        {
         "marker": {
          "size": 6
         },
         "mode": "markers",
         "name": "2007",
         "text": [
          "2007"
         ],
         "type": "scatter3d",
         "x": [
          2.696906566619873
         ],
         "y": [
          6.660741329193115
         ],
         "z": [
          7.348888874053955
         ]
        },
        {
         "marker": {
          "size": 6
         },
         "mode": "markers",
         "name": "'",
         "text": [
          "'"
         ],
         "type": "scatter3d",
         "x": [
          3.108182907104492
         ],
         "y": [
          6.127474308013916
         ],
         "z": [
          14.87649154663086
         ]
        },
        {
         "marker": {
          "size": 6
         },
         "mode": "markers",
         "name": "'",
         "text": [
          "'"
         ],
         "type": "scatter3d",
         "x": [
          3.1266603469848633
         ],
         "y": [
          6.138008117675781
         ],
         "z": [
          14.8713960647583
         ]
        },
        {
         "marker": {
          "size": 6
         },
         "mode": "markers",
         "name": ".",
         "text": [
          "."
         ],
         "type": "scatter3d",
         "x": [
          -2.28963041305542
         ],
         "y": [
          6.679527759552002
         ],
         "z": [
          2.6287941932678223
         ]
        },
        {
         "marker": {
          "size": 6
         },
         "mode": "markers",
         "name": "sec",
         "text": [
          "sec"
         ],
         "type": "scatter3d",
         "x": [
          3.0519440174102783
         ],
         "y": [
          8.468140602111816
         ],
         "z": [
          6.21762752532959
         ]
        },
        {
         "marker": {
          "size": 6
         },
         "mode": "markers",
         "name": ".",
         "text": [
          "."
         ],
         "type": "scatter3d",
         "x": [
          -2.276153087615967
         ],
         "y": [
          6.610581398010254
         ],
         "z": [
          2.718301296234131
         ]
        },
        {
         "marker": {
          "size": 6
         },
         "mode": "markers",
         "name": "2",
         "text": [
          "2"
         ],
         "type": "scatter3d",
         "x": [
          3.7435479164123535
         ],
         "y": [
          10.357818603515625
         ],
         "z": [
          4.943861961364746
         ]
        },
        {
         "marker": {
          "size": 6
         },
         "mode": "markers",
         "name": ".",
         "text": [
          "."
         ],
         "type": "scatter3d",
         "x": [
          -2.324415922164917
         ],
         "y": [
          6.637846946716309
         ],
         "z": [
          2.6635289192199707
         ]
        },
        {
         "marker": {
          "size": 6
         },
         "mode": "markers",
         "name": "credits",
         "text": [
          "credits"
         ],
         "type": "scatter3d",
         "x": [
          4.303718566894531
         ],
         "y": [
          6.733639240264893
         ],
         "z": [
          8.444686889648438
         ]
        },
        {
         "marker": {
          "size": 6
         },
         "mode": "markers",
         "name": "for",
         "text": [
          "for"
         ],
         "type": "scatter3d",
         "x": [
          3.7740917205810547
         ],
         "y": [
          6.297168254852295
         ],
         "z": [
          9.25515365600586
         ]
        },
        {
         "marker": {
          "size": 6
         },
         "mode": "markers",
         "name": "certain",
         "text": [
          "certain"
         ],
         "type": "scatter3d",
         "x": [
          2.3426332473754883
         ],
         "y": [
          6.564050197601318
         ],
         "z": [
          9.572155952453613
         ]
        },
        {
         "marker": {
          "size": 6
         },
         "mode": "markers",
         "name": "contributions",
         "text": [
          "contributions"
         ],
         "type": "scatter3d",
         "x": [
          5.919111251831055
         ],
         "y": [
          6.617110252380371
         ],
         "z": [
          8.986766815185547
         ]
        },
        {
         "marker": {
          "size": 6
         },
         "mode": "markers",
         "name": "benefit",
         "text": [
          "benefit"
         ],
         "type": "scatter3d",
         "x": [
          4.598423957824707
         ],
         "y": [
          6.952343940734863
         ],
         "z": [
          9.761831283569336
         ]
        },
        {
         "marker": {
          "size": 6
         },
         "mode": "markers",
         "name": "##ing",
         "text": [
          "##ing"
         ],
         "type": "scatter3d",
         "x": [
          4.252038955688477
         ],
         "y": [
          7.156062126159668
         ],
         "z": [
          10.26756477355957
         ]
        },
        {
         "marker": {
          "size": 6
         },
         "mode": "markers",
         "name": "science",
         "text": [
          "science"
         ],
         "type": "scatter3d",
         "x": [
          5.386144638061523
         ],
         "y": [
          16.35580062866211
         ],
         "z": [
          9.92092514038086
         ]
        },
        {
         "marker": {
          "size": 6
         },
         "mode": "markers",
         "name": ",",
         "text": [
          ","
         ],
         "type": "scatter3d",
         "x": [
          2.925180196762085
         ],
         "y": [
          1.4948844909667969
         ],
         "z": [
          7.96904993057251
         ]
        },
        {
         "marker": {
          "size": 6
         },
         "mode": "markers",
         "name": "technology",
         "text": [
          "technology"
         ],
         "type": "scatter3d",
         "x": [
          5.179886341094971
         ],
         "y": [
          17.077598571777344
         ],
         "z": [
          10.402521133422852
         ]
        },
        {
         "marker": {
          "size": 6
         },
         "mode": "markers",
         "name": ",",
         "text": [
          ","
         ],
         "type": "scatter3d",
         "x": [
          2.931040048599243
         ],
         "y": [
          1.4908121824264526
         ],
         "z": [
          7.992427825927734
         ]
        },
        {
         "marker": {
          "size": 6
         },
         "mode": "markers",
         "name": "engineering",
         "text": [
          "engineering"
         ],
         "type": "scatter3d",
         "x": [
          3.9611763954162598
         ],
         "y": [
          16.4017333984375
         ],
         "z": [
          9.784749031066895
         ]
        },
        {
         "marker": {
          "size": 6
         },
         "mode": "markers",
         "name": ",",
         "text": [
          ","
         ],
         "type": "scatter3d",
         "x": [
          1.5601140260696411
         ],
         "y": [
          4.4350056648254395
         ],
         "z": [
          6.749154567718506
         ]
        },
        {
         "marker": {
          "size": 6
         },
         "mode": "markers",
         "name": "and",
         "text": [
          "and"
         ],
         "type": "scatter3d",
         "x": [
          2.3528013229370117
         ],
         "y": [
          2.174504041671753
         ],
         "z": [
          8.055840492248535
         ]
        },
        {
         "marker": {
          "size": 6
         },
         "mode": "markers",
         "name": "mathematics",
         "text": [
          "mathematics"
         ],
         "type": "scatter3d",
         "x": [
          -4.699807167053223
         ],
         "y": [
          12.592032432556152
         ],
         "z": [
          12.332039833068848
         ]
        },
        {
         "marker": {
          "size": 6
         },
         "mode": "markers",
         "name": "education",
         "text": [
          "education"
         ],
         "type": "scatter3d",
         "x": [
          6.090257167816162
         ],
         "y": [
          7.4490814208984375
         ],
         "z": [
          11.714581489562988
         ]
        },
        {
         "marker": {
          "size": 6
         },
         "mode": "markers",
         "name": "at",
         "text": [
          "at"
         ],
         "type": "scatter3d",
         "x": [
          4.028202533721924
         ],
         "y": [
          8.48680591583252
         ],
         "z": [
          10.358355522155762
         ]
        },
        {
         "marker": {
          "size": 6
         },
         "mode": "markers",
         "name": "the",
         "text": [
          "the"
         ],
         "type": "scatter3d",
         "x": [
          3.634751796722412
         ],
         "y": [
          8.001152038574219
         ],
         "z": [
          10.6465425491333
         ]
        },
        {
         "marker": {
          "size": 6
         },
         "mode": "markers",
         "name": "elementary",
         "text": [
          "elementary"
         ],
         "type": "scatter3d",
         "x": [
          6.2695136070251465
         ],
         "y": [
          8.39880657196045
         ],
         "z": [
          12.721546173095703
         ]
        },
        {
         "marker": {
          "size": 6
         },
         "mode": "markers",
         "name": "and",
         "text": [
          "and"
         ],
         "type": "scatter3d",
         "x": [
          2.2765207290649414
         ],
         "y": [
          2.293290615081787
         ],
         "z": [
          7.993074417114258
         ]
        },
        {
         "marker": {
          "size": 6
         },
         "mode": "markers",
         "name": "secondary",
         "text": [
          "secondary"
         ],
         "type": "scatter3d",
         "x": [
          6.301210880279541
         ],
         "y": [
          8.438194274902344
         ],
         "z": [
          12.758393287658691
         ]
        },
        {
         "marker": {
          "size": 6
         },
         "mode": "markers",
         "name": "school",
         "text": [
          "school"
         ],
         "type": "scatter3d",
         "x": [
          5.998301029205322
         ],
         "y": [
          7.69246768951416
         ],
         "z": [
          12.020686149597168
         ]
        },
        {
         "marker": {
          "size": 6
         },
         "mode": "markers",
         "name": "level",
         "text": [
          "level"
         ],
         "type": "scatter3d",
         "x": [
          5.722246170043945
         ],
         "y": [
          7.814722537994385
         ],
         "z": [
          11.713353157043457
         ]
        },
        {
         "marker": {
          "size": 6
         },
         "mode": "markers",
         "name": ".",
         "text": [
          "."
         ],
         "type": "scatter3d",
         "x": [
          -2.2333180904388428
         ],
         "y": [
          6.742517948150635
         ],
         "z": [
          2.5681214332580566
         ]
        },
        {
         "marker": {
          "size": 6
         },
         "mode": "markers",
         "name": "(",
         "text": [
          "("
         ],
         "type": "scatter3d",
         "x": [
          -3.0866806507110596
         ],
         "y": [
          9.239916801452637
         ],
         "z": [
          -5.884426116943359
         ]
        },
        {
         "marker": {
          "size": 6
         },
         "mode": "markers",
         "name": "a",
         "text": [
          "a"
         ],
         "type": "scatter3d",
         "x": [
          4.2713212966918945
         ],
         "y": [
          10.598132133483887
         ],
         "z": [
          4.902985095977783
         ]
        },
        {
         "marker": {
          "size": 6
         },
         "mode": "markers",
         "name": ")",
         "text": [
          ")"
         ],
         "type": "scatter3d",
         "x": [
          5.5942230224609375
         ],
         "y": [
          13.185714721679688
         ],
         "z": [
          -5.819730758666992
         ]
        },
        {
         "marker": {
          "size": 6
         },
         "mode": "markers",
         "name": "in",
         "text": [
          "in"
         ],
         "type": "scatter3d",
         "x": [
          4.197508811950684
         ],
         "y": [
          8.298410415649414
         ],
         "z": [
          10.154696464538574
         ]
        },
        {
         "marker": {
          "size": 6
         },
         "mode": "markers",
         "name": "general",
         "text": [
          "general"
         ],
         "type": "scatter3d",
         "x": [
          2.7699995040893555
         ],
         "y": [
          6.578982353210449
         ],
         "z": [
          7.1580119132995605
         ]
        },
        {
         "marker": {
          "size": 6
         },
         "mode": "markers",
         "name": ".",
         "text": [
          "."
         ],
         "type": "scatter3d",
         "x": [
          -2.244798183441162
         ],
         "y": [
          6.727660179138184
         ],
         "z": [
          2.5832815170288086
         ]
        },
        {
         "marker": {
          "size": 6
         },
         "mode": "markers",
         "name": "-",
         "text": [
          "-"
         ],
         "type": "scatter3d",
         "x": [
          6.146259784698486
         ],
         "y": [
          -3.7927730083465576
         ],
         "z": [
          15.421974182128906
         ]
        },
        {
         "marker": {
          "size": 6
         },
         "mode": "markers",
         "name": "-",
         "text": [
          "-"
         ],
         "type": "scatter3d",
         "x": [
          2.7783985137939453
         ],
         "y": [
          -2.9446964263916016
         ],
         "z": [
          -6.309182167053223
         ]
        },
        {
         "marker": {
          "size": 6
         },
         "mode": "markers",
         "name": "sub",
         "text": [
          "sub"
         ],
         "type": "scatter3d",
         "x": [
          3.063873291015625
         ],
         "y": [
          7.851465225219727
         ],
         "z": [
          6.5982747077941895
         ]
        },
        {
         "marker": {
          "size": 6
         },
         "mode": "markers",
         "name": "##par",
         "text": [
          "##par"
         ],
         "type": "scatter3d",
         "x": [
          3.0654220581054688
         ],
         "y": [
          7.643178462982178
         ],
         "z": [
          6.741994857788086
         ]
        },
        {
         "marker": {
          "size": 6
         },
         "mode": "markers",
         "name": "##t",
         "text": [
          "##t"
         ],
         "type": "scatter3d",
         "x": [
          3.1521246433258057
         ],
         "y": [
          7.91445779800415
         ],
         "z": [
          6.673479080200195
         ]
        },
        {
         "marker": {
          "size": 6
         },
         "mode": "markers",
         "name": "d",
         "text": [
          "d"
         ],
         "type": "scatter3d",
         "x": [
          3.8847315311431885
         ],
         "y": [
          10.072690963745117
         ],
         "z": [
          5.280797004699707
         ]
        },
        {
         "marker": {
          "size": 6
         },
         "mode": "markers",
         "name": "of",
         "text": [
          "of"
         ],
         "type": "scatter3d",
         "x": [
          3.2700936794281006
         ],
         "y": [
          8.096314430236816
         ],
         "z": [
          7.272632598876953
         ]
        },
        {
         "marker": {
          "size": 6
         },
         "mode": "markers",
         "name": "part",
         "text": [
          "part"
         ],
         "type": "scatter3d",
         "x": [
          3.117537021636963
         ],
         "y": [
          8.08541488647461
         ],
         "z": [
          6.432331562042236
         ]
        },
        {
         "marker": {
          "size": 6
         },
         "mode": "markers",
         "name": "iv",
         "text": [
          "iv"
         ],
         "type": "scatter3d",
         "x": [
          3.8508050441741943
         ],
         "y": [
          10.009862899780273
         ],
         "z": [
          5.340652942657471
         ]
        },
        {
         "marker": {
          "size": 6
         },
         "mode": "markers",
         "name": "of",
         "text": [
          "of"
         ],
         "type": "scatter3d",
         "x": [
          3.2480738162994385
         ],
         "y": [
          8.103022575378418
         ],
         "z": [
          7.230164051055908
         ]
        },
        {
         "marker": {
          "size": 6
         },
         "mode": "markers",
         "name": "sub",
         "text": [
          "sub"
         ],
         "type": "scatter3d",
         "x": [
          3.1077404022216797
         ],
         "y": [
          7.816043853759766
         ],
         "z": [
          6.636717796325684
         ]
        },
        {
         "marker": {
          "size": 6
         },
         "mode": "markers",
         "name": "##cha",
         "text": [
          "##cha"
         ],
         "type": "scatter3d",
         "x": [
          2.946357011795044
         ],
         "y": [
          7.1291303634643555
         ],
         "z": [
          6.979333400726318
         ]
        },
        {
         "marker": {
          "size": 6
         },
         "mode": "markers",
         "name": "##pt",
         "text": [
          "##pt"
         ],
         "type": "scatter3d",
         "x": [
          2.9743752479553223
         ],
         "y": [
          7.198620796203613
         ],
         "z": [
          6.920560359954834
         ]
        },
        {
         "marker": {
          "size": 6
         },
         "mode": "markers",
         "name": "##er",
         "text": [
          "##er"
         ],
         "type": "scatter3d",
         "x": [
          3.169426441192627
         ],
         "y": [
          7.954036712646484
         ],
         "z": [
          6.675252914428711
         ]
        },
        {
         "marker": {
          "size": 6
         },
         "mode": "markers",
         "name": "a",
         "text": [
          "a"
         ],
         "type": "scatter3d",
         "x": [
          3.938483238220215
         ],
         "y": [
          10.069892883300781
         ],
         "z": [
          5.296266555786133
         ]
        },
        {
         "marker": {
          "size": 6
         },
         "mode": "markers",
         "name": "of",
         "text": [
          "of"
         ],
         "type": "scatter3d",
         "x": [
          3.261137008666992
         ],
         "y": [
          8.104408264160156
         ],
         "z": [
          7.239098072052002
         ]
        },
        {
         "marker": {
          "size": 6
         },
         "mode": "markers",
         "name": "chapter",
         "text": [
          "chapter"
         ],
         "type": "scatter3d",
         "x": [
          3.0934247970581055
         ],
         "y": [
          8.22053337097168
         ],
         "z": [
          6.402598857879639
         ]
        },
        {
         "marker": {
          "size": 6
         },
         "mode": "markers",
         "name": "1",
         "text": [
          "1"
         ],
         "type": "scatter3d",
         "x": [
          3.7672314643859863
         ],
         "y": [
          10.049049377441406
         ],
         "z": [
          5.285402297973633
         ]
        },
        {
         "marker": {
          "size": 6
         },
         "mode": "markers",
         "name": "of",
         "text": [
          "of"
         ],
         "type": "scatter3d",
         "x": [
          3.2541630268096924
         ],
         "y": [
          8.105996131896973
         ],
         "z": [
          7.227299213409424
         ]
        },
        {
         "marker": {
          "size": 6
         },
         "mode": "markers",
         "name": "the",
         "text": [
          "the"
         ],
         "type": "scatter3d",
         "x": [
          3.158949375152588
         ],
         "y": [
          8.05406665802002
         ],
         "z": [
          7.236009120941162
         ]
        },
        {
         "marker": {
          "size": 6
         },
         "mode": "markers",
         "name": "internal",
         "text": [
          "internal"
         ],
         "type": "scatter3d",
         "x": [
          2.951608180999756
         ],
         "y": [
          6.9130377769470215
         ],
         "z": [
          7.191700458526611
         ]
        },
        {
         "marker": {
          "size": 6
         },
         "mode": "markers",
         "name": "revenue",
         "text": [
          "revenue"
         ],
         "type": "scatter3d",
         "x": [
          3.0474705696105957
         ],
         "y": [
          6.731072425842285
         ],
         "z": [
          7.311349391937256
         ]
        },
        {
         "marker": {
          "size": 6
         },
         "mode": "markers",
         "name": "code",
         "text": [
          "code"
         ],
         "type": "scatter3d",
         "x": [
          2.965430498123169
         ],
         "y": [
          8.29574203491211
         ],
         "z": [
          6.584072113037109
         ]
        },
        {
         "marker": {
          "size": 6
         },
         "mode": "markers",
         "name": "of",
         "text": [
          "of"
         ],
         "type": "scatter3d",
         "x": [
          3.1558220386505127
         ],
         "y": [
          8.149970054626465
         ],
         "z": [
          7.110345363616943
         ]
        },
        {
         "marker": {
          "size": 6
         },
         "mode": "markers",
         "name": "1986",
         "text": [
          "1986"
         ],
         "type": "scatter3d",
         "x": [
          2.6625256538391113
         ],
         "y": [
          6.718173503875732
         ],
         "z": [
          7.345773220062256
         ]
        },
        {
         "marker": {
          "size": 6
         },
         "mode": "markers",
         "name": "(",
         "text": [
          "("
         ],
         "type": "scatter3d",
         "x": [
          -3.571639060974121
         ],
         "y": [
          8.711360931396484
         ],
         "z": [
          -5.727446556091309
         ]
        },
        {
         "marker": {
          "size": 6
         },
         "mode": "markers",
         "name": "relating",
         "text": [
          "relating"
         ],
         "type": "scatter3d",
         "x": [
          3.1744227409362793
         ],
         "y": [
          6.694263935089111
         ],
         "z": [
          8.627779006958008
         ]
        },
        {
         "marker": {
          "size": 6
         },
         "mode": "markers",
         "name": "to",
         "text": [
          "to"
         ],
         "type": "scatter3d",
         "x": [
          3.380842924118042
         ],
         "y": [
          6.505221366882324
         ],
         "z": [
          9.318243026733398
         ]
        },
        {
         "marker": {
          "size": 6
         },
         "mode": "markers",
         "name": "business",
         "text": [
          "business"
         ],
         "type": "scatter3d",
         "x": [
          5.188755035400391
         ],
         "y": [
          7.290718078613281
         ],
         "z": [
          10.02763843536377
         ]
        },
        {
         "marker": {
          "size": 6
         },
         "mode": "markers",
         "name": "related",
         "text": [
          "related"
         ],
         "type": "scatter3d",
         "x": [
          3.300808906555176
         ],
         "y": [
          6.647915840148926
         ],
         "z": [
          9.071019172668457
         ]
        },
        {
         "marker": {
          "size": 6
         },
         "mode": "markers",
         "name": "credits",
         "text": [
          "credits"
         ],
         "type": "scatter3d",
         "x": [
          4.270429611206055
         ],
         "y": [
          6.714113235473633
         ],
         "z": [
          8.386296272277832
         ]
        },
        {
         "marker": {
          "size": 6
         },
         "mode": "markers",
         "name": ")",
         "text": [
          ")"
         ],
         "type": "scatter3d",
         "x": [
          2.3165998458862305
         ],
         "y": [
          6.289267063140869
         ],
         "z": [
          7.323814868927002
         ]
        },
        {
         "marker": {
          "size": 6
         },
         "mode": "markers",
         "name": "is",
         "text": [
          "is"
         ],
         "type": "scatter3d",
         "x": [
          3.0300655364990234
         ],
         "y": [
          7.810351371765137
         ],
         "z": [
          8.920388221740723
         ]
        },
        {
         "marker": {
          "size": 6
         },
         "mode": "markers",
         "name": "amended",
         "text": [
          "amended"
         ],
         "type": "scatter3d",
         "x": [
          2.2990095615386963
         ],
         "y": [
          7.985776424407959
         ],
         "z": [
          7.328995704650879
         ]
        },
        {
         "marker": {
          "size": 6
         },
         "mode": "markers",
         "name": "by",
         "text": [
          "by"
         ],
         "type": "scatter3d",
         "x": [
          2.1928651332855225
         ],
         "y": [
          7.626442909240723
         ],
         "z": [
          7.628504276275635
         ]
        },
        {
         "marker": {
          "size": 6
         },
         "mode": "markers",
         "name": "adding",
         "text": [
          "adding"
         ],
         "type": "scatter3d",
         "x": [
          2.2480008602142334
         ],
         "y": [
          7.828557014465332
         ],
         "z": [
          7.407843112945557
         ]
        },
        {
         "marker": {
          "size": 6
         },
         "mode": "markers",
         "name": "at",
         "text": [
          "at"
         ],
         "type": "scatter3d",
         "x": [
          2.345536708831787
         ],
         "y": [
          7.4612579345703125
         ],
         "z": [
          7.739688873291016
         ]
        },
        {
         "marker": {
          "size": 6
         },
         "mode": "markers",
         "name": "the",
         "text": [
          "the"
         ],
         "type": "scatter3d",
         "x": [
          2.123386859893799
         ],
         "y": [
          7.29811954498291
         ],
         "z": [
          8.04118537902832
         ]
        },
        {
         "marker": {
          "size": 6
         },
         "mode": "markers",
         "name": "end",
         "text": [
          "end"
         ],
         "type": "scatter3d",
         "x": [
          2.618342399597168
         ],
         "y": [
          7.469324111938477
         ],
         "z": [
          7.4119343757629395
         ]
        },
        {
         "marker": {
          "size": 6
         },
         "mode": "markers",
         "name": "the",
         "text": [
          "the"
         ],
         "type": "scatter3d",
         "x": [
          2.0326552391052246
         ],
         "y": [
          7.474402904510498
         ],
         "z": [
          8.106060981750488
         ]
        },
        {
         "marker": {
          "size": 6
         },
         "mode": "markers",
         "name": "following",
         "text": [
          "following"
         ],
         "type": "scatter3d",
         "x": [
          1.5835323333740234
         ],
         "y": [
          8.17969036102295
         ],
         "z": [
          7.482729434967041
         ]
        },
        {
         "marker": {
          "size": 6
         },
         "mode": "markers",
         "name": "new",
         "text": [
          "new"
         ],
         "type": "scatter3d",
         "x": [
          2.175136089324951
         ],
         "y": [
          8.035734176635742
         ],
         "z": [
          7.324440002441406
         ]
        },
        {
         "marker": {
          "size": 6
         },
         "mode": "markers",
         "name": "section",
         "text": [
          "section"
         ],
         "type": "scatter3d",
         "x": [
          2.7575528621673584
         ],
         "y": [
          8.261850357055664
         ],
         "z": [
          6.4713850021362305
         ]
        },
        {
         "marker": {
          "size": 6
         },
         "mode": "markers",
         "name": ":",
         "text": [
          ":"
         ],
         "type": "scatter3d",
         "x": [
          4.947575569152832
         ],
         "y": [
          2.1563141345977783
         ],
         "z": [
          0.6406521201133728
         ]
        },
        {
         "marker": {
          "size": 6
         },
         "mode": "markers",
         "name": "`",
         "text": [
          "`"
         ],
         "type": "scatter3d",
         "x": [
          -4.812767028808594
         ],
         "y": [
          -1.3005348443984985
         ],
         "z": [
          -0.9771185517311096
         ]
        },
        {
         "marker": {
          "size": 6
         },
         "mode": "markers",
         "name": "`",
         "text": [
          "`"
         ],
         "type": "scatter3d",
         "x": [
          -4.705174922943115
         ],
         "y": [
          -1.1698421239852905
         ],
         "z": [
          -0.884568989276886
         ]
        },
        {
         "marker": {
          "size": 6
         },
         "mode": "markers",
         "name": "sec",
         "text": [
          "sec"
         ],
         "type": "scatter3d",
         "x": [
          3.0828020572662354
         ],
         "y": [
          8.532267570495605
         ],
         "z": [
          6.170845031738281
         ]
        },
        {
         "marker": {
          "size": 6
         },
         "mode": "markers",
         "name": ".",
         "text": [
          "."
         ],
         "type": "scatter3d",
         "x": [
          2.461606979370117
         ],
         "y": [
          6.344569683074951
         ],
         "z": [
          7.213846683502197
         ]
        },
        {
         "marker": {
          "size": 6
         },
         "mode": "markers",
         "name": "45",
         "text": [
          "45"
         ],
         "type": "scatter3d",
         "x": [
          3.4897124767303467
         ],
         "y": [
          9.74835205078125
         ],
         "z": [
          5.420120716094971
         ]
        },
        {
         "marker": {
          "size": 6
         },
         "mode": "markers",
         "name": "##o",
         "text": [
          "##o"
         ],
         "type": "scatter3d",
         "x": [
          3.653576612472534
         ],
         "y": [
          9.570613861083984
         ],
         "z": [
          5.64031457901001
         ]
        },
        {
         "marker": {
          "size": 6
         },
         "mode": "markers",
         "name": ".",
         "text": [
          "."
         ],
         "type": "scatter3d",
         "x": [
          -2.300952196121216
         ],
         "y": [
          6.664475440979004
         ],
         "z": [
          2.6419975757598877
         ]
        },
        {
         "marker": {
          "size": 6
         },
         "mode": "markers",
         "name": "contributions",
         "text": [
          "contributions"
         ],
         "type": "scatter3d",
         "x": [
          5.930509090423584
         ],
         "y": [
          6.613892078399658
         ],
         "z": [
          8.96187686920166
         ]
        },
        {
         "marker": {
          "size": 6
         },
         "mode": "markers",
         "name": "benefit",
         "text": [
          "benefit"
         ],
         "type": "scatter3d",
         "x": [
          4.579092979431152
         ],
         "y": [
          6.994416236877441
         ],
         "z": [
          9.691963195800781
         ]
        },
        {
         "marker": {
          "size": 6
         },
         "mode": "markers",
         "name": "##ing",
         "text": [
          "##ing"
         ],
         "type": "scatter3d",
         "x": [
          4.2308197021484375
         ],
         "y": [
          7.121781349182129
         ],
         "z": [
          10.231378555297852
         ]
        },
        {
         "marker": {
          "size": 6
         },
         "mode": "markers",
         "name": "science",
         "text": [
          "science"
         ],
         "type": "scatter3d",
         "x": [
          5.388625144958496
         ],
         "y": [
          16.354833602905273
         ],
         "z": [
          9.920994758605957
         ]
        },
        {
         "marker": {
          "size": 6
         },
         "mode": "markers",
         "name": ",",
         "text": [
          ","
         ],
         "type": "scatter3d",
         "x": [
          2.8871703147888184
         ],
         "y": [
          1.5315563678741455
         ],
         "z": [
          7.987894535064697
         ]
        },
        {
         "marker": {
          "size": 6
         },
         "mode": "markers",
         "name": "technology",
         "text": [
          "technology"
         ],
         "type": "scatter3d",
         "x": [
          5.19415283203125
         ],
         "y": [
          17.070144653320312
         ],
         "z": [
          10.393376350402832
         ]
        },
        {
         "marker": {
          "size": 6
         },
         "mode": "markers",
         "name": ",",
         "text": [
          ","
         ],
         "type": "scatter3d",
         "x": [
          2.9035680294036865
         ],
         "y": [
          1.5161117315292358
         ],
         "z": [
          7.959458827972412
         ]
        },
        {
         "marker": {
          "size": 6
         },
         "mode": "markers",
         "name": "engineering",
         "text": [
          "engineering"
         ],
         "type": "scatter3d",
         "x": [
          3.965668201446533
         ],
         "y": [
          16.407024383544922
         ],
         "z": [
          9.789388656616211
         ]
        },
        {
         "marker": {
          "size": 6
         },
         "mode": "markers",
         "name": ",",
         "text": [
          ","
         ],
         "type": "scatter3d",
         "x": [
          1.5571500062942505
         ],
         "y": [
          4.382792949676514
         ],
         "z": [
          6.759951591491699
         ]
        },
        {
         "marker": {
          "size": 6
         },
         "mode": "markers",
         "name": "and",
         "text": [
          "and"
         ],
         "type": "scatter3d",
         "x": [
          2.357836961746216
         ],
         "y": [
          2.1622390747070312
         ],
         "z": [
          8.032853126525879
         ]
        },
        {
         "marker": {
          "size": 6
         },
         "mode": "markers",
         "name": "mathematics",
         "text": [
          "mathematics"
         ],
         "type": "scatter3d",
         "x": [
          -4.707202434539795
         ],
         "y": [
          12.599496841430664
         ],
         "z": [
          12.324594497680664
         ]
        },
        {
         "marker": {
          "size": 6
         },
         "mode": "markers",
         "name": "education",
         "text": [
          "education"
         ],
         "type": "scatter3d",
         "x": [
          6.151946544647217
         ],
         "y": [
          7.532808780670166
         ],
         "z": [
          11.757740020751953
         ]
        },
        {
         "marker": {
          "size": 6
         },
         "mode": "markers",
         "name": "at",
         "text": [
          "at"
         ],
         "type": "scatter3d",
         "x": [
          4.04661750793457
         ],
         "y": [
          8.433815956115723
         ],
         "z": [
          10.330735206604004
         ]
        },
        {
         "marker": {
          "size": 6
         },
         "mode": "markers",
         "name": "the",
         "text": [
          "the"
         ],
         "type": "scatter3d",
         "x": [
          3.645068883895874
         ],
         "y": [
          7.982580661773682
         ],
         "z": [
          10.660417556762695
         ]
        },
        {
         "marker": {
          "size": 6
         },
         "mode": "markers",
         "name": "elementary",
         "text": [
          "elementary"
         ],
         "type": "scatter3d",
         "x": [
          6.247842788696289
         ],
         "y": [
          8.375032424926758
         ],
         "z": [
          12.696478843688965
         ]
        },
        {
         "marker": {
          "size": 6
         },
         "mode": "markers",
         "name": "and",
         "text": [
          "and"
         ],
         "type": "scatter3d",
         "x": [
          2.2865328788757324
         ],
         "y": [
          2.309263229370117
         ],
         "z": [
          7.962769985198975
         ]
        },
        {
         "marker": {
          "size": 6
         },
         "mode": "markers",
         "name": "secondary",
         "text": [
          "secondary"
         ],
         "type": "scatter3d",
         "x": [
          6.302600860595703
         ],
         "y": [
          8.440181732177734
         ],
         "z": [
          12.762527465820312
         ]
        },
        {
         "marker": {
          "size": 6
         },
         "mode": "markers",
         "name": "school",
         "text": [
          "school"
         ],
         "type": "scatter3d",
         "x": [
          5.983057022094727
         ],
         "y": [
          7.692727565765381
         ],
         "z": [
          12.016180992126465
         ]
        },
        {
         "marker": {
          "size": 6
         },
         "mode": "markers",
         "name": "level",
         "text": [
          "level"
         ],
         "type": "scatter3d",
         "x": [
          5.687472820281982
         ],
         "y": [
          7.819621562957764
         ],
         "z": [
          11.64913272857666
         ]
        },
        {
         "marker": {
          "size": 6
         },
         "mode": "markers",
         "name": ".",
         "text": [
          "."
         ],
         "type": "scatter3d",
         "x": [
          -2.230346441268921
         ],
         "y": [
          6.745267391204834
         ],
         "z": [
          2.5649607181549072
         ]
        },
        {
         "marker": {
          "size": 6
         },
         "mode": "markers",
         "name": "`",
         "text": [
          "`"
         ],
         "type": "scatter3d",
         "x": [
          -4.785628318786621
         ],
         "y": [
          -1.4901679754257202
         ],
         "z": [
          -0.9762906432151794
         ]
        },
        {
         "marker": {
          "size": 6
         },
         "mode": "markers",
         "name": "`",
         "text": [
          "`"
         ],
         "type": "scatter3d",
         "x": [
          -4.784397602081299
         ],
         "y": [
          -1.3971611261367798
         ],
         "z": [
          -0.9451195001602173
         ]
        },
        {
         "marker": {
          "size": 6
         },
         "mode": "markers",
         "name": "(",
         "text": [
          "("
         ],
         "type": "scatter3d",
         "x": [
          -3.02990984916687
         ],
         "y": [
          9.299149513244629
         ],
         "z": [
          -5.902722358703613
         ]
        },
        {
         "marker": {
          "size": 6
         },
         "mode": "markers",
         "name": "a",
         "text": [
          "a"
         ],
         "type": "scatter3d",
         "x": [
          4.251506328582764
         ],
         "y": [
          10.604950904846191
         ],
         "z": [
          4.885545253753662
         ]
        },
        {
         "marker": {
          "size": 6
         },
         "mode": "markers",
         "name": ")",
         "text": [
          ")"
         ],
         "type": "scatter3d",
         "x": [
          5.581540107727051
         ],
         "y": [
          13.230644226074219
         ],
         "z": [
          -5.884674072265625
         ]
        },
        {
         "marker": {
          "size": 6
         },
         "mode": "markers",
         "name": "in",
         "text": [
          "in"
         ],
         "type": "scatter3d",
         "x": [
          4.25399112701416
         ],
         "y": [
          8.279806137084961
         ],
         "z": [
          10.182279586791992
         ]
        },
        {
         "marker": {
          "size": 6
         },
         "mode": "markers",
         "name": "general",
         "text": [
          "general"
         ],
         "type": "scatter3d",
         "x": [
          2.760877847671509
         ],
         "y": [
          6.565756797790527
         ],
         "z": [
          7.162964344024658
         ]
        },
        {
         "marker": {
          "size": 6
         },
         "mode": "markers",
         "name": ".",
         "text": [
          "."
         ],
         "type": "scatter3d",
         "x": [
          -2.235511064529419
         ],
         "y": [
          6.736597537994385
         ],
         "z": [
          2.5737128257751465
         ]
        },
        {
         "marker": {
          "size": 6
         },
         "mode": "markers",
         "name": "-",
         "text": [
          "-"
         ],
         "type": "scatter3d",
         "x": [
          6.1536383628845215
         ],
         "y": [
          -3.800295829772949
         ],
         "z": [
          15.413813591003418
         ]
        },
        {
         "marker": {
          "size": 6
         },
         "mode": "markers",
         "name": "-",
         "text": [
          "-"
         ],
         "type": "scatter3d",
         "x": [
          2.830906867980957
         ],
         "y": [
          -2.892167568206787
         ],
         "z": [
          -6.255688190460205
         ]
        },
        {
         "marker": {
          "size": 6
         },
         "mode": "markers",
         "name": "for",
         "text": [
          "for"
         ],
         "type": "scatter3d",
         "x": [
          3.793764591217041
         ],
         "y": [
          5.895259380340576
         ],
         "z": [
          8.965119361877441
         ]
        },
        {
         "marker": {
          "size": 6
         },
         "mode": "markers",
         "name": "purposes",
         "text": [
          "purposes"
         ],
         "type": "scatter3d",
         "x": [
          4.117551803588867
         ],
         "y": [
          6.945956230163574
         ],
         "z": [
          7.540997505187988
         ]
        },
        {
         "marker": {
          "size": 6
         },
         "mode": "markers",
         "name": "of",
         "text": [
          "of"
         ],
         "type": "scatter3d",
         "x": [
          3.352004051208496
         ],
         "y": [
          8.035387992858887
         ],
         "z": [
          7.497104644775391
         ]
        },
        {
         "marker": {
          "size": 6
         },
         "mode": "markers",
         "name": "section",
         "text": [
          "section"
         ],
         "type": "scatter3d",
         "x": [
          3.0355236530303955
         ],
         "y": [
          8.402546882629395
         ],
         "z": [
          6.284304141998291
         ]
        },
        {
         "marker": {
          "size": 6
         },
         "mode": "markers",
         "name": "38",
         "text": [
          "38"
         ],
         "type": "scatter3d",
         "x": [
          3.5293846130371094
         ],
         "y": [
          9.760188102722168
         ],
         "z": [
          5.414248466491699
         ]
        },
        {
         "marker": {
          "size": 6
         },
         "mode": "markers",
         "name": ",",
         "text": [
          ","
         ],
         "type": "scatter3d",
         "x": [
          2.134575128555298
         ],
         "y": [
          5.7830491065979
         ],
         "z": [
          7.1276140213012695
         ]
        },
        {
         "marker": {
          "size": 6
         },
         "mode": "markers",
         "name": "the",
         "text": [
          "the"
         ],
         "type": "scatter3d",
         "x": [
          3.0683579444885254
         ],
         "y": [
          7.151650428771973
         ],
         "z": [
          8.886553764343262
         ]
        },
        {
         "marker": {
          "size": 6
         },
         "mode": "markers",
         "name": "elementary",
         "text": [
          "elementary"
         ],
         "type": "scatter3d",
         "x": [
          6.249090194702148
         ],
         "y": [
          8.391526222229004
         ],
         "z": [
          12.710294723510742
         ]
        },
        {
         "marker": {
          "size": 6
         },
         "mode": "markers",
         "name": "and",
         "text": [
          "and"
         ],
         "type": "scatter3d",
         "x": [
          2.2735891342163086
         ],
         "y": [
          2.296438694000244
         ],
         "z": [
          7.987380027770996
         ]
        },
        {
         "marker": {
          "size": 6
         },
         "mode": "markers",
         "name": "secondary",
         "text": [
          "secondary"
         ],
         "type": "scatter3d",
         "x": [
          6.286080360412598
         ],
         "y": [
          8.422348976135254
         ],
         "z": [
          12.745254516601562
         ]
        },
        {
         "marker": {
          "size": 6
         },
         "mode": "markers",
         "name": "science",
         "text": [
          "science"
         ],
         "type": "scatter3d",
         "x": [
          5.402483940124512
         ],
         "y": [
          16.36532211303711
         ],
         "z": [
          9.932222366333008
         ]
        },
        {
         "marker": {
          "size": 6
         },
         "mode": "markers",
         "name": ",",
         "text": [
          ","
         ],
         "type": "scatter3d",
         "x": [
          2.9141170978546143
         ],
         "y": [
          1.5031216144561768
         ],
         "z": [
          7.967264652252197
         ]
        },
        {
         "marker": {
          "size": 6
         },
         "mode": "markers",
         "name": "technology",
         "text": [
          "technology"
         ],
         "type": "scatter3d",
         "x": [
          5.175329685211182
         ],
         "y": [
          17.07607078552246
         ],
         "z": [
          10.401145935058594
         ]
        },
        {
         "marker": {
          "size": 6
         },
         "mode": "markers",
         "name": ",",
         "text": [
          ","
         ],
         "type": "scatter3d",
         "x": [
          2.865638494491577
         ],
         "y": [
          1.5543967485427856
         ],
         "z": [
          7.964111804962158
         ]
        },
        {
         "marker": {
          "size": 6
         },
         "mode": "markers",
         "name": "engineering",
         "text": [
          "engineering"
         ],
         "type": "scatter3d",
         "x": [
          3.963069200515747
         ],
         "y": [
          16.40321159362793
         ],
         "z": [
          9.786134719848633
         ]
        },
        {
         "marker": {
          "size": 6
         },
         "mode": "markers",
         "name": ",",
         "text": [
          ","
         ],
         "type": "scatter3d",
         "x": [
          1.5524671077728271
         ],
         "y": [
          4.440781593322754
         ],
         "z": [
          6.739684581756592
         ]
        },
        {
         "marker": {
          "size": 6
         },
         "mode": "markers",
         "name": "and",
         "text": [
          "and"
         ],
         "type": "scatter3d",
         "x": [
          2.3567707538604736
         ],
         "y": [
          2.1567466259002686
         ],
         "z": [
          8.04561710357666
         ]
        },
        {
         "marker": {
          "size": 6
         },
         "mode": "markers",
         "name": "mathematics",
         "text": [
          "mathematics"
         ],
         "type": "scatter3d",
         "x": [
          -4.67866849899292
         ],
         "y": [
          12.570880889892578
         ],
         "z": [
          12.353215217590332
         ]
        },
        {
         "marker": {
          "size": 6
         },
         "mode": "markers",
         "name": "(",
         "text": [
          "("
         ],
         "type": "scatter3d",
         "x": [
          -3.352825403213501
         ],
         "y": [
          8.947539329528809
         ],
         "z": [
          -5.807268142700195
         ]
        },
        {
         "marker": {
          "size": 6
         },
         "mode": "markers",
         "name": "stem",
         "text": [
          "stem"
         ],
         "type": "scatter3d",
         "x": [
          6.239580154418945
         ],
         "y": [
          3.1896469593048096
         ],
         "z": [
          10.90864086151123
         ]
        },
        {
         "marker": {
          "size": 6
         },
         "mode": "markers",
         "name": ")",
         "text": [
          ")"
         ],
         "type": "scatter3d",
         "x": [
          2.0909745693206787
         ],
         "y": [
          6.163305759429932
         ],
         "z": [
          7.3174052238464355
         ]
        },
        {
         "marker": {
          "size": 6
         },
         "mode": "markers",
         "name": "contributions",
         "text": [
          "contributions"
         ],
         "type": "scatter3d",
         "x": [
          5.981202125549316
         ],
         "y": [
          6.577208518981934
         ],
         "z": [
          8.936477661132812
         ]
        },
        {
         "marker": {
          "size": 6
         },
         "mode": "markers",
         "name": "credit",
         "text": [
          "credit"
         ],
         "type": "scatter3d",
         "x": [
          4.266468048095703
         ],
         "y": [
          6.756523132324219
         ],
         "z": [
          8.44183349609375
         ]
        },
        {
         "marker": {
          "size": 6
         },
         "mode": "markers",
         "name": "determined",
         "text": [
          "determined"
         ],
         "type": "scatter3d",
         "x": [
          3.958137273788452
         ],
         "y": [
          7.593742370605469
         ],
         "z": [
          8.662903785705566
         ]
        },
        {
         "marker": {
          "size": 6
         },
         "mode": "markers",
         "name": "under",
         "text": [
          "under"
         ],
         "type": "scatter3d",
         "x": [
          3.610436201095581
         ],
         "y": [
          8.329238891601562
         ],
         "z": [
          7.815648078918457
         ]
        },
        {
         "marker": {
          "size": 6
         },
         "mode": "markers",
         "name": "this",
         "text": [
          "this"
         ],
         "type": "scatter3d",
         "x": [
          1.481696367263794
         ],
         "y": [
          8.320514678955078
         ],
         "z": [
          7.418679237365723
         ]
        },
        {
         "marker": {
          "size": 6
         },
         "mode": "markers",
         "name": "section",
         "text": [
          "section"
         ],
         "type": "scatter3d",
         "x": [
          2.8103854656219482
         ],
         "y": [
          8.366538047790527
         ],
         "z": [
          6.40899658203125
         ]
        },
        {
         "marker": {
          "size": 6
         },
         "mode": "markers",
         "name": "for",
         "text": [
          "for"
         ],
         "type": "scatter3d",
         "x": [
          3.7837016582489014
         ],
         "y": [
          6.257527828216553
         ],
         "z": [
          9.258936882019043
         ]
        },
        {
         "marker": {
          "size": 6
         },
         "mode": "markers",
         "name": "the",
         "text": [
          "the"
         ],
         "type": "scatter3d",
         "x": [
          3.1492974758148193
         ],
         "y": [
          7.106862545013428
         ],
         "z": [
          10.284056663513184
         ]
        },
        {
         "marker": {
          "size": 6
         },
         "mode": "markers",
         "name": "taxa",
         "text": [
          "taxa"
         ],
         "type": "scatter3d",
         "x": [
          3.053183078765869
         ],
         "y": [
          6.588371753692627
         ],
         "z": [
          7.492501258850098
         ]
        },
        {
         "marker": {
          "size": 6
         },
         "mode": "markers",
         "name": "##ble",
         "text": [
          "##ble"
         ],
         "type": "scatter3d",
         "x": [
          3.5634350776672363
         ],
         "y": [
          6.785977840423584
         ],
         "z": [
          8.104641914367676
         ]
        },
        {
         "marker": {
          "size": 6
         },
         "mode": "markers",
         "name": "year",
         "text": [
          "year"
         ],
         "type": "scatter3d",
         "x": [
          3.6133806705474854
         ],
         "y": [
          6.870789527893066
         ],
         "z": [
          8.112859725952148
         ]
        },
        {
         "marker": {
          "size": 6
         },
         "mode": "markers",
         "name": "is",
         "text": [
          "is"
         ],
         "type": "scatter3d",
         "x": [
          3.1254069805145264
         ],
         "y": [
          7.321803569793701
         ],
         "z": [
          9.001198768615723
         ]
        },
        {
         "marker": {
          "size": 6
         },
         "mode": "markers",
         "name": "an",
         "text": [
          "an"
         ],
         "type": "scatter3d",
         "x": [
          3.0692646503448486
         ],
         "y": [
          7.086925983428955
         ],
         "z": [
          8.974631309509277
         ]
        },
        {
         "marker": {
          "size": 6
         },
         "mode": "markers",
         "name": "amount",
         "text": [
          "amount"
         ],
         "type": "scatter3d",
         "x": [
          4.146857738494873
         ],
         "y": [
          6.832879543304443
         ],
         "z": [
          8.69686222076416
         ]
        },
        {
         "marker": {
          "size": 6
         },
         "mode": "markers",
         "name": "equal",
         "text": [
          "equal"
         ],
         "type": "scatter3d",
         "x": [
          3.2906835079193115
         ],
         "y": [
          6.872940540313721
         ],
         "z": [
          8.892525672912598
         ]
        },
        {
         "marker": {
          "size": 6
         },
         "mode": "markers",
         "name": "to",
         "text": [
          "to"
         ],
         "type": "scatter3d",
         "x": [
          3.3015143871307373
         ],
         "y": [
          6.752953052520752
         ],
         "z": [
          9.030193328857422
         ]
        },
        {
         "marker": {
          "size": 6
         },
         "mode": "markers",
         "name": "100",
         "text": [
          "100"
         ],
         "type": "scatter3d",
         "x": [
          3.222548007965088
         ],
         "y": [
          6.727255344390869
         ],
         "z": [
          8.76522445678711
         ]
        },
        {
         "marker": {
          "size": 6
         },
         "mode": "markers",
         "name": "percent",
         "text": [
          "percent"
         ],
         "type": "scatter3d",
         "x": [
          3.734934091567993
         ],
         "y": [
          6.829229354858398
         ],
         "z": [
          8.778406143188477
         ]
        },
        {
         "marker": {
          "size": 6
         },
         "mode": "markers",
         "name": "of",
         "text": [
          "of"
         ],
         "type": "scatter3d",
         "x": [
          3.4993815422058105
         ],
         "y": [
          6.876934051513672
         ],
         "z": [
          8.888033866882324
         ]
        },
        {
         "marker": {
          "size": 6
         },
         "mode": "markers",
         "name": "the",
         "text": [
          "the"
         ],
         "type": "scatter3d",
         "x": [
          3.1567440032958984
         ],
         "y": [
          7.0818071365356445
         ],
         "z": [
          8.95323657989502
         ]
        },
        {
         "marker": {
          "size": 6
         },
         "mode": "markers",
         "name": "qualified",
         "text": [
          "qualified"
         ],
         "type": "scatter3d",
         "x": [
          5.3600897789001465
         ],
         "y": [
          4.018261909484863
         ],
         "z": [
          10.331549644470215
         ]
        },
        {
         "marker": {
          "size": 6
         },
         "mode": "markers",
         "name": "stem",
         "text": [
          "stem"
         ],
         "type": "scatter3d",
         "x": [
          6.212812900543213
         ],
         "y": [
          3.1980082988739014
         ],
         "z": [
          10.952669143676758
         ]
        },
        {
         "marker": {
          "size": 6
         },
         "mode": "markers",
         "name": "contributions",
         "text": [
          "contributions"
         ],
         "type": "scatter3d",
         "x": [
          5.951316833496094
         ],
         "y": [
          6.605894565582275
         ],
         "z": [
          8.913466453552246
         ]
        },
        {
         "marker": {
          "size": 6
         },
         "mode": "markers",
         "name": "of",
         "text": [
          "of"
         ],
         "type": "scatter3d",
         "x": [
          3.6358344554901123
         ],
         "y": [
          6.715057373046875
         ],
         "z": [
          10.373002052307129
         ]
        },
        {
         "marker": {
          "size": 6
         },
         "mode": "markers",
         "name": "the",
         "text": [
          "the"
         ],
         "type": "scatter3d",
         "x": [
          3.2122490406036377
         ],
         "y": [
          7.226284980773926
         ],
         "z": [
          10.31776237487793
         ]
        },
        {
         "marker": {
          "size": 6
         },
         "mode": "markers",
         "name": "taxpayer",
         "text": [
          "taxpayer"
         ],
         "type": "scatter3d",
         "x": [
          3.5602519512176514
         ],
         "y": [
          6.226080894470215
         ],
         "z": [
          7.427184104919434
         ]
        },
        {
         "marker": {
          "size": 6
         },
         "mode": "markers",
         "name": "for",
         "text": [
          "for"
         ],
         "type": "scatter3d",
         "x": [
          3.8094325065612793
         ],
         "y": [
          6.241453170776367
         ],
         "z": [
          9.234209060668945
         ]
        },
        {
         "marker": {
          "size": 6
         },
         "mode": "markers",
         "name": "such",
         "text": [
          "such"
         ],
         "type": "scatter3d",
         "x": [
          -0.03522944077849388
         ],
         "y": [
          8.05220890045166
         ],
         "z": [
          8.076617240905762
         ]
        },
        {
         "marker": {
          "size": 6
         },
         "mode": "markers",
         "name": "taxa",
         "text": [
          "taxa"
         ],
         "type": "scatter3d",
         "x": [
          3.0557312965393066
         ],
         "y": [
          6.559701919555664
         ],
         "z": [
          7.466609954833984
         ]
        },
        {
         "marker": {
          "size": 6
         },
         "mode": "markers",
         "name": "##ble",
         "text": [
          "##ble"
         ],
         "type": "scatter3d",
         "x": [
          3.5741076469421387
         ],
         "y": [
          6.794806480407715
         ],
         "z": [
          8.13818073272705
         ]
        },
        {
         "marker": {
          "size": 6
         },
         "mode": "markers",
         "name": "year",
         "text": [
          "year"
         ],
         "type": "scatter3d",
         "x": [
          3.6304914951324463
         ],
         "y": [
          6.870150089263916
         ],
         "z": [
          8.127899169921875
         ]
        },
        {
         "marker": {
          "size": 6
         },
         "mode": "markers",
         "name": ".",
         "text": [
          "."
         ],
         "type": "scatter3d",
         "x": [
          2.5193004608154297
         ],
         "y": [
          6.128293514251709
         ],
         "z": [
          6.907097339630127
         ]
        },
        {
         "marker": {
          "size": 6
         },
         "mode": "markers",
         "name": "`",
         "text": [
          "`"
         ],
         "type": "scatter3d",
         "x": [
          -4.88490629196167
         ],
         "y": [
          -1.4040277004241943
         ],
         "z": [
          -1.122556447982788
         ]
        },
        {
         "marker": {
          "size": 6
         },
         "mode": "markers",
         "name": "`",
         "text": [
          "`"
         ],
         "type": "scatter3d",
         "x": [
          -4.83441162109375
         ],
         "y": [
          -1.206531286239624
         ],
         "z": [
          -1.1501411199569702
         ]
        },
        {
         "marker": {
          "size": 6
         },
         "mode": "markers",
         "name": "(",
         "text": [
          "("
         ],
         "type": "scatter3d",
         "x": [
          -3.0933291912078857
         ],
         "y": [
          9.235126495361328
         ],
         "z": [
          -5.875750541687012
         ]
        },
        {
         "marker": {
          "size": 6
         },
         "mode": "markers",
         "name": "b",
         "text": [
          "b"
         ],
         "type": "scatter3d",
         "x": [
          4.044661998748779
         ],
         "y": [
          10.63597583770752
         ],
         "z": [
          4.736637592315674
         ]
        },
        {
         "marker": {
          "size": 6
         },
         "mode": "markers",
         "name": ")",
         "text": [
          ")"
         ],
         "type": "scatter3d",
         "x": [
          5.586109638214111
         ],
         "y": [
          12.987078666687012
         ],
         "z": [
          -5.448909282684326
         ]
        },
        {
         "marker": {
          "size": 6
         },
         "mode": "markers",
         "name": "qualified",
         "text": [
          "qualified"
         ],
         "type": "scatter3d",
         "x": [
          5.395073890686035
         ],
         "y": [
          3.988652229309082
         ],
         "z": [
          10.360004425048828
         ]
        },
        {
         "marker": {
          "size": 6
         },
         "mode": "markers",
         "name": "stem",
         "text": [
          "stem"
         ],
         "type": "scatter3d",
         "x": [
          6.232474327087402
         ],
         "y": [
          3.2094483375549316
         ],
         "z": [
          10.916958808898926
         ]
        },
        {
         "marker": {
          "size": 6
         },
         "mode": "markers",
         "name": "contributions",
         "text": [
          "contributions"
         ],
         "type": "scatter3d",
         "x": [
          5.943935871124268
         ],
         "y": [
          6.638735771179199
         ],
         "z": [
          8.899802207946777
         ]
        },
        {
         "marker": {
          "size": 6
         },
         "mode": "markers",
         "name": ".",
         "text": [
          "."
         ],
         "type": "scatter3d",
         "x": [
          2.558518409729004
         ],
         "y": [
          6.129642963409424
         ],
         "z": [
          6.8918681144714355
         ]
        },
        {
         "marker": {
          "size": 6
         },
         "mode": "markers",
         "name": "-",
         "text": [
          "-"
         ],
         "type": "scatter3d",
         "x": [
          6.176702499389648
         ],
         "y": [
          -3.823340654373169
         ],
         "z": [
          15.391345024108887
         ]
        },
        {
         "marker": {
          "size": 6
         },
         "mode": "markers",
         "name": "-",
         "text": [
          "-"
         ],
         "type": "scatter3d",
         "x": [
          2.8449673652648926
         ],
         "y": [
          -2.8790841102600098
         ],
         "z": [
          -6.24383020401001
         ]
        },
        {
         "marker": {
          "size": 6
         },
         "mode": "markers",
         "name": "for",
         "text": [
          "for"
         ],
         "type": "scatter3d",
         "x": [
          3.7919437885284424
         ],
         "y": [
          5.931059837341309
         ],
         "z": [
          8.999322891235352
         ]
        },
        {
         "marker": {
          "size": 6
         },
         "mode": "markers",
         "name": "purposes",
         "text": [
          "purposes"
         ],
         "type": "scatter3d",
         "x": [
          4.111893177032471
         ],
         "y": [
          6.965956687927246
         ],
         "z": [
          7.554986953735352
         ]
        },
        {
         "marker": {
          "size": 6
         },
         "mode": "markers",
         "name": "of",
         "text": [
          "of"
         ],
         "type": "scatter3d",
         "x": [
          3.378544330596924
         ],
         "y": [
          7.9401326179504395
         ],
         "z": [
          7.519786834716797
         ]
        },
        {
         "marker": {
          "size": 6
         },
         "mode": "markers",
         "name": "this",
         "text": [
          "this"
         ],
         "type": "scatter3d",
         "x": [
          1.490221381187439
         ],
         "y": [
          8.310226440429688
         ],
         "z": [
          7.427084445953369
         ]
        },
        {
         "marker": {
          "size": 6
         },
         "mode": "markers",
         "name": "section",
         "text": [
          "section"
         ],
         "type": "scatter3d",
         "x": [
          2.775165557861328
         ],
         "y": [
          8.317492485046387
         ],
         "z": [
          6.3578572273254395
         ]
        },
        {
         "marker": {
          "size": 6
         },
         "mode": "markers",
         "name": ",",
         "text": [
          ","
         ],
         "type": "scatter3d",
         "x": [
          2.1360511779785156
         ],
         "y": [
          5.739060878753662
         ],
         "z": [
          7.1002397537231445
         ]
        },
        {
         "marker": {
          "size": 6
         },
         "mode": "markers",
         "name": "the",
         "text": [
          "the"
         ],
         "type": "scatter3d",
         "x": [
          1.8249191045761108
         ],
         "y": [
          7.474915981292725
         ],
         "z": [
          8.27515983581543
         ]
        },
        {
         "marker": {
          "size": 6
         },
         "mode": "markers",
         "name": "term",
         "text": [
          "term"
         ],
         "type": "scatter3d",
         "x": [
          14.787871360778809
         ],
         "y": [
          1.0296591520309448
         ],
         "z": [
          5.90895414352417
         ]
        },
        {
         "marker": {
          "size": 6
         },
         "mode": "markers",
         "name": "`",
         "text": [
          "`"
         ],
         "type": "scatter3d",
         "x": [
          -4.729173183441162
         ],
         "y": [
          -0.4494034945964813
         ],
         "z": [
          -0.9734815359115601
         ]
        },
        {
         "marker": {
          "size": 6
         },
         "mode": "markers",
         "name": "qualified",
         "text": [
          "qualified"
         ],
         "type": "scatter3d",
         "x": [
          5.357949256896973
         ],
         "y": [
          4.019871234893799
         ],
         "z": [
          10.333209991455078
         ]
        },
        {
         "marker": {
          "size": 6
         },
         "mode": "markers",
         "name": "stem",
         "text": [
          "stem"
         ],
         "type": "scatter3d",
         "x": [
          6.26350212097168
         ],
         "y": [
          3.194892168045044
         ],
         "z": [
          10.885436058044434
         ]
        },
        {
         "marker": {
          "size": 6
         },
         "mode": "markers",
         "name": "contributions",
         "text": [
          "contributions"
         ],
         "type": "scatter3d",
         "x": [
          5.979053497314453
         ],
         "y": [
          6.580562114715576
         ],
         "z": [
          8.877942085266113
         ]
        },
        {
         "marker": {
          "size": 6
         },
         "mode": "markers",
         "name": "'",
         "text": [
          "'"
         ],
         "type": "scatter3d",
         "x": [
          3.267284631729126
         ],
         "y": [
          6.466844081878662
         ],
         "z": [
          14.426682472229004
         ]
        },
        {
         "marker": {
          "size": 6
         },
         "mode": "markers",
         "name": "means",
         "text": [
          "means"
         ],
         "type": "scatter3d",
         "x": [
          5.667516708374023
         ],
         "y": [
          -5.698085784912109
         ],
         "z": [
          7.656467914581299
         ]
        },
        {
         "marker": {
          "size": 6
         },
         "mode": "markers",
         "name": "-",
         "text": [
          "-"
         ],
         "type": "scatter3d",
         "x": [
          6.057333469390869
         ],
         "y": [
          -3.703761339187622
         ],
         "z": [
          15.509243965148926
         ]
        },
        {
         "marker": {
          "size": 6
         },
         "mode": "markers",
         "name": "-",
         "text": [
          "-"
         ],
         "type": "scatter3d",
         "x": [
          2.992366313934326
         ],
         "y": [
          -2.7225406169891357
         ],
         "z": [
          -6.079185485839844
         ]
        },
        {
         "marker": {
          "size": 6
         },
         "mode": "markers",
         "name": "`",
         "text": [
          "`"
         ],
         "type": "scatter3d",
         "x": [
          -4.952613353729248
         ],
         "y": [
          -1.2100104093551636
         ],
         "z": [
          -1.2649952173233032
         ]
        },
        {
         "marker": {
          "size": 6
         },
         "mode": "markers",
         "name": "`",
         "text": [
          "`"
         ],
         "type": "scatter3d",
         "x": [
          -4.933294773101807
         ],
         "y": [
          -1.1558771133422852
         ],
         "z": [
          -1.2563403844833374
         ]
        },
        {
         "marker": {
          "size": 6
         },
         "mode": "markers",
         "name": "(",
         "text": [
          "("
         ],
         "type": "scatter3d",
         "x": [
          -3.123431444168091
         ],
         "y": [
          9.204133987426758
         ],
         "z": [
          -5.875583171844482
         ]
        },
        {
         "marker": {
          "size": 6
         },
         "mode": "markers",
         "name": "1",
         "text": [
          "1"
         ],
         "type": "scatter3d",
         "x": [
          3.676571846008301
         ],
         "y": [
          10.267857551574707
         ],
         "z": [
          5.06045389175415
         ]
        },
        {
         "marker": {
          "size": 6
         },
         "mode": "markers",
         "name": ")",
         "text": [
          ")"
         ],
         "type": "scatter3d",
         "x": [
          5.61917781829834
         ],
         "y": [
          12.94653606414795
         ],
         "z": [
          -5.4092583656311035
         ]
        },
        {
         "marker": {
          "size": 6
         },
         "mode": "markers",
         "name": "stem",
         "text": [
          "stem"
         ],
         "type": "scatter3d",
         "x": [
          6.298306465148926
         ],
         "y": [
          3.214733600616455
         ],
         "z": [
          10.831692695617676
         ]
        },
        {
         "marker": {
          "size": 6
         },
         "mode": "markers",
         "name": "school",
         "text": [
          "school"
         ],
         "type": "scatter3d",
         "x": [
          5.990683555603027
         ],
         "y": [
          7.605010032653809
         ],
         "z": [
          11.952041625976562
         ]
        },
        {
         "marker": {
          "size": 6
         },
         "mode": "markers",
         "name": "contributions",
         "text": [
          "contributions"
         ],
         "type": "scatter3d",
         "x": [
          5.938309192657471
         ],
         "y": [
          6.606627941131592
         ],
         "z": [
          8.919331550598145
         ]
        },
        {
         "marker": {
          "size": 6
         },
         "mode": "markers",
         "name": ",",
         "text": [
          ","
         ],
         "type": "scatter3d",
         "x": [
          1.750609278678894
         ],
         "y": [
          3.9147541522979736
         ],
         "z": [
          7.063523769378662
         ]
        },
        {
         "marker": {
          "size": 6
         },
         "mode": "markers",
         "name": "`",
         "text": [
          "`"
         ],
         "type": "scatter3d",
         "x": [
          -4.979351997375488
         ],
         "y": [
          -1.170354962348938
         ],
         "z": [
          -1.3050613403320312
         ]
        },
        {
         "marker": {
          "size": 6
         },
         "mode": "markers",
         "name": "`",
         "text": [
          "`"
         ],
         "type": "scatter3d",
         "x": [
          -4.947490215301514
         ],
         "y": [
          -1.1462457180023193
         ],
         "z": [
          -1.2840341329574585
         ]
        },
        {
         "marker": {
          "size": 6
         },
         "mode": "markers",
         "name": "(",
         "text": [
          "("
         ],
         "type": "scatter3d",
         "x": [
          -3.118105411529541
         ],
         "y": [
          9.211119651794434
         ],
         "z": [
          -5.867369174957275
         ]
        },
        {
         "marker": {
          "size": 6
         },
         "mode": "markers",
         "name": "2",
         "text": [
          "2"
         ],
         "type": "scatter3d",
         "x": [
          3.784498691558838
         ],
         "y": [
          10.398361206054688
         ],
         "z": [
          4.908609390258789
         ]
        },
        {
         "marker": {
          "size": 6
         },
         "mode": "markers",
         "name": ")",
         "text": [
          ")"
         ],
         "type": "scatter3d",
         "x": [
          5.591945171356201
         ],
         "y": [
          12.957446098327637
         ],
         "z": [
          -5.417273044586182
         ]
        },
        {
         "marker": {
          "size": 6
         },
         "mode": "markers",
         "name": "stem",
         "text": [
          "stem"
         ],
         "type": "scatter3d",
         "x": [
          6.292679309844971
         ],
         "y": [
          3.254800796508789
         ],
         "z": [
          10.84356689453125
         ]
        },
        {
         "marker": {
          "size": 6
         },
         "mode": "markers",
         "name": "teacher",
         "text": [
          "teacher"
         ],
         "type": "scatter3d",
         "x": [
          6.225046157836914
         ],
         "y": [
          6.794193744659424
         ],
         "z": [
          11.83563232421875
         ]
        },
        {
         "marker": {
          "size": 6
         },
         "mode": "markers",
         "name": "ex",
         "text": [
          "ex"
         ],
         "type": "scatter3d",
         "x": [
          5.381548881530762
         ],
         "y": [
          6.438389301300049
         ],
         "z": [
          11.251228332519531
         ]
        },
        {
         "marker": {
          "size": 6
         },
         "mode": "markers",
         "name": "##tern",
         "text": [
          "##tern"
         ],
         "type": "scatter3d",
         "x": [
          5.323056221008301
         ],
         "y": [
          6.372656345367432
         ],
         "z": [
          11.23028564453125
         ]
        },
        {
         "marker": {
          "size": 6
         },
         "mode": "markers",
         "name": "##ship",
         "text": [
          "##ship"
         ],
         "type": "scatter3d",
         "x": [
          5.261201858520508
         ],
         "y": [
          6.503025054931641
         ],
         "z": [
          11.158414840698242
         ]
        },
        {
         "marker": {
          "size": 6
         },
         "mode": "markers",
         "name": "expenses",
         "text": [
          "expenses"
         ],
         "type": "scatter3d",
         "x": [
          5.517016887664795
         ],
         "y": [
          6.725246906280518
         ],
         "z": [
          8.983211517333984
         ]
        },
        {
         "marker": {
          "size": 6
         },
         "mode": "markers",
         "name": ",",
         "text": [
          ","
         ],
         "type": "scatter3d",
         "x": [
          1.6657785177230835
         ],
         "y": [
          4.556426525115967
         ],
         "z": [
          6.833970546722412
         ]
        },
        {
         "marker": {
          "size": 6
         },
         "mode": "markers",
         "name": "and",
         "text": [
          "and"
         ],
         "type": "scatter3d",
         "x": [
          1.9487239122390747
         ],
         "y": [
          3.5841126441955566
         ],
         "z": [
          7.33338737487793
         ]
        },
        {
         "marker": {
          "size": 6
         },
         "mode": "markers",
         "name": "`",
         "text": [
          "`"
         ],
         "type": "scatter3d",
         "x": [
          -4.943061351776123
         ],
         "y": [
          -1.1453944444656372
         ],
         "z": [
          -1.2535218000411987
         ]
        },
        {
         "marker": {
          "size": 6
         },
         "mode": "markers",
         "name": "`",
         "text": [
          "`"
         ],
         "type": "scatter3d",
         "x": [
          -4.899194240570068
         ],
         "y": [
          -1.1178518533706665
         ],
         "z": [
          -1.2372184991836548
         ]
        },
        {
         "marker": {
          "size": 6
         },
         "mode": "markers",
         "name": "(",
         "text": [
          "("
         ],
         "type": "scatter3d",
         "x": [
          -3.1468000411987305
         ],
         "y": [
          9.178994178771973
         ],
         "z": [
          -5.8658905029296875
         ]
        },
        {
         "marker": {
          "size": 6
         },
         "mode": "markers",
         "name": "3",
         "text": [
          "3"
         ],
         "type": "scatter3d",
         "x": [
          3.7665252685546875
         ],
         "y": [
          10.420480728149414
         ],
         "z": [
          4.873885631561279
         ]
        },
        {
         "marker": {
          "size": 6
         },
         "mode": "markers",
         "name": ")",
         "text": [
          ")"
         ],
         "type": "scatter3d",
         "x": [
          5.586696147918701
         ],
         "y": [
          12.974811553955078
         ],
         "z": [
          -5.433276176452637
         ]
        },
        {
         "marker": {
          "size": 6
         },
         "mode": "markers",
         "name": "stem",
         "text": [
          "stem"
         ],
         "type": "scatter3d",
         "x": [
          6.278373718261719
         ],
         "y": [
          3.2097647190093994
         ],
         "z": [
          10.855659484863281
         ]
        },
        {
         "marker": {
          "size": 6
         },
         "mode": "markers",
         "name": "teacher",
         "text": [
          "teacher"
         ],
         "type": "scatter3d",
         "x": [
          6.192054748535156
         ],
         "y": [
          6.779403209686279
         ],
         "z": [
          11.810437202453613
         ]
        },
        {
         "marker": {
          "size": 6
         },
         "mode": "markers",
         "name": "training",
         "text": [
          "training"
         ],
         "type": "scatter3d",
         "x": [
          5.4296183586120605
         ],
         "y": [
          6.681729316711426
         ],
         "z": [
          11.149680137634277
         ]
        },
        {
         "marker": {
          "size": 6
         },
         "mode": "markers",
         "name": "expenses",
         "text": [
          "expenses"
         ],
         "type": "scatter3d",
         "x": [
          5.5242085456848145
         ],
         "y": [
          6.720808029174805
         ],
         "z": [
          8.986048698425293
         ]
        },
        {
         "marker": {
          "size": 6
         },
         "mode": "markers",
         "name": ".",
         "text": [
          "."
         ],
         "type": "scatter3d",
         "x": [
          -2.1850476264953613
         ],
         "y": [
          6.7815704345703125
         ],
         "z": [
          2.5206103324890137
         ]
        },
        {
         "marker": {
          "size": 6
         },
         "mode": "markers",
         "name": "`",
         "text": [
          "`"
         ],
         "type": "scatter3d",
         "x": [
          -4.904808521270752
         ],
         "y": [
          -1.3860256671905518
         ],
         "z": [
          -1.1664197444915771
         ]
        },
        {
         "marker": {
          "size": 6
         },
         "mode": "markers",
         "name": "`",
         "text": [
          "`"
         ],
         "type": "scatter3d",
         "x": [
          -4.948220252990723
         ],
         "y": [
          -1.2335317134857178
         ],
         "z": [
          -1.2631783485412598
         ]
        },
        {
         "marker": {
          "size": 6
         },
         "mode": "markers",
         "name": "(",
         "text": [
          "("
         ],
         "type": "scatter3d",
         "x": [
          -3.12811541557312
         ],
         "y": [
          9.19975471496582
         ],
         "z": [
          -5.860317230224609
         ]
        },
        {
         "marker": {
          "size": 6
         },
         "mode": "markers",
         "name": "c",
         "text": [
          "c"
         ],
         "type": "scatter3d",
         "x": [
          3.9889116287231445
         ],
         "y": [
          10.62539291381836
         ],
         "z": [
          4.69183874130249
         ]
        },
        {
         "marker": {
          "size": 6
         },
         "mode": "markers",
         "name": ")",
         "text": [
          ")"
         ],
         "type": "scatter3d",
         "x": [
          5.589261054992676
         ],
         "y": [
          12.973257064819336
         ],
         "z": [
          -5.437195301055908
         ]
        },
        {
         "marker": {
          "size": 6
         },
         "mode": "markers",
         "name": "stem",
         "text": [
          "stem"
         ],
         "type": "scatter3d",
         "x": [
          6.315293312072754
         ],
         "y": [
          3.177999496459961
         ],
         "z": [
          10.81472396850586
         ]
        },
        {
         "marker": {
          "size": 6
         },
         "mode": "markers",
         "name": "school",
         "text": [
          "school"
         ],
         "type": "scatter3d",
         "x": [
          5.991884708404541
         ],
         "y": [
          7.568086624145508
         ],
         "z": [
          11.946969985961914
         ]
        },
        {
         "marker": {
          "size": 6
         },
         "mode": "markers",
         "name": "contributions",
         "text": [
          "contributions"
         ],
         "type": "scatter3d",
         "x": [
          5.933012008666992
         ],
         "y": [
          6.605238437652588
         ],
         "z": [
          8.916036605834961
         ]
        },
        {
         "marker": {
          "size": 6
         },
         "mode": "markers",
         "name": ".",
         "text": [
          "."
         ],
         "type": "scatter3d",
         "x": [
          2.59665846824646
         ],
         "y": [
          6.104928970336914
         ],
         "z": [
          6.853550434112549
         ]
        },
        {
         "marker": {
          "size": 6
         },
         "mode": "markers",
         "name": "-",
         "text": [
          "-"
         ],
         "type": "scatter3d",
         "x": [
          6.151741981506348
         ],
         "y": [
          -3.798377275466919
         ],
         "z": [
          15.415989875793457
         ]
        },
        {
         "marker": {
          "size": 6
         },
         "mode": "markers",
         "name": "-",
         "text": [
          "-"
         ],
         "type": "scatter3d",
         "x": [
          2.822235107421875
         ],
         "y": [
          -2.9007174968719482
         ],
         "z": [
          -6.265027046203613
         ]
        },
        {
         "marker": {
          "size": 6
         },
         "mode": "markers",
         "name": "for",
         "text": [
          "for"
         ],
         "type": "scatter3d",
         "x": [
          3.7949323654174805
         ],
         "y": [
          5.895938873291016
         ],
         "z": [
          8.972039222717285
         ]
        },
        {
         "marker": {
          "size": 6
         },
         "mode": "markers",
         "name": "purposes",
         "text": [
          "purposes"
         ],
         "type": "scatter3d",
         "x": [
          4.101491928100586
         ],
         "y": [
          6.9623799324035645
         ],
         "z": [
          7.56900691986084
         ]
        },
        {
         "marker": {
          "size": 6
         },
         "mode": "markers",
         "name": "of",
         "text": [
          "of"
         ],
         "type": "scatter3d",
         "x": [
          3.3413243293762207
         ],
         "y": [
          7.990371227264404
         ],
         "z": [
          7.488993167877197
         ]
        },
        {
         "marker": {
          "size": 6
         },
         "mode": "markers",
         "name": "this",
         "text": [
          "this"
         ],
         "type": "scatter3d",
         "x": [
          1.4568754434585571
         ],
         "y": [
          8.328719139099121
         ],
         "z": [
          7.426995277404785
         ]
        },
        {
         "marker": {
          "size": 6
         },
         "mode": "markers",
         "name": "section",
         "text": [
          "section"
         ],
         "type": "scatter3d",
         "x": [
          2.807042121887207
         ],
         "y": [
          8.331175804138184
         ],
         "z": [
          6.347536563873291
         ]
        },
        {
         "marker": {
          "size": 6
         },
         "mode": "markers",
         "name": "-",
         "text": [
          "-"
         ],
         "type": "scatter3d",
         "x": [
          6.041304588317871
         ],
         "y": [
          -3.687751054763794
         ],
         "z": [
          15.5253267288208
         ]
        },
        {
         "marker": {
          "size": 6
         },
         "mode": "markers",
         "name": "-",
         "text": [
          "-"
         ],
         "type": "scatter3d",
         "x": [
          2.974177122116089
         ],
         "y": [
          -2.742769241333008
         ],
         "z": [
          -6.100673198699951
         ]
        },
        {
         "marker": {
          "size": 6
         },
         "mode": "markers",
         "name": "`",
         "text": [
          "`"
         ],
         "type": "scatter3d",
         "x": [
          -4.92571496963501
         ],
         "y": [
          -1.189491629600525
         ],
         "z": [
          -1.247744083404541
         ]
        },
        {
         "marker": {
          "size": 6
         },
         "mode": "markers",
         "name": "`",
         "text": [
          "`"
         ],
         "type": "scatter3d",
         "x": [
          -4.871798992156982
         ],
         "y": [
          -1.193967342376709
         ],
         "z": [
          -1.1911245584487915
         ]
        },
        {
         "marker": {
          "size": 6
         },
         "mode": "markers",
         "name": "(",
         "text": [
          "("
         ],
         "type": "scatter3d",
         "x": [
          -3.157866954803467
         ],
         "y": [
          9.168564796447754
         ],
         "z": [
          -5.846890449523926
         ]
        },
        {
         "marker": {
          "size": 6
         },
         "mode": "markers",
         "name": "1",
         "text": [
          "1"
         ],
         "type": "scatter3d",
         "x": [
          3.6654133796691895
         ],
         "y": [
          10.304593086242676
         ],
         "z": [
          5.015000343322754
         ]
        },
        {
         "marker": {
          "size": 6
         },
         "mode": "markers",
         "name": ")",
         "text": [
          ")"
         ],
         "type": "scatter3d",
         "x": [
          5.623030662536621
         ],
         "y": [
          13.143479347229004
         ],
         "z": [
          -5.844013214111328
         ]
        },
        {
         "marker": {
          "size": 6
         },
         "mode": "markers",
         "name": "in",
         "text": [
          "in"
         ],
         "type": "scatter3d",
         "x": [
          4.236894607543945
         ],
         "y": [
          8.251441955566406
         ],
         "z": [
          10.16611099243164
         ]
        },
        {
         "marker": {
          "size": 6
         },
         "mode": "markers",
         "name": "general",
         "text": [
          "general"
         ],
         "type": "scatter3d",
         "x": [
          2.7415316104888916
         ],
         "y": [
          6.5506134033203125
         ],
         "z": [
          7.167518615722656
         ]
        },
        {
         "marker": {
          "size": 6
         },
         "mode": "markers",
         "name": ".",
         "text": [
          "."
         ],
         "type": "scatter3d",
         "x": [
          -2.25504207611084
         ],
         "y": [
          6.718406677246094
         ],
         "z": [
          2.5925960540771484
         ]
        },
        {
         "marker": {
          "size": 6
         },
         "mode": "markers",
         "name": "-",
         "text": [
          "-"
         ],
         "type": "scatter3d",
         "x": [
          6.105822563171387
         ],
         "y": [
          -3.752406120300293
         ],
         "z": [
          15.462342262268066
         ]
        },
        {
         "marker": {
          "size": 6
         },
         "mode": "markers",
         "name": "-",
         "text": [
          "-"
         ],
         "type": "scatter3d",
         "x": [
          2.796429395675659
         ],
         "y": [
          -2.9266295433044434
         ],
         "z": [
          -6.290585994720459
         ]
        },
        {
         "marker": {
          "size": 6
         },
         "mode": "markers",
         "name": "the",
         "text": [
          "the"
         ],
         "type": "scatter3d",
         "x": [
          1.8043673038482666
         ],
         "y": [
          7.447801113128662
         ],
         "z": [
          8.272777557373047
         ]
        },
        {
         "marker": {
          "size": 6
         },
         "mode": "markers",
         "name": "term",
         "text": [
          "term"
         ],
         "type": "scatter3d",
         "x": [
          14.787705421447754
         ],
         "y": [
          1.0299503803253174
         ],
         "z": [
          5.9079461097717285
         ]
        },
        {
         "marker": {
          "size": 6
         },
         "mode": "markers",
         "name": "`",
         "text": [
          "`"
         ],
         "type": "scatter3d",
         "x": [
          -4.727295398712158
         ],
         "y": [
          -0.4056665599346161
         ],
         "z": [
          -0.9718195796012878
         ]
        },
        {
         "marker": {
          "size": 6
         },
         "mode": "markers",
         "name": "stem",
         "text": [
          "stem"
         ],
         "type": "scatter3d",
         "x": [
          6.277690887451172
         ],
         "y": [
          3.199115037918091
         ],
         "z": [
          10.856760025024414
         ]
        },
        {
         "marker": {
          "size": 6
         },
         "mode": "markers",
         "name": "school",
         "text": [
          "school"
         ],
         "type": "scatter3d",
         "x": [
          5.975552082061768
         ],
         "y": [
          7.584047317504883
         ],
         "z": [
          11.971821784973145
         ]
        },
        {
         "marker": {
          "size": 6
         },
         "mode": "markers",
         "name": "contributions",
         "text": [
          "contributions"
         ],
         "type": "scatter3d",
         "x": [
          5.9526286125183105
         ],
         "y": [
          6.601878643035889
         ],
         "z": [
          8.905298233032227
         ]
        },
        {
         "marker": {
          "size": 6
         },
         "mode": "markers",
         "name": "'",
         "text": [
          "'"
         ],
         "type": "scatter3d",
         "x": [
          3.2752768993377686
         ],
         "y": [
          6.4854350090026855
         ],
         "z": [
          14.401253700256348
         ]
        },
        {
         "marker": {
          "size": 6
         },
         "mode": "markers",
         "name": "means",
         "text": [
          "means"
         ],
         "type": "scatter3d",
         "x": [
          5.6675190925598145
         ],
         "y": [
          -5.698169231414795
         ],
         "z": [
          7.6567487716674805
         ]
        },
        {
         "marker": {
          "size": 6
         },
         "mode": "markers",
         "name": "-",
         "text": [
          "-"
         ],
         "type": "scatter3d",
         "x": [
          6.0770463943481445
         ],
         "y": [
          -3.7236461639404297
         ],
         "z": [
          15.488808631896973
         ]
        },
        {
         "marker": {
          "size": 6
         },
         "mode": "markers",
         "name": "-",
         "text": [
          "-"
         ],
         "type": "scatter3d",
         "x": [
          2.9739532470703125
         ],
         "y": [
          -2.7415413856506348
         ],
         "z": [
          -6.098048210144043
         ]
        },
        {
         "marker": {
          "size": 6
         },
         "mode": "markers",
         "name": "`",
         "text": [
          "`"
         ],
         "type": "scatter3d",
         "x": [
          -4.950443267822266
         ],
         "y": [
          -1.1657849550247192
         ],
         "z": [
          -1.2718178033828735
         ]
        },
        {
         "marker": {
          "size": 6
         },
         "mode": "markers",
         "name": "`",
         "text": [
          "`"
         ],
         "type": "scatter3d",
         "x": [
          -4.882495403289795
         ],
         "y": [
          -1.160617709159851
         ],
         "z": [
          -1.2116988897323608
         ]
        },
        {
         "marker": {
          "size": 6
         },
         "mode": "markers",
         "name": "(",
         "text": [
          "("
         ],
         "type": "scatter3d",
         "x": [
          -3.0691277980804443
         ],
         "y": [
          9.259801864624023
         ],
         "z": [
          -5.911746978759766
         ]
        },
        {
         "marker": {
          "size": 6
         },
         "mode": "markers",
         "name": "a",
         "text": [
          "a"
         ],
         "type": "scatter3d",
         "x": [
          4.325290679931641
         ],
         "y": [
          10.598931312561035
         ],
         "z": [
          4.942263126373291
         ]
        },
        {
         "marker": {
          "size": 6
         },
         "mode": "markers",
         "name": ")",
         "text": [
          ")"
         ],
         "type": "scatter3d",
         "x": [
          5.577793598175049
         ],
         "y": [
          12.999924659729004
         ],
         "z": [
          -5.473185062408447
         ]
        },
        {
         "marker": {
          "size": 6
         },
         "mode": "markers",
         "name": "stem",
         "text": [
          "stem"
         ],
         "type": "scatter3d",
         "x": [
          6.330015182495117
         ],
         "y": [
          3.18082857131958
         ],
         "z": [
          10.803995132446289
         ]
        },
        {
         "marker": {
          "size": 6
         },
         "mode": "markers",
         "name": "property",
         "text": [
          "property"
         ],
         "type": "scatter3d",
         "x": [
          5.683243751525879
         ],
         "y": [
          6.042974472045898
         ],
         "z": [
          9.975272178649902
         ]
        },
        {
         "marker": {
          "size": 6
         },
         "mode": "markers",
         "name": "contributions",
         "text": [
          "contributions"
         ],
         "type": "scatter3d",
         "x": [
          5.917087554931641
         ],
         "y": [
          6.606936931610107
         ],
         "z": [
          8.949514389038086
         ]
        },
        {
         "marker": {
          "size": 6
         },
         "mode": "markers",
         "name": ",",
         "text": [
          ","
         ],
         "type": "scatter3d",
         "x": [
          1.684232473373413
         ],
         "y": [
          4.099522590637207
         ],
         "z": [
          6.965758800506592
         ]
        },
        {
         "marker": {
          "size": 6
         },
         "mode": "markers",
         "name": "and",
         "text": [
          "and"
         ],
         "type": "scatter3d",
         "x": [
          1.9479016065597534
         ],
         "y": [
          3.562342405319214
         ],
         "z": [
          7.330360412597656
         ]
        },
        {
         "marker": {
          "size": 6
         },
         "mode": "markers",
         "name": "`",
         "text": [
          "`"
         ],
         "type": "scatter3d",
         "x": [
          -4.925209999084473
         ],
         "y": [
          -1.2037978172302246
         ],
         "z": [
          -1.2442727088928223
         ]
        },
        {
         "marker": {
          "size": 6
         },
         "mode": "markers",
         "name": "`",
         "text": [
          "`"
         ],
         "type": "scatter3d",
         "x": [
          -4.909707069396973
         ],
         "y": [
          -1.1692304611206055
         ],
         "z": [
          -1.2348361015319824
         ]
        },
        {
         "marker": {
          "size": 6
         },
         "mode": "markers",
         "name": "(",
         "text": [
          "("
         ],
         "type": "scatter3d",
         "x": [
          -3.1057186126708984
         ],
         "y": [
          9.223247528076172
         ],
         "z": [
          -5.9219160079956055
         ]
        },
        {
         "marker": {
          "size": 6
         },
         "mode": "markers",
         "name": "b",
         "text": [
          "b"
         ],
         "type": "scatter3d",
         "x": [
          4.014835357666016
         ],
         "y": [
          10.627196311950684
         ],
         "z": [
          4.705052852630615
         ]
        },
        {
         "marker": {
          "size": 6
         },
         "mode": "markers",
         "name": ")",
         "text": [
          ")"
         ],
         "type": "scatter3d",
         "x": [
          5.586604118347168
         ],
         "y": [
          12.983153343200684
         ],
         "z": [
          -5.445825576782227
         ]
        },
        {
         "marker": {
          "size": 6
         },
         "mode": "markers",
         "name": "stem",
         "text": [
          "stem"
         ],
         "type": "scatter3d",
         "x": [
          6.34343957901001
         ],
         "y": [
          3.1907734870910645
         ],
         "z": [
          10.79101276397705
         ]
        },
        {
         "marker": {
          "size": 6
         },
         "mode": "markers",
         "name": "service",
         "text": [
          "service"
         ],
         "type": "scatter3d",
         "x": [
          5.555562496185303
         ],
         "y": [
          6.695501327514648
         ],
         "z": [
          10.162612915039062
         ]
        },
        {
         "marker": {
          "size": 6
         },
         "mode": "markers",
         "name": "contributions",
         "text": [
          "contributions"
         ],
         "type": "scatter3d",
         "x": [
          5.930598258972168
         ],
         "y": [
          6.607492923736572
         ],
         "z": [
          8.924422264099121
         ]
        },
        {
         "marker": {
          "size": 6
         },
         "mode": "markers",
         "name": ".",
         "text": [
          "."
         ],
         "type": "scatter3d",
         "x": [
          2.553215503692627
         ],
         "y": [
          6.098564147949219
         ],
         "z": [
          6.8621826171875
         ]
        },
        {
         "marker": {
          "size": 6
         },
         "mode": "markers",
         "name": "`",
         "text": [
          "`"
         ],
         "type": "scatter3d",
         "x": [
          -4.909931659698486
         ],
         "y": [
          -1.3496571779251099
         ],
         "z": [
          -1.2036771774291992
         ]
        },
        {
         "marker": {
          "size": 6
         },
         "mode": "markers",
         "name": "`",
         "text": [
          "`"
         ],
         "type": "scatter3d",
         "x": [
          -4.887086868286133
         ],
         "y": [
          -1.2158390283584595
         ],
         "z": [
          -1.2006045579910278
         ]
        },
        {
         "marker": {
          "size": 6
         },
         "mode": "markers",
         "name": "(",
         "text": [
          "("
         ],
         "type": "scatter3d",
         "x": [
          -3.1337344646453857
         ],
         "y": [
          9.192854881286621
         ],
         "z": [
          -5.867767810821533
         ]
        },
        {
         "marker": {
          "size": 6
         },
         "mode": "markers",
         "name": "2",
         "text": [
          "2"
         ],
         "type": "scatter3d",
         "x": [
          3.7779524326324463
         ],
         "y": [
          10.411726951599121
         ],
         "z": [
          4.891156196594238
         ]
        },
        {
         "marker": {
          "size": 6
         },
         "mode": "markers",
         "name": ")",
         "text": [
          ")"
         ],
         "type": "scatter3d",
         "x": [
          5.580163478851318
         ],
         "y": [
          12.992076873779297
         ],
         "z": [
          -5.452631950378418
         ]
        },
        {
         "marker": {
          "size": 6
         },
         "mode": "markers",
         "name": "stem",
         "text": [
          "stem"
         ],
         "type": "scatter3d",
         "x": [
          6.390355587005615
         ],
         "y": [
          3.116999864578247
         ],
         "z": [
          10.745790481567383
         ]
        },
        {
         "marker": {
          "size": 6
         },
         "mode": "markers",
         "name": "property",
         "text": [
          "property"
         ],
         "type": "scatter3d",
         "x": [
          5.691381931304932
         ],
         "y": [
          6.031769275665283
         ],
         "z": [
          9.968802452087402
         ]
        },
        {
         "marker": {
          "size": 6
         },
         "mode": "markers",
         "name": "contributions",
         "text": [
          "contributions"
         ],
         "type": "scatter3d",
         "x": [
          5.940650939941406
         ],
         "y": [
          6.60585355758667
         ],
         "z": [
          8.919285774230957
         ]
        },
        {
         "marker": {
          "size": 6
         },
         "mode": "markers",
         "name": ".",
         "text": [
          "."
         ],
         "type": "scatter3d",
         "x": [
          2.5621557235717773
         ],
         "y": [
          6.1653547286987305
         ],
         "z": [
          6.924465656280518
         ]
        },
        {
         "marker": {
          "size": 6
         },
         "mode": "markers",
         "name": "-",
         "text": [
          "-"
         ],
         "type": "scatter3d",
         "x": [
          6.1509904861450195
         ],
         "y": [
          -3.797677516937256
         ],
         "z": [
          15.416702270507812
         ]
        },
        {
         "marker": {
          "size": 6
         },
         "mode": "markers",
         "name": "-",
         "text": [
          "-"
         ],
         "type": "scatter3d",
         "x": [
          2.8238391876220703
         ],
         "y": [
          -2.898998260498047
         ],
         "z": [
          -6.2622222900390625
         ]
        },
        {
         "marker": {
          "size": 6
         },
         "mode": "markers",
         "name": "the",
         "text": [
          "the"
         ],
         "type": "scatter3d",
         "x": [
          1.8255324363708496
         ],
         "y": [
          7.475604057312012
         ],
         "z": [
          8.277098655700684
         ]
        },
        {
         "marker": {
          "size": 6
         },
         "mode": "markers",
         "name": "term",
         "text": [
          "term"
         ],
         "type": "scatter3d",
         "x": [
          14.78671646118164
         ],
         "y": [
          1.0289732217788696
         ],
         "z": [
          5.908792495727539
         ]
        },
        {
         "marker": {
          "size": 6
         },
         "mode": "markers",
         "name": "`",
         "text": [
          "`"
         ],
         "type": "scatter3d",
         "x": [
          -4.712025165557861
         ],
         "y": [
          -0.4197843372821808
         ],
         "z": [
          -0.9568252563476562
         ]
        },
        {
         "marker": {
          "size": 6
         },
         "mode": "markers",
         "name": "stem",
         "text": [
          "stem"
         ],
         "type": "scatter3d",
         "x": [
          6.311617374420166
         ],
         "y": [
          3.189286470413208
         ],
         "z": [
          10.813636779785156
         ]
        },
        {
         "marker": {
          "size": 6
         },
         "mode": "markers",
         "name": "property",
         "text": [
          "property"
         ],
         "type": "scatter3d",
         "x": [
          5.688429355621338
         ],
         "y": [
          6.044227123260498
         ],
         "z": [
          9.978009223937988
         ]
        },
        {
         "marker": {
          "size": 6
         },
         "mode": "markers",
         "name": "contributions",
         "text": [
          "contributions"
         ],
         "type": "scatter3d",
         "x": [
          5.937263488769531
         ],
         "y": [
          6.606907844543457
         ],
         "z": [
          8.917808532714844
         ]
        },
        {
         "marker": {
          "size": 6
         },
         "mode": "markers",
         "name": "'",
         "text": [
          "'"
         ],
         "type": "scatter3d",
         "x": [
          3.2699146270751953
         ],
         "y": [
          6.473296642303467
         ],
         "z": [
          14.417634010314941
         ]
        },
        {
         "marker": {
          "size": 6
         },
         "mode": "markers",
         "name": "means",
         "text": [
          "means"
         ],
         "type": "scatter3d",
         "x": [
          5.66342830657959
         ],
         "y": [
          -5.700319290161133
         ],
         "z": [
          7.653619289398193
         ]
        },
        {
         "marker": {
          "size": 6
         },
         "mode": "markers",
         "name": "the",
         "text": [
          "the"
         ],
         "type": "scatter3d",
         "x": [
          2.963766098022461
         ],
         "y": [
          7.190055847167969
         ],
         "z": [
          8.872041702270508
         ]
        },
        {
         "marker": {
          "size": 6
         },
         "mode": "markers",
         "name": "amount",
         "text": [
          "amount"
         ],
         "type": "scatter3d",
         "x": [
          4.147872447967529
         ],
         "y": [
          6.824426651000977
         ],
         "z": [
          8.70760440826416
         ]
        },
        {
         "marker": {
          "size": 6
         },
         "mode": "markers",
         "name": "which",
         "text": [
          "which"
         ],
         "type": "scatter3d",
         "x": [
          3.0687808990478516
         ],
         "y": [
          7.970403671264648
         ],
         "z": [
          9.631512641906738
         ]
        },
        {
         "marker": {
          "size": 6
         },
         "mode": "markers",
         "name": "would",
         "text": [
          "would"
         ],
         "type": "scatter3d",
         "x": [
          3.2893993854522705
         ],
         "y": [
          7.476883888244629
         ],
         "z": [
          8.937652587890625
         ]
        },
        {
         "marker": {
          "size": 6
         },
         "mode": "markers",
         "name": "(",
         "text": [
          "("
         ],
         "type": "scatter3d",
         "x": [
          -3.3689451217651367
         ],
         "y": [
          8.927604675292969
         ],
         "z": [
          -5.8199052810668945
         ]
        },
        {
         "marker": {
          "size": 6
         },
         "mode": "markers",
         "name": "but",
         "text": [
          "but"
         ],
         "type": "scatter3d",
         "x": [
          2.5913374423980713
         ],
         "y": [
          6.136748313903809
         ],
         "z": [
          7.470977783203125
         ]
        },
        {
         "marker": {
          "size": 6
         },
         "mode": "markers",
         "name": "for",
         "text": [
          "for"
         ],
         "type": "scatter3d",
         "x": [
          3.7919600009918213
         ],
         "y": [
          6.0250773429870605
         ],
         "z": [
          9.072808265686035
         ]
        },
        {
         "marker": {
          "size": 6
         },
         "mode": "markers",
         "name": "sub",
         "text": [
          "sub"
         ],
         "type": "scatter3d",
         "x": [
          3.0190842151641846
         ],
         "y": [
          7.890976428985596
         ],
         "z": [
          6.509560585021973
         ]
        },
        {
         "marker": {
          "size": 6
         },
         "mode": "markers",
         "name": "##section",
         "text": [
          "##section"
         ],
         "type": "scatter3d",
         "x": [
          2.925565719604492
         ],
         "y": [
          8.294811248779297
         ],
         "z": [
          6.3004302978515625
         ]
        },
        {
         "marker": {
          "size": 6
         },
         "mode": "markers",
         "name": "(",
         "text": [
          "("
         ],
         "type": "scatter3d",
         "x": [
          -3.4785685539245605
         ],
         "y": [
          8.805694580078125
         ],
         "z": [
          -5.729347229003906
         ]
        },
        {
         "marker": {
          "size": 6
         },
         "mode": "markers",
         "name": "f",
         "text": [
          "f"
         ],
         "type": "scatter3d",
         "x": [
          4.068941593170166
         ],
         "y": [
          10.655621528625488
         ],
         "z": [
          4.679019451141357
         ]
        },
        {
         "marker": {
          "size": 6
         },
         "mode": "markers",
         "name": ")",
         "text": [
          ")"
         ],
         "type": "scatter3d",
         "x": [
          2.4381072521209717
         ],
         "y": [
          6.311365127563477
         ],
         "z": [
          7.239311695098877
         ]
        },
        {
         "marker": {
          "size": 6
         },
         "mode": "markers",
         "name": ")",
         "text": [
          ")"
         ],
         "type": "scatter3d",
         "x": [
          5.6354169845581055
         ],
         "y": [
          13.189858436584473
         ],
         "z": [
          -5.9636125564575195
         ]
        },
        {
         "marker": {
          "size": 6
         },
         "mode": "markers",
         "name": "be",
         "text": [
          "be"
         ],
         "type": "scatter3d",
         "x": [
          3.3023197650909424
         ],
         "y": [
          7.574370861053467
         ],
         "z": [
          8.918288230895996
         ]
        },
        {
         "marker": {
          "size": 6
         },
         "mode": "markers",
         "name": "allowed",
         "text": [
          "allowed"
         ],
         "type": "scatter3d",
         "x": [
          3.7061781883239746
         ],
         "y": [
          7.376285552978516
         ],
         "z": [
          8.783506393432617
         ]
        },
        {
         "marker": {
          "size": 6
         },
         "mode": "markers",
         "name": "as",
         "text": [
          "as"
         ],
         "type": "scatter3d",
         "x": [
          3.6658926010131836
         ],
         "y": [
          7.296774864196777
         ],
         "z": [
          8.937777519226074
         ]
        },
        {
         "marker": {
          "size": 6
         },
         "mode": "markers",
         "name": "a",
         "text": [
          "a"
         ],
         "type": "scatter3d",
         "x": [
          3.6702916622161865
         ],
         "y": [
          7.30111026763916
         ],
         "z": [
          8.97984504699707
         ]
        },
        {
         "marker": {
          "size": 6
         },
         "mode": "markers",
         "name": "de",
         "text": [
          "de"
         ],
         "type": "scatter3d",
         "x": [
          3.875068426132202
         ],
         "y": [
          6.963799476623535
         ],
         "z": [
          8.473423957824707
         ]
        },
        {
         "marker": {
          "size": 6
         },
         "mode": "markers",
         "name": "##duction",
         "text": [
          "##duction"
         ],
         "type": "scatter3d",
         "x": [
          3.9787094593048096
         ],
         "y": [
          6.992446422576904
         ],
         "z": [
          8.568106651306152
         ]
        },
        {
         "marker": {
          "size": 6
         },
         "mode": "markers",
         "name": "under",
         "text": [
          "under"
         ],
         "type": "scatter3d",
         "x": [
          3.6124141216278076
         ],
         "y": [
          8.329712867736816
         ],
         "z": [
          7.821259498596191
         ]
        },
        {
         "marker": {
          "size": 6
         },
         "mode": "markers",
         "name": "section",
         "text": [
          "section"
         ],
         "type": "scatter3d",
         "x": [
          3.0829954147338867
         ],
         "y": [
          8.438536643981934
         ],
         "z": [
          6.226685523986816
         ]
        },
        {
         "marker": {
          "size": 6
         },
         "mode": "markers",
         "name": "170",
         "text": [
          "170"
         ],
         "type": "scatter3d",
         "x": [
          3.506500482559204
         ],
         "y": [
          9.710967063903809
         ],
         "z": [
          5.453279495239258
         ]
        },
        {
         "marker": {
          "size": 6
         },
         "mode": "markers",
         "name": "for",
         "text": [
          "for"
         ],
         "type": "scatter3d",
         "x": [
          3.7916016578674316
         ],
         "y": [
          6.318852424621582
         ],
         "z": [
          9.249605178833008
         ]
        },
        {
         "marker": {
          "size": 6
         },
         "mode": "markers",
         "name": "a",
         "text": [
          "a"
         ],
         "type": "scatter3d",
         "x": [
          3.426121234893799
         ],
         "y": [
          7.588021755218506
         ],
         "z": [
          9.957845687866211
         ]
        },
        {
         "marker": {
          "size": 6
         },
         "mode": "markers",
         "name": "charitable",
         "text": [
          "charitable"
         ],
         "type": "scatter3d",
         "x": [
          5.449033260345459
         ],
         "y": [
          6.3039655685424805
         ],
         "z": [
          9.921975135803223
         ]
        },
        {
         "marker": {
          "size": 6
         },
         "mode": "markers",
         "name": "contribution",
         "text": [
          "contribution"
         ],
         "type": "scatter3d",
         "x": [
          5.9290008544921875
         ],
         "y": [
          6.611876010894775
         ],
         "z": [
          8.934192657470703
         ]
        },
        {
         "marker": {
          "size": 6
         },
         "mode": "markers",
         "name": "of",
         "text": [
          "of"
         ],
         "type": "scatter3d",
         "x": [
          3.5889475345611572
         ],
         "y": [
          6.851563930511475
         ],
         "z": [
          10.23907470703125
         ]
        },
        {
         "marker": {
          "size": 6
         },
         "mode": "markers",
         "name": "stem",
         "text": [
          "stem"
         ],
         "type": "scatter3d",
         "x": [
          6.275432586669922
         ],
         "y": [
          3.264854907989502
         ],
         "z": [
          10.845392227172852
         ]
        },
        {
         "marker": {
          "size": 6
         },
         "mode": "markers",
         "name": "inventory",
         "text": [
          "inventory"
         ],
         "type": "scatter3d",
         "x": [
          5.587837219238281
         ],
         "y": [
          6.188425540924072
         ],
         "z": [
          10.029109001159668
         ]
        },
        {
         "marker": {
          "size": 6
         },
         "mode": "markers",
         "name": "property",
         "text": [
          "property"
         ],
         "type": "scatter3d",
         "x": [
          5.642541885375977
         ],
         "y": [
          6.076443195343018
         ],
         "z": [
          10.003602027893066
         ]
        },
        {
         "marker": {
          "size": 6
         },
         "mode": "markers",
         "name": "if",
         "text": [
          "if"
         ],
         "type": "scatter3d",
         "x": [
          2.8011908531188965
         ],
         "y": [
          6.480670928955078
         ],
         "z": [
          7.430600166320801
         ]
        },
        {
         "marker": {
          "size": 6
         },
         "mode": "markers",
         "name": "-",
         "text": [
          "-"
         ],
         "type": "scatter3d",
         "x": [
          6.116989612579346
         ],
         "y": [
          -3.763439655303955
         ],
         "z": [
          15.450358390808105
         ]
        },
        {
         "marker": {
          "size": 6
         },
         "mode": "markers",
         "name": "-",
         "text": [
          "-"
         ],
         "type": "scatter3d",
         "x": [
          2.9697513580322266
         ],
         "y": [
          -2.7476894855499268
         ],
         "z": [
          -6.105659008026123
         ]
        },
        {
         "marker": {
          "size": 6
         },
         "mode": "markers",
         "name": "`",
         "text": [
          "`"
         ],
         "type": "scatter3d",
         "x": [
          -4.8354034423828125
         ],
         "y": [
          -1.2728538513183594
         ],
         "z": [
          -1.0914865732192993
         ]
        },
        {
         "marker": {
          "size": 6
         },
         "mode": "markers",
         "name": "`",
         "text": [
          "`"
         ],
         "type": "scatter3d",
         "x": [
          -4.813938617706299
         ],
         "y": [
          -1.20408034324646
         ],
         "z": [
          -1.0907673835754395
         ]
        },
        {
         "marker": {
          "size": 6
         },
         "mode": "markers",
         "name": "(",
         "text": [
          "("
         ],
         "type": "scatter3d",
         "x": [
          -3.0337977409362793
         ],
         "y": [
          9.294507026672363
         ],
         "z": [
          -5.9333882331848145
         ]
        },
        {
         "marker": {
          "size": 6
         },
         "mode": "markers",
         "name": "a",
         "text": [
          "a"
         ],
         "type": "scatter3d",
         "x": [
          4.299997806549072
         ],
         "y": [
          10.595881462097168
         ],
         "z": [
          4.922806262969971
         ]
        },
        {
         "marker": {
          "size": 6
         },
         "mode": "markers",
         "name": ")",
         "text": [
          ")"
         ],
         "type": "scatter3d",
         "x": [
          5.4853515625
         ],
         "y": [
          13.234246253967285
         ],
         "z": [
          -5.669308185577393
         ]
        },
        {
         "marker": {
          "size": 6
         },
         "mode": "markers",
         "name": "the",
         "text": [
          "the"
         ],
         "type": "scatter3d",
         "x": [
          3.2632102966308594
         ],
         "y": [
          7.174742221832275
         ],
         "z": [
          10.476422309875488
         ]
        },
        {
         "marker": {
          "size": 6
         },
         "mode": "markers",
         "name": "done",
         "text": [
          "done"
         ],
         "type": "scatter3d",
         "x": [
          8.060964584350586
         ],
         "y": [
          11.005024909973145
         ],
         "z": [
          16.786996841430664
         ]
        },
        {
         "marker": {
          "size": 6
         },
         "mode": "markers",
         "name": "##e",
         "text": [
          "##e"
         ],
         "type": "scatter3d",
         "x": [
          3.3558478355407715
         ],
         "y": [
          7.041508674621582
         ],
         "z": [
          11.917526245117188
         ]
        },
        {
         "marker": {
          "size": 6
         },
         "mode": "markers",
         "name": "is",
         "text": [
          "is"
         ],
         "type": "scatter3d",
         "x": [
          3.3033041954040527
         ],
         "y": [
          7.833599090576172
         ],
         "z": [
          9.707147598266602
         ]
        },
        {
         "marker": {
          "size": 6
         },
         "mode": "markers",
         "name": "an",
         "text": [
          "an"
         ],
         "type": "scatter3d",
         "x": [
          3.4102139472961426
         ],
         "y": [
          7.721152305603027
         ],
         "z": [
          10.00180721282959
         ]
        },
        {
         "marker": {
          "size": 6
         },
         "mode": "markers",
         "name": "elementary",
         "text": [
          "elementary"
         ],
         "type": "scatter3d",
         "x": [
          6.266200542449951
         ],
         "y": [
          8.403457641601562
         ],
         "z": [
          12.724132537841797
         ]
        },
        {
         "marker": {
          "size": 6
         },
         "mode": "markers",
         "name": "or",
         "text": [
          "or"
         ],
         "type": "scatter3d",
         "x": [
          1.9063594341278076
         ],
         "y": [
          2.170764684677124
         ],
         "z": [
          8.569238662719727
         ]
        },
        {
         "marker": {
          "size": 6
         },
         "mode": "markers",
         "name": "secondary",
         "text": [
          "secondary"
         ],
         "type": "scatter3d",
         "x": [
          6.302429676055908
         ],
         "y": [
          8.441335678100586
         ],
         "z": [
          12.762943267822266
         ]
        },
        {
         "marker": {
          "size": 6
         },
         "mode": "markers",
         "name": "school",
         "text": [
          "school"
         ],
         "type": "scatter3d",
         "x": [
          5.955057144165039
         ],
         "y": [
          7.641341686248779
         ],
         "z": [
          11.96180534362793
         ]
        },
        {
         "marker": {
          "size": 6
         },
         "mode": "markers",
         "name": "described",
         "text": [
          "described"
         ],
         "type": "scatter3d",
         "x": [
          4.025688171386719
         ],
         "y": [
          7.850229263305664
         ],
         "z": [
          8.52575397491455
         ]
        },
        {
         "marker": {
          "size": 6
         },
         "mode": "markers",
         "name": "in",
         "text": [
          "in"
         ],
         "type": "scatter3d",
         "x": [
          3.564610242843628
         ],
         "y": [
          8.26650333404541
         ],
         "z": [
          7.732152462005615
         ]
        },
        {
         "marker": {
          "size": 6
         },
         "mode": "markers",
         "name": "section",
         "text": [
          "section"
         ],
         "type": "scatter3d",
         "x": [
          3.015637159347534
         ],
         "y": [
          8.391737937927246
         ],
         "z": [
          6.274442672729492
         ]
        },
        {
         "marker": {
          "size": 6
         },
         "mode": "markers",
         "name": "170",
         "text": [
          "170"
         ],
         "type": "scatter3d",
         "x": [
          3.4656431674957275
         ],
         "y": [
          9.687121391296387
         ],
         "z": [
          5.4697265625
         ]
        },
        {
         "marker": {
          "size": 6
         },
         "mode": "markers",
         "name": "(",
         "text": [
          "("
         ],
         "type": "scatter3d",
         "x": [
          -3.656491756439209
         ],
         "y": [
          8.619124412536621
         ],
         "z": [
          -5.718339443206787
         ]
        },
        {
         "marker": {
          "size": 6
         },
         "mode": "markers",
         "name": "b",
         "text": [
          "b"
         ],
         "type": "scatter3d",
         "x": [
          4.080235958099365
         ],
         "y": [
          10.59725284576416
         ],
         "z": [
          4.785703659057617
         ]
        },
        {
         "marker": {
          "size": 6
         },
         "mode": "markers",
         "name": ")",
         "text": [
          ")"
         ],
         "type": "scatter3d",
         "x": [
          5.7630391120910645
         ],
         "y": [
          13.246004104614258
         ],
         "z": [
          -6.208665370941162
         ]
        },
        {
         "marker": {
          "size": 6
         },
         "mode": "markers",
         "name": "(",
         "text": [
          "("
         ],
         "type": "scatter3d",
         "x": [
          -3.677818775177002
         ],
         "y": [
          8.597481727600098
         ],
         "z": [
          -5.737660884857178
         ]
        },
        {
         "marker": {
          "size": 6
         },
         "mode": "markers",
         "name": "1",
         "text": [
          "1"
         ],
         "type": "scatter3d",
         "x": [
          3.702533006668091
         ],
         "y": [
          10.265708923339844
         ],
         "z": [
          5.072872638702393
         ]
        },
        {
         "marker": {
          "size": 6
         },
         "mode": "markers",
         "name": ")",
         "text": [
          ")"
         ],
         "type": "scatter3d",
         "x": [
          5.782578468322754
         ],
         "y": [
          13.262569427490234
         ],
         "z": [
          -6.233421802520752
         ]
        },
        {
         "marker": {
          "size": 6
         },
         "mode": "markers",
         "name": "(",
         "text": [
          "("
         ],
         "type": "scatter3d",
         "x": [
          -3.6552505493164062
         ],
         "y": [
          8.620757102966309
         ],
         "z": [
          -5.728828430175781
         ]
        },
        {
         "marker": {
          "size": 6
         },
         "mode": "markers",
         "name": "a",
         "text": [
          "a"
         ],
         "type": "scatter3d",
         "x": [
          4.270392894744873
         ],
         "y": [
          10.542354583740234
         ],
         "z": [
          4.949828147888184
         ]
        },
        {
         "marker": {
          "size": 6
         },
         "mode": "markers",
         "name": ")",
         "text": [
          ")"
         ],
         "type": "scatter3d",
         "x": [
          5.772827625274658
         ],
         "y": [
          13.255970001220703
         ],
         "z": [
          -6.218695640563965
         ]
        },
        {
         "marker": {
          "size": 6
         },
         "mode": "markers",
         "name": "(",
         "text": [
          "("
         ],
         "type": "scatter3d",
         "x": [
          -3.670471429824829
         ],
         "y": [
          8.604987144470215
         ],
         "z": [
          -5.732754707336426
         ]
        },
        {
         "marker": {
          "size": 6
         },
         "mode": "markers",
         "name": "ii",
         "text": [
          "ii"
         ],
         "type": "scatter3d",
         "x": [
          3.948607921600342
         ],
         "y": [
          10.422616958618164
         ],
         "z": [
          4.9431562423706055
         ]
        },
        {
         "marker": {
          "size": 6
         },
         "mode": "markers",
         "name": ")",
         "text": [
          ")"
         ],
         "type": "scatter3d",
         "x": [
          2.0993289947509766
         ],
         "y": [
          6.16977071762085
         ],
         "z": [
          7.3173627853393555
         ]
        },
        {
         "marker": {
          "size": 6
         },
         "mode": "markers",
         "name": ",",
         "text": [
          ","
         ],
         "type": "scatter3d",
         "x": [
          1.7503327131271362
         ],
         "y": [
          3.905710220336914
         ],
         "z": [
          7.065269947052002
         ]
        },
        {
         "marker": {
          "size": 6
         },
         "mode": "markers",
         "name": "`",
         "text": [
          "`"
         ],
         "type": "scatter3d",
         "x": [
          -4.685171604156494
         ],
         "y": [
          -1.4309214353561401
         ],
         "z": [
          -0.8740285634994507
         ]
        },
        {
         "marker": {
          "size": 6
         },
         "mode": "markers",
         "name": "`",
         "text": [
          "`"
         ],
         "type": "scatter3d",
         "x": [
          -4.669129371643066
         ],
         "y": [
          -1.2841318845748901
         ],
         "z": [
          -0.8755391836166382
         ]
        },
        {
         "marker": {
          "size": 6
         },
         "mode": "markers",
         "name": "(",
         "text": [
          "("
         ],
         "type": "scatter3d",
         "x": [
          -3.088867664337158
         ],
         "y": [
          9.239652633666992
         ],
         "z": [
          -5.8358259201049805
         ]
        },
        {
         "marker": {
          "size": 6
         },
         "mode": "markers",
         "name": "b",
         "text": [
          "b"
         ],
         "type": "scatter3d",
         "x": [
          4.026483535766602
         ],
         "y": [
          10.669159889221191
         ],
         "z": [
          4.676199436187744
         ]
        },
        {
         "marker": {
          "size": 6
         },
         "mode": "markers",
         "name": ")",
         "text": [
          ")"
         ],
         "type": "scatter3d",
         "x": [
          5.511070251464844
         ],
         "y": [
          13.247016906738281
         ],
         "z": [
          -5.700784206390381
         ]
        },
        {
         "marker": {
          "size": 6
         },
         "mode": "markers",
         "name": "substantially",
         "text": [
          "substantially"
         ],
         "type": "scatter3d",
         "x": [
          3.6153674125671387
         ],
         "y": [
          6.751515865325928
         ],
         "z": [
          9.629266738891602
         ]
        },
        {
         "marker": {
          "size": 6
         },
         "mode": "markers",
         "name": "all",
         "text": [
          "all"
         ],
         "type": "scatter3d",
         "x": [
          3.438459634780884
         ],
         "y": [
          6.8038105964660645
         ],
         "z": [
          9.673490524291992
         ]
        },
        {
         "marker": {
          "size": 6
         },
         "mode": "markers",
         "name": "of",
         "text": [
          "of"
         ],
         "type": "scatter3d",
         "x": [
          3.521312713623047
         ],
         "y": [
          6.875089645385742
         ],
         "z": [
          10.069244384765625
         ]
        },
        {
         "marker": {
          "size": 6
         },
         "mode": "markers",
         "name": "the",
         "text": [
          "the"
         ],
         "type": "scatter3d",
         "x": [
          3.382131338119507
         ],
         "y": [
          7.326940536499023
         ],
         "z": [
          10.308084487915039
         ]
        },
        {
         "marker": {
          "size": 6
         },
         "mode": "markers",
         "name": "use",
         "text": [
          "use"
         ],
         "type": "scatter3d",
         "x": [
          4.969235897064209
         ],
         "y": [
          6.824963569641113
         ],
         "z": [
          9.992780685424805
         ]
        },
        {
         "marker": {
          "size": 6
         },
         "mode": "markers",
         "name": "of",
         "text": [
          "of"
         ],
         "type": "scatter3d",
         "x": [
          3.5013227462768555
         ],
         "y": [
          6.874009609222412
         ],
         "z": [
          10.256147384643555
         ]
        },
        {
         "marker": {
          "size": 6
         },
         "mode": "markers",
         "name": "the",
         "text": [
          "the"
         ],
         "type": "scatter3d",
         "x": [
          3.3233320713043213
         ],
         "y": [
          7.13043737411499
         ],
         "z": [
          10.549332618713379
         ]
        },
        {
         "marker": {
          "size": 6
         },
         "mode": "markers",
         "name": "property",
         "text": [
          "property"
         ],
         "type": "scatter3d",
         "x": [
          5.710694313049316
         ],
         "y": [
          6.026444911956787
         ],
         "z": [
          9.99384593963623
         ]
        },
        {
         "marker": {
          "size": 6
         },
         "mode": "markers",
         "name": "by",
         "text": [
          "by"
         ],
         "type": "scatter3d",
         "x": [
          3.3851442337036133
         ],
         "y": [
          6.603635311126709
         ],
         "z": [
          10.348090171813965
         ]
        },
        {
         "marker": {
          "size": 6
         },
         "mode": "markers",
         "name": "the",
         "text": [
          "the"
         ],
         "type": "scatter3d",
         "x": [
          3.266653299331665
         ],
         "y": [
          7.160945415496826
         ],
         "z": [
          10.533172607421875
         ]
        },
        {
         "marker": {
          "size": 6
         },
         "mode": "markers",
         "name": "done",
         "text": [
          "done"
         ],
         "type": "scatter3d",
         "x": [
          8.06100845336914
         ],
         "y": [
          11.005037307739258
         ],
         "z": [
          16.78706932067871
         ]
        },
        {
         "marker": {
          "size": 6
         },
         "mode": "markers",
         "name": "##e",
         "text": [
          "##e"
         ],
         "type": "scatter3d",
         "x": [
          3.3675806522369385
         ],
         "y": [
          7.024600982666016
         ],
         "z": [
          11.939651489257812
         ]
        },
        {
         "marker": {
          "size": 6
         },
         "mode": "markers",
         "name": "is",
         "text": [
          "is"
         ],
         "type": "scatter3d",
         "x": [
          3.3664588928222656
         ],
         "y": [
          7.826268196105957
         ],
         "z": [
          9.661705017089844
         ]
        },
        {
         "marker": {
          "size": 6
         },
         "mode": "markers",
         "name": "within",
         "text": [
          "within"
         ],
         "type": "scatter3d",
         "x": [
          3.7704052925109863
         ],
         "y": [
          8.119729995727539
         ],
         "z": [
          10.128573417663574
         ]
        },
        {
         "marker": {
          "size": 6
         },
         "mode": "markers",
         "name": "the",
         "text": [
          "the"
         ],
         "type": "scatter3d",
         "x": [
          3.4932191371917725
         ],
         "y": [
          8.080328941345215
         ],
         "z": [
          10.50773811340332
         ]
        },
        {
         "marker": {
          "size": 6
         },
         "mode": "markers",
         "name": "united",
         "text": [
          "united"
         ],
         "type": "scatter3d",
         "x": [
          3.180567979812622
         ],
         "y": [
          9.06107234954834
         ],
         "z": [
          9.954261779785156
         ]
        },
        {
         "marker": {
          "size": 6
         },
         "mode": "markers",
         "name": "states",
         "text": [
          "states"
         ],
         "type": "scatter3d",
         "x": [
          3.1756527423858643
         ],
         "y": [
          9.066308975219727
         ],
         "z": [
          9.949079513549805
         ]
        },
        {
         "marker": {
          "size": 6
         },
         "mode": "markers",
         "name": "or",
         "text": [
          "or"
         ],
         "type": "scatter3d",
         "x": [
          1.861954927444458
         ],
         "y": [
          2.221011161804199
         ],
         "z": [
          8.544089317321777
         ]
        },
        {
         "marker": {
          "size": 6
         },
         "mode": "markers",
         "name": "within",
         "text": [
          "within"
         ],
         "type": "scatter3d",
         "x": [
          3.8892080783843994
         ],
         "y": [
          8.113432884216309
         ],
         "z": [
          10.203181266784668
         ]
        },
        {
         "marker": {
          "size": 6
         },
         "mode": "markers",
         "name": "the",
         "text": [
          "the"
         ],
         "type": "scatter3d",
         "x": [
          3.580678701400757
         ],
         "y": [
          7.986642360687256
         ],
         "z": [
          10.603545188903809
         ]
        },
        {
         "marker": {
          "size": 6
         },
         "mode": "markers",
         "name": "defense",
         "text": [
          "defense"
         ],
         "type": "scatter3d",
         "x": [
          6.143377304077148
         ],
         "y": [
          3.7730135917663574
         ],
         "z": [
          10.766974449157715
         ]
        },
        {
         "marker": {
          "size": 6
         },
         "mode": "markers",
         "name": "dependent",
         "text": [
          "dependent"
         ],
         "type": "scatter3d",
         "x": [
          5.252231597900391
         ],
         "y": [
          6.091238021850586
         ],
         "z": [
          11.327886581420898
         ]
        },
        {
         "marker": {
          "size": 6
         },
         "mode": "markers",
         "name": "##s",
         "text": [
          "##s"
         ],
         "type": "scatter3d",
         "x": [
          4.5540947914123535
         ],
         "y": [
          6.663890361785889
         ],
         "z": [
          11.227437973022461
         ]
        },
        {
         "marker": {
          "size": 6
         },
         "mode": "markers",
         "name": "'",
         "text": [
          "'"
         ],
         "type": "scatter3d",
         "x": [
          4.037221431732178
         ],
         "y": [
          6.939150810241699
         ],
         "z": [
          11.2066068649292
         ]
        },
        {
         "marker": {
          "size": 6
         },
         "mode": "markers",
         "name": "education",
         "text": [
          "education"
         ],
         "type": "scatter3d",
         "x": [
          6.074451923370361
         ],
         "y": [
          7.461353302001953
         ],
         "z": [
          11.736353874206543
         ]
        },
        {
         "marker": {
          "size": 6
         },
         "mode": "markers",
         "name": "system",
         "text": [
          "system"
         ],
         "type": "scatter3d",
         "x": [
          5.578108787536621
         ],
         "y": [
          7.4865922927856445
         ],
         "z": [
          10.832639694213867
         ]
        },
        {
         "marker": {
          "size": 6
         },
         "mode": "markers",
         "name": "for",
         "text": [
          "for"
         ],
         "type": "scatter3d",
         "x": [
          3.807779550552368
         ],
         "y": [
          6.296488285064697
         ],
         "z": [
          9.250825881958008
         ]
        },
        {
         "marker": {
          "size": 6
         },
         "mode": "markers",
         "name": "educational",
         "text": [
          "educational"
         ],
         "type": "scatter3d",
         "x": [
          6.046849727630615
         ],
         "y": [
          7.403881072998047
         ],
         "z": [
          11.7135591506958
         ]
        },
        {
         "marker": {
          "size": 6
         },
         "mode": "markers",
         "name": "purposes",
         "text": [
          "purposes"
         ],
         "type": "scatter3d",
         "x": [
          4.896502494812012
         ],
         "y": [
          6.975884914398193
         ],
         "z": [
          9.841382026672363
         ]
        },
        {
         "marker": {
          "size": 6
         },
         "mode": "markers",
         "name": "in",
         "text": [
          "in"
         ],
         "type": "scatter3d",
         "x": [
          4.289369106292725
         ],
         "y": [
          8.273375511169434
         ],
         "z": [
          10.237120628356934
         ]
        },
        {
         "marker": {
          "size": 6
         },
         "mode": "markers",
         "name": "any",
         "text": [
          "any"
         ],
         "type": "scatter3d",
         "x": [
          2.3233530521392822
         ],
         "y": [
          6.54666805267334
         ],
         "z": [
          9.584009170532227
         ]
        },
        {
         "marker": {
          "size": 6
         },
         "mode": "markers",
         "name": "of",
         "text": [
          "of"
         ],
         "type": "scatter3d",
         "x": [
          4.098937034606934
         ],
         "y": [
          7.996167182922363
         ],
         "z": [
          10.955924987792969
         ]
        },
        {
         "marker": {
          "size": 6
         },
         "mode": "markers",
         "name": "the",
         "text": [
          "the"
         ],
         "type": "scatter3d",
         "x": [
          3.6909735202789307
         ],
         "y": [
          8.000177383422852
         ],
         "z": [
          10.700467109680176
         ]
        },
        {
         "marker": {
          "size": 6
         },
         "mode": "markers",
         "name": "grades",
         "text": [
          "grades"
         ],
         "type": "scatter3d",
         "x": [
          6.127528667449951
         ],
         "y": [
          8.057997703552246
         ],
         "z": [
          12.334991455078125
         ]
        },
        {
         "marker": {
          "size": 6
         },
         "mode": "markers",
         "name": "k",
         "text": [
          "k"
         ],
         "type": "scatter3d",
         "x": [
          6.208488941192627
         ],
         "y": [
          8.194761276245117
         ],
         "z": [
          12.517881393432617
         ]
        },
        {
         "marker": {
          "size": 6
         },
         "mode": "markers",
         "name": "-",
         "text": [
          "-"
         ],
         "type": "scatter3d",
         "x": [
          6.172852993011475
         ],
         "y": [
          1.8030364513397217
         ],
         "z": [
          4.179572105407715
         ]
        },
        {
         "marker": {
          "size": 6
         },
         "mode": "markers",
         "name": "12",
         "text": [
          "12"
         ],
         "type": "scatter3d",
         "x": [
          6.189040660858154
         ],
         "y": [
          8.03589153289795
         ],
         "z": [
          12.401542663574219
         ]
        },
        {
         "marker": {
          "size": 6
         },
         "mode": "markers",
         "name": "that",
         "text": [
          "that"
         ],
         "type": "scatter3d",
         "x": [
          3.0371668338775635
         ],
         "y": [
          7.822213172912598
         ],
         "z": [
          9.46319580078125
         ]
        },
        {
         "marker": {
          "size": 6
         },
         "mode": "markers",
         "name": "are",
         "text": [
          "are"
         ],
         "type": "scatter3d",
         "x": [
          3.202984094619751
         ],
         "y": [
          7.635941028594971
         ],
         "z": [
          9.320199966430664
         ]
        },
        {
         "marker": {
          "size": 6
         },
         "mode": "markers",
         "name": "related",
         "text": [
          "related"
         ],
         "type": "scatter3d",
         "x": [
          3.226527214050293
         ],
         "y": [
          7.045237064361572
         ],
         "z": [
          9.056845664978027
         ]
        },
        {
         "marker": {
          "size": 6
         },
         "mode": "markers",
         "name": "to",
         "text": [
          "to"
         ],
         "type": "scatter3d",
         "x": [
          3.3214027881622314
         ],
         "y": [
          6.66055154800415
         ],
         "z": [
          9.377026557922363
         ]
        },
        {
         "marker": {
          "size": 6
         },
         "mode": "markers",
         "name": "the",
         "text": [
          "the"
         ],
         "type": "scatter3d",
         "x": [
          2.2771682739257812
         ],
         "y": [
          6.420405864715576
         ],
         "z": [
          7.4461669921875
         ]
        },
        {
         "marker": {
          "size": 6
         },
         "mode": "markers",
         "name": "purpose",
         "text": [
          "purpose"
         ],
         "type": "scatter3d",
         "x": [
          4.857079029083252
         ],
         "y": [
          6.989691734313965
         ],
         "z": [
          9.911123275756836
         ]
        },
        {
         "marker": {
          "size": 6
         },
         "mode": "markers",
         "name": "or",
         "text": [
          "or"
         ],
         "type": "scatter3d",
         "x": [
          1.853797435760498
         ],
         "y": [
          2.2489380836486816
         ],
         "z": [
          8.513813018798828
         ]
        },
        {
         "marker": {
          "size": 6
         },
         "mode": "markers",
         "name": "function",
         "text": [
          "function"
         ],
         "type": "scatter3d",
         "x": [
          4.992988586425781
         ],
         "y": [
          7.013890743255615
         ],
         "z": [
          9.985491752624512
         ]
        },
        {
         "marker": {
          "size": 6
         },
         "mode": "markers",
         "name": "of",
         "text": [
          "of"
         ],
         "type": "scatter3d",
         "x": [
          3.6122689247131348
         ],
         "y": [
          6.878486156463623
         ],
         "z": [
          10.339755058288574
         ]
        },
        {
         "marker": {
          "size": 6
         },
         "mode": "markers",
         "name": "the",
         "text": [
          "the"
         ],
         "type": "scatter3d",
         "x": [
          3.329941511154175
         ],
         "y": [
          7.1709442138671875
         ],
         "z": [
          10.518755912780762
         ]
        },
        {
         "marker": {
          "size": 6
         },
         "mode": "markers",
         "name": "done",
         "text": [
          "done"
         ],
         "type": "scatter3d",
         "x": [
          8.061094284057617
         ],
         "y": [
          11.00527572631836
         ],
         "z": [
          16.78727912902832
         ]
        },
        {
         "marker": {
          "size": 6
         },
         "mode": "markers",
         "name": "##e",
         "text": [
          "##e"
         ],
         "type": "scatter3d",
         "x": [
          3.3758702278137207
         ],
         "y": [
          7.003973960876465
         ],
         "z": [
          11.95973014831543
         ]
        },
        {
         "marker": {
          "size": 6
         },
         "mode": "markers",
         "name": ",",
         "text": [
          ","
         ],
         "type": "scatter3d",
         "x": [
          1.737027883529663
         ],
         "y": [
          3.9807236194610596
         ],
         "z": [
          7.029979228973389
         ]
        },
        {
         "marker": {
          "size": 6
         },
         "mode": "markers",
         "name": "`",
         "text": [
          "`"
         ],
         "type": "scatter3d",
         "x": [
          -4.764825344085693
         ],
         "y": [
          -1.4998136758804321
         ],
         "z": [
          -0.9412364959716797
         ]
        },
        {
         "marker": {
          "size": 6
         },
         "mode": "markers",
         "name": "`",
         "text": [
          "`"
         ],
         "type": "scatter3d",
         "x": [
          -4.6917619705200195
         ],
         "y": [
          -1.3885366916656494
         ],
         "z": [
          -0.8617908954620361
         ]
        },
        {
         "marker": {
          "size": 6
         },
         "mode": "markers",
         "name": "(",
         "text": [
          "("
         ],
         "type": "scatter3d",
         "x": [
          -3.0275943279266357
         ],
         "y": [
          9.302652359008789
         ],
         "z": [
          -5.896303176879883
         ]
        },
        {
         "marker": {
          "size": 6
         },
         "mode": "markers",
         "name": "c",
         "text": [
          "c"
         ],
         "type": "scatter3d",
         "x": [
          3.9893076419830322
         ],
         "y": [
          10.662957191467285
         ],
         "z": [
          4.6216206550598145
         ]
        },
        {
         "marker": {
          "size": 6
         },
         "mode": "markers",
         "name": ")",
         "text": [
          ")"
         ],
         "type": "scatter3d",
         "x": [
          5.491983890533447
         ],
         "y": [
          13.247557640075684
         ],
         "z": [
          -5.696994781494141
         ]
        },
        {
         "marker": {
          "size": 6
         },
         "mode": "markers",
         "name": "the",
         "text": [
          "the"
         ],
         "type": "scatter3d",
         "x": [
          3.340320587158203
         ],
         "y": [
          7.20602560043335
         ],
         "z": [
          10.305413246154785
         ]
        },
        {
         "marker": {
          "size": 6
         },
         "mode": "markers",
         "name": "original",
         "text": [
          "original"
         ],
         "type": "scatter3d",
         "x": [
          3.8190395832061768
         ],
         "y": [
          7.136690139770508
         ],
         "z": [
          10.00783920288086
         ]
        },
        {
         "marker": {
          "size": 6
         },
         "mode": "markers",
         "name": "use",
         "text": [
          "use"
         ],
         "type": "scatter3d",
         "x": [
          4.8114213943481445
         ],
         "y": [
          6.910641670227051
         ],
         "z": [
          9.96297550201416
         ]
        },
        {
         "marker": {
          "size": 6
         },
         "mode": "markers",
         "name": "of",
         "text": [
          "of"
         ],
         "type": "scatter3d",
         "x": [
          3.5107336044311523
         ],
         "y": [
          6.868473052978516
         ],
         "z": [
          10.285189628601074
         ]
        },
        {
         "marker": {
          "size": 6
         },
         "mode": "markers",
         "name": "the",
         "text": [
          "the"
         ],
         "type": "scatter3d",
         "x": [
          3.3298351764678955
         ],
         "y": [
          7.097073078155518
         ],
         "z": [
          10.551898956298828
         ]
        },
        {
         "marker": {
          "size": 6
         },
         "mode": "markers",
         "name": "property",
         "text": [
          "property"
         ],
         "type": "scatter3d",
         "x": [
          5.691742420196533
         ],
         "y": [
          6.018483638763428
         ],
         "z": [
          9.960887908935547
         ]
        },
        {
         "marker": {
          "size": 6
         },
         "mode": "markers",
         "name": "begins",
         "text": [
          "begins"
         ],
         "type": "scatter3d",
         "x": [
          3.4096901416778564
         ],
         "y": [
          7.388461112976074
         ],
         "z": [
          9.58575439453125
         ]
        },
        {
         "marker": {
          "size": 6
         },
         "mode": "markers",
         "name": "with",
         "text": [
          "with"
         ],
         "type": "scatter3d",
         "x": [
          3.3415369987487793
         ],
         "y": [
          6.905889511108398
         ],
         "z": [
          10.2085542678833
         ]
        },
        {
         "marker": {
          "size": 6
         },
         "mode": "markers",
         "name": "the",
         "text": [
          "the"
         ],
         "type": "scatter3d",
         "x": [
          3.2675628662109375
         ],
         "y": [
          7.159153461456299
         ],
         "z": [
          10.489066123962402
         ]
        },
        {
         "marker": {
          "size": 6
         },
         "mode": "markers",
         "name": "done",
         "text": [
          "done"
         ],
         "type": "scatter3d",
         "x": [
          8.06125545501709
         ],
         "y": [
          11.005135536193848
         ],
         "z": [
          16.787445068359375
         ]
        },
        {
         "marker": {
          "size": 6
         },
         "mode": "markers",
         "name": "##e",
         "text": [
          "##e"
         ],
         "type": "scatter3d",
         "x": [
          3.372788190841675
         ],
         "y": [
          7.025942802429199
         ],
         "z": [
          11.931832313537598
         ]
        },
        {
         "marker": {
          "size": 6
         },
         "mode": "markers",
         "name": ",",
         "text": [
          ","
         ],
         "type": "scatter3d",
         "x": [
          1.7260690927505493
         ],
         "y": [
          3.990159034729004
         ],
         "z": [
          7.027159214019775
         ]
        },
        {
         "marker": {
          "size": 6
         },
         "mode": "markers",
         "name": "`",
         "text": [
          "`"
         ],
         "type": "scatter3d",
         "x": [
          -4.610016822814941
         ],
         "y": [
          -1.4993001222610474
         ],
         "z": [
          -0.8145715594291687
         ]
        },
        {
         "marker": {
          "size": 6
         },
         "mode": "markers",
         "name": "`",
         "text": [
          "`"
         ],
         "type": "scatter3d",
         "x": [
          -4.674401760101318
         ],
         "y": [
          -1.4501900672912598
         ],
         "z": [
          -0.8348548412322998
         ]
        },
        {
         "marker": {
          "size": 6
         },
         "mode": "markers",
         "name": "(",
         "text": [
          "("
         ],
         "type": "scatter3d",
         "x": [
          -2.978536605834961
         ],
         "y": [
          9.352217674255371
         ],
         "z": [
          -5.9310078620910645
         ]
        },
        {
         "marker": {
          "size": 6
         },
         "mode": "markers",
         "name": "d",
         "text": [
          "d"
         ],
         "type": "scatter3d",
         "x": [
          3.994128465652466
         ],
         "y": [
          10.663751602172852
         ],
         "z": [
          4.600852966308594
         ]
        },
        {
         "marker": {
          "size": 6
         },
         "mode": "markers",
         "name": ")",
         "text": [
          ")"
         ],
         "type": "scatter3d",
         "x": [
          5.487473964691162
         ],
         "y": [
          13.232367515563965
         ],
         "z": [
          -5.67211389541626
         ]
        },
        {
         "marker": {
          "size": 6
         },
         "mode": "markers",
         "name": "the",
         "text": [
          "the"
         ],
         "type": "scatter3d",
         "x": [
          3.3529791831970215
         ],
         "y": [
          7.1282958984375
         ],
         "z": [
          10.465841293334961
         ]
        },
        {
         "marker": {
          "size": 6
         },
         "mode": "markers",
         "name": "property",
         "text": [
          "property"
         ],
         "type": "scatter3d",
         "x": [
          5.685656547546387
         ],
         "y": [
          6.013620376586914
         ],
         "z": [
          9.963248252868652
         ]
        },
        {
         "marker": {
          "size": 6
         },
         "mode": "markers",
         "name": "will",
         "text": [
          "will"
         ],
         "type": "scatter3d",
         "x": [
          3.2719802856445312
         ],
         "y": [
          7.536932945251465
         ],
         "z": [
          9.176473617553711
         ]
        },
        {
         "marker": {
          "size": 6
         },
         "mode": "markers",
         "name": "fit",
         "text": [
          "fit"
         ],
         "type": "scatter3d",
         "x": [
          3.7055859565734863
         ],
         "y": [
          7.23298454284668
         ],
         "z": [
          9.685403823852539
         ]
        },
        {
         "marker": {
          "size": 6
         },
         "mode": "markers",
         "name": "productive",
         "text": [
          "productive"
         ],
         "type": "scatter3d",
         "x": [
          4.002835273742676
         ],
         "y": [
          7.054342746734619
         ],
         "z": [
          9.921277046203613
         ]
        },
        {
         "marker": {
          "size": 6
         },
         "mode": "markers",
         "name": "##ly",
         "text": [
          "##ly"
         ],
         "type": "scatter3d",
         "x": [
          3.6795873641967773
         ],
         "y": [
          7.192852020263672
         ],
         "z": [
          9.67749309539795
         ]
        },
        {
         "marker": {
          "size": 6
         },
         "mode": "markers",
         "name": "into",
         "text": [
          "into"
         ],
         "type": "scatter3d",
         "x": [
          3.8367373943328857
         ],
         "y": [
          7.354764461517334
         ],
         "z": [
          9.849523544311523
         ]
        },
        {
         "marker": {
          "size": 6
         },
         "mode": "markers",
         "name": "the",
         "text": [
          "the"
         ],
         "type": "scatter3d",
         "x": [
          3.3335626125335693
         ],
         "y": [
          7.1542487144470215
         ],
         "z": [
          10.568907737731934
         ]
        },
        {
         "marker": {
          "size": 6
         },
         "mode": "markers",
         "name": "done",
         "text": [
          "done"
         ],
         "type": "scatter3d",
         "x": [
          8.061017036437988
         ],
         "y": [
          11.005038261413574
         ],
         "z": [
          16.787059783935547
         ]
        },
        {
         "marker": {
          "size": 6
         },
         "mode": "markers",
         "name": "##e",
         "text": [
          "##e"
         ],
         "type": "scatter3d",
         "x": [
          3.368882417678833
         ],
         "y": [
          7.022807598114014
         ],
         "z": [
          11.921506881713867
         ]
        },
        {
         "marker": {
          "size": 6
         },
         "mode": "markers",
         "name": "'",
         "text": [
          "'"
         ],
         "type": "scatter3d",
         "x": [
          3.7856273651123047
         ],
         "y": [
          7.054671764373779
         ],
         "z": [
          10.876787185668945
         ]
        },
        {
         "marker": {
          "size": 6
         },
         "mode": "markers",
         "name": "s",
         "text": [
          "s"
         ],
         "type": "scatter3d",
         "x": [
          3.7400400638580322
         ],
         "y": [
          7.050328731536865
         ],
         "z": [
          10.788480758666992
         ]
        },
        {
         "marker": {
          "size": 6
         },
         "mode": "markers",
         "name": "education",
         "text": [
          "education"
         ],
         "type": "scatter3d",
         "x": [
          6.04194974899292
         ],
         "y": [
          7.39747953414917
         ],
         "z": [
          11.6839599609375
         ]
        },
        {
         "marker": {
          "size": 6
         },
         "mode": "markers",
         "name": "plan",
         "text": [
          "plan"
         ],
         "type": "scatter3d",
         "x": [
          5.460400581359863
         ],
         "y": [
          7.355669975280762
         ],
         "z": [
          10.64781379699707
         ]
        },
        {
         "marker": {
          "size": 6
         },
         "mode": "markers",
         "name": ",",
         "text": [
          ","
         ],
         "type": "scatter3d",
         "x": [
          1.7530224323272705
         ],
         "y": [
          3.918595552444458
         ],
         "z": [
          7.0659990310668945
         ]
        },
        {
         "marker": {
          "size": 6
         },
         "mode": "markers",
         "name": "`",
         "text": [
          "`"
         ],
         "type": "scatter3d",
         "x": [
          -4.696897983551025
         ],
         "y": [
          -1.4801418781280518
         ],
         "z": [
          -0.8695589900016785
         ]
        },
        {
         "marker": {
          "size": 6
         },
         "mode": "markers",
         "name": "`",
         "text": [
          "`"
         ],
         "type": "scatter3d",
         "x": [
          -4.681894302368164
         ],
         "y": [
          -1.4653867483139038
         ],
         "z": [
          -0.8333842158317566
         ]
        },
        {
         "marker": {
          "size": 6
         },
         "mode": "markers",
         "name": "(",
         "text": [
          "("
         ],
         "type": "scatter3d",
         "x": [
          -3.0390255451202393
         ],
         "y": [
          9.292411804199219
         ],
         "z": [
          -5.877732753753662
         ]
        },
        {
         "marker": {
          "size": 6
         },
         "mode": "markers",
         "name": "e",
         "text": [
          "e"
         ],
         "type": "scatter3d",
         "x": [
          4.049657344818115
         ],
         "y": [
          10.731708526611328
         ],
         "z": [
          4.606088161468506
         ]
        },
        {
         "marker": {
          "size": 6
         },
         "mode": "markers",
         "name": ")",
         "text": [
          ")"
         ],
         "type": "scatter3d",
         "x": [
          5.491183280944824
         ],
         "y": [
          13.245650291442871
         ],
         "z": [
          -5.691244602203369
         ]
        },
        {
         "marker": {
          "size": 6
         },
         "mode": "markers",
         "name": "the",
         "text": [
          "the"
         ],
         "type": "scatter3d",
         "x": [
          3.393261671066284
         ],
         "y": [
          7.052852153778076
         ],
         "z": [
          10.404814720153809
         ]
        },
        {
         "marker": {
          "size": 6
         },
         "mode": "markers",
         "name": "property",
         "text": [
          "property"
         ],
         "type": "scatter3d",
         "x": [
          5.677868843078613
         ],
         "y": [
          5.998144149780273
         ],
         "z": [
          9.947574615478516
         ]
        },
        {
         "marker": {
          "size": 6
         },
         "mode": "markers",
         "name": "is",
         "text": [
          "is"
         ],
         "type": "scatter3d",
         "x": [
          3.2059803009033203
         ],
         "y": [
          7.704215049743652
         ],
         "z": [
          9.231830596923828
         ]
        },
        {
         "marker": {
          "size": 6
         },
         "mode": "markers",
         "name": "not",
         "text": [
          "not"
         ],
         "type": "scatter3d",
         "x": [
          3.3466453552246094
         ],
         "y": [
          7.401035785675049
         ],
         "z": [
          9.125678062438965
         ]
        },
        {
         "marker": {
          "size": 6
         },
         "mode": "markers",
         "name": "transferred",
         "text": [
          "transferred"
         ],
         "type": "scatter3d",
         "x": [
          5.309399604797363
         ],
         "y": [
          6.3737664222717285
         ],
         "z": [
          9.946065902709961
         ]
        },
        {
         "marker": {
          "size": 6
         },
         "mode": "markers",
         "name": "by",
         "text": [
          "by"
         ],
         "type": "scatter3d",
         "x": [
          3.4115946292877197
         ],
         "y": [
          6.5985541343688965
         ],
         "z": [
          10.331612586975098
         ]
        },
        {
         "marker": {
          "size": 6
         },
         "mode": "markers",
         "name": "the",
         "text": [
          "the"
         ],
         "type": "scatter3d",
         "x": [
          3.27931809425354
         ],
         "y": [
          7.158393383026123
         ],
         "z": [
          10.551280975341797
         ]
        },
        {
         "marker": {
          "size": 6
         },
         "mode": "markers",
         "name": "done",
         "text": [
          "done"
         ],
         "type": "scatter3d",
         "x": [
          8.060996055603027
         ],
         "y": [
          11.005023956298828
         ],
         "z": [
          16.787046432495117
         ]
        },
        {
         "marker": {
          "size": 6
         },
         "mode": "markers",
         "name": "##e",
         "text": [
          "##e"
         ],
         "type": "scatter3d",
         "x": [
          3.3735415935516357
         ],
         "y": [
          7.024780750274658
         ],
         "z": [
          11.92218017578125
         ]
        },
        {
         "marker": {
          "size": 6
         },
         "mode": "markers",
         "name": "in",
         "text": [
          "in"
         ],
         "type": "scatter3d",
         "x": [
          3.800563335418701
         ],
         "y": [
          7.090504169464111
         ],
         "z": [
          9.364298820495605
         ]
        },
        {
         "marker": {
          "size": 6
         },
         "mode": "markers",
         "name": "exchange",
         "text": [
          "exchange"
         ],
         "type": "scatter3d",
         "x": [
          4.102851867675781
         ],
         "y": [
          6.647966384887695
         ],
         "z": [
          9.184004783630371
         ]
        },
        {
         "marker": {
          "size": 6
         },
         "mode": "markers",
         "name": "for",
         "text": [
          "for"
         ],
         "type": "scatter3d",
         "x": [
          3.828110694885254
         ],
         "y": [
          6.430481910705566
         ],
         "z": [
          9.268739700317383
         ]
        },
        {
         "marker": {
          "size": 6
         },
         "mode": "markers",
         "name": "money",
         "text": [
          "money"
         ],
         "type": "scatter3d",
         "x": [
          4.357331275939941
         ],
         "y": [
          6.704714775085449
         ],
         "z": [
          8.870102882385254
         ]
        },
        {
         "marker": {
          "size": 6
         },
         "mode": "markers",
         "name": ",",
         "text": [
          ","
         ],
         "type": "scatter3d",
         "x": [
          2.9998066425323486
         ],
         "y": [
          1.4727461338043213
         ],
         "z": [
          7.911186695098877
         ]
        },
        {
         "marker": {
          "size": 6
         },
         "mode": "markers",
         "name": "other",
         "text": [
          "other"
         ],
         "type": "scatter3d",
         "x": [
          3.5979864597320557
         ],
         "y": [
          6.265063285827637
         ],
         "z": [
          9.234277725219727
         ]
        },
        {
         "marker": {
          "size": 6
         },
         "mode": "markers",
         "name": "property",
         "text": [
          "property"
         ],
         "type": "scatter3d",
         "x": [
          5.629903793334961
         ],
         "y": [
          5.998847961425781
         ],
         "z": [
          9.908711433410645
         ]
        },
        {
         "marker": {
          "size": 6
         },
         "mode": "markers",
         "name": ",",
         "text": [
          ","
         ],
         "type": "scatter3d",
         "x": [
          1.6318855285644531
         ],
         "y": [
          4.519983291625977
         ],
         "z": [
          6.796299457550049
         ]
        },
        {
         "marker": {
          "size": 6
         },
         "mode": "markers",
         "name": "or",
         "text": [
          "or"
         ],
         "type": "scatter3d",
         "x": [
          1.9120584726333618
         ],
         "y": [
          2.19045090675354
         ],
         "z": [
          8.564775466918945
         ]
        },
        {
         "marker": {
          "size": 6
         },
         "mode": "markers",
         "name": "services",
         "text": [
          "services"
         ],
         "type": "scatter3d",
         "x": [
          5.407779693603516
         ],
         "y": [
          6.940967559814453
         ],
         "z": [
          10.072124481201172
         ]
        },
        {
         "marker": {
          "size": 6
         },
         "mode": "markers",
         "name": ",",
         "text": [
          ","
         ],
         "type": "scatter3d",
         "x": [
          1.703087568283081
         ],
         "y": [
          4.5199360847473145
         ],
         "z": [
          6.88190221786499
         ]
        },
        {
         "marker": {
          "size": 6
         },
         "mode": "markers",
         "name": "except",
         "text": [
          "except"
         ],
         "type": "scatter3d",
         "x": [
          3.4900717735290527
         ],
         "y": [
          6.862531661987305
         ],
         "z": [
          9.290647506713867
         ]
        },
        {
         "marker": {
          "size": 6
         },
         "mode": "markers",
         "name": "for",
         "text": [
          "for"
         ],
         "type": "scatter3d",
         "x": [
          3.721764087677002
         ],
         "y": [
          6.412622928619385
         ],
         "z": [
          9.225214958190918
         ]
        },
        {
         "marker": {
          "size": 6
         },
         "mode": "markers",
         "name": "shipping",
         "text": [
          "shipping"
         ],
         "type": "scatter3d",
         "x": [
          5.3546833992004395
         ],
         "y": [
          6.504881858825684
         ],
         "z": [
          10.067069053649902
         ]
        },
        {
         "marker": {
          "size": 6
         },
         "mode": "markers",
         "name": ",",
         "text": [
          ","
         ],
         "type": "scatter3d",
         "x": [
          2.87646222114563
         ],
         "y": [
          1.5639824867248535
         ],
         "z": [
          7.9691057205200195
         ]
        },
        {
         "marker": {
          "size": 6
         },
         "mode": "markers",
         "name": "installation",
         "text": [
          "installation"
         ],
         "type": "scatter3d",
         "x": [
          5.385235786437988
         ],
         "y": [
          6.47627592086792
         ],
         "z": [
          10.17336654663086
         ]
        },
        {
         "marker": {
          "size": 6
         },
         "mode": "markers",
         "name": "and",
         "text": [
          "and"
         ],
         "type": "scatter3d",
         "x": [
          2.2665557861328125
         ],
         "y": [
          2.2998743057250977
         ],
         "z": [
          7.94991397857666
         ]
        },
        {
         "marker": {
          "size": 6
         },
         "mode": "markers",
         "name": "transfer",
         "text": [
          "transfer"
         ],
         "type": "scatter3d",
         "x": [
          5.35134220123291
         ],
         "y": [
          6.420883655548096
         ],
         "z": [
          10.05936050415039
         ]
        },
        {
         "marker": {
          "size": 6
         },
         "mode": "markers",
         "name": "costs",
         "text": [
          "costs"
         ],
         "type": "scatter3d",
         "x": [
          5.465538024902344
         ],
         "y": [
          6.732043266296387
         ],
         "z": [
          8.995843887329102
         ]
        },
        {
         "marker": {
          "size": 6
         },
         "mode": "markers",
         "name": ",",
         "text": [
          ","
         ],
         "type": "scatter3d",
         "x": [
          1.6595394611358643
         ],
         "y": [
          4.3449554443359375
         ],
         "z": [
          6.901166915893555
         ]
        },
        {
         "marker": {
          "size": 6
         },
         "mode": "markers",
         "name": "and",
         "text": [
          "and"
         ],
         "type": "scatter3d",
         "x": [
          1.903154730796814
         ],
         "y": [
          3.6169142723083496
         ],
         "z": [
          7.275265693664551
         ]
        },
        {
         "marker": {
          "size": 6
         },
         "mode": "markers",
         "name": "`",
         "text": [
          "`"
         ],
         "type": "scatter3d",
         "x": [
          -4.70997428894043
         ],
         "y": [
          -1.4465575218200684
         ],
         "z": [
          -0.8847835063934326
         ]
        },
        {
         "marker": {
          "size": 6
         },
         "mode": "markers",
         "name": "`",
         "text": [
          "`"
         ],
         "type": "scatter3d",
         "x": [
          -4.7113261222839355
         ],
         "y": [
          -1.4339529275894165
         ],
         "z": [
          -0.8774479031562805
         ]
        },
        {
         "marker": {
          "size": 6
         },
         "mode": "markers",
         "name": "(",
         "text": [
          "("
         ],
         "type": "scatter3d",
         "x": [
          -3.132566452026367
         ],
         "y": [
          9.197320938110352
         ],
         "z": [
          -5.801412105560303
         ]
        },
        {
         "marker": {
          "size": 6
         },
         "mode": "markers",
         "name": "f",
         "text": [
          "f"
         ],
         "type": "scatter3d",
         "x": [
          4.060522556304932
         ],
         "y": [
          10.70924186706543
         ],
         "z": [
          4.626039505004883
         ]
        },
        {
         "marker": {
          "size": 6
         },
         "mode": "markers",
         "name": ")",
         "text": [
          ")"
         ],
         "type": "scatter3d",
         "x": [
          5.487484931945801
         ],
         "y": [
          13.243340492248535
         ],
         "z": [
          -5.680580139160156
         ]
        },
        {
         "marker": {
          "size": 6
         },
         "mode": "markers",
         "name": "the",
         "text": [
          "the"
         ],
         "type": "scatter3d",
         "x": [
          3.2662692070007324
         ],
         "y": [
          7.190459728240967
         ],
         "z": [
          10.464317321777344
         ]
        },
        {
         "marker": {
          "size": 6
         },
         "mode": "markers",
         "name": "done",
         "text": [
          "done"
         ],
         "type": "scatter3d",
         "x": [
          8.060407638549805
         ],
         "y": [
          11.004480361938477
         ],
         "z": [
          16.785964965820312
         ]
        },
        {
         "marker": {
          "size": 6
         },
         "mode": "markers",
         "name": "##e",
         "text": [
          "##e"
         ],
         "type": "scatter3d",
         "x": [
          3.3651070594787598
         ],
         "y": [
          7.023833751678467
         ],
         "z": [
          11.919219970703125
         ]
        },
        {
         "marker": {
          "size": 6
         },
         "mode": "markers",
         "name": "'",
         "text": [
          "'"
         ],
         "type": "scatter3d",
         "x": [
          2.3191635608673096
         ],
         "y": [
          6.364572048187256
         ],
         "z": [
          7.364613056182861
         ]
        },
        {
         "marker": {
          "size": 6
         },
         "mode": "markers",
         "name": "s",
         "text": [
          "s"
         ],
         "type": "scatter3d",
         "x": [
          3.6361918449401855
         ],
         "y": [
          7.056978702545166
         ],
         "z": [
          10.723674774169922
         ]
        },
        {
         "marker": {
          "size": 6
         },
         "mode": "markers",
         "name": "use",
         "text": [
          "use"
         ],
         "type": "scatter3d",
         "x": [
          4.900615692138672
         ],
         "y": [
          6.850788116455078
         ],
         "z": [
          9.96770191192627
         ]
        },
        {
         "marker": {
          "size": 6
         },
         "mode": "markers",
         "name": "and",
         "text": [
          "and"
         ],
         "type": "scatter3d",
         "x": [
          2.2543435096740723
         ],
         "y": [
          2.3055245876312256
         ],
         "z": [
          8.001285552978516
         ]
        },
        {
         "marker": {
          "size": 6
         },
         "mode": "markers",
         "name": "disposition",
         "text": [
          "disposition"
         ],
         "type": "scatter3d",
         "x": [
          5.284284591674805
         ],
         "y": [
          6.446310043334961
         ],
         "z": [
          9.998921394348145
         ]
        },
        {
         "marker": {
          "size": 6
         },
         "mode": "markers",
         "name": "of",
         "text": [
          "of"
         ],
         "type": "scatter3d",
         "x": [
          3.5242977142333984
         ],
         "y": [
          6.846102237701416
         ],
         "z": [
          10.22428035736084
         ]
        },
        {
         "marker": {
          "size": 6
         },
         "mode": "markers",
         "name": "the",
         "text": [
          "the"
         ],
         "type": "scatter3d",
         "x": [
          3.3605430126190186
         ],
         "y": [
          7.064636707305908
         ],
         "z": [
          10.516940116882324
         ]
        },
        {
         "marker": {
          "size": 6
         },
         "mode": "markers",
         "name": "property",
         "text": [
          "property"
         ],
         "type": "scatter3d",
         "x": [
          5.672795295715332
         ],
         "y": [
          6.008915901184082
         ],
         "z": [
          9.945317268371582
         ]
        },
        {
         "marker": {
          "size": 6
         },
         "mode": "markers",
         "name": "will",
         "text": [
          "will"
         ],
         "type": "scatter3d",
         "x": [
          3.2074849605560303
         ],
         "y": [
          7.6228203773498535
         ],
         "z": [
          9.024066925048828
         ]
        },
        {
         "marker": {
          "size": 6
         },
         "mode": "markers",
         "name": "be",
         "text": [
          "be"
         ],
         "type": "scatter3d",
         "x": [
          3.255601406097412
         ],
         "y": [
          7.60809850692749
         ],
         "z": [
          8.908281326293945
         ]
        },
        {
         "marker": {
          "size": 6
         },
         "mode": "markers",
         "name": "in",
         "text": [
          "in"
         ],
         "type": "scatter3d",
         "x": [
          3.3420703411102295
         ],
         "y": [
          7.481685638427734
         ],
         "z": [
          8.77806282043457
         ]
        },
        {
         "marker": {
          "size": 6
         },
         "mode": "markers",
         "name": "accordance",
         "text": [
          "accordance"
         ],
         "type": "scatter3d",
         "x": [
          3.2320449352264404
         ],
         "y": [
          7.599562168121338
         ],
         "z": [
          8.482234001159668
         ]
        },
        {
         "marker": {
          "size": 6
         },
         "mode": "markers",
         "name": "with",
         "text": [
          "with"
         ],
         "type": "scatter3d",
         "x": [
          3.133544445037842
         ],
         "y": [
          7.690328598022461
         ],
         "z": [
          8.387118339538574
         ]
        },
        {
         "marker": {
          "size": 6
         },
         "mode": "markers",
         "name": "the",
         "text": [
          "the"
         ],
         "type": "scatter3d",
         "x": [
          2.9932353496551514
         ],
         "y": [
          7.630943298339844
         ],
         "z": [
          8.34184455871582
         ]
        },
        {
         "marker": {
          "size": 6
         },
         "mode": "markers",
         "name": "provisions",
         "text": [
          "provisions"
         ],
         "type": "scatter3d",
         "x": [
          3.007124185562134
         ],
         "y": [
          8.239799499511719
         ],
         "z": [
          6.839357852935791
         ]
        },
        {
         "marker": {
          "size": 6
         },
         "mode": "markers",
         "name": "of",
         "text": [
          "of"
         ],
         "type": "scatter3d",
         "x": [
          3.3322689533233643
         ],
         "y": [
          8.04123306274414
         ],
         "z": [
          7.502121925354004
         ]
        },
        {
         "marker": {
          "size": 6
         },
         "mode": "markers",
         "name": "sub",
         "text": [
          "sub"
         ],
         "type": "scatter3d",
         "x": [
          3.095283031463623
         ],
         "y": [
          7.702239036560059
         ],
         "z": [
          6.720841884613037
         ]
        },
        {
         "marker": {
          "size": 6
         },
         "mode": "markers",
         "name": "##para",
         "text": [
          "##para"
         ],
         "type": "scatter3d",
         "x": [
          3.0917625427246094
         ],
         "y": [
          7.572545528411865
         ],
         "z": [
          6.788071632385254
         ]
        },
        {
         "marker": {
          "size": 6
         },
         "mode": "markers",
         "name": "##graphs",
         "text": [
          "##graphs"
         ],
         "type": "scatter3d",
         "x": [
          3.145758867263794
         ],
         "y": [
          7.707667827606201
         ],
         "z": [
          6.753503322601318
         ]
        },
        {
         "marker": {
          "size": 6
         },
         "mode": "markers",
         "name": "(",
         "text": [
          "("
         ],
         "type": "scatter3d",
         "x": [
          -3.505615234375
         ],
         "y": [
          8.780694961547852
         ],
         "z": [
          -5.7339301109313965
         ]
        },
        {
         "marker": {
          "size": 6
         },
         "mode": "markers",
         "name": "b",
         "text": [
          "b"
         ],
         "type": "scatter3d",
         "x": [
          4.094454288482666
         ],
         "y": [
          10.638550758361816
         ],
         "z": [
          4.723525524139404
         ]
        },
        {
         "marker": {
          "size": 6
         },
         "mode": "markers",
         "name": ")",
         "text": [
          ")"
         ],
         "type": "scatter3d",
         "x": [
          5.581515312194824
         ],
         "y": [
          13.25764274597168
         ],
         "z": [
          -5.9582343101501465
         ]
        },
        {
         "marker": {
          "size": 6
         },
         "mode": "markers",
         "name": "and",
         "text": [
          "and"
         ],
         "type": "scatter3d",
         "x": [
          1.9910438060760498
         ],
         "y": [
          3.368802547454834
         ],
         "z": [
          7.427123546600342
         ]
        },
        {
         "marker": {
          "size": 6
         },
         "mode": "markers",
         "name": "(",
         "text": [
          "("
         ],
         "type": "scatter3d",
         "x": [
          -3.2158195972442627
         ],
         "y": [
          9.103537559509277
         ],
         "z": [
          -5.808317184448242
         ]
        },
        {
         "marker": {
          "size": 6
         },
         "mode": "markers",
         "name": "e",
         "text": [
          "e"
         ],
         "type": "scatter3d",
         "x": [
          4.122921466827393
         ],
         "y": [
          10.729265213012695
         ],
         "z": [
          4.666290283203125
         ]
        },
        {
         "marker": {
          "size": 6
         },
         "mode": "markers",
         "name": ")",
         "text": [
          ")"
         ],
         "type": "scatter3d",
         "x": [
          5.566555023193359
         ],
         "y": [
          13.244848251342773
         ],
         "z": [
          -5.8753509521484375
         ]
        },
        {
         "marker": {
          "size": 6
         },
         "mode": "markers",
         "name": ".",
         "text": [
          "."
         ],
         "type": "scatter3d",
         "x": [
          2.5256221294403076
         ],
         "y": [
          6.382278919219971
         ],
         "z": [
          7.222316265106201
         ]
        },
        {
         "marker": {
          "size": 6
         },
         "mode": "markers",
         "name": "the",
         "text": [
          "the"
         ],
         "type": "scatter3d",
         "x": [
          3.080188512802124
         ],
         "y": [
          7.453582286834717
         ],
         "z": [
          8.598994255065918
         ]
        },
        {
         "marker": {
          "size": 6
         },
         "mode": "markers",
         "name": "determination",
         "text": [
          "determination"
         ],
         "type": "scatter3d",
         "x": [
          3.6342015266418457
         ],
         "y": [
          7.370321273803711
         ],
         "z": [
          8.447212219238281
         ]
        },
        {
         "marker": {
          "size": 6
         },
         "mode": "markers",
         "name": "of",
         "text": [
          "of"
         ],
         "type": "scatter3d",
         "x": [
          3.3044509887695312
         ],
         "y": [
          7.305899620056152
         ],
         "z": [
          8.597658157348633
         ]
        },
        {
         "marker": {
          "size": 6
         },
         "mode": "markers",
         "name": "the",
         "text": [
          "the"
         ],
         "type": "scatter3d",
         "x": [
          3.091470718383789
         ],
         "y": [
          7.258943557739258
         ],
         "z": [
          8.694746971130371
         ]
        },
        {
         "marker": {
          "size": 6
         },
         "mode": "markers",
         "name": "amount",
         "text": [
          "amount"
         ],
         "type": "scatter3d",
         "x": [
          4.10329532623291
         ],
         "y": [
          6.878821849822998
         ],
         "z": [
          8.641451835632324
         ]
        },
        {
         "marker": {
          "size": 6
         },
         "mode": "markers",
         "name": "of",
         "text": [
          "of"
         ],
         "type": "scatter3d",
         "x": [
          3.4539473056793213
         ],
         "y": [
          7.241578102111816
         ],
         "z": [
          8.630562782287598
         ]
        },
        {
         "marker": {
          "size": 6
         },
         "mode": "markers",
         "name": "de",
         "text": [
          "de"
         ],
         "type": "scatter3d",
         "x": [
          3.9232351779937744
         ],
         "y": [
          6.965545654296875
         ],
         "z": [
          8.481311798095703
         ]
        },
        {
         "marker": {
          "size": 6
         },
         "mode": "markers",
         "name": "##duction",
         "text": [
          "##duction"
         ],
         "type": "scatter3d",
         "x": [
          4.033474445343018
         ],
         "y": [
          7.007387161254883
         ],
         "z": [
          8.527702331542969
         ]
        },
        {
         "marker": {
          "size": 6
         },
         "mode": "markers",
         "name": "under",
         "text": [
          "under"
         ],
         "type": "scatter3d",
         "x": [
          3.6119544506073
         ],
         "y": [
          8.324283599853516
         ],
         "z": [
          7.8256964683532715
         ]
        },
        {
         "marker": {
          "size": 6
         },
         "mode": "markers",
         "name": "section",
         "text": [
          "section"
         ],
         "type": "scatter3d",
         "x": [
          3.024057626724243
         ],
         "y": [
          8.403549194335938
         ],
         "z": [
          6.282544136047363
         ]
        },
        {
         "marker": {
          "size": 6
         },
         "mode": "markers",
         "name": "170",
         "text": [
          "170"
         ],
         "type": "scatter3d",
         "x": [
          3.4977259635925293
         ],
         "y": [
          9.675482749938965
         ],
         "z": [
          5.478512287139893
         ]
        },
        {
         "marker": {
          "size": 6
         },
         "mode": "markers",
         "name": "for",
         "text": [
          "for"
         ],
         "type": "scatter3d",
         "x": [
          3.805659532546997
         ],
         "y": [
          6.014302730560303
         ],
         "z": [
          9.073111534118652
         ]
        },
        {
         "marker": {
          "size": 6
         },
         "mode": "markers",
         "name": "purposes",
         "text": [
          "purposes"
         ],
         "type": "scatter3d",
         "x": [
          4.12865686416626
         ],
         "y": [
          6.953660488128662
         ],
         "z": [
          7.5621113777160645
         ]
        },
        {
         "marker": {
          "size": 6
         },
         "mode": "markers",
         "name": "of",
         "text": [
          "of"
         ],
         "type": "scatter3d",
         "x": [
          3.3450517654418945
         ],
         "y": [
          8.032183647155762
         ],
         "z": [
          7.503291606903076
         ]
        },
        {
         "marker": {
          "size": 6
         },
         "mode": "markers",
         "name": "this",
         "text": [
          "this"
         ],
         "type": "scatter3d",
         "x": [
          1.4992258548736572
         ],
         "y": [
          8.30825138092041
         ],
         "z": [
          7.425490379333496
         ]
        },
        {
         "marker": {
          "size": 6
         },
         "mode": "markers",
         "name": "paragraph",
         "text": [
          "paragraph"
         ],
         "type": "scatter3d",
         "x": [
          2.8179452419281006
         ],
         "y": [
          8.319291114807129
         ],
         "z": [
          6.3394775390625
         ]
        },
        {
         "marker": {
          "size": 6
         },
         "mode": "markers",
         "name": "shall",
         "text": [
          "shall"
         ],
         "type": "scatter3d",
         "x": [
          3.1599948406219482
         ],
         "y": [
          7.656763076782227
         ],
         "z": [
          8.859600067138672
         ]
        },
        {
         "marker": {
          "size": 6
         },
         "mode": "markers",
         "name": "be",
         "text": [
          "be"
         ],
         "type": "scatter3d",
         "x": [
          3.232090711593628
         ],
         "y": [
          7.63662052154541
         ],
         "z": [
          8.738329887390137
         ]
        },
        {
         "marker": {
          "size": 6
         },
         "mode": "markers",
         "name": "made",
         "text": [
          "made"
         ],
         "type": "scatter3d",
         "x": [
          3.277881622314453
         ],
         "y": [
          7.608087062835693
         ],
         "z": [
          8.58502197265625
         ]
        },
        {
         "marker": {
          "size": 6
         },
         "mode": "markers",
         "name": "as",
         "text": [
          "as"
         ],
         "type": "scatter3d",
         "x": [
          3.232025384902954
         ],
         "y": [
          7.559390544891357
         ],
         "z": [
          8.59622573852539
         ]
        },
        {
         "marker": {
          "size": 6
         },
         "mode": "markers",
         "name": "if",
         "text": [
          "if"
         ],
         "type": "scatter3d",
         "x": [
          2.788240909576416
         ],
         "y": [
          6.641923427581787
         ],
         "z": [
          7.611952781677246
         ]
        },
        {
         "marker": {
          "size": 6
         },
         "mode": "markers",
         "name": "the",
         "text": [
          "the"
         ],
         "type": "scatter3d",
         "x": [
          3.0998780727386475
         ],
         "y": [
          7.540102958679199
         ],
         "z": [
          8.355255126953125
         ]
        },
        {
         "marker": {
          "size": 6
         },
         "mode": "markers",
         "name": "limitation",
         "text": [
          "limitation"
         ],
         "type": "scatter3d",
         "x": [
          3.663320302963257
         ],
         "y": [
          7.256635665893555
         ],
         "z": [
          8.391387939453125
         ]
        },
        {
         "marker": {
          "size": 6
         },
         "mode": "markers",
         "name": "under",
         "text": [
          "under"
         ],
         "type": "scatter3d",
         "x": [
          3.6052699089050293
         ],
         "y": [
          8.30738353729248
         ],
         "z": [
          7.8169379234313965
         ]
        },
        {
         "marker": {
          "size": 6
         },
         "mode": "markers",
         "name": "section",
         "text": [
          "section"
         ],
         "type": "scatter3d",
         "x": [
          3.0448122024536133
         ],
         "y": [
          8.436497688293457
         ],
         "z": [
          6.241951942443848
         ]
        },
        {
         "marker": {
          "size": 6
         },
         "mode": "markers",
         "name": "170",
         "text": [
          "170"
         ],
         "type": "scatter3d",
         "x": [
          3.4942362308502197
         ],
         "y": [
          9.658626556396484
         ],
         "z": [
          5.498003959655762
         ]
        },
        {
         "marker": {
          "size": 6
         },
         "mode": "markers",
         "name": "(",
         "text": [
          "("
         ],
         "type": "scatter3d",
         "x": [
          -3.6461081504821777
         ],
         "y": [
          8.629965782165527
         ],
         "z": [
          -5.715569019317627
         ]
        },
        {
         "marker": {
          "size": 6
         },
         "mode": "markers",
         "name": "e",
         "text": [
          "e"
         ],
         "type": "scatter3d",
         "x": [
          4.087210655212402
         ],
         "y": [
          10.681845664978027
         ],
         "z": [
          4.70501184463501
         ]
        },
        {
         "marker": {
          "size": 6
         },
         "mode": "markers",
         "name": ")",
         "text": [
          ")"
         ],
         "type": "scatter3d",
         "x": [
          5.775478839874268
         ],
         "y": [
          13.25002384185791
         ],
         "z": [
          -6.228009223937988
         ]
        },
        {
         "marker": {
          "size": 6
         },
         "mode": "markers",
         "name": "(",
         "text": [
          "("
         ],
         "type": "scatter3d",
         "x": [
          -3.633648157119751
         ],
         "y": [
          8.642566680908203
         ],
         "z": [
          -5.709209442138672
         ]
        },
        {
         "marker": {
          "size": 6
         },
         "mode": "markers",
         "name": "3",
         "text": [
          "3"
         ],
         "type": "scatter3d",
         "x": [
          3.752126455307007
         ],
         "y": [
          10.407944679260254
         ],
         "z": [
          4.902475357055664
         ]
        },
        {
         "marker": {
          "size": 6
         },
         "mode": "markers",
         "name": ")",
         "text": [
          ")"
         ],
         "type": "scatter3d",
         "x": [
          5.812494277954102
         ],
         "y": [
          13.28589153289795
         ],
         "z": [
          -6.273519992828369
         ]
        },
        {
         "marker": {
          "size": 6
         },
         "mode": "markers",
         "name": "(",
         "text": [
          "("
         ],
         "type": "scatter3d",
         "x": [
          -3.7094883918762207
         ],
         "y": [
          8.564197540283203
         ],
         "z": [
          -5.748525142669678
         ]
        },
        {
         "marker": {
          "size": 6
         },
         "mode": "markers",
         "name": "b",
         "text": [
          "b"
         ],
         "type": "scatter3d",
         "x": [
          4.06704044342041
         ],
         "y": [
          10.60330581665039
         ],
         "z": [
          4.759275436401367
         ]
        },
        {
         "marker": {
          "size": 6
         },
         "mode": "markers",
         "name": ")",
         "text": [
          ")"
         ],
         "type": "scatter3d",
         "x": [
          2.165226936340332
         ],
         "y": [
          6.218449592590332
         ],
         "z": [
          7.3577470779418945
         ]
        },
        {
         "marker": {
          "size": 6
         },
         "mode": "markers",
         "name": "applied",
         "text": [
          "applied"
         ],
         "type": "scatter3d",
         "x": [
          3.287940263748169
         ],
         "y": [
          7.145271301269531
         ],
         "z": [
          8.666264533996582
         ]
        },
        {
         "marker": {
          "size": 6
         },
         "mode": "markers",
         "name": "to",
         "text": [
          "to"
         ],
         "type": "scatter3d",
         "x": [
          3.2836859226226807
         ],
         "y": [
          6.522767066955566
         ],
         "z": [
          9.361387252807617
         ]
        },
        {
         "marker": {
          "size": 6
         },
         "mode": "markers",
         "name": "all",
         "text": [
          "all"
         ],
         "type": "scatter3d",
         "x": [
          2.844783306121826
         ],
         "y": [
          6.583197593688965
         ],
         "z": [
          9.46324634552002
         ]
        },
        {
         "marker": {
          "size": 6
         },
         "mode": "markers",
         "name": "stem",
         "text": [
          "stem"
         ],
         "type": "scatter3d",
         "x": [
          6.2370381355285645
         ],
         "y": [
          3.349153995513916
         ],
         "z": [
          10.83092212677002
         ]
        },
        {
         "marker": {
          "size": 6
         },
         "mode": "markers",
         "name": "inventory",
         "text": [
          "inventory"
         ],
         "type": "scatter3d",
         "x": [
          5.6250901222229
         ],
         "y": [
          6.131507396697998
         ],
         "z": [
          10.012763977050781
         ]
        },
        {
         "marker": {
          "size": 6
         },
         "mode": "markers",
         "name": "property",
         "text": [
          "property"
         ],
         "type": "scatter3d",
         "x": [
          5.727306365966797
         ],
         "y": [
          5.980865478515625
         ],
         "z": [
          9.90988540649414
         ]
        },
        {
         "marker": {
          "size": 6
         },
         "mode": "markers",
         "name": ".",
         "text": [
          "."
         ],
         "type": "scatter3d",
         "x": [
          2.5361998081207275
         ],
         "y": [
          6.199645042419434
         ],
         "z": [
          6.999189376831055
         ]
        },
        {
         "marker": {
          "size": 6
         },
         "mode": "markers",
         "name": "`",
         "text": [
          "`"
         ],
         "type": "scatter3d",
         "x": [
          -4.85193395614624
         ],
         "y": [
          -1.5753268003463745
         ],
         "z": [
          -1.0148043632507324
         ]
        },
        {
         "marker": {
          "size": 6
         },
         "mode": "markers",
         "name": "`",
         "text": [
          "`"
         ],
         "type": "scatter3d",
         "x": [
          -4.838758945465088
         ],
         "y": [
          -1.5690104961395264
         ],
         "z": [
          -1.0039888620376587
         ]
        },
        {
         "marker": {
          "size": 6
         },
         "mode": "markers",
         "name": "(",
         "text": [
          "("
         ],
         "type": "scatter3d",
         "x": [
          -3.171290874481201
         ],
         "y": [
          9.154983520507812
         ],
         "z": [
          -5.791374206542969
         ]
        },
        {
         "marker": {
          "size": 6
         },
         "mode": "markers",
         "name": "3",
         "text": [
          "3"
         ],
         "type": "scatter3d",
         "x": [
          3.7989463806152344
         ],
         "y": [
          10.461487770080566
         ],
         "z": [
          4.833742141723633
         ]
        },
        {
         "marker": {
          "size": 6
         },
         "mode": "markers",
         "name": ")",
         "text": [
          ")"
         ],
         "type": "scatter3d",
         "x": [
          5.568838119506836
         ],
         "y": [
          13.026591300964355
         ],
         "z": [
          -5.474379062652588
         ]
        },
        {
         "marker": {
          "size": 6
         },
         "mode": "markers",
         "name": "stem",
         "text": [
          "stem"
         ],
         "type": "scatter3d",
         "x": [
          6.240965843200684
         ],
         "y": [
          3.252368688583374
         ],
         "z": [
          10.879420280456543
         ]
        },
        {
         "marker": {
          "size": 6
         },
         "mode": "markers",
         "name": "service",
         "text": [
          "service"
         ],
         "type": "scatter3d",
         "x": [
          5.569663047790527
         ],
         "y": [
          6.707233428955078
         ],
         "z": [
          10.202956199645996
         ]
        },
        {
         "marker": {
          "size": 6
         },
         "mode": "markers",
         "name": "contributions",
         "text": [
          "contributions"
         ],
         "type": "scatter3d",
         "x": [
          5.887413024902344
         ],
         "y": [
          6.623983383178711
         ],
         "z": [
          8.912256240844727
         ]
        },
        {
         "marker": {
          "size": 6
         },
         "mode": "markers",
         "name": ".",
         "text": [
          "."
         ],
         "type": "scatter3d",
         "x": [
          2.5848569869995117
         ],
         "y": [
          6.106595993041992
         ],
         "z": [
          6.879246234893799
         ]
        },
        {
         "marker": {
          "size": 6
         },
         "mode": "markers",
         "name": "-",
         "text": [
          "-"
         ],
         "type": "scatter3d",
         "x": [
          6.193474769592285
         ],
         "y": [
          -3.8400375843048096
         ],
         "z": [
          15.374654769897461
         ]
        },
        {
         "marker": {
          "size": 6
         },
         "mode": "markers",
         "name": "-",
         "text": [
          "-"
         ],
         "type": "scatter3d",
         "x": [
          2.8202548027038574
         ],
         "y": [
          -2.9021689891815186
         ],
         "z": [
          -6.265398979187012
         ]
        },
        {
         "marker": {
          "size": 6
         },
         "mode": "markers",
         "name": "the",
         "text": [
          "the"
         ],
         "type": "scatter3d",
         "x": [
          1.8459134101867676
         ],
         "y": [
          7.476860046386719
         ],
         "z": [
          8.285409927368164
         ]
        },
        {
         "marker": {
          "size": 6
         },
         "mode": "markers",
         "name": "term",
         "text": [
          "term"
         ],
         "type": "scatter3d",
         "x": [
          14.786453247070312
         ],
         "y": [
          1.0288195610046387
         ],
         "z": [
          5.908774375915527
         ]
        },
        {
         "marker": {
          "size": 6
         },
         "mode": "markers",
         "name": "`",
         "text": [
          "`"
         ],
         "type": "scatter3d",
         "x": [
          -4.709336757659912
         ],
         "y": [
          -0.4123212397098541
         ],
         "z": [
          -0.953902006149292
         ]
        },
        {
         "marker": {
          "size": 6
         },
         "mode": "markers",
         "name": "stem",
         "text": [
          "stem"
         ],
         "type": "scatter3d",
         "x": [
          6.234189987182617
         ],
         "y": [
          3.2603626251220703
         ],
         "z": [
          10.874220848083496
         ]
        },
        {
         "marker": {
          "size": 6
         },
         "mode": "markers",
         "name": "service",
         "text": [
          "service"
         ],
         "type": "scatter3d",
         "x": [
          5.56799840927124
         ],
         "y": [
          6.735719203948975
         ],
         "z": [
          10.211695671081543
         ]
        },
        {
         "marker": {
          "size": 6
         },
         "mode": "markers",
         "name": "contributions",
         "text": [
          "contributions"
         ],
         "type": "scatter3d",
         "x": [
          5.8538713455200195
         ],
         "y": [
          6.570769786834717
         ],
         "z": [
          8.869095802307129
         ]
        },
        {
         "marker": {
          "size": 6
         },
         "mode": "markers",
         "name": "'",
         "text": [
          "'"
         ],
         "type": "scatter3d",
         "x": [
          3.2687928676605225
         ],
         "y": [
          6.473712921142578
         ],
         "z": [
          14.415244102478027
         ]
        },
        {
         "marker": {
          "size": 6
         },
         "mode": "markers",
         "name": "means",
         "text": [
          "means"
         ],
         "type": "scatter3d",
         "x": [
          5.654078960418701
         ],
         "y": [
          -5.70217752456665
         ],
         "z": [
          7.643738746643066
         ]
        },
        {
         "marker": {
          "size": 6
         },
         "mode": "markers",
         "name": "the",
         "text": [
          "the"
         ],
         "type": "scatter3d",
         "x": [
          2.994872570037842
         ],
         "y": [
          7.185187816619873
         ],
         "z": [
          8.914677619934082
         ]
        },
        {
         "marker": {
          "size": 6
         },
         "mode": "markers",
         "name": "amount",
         "text": [
          "amount"
         ],
         "type": "scatter3d",
         "x": [
          4.187071800231934
         ],
         "y": [
          6.844308853149414
         ],
         "z": [
          8.708605766296387
         ]
        },
        {
         "marker": {
          "size": 6
         },
         "mode": "markers",
         "name": "paid",
         "text": [
          "paid"
         ],
         "type": "scatter3d",
         "x": [
          4.528828144073486
         ],
         "y": [
          7.051694393157959
         ],
         "z": [
          8.877296447753906
         ]
        },
        {
         "marker": {
          "size": 6
         },
         "mode": "markers",
         "name": "or",
         "text": [
          "or"
         ],
         "type": "scatter3d",
         "x": [
          1.867383599281311
         ],
         "y": [
          2.331176280975342
         ],
         "z": [
          8.41404914855957
         ]
        },
        {
         "marker": {
          "size": 6
         },
         "mode": "markers",
         "name": "incurred",
         "text": [
          "incurred"
         ],
         "type": "scatter3d",
         "x": [
          4.51649808883667
         ],
         "y": [
          7.048919677734375
         ],
         "z": [
          8.88239574432373
         ]
        },
        {
         "marker": {
          "size": 6
         },
         "mode": "markers",
         "name": "during",
         "text": [
          "during"
         ],
         "type": "scatter3d",
         "x": [
          3.907843828201294
         ],
         "y": [
          6.796428203582764
         ],
         "z": [
          9.516889572143555
         ]
        },
        {
         "marker": {
          "size": 6
         },
         "mode": "markers",
         "name": "the",
         "text": [
          "the"
         ],
         "type": "scatter3d",
         "x": [
          3.236192226409912
         ],
         "y": [
          7.150030612945557
         ],
         "z": [
          10.076889991760254
         ]
        },
        {
         "marker": {
          "size": 6
         },
         "mode": "markers",
         "name": "taxa",
         "text": [
          "taxa"
         ],
         "type": "scatter3d",
         "x": [
          3.172025680541992
         ],
         "y": [
          6.597641468048096
         ],
         "z": [
          7.582330703735352
         ]
        },
        {
         "marker": {
          "size": 6
         },
         "mode": "markers",
         "name": "##ble",
         "text": [
          "##ble"
         ],
         "type": "scatter3d",
         "x": [
          3.5824201107025146
         ],
         "y": [
          6.812063217163086
         ],
         "z": [
          8.130794525146484
         ]
        },
        {
         "marker": {
          "size": 6
         },
         "mode": "markers",
         "name": "year",
         "text": [
          "year"
         ],
         "type": "scatter3d",
         "x": [
          3.6379082202911377
         ],
         "y": [
          6.901581764221191
         ],
         "z": [
          8.127825736999512
         ]
        },
        {
         "marker": {
          "size": 6
         },
         "mode": "markers",
         "name": "for",
         "text": [
          "for"
         ],
         "type": "scatter3d",
         "x": [
          3.8113508224487305
         ],
         "y": [
          6.298591613769531
         ],
         "z": [
          9.271188735961914
         ]
        },
        {
         "marker": {
          "size": 6
         },
         "mode": "markers",
         "name": "stem",
         "text": [
          "stem"
         ],
         "type": "scatter3d",
         "x": [
          6.184844493865967
         ],
         "y": [
          3.2942135334014893
         ],
         "z": [
          10.924210548400879
         ]
        },
        {
         "marker": {
          "size": 6
         },
         "mode": "markers",
         "name": "services",
         "text": [
          "services"
         ],
         "type": "scatter3d",
         "x": [
          5.373645305633545
         ],
         "y": [
          6.977957725524902
         ],
         "z": [
          10.062292098999023
         ]
        },
        {
         "marker": {
          "size": 6
         },
         "mode": "markers",
         "name": "provided",
         "text": [
          "provided"
         ],
         "type": "scatter3d",
         "x": [
          4.493254661560059
         ],
         "y": [
          7.356020450592041
         ],
         "z": [
          9.33042049407959
         ]
        },
        {
         "marker": {
          "size": 6
         },
         "mode": "markers",
         "name": "in",
         "text": [
          "in"
         ],
         "type": "scatter3d",
         "x": [
          3.8298518657684326
         ],
         "y": [
          8.232934951782227
         ],
         "z": [
          10.218133926391602
         ]
        },
        {
         "marker": {
          "size": 6
         },
         "mode": "markers",
         "name": "the",
         "text": [
          "the"
         ],
         "type": "scatter3d",
         "x": [
          3.5037636756896973
         ],
         "y": [
          8.15219497680664
         ],
         "z": [
          10.492179870605469
         ]
        },
        {
         "marker": {
          "size": 6
         },
         "mode": "markers",
         "name": "united",
         "text": [
          "united"
         ],
         "type": "scatter3d",
         "x": [
          3.180243968963623
         ],
         "y": [
          9.056347846984863
         ],
         "z": [
          9.953121185302734
         ]
        },
        {
         "marker": {
          "size": 6
         },
         "mode": "markers",
         "name": "states",
         "text": [
          "states"
         ],
         "type": "scatter3d",
         "x": [
          3.1538257598876953
         ],
         "y": [
          9.05217456817627
         ],
         "z": [
          9.925726890563965
         ]
        },
        {
         "marker": {
          "size": 6
         },
         "mode": "markers",
         "name": "or",
         "text": [
          "or"
         ],
         "type": "scatter3d",
         "x": [
          1.855409860610962
         ],
         "y": [
          2.2246289253234863
         ],
         "z": [
          8.53923511505127
         ]
        },
        {
         "marker": {
          "size": 6
         },
         "mode": "markers",
         "name": "in",
         "text": [
          "in"
         ],
         "type": "scatter3d",
         "x": [
          4.03163480758667
         ],
         "y": [
          8.152372360229492
         ],
         "z": [
          10.206788063049316
         ]
        },
        {
         "marker": {
          "size": 6
         },
         "mode": "markers",
         "name": "the",
         "text": [
          "the"
         ],
         "type": "scatter3d",
         "x": [
          3.5984559059143066
         ],
         "y": [
          8.03455638885498
         ],
         "z": [
          10.559048652648926
         ]
        },
        {
         "marker": {
          "size": 6
         },
         "mode": "markers",
         "name": "defense",
         "text": [
          "defense"
         ],
         "type": "scatter3d",
         "x": [
          6.142271995544434
         ],
         "y": [
          3.7936747074127197
         ],
         "z": [
          10.760043144226074
         ]
        },
        {
         "marker": {
          "size": 6
         },
         "mode": "markers",
         "name": "dependent",
         "text": [
          "dependent"
         ],
         "type": "scatter3d",
         "x": [
          5.248589515686035
         ],
         "y": [
          6.104043960571289
         ],
         "z": [
          11.32396411895752
         ]
        },
        {
         "marker": {
          "size": 6
         },
         "mode": "markers",
         "name": "##s",
         "text": [
          "##s"
         ],
         "type": "scatter3d",
         "x": [
          4.518148899078369
         ],
         "y": [
          6.674859046936035
         ],
         "z": [
          11.219914436340332
         ]
        },
        {
         "marker": {
          "size": 6
         },
         "mode": "markers",
         "name": "'",
         "text": [
          "'"
         ],
         "type": "scatter3d",
         "x": [
          4.040392875671387
         ],
         "y": [
          6.936408996582031
         ],
         "z": [
          11.211264610290527
         ]
        },
        {
         "marker": {
          "size": 6
         },
         "mode": "markers",
         "name": "education",
         "text": [
          "education"
         ],
         "type": "scatter3d",
         "x": [
          6.078081130981445
         ],
         "y": [
          7.43878173828125
         ],
         "z": [
          11.753979682922363
         ]
        },
        {
         "marker": {
          "size": 6
         },
         "mode": "markers",
         "name": "system",
         "text": [
          "system"
         ],
         "type": "scatter3d",
         "x": [
          5.602726459503174
         ],
         "y": [
          7.4974284172058105
         ],
         "z": [
          10.925542831420898
         ]
        },
        {
         "marker": {
          "size": 6
         },
         "mode": "markers",
         "name": "for",
         "text": [
          "for"
         ],
         "type": "scatter3d",
         "x": [
          3.8454627990722656
         ],
         "y": [
          6.268716335296631
         ],
         "z": [
          9.25595474243164
         ]
        },
        {
         "marker": {
          "size": 6
         },
         "mode": "markers",
         "name": "the",
         "text": [
          "the"
         ],
         "type": "scatter3d",
         "x": [
          2.2833445072174072
         ],
         "y": [
          6.402674198150635
         ],
         "z": [
          7.430068016052246
         ]
        },
        {
         "marker": {
          "size": 6
         },
         "mode": "markers",
         "name": "exclusive",
         "text": [
          "exclusive"
         ],
         "type": "scatter3d",
         "x": [
          4.381407737731934
         ],
         "y": [
          6.750503063201904
         ],
         "z": [
          10.10276985168457
         ]
        },
        {
         "marker": {
          "size": 6
         },
         "mode": "markers",
         "name": "benefit",
         "text": [
          "benefit"
         ],
         "type": "scatter3d",
         "x": [
          4.557234287261963
         ],
         "y": [
          6.843230724334717
         ],
         "z": [
          9.947656631469727
         ]
        },
        {
         "marker": {
          "size": 6
         },
         "mode": "markers",
         "name": "of",
         "text": [
          "of"
         ],
         "type": "scatter3d",
         "x": [
          3.9831295013427734
         ],
         "y": [
          6.802597522735596
         ],
         "z": [
          10.364490509033203
         ]
        },
        {
         "marker": {
          "size": 6
         },
         "mode": "markers",
         "name": "students",
         "text": [
          "students"
         ],
         "type": "scatter3d",
         "x": [
          5.924432754516602
         ],
         "y": [
          7.2983927726745605
         ],
         "z": [
          11.642043113708496
         ]
        },
        {
         "marker": {
          "size": 6
         },
         "mode": "markers",
         "name": "at",
         "text": [
          "at"
         ],
         "type": "scatter3d",
         "x": [
          4.088798522949219
         ],
         "y": [
          8.519886016845703
         ],
         "z": [
          10.43332576751709
         ]
        },
        {
         "marker": {
          "size": 6
         },
         "mode": "markers",
         "name": "an",
         "text": [
          "an"
         ],
         "type": "scatter3d",
         "x": [
          3.4556870460510254
         ],
         "y": [
          7.719674110412598
         ],
         "z": [
          10.033456802368164
         ]
        },
        {
         "marker": {
          "size": 6
         },
         "mode": "markers",
         "name": "elementary",
         "text": [
          "elementary"
         ],
         "type": "scatter3d",
         "x": [
          6.24942684173584
         ],
         "y": [
          8.341741561889648
         ],
         "z": [
          12.661674499511719
         ]
        },
        {
         "marker": {
          "size": 6
         },
         "mode": "markers",
         "name": "or",
         "text": [
          "or"
         ],
         "type": "scatter3d",
         "x": [
          1.8912602663040161
         ],
         "y": [
          2.2085213661193848
         ],
         "z": [
          8.530054092407227
         ]
        },
        {
         "marker": {
          "size": 6
         },
         "mode": "markers",
         "name": "secondary",
         "text": [
          "secondary"
         ],
         "type": "scatter3d",
         "x": [
          6.2787580490112305
         ],
         "y": [
          8.38818073272705
         ],
         "z": [
          12.71422004699707
         ]
        },
        {
         "marker": {
          "size": 6
         },
         "mode": "markers",
         "name": "school",
         "text": [
          "school"
         ],
         "type": "scatter3d",
         "x": [
          5.977345943450928
         ],
         "y": [
          7.6372575759887695
         ],
         "z": [
          11.958832740783691
         ]
        },
        {
         "marker": {
          "size": 6
         },
         "mode": "markers",
         "name": "described",
         "text": [
          "described"
         ],
         "type": "scatter3d",
         "x": [
          3.9914090633392334
         ],
         "y": [
          7.8905487060546875
         ],
         "z": [
          8.447431564331055
         ]
        },
        {
         "marker": {
          "size": 6
         },
         "mode": "markers",
         "name": "in",
         "text": [
          "in"
         ],
         "type": "scatter3d",
         "x": [
          3.5757691860198975
         ],
         "y": [
          8.278316497802734
         ],
         "z": [
          7.742255210876465
         ]
        },
        {
         "marker": {
          "size": 6
         },
         "mode": "markers",
         "name": "section",
         "text": [
          "section"
         ],
         "type": "scatter3d",
         "x": [
          3.0628769397735596
         ],
         "y": [
          8.435397148132324
         ],
         "z": [
          6.2435736656188965
         ]
        },
        {
         "marker": {
          "size": 6
         },
         "mode": "markers",
         "name": "170",
         "text": [
          "170"
         ],
         "type": "scatter3d",
         "x": [
          3.4989967346191406
         ],
         "y": [
          9.66383171081543
         ],
         "z": [
          5.492430210113525
         ]
        },
        {
         "marker": {
          "size": 6
         },
         "mode": "markers",
         "name": "(",
         "text": [
          "("
         ],
         "type": "scatter3d",
         "x": [
          -3.6442975997924805
         ],
         "y": [
          8.630884170532227
         ],
         "z": [
          -5.699357509613037
         ]
        },
        {
         "marker": {
          "size": 6
         },
         "mode": "markers",
         "name": "b",
         "text": [
          "b"
         ],
         "type": "scatter3d",
         "x": [
          4.065610885620117
         ],
         "y": [
          10.567387580871582
         ],
         "z": [
          4.807056903839111
         ]
        },
        {
         "marker": {
          "size": 6
         },
         "mode": "markers",
         "name": ")",
         "text": [
          ")"
         ],
         "type": "scatter3d",
         "x": [
          5.8279948234558105
         ],
         "y": [
          13.291777610778809
         ],
         "z": [
          -6.2886128425598145
         ]
        },
        {
         "marker": {
          "size": 6
         },
         "mode": "markers",
         "name": "(",
         "text": [
          "("
         ],
         "type": "scatter3d",
         "x": [
          -3.6585614681243896
         ],
         "y": [
          8.614958763122559
         ],
         "z": [
          -5.73153829574585
         ]
        },
        {
         "marker": {
          "size": 6
         },
         "mode": "markers",
         "name": "1",
         "text": [
          "1"
         ],
         "type": "scatter3d",
         "x": [
          3.7013533115386963
         ],
         "y": [
          10.250198364257812
         ],
         "z": [
          5.084573268890381
         ]
        },
        {
         "marker": {
          "size": 6
         },
         "mode": "markers",
         "name": ")",
         "text": [
          ")"
         ],
         "type": "scatter3d",
         "x": [
          5.797995567321777
         ],
         "y": [
          13.261018753051758
         ],
         "z": [
          -6.261237621307373
         ]
        },
        {
         "marker": {
          "size": 6
         },
         "mode": "markers",
         "name": "(",
         "text": [
          "("
         ],
         "type": "scatter3d",
         "x": [
          -3.6840569972991943
         ],
         "y": [
          8.590937614440918
         ],
         "z": [
          -5.741002082824707
         ]
        },
        {
         "marker": {
          "size": 6
         },
         "mode": "markers",
         "name": "a",
         "text": [
          "a"
         ],
         "type": "scatter3d",
         "x": [
          4.222933292388916
         ],
         "y": [
          10.519064903259277
         ],
         "z": [
          4.964268207550049
         ]
        },
        {
         "marker": {
          "size": 6
         },
         "mode": "markers",
         "name": ")",
         "text": [
          ")"
         ],
         "type": "scatter3d",
         "x": [
          5.78999137878418
         ],
         "y": [
          13.253596305847168
         ],
         "z": [
          -6.254068851470947
         ]
        },
        {
         "marker": {
          "size": 6
         },
         "mode": "markers",
         "name": "(",
         "text": [
          "("
         ],
         "type": "scatter3d",
         "x": [
          -3.6815497875213623
         ],
         "y": [
          8.593342781066895
         ],
         "z": [
          -5.728507995605469
         ]
        },
        {
         "marker": {
          "size": 6
         },
         "mode": "markers",
         "name": "ii",
         "text": [
          "ii"
         ],
         "type": "scatter3d",
         "x": [
          3.9566662311553955
         ],
         "y": [
          10.359480857849121
         ],
         "z": [
          5.0184431076049805
         ]
        },
        {
         "marker": {
          "size": 6
         },
         "mode": "markers",
         "name": ")",
         "text": [
          ")"
         ],
         "type": "scatter3d",
         "x": [
          5.660193920135498
         ],
         "y": [
          13.212716102600098
         ],
         "z": [
          -6.047280788421631
         ]
        },
        {
         "marker": {
          "size": 6
         },
         "mode": "markers",
         "name": "but",
         "text": [
          "but"
         ],
         "type": "scatter3d",
         "x": [
          2.5984303951263428
         ],
         "y": [
          6.232295513153076
         ],
         "z": [
          7.391571521759033
         ]
        },
        {
         "marker": {
          "size": 6
         },
         "mode": "markers",
         "name": "only",
         "text": [
          "only"
         ],
         "type": "scatter3d",
         "x": [
          2.774775981903076
         ],
         "y": [
          6.607904434204102
         ],
         "z": [
          7.4911699295043945
         ]
        },
        {
         "marker": {
          "size": 6
         },
         "mode": "markers",
         "name": "if",
         "text": [
          "if"
         ],
         "type": "scatter3d",
         "x": [
          2.7577545642852783
         ],
         "y": [
          6.489570617675781
         ],
         "z": [
          7.39014196395874
         ]
        },
        {
         "marker": {
          "size": 6
         },
         "mode": "markers",
         "name": "-",
         "text": [
          "-"
         ],
         "type": "scatter3d",
         "x": [
          6.146544456481934
         ],
         "y": [
          -3.7930428981781006
         ],
         "z": [
          15.421143531799316
         ]
        },
        {
         "marker": {
          "size": 6
         },
         "mode": "markers",
         "name": "-",
         "text": [
          "-"
         ],
         "type": "scatter3d",
         "x": [
          4.653897762298584
         ],
         "y": [
          1.9135990142822266
         ],
         "z": [
          -1.194441795349121
         ]
        },
        {
         "marker": {
          "size": 6
         },
         "mode": "markers",
         "name": "`",
         "text": [
          "`"
         ],
         "type": "scatter3d",
         "x": [
          -4.76521110534668
         ],
         "y": [
          -1.5091092586517334
         ],
         "z": [
          -0.9235027432441711
         ]
        },
        {
         "marker": {
          "size": 6
         },
         "mode": "markers",
         "name": "`",
         "text": [
          "`"
         ],
         "type": "scatter3d",
         "x": [
          -4.706995487213135
         ],
         "y": [
          -1.3793941736221313
         ],
         "z": [
          -0.788995623588562
         ]
        },
        {
         "marker": {
          "size": 6
         },
         "mode": "markers",
         "name": "(",
         "text": [
          "("
         ],
         "type": "scatter3d",
         "x": [
          -3.0246832370758057
         ],
         "y": [
          9.305830001831055
         ],
         "z": [
          -5.902511119842529
         ]
        },
        {
         "marker": {
          "size": 6
         },
         "mode": "markers",
         "name": "a",
         "text": [
          "a"
         ],
         "type": "scatter3d",
         "x": [
          4.246339321136475
         ],
         "y": [
          10.612144470214844
         ],
         "z": [
          4.874822616577148
         ]
        },
        {
         "marker": {
          "size": 6
         },
         "mode": "markers",
         "name": ")",
         "text": [
          ")"
         ],
         "type": "scatter3d",
         "x": [
          5.489108085632324
         ],
         "y": [
          13.259637832641602
         ],
         "z": [
          -5.695402145385742
         ]
        },
        {
         "marker": {
          "size": 6
         },
         "mode": "markers",
         "name": "the",
         "text": [
          "the"
         ],
         "type": "scatter3d",
         "x": [
          3.2607152462005615
         ],
         "y": [
          7.328799724578857
         ],
         "z": [
          10.245322227478027
         ]
        },
        {
         "marker": {
          "size": 6
         },
         "mode": "markers",
         "name": "taxpayer",
         "text": [
          "taxpayer"
         ],
         "type": "scatter3d",
         "x": [
          3.5993919372558594
         ],
         "y": [
          6.2193827629089355
         ],
         "z": [
          7.449071407318115
         ]
        },
        {
         "marker": {
          "size": 6
         },
         "mode": "markers",
         "name": "is",
         "text": [
          "is"
         ],
         "type": "scatter3d",
         "x": [
          3.3848977088928223
         ],
         "y": [
          7.678592205047607
         ],
         "z": [
          9.520803451538086
         ]
        },
        {
         "marker": {
          "size": 6
         },
         "mode": "markers",
         "name": "engaged",
         "text": [
          "engaged"
         ],
         "type": "scatter3d",
         "x": [
          4.4445366859436035
         ],
         "y": [
          7.527796268463135
         ],
         "z": [
          9.927037239074707
         ]
        },
        {
         "marker": {
          "size": 6
         },
         "mode": "markers",
         "name": "in",
         "text": [
          "in"
         ],
         "type": "scatter3d",
         "x": [
          4.366511344909668
         ],
         "y": [
          7.717532634735107
         ],
         "z": [
          10.01743221282959
         ]
        },
        {
         "marker": {
          "size": 6
         },
         "mode": "markers",
         "name": "the",
         "text": [
          "the"
         ],
         "type": "scatter3d",
         "x": [
          3.4290473461151123
         ],
         "y": [
          7.705825328826904
         ],
         "z": [
          10.383316040039062
         ]
        },
        {
         "marker": {
          "size": 6
         },
         "mode": "markers",
         "name": "trade",
         "text": [
          "trade"
         ],
         "type": "scatter3d",
         "x": [
          5.155341148376465
         ],
         "y": [
          7.295024394989014
         ],
         "z": [
          10.040571212768555
         ]
        },
        {
         "marker": {
          "size": 6
         },
         "mode": "markers",
         "name": "or",
         "text": [
          "or"
         ],
         "type": "scatter3d",
         "x": [
          1.8568495512008667
         ],
         "y": [
          2.217102527618408
         ],
         "z": [
          8.547926902770996
         ]
        },
        {
         "marker": {
          "size": 6
         },
         "mode": "markers",
         "name": "business",
         "text": [
          "business"
         ],
         "type": "scatter3d",
         "x": [
          5.133906841278076
         ],
         "y": [
          7.242133140563965
         ],
         "z": [
          10.081403732299805
         ]
        },
        {
         "marker": {
          "size": 6
         },
         "mode": "markers",
         "name": "of",
         "text": [
          "of"
         ],
         "type": "scatter3d",
         "x": [
          4.293533802032471
         ],
         "y": [
          7.387110710144043
         ],
         "z": [
          10.070269584655762
         ]
        },
        {
         "marker": {
          "size": 6
         },
         "mode": "markers",
         "name": "providing",
         "text": [
          "providing"
         ],
         "type": "scatter3d",
         "x": [
          4.58759880065918
         ],
         "y": [
          7.343481063842773
         ],
         "z": [
          9.842597007751465
         ]
        },
        {
         "marker": {
          "size": 6
         },
         "mode": "markers",
         "name": "such",
         "text": [
          "such"
         ],
         "type": "scatter3d",
         "x": [
          0.021780841052532196
         ],
         "y": [
          8.09594440460205
         ],
         "z": [
          8.03763484954834
         ]
        },
        {
         "marker": {
          "size": 6
         },
         "mode": "markers",
         "name": "services",
         "text": [
          "services"
         ],
         "type": "scatter3d",
         "x": [
          5.313140392303467
         ],
         "y": [
          7.064526557922363
         ],
         "z": [
          10.064169883728027
         ]
        },
        {
         "marker": {
          "size": 6
         },
         "mode": "markers",
         "name": "on",
         "text": [
          "on"
         ],
         "type": "scatter3d",
         "x": [
          4.150104999542236
         ],
         "y": [
          7.4468464851379395
         ],
         "z": [
          9.815768241882324
         ]
        },
        {
         "marker": {
          "size": 6
         },
         "mode": "markers",
         "name": "a",
         "text": [
          "a"
         ],
         "type": "scatter3d",
         "x": [
          3.714484214782715
         ],
         "y": [
          7.571969032287598
         ],
         "z": [
          9.867452621459961
         ]
        },
        {
         "marker": {
          "size": 6
         },
         "mode": "markers",
         "name": "commercial",
         "text": [
          "commercial"
         ],
         "type": "scatter3d",
         "x": [
          5.095901966094971
         ],
         "y": [
          7.3348283767700195
         ],
         "z": [
          10.051777839660645
         ]
        },
        {
         "marker": {
          "size": 6
         },
         "mode": "markers",
         "name": "basis",
         "text": [
          "basis"
         ],
         "type": "scatter3d",
         "x": [
          4.842646598815918
         ],
         "y": [
          7.330899715423584
         ],
         "z": [
          9.98894214630127
         ]
        },
        {
         "marker": {
          "size": 6
         },
         "mode": "markers",
         "name": ",",
         "text": [
          ","
         ],
         "type": "scatter3d",
         "x": [
          1.698218822479248
         ],
         "y": [
          4.557788848876953
         ],
         "z": [
          6.8762030601501465
         ]
        },
        {
         "marker": {
          "size": 6
         },
         "mode": "markers",
         "name": "and",
         "text": [
          "and"
         ],
         "type": "scatter3d",
         "x": [
          1.9147062301635742
         ],
         "y": [
          3.6036763191223145
         ],
         "z": [
          7.294005393981934
         ]
        },
        {
         "marker": {
          "size": 6
         },
         "mode": "markers",
         "name": "`",
         "text": [
          "`"
         ],
         "type": "scatter3d",
         "x": [
          -4.782235145568848
         ],
         "y": [
          -1.5339312553405762
         ],
         "z": [
          -0.952627956867218
         ]
        },
        {
         "marker": {
          "size": 6
         },
         "mode": "markers",
         "name": "`",
         "text": [
          "`"
         ],
         "type": "scatter3d",
         "x": [
          -4.711947441101074
         ],
         "y": [
          -1.4153307676315308
         ],
         "z": [
          -0.8816052675247192
         ]
        },
        {
         "marker": {
          "size": 6
         },
         "mode": "markers",
         "name": "(",
         "text": [
          "("
         ],
         "type": "scatter3d",
         "x": [
          -3.0262115001678467
         ],
         "y": [
          9.30395221710205
         ],
         "z": [
          -5.9006123542785645
         ]
        },
        {
         "marker": {
          "size": 6
         },
         "mode": "markers",
         "name": "b",
         "text": [
          "b"
         ],
         "type": "scatter3d",
         "x": [
          4.062668800354004
         ],
         "y": [
          10.634761810302734
         ],
         "z": [
          4.720437526702881
         ]
        },
        {
         "marker": {
          "size": 6
         },
         "mode": "markers",
         "name": ")",
         "text": [
          ")"
         ],
         "type": "scatter3d",
         "x": [
          5.4841694831848145
         ],
         "y": [
          13.249931335449219
         ],
         "z": [
          -5.692310810089111
         ]
        },
        {
         "marker": {
          "size": 6
         },
         "mode": "markers",
         "name": "no",
         "text": [
          "no"
         ],
         "type": "scatter3d",
         "x": [
          3.3246915340423584
         ],
         "y": [
          7.464774131774902
         ],
         "z": [
          9.049001693725586
         ]
        },
        {
         "marker": {
          "size": 6
         },
         "mode": "markers",
         "name": "charge",
         "text": [
          "charge"
         ],
         "type": "scatter3d",
         "x": [
          4.19379186630249
         ],
         "y": [
          6.910592555999756
         ],
         "z": [
          8.58568286895752
         ]
        },
        {
         "marker": {
          "size": 6
         },
         "mode": "markers",
         "name": "is",
         "text": [
          "is"
         ],
         "type": "scatter3d",
         "x": [
          3.255608320236206
         ],
         "y": [
          7.634660720825195
         ],
         "z": [
          9.04049015045166
         ]
        },
        {
         "marker": {
          "size": 6
         },
         "mode": "markers",
         "name": "imposed",
         "text": [
          "imposed"
         ],
         "type": "scatter3d",
         "x": [
          3.7857935428619385
         ],
         "y": [
          7.355463981628418
         ],
         "z": [
          8.795997619628906
         ]
        },
        {
         "marker": {
          "size": 6
         },
         "mode": "markers",
         "name": "for",
         "text": [
          "for"
         ],
         "type": "scatter3d",
         "x": [
          3.8418498039245605
         ],
         "y": [
          6.416109085083008
         ],
         "z": [
          9.315275192260742
         ]
        },
        {
         "marker": {
          "size": 6
         },
         "mode": "markers",
         "name": "providing",
         "text": [
          "providing"
         ],
         "type": "scatter3d",
         "x": [
          4.5570807456970215
         ],
         "y": [
          7.329693794250488
         ],
         "z": [
          9.824790000915527
         ]
        },
        {
         "marker": {
          "size": 6
         },
         "mode": "markers",
         "name": "such",
         "text": [
          "such"
         ],
         "type": "scatter3d",
         "x": [
          -0.008431479334831238
         ],
         "y": [
          8.069551467895508
         ],
         "z": [
          8.065168380737305
         ]
        },
        {
         "marker": {
          "size": 6
         },
         "mode": "markers",
         "name": "services",
         "text": [
          "services"
         ],
         "type": "scatter3d",
         "x": [
          5.333126068115234
         ],
         "y": [
          7.0554609298706055
         ],
         "z": [
          10.09128189086914
         ]
        },
        {
         "marker": {
          "size": 6
         },
         "mode": "markers",
         "name": ".",
         "text": [
          "."
         ],
         "type": "scatter3d",
         "x": [
          2.5495855808258057
         ],
         "y": [
          6.125584125518799
         ],
         "z": [
          6.897558689117432
         ]
        },
        {
         "marker": {
          "size": 6
         },
         "mode": "markers",
         "name": "`",
         "text": [
          "`"
         ],
         "type": "scatter3d",
         "x": [
          -4.788181304931641
         ],
         "y": [
          -1.537195086479187
         ],
         "z": [
          -0.954272449016571
         ]
        },
        {
         "marker": {
          "size": 6
         },
         "mode": "markers",
         "name": "`",
         "text": [
          "`"
         ],
         "type": "scatter3d",
         "x": [
          -4.736572742462158
         ],
         "y": [
          -1.4881036281585693
         ],
         "z": [
          -0.9155347943305969
         ]
        },
        {
         "marker": {
          "size": 6
         },
         "mode": "markers",
         "name": "(",
         "text": [
          "("
         ],
         "type": "scatter3d",
         "x": [
          -3.1838912963867188
         ],
         "y": [
          9.144305229187012
         ],
         "z": [
          -5.774575710296631
         ]
        },
        {
         "marker": {
          "size": 6
         },
         "mode": "markers",
         "name": "4",
         "text": [
          "4"
         ],
         "type": "scatter3d",
         "x": [
          3.7663071155548096
         ],
         "y": [
          10.485611915588379
         ],
         "z": [
          4.757829666137695
         ]
        },
        {
         "marker": {
          "size": 6
         },
         "mode": "markers",
         "name": ")",
         "text": [
          ")"
         ],
         "type": "scatter3d",
         "x": [
          5.54360818862915
         ],
         "y": [
          12.99422836303711
         ],
         "z": [
          -5.394023895263672
         ]
        },
        {
         "marker": {
          "size": 6
         },
         "mode": "markers",
         "name": "stem",
         "text": [
          "stem"
         ],
         "type": "scatter3d",
         "x": [
          6.231720924377441
         ],
         "y": [
          3.319833755493164
         ],
         "z": [
          10.883749961853027
         ]
        },
        {
         "marker": {
          "size": 6
         },
         "mode": "markers",
         "name": "inventory",
         "text": [
          "inventory"
         ],
         "type": "scatter3d",
         "x": [
          5.573549747467041
         ],
         "y": [
          6.195862293243408
         ],
         "z": [
          10.070755004882812
         ]
        },
        {
         "marker": {
          "size": 6
         },
         "mode": "markers",
         "name": "property",
         "text": [
          "property"
         ],
         "type": "scatter3d",
         "x": [
          5.692196369171143
         ],
         "y": [
          6.021147727966309
         ],
         "z": [
          9.959929466247559
         ]
        },
        {
         "marker": {
          "size": 6
         },
         "mode": "markers",
         "name": ".",
         "text": [
          "."
         ],
         "type": "scatter3d",
         "x": [
          2.575039863586426
         ],
         "y": [
          6.117994785308838
         ],
         "z": [
          6.872779846191406
         ]
        },
        {
         "marker": {
          "size": 6
         },
         "mode": "markers",
         "name": "-",
         "text": [
          "-"
         ],
         "type": "scatter3d",
         "x": [
          6.150537490844727
         ],
         "y": [
          -3.797159433364868
         ],
         "z": [
          15.417710304260254
         ]
        },
        {
         "marker": {
          "size": 6
         },
         "mode": "markers",
         "name": "-",
         "text": [
          "-"
         ],
         "type": "scatter3d",
         "x": [
          2.840426445007324
         ],
         "y": [
          -2.8822438716888428
         ],
         "z": [
          -6.245043754577637
         ]
        },
        {
         "marker": {
          "size": 6
         },
         "mode": "markers",
         "name": "the",
         "text": [
          "the"
         ],
         "type": "scatter3d",
         "x": [
          1.8339788913726807
         ],
         "y": [
          7.470391750335693
         ],
         "z": [
          8.261638641357422
         ]
        },
        {
         "marker": {
          "size": 6
         },
         "mode": "markers",
         "name": "term",
         "text": [
          "term"
         ],
         "type": "scatter3d",
         "x": [
          14.788653373718262
         ],
         "y": [
          1.0310168266296387
         ],
         "z": [
          5.906854629516602
         ]
        },
        {
         "marker": {
          "size": 6
         },
         "mode": "markers",
         "name": "`",
         "text": [
          "`"
         ],
         "type": "scatter3d",
         "x": [
          -4.715782165527344
         ],
         "y": [
          -0.39609503746032715
         ],
         "z": [
          -0.9601132869720459
         ]
        },
        {
         "marker": {
          "size": 6
         },
         "mode": "markers",
         "name": "stem",
         "text": [
          "stem"
         ],
         "type": "scatter3d",
         "x": [
          6.193442344665527
         ],
         "y": [
          3.250732660293579
         ],
         "z": [
          10.940374374389648
         ]
        },
        {
         "marker": {
          "size": 6
         },
         "mode": "markers",
         "name": "inventory",
         "text": [
          "inventory"
         ],
         "type": "scatter3d",
         "x": [
          5.616946697235107
         ],
         "y": [
          6.1711225509643555
         ],
         "z": [
          10.07716178894043
         ]
        },
        {
         "marker": {
          "size": 6
         },
         "mode": "markers",
         "name": "property",
         "text": [
          "property"
         ],
         "type": "scatter3d",
         "x": [
          5.678309440612793
         ],
         "y": [
          6.039708137512207
         ],
         "z": [
          9.969565391540527
         ]
        },
        {
         "marker": {
          "size": 6
         },
         "mode": "markers",
         "name": "'",
         "text": [
          "'"
         ],
         "type": "scatter3d",
         "x": [
          3.2702159881591797
         ],
         "y": [
          6.476725101470947
         ],
         "z": [
          14.41409969329834
         ]
        },
        {
         "marker": {
          "size": 6
         },
         "mode": "markers",
         "name": "means",
         "text": [
          "means"
         ],
         "type": "scatter3d",
         "x": [
          5.658845901489258
         ],
         "y": [
          -5.714554786682129
         ],
         "z": [
          7.645066738128662
         ]
        },
        {
         "marker": {
          "size": 6
         },
         "mode": "markers",
         "name": ",",
         "text": [
          ","
         ],
         "type": "scatter3d",
         "x": [
          1.678781270980835
         ],
         "y": [
          4.116593360900879
         ],
         "z": [
          6.97899866104126
         ]
        },
        {
         "marker": {
          "size": 6
         },
         "mode": "markers",
         "name": "with",
         "text": [
          "with"
         ],
         "type": "scatter3d",
         "x": [
          3.7623517513275146
         ],
         "y": [
          5.779262542724609
         ],
         "z": [
          8.712183952331543
         ]
        },
        {
         "marker": {
          "size": 6
         },
         "mode": "markers",
         "name": "respect",
         "text": [
          "respect"
         ],
         "type": "scatter3d",
         "x": [
          3.1739399433135986
         ],
         "y": [
          6.625932693481445
         ],
         "z": [
          8.160351753234863
         ]
        },
        {
         "marker": {
          "size": 6
         },
         "mode": "markers",
         "name": "to",
         "text": [
          "to"
         ],
         "type": "scatter3d",
         "x": [
          3.308397054672241
         ],
         "y": [
          6.528132438659668
         ],
         "z": [
          9.397416114807129
         ]
        },
        {
         "marker": {
          "size": 6
         },
         "mode": "markers",
         "name": "any",
         "text": [
          "any"
         ],
         "type": "scatter3d",
         "x": [
          2.3165335655212402
         ],
         "y": [
          6.551800727844238
         ],
         "z": [
          9.594290733337402
         ]
        },
        {
         "marker": {
          "size": 6
         },
         "mode": "markers",
         "name": "contribution",
         "text": [
          "contribution"
         ],
         "type": "scatter3d",
         "x": [
          5.84562349319458
         ],
         "y": [
          6.619014739990234
         ],
         "z": [
          9.050497055053711
         ]
        },
        {
         "marker": {
          "size": 6
         },
         "mode": "markers",
         "name": "to",
         "text": [
          "to"
         ],
         "type": "scatter3d",
         "x": [
          3.3450217247009277
         ],
         "y": [
          6.517172813415527
         ],
         "z": [
          9.527556419372559
         ]
        },
        {
         "marker": {
          "size": 6
         },
         "mode": "markers",
         "name": "a",
         "text": [
          "a"
         ],
         "type": "scatter3d",
         "x": [
          3.4502341747283936
         ],
         "y": [
          7.6795973777771
         ],
         "z": [
          10.037343978881836
         ]
        },
        {
         "marker": {
          "size": 6
         },
         "mode": "markers",
         "name": "school",
         "text": [
          "school"
         ],
         "type": "scatter3d",
         "x": [
          5.990408420562744
         ],
         "y": [
          7.658510684967041
         ],
         "z": [
          12.00825023651123
         ]
        },
        {
         "marker": {
          "size": 6
         },
         "mode": "markers",
         "name": ",",
         "text": [
          ","
         ],
         "type": "scatter3d",
         "x": [
          1.7022223472595215
         ],
         "y": [
          4.08497953414917
         ],
         "z": [
          6.984200477600098
         ]
        },
        {
         "marker": {
          "size": 6
         },
         "mode": "markers",
         "name": "any",
         "text": [
          "any"
         ],
         "type": "scatter3d",
         "x": [
          2.3134920597076416
         ],
         "y": [
          6.541479587554932
         ],
         "z": [
          9.604798316955566
         ]
        },
        {
         "marker": {
          "size": 6
         },
         "mode": "markers",
         "name": "property",
         "text": [
          "property"
         ],
         "type": "scatter3d",
         "x": [
          5.643604755401611
         ],
         "y": [
          6.069733142852783
         ],
         "z": [
          9.956890106201172
         ]
        },
        {
         "marker": {
          "size": 6
         },
         "mode": "markers",
         "name": "-",
         "text": [
          "-"
         ],
         "type": "scatter3d",
         "x": [
          6.072620391845703
         ],
         "y": [
          -3.7190682888031006
         ],
         "z": [
          15.494583129882812
         ]
        },
        {
         "marker": {
          "size": 6
         },
         "mode": "markers",
         "name": "-",
         "text": [
          "-"
         ],
         "type": "scatter3d",
         "x": [
          2.9709174633026123
         ],
         "y": [
          -2.74645733833313
         ],
         "z": [
          -6.104496002197266
         ]
        },
        {
         "marker": {
          "size": 6
         },
         "mode": "markers",
         "name": "`",
         "text": [
          "`"
         ],
         "type": "scatter3d",
         "x": [
          -4.72908878326416
         ],
         "y": [
          -1.4263861179351807
         ],
         "z": [
          -0.8672300577163696
         ]
        },
        {
         "marker": {
          "size": 6
         },
         "mode": "markers",
         "name": "`",
         "text": [
          "`"
         ],
         "type": "scatter3d",
         "x": [
          -4.752988815307617
         ],
         "y": [
          -1.3613636493682861
         ],
         "z": [
          -0.8195432424545288
         ]
        },
        {
         "marker": {
          "size": 6
         },
         "mode": "markers",
         "name": "(",
         "text": [
          "("
         ],
         "type": "scatter3d",
         "x": [
          -3.0507400035858154
         ],
         "y": [
          9.278607368469238
         ],
         "z": [
          -5.891175270080566
         ]
        },
        {
         "marker": {
          "size": 6
         },
         "mode": "markers",
         "name": "a",
         "text": [
          "a"
         ],
         "type": "scatter3d",
         "x": [
          4.275599002838135
         ],
         "y": [
          10.593594551086426
         ],
         "z": [
          4.911813735961914
         ]
        },
        {
         "marker": {
          "size": 6
         },
         "mode": "markers",
         "name": ")",
         "text": [
          ")"
         ],
         "type": "scatter3d",
         "x": [
          5.568118095397949
         ],
         "y": [
          13.242877006530762
         ],
         "z": [
          -5.868091583251953
         ]
        },
        {
         "marker": {
          "size": 6
         },
         "mode": "markers",
         "name": "which",
         "text": [
          "which"
         ],
         "type": "scatter3d",
         "x": [
          3.0413143634796143
         ],
         "y": [
          7.998624801635742
         ],
         "z": [
          9.582608222961426
         ]
        },
        {
         "marker": {
          "size": 6
         },
         "mode": "markers",
         "name": "is",
         "text": [
          "is"
         ],
         "type": "scatter3d",
         "x": [
          3.189509868621826
         ],
         "y": [
          7.713577747344971
         ],
         "z": [
          9.164606094360352
         ]
        },
        {
         "marker": {
          "size": 6
         },
         "mode": "markers",
         "name": "described",
         "text": [
          "described"
         ],
         "type": "scatter3d",
         "x": [
          4.010496139526367
         ],
         "y": [
          7.8563971519470215
         ],
         "z": [
          8.532414436340332
         ]
        },
        {
         "marker": {
          "size": 6
         },
         "mode": "markers",
         "name": "in",
         "text": [
          "in"
         ],
         "type": "scatter3d",
         "x": [
          3.5159382820129395
         ],
         "y": [
          8.235090255737305
         ],
         "z": [
          7.686410427093506
         ]
        },
        {
         "marker": {
          "size": 6
         },
         "mode": "markers",
         "name": "paragraph",
         "text": [
          "paragraph"
         ],
         "type": "scatter3d",
         "x": [
          2.9416110515594482
         ],
         "y": [
          8.287763595581055
         ],
         "z": [
          6.321441173553467
         ]
        },
        {
         "marker": {
          "size": 6
         },
         "mode": "markers",
         "name": "(",
         "text": [
          "("
         ],
         "type": "scatter3d",
         "x": [
          -3.481473684310913
         ],
         "y": [
          8.803332328796387
         ],
         "z": [
          -5.721984386444092
         ]
        },
        {
         "marker": {
          "size": 6
         },
         "mode": "markers",
         "name": "1",
         "text": [
          "1"
         ],
         "type": "scatter3d",
         "x": [
          3.684735059738159
         ],
         "y": [
          10.227272033691406
         ],
         "z": [
          5.096216678619385
         ]
        },
        {
         "marker": {
          "size": 6
         },
         "mode": "markers",
         "name": ")",
         "text": [
          ")"
         ],
         "type": "scatter3d",
         "x": [
          5.678135871887207
         ],
         "y": [
          13.241109848022461
         ],
         "z": [
          -6.088753700256348
         ]
        },
        {
         "marker": {
          "size": 6
         },
         "mode": "markers",
         "name": "or",
         "text": [
          "or"
         ],
         "type": "scatter3d",
         "x": [
          1.8468436002731323
         ],
         "y": [
          2.2368311882019043
         ],
         "z": [
          8.526756286621094
         ]
        },
        {
         "marker": {
          "size": 6
         },
         "mode": "markers",
         "name": "(",
         "text": [
          "("
         ],
         "type": "scatter3d",
         "x": [
          -3.326611042022705
         ],
         "y": [
          8.984241485595703
         ],
         "z": [
          -5.761948108673096
         ]
        },
        {
         "marker": {
          "size": 6
         },
         "mode": "markers",
         "name": "2",
         "text": [
          "2"
         ],
         "type": "scatter3d",
         "x": [
          3.7855167388916016
         ],
         "y": [
          10.366384506225586
         ],
         "z": [
          4.944159507751465
         ]
        },
        {
         "marker": {
          "size": 6
         },
         "mode": "markers",
         "name": ")",
         "text": [
          ")"
         ],
         "type": "scatter3d",
         "x": [
          5.631070137023926
         ],
         "y": [
          13.226810455322266
         ],
         "z": [
          -5.988966941833496
         ]
        },
        {
         "marker": {
          "size": 6
         },
         "mode": "markers",
         "name": "of",
         "text": [
          "of"
         ],
         "type": "scatter3d",
         "x": [
          3.2626359462738037
         ],
         "y": [
          8.092179298400879
         ],
         "z": [
          7.301066875457764
         ]
        },
        {
         "marker": {
          "size": 6
         },
         "mode": "markers",
         "name": "section",
         "text": [
          "section"
         ],
         "type": "scatter3d",
         "x": [
          3.1089911460876465
         ],
         "y": [
          8.466034889221191
         ],
         "z": [
          6.278138160705566
         ]
        },
        {
         "marker": {
          "size": 6
         },
         "mode": "markers",
         "name": "122",
         "text": [
          "122"
         ],
         "type": "scatter3d",
         "x": [
          3.46730637550354
         ],
         "y": [
          9.594549179077148
         ],
         "z": [
          5.564107894897461
         ]
        },
        {
         "marker": {
          "size": 6
         },
         "mode": "markers",
         "name": "##1",
         "text": [
          "##1"
         ],
         "type": "scatter3d",
         "x": [
          3.544926881790161
         ],
         "y": [
          9.560132026672363
         ],
         "z": [
          5.6341423988342285
         ]
        },
        {
         "marker": {
          "size": 6
         },
         "mode": "markers",
         "name": "(",
         "text": [
          "("
         ],
         "type": "scatter3d",
         "x": [
          -3.6767616271972656
         ],
         "y": [
          8.597774505615234
         ],
         "z": [
          -5.729958534240723
         ]
        },
        {
         "marker": {
          "size": 6
         },
         "mode": "markers",
         "name": "a",
         "text": [
          "a"
         ],
         "type": "scatter3d",
         "x": [
          4.2813591957092285
         ],
         "y": [
          10.551589965820312
         ],
         "z": [
          4.955929279327393
         ]
        },
        {
         "marker": {
          "size": 6
         },
         "mode": "markers",
         "name": ")",
         "text": [
          ")"
         ],
         "type": "scatter3d",
         "x": [
          5.639498233795166
         ],
         "y": [
          13.2302827835083
         ],
         "z": [
          -6.015315055847168
         ]
        },
        {
         "marker": {
          "size": 6
         },
         "mode": "markers",
         "name": "with",
         "text": [
          "with"
         ],
         "type": "scatter3d",
         "x": [
          3.7973668575286865
         ],
         "y": [
          5.739989280700684
         ],
         "z": [
          8.699190139770508
         ]
        },
        {
         "marker": {
          "size": 6
         },
         "mode": "markers",
         "name": "respect",
         "text": [
          "respect"
         ],
         "type": "scatter3d",
         "x": [
          3.13557505607605
         ],
         "y": [
          6.638645648956299
         ],
         "z": [
          8.265546798706055
         ]
        },
        {
         "marker": {
          "size": 6
         },
         "mode": "markers",
         "name": "to",
         "text": [
          "to"
         ],
         "type": "scatter3d",
         "x": [
          3.3245015144348145
         ],
         "y": [
          6.540278911590576
         ],
         "z": [
          9.474373817443848
         ]
        },
        {
         "marker": {
          "size": 6
         },
         "mode": "markers",
         "name": "the",
         "text": [
          "the"
         ],
         "type": "scatter3d",
         "x": [
          3.264643669128418
         ],
         "y": [
          7.1815080642700195
         ],
         "z": [
          10.482927322387695
         ]
        },
        {
         "marker": {
          "size": 6
         },
         "mode": "markers",
         "name": "donor",
         "text": [
          "donor"
         ],
         "type": "scatter3d",
         "x": [
          5.39383602142334
         ],
         "y": [
          6.356019496917725
         ],
         "z": [
          9.624666213989258
         ]
        },
        {
         "marker": {
          "size": 6
         },
         "mode": "markers",
         "name": ",",
         "text": [
          ","
         ],
         "type": "scatter3d",
         "x": [
          1.6872748136520386
         ],
         "y": [
          4.1570353507995605
         ],
         "z": [
          6.955739498138428
         ]
        },
        {
         "marker": {
          "size": 6
         },
         "mode": "markers",
         "name": "and",
         "text": [
          "and"
         ],
         "type": "scatter3d",
         "x": [
          1.9119675159454346
         ],
         "y": [
          3.6027238368988037
         ],
         "z": [
          7.291148662567139
         ]
        },
        {
         "marker": {
          "size": 6
         },
         "mode": "markers",
         "name": "`",
         "text": [
          "`"
         ],
         "type": "scatter3d",
         "x": [
          -4.833789825439453
         ],
         "y": [
          -1.4989454746246338
         ],
         "z": [
          -0.9842812418937683
         ]
        },
        {
         "marker": {
          "size": 6
         },
         "mode": "markers",
         "name": "`",
         "text": [
          "`"
         ],
         "type": "scatter3d",
         "x": [
          -4.714749813079834
         ],
         "y": [
          -1.423108696937561
         ],
         "z": [
          -0.9026739597320557
         ]
        },
        {
         "marker": {
          "size": 6
         },
         "mode": "markers",
         "name": "(",
         "text": [
          "("
         ],
         "type": "scatter3d",
         "x": [
          -2.9951963424682617
         ],
         "y": [
          9.334714889526367
         ],
         "z": [
          -5.928938388824463
         ]
        },
        {
         "marker": {
          "size": 6
         },
         "mode": "markers",
         "name": "b",
         "text": [
          "b"
         ],
         "type": "scatter3d",
         "x": [
          4.036575794219971
         ],
         "y": [
          10.690084457397461
         ],
         "z": [
          4.656022548675537
         ]
        },
        {
         "marker": {
          "size": 6
         },
         "mode": "markers",
         "name": ")",
         "text": [
          ")"
         ],
         "type": "scatter3d",
         "x": [
          2.1077234745025635
         ],
         "y": [
          6.179709434509277
         ],
         "z": [
          7.313205242156982
         ]
        },
        {
         "marker": {
          "size": 6
         },
         "mode": "markers",
         "name": "which",
         "text": [
          "which"
         ],
         "type": "scatter3d",
         "x": [
          3.090581178665161
         ],
         "y": [
          7.954503059387207
         ],
         "z": [
          9.626919746398926
         ]
        },
        {
         "marker": {
          "size": 6
         },
         "mode": "markers",
         "name": "is",
         "text": [
          "is"
         ],
         "type": "scatter3d",
         "x": [
          3.1550216674804688
         ],
         "y": [
          7.755688190460205
         ],
         "z": [
          9.238384246826172
         ]
        },
        {
         "marker": {
          "size": 6
         },
         "mode": "markers",
         "name": "determined",
         "text": [
          "determined"
         ],
         "type": "scatter3d",
         "x": [
          4.056504249572754
         ],
         "y": [
          7.654673099517822
         ],
         "z": [
          8.741244316101074
         ]
        },
        {
         "marker": {
          "size": 6
         },
         "mode": "markers",
         "name": "by",
         "text": [
          "by"
         ],
         "type": "scatter3d",
         "x": [
          3.416388988494873
         ],
         "y": [
          6.533660888671875
         ],
         "z": [
          10.325020790100098
         ]
        },
        {
         "marker": {
          "size": 6
         },
         "mode": "markers",
         "name": "the",
         "text": [
          "the"
         ],
         "type": "scatter3d",
         "x": [
          3.2285470962524414
         ],
         "y": [
          7.206871509552002
         ],
         "z": [
          10.574764251708984
         ]
        },
        {
         "marker": {
          "size": 6
         },
         "mode": "markers",
         "name": "school",
         "text": [
          "school"
         ],
         "type": "scatter3d",
         "x": [
          5.926473140716553
         ],
         "y": [
          7.665149211883545
         ],
         "z": [
          12.013683319091797
         ]
        },
        {
         "marker": {
          "size": 6
         },
         "mode": "markers",
         "name": "to",
         "text": [
          "to"
         ],
         "type": "scatter3d",
         "x": [
          3.602872610092163
         ],
         "y": [
          7.397660732269287
         ],
         "z": [
          9.2184419631958
         ]
        },
        {
         "marker": {
          "size": 6
         },
         "mode": "markers",
         "name": "be",
         "text": [
          "be"
         ],
         "type": "scatter3d",
         "x": [
          3.4060134887695312
         ],
         "y": [
          7.606874942779541
         ],
         "z": [
          9.147969245910645
         ]
        },
        {
         "marker": {
          "size": 6
         },
         "mode": "markers",
         "name": "needed",
         "text": [
          "needed"
         ],
         "type": "scatter3d",
         "x": [
          4.396813869476318
         ],
         "y": [
          7.332469463348389
         ],
         "z": [
          9.270995140075684
         ]
        },
        {
         "marker": {
          "size": 6
         },
         "mode": "markers",
         "name": "by",
         "text": [
          "by"
         ],
         "type": "scatter3d",
         "x": [
          3.4322805404663086
         ],
         "y": [
          6.518110275268555
         ],
         "z": [
          10.29382610321045
         ]
        },
        {
         "marker": {
          "size": 6
         },
         "mode": "markers",
         "name": "the",
         "text": [
          "the"
         ],
         "type": "scatter3d",
         "x": [
          3.2497081756591797
         ],
         "y": [
          7.204945087432861
         ],
         "z": [
          10.58991813659668
         ]
        },
        {
         "marker": {
          "size": 6
         },
         "mode": "markers",
         "name": "school",
         "text": [
          "school"
         ],
         "type": "scatter3d",
         "x": [
          5.950273036956787
         ],
         "y": [
          7.663569927215576
         ],
         "z": [
          11.993692398071289
         ]
        },
        {
         "marker": {
          "size": 6
         },
         "mode": "markers",
         "name": "in",
         "text": [
          "in"
         ],
         "type": "scatter3d",
         "x": [
          4.337056636810303
         ],
         "y": [
          8.260244369506836
         ],
         "z": [
          10.1625337600708
         ]
        },
        {
         "marker": {
          "size": 6
         },
         "mode": "markers",
         "name": "providing",
         "text": [
          "providing"
         ],
         "type": "scatter3d",
         "x": [
          4.5852813720703125
         ],
         "y": [
          7.299026012420654
         ],
         "z": [
          9.660406112670898
         ]
        },
        {
         "marker": {
          "size": 6
         },
         "mode": "markers",
         "name": "education",
         "text": [
          "education"
         ],
         "type": "scatter3d",
         "x": [
          6.046485900878906
         ],
         "y": [
          7.4579758644104
         ],
         "z": [
          11.743759155273438
         ]
        },
        {
         "marker": {
          "size": 6
         },
         "mode": "markers",
         "name": "in",
         "text": [
          "in"
         ],
         "type": "scatter3d",
         "x": [
          4.308988571166992
         ],
         "y": [
          8.33358097076416
         ],
         "z": [
          10.179686546325684
         ]
        },
        {
         "marker": {
          "size": 6
         },
         "mode": "markers",
         "name": "grades",
         "text": [
          "grades"
         ],
         "type": "scatter3d",
         "x": [
          6.130890369415283
         ],
         "y": [
          8.092387199401855
         ],
         "z": [
          12.36970329284668
         ]
        },
        {
         "marker": {
          "size": 6
         },
         "mode": "markers",
         "name": "k",
         "text": [
          "k"
         ],
         "type": "scatter3d",
         "x": [
          6.212455749511719
         ],
         "y": [
          8.210797309875488
         ],
         "z": [
          12.53075885772705
         ]
        },
        {
         "marker": {
          "size": 6
         },
         "mode": "markers",
         "name": "-",
         "text": [
          "-"
         ],
         "type": "scatter3d",
         "x": [
          6.17348575592041
         ],
         "y": [
          1.8021697998046875
         ],
         "z": [
          4.178440570831299
         ]
        },
        {
         "marker": {
          "size": 6
         },
         "mode": "markers",
         "name": "12",
         "text": [
          "12"
         ],
         "type": "scatter3d",
         "x": [
          6.193085670471191
         ],
         "y": [
          8.045989990234375
         ],
         "z": [
          12.411033630371094
         ]
        },
        {
         "marker": {
          "size": 6
         },
         "mode": "markers",
         "name": "in",
         "text": [
          "in"
         ],
         "type": "scatter3d",
         "x": [
          4.283858776092529
         ],
         "y": [
          8.27220344543457
         ],
         "z": [
          10.243376731872559
         ]
        },
        {
         "marker": {
          "size": 6
         },
         "mode": "markers",
         "name": "the",
         "text": [
          "the"
         ],
         "type": "scatter3d",
         "x": [
          3.7353837490081787
         ],
         "y": [
          8.057095527648926
         ],
         "z": [
          10.737176895141602
         ]
        },
        {
         "marker": {
          "size": 6
         },
         "mode": "markers",
         "name": "areas",
         "text": [
          "areas"
         ],
         "type": "scatter3d",
         "x": [
          4.696218490600586
         ],
         "y": [
          8.238419532775879
         ],
         "z": [
          11.420729637145996
         ]
        },
        {
         "marker": {
          "size": 6
         },
         "mode": "markers",
         "name": "of",
         "text": [
          "of"
         ],
         "type": "scatter3d",
         "x": [
          4.436370849609375
         ],
         "y": [
          8.095568656921387
         ],
         "z": [
          11.224729537963867
         ]
        },
        {
         "marker": {
          "size": 6
         },
         "mode": "markers",
         "name": "science",
         "text": [
          "science"
         ],
         "type": "scatter3d",
         "x": [
          5.366580009460449
         ],
         "y": [
          16.342695236206055
         ],
         "z": [
          9.906888008117676
         ]
        },
        {
         "marker": {
          "size": 6
         },
         "mode": "markers",
         "name": ",",
         "text": [
          ","
         ],
         "type": "scatter3d",
         "x": [
          2.9434547424316406
         ],
         "y": [
          1.4817814826965332
         ],
         "z": [
          7.9736647605896
         ]
        },
        {
         "marker": {
          "size": 6
         },
         "mode": "markers",
         "name": "technology",
         "text": [
          "technology"
         ],
         "type": "scatter3d",
         "x": [
          5.196660041809082
         ],
         "y": [
          17.070236206054688
         ],
         "z": [
          10.39543342590332
         ]
        },
        {
         "marker": {
          "size": 6
         },
         "mode": "markers",
         "name": ",",
         "text": [
          ","
         ],
         "type": "scatter3d",
         "x": [
          2.9820237159729004
         ],
         "y": [
          1.4464330673217773
         ],
         "z": [
          7.955602645874023
         ]
        },
        {
         "marker": {
          "size": 6
         },
         "mode": "markers",
         "name": "engineering",
         "text": [
          "engineering"
         ],
         "type": "scatter3d",
         "x": [
          3.9728221893310547
         ],
         "y": [
          16.408300399780273
         ],
         "z": [
          9.792486190795898
         ]
        },
        {
         "marker": {
          "size": 6
         },
         "mode": "markers",
         "name": ",",
         "text": [
          ","
         ],
         "type": "scatter3d",
         "x": [
          1.5495827198028564
         ],
         "y": [
          4.36071252822876
         ],
         "z": [
          6.756946563720703
         ]
        },
        {
         "marker": {
          "size": 6
         },
         "mode": "markers",
         "name": "or",
         "text": [
          "or"
         ],
         "type": "scatter3d",
         "x": [
          1.9828381538391113
         ],
         "y": [
          2.085993528366089
         ],
         "z": [
          8.614739418029785
         ]
        },
        {
         "marker": {
          "size": 6
         },
         "mode": "markers",
         "name": "mathematics",
         "text": [
          "mathematics"
         ],
         "type": "scatter3d",
         "x": [
          -4.697957992553711
         ],
         "y": [
          12.59012508392334
         ],
         "z": [
          12.334012031555176
         ]
        },
        {
         "marker": {
          "size": 6
         },
         "mode": "markers",
         "name": ".",
         "text": [
          "."
         ],
         "type": "scatter3d",
         "x": [
          -2.224405288696289
         ],
         "y": [
          6.746848106384277
         ],
         "z": [
          2.5665431022644043
         ]
        },
        {
         "marker": {
          "size": 6
         },
         "mode": "markers",
         "name": "`",
         "text": [
          "`"
         ],
         "type": "scatter3d",
         "x": [
          -4.896009922027588
         ],
         "y": [
          -1.6146327257156372
         ],
         "z": [
          -1.0239624977111816
         ]
        },
        {
         "marker": {
          "size": 6
         },
         "mode": "markers",
         "name": "`",
         "text": [
          "`"
         ],
         "type": "scatter3d",
         "x": [
          -4.779060363769531
         ],
         "y": [
          -1.5241156816482544
         ],
         "z": [
          -0.9319318532943726
         ]
        },
        {
         "marker": {
          "size": 6
         },
         "mode": "markers",
         "name": "(",
         "text": [
          "("
         ],
         "type": "scatter3d",
         "x": [
          -3.214348077774048
         ],
         "y": [
          9.11364459991455
         ],
         "z": [
          -5.750425815582275
         ]
        },
        {
         "marker": {
          "size": 6
         },
         "mode": "markers",
         "name": "5",
         "text": [
          "5"
         ],
         "type": "scatter3d",
         "x": [
          3.853896379470825
         ],
         "y": [
          10.509812355041504
         ],
         "z": [
          4.784423828125
         ]
        },
        {
         "marker": {
          "size": 6
         },
         "mode": "markers",
         "name": ")",
         "text": [
          ")"
         ],
         "type": "scatter3d",
         "x": [
          5.544952869415283
         ],
         "y": [
          13.021571159362793
         ],
         "z": [
          -5.437537670135498
         ]
        },
        {
         "marker": {
          "size": 6
         },
         "mode": "markers",
         "name": "stem",
         "text": [
          "stem"
         ],
         "type": "scatter3d",
         "x": [
          6.147007465362549
         ],
         "y": [
          3.2276365756988525
         ],
         "z": [
          10.9911470413208
         ]
        },
        {
         "marker": {
          "size": 6
         },
         "mode": "markers",
         "name": "services",
         "text": [
          "services"
         ],
         "type": "scatter3d",
         "x": [
          5.47049617767334
         ],
         "y": [
          6.897876739501953
         ],
         "z": [
          10.061380386352539
         ]
        },
        {
         "marker": {
          "size": 6
         },
         "mode": "markers",
         "name": ".",
         "text": [
          "."
         ],
         "type": "scatter3d",
         "x": [
          -2.2113401889801025
         ],
         "y": [
          6.762533664703369
         ],
         "z": [
          2.5492959022521973
         ]
        },
        {
         "marker": {
          "size": 6
         },
         "mode": "markers",
         "name": "-",
         "text": [
          "-"
         ],
         "type": "scatter3d",
         "x": [
          6.192110538482666
         ],
         "y": [
          -3.838777542114258
         ],
         "z": [
          15.375580787658691
         ]
        },
        {
         "marker": {
          "size": 6
         },
         "mode": "markers",
         "name": "-",
         "text": [
          "-"
         ],
         "type": "scatter3d",
         "x": [
          2.7796003818511963
         ],
         "y": [
          -2.9429523944854736
         ],
         "z": [
          -6.306334972381592
         ]
        },
        {
         "marker": {
          "size": 6
         },
         "mode": "markers",
         "name": "the",
         "text": [
          "the"
         ],
         "type": "scatter3d",
         "x": [
          1.8067854642868042
         ],
         "y": [
          7.477654933929443
         ],
         "z": [
          8.270495414733887
         ]
        },
        {
         "marker": {
          "size": 6
         },
         "mode": "markers",
         "name": "term",
         "text": [
          "term"
         ],
         "type": "scatter3d",
         "x": [
          14.787469863891602
         ],
         "y": [
          1.029811978340149
         ],
         "z": [
          5.908021450042725
         ]
        },
        {
         "marker": {
          "size": 6
         },
         "mode": "markers",
         "name": "`",
         "text": [
          "`"
         ],
         "type": "scatter3d",
         "x": [
          -4.7103800773620605
         ],
         "y": [
          -0.4004034399986267
         ],
         "z": [
          -0.9547733068466187
         ]
        },
        {
         "marker": {
          "size": 6
         },
         "mode": "markers",
         "name": "stem",
         "text": [
          "stem"
         ],
         "type": "scatter3d",
         "x": [
          6.158583641052246
         ],
         "y": [
          3.2278647422790527
         ],
         "z": [
          10.988262176513672
         ]
        },
        {
         "marker": {
          "size": 6
         },
         "mode": "markers",
         "name": "services",
         "text": [
          "services"
         ],
         "type": "scatter3d",
         "x": [
          5.490571975708008
         ],
         "y": [
          6.889383792877197
         ],
         "z": [
          10.079657554626465
         ]
        },
        {
         "marker": {
          "size": 6
         },
         "mode": "markers",
         "name": "'",
         "text": [
          "'"
         ],
         "type": "scatter3d",
         "x": [
          3.271071672439575
         ],
         "y": [
          6.475942611694336
         ],
         "z": [
          14.41323184967041
         ]
        },
        {
         "marker": {
          "size": 6
         },
         "mode": "markers",
         "name": "means",
         "text": [
          "means"
         ],
         "type": "scatter3d",
         "x": [
          5.663207054138184
         ],
         "y": [
          -5.702486038208008
         ],
         "z": [
          7.652872085571289
         ]
        },
        {
         "marker": {
          "size": 6
         },
         "mode": "markers",
         "name": ",",
         "text": [
          ","
         ],
         "type": "scatter3d",
         "x": [
          1.6871626377105713
         ],
         "y": [
          4.112390518188477
         ],
         "z": [
          6.9752960205078125
         ]
        },
        {
         "marker": {
          "size": 6
         },
         "mode": "markers",
         "name": "with",
         "text": [
          "with"
         ],
         "type": "scatter3d",
         "x": [
          3.7713208198547363
         ],
         "y": [
          5.761103630065918
         ],
         "z": [
          8.682551383972168
         ]
        },
        {
         "marker": {
          "size": 6
         },
         "mode": "markers",
         "name": "respect",
         "text": [
          "respect"
         ],
         "type": "scatter3d",
         "x": [
          3.1577847003936768
         ],
         "y": [
          6.619647979736328
         ],
         "z": [
          8.17580795288086
         ]
        },
        {
         "marker": {
          "size": 6
         },
         "mode": "markers",
         "name": "to",
         "text": [
          "to"
         ],
         "type": "scatter3d",
         "x": [
          3.2955009937286377
         ],
         "y": [
          6.550968170166016
         ],
         "z": [
          9.410776138305664
         ]
        },
        {
         "marker": {
          "size": 6
         },
         "mode": "markers",
         "name": "any",
         "text": [
          "any"
         ],
         "type": "scatter3d",
         "x": [
          2.3240370750427246
         ],
         "y": [
          6.565823554992676
         ],
         "z": [
          9.581605911254883
         ]
        },
        {
         "marker": {
          "size": 6
         },
         "mode": "markers",
         "name": "contribution",
         "text": [
          "contribution"
         ],
         "type": "scatter3d",
         "x": [
          5.843771457672119
         ],
         "y": [
          6.662965774536133
         ],
         "z": [
          9.04690170288086
         ]
        },
        {
         "marker": {
          "size": 6
         },
         "mode": "markers",
         "name": "to",
         "text": [
          "to"
         ],
         "type": "scatter3d",
         "x": [
          3.3393731117248535
         ],
         "y": [
          6.493130207061768
         ],
         "z": [
          9.574308395385742
         ]
        },
        {
         "marker": {
          "size": 6
         },
         "mode": "markers",
         "name": "a",
         "text": [
          "a"
         ],
         "type": "scatter3d",
         "x": [
          3.454528331756592
         ],
         "y": [
          7.6540679931640625
         ],
         "z": [
          10.062064170837402
         ]
        },
        {
         "marker": {
          "size": 6
         },
         "mode": "markers",
         "name": "school",
         "text": [
          "school"
         ],
         "type": "scatter3d",
         "x": [
          5.958361625671387
         ],
         "y": [
          7.680456638336182
         ],
         "z": [
          12.023286819458008
         ]
        },
        {
         "marker": {
          "size": 6
         },
         "mode": "markers",
         "name": ",",
         "text": [
          ","
         ],
         "type": "scatter3d",
         "x": [
          1.7064001560211182
         ],
         "y": [
          4.100809097290039
         ],
         "z": [
          6.986905574798584
         ]
        },
        {
         "marker": {
          "size": 6
         },
         "mode": "markers",
         "name": "any",
         "text": [
          "any"
         ],
         "type": "scatter3d",
         "x": [
          2.288214921951294
         ],
         "y": [
          6.530690670013428
         ],
         "z": [
          9.617215156555176
         ]
        },
        {
         "marker": {
          "size": 6
         },
         "mode": "markers",
         "name": "service",
         "text": [
          "service"
         ],
         "type": "scatter3d",
         "x": [
          5.452724456787109
         ],
         "y": [
          6.9187726974487305
         ],
         "z": [
          10.089061737060547
         ]
        },
        {
         "marker": {
          "size": 6
         },
         "mode": "markers",
         "name": "determined",
         "text": [
          "determined"
         ],
         "type": "scatter3d",
         "x": [
          4.06925106048584
         ],
         "y": [
          7.641378879547119
         ],
         "z": [
          8.73917293548584
         ]
        },
        {
         "marker": {
          "size": 6
         },
         "mode": "markers",
         "name": "by",
         "text": [
          "by"
         ],
         "type": "scatter3d",
         "x": [
          3.433852195739746
         ],
         "y": [
          6.5312066078186035
         ],
         "z": [
          10.309615135192871
         ]
        },
        {
         "marker": {
          "size": 6
         },
         "mode": "markers",
         "name": "the",
         "text": [
          "the"
         ],
         "type": "scatter3d",
         "x": [
          3.219449758529663
         ],
         "y": [
          7.17636251449585
         ],
         "z": [
          10.54269027709961
         ]
        },
        {
         "marker": {
          "size": 6
         },
         "mode": "markers",
         "name": "school",
         "text": [
          "school"
         ],
         "type": "scatter3d",
         "x": [
          5.92898416519165
         ],
         "y": [
          7.712098121643066
         ],
         "z": [
          12.047459602355957
         ]
        },
        {
         "marker": {
          "size": 6
         },
         "mode": "markers",
         "name": "to",
         "text": [
          "to"
         ],
         "type": "scatter3d",
         "x": [
          3.639613151550293
         ],
         "y": [
          7.386264324188232
         ],
         "z": [
          9.184759140014648
         ]
        },
        {
         "marker": {
          "size": 6
         },
         "mode": "markers",
         "name": "be",
         "text": [
          "be"
         ],
         "type": "scatter3d",
         "x": [
          3.371445655822754
         ],
         "y": [
          7.625293254852295
         ],
         "z": [
          9.150193214416504
         ]
        },
        {
         "marker": {
          "size": 6
         },
         "mode": "markers",
         "name": "needed",
         "text": [
          "needed"
         ],
         "type": "scatter3d",
         "x": [
          4.399623394012451
         ],
         "y": [
          7.3311767578125
         ],
         "z": [
          9.251694679260254
         ]
        },
        {
         "marker": {
          "size": 6
         },
         "mode": "markers",
         "name": "by",
         "text": [
          "by"
         ],
         "type": "scatter3d",
         "x": [
          3.420234441757202
         ],
         "y": [
          6.562755584716797
         ],
         "z": [
          10.317537307739258
         ]
        },
        {
         "marker": {
          "size": 6
         },
         "mode": "markers",
         "name": "the",
         "text": [
          "the"
         ],
         "type": "scatter3d",
         "x": [
          3.247105836868286
         ],
         "y": [
          7.200128555297852
         ],
         "z": [
          10.568809509277344
         ]
        },
        {
         "marker": {
          "size": 6
         },
         "mode": "markers",
         "name": "school",
         "text": [
          "school"
         ],
         "type": "scatter3d",
         "x": [
          5.928821086883545
         ],
         "y": [
          7.712435722351074
         ],
         "z": [
          12.041097640991211
         ]
        },
        {
         "marker": {
          "size": 6
         },
         "mode": "markers",
         "name": "in",
         "text": [
          "in"
         ],
         "type": "scatter3d",
         "x": [
          4.321993827819824
         ],
         "y": [
          8.245877265930176
         ],
         "z": [
          10.173843383789062
         ]
        },
        {
         "marker": {
          "size": 6
         },
         "mode": "markers",
         "name": "providing",
         "text": [
          "providing"
         ],
         "type": "scatter3d",
         "x": [
          4.558879375457764
         ],
         "y": [
          7.3120622634887695
         ],
         "z": [
          9.660967826843262
         ]
        },
        {
         "marker": {
          "size": 6
         },
         "mode": "markers",
         "name": "education",
         "text": [
          "education"
         ],
         "type": "scatter3d",
         "x": [
          6.017148971557617
         ],
         "y": [
          7.356137275695801
         ],
         "z": [
          11.660634994506836
         ]
        },
        {
         "marker": {
          "size": 6
         },
         "mode": "markers",
         "name": "in",
         "text": [
          "in"
         ],
         "type": "scatter3d",
         "x": [
          4.294137477874756
         ],
         "y": [
          8.296524047851562
         ],
         "z": [
          10.21287727355957
         ]
        },
        {
         "marker": {
          "size": 6
         },
         "mode": "markers",
         "name": "grades",
         "text": [
          "grades"
         ],
         "type": "scatter3d",
         "x": [
          6.115848064422607
         ],
         "y": [
          8.090044975280762
         ],
         "z": [
          12.367247581481934
         ]
        },
        {
         "marker": {
          "size": 6
         },
         "mode": "markers",
         "name": "k",
         "text": [
          "k"
         ],
         "type": "scatter3d",
         "x": [
          6.208961486816406
         ],
         "y": [
          8.19360637664795
         ],
         "z": [
          12.517518043518066
         ]
        },
        {
         "marker": {
          "size": 6
         },
         "mode": "markers",
         "name": "-",
         "text": [
          "-"
         ],
         "type": "scatter3d",
         "x": [
          6.172738552093506
         ],
         "y": [
          1.8007503747940063
         ],
         "z": [
          4.174373149871826
         ]
        },
        {
         "marker": {
          "size": 6
         },
         "mode": "markers",
         "name": "12",
         "text": [
          "12"
         ],
         "type": "scatter3d",
         "x": [
          6.214800834655762
         ],
         "y": [
          8.026240348815918
         ],
         "z": [
          12.436923027038574
         ]
        },
        {
         "marker": {
          "size": 6
         },
         "mode": "markers",
         "name": "in",
         "text": [
          "in"
         ],
         "type": "scatter3d",
         "x": [
          4.255030632019043
         ],
         "y": [
          8.295495986938477
         ],
         "z": [
          10.228181838989258
         ]
        },
        {
         "marker": {
          "size": 6
         },
         "mode": "markers",
         "name": "the",
         "text": [
          "the"
         ],
         "type": "scatter3d",
         "x": [
          3.649383068084717
         ],
         "y": [
          8.011801719665527
         ],
         "z": [
          10.671003341674805
         ]
        },
        {
         "marker": {
          "size": 6
         },
         "mode": "markers",
         "name": "areas",
         "text": [
          "areas"
         ],
         "type": "scatter3d",
         "x": [
          4.713669300079346
         ],
         "y": [
          8.23680591583252
         ],
         "z": [
          11.427286148071289
         ]
        },
        {
         "marker": {
          "size": 6
         },
         "mode": "markers",
         "name": "of",
         "text": [
          "of"
         ],
         "type": "scatter3d",
         "x": [
          4.4237470626831055
         ],
         "y": [
          8.080578804016113
         ],
         "z": [
          11.216134071350098
         ]
        },
        {
         "marker": {
          "size": 6
         },
         "mode": "markers",
         "name": "science",
         "text": [
          "science"
         ],
         "type": "scatter3d",
         "x": [
          5.380437850952148
         ],
         "y": [
          16.356945037841797
         ],
         "z": [
          9.920615196228027
         ]
        },
        {
         "marker": {
          "size": 6
         },
         "mode": "markers",
         "name": ",",
         "text": [
          ","
         ],
         "type": "scatter3d",
         "x": [
          2.9927444458007812
         ],
         "y": [
          1.4316133260726929
         ],
         "z": [
          7.984391689300537
         ]
        },
        {
         "marker": {
          "size": 6
         },
         "mode": "markers",
         "name": "technology",
         "text": [
          "technology"
         ],
         "type": "scatter3d",
         "x": [
          5.174339294433594
         ],
         "y": [
          17.083227157592773
         ],
         "z": [
          10.406157493591309
         ]
        },
        {
         "marker": {
          "size": 6
         },
         "mode": "markers",
         "name": ",",
         "text": [
          ","
         ],
         "type": "scatter3d",
         "x": [
          2.971979856491089
         ],
         "y": [
          1.4526431560516357
         ],
         "z": [
          7.960930347442627
         ]
        },
        {
         "marker": {
          "size": 6
         },
         "mode": "markers",
         "name": "engineering",
         "text": [
          "engineering"
         ],
         "type": "scatter3d",
         "x": [
          3.967543840408325
         ],
         "y": [
          16.407440185546875
         ],
         "z": [
          9.7906494140625
         ]
        },
        {
         "marker": {
          "size": 6
         },
         "mode": "markers",
         "name": ",",
         "text": [
          ","
         ],
         "type": "scatter3d",
         "x": [
          1.6084799766540527
         ],
         "y": [
          4.496580123901367
         ],
         "z": [
          6.785094738006592
         ]
        },
        {
         "marker": {
          "size": 6
         },
         "mode": "markers",
         "name": "or",
         "text": [
          "or"
         ],
         "type": "scatter3d",
         "x": [
          2.000336170196533
         ],
         "y": [
          2.0802106857299805
         ],
         "z": [
          8.615386009216309
         ]
        },
        {
         "marker": {
          "size": 6
         },
         "mode": "markers",
         "name": "mathematics",
         "text": [
          "mathematics"
         ],
         "type": "scatter3d",
         "x": [
          -4.696896553039551
         ],
         "y": [
          12.589077949523926
         ],
         "z": [
          12.335044860839844
         ]
        },
        {
         "marker": {
          "size": 6
         },
         "mode": "markers",
         "name": ",",
         "text": [
          ","
         ],
         "type": "scatter3d",
         "x": [
          1.7599093914031982
         ],
         "y": [
          4.663187026977539
         ],
         "z": [
          6.927154064178467
         ]
        },
        {
         "marker": {
          "size": 6
         },
         "mode": "markers",
         "name": "including",
         "text": [
          "including"
         ],
         "type": "scatter3d",
         "x": [
          3.516955852508545
         ],
         "y": [
          6.935634613037109
         ],
         "z": [
          9.389690399169922
         ]
        },
        {
         "marker": {
          "size": 6
         },
         "mode": "markers",
         "name": "teaching",
         "text": [
          "teaching"
         ],
         "type": "scatter3d",
         "x": [
          6.039172649383545
         ],
         "y": [
          6.98150634765625
         ],
         "z": [
          11.666807174682617
         ]
        },
        {
         "marker": {
          "size": 6
         },
         "mode": "markers",
         "name": "courses",
         "text": [
          "courses"
         ],
         "type": "scatter3d",
         "x": [
          5.837793350219727
         ],
         "y": [
          7.257116794586182
         ],
         "z": [
          11.581486701965332
         ]
        },
        {
         "marker": {
          "size": 6
         },
         "mode": "markers",
         "name": "of",
         "text": [
          "of"
         ],
         "type": "scatter3d",
         "x": [
          4.419380187988281
         ],
         "y": [
          8.054779052734375
         ],
         "z": [
          11.194150924682617
         ]
        },
        {
         "marker": {
          "size": 6
         },
         "mode": "markers",
         "name": "instruction",
         "text": [
          "instruction"
         ],
         "type": "scatter3d",
         "x": [
          5.9574809074401855
         ],
         "y": [
          7.266317844390869
         ],
         "z": [
          11.637223243713379
         ]
        },
        {
         "marker": {
          "size": 6
         },
         "mode": "markers",
         "name": "at",
         "text": [
          "at"
         ],
         "type": "scatter3d",
         "x": [
          4.08778715133667
         ],
         "y": [
          8.536349296569824
         ],
         "z": [
          10.445796966552734
         ]
        },
        {
         "marker": {
          "size": 6
         },
         "mode": "markers",
         "name": "such",
         "text": [
          "such"
         ],
         "type": "scatter3d",
         "x": [
          -0.029061470180749893
         ],
         "y": [
          8.05847454071045
         ],
         "z": [
          8.075838088989258
         ]
        },
        {
         "marker": {
          "size": 6
         },
         "mode": "markers",
         "name": "school",
         "text": [
          "school"
         ],
         "type": "scatter3d",
         "x": [
          5.959721088409424
         ],
         "y": [
          7.65716028213501
         ],
         "z": [
          11.95984172821045
         ]
        },
        {
         "marker": {
          "size": 6
         },
         "mode": "markers",
         "name": "in",
         "text": [
          "in"
         ],
         "type": "scatter3d",
         "x": [
          4.261566638946533
         ],
         "y": [
          8.219069480895996
         ],
         "z": [
          10.19761848449707
         ]
        },
        {
         "marker": {
          "size": 6
         },
         "mode": "markers",
         "name": "any",
         "text": [
          "any"
         ],
         "type": "scatter3d",
         "x": [
          2.3164820671081543
         ],
         "y": [
          6.572391033172607
         ],
         "z": [
          9.59516429901123
         ]
        },
        {
         "marker": {
          "size": 6
         },
         "mode": "markers",
         "name": "such",
         "text": [
          "such"
         ],
         "type": "scatter3d",
         "x": [
          0.006959032267332077
         ],
         "y": [
          8.086627960205078
         ],
         "z": [
          8.04647159576416
         ]
        },
        {
         "marker": {
          "size": 6
         },
         "mode": "markers",
         "name": "area",
         "text": [
          "area"
         ],
         "type": "scatter3d",
         "x": [
          4.778138160705566
         ],
         "y": [
          8.206225395202637
         ],
         "z": [
          11.46276569366455
         ]
        },
        {
         "marker": {
          "size": 6
         },
         "mode": "markers",
         "name": ".",
         "text": [
          "."
         ],
         "type": "scatter3d",
         "x": [
          2.548085927963257
         ],
         "y": [
          6.131161689758301
         ],
         "z": [
          6.885588645935059
         ]
        },
        {
         "marker": {
          "size": 6
         },
         "mode": "markers",
         "name": "`",
         "text": [
          "`"
         ],
         "type": "scatter3d",
         "x": [
          -4.913950443267822
         ],
         "y": [
          -1.5817333459854126
         ],
         "z": [
          -1.0911104679107666
         ]
        },
        {
         "marker": {
          "size": 6
         },
         "mode": "markers",
         "name": "`",
         "text": [
          "`"
         ],
         "type": "scatter3d",
         "x": [
          -4.776737689971924
         ],
         "y": [
          -1.451171875
         ],
         "z": [
          -0.9943543672561646
         ]
        },
        {
         "marker": {
          "size": 6
         },
         "mode": "markers",
         "name": "(",
         "text": [
          "("
         ],
         "type": "scatter3d",
         "x": [
          -3.1938538551330566
         ],
         "y": [
          9.132960319519043
         ],
         "z": [
          -5.833364009857178
         ]
        },
        {
         "marker": {
          "size": 6
         },
         "mode": "markers",
         "name": "6",
         "text": [
          "6"
         ],
         "type": "scatter3d",
         "x": [
          3.834947109222412
         ],
         "y": [
          10.486023902893066
         ],
         "z": [
          4.806511878967285
         ]
        },
        {
         "marker": {
          "size": 6
         },
         "mode": "markers",
         "name": ")",
         "text": [
          ")"
         ],
         "type": "scatter3d",
         "x": [
          5.559128284454346
         ],
         "y": [
          13.00632095336914
         ],
         "z": [
          -5.441434383392334
         ]
        },
        {
         "marker": {
          "size": 6
         },
         "mode": "markers",
         "name": "defense",
         "text": [
          "defense"
         ],
         "type": "scatter3d",
         "x": [
          6.137862682342529
         ],
         "y": [
          3.8044590950012207
         ],
         "z": [
          10.760064125061035
         ]
        },
        {
         "marker": {
          "size": 6
         },
         "mode": "markers",
         "name": "dependent",
         "text": [
          "dependent"
         ],
         "type": "scatter3d",
         "x": [
          5.258051872253418
         ],
         "y": [
          6.135187149047852
         ],
         "z": [
          11.316901206970215
         ]
        },
        {
         "marker": {
          "size": 6
         },
         "mode": "markers",
         "name": "##s",
         "text": [
          "##s"
         ],
         "type": "scatter3d",
         "x": [
          4.580694675445557
         ],
         "y": [
          6.63114595413208
         ],
         "z": [
          11.249357223510742
         ]
        },
        {
         "marker": {
          "size": 6
         },
         "mode": "markers",
         "name": "'",
         "text": [
          "'"
         ],
         "type": "scatter3d",
         "x": [
          4.01974630355835
         ],
         "y": [
          6.910498142242432
         ],
         "z": [
          11.275315284729004
         ]
        },
        {
         "marker": {
          "size": 6
         },
         "mode": "markers",
         "name": "education",
         "text": [
          "education"
         ],
         "type": "scatter3d",
         "x": [
          6.104479789733887
         ],
         "y": [
          7.485964775085449
         ],
         "z": [
          11.766880989074707
         ]
        },
        {
         "marker": {
          "size": 6
         },
         "mode": "markers",
         "name": "system",
         "text": [
          "system"
         ],
         "type": "scatter3d",
         "x": [
          5.613467216491699
         ],
         "y": [
          7.442053318023682
         ],
         "z": [
          10.819809913635254
         ]
        },
        {
         "marker": {
          "size": 6
         },
         "mode": "markers",
         "name": ".",
         "text": [
          "."
         ],
         "type": "scatter3d",
         "x": [
          -2.244936466217041
         ],
         "y": [
          6.724679946899414
         ],
         "z": [
          2.5858192443847656
         ]
        },
        {
         "marker": {
          "size": 6
         },
         "mode": "markers",
         "name": "-",
         "text": [
          "-"
         ],
         "type": "scatter3d",
         "x": [
          6.155244827270508
         ],
         "y": [
          -3.801884651184082
         ],
         "z": [
          15.412887573242188
         ]
        },
        {
         "marker": {
          "size": 6
         },
         "mode": "markers",
         "name": "-",
         "text": [
          "-"
         ],
         "type": "scatter3d",
         "x": [
          2.8469974994659424
         ],
         "y": [
          -2.8759653568267822
         ],
         "z": [
          -6.239504814147949
         ]
        },
        {
         "marker": {
          "size": 6
         },
         "mode": "markers",
         "name": "for",
         "text": [
          "for"
         ],
         "type": "scatter3d",
         "x": [
          3.790574312210083
         ],
         "y": [
          5.893784046173096
         ],
         "z": [
          8.959521293640137
         ]
        },
        {
         "marker": {
          "size": 6
         },
         "mode": "markers",
         "name": "purposes",
         "text": [
          "purposes"
         ],
         "type": "scatter3d",
         "x": [
          4.10303258895874
         ],
         "y": [
          6.9664530754089355
         ],
         "z": [
          7.561386585235596
         ]
        },
        {
         "marker": {
          "size": 6
         },
         "mode": "markers",
         "name": "of",
         "text": [
          "of"
         ],
         "type": "scatter3d",
         "x": [
          3.348330497741699
         ],
         "y": [
          8.024076461791992
         ],
         "z": [
          7.481483459472656
         ]
        },
        {
         "marker": {
          "size": 6
         },
         "mode": "markers",
         "name": "this",
         "text": [
          "this"
         ],
         "type": "scatter3d",
         "x": [
          1.5305067300796509
         ],
         "y": [
          8.284098625183105
         ],
         "z": [
          7.440834999084473
         ]
        },
        {
         "marker": {
          "size": 6
         },
         "mode": "markers",
         "name": "sub",
         "text": [
          "sub"
         ],
         "type": "scatter3d",
         "x": [
          3.0075876712799072
         ],
         "y": [
          7.900106906890869
         ],
         "z": [
          6.503201484680176
         ]
        },
        {
         "marker": {
          "size": 6
         },
         "mode": "markers",
         "name": "##section",
         "text": [
          "##section"
         ],
         "type": "scatter3d",
         "x": [
          2.8068647384643555
         ],
         "y": [
          8.297863960266113
         ],
         "z": [
          6.348100185394287
         ]
        },
        {
         "marker": {
          "size": 6
         },
         "mode": "markers",
         "name": ",",
         "text": [
          ","
         ],
         "type": "scatter3d",
         "x": [
          2.1098268032073975
         ],
         "y": [
          5.775531768798828
         ],
         "z": [
          7.148977756500244
         ]
        },
        {
         "marker": {
          "size": 6
         },
         "mode": "markers",
         "name": "the",
         "text": [
          "the"
         ],
         "type": "scatter3d",
         "x": [
          1.8274956941604614
         ],
         "y": [
          7.471818447113037
         ],
         "z": [
          8.265497207641602
         ]
        },
        {
         "marker": {
          "size": 6
         },
         "mode": "markers",
         "name": "term",
         "text": [
          "term"
         ],
         "type": "scatter3d",
         "x": [
          14.79523754119873
         ],
         "y": [
          1.0431278944015503
         ],
         "z": [
          5.894304275512695
         ]
        },
        {
         "marker": {
          "size": 6
         },
         "mode": "markers",
         "name": "`",
         "text": [
          "`"
         ],
         "type": "scatter3d",
         "x": [
          -4.739413738250732
         ],
         "y": [
          -0.3900618851184845
         ],
         "z": [
          -0.9832886457443237
         ]
        },
        {
         "marker": {
          "size": 6
         },
         "mode": "markers",
         "name": "defense",
         "text": [
          "defense"
         ],
         "type": "scatter3d",
         "x": [
          6.150144577026367
         ],
         "y": [
          3.771883487701416
         ],
         "z": [
          10.766727447509766
         ]
        },
        {
         "marker": {
          "size": 6
         },
         "mode": "markers",
         "name": "dependent",
         "text": [
          "dependent"
         ],
         "type": "scatter3d",
         "x": [
          5.258303165435791
         ],
         "y": [
          6.120202541351318
         ],
         "z": [
          11.31974983215332
         ]
        },
        {
         "marker": {
          "size": 6
         },
         "mode": "markers",
         "name": "##s",
         "text": [
          "##s"
         ],
         "type": "scatter3d",
         "x": [
          4.56632137298584
         ],
         "y": [
          6.659353733062744
         ],
         "z": [
          11.225667953491211
         ]
        },
        {
         "marker": {
          "size": 6
         },
         "mode": "markers",
         "name": "'",
         "text": [
          "'"
         ],
         "type": "scatter3d",
         "x": [
          4.029715538024902
         ],
         "y": [
          6.9214768409729
         ],
         "z": [
          11.281147956848145
         ]
        },
        {
         "marker": {
          "size": 6
         },
         "mode": "markers",
         "name": "education",
         "text": [
          "education"
         ],
         "type": "scatter3d",
         "x": [
          6.100330829620361
         ],
         "y": [
          7.48616361618042
         ],
         "z": [
          11.753000259399414
         ]
        },
        {
         "marker": {
          "size": 6
         },
         "mode": "markers",
         "name": "system",
         "text": [
          "system"
         ],
         "type": "scatter3d",
         "x": [
          5.621491432189941
         ],
         "y": [
          7.443792343139648
         ],
         "z": [
          10.822553634643555
         ]
        },
        {
         "marker": {
          "size": 6
         },
         "mode": "markers",
         "name": "'",
         "text": [
          "'"
         ],
         "type": "scatter3d",
         "x": [
          3.2736353874206543
         ],
         "y": [
          6.477992057800293
         ],
         "z": [
          14.411310195922852
         ]
        },
        {
         "marker": {
          "size": 6
         },
         "mode": "markers",
         "name": "means",
         "text": [
          "means"
         ],
         "type": "scatter3d",
         "x": [
          5.631382942199707
         ],
         "y": [
          -5.7324957847595215
         ],
         "z": [
          7.625340461730957
         ]
        },
        {
         "marker": {
          "size": 6
         },
         "mode": "markers",
         "name": "the",
         "text": [
          "the"
         ],
         "type": "scatter3d",
         "x": [
          2.9533326625823975
         ],
         "y": [
          7.381013870239258
         ],
         "z": [
          8.664680480957031
         ]
        },
        {
         "marker": {
          "size": 6
         },
         "mode": "markers",
         "name": "program",
         "text": [
          "program"
         ],
         "type": "scatter3d",
         "x": [
          5.59714937210083
         ],
         "y": [
          7.413440227508545
         ],
         "z": [
          10.782902717590332
         ]
        },
        {
         "marker": {
          "size": 6
         },
         "mode": "markers",
         "name": "established",
         "text": [
          "established"
         ],
         "type": "scatter3d",
         "x": [
          4.2214155197143555
         ],
         "y": [
          7.702114105224609
         ],
         "z": [
          8.871451377868652
         ]
        },
        {
         "marker": {
          "size": 6
         },
         "mode": "markers",
         "name": "and",
         "text": [
          "and"
         ],
         "type": "scatter3d",
         "x": [
          1.9355615377426147
         ],
         "y": [
          2.3418846130371094
         ],
         "z": [
          8.32556438446045
         ]
        },
        {
         "marker": {
          "size": 6
         },
         "mode": "markers",
         "name": "operated",
         "text": [
          "operated"
         ],
         "type": "scatter3d",
         "x": [
          4.258400917053223
         ],
         "y": [
          7.667943954467773
         ],
         "z": [
          9.103708267211914
         ]
        },
        {
         "marker": {
          "size": 6
         },
         "mode": "markers",
         "name": "under",
         "text": [
          "under"
         ],
         "type": "scatter3d",
         "x": [
          3.612633466720581
         ],
         "y": [
          8.26580810546875
         ],
         "z": [
          7.9016523361206055
         ]
        },
        {
         "marker": {
          "size": 6
         },
         "mode": "markers",
         "name": "the",
         "text": [
          "the"
         ],
         "type": "scatter3d",
         "x": [
          3.1479506492614746
         ],
         "y": [
          7.871811389923096
         ],
         "z": [
          8.05784797668457
         ]
        },
        {
         "marker": {
          "size": 6
         },
         "mode": "markers",
         "name": "defense",
         "text": [
          "defense"
         ],
         "type": "scatter3d",
         "x": [
          6.146403789520264
         ],
         "y": [
          3.778549909591675
         ],
         "z": [
          10.76717472076416
         ]
        },
        {
         "marker": {
          "size": 6
         },
         "mode": "markers",
         "name": "dependent",
         "text": [
          "dependent"
         ],
         "type": "scatter3d",
         "x": [
          5.258218765258789
         ],
         "y": [
          6.124972820281982
         ],
         "z": [
          11.318856239318848
         ]
        },
        {
         "marker": {
          "size": 6
         },
         "mode": "markers",
         "name": "##s",
         "text": [
          "##s"
         ],
         "type": "scatter3d",
         "x": [
          4.516678810119629
         ],
         "y": [
          6.6863017082214355
         ],
         "z": [
          11.209025382995605
         ]
        },
        {
         "marker": {
          "size": 6
         },
         "mode": "markers",
         "name": "'",
         "text": [
          "'"
         ],
         "type": "scatter3d",
         "x": [
          4.046016693115234
         ],
         "y": [
          6.920190334320068
         ],
         "z": [
          11.239567756652832
         ]
        },
        {
         "marker": {
          "size": 6
         },
         "mode": "markers",
         "name": "education",
         "text": [
          "education"
         ],
         "type": "scatter3d",
         "x": [
          6.0836100578308105
         ],
         "y": [
          7.466166973114014
         ],
         "z": [
          11.742582321166992
         ]
        },
        {
         "marker": {
          "size": 6
         },
         "mode": "markers",
         "name": "act",
         "text": [
          "act"
         ],
         "type": "scatter3d",
         "x": [
          2.9460270404815674
         ],
         "y": [
          8.394526481628418
         ],
         "z": [
          6.5935258865356445
         ]
        },
        {
         "marker": {
          "size": 6
         },
         "mode": "markers",
         "name": "of",
         "text": [
          "of"
         ],
         "type": "scatter3d",
         "x": [
          3.1530120372772217
         ],
         "y": [
          8.196003913879395
         ],
         "z": [
          7.086018085479736
         ]
        },
        {
         "marker": {
          "size": 6
         },
         "mode": "markers",
         "name": "1978",
         "text": [
          "1978"
         ],
         "type": "scatter3d",
         "x": [
          2.6385347843170166
         ],
         "y": [
          6.627127647399902
         ],
         "z": [
          7.305276870727539
         ]
        },
        {
         "marker": {
          "size": 6
         },
         "mode": "markers",
         "name": "(",
         "text": [
          "("
         ],
         "type": "scatter3d",
         "x": [
          -3.5881543159484863
         ],
         "y": [
          8.693306922912598
         ],
         "z": [
          -5.728644847869873
         ]
        },
        {
         "marker": {
          "size": 6
         },
         "mode": "markers",
         "name": "20",
         "text": [
          "20"
         ],
         "type": "scatter3d",
         "x": [
          3.3228633403778076
         ],
         "y": [
          8.784427642822266
         ],
         "z": [
          6.274201393127441
         ]
        },
        {
         "marker": {
          "size": 6
         },
         "mode": "markers",
         "name": "u",
         "text": [
          "u"
         ],
         "type": "scatter3d",
         "x": [
          3.2908551692962646
         ],
         "y": [
          8.731891632080078
         ],
         "z": [
          6.434769630432129
         ]
        },
        {
         "marker": {
          "size": 6
         },
         "mode": "markers",
         "name": ".",
         "text": [
          "."
         ],
         "type": "scatter3d",
         "x": [
          2.5128276348114014
         ],
         "y": [
          6.406868934631348
         ],
         "z": [
          7.2504777908325195
         ]
        },
        {
         "marker": {
          "size": 6
         },
         "mode": "markers",
         "name": "s",
         "text": [
          "s"
         ],
         "type": "scatter3d",
         "x": [
          3.2792627811431885
         ],
         "y": [
          8.700312614440918
         ],
         "z": [
          6.415178298950195
         ]
        },
        {
         "marker": {
          "size": 6
         },
         "mode": "markers",
         "name": ".",
         "text": [
          "."
         ],
         "type": "scatter3d",
         "x": [
          2.481907606124878
         ],
         "y": [
          6.383296489715576
         ],
         "z": [
          7.2600016593933105
         ]
        },
        {
         "marker": {
          "size": 6
         },
         "mode": "markers",
         "name": "c",
         "text": [
          "c"
         ],
         "type": "scatter3d",
         "x": [
          3.2608957290649414
         ],
         "y": [
          8.667315483093262
         ],
         "z": [
          6.327688217163086
         ]
        },
        {
         "marker": {
          "size": 6
         },
         "mode": "markers",
         "name": ".",
         "text": [
          "."
         ],
         "type": "scatter3d",
         "x": [
          -2.2970163822174072
         ],
         "y": [
          6.550600528717041
         ],
         "z": [
          2.804016351699829
         ]
        },
        {
         "marker": {
          "size": 6
         },
         "mode": "markers",
         "name": "92",
         "text": [
          "92"
         ],
         "type": "scatter3d",
         "x": [
          3.3919589519500732
         ],
         "y": [
          9.357353210449219
         ],
         "z": [
          5.747415542602539
         ]
        },
        {
         "marker": {
          "size": 6
         },
         "mode": "markers",
         "name": "##1",
         "text": [
          "##1"
         ],
         "type": "scatter3d",
         "x": [
          3.3808999061584473
         ],
         "y": [
          8.980259895324707
         ],
         "z": [
          6.119173049926758
         ]
        },
        {
         "marker": {
          "size": 6
         },
         "mode": "markers",
         "name": "et",
         "text": [
          "et"
         ],
         "type": "scatter3d",
         "x": [
          3.300471305847168
         ],
         "y": [
          8.73619270324707
         ],
         "z": [
          6.295543670654297
         ]
        },
        {
         "marker": {
          "size": 6
         },
         "mode": "markers",
         "name": "se",
         "text": [
          "se"
         ],
         "type": "scatter3d",
         "x": [
          3.2880115509033203
         ],
         "y": [
          8.673763275146484
         ],
         "z": [
          6.345714092254639
         ]
        },
        {
         "marker": {
          "size": 6
         },
         "mode": "markers",
         "name": "##q",
         "text": [
          "##q"
         ],
         "type": "scatter3d",
         "x": [
          3.300081968307495
         ],
         "y": [
          8.688844680786133
         ],
         "z": [
          6.353600025177002
         ]
        },
        {
         "marker": {
          "size": 6
         },
         "mode": "markers",
         "name": ".",
         "text": [
          "."
         ],
         "type": "scatter3d",
         "x": [
          2.5018389225006104
         ],
         "y": [
          6.4053263664245605
         ],
         "z": [
          7.2767333984375
         ]
        },
        {
         "marker": {
          "size": 6
         },
         "mode": "markers",
         "name": ")",
         "text": [
          ")"
         ],
         "type": "scatter3d",
         "x": [
          5.655037879943848
         ],
         "y": [
          13.202795028686523
         ],
         "z": [
          -6.031396865844727
         ]
        },
        {
         "marker": {
          "size": 6
         },
         "mode": "markers",
         "name": ".",
         "text": [
          "."
         ],
         "type": "scatter3d",
         "x": [
          -2.250417470932007
         ],
         "y": [
          6.716339588165283
         ],
         "z": [
          2.5919835567474365
         ]
        },
        {
         "marker": {
          "size": 6
         },
         "mode": "markers",
         "name": "`",
         "text": [
          "`"
         ],
         "type": "scatter3d",
         "x": [
          -4.829986572265625
         ],
         "y": [
          -1.4998663663864136
         ],
         "z": [
          -1.0074790716171265
         ]
        },
        {
         "marker": {
          "size": 6
         },
         "mode": "markers",
         "name": "`",
         "text": [
          "`"
         ],
         "type": "scatter3d",
         "x": [
          -4.767766952514648
         ],
         "y": [
          -1.4354647397994995
         ],
         "z": [
          -0.922735333442688
         ]
        },
        {
         "marker": {
          "size": 6
         },
         "mode": "markers",
         "name": "(",
         "text": [
          "("
         ],
         "type": "scatter3d",
         "x": [
          -3.1403324604034424
         ],
         "y": [
          9.187782287597656
         ],
         "z": [
          -5.87526798248291
         ]
        },
        {
         "marker": {
          "size": 6
         },
         "mode": "markers",
         "name": "d",
         "text": [
          "d"
         ],
         "type": "scatter3d",
         "x": [
          3.9745471477508545
         ],
         "y": [
          10.664875984191895
         ],
         "z": [
          4.61688232421875
         ]
        },
        {
         "marker": {
          "size": 6
         },
         "mode": "markers",
         "name": ")",
         "text": [
          ")"
         ],
         "type": "scatter3d",
         "x": [
          5.570382595062256
         ],
         "y": [
          13.001019477844238
         ],
         "z": [
          -5.452263355255127
         ]
        },
        {
         "marker": {
          "size": 6
         },
         "mode": "markers",
         "name": "stem",
         "text": [
          "stem"
         ],
         "type": "scatter3d",
         "x": [
          6.203627586364746
         ],
         "y": [
          3.2496285438537598
         ],
         "z": [
          10.923585891723633
         ]
        },
        {
         "marker": {
          "size": 6
         },
         "mode": "markers",
         "name": "teacher",
         "text": [
          "teacher"
         ],
         "type": "scatter3d",
         "x": [
          6.2225728034973145
         ],
         "y": [
          6.771296501159668
         ],
         "z": [
          11.834146499633789
         ]
        },
        {
         "marker": {
          "size": 6
         },
         "mode": "markers",
         "name": "ex",
         "text": [
          "ex"
         ],
         "type": "scatter3d",
         "x": [
          5.397481918334961
         ],
         "y": [
          6.4209136962890625
         ],
         "z": [
          11.26846981048584
         ]
        },
        {
         "marker": {
          "size": 6
         },
         "mode": "markers",
         "name": "##tern",
         "text": [
          "##tern"
         ],
         "type": "scatter3d",
         "x": [
          5.3216400146484375
         ],
         "y": [
          6.3365912437438965
         ],
         "z": [
          11.24355411529541
         ]
        },
        {
         "marker": {
          "size": 6
         },
         "mode": "markers",
         "name": "##ship",
         "text": [
          "##ship"
         ],
         "type": "scatter3d",
         "x": [
          5.244818210601807
         ],
         "y": [
          6.513014793395996
         ],
         "z": [
          11.120919227600098
         ]
        },
        {
         "marker": {
          "size": 6
         },
         "mode": "markers",
         "name": "expenses",
         "text": [
          "expenses"
         ],
         "type": "scatter3d",
         "x": [
          5.473148345947266
         ],
         "y": [
          6.726726055145264
         ],
         "z": [
          8.991571426391602
         ]
        },
        {
         "marker": {
          "size": 6
         },
         "mode": "markers",
         "name": ".",
         "text": [
          "."
         ],
         "type": "scatter3d",
         "x": [
          -2.2135019302368164
         ],
         "y": [
          6.758269786834717
         ],
         "z": [
          2.551413059234619
         ]
        },
        {
         "marker": {
          "size": 6
         },
         "mode": "markers",
         "name": "-",
         "text": [
          "-"
         ],
         "type": "scatter3d",
         "x": [
          6.161557197570801
         ],
         "y": [
          -3.808166027069092
         ],
         "z": [
          15.406003952026367
         ]
        },
        {
         "marker": {
          "size": 6
         },
         "mode": "markers",
         "name": "-",
         "text": [
          "-"
         ],
         "type": "scatter3d",
         "x": [
          2.815115451812744
         ],
         "y": [
          -2.9080493450164795
         ],
         "z": [
          -6.272499084472656
         ]
        },
        {
         "marker": {
          "size": 6
         },
         "mode": "markers",
         "name": "for",
         "text": [
          "for"
         ],
         "type": "scatter3d",
         "x": [
          3.7941863536834717
         ],
         "y": [
          5.896326065063477
         ],
         "z": [
          8.966302871704102
         ]
        },
        {
         "marker": {
          "size": 6
         },
         "mode": "markers",
         "name": "purposes",
         "text": [
          "purposes"
         ],
         "type": "scatter3d",
         "x": [
          4.0888352394104
         ],
         "y": [
          6.965518951416016
         ],
         "z": [
          7.562710762023926
         ]
        },
        {
         "marker": {
          "size": 6
         },
         "mode": "markers",
         "name": "of",
         "text": [
          "of"
         ],
         "type": "scatter3d",
         "x": [
          3.3286194801330566
         ],
         "y": [
          7.9945902824401855
         ],
         "z": [
          7.477557182312012
         ]
        },
        {
         "marker": {
          "size": 6
         },
         "mode": "markers",
         "name": "this",
         "text": [
          "this"
         ],
         "type": "scatter3d",
         "x": [
          1.485642433166504
         ],
         "y": [
          8.317192077636719
         ],
         "z": [
          7.424860954284668
         ]
        },
        {
         "marker": {
          "size": 6
         },
         "mode": "markers",
         "name": "section",
         "text": [
          "section"
         ],
         "type": "scatter3d",
         "x": [
          2.791618585586548
         ],
         "y": [
          8.342913627624512
         ],
         "z": [
          6.4109063148498535
         ]
        },
        {
         "marker": {
          "size": 6
         },
         "mode": "markers",
         "name": "-",
         "text": [
          "-"
         ],
         "type": "scatter3d",
         "x": [
          6.08745002746582
         ],
         "y": [
          -3.7338688373565674
         ],
         "z": [
          15.479473114013672
         ]
        },
        {
         "marker": {
          "size": 6
         },
         "mode": "markers",
         "name": "-",
         "text": [
          "-"
         ],
         "type": "scatter3d",
         "x": [
          2.971775531768799
         ],
         "y": [
          -2.745412588119507
         ],
         "z": [
          -6.10334587097168
         ]
        },
        {
         "marker": {
          "size": 6
         },
         "mode": "markers",
         "name": "`",
         "text": [
          "`"
         ],
         "type": "scatter3d",
         "x": [
          -4.762724876403809
         ],
         "y": [
          -1.4342966079711914
         ],
         "z": [
          -0.935454785823822
         ]
        },
        {
         "marker": {
          "size": 6
         },
         "mode": "markers",
         "name": "`",
         "text": [
          "`"
         ],
         "type": "scatter3d",
         "x": [
          -4.766280651092529
         ],
         "y": [
          -1.4125220775604248
         ],
         "z": [
          -0.924991250038147
         ]
        },
        {
         "marker": {
          "size": 6
         },
         "mode": "markers",
         "name": "(",
         "text": [
          "("
         ],
         "type": "scatter3d",
         "x": [
          -3.2546768188476562
         ],
         "y": [
          9.071189880371094
         ],
         "z": [
          -5.74186372756958
         ]
        },
        {
         "marker": {
          "size": 6
         },
         "mode": "markers",
         "name": "1",
         "text": [
          "1"
         ],
         "type": "scatter3d",
         "x": [
          3.658595323562622
         ],
         "y": [
          10.234559059143066
         ],
         "z": [
          5.091401100158691
         ]
        },
        {
         "marker": {
          "size": 6
         },
         "mode": "markers",
         "name": ")",
         "text": [
          ")"
         ],
         "type": "scatter3d",
         "x": [
          2.1907761096954346
         ],
         "y": [
          6.20760440826416
         ],
         "z": [
          7.305154800415039
         ]
        },
        {
         "marker": {
          "size": 6
         },
         "mode": "markers",
         "name": "in",
         "text": [
          "in"
         ],
         "type": "scatter3d",
         "x": [
          4.318016529083252
         ],
         "y": [
          2.160168170928955
         ],
         "z": [
          -1.459822177886963
         ]
        },
        {
         "marker": {
          "size": 6
         },
         "mode": "markers",
         "name": "general",
         "text": [
          "general"
         ],
         "type": "scatter3d",
         "x": [
          2.7796859741210938
         ],
         "y": [
          6.586255073547363
         ],
         "z": [
          7.12400484085083
         ]
        },
        {
         "marker": {
          "size": 6
         },
         "mode": "markers",
         "name": ".",
         "text": [
          "."
         ],
         "type": "scatter3d",
         "x": [
          -2.2618939876556396
         ],
         "y": [
          6.708518981933594
         ],
         "z": [
          2.6033849716186523
         ]
        },
        {
         "marker": {
          "size": 6
         },
         "mode": "markers",
         "name": "-",
         "text": [
          "-"
         ],
         "type": "scatter3d",
         "x": [
          6.18283748626709
         ],
         "y": [
          -3.829446792602539
         ],
         "z": [
          15.385049819946289
         ]
        },
        {
         "marker": {
          "size": 6
         },
         "mode": "markers",
         "name": "-",
         "text": [
          "-"
         ],
         "type": "scatter3d",
         "x": [
          2.8401498794555664
         ],
         "y": [
          -2.8826539516448975
         ],
         "z": [
          -6.245856761932373
         ]
        },
        {
         "marker": {
          "size": 6
         },
         "mode": "markers",
         "name": "the",
         "text": [
          "the"
         ],
         "type": "scatter3d",
         "x": [
          1.809462547302246
         ],
         "y": [
          7.446549892425537
         ],
         "z": [
          8.241232872009277
         ]
        },
        {
         "marker": {
          "size": 6
         },
         "mode": "markers",
         "name": "term",
         "text": [
          "term"
         ],
         "type": "scatter3d",
         "x": [
          14.787786483764648
         ],
         "y": [
          1.0300530195236206
         ],
         "z": [
          5.907819747924805
         ]
        },
        {
         "marker": {
          "size": 6
         },
         "mode": "markers",
         "name": "`",
         "text": [
          "`"
         ],
         "type": "scatter3d",
         "x": [
          -4.708529949188232
         ],
         "y": [
          -0.457105815410614
         ],
         "z": [
          -0.9524039626121521
         ]
        },
        {
         "marker": {
          "size": 6
         },
         "mode": "markers",
         "name": "stem",
         "text": [
          "stem"
         ],
         "type": "scatter3d",
         "x": [
          6.148744583129883
         ],
         "y": [
          3.24686598777771
         ],
         "z": [
          10.982004165649414
         ]
        },
        {
         "marker": {
          "size": 6
         },
         "mode": "markers",
         "name": "teacher",
         "text": [
          "teacher"
         ],
         "type": "scatter3d",
         "x": [
          6.229519844055176
         ],
         "y": [
          6.756289482116699
         ],
         "z": [
          11.833144187927246
         ]
        },
        {
         "marker": {
          "size": 6
         },
         "mode": "markers",
         "name": "ex",
         "text": [
          "ex"
         ],
         "type": "scatter3d",
         "x": [
          5.388899803161621
         ],
         "y": [
          6.384517669677734
         ],
         "z": [
          11.247443199157715
         ]
        },
        {
         "marker": {
          "size": 6
         },
         "mode": "markers",
         "name": "##tern",
         "text": [
          "##tern"
         ],
         "type": "scatter3d",
         "x": [
          5.285264015197754
         ],
         "y": [
          6.282238483428955
         ],
         "z": [
          11.260807991027832
         ]
        },
        {
         "marker": {
          "size": 6
         },
         "mode": "markers",
         "name": "##ship",
         "text": [
          "##ship"
         ],
         "type": "scatter3d",
         "x": [
          5.25682258605957
         ],
         "y": [
          6.438860893249512
         ],
         "z": [
          11.210580825805664
         ]
        },
        {
         "marker": {
          "size": 6
         },
         "mode": "markers",
         "name": "expenses",
         "text": [
          "expenses"
         ],
         "type": "scatter3d",
         "x": [
          5.475365161895752
         ],
         "y": [
          6.731506824493408
         ],
         "z": [
          8.997684478759766
         ]
        },
        {
         "marker": {
          "size": 6
         },
         "mode": "markers",
         "name": "'",
         "text": [
          "'"
         ],
         "type": "scatter3d",
         "x": [
          3.268134117126465
         ],
         "y": [
          6.472571849822998
         ],
         "z": [
          14.418944358825684
         ]
        },
        {
         "marker": {
          "size": 6
         },
         "mode": "markers",
         "name": "means",
         "text": [
          "means"
         ],
         "type": "scatter3d",
         "x": [
          5.655652046203613
         ],
         "y": [
          -5.7086262702941895
         ],
         "z": [
          7.645455360412598
         ]
        },
        {
         "marker": {
          "size": 6
         },
         "mode": "markers",
         "name": "any",
         "text": [
          "any"
         ],
         "type": "scatter3d",
         "x": [
          2.3742198944091797
         ],
         "y": [
          6.61142110824585
         ],
         "z": [
          9.540267944335938
         ]
        },
        {
         "marker": {
          "size": 6
         },
         "mode": "markers",
         "name": "amount",
         "text": [
          "amount"
         ],
         "type": "scatter3d",
         "x": [
          4.218959808349609
         ],
         "y": [
          6.860705852508545
         ],
         "z": [
          8.750990867614746
         ]
        },
        {
         "marker": {
          "size": 6
         },
         "mode": "markers",
         "name": "paid",
         "text": [
          "paid"
         ],
         "type": "scatter3d",
         "x": [
          4.492458343505859
         ],
         "y": [
          6.999462604522705
         ],
         "z": [
          8.844778060913086
         ]
        },
        {
         "marker": {
          "size": 6
         },
         "mode": "markers",
         "name": "or",
         "text": [
          "or"
         ],
         "type": "scatter3d",
         "x": [
          1.8297781944274902
         ],
         "y": [
          2.3443851470947266
         ],
         "z": [
          8.4312744140625
         ]
        },
        {
         "marker": {
          "size": 6
         },
         "mode": "markers",
         "name": "incurred",
         "text": [
          "incurred"
         ],
         "type": "scatter3d",
         "x": [
          4.512218475341797
         ],
         "y": [
          6.986687660217285
         ],
         "z": [
          8.866541862487793
         ]
        },
        {
         "marker": {
          "size": 6
         },
         "mode": "markers",
         "name": "to",
         "text": [
          "to"
         ],
         "type": "scatter3d",
         "x": [
          3.813894033432007
         ],
         "y": [
          6.6503071784973145
         ],
         "z": [
          9.575552940368652
         ]
        },
        {
         "marker": {
          "size": 6
         },
         "mode": "markers",
         "name": "carry",
         "text": [
          "carry"
         ],
         "type": "scatter3d",
         "x": [
          4.515674591064453
         ],
         "y": [
          7.412903308868408
         ],
         "z": [
          9.808505058288574
         ]
        },
        {
         "marker": {
          "size": 6
         },
         "mode": "markers",
         "name": "out",
         "text": [
          "out"
         ],
         "type": "scatter3d",
         "x": [
          4.3532843589782715
         ],
         "y": [
          7.579559803009033
         ],
         "z": [
          9.899941444396973
         ]
        },
        {
         "marker": {
          "size": 6
         },
         "mode": "markers",
         "name": "a",
         "text": [
          "a"
         ],
         "type": "scatter3d",
         "x": [
          3.5223913192749023
         ],
         "y": [
          7.645254611968994
         ],
         "z": [
          10.007938385009766
         ]
        },
        {
         "marker": {
          "size": 6
         },
         "mode": "markers",
         "name": "stem",
         "text": [
          "stem"
         ],
         "type": "scatter3d",
         "x": [
          6.150623798370361
         ],
         "y": [
          3.2366116046905518
         ],
         "z": [
          10.997617721557617
         ]
        },
        {
         "marker": {
          "size": 6
         },
         "mode": "markers",
         "name": "ex",
         "text": [
          "ex"
         ],
         "type": "scatter3d",
         "x": [
          5.392881870269775
         ],
         "y": [
          6.363015651702881
         ],
         "z": [
          11.286664009094238
         ]
        },
        {
         "marker": {
          "size": 6
         },
         "mode": "markers",
         "name": "##tern",
         "text": [
          "##tern"
         ],
         "type": "scatter3d",
         "x": [
          5.294759750366211
         ],
         "y": [
          6.299264430999756
         ],
         "z": [
          11.280318260192871
         ]
        },
        {
         "marker": {
          "size": 6
         },
         "mode": "markers",
         "name": "##ship",
         "text": [
          "##ship"
         ],
         "type": "scatter3d",
         "x": [
          5.2455973625183105
         ],
         "y": [
          6.512931823730469
         ],
         "z": [
          11.169271469116211
         ]
        },
        {
         "marker": {
          "size": 6
         },
         "mode": "markers",
         "name": "program",
         "text": [
          "program"
         ],
         "type": "scatter3d",
         "x": [
          5.588894844055176
         ],
         "y": [
          7.3997979164123535
         ],
         "z": [
          10.74448299407959
         ]
        },
        {
         "marker": {
          "size": 6
         },
         "mode": "markers",
         "name": "of",
         "text": [
          "of"
         ],
         "type": "scatter3d",
         "x": [
          3.6094751358032227
         ],
         "y": [
          6.715006351470947
         ],
         "z": [
          10.357090950012207
         ]
        },
        {
         "marker": {
          "size": 6
         },
         "mode": "markers",
         "name": "the",
         "text": [
          "the"
         ],
         "type": "scatter3d",
         "x": [
          3.244990348815918
         ],
         "y": [
          7.207479476928711
         ],
         "z": [
          10.417195320129395
         ]
        },
        {
         "marker": {
          "size": 6
         },
         "mode": "markers",
         "name": "taxpayer",
         "text": [
          "taxpayer"
         ],
         "type": "scatter3d",
         "x": [
          3.5802643299102783
         ],
         "y": [
          6.211917877197266
         ],
         "z": [
          7.430115699768066
         ]
        },
        {
         "marker": {
          "size": 6
         },
         "mode": "markers",
         "name": "but",
         "text": [
          "but"
         ],
         "type": "scatter3d",
         "x": [
          2.510866641998291
         ],
         "y": [
          6.0387043952941895
         ],
         "z": [
          7.504793167114258
         ]
        },
        {
         "marker": {
          "size": 6
         },
         "mode": "markers",
         "name": "only",
         "text": [
          "only"
         ],
         "type": "scatter3d",
         "x": [
          3.1215081214904785
         ],
         "y": [
          7.071876049041748
         ],
         "z": [
          8.939507484436035
         ]
        },
        {
         "marker": {
          "size": 6
         },
         "mode": "markers",
         "name": "to",
         "text": [
          "to"
         ],
         "type": "scatter3d",
         "x": [
          3.249386787414551
         ],
         "y": [
          6.809861183166504
         ],
         "z": [
          9.234021186828613
         ]
        },
        {
         "marker": {
          "size": 6
         },
         "mode": "markers",
         "name": "the",
         "text": [
          "the"
         ],
         "type": "scatter3d",
         "x": [
          2.2767741680145264
         ],
         "y": [
          6.464138984680176
         ],
         "z": [
          7.484129428863525
         ]
        },
        {
         "marker": {
          "size": 6
         },
         "mode": "markers",
         "name": "extent",
         "text": [
          "extent"
         ],
         "type": "scatter3d",
         "x": [
          3.0579333305358887
         ],
         "y": [
          7.450289249420166
         ],
         "z": [
          9.105696678161621
         ]
        },
        {
         "marker": {
          "size": 6
         },
         "mode": "markers",
         "name": "that",
         "text": [
          "that"
         ],
         "type": "scatter3d",
         "x": [
          3.124939441680908
         ],
         "y": [
          7.628727912902832
         ],
         "z": [
          9.33223819732666
         ]
        },
        {
         "marker": {
          "size": 6
         },
         "mode": "markers",
         "name": "such",
         "text": [
          "such"
         ],
         "type": "scatter3d",
         "x": [
          0.02241700328886509
         ],
         "y": [
          8.097164154052734
         ],
         "z": [
          8.03796100616455
         ]
        },
        {
         "marker": {
          "size": 6
         },
         "mode": "markers",
         "name": "amount",
         "text": [
          "amount"
         ],
         "type": "scatter3d",
         "x": [
          4.231319904327393
         ],
         "y": [
          6.837239742279053
         ],
         "z": [
          8.718070030212402
         ]
        },
        {
         "marker": {
          "size": 6
         },
         "mode": "markers",
         "name": "is",
         "text": [
          "is"
         ],
         "type": "scatter3d",
         "x": [
          3.156132698059082
         ],
         "y": [
          7.668131351470947
         ],
         "z": [
          9.207207679748535
         ]
        },
        {
         "marker": {
          "size": 6
         },
         "mode": "markers",
         "name": "at",
         "text": [
          "at"
         ],
         "type": "scatter3d",
         "x": [
          2.8301422595977783
         ],
         "y": [
          6.895145416259766
         ],
         "z": [
          8.001370429992676
         ]
        },
        {
         "marker": {
          "size": 6
         },
         "mode": "markers",
         "name": "##tri",
         "text": [
          "##tri"
         ],
         "type": "scatter3d",
         "x": [
          2.9541754722595215
         ],
         "y": [
          6.738739490509033
         ],
         "z": [
          7.875131607055664
         ]
        },
        {
         "marker": {
          "size": 6
         },
         "mode": "markers",
         "name": "##bu",
         "text": [
          "##bu"
         ],
         "type": "scatter3d",
         "x": [
          2.9359681606292725
         ],
         "y": [
          6.762245178222656
         ],
         "z": [
          7.963698387145996
         ]
        },
        {
         "marker": {
          "size": 6
         },
         "mode": "markers",
         "name": "##table",
         "text": [
          "##table"
         ],
         "type": "scatter3d",
         "x": [
          3.0566439628601074
         ],
         "y": [
          6.740172386169434
         ],
         "z": [
          8.27514362335205
         ]
        },
        {
         "marker": {
          "size": 6
         },
         "mode": "markers",
         "name": "to",
         "text": [
          "to"
         ],
         "type": "scatter3d",
         "x": [
          3.3121438026428223
         ],
         "y": [
          6.604667663574219
         ],
         "z": [
          9.400318145751953
         ]
        },
        {
         "marker": {
          "size": 6
         },
         "mode": "markers",
         "name": "the",
         "text": [
          "the"
         ],
         "type": "scatter3d",
         "x": [
          3.3062403202056885
         ],
         "y": [
          7.283207416534424
         ],
         "z": [
          10.2717924118042
         ]
        },
        {
         "marker": {
          "size": 6
         },
         "mode": "markers",
         "name": "participation",
         "text": [
          "participation"
         ],
         "type": "scatter3d",
         "x": [
          4.527896404266357
         ],
         "y": [
          7.440433502197266
         ],
         "z": [
          10.008234024047852
         ]
        },
        {
         "marker": {
          "size": 6
         },
         "mode": "markers",
         "name": "in",
         "text": [
          "in"
         ],
         "type": "scatter3d",
         "x": [
          4.384266376495361
         ],
         "y": [
          7.811953544616699
         ],
         "z": [
          10.053695678710938
         ]
        },
        {
         "marker": {
          "size": 6
         },
         "mode": "markers",
         "name": "such",
         "text": [
          "such"
         ],
         "type": "scatter3d",
         "x": [
          -0.017626933753490448
         ],
         "y": [
          8.066851615905762
         ],
         "z": [
          8.067925453186035
         ]
        },
        {
         "marker": {
          "size": 6
         },
         "mode": "markers",
         "name": "program",
         "text": [
          "program"
         ],
         "type": "scatter3d",
         "x": [
          5.585937976837158
         ],
         "y": [
          7.399402618408203
         ],
         "z": [
          10.752925872802734
         ]
        },
        {
         "marker": {
          "size": 6
         },
         "mode": "markers",
         "name": "of",
         "text": [
          "of"
         ],
         "type": "scatter3d",
         "x": [
          3.6231565475463867
         ],
         "y": [
          6.705821990966797
         ],
         "z": [
          10.358259201049805
         ]
        },
        {
         "marker": {
          "size": 6
         },
         "mode": "markers",
         "name": "any",
         "text": [
          "any"
         ],
         "type": "scatter3d",
         "x": [
          2.3271379470825195
         ],
         "y": [
          6.5599684715271
         ],
         "z": [
          9.590630531311035
         ]
        },
        {
         "marker": {
          "size": 6
         },
         "mode": "markers",
         "name": "eligible",
         "text": [
          "eligible"
         ],
         "type": "scatter3d",
         "x": [
          5.305370330810547
         ],
         "y": [
          4.073286533355713
         ],
         "z": [
          10.298722267150879
         ]
        },
        {
         "marker": {
          "size": 6
         },
         "mode": "markers",
         "name": "stem",
         "text": [
          "stem"
         ],
         "type": "scatter3d",
         "x": [
          6.1518988609313965
         ],
         "y": [
          3.223148822784424
         ],
         "z": [
          10.986950874328613
         ]
        },
        {
         "marker": {
          "size": 6
         },
         "mode": "markers",
         "name": "teacher",
         "text": [
          "teacher"
         ],
         "type": "scatter3d",
         "x": [
          6.248164653778076
         ],
         "y": [
          6.745299339294434
         ],
         "z": [
          11.84903335571289
         ]
        },
        {
         "marker": {
          "size": 6
         },
         "mode": "markers",
         "name": ",",
         "text": [
          ","
         ],
         "type": "scatter3d",
         "x": [
          1.7236297130584717
         ],
         "y": [
          4.616847038269043
         ],
         "z": [
          6.895458698272705
         ]
        },
        {
         "marker": {
          "size": 6
         },
         "mode": "markers",
         "name": "including",
         "text": [
          "including"
         ],
         "type": "scatter3d",
         "x": [
          3.46474552154541
         ],
         "y": [
          6.897205352783203
         ],
         "z": [
          9.354116439819336
         ]
        },
        {
         "marker": {
          "size": 6
         },
         "mode": "markers",
         "name": "amounts",
         "text": [
          "amounts"
         ],
         "type": "scatter3d",
         "x": [
          4.213233470916748
         ],
         "y": [
          6.824970722198486
         ],
         "z": [
          8.708968162536621
         ]
        },
        {
         "marker": {
          "size": 6
         },
         "mode": "markers",
         "name": "paid",
         "text": [
          "paid"
         ],
         "type": "scatter3d",
         "x": [
          4.462021827697754
         ],
         "y": [
          7.018674850463867
         ],
         "z": [
          8.823917388916016
         ]
        },
        {
         "marker": {
          "size": 6
         },
         "mode": "markers",
         "name": "to",
         "text": [
          "to"
         ],
         "type": "scatter3d",
         "x": [
          3.353362798690796
         ],
         "y": [
          6.529730319976807
         ],
         "z": [
          9.535045623779297
         ]
        },
        {
         "marker": {
          "size": 6
         },
         "mode": "markers",
         "name": "such",
         "text": [
          "such"
         ],
         "type": "scatter3d",
         "x": [
          -0.04059290513396263
         ],
         "y": [
          8.053279876708984
         ],
         "z": [
          8.09162425994873
         ]
        },
        {
         "marker": {
          "size": 6
         },
         "mode": "markers",
         "name": "a",
         "text": [
          "a"
         ],
         "type": "scatter3d",
         "x": [
          3.470100164413452
         ],
         "y": [
          7.6392035484313965
         ],
         "z": [
          10.034407615661621
         ]
        },
        {
         "marker": {
          "size": 6
         },
         "mode": "markers",
         "name": "teacher",
         "text": [
          "teacher"
         ],
         "type": "scatter3d",
         "x": [
          6.231695652008057
         ],
         "y": [
          6.754552841186523
         ],
         "z": [
          11.833144187927246
         ]
        },
        {
         "marker": {
          "size": 6
         },
         "mode": "markers",
         "name": "as",
         "text": [
          "as"
         ],
         "type": "scatter3d",
         "x": [
          3.7504255771636963
         ],
         "y": [
          7.281431674957275
         ],
         "z": [
          9.057331085205078
         ]
        },
        {
         "marker": {
          "size": 6
         },
         "mode": "markers",
         "name": "a",
         "text": [
          "a"
         ],
         "type": "scatter3d",
         "x": [
          3.7637972831726074
         ],
         "y": [
          7.282410144805908
         ],
         "z": [
          9.115464210510254
         ]
        },
        {
         "marker": {
          "size": 6
         },
         "mode": "markers",
         "name": "st",
         "text": [
          "st"
         ],
         "type": "scatter3d",
         "x": [
          3.937710762023926
         ],
         "y": [
          6.972151279449463
         ],
         "z": [
          8.5131196975708
         ]
        },
        {
         "marker": {
          "size": 6
         },
         "mode": "markers",
         "name": "##ipe",
         "text": [
          "##ipe"
         ],
         "type": "scatter3d",
         "x": [
          3.878804922103882
         ],
         "y": [
          6.837750434875488
         ],
         "z": [
          8.364191055297852
         ]
        },
        {
         "marker": {
          "size": 6
         },
         "mode": "markers",
         "name": "##nd",
         "text": [
          "##nd"
         ],
         "type": "scatter3d",
         "x": [
          4.079891681671143
         ],
         "y": [
          6.898684978485107
         ],
         "z": [
          8.52564811706543
         ]
        },
        {
         "marker": {
          "size": 6
         },
         "mode": "markers",
         "name": "while",
         "text": [
          "while"
         ],
         "type": "scatter3d",
         "x": [
          4.25345516204834
         ],
         "y": [
          7.1313862800598145
         ],
         "z": [
          9.806721687316895
         ]
        },
        {
         "marker": {
          "size": 6
         },
         "mode": "markers",
         "name": "participating",
         "text": [
          "participating"
         ],
         "type": "scatter3d",
         "x": [
          4.489719390869141
         ],
         "y": [
          7.466639995574951
         ],
         "z": [
          9.990185737609863
         ]
        },
        {
         "marker": {
          "size": 6
         },
         "mode": "markers",
         "name": "in",
         "text": [
          "in"
         ],
         "type": "scatter3d",
         "x": [
          4.398613452911377
         ],
         "y": [
          7.819828033447266
         ],
         "z": [
          10.077081680297852
         ]
        },
        {
         "marker": {
          "size": 6
         },
         "mode": "markers",
         "name": "such",
         "text": [
          "such"
         ],
         "type": "scatter3d",
         "x": [
          -0.028613435104489326
         ],
         "y": [
          8.057273864746094
         ],
         "z": [
          8.078215599060059
         ]
        },
        {
         "marker": {
          "size": 6
         },
         "mode": "markers",
         "name": "program",
         "text": [
          "program"
         ],
         "type": "scatter3d",
         "x": [
          5.606575012207031
         ],
         "y": [
          7.447689056396484
         ],
         "z": [
          10.783944129943848
         ]
        },
        {
         "marker": {
          "size": 6
         },
         "mode": "markers",
         "name": ".",
         "text": [
          "."
         ],
         "type": "scatter3d",
         "x": [
          2.551715612411499
         ],
         "y": [
          6.139044761657715
         ],
         "z": [
          6.908007621765137
         ]
        },
        {
         "marker": {
          "size": 6
         },
         "mode": "markers",
         "name": "`",
         "text": [
          "`"
         ],
         "type": "scatter3d",
         "x": [
          -4.686779975891113
         ],
         "y": [
          -1.5257995128631592
         ],
         "z": [
          -0.8411974906921387
         ]
        },
        {
         "marker": {
          "size": 6
         },
         "mode": "markers",
         "name": "`",
         "text": [
          "`"
         ],
         "type": "scatter3d",
         "x": [
          -4.641046047210693
         ],
         "y": [
          -1.456434965133667
         ],
         "z": [
          -0.795233964920044
         ]
        },
        {
         "marker": {
          "size": 6
         },
         "mode": "markers",
         "name": "(",
         "text": [
          "("
         ],
         "type": "scatter3d",
         "x": [
          -3.1464741230010986
         ],
         "y": [
          9.182148933410645
         ],
         "z": [
          -5.786941051483154
         ]
        },
        {
         "marker": {
          "size": 6
         },
         "mode": "markers",
         "name": "2",
         "text": [
          "2"
         ],
         "type": "scatter3d",
         "x": [
          3.7753920555114746
         ],
         "y": [
          10.435288429260254
         ],
         "z": [
          4.858808994293213
         ]
        },
        {
         "marker": {
          "size": 6
         },
         "mode": "markers",
         "name": ")",
         "text": [
          ")"
         ],
         "type": "scatter3d",
         "x": [
          5.561550617218018
         ],
         "y": [
          13.000503540039062
         ],
         "z": [
          -5.436399459838867
         ]
        },
        {
         "marker": {
          "size": 6
         },
         "mode": "markers",
         "name": "stem",
         "text": [
          "stem"
         ],
         "type": "scatter3d",
         "x": [
          6.109793663024902
         ],
         "y": [
          3.2766010761260986
         ],
         "z": [
          11.02946662902832
         ]
        },
        {
         "marker": {
          "size": 6
         },
         "mode": "markers",
         "name": "ex",
         "text": [
          "ex"
         ],
         "type": "scatter3d",
         "x": [
          5.376014232635498
         ],
         "y": [
          6.34620475769043
         ],
         "z": [
          11.317456245422363
         ]
        },
        {
         "marker": {
          "size": 6
         },
         "mode": "markers",
         "name": "##tern",
         "text": [
          "##tern"
         ],
         "type": "scatter3d",
         "x": [
          5.294006824493408
         ],
         "y": [
          6.281942367553711
         ],
         "z": [
          11.274072647094727
         ]
        },
        {
         "marker": {
          "size": 6
         },
         "mode": "markers",
         "name": "##ship",
         "text": [
          "##ship"
         ],
         "type": "scatter3d",
         "x": [
          5.270042896270752
         ],
         "y": [
          6.487526893615723
         ],
         "z": [
          11.184686660766602
         ]
        },
        {
         "marker": {
          "size": 6
         },
         "mode": "markers",
         "name": "program",
         "text": [
          "program"
         ],
         "type": "scatter3d",
         "x": [
          5.593528747558594
         ],
         "y": [
          7.391946792602539
         ],
         "z": [
          10.766142845153809
         ]
        },
        {
         "marker": {
          "size": 6
         },
         "mode": "markers",
         "name": ".",
         "text": [
          "."
         ],
         "type": "scatter3d",
         "x": [
          -2.2351338863372803
         ],
         "y": [
          6.736570358276367
         ],
         "z": [
          2.5743660926818848
         ]
        },
        {
         "marker": {
          "size": 6
         },
         "mode": "markers",
         "name": "-",
         "text": [
          "-"
         ],
         "type": "scatter3d",
         "x": [
          6.150362968444824
         ],
         "y": [
          -3.7969560623168945
         ],
         "z": [
          15.417501449584961
         ]
        },
        {
         "marker": {
          "size": 6
         },
         "mode": "markers",
         "name": "-",
         "text": [
          "-"
         ],
         "type": "scatter3d",
         "x": [
          2.8173344135284424
         ],
         "y": [
          -2.9054603576660156
         ],
         "z": [
          -6.269024848937988
         ]
        },
        {
         "marker": {
          "size": 6
         },
         "mode": "markers",
         "name": "the",
         "text": [
          "the"
         ],
         "type": "scatter3d",
         "x": [
          1.8234647512435913
         ],
         "y": [
          7.470831394195557
         ],
         "z": [
          8.264124870300293
         ]
        },
        {
         "marker": {
          "size": 6
         },
         "mode": "markers",
         "name": "term",
         "text": [
          "term"
         ],
         "type": "scatter3d",
         "x": [
          14.78945255279541
         ],
         "y": [
          1.0320581197738647
         ],
         "z": [
          5.906067848205566
         ]
        },
        {
         "marker": {
          "size": 6
         },
         "mode": "markers",
         "name": "`",
         "text": [
          "`"
         ],
         "type": "scatter3d",
         "x": [
          -4.709824562072754
         ],
         "y": [
          -0.4092784523963928
         ],
         "z": [
          -0.954208254814148
         ]
        },
        {
         "marker": {
          "size": 6
         },
         "mode": "markers",
         "name": "stem",
         "text": [
          "stem"
         ],
         "type": "scatter3d",
         "x": [
          6.169556617736816
         ],
         "y": [
          3.248624563217163
         ],
         "z": [
          10.970791816711426
         ]
        },
        {
         "marker": {
          "size": 6
         },
         "mode": "markers",
         "name": "ex",
         "text": [
          "ex"
         ],
         "type": "scatter3d",
         "x": [
          5.392403602600098
         ],
         "y": [
          6.381253242492676
         ],
         "z": [
          11.276961326599121
         ]
        },
        {
         "marker": {
          "size": 6
         },
         "mode": "markers",
         "name": "##tern",
         "text": [
          "##tern"
         ],
         "type": "scatter3d",
         "x": [
          5.303194999694824
         ],
         "y": [
          6.287609577178955
         ],
         "z": [
          11.272268295288086
         ]
        },
        {
         "marker": {
          "size": 6
         },
         "mode": "markers",
         "name": "##ship",
         "text": [
          "##ship"
         ],
         "type": "scatter3d",
         "x": [
          5.2649383544921875
         ],
         "y": [
          6.4800190925598145
         ],
         "z": [
          11.183150291442871
         ]
        },
        {
         "marker": {
          "size": 6
         },
         "mode": "markers",
         "name": "program",
         "text": [
          "program"
         ],
         "type": "scatter3d",
         "x": [
          5.589826583862305
         ],
         "y": [
          7.391489028930664
         ],
         "z": [
          10.756938934326172
         ]
        },
        {
         "marker": {
          "size": 6
         },
         "mode": "markers",
         "name": "'",
         "text": [
          "'"
         ],
         "type": "scatter3d",
         "x": [
          3.274143695831299
         ],
         "y": [
          6.482216835021973
         ],
         "z": [
          14.404863357543945
         ]
        },
        {
         "marker": {
          "size": 6
         },
         "mode": "markers",
         "name": "means",
         "text": [
          "means"
         ],
         "type": "scatter3d",
         "x": [
          5.660589218139648
         ],
         "y": [
          -5.704833984375
         ],
         "z": [
          7.65046501159668
         ]
        },
        {
         "marker": {
          "size": 6
         },
         "mode": "markers",
         "name": "any",
         "text": [
          "any"
         ],
         "type": "scatter3d",
         "x": [
          2.3275063037872314
         ],
         "y": [
          6.585127353668213
         ],
         "z": [
          9.563319206237793
         ]
        },
        {
         "marker": {
          "size": 6
         },
         "mode": "markers",
         "name": "program",
         "text": [
          "program"
         ],
         "type": "scatter3d",
         "x": [
          5.590839385986328
         ],
         "y": [
          7.405616283416748
         ],
         "z": [
          10.752985954284668
         ]
        },
        {
         "marker": {
          "size": 6
         },
         "mode": "markers",
         "name": "-",
         "text": [
          "-"
         ],
         "type": "scatter3d",
         "x": [
          6.075647830963135
         ],
         "y": [
          -3.7220804691314697
         ],
         "z": [
          15.491520881652832
         ]
        },
        {
         "marker": {
          "size": 6
         },
         "mode": "markers",
         "name": "-",
         "text": [
          "-"
         ],
         "type": "scatter3d",
         "x": [
          2.9645636081695557
         ],
         "y": [
          -2.753140449523926
         ],
         "z": [
          -6.111454963684082
         ]
        },
        {
         "marker": {
          "size": 6
         },
         "mode": "markers",
         "name": "`",
         "text": [
          "`"
         ],
         "type": "scatter3d",
         "x": [
          -4.743928909301758
         ],
         "y": [
          -1.4326159954071045
         ],
         "z": [
          -0.9020699262619019
         ]
        },
        {
         "marker": {
          "size": 6
         },
         "mode": "markers",
         "name": "`",
         "text": [
          "`"
         ],
         "type": "scatter3d",
         "x": [
          -4.7341156005859375
         ],
         "y": [
          -1.415518879890442
         ],
         "z": [
          -0.8518102765083313
         ]
        },
        {
         "marker": {
          "size": 6
         },
         "mode": "markers",
         "name": "(",
         "text": [
          "("
         ],
         "type": "scatter3d",
         "x": [
          -3.002119541168213
         ],
         "y": [
          9.327714920043945
         ],
         "z": [
          -5.92974853515625
         ]
        },
        {
         "marker": {
          "size": 6
         },
         "mode": "markers",
         "name": "a",
         "text": [
          "a"
         ],
         "type": "scatter3d",
         "x": [
          4.273706436157227
         ],
         "y": [
          10.615062713623047
         ],
         "z": [
          4.8891825675964355
         ]
        },
        {
         "marker": {
          "size": 6
         },
         "mode": "markers",
         "name": ")",
         "text": [
          ")"
         ],
         "type": "scatter3d",
         "x": [
          5.463612079620361
         ],
         "y": [
          13.290038108825684
         ],
         "z": [
          -5.753990173339844
         ]
        },
        {
         "marker": {
          "size": 6
         },
         "mode": "markers",
         "name": "established",
         "text": [
          "established"
         ],
         "type": "scatter3d",
         "x": [
          4.20355749130249
         ],
         "y": [
          7.657296180725098
         ],
         "z": [
          8.855231285095215
         ]
        },
        {
         "marker": {
          "size": 6
         },
         "mode": "markers",
         "name": "by",
         "text": [
          "by"
         ],
         "type": "scatter3d",
         "x": [
          3.445405960083008
         ],
         "y": [
          6.5859761238098145
         ],
         "z": [
          10.312146186828613
         ]
        },
        {
         "marker": {
          "size": 6
         },
         "mode": "markers",
         "name": "a",
         "text": [
          "a"
         ],
         "type": "scatter3d",
         "x": [
          3.386815071105957
         ],
         "y": [
          7.557593822479248
         ],
         "z": [
          10.106886863708496
         ]
        },
        {
         "marker": {
          "size": 6
         },
         "mode": "markers",
         "name": "taxpayer",
         "text": [
          "taxpayer"
         ],
         "type": "scatter3d",
         "x": [
          3.5926990509033203
         ],
         "y": [
          6.20123815536499
         ],
         "z": [
          7.442577838897705
         ]
        },
        {
         "marker": {
          "size": 6
         },
         "mode": "markers",
         "name": "engaged",
         "text": [
          "engaged"
         ],
         "type": "scatter3d",
         "x": [
          4.367618560791016
         ],
         "y": [
          7.602275848388672
         ],
         "z": [
          9.933736801147461
         ]
        },
        {
         "marker": {
          "size": 6
         },
         "mode": "markers",
         "name": "in",
         "text": [
          "in"
         ],
         "type": "scatter3d",
         "x": [
          4.376700401306152
         ],
         "y": [
          7.781893730163574
         ],
         "z": [
          10.032744407653809
         ]
        },
        {
         "marker": {
          "size": 6
         },
         "mode": "markers",
         "name": "a",
         "text": [
          "a"
         ],
         "type": "scatter3d",
         "x": [
          3.4937796592712402
         ],
         "y": [
          7.670437335968018
         ],
         "z": [
          10.046466827392578
         ]
        },
        {
         "marker": {
          "size": 6
         },
         "mode": "markers",
         "name": "trade",
         "text": [
          "trade"
         ],
         "type": "scatter3d",
         "x": [
          5.178981781005859
         ],
         "y": [
          7.28050422668457
         ],
         "z": [
          10.069408416748047
         ]
        },
        {
         "marker": {
          "size": 6
         },
         "mode": "markers",
         "name": "or",
         "text": [
          "or"
         ],
         "type": "scatter3d",
         "x": [
          1.8528940677642822
         ],
         "y": [
          2.243851661682129
         ],
         "z": [
          8.514885902404785
         ]
        },
        {
         "marker": {
          "size": 6
         },
         "mode": "markers",
         "name": "business",
         "text": [
          "business"
         ],
         "type": "scatter3d",
         "x": [
          5.1644086837768555
         ],
         "y": [
          7.304788112640381
         ],
         "z": [
          10.050004959106445
         ]
        },
        {
         "marker": {
          "size": 6
         },
         "mode": "markers",
         "name": "within",
         "text": [
          "within"
         ],
         "type": "scatter3d",
         "x": [
          4.153295993804932
         ],
         "y": [
          8.11892032623291
         ],
         "z": [
          10.22768497467041
         ]
        },
        {
         "marker": {
          "size": 6
         },
         "mode": "markers",
         "name": "an",
         "text": [
          "an"
         ],
         "type": "scatter3d",
         "x": [
          3.4419314861297607
         ],
         "y": [
          7.673151969909668
         ],
         "z": [
          10.032493591308594
         ]
        },
        {
         "marker": {
          "size": 6
         },
         "mode": "markers",
         "name": "area",
         "text": [
          "area"
         ],
         "type": "scatter3d",
         "x": [
          4.731242656707764
         ],
         "y": [
          8.200379371643066
         ],
         "z": [
          11.398900985717773
         ]
        },
        {
         "marker": {
          "size": 6
         },
         "mode": "markers",
         "name": "of",
         "text": [
          "of"
         ],
         "type": "scatter3d",
         "x": [
          4.414581298828125
         ],
         "y": [
          8.065890312194824
         ],
         "z": [
          11.185911178588867
         ]
        },
        {
         "marker": {
          "size": 6
         },
         "mode": "markers",
         "name": "science",
         "text": [
          "science"
         ],
         "type": "scatter3d",
         "x": [
          5.360516548156738
         ],
         "y": [
          16.326034545898438
         ],
         "z": [
          9.892633438110352
         ]
        },
        {
         "marker": {
          "size": 6
         },
         "mode": "markers",
         "name": ",",
         "text": [
          ","
         ],
         "type": "scatter3d",
         "x": [
          2.9778895378112793
         ],
         "y": [
          1.4513806104660034
         ],
         "z": [
          7.942607879638672
         ]
        },
        {
         "marker": {
          "size": 6
         },
         "mode": "markers",
         "name": "technology",
         "text": [
          "technology"
         ],
         "type": "scatter3d",
         "x": [
          5.183148384094238
         ],
         "y": [
          17.083166122436523
         ],
         "z": [
          10.406705856323242
         ]
        },
        {
         "marker": {
          "size": 6
         },
         "mode": "markers",
         "name": ",",
         "text": [
          ","
         ],
         "type": "scatter3d",
         "x": [
          2.9879136085510254
         ],
         "y": [
          1.4599545001983643
         ],
         "z": [
          7.9232401847839355
         ]
        },
        {
         "marker": {
          "size": 6
         },
         "mode": "markers",
         "name": "engineering",
         "text": [
          "engineering"
         ],
         "type": "scatter3d",
         "x": [
          3.9756107330322266
         ],
         "y": [
          16.416179656982422
         ],
         "z": [
          9.799643516540527
         ]
        },
        {
         "marker": {
          "size": 6
         },
         "mode": "markers",
         "name": ",",
         "text": [
          ","
         ],
         "type": "scatter3d",
         "x": [
          1.608672857284546
         ],
         "y": [
          4.509934902191162
         ],
         "z": [
          6.782536506652832
         ]
        },
        {
         "marker": {
          "size": 6
         },
         "mode": "markers",
         "name": "or",
         "text": [
          "or"
         ],
         "type": "scatter3d",
         "x": [
          1.9494240283966064
         ],
         "y": [
          2.127638339996338
         ],
         "z": [
          8.589631080627441
         ]
        },
        {
         "marker": {
          "size": 6
         },
         "mode": "markers",
         "name": "mathematics",
         "text": [
          "mathematics"
         ],
         "type": "scatter3d",
         "x": [
          -4.689275741577148
         ],
         "y": [
          12.58143138885498
         ],
         "z": [
          12.342668533325195
         ]
        },
        {
         "marker": {
          "size": 6
         },
         "mode": "markers",
         "name": ",",
         "text": [
          ","
         ],
         "type": "scatter3d",
         "x": [
          1.660013198852539
         ],
         "y": [
          4.461630821228027
         ],
         "z": [
          6.855957508087158
         ]
        },
        {
         "marker": {
          "size": 6
         },
         "mode": "markers",
         "name": "and",
         "text": [
          "and"
         ],
         "type": "scatter3d",
         "x": [
          1.9203732013702393
         ],
         "y": [
          3.583796977996826
         ],
         "z": [
          7.303940296173096
         ]
        },
        {
         "marker": {
          "size": 6
         },
         "mode": "markers",
         "name": "`",
         "text": [
          "`"
         ],
         "type": "scatter3d",
         "x": [
          -4.7588324546813965
         ],
         "y": [
          -1.4161347150802612
         ],
         "z": [
          -0.9524034261703491
         ]
        },
        {
         "marker": {
          "size": 6
         },
         "mode": "markers",
         "name": "`",
         "text": [
          "`"
         ],
         "type": "scatter3d",
         "x": [
          -4.673034191131592
         ],
         "y": [
          -1.3813445568084717
         ],
         "z": [
          -0.8342299461364746
         ]
        },
        {
         "marker": {
          "size": 6
         },
         "mode": "markers",
         "name": "(",
         "text": [
          "("
         ],
         "type": "scatter3d",
         "x": [
          -3.0252513885498047
         ],
         "y": [
          9.303834915161133
         ],
         "z": [
          -5.9070892333984375
         ]
        },
        {
         "marker": {
          "size": 6
         },
         "mode": "markers",
         "name": "b",
         "text": [
          "b"
         ],
         "type": "scatter3d",
         "x": [
          4.08158540725708
         ],
         "y": [
          10.717369079589844
         ],
         "z": [
          4.660053730010986
         ]
        },
        {
         "marker": {
          "size": 6
         },
         "mode": "markers",
         "name": ")",
         "text": [
          ")"
         ],
         "type": "scatter3d",
         "x": [
          2.0951294898986816
         ],
         "y": [
          6.1558661460876465
         ],
         "z": [
          7.32797908782959
         ]
        },
        {
         "marker": {
          "size": 6
         },
         "mode": "markers",
         "name": "under",
         "text": [
          "under"
         ],
         "type": "scatter3d",
         "x": [
          3.6214230060577393
         ],
         "y": [
          8.34074878692627
         ],
         "z": [
          7.838318347930908
         ]
        },
        {
         "marker": {
          "size": 6
         },
         "mode": "markers",
         "name": "which",
         "text": [
          "which"
         ],
         "type": "scatter3d",
         "x": [
          3.0689759254455566
         ],
         "y": [
          7.982385158538818
         ],
         "z": [
          9.67137336730957
         ]
        },
        {
         "marker": {
          "size": 6
         },
         "mode": "markers",
         "name": "eligible",
         "text": [
          "eligible"
         ],
         "type": "scatter3d",
         "x": [
          5.3028244972229
         ],
         "y": [
          4.075542449951172
         ],
         "z": [
          10.28610610961914
         ]
        },
        {
         "marker": {
          "size": 6
         },
         "mode": "markers",
         "name": "stem",
         "text": [
          "stem"
         ],
         "type": "scatter3d",
         "x": [
          6.146029472351074
         ],
         "y": [
          3.21830153465271
         ],
         "z": [
          10.975436210632324
         ]
        },
        {
         "marker": {
          "size": 6
         },
         "mode": "markers",
         "name": "teachers",
         "text": [
          "teachers"
         ],
         "type": "scatter3d",
         "x": [
          6.237244129180908
         ],
         "y": [
          6.74591064453125
         ],
         "z": [
          11.837591171264648
         ]
        },
        {
         "marker": {
          "size": 6
         },
         "mode": "markers",
         "name": "receive",
         "text": [
          "receive"
         ],
         "type": "scatter3d",
         "x": [
          4.679041385650635
         ],
         "y": [
          6.9392194747924805
         ],
         "z": [
          10.591948509216309
         ]
        },
        {
         "marker": {
          "size": 6
         },
         "mode": "markers",
         "name": "training",
         "text": [
          "training"
         ],
         "type": "scatter3d",
         "x": [
          5.349377632141113
         ],
         "y": [
          6.84593391418457
         ],
         "z": [
          11.029205322265625
         ]
        },
        {
         "marker": {
          "size": 6
         },
         "mode": "markers",
         "name": "to",
         "text": [
          "to"
         ],
         "type": "scatter3d",
         "x": [
          4.424861907958984
         ],
         "y": [
          6.845026969909668
         ],
         "z": [
          10.472989082336426
         ]
        },
        {
         "marker": {
          "size": 6
         },
         "mode": "markers",
         "name": "enhance",
         "text": [
          "enhance"
         ],
         "type": "scatter3d",
         "x": [
          4.607542991638184
         ],
         "y": [
          6.950464248657227
         ],
         "z": [
          10.545517921447754
         ]
        },
        {
         "marker": {
          "size": 6
         },
         "mode": "markers",
         "name": "their",
         "text": [
          "their"
         ],
         "type": "scatter3d",
         "x": [
          4.300799369812012
         ],
         "y": [
          6.960984230041504
         ],
         "z": [
          10.619876861572266
         ]
        },
        {
         "marker": {
          "size": 6
         },
         "mode": "markers",
         "name": "teaching",
         "text": [
          "teaching"
         ],
         "type": "scatter3d",
         "x": [
          6.07737398147583
         ],
         "y": [
          6.899550437927246
         ],
         "z": [
          11.688097953796387
         ]
        },
        {
         "marker": {
          "size": 6
         },
         "mode": "markers",
         "name": "skills",
         "text": [
          "skills"
         ],
         "type": "scatter3d",
         "x": [
          5.357266902923584
         ],
         "y": [
          6.957643032073975
         ],
         "z": [
          10.991292953491211
         ]
        },
        {
         "marker": {
          "size": 6
         },
         "mode": "markers",
         "name": "in",
         "text": [
          "in"
         ],
         "type": "scatter3d",
         "x": [
          4.2594099044799805
         ],
         "y": [
          8.226758003234863
         ],
         "z": [
          10.209883689880371
         ]
        },
        {
         "marker": {
          "size": 6
         },
         "mode": "markers",
         "name": "the",
         "text": [
          "the"
         ],
         "type": "scatter3d",
         "x": [
          2.280895709991455
         ],
         "y": [
          6.403378009796143
         ],
         "z": [
          7.433579921722412
         ]
        },
        {
         "marker": {
          "size": 6
         },
         "mode": "markers",
         "name": "areas",
         "text": [
          "areas"
         ],
         "type": "scatter3d",
         "x": [
          4.710164546966553
         ],
         "y": [
          8.229580879211426
         ],
         "z": [
          11.425223350524902
         ]
        },
        {
         "marker": {
          "size": 6
         },
         "mode": "markers",
         "name": "of",
         "text": [
          "of"
         ],
         "type": "scatter3d",
         "x": [
          4.442117214202881
         ],
         "y": [
          8.102675437927246
         ],
         "z": [
          11.23331356048584
         ]
        },
        {
         "marker": {
          "size": 6
         },
         "mode": "markers",
         "name": "science",
         "text": [
          "science"
         ],
         "type": "scatter3d",
         "x": [
          5.37925910949707
         ],
         "y": [
          16.346961975097656
         ],
         "z": [
          9.912858963012695
         ]
        },
        {
         "marker": {
          "size": 6
         },
         "mode": "markers",
         "name": ",",
         "text": [
          ","
         ],
         "type": "scatter3d",
         "x": [
          2.9887046813964844
         ],
         "y": [
          1.4388408660888672
         ],
         "z": [
          7.931890487670898
         ]
        },
        {
         "marker": {
          "size": 6
         },
         "mode": "markers",
         "name": "technology",
         "text": [
          "technology"
         ],
         "type": "scatter3d",
         "x": [
          5.1926350593566895
         ],
         "y": [
          17.06889533996582
         ],
         "z": [
          10.392905235290527
         ]
        },
        {
         "marker": {
          "size": 6
         },
         "mode": "markers",
         "name": ",",
         "text": [
          ","
         ],
         "type": "scatter3d",
         "x": [
          3.001392364501953
         ],
         "y": [
          1.4264781475067139
         ],
         "z": [
          7.907443046569824
         ]
        },
        {
         "marker": {
          "size": 6
         },
         "mode": "markers",
         "name": "engineering",
         "text": [
          "engineering"
         ],
         "type": "scatter3d",
         "x": [
          3.970021963119507
         ],
         "y": [
          16.408920288085938
         ],
         "z": [
          9.79279613494873
         ]
        },
        {
         "marker": {
          "size": 6
         },
         "mode": "markers",
         "name": ",",
         "text": [
          ","
         ],
         "type": "scatter3d",
         "x": [
          1.6276483535766602
         ],
         "y": [
          4.550111293792725
         ],
         "z": [
          6.78463077545166
         ]
        },
        {
         "marker": {
          "size": 6
         },
         "mode": "markers",
         "name": "or",
         "text": [
          "or"
         ],
         "type": "scatter3d",
         "x": [
          1.9579031467437744
         ],
         "y": [
          2.1188900470733643
         ],
         "z": [
          8.59853744506836
         ]
        },
        {
         "marker": {
          "size": 6
         },
         "mode": "markers",
         "name": "mathematics",
         "text": [
          "mathematics"
         ],
         "type": "scatter3d",
         "x": [
          -4.696054458618164
         ],
         "y": [
          12.588231086730957
         ],
         "z": [
          12.335865020751953
         ]
        },
        {
         "marker": {
          "size": 6
         },
         "mode": "markers",
         "name": "or",
         "text": [
          "or"
         ],
         "type": "scatter3d",
         "x": [
          1.8582632541656494
         ],
         "y": [
          2.245062828063965
         ],
         "z": [
          8.5272798538208
         ]
        },
        {
         "marker": {
          "size": 6
         },
         "mode": "markers",
         "name": "otherwise",
         "text": [
          "otherwise"
         ],
         "type": "scatter3d",
         "x": [
          4.4410080909729
         ],
         "y": [
          6.8651909828186035
         ],
         "z": [
          10.52206802368164
         ]
        },
        {
         "marker": {
          "size": 6
         },
         "mode": "markers",
         "name": "improve",
         "text": [
          "improve"
         ],
         "type": "scatter3d",
         "x": [
          4.578789710998535
         ],
         "y": [
          6.932825088500977
         ],
         "z": [
          10.523754119873047
         ]
        },
        {
         "marker": {
          "size": 6
         },
         "mode": "markers",
         "name": "their",
         "text": [
          "their"
         ],
         "type": "scatter3d",
         "x": [
          4.315683364868164
         ],
         "y": [
          6.937187194824219
         ],
         "z": [
          10.622214317321777
         ]
        },
        {
         "marker": {
          "size": 6
         },
         "mode": "markers",
         "name": "knowledge",
         "text": [
          "knowledge"
         ],
         "type": "scatter3d",
         "x": [
          5.541523456573486
         ],
         "y": [
          7.115379333496094
         ],
         "z": [
          11.217072486877441
         ]
        },
        {
         "marker": {
          "size": 6
         },
         "mode": "markers",
         "name": "in",
         "text": [
          "in"
         ],
         "type": "scatter3d",
         "x": [
          4.295773983001709
         ],
         "y": [
          8.229496955871582
         ],
         "z": [
          10.229324340820312
         ]
        },
        {
         "marker": {
          "size": 6
         },
         "mode": "markers",
         "name": "such",
         "text": [
          "such"
         ],
         "type": "scatter3d",
         "x": [
          -0.000254510814556852
         ],
         "y": [
          8.083592414855957
         ],
         "z": [
          8.050600051879883
         ]
        },
        {
         "marker": {
          "size": 6
         },
         "mode": "markers",
         "name": "areas",
         "text": [
          "areas"
         ],
         "type": "scatter3d",
         "x": [
          4.737855911254883
         ],
         "y": [
          8.198802947998047
         ],
         "z": [
          11.425583839416504
         ]
        },
        {
         "marker": {
          "size": 6
         },
         "mode": "markers",
         "name": ".",
         "text": [
          "."
         ],
         "type": "scatter3d",
         "x": [
          2.5677876472473145
         ],
         "y": [
          6.122756481170654
         ],
         "z": [
          6.8558149337768555
         ]
        },
        {
         "marker": {
          "size": 6
         },
         "mode": "markers",
         "name": "`",
         "text": [
          "`"
         ],
         "type": "scatter3d",
         "x": [
          -4.878582000732422
         ],
         "y": [
          -1.6052740812301636
         ],
         "z": [
          -1.0261976718902588
         ]
        },
        {
         "marker": {
          "size": 6
         },
         "mode": "markers",
         "name": "`",
         "text": [
          "`"
         ],
         "type": "scatter3d",
         "x": [
          -4.801417827606201
         ],
         "y": [
          -1.5152066946029663
         ],
         "z": [
          -0.9645240306854248
         ]
        },
        {
         "marker": {
          "size": 6
         },
         "mode": "markers",
         "name": "(",
         "text": [
          "("
         ],
         "type": "scatter3d",
         "x": [
          -3.122399091720581
         ],
         "y": [
          9.208312034606934
         ],
         "z": [
          -5.777097702026367
         ]
        },
        {
         "marker": {
          "size": 6
         },
         "mode": "markers",
         "name": "3",
         "text": [
          "3"
         ],
         "type": "scatter3d",
         "x": [
          3.8027095794677734
         ],
         "y": [
          10.467370986938477
         ],
         "z": [
          4.831777572631836
         ]
        },
        {
         "marker": {
          "size": 6
         },
         "mode": "markers",
         "name": ")",
         "text": [
          ")"
         ],
         "type": "scatter3d",
         "x": [
          5.549895286560059
         ],
         "y": [
          13.012762069702148
         ],
         "z": [
          -5.440593719482422
         ]
        },
        {
         "marker": {
          "size": 6
         },
         "mode": "markers",
         "name": "eligible",
         "text": [
          "eligible"
         ],
         "type": "scatter3d",
         "x": [
          5.3099565505981445
         ],
         "y": [
          4.066481113433838
         ],
         "z": [
          10.28915023803711
         ]
        },
        {
         "marker": {
          "size": 6
         },
         "mode": "markers",
         "name": "stem",
         "text": [
          "stem"
         ],
         "type": "scatter3d",
         "x": [
          6.14706563949585
         ],
         "y": [
          3.2418155670166016
         ],
         "z": [
          10.990177154541016
         ]
        },
        {
         "marker": {
          "size": 6
         },
         "mode": "markers",
         "name": "teacher",
         "text": [
          "teacher"
         ],
         "type": "scatter3d",
         "x": [
          6.243950843811035
         ],
         "y": [
          6.739070415496826
         ],
         "z": [
          11.844473838806152
         ]
        },
        {
         "marker": {
          "size": 6
         },
         "mode": "markers",
         "name": ".",
         "text": [
          "."
         ],
         "type": "scatter3d",
         "x": [
          -2.211615562438965
         ],
         "y": [
          6.761973857879639
         ],
         "z": [
          2.550584316253662
         ]
        },
        {
         "marker": {
          "size": 6
         },
         "mode": "markers",
         "name": "-",
         "text": [
          "-"
         ],
         "type": "scatter3d",
         "x": [
          6.135631561279297
         ],
         "y": [
          -3.782228469848633
         ],
         "z": [
          15.432491302490234
         ]
        },
        {
         "marker": {
          "size": 6
         },
         "mode": "markers",
         "name": "-",
         "text": [
          "-"
         ],
         "type": "scatter3d",
         "x": [
          2.8212311267852783
         ],
         "y": [
          -2.901740074157715
         ],
         "z": [
          -6.2653279304504395
         ]
        },
        {
         "marker": {
          "size": 6
         },
         "mode": "markers",
         "name": "the",
         "text": [
          "the"
         ],
         "type": "scatter3d",
         "x": [
          1.822872519493103
         ],
         "y": [
          7.472968101501465
         ],
         "z": [
          8.268664360046387
         ]
        },
        {
         "marker": {
          "size": 6
         },
         "mode": "markers",
         "name": "term",
         "text": [
          "term"
         ],
         "type": "scatter3d",
         "x": [
          14.787799835205078
         ],
         "y": [
          1.0301132202148438
         ],
         "z": [
          5.907802104949951
         ]
        },
        {
         "marker": {
          "size": 6
         },
         "mode": "markers",
         "name": "`",
         "text": [
          "`"
         ],
         "type": "scatter3d",
         "x": [
          -4.696444988250732
         ],
         "y": [
          -0.4279216527938843
         ],
         "z": [
          -0.9408710598945618
         ]
        },
        {
         "marker": {
          "size": 6
         },
         "mode": "markers",
         "name": "eligible",
         "text": [
          "eligible"
         ],
         "type": "scatter3d",
         "x": [
          5.339966297149658
         ],
         "y": [
          4.036799430847168
         ],
         "z": [
          10.315374374389648
         ]
        },
        {
         "marker": {
          "size": 6
         },
         "mode": "markers",
         "name": "stem",
         "text": [
          "stem"
         ],
         "type": "scatter3d",
         "x": [
          6.171717166900635
         ],
         "y": [
          3.259300708770752
         ],
         "z": [
          10.974029541015625
         ]
        },
        {
         "marker": {
          "size": 6
         },
         "mode": "markers",
         "name": "teacher",
         "text": [
          "teacher"
         ],
         "type": "scatter3d",
         "x": [
          6.2456560134887695
         ],
         "y": [
          6.735617637634277
         ],
         "z": [
          11.84654712677002
         ]
        },
        {
         "marker": {
          "size": 6
         },
         "mode": "markers",
         "name": "'",
         "text": [
          "'"
         ],
         "type": "scatter3d",
         "x": [
          3.2691593170166016
         ],
         "y": [
          6.47105598449707
         ],
         "z": [
          14.421029090881348
         ]
        },
        {
         "marker": {
          "size": 6
         },
         "mode": "markers",
         "name": "means",
         "text": [
          "means"
         ],
         "type": "scatter3d",
         "x": [
          5.661623477935791
         ],
         "y": [
          -5.703688621520996
         ],
         "z": [
          7.651453495025635
         ]
        },
        {
         "marker": {
          "size": 6
         },
         "mode": "markers",
         "name": "any",
         "text": [
          "any"
         ],
         "type": "scatter3d",
         "x": [
          2.358687162399292
         ],
         "y": [
          6.627031326293945
         ],
         "z": [
          9.571534156799316
         ]
        },
        {
         "marker": {
          "size": 6
         },
         "mode": "markers",
         "name": "individual",
         "text": [
          "individual"
         ],
         "type": "scatter3d",
         "x": [
          3.2147982120513916
         ],
         "y": [
          7.71411657333374
         ],
         "z": [
          9.793004989624023
         ]
        },
        {
         "marker": {
          "size": 6
         },
         "mode": "markers",
         "name": "-",
         "text": [
          "-"
         ],
         "type": "scatter3d",
         "x": [
          6.074196815490723
         ],
         "y": [
          -3.7206146717071533
         ],
         "z": [
          15.492985725402832
         ]
        },
        {
         "marker": {
          "size": 6
         },
         "mode": "markers",
         "name": "-",
         "text": [
          "-"
         ],
         "type": "scatter3d",
         "x": [
          2.977621078491211
         ],
         "y": [
          -2.7399096488952637
         ],
         "z": [
          -6.0980610847473145
         ]
        },
        {
         "marker": {
          "size": 6
         },
         "mode": "markers",
         "name": "`",
         "text": [
          "`"
         ],
         "type": "scatter3d",
         "x": [
          -4.71207857131958
         ],
         "y": [
          -1.3055164813995361
         ],
         "z": [
          -0.9399024844169617
         ]
        },
        {
         "marker": {
          "size": 6
         },
         "mode": "markers",
         "name": "`",
         "text": [
          "`"
         ],
         "type": "scatter3d",
         "x": [
          -4.735881328582764
         ],
         "y": [
          -1.322553277015686
         ],
         "z": [
          -0.9384081363677979
         ]
        },
        {
         "marker": {
          "size": 6
         },
         "mode": "markers",
         "name": "(",
         "text": [
          "("
         ],
         "type": "scatter3d",
         "x": [
          -3.069126605987549
         ],
         "y": [
          9.259207725524902
         ],
         "z": [
          -5.86031436920166
         ]
        },
        {
         "marker": {
          "size": 6
         },
         "mode": "markers",
         "name": "a",
         "text": [
          "a"
         ],
         "type": "scatter3d",
         "x": [
          4.247450351715088
         ],
         "y": [
          10.623687744140625
         ],
         "z": [
          4.884978771209717
         ]
        },
        {
         "marker": {
          "size": 6
         },
         "mode": "markers",
         "name": ")",
         "text": [
          ")"
         ],
         "type": "scatter3d",
         "x": [
          5.48355770111084
         ],
         "y": [
          13.2693510055542
         ],
         "z": [
          -5.745916843414307
         ]
        },
        {
         "marker": {
          "size": 6
         },
         "mode": "markers",
         "name": "who",
         "text": [
          "who"
         ],
         "type": "scatter3d",
         "x": [
          3.173279047012329
         ],
         "y": [
          7.825405597686768
         ],
         "z": [
          9.740372657775879
         ]
        },
        {
         "marker": {
          "size": 6
         },
         "mode": "markers",
         "name": "is",
         "text": [
          "is"
         ],
         "type": "scatter3d",
         "x": [
          3.272573232650757
         ],
         "y": [
          7.831002712249756
         ],
         "z": [
          9.743770599365234
         ]
        },
        {
         "marker": {
          "size": 6
         },
         "mode": "markers",
         "name": "a",
         "text": [
          "a"
         ],
         "type": "scatter3d",
         "x": [
          3.364586591720581
         ],
         "y": [
          7.776681423187256
         ],
         "z": [
          9.947332382202148
         ]
        },
        {
         "marker": {
          "size": 6
         },
         "mode": "markers",
         "name": "teacher",
         "text": [
          "teacher"
         ],
         "type": "scatter3d",
         "x": [
          6.23234224319458
         ],
         "y": [
          6.752328395843506
         ],
         "z": [
          11.835290908813477
         ]
        },
        {
         "marker": {
          "size": 6
         },
         "mode": "markers",
         "name": "in",
         "text": [
          "in"
         ],
         "type": "scatter3d",
         "x": [
          4.2685346603393555
         ],
         "y": [
          8.323625564575195
         ],
         "z": [
          10.256031036376953
         ]
        },
        {
         "marker": {
          "size": 6
         },
         "mode": "markers",
         "name": "grades",
         "text": [
          "grades"
         ],
         "type": "scatter3d",
         "x": [
          6.137885093688965
         ],
         "y": [
          8.085636138916016
         ],
         "z": [
          12.374763488769531
         ]
        },
        {
         "marker": {
          "size": 6
         },
         "mode": "markers",
         "name": "k",
         "text": [
          "k"
         ],
         "type": "scatter3d",
         "x": [
          6.216047286987305
         ],
         "y": [
          8.190667152404785
         ],
         "z": [
          12.513823509216309
         ]
        },
        {
         "marker": {
          "size": 6
         },
         "mode": "markers",
         "name": "-",
         "text": [
          "-"
         ],
         "type": "scatter3d",
         "x": [
          6.1771240234375
         ],
         "y": [
          1.7956265211105347
         ],
         "z": [
          4.163625240325928
         ]
        },
        {
         "marker": {
          "size": 6
         },
         "mode": "markers",
         "name": "12",
         "text": [
          "12"
         ],
         "type": "scatter3d",
         "x": [
          6.192662715911865
         ],
         "y": [
          8.053287506103516
         ],
         "z": [
          12.418397903442383
         ]
        },
        {
         "marker": {
          "size": 6
         },
         "mode": "markers",
         "name": "at",
         "text": [
          "at"
         ],
         "type": "scatter3d",
         "x": [
          4.061119079589844
         ],
         "y": [
          8.498017311096191
         ],
         "z": [
          10.402588844299316
         ]
        },
        {
         "marker": {
          "size": 6
         },
         "mode": "markers",
         "name": "an",
         "text": [
          "an"
         ],
         "type": "scatter3d",
         "x": [
          3.4100208282470703
         ],
         "y": [
          7.774421215057373
         ],
         "z": [
          10.04410457611084
         ]
        },
        {
         "marker": {
          "size": 6
         },
         "mode": "markers",
         "name": "educational",
         "text": [
          "educational"
         ],
         "type": "scatter3d",
         "x": [
          6.040191173553467
         ],
         "y": [
          7.458380222320557
         ],
         "z": [
          11.727229118347168
         ]
        },
        {
         "marker": {
          "size": 6
         },
         "mode": "markers",
         "name": "organization",
         "text": [
          "organization"
         ],
         "type": "scatter3d",
         "x": [
          5.742380142211914
         ],
         "y": [
          7.6684722900390625
         ],
         "z": [
          11.582344055175781
         ]
        },
        {
         "marker": {
          "size": 6
         },
         "mode": "markers",
         "name": "described",
         "text": [
          "described"
         ],
         "type": "scatter3d",
         "x": [
          3.98685359954834
         ],
         "y": [
          7.907055854797363
         ],
         "z": [
          8.441229820251465
         ]
        },
        {
         "marker": {
          "size": 6
         },
         "mode": "markers",
         "name": "in",
         "text": [
          "in"
         ],
         "type": "scatter3d",
         "x": [
          3.5689806938171387
         ],
         "y": [
          8.27930736541748
         ],
         "z": [
          7.718802452087402
         ]
        },
        {
         "marker": {
          "size": 6
         },
         "mode": "markers",
         "name": "section",
         "text": [
          "section"
         ],
         "type": "scatter3d",
         "x": [
          3.0690460205078125
         ],
         "y": [
          8.426614761352539
         ],
         "z": [
          6.342274188995361
         ]
        },
        {
         "marker": {
          "size": 6
         },
         "mode": "markers",
         "name": "170",
         "text": [
          "170"
         ],
         "type": "scatter3d",
         "x": [
          3.5048418045043945
         ],
         "y": [
          9.616621971130371
         ],
         "z": [
          5.53811502456665
         ]
        },
        {
         "marker": {
          "size": 6
         },
         "mode": "markers",
         "name": "(",
         "text": [
          "("
         ],
         "type": "scatter3d",
         "x": [
          -3.6471688747406006
         ],
         "y": [
          8.629326820373535
         ],
         "z": [
          -5.7118682861328125
         ]
        },
        {
         "marker": {
          "size": 6
         },
         "mode": "markers",
         "name": "b",
         "text": [
          "b"
         ],
         "type": "scatter3d",
         "x": [
          4.115546703338623
         ],
         "y": [
          10.515406608581543
         ],
         "z": [
          4.894351005554199
         ]
        },
        {
         "marker": {
          "size": 6
         },
         "mode": "markers",
         "name": ")",
         "text": [
          ")"
         ],
         "type": "scatter3d",
         "x": [
          2.1170871257781982
         ],
         "y": [
          6.1748785972595215
         ],
         "z": [
          7.309155464172363
         ]
        },
        {
         "marker": {
          "size": 6
         },
         "mode": "markers",
         "name": "(",
         "text": [
          "("
         ],
         "type": "scatter3d",
         "x": [
          -3.645352363586426
         ],
         "y": [
          8.63034725189209
         ],
         "z": [
          -5.7059326171875
         ]
        },
        {
         "marker": {
          "size": 6
         },
         "mode": "markers",
         "name": "1",
         "text": [
          "1"
         ],
         "type": "scatter3d",
         "x": [
          3.7390544414520264
         ],
         "y": [
          10.285587310791016
         ],
         "z": [
          5.054686069488525
         ]
        },
        {
         "marker": {
          "size": 6
         },
         "mode": "markers",
         "name": ")",
         "text": [
          ")"
         ],
         "type": "scatter3d",
         "x": [
          5.769343852996826
         ],
         "y": [
          13.239967346191406
         ],
         "z": [
          -6.216188907623291
         ]
        },
        {
         "marker": {
          "size": 6
         },
         "mode": "markers",
         "name": "(",
         "text": [
          "("
         ],
         "type": "scatter3d",
         "x": [
          -3.6507232189178467
         ],
         "y": [
          8.62480354309082
         ],
         "z": [
          -5.707594871520996
         ]
        },
        {
         "marker": {
          "size": 6
         },
         "mode": "markers",
         "name": "a",
         "text": [
          "a"
         ],
         "type": "scatter3d",
         "x": [
          4.239078998565674
         ],
         "y": [
          10.536253929138184
         ],
         "z": [
          4.953689098358154
         ]
        },
        {
         "marker": {
          "size": 6
         },
         "mode": "markers",
         "name": ")",
         "text": [
          ")"
         ],
         "type": "scatter3d",
         "x": [
          5.77587890625
         ],
         "y": [
          13.251991271972656
         ],
         "z": [
          -6.222803115844727
         ]
        },
        {
         "marker": {
          "size": 6
         },
         "mode": "markers",
         "name": "(",
         "text": [
          "("
         ],
         "type": "scatter3d",
         "x": [
          -3.664989709854126
         ],
         "y": [
          8.61159610748291
         ],
         "z": [
          -5.726163387298584
         ]
        },
        {
         "marker": {
          "size": 6
         },
         "mode": "markers",
         "name": "ii",
         "text": [
          "ii"
         ],
         "type": "scatter3d",
         "x": [
          3.994156837463379
         ],
         "y": [
          10.36293888092041
         ],
         "z": [
          5.025644779205322
         ]
        },
        {
         "marker": {
          "size": 6
         },
         "mode": "markers",
         "name": ")",
         "text": [
          ")"
         ],
         "type": "scatter3d",
         "x": [
          2.1285111904144287
         ],
         "y": [
          6.171403884887695
         ],
         "z": [
          7.312721252441406
         ]
        },
        {
         "marker": {
          "size": 6
         },
         "mode": "markers",
         "name": "which",
         "text": [
          "which"
         ],
         "type": "scatter3d",
         "x": [
          3.1309092044830322
         ],
         "y": [
          7.998715400695801
         ],
         "z": [
          9.716082572937012
         ]
        },
        {
         "marker": {
          "size": 6
         },
         "mode": "markers",
         "name": "is",
         "text": [
          "is"
         ],
         "type": "scatter3d",
         "x": [
          3.3358993530273438
         ],
         "y": [
          8.091743469238281
         ],
         "z": [
          9.858025550842285
         ]
        },
        {
         "marker": {
          "size": 6
         },
         "mode": "markers",
         "name": "located",
         "text": [
          "located"
         ],
         "type": "scatter3d",
         "x": [
          3.4093711376190186
         ],
         "y": [
          8.242783546447754
         ],
         "z": [
          10.01872444152832
         ]
        },
        {
         "marker": {
          "size": 6
         },
         "mode": "markers",
         "name": "in",
         "text": [
          "in"
         ],
         "type": "scatter3d",
         "x": [
          3.509742498397827
         ],
         "y": [
          8.258834838867188
         ],
         "z": [
          10.146636962890625
         ]
        },
        {
         "marker": {
          "size": 6
         },
         "mode": "markers",
         "name": "the",
         "text": [
          "the"
         ],
         "type": "scatter3d",
         "x": [
          3.487109422683716
         ],
         "y": [
          8.292922019958496
         ],
         "z": [
          10.307600021362305
         ]
        },
        {
         "marker": {
          "size": 6
         },
         "mode": "markers",
         "name": "united",
         "text": [
          "united"
         ],
         "type": "scatter3d",
         "x": [
          3.1850526332855225
         ],
         "y": [
          9.051831245422363
         ],
         "z": [
          9.959671974182129
         ]
        },
        {
         "marker": {
          "size": 6
         },
         "mode": "markers",
         "name": "states",
         "text": [
          "states"
         ],
         "type": "scatter3d",
         "x": [
          3.188088893890381
         ],
         "y": [
          9.039969444274902
         ],
         "z": [
          9.961553573608398
         ]
        },
        {
         "marker": {
          "size": 6
         },
         "mode": "markers",
         "name": "or",
         "text": [
          "or"
         ],
         "type": "scatter3d",
         "x": [
          1.8530234098434448
         ],
         "y": [
          2.2559144496917725
         ],
         "z": [
          8.510076522827148
         ]
        },
        {
         "marker": {
          "size": 6
         },
         "mode": "markers",
         "name": "which",
         "text": [
          "which"
         ],
         "type": "scatter3d",
         "x": [
          3.158867359161377
         ],
         "y": [
          8.011077880859375
         ],
         "z": [
          9.749314308166504
         ]
        },
        {
         "marker": {
          "size": 6
         },
         "mode": "markers",
         "name": "is",
         "text": [
          "is"
         ],
         "type": "scatter3d",
         "x": [
          3.3244240283966064
         ],
         "y": [
          8.090720176696777
         ],
         "z": [
          9.85525894165039
         ]
        },
        {
         "marker": {
          "size": 6
         },
         "mode": "markers",
         "name": "located",
         "text": [
          "located"
         ],
         "type": "scatter3d",
         "x": [
          3.4344725608825684
         ],
         "y": [
          8.298595428466797
         ],
         "z": [
          10.036519050598145
         ]
        },
        {
         "marker": {
          "size": 6
         },
         "mode": "markers",
         "name": "on",
         "text": [
          "on"
         ],
         "type": "scatter3d",
         "x": [
          3.456387519836426
         ],
         "y": [
          8.347376823425293
         ],
         "z": [
          10.049806594848633
         ]
        },
        {
         "marker": {
          "size": 6
         },
         "mode": "markers",
         "name": "a",
         "text": [
          "a"
         ],
         "type": "scatter3d",
         "x": [
          3.4239590167999268
         ],
         "y": [
          7.896130561828613
         ],
         "z": [
          10.010847091674805
         ]
        },
        {
         "marker": {
          "size": 6
         },
         "mode": "markers",
         "name": "united",
         "text": [
          "united"
         ],
         "type": "scatter3d",
         "x": [
          3.209949254989624
         ],
         "y": [
          9.013223648071289
         ],
         "z": [
          9.98208999633789
         ]
        },
        {
         "marker": {
          "size": 6
         },
         "mode": "markers",
         "name": "states",
         "text": [
          "states"
         ],
         "type": "scatter3d",
         "x": [
          3.2025375366210938
         ],
         "y": [
          9.015775680541992
         ],
         "z": [
          9.968318939208984
         ]
        },
        {
         "marker": {
          "size": 6
         },
         "mode": "markers",
         "name": "military",
         "text": [
          "military"
         ],
         "type": "scatter3d",
         "x": [
          3.3338191509246826
         ],
         "y": [
          8.635414123535156
         ],
         "z": [
          10.030159950256348
         ]
        },
        {
         "marker": {
          "size": 6
         },
         "mode": "markers",
         "name": "base",
         "text": [
          "base"
         ],
         "type": "scatter3d",
         "x": [
          3.3904736042022705
         ],
         "y": [
          8.45895004272461
         ],
         "z": [
          10.023994445800781
         ]
        },
        {
         "marker": {
          "size": 6
         },
         "mode": "markers",
         "name": "outside",
         "text": [
          "outside"
         ],
         "type": "scatter3d",
         "x": [
          3.5178072452545166
         ],
         "y": [
          8.282907485961914
         ],
         "z": [
          10.093527793884277
         ]
        },
        {
         "marker": {
          "size": 6
         },
         "mode": "markers",
         "name": "the",
         "text": [
          "the"
         ],
         "type": "scatter3d",
         "x": [
          3.467474937438965
         ],
         "y": [
          8.228759765625
         ],
         "z": [
          10.424629211425781
         ]
        },
        {
         "marker": {
          "size": 6
         },
         "mode": "markers",
         "name": "united",
         "text": [
          "united"
         ],
         "type": "scatter3d",
         "x": [
          3.1786043643951416
         ],
         "y": [
          9.04026985168457
         ],
         "z": [
          9.955619812011719
         ]
        },
        {
         "marker": {
          "size": 6
         },
         "mode": "markers",
         "name": "states",
         "text": [
          "states"
         ],
         "type": "scatter3d",
         "x": [
          3.1900203227996826
         ],
         "y": [
          9.031421661376953
         ],
         "z": [
          9.960394859313965
         ]
        },
        {
         "marker": {
          "size": 6
         },
         "mode": "markers",
         "name": ",",
         "text": [
          ","
         ],
         "type": "scatter3d",
         "x": [
          1.688078761100769
         ],
         "y": [
          4.160094738006592
         ],
         "z": [
          6.950442790985107
         ]
        },
        {
         "marker": {
          "size": 6
         },
         "mode": "markers",
         "name": "and",
         "text": [
          "and"
         ],
         "type": "scatter3d",
         "x": [
          1.9168328046798706
         ],
         "y": [
          3.6083874702453613
         ],
         "z": [
          7.29561710357666
         ]
        },
        {
         "marker": {
          "size": 6
         },
         "mode": "markers",
         "name": "`",
         "text": [
          "`"
         ],
         "type": "scatter3d",
         "x": [
          -4.760805130004883
         ],
         "y": [
          -1.3707895278930664
         ],
         "z": [
          -0.9561817049980164
         ]
        },
        {
         "marker": {
          "size": 6
         },
         "mode": "markers",
         "name": "`",
         "text": [
          "`"
         ],
         "type": "scatter3d",
         "x": [
          -4.71942138671875
         ],
         "y": [
          -1.3717045783996582
         ],
         "z": [
          -0.9265890717506409
         ]
        },
        {
         "marker": {
          "size": 6
         },
         "mode": "markers",
         "name": "(",
         "text": [
          "("
         ],
         "type": "scatter3d",
         "x": [
          -3.0595903396606445
         ],
         "y": [
          9.269522666931152
         ],
         "z": [
          -5.950497627258301
         ]
        },
        {
         "marker": {
          "size": 6
         },
         "mode": "markers",
         "name": "b",
         "text": [
          "b"
         ],
         "type": "scatter3d",
         "x": [
          4.036488056182861
         ],
         "y": [
          10.660852432250977
         ],
         "z": [
          4.682661533355713
         ]
        },
        {
         "marker": {
          "size": 6
         },
         "mode": "markers",
         "name": ")",
         "text": [
          ")"
         ],
         "type": "scatter3d",
         "x": [
          2.12541127204895
         ],
         "y": [
          6.166686058044434
         ],
         "z": [
          7.297519683837891
         ]
        },
        {
         "marker": {
          "size": 6
         },
         "mode": "markers",
         "name": "whose",
         "text": [
          "whose"
         ],
         "type": "scatter3d",
         "x": [
          3.1247599124908447
         ],
         "y": [
          7.899138927459717
         ],
         "z": [
          9.7619047164917
         ]
        },
        {
         "marker": {
          "size": 6
         },
         "mode": "markers",
         "name": "teaching",
         "text": [
          "teaching"
         ],
         "type": "scatter3d",
         "x": [
          6.109918117523193
         ],
         "y": [
          6.882018089294434
         ],
         "z": [
          11.72054386138916
         ]
        },
        {
         "marker": {
          "size": 6
         },
         "mode": "markers",
         "name": "responsibilities",
         "text": [
          "responsibilities"
         ],
         "type": "scatter3d",
         "x": [
          5.42072057723999
         ],
         "y": [
          6.76690149307251
         ],
         "z": [
          9.126243591308594
         ]
        },
        {
         "marker": {
          "size": 6
         },
         "mode": "markers",
         "name": "at",
         "text": [
          "at"
         ],
         "type": "scatter3d",
         "x": [
          4.078254699707031
         ],
         "y": [
          8.496443748474121
         ],
         "z": [
          10.416753768920898
         ]
        },
        {
         "marker": {
          "size": 6
         },
         "mode": "markers",
         "name": "such",
         "text": [
          "such"
         ],
         "type": "scatter3d",
         "x": [
          -0.061595723032951355
         ],
         "y": [
          8.025359153747559
         ],
         "z": [
          8.109707832336426
         ]
        },
        {
         "marker": {
          "size": 6
         },
         "mode": "markers",
         "name": "school",
         "text": [
          "school"
         ],
         "type": "scatter3d",
         "x": [
          5.930522441864014
         ],
         "y": [
          7.660411834716797
         ],
         "z": [
          11.925926208496094
         ]
        },
        {
         "marker": {
          "size": 6
         },
         "mode": "markers",
         "name": "include",
         "text": [
          "include"
         ],
         "type": "scatter3d",
         "x": [
          3.4117283821105957
         ],
         "y": [
          7.240567684173584
         ],
         "z": [
          9.348076820373535
         ]
        },
        {
         "marker": {
          "size": 6
         },
         "mode": "markers",
         "name": ",",
         "text": [
          ","
         ],
         "type": "scatter3d",
         "x": [
          1.6671065092086792
         ],
         "y": [
          4.140223026275635
         ],
         "z": [
          6.988358497619629
         ]
        },
        {
         "marker": {
          "size": 6
         },
         "mode": "markers",
         "name": "or",
         "text": [
          "or"
         ],
         "type": "scatter3d",
         "x": [
          1.8413599729537964
         ],
         "y": [
          2.3499162197113037
         ],
         "z": [
          8.41893482208252
         ]
        },
        {
         "marker": {
          "size": 6
         },
         "mode": "markers",
         "name": "are",
         "text": [
          "are"
         ],
         "type": "scatter3d",
         "x": [
          3.280299663543701
         ],
         "y": [
          7.5086445808410645
         ],
         "z": [
          9.261271476745605
         ]
        },
        {
         "marker": {
          "size": 6
         },
         "mode": "markers",
         "name": "likely",
         "text": [
          "likely"
         ],
         "type": "scatter3d",
         "x": [
          3.3672902584075928
         ],
         "y": [
          7.34970235824585
         ],
         "z": [
          9.211004257202148
         ]
        },
        {
         "marker": {
          "size": 6
         },
         "mode": "markers",
         "name": "to",
         "text": [
          "to"
         ],
         "type": "scatter3d",
         "x": [
          3.3996405601501465
         ],
         "y": [
          7.23219108581543
         ],
         "z": [
          9.316666603088379
         ]
        },
        {
         "marker": {
          "size": 6
         },
         "mode": "markers",
         "name": "include",
         "text": [
          "include"
         ],
         "type": "scatter3d",
         "x": [
          3.421452760696411
         ],
         "y": [
          7.164608955383301
         ],
         "z": [
          9.413147926330566
         ]
        },
        {
         "marker": {
          "size": 6
         },
         "mode": "markers",
         "name": ",",
         "text": [
          ","
         ],
         "type": "scatter3d",
         "x": [
          1.6849024295806885
         ],
         "y": [
          4.214334011077881
         ],
         "z": [
          6.939266204833984
         ]
        },
        {
         "marker": {
          "size": 6
         },
         "mode": "markers",
         "name": "any",
         "text": [
          "any"
         ],
         "type": "scatter3d",
         "x": [
          2.3229563236236572
         ],
         "y": [
          6.540966033935547
         ],
         "z": [
          9.591401100158691
         ]
        },
        {
         "marker": {
          "size": 6
         },
         "mode": "markers",
         "name": "course",
         "text": [
          "course"
         ],
         "type": "scatter3d",
         "x": [
          5.871228218078613
         ],
         "y": [
          7.409041404724121
         ],
         "z": [
          11.664259910583496
         ]
        },
        {
         "marker": {
          "size": 6
         },
         "mode": "markers",
         "name": "in",
         "text": [
          "in"
         ],
         "type": "scatter3d",
         "x": [
          4.501794815063477
         ],
         "y": [
          1.4677871465682983
         ],
         "z": [
          -1.0359909534454346
         ]
        },
        {
         "marker": {
          "size": 6
         },
         "mode": "markers",
         "name": "the",
         "text": [
          "the"
         ],
         "type": "scatter3d",
         "x": [
          3.9467523097991943
         ],
         "y": [
          8.098772048950195
         ],
         "z": [
          10.79697322845459
         ]
        },
        {
         "marker": {
          "size": 6
         },
         "mode": "markers",
         "name": "areas",
         "text": [
          "areas"
         ],
         "type": "scatter3d",
         "x": [
          4.687298774719238
         ],
         "y": [
          8.24109935760498
         ],
         "z": [
          11.40854549407959
         ]
        },
        {
         "marker": {
          "size": 6
         },
         "mode": "markers",
         "name": "of",
         "text": [
          "of"
         ],
         "type": "scatter3d",
         "x": [
          4.423326015472412
         ],
         "y": [
          8.09654712677002
         ],
         "z": [
          11.212413787841797
         ]
        },
        {
         "marker": {
          "size": 6
         },
         "mode": "markers",
         "name": "science",
         "text": [
          "science"
         ],
         "type": "scatter3d",
         "x": [
          5.374301910400391
         ],
         "y": [
          16.346675872802734
         ],
         "z": [
          9.911530494689941
         ]
        },
        {
         "marker": {
          "size": 6
         },
         "mode": "markers",
         "name": ",",
         "text": [
          ","
         ],
         "type": "scatter3d",
         "x": [
          2.958536148071289
         ],
         "y": [
          1.465423583984375
         ],
         "z": [
          7.955164909362793
         ]
        },
        {
         "marker": {
          "size": 6
         },
         "mode": "markers",
         "name": "technology",
         "text": [
          "technology"
         ],
         "type": "scatter3d",
         "x": [
          5.181979179382324
         ],
         "y": [
          17.072019577026367
         ],
         "z": [
          10.398751258850098
         ]
        },
        {
         "marker": {
          "size": 6
         },
         "mode": "markers",
         "name": ",",
         "text": [
          ","
         ],
         "type": "scatter3d",
         "x": [
          2.9632630348205566
         ],
         "y": [
          1.4616308212280273
         ],
         "z": [
          7.948422908782959
         ]
        },
        {
         "marker": {
          "size": 6
         },
         "mode": "markers",
         "name": "engineering",
         "text": [
          "engineering"
         ],
         "type": "scatter3d",
         "x": [
          3.966066837310791
         ],
         "y": [
          16.405866622924805
         ],
         "z": [
          9.789057731628418
         ]
        },
        {
         "marker": {
          "size": 6
         },
         "mode": "markers",
         "name": ",",
         "text": [
          ","
         ],
         "type": "scatter3d",
         "x": [
          1.569575309753418
         ],
         "y": [
          4.383265018463135
         ],
         "z": [
          6.772433757781982
         ]
        },
        {
         "marker": {
          "size": 6
         },
         "mode": "markers",
         "name": "or",
         "text": [
          "or"
         ],
         "type": "scatter3d",
         "x": [
          2.03729510307312
         ],
         "y": [
          2.0621750354766846
         ],
         "z": [
          8.580523490905762
         ]
        },
        {
         "marker": {
          "size": 6
         },
         "mode": "markers",
         "name": "mathematics",
         "text": [
          "mathematics"
         ],
         "type": "scatter3d",
         "x": [
          -4.702925682067871
         ],
         "y": [
          12.595086097717285
         ],
         "z": [
          12.328990936279297
         ]
        },
        {
         "marker": {
          "size": 6
         },
         "mode": "markers",
         "name": ".",
         "text": [
          "."
         ],
         "type": "scatter3d",
         "x": [
          -2.2117488384246826
         ],
         "y": [
          6.763556003570557
         ],
         "z": [
          2.5471928119659424
         ]
        },
        {
         "marker": {
          "size": 6
         },
         "mode": "markers",
         "name": "`",
         "text": [
          "`"
         ],
         "type": "scatter3d",
         "x": [
          -4.675229072570801
         ],
         "y": [
          -1.4658212661743164
         ],
         "z": [
          -0.8434282541275024
         ]
        },
        {
         "marker": {
          "size": 6
         },
         "mode": "markers",
         "name": "`",
         "text": [
          "`"
         ],
         "type": "scatter3d",
         "x": [
          -4.662474632263184
         ],
         "y": [
          -1.4026049375534058
         ],
         "z": [
          -0.8322322964668274
         ]
        },
        {
         "marker": {
          "size": 6
         },
         "mode": "markers",
         "name": "(",
         "text": [
          "("
         ],
         "type": "scatter3d",
         "x": [
          -3.131589889526367
         ],
         "y": [
          9.197295188903809
         ],
         "z": [
          -5.8174333572387695
         ]
        },
        {
         "marker": {
          "size": 6
         },
         "mode": "markers",
         "name": "e",
         "text": [
          "e"
         ],
         "type": "scatter3d",
         "x": [
          4.058452606201172
         ],
         "y": [
          10.725753784179688
         ],
         "z": [
          4.620027542114258
         ]
        },
        {
         "marker": {
          "size": 6
         },
         "mode": "markers",
         "name": ")",
         "text": [
          ")"
         ],
         "type": "scatter3d",
         "x": [
          5.564469337463379
         ],
         "y": [
          12.997815132141113
         ],
         "z": [
          -5.432713985443115
         ]
        },
        {
         "marker": {
          "size": 6
         },
         "mode": "markers",
         "name": "stem",
         "text": [
          "stem"
         ],
         "type": "scatter3d",
         "x": [
          6.1347880363464355
         ],
         "y": [
          3.237889051437378
         ],
         "z": [
          10.948534965515137
         ]
        },
        {
         "marker": {
          "size": 6
         },
         "mode": "markers",
         "name": "teacher",
         "text": [
          "teacher"
         ],
         "type": "scatter3d",
         "x": [
          6.223655700683594
         ],
         "y": [
          6.757322788238525
         ],
         "z": [
          11.826845169067383
         ]
        },
        {
         "marker": {
          "size": 6
         },
         "mode": "markers",
         "name": "training",
         "text": [
          "training"
         ],
         "type": "scatter3d",
         "x": [
          5.4266791343688965
         ],
         "y": [
          6.744797229766846
         ],
         "z": [
          11.09407901763916
         ]
        },
        {
         "marker": {
          "size": 6
         },
         "mode": "markers",
         "name": "expenses",
         "text": [
          "expenses"
         ],
         "type": "scatter3d",
         "x": [
          5.485035419464111
         ],
         "y": [
          6.73245906829834
         ],
         "z": [
          9.00198745727539
         ]
        },
        {
         "marker": {
          "size": 6
         },
         "mode": "markers",
         "name": ".",
         "text": [
          "."
         ],
         "type": "scatter3d",
         "x": [
          -2.225433588027954
         ],
         "y": [
          6.737957954406738
         ],
         "z": [
          2.573347806930542
         ]
        },
        {
         "marker": {
          "size": 6
         },
         "mode": "markers",
         "name": "-",
         "text": [
          "-"
         ],
         "type": "scatter3d",
         "x": [
          6.182122707366943
         ],
         "y": [
          -3.828768730163574
         ],
         "z": [
          15.385579109191895
         ]
        },
        {
         "marker": {
          "size": 6
         },
         "mode": "markers",
         "name": "-",
         "text": [
          "-"
         ],
         "type": "scatter3d",
         "x": [
          2.8284573554992676
         ],
         "y": [
          -2.8944149017333984
         ],
         "z": [
          -6.257806777954102
         ]
        },
        {
         "marker": {
          "size": 6
         },
         "mode": "markers",
         "name": "the",
         "text": [
          "the"
         ],
         "type": "scatter3d",
         "x": [
          1.8883023262023926
         ],
         "y": [
          7.468532562255859
         ],
         "z": [
          8.261427879333496
         ]
        },
        {
         "marker": {
          "size": 6
         },
         "mode": "markers",
         "name": "term",
         "text": [
          "term"
         ],
         "type": "scatter3d",
         "x": [
          14.787372589111328
         ],
         "y": [
          1.0297932624816895
         ],
         "z": [
          5.90797758102417
         ]
        },
        {
         "marker": {
          "size": 6
         },
         "mode": "markers",
         "name": "`",
         "text": [
          "`"
         ],
         "type": "scatter3d",
         "x": [
          -4.6944756507873535
         ],
         "y": [
          -0.44014015793800354
         ],
         "z": [
          -0.9387683868408203
         ]
        },
        {
         "marker": {
          "size": 6
         },
         "mode": "markers",
         "name": "stem",
         "text": [
          "stem"
         ],
         "type": "scatter3d",
         "x": [
          6.149362564086914
         ],
         "y": [
          3.2610440254211426
         ],
         "z": [
          10.966123580932617
         ]
        },
        {
         "marker": {
          "size": 6
         },
         "mode": "markers",
         "name": "teacher",
         "text": [
          "teacher"
         ],
         "type": "scatter3d",
         "x": [
          6.236982822418213
         ],
         "y": [
          6.746425628662109
         ],
         "z": [
          11.837047576904297
         ]
        },
        {
         "marker": {
          "size": 6
         },
         "mode": "markers",
         "name": "training",
         "text": [
          "training"
         ],
         "type": "scatter3d",
         "x": [
          5.417272090911865
         ],
         "y": [
          6.694817066192627
         ],
         "z": [
          11.126129150390625
         ]
        },
        {
         "marker": {
          "size": 6
         },
         "mode": "markers",
         "name": "expenses",
         "text": [
          "expenses"
         ],
         "type": "scatter3d",
         "x": [
          5.5032057762146
         ],
         "y": [
          6.728293418884277
         ],
         "z": [
          9.000399589538574
         ]
        },
        {
         "marker": {
          "size": 6
         },
         "mode": "markers",
         "name": "'",
         "text": [
          "'"
         ],
         "type": "scatter3d",
         "x": [
          3.263320207595825
         ],
         "y": [
          6.473568916320801
         ],
         "z": [
          14.418042182922363
         ]
        },
        {
         "marker": {
          "size": 6
         },
         "mode": "markers",
         "name": "means",
         "text": [
          "means"
         ],
         "type": "scatter3d",
         "x": [
          5.666382789611816
         ],
         "y": [
          -5.696542739868164
         ],
         "z": [
          7.6525349617004395
         ]
        },
        {
         "marker": {
          "size": 6
         },
         "mode": "markers",
         "name": "any",
         "text": [
          "any"
         ],
         "type": "scatter3d",
         "x": [
          2.3824782371520996
         ],
         "y": [
          6.6214375495910645
         ],
         "z": [
          9.52969741821289
         ]
        },
        {
         "marker": {
          "size": 6
         },
         "mode": "markers",
         "name": "amount",
         "text": [
          "amount"
         ],
         "type": "scatter3d",
         "x": [
          4.20683479309082
         ],
         "y": [
          6.854922294616699
         ],
         "z": [
          8.721577644348145
         ]
        },
        {
         "marker": {
          "size": 6
         },
         "mode": "markers",
         "name": "paid",
         "text": [
          "paid"
         ],
         "type": "scatter3d",
         "x": [
          4.4871826171875
         ],
         "y": [
          7.047835826873779
         ],
         "z": [
          8.860380172729492
         ]
        },
        {
         "marker": {
          "size": 6
         },
         "mode": "markers",
         "name": "or",
         "text": [
          "or"
         ],
         "type": "scatter3d",
         "x": [
          1.8522613048553467
         ],
         "y": [
          2.2983460426330566
         ],
         "z": [
          8.456588745117188
         ]
        },
        {
         "marker": {
          "size": 6
         },
         "mode": "markers",
         "name": "incurred",
         "text": [
          "incurred"
         ],
         "type": "scatter3d",
         "x": [
          4.550638198852539
         ],
         "y": [
          7.016782283782959
         ],
         "z": [
          8.910048484802246
         ]
        },
        {
         "marker": {
          "size": 6
         },
         "mode": "markers",
         "name": "by",
         "text": [
          "by"
         ],
         "type": "scatter3d",
         "x": [
          3.477736234664917
         ],
         "y": [
          6.612268447875977
         ],
         "z": [
          10.2985200881958
         ]
        },
        {
         "marker": {
          "size": 6
         },
         "mode": "markers",
         "name": "a",
         "text": [
          "a"
         ],
         "type": "scatter3d",
         "x": [
          3.4168167114257812
         ],
         "y": [
          7.530092716217041
         ],
         "z": [
          10.06119155883789
         ]
        },
        {
         "marker": {
          "size": 6
         },
         "mode": "markers",
         "name": "taxpayer",
         "text": [
          "taxpayer"
         ],
         "type": "scatter3d",
         "x": [
          3.584850788116455
         ],
         "y": [
          6.212012767791748
         ],
         "z": [
          7.434718608856201
         ]
        },
        {
         "marker": {
          "size": 6
         },
         "mode": "markers",
         "name": "engaged",
         "text": [
          "engaged"
         ],
         "type": "scatter3d",
         "x": [
          4.464385509490967
         ],
         "y": [
          7.5443010330200195
         ],
         "z": [
          9.92863941192627
         ]
        },
        {
         "marker": {
          "size": 6
         },
         "mode": "markers",
         "name": "in",
         "text": [
          "in"
         ],
         "type": "scatter3d",
         "x": [
          4.363364219665527
         ],
         "y": [
          7.7736639976501465
         ],
         "z": [
          10.019407272338867
         ]
        },
        {
         "marker": {
          "size": 6
         },
         "mode": "markers",
         "name": "a",
         "text": [
          "a"
         ],
         "type": "scatter3d",
         "x": [
          3.490324020385742
         ],
         "y": [
          7.688685894012451
         ],
         "z": [
          10.010786056518555
         ]
        },
        {
         "marker": {
          "size": 6
         },
         "mode": "markers",
         "name": "trade",
         "text": [
          "trade"
         ],
         "type": "scatter3d",
         "x": [
          5.1697869300842285
         ],
         "y": [
          7.289275646209717
         ],
         "z": [
          10.061979293823242
         ]
        },
        {
         "marker": {
          "size": 6
         },
         "mode": "markers",
         "name": "or",
         "text": [
          "or"
         ],
         "type": "scatter3d",
         "x": [
          1.8742246627807617
         ],
         "y": [
          2.2235093116760254
         ],
         "z": [
          8.551839828491211
         ]
        },
        {
         "marker": {
          "size": 6
         },
         "mode": "markers",
         "name": "business",
         "text": [
          "business"
         ],
         "type": "scatter3d",
         "x": [
          5.165918827056885
         ],
         "y": [
          7.28558874130249
         ],
         "z": [
          10.040979385375977
         ]
        },
        {
         "marker": {
          "size": 6
         },
         "mode": "markers",
         "name": "within",
         "text": [
          "within"
         ],
         "type": "scatter3d",
         "x": [
          4.106549263000488
         ],
         "y": [
          8.168935775756836
         ],
         "z": [
          10.219917297363281
         ]
        },
        {
         "marker": {
          "size": 6
         },
         "mode": "markers",
         "name": "an",
         "text": [
          "an"
         ],
         "type": "scatter3d",
         "x": [
          3.4415509700775146
         ],
         "y": [
          7.737884044647217
         ],
         "z": [
          9.96325969696045
         ]
        },
        {
         "marker": {
          "size": 6
         },
         "mode": "markers",
         "name": "area",
         "text": [
          "area"
         ],
         "type": "scatter3d",
         "x": [
          4.732866287231445
         ],
         "y": [
          8.226422309875488
         ],
         "z": [
          11.43171501159668
         ]
        },
        {
         "marker": {
          "size": 6
         },
         "mode": "markers",
         "name": "of",
         "text": [
          "of"
         ],
         "type": "scatter3d",
         "x": [
          4.405576229095459
         ],
         "y": [
          8.05284309387207
         ],
         "z": [
          11.168532371520996
         ]
        },
        {
         "marker": {
          "size": 6
         },
         "mode": "markers",
         "name": "science",
         "text": [
          "science"
         ],
         "type": "scatter3d",
         "x": [
          5.3824357986450195
         ],
         "y": [
          16.347003936767578
         ],
         "z": [
          9.913605690002441
         ]
        },
        {
         "marker": {
          "size": 6
         },
         "mode": "markers",
         "name": ",",
         "text": [
          ","
         ],
         "type": "scatter3d",
         "x": [
          2.9558582305908203
         ],
         "y": [
          1.4680556058883667
         ],
         "z": [
          7.9576873779296875
         ]
        },
        {
         "marker": {
          "size": 6
         },
         "mode": "markers",
         "name": "technology",
         "text": [
          "technology"
         ],
         "type": "scatter3d",
         "x": [
          5.1758952140808105
         ],
         "y": [
          17.07833480834961
         ],
         "z": [
          10.402372360229492
         ]
        },
        {
         "marker": {
          "size": 6
         },
         "mode": "markers",
         "name": ",",
         "text": [
          ","
         ],
         "type": "scatter3d",
         "x": [
          2.958376884460449
         ],
         "y": [
          1.4679555892944336
         ],
         "z": [
          7.997238636016846
         ]
        },
        {
         "marker": {
          "size": 6
         },
         "mode": "markers",
         "name": "engineering",
         "text": [
          "engineering"
         ],
         "type": "scatter3d",
         "x": [
          3.9587762355804443
         ],
         "y": [
          16.401199340820312
         ],
         "z": [
          9.783343315124512
         ]
        },
        {
         "marker": {
          "size": 6
         },
         "mode": "markers",
         "name": ",",
         "text": [
          ","
         ],
         "type": "scatter3d",
         "x": [
          1.6508203744888306
         ],
         "y": [
          4.518754005432129
         ],
         "z": [
          6.760752201080322
         ]
        },
        {
         "marker": {
          "size": 6
         },
         "mode": "markers",
         "name": "or",
         "text": [
          "or"
         ],
         "type": "scatter3d",
         "x": [
          1.9791090488433838
         ],
         "y": [
          2.105048894882202
         ],
         "z": [
          8.588556289672852
         ]
        },
        {
         "marker": {
          "size": 6
         },
         "mode": "markers",
         "name": "mathematics",
         "text": [
          "mathematics"
         ],
         "type": "scatter3d",
         "x": [
          -4.7144856452941895
         ],
         "y": [
          12.60668659210205
         ],
         "z": [
          12.31740951538086
         ]
        },
        {
         "marker": {
          "size": 6
         },
         "mode": "markers",
         "name": "which",
         "text": [
          "which"
         ],
         "type": "scatter3d",
         "x": [
          3.0946476459503174
         ],
         "y": [
          7.938605308532715
         ],
         "z": [
          9.623861312866211
         ]
        },
        {
         "marker": {
          "size": 6
         },
         "mode": "markers",
         "name": "is",
         "text": [
          "is"
         ],
         "type": "scatter3d",
         "x": [
          3.194613218307495
         ],
         "y": [
          7.678900718688965
         ],
         "z": [
          9.247845649719238
         ]
        },
        {
         "marker": {
          "size": 6
         },
         "mode": "markers",
         "name": "at",
         "text": [
          "at"
         ],
         "type": "scatter3d",
         "x": [
          2.9044060707092285
         ],
         "y": [
          6.843210220336914
         ],
         "z": [
          8.007389068603516
         ]
        },
        {
         "marker": {
          "size": 6
         },
         "mode": "markers",
         "name": "##tri",
         "text": [
          "##tri"
         ],
         "type": "scatter3d",
         "x": [
          2.9460058212280273
         ],
         "y": [
          6.7872700691223145
         ],
         "z": [
          7.878310203552246
         ]
        },
        {
         "marker": {
          "size": 6
         },
         "mode": "markers",
         "name": "##bu",
         "text": [
          "##bu"
         ],
         "type": "scatter3d",
         "x": [
          2.940062999725342
         ],
         "y": [
          6.775415897369385
         ],
         "z": [
          7.96708869934082
         ]
        },
        {
         "marker": {
          "size": 6
         },
         "mode": "markers",
         "name": "##table",
         "text": [
          "##table"
         ],
         "type": "scatter3d",
         "x": [
          3.0291855335235596
         ],
         "y": [
          6.77470588684082
         ],
         "z": [
          8.216980934143066
         ]
        },
        {
         "marker": {
          "size": 6
         },
         "mode": "markers",
         "name": "to",
         "text": [
          "to"
         ],
         "type": "scatter3d",
         "x": [
          3.3242273330688477
         ],
         "y": [
          6.574486255645752
         ],
         "z": [
          9.39887809753418
         ]
        },
        {
         "marker": {
          "size": 6
         },
         "mode": "markers",
         "name": "the",
         "text": [
          "the"
         ],
         "type": "scatter3d",
         "x": [
          3.337256908416748
         ],
         "y": [
          7.420877933502197
         ],
         "z": [
          10.311964988708496
         ]
        },
        {
         "marker": {
          "size": 6
         },
         "mode": "markers",
         "name": "participation",
         "text": [
          "participation"
         ],
         "type": "scatter3d",
         "x": [
          4.559624195098877
         ],
         "y": [
          7.347225666046143
         ],
         "z": [
          10.09133243560791
         ]
        },
        {
         "marker": {
          "size": 6
         },
         "mode": "markers",
         "name": "of",
         "text": [
          "of"
         ],
         "type": "scatter3d",
         "x": [
          3.6044678688049316
         ],
         "y": [
          6.69112491607666
         ],
         "z": [
          10.352291107177734
         ]
        },
        {
         "marker": {
          "size": 6
         },
         "mode": "markers",
         "name": "any",
         "text": [
          "any"
         ],
         "type": "scatter3d",
         "x": [
          2.326810836791992
         ],
         "y": [
          6.557839870452881
         ],
         "z": [
          9.598281860351562
         ]
        },
        {
         "marker": {
          "size": 6
         },
         "mode": "markers",
         "name": "eligible",
         "text": [
          "eligible"
         ],
         "type": "scatter3d",
         "x": [
          5.306620121002197
         ],
         "y": [
          4.076991081237793
         ],
         "z": [
          10.301351547241211
         ]
        },
        {
         "marker": {
          "size": 6
         },
         "mode": "markers",
         "name": "stem",
         "text": [
          "stem"
         ],
         "type": "scatter3d",
         "x": [
          6.149200439453125
         ],
         "y": [
          3.237342596054077
         ],
         "z": [
          10.971908569335938
         ]
        },
        {
         "marker": {
          "size": 6
         },
         "mode": "markers",
         "name": "teacher",
         "text": [
          "teacher"
         ],
         "type": "scatter3d",
         "x": [
          6.227168560028076
         ],
         "y": [
          6.763632774353027
         ],
         "z": [
          11.82989501953125
         ]
        },
        {
         "marker": {
          "size": 6
         },
         "mode": "markers",
         "name": "in",
         "text": [
          "in"
         ],
         "type": "scatter3d",
         "x": [
          4.3604736328125
         ],
         "y": [
          7.840223789215088
         ],
         "z": [
          10.06325626373291
         ]
        },
        {
         "marker": {
          "size": 6
         },
         "mode": "markers",
         "name": "a",
         "text": [
          "a"
         ],
         "type": "scatter3d",
         "x": [
          3.5482606887817383
         ],
         "y": [
          7.6586833000183105
         ],
         "z": [
          9.987032890319824
         ]
        },
        {
         "marker": {
          "size": 6
         },
         "mode": "markers",
         "name": "regular",
         "text": [
          "regular"
         ],
         "type": "scatter3d",
         "x": [
          5.190680980682373
         ],
         "y": [
          7.28201150894165
         ],
         "z": [
          10.499109268188477
         ]
        },
        {
         "marker": {
          "size": 6
         },
         "mode": "markers",
         "name": "training",
         "text": [
          "training"
         ],
         "type": "scatter3d",
         "x": [
          5.404679298400879
         ],
         "y": [
          6.829451084136963
         ],
         "z": [
          11.031621932983398
         ]
        },
        {
         "marker": {
          "size": 6
         },
         "mode": "markers",
         "name": "program",
         "text": [
          "program"
         ],
         "type": "scatter3d",
         "x": [
          5.522799968719482
         ],
         "y": [
          7.366931438446045
         ],
         "z": [
          10.716952323913574
         ]
        },
        {
         "marker": {
          "size": 6
         },
         "mode": "markers",
         "name": "provided",
         "text": [
          "provided"
         ],
         "type": "scatter3d",
         "x": [
          4.531425476074219
         ],
         "y": [
          7.37394380569458
         ],
         "z": [
          9.369571685791016
         ]
        },
        {
         "marker": {
          "size": 6
         },
         "mode": "markers",
         "name": "to",
         "text": [
          "to"
         ],
         "type": "scatter3d",
         "x": [
          3.4197468757629395
         ],
         "y": [
          6.496860027313232
         ],
         "z": [
          9.507170677185059
         ]
        },
        {
         "marker": {
          "size": 6
         },
         "mode": "markers",
         "name": "employees",
         "text": [
          "employees"
         ],
         "type": "scatter3d",
         "x": [
          5.919462203979492
         ],
         "y": [
          7.0209856033325195
         ],
         "z": [
          11.562512397766113
         ]
        },
        {
         "marker": {
          "size": 6
         },
         "mode": "markers",
         "name": "of",
         "text": [
          "of"
         ],
         "type": "scatter3d",
         "x": [
          3.599604368209839
         ],
         "y": [
          6.717939853668213
         ],
         "z": [
          10.335199356079102
         ]
        },
        {
         "marker": {
          "size": 6
         },
         "mode": "markers",
         "name": "the",
         "text": [
          "the"
         ],
         "type": "scatter3d",
         "x": [
          3.246525764465332
         ],
         "y": [
          7.22366189956665
         ],
         "z": [
          10.418774604797363
         ]
        },
        {
         "marker": {
          "size": 6
         },
         "mode": "markers",
         "name": "taxpayer",
         "text": [
          "taxpayer"
         ],
         "type": "scatter3d",
         "x": [
          3.5783417224884033
         ],
         "y": [
          6.219783306121826
         ],
         "z": [
          7.432204246520996
         ]
        },
        {
         "marker": {
          "size": 6
         },
         "mode": "markers",
         "name": "which",
         "text": [
          "which"
         ],
         "type": "scatter3d",
         "x": [
          3.097245693206787
         ],
         "y": [
          7.952991008758545
         ],
         "z": [
          9.623091697692871
         ]
        },
        {
         "marker": {
          "size": 6
         },
         "mode": "markers",
         "name": "is",
         "text": [
          "is"
         ],
         "type": "scatter3d",
         "x": [
          3.163651704788208
         ],
         "y": [
          7.762439727783203
         ],
         "z": [
          9.257213592529297
         ]
        },
        {
         "marker": {
          "size": 6
         },
         "mode": "markers",
         "name": "determined",
         "text": [
          "determined"
         ],
         "type": "scatter3d",
         "x": [
          4.0708136558532715
         ],
         "y": [
          7.6868414878845215
         ],
         "z": [
          8.693342208862305
         ]
        },
        {
         "marker": {
          "size": 6
         },
         "mode": "markers",
         "name": "by",
         "text": [
          "by"
         ],
         "type": "scatter3d",
         "x": [
          3.4192957878112793
         ],
         "y": [
          6.553720951080322
         ],
         "z": [
          10.322800636291504
         ]
        },
        {
         "marker": {
          "size": 6
         },
         "mode": "markers",
         "name": "such",
         "text": [
          "such"
         ],
         "type": "scatter3d",
         "x": [
          -0.0418693944811821
         ],
         "y": [
          8.046793937683105
         ],
         "z": [
          8.090150833129883
         ]
        },
        {
         "marker": {
          "size": 6
         },
         "mode": "markers",
         "name": "teacher",
         "text": [
          "teacher"
         ],
         "type": "scatter3d",
         "x": [
          6.24294900894165
         ],
         "y": [
          6.771824359893799
         ],
         "z": [
          11.854268074035645
         ]
        },
        {
         "marker": {
          "size": 6
         },
         "mode": "markers",
         "name": "'",
         "text": [
          "'"
         ],
         "type": "scatter3d",
         "x": [
          2.3627026081085205
         ],
         "y": [
          6.326229572296143
         ],
         "z": [
          7.328404426574707
         ]
        },
        {
         "marker": {
          "size": 6
         },
         "mode": "markers",
         "name": "s",
         "text": [
          "s"
         ],
         "type": "scatter3d",
         "x": [
          3.6823108196258545
         ],
         "y": [
          7.0775041580200195
         ],
         "z": [
          10.750744819641113
         ]
        },
        {
         "marker": {
          "size": 6
         },
         "mode": "markers",
         "name": "school",
         "text": [
          "school"
         ],
         "type": "scatter3d",
         "x": [
          5.959042072296143
         ],
         "y": [
          7.697857856750488
         ],
         "z": [
          12.02485466003418
         ]
        },
        {
         "marker": {
          "size": 6
         },
         "mode": "markers",
         "name": "as",
         "text": [
          "as"
         ],
         "type": "scatter3d",
         "x": [
          3.68617582321167
         ],
         "y": [
          7.3549933433532715
         ],
         "z": [
          9.10779857635498
         ]
        },
        {
         "marker": {
          "size": 6
         },
         "mode": "markers",
         "name": "enhancing",
         "text": [
          "enhancing"
         ],
         "type": "scatter3d",
         "x": [
          4.541797637939453
         ],
         "y": [
          7.083037376403809
         ],
         "z": [
          10.115017890930176
         ]
        },
        {
         "marker": {
          "size": 6
         },
         "mode": "markers",
         "name": "such",
         "text": [
          "such"
         ],
         "type": "scatter3d",
         "x": [
          -0.0388895608484745
         ],
         "y": [
          8.048521995544434
         ],
         "z": [
          8.08834457397461
         ]
        },
        {
         "marker": {
          "size": 6
         },
         "mode": "markers",
         "name": "teacher",
         "text": [
          "teacher"
         ],
         "type": "scatter3d",
         "x": [
          6.216111660003662
         ],
         "y": [
          6.770037651062012
         ],
         "z": [
          11.81937313079834
         ]
        },
        {
         "marker": {
          "size": 6
         },
         "mode": "markers",
         "name": "'",
         "text": [
          "'"
         ],
         "type": "scatter3d",
         "x": [
          3.8613908290863037
         ],
         "y": [
          7.0208892822265625
         ],
         "z": [
          10.828557014465332
         ]
        },
        {
         "marker": {
          "size": 6
         },
         "mode": "markers",
         "name": "s",
         "text": [
          "s"
         ],
         "type": "scatter3d",
         "x": [
          3.8971056938171387
         ],
         "y": [
          7.013764381408691
         ],
         "z": [
          10.760991096496582
         ]
        },
        {
         "marker": {
          "size": 6
         },
         "mode": "markers",
         "name": "teaching",
         "text": [
          "teaching"
         ],
         "type": "scatter3d",
         "x": [
          6.0740814208984375
         ],
         "y": [
          6.89995813369751
         ],
         "z": [
          11.684538841247559
         ]
        },
        {
         "marker": {
          "size": 6
         },
         "mode": "markers",
         "name": "skills",
         "text": [
          "skills"
         ],
         "type": "scatter3d",
         "x": [
          5.320230960845947
         ],
         "y": [
          6.986774444580078
         ],
         "z": [
          10.918896675109863
         ]
        },
        {
         "marker": {
          "size": 6
         },
         "mode": "markers",
         "name": "in",
         "text": [
          "in"
         ],
         "type": "scatter3d",
         "x": [
          4.26617956161499
         ],
         "y": [
          8.215545654296875
         ],
         "z": [
          10.210481643676758
         ]
        },
        {
         "marker": {
          "size": 6
         },
         "mode": "markers",
         "name": "the",
         "text": [
          "the"
         ],
         "type": "scatter3d",
         "x": [
          3.7715301513671875
         ],
         "y": [
          8.061355590820312
         ],
         "z": [
          10.736541748046875
         ]
        },
        {
         "marker": {
          "size": 6
         },
         "mode": "markers",
         "name": "areas",
         "text": [
          "areas"
         ],
         "type": "scatter3d",
         "x": [
          4.716151237487793
         ],
         "y": [
          8.225678443908691
         ],
         "z": [
          11.429808616638184
         ]
        },
        {
         "marker": {
          "size": 6
         },
         "mode": "markers",
         "name": "of",
         "text": [
          "of"
         ],
         "type": "scatter3d",
         "x": [
          4.416353702545166
         ],
         "y": [
          8.082906723022461
         ],
         "z": [
          11.208969116210938
         ]
        },
        {
         "marker": {
          "size": 6
         },
         "mode": "markers",
         "name": "science",
         "text": [
          "science"
         ],
         "type": "scatter3d",
         "x": [
          5.374781131744385
         ],
         "y": [
          16.342304229736328
         ],
         "z": [
          9.908224105834961
         ]
        },
        {
         "marker": {
          "size": 6
         },
         "mode": "markers",
         "name": ",",
         "text": [
          ","
         ],
         "type": "scatter3d",
         "x": [
          2.9580979347229004
         ],
         "y": [
          1.4673960208892822
         ],
         "z": [
          7.955136775970459
         ]
        },
        {
         "marker": {
          "size": 6
         },
         "mode": "markers",
         "name": "technology",
         "text": [
          "technology"
         ],
         "type": "scatter3d",
         "x": [
          5.18035888671875
         ],
         "y": [
          17.08371353149414
         ],
         "z": [
          10.406813621520996
         ]
        },
        {
         "marker": {
          "size": 6
         },
         "mode": "markers",
         "name": ",",
         "text": [
          ","
         ],
         "type": "scatter3d",
         "x": [
          2.9480438232421875
         ],
         "y": [
          1.4776901006698608
         ],
         "z": [
          7.943609714508057
         ]
        },
        {
         "marker": {
          "size": 6
         },
         "mode": "markers",
         "name": "engineering",
         "text": [
          "engineering"
         ],
         "type": "scatter3d",
         "x": [
          3.97076153755188
         ],
         "y": [
          16.410888671875
         ],
         "z": [
          9.793883323669434
         ]
        },
        {
         "marker": {
          "size": 6
         },
         "mode": "markers",
         "name": ",",
         "text": [
          ","
         ],
         "type": "scatter3d",
         "x": [
          1.6021921634674072
         ],
         "y": [
          4.466324806213379
         ],
         "z": [
          6.785765171051025
         ]
        },
        {
         "marker": {
          "size": 6
         },
         "mode": "markers",
         "name": "or",
         "text": [
          "or"
         ],
         "type": "scatter3d",
         "x": [
          1.9688634872436523
         ],
         "y": [
          2.1197755336761475
         ],
         "z": [
          8.567395210266113
         ]
        },
        {
         "marker": {
          "size": 6
         },
         "mode": "markers",
         "name": "mathematics",
         "text": [
          "mathematics"
         ],
         "type": "scatter3d",
         "x": [
          -4.71866512298584
         ],
         "y": [
          12.61086654663086
         ],
         "z": [
          12.31323528289795
         ]
        },
        {
         "marker": {
          "size": 6
         },
         "mode": "markers",
         "name": ".",
         "text": [
          "."
         ],
         "type": "scatter3d",
         "x": [
          2.5545105934143066
         ],
         "y": [
          6.124566555023193
         ],
         "z": [
          6.872817039489746
         ]
        },
        {
         "marker": {
          "size": 6
         },
         "mode": "markers",
         "name": "`",
         "text": [
          "`"
         ],
         "type": "scatter3d",
         "x": [
          -4.715939521789551
         ],
         "y": [
          -1.4921225309371948
         ],
         "z": [
          -0.8855688571929932
         ]
        },
        {
         "marker": {
          "size": 6
         },
         "mode": "markers",
         "name": "`",
         "text": [
          "`"
         ],
         "type": "scatter3d",
         "x": [
          -4.705495834350586
         ],
         "y": [
          -1.4715615510940552
         ],
         "z": [
          -0.8698422312736511
         ]
        },
        {
         "marker": {
          "size": 6
         },
         "mode": "markers",
         "name": "(",
         "text": [
          "("
         ],
         "type": "scatter3d",
         "x": [
          -3.105656385421753
         ],
         "y": [
          9.223569869995117
         ],
         "z": [
          -5.861603260040283
         ]
        },
        {
         "marker": {
          "size": 6
         },
         "mode": "markers",
         "name": "f",
         "text": [
          "f"
         ],
         "type": "scatter3d",
         "x": [
          4.0647783279418945
         ],
         "y": [
          10.728684425354004
         ],
         "z": [
          4.60312557220459
         ]
        },
        {
         "marker": {
          "size": 6
         },
         "mode": "markers",
         "name": ")",
         "text": [
          ")"
         ],
         "type": "scatter3d",
         "x": [
          5.515167236328125
         ],
         "y": [
          13.07826042175293
         ],
         "z": [
          -5.493377685546875
         ]
        },
        {
         "marker": {
          "size": 6
         },
         "mode": "markers",
         "name": "denial",
         "text": [
          "denial"
         ],
         "type": "scatter3d",
         "x": [
          3.551997184753418
         ],
         "y": [
          7.258832931518555
         ],
         "z": [
          8.53864860534668
         ]
        },
        {
         "marker": {
          "size": 6
         },
         "mode": "markers",
         "name": "of",
         "text": [
          "of"
         ],
         "type": "scatter3d",
         "x": [
          3.3853840827941895
         ],
         "y": [
          7.434391498565674
         ],
         "z": [
          8.489482879638672
         ]
        },
        {
         "marker": {
          "size": 6
         },
         "mode": "markers",
         "name": "double",
         "text": [
          "double"
         ],
         "type": "scatter3d",
         "x": [
          3.707474708557129
         ],
         "y": [
          7.227257251739502
         ],
         "z": [
          8.46642017364502
         ]
        },
        {
         "marker": {
          "size": 6
         },
         "mode": "markers",
         "name": "benefit",
         "text": [
          "benefit"
         ],
         "type": "scatter3d",
         "x": [
          4.042998313903809
         ],
         "y": [
          7.057127475738525
         ],
         "z": [
          8.60825252532959
         ]
        },
        {
         "marker": {
          "size": 6
         },
         "mode": "markers",
         "name": ".",
         "text": [
          "."
         ],
         "type": "scatter3d",
         "x": [
          -2.2343945503234863
         ],
         "y": [
          6.740808010101318
         ],
         "z": [
          2.5700926780700684
         ]
        },
        {
         "marker": {
          "size": 6
         },
         "mode": "markers",
         "name": "-",
         "text": [
          "-"
         ],
         "type": "scatter3d",
         "x": [
          6.182778358459473
         ],
         "y": [
          -3.829507827758789
         ],
         "z": [
          15.383162498474121
         ]
        },
        {
         "marker": {
          "size": 6
         },
         "mode": "markers",
         "name": "-",
         "text": [
          "-"
         ],
         "type": "scatter3d",
         "x": [
          2.822840452194214
         ],
         "y": [
          -2.9002931118011475
         ],
         "z": [
          -6.263834476470947
         ]
        },
        {
         "marker": {
          "size": 6
         },
         "mode": "markers",
         "name": "no",
         "text": [
          "no"
         ],
         "type": "scatter3d",
         "x": [
          3.331810712814331
         ],
         "y": [
          7.365566253662109
         ],
         "z": [
          8.77681827545166
         ]
        },
        {
         "marker": {
          "size": 6
         },
         "mode": "markers",
         "name": "de",
         "text": [
          "de"
         ],
         "type": "scatter3d",
         "x": [
          3.936936855316162
         ],
         "y": [
          6.991244792938232
         ],
         "z": [
          8.499018669128418
         ]
        },
        {
         "marker": {
          "size": 6
         },
         "mode": "markers",
         "name": "##duction",
         "text": [
          "##duction"
         ],
         "type": "scatter3d",
         "x": [
          3.983900785446167
         ],
         "y": [
          7.003710746765137
         ],
         "z": [
          8.506877899169922
         ]
        },
        {
         "marker": {
          "size": 6
         },
         "mode": "markers",
         "name": "shall",
         "text": [
          "shall"
         ],
         "type": "scatter3d",
         "x": [
          3.17859148979187
         ],
         "y": [
          7.655128479003906
         ],
         "z": [
          8.934577941894531
         ]
        },
        {
         "marker": {
          "size": 6
         },
         "mode": "markers",
         "name": "be",
         "text": [
          "be"
         ],
         "type": "scatter3d",
         "x": [
          3.345161199569702
         ],
         "y": [
          7.623561859130859
         ],
         "z": [
          8.798908233642578
         ]
        },
        {
         "marker": {
          "size": 6
         },
         "mode": "markers",
         "name": "allowed",
         "text": [
          "allowed"
         ],
         "type": "scatter3d",
         "x": [
          3.7176761627197266
         ],
         "y": [
          7.415594100952148
         ],
         "z": [
          8.775643348693848
         ]
        },
        {
         "marker": {
          "size": 6
         },
         "mode": "markers",
         "name": "under",
         "text": [
          "under"
         ],
         "type": "scatter3d",
         "x": [
          3.6197197437286377
         ],
         "y": [
          8.337395668029785
         ],
         "z": [
          7.834029674530029
         ]
        },
        {
         "marker": {
          "size": 6
         },
         "mode": "markers",
         "name": "this",
         "text": [
          "this"
         ],
         "type": "scatter3d",
         "x": [
          1.4706640243530273
         ],
         "y": [
          8.323909759521484
         ],
         "z": [
          7.4251322746276855
         ]
        },
        {
         "marker": {
          "size": 6
         },
         "mode": "markers",
         "name": "chapter",
         "text": [
          "chapter"
         ],
         "type": "scatter3d",
         "x": [
          2.8439388275146484
         ],
         "y": [
          8.362988471984863
         ],
         "z": [
          6.367578506469727
         ]
        },
        {
         "marker": {
          "size": 6
         },
         "mode": "markers",
         "name": "for",
         "text": [
          "for"
         ],
         "type": "scatter3d",
         "x": [
          3.7967236042022705
         ],
         "y": [
          6.352116584777832
         ],
         "z": [
          9.285683631896973
         ]
        },
        {
         "marker": {
          "size": 6
         },
         "mode": "markers",
         "name": "any",
         "text": [
          "any"
         ],
         "type": "scatter3d",
         "x": [
          2.301358222961426
         ],
         "y": [
          6.564164161682129
         ],
         "z": [
          9.58347225189209
         ]
        },
        {
         "marker": {
          "size": 6
         },
         "mode": "markers",
         "name": "amount",
         "text": [
          "amount"
         ],
         "type": "scatter3d",
         "x": [
          4.169922828674316
         ],
         "y": [
          6.835362434387207
         ],
         "z": [
          8.683545112609863
         ]
        },
        {
         "marker": {
          "size": 6
         },
         "mode": "markers",
         "name": "allowed",
         "text": [
          "allowed"
         ],
         "type": "scatter3d",
         "x": [
          3.987168312072754
         ],
         "y": [
          7.4457197189331055
         ],
         "z": [
          8.886075973510742
         ]
        },
        {
         "marker": {
          "size": 6
         },
         "mode": "markers",
         "name": "as",
         "text": [
          "as"
         ],
         "type": "scatter3d",
         "x": [
          3.703294515609741
         ],
         "y": [
          7.3613691329956055
         ],
         "z": [
          8.976316452026367
         ]
        },
        {
         "marker": {
          "size": 6
         },
         "mode": "markers",
         "name": "a",
         "text": [
          "a"
         ],
         "type": "scatter3d",
         "x": [
          3.6775524616241455
         ],
         "y": [
          7.333720684051514
         ],
         "z": [
          9.109097480773926
         ]
        },
        {
         "marker": {
          "size": 6
         },
         "mode": "markers",
         "name": "credit",
         "text": [
          "credit"
         ],
         "type": "scatter3d",
         "x": [
          4.251804351806641
         ],
         "y": [
          6.777192115783691
         ],
         "z": [
          8.463753700256348
         ]
        },
        {
         "marker": {
          "size": 6
         },
         "mode": "markers",
         "name": "under",
         "text": [
          "under"
         ],
         "type": "scatter3d",
         "x": [
          3.6152050495147705
         ],
         "y": [
          8.334731101989746
         ],
         "z": [
          7.821554660797119
         ]
        },
        {
         "marker": {
          "size": 6
         },
         "mode": "markers",
         "name": "this",
         "text": [
          "this"
         ],
         "type": "scatter3d",
         "x": [
          1.464503526687622
         ],
         "y": [
          8.341279029846191
         ],
         "z": [
          7.399174690246582
         ]
        },
        {
         "marker": {
          "size": 6
         },
         "mode": "markers",
         "name": "section",
         "text": [
          "section"
         ],
         "type": "scatter3d",
         "x": [
          2.835134506225586
         ],
         "y": [
          8.359548568725586
         ],
         "z": [
          6.413146495819092
         ]
        },
        {
         "marker": {
          "size": 6
         },
         "mode": "markers",
         "name": ".",
         "text": [
          "."
         ],
         "type": "scatter3d",
         "x": [
          -2.2568752765655518
         ],
         "y": [
          6.716622352600098
         ],
         "z": [
          2.5939245223999023
         ]
        },
        {
         "marker": {
          "size": 6
         },
         "mode": "markers",
         "name": "'",
         "text": [
          "'"
         ],
         "type": "scatter3d",
         "x": [
          3.159376621246338
         ],
         "y": [
          6.138936519622803
         ],
         "z": [
          14.874981880187988
         ]
        },
        {
         "marker": {
          "size": 6
         },
         "mode": "markers",
         "name": "'",
         "text": [
          "'"
         ],
         "type": "scatter3d",
         "x": [
          3.1112992763519287
         ],
         "y": [
          6.11740255355835
         ],
         "z": [
          14.895479202270508
         ]
        },
        {
         "marker": {
          "size": 6
         },
         "mode": "markers",
         "name": ".",
         "text": [
          "."
         ],
         "type": "scatter3d",
         "x": [
          -2.276869058609009
         ],
         "y": [
          6.695145606994629
         ],
         "z": [
          2.613551616668701
         ]
        },
        {
         "marker": {
          "size": 6
         },
         "mode": "markers",
         "name": "(",
         "text": [
          "("
         ],
         "type": "scatter3d",
         "x": [
          -3.169116258621216
         ],
         "y": [
          9.15747356414795
         ],
         "z": [
          -5.807040691375732
         ]
        },
        {
         "marker": {
          "size": 6
         },
         "mode": "markers",
         "name": "b",
         "text": [
          "b"
         ],
         "type": "scatter3d",
         "x": [
          4.019698143005371
         ],
         "y": [
          10.654886245727539
         ],
         "z": [
          4.674572944641113
         ]
        },
        {
         "marker": {
          "size": 6
         },
         "mode": "markers",
         "name": ")",
         "text": [
          ")"
         ],
         "type": "scatter3d",
         "x": [
          5.547433853149414
         ],
         "y": [
          13.015110969543457
         ],
         "z": [
          -5.43673038482666
         ]
        },
        {
         "marker": {
          "size": 6
         },
         "mode": "markers",
         "name": "conform",
         "text": [
          "conform"
         ],
         "type": "scatter3d",
         "x": [
          3.2471728324890137
         ],
         "y": [
          7.500068187713623
         ],
         "z": [
          8.154542922973633
         ]
        },
        {
         "marker": {
          "size": 6
         },
         "mode": "markers",
         "name": "##ing",
         "text": [
          "##ing"
         ],
         "type": "scatter3d",
         "x": [
          3.238147497177124
         ],
         "y": [
          7.529599666595459
         ],
         "z": [
          8.271485328674316
         ]
        },
        {
         "marker": {
          "size": 6
         },
         "mode": "markers",
         "name": "amendments",
         "text": [
          "amendments"
         ],
         "type": "scatter3d",
         "x": [
          2.4383647441864014
         ],
         "y": [
          8.033985137939453
         ],
         "z": [
          7.233364105224609
         ]
        },
        {
         "marker": {
          "size": 6
         },
         "mode": "markers",
         "name": ".",
         "text": [
          "."
         ],
         "type": "scatter3d",
         "x": [
          2.561523914337158
         ],
         "y": [
          6.115157604217529
         ],
         "z": [
          6.881061553955078
         ]
        },
        {
         "marker": {
          "size": 6
         },
         "mode": "markers",
         "name": "-",
         "text": [
          "-"
         ],
         "type": "scatter3d",
         "x": [
          6.209697723388672
         ],
         "y": [
          -3.8567042350769043
         ],
         "z": [
          15.354166984558105
         ]
        },
        {
         "marker": {
          "size": 6
         },
         "mode": "markers",
         "name": "-",
         "text": [
          "-"
         ],
         "type": "scatter3d",
         "x": [
          2.8419153690338135
         ],
         "y": [
          -2.8808321952819824
         ],
         "z": [
          -6.240751266479492
         ]
        },
        {
         "marker": {
          "size": 6
         },
         "mode": "markers",
         "name": "(",
         "text": [
          "("
         ],
         "type": "scatter3d",
         "x": [
          -3.2467737197875977
         ],
         "y": [
          9.076991081237793
         ],
         "z": [
          -5.7481513023376465
         ]
        },
        {
         "marker": {
          "size": 6
         },
         "mode": "markers",
         "name": "1",
         "text": [
          "1"
         ],
         "type": "scatter3d",
         "x": [
          3.6629672050476074
         ],
         "y": [
          10.247485160827637
         ],
         "z": [
          5.079012870788574
         ]
        },
        {
         "marker": {
          "size": 6
         },
         "mode": "markers",
         "name": ")",
         "text": [
          ")"
         ],
         "type": "scatter3d",
         "x": [
          5.458972930908203
         ],
         "y": [
          13.190967559814453
         ],
         "z": [
          -5.613188743591309
         ]
        },
        {
         "marker": {
          "size": 6
         },
         "mode": "markers",
         "name": "section",
         "text": [
          "section"
         ],
         "type": "scatter3d",
         "x": [
          3.108677387237549
         ],
         "y": [
          8.439655303955078
         ],
         "z": [
          6.216253757476807
         ]
        },
        {
         "marker": {
          "size": 6
         },
         "mode": "markers",
         "name": "38",
         "text": [
          "38"
         ],
         "type": "scatter3d",
         "x": [
          3.5020995140075684
         ],
         "y": [
          9.702249526977539
         ],
         "z": [
          5.4616804122924805
         ]
        },
        {
         "marker": {
          "size": 6
         },
         "mode": "markers",
         "name": "(",
         "text": [
          "("
         ],
         "type": "scatter3d",
         "x": [
          -3.6051697731018066
         ],
         "y": [
          8.672941207885742
         ],
         "z": [
          -5.682433605194092
         ]
        },
        {
         "marker": {
          "size": 6
         },
         "mode": "markers",
         "name": "b",
         "text": [
          "b"
         ],
         "type": "scatter3d",
         "x": [
          4.0695343017578125
         ],
         "y": [
          10.614396095275879
         ],
         "z": [
          4.739036560058594
         ]
        },
        {
         "marker": {
          "size": 6
         },
         "mode": "markers",
         "name": ")",
         "text": [
          ")"
         ],
         "type": "scatter3d",
         "x": [
          2.276242256164551
         ],
         "y": [
          6.252968788146973
         ],
         "z": [
          7.301955699920654
         ]
        },
        {
         "marker": {
          "size": 6
         },
         "mode": "markers",
         "name": "of",
         "text": [
          "of"
         ],
         "type": "scatter3d",
         "x": [
          3.274900197982788
         ],
         "y": [
          8.082691192626953
         ],
         "z": [
          7.320489883422852
         ]
        },
        {
         "marker": {
          "size": 6
         },
         "mode": "markers",
         "name": "such",
         "text": [
          "such"
         ],
         "type": "scatter3d",
         "x": [
          0.04114468768239021
         ],
         "y": [
          8.108907699584961
         ],
         "z": [
          8.016780853271484
         ]
        },
        {
         "marker": {
          "size": 6
         },
         "mode": "markers",
         "name": "code",
         "text": [
          "code"
         ],
         "type": "scatter3d",
         "x": [
          2.902292490005493
         ],
         "y": [
          8.378081321716309
         ],
         "z": [
          6.444108009338379
         ]
        },
        {
         "marker": {
          "size": 6
         },
         "mode": "markers",
         "name": "is",
         "text": [
          "is"
         ],
         "type": "scatter3d",
         "x": [
          3.0961570739746094
         ],
         "y": [
          7.750597953796387
         ],
         "z": [
          8.998223304748535
         ]
        },
        {
         "marker": {
          "size": 6
         },
         "mode": "markers",
         "name": "amended",
         "text": [
          "amended"
         ],
         "type": "scatter3d",
         "x": [
          2.34710955619812
         ],
         "y": [
          7.994954586029053
         ],
         "z": [
          7.254902362823486
         ]
        },
        {
         "marker": {
          "size": 6
         },
         "mode": "markers",
         "name": "by",
         "text": [
          "by"
         ],
         "type": "scatter3d",
         "x": [
          2.1829214096069336
         ],
         "y": [
          7.615267753601074
         ],
         "z": [
          7.617520332336426
         ]
        },
        {
         "marker": {
          "size": 6
         },
         "mode": "markers",
         "name": "striking",
         "text": [
          "striking"
         ],
         "type": "scatter3d",
         "x": [
          2.2213776111602783
         ],
         "y": [
          7.755475997924805
         ],
         "z": [
          7.441008567810059
         ]
        },
        {
         "marker": {
          "size": 6
         },
         "mode": "markers",
         "name": "`",
         "text": [
          "`"
         ],
         "type": "scatter3d",
         "x": [
          -4.709414958953857
         ],
         "y": [
          -0.8401384353637695
         ],
         "z": [
          -0.9486711025238037
         ]
        },
        {
         "marker": {
          "size": 6
         },
         "mode": "markers",
         "name": "`",
         "text": [
          "`"
         ],
         "type": "scatter3d",
         "x": [
          -4.688174247741699
         ],
         "y": [
          -0.7544432282447815
         ],
         "z": [
          -0.9302101135253906
         ]
        },
        {
         "marker": {
          "size": 6
         },
         "mode": "markers",
         "name": "plus",
         "text": [
          "plus"
         ],
         "type": "scatter3d",
         "x": [
          2.4682328701019287
         ],
         "y": [
          6.668227195739746
         ],
         "z": [
          7.210186958312988
         ]
        },
        {
         "marker": {
          "size": 6
         },
         "mode": "markers",
         "name": "'",
         "text": [
          "'"
         ],
         "type": "scatter3d",
         "x": [
          3.2018275260925293
         ],
         "y": [
          6.226153373718262
         ],
         "z": [
          14.773965835571289
         ]
        },
        {
         "marker": {
          "size": 6
         },
         "mode": "markers",
         "name": "'",
         "text": [
          "'"
         ],
         "type": "scatter3d",
         "x": [
          3.1494905948638916
         ],
         "y": [
          6.171581268310547
         ],
         "z": [
          14.830062866210938
         ]
        },
        {
         "marker": {
          "size": 6
         },
         "mode": "markers",
         "name": "at",
         "text": [
          "at"
         ],
         "type": "scatter3d",
         "x": [
          2.3460206985473633
         ],
         "y": [
          7.492009162902832
         ],
         "z": [
          7.6749749183654785
         ]
        },
        {
         "marker": {
          "size": 6
         },
         "mode": "markers",
         "name": "the",
         "text": [
          "the"
         ],
         "type": "scatter3d",
         "x": [
          2.1663877964019775
         ],
         "y": [
          7.225034713745117
         ],
         "z": [
          8.0686616897583
         ]
        },
        {
         "marker": {
          "size": 6
         },
         "mode": "markers",
         "name": "end",
         "text": [
          "end"
         ],
         "type": "scatter3d",
         "x": [
          2.6258673667907715
         ],
         "y": [
          7.431751728057861
         ],
         "z": [
          7.470015048980713
         ]
        },
        {
         "marker": {
          "size": 6
         },
         "mode": "markers",
         "name": "of",
         "text": [
          "of"
         ],
         "type": "scatter3d",
         "x": [
          3.199002981185913
         ],
         "y": [
          7.961963176727295
         ],
         "z": [
          7.388731002807617
         ]
        },
        {
         "marker": {
          "size": 6
         },
         "mode": "markers",
         "name": "paragraph",
         "text": [
          "paragraph"
         ],
         "type": "scatter3d",
         "x": [
          2.9333982467651367
         ],
         "y": [
          8.387264251708984
         ],
         "z": [
          6.247503280639648
         ]
        },
        {
         "marker": {
          "size": 6
         },
         "mode": "markers",
         "name": "(",
         "text": [
          "("
         ],
         "type": "scatter3d",
         "x": [
          -3.4563770294189453
         ],
         "y": [
          8.834300994873047
         ],
         "z": [
          -5.729990005493164
         ]
        },
        {
         "marker": {
          "size": 6
         },
         "mode": "markers",
         "name": "30",
         "text": [
          "30"
         ],
         "type": "scatter3d",
         "x": [
          3.5825600624084473
         ],
         "y": [
          9.9633150100708
         ],
         "z": [
          5.229873180389404
         ]
        },
        {
         "marker": {
          "size": 6
         },
         "mode": "markers",
         "name": ")",
         "text": [
          ")"
         ],
         "type": "scatter3d",
         "x": [
          2.1340737342834473
         ],
         "y": [
          6.188809871673584
         ],
         "z": [
          7.314910888671875
         ]
        },
        {
         "marker": {
          "size": 6
         },
         "mode": "markers",
         "name": ",",
         "text": [
          ","
         ],
         "type": "scatter3d",
         "x": [
          1.6947174072265625
         ],
         "y": [
          4.051449298858643
         ],
         "z": [
          6.989218235015869
         ]
        },
        {
         "marker": {
          "size": 6
         },
         "mode": "markers",
         "name": "by",
         "text": [
          "by"
         ],
         "type": "scatter3d",
         "x": [
          2.141505241394043
         ],
         "y": [
          7.575544357299805
         ],
         "z": [
          7.606955051422119
         ]
        },
        {
         "marker": {
          "size": 6
         },
         "mode": "markers",
         "name": "striking",
         "text": [
          "striking"
         ],
         "type": "scatter3d",
         "x": [
          2.2752678394317627
         ],
         "y": [
          7.709933280944824
         ],
         "z": [
          7.484807968139648
         ]
        },
        {
         "marker": {
          "size": 6
         },
         "mode": "markers",
         "name": "the",
         "text": [
          "the"
         ],
         "type": "scatter3d",
         "x": [
          2.739626884460449
         ],
         "y": [
          7.321372985839844
         ],
         "z": [
          8.524428367614746
         ]
        },
        {
         "marker": {
          "size": 6
         },
         "mode": "markers",
         "name": "period",
         "text": [
          "period"
         ],
         "type": "scatter3d",
         "x": [
          3.7231788635253906
         ],
         "y": [
          7.026193618774414
         ],
         "z": [
          8.237771034240723
         ]
        },
        {
         "marker": {
          "size": 6
         },
         "mode": "markers",
         "name": "at",
         "text": [
          "at"
         ],
         "type": "scatter3d",
         "x": [
          2.401994228363037
         ],
         "y": [
          7.477960586547852
         ],
         "z": [
          7.689417839050293
         ]
        },
        {
         "marker": {
          "size": 6
         },
         "mode": "markers",
         "name": "the",
         "text": [
          "the"
         ],
         "type": "scatter3d",
         "x": [
          2.2318804264068604
         ],
         "y": [
          6.751437187194824
         ],
         "z": [
          7.689174175262451
         ]
        },
        {
         "marker": {
          "size": 6
         },
         "mode": "markers",
         "name": "end",
         "text": [
          "end"
         ],
         "type": "scatter3d",
         "x": [
          2.642930746078491
         ],
         "y": [
          7.464085102081299
         ],
         "z": [
          7.443600654602051
         ]
        },
        {
         "marker": {
          "size": 6
         },
         "mode": "markers",
         "name": "of",
         "text": [
          "of"
         ],
         "type": "scatter3d",
         "x": [
          3.127878189086914
         ],
         "y": [
          7.89491081237793
         ],
         "z": [
          7.419334411621094
         ]
        },
        {
         "marker": {
          "size": 6
         },
         "mode": "markers",
         "name": "paragraph",
         "text": [
          "paragraph"
         ],
         "type": "scatter3d",
         "x": [
          2.869328737258911
         ],
         "y": [
          8.319077491760254
         ],
         "z": [
          6.324544906616211
         ]
        },
        {
         "marker": {
          "size": 6
         },
         "mode": "markers",
         "name": "(",
         "text": [
          "("
         ],
         "type": "scatter3d",
         "x": [
          -3.427041530609131
         ],
         "y": [
          8.867310523986816
         ],
         "z": [
          -5.7420125007629395
         ]
        },
        {
         "marker": {
          "size": 6
         },
         "mode": "markers",
         "name": "31",
         "text": [
          "31"
         ],
         "type": "scatter3d",
         "x": [
          3.6439051628112793
         ],
         "y": [
          10.064799308776855
         ],
         "z": [
          5.1708903312683105
         ]
        },
        {
         "marker": {
          "size": 6
         },
         "mode": "markers",
         "name": ")",
         "text": [
          ")"
         ],
         "type": "scatter3d",
         "x": [
          5.663053512573242
         ],
         "y": [
          13.212347984313965
         ],
         "z": [
          -6.055716514587402
         ]
        },
        {
         "marker": {
          "size": 6
         },
         "mode": "markers",
         "name": ",",
         "text": [
          ","
         ],
         "type": "scatter3d",
         "x": [
          1.66694176197052
         ],
         "y": [
          4.140146255493164
         ],
         "z": [
          6.951813697814941
         ]
        },
        {
         "marker": {
          "size": 6
         },
         "mode": "markers",
         "name": "and",
         "text": [
          "and"
         ],
         "type": "scatter3d",
         "x": [
          2.0109424591064453
         ],
         "y": [
          3.749864339828491
         ],
         "z": [
          7.378090858459473
         ]
        },
        {
         "marker": {
          "size": 6
         },
         "mode": "markers",
         "name": "insert",
         "text": [
          "insert"
         ],
         "type": "scatter3d",
         "x": [
          2.2245988845825195
         ],
         "y": [
          7.763505458831787
         ],
         "z": [
          7.421485424041748
         ]
        },
        {
         "marker": {
          "size": 6
         },
         "mode": "markers",
         "name": "##ing",
         "text": [
          "##ing"
         ],
         "type": "scatter3d",
         "x": [
          2.2438836097717285
         ],
         "y": [
          7.709138870239258
         ],
         "z": [
          7.463733196258545
         ]
        },
        {
         "marker": {
          "size": 6
         },
         "mode": "markers",
         "name": "`",
         "text": [
          "`"
         ],
         "type": "scatter3d",
         "x": [
          -4.707655906677246
         ],
         "y": [
          -0.8406920433044434
         ],
         "z": [
          -0.9486538767814636
         ]
        },
        {
         "marker": {
          "size": 6
         },
         "mode": "markers",
         "name": "`",
         "text": [
          "`"
         ],
         "type": "scatter3d",
         "x": [
          -4.7218098640441895
         ],
         "y": [
          -0.9603369832038879
         ],
         "z": [
          -0.9692859649658203
         ]
        },
        {
         "marker": {
          "size": 6
         },
         "mode": "markers",
         "name": ",",
         "text": [
          ","
         ],
         "type": "scatter3d",
         "x": [
          1.644598126411438
         ],
         "y": [
          4.104065418243408
         ],
         "z": [
          6.992408275604248
         ]
        },
        {
         "marker": {
          "size": 6
         },
         "mode": "markers",
         "name": "plus",
         "text": [
          "plus"
         ],
         "type": "scatter3d",
         "x": [
          2.3859455585479736
         ],
         "y": [
          7.032848358154297
         ],
         "z": [
          7.244320869445801
         ]
        },
        {
         "marker": {
          "size": 6
         },
         "mode": "markers",
         "name": "'",
         "text": [
          "'"
         ],
         "type": "scatter3d",
         "x": [
          3.142765522003174
         ],
         "y": [
          6.157139301300049
         ],
         "z": [
          14.845081329345703
         ]
        },
        {
         "marker": {
          "size": 6
         },
         "mode": "markers",
         "name": "'",
         "text": [
          "'"
         ],
         "type": "scatter3d",
         "x": [
          3.140897035598755
         ],
         "y": [
          6.152661323547363
         ],
         "z": [
          14.854082107543945
         ]
        },
        {
         "marker": {
          "size": 6
         },
         "mode": "markers",
         "name": ",",
         "text": [
          ","
         ],
         "type": "scatter3d",
         "x": [
          1.6568892002105713
         ],
         "y": [
          4.152945041656494
         ],
         "z": [
          6.947457313537598
         ]
        },
        {
         "marker": {
          "size": 6
         },
         "mode": "markers",
         "name": "and",
         "text": [
          "and"
         ],
         "type": "scatter3d",
         "x": [
          1.9309663772583008
         ],
         "y": [
          3.650505542755127
         ],
         "z": [
          7.3063645362854
         ]
        },
        {
         "marker": {
          "size": 6
         },
         "mode": "markers",
         "name": "by",
         "text": [
          "by"
         ],
         "type": "scatter3d",
         "x": [
          2.1602985858917236
         ],
         "y": [
          7.6022772789001465
         ],
         "z": [
          7.62033224105835
         ]
        },
        {
         "marker": {
          "size": 6
         },
         "mode": "markers",
         "name": "adding",
         "text": [
          "adding"
         ],
         "type": "scatter3d",
         "x": [
          2.247211456298828
         ],
         "y": [
          7.7616705894470215
         ],
         "z": [
          7.428288459777832
         ]
        },
        {
         "marker": {
          "size": 6
         },
         "mode": "markers",
         "name": "at",
         "text": [
          "at"
         ],
         "type": "scatter3d",
         "x": [
          2.3614919185638428
         ],
         "y": [
          7.484650135040283
         ],
         "z": [
          7.70310640335083
         ]
        },
        {
         "marker": {
          "size": 6
         },
         "mode": "markers",
         "name": "the",
         "text": [
          "the"
         ],
         "type": "scatter3d",
         "x": [
          2.2612555027008057
         ],
         "y": [
          6.656035423278809
         ],
         "z": [
          7.601309776306152
         ]
        },
        {
         "marker": {
          "size": 6
         },
         "mode": "markers",
         "name": "end",
         "text": [
          "end"
         ],
         "type": "scatter3d",
         "x": [
          2.6108522415161133
         ],
         "y": [
          7.423081398010254
         ],
         "z": [
          7.44508171081543
         ]
        },
        {
         "marker": {
          "size": 6
         },
         "mode": "markers",
         "name": "the",
         "text": [
          "the"
         ],
         "type": "scatter3d",
         "x": [
          1.998759150505066
         ],
         "y": [
          7.409454822540283
         ],
         "z": [
          8.132187843322754
         ]
        },
        {
         "marker": {
          "size": 6
         },
         "mode": "markers",
         "name": "following",
         "text": [
          "following"
         ],
         "type": "scatter3d",
         "x": [
          1.577691674232483
         ],
         "y": [
          8.184521675109863
         ],
         "z": [
          7.479654788970947
         ]
        },
        {
         "marker": {
          "size": 6
         },
         "mode": "markers",
         "name": "new",
         "text": [
          "new"
         ],
         "type": "scatter3d",
         "x": [
          2.183175563812256
         ],
         "y": [
          8.034011840820312
         ],
         "z": [
          7.298576354980469
         ]
        },
        {
         "marker": {
          "size": 6
         },
         "mode": "markers",
         "name": "paragraph",
         "text": [
          "paragraph"
         ],
         "type": "scatter3d",
         "x": [
          2.8652050495147705
         ],
         "y": [
          8.337514877319336
         ],
         "z": [
          6.312436103820801
         ]
        },
        {
         "marker": {
          "size": 6
         },
         "mode": "markers",
         "name": ":",
         "text": [
          ":"
         ],
         "type": "scatter3d",
         "x": [
          4.977631568908691
         ],
         "y": [
          2.144432544708252
         ],
         "z": [
          0.6667037606239319
         ]
        },
        {
         "marker": {
          "size": 6
         },
         "mode": "markers",
         "name": "`",
         "text": [
          "`"
         ],
         "type": "scatter3d",
         "x": [
          -4.693757057189941
         ],
         "y": [
          -1.0833872556686401
         ],
         "z": [
          -0.9193408489227295
         ]
        },
        {
         "marker": {
          "size": 6
         },
         "mode": "markers",
         "name": "`",
         "text": [
          "`"
         ],
         "type": "scatter3d",
         "x": [
          -4.692885875701904
         ],
         "y": [
          -1.0726820230484009
         ],
         "z": [
          -0.9219405055046082
         ]
        },
        {
         "marker": {
          "size": 6
         },
         "mode": "markers",
         "name": "(",
         "text": [
          "("
         ],
         "type": "scatter3d",
         "x": [
          -3.222602605819702
         ],
         "y": [
          9.101269721984863
         ],
         "z": [
          -5.813671112060547
         ]
        },
        {
         "marker": {
          "size": 6
         },
         "mode": "markers",
         "name": "32",
         "text": [
          "32"
         ],
         "type": "scatter3d",
         "x": [
          3.7748863697052
         ],
         "y": [
          10.33613109588623
         ],
         "z": [
          4.933996677398682
         ]
        },
        {
         "marker": {
          "size": 6
         },
         "mode": "markers",
         "name": ")",
         "text": [
          ")"
         ],
         "type": "scatter3d",
         "x": [
          5.509349346160889
         ],
         "y": [
          13.131699562072754
         ],
         "z": [
          -5.563449382781982
         ]
        },
        {
         "marker": {
          "size": 6
         },
         "mode": "markers",
         "name": "the",
         "text": [
          "the"
         ],
         "type": "scatter3d",
         "x": [
          2.9161877632141113
         ],
         "y": [
          7.327878952026367
         ],
         "z": [
          8.681324005126953
         ]
        },
        {
         "marker": {
          "size": 6
         },
         "mode": "markers",
         "name": "elementary",
         "text": [
          "elementary"
         ],
         "type": "scatter3d",
         "x": [
          6.263501167297363
         ],
         "y": [
          8.391756057739258
         ],
         "z": [
          12.7128267288208
         ]
        },
        {
         "marker": {
          "size": 6
         },
         "mode": "markers",
         "name": "and",
         "text": [
          "and"
         ],
         "type": "scatter3d",
         "x": [
          2.2744815349578857
         ],
         "y": [
          2.2911529541015625
         ],
         "z": [
          7.98881721496582
         ]
        },
        {
         "marker": {
          "size": 6
         },
         "mode": "markers",
         "name": "secondary",
         "text": [
          "secondary"
         ],
         "type": "scatter3d",
         "x": [
          6.282739162445068
         ],
         "y": [
          8.41476058959961
         ],
         "z": [
          12.73741626739502
         ]
        },
        {
         "marker": {
          "size": 6
         },
         "mode": "markers",
         "name": "science",
         "text": [
          "science"
         ],
         "type": "scatter3d",
         "x": [
          5.388408660888672
         ],
         "y": [
          16.35437774658203
         ],
         "z": [
          9.920493125915527
         ]
        },
        {
         "marker": {
          "size": 6
         },
         "mode": "markers",
         "name": ",",
         "text": [
          ","
         ],
         "type": "scatter3d",
         "x": [
          2.9283344745635986
         ],
         "y": [
          1.4945201873779297
         ],
         "z": [
          7.959916114807129
         ]
        },
        {
         "marker": {
          "size": 6
         },
         "mode": "markers",
         "name": "technology",
         "text": [
          "technology"
         ],
         "type": "scatter3d",
         "x": [
          5.175380229949951
         ],
         "y": [
          17.078153610229492
         ],
         "z": [
          10.402290344238281
         ]
        },
        {
         "marker": {
          "size": 6
         },
         "mode": "markers",
         "name": ",",
         "text": [
          ","
         ],
         "type": "scatter3d",
         "x": [
          2.9520208835601807
         ],
         "y": [
          1.4697544574737549
         ],
         "z": [
          7.93556547164917
         ]
        },
        {
         "marker": {
          "size": 6
         },
         "mode": "markers",
         "name": "engineering",
         "text": [
          "engineering"
         ],
         "type": "scatter3d",
         "x": [
          3.9469547271728516
         ],
         "y": [
          16.3853816986084
         ],
         "z": [
          9.768178939819336
         ]
        },
        {
         "marker": {
          "size": 6
         },
         "mode": "markers",
         "name": ",",
         "text": [
          ","
         ],
         "type": "scatter3d",
         "x": [
          1.5708911418914795
         ],
         "y": [
          4.3831467628479
         ],
         "z": [
          6.776180267333984
         ]
        },
        {
         "marker": {
          "size": 6
         },
         "mode": "markers",
         "name": "and",
         "text": [
          "and"
         ],
         "type": "scatter3d",
         "x": [
          2.3777475357055664
         ],
         "y": [
          2.1482250690460205
         ],
         "z": [
          8.030282020568848
         ]
        },
        {
         "marker": {
          "size": 6
         },
         "mode": "markers",
         "name": "mathematics",
         "text": [
          "mathematics"
         ],
         "type": "scatter3d",
         "x": [
          -4.699824333190918
         ],
         "y": [
          12.592033386230469
         ],
         "z": [
          12.332080841064453
         ]
        },
        {
         "marker": {
          "size": 6
         },
         "mode": "markers",
         "name": "(",
         "text": [
          "("
         ],
         "type": "scatter3d",
         "x": [
          -3.410839080810547
         ],
         "y": [
          8.888177871704102
         ],
         "z": [
          -5.784140110015869
         ]
        },
        {
         "marker": {
          "size": 6
         },
         "mode": "markers",
         "name": "stem",
         "text": [
          "stem"
         ],
         "type": "scatter3d",
         "x": [
          6.2188005447387695
         ],
         "y": [
          3.198000907897949
         ],
         "z": [
          10.923972129821777
         ]
        },
        {
         "marker": {
          "size": 6
         },
         "mode": "markers",
         "name": ")",
         "text": [
          ")"
         ],
         "type": "scatter3d",
         "x": [
          5.688530445098877
         ],
         "y": [
          13.145169258117676
         ],
         "z": [
          -5.997729778289795
         ]
        },
        {
         "marker": {
          "size": 6
         },
         "mode": "markers",
         "name": "contributions",
         "text": [
          "contributions"
         ],
         "type": "scatter3d",
         "x": [
          5.968951225280762
         ],
         "y": [
          6.587630271911621
         ],
         "z": [
          8.932027816772461
         ]
        },
        {
         "marker": {
          "size": 6
         },
         "mode": "markers",
         "name": "credit",
         "text": [
          "credit"
         ],
         "type": "scatter3d",
         "x": [
          4.3002095222473145
         ],
         "y": [
          6.745635509490967
         ],
         "z": [
          8.451910018920898
         ]
        },
        {
         "marker": {
          "size": 6
         },
         "mode": "markers",
         "name": "determined",
         "text": [
          "determined"
         ],
         "type": "scatter3d",
         "x": [
          4.032040596008301
         ],
         "y": [
          7.692942142486572
         ],
         "z": [
          8.65061092376709
         ]
        },
        {
         "marker": {
          "size": 6
         },
         "mode": "markers",
         "name": "under",
         "text": [
          "under"
         ],
         "type": "scatter3d",
         "x": [
          3.626811981201172
         ],
         "y": [
          8.30699634552002
         ],
         "z": [
          7.84114933013916
         ]
        },
        {
         "marker": {
          "size": 6
         },
         "mode": "markers",
         "name": "section",
         "text": [
          "section"
         ],
         "type": "scatter3d",
         "x": [
          3.077702283859253
         ],
         "y": [
          8.459781646728516
         ],
         "z": [
          6.223869323730469
         ]
        },
        {
         "marker": {
          "size": 6
         },
         "mode": "markers",
         "name": "45",
         "text": [
          "45"
         ],
         "type": "scatter3d",
         "x": [
          3.5012471675872803
         ],
         "y": [
          9.710411071777344
         ],
         "z": [
          5.453793048858643
         ]
        },
        {
         "marker": {
          "size": 6
         },
         "mode": "markers",
         "name": "##o",
         "text": [
          "##o"
         ],
         "type": "scatter3d",
         "x": [
          3.651620864868164
         ],
         "y": [
          9.49839973449707
         ],
         "z": [
          5.692024230957031
         ]
        },
        {
         "marker": {
          "size": 6
         },
         "mode": "markers",
         "name": ".",
         "text": [
          "."
         ],
         "type": "scatter3d",
         "x": [
          -2.2718279361724854
         ],
         "y": [
          6.699545383453369
         ],
         "z": [
          2.6102168560028076
         ]
        },
        {
         "marker": {
          "size": 6
         },
         "mode": "markers",
         "name": "'",
         "text": [
          "'"
         ],
         "type": "scatter3d",
         "x": [
          3.1453683376312256
         ],
         "y": [
          6.156068325042725
         ],
         "z": [
          14.853148460388184
         ]
        },
        {
         "marker": {
          "size": 6
         },
         "mode": "markers",
         "name": "'",
         "text": [
          "'"
         ],
         "type": "scatter3d",
         "x": [
          3.1315999031066895
         ],
         "y": [
          6.14300537109375
         ],
         "z": [
          14.86660099029541
         ]
        },
        {
         "marker": {
          "size": 6
         },
         "mode": "markers",
         "name": ".",
         "text": [
          "."
         ],
         "type": "scatter3d",
         "x": [
          -2.2770402431488037
         ],
         "y": [
          6.696560382843018
         ],
         "z": [
          2.6128013134002686
         ]
        },
        {
         "marker": {
          "size": 6
         },
         "mode": "markers",
         "name": "(",
         "text": [
          "("
         ],
         "type": "scatter3d",
         "x": [
          -3.240515947341919
         ],
         "y": [
          9.084514617919922
         ],
         "z": [
          -5.755792617797852
         ]
        },
        {
         "marker": {
          "size": 6
         },
         "mode": "markers",
         "name": "2",
         "text": [
          "2"
         ],
         "type": "scatter3d",
         "x": [
          3.8230910301208496
         ],
         "y": [
          10.447223663330078
         ],
         "z": [
          4.859836578369141
         ]
        },
        {
         "marker": {
          "size": 6
         },
         "mode": "markers",
         "name": ")",
         "text": [
          ")"
         ],
         "type": "scatter3d",
         "x": [
          5.4624457359313965
         ],
         "y": [
          13.189067840576172
         ],
         "z": [
          -5.589698791503906
         ]
        },
        {
         "marker": {
          "size": 6
         },
         "mode": "markers",
         "name": "the",
         "text": [
          "the"
         ],
         "type": "scatter3d",
         "x": [
          2.728010654449463
         ],
         "y": [
          7.418141841888428
         ],
         "z": [
          8.468905448913574
         ]
        },
        {
         "marker": {
          "size": 6
         },
         "mode": "markers",
         "name": "table",
         "text": [
          "table"
         ],
         "type": "scatter3d",
         "x": [
          3.5202693939208984
         ],
         "y": [
          7.415308475494385
         ],
         "z": [
          8.129645347595215
         ]
        },
        {
         "marker": {
          "size": 6
         },
         "mode": "markers",
         "name": "of",
         "text": [
          "of"
         ],
         "type": "scatter3d",
         "x": [
          3.3401236534118652
         ],
         "y": [
          7.775654315948486
         ],
         "z": [
          7.720094203948975
         ]
        },
        {
         "marker": {
          "size": 6
         },
         "mode": "markers",
         "name": "sections",
         "text": [
          "sections"
         ],
         "type": "scatter3d",
         "x": [
          2.853855848312378
         ],
         "y": [
          8.128395080566406
         ],
         "z": [
          6.561242580413818
         ]
        },
        {
         "marker": {
          "size": 6
         },
         "mode": "markers",
         "name": "for",
         "text": [
          "for"
         ],
         "type": "scatter3d",
         "x": [
          3.8056986331939697
         ],
         "y": [
          6.2069573402404785
         ],
         "z": [
          9.16965103149414
         ]
        },
        {
         "marker": {
          "size": 6
         },
         "mode": "markers",
         "name": "sub",
         "text": [
          "sub"
         ],
         "type": "scatter3d",
         "x": [
          3.0800719261169434
         ],
         "y": [
          7.806552410125732
         ],
         "z": [
          6.632025718688965
         ]
        },
        {
         "marker": {
          "size": 6
         },
         "mode": "markers",
         "name": "##par",
         "text": [
          "##par"
         ],
         "type": "scatter3d",
         "x": [
          3.0883352756500244
         ],
         "y": [
          7.640841007232666
         ],
         "z": [
          6.747884750366211
         ]
        },
        {
         "marker": {
          "size": 6
         },
         "mode": "markers",
         "name": "##t",
         "text": [
          "##t"
         ],
         "type": "scatter3d",
         "x": [
          3.164590835571289
         ],
         "y": [
          7.892614841461182
         ],
         "z": [
          6.699414253234863
         ]
        },
        {
         "marker": {
          "size": 6
         },
         "mode": "markers",
         "name": "d",
         "text": [
          "d"
         ],
         "type": "scatter3d",
         "x": [
          3.961413860321045
         ],
         "y": [
          10.170477867126465
         ],
         "z": [
          5.201542377471924
         ]
        },
        {
         "marker": {
          "size": 6
         },
         "mode": "markers",
         "name": "of",
         "text": [
          "of"
         ],
         "type": "scatter3d",
         "x": [
          3.267940044403076
         ],
         "y": [
          8.036730766296387
         ],
         "z": [
          7.368417263031006
         ]
        },
        {
         "marker": {
          "size": 6
         },
         "mode": "markers",
         "name": "part",
         "text": [
          "part"
         ],
         "type": "scatter3d",
         "x": [
          3.101113796234131
         ],
         "y": [
          8.146915435791016
         ],
         "z": [
          6.423386096954346
         ]
        },
        {
         "marker": {
          "size": 6
         },
         "mode": "markers",
         "name": "iv",
         "text": [
          "iv"
         ],
         "type": "scatter3d",
         "x": [
          3.889864683151245
         ],
         "y": [
          10.103360176086426
         ],
         "z": [
          5.256341457366943
         ]
        },
        {
         "marker": {
          "size": 6
         },
         "mode": "markers",
         "name": "of",
         "text": [
          "of"
         ],
         "type": "scatter3d",
         "x": [
          3.260474443435669
         ],
         "y": [
          8.058488845825195
         ],
         "z": [
          7.299957752227783
         ]
        },
        {
         "marker": {
          "size": 6
         },
         "mode": "markers",
         "name": "sub",
         "text": [
          "sub"
         ],
         "type": "scatter3d",
         "x": [
          3.1043508052825928
         ],
         "y": [
          7.847074508666992
         ],
         "z": [
          6.598772048950195
         ]
        },
        {
         "marker": {
          "size": 6
         },
         "mode": "markers",
         "name": "##cha",
         "text": [
          "##cha"
         ],
         "type": "scatter3d",
         "x": [
          2.9393420219421387
         ],
         "y": [
          7.1239213943481445
         ],
         "z": [
          6.9878668785095215
         ]
        },
        {
         "marker": {
          "size": 6
         },
         "mode": "markers",
         "name": "##pt",
         "text": [
          "##pt"
         ],
         "type": "scatter3d",
         "x": [
          2.975067377090454
         ],
         "y": [
          7.234199523925781
         ],
         "z": [
          6.897312641143799
         ]
        },
        {
         "marker": {
          "size": 6
         },
         "mode": "markers",
         "name": "##er",
         "text": [
          "##er"
         ],
         "type": "scatter3d",
         "x": [
          3.171825885772705
         ],
         "y": [
          7.930165767669678
         ],
         "z": [
          6.660064697265625
         ]
        },
        {
         "marker": {
          "size": 6
         },
         "mode": "markers",
         "name": "a",
         "text": [
          "a"
         ],
         "type": "scatter3d",
         "x": [
          3.9303627014160156
         ],
         "y": [
          10.128562927246094
         ],
         "z": [
          5.242942810058594
         ]
        },
        {
         "marker": {
          "size": 6
         },
         "mode": "markers",
         "name": "of",
         "text": [
          "of"
         ],
         "type": "scatter3d",
         "x": [
          3.2650835514068604
         ],
         "y": [
          8.070145606994629
         ],
         "z": [
          7.312196254730225
         ]
        },
        {
         "marker": {
          "size": 6
         },
         "mode": "markers",
         "name": "chapter",
         "text": [
          "chapter"
         ],
         "type": "scatter3d",
         "x": [
          3.0589656829833984
         ],
         "y": [
          8.269195556640625
         ],
         "z": [
          6.333362579345703
         ]
        },
        {
         "marker": {
          "size": 6
         },
         "mode": "markers",
         "name": "1",
         "text": [
          "1"
         ],
         "type": "scatter3d",
         "x": [
          3.7262001037597656
         ],
         "y": [
          10.003231048583984
         ],
         "z": [
          5.300388813018799
         ]
        },
        {
         "marker": {
          "size": 6
         },
         "mode": "markers",
         "name": "of",
         "text": [
          "of"
         ],
         "type": "scatter3d",
         "x": [
          3.2670044898986816
         ],
         "y": [
          8.067558288574219
         ],
         "z": [
          7.316295623779297
         ]
        },
        {
         "marker": {
          "size": 6
         },
         "mode": "markers",
         "name": "such",
         "text": [
          "such"
         ],
         "type": "scatter3d",
         "x": [
          -0.0008879973902367055
         ],
         "y": [
          8.071172714233398
         ],
         "z": [
          8.058141708374023
         ]
        },
        {
         "marker": {
          "size": 6
         },
         "mode": "markers",
         "name": "code",
         "text": [
          "code"
         ],
         "type": "scatter3d",
         "x": [
          2.903337001800537
         ],
         "y": [
          8.383954048156738
         ],
         "z": [
          6.440303325653076
         ]
        },
        {
         "marker": {
          "size": 6
         },
         "mode": "markers",
         "name": "is",
         "text": [
          "is"
         ],
         "type": "scatter3d",
         "x": [
          3.0806972980499268
         ],
         "y": [
          7.758101463317871
         ],
         "z": [
          8.991846084594727
         ]
        },
        {
         "marker": {
          "size": 6
         },
         "mode": "markers",
         "name": "amended",
         "text": [
          "amended"
         ],
         "type": "scatter3d",
         "x": [
          2.3048369884490967
         ],
         "y": [
          7.983424186706543
         ],
         "z": [
          7.302167892456055
         ]
        },
        {
         "marker": {
          "size": 6
         },
         "mode": "markers",
         "name": "by",
         "text": [
          "by"
         ],
         "type": "scatter3d",
         "x": [
          2.177333354949951
         ],
         "y": [
          7.6175150871276855
         ],
         "z": [
          7.6437883377075195
         ]
        },
        {
         "marker": {
          "size": 6
         },
         "mode": "markers",
         "name": "adding",
         "text": [
          "adding"
         ],
         "type": "scatter3d",
         "x": [
          2.262174129486084
         ],
         "y": [
          7.799844264984131
         ],
         "z": [
          7.3693413734436035
         ]
        },
        {
         "marker": {
          "size": 6
         },
         "mode": "markers",
         "name": "at",
         "text": [
          "at"
         ],
         "type": "scatter3d",
         "x": [
          2.319943904876709
         ],
         "y": [
          7.460172653198242
         ],
         "z": [
          7.73620080947876
         ]
        },
        {
         "marker": {
          "size": 6
         },
         "mode": "markers",
         "name": "the",
         "text": [
          "the"
         ],
         "type": "scatter3d",
         "x": [
          2.0975165367126465
         ],
         "y": [
          7.27845573425293
         ],
         "z": [
          8.062838554382324
         ]
        },
        {
         "marker": {
          "size": 6
         },
         "mode": "markers",
         "name": "end",
         "text": [
          "end"
         ],
         "type": "scatter3d",
         "x": [
          2.6202945709228516
         ],
         "y": [
          7.379719257354736
         ],
         "z": [
          7.4235992431640625
         ]
        },
        {
         "marker": {
          "size": 6
         },
         "mode": "markers",
         "name": "the",
         "text": [
          "the"
         ],
         "type": "scatter3d",
         "x": [
          2.0029003620147705
         ],
         "y": [
          7.4298858642578125
         ],
         "z": [
          8.101265907287598
         ]
        },
        {
         "marker": {
          "size": 6
         },
         "mode": "markers",
         "name": "following",
         "text": [
          "following"
         ],
         "type": "scatter3d",
         "x": [
          1.6062146425247192
         ],
         "y": [
          8.140546798706055
         ],
         "z": [
          7.4875993728637695
         ]
        },
        {
         "marker": {
          "size": 6
         },
         "mode": "markers",
         "name": "new",
         "text": [
          "new"
         ],
         "type": "scatter3d",
         "x": [
          2.1920745372772217
         ],
         "y": [
          8.008049011230469
         ],
         "z": [
          7.29595947265625
         ]
        },
        {
         "marker": {
          "size": 6
         },
         "mode": "markers",
         "name": "item",
         "text": [
          "item"
         ],
         "type": "scatter3d",
         "x": [
          2.8181631565093994
         ],
         "y": [
          8.316356658935547
         ],
         "z": [
          6.367653846740723
         ]
        },
        {
         "marker": {
          "size": 6
         },
         "mode": "markers",
         "name": ":",
         "text": [
          ":"
         ],
         "type": "scatter3d",
         "x": [
          4.994802951812744
         ],
         "y": [
          2.144557476043701
         ],
         "z": [
          0.6310492753982544
         ]
        },
        {
         "marker": {
          "size": 6
         },
         "mode": "markers",
         "name": "`",
         "text": [
          "`"
         ],
         "type": "scatter3d",
         "x": [
          -4.685117721557617
         ],
         "y": [
          -1.0512707233428955
         ],
         "z": [
          -0.9009004831314087
         ]
        },
        {
         "marker": {
          "size": 6
         },
         "mode": "markers",
         "name": "`",
         "text": [
          "`"
         ],
         "type": "scatter3d",
         "x": [
          -4.707239151000977
         ],
         "y": [
          -1.1144952774047852
         ],
         "z": [
          -0.9233027696609497
         ]
        },
        {
         "marker": {
          "size": 6
         },
         "mode": "markers",
         "name": "sec",
         "text": [
          "sec"
         ],
         "type": "scatter3d",
         "x": [
          3.053086519241333
         ],
         "y": [
          8.50241756439209
         ],
         "z": [
          6.177156448364258
         ]
        },
        {
         "marker": {
          "size": 6
         },
         "mode": "markers",
         "name": ".",
         "text": [
          "."
         ],
         "type": "scatter3d",
         "x": [
          -2.3165030479431152
         ],
         "y": [
          6.5631537437438965
         ],
         "z": [
          2.774750232696533
         ]
        },
        {
         "marker": {
          "size": 6
         },
         "mode": "markers",
         "name": "45",
         "text": [
          "45"
         ],
         "type": "scatter3d",
         "x": [
          3.4904909133911133
         ],
         "y": [
          9.69085693359375
         ],
         "z": [
          5.468484401702881
         ]
        },
        {
         "marker": {
          "size": 6
         },
         "mode": "markers",
         "name": "##o",
         "text": [
          "##o"
         ],
         "type": "scatter3d",
         "x": [
          3.6162545680999756
         ],
         "y": [
          9.449443817138672
         ],
         "z": [
          5.724465847015381
         ]
        },
        {
         "marker": {
          "size": 6
         },
         "mode": "markers",
         "name": ".",
         "text": [
          "."
         ],
         "type": "scatter3d",
         "x": [
          -2.3689072132110596
         ],
         "y": [
          6.5784382820129395
         ],
         "z": [
          2.732236862182617
         ]
        },
        {
         "marker": {
          "size": 6
         },
         "mode": "markers",
         "name": "contributions",
         "text": [
          "contributions"
         ],
         "type": "scatter3d",
         "x": [
          5.92063570022583
         ],
         "y": [
          6.608397483825684
         ],
         "z": [
          8.96070384979248
         ]
        },
        {
         "marker": {
          "size": 6
         },
         "mode": "markers",
         "name": "benefit",
         "text": [
          "benefit"
         ],
         "type": "scatter3d",
         "x": [
          4.595267295837402
         ],
         "y": [
          6.9403486251831055
         ],
         "z": [
          9.801379203796387
         ]
        },
        {
         "marker": {
          "size": 6
         },
         "mode": "markers",
         "name": "##ing",
         "text": [
          "##ing"
         ],
         "type": "scatter3d",
         "x": [
          4.144798278808594
         ],
         "y": [
          7.125149726867676
         ],
         "z": [
          10.212310791015625
         ]
        },
        {
         "marker": {
          "size": 6
         },
         "mode": "markers",
         "name": "science",
         "text": [
          "science"
         ],
         "type": "scatter3d",
         "x": [
          5.389864921569824
         ],
         "y": [
          16.35551643371582
         ],
         "z": [
          9.921736717224121
         ]
        },
        {
         "marker": {
          "size": 6
         },
         "mode": "markers",
         "name": ",",
         "text": [
          ","
         ],
         "type": "scatter3d",
         "x": [
          2.9223828315734863
         ],
         "y": [
          1.4971238374710083
         ],
         "z": [
          7.96664571762085
         ]
        },
        {
         "marker": {
          "size": 6
         },
         "mode": "markers",
         "name": "technology",
         "text": [
          "technology"
         ],
         "type": "scatter3d",
         "x": [
          5.1773786544799805
         ],
         "y": [
          17.087932586669922
         ],
         "z": [
          10.41013240814209
         ]
        },
        {
         "marker": {
          "size": 6
         },
         "mode": "markers",
         "name": ",",
         "text": [
          ","
         ],
         "type": "scatter3d",
         "x": [
          2.9069390296936035
         ],
         "y": [
          1.5151193141937256
         ],
         "z": [
          7.968743324279785
         ]
        },
        {
         "marker": {
          "size": 6
         },
         "mode": "markers",
         "name": "engineering",
         "text": [
          "engineering"
         ],
         "type": "scatter3d",
         "x": [
          3.963778257369995
         ],
         "y": [
          16.40438461303711
         ],
         "z": [
          9.787195205688477
         ]
        },
        {
         "marker": {
          "size": 6
         },
         "mode": "markers",
         "name": ",",
         "text": [
          ","
         ],
         "type": "scatter3d",
         "x": [
          1.6241590976715088
         ],
         "y": [
          4.539312362670898
         ],
         "z": [
          6.782010078430176
         ]
        },
        {
         "marker": {
          "size": 6
         },
         "mode": "markers",
         "name": "and",
         "text": [
          "and"
         ],
         "type": "scatter3d",
         "x": [
          2.3441476821899414
         ],
         "y": [
          2.1680121421813965
         ],
         "z": [
          8.049644470214844
         ]
        },
        {
         "marker": {
          "size": 6
         },
         "mode": "markers",
         "name": "mathematics",
         "text": [
          "mathematics"
         ],
         "type": "scatter3d",
         "x": [
          -4.699657917022705
         ],
         "y": [
          12.591867446899414
         ],
         "z": [
          12.332209587097168
         ]
        },
        {
         "marker": {
          "size": 6
         },
         "mode": "markers",
         "name": "education",
         "text": [
          "education"
         ],
         "type": "scatter3d",
         "x": [
          6.08360481262207
         ],
         "y": [
          7.4875078201293945
         ],
         "z": [
          11.745997428894043
         ]
        },
        {
         "marker": {
          "size": 6
         },
         "mode": "markers",
         "name": "at",
         "text": [
          "at"
         ],
         "type": "scatter3d",
         "x": [
          4.05151891708374
         ],
         "y": [
          8.444011688232422
         ],
         "z": [
          10.374775886535645
         ]
        },
        {
         "marker": {
          "size": 6
         },
         "mode": "markers",
         "name": "the",
         "text": [
          "the"
         ],
         "type": "scatter3d",
         "x": [
          3.653709888458252
         ],
         "y": [
          8.035307884216309
         ],
         "z": [
          10.641478538513184
         ]
        },
        {
         "marker": {
          "size": 6
         },
         "mode": "markers",
         "name": "elementary",
         "text": [
          "elementary"
         ],
         "type": "scatter3d",
         "x": [
          6.249692916870117
         ],
         "y": [
          8.372515678405762
         ],
         "z": [
          12.692824363708496
         ]
        },
        {
         "marker": {
          "size": 6
         },
         "mode": "markers",
         "name": "and",
         "text": [
          "and"
         ],
         "type": "scatter3d",
         "x": [
          2.282188653945923
         ],
         "y": [
          2.306034564971924
         ],
         "z": [
          7.970120906829834
         ]
        },
        {
         "marker": {
          "size": 6
         },
         "mode": "markers",
         "name": "secondary",
         "text": [
          "secondary"
         ],
         "type": "scatter3d",
         "x": [
          6.285869598388672
         ],
         "y": [
          8.418166160583496
         ],
         "z": [
          12.740591049194336
         ]
        },
        {
         "marker": {
          "size": 6
         },
         "mode": "markers",
         "name": "school",
         "text": [
          "school"
         ],
         "type": "scatter3d",
         "x": [
          6.008984088897705
         ],
         "y": [
          7.726120948791504
         ],
         "z": [
          12.047977447509766
         ]
        },
        {
         "marker": {
          "size": 6
         },
         "mode": "markers",
         "name": "level",
         "text": [
          "level"
         ],
         "type": "scatter3d",
         "x": [
          5.77131986618042
         ],
         "y": [
          7.772782325744629
         ],
         "z": [
          11.735333442687988
         ]
        },
        {
         "marker": {
          "size": 6
         },
         "mode": "markers",
         "name": ".",
         "text": [
          "."
         ],
         "type": "scatter3d",
         "x": [
          2.559446334838867
         ],
         "y": [
          6.1334614753723145
         ],
         "z": [
          6.8758544921875
         ]
        },
        {
         "marker": {
          "size": 6
         },
         "mode": "markers",
         "name": "'",
         "text": [
          "'"
         ],
         "type": "scatter3d",
         "x": [
          3.112492799758911
         ],
         "y": [
          6.122271537780762
         ],
         "z": [
          14.887863159179688
         ]
        },
        {
         "marker": {
          "size": 6
         },
         "mode": "markers",
         "name": "'",
         "text": [
          "'"
         ],
         "type": "scatter3d",
         "x": [
          3.1294796466827393
         ],
         "y": [
          6.139606475830078
         ],
         "z": [
          14.870317459106445
         ]
        },
        {
         "marker": {
          "size": 6
         },
         "mode": "markers",
         "name": ".",
         "text": [
          "."
         ],
         "type": "scatter3d",
         "x": [
          -2.2773005962371826
         ],
         "y": [
          6.695017337799072
         ],
         "z": [
          2.614265203475952
         ]
        },
        {
         "marker": {
          "size": 6
         },
         "mode": "markers",
         "name": "(",
         "text": [
          "("
         ],
         "type": "scatter3d",
         "x": [
          -3.19992995262146
         ],
         "y": [
          9.125264167785645
         ],
         "z": [
          -5.789032936096191
         ]
        },
        {
         "marker": {
          "size": 6
         },
         "mode": "markers",
         "name": "c",
         "text": [
          "c"
         ],
         "type": "scatter3d",
         "x": [
          3.990203857421875
         ],
         "y": [
          10.701437950134277
         ],
         "z": [
          4.617560863494873
         ]
        },
        {
         "marker": {
          "size": 6
         },
         "mode": "markers",
         "name": ")",
         "text": [
          ")"
         ],
         "type": "scatter3d",
         "x": [
          5.511058807373047
         ],
         "y": [
          13.10387134552002
         ],
         "z": [
          -5.525530815124512
         ]
        },
        {
         "marker": {
          "size": 6
         },
         "mode": "markers",
         "name": "effective",
         "text": [
          "effective"
         ],
         "type": "scatter3d",
         "x": [
          3.2842042446136475
         ],
         "y": [
          7.197004795074463
         ],
         "z": [
          7.810823917388916
         ]
        },
        {
         "marker": {
          "size": 6
         },
         "mode": "markers",
         "name": "date",
         "text": [
          "date"
         ],
         "type": "scatter3d",
         "x": [
          3.3246500492095947
         ],
         "y": [
          7.095048904418945
         ],
         "z": [
          7.8021721839904785
         ]
        },
        {
         "marker": {
          "size": 6
         },
         "mode": "markers",
         "name": ".",
         "text": [
          "."
         ],
         "type": "scatter3d",
         "x": [
          -2.2615911960601807
         ],
         "y": [
          6.712458610534668
         ],
         "z": [
          2.5976688861846924
         ]
        },
        {
         "marker": {
          "size": 6
         },
         "mode": "markers",
         "name": "-",
         "text": [
          "-"
         ],
         "type": "scatter3d",
         "x": [
          6.169936656951904
         ],
         "y": [
          -3.816626787185669
         ],
         "z": [
          15.396994590759277
         ]
        },
        {
         "marker": {
          "size": 6
         },
         "mode": "markers",
         "name": "-",
         "text": [
          "-"
         ],
         "type": "scatter3d",
         "x": [
          2.843120813369751
         ],
         "y": [
          -2.8796117305755615
         ],
         "z": [
          -6.242663860321045
         ]
        },
        {
         "marker": {
          "size": 6
         },
         "mode": "markers",
         "name": "the",
         "text": [
          "the"
         ],
         "type": "scatter3d",
         "x": [
          2.9453980922698975
         ],
         "y": [
          7.454562664031982
         ],
         "z": [
          8.481008529663086
         ]
        },
        {
         "marker": {
          "size": 6
         },
         "mode": "markers",
         "name": "amendments",
         "text": [
          "amendments"
         ],
         "type": "scatter3d",
         "x": [
          2.4727115631103516
         ],
         "y": [
          8.02888298034668
         ],
         "z": [
          7.2207112312316895
         ]
        },
        {
         "marker": {
          "size": 6
         },
         "mode": "markers",
         "name": "made",
         "text": [
          "made"
         ],
         "type": "scatter3d",
         "x": [
          3.4455811977386475
         ],
         "y": [
          7.713348865509033
         ],
         "z": [
          8.35823917388916
         ]
        },
        {
         "marker": {
          "size": 6
         },
         "mode": "markers",
         "name": "by",
         "text": [
          "by"
         ],
         "type": "scatter3d",
         "x": [
          3.5753214359283447
         ],
         "y": [
          8.302947998046875
         ],
         "z": [
          7.7964863777160645
         ]
        },
        {
         "marker": {
          "size": 6
         },
         "mode": "markers",
         "name": "this",
         "text": [
          "this"
         ],
         "type": "scatter3d",
         "x": [
          1.468537449836731
         ],
         "y": [
          8.328245162963867
         ],
         "z": [
          7.416498184204102
         ]
        },
        {
         "marker": {
          "size": 6
         },
         "mode": "markers",
         "name": "section",
         "text": [
          "section"
         ],
         "type": "scatter3d",
         "x": [
          2.8279035091400146
         ],
         "y": [
          8.350215911865234
         ],
         "z": [
          6.413084030151367
         ]
        },
        {
         "marker": {
          "size": 6
         },
         "mode": "markers",
         "name": "shall",
         "text": [
          "shall"
         ],
         "type": "scatter3d",
         "x": [
          3.1788744926452637
         ],
         "y": [
          7.632320880889893
         ],
         "z": [
          8.959081649780273
         ]
        },
        {
         "marker": {
          "size": 6
         },
         "mode": "markers",
         "name": "apply",
         "text": [
          "apply"
         ],
         "type": "scatter3d",
         "x": [
          3.27982759475708
         ],
         "y": [
          7.238826751708984
         ],
         "z": [
          8.67184066772461
         ]
        },
        {
         "marker": {
          "size": 6
         },
         "mode": "markers",
         "name": "to",
         "text": [
          "to"
         ],
         "type": "scatter3d",
         "x": [
          3.311161994934082
         ],
         "y": [
          6.537479400634766
         ],
         "z": [
          9.284161567687988
         ]
        },
        {
         "marker": {
          "size": 6
         },
         "mode": "markers",
         "name": "taxa",
         "text": [
          "taxa"
         ],
         "type": "scatter3d",
         "x": [
          3.099937677383423
         ],
         "y": [
          6.628157138824463
         ],
         "z": [
          7.5290679931640625
         ]
        },
        {
         "marker": {
          "size": 6
         },
         "mode": "markers",
         "name": "##ble",
         "text": [
          "##ble"
         ],
         "type": "scatter3d",
         "x": [
          3.5538136959075928
         ],
         "y": [
          6.808038711547852
         ],
         "z": [
          8.142987251281738
         ]
        },
        {
         "marker": {
          "size": 6
         },
         "mode": "markers",
         "name": "years",
         "text": [
          "years"
         ],
         "type": "scatter3d",
         "x": [
          3.577174425125122
         ],
         "y": [
          6.897690773010254
         ],
         "z": [
          8.075520515441895
         ]
        },
        {
         "marker": {
          "size": 6
         },
         "mode": "markers",
         "name": "beginning",
         "text": [
          "beginning"
         ],
         "type": "scatter3d",
         "x": [
          3.423539161682129
         ],
         "y": [
          7.015591144561768
         ],
         "z": [
          8.03702163696289
         ]
        },
        {
         "marker": {
          "size": 6
         },
         "mode": "markers",
         "name": "after",
         "text": [
          "after"
         ],
         "type": "scatter3d",
         "x": [
          3.182770252227783
         ],
         "y": [
          7.326448440551758
         ],
         "z": [
          7.72721004486084
         ]
        },
        {
         "marker": {
          "size": 6
         },
         "mode": "markers",
         "name": "the",
         "text": [
          "the"
         ],
         "type": "scatter3d",
         "x": [
          2.2813236713409424
         ],
         "y": [
          6.500588417053223
         ],
         "z": [
          7.508352756500244
         ]
        },
        {
         "marker": {
          "size": 6
         },
         "mode": "markers",
         "name": "date",
         "text": [
          "date"
         ],
         "type": "scatter3d",
         "x": [
          3.154029607772827
         ],
         "y": [
          7.345913887023926
         ],
         "z": [
          7.645607948303223
         ]
        },
        {
         "marker": {
          "size": 6
         },
         "mode": "markers",
         "name": "of",
         "text": [
          "of"
         ],
         "type": "scatter3d",
         "x": [
          3.2060723304748535
         ],
         "y": [
          7.803400039672852
         ],
         "z": [
          7.466217994689941
         ]
        },
        {
         "marker": {
          "size": 6
         },
         "mode": "markers",
         "name": "the",
         "text": [
          "the"
         ],
         "type": "scatter3d",
         "x": [
          2.287917375564575
         ],
         "y": [
          6.665927886962891
         ],
         "z": [
          7.641027450561523
         ]
        },
        {
         "marker": {
          "size": 6
         },
         "mode": "markers",
         "name": "enactment",
         "text": [
          "enactment"
         ],
         "type": "scatter3d",
         "x": [
          3.051098108291626
         ],
         "y": [
          8.056434631347656
         ],
         "z": [
          7.028287887573242
         ]
        },
        {
         "marker": {
          "size": 6
         },
         "mode": "markers",
         "name": "of",
         "text": [
          "of"
         ],
         "type": "scatter3d",
         "x": [
          3.212557315826416
         ],
         "y": [
          7.960411548614502
         ],
         "z": [
          7.386784553527832
         ]
        },
        {
         "marker": {
          "size": 6
         },
         "mode": "markers",
         "name": "this",
         "text": [
          "this"
         ],
         "type": "scatter3d",
         "x": [
          1.4970226287841797
         ],
         "y": [
          8.312358856201172
         ],
         "z": [
          7.4247212409973145
         ]
        },
        {
         "marker": {
          "size": 6
         },
         "mode": "markers",
         "name": "act",
         "text": [
          "act"
         ],
         "type": "scatter3d",
         "x": [
          2.9270942211151123
         ],
         "y": [
          8.354240417480469
         ],
         "z": [
          6.595325946807861
         ]
        },
        {
         "marker": {
          "size": 6
         },
         "mode": "markers",
         "name": ".",
         "text": [
          "."
         ],
         "type": "scatter3d",
         "x": [
          -2.2597908973693848
         ],
         "y": [
          6.6883039474487305
         ],
         "z": [
          2.612946033477783
         ]
        }
       ],
       "layout": {
        "scene": {
         "xaxis": {
          "title": {
           "text": "X"
          }
         },
         "yaxis": {
          "title": {
           "text": "Y"
          }
         },
         "zaxis": {
          "title": {
           "text": "Z"
          }
         }
        },
        "template": {
         "data": {
          "bar": [
           {
            "error_x": {
             "color": "#2a3f5f"
            },
            "error_y": {
             "color": "#2a3f5f"
            },
            "marker": {
             "line": {
              "color": "#E5ECF6",
              "width": 0.5
             },
             "pattern": {
              "fillmode": "overlay",
              "size": 10,
              "solidity": 0.2
             }
            },
            "type": "bar"
           }
          ],
          "barpolar": [
           {
            "marker": {
             "line": {
              "color": "#E5ECF6",
              "width": 0.5
             },
             "pattern": {
              "fillmode": "overlay",
              "size": 10,
              "solidity": 0.2
             }
            },
            "type": "barpolar"
           }
          ],
          "carpet": [
           {
            "aaxis": {
             "endlinecolor": "#2a3f5f",
             "gridcolor": "white",
             "linecolor": "white",
             "minorgridcolor": "white",
             "startlinecolor": "#2a3f5f"
            },
            "baxis": {
             "endlinecolor": "#2a3f5f",
             "gridcolor": "white",
             "linecolor": "white",
             "minorgridcolor": "white",
             "startlinecolor": "#2a3f5f"
            },
            "type": "carpet"
           }
          ],
          "choropleth": [
           {
            "colorbar": {
             "outlinewidth": 0,
             "ticks": ""
            },
            "type": "choropleth"
           }
          ],
          "contour": [
           {
            "colorbar": {
             "outlinewidth": 0,
             "ticks": ""
            },
            "colorscale": [
             [
              0,
              "#0d0887"
             ],
             [
              0.1111111111111111,
              "#46039f"
             ],
             [
              0.2222222222222222,
              "#7201a8"
             ],
             [
              0.3333333333333333,
              "#9c179e"
             ],
             [
              0.4444444444444444,
              "#bd3786"
             ],
             [
              0.5555555555555556,
              "#d8576b"
             ],
             [
              0.6666666666666666,
              "#ed7953"
             ],
             [
              0.7777777777777778,
              "#fb9f3a"
             ],
             [
              0.8888888888888888,
              "#fdca26"
             ],
             [
              1,
              "#f0f921"
             ]
            ],
            "type": "contour"
           }
          ],
          "contourcarpet": [
           {
            "colorbar": {
             "outlinewidth": 0,
             "ticks": ""
            },
            "type": "contourcarpet"
           }
          ],
          "heatmap": [
           {
            "colorbar": {
             "outlinewidth": 0,
             "ticks": ""
            },
            "colorscale": [
             [
              0,
              "#0d0887"
             ],
             [
              0.1111111111111111,
              "#46039f"
             ],
             [
              0.2222222222222222,
              "#7201a8"
             ],
             [
              0.3333333333333333,
              "#9c179e"
             ],
             [
              0.4444444444444444,
              "#bd3786"
             ],
             [
              0.5555555555555556,
              "#d8576b"
             ],
             [
              0.6666666666666666,
              "#ed7953"
             ],
             [
              0.7777777777777778,
              "#fb9f3a"
             ],
             [
              0.8888888888888888,
              "#fdca26"
             ],
             [
              1,
              "#f0f921"
             ]
            ],
            "type": "heatmap"
           }
          ],
          "heatmapgl": [
           {
            "colorbar": {
             "outlinewidth": 0,
             "ticks": ""
            },
            "colorscale": [
             [
              0,
              "#0d0887"
             ],
             [
              0.1111111111111111,
              "#46039f"
             ],
             [
              0.2222222222222222,
              "#7201a8"
             ],
             [
              0.3333333333333333,
              "#9c179e"
             ],
             [
              0.4444444444444444,
              "#bd3786"
             ],
             [
              0.5555555555555556,
              "#d8576b"
             ],
             [
              0.6666666666666666,
              "#ed7953"
             ],
             [
              0.7777777777777778,
              "#fb9f3a"
             ],
             [
              0.8888888888888888,
              "#fdca26"
             ],
             [
              1,
              "#f0f921"
             ]
            ],
            "type": "heatmapgl"
           }
          ],
          "histogram": [
           {
            "marker": {
             "pattern": {
              "fillmode": "overlay",
              "size": 10,
              "solidity": 0.2
             }
            },
            "type": "histogram"
           }
          ],
          "histogram2d": [
           {
            "colorbar": {
             "outlinewidth": 0,
             "ticks": ""
            },
            "colorscale": [
             [
              0,
              "#0d0887"
             ],
             [
              0.1111111111111111,
              "#46039f"
             ],
             [
              0.2222222222222222,
              "#7201a8"
             ],
             [
              0.3333333333333333,
              "#9c179e"
             ],
             [
              0.4444444444444444,
              "#bd3786"
             ],
             [
              0.5555555555555556,
              "#d8576b"
             ],
             [
              0.6666666666666666,
              "#ed7953"
             ],
             [
              0.7777777777777778,
              "#fb9f3a"
             ],
             [
              0.8888888888888888,
              "#fdca26"
             ],
             [
              1,
              "#f0f921"
             ]
            ],
            "type": "histogram2d"
           }
          ],
          "histogram2dcontour": [
           {
            "colorbar": {
             "outlinewidth": 0,
             "ticks": ""
            },
            "colorscale": [
             [
              0,
              "#0d0887"
             ],
             [
              0.1111111111111111,
              "#46039f"
             ],
             [
              0.2222222222222222,
              "#7201a8"
             ],
             [
              0.3333333333333333,
              "#9c179e"
             ],
             [
              0.4444444444444444,
              "#bd3786"
             ],
             [
              0.5555555555555556,
              "#d8576b"
             ],
             [
              0.6666666666666666,
              "#ed7953"
             ],
             [
              0.7777777777777778,
              "#fb9f3a"
             ],
             [
              0.8888888888888888,
              "#fdca26"
             ],
             [
              1,
              "#f0f921"
             ]
            ],
            "type": "histogram2dcontour"
           }
          ],
          "mesh3d": [
           {
            "colorbar": {
             "outlinewidth": 0,
             "ticks": ""
            },
            "type": "mesh3d"
           }
          ],
          "parcoords": [
           {
            "line": {
             "colorbar": {
              "outlinewidth": 0,
              "ticks": ""
             }
            },
            "type": "parcoords"
           }
          ],
          "pie": [
           {
            "automargin": true,
            "type": "pie"
           }
          ],
          "scatter": [
           {
            "fillpattern": {
             "fillmode": "overlay",
             "size": 10,
             "solidity": 0.2
            },
            "type": "scatter"
           }
          ],
          "scatter3d": [
           {
            "line": {
             "colorbar": {
              "outlinewidth": 0,
              "ticks": ""
             }
            },
            "marker": {
             "colorbar": {
              "outlinewidth": 0,
              "ticks": ""
             }
            },
            "type": "scatter3d"
           }
          ],
          "scattercarpet": [
           {
            "marker": {
             "colorbar": {
              "outlinewidth": 0,
              "ticks": ""
             }
            },
            "type": "scattercarpet"
           }
          ],
          "scattergeo": [
           {
            "marker": {
             "colorbar": {
              "outlinewidth": 0,
              "ticks": ""
             }
            },
            "type": "scattergeo"
           }
          ],
          "scattergl": [
           {
            "marker": {
             "colorbar": {
              "outlinewidth": 0,
              "ticks": ""
             }
            },
            "type": "scattergl"
           }
          ],
          "scattermapbox": [
           {
            "marker": {
             "colorbar": {
              "outlinewidth": 0,
              "ticks": ""
             }
            },
            "type": "scattermapbox"
           }
          ],
          "scatterpolar": [
           {
            "marker": {
             "colorbar": {
              "outlinewidth": 0,
              "ticks": ""
             }
            },
            "type": "scatterpolar"
           }
          ],
          "scatterpolargl": [
           {
            "marker": {
             "colorbar": {
              "outlinewidth": 0,
              "ticks": ""
             }
            },
            "type": "scatterpolargl"
           }
          ],
          "scatterternary": [
           {
            "marker": {
             "colorbar": {
              "outlinewidth": 0,
              "ticks": ""
             }
            },
            "type": "scatterternary"
           }
          ],
          "surface": [
           {
            "colorbar": {
             "outlinewidth": 0,
             "ticks": ""
            },
            "colorscale": [
             [
              0,
              "#0d0887"
             ],
             [
              0.1111111111111111,
              "#46039f"
             ],
             [
              0.2222222222222222,
              "#7201a8"
             ],
             [
              0.3333333333333333,
              "#9c179e"
             ],
             [
              0.4444444444444444,
              "#bd3786"
             ],
             [
              0.5555555555555556,
              "#d8576b"
             ],
             [
              0.6666666666666666,
              "#ed7953"
             ],
             [
              0.7777777777777778,
              "#fb9f3a"
             ],
             [
              0.8888888888888888,
              "#fdca26"
             ],
             [
              1,
              "#f0f921"
             ]
            ],
            "type": "surface"
           }
          ],
          "table": [
           {
            "cells": {
             "fill": {
              "color": "#EBF0F8"
             },
             "line": {
              "color": "white"
             }
            },
            "header": {
             "fill": {
              "color": "#C8D4E3"
             },
             "line": {
              "color": "white"
             }
            },
            "type": "table"
           }
          ]
         },
         "layout": {
          "annotationdefaults": {
           "arrowcolor": "#2a3f5f",
           "arrowhead": 0,
           "arrowwidth": 1
          },
          "autotypenumbers": "strict",
          "coloraxis": {
           "colorbar": {
            "outlinewidth": 0,
            "ticks": ""
           }
          },
          "colorscale": {
           "diverging": [
            [
             0,
             "#8e0152"
            ],
            [
             0.1,
             "#c51b7d"
            ],
            [
             0.2,
             "#de77ae"
            ],
            [
             0.3,
             "#f1b6da"
            ],
            [
             0.4,
             "#fde0ef"
            ],
            [
             0.5,
             "#f7f7f7"
            ],
            [
             0.6,
             "#e6f5d0"
            ],
            [
             0.7,
             "#b8e186"
            ],
            [
             0.8,
             "#7fbc41"
            ],
            [
             0.9,
             "#4d9221"
            ],
            [
             1,
             "#276419"
            ]
           ],
           "sequential": [
            [
             0,
             "#0d0887"
            ],
            [
             0.1111111111111111,
             "#46039f"
            ],
            [
             0.2222222222222222,
             "#7201a8"
            ],
            [
             0.3333333333333333,
             "#9c179e"
            ],
            [
             0.4444444444444444,
             "#bd3786"
            ],
            [
             0.5555555555555556,
             "#d8576b"
            ],
            [
             0.6666666666666666,
             "#ed7953"
            ],
            [
             0.7777777777777778,
             "#fb9f3a"
            ],
            [
             0.8888888888888888,
             "#fdca26"
            ],
            [
             1,
             "#f0f921"
            ]
           ],
           "sequentialminus": [
            [
             0,
             "#0d0887"
            ],
            [
             0.1111111111111111,
             "#46039f"
            ],
            [
             0.2222222222222222,
             "#7201a8"
            ],
            [
             0.3333333333333333,
             "#9c179e"
            ],
            [
             0.4444444444444444,
             "#bd3786"
            ],
            [
             0.5555555555555556,
             "#d8576b"
            ],
            [
             0.6666666666666666,
             "#ed7953"
            ],
            [
             0.7777777777777778,
             "#fb9f3a"
            ],
            [
             0.8888888888888888,
             "#fdca26"
            ],
            [
             1,
             "#f0f921"
            ]
           ]
          },
          "colorway": [
           "#636efa",
           "#EF553B",
           "#00cc96",
           "#ab63fa",
           "#FFA15A",
           "#19d3f3",
           "#FF6692",
           "#B6E880",
           "#FF97FF",
           "#FECB52"
          ],
          "font": {
           "color": "#2a3f5f"
          },
          "geo": {
           "bgcolor": "white",
           "lakecolor": "white",
           "landcolor": "#E5ECF6",
           "showlakes": true,
           "showland": true,
           "subunitcolor": "white"
          },
          "hoverlabel": {
           "align": "left"
          },
          "hovermode": "closest",
          "mapbox": {
           "style": "light"
          },
          "paper_bgcolor": "white",
          "plot_bgcolor": "#E5ECF6",
          "polar": {
           "angularaxis": {
            "gridcolor": "white",
            "linecolor": "white",
            "ticks": ""
           },
           "bgcolor": "#E5ECF6",
           "radialaxis": {
            "gridcolor": "white",
            "linecolor": "white",
            "ticks": ""
           }
          },
          "scene": {
           "xaxis": {
            "backgroundcolor": "#E5ECF6",
            "gridcolor": "white",
            "gridwidth": 2,
            "linecolor": "white",
            "showbackground": true,
            "ticks": "",
            "zerolinecolor": "white"
           },
           "yaxis": {
            "backgroundcolor": "#E5ECF6",
            "gridcolor": "white",
            "gridwidth": 2,
            "linecolor": "white",
            "showbackground": true,
            "ticks": "",
            "zerolinecolor": "white"
           },
           "zaxis": {
            "backgroundcolor": "#E5ECF6",
            "gridcolor": "white",
            "gridwidth": 2,
            "linecolor": "white",
            "showbackground": true,
            "ticks": "",
            "zerolinecolor": "white"
           }
          },
          "shapedefaults": {
           "line": {
            "color": "#2a3f5f"
           }
          },
          "ternary": {
           "aaxis": {
            "gridcolor": "white",
            "linecolor": "white",
            "ticks": ""
           },
           "baxis": {
            "gridcolor": "white",
            "linecolor": "white",
            "ticks": ""
           },
           "bgcolor": "#E5ECF6",
           "caxis": {
            "gridcolor": "white",
            "linecolor": "white",
            "ticks": ""
           }
          },
          "title": {
           "x": 0.05
          },
          "xaxis": {
           "automargin": true,
           "gridcolor": "white",
           "linecolor": "white",
           "ticks": "",
           "title": {
            "standoff": 15
           },
           "zerolinecolor": "white",
           "zerolinewidth": 2
          },
          "yaxis": {
           "automargin": true,
           "gridcolor": "white",
           "linecolor": "white",
           "ticks": "",
           "title": {
            "standoff": 15
           },
           "zerolinecolor": "white",
           "zerolinewidth": 2
          }
         }
        },
        "title": {
         "text": "3D Scatter Plot"
        }
       }
      }
     },
     "metadata": {},
     "output_type": "display_data"
    }
   ],
   "source": [
    "o, l = tokenizeCorpus(elem0)\n",
    "v = vectorizeCorpus(o)\n",
    "visualizeCorpus(v, l)"
   ]
  },
  {
   "attachments": {},
   "cell_type": "markdown",
   "metadata": {},
   "source": [
    "### HDBScan (DBScan temporary)"
   ]
  },
  {
   "cell_type": "code",
   "execution_count": null,
   "metadata": {},
   "outputs": [],
   "source": [
    "! pip install hdbscan"
   ]
  },
  {
   "cell_type": "code",
   "execution_count": null,
   "metadata": {},
   "outputs": [],
   "source": []
  }
 ],
 "metadata": {
  "kernelspec": {
   "display_name": ".venv",
   "language": "python",
   "name": "python3"
  },
  "language_info": {
   "codemirror_mode": {
    "name": "ipython",
    "version": 3
   },
   "file_extension": ".py",
   "mimetype": "text/x-python",
   "name": "python",
   "nbconvert_exporter": "python",
   "pygments_lexer": "ipython3",
   "version": "3.11.3"
  },
  "orig_nbformat": 4
 },
 "nbformat": 4,
 "nbformat_minor": 2
}

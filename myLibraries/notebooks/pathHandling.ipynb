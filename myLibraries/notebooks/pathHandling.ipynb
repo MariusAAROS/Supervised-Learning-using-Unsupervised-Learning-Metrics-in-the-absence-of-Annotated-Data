{
 "cells": [
  {
   "attachments": {},
   "cell_type": "markdown",
   "metadata": {},
   "source": [
    "### Google Drive Sync"
   ]
  },
  {
   "cell_type": "code",
   "execution_count": null,
   "metadata": {},
   "outputs": [],
   "source": [
    "import pandas as pd"
   ]
  },
  {
   "cell_type": "code",
   "execution_count": null,
   "metadata": {},
   "outputs": [],
   "source": [
    "from google.oauth2 import service_account\n",
    "from googleapiclient.discovery import build\n",
    "\n",
    "# Replace with your file ID\n",
    "file_id = 'https://drive.google.com/drive/folders/1pNH8_-6YiCam8diVJ2NICbjJsQQDX6X1?usp=share_link'\n",
    "\n",
    "# Replace with the path to your credentials JSON file\n",
    "#credentials = service_account.Credentials.from_service_account_file('PATH_TO_CREDENTIALS_FILE')\n",
    "\n",
    "# Create a Drive API client\n",
    "drive_service = build('drive', 'v3')\n",
    "\n",
    "# Get the file\n",
    "file = drive_service.files().get(fileId=file_id).execute()\n",
    "\n",
    "# Get the file content\n",
    "file_content = drive_service.files().get_media(fileId=file_id).execute()\n",
    "\n",
    "# Print the file content\n"
   ]
  },
  {
   "cell_type": "code",
   "execution_count": null,
   "metadata": {},
   "outputs": [],
   "source": [
    "billsumTest_url='https://drive.google.com/file/d/1Wd0M3qepNF6B4YwFYrpo7CaSERpudAG_/view?usp=share_link'\n",
    "url='https://drive.google.com/uc?id=' + billsumTest_url.split('/')[-2]\n",
    "df = pd.read_json(url, lines=True)\n",
    "df"
   ]
  },
  {
   "cell_type": "code",
   "execution_count": null,
   "metadata": {},
   "outputs": [],
   "source": [
    "from custom_score.utils import serialized_to_model"
   ]
  },
  {
   "cell_type": "code",
   "execution_count": null,
   "metadata": {},
   "outputs": [],
   "source": [
    "w2v_url = \"https://drive.google.com/file/d/1nGMHQT8ULVwa-18s6mPBWchWyd13AJAe/view?usp=share_link\"\n",
    "w2v_path = url='https://drive.google.com/uc?id=' + w2v_url.split('/')[-2]"
   ]
  },
  {
   "cell_type": "code",
   "execution_count": null,
   "metadata": {},
   "outputs": [],
   "source": [
    "import requests\n",
    "\n",
    "def download_file_from_google_drive(id, destination):\n",
    "    URL = \"https://docs.google.com/uc?export=download\"\n",
    "\n",
    "    session = requests.Session()\n",
    "\n",
    "    response = session.get(URL, params = { 'id' : id }, stream = True)\n",
    "    token = get_confirm_token(response)\n",
    "\n",
    "    if token:\n",
    "        params = { 'id' : id, 'confirm' : token }\n",
    "        response = session.get(URL, params = params, stream = True)\n",
    "\n",
    "    save_response_content(response, destination)    \n",
    "\n",
    "def get_confirm_token(response):\n",
    "    for key, value in response.cookies.items():\n",
    "        if key.startswith('download_warning'):\n",
    "            return value\n",
    "\n",
    "    return None\n",
    "\n",
    "def save_response_content(response, destination):\n",
    "    CHUNK_SIZE = 32768\n",
    "\n",
    "    with open(destination, \"wb\") as f:\n",
    "        for chunk in response.iter_content(CHUNK_SIZE):\n",
    "            if chunk: # filter out keep-alive new chunks\n",
    "                f.write(chunk)\n",
    "\n",
    "def downloadRequirements(pathToSave):\n",
    "    urls = [\"https://drive.google.com/file/d/1nGMHQT8ULVwa-18s6mPBWchWyd13AJAe/view?usp=share_link\"]\n",
    "    try:\n",
    "        for url in urls:\n",
    "            download_file_from_google_drive(w2v_url, pathToSave)\n",
    "    except:\n",
    "        return False\n",
    "    finally:\n",
    "        return True"
   ]
  },
  {
   "cell_type": "code",
   "execution_count": null,
   "metadata": {},
   "outputs": [],
   "source": [
    "w2v = serialized_to_model(r'C:\\Pro\\Stages\\A4 - DVRC\\Work\\Ressources\\serialized_w2v.pkl')"
   ]
  },
  {
   "attachments": {},
   "cell_type": "markdown",
   "metadata": {},
   "source": [
    "### Random tests"
   ]
  },
  {
   "cell_type": "code",
   "execution_count": 1,
   "metadata": {},
   "outputs": [
    {
     "name": "stderr",
     "output_type": "stream",
     "text": [
      "c:\\Pro\\Stages\\A4 - DVRC\\Work\\Supervised-Learning-using-Unsupervised-Learning-Metrics-in-the-absence-of-Annotated-Data\\.venv\\Lib\\site-packages\\tqdm\\auto.py:21: TqdmWarning: IProgress not found. Please update jupyter and ipywidgets. See https://ipywidgets.readthedocs.io/en/stable/user_install.html\n",
      "  from .autonotebook import tqdm as notebook_tqdm\n"
     ]
    }
   ],
   "source": [
    "from custom_score.utils import model_load"
   ]
  },
  {
   "cell_type": "code",
   "execution_count": 2,
   "metadata": {},
   "outputs": [],
   "source": [
    "w2v = model_load(\"Word2Vec\", True)"
   ]
  },
  {
   "cell_type": "code",
   "execution_count": 3,
   "metadata": {},
   "outputs": [
    {
     "data": {
      "text/plain": [
       "array([ 0.13085938,  0.00842285,  0.03344727, -0.05883789,  0.04003906,\n",
       "       -0.14257812,  0.04931641, -0.16894531,  0.20898438,  0.11962891,\n",
       "        0.18066406, -0.25      , -0.10400391, -0.10742188, -0.01879883,\n",
       "        0.05200195, -0.00216675,  0.06445312,  0.14453125, -0.04541016,\n",
       "        0.16113281, -0.01611328, -0.03088379,  0.08447266,  0.16210938,\n",
       "        0.04467773, -0.15527344,  0.25390625,  0.33984375,  0.00756836,\n",
       "       -0.25585938, -0.01733398, -0.03295898,  0.16308594, -0.12597656,\n",
       "       -0.09912109,  0.16503906,  0.06884766, -0.18945312,  0.02832031,\n",
       "       -0.0534668 , -0.03063965,  0.11083984,  0.24121094, -0.234375  ,\n",
       "        0.12353516, -0.00294495,  0.1484375 ,  0.33203125,  0.05249023,\n",
       "       -0.20019531,  0.37695312,  0.12255859,  0.11425781, -0.17675781,\n",
       "        0.10009766,  0.0030365 ,  0.26757812,  0.20117188,  0.03710938,\n",
       "        0.11083984, -0.09814453, -0.3125    ,  0.03515625,  0.02832031,\n",
       "        0.26171875, -0.08642578, -0.02258301, -0.05834961, -0.00787354,\n",
       "        0.11767578, -0.04296875, -0.17285156,  0.04394531, -0.23046875,\n",
       "        0.1640625 , -0.11474609, -0.06030273,  0.01196289, -0.24707031,\n",
       "        0.32617188, -0.04492188, -0.11425781,  0.22851562, -0.01647949,\n",
       "       -0.15039062, -0.13183594,  0.12597656, -0.17480469,  0.02209473,\n",
       "       -0.1015625 ,  0.00817871,  0.10791016, -0.24609375, -0.109375  ,\n",
       "       -0.09375   , -0.01623535, -0.20214844,  0.23144531, -0.05444336,\n",
       "       -0.05541992, -0.20898438,  0.26757812,  0.27929688,  0.17089844,\n",
       "       -0.17578125, -0.02770996, -0.20410156,  0.02392578,  0.03125   ,\n",
       "       -0.25390625, -0.125     , -0.05493164, -0.17382812,  0.28515625,\n",
       "       -0.23242188,  0.0234375 , -0.20117188, -0.13476562,  0.26367188,\n",
       "        0.00769043,  0.20507812, -0.01708984, -0.12988281,  0.04711914,\n",
       "        0.22070312,  0.02099609, -0.29101562, -0.02893066,  0.17285156,\n",
       "        0.04272461, -0.19824219, -0.04003906, -0.16992188,  0.10058594,\n",
       "       -0.09326172,  0.15820312, -0.16503906, -0.06054688,  0.19433594,\n",
       "       -0.07080078, -0.06884766, -0.09619141, -0.07226562,  0.04882812,\n",
       "        0.07324219,  0.11035156,  0.04858398, -0.17675781, -0.33789062,\n",
       "        0.22558594,  0.16308594,  0.05102539, -0.08251953,  0.07958984,\n",
       "        0.08740234, -0.16894531, -0.02160645, -0.19238281,  0.03857422,\n",
       "       -0.05102539,  0.21972656,  0.08007812, -0.21191406, -0.07519531,\n",
       "       -0.15039062,  0.3046875 , -0.17089844,  0.12353516, -0.234375  ,\n",
       "       -0.10742188, -0.06787109,  0.01904297, -0.14160156, -0.22753906,\n",
       "       -0.16308594,  0.14453125, -0.15136719, -0.296875  ,  0.22363281,\n",
       "       -0.10205078, -0.0456543 , -0.21679688, -0.09033203,  0.09375   ,\n",
       "       -0.15332031, -0.01550293,  0.3046875 , -0.23730469,  0.08935547,\n",
       "        0.03710938,  0.02941895, -0.28515625,  0.15820312, -0.00306702,\n",
       "        0.06054688,  0.00497437, -0.15234375, -0.00836182,  0.02197266,\n",
       "       -0.12109375, -0.13867188, -0.2734375 , -0.06835938,  0.08251953,\n",
       "       -0.26367188, -0.16992188,  0.14746094,  0.08496094,  0.02075195,\n",
       "        0.13671875, -0.04931641, -0.0100708 , -0.00369263, -0.10839844,\n",
       "        0.14746094, -0.15527344,  0.16113281,  0.05615234, -0.05004883,\n",
       "       -0.1640625 , -0.26953125,  0.4140625 ,  0.06079102, -0.046875  ,\n",
       "       -0.02514648,  0.10595703,  0.1328125 , -0.16699219, -0.04907227,\n",
       "        0.04663086,  0.05151367, -0.07958984, -0.16503906, -0.29882812,\n",
       "        0.06054688, -0.15332031, -0.00598145,  0.06640625, -0.04516602,\n",
       "        0.24316406, -0.07080078, -0.36914062, -0.23144531, -0.11914062,\n",
       "       -0.08300781,  0.14746094, -0.05761719,  0.23535156, -0.12304688,\n",
       "        0.14648438,  0.13671875,  0.15429688,  0.02111816, -0.09570312,\n",
       "        0.05859375,  0.03979492, -0.08105469,  0.0559082 , -0.16601562,\n",
       "        0.27148438, -0.20117188, -0.00915527,  0.07324219,  0.10449219,\n",
       "        0.34570312, -0.26367188,  0.02099609, -0.40039062, -0.03417969,\n",
       "       -0.15917969, -0.08789062,  0.08203125,  0.23339844,  0.0213623 ,\n",
       "       -0.11328125,  0.05249023, -0.10449219, -0.02380371, -0.08349609,\n",
       "       -0.04003906,  0.01916504, -0.01226807, -0.18261719, -0.06787109,\n",
       "       -0.08496094, -0.03039551, -0.05395508,  0.04248047,  0.12792969,\n",
       "       -0.27539062,  0.28515625, -0.04736328,  0.06494141, -0.11230469,\n",
       "       -0.02575684, -0.04125977,  0.22851562, -0.14941406, -0.15039062],\n",
       "      dtype=float32)"
      ]
     },
     "execution_count": 3,
     "metadata": {},
     "output_type": "execute_result"
    }
   ],
   "source": [
    "w2v[\"car\"]"
   ]
  },
  {
   "attachments": {},
   "cell_type": "markdown",
   "metadata": {},
   "source": [
    "### Gdown"
   ]
  },
  {
   "cell_type": "code",
   "execution_count": null,
   "metadata": {},
   "outputs": [],
   "source": [
    "import gdown"
   ]
  },
  {
   "cell_type": "code",
   "execution_count": null,
   "metadata": {},
   "outputs": [],
   "source": [
    "url = 'https://drive.google.com/file/d/1pUaT_XDjFvoaSQsYCyGAyqcUL8Nu_nVG/view?usp=share_link'\n",
    "output = r'C:\\Pro\\Stages\\A4 - DVRC\\Work\\Models\\test.bin.gz'\n",
    "gdown.download(url, output, quiet=False, fuzzy=True)"
   ]
  }
 ],
 "metadata": {
  "kernelspec": {
   "display_name": ".venv",
   "language": "python",
   "name": "python3"
  },
  "language_info": {
   "codemirror_mode": {
    "name": "ipython",
    "version": 3
   },
   "file_extension": ".py",
   "mimetype": "text/x-python",
   "name": "python",
   "nbconvert_exporter": "python",
   "pygments_lexer": "ipython3",
   "version": "3.11.3"
  },
  "orig_nbformat": 4
 },
 "nbformat": 4,
 "nbformat_minor": 2
}

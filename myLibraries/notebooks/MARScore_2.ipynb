{
 "cells": [
  {
   "attachments": {},
   "cell_type": "markdown",
   "metadata": {},
   "source": [
    "### Libraries"
   ]
  },
  {
   "cell_type": "code",
   "execution_count": null,
   "metadata": {},
   "outputs": [],
   "source": [
    "from transformers import BertTokenizer, BertModel\n",
    "import torch\n",
    "from umap import UMAP\n",
    "import plotly.express as px\n",
    "import plotly.graph_objects as go\n",
    "from matplotlib import pyplot as plt\n",
    "import numpy as np\n",
    "import pandas as pd"
   ]
  },
  {
   "attachments": {},
   "cell_type": "markdown",
   "metadata": {},
   "source": [
    "### Corpus embedding"
   ]
  },
  {
   "cell_type": "code",
   "execution_count": null,
   "metadata": {},
   "outputs": [],
   "source": [
    "def tokenizeCorpus(corpus, model=BertModel.from_pretrained('bert-base-uncased', \n",
    "                                                           output_hidden_states=True), \n",
    "                           tokenizer = BertTokenizer.from_pretrained('bert-base-uncased'), \n",
    "                           model_input_size=512):\n",
    "    def flatten(l):\n",
    "        return [item for sublist in l for item in sublist]\n",
    "    input_size = model_input_size - 1\n",
    "    corpusWords = corpus.split(\" \")\n",
    "    splited = [\" \".join(corpusWords[i:i+input_size]) for i in range(0, len(corpusWords), input_size)]\n",
    "\n",
    "    input_ids = []\n",
    "    attention_masks = []\n",
    "    for sentence in splited:\n",
    "        encoded = tokenizer.encode_plus(sentence, \n",
    "                                        add_special_tokens=True,\n",
    "                                        max_length=input_size+1,\n",
    "                                        padding=\"max_length\",\n",
    "                                        return_attention_mask=True,\n",
    "                                        return_tensors='pt',\n",
    "                                        truncation=True)\n",
    "        input_ids.append(encoded[\"input_ids\"])\n",
    "        attention_masks.append(encoded[\"attention_mask\"])\n",
    "\n",
    "    #inputs_ids = torch.Tensor(len(input_ids),1, max_len+1)\n",
    "    #torch.cat(input_ids, out=inputs_ids)\n",
    "    inputs_ids = torch.cat(input_ids, dim=0)\n",
    "    attention_masks = torch.cat(attention_masks, dim=0)\n",
    "    \n",
    "    temp = flatten([batch.tolist() for batch in input_ids])\n",
    "    labels = np.array(temp)\n",
    "    labels = labels.reshape((labels.shape[0]*labels.shape[1]))\n",
    "    labels = tokenizer.convert_ids_to_tokens(labels)\n",
    "    with torch.no_grad():\n",
    "        output = model(inputs_ids, attention_mask=attention_masks)\n",
    "    return output, labels\n",
    "\n",
    "def vectorizeCorpus(model_output, allStates=True):\n",
    "    if allStates==True:\n",
    "        hidden_states = model_output.hidden_states\n",
    "    else:\n",
    "        hidden_states = [model_output.last_hidden_state]\n",
    "    token_embeddings = torch.stack(hidden_states, dim=0)\n",
    "    token_embeddings = token_embeddings.permute(1,2,0,3)\n",
    "    embs = []\n",
    "    for batch in token_embeddings:\n",
    "        for token in batch:\n",
    "            emb = torch.cat((token[-1], token[-2], token[-3], token[-4]), dim=0)\n",
    "            embs.append(emb)\n",
    "    return embs\n",
    "\n",
    "def visualizeCorpus(embs, labels, embs_gold=None, labels_gold=None, dim=2):\n",
    "    comp_gold = True if embs_gold != None and labels_gold != None else False\n",
    "\n",
    "    formated_embs = [token.tolist() for token in embs]\n",
    "    formated_embs = np.array(formated_embs)\n",
    "    formated_embs_gold = [token.tolist() for token in embs_gold]\n",
    "    formated_embs_gold = np.array(formated_embs_gold)\n",
    "    token_indexes = [i for i in range(len(labels)) if labels[i] != \"[PAD]\" and labels[i] != \"[CLS]\" and labels[i] != \"[SEP]\" and len(labels[i])>2]\n",
    "\n",
    "    if dim == 1:\n",
    "        umap1D = UMAP(n_components=1, init='random', random_state=0)\n",
    "        proj1D = umap1D.fit_transform(formated_embs).T\n",
    "\n",
    "        data = {\"x\": proj1D[0],\n",
    "                \"labels\": labels}\n",
    "        \n",
    "        for k in data.keys():\n",
    "            data[k] = [data[k][i] for i in range(len(data[k])) if i in token_indexes]\n",
    "\n",
    "        if comp_gold:\n",
    "            token_indexes_gold = [i for i in range(len(labels_gold)) if labels_gold[i] != \"[PAD]\" and labels_gold[i] != \"[CLS]\" and labels_gold[i] != \"[SEP]\" and len(labels_gold[i])>2]\n",
    "            proj1D_gold = umap1D.fit_transform(formated_embs_gold).T\n",
    "            data_gold = {\"x\": proj1D_gold[0],\n",
    "                        \"labels\": labels_gold}\n",
    "            for k in data_gold.keys():\n",
    "                data_gold[k] = [data_gold[k][i] for i in range(len(data_gold[k])) if i in token_indexes_gold]\n",
    "\n",
    "        traces = []\n",
    "        for i in range(len(data['x'])):\n",
    "            if comp_gold:\n",
    "                color = 'green' if data[\"labels\"][i] in data_gold[\"labels\"] else 'red'\n",
    "            else:\n",
    "                color = 'red'\n",
    "            trace = go.Scatter(\n",
    "                x=[data['x'][i]],\n",
    "                mode='markers',\n",
    "                marker=dict(size=6, color=color),\n",
    "                text=[data['labels'][i]],\n",
    "                name=data['labels'][i]\n",
    "            )\n",
    "            traces.append(trace)\n",
    "        if comp_gold:\n",
    "            for i in range(len(data_gold['x'])):\n",
    "                trace = go.Scatter(\n",
    "                    x=[data_gold['x'][i]],\n",
    "                    mode='markers',\n",
    "                    marker=dict(size=6, color='gold'),\n",
    "                    text=[data_gold['labels'][i]],\n",
    "                    name=data_gold['labels'][i]\n",
    "                )\n",
    "                traces.append(trace)\n",
    "\n",
    "        layout = go.Layout(\n",
    "            title='1D Scatter Plot',\n",
    "            scene=dict(\n",
    "                xaxis=dict(title='X')\n",
    "            )\n",
    "        )\n",
    "        fig = go.Figure(data=traces, layout=layout)\n",
    "        fig.show()\n",
    "\n",
    "    elif dim == 2:\n",
    "        umap2D = UMAP(n_components=2, init='random', random_state=0)\n",
    "        proj2D = umap2D.fit_transform(formated_embs).T\n",
    "\n",
    "        data = {\"x\": proj2D[0],\n",
    "                \"y\": proj2D[1],\n",
    "                \"labels\": labels}\n",
    "        \n",
    "        for k in data.keys():\n",
    "            data[k] = [data[k][i] for i in range(len(data[k])) if i in token_indexes]\n",
    "\n",
    "        if comp_gold:\n",
    "            token_indexes_gold = [i for i in range(len(labels_gold)) if labels_gold[i] != \"[PAD]\" and labels_gold[i] != \"[CLS]\" and labels_gold[i] != \"[SEP]\" and len(labels_gold[i])>2]\n",
    "            proj2D_gold = umap2D.fit_transform(formated_embs_gold).T\n",
    "            data_gold = {\"x\": proj2D_gold[0],\n",
    "                        \"y\": proj2D_gold[1],\n",
    "                        \"labels\": labels_gold}\n",
    "            for k in data_gold.keys():\n",
    "                data_gold[k] = [data_gold[k][i] for i in range(len(data_gold[k])) if i in token_indexes_gold]\n",
    "\n",
    "        traces = []\n",
    "        for i in range(len(data['x'])):\n",
    "            if comp_gold:\n",
    "                color = 'green' if data[\"labels\"][i] in data_gold[\"labels\"] else 'red'\n",
    "            else:\n",
    "                color = 'red'\n",
    "            trace = go.Scatter(\n",
    "                x=[data['x'][i]],\n",
    "                y=[data['y'][i]],\n",
    "                mode='markers',\n",
    "                marker=dict(size=6, color=color),\n",
    "                text=[data['labels'][i]],\n",
    "                name=data['labels'][i]\n",
    "            )\n",
    "            traces.append(trace)\n",
    "        if comp_gold:\n",
    "            for i in range(len(data_gold['x'])):\n",
    "                trace = go.Scatter(\n",
    "                    x=[data_gold['x'][i]],\n",
    "                    y=[data_gold['y'][i]],\n",
    "                    mode='markers',\n",
    "                    marker=dict(size=6, color='gold'),\n",
    "                    text=[data_gold['labels'][i]],\n",
    "                    name=data_gold['labels'][i]\n",
    "                )\n",
    "                traces.append(trace)\n",
    "\n",
    "        layout = go.Layout(\n",
    "            title='2D Scatter Plot',\n",
    "            scene=dict(\n",
    "                xaxis=dict(title='X'),\n",
    "                yaxis=dict(title='Y')\n",
    "            )\n",
    "        )\n",
    "        fig = go.Figure(data=traces, layout=layout)\n",
    "        fig.show()"
   ]
  },
  {
   "cell_type": "code",
   "execution_count": null,
   "metadata": {},
   "outputs": [],
   "source": [
    "model = BertModel.from_pretrained('bert-base-uncased',\n",
    "                                  output_hidden_states=True)\n",
    "tokenizer = BertTokenizer.from_pretrained('bert-base-uncased')"
   ]
  },
  {
   "cell_type": "code",
   "execution_count": null,
   "metadata": {},
   "outputs": [],
   "source": [
    "dataset_url=\"https://drive.google.com/file/d/1Wd0M3qepNF6B4YwFYrpo7CaSERpudAG_/view?usp=share_link\"\n",
    "dataset_url='https://drive.google.com/uc?export=download&id=' + dataset_url.split('/')[-2]\n",
    "dataset = pd.read_json(dataset_url, lines=True)\n",
    "dataset = dataset.loc[:, [\"text\", \"summary\"]]\n",
    "\n",
    "elem0 = dataset.iloc[0, 0]\n",
    "print(elem0)"
   ]
  },
  {
   "cell_type": "code",
   "execution_count": null,
   "metadata": {},
   "outputs": [],
   "source": [
    "gold0 = dataset.iloc[0, 1]\n",
    "print(gold0)"
   ]
  },
  {
   "cell_type": "code",
   "execution_count": null,
   "metadata": {},
   "outputs": [],
   "source": [
    "o, l = tokenizeCorpus(elem0)\n",
    "ogold, lgold = tokenizeCorpus(gold0)\n",
    "v = vectorizeCorpus(o)\n",
    "vgold = vectorizeCorpus(ogold)\n",
    "visualizeCorpus(v, l, vgold, lgold, dim=1)"
   ]
  },
  {
   "attachments": {},
   "cell_type": "markdown",
   "metadata": {},
   "source": [
    "### Clustering with HDBScan"
   ]
  },
  {
   "cell_type": "code",
   "execution_count": 5,
   "metadata": {},
   "outputs": [],
   "source": [
    "import sys\n",
    "sys.path.append(r\"D:\\COURS\\A4\\S8 - ESILV\\Stage\\Work\\Supervised-Learning-using-Unsupervised-Learning-Metrics-in-the-absence-of-Annotated-Data\\myLibraries\")"
   ]
  },
  {
   "cell_type": "code",
   "execution_count": 6,
   "metadata": {},
   "outputs": [
    {
     "name": "stderr",
     "output_type": "stream",
     "text": [
      "d:\\COURS\\A4\\S8 - ESILV\\Stage\\Work\\Supervised-Learning-using-Unsupervised-Learning-Metrics-in-the-absence-of-Annotated-Data\\.venv\\Lib\\site-packages\\tqdm\\auto.py:21: TqdmWarning: IProgress not found. Please update jupyter and ipywidgets. See https://ipywidgets.readthedocs.io/en/stable/user_install.html\n",
      "  from .autonotebook import tqdm as notebook_tqdm\n",
      "d:\\COURS\\A4\\S8 - ESILV\\Stage\\Work\\Supervised-Learning-using-Unsupervised-Learning-Metrics-in-the-absence-of-Annotated-Data\\.venv\\Lib\\site-packages\\umap\\distances.py:1063: NumbaDeprecationWarning: \u001b[1mThe 'nopython' keyword argument was not supplied to the 'numba.jit' decorator. The implicit default value for this argument is currently False, but it will be changed to True in Numba 0.59.0. See https://numba.readthedocs.io/en/stable/reference/deprecation.html#deprecation-of-object-mode-fall-back-behaviour-when-using-jit for details.\u001b[0m\n",
      "  @numba.jit()\n",
      "d:\\COURS\\A4\\S8 - ESILV\\Stage\\Work\\Supervised-Learning-using-Unsupervised-Learning-Metrics-in-the-absence-of-Annotated-Data\\.venv\\Lib\\site-packages\\umap\\distances.py:1071: NumbaDeprecationWarning: \u001b[1mThe 'nopython' keyword argument was not supplied to the 'numba.jit' decorator. The implicit default value for this argument is currently False, but it will be changed to True in Numba 0.59.0. See https://numba.readthedocs.io/en/stable/reference/deprecation.html#deprecation-of-object-mode-fall-back-behaviour-when-using-jit for details.\u001b[0m\n",
      "  @numba.jit()\n",
      "d:\\COURS\\A4\\S8 - ESILV\\Stage\\Work\\Supervised-Learning-using-Unsupervised-Learning-Metrics-in-the-absence-of-Annotated-Data\\.venv\\Lib\\site-packages\\umap\\distances.py:1086: NumbaDeprecationWarning: \u001b[1mThe 'nopython' keyword argument was not supplied to the 'numba.jit' decorator. The implicit default value for this argument is currently False, but it will be changed to True in Numba 0.59.0. See https://numba.readthedocs.io/en/stable/reference/deprecation.html#deprecation-of-object-mode-fall-back-behaviour-when-using-jit for details.\u001b[0m\n",
      "  @numba.jit()\n",
      "d:\\COURS\\A4\\S8 - ESILV\\Stage\\Work\\Supervised-Learning-using-Unsupervised-Learning-Metrics-in-the-absence-of-Annotated-Data\\.venv\\Lib\\site-packages\\umap\\umap_.py:660: NumbaDeprecationWarning: \u001b[1mThe 'nopython' keyword argument was not supplied to the 'numba.jit' decorator. The implicit default value for this argument is currently False, but it will be changed to True in Numba 0.59.0. See https://numba.readthedocs.io/en/stable/reference/deprecation.html#deprecation-of-object-mode-fall-back-behaviour-when-using-jit for details.\u001b[0m\n",
      "  @numba.jit()\n",
      "Some weights of the model checkpoint at bert-base-uncased were not used when initializing BertModel: ['cls.predictions.transform.dense.bias', 'cls.predictions.transform.LayerNorm.weight', 'cls.seq_relationship.bias', 'cls.predictions.decoder.weight', 'cls.predictions.transform.LayerNorm.bias', 'cls.predictions.bias', 'cls.seq_relationship.weight', 'cls.predictions.transform.dense.weight']\n",
      "- This IS expected if you are initializing BertModel from the checkpoint of a model trained on another task or with another architecture (e.g. initializing a BertForSequenceClassification model from a BertForPreTraining model).\n",
      "- This IS NOT expected if you are initializing BertModel from the checkpoint of a model that you expect to be exactly identical (initializing a BertForSequenceClassification model from a BertForSequenceClassification model).\n"
     ]
    }
   ],
   "source": [
    "import hdbscan\n",
    "from MARScore.utils import *\n",
    "import pandas as pd\n",
    "from matplotlib import cm"
   ]
  },
  {
   "cell_type": "code",
   "execution_count": 7,
   "metadata": {},
   "outputs": [],
   "source": [
    "dataset_url=\"https://drive.google.com/file/d/1Wd0M3qepNF6B4YwFYrpo7CaSERpudAG_/view?usp=share_link\"\n",
    "dataset_url='https://drive.google.com/uc?export=download&id=' + dataset_url.split('/')[-2]\n",
    "dataset = pd.read_json(dataset_url, lines=True)\n",
    "dataset = dataset.loc[:, [\"text\", \"summary\"]]"
   ]
  },
  {
   "cell_type": "code",
   "execution_count": 8,
   "metadata": {},
   "outputs": [],
   "source": [
    "elem0 = dataset.iloc[0, 0]\n",
    "gold0 = dataset.iloc[0, 1]"
   ]
  },
  {
   "cell_type": "code",
   "execution_count": 9,
   "metadata": {},
   "outputs": [],
   "source": [
    "o, l = tokenizeCorpus(elem0)\n",
    "ogold, lgold = tokenizeCorpus(gold0)\n",
    "v = vectorizeCorpus(o)\n",
    "vgold = vectorizeCorpus(ogold)"
   ]
  },
  {
   "cell_type": "code",
   "execution_count": 10,
   "metadata": {},
   "outputs": [],
   "source": [
    "clusterer = hdbscan.HDBSCAN()\n",
    "clusterer.fit(v)\n",
    "clabels = clusterer.labels_"
   ]
  },
  {
   "cell_type": "code",
   "execution_count": 11,
   "metadata": {},
   "outputs": [
    {
     "data": {
      "text/plain": [
       "2560"
      ]
     },
     "execution_count": 11,
     "metadata": {},
     "output_type": "execute_result"
    }
   ],
   "source": [
    "len(clabels)"
   ]
  },
  {
   "cell_type": "code",
   "execution_count": 12,
   "metadata": {},
   "outputs": [
    {
     "name": "stderr",
     "output_type": "stream",
     "text": [
      "C:\\Users\\orteg\\AppData\\Local\\Temp\\ipykernel_20140\\2292762520.py:1: MatplotlibDeprecationWarning: The get_cmap function was deprecated in Matplotlib 3.7 and will be removed two minor releases later. Use ``matplotlib.colormaps[name]`` or ``matplotlib.colormaps.get_cmap(obj)`` instead.\n",
      "  cmap = cm.get_cmap('viridis', len(set(clabels)))\n"
     ]
    },
    {
     "data": {
      "image/png": "[encoded data removed]",
      "text/html": [
       "<div style=\"vertical-align: middle;\"><strong>viridis</strong> </div><div class=\"cmap\"><img alt=\"viridis colormap\" title=\"viridis\" style=\"border: 1px solid #555;\" src=\"data:image/png;base64,iVBORw0KGgoAAAANSUhEUgAAAgAAAABACAYAAABsv8+/AAAAFnRFWHRUaXRsZQB2aXJpZGlzIGNvbG9ybWFwrE0mCwAAABx0RVh0RGVzY3JpcHRpb24AdmlyaWRpcyBjb2xvcm1hcAtjl3IAAAAwdEVYdEF1dGhvcgBNYXRwbG90bGliIHYzLjcuMSwgaHR0cHM6Ly9tYXRwbG90bGliLm9yZyqv+E0AAAAydEVYdFNvZnR3YXJlAE1hdHBsb3RsaWIgdjMuNy4xLCBodHRwczovL21hdHBsb3RsaWIub3JnBAlnagAAAexJREFUeJzt1l2S0gAUhNGbkACWoC7KJbj/ZfhP8IENtFXji33Oc9fNUBlmvuXz8uU5oeVyiXZruJtwt1zO2b2ZeV7D7XnP7p23aHecT9nukt173Vyj3SPcHecl2+3Z7vXsbPsIbx7Za4l36c/3L579DF/1scdfwTnCX+9jy27Gn2U/suFffJYlvLmGu9P2iHb7nu1mZi77r2h33X9nuy3bvduy5972H9FuZub96We227Kbt9Pb7mZmPm5fo919/RbtPpy+v+m9T+HudTN7h/cl+87c1+wPym29RruZmew/BwDwXxEAAFBIAABAIQEAAIUEAAAUEgAAUEgAAEAhAQAAhQQAABQSAABQSAAAQCEBAACFBAAAFBIAAFBIAABAIQEAAIUEAAAUEgAAUEgAAEAhAQAAhQQAABQSAABQSAAAQCEBAACFBAAAFBIAAFBIAABAIQEAAIUEAAAUEgAAUEgAAEAhAQAAhQQAABQSAABQSAAAQCEBAACFBAAAFBIAAFBIAABAIQEAAIUEAAAUEgAAUEgAAEAhAQAAhQQAABQSAABQSAAAQCEBAACFBAAAFBIAAFBIAABAIQEAAIUEAAAUEgAAUEgAAEAhAQAAhQQAABQSAABQSAAAQCEBAACFBAAAFBIAAFBIAABAoT/oYDCH5qzmhgAAAABJRU5ErkJggg==\"></div><div style=\"vertical-align: middle; max-width: 514px; display: flex; justify-content: space-between;\"><div style=\"float: left;\"><div title=\"#440154ff\" style=\"display: inline-block; width: 1em; height: 1em; margin: 0; vertical-align: middle; border: 1px solid #555; background-color: #440154ff;\"></div> under</div><div style=\"margin: 0 auto; display: inline-block;\">bad <div title=\"#00000000\" style=\"display: inline-block; width: 1em; height: 1em; margin: 0; vertical-align: middle; border: 1px solid #555; background-color: #00000000;\"></div></div><div style=\"float: right;\">over <div title=\"#fde725ff\" style=\"display: inline-block; width: 1em; height: 1em; margin: 0; vertical-align: middle; border: 1px solid #555; background-color: #fde725ff;\"></div></div>"
      ],
      "text/plain": [
       "<matplotlib.colors.ListedColormap at 0x1c32b503110>"
      ]
     },
     "execution_count": 12,
     "metadata": {},
     "output_type": "execute_result"
    }
   ],
   "source": [
    "\n",
    "cmap = cm.get_cmap('viridis', len(set(clabels)))\n",
    "cmap"
   ]
  },
  {
   "cell_type": "code",
   "execution_count": 13,
   "metadata": {},
   "outputs": [
    {
     "data": {
      "text/plain": [
       "50"
      ]
     },
     "execution_count": 13,
     "metadata": {},
     "output_type": "execute_result"
    }
   ],
   "source": [
    "len(cmap.colors)"
   ]
  },
  {
   "cell_type": "code",
   "execution_count": 14,
   "metadata": {},
   "outputs": [
    {
     "data": {
      "application/vnd.plotly.v1+json": {
       "config": {
        "plotlyServerURL": "https://plot.ly"
       },
       "data": [
        {
         "line": {
          "color": "DarkSlateGrey",
          "width": 2
         },
         "marker": {
          "color": [
           0.335885,
           0.777018,
           0.402049,
           1
          ],
          "size": 9
         },
         "mode": "markers",
         "name": "section",
         "text": [
          "section"
         ],
         "type": "scatter",
         "x": [
          -2.269467830657959
         ],
         "y": [
          7.236276149749756
         ]
        },
        {
         "line": {
          "color": "DarkSlateGrey",
          "width": 2
         },
         "marker": {
          "color": [
           0.993248,
           0.906157,
           0.143936,
           1
          ],
          "size": 9
         },
         "mode": "markers",
         "name": "short",
         "text": [
          "short"
         ],
         "type": "scatter",
         "x": [
          -1.7119024991989136
         ],
         "y": [
          7.545287132263184
         ]
        },
        {
         "line": {
          "color": "DarkSlateGrey",
          "width": 2
         },
         "marker": {
          "color": [
           0.993248,
           0.906157,
           0.143936,
           1
          ],
          "size": 9
         },
         "mode": "markers",
         "name": "title",
         "text": [
          "title"
         ],
         "type": "scatter",
         "x": [
          -1.7285970449447632
         ],
         "y": [
          7.38691520690918
         ]
        },
        {
         "line": {
          "color": "DarkSlateGrey",
          "width": 2
         },
         "marker": {
          "color": [
           0.19109,
           0.708366,
           0.482284,
           1
          ],
          "size": 9
         },
         "mode": "markers",
         "name": "this",
         "text": [
          "this"
         ],
         "type": "scatter",
         "x": [
          -1.347146987915039
         ],
         "y": [
          6.119768142700195
         ]
        },
        {
         "line": {
          "color": "DarkSlateGrey",
          "width": 2
         },
         "marker": {
          "color": [
           0.993248,
           0.906157,
           0.143936,
           1
          ],
          "size": 9
         },
         "mode": "markers",
         "name": "act",
         "text": [
          "act"
         ],
         "type": "scatter",
         "x": [
          -1.9974929094314575
         ],
         "y": [
          6.835352897644043
         ]
        },
        {
         "line": {
          "color": "DarkSlateGrey",
          "width": 2
         },
         "marker": {
          "color": [
           0.993248,
           0.906157,
           0.143936,
           1
          ],
          "size": 9
         },
         "mode": "markers",
         "name": "may",
         "text": [
          "may"
         ],
         "type": "scatter",
         "x": [
          0.12976157665252686
         ],
         "y": [
          7.942859172821045
         ]
        },
        {
         "line": {
          "color": "DarkSlateGrey",
          "width": 2
         },
         "marker": {
          "color": [
           0.993248,
           0.906157,
           0.143936,
           1
          ],
          "size": 9
         },
         "mode": "markers",
         "name": "cited",
         "text": [
          "cited"
         ],
         "type": "scatter",
         "x": [
          -0.22418881952762604
         ],
         "y": [
          7.772653102874756
         ]
        },
        {
         "line": {
          "color": "DarkSlateGrey",
          "width": 2
         },
         "marker": {
          "color": [
           0.993248,
           0.906157,
           0.143936,
           1
          ],
          "size": 9
         },
         "mode": "markers",
         "name": "the",
         "text": [
          "the"
         ],
         "type": "scatter",
         "x": [
          -0.5599102973937988
         ],
         "y": [
          7.69530725479126
         ]
        },
        {
         "line": {
          "color": "DarkSlateGrey",
          "width": 2
         },
         "marker": {
          "color": [
           0.993248,
           0.906157,
           0.143936,
           1
          ],
          "size": 9
         },
         "mode": "markers",
         "name": "national",
         "text": [
          "national"
         ],
         "type": "scatter",
         "x": [
          -1.902051329612732
         ],
         "y": [
          8.44640064239502
         ]
        },
        {
         "line": {
          "color": "DarkSlateGrey",
          "width": 2
         },
         "marker": {
          "color": [
           0.993248,
           0.906157,
           0.143936,
           1
          ],
          "size": 9
         },
         "mode": "markers",
         "name": "science",
         "text": [
          "science"
         ],
         "type": "scatter",
         "x": [
          4.596703052520752
         ],
         "y": [
          -8.331527709960938
         ]
        },
        {
         "line": {
          "color": "DarkSlateGrey",
          "width": 2
         },
         "marker": {
          "color": [
           0.153364,
           0.497,
           0.557724,
           1
          ],
          "size": 9
         },
         "mode": "markers",
         "name": "education",
         "text": [
          "education"
         ],
         "type": "scatter",
         "x": [
          1.7883491516113281
         ],
         "y": [
          12.1197509765625
         ]
        },
        {
         "line": {
          "color": "DarkSlateGrey",
          "width": 2
         },
         "marker": {
          "color": [
           0.993248,
           0.906157,
           0.143936,
           1
          ],
          "size": 9
         },
         "mode": "markers",
         "name": "tax",
         "text": [
          "tax"
         ],
         "type": "scatter",
         "x": [
          -1.235421895980835
         ],
         "y": [
          9.59752082824707
         ]
        },
        {
         "line": {
          "color": "DarkSlateGrey",
          "width": 2
         },
         "marker": {
          "color": [
           0.993248,
           0.906157,
           0.143936,
           1
          ],
          "size": 9
         },
         "mode": "markers",
         "name": "incentive",
         "text": [
          "incentive"
         ],
         "type": "scatter",
         "x": [
          -0.7524614334106445
         ],
         "y": [
          9.655866622924805
         ]
        },
        {
         "line": {
          "color": "DarkSlateGrey",
          "width": 2
         },
         "marker": {
          "color": [
           0.993248,
           0.906157,
           0.143936,
           1
          ],
          "size": 9
         },
         "mode": "markers",
         "name": "for",
         "text": [
          "for"
         ],
         "type": "scatter",
         "x": [
          0.7485061883926392
         ],
         "y": [
          8.992119789123535
         ]
        },
        {
         "line": {
          "color": "DarkSlateGrey",
          "width": 2
         },
         "marker": {
          "color": [
           0.993248,
           0.906157,
           0.143936,
           1
          ],
          "size": 9
         },
         "mode": "markers",
         "name": "businesses",
         "text": [
          "businesses"
         ],
         "type": "scatter",
         "x": [
          0.817704975605011
         ],
         "y": [
          10.476758003234863
         ]
        },
        {
         "line": {
          "color": "DarkSlateGrey",
          "width": 2
         },
         "marker": {
          "color": [
           0.993248,
           0.906157,
           0.143936,
           1
          ],
          "size": 9
         },
         "mode": "markers",
         "name": "act",
         "text": [
          "act"
         ],
         "type": "scatter",
         "x": [
          -1.9135233163833618
         ],
         "y": [
          6.928487777709961
         ]
        },
        {
         "line": {
          "color": "DarkSlateGrey",
          "width": 2
         },
         "marker": {
          "color": [
           0.993248,
           0.906157,
           0.143936,
           1
          ],
          "size": 9
         },
         "mode": "markers",
         "name": "2007",
         "text": [
          "2007"
         ],
         "type": "scatter",
         "x": [
          -1.9451773166656494
         ],
         "y": [
          8.566580772399902
         ]
        },
        {
         "line": {
          "color": "DarkSlateGrey",
          "width": 2
         },
         "marker": {
          "color": [
           0.993248,
           0.906157,
           0.143936,
           1
          ],
          "size": 9
         },
         "mode": "markers",
         "name": "sec",
         "text": [
          "sec"
         ],
         "type": "scatter",
         "x": [
          -2.3714449405670166
         ],
         "y": [
          7.105518341064453
         ]
        },
        {
         "line": {
          "color": "DarkSlateGrey",
          "width": 2
         },
         "marker": {
          "color": [
           0.993248,
           0.906157,
           0.143936,
           1
          ],
          "size": 9
         },
         "mode": "markers",
         "name": "credits",
         "text": [
          "credits"
         ],
         "type": "scatter",
         "x": [
          -0.686448872089386
         ],
         "y": [
          9.730840682983398
         ]
        },
        {
         "line": {
          "color": "DarkSlateGrey",
          "width": 2
         },
         "marker": {
          "color": [
           0.993248,
           0.906157,
           0.143936,
           1
          ],
          "size": 9
         },
         "mode": "markers",
         "name": "for",
         "text": [
          "for"
         ],
         "type": "scatter",
         "x": [
          0.9134387969970703
         ],
         "y": [
          8.743277549743652
         ]
        },
        {
         "line": {
          "color": "DarkSlateGrey",
          "width": 2
         },
         "marker": {
          "color": [
           0.993248,
           0.906157,
           0.143936,
           1
          ],
          "size": 9
         },
         "mode": "markers",
         "name": "certain",
         "text": [
          "certain"
         ],
         "type": "scatter",
         "x": [
          1.3631166219711304
         ],
         "y": [
          7.37239933013916
         ]
        },
        {
         "line": {
          "color": "DarkSlateGrey",
          "width": 2
         },
         "marker": {
          "color": [
           0.223925,
           0.334994,
           0.548053,
           1
          ],
          "size": 9
         },
         "mode": "markers",
         "name": "contributions",
         "text": [
          "contributions"
         ],
         "type": "scatter",
         "x": [
          -1.130007266998291
         ],
         "y": [
          10.936918258666992
         ]
        },
        {
         "line": {
          "color": "DarkSlateGrey",
          "width": 2
         },
         "marker": {
          "color": [
           0.993248,
           0.906157,
           0.143936,
           1
          ],
          "size": 9
         },
         "mode": "markers",
         "name": "benefit",
         "text": [
          "benefit"
         ],
         "type": "scatter",
         "x": [
          0.5695987343788147
         ],
         "y": [
          9.95669174194336
         ]
        },
        {
         "line": {
          "color": "DarkSlateGrey",
          "width": 2
         },
         "marker": {
          "color": [
           0.993248,
           0.906157,
           0.143936,
           1
          ],
          "size": 9
         },
         "mode": "markers",
         "name": "##ing",
         "text": [
          "##ing"
         ],
         "type": "scatter",
         "x": [
          1.2640149593353271
         ],
         "y": [
          9.842159271240234
         ]
        },
        {
         "line": {
          "color": "DarkSlateGrey",
          "width": 2
         },
         "marker": {
          "color": [
           0.279574,
           0.170599,
           0.479997,
           1
          ],
          "size": 9
         },
         "mode": "markers",
         "name": "science",
         "text": [
          "science"
         ],
         "type": "scatter",
         "x": [
          4.603420734405518
         ],
         "y": [
          -8.325278282165527
         ]
        },
        {
         "line": {
          "color": "DarkSlateGrey",
          "width": 2
         },
         "marker": {
          "color": [
           0.275191,
           0.194905,
           0.496005,
           1
          ],
          "size": 9
         },
         "mode": "markers",
         "name": "technology",
         "text": [
          "technology"
         ],
         "type": "scatter",
         "x": [
          14.87661075592041
         ],
         "y": [
          10.946377754211426
         ]
        },
        {
         "line": {
          "color": "DarkSlateGrey",
          "width": 2
         },
         "marker": {
          "color": [
           0.28229,
           0.145912,
           0.46151,
           1
          ],
          "size": 9
         },
         "mode": "markers",
         "name": "engineering",
         "text": [
          "engineering"
         ],
         "type": "scatter",
         "x": [
          14.678365707397461
         ],
         "y": [
          12.104536056518555
         ]
        },
        {
         "line": {
          "color": "DarkSlateGrey",
          "width": 2
         },
         "marker": {
          "color": [
           0.89632,
           0.893616,
           0.096335,
           1
          ],
          "size": 9
         },
         "mode": "markers",
         "name": "and",
         "text": [
          "and"
         ],
         "type": "scatter",
         "x": [
          -0.48316511511802673
         ],
         "y": [
          2.581815004348755
         ]
        },
        {
         "line": {
          "color": "DarkSlateGrey",
          "width": 2
         },
         "marker": {
          "color": [
           0.283197,
           0.11568,
           0.436115,
           1
          ],
          "size": 9
         },
         "mode": "markers",
         "name": "mathematics",
         "text": [
          "mathematics"
         ],
         "type": "scatter",
         "x": [
          6.935727119445801
         ],
         "y": [
          21.94562339782715
         ]
        },
        {
         "line": {
          "color": "DarkSlateGrey",
          "width": 2
         },
         "marker": {
          "color": [
           0.153364,
           0.497,
           0.557724,
           1
          ],
          "size": 9
         },
         "mode": "markers",
         "name": "education",
         "text": [
          "education"
         ],
         "type": "scatter",
         "x": [
          1.8860849142074585
         ],
         "y": [
          12.191770553588867
         ]
        },
        {
         "line": {
          "color": "DarkSlateGrey",
          "width": 2
         },
         "marker": {
          "color": [
           0.993248,
           0.906157,
           0.143936,
           1
          ],
          "size": 9
         },
         "mode": "markers",
         "name": "the",
         "text": [
          "the"
         ],
         "type": "scatter",
         "x": [
          2.54547119140625
         ],
         "y": [
          9.056381225585938
         ]
        },
        {
         "line": {
          "color": "DarkSlateGrey",
          "width": 2
         },
         "marker": {
          "color": [
           0.160665,
           0.47854,
           0.558115,
           1
          ],
          "size": 9
         },
         "mode": "markers",
         "name": "elementary",
         "text": [
          "elementary"
         ],
         "type": "scatter",
         "x": [
          2.712534189224243
         ],
         "y": [
          12.899245262145996
         ]
        },
        {
         "line": {
          "color": "DarkSlateGrey",
          "width": 2
         },
         "marker": {
          "color": [
           0.89632,
           0.893616,
           0.096335,
           1
          ],
          "size": 9
         },
         "mode": "markers",
         "name": "and",
         "text": [
          "and"
         ],
         "type": "scatter",
         "x": [
          -0.4484916031360626
         ],
         "y": [
          2.699516534805298
         ]
        },
        {
         "line": {
          "color": "DarkSlateGrey",
          "width": 2
         },
         "marker": {
          "color": [
           0.160665,
           0.47854,
           0.558115,
           1
          ],
          "size": 9
         },
         "mode": "markers",
         "name": "secondary",
         "text": [
          "secondary"
         ],
         "type": "scatter",
         "x": [
          2.706479072570801
         ],
         "y": [
          12.926766395568848
         ]
        },
        {
         "line": {
          "color": "DarkSlateGrey",
          "width": 2
         },
         "marker": {
          "color": [
           0.153364,
           0.497,
           0.557724,
           1
          ],
          "size": 9
         },
         "mode": "markers",
         "name": "school",
         "text": [
          "school"
         ],
         "type": "scatter",
         "x": [
          2.214275598526001
         ],
         "y": [
          12.138592720031738
         ]
        },
        {
         "line": {
          "color": "DarkSlateGrey",
          "width": 2
         },
         "marker": {
          "color": [
           0.993248,
           0.906157,
           0.143936,
           1
          ],
          "size": 9
         },
         "mode": "markers",
         "name": "level",
         "text": [
          "level"
         ],
         "type": "scatter",
         "x": [
          2.1965010166168213
         ],
         "y": [
          11.807229042053223
         ]
        },
        {
         "line": {
          "color": "DarkSlateGrey",
          "width": 2
         },
         "marker": {
          "color": [
           0.993248,
           0.906157,
           0.143936,
           1
          ],
          "size": 9
         },
         "mode": "markers",
         "name": "general",
         "text": [
          "general"
         ],
         "type": "scatter",
         "x": [
          -1.9614592790603638
         ],
         "y": [
          8.461557388305664
         ]
        },
        {
         "line": {
          "color": "DarkSlateGrey",
          "width": 2
         },
         "marker": {
          "color": [
           0.993248,
           0.906157,
           0.143936,
           1
          ],
          "size": 9
         },
         "mode": "markers",
         "name": "sub",
         "text": [
          "sub"
         ],
         "type": "scatter",
         "x": [
          -1.8023080825805664
         ],
         "y": [
          7.457076072692871
         ]
        },
        {
         "line": {
          "color": "DarkSlateGrey",
          "width": 2
         },
         "marker": {
          "color": [
           0.993248,
           0.906157,
           0.143936,
           1
          ],
          "size": 9
         },
         "mode": "markers",
         "name": "##par",
         "text": [
          "##par"
         ],
         "type": "scatter",
         "x": [
          -1.759708285331726
         ],
         "y": [
          7.650331974029541
         ]
        },
        {
         "line": {
          "color": "DarkSlateGrey",
          "width": 2
         },
         "marker": {
          "color": [
           0.993248,
           0.906157,
           0.143936,
           1
          ],
          "size": 9
         },
         "mode": "markers",
         "name": "##t",
         "text": [
          "##t"
         ],
         "type": "scatter",
         "x": [
          -1.7448091506958008
         ],
         "y": [
          7.46073579788208
         ]
        },
        {
         "line": {
          "color": "DarkSlateGrey",
          "width": 2
         },
         "marker": {
          "color": [
           0.993248,
           0.906157,
           0.143936,
           1
          ],
          "size": 9
         },
         "mode": "markers",
         "name": "part",
         "text": [
          "part"
         ],
         "type": "scatter",
         "x": [
          -1.985505223274231
         ],
         "y": [
          7.317293643951416
         ]
        },
        {
         "line": {
          "color": "DarkSlateGrey",
          "width": 2
         },
         "marker": {
          "color": [
           0.993248,
           0.906157,
           0.143936,
           1
          ],
          "size": 9
         },
         "mode": "markers",
         "name": "sub",
         "text": [
          "sub"
         ],
         "type": "scatter",
         "x": [
          -1.8196355104446411
         ],
         "y": [
          7.4704484939575195
         ]
        },
        {
         "line": {
          "color": "DarkSlateGrey",
          "width": 2
         },
         "marker": {
          "color": [
           0.993248,
           0.906157,
           0.143936,
           1
          ],
          "size": 9
         },
         "mode": "markers",
         "name": "##cha",
         "text": [
          "##cha"
         ],
         "type": "scatter",
         "x": [
          -1.8149151802062988
         ],
         "y": [
          8.027360916137695
         ]
        },
        {
         "line": {
          "color": "DarkSlateGrey",
          "width": 2
         },
         "marker": {
          "color": [
           0.993248,
           0.906157,
           0.143936,
           1
          ],
          "size": 9
         },
         "mode": "markers",
         "name": "##pt",
         "text": [
          "##pt"
         ],
         "type": "scatter",
         "x": [
          -1.8714936971664429
         ],
         "y": [
          7.986065864562988
         ]
        },
        {
         "line": {
          "color": "DarkSlateGrey",
          "width": 2
         },
         "marker": {
          "color": [
           0.993248,
           0.906157,
           0.143936,
           1
          ],
          "size": 9
         },
         "mode": "markers",
         "name": "##er",
         "text": [
          "##er"
         ],
         "type": "scatter",
         "x": [
          -1.7860106229782104
         ],
         "y": [
          7.395062446594238
         ]
        },
        {
         "line": {
          "color": "DarkSlateGrey",
          "width": 2
         },
         "marker": {
          "color": [
           0.335885,
           0.777018,
           0.402049,
           1
          ],
          "size": 9
         },
         "mode": "markers",
         "name": "chapter",
         "text": [
          "chapter"
         ],
         "type": "scatter",
         "x": [
          -2.162491798400879
         ],
         "y": [
          7.176926612854004
         ]
        },
        {
         "line": {
          "color": "DarkSlateGrey",
          "width": 2
         },
         "marker": {
          "color": [
           0.993248,
           0.906157,
           0.143936,
           1
          ],
          "size": 9
         },
         "mode": "markers",
         "name": "the",
         "text": [
          "the"
         ],
         "type": "scatter",
         "x": [
          -0.9599759578704834
         ],
         "y": [
          7.482401371002197
         ]
        },
        {
         "line": {
          "color": "DarkSlateGrey",
          "width": 2
         },
         "marker": {
          "color": [
           0.993248,
           0.906157,
           0.143936,
           1
          ],
          "size": 9
         },
         "mode": "markers",
         "name": "internal",
         "text": [
          "internal"
         ],
         "type": "scatter",
         "x": [
          -1.8388075828552246
         ],
         "y": [
          8.352435111999512
         ]
        },
        {
         "line": {
          "color": "DarkSlateGrey",
          "width": 2
         },
         "marker": {
          "color": [
           0.993248,
           0.906157,
           0.143936,
           1
          ],
          "size": 9
         },
         "mode": "markers",
         "name": "revenue",
         "text": [
          "revenue"
         ],
         "type": "scatter",
         "x": [
          -1.8568685054779053
         ],
         "y": [
          8.434998512268066
         ]
        },
        {
         "line": {
          "color": "DarkSlateGrey",
          "width": 2
         },
         "marker": {
          "color": [
           0.993248,
           0.906157,
           0.143936,
           1
          ],
          "size": 9
         },
         "mode": "markers",
         "name": "code",
         "text": [
          "code"
         ],
         "type": "scatter",
         "x": [
          -2.020803451538086
         ],
         "y": [
          7.00868558883667
         ]
        },
        {
         "line": {
          "color": "DarkSlateGrey",
          "width": 2
         },
         "marker": {
          "color": [
           0.993248,
           0.906157,
           0.143936,
           1
          ],
          "size": 9
         },
         "mode": "markers",
         "name": "1986",
         "text": [
          "1986"
         ],
         "type": "scatter",
         "x": [
          -1.9430418014526367
         ],
         "y": [
          8.485145568847656
         ]
        },
        {
         "line": {
          "color": "DarkSlateGrey",
          "width": 2
         },
         "marker": {
          "color": [
           0.993248,
           0.906157,
           0.143936,
           1
          ],
          "size": 9
         },
         "mode": "markers",
         "name": "relating",
         "text": [
          "relating"
         ],
         "type": "scatter",
         "x": [
          -0.27627846598625183
         ],
         "y": [
          8.519271850585938
         ]
        },
        {
         "line": {
          "color": "DarkSlateGrey",
          "width": 2
         },
         "marker": {
          "color": [
           0.993248,
           0.906157,
           0.143936,
           1
          ],
          "size": 9
         },
         "mode": "markers",
         "name": "business",
         "text": [
          "business"
         ],
         "type": "scatter",
         "x": [
          0.7946830987930298
         ],
         "y": [
          10.510560035705566
         ]
        },
        {
         "line": {
          "color": "DarkSlateGrey",
          "width": 2
         },
         "marker": {
          "color": [
           0.993248,
           0.906157,
           0.143936,
           1
          ],
          "size": 9
         },
         "mode": "markers",
         "name": "related",
         "text": [
          "related"
         ],
         "type": "scatter",
         "x": [
          0.464489221572876
         ],
         "y": [
          8.898026466369629
         ]
        },
        {
         "line": {
          "color": "DarkSlateGrey",
          "width": 2
         },
         "marker": {
          "color": [
           0.993248,
           0.906157,
           0.143936,
           1
          ],
          "size": 9
         },
         "mode": "markers",
         "name": "credits",
         "text": [
          "credits"
         ],
         "type": "scatter",
         "x": [
          -0.7041903734207153
         ],
         "y": [
          9.69483470916748
         ]
        },
        {
         "line": {
          "color": "DarkSlateGrey",
          "width": 2
         },
         "marker": {
          "color": [
           0.993248,
           0.906157,
           0.143936,
           1
          ],
          "size": 9
         },
         "mode": "markers",
         "name": "amended",
         "text": [
          "amended"
         ],
         "type": "scatter",
         "x": [
          -1.3213493824005127
         ],
         "y": [
          6.584823131561279
         ]
        },
        {
         "line": {
          "color": "DarkSlateGrey",
          "width": 2
         },
         "marker": {
          "color": [
           0.993248,
           0.906157,
           0.143936,
           1
          ],
          "size": 9
         },
         "mode": "markers",
         "name": "adding",
         "text": [
          "adding"
         ],
         "type": "scatter",
         "x": [
          -1.10654878616333
         ],
         "y": [
          6.584162712097168
         ]
        },
        {
         "line": {
          "color": "DarkSlateGrey",
          "width": 2
         },
         "marker": {
          "color": [
           0.993248,
           0.906157,
           0.143936,
           1
          ],
          "size": 9
         },
         "mode": "markers",
         "name": "the",
         "text": [
          "the"
         ],
         "type": "scatter",
         "x": [
          -1.2094405889511108
         ],
         "y": [
          7.028813362121582
         ]
        },
        {
         "line": {
          "color": "DarkSlateGrey",
          "width": 2
         },
         "marker": {
          "color": [
           0.993248,
           0.906157,
           0.143936,
           1
          ],
          "size": 9
         },
         "mode": "markers",
         "name": "end",
         "text": [
          "end"
         ],
         "type": "scatter",
         "x": [
          -1.3160995244979858
         ],
         "y": [
          7.410219669342041
         ]
        },
        {
         "line": {
          "color": "DarkSlateGrey",
          "width": 2
         },
         "marker": {
          "color": [
           0.993248,
           0.906157,
           0.143936,
           1
          ],
          "size": 9
         },
         "mode": "markers",
         "name": "the",
         "text": [
          "the"
         ],
         "type": "scatter",
         "x": [
          -1.121694803237915
         ],
         "y": [
          7.003807544708252
         ]
        },
        {
         "line": {
          "color": "DarkSlateGrey",
          "width": 2
         },
         "marker": {
          "color": [
           0.993248,
           0.906157,
           0.143936,
           1
          ],
          "size": 9
         },
         "mode": "markers",
         "name": "following",
         "text": [
          "following"
         ],
         "type": "scatter",
         "x": [
          -1.359963059425354
         ],
         "y": [
          6.059237957000732
         ]
        },
        {
         "line": {
          "color": "DarkSlateGrey",
          "width": 2
         },
         "marker": {
          "color": [
           0.993248,
           0.906157,
           0.143936,
           1
          ],
          "size": 9
         },
         "mode": "markers",
         "name": "new",
         "text": [
          "new"
         ],
         "type": "scatter",
         "x": [
          -1.3069177865982056
         ],
         "y": [
          6.497857093811035
         ]
        },
        {
         "line": {
          "color": "DarkSlateGrey",
          "width": 2
         },
         "marker": {
          "color": [
           0.335885,
           0.777018,
           0.402049,
           1
          ],
          "size": 9
         },
         "mode": "markers",
         "name": "section",
         "text": [
          "section"
         ],
         "type": "scatter",
         "x": [
          -2.08438777923584
         ],
         "y": [
          6.789316654205322
         ]
        },
        {
         "line": {
          "color": "DarkSlateGrey",
          "width": 2
         },
         "marker": {
          "color": [
           0.993248,
           0.906157,
           0.143936,
           1
          ],
          "size": 9
         },
         "mode": "markers",
         "name": "sec",
         "text": [
          "sec"
         ],
         "type": "scatter",
         "x": [
          -2.4030911922454834
         ],
         "y": [
          7.125296115875244
         ]
        },
        {
         "line": {
          "color": "DarkSlateGrey",
          "width": 2
         },
         "marker": {
          "color": [
           0.993248,
           0.906157,
           0.143936,
           1
          ],
          "size": 9
         },
         "mode": "markers",
         "name": "##o",
         "text": [
          "##o"
         ],
         "type": "scatter",
         "x": [
          7.589128494262695
         ],
         "y": [
          8.14498233795166
         ]
        },
        {
         "line": {
          "color": "DarkSlateGrey",
          "width": 2
         },
         "marker": {
          "color": [
           0.993248,
           0.906157,
           0.143936,
           1
          ],
          "size": 9
         },
         "mode": "markers",
         "name": "contributions",
         "text": [
          "contributions"
         ],
         "type": "scatter",
         "x": [
          -1.138105869293213
         ],
         "y": [
          10.911687850952148
         ]
        },
        {
         "line": {
          "color": "DarkSlateGrey",
          "width": 2
         },
         "marker": {
          "color": [
           0.993248,
           0.906157,
           0.143936,
           1
          ],
          "size": 9
         },
         "mode": "markers",
         "name": "benefit",
         "text": [
          "benefit"
         ],
         "type": "scatter",
         "x": [
          0.5492271780967712
         ],
         "y": [
          9.946432113647461
         ]
        },
        {
         "line": {
          "color": "DarkSlateGrey",
          "width": 2
         },
         "marker": {
          "color": [
           0.993248,
           0.906157,
           0.143936,
           1
          ],
          "size": 9
         },
         "mode": "markers",
         "name": "##ing",
         "text": [
          "##ing"
         ],
         "type": "scatter",
         "x": [
          1.24848210811615
         ],
         "y": [
          9.840057373046875
         ]
        },
        {
         "line": {
          "color": "DarkSlateGrey",
          "width": 2
         },
         "marker": {
          "color": [
           0.279574,
           0.170599,
           0.479997,
           1
          ],
          "size": 9
         },
         "mode": "markers",
         "name": "science",
         "text": [
          "science"
         ],
         "type": "scatter",
         "x": [
          4.605369567871094
         ],
         "y": [
          -8.33163070678711
         ]
        },
        {
         "line": {
          "color": "DarkSlateGrey",
          "width": 2
         },
         "marker": {
          "color": [
           0.275191,
           0.194905,
           0.496005,
           1
          ],
          "size": 9
         },
         "mode": "markers",
         "name": "technology",
         "text": [
          "technology"
         ],
         "type": "scatter",
         "x": [
          14.85036849975586
         ],
         "y": [
          10.918496131896973
         ]
        },
        {
         "line": {
          "color": "DarkSlateGrey",
          "width": 2
         },
         "marker": {
          "color": [
           0.28229,
           0.145912,
           0.46151,
           1
          ],
          "size": 9
         },
         "mode": "markers",
         "name": "engineering",
         "text": [
          "engineering"
         ],
         "type": "scatter",
         "x": [
          14.692660331726074
         ],
         "y": [
          12.091854095458984
         ]
        },
        {
         "line": {
          "color": "DarkSlateGrey",
          "width": 2
         },
         "marker": {
          "color": [
           0.89632,
           0.893616,
           0.096335,
           1
          ],
          "size": 9
         },
         "mode": "markers",
         "name": "and",
         "text": [
          "and"
         ],
         "type": "scatter",
         "x": [
          -0.4716048538684845
         ],
         "y": [
          2.5658490657806396
         ]
        },
        {
         "line": {
          "color": "DarkSlateGrey",
          "width": 2
         },
         "marker": {
          "color": [
           0.283197,
           0.11568,
           0.436115,
           1
          ],
          "size": 9
         },
         "mode": "markers",
         "name": "mathematics",
         "text": [
          "mathematics"
         ],
         "type": "scatter",
         "x": [
          6.93646764755249
         ],
         "y": [
          21.946496963500977
         ]
        },
        {
         "line": {
          "color": "DarkSlateGrey",
          "width": 2
         },
         "marker": {
          "color": [
           0.153364,
           0.497,
           0.557724,
           1
          ],
          "size": 9
         },
         "mode": "markers",
         "name": "education",
         "text": [
          "education"
         ],
         "type": "scatter",
         "x": [
          1.857849359512329
         ],
         "y": [
          12.18588638305664
         ]
        },
        {
         "line": {
          "color": "DarkSlateGrey",
          "width": 2
         },
         "marker": {
          "color": [
           0.993248,
           0.906157,
           0.143936,
           1
          ],
          "size": 9
         },
         "mode": "markers",
         "name": "the",
         "text": [
          "the"
         ],
         "type": "scatter",
         "x": [
          2.5151400566101074
         ],
         "y": [
          9.066923141479492
         ]
        },
        {
         "line": {
          "color": "DarkSlateGrey",
          "width": 2
         },
         "marker": {
          "color": [
           0.160665,
           0.47854,
           0.558115,
           1
          ],
          "size": 9
         },
         "mode": "markers",
         "name": "elementary",
         "text": [
          "elementary"
         ],
         "type": "scatter",
         "x": [
          2.723592758178711
         ],
         "y": [
          12.887896537780762
         ]
        },
        {
         "line": {
          "color": "DarkSlateGrey",
          "width": 2
         },
         "marker": {
          "color": [
           0.993248,
           0.906157,
           0.143936,
           1
          ],
          "size": 9
         },
         "mode": "markers",
         "name": "and",
         "text": [
          "and"
         ],
         "type": "scatter",
         "x": [
          -0.5033698678016663
         ],
         "y": [
          2.701120138168335
         ]
        },
        {
         "line": {
          "color": "DarkSlateGrey",
          "width": 2
         },
         "marker": {
          "color": [
           0.160665,
           0.47854,
           0.558115,
           1
          ],
          "size": 9
         },
         "mode": "markers",
         "name": "secondary",
         "text": [
          "secondary"
         ],
         "type": "scatter",
         "x": [
          2.683763027191162
         ],
         "y": [
          12.936914443969727
         ]
        },
        {
         "line": {
          "color": "DarkSlateGrey",
          "width": 2
         },
         "marker": {
          "color": [
           0.153364,
           0.497,
           0.557724,
           1
          ],
          "size": 9
         },
         "mode": "markers",
         "name": "school",
         "text": [
          "school"
         ],
         "type": "scatter",
         "x": [
          2.2331714630126953
         ],
         "y": [
          12.100403785705566
         ]
        },
        {
         "line": {
          "color": "DarkSlateGrey",
          "width": 2
         },
         "marker": {
          "color": [
           0.993248,
           0.906157,
           0.143936,
           1
          ],
          "size": 9
         },
         "mode": "markers",
         "name": "level",
         "text": [
          "level"
         ],
         "type": "scatter",
         "x": [
          2.179358959197998
         ],
         "y": [
          11.817872047424316
         ]
        },
        {
         "line": {
          "color": "DarkSlateGrey",
          "width": 2
         },
         "marker": {
          "color": [
           0.993248,
           0.906157,
           0.143936,
           1
          ],
          "size": 9
         },
         "mode": "markers",
         "name": "general",
         "text": [
          "general"
         ],
         "type": "scatter",
         "x": [
          -2.0523266792297363
         ],
         "y": [
          8.509611129760742
         ]
        },
        {
         "line": {
          "color": "DarkSlateGrey",
          "width": 2
         },
         "marker": {
          "color": [
           0.203063,
           0.379716,
           0.553925,
           1
          ],
          "size": 9
         },
         "mode": "markers",
         "name": "for",
         "text": [
          "for"
         ],
         "type": "scatter",
         "x": [
          0.936756432056427
         ],
         "y": [
          8.095564842224121
         ]
        },
        {
         "line": {
          "color": "DarkSlateGrey",
          "width": 2
         },
         "marker": {
          "color": [
           0.278791,
           0.062145,
           0.386592,
           1
          ],
          "size": 9
         },
         "mode": "markers",
         "name": "purposes",
         "text": [
          "purposes"
         ],
         "type": "scatter",
         "x": [
          -1.062850832939148
         ],
         "y": [
          8.410123825073242
         ]
        },
        {
         "line": {
          "color": "DarkSlateGrey",
          "width": 2
         },
         "marker": {
          "color": [
           0.335885,
           0.777018,
           0.402049,
           1
          ],
          "size": 9
         },
         "mode": "markers",
         "name": "section",
         "text": [
          "section"
         ],
         "type": "scatter",
         "x": [
          -2.3328893184661865
         ],
         "y": [
          7.074452877044678
         ]
        },
        {
         "line": {
          "color": "DarkSlateGrey",
          "width": 2
         },
         "marker": {
          "color": [
           0.993248,
           0.906157,
           0.143936,
           1
          ],
          "size": 9
         },
         "mode": "markers",
         "name": "the",
         "text": [
          "the"
         ],
         "type": "scatter",
         "x": [
          -0.16337132453918457
         ],
         "y": [
          8.46678638458252
         ]
        },
        {
         "line": {
          "color": "DarkSlateGrey",
          "width": 2
         },
         "marker": {
          "color": [
           0.160665,
           0.47854,
           0.558115,
           1
          ],
          "size": 9
         },
         "mode": "markers",
         "name": "elementary",
         "text": [
          "elementary"
         ],
         "type": "scatter",
         "x": [
          2.7056941986083984
         ],
         "y": [
          12.892585754394531
         ]
        },
        {
         "line": {
          "color": "DarkSlateGrey",
          "width": 2
         },
         "marker": {
          "color": [
           0.993248,
           0.906157,
           0.143936,
           1
          ],
          "size": 9
         },
         "mode": "markers",
         "name": "and",
         "text": [
          "and"
         ],
         "type": "scatter",
         "x": [
          -0.4731592833995819
         ],
         "y": [
          2.683228015899658
         ]
        },
        {
         "line": {
          "color": "DarkSlateGrey",
          "width": 2
         },
         "marker": {
          "color": [
           0.160665,
           0.47854,
           0.558115,
           1
          ],
          "size": 9
         },
         "mode": "markers",
         "name": "secondary",
         "text": [
          "secondary"
         ],
         "type": "scatter",
         "x": [
          2.7263216972351074
         ],
         "y": [
          12.946234703063965
         ]
        },
        {
         "line": {
          "color": "DarkSlateGrey",
          "width": 2
         },
         "marker": {
          "color": [
           0.279574,
           0.170599,
           0.479997,
           1
          ],
          "size": 9
         },
         "mode": "markers",
         "name": "science",
         "text": [
          "science"
         ],
         "type": "scatter",
         "x": [
          4.602025508880615
         ],
         "y": [
          -8.335901260375977
         ]
        },
        {
         "line": {
          "color": "DarkSlateGrey",
          "width": 2
         },
         "marker": {
          "color": [
           0.275191,
           0.194905,
           0.496005,
           1
          ],
          "size": 9
         },
         "mode": "markers",
         "name": "technology",
         "text": [
          "technology"
         ],
         "type": "scatter",
         "x": [
          14.84378433227539
         ],
         "y": [
          10.914329528808594
         ]
        },
        {
         "line": {
          "color": "DarkSlateGrey",
          "width": 2
         },
         "marker": {
          "color": [
           0.28229,
           0.145912,
           0.46151,
           1
          ],
          "size": 9
         },
         "mode": "markers",
         "name": "engineering",
         "text": [
          "engineering"
         ],
         "type": "scatter",
         "x": [
          14.7058687210083
         ],
         "y": [
          12.072649955749512
         ]
        },
        {
         "line": {
          "color": "DarkSlateGrey",
          "width": 2
         },
         "marker": {
          "color": [
           0.993248,
           0.906157,
           0.143936,
           1
          ],
          "size": 9
         },
         "mode": "markers",
         "name": "and",
         "text": [
          "and"
         ],
         "type": "scatter",
         "x": [
          -0.4687041938304901
         ],
         "y": [
          2.561920166015625
         ]
        },
        {
         "line": {
          "color": "DarkSlateGrey",
          "width": 2
         },
         "marker": {
          "color": [
           0.283197,
           0.11568,
           0.436115,
           1
          ],
          "size": 9
         },
         "mode": "markers",
         "name": "mathematics",
         "text": [
          "mathematics"
         ],
         "type": "scatter",
         "x": [
          6.9344916343688965
         ],
         "y": [
          21.94415855407715
         ]
        },
        {
         "line": {
          "color": "DarkSlateGrey",
          "width": 2
         },
         "marker": {
          "color": [
           0.281924,
           0.089666,
           0.412415,
           1
          ],
          "size": 9
         },
         "mode": "markers",
         "name": "stem",
         "text": [
          "stem"
         ],
         "type": "scatter",
         "x": [
          -7.6228108406066895
         ],
         "y": [
          4.181455135345459
         ]
        },
        {
         "line": {
          "color": "DarkSlateGrey",
          "width": 2
         },
         "marker": {
          "color": [
           0.223925,
           0.334994,
           0.548053,
           1
          ],
          "size": 9
         },
         "mode": "markers",
         "name": "contributions",
         "text": [
          "contributions"
         ],
         "type": "scatter",
         "x": [
          -1.173892617225647
         ],
         "y": [
          10.927276611328125
         ]
        },
        {
         "line": {
          "color": "DarkSlateGrey",
          "width": 2
         },
         "marker": {
          "color": [
           0.993248,
           0.906157,
           0.143936,
           1
          ],
          "size": 9
         },
         "mode": "markers",
         "name": "credit",
         "text": [
          "credit"
         ],
         "type": "scatter",
         "x": [
          -0.6763222813606262
         ],
         "y": [
          9.642874717712402
         ]
        },
        {
         "line": {
          "color": "DarkSlateGrey",
          "width": 2
         },
         "marker": {
          "color": [
           0.993248,
           0.906157,
           0.143936,
           1
          ],
          "size": 9
         },
         "mode": "markers",
         "name": "determined",
         "text": [
          "determined"
         ],
         "type": "scatter",
         "x": [
          -0.1042739748954773
         ],
         "y": [
          9.183103561401367
         ]
        },
        {
         "line": {
          "color": "DarkSlateGrey",
          "width": 2
         },
         "marker": {
          "color": [
           0.377779,
           0.791781,
           0.377939,
           1
          ],
          "size": 9
         },
         "mode": "markers",
         "name": "under",
         "text": [
          "under"
         ],
         "type": "scatter",
         "x": [
          -0.3702992796897888
         ],
         "y": [
          7.3593525886535645
         ]
        },
        {
         "line": {
          "color": "DarkSlateGrey",
          "width": 2
         },
         "marker": {
          "color": [
           0.19109,
           0.708366,
           0.482284,
           1
          ],
          "size": 9
         },
         "mode": "markers",
         "name": "this",
         "text": [
          "this"
         ],
         "type": "scatter",
         "x": [
          -1.3806058168411255
         ],
         "y": [
          5.978866100311279
         ]
        },
        {
         "line": {
          "color": "DarkSlateGrey",
          "width": 2
         },
         "marker": {
          "color": [
           0.335885,
           0.777018,
           0.402049,
           1
          ],
          "size": 9
         },
         "mode": "markers",
         "name": "section",
         "text": [
          "section"
         ],
         "type": "scatter",
         "x": [
          -2.107886552810669
         ],
         "y": [
          6.8151774406433105
         ]
        },
        {
         "line": {
          "color": "DarkSlateGrey",
          "width": 2
         },
         "marker": {
          "color": [
           0.993248,
           0.906157,
           0.143936,
           1
          ],
          "size": 9
         },
         "mode": "markers",
         "name": "for",
         "text": [
          "for"
         ],
         "type": "scatter",
         "x": [
          1.0273292064666748
         ],
         "y": [
          8.654290199279785
         ]
        },
        {
         "line": {
          "color": "DarkSlateGrey",
          "width": 2
         },
         "marker": {
          "color": [
           0.993248,
           0.906157,
           0.143936,
           1
          ],
          "size": 9
         },
         "mode": "markers",
         "name": "the",
         "text": [
          "the"
         ],
         "type": "scatter",
         "x": [
          1.9019523859024048
         ],
         "y": [
          9.334237098693848
         ]
        },
        {
         "line": {
          "color": "DarkSlateGrey",
          "width": 2
         },
         "marker": {
          "color": [
           0.993248,
           0.906157,
           0.143936,
           1
          ],
          "size": 9
         },
         "mode": "markers",
         "name": "taxa",
         "text": [
          "taxa"
         ],
         "type": "scatter",
         "x": [
          -1.6316121816635132
         ],
         "y": [
          8.68319034576416
         ]
        },
        {
         "line": {
          "color": "DarkSlateGrey",
          "width": 2
         },
         "marker": {
          "color": [
           0.993248,
           0.906157,
           0.143936,
           1
          ],
          "size": 9
         },
         "mode": "markers",
         "name": "##ble",
         "text": [
          "##ble"
         ],
         "type": "scatter",
         "x": [
          -0.9634208679199219
         ],
         "y": [
          9.026721000671387
         ]
        },
        {
         "line": {
          "color": "DarkSlateGrey",
          "width": 2
         },
         "marker": {
          "color": [
           0.993248,
           0.906157,
           0.143936,
           1
          ],
          "size": 9
         },
         "mode": "markers",
         "name": "year",
         "text": [
          "year"
         ],
         "type": "scatter",
         "x": [
          -0.8994079232215881
         ],
         "y": [
          8.983899116516113
         ]
        },
        {
         "line": {
          "color": "DarkSlateGrey",
          "width": 2
         },
         "marker": {
          "color": [
           0.122312,
           0.633153,
           0.530398,
           1
          ],
          "size": 9
         },
         "mode": "markers",
         "name": "amount",
         "text": [
          "amount"
         ],
         "type": "scatter",
         "x": [
          -0.4179058074951172
         ],
         "y": [
          9.440927505493164
         ]
        },
        {
         "line": {
          "color": "DarkSlateGrey",
          "width": 2
         },
         "marker": {
          "color": [
           0.993248,
           0.906157,
           0.143936,
           1
          ],
          "size": 9
         },
         "mode": "markers",
         "name": "equal",
         "text": [
          "equal"
         ],
         "type": "scatter",
         "x": [
          -0.17392322421073914
         ],
         "y": [
          8.881046295166016
         ]
        },
        {
         "line": {
          "color": "DarkSlateGrey",
          "width": 2
         },
         "marker": {
          "color": [
           0.993248,
           0.906157,
           0.143936,
           1
          ],
          "size": 9
         },
         "mode": "markers",
         "name": "100",
         "text": [
          "100"
         ],
         "type": "scatter",
         "x": [
          -0.28728151321411133
         ],
         "y": [
          8.899632453918457
         ]
        },
        {
         "line": {
          "color": "DarkSlateGrey",
          "width": 2
         },
         "marker": {
          "color": [
           0.993248,
           0.906157,
           0.143936,
           1
          ],
          "size": 9
         },
         "mode": "markers",
         "name": "percent",
         "text": [
          "percent"
         ],
         "type": "scatter",
         "x": [
          -0.3620789051055908
         ],
         "y": [
          9.201912879943848
         ]
        },
        {
         "line": {
          "color": "DarkSlateGrey",
          "width": 2
         },
         "marker": {
          "color": [
           0.993248,
           0.906157,
           0.143936,
           1
          ],
          "size": 9
         },
         "mode": "markers",
         "name": "the",
         "text": [
          "the"
         ],
         "type": "scatter",
         "x": [
          -0.11270398646593094
         ],
         "y": [
          8.633251190185547
         ]
        },
        {
         "line": {
          "color": "DarkSlateGrey",
          "width": 2
         },
         "marker": {
          "color": [
           0.993248,
           0.906157,
           0.143936,
           1
          ],
          "size": 9
         },
         "mode": "markers",
         "name": "qualified",
         "text": [
          "qualified"
         ],
         "type": "scatter",
         "x": [
          1.5717954635620117
         ],
         "y": [
          6.513408184051514
         ]
        },
        {
         "line": {
          "color": "DarkSlateGrey",
          "width": 2
         },
         "marker": {
          "color": [
           0.281924,
           0.089666,
           0.412415,
           1
          ],
          "size": 9
         },
         "mode": "markers",
         "name": "stem",
         "text": [
          "stem"
         ],
         "type": "scatter",
         "x": [
          -7.693437099456787
         ],
         "y": [
          4.116300582885742
         ]
        },
        {
         "line": {
          "color": "DarkSlateGrey",
          "width": 2
         },
         "marker": {
          "color": [
           0.223925,
           0.334994,
           0.548053,
           1
          ],
          "size": 9
         },
         "mode": "markers",
         "name": "contributions",
         "text": [
          "contributions"
         ],
         "type": "scatter",
         "x": [
          -1.1384035348892212
         ],
         "y": [
          10.94006061553955
         ]
        },
        {
         "line": {
          "color": "DarkSlateGrey",
          "width": 2
         },
         "marker": {
          "color": [
           0.993248,
           0.906157,
           0.143936,
           1
          ],
          "size": 9
         },
         "mode": "markers",
         "name": "the",
         "text": [
          "the"
         ],
         "type": "scatter",
         "x": [
          1.8454269170761108
         ],
         "y": [
          9.231029510498047
         ]
        },
        {
         "line": {
          "color": "DarkSlateGrey",
          "width": 2
         },
         "marker": {
          "color": [
           0.273809,
           0.031497,
           0.358853,
           1
          ],
          "size": 9
         },
         "mode": "markers",
         "name": "taxpayer",
         "text": [
          "taxpayer"
         ],
         "type": "scatter",
         "x": [
          -1.620280385017395
         ],
         "y": [
          9.709896087646484
         ]
        },
        {
         "line": {
          "color": "DarkSlateGrey",
          "width": 2
         },
         "marker": {
          "color": [
           0.993248,
           0.906157,
           0.143936,
           1
          ],
          "size": 9
         },
         "mode": "markers",
         "name": "for",
         "text": [
          "for"
         ],
         "type": "scatter",
         "x": [
          1.0018631219863892
         ],
         "y": [
          8.658493995666504
         ]
        },
        {
         "line": {
          "color": "DarkSlateGrey",
          "width": 2
         },
         "marker": {
          "color": [
           0.130067,
           0.651384,
           0.521608,
           1
          ],
          "size": 9
         },
         "mode": "markers",
         "name": "such",
         "text": [
          "such"
         ],
         "type": "scatter",
         "x": [
          5.356388092041016
         ],
         "y": [
          12.321954727172852
         ]
        },
        {
         "line": {
          "color": "DarkSlateGrey",
          "width": 2
         },
         "marker": {
          "color": [
           0.993248,
           0.906157,
           0.143936,
           1
          ],
          "size": 9
         },
         "mode": "markers",
         "name": "taxa",
         "text": [
          "taxa"
         ],
         "type": "scatter",
         "x": [
          -1.6517348289489746
         ],
         "y": [
          8.690326690673828
         ]
        },
        {
         "line": {
          "color": "DarkSlateGrey",
          "width": 2
         },
         "marker": {
          "color": [
           0.993248,
           0.906157,
           0.143936,
           1
          ],
          "size": 9
         },
         "mode": "markers",
         "name": "##ble",
         "text": [
          "##ble"
         ],
         "type": "scatter",
         "x": [
          -0.9653543829917908
         ],
         "y": [
          9.009089469909668
         ]
        },
        {
         "line": {
          "color": "DarkSlateGrey",
          "width": 2
         },
         "marker": {
          "color": [
           0.993248,
           0.906157,
           0.143936,
           1
          ],
          "size": 9
         },
         "mode": "markers",
         "name": "year",
         "text": [
          "year"
         ],
         "type": "scatter",
         "x": [
          -0.8923080563545227
         ],
         "y": [
          9.020034790039062
         ]
        },
        {
         "line": {
          "color": "DarkSlateGrey",
          "width": 2
         },
         "marker": {
          "color": [
           0.993248,
           0.906157,
           0.143936,
           1
          ],
          "size": 9
         },
         "mode": "markers",
         "name": "qualified",
         "text": [
          "qualified"
         ],
         "type": "scatter",
         "x": [
          1.559556245803833
         ],
         "y": [
          6.506926536560059
         ]
        },
        {
         "line": {
          "color": "DarkSlateGrey",
          "width": 2
         },
         "marker": {
          "color": [
           0.281924,
           0.089666,
           0.412415,
           1
          ],
          "size": 9
         },
         "mode": "markers",
         "name": "stem",
         "text": [
          "stem"
         ],
         "type": "scatter",
         "x": [
          -7.6831135749816895
         ],
         "y": [
          4.132058620452881
         ]
        },
        {
         "line": {
          "color": "DarkSlateGrey",
          "width": 2
         },
         "marker": {
          "color": [
           0.223925,
           0.334994,
           0.548053,
           1
          ],
          "size": 9
         },
         "mode": "markers",
         "name": "contributions",
         "text": [
          "contributions"
         ],
         "type": "scatter",
         "x": [
          -1.1493068933486938
         ],
         "y": [
          10.916068077087402
         ]
        },
        {
         "line": {
          "color": "DarkSlateGrey",
          "width": 2
         },
         "marker": {
          "color": [
           0.203063,
           0.379716,
           0.553925,
           1
          ],
          "size": 9
         },
         "mode": "markers",
         "name": "for",
         "text": [
          "for"
         ],
         "type": "scatter",
         "x": [
          0.9508628845214844
         ],
         "y": [
          8.107122421264648
         ]
        },
        {
         "line": {
          "color": "DarkSlateGrey",
          "width": 2
         },
         "marker": {
          "color": [
           0.278791,
           0.062145,
           0.386592,
           1
          ],
          "size": 9
         },
         "mode": "markers",
         "name": "purposes",
         "text": [
          "purposes"
         ],
         "type": "scatter",
         "x": [
          -1.0707916021347046
         ],
         "y": [
          8.416616439819336
         ]
        },
        {
         "line": {
          "color": "DarkSlateGrey",
          "width": 2
         },
         "marker": {
          "color": [
           0.19109,
           0.708366,
           0.482284,
           1
          ],
          "size": 9
         },
         "mode": "markers",
         "name": "this",
         "text": [
          "this"
         ],
         "type": "scatter",
         "x": [
          -1.3780417442321777
         ],
         "y": [
          5.9897332191467285
         ]
        },
        {
         "line": {
          "color": "DarkSlateGrey",
          "width": 2
         },
         "marker": {
          "color": [
           0.335885,
           0.777018,
           0.402049,
           1
          ],
          "size": 9
         },
         "mode": "markers",
         "name": "section",
         "text": [
          "section"
         ],
         "type": "scatter",
         "x": [
          -2.1564297676086426
         ],
         "y": [
          6.835958480834961
         ]
        },
        {
         "line": {
          "color": "DarkSlateGrey",
          "width": 2
         },
         "marker": {
          "color": [
           0.626579,
           0.854645,
           0.223353,
           1
          ],
          "size": 9
         },
         "mode": "markers",
         "name": "the",
         "text": [
          "the"
         ],
         "type": "scatter",
         "x": [
          7.999303340911865
         ],
         "y": [
          -6.2792510986328125
         ]
        },
        {
         "line": {
          "color": "DarkSlateGrey",
          "width": 2
         },
         "marker": {
          "color": [
           0.252194,
           0.269783,
           0.531579,
           1
          ],
          "size": 9
         },
         "mode": "markers",
         "name": "term",
         "text": [
          "term"
         ],
         "type": "scatter",
         "x": [
          17.731962203979492
         ],
         "y": [
          -4.448513031005859
         ]
        },
        {
         "line": {
          "color": "DarkSlateGrey",
          "width": 2
         },
         "marker": {
          "color": [
           0.993248,
           0.906157,
           0.143936,
           1
          ],
          "size": 9
         },
         "mode": "markers",
         "name": "qualified",
         "text": [
          "qualified"
         ],
         "type": "scatter",
         "x": [
          1.5616377592086792
         ],
         "y": [
          6.510321140289307
         ]
        },
        {
         "line": {
          "color": "DarkSlateGrey",
          "width": 2
         },
         "marker": {
          "color": [
           0.281924,
           0.089666,
           0.412415,
           1
          ],
          "size": 9
         },
         "mode": "markers",
         "name": "stem",
         "text": [
          "stem"
         ],
         "type": "scatter",
         "x": [
          -7.71783971786499
         ],
         "y": [
          4.090033531188965
         ]
        },
        {
         "line": {
          "color": "DarkSlateGrey",
          "width": 2
         },
         "marker": {
          "color": [
           0.223925,
           0.334994,
           0.548053,
           1
          ],
          "size": 9
         },
         "mode": "markers",
         "name": "contributions",
         "text": [
          "contributions"
         ],
         "type": "scatter",
         "x": [
          -1.1735172271728516
         ],
         "y": [
          10.936767578125
         ]
        },
        {
         "line": {
          "color": "DarkSlateGrey",
          "width": 2
         },
         "marker": {
          "color": [
           0.260571,
           0.246922,
           0.522828,
           1
          ],
          "size": 9
         },
         "mode": "markers",
         "name": "means",
         "text": [
          "means"
         ],
         "type": "scatter",
         "x": [
          -5.056987285614014
         ],
         "y": [
          11.088702201843262
         ]
        },
        {
         "line": {
          "color": "DarkSlateGrey",
          "width": 2
         },
         "marker": {
          "color": [
           0.281924,
           0.089666,
           0.412415,
           1
          ],
          "size": 9
         },
         "mode": "markers",
         "name": "stem",
         "text": [
          "stem"
         ],
         "type": "scatter",
         "x": [
          -7.736690044403076
         ],
         "y": [
          4.061242580413818
         ]
        },
        {
         "line": {
          "color": "DarkSlateGrey",
          "width": 2
         },
         "marker": {
          "color": [
           0.153364,
           0.497,
           0.557724,
           1
          ],
          "size": 9
         },
         "mode": "markers",
         "name": "school",
         "text": [
          "school"
         ],
         "type": "scatter",
         "x": [
          2.063772678375244
         ],
         "y": [
          12.11821174621582
         ]
        },
        {
         "line": {
          "color": "DarkSlateGrey",
          "width": 2
         },
         "marker": {
          "color": [
           0.223925,
           0.334994,
           0.548053,
           1
          ],
          "size": 9
         },
         "mode": "markers",
         "name": "contributions",
         "text": [
          "contributions"
         ],
         "type": "scatter",
         "x": [
          -1.169148325920105
         ],
         "y": [
          10.925819396972656
         ]
        },
        {
         "line": {
          "color": "DarkSlateGrey",
          "width": 2
         },
         "marker": {
          "color": [
           0.281924,
           0.089666,
           0.412415,
           1
          ],
          "size": 9
         },
         "mode": "markers",
         "name": "stem",
         "text": [
          "stem"
         ],
         "type": "scatter",
         "x": [
          -7.703018665313721
         ],
         "y": [
          4.0985517501831055
         ]
        },
        {
         "line": {
          "color": "DarkSlateGrey",
          "width": 2
         },
         "marker": {
          "color": [
           0.153364,
           0.497,
           0.557724,
           1
          ],
          "size": 9
         },
         "mode": "markers",
         "name": "teacher",
         "text": [
          "teacher"
         ],
         "type": "scatter",
         "x": [
          1.2492330074310303
         ],
         "y": [
          12.318758010864258
         ]
        },
        {
         "line": {
          "color": "DarkSlateGrey",
          "width": 2
         },
         "marker": {
          "color": [
           0.14618,
           0.515413,
           0.556823,
           1
          ],
          "size": 9
         },
         "mode": "markers",
         "name": "##tern",
         "text": [
          "##tern"
         ],
         "type": "scatter",
         "x": [
          0.7682765126228333
         ],
         "y": [
          11.76266860961914
         ]
        },
        {
         "line": {
          "color": "DarkSlateGrey",
          "width": 2
         },
         "marker": {
          "color": [
           0.14618,
           0.515413,
           0.556823,
           1
          ],
          "size": 9
         },
         "mode": "markers",
         "name": "##ship",
         "text": [
          "##ship"
         ],
         "type": "scatter",
         "x": [
          0.9684610366821289
         ],
         "y": [
          11.547545433044434
         ]
        },
        {
         "line": {
          "color": "DarkSlateGrey",
          "width": 2
         },
         "marker": {
          "color": [
           0.212395,
           0.359683,
           0.55171,
           1
          ],
          "size": 9
         },
         "mode": "markers",
         "name": "expenses",
         "text": [
          "expenses"
         ],
         "type": "scatter",
         "x": [
          -0.8059050440788269
         ],
         "y": [
          10.570113182067871
         ]
        },
        {
         "line": {
          "color": "DarkSlateGrey",
          "width": 2
         },
         "marker": {
          "color": [
           0.162016,
           0.687316,
           0.499129,
           1
          ],
          "size": 9
         },
         "mode": "markers",
         "name": "and",
         "text": [
          "and"
         ],
         "type": "scatter",
         "x": [
          -1.4623826742172241
         ],
         "y": [
          3.4249582290649414
         ]
        },
        {
         "line": {
          "color": "DarkSlateGrey",
          "width": 2
         },
         "marker": {
          "color": [
           0.281924,
           0.089666,
           0.412415,
           1
          ],
          "size": 9
         },
         "mode": "markers",
         "name": "stem",
         "text": [
          "stem"
         ],
         "type": "scatter",
         "x": [
          -7.669877529144287
         ],
         "y": [
          4.134425640106201
         ]
        },
        {
         "line": {
          "color": "DarkSlateGrey",
          "width": 2
         },
         "marker": {
          "color": [
           0.153364,
           0.497,
           0.557724,
           1
          ],
          "size": 9
         },
         "mode": "markers",
         "name": "teacher",
         "text": [
          "teacher"
         ],
         "type": "scatter",
         "x": [
          1.2449078559875488
         ],
         "y": [
          12.314719200134277
         ]
        },
        {
         "line": {
          "color": "DarkSlateGrey",
          "width": 2
         },
         "marker": {
          "color": [
           0.14618,
           0.515413,
           0.556823,
           1
          ],
          "size": 9
         },
         "mode": "markers",
         "name": "training",
         "text": [
          "training"
         ],
         "type": "scatter",
         "x": [
          1.0652202367782593
         ],
         "y": [
          11.58449649810791
         ]
        },
        {
         "line": {
          "color": "DarkSlateGrey",
          "width": 2
         },
         "marker": {
          "color": [
           0.212395,
           0.359683,
           0.55171,
           1
          ],
          "size": 9
         },
         "mode": "markers",
         "name": "expenses",
         "text": [
          "expenses"
         ],
         "type": "scatter",
         "x": [
          -0.8325557112693787
         ],
         "y": [
          10.591719627380371
         ]
        },
        {
         "line": {
          "color": "DarkSlateGrey",
          "width": 2
         },
         "marker": {
          "color": [
           0.281924,
           0.089666,
           0.412415,
           1
          ],
          "size": 9
         },
         "mode": "markers",
         "name": "stem",
         "text": [
          "stem"
         ],
         "type": "scatter",
         "x": [
          -7.718722820281982
         ],
         "y": [
          4.0701904296875
         ]
        },
        {
         "line": {
          "color": "DarkSlateGrey",
          "width": 2
         },
         "marker": {
          "color": [
           0.153364,
           0.497,
           0.557724,
           1
          ],
          "size": 9
         },
         "mode": "markers",
         "name": "school",
         "text": [
          "school"
         ],
         "type": "scatter",
         "x": [
          2.098755359649658
         ],
         "y": [
          12.106229782104492
         ]
        },
        {
         "line": {
          "color": "DarkSlateGrey",
          "width": 2
         },
         "marker": {
          "color": [
           0.223925,
           0.334994,
           0.548053,
           1
          ],
          "size": 9
         },
         "mode": "markers",
         "name": "contributions",
         "text": [
          "contributions"
         ],
         "type": "scatter",
         "x": [
          -1.1662335395812988
         ],
         "y": [
          10.906981468200684
         ]
        },
        {
         "line": {
          "color": "DarkSlateGrey",
          "width": 2
         },
         "marker": {
          "color": [
           0.203063,
           0.379716,
           0.553925,
           1
          ],
          "size": 9
         },
         "mode": "markers",
         "name": "for",
         "text": [
          "for"
         ],
         "type": "scatter",
         "x": [
          0.9479187726974487
         ],
         "y": [
          8.11965560913086
         ]
        },
        {
         "line": {
          "color": "DarkSlateGrey",
          "width": 2
         },
         "marker": {
          "color": [
           0.278791,
           0.062145,
           0.386592,
           1
          ],
          "size": 9
         },
         "mode": "markers",
         "name": "purposes",
         "text": [
          "purposes"
         ],
         "type": "scatter",
         "x": [
          -1.0699259042739868
         ],
         "y": [
          8.437191009521484
         ]
        },
        {
         "line": {
          "color": "DarkSlateGrey",
          "width": 2
         },
         "marker": {
          "color": [
           0.19109,
           0.708366,
           0.482284,
           1
          ],
          "size": 9
         },
         "mode": "markers",
         "name": "this",
         "text": [
          "this"
         ],
         "type": "scatter",
         "x": [
          -1.388328194618225
         ],
         "y": [
          5.966632843017578
         ]
        },
        {
         "line": {
          "color": "DarkSlateGrey",
          "width": 2
         },
         "marker": {
          "color": [
           0.335885,
           0.777018,
           0.402049,
           1
          ],
          "size": 9
         },
         "mode": "markers",
         "name": "section",
         "text": [
          "section"
         ],
         "type": "scatter",
         "x": [
          -2.200101137161255
         ],
         "y": [
          6.832226753234863
         ]
        },
        {
         "line": {
          "color": "DarkSlateGrey",
          "width": 2
         },
         "marker": {
          "color": [
           0.993248,
           0.906157,
           0.143936,
           1
          ],
          "size": 9
         },
         "mode": "markers",
         "name": "general",
         "text": [
          "general"
         ],
         "type": "scatter",
         "x": [
          -2.0473287105560303
         ],
         "y": [
          8.506048202514648
         ]
        },
        {
         "line": {
          "color": "DarkSlateGrey",
          "width": 2
         },
         "marker": {
          "color": [
           0.626579,
           0.854645,
           0.223353,
           1
          ],
          "size": 9
         },
         "mode": "markers",
         "name": "the",
         "text": [
          "the"
         ],
         "type": "scatter",
         "x": [
          8.004525184631348
         ],
         "y": [
          -6.283997058868408
         ]
        },
        {
         "line": {
          "color": "DarkSlateGrey",
          "width": 2
         },
         "marker": {
          "color": [
           0.252194,
           0.269783,
           0.531579,
           1
          ],
          "size": 9
         },
         "mode": "markers",
         "name": "term",
         "text": [
          "term"
         ],
         "type": "scatter",
         "x": [
          17.750446319580078
         ],
         "y": [
          -4.467012882232666
         ]
        },
        {
         "line": {
          "color": "DarkSlateGrey",
          "width": 2
         },
         "marker": {
          "color": [
           0.281924,
           0.089666,
           0.412415,
           1
          ],
          "size": 9
         },
         "mode": "markers",
         "name": "stem",
         "text": [
          "stem"
         ],
         "type": "scatter",
         "x": [
          -7.741748332977295
         ],
         "y": [
          4.058290481567383
         ]
        },
        {
         "line": {
          "color": "DarkSlateGrey",
          "width": 2
         },
         "marker": {
          "color": [
           0.153364,
           0.497,
           0.557724,
           1
          ],
          "size": 9
         },
         "mode": "markers",
         "name": "school",
         "text": [
          "school"
         ],
         "type": "scatter",
         "x": [
          2.136223793029785
         ],
         "y": [
          12.035821914672852
         ]
        },
        {
         "line": {
          "color": "DarkSlateGrey",
          "width": 2
         },
         "marker": {
          "color": [
           0.223925,
           0.334994,
           0.548053,
           1
          ],
          "size": 9
         },
         "mode": "markers",
         "name": "contributions",
         "text": [
          "contributions"
         ],
         "type": "scatter",
         "x": [
          -1.1804345846176147
         ],
         "y": [
          10.946327209472656
         ]
        },
        {
         "line": {
          "color": "DarkSlateGrey",
          "width": 2
         },
         "marker": {
          "color": [
           0.260571,
           0.246922,
           0.522828,
           1
          ],
          "size": 9
         },
         "mode": "markers",
         "name": "means",
         "text": [
          "means"
         ],
         "type": "scatter",
         "x": [
          -5.062526226043701
         ],
         "y": [
          11.094136238098145
         ]
        },
        {
         "line": {
          "color": "DarkSlateGrey",
          "width": 2
         },
         "marker": {
          "color": [
           0.281924,
           0.089666,
           0.412415,
           1
          ],
          "size": 9
         },
         "mode": "markers",
         "name": "stem",
         "text": [
          "stem"
         ],
         "type": "scatter",
         "x": [
          -7.71687126159668
         ],
         "y": [
          4.085545539855957
         ]
        },
        {
         "line": {
          "color": "DarkSlateGrey",
          "width": 2
         },
         "marker": {
          "color": [
           0.1941,
           0.399323,
           0.555565,
           1
          ],
          "size": 9
         },
         "mode": "markers",
         "name": "property",
         "text": [
          "property"
         ],
         "type": "scatter",
         "x": [
          -0.1555616557598114
         ],
         "y": [
          11.178505897521973
         ]
        },
        {
         "line": {
          "color": "DarkSlateGrey",
          "width": 2
         },
         "marker": {
          "color": [
           0.223925,
           0.334994,
           0.548053,
           1
          ],
          "size": 9
         },
         "mode": "markers",
         "name": "contributions",
         "text": [
          "contributions"
         ],
         "type": "scatter",
         "x": [
          -1.1471127271652222
         ],
         "y": [
          10.91425895690918
         ]
        },
        {
         "line": {
          "color": "DarkSlateGrey",
          "width": 2
         },
         "marker": {
          "color": [
           0.162016,
           0.687316,
           0.499129,
           1
          ],
          "size": 9
         },
         "mode": "markers",
         "name": "and",
         "text": [
          "and"
         ],
         "type": "scatter",
         "x": [
          -1.5118380784988403
         ],
         "y": [
          3.4590249061584473
         ]
        },
        {
         "line": {
          "color": "DarkSlateGrey",
          "width": 2
         },
         "marker": {
          "color": [
           0.281924,
           0.089666,
           0.412415,
           1
          ],
          "size": 9
         },
         "mode": "markers",
         "name": "stem",
         "text": [
          "stem"
         ],
         "type": "scatter",
         "x": [
          -7.702269554138184
         ],
         "y": [
          4.103858470916748
         ]
        },
        {
         "line": {
          "color": "DarkSlateGrey",
          "width": 2
         },
         "marker": {
          "color": [
           0.993248,
           0.906157,
           0.143936,
           1
          ],
          "size": 9
         },
         "mode": "markers",
         "name": "service",
         "text": [
          "service"
         ],
         "type": "scatter",
         "x": [
          0.5422948002815247
         ],
         "y": [
          10.885567665100098
         ]
        },
        {
         "line": {
          "color": "DarkSlateGrey",
          "width": 2
         },
         "marker": {
          "color": [
           0.223925,
           0.334994,
           0.548053,
           1
          ],
          "size": 9
         },
         "mode": "markers",
         "name": "contributions",
         "text": [
          "contributions"
         ],
         "type": "scatter",
         "x": [
          -1.1261801719665527
         ],
         "y": [
          10.918163299560547
         ]
        },
        {
         "line": {
          "color": "DarkSlateGrey",
          "width": 2
         },
         "marker": {
          "color": [
           0.281924,
           0.089666,
           0.412415,
           1
          ],
          "size": 9
         },
         "mode": "markers",
         "name": "stem",
         "text": [
          "stem"
         ],
         "type": "scatter",
         "x": [
          -7.733888626098633
         ],
         "y": [
          4.074334144592285
         ]
        },
        {
         "line": {
          "color": "DarkSlateGrey",
          "width": 2
         },
         "marker": {
          "color": [
           0.1941,
           0.399323,
           0.555565,
           1
          ],
          "size": 9
         },
         "mode": "markers",
         "name": "property",
         "text": [
          "property"
         ],
         "type": "scatter",
         "x": [
          -0.15646164119243622
         ],
         "y": [
          11.208841323852539
         ]
        },
        {
         "line": {
          "color": "DarkSlateGrey",
          "width": 2
         },
         "marker": {
          "color": [
           0.223925,
           0.334994,
           0.548053,
           1
          ],
          "size": 9
         },
         "mode": "markers",
         "name": "contributions",
         "text": [
          "contributions"
         ],
         "type": "scatter",
         "x": [
          -1.1562379598617554
         ],
         "y": [
          10.918869972229004
         ]
        },
        {
         "line": {
          "color": "DarkSlateGrey",
          "width": 2
         },
         "marker": {
          "color": [
           0.626579,
           0.854645,
           0.223353,
           1
          ],
          "size": 9
         },
         "mode": "markers",
         "name": "the",
         "text": [
          "the"
         ],
         "type": "scatter",
         "x": [
          8.010281562805176
         ],
         "y": [
          -6.2899651527404785
         ]
        },
        {
         "line": {
          "color": "DarkSlateGrey",
          "width": 2
         },
         "marker": {
          "color": [
           0.252194,
           0.269783,
           0.531579,
           1
          ],
          "size": 9
         },
         "mode": "markers",
         "name": "term",
         "text": [
          "term"
         ],
         "type": "scatter",
         "x": [
          17.77153778076172
         ],
         "y": [
          -4.487821578979492
         ]
        },
        {
         "line": {
          "color": "DarkSlateGrey",
          "width": 2
         },
         "marker": {
          "color": [
           0.281924,
           0.089666,
           0.412415,
           1
          ],
          "size": 9
         },
         "mode": "markers",
         "name": "stem",
         "text": [
          "stem"
         ],
         "type": "scatter",
         "x": [
          -7.734211444854736
         ],
         "y": [
          4.071254253387451
         ]
        },
        {
         "line": {
          "color": "DarkSlateGrey",
          "width": 2
         },
         "marker": {
          "color": [
           0.1941,
           0.399323,
           0.555565,
           1
          ],
          "size": 9
         },
         "mode": "markers",
         "name": "property",
         "text": [
          "property"
         ],
         "type": "scatter",
         "x": [
          -0.1501483917236328
         ],
         "y": [
          11.181195259094238
         ]
        },
        {
         "line": {
          "color": "DarkSlateGrey",
          "width": 2
         },
         "marker": {
          "color": [
           0.223925,
           0.334994,
           0.548053,
           1
          ],
          "size": 9
         },
         "mode": "markers",
         "name": "contributions",
         "text": [
          "contributions"
         ],
         "type": "scatter",
         "x": [
          -1.1480233669281006
         ],
         "y": [
          10.929408073425293
         ]
        },
        {
         "line": {
          "color": "DarkSlateGrey",
          "width": 2
         },
         "marker": {
          "color": [
           0.260571,
           0.246922,
           0.522828,
           1
          ],
          "size": 9
         },
         "mode": "markers",
         "name": "means",
         "text": [
          "means"
         ],
         "type": "scatter",
         "x": [
          -5.0718278884887695
         ],
         "y": [
          11.103843688964844
         ]
        },
        {
         "line": {
          "color": "DarkSlateGrey",
          "width": 2
         },
         "marker": {
          "color": [
           0.993248,
           0.906157,
           0.143936,
           1
          ],
          "size": 9
         },
         "mode": "markers",
         "name": "the",
         "text": [
          "the"
         ],
         "type": "scatter",
         "x": [
          -0.11548277735710144
         ],
         "y": [
          8.3884916305542
         ]
        },
        {
         "line": {
          "color": "DarkSlateGrey",
          "width": 2
         },
         "marker": {
          "color": [
           0.122312,
           0.633153,
           0.530398,
           1
          ],
          "size": 9
         },
         "mode": "markers",
         "name": "amount",
         "text": [
          "amount"
         ],
         "type": "scatter",
         "x": [
          -0.38811349868774414
         ],
         "y": [
          9.51516056060791
         ]
        },
        {
         "line": {
          "color": "DarkSlateGrey",
          "width": 2
         },
         "marker": {
          "color": [
           0.993248,
           0.906157,
           0.143936,
           1
          ],
          "size": 9
         },
         "mode": "markers",
         "name": "which",
         "text": [
          "which"
         ],
         "type": "scatter",
         "x": [
          1.2862317562103271
         ],
         "y": [
          8.16563892364502
         ]
        },
        {
         "line": {
          "color": "DarkSlateGrey",
          "width": 2
         },
         "marker": {
          "color": [
           0.993248,
           0.906157,
           0.143936,
           1
          ],
          "size": 9
         },
         "mode": "markers",
         "name": "would",
         "text": [
          "would"
         ],
         "type": "scatter",
         "x": [
          0.18895384669303894
         ],
         "y": [
          8.420830726623535
         ]
        },
        {
         "line": {
          "color": "DarkSlateGrey",
          "width": 2
         },
         "marker": {
          "color": [
           0.993248,
           0.906157,
           0.143936,
           1
          ],
          "size": 9
         },
         "mode": "markers",
         "name": "but",
         "text": [
          "but"
         ],
         "type": "scatter",
         "x": [
          -1.8443304300308228
         ],
         "y": [
          8.60492992401123
         ]
        },
        {
         "line": {
          "color": "DarkSlateGrey",
          "width": 2
         },
         "marker": {
          "color": [
           0.993248,
           0.906157,
           0.143936,
           1
          ],
          "size": 9
         },
         "mode": "markers",
         "name": "for",
         "text": [
          "for"
         ],
         "type": "scatter",
         "x": [
          0.9713888168334961
         ],
         "y": [
          8.337274551391602
         ]
        },
        {
         "line": {
          "color": "DarkSlateGrey",
          "width": 2
         },
         "marker": {
          "color": [
           0.993248,
           0.906157,
           0.143936,
           1
          ],
          "size": 9
         },
         "mode": "markers",
         "name": "sub",
         "text": [
          "sub"
         ],
         "type": "scatter",
         "x": [
          -1.8850058317184448
         ],
         "y": [
          7.282218933105469
         ]
        },
        {
         "line": {
          "color": "DarkSlateGrey",
          "width": 2
         },
         "marker": {
          "color": [
           0.993248,
           0.906157,
           0.143936,
           1
          ],
          "size": 9
         },
         "mode": "markers",
         "name": "##section",
         "text": [
          "##section"
         ],
         "type": "scatter",
         "x": [
          -2.190462350845337
         ],
         "y": [
          6.994299411773682
         ]
        },
        {
         "line": {
          "color": "DarkSlateGrey",
          "width": 2
         },
         "marker": {
          "color": [
           0.993248,
           0.906157,
           0.143936,
           1
          ],
          "size": 9
         },
         "mode": "markers",
         "name": "allowed",
         "text": [
          "allowed"
         ],
         "type": "scatter",
         "x": [
          -0.061796773225069046
         ],
         "y": [
          8.888337135314941
         ]
        },
        {
         "line": {
          "color": "DarkSlateGrey",
          "width": 2
         },
         "marker": {
          "color": [
           0.993248,
           0.906157,
           0.143936,
           1
          ],
          "size": 9
         },
         "mode": "markers",
         "name": "##duction",
         "text": [
          "##duction"
         ],
         "type": "scatter",
         "x": [
          -0.5643893480300903
         ],
         "y": [
          9.299012184143066
         ]
        },
        {
         "line": {
          "color": "DarkSlateGrey",
          "width": 2
         },
         "marker": {
          "color": [
           0.377779,
           0.791781,
           0.377939,
           1
          ],
          "size": 9
         },
         "mode": "markers",
         "name": "under",
         "text": [
          "under"
         ],
         "type": "scatter",
         "x": [
          -0.3774488568305969
         ],
         "y": [
          7.3434600830078125
         ]
        },
        {
         "line": {
          "color": "DarkSlateGrey",
          "width": 2
         },
         "marker": {
          "color": [
           0.335885,
           0.777018,
           0.402049,
           1
          ],
          "size": 9
         },
         "mode": "markers",
         "name": "section",
         "text": [
          "section"
         ],
         "type": "scatter",
         "x": [
          -2.356297016143799
         ],
         "y": [
          7.060009002685547
         ]
        },
        {
         "line": {
          "color": "DarkSlateGrey",
          "width": 2
         },
         "marker": {
          "color": [
           0.269308,
           0.218818,
           0.509577,
           1
          ],
          "size": 9
         },
         "mode": "markers",
         "name": "170",
         "text": [
          "170"
         ],
         "type": "scatter",
         "x": [
          7.57196044921875
         ],
         "y": [
          7.808128833770752
         ]
        },
        {
         "line": {
          "color": "DarkSlateGrey",
          "width": 2
         },
         "marker": {
          "color": [
           0.993248,
           0.906157,
           0.143936,
           1
          ],
          "size": 9
         },
         "mode": "markers",
         "name": "for",
         "text": [
          "for"
         ],
         "type": "scatter",
         "x": [
          0.9694012403488159
         ],
         "y": [
          8.72122859954834
         ]
        },
        {
         "line": {
          "color": "DarkSlateGrey",
          "width": 2
         },
         "marker": {
          "color": [
           0.993248,
           0.906157,
           0.143936,
           1
          ],
          "size": 9
         },
         "mode": "markers",
         "name": "charitable",
         "text": [
          "charitable"
         ],
         "type": "scatter",
         "x": [
          -0.058999285101890564
         ],
         "y": [
          10.850739479064941
         ]
        },
        {
         "line": {
          "color": "DarkSlateGrey",
          "width": 2
         },
         "marker": {
          "color": [
           0.223925,
           0.334994,
           0.548053,
           1
          ],
          "size": 9
         },
         "mode": "markers",
         "name": "contribution",
         "text": [
          "contribution"
         ],
         "type": "scatter",
         "x": [
          -1.1041014194488525
         ],
         "y": [
          10.88016414642334
         ]
        },
        {
         "line": {
          "color": "DarkSlateGrey",
          "width": 2
         },
         "marker": {
          "color": [
           0.281924,
           0.089666,
           0.412415,
           1
          ],
          "size": 9
         },
         "mode": "markers",
         "name": "stem",
         "text": [
          "stem"
         ],
         "type": "scatter",
         "x": [
          -7.622704982757568
         ],
         "y": [
          4.137052059173584
         ]
        },
        {
         "line": {
          "color": "DarkSlateGrey",
          "width": 2
         },
         "marker": {
          "color": [
           0.993248,
           0.906157,
           0.143936,
           1
          ],
          "size": 9
         },
         "mode": "markers",
         "name": "inventory",
         "text": [
          "inventory"
         ],
         "type": "scatter",
         "x": [
          0.08385998010635376
         ],
         "y": [
          11.027031898498535
         ]
        },
        {
         "line": {
          "color": "DarkSlateGrey",
          "width": 2
         },
         "marker": {
          "color": [
           0.1941,
           0.399323,
           0.555565,
           1
          ],
          "size": 9
         },
         "mode": "markers",
         "name": "property",
         "text": [
          "property"
         ],
         "type": "scatter",
         "x": [
          -0.13953514397144318
         ],
         "y": [
          11.150860786437988
         ]
        },
        {
         "line": {
          "color": "DarkSlateGrey",
          "width": 2
         },
         "marker": {
          "color": [
           0.730889,
           0.871916,
           0.156029,
           1
          ],
          "size": 9
         },
         "mode": "markers",
         "name": "the",
         "text": [
          "the"
         ],
         "type": "scatter",
         "x": [
          2.024935483932495
         ],
         "y": [
          9.47086238861084
         ]
        },
        {
         "line": {
          "color": "DarkSlateGrey",
          "width": 2
         },
         "marker": {
          "color": [
           0.267004,
           0.004874,
           0.329415,
           1
          ],
          "size": 9
         },
         "mode": "markers",
         "name": "done",
         "text": [
          "done"
         ],
         "type": "scatter",
         "x": [
          -6.118833065032959
         ],
         "y": [
          15.3323974609375
         ]
        },
        {
         "line": {
          "color": "DarkSlateGrey",
          "width": 2
         },
         "marker": {
          "color": [
           0.243113,
           0.292092,
           0.538516,
           1
          ],
          "size": 9
         },
         "mode": "markers",
         "name": "##e",
         "text": [
          "##e"
         ],
         "type": "scatter",
         "x": [
          3.066709280014038
         ],
         "y": [
          11.24537467956543
         ]
        },
        {
         "line": {
          "color": "DarkSlateGrey",
          "width": 2
         },
         "marker": {
          "color": [
           0.160665,
           0.47854,
           0.558115,
           1
          ],
          "size": 9
         },
         "mode": "markers",
         "name": "elementary",
         "text": [
          "elementary"
         ],
         "type": "scatter",
         "x": [
          2.6884989738464355
         ],
         "y": [
          12.8744478225708
         ]
        },
        {
         "line": {
          "color": "DarkSlateGrey",
          "width": 2
         },
         "marker": {
          "color": [
           0.160665,
           0.47854,
           0.558115,
           1
          ],
          "size": 9
         },
         "mode": "markers",
         "name": "secondary",
         "text": [
          "secondary"
         ],
         "type": "scatter",
         "x": [
          2.713798761367798
         ],
         "y": [
          12.934518814086914
         ]
        },
        {
         "line": {
          "color": "DarkSlateGrey",
          "width": 2
         },
         "marker": {
          "color": [
           0.153364,
           0.497,
           0.557724,
           1
          ],
          "size": 9
         },
         "mode": "markers",
         "name": "school",
         "text": [
          "school"
         ],
         "type": "scatter",
         "x": [
          2.2994821071624756
         ],
         "y": [
          12.051323890686035
         ]
        },
        {
         "line": {
          "color": "DarkSlateGrey",
          "width": 2
         },
         "marker": {
          "color": [
           0.993248,
           0.906157,
           0.143936,
           1
          ],
          "size": 9
         },
         "mode": "markers",
         "name": "described",
         "text": [
          "described"
         ],
         "type": "scatter",
         "x": [
          -0.06800295412540436
         ],
         "y": [
          9.262933731079102
         ]
        },
        {
         "line": {
          "color": "DarkSlateGrey",
          "width": 2
         },
         "marker": {
          "color": [
           0.335885,
           0.777018,
           0.402049,
           1
          ],
          "size": 9
         },
         "mode": "markers",
         "name": "section",
         "text": [
          "section"
         ],
         "type": "scatter",
         "x": [
          -2.3263039588928223
         ],
         "y": [
          7.115396022796631
         ]
        },
        {
         "line": {
          "color": "DarkSlateGrey",
          "width": 2
         },
         "marker": {
          "color": [
           0.269308,
           0.218818,
           0.509577,
           1
          ],
          "size": 9
         },
         "mode": "markers",
         "name": "170",
         "text": [
          "170"
         ],
         "type": "scatter",
         "x": [
          7.547754764556885
         ],
         "y": [
          7.798887729644775
         ]
        },
        {
         "line": {
          "color": "DarkSlateGrey",
          "width": 2
         },
         "marker": {
          "color": [
           0.993248,
           0.906157,
           0.143936,
           1
          ],
          "size": 9
         },
         "mode": "markers",
         "name": "substantially",
         "text": [
          "substantially"
         ],
         "type": "scatter",
         "x": [
          0.6574097871780396
         ],
         "y": [
          9.47056770324707
         ]
        },
        {
         "line": {
          "color": "DarkSlateGrey",
          "width": 2
         },
         "marker": {
          "color": [
           0.993248,
           0.906157,
           0.143936,
           1
          ],
          "size": 9
         },
         "mode": "markers",
         "name": "all",
         "text": [
          "all"
         ],
         "type": "scatter",
         "x": [
          0.832773745059967
         ],
         "y": [
          9.402592658996582
         ]
        },
        {
         "line": {
          "color": "DarkSlateGrey",
          "width": 2
         },
         "marker": {
          "color": [
           0.993248,
           0.906157,
           0.143936,
           1
          ],
          "size": 9
         },
         "mode": "markers",
         "name": "the",
         "text": [
          "the"
         ],
         "type": "scatter",
         "x": [
          1.907470941543579
         ],
         "y": [
          9.367626190185547
         ]
        },
        {
         "line": {
          "color": "DarkSlateGrey",
          "width": 2
         },
         "marker": {
          "color": [
           0.993248,
           0.906157,
           0.143936,
           1
          ],
          "size": 9
         },
         "mode": "markers",
         "name": "use",
         "text": [
          "use"
         ],
         "type": "scatter",
         "x": [
          0.6220832467079163
         ],
         "y": [
          10.294198036193848
         ]
        },
        {
         "line": {
          "color": "DarkSlateGrey",
          "width": 2
         },
         "marker": {
          "color": [
           0.730889,
           0.871916,
           0.156029,
           1
          ],
          "size": 9
         },
         "mode": "markers",
         "name": "the",
         "text": [
          "the"
         ],
         "type": "scatter",
         "x": [
          2.0690722465515137
         ],
         "y": [
          9.53178596496582
         ]
        },
        {
         "line": {
          "color": "DarkSlateGrey",
          "width": 2
         },
         "marker": {
          "color": [
           0.1941,
           0.399323,
           0.555565,
           1
          ],
          "size": 9
         },
         "mode": "markers",
         "name": "property",
         "text": [
          "property"
         ],
         "type": "scatter",
         "x": [
          -0.1499330848455429
         ],
         "y": [
          11.165499687194824
         ]
        },
        {
         "line": {
          "color": "DarkSlateGrey",
          "width": 2
         },
         "marker": {
          "color": [
           0.730889,
           0.871916,
           0.156029,
           1
          ],
          "size": 9
         },
         "mode": "markers",
         "name": "the",
         "text": [
          "the"
         ],
         "type": "scatter",
         "x": [
          2.100008964538574
         ],
         "y": [
          9.524144172668457
         ]
        },
        {
         "line": {
          "color": "DarkSlateGrey",
          "width": 2
         },
         "marker": {
          "color": [
           0.267004,
           0.004874,
           0.329415,
           1
          ],
          "size": 9
         },
         "mode": "markers",
         "name": "done",
         "text": [
          "done"
         ],
         "type": "scatter",
         "x": [
          -6.118905067443848
         ],
         "y": [
          15.332597732543945
         ]
        },
        {
         "line": {
          "color": "DarkSlateGrey",
          "width": 2
         },
         "marker": {
          "color": [
           0.243113,
           0.292092,
           0.538516,
           1
          ],
          "size": 9
         },
         "mode": "markers",
         "name": "##e",
         "text": [
          "##e"
         ],
         "type": "scatter",
         "x": [
          3.083413600921631
         ],
         "y": [
          11.237323760986328
         ]
        },
        {
         "line": {
          "color": "DarkSlateGrey",
          "width": 2
         },
         "marker": {
          "color": [
           0.993248,
           0.906157,
           0.143936,
           1
          ],
          "size": 9
         },
         "mode": "markers",
         "name": "within",
         "text": [
          "within"
         ],
         "type": "scatter",
         "x": [
          2.1803276538848877
         ],
         "y": [
          8.504339218139648
         ]
        },
        {
         "line": {
          "color": "DarkSlateGrey",
          "width": 2
         },
         "marker": {
          "color": [
           0.730889,
           0.871916,
           0.156029,
           1
          ],
          "size": 9
         },
         "mode": "markers",
         "name": "the",
         "text": [
          "the"
         ],
         "type": "scatter",
         "x": [
          2.3490424156188965
         ],
         "y": [
          8.830846786499023
         ]
        },
        {
         "line": {
          "color": "DarkSlateGrey",
          "width": 2
         },
         "marker": {
          "color": [
           0.143303,
           0.669459,
           0.511215,
           1
          ],
          "size": 9
         },
         "mode": "markers",
         "name": "united",
         "text": [
          "united"
         ],
         "type": "scatter",
         "x": [
          2.393373489379883
         ],
         "y": [
          7.7543253898620605
         ]
        },
        {
         "line": {
          "color": "DarkSlateGrey",
          "width": 2
         },
         "marker": {
          "color": [
           0.143303,
           0.669459,
           0.511215,
           1
          ],
          "size": 9
         },
         "mode": "markers",
         "name": "states",
         "text": [
          "states"
         ],
         "type": "scatter",
         "x": [
          2.388930320739746
         ],
         "y": [
          7.76657772064209
         ]
        },
        {
         "line": {
          "color": "DarkSlateGrey",
          "width": 2
         },
         "marker": {
          "color": [
           0.993248,
           0.906157,
           0.143936,
           1
          ],
          "size": 9
         },
         "mode": "markers",
         "name": "within",
         "text": [
          "within"
         ],
         "type": "scatter",
         "x": [
          2.2814791202545166
         ],
         "y": [
          8.583967208862305
         ]
        },
        {
         "line": {
          "color": "DarkSlateGrey",
          "width": 2
         },
         "marker": {
          "color": [
           0.730889,
           0.871916,
           0.156029,
           1
          ],
          "size": 9
         },
         "mode": "markers",
         "name": "the",
         "text": [
          "the"
         ],
         "type": "scatter",
         "x": [
          2.407651662826538
         ],
         "y": [
          9.030810356140137
         ]
        },
        {
         "line": {
          "color": "DarkSlateGrey",
          "width": 2
         },
         "marker": {
          "color": [
           0.993248,
           0.906157,
           0.143936,
           1
          ],
          "size": 9
         },
         "mode": "markers",
         "name": "defense",
         "text": [
          "defense"
         ],
         "type": "scatter",
         "x": [
          -7.230800151824951
         ],
         "y": [
          4.4956374168396
         ]
        },
        {
         "line": {
          "color": "DarkSlateGrey",
          "width": 2
         },
         "marker": {
          "color": [
           0.993248,
           0.906157,
           0.143936,
           1
          ],
          "size": 9
         },
         "mode": "markers",
         "name": "dependent",
         "text": [
          "dependent"
         ],
         "type": "scatter",
         "x": [
          0.4524560868740082
         ],
         "y": [
          11.925480842590332
         ]
        },
        {
         "line": {
          "color": "DarkSlateGrey",
          "width": 2
         },
         "marker": {
          "color": [
           0.993248,
           0.906157,
           0.143936,
           1
          ],
          "size": 9
         },
         "mode": "markers",
         "name": "##s",
         "text": [
          "##s"
         ],
         "type": "scatter",
         "x": [
          1.9665892124176025
         ],
         "y": [
          10.645401000976562
         ]
        },
        {
         "line": {
          "color": "DarkSlateGrey",
          "width": 2
         },
         "marker": {
          "color": [
           0.153364,
           0.497,
           0.557724,
           1
          ],
          "size": 9
         },
         "mode": "markers",
         "name": "education",
         "text": [
          "education"
         ],
         "type": "scatter",
         "x": [
          1.8883309364318848
         ],
         "y": [
          12.179588317871094
         ]
        },
        {
         "line": {
          "color": "DarkSlateGrey",
          "width": 2
         },
         "marker": {
          "color": [
           0.993248,
           0.906157,
           0.143936,
           1
          ],
          "size": 9
         },
         "mode": "markers",
         "name": "system",
         "text": [
          "system"
         ],
         "type": "scatter",
         "x": [
          1.4153931140899658
         ],
         "y": [
          11.053565979003906
         ]
        },
        {
         "line": {
          "color": "DarkSlateGrey",
          "width": 2
         },
         "marker": {
          "color": [
           0.993248,
           0.906157,
           0.143936,
           1
          ],
          "size": 9
         },
         "mode": "markers",
         "name": "for",
         "text": [
          "for"
         ],
         "type": "scatter",
         "x": [
          0.929969310760498
         ],
         "y": [
          8.62169075012207
         ]
        },
        {
         "line": {
          "color": "DarkSlateGrey",
          "width": 2
         },
         "marker": {
          "color": [
           0.153364,
           0.497,
           0.557724,
           1
          ],
          "size": 9
         },
         "mode": "markers",
         "name": "educational",
         "text": [
          "educational"
         ],
         "type": "scatter",
         "x": [
          1.8432554006576538
         ],
         "y": [
          12.159802436828613
         ]
        },
        {
         "line": {
          "color": "DarkSlateGrey",
          "width": 2
         },
         "marker": {
          "color": [
           0.993248,
           0.906157,
           0.143936,
           1
          ],
          "size": 9
         },
         "mode": "markers",
         "name": "purposes",
         "text": [
          "purposes"
         ],
         "type": "scatter",
         "x": [
          0.6773930788040161
         ],
         "y": [
          10.16617202758789
         ]
        },
        {
         "line": {
          "color": "DarkSlateGrey",
          "width": 2
         },
         "marker": {
          "color": [
           0.993248,
           0.906157,
           0.143936,
           1
          ],
          "size": 9
         },
         "mode": "markers",
         "name": "any",
         "text": [
          "any"
         ],
         "type": "scatter",
         "x": [
          1.3758937120437622
         ],
         "y": [
          7.273527145385742
         ]
        },
        {
         "line": {
          "color": "DarkSlateGrey",
          "width": 2
         },
         "marker": {
          "color": [
           0.993248,
           0.906157,
           0.143936,
           1
          ],
          "size": 9
         },
         "mode": "markers",
         "name": "the",
         "text": [
          "the"
         ],
         "type": "scatter",
         "x": [
          2.5741891860961914
         ],
         "y": [
          9.085668563842773
         ]
        },
        {
         "line": {
          "color": "DarkSlateGrey",
          "width": 2
         },
         "marker": {
          "color": [
           0.993248,
           0.906157,
           0.143936,
           1
          ],
          "size": 9
         },
         "mode": "markers",
         "name": "grades",
         "text": [
          "grades"
         ],
         "type": "scatter",
         "x": [
          2.3984375
         ],
         "y": [
          12.476696014404297
         ]
        },
        {
         "line": {
          "color": "DarkSlateGrey",
          "width": 2
         },
         "marker": {
          "color": [
           0.993248,
           0.906157,
           0.143936,
           1
          ],
          "size": 9
         },
         "mode": "markers",
         "name": "that",
         "text": [
          "that"
         ],
         "type": "scatter",
         "x": [
          1.1410844326019287
         ],
         "y": [
          8.237223625183105
         ]
        },
        {
         "line": {
          "color": "DarkSlateGrey",
          "width": 2
         },
         "marker": {
          "color": [
           0.993248,
           0.906157,
           0.143936,
           1
          ],
          "size": 9
         },
         "mode": "markers",
         "name": "are",
         "text": [
          "are"
         ],
         "type": "scatter",
         "x": [
          0.6749484539031982
         ],
         "y": [
          8.372163772583008
         ]
        },
        {
         "line": {
          "color": "DarkSlateGrey",
          "width": 2
         },
         "marker": {
          "color": [
           0.993248,
           0.906157,
           0.143936,
           1
          ],
          "size": 9
         },
         "mode": "markers",
         "name": "related",
         "text": [
          "related"
         ],
         "type": "scatter",
         "x": [
          0.6351822018623352
         ],
         "y": [
          8.660591125488281
         ]
        },
        {
         "line": {
          "color": "DarkSlateGrey",
          "width": 2
         },
         "marker": {
          "color": [
           0.89632,
           0.893616,
           0.096335,
           1
          ],
          "size": 9
         },
         "mode": "markers",
         "name": "the",
         "text": [
          "the"
         ],
         "type": "scatter",
         "x": [
          -2.3361666202545166
         ],
         "y": [
          8.32832145690918
         ]
        },
        {
         "line": {
          "color": "DarkSlateGrey",
          "width": 2
         },
         "marker": {
          "color": [
           0.993248,
           0.906157,
           0.143936,
           1
          ],
          "size": 9
         },
         "mode": "markers",
         "name": "purpose",
         "text": [
          "purpose"
         ],
         "type": "scatter",
         "x": [
          0.7245551347732544
         ],
         "y": [
          10.175777435302734
         ]
        },
        {
         "line": {
          "color": "DarkSlateGrey",
          "width": 2
         },
         "marker": {
          "color": [
           0.993248,
           0.906157,
           0.143936,
           1
          ],
          "size": 9
         },
         "mode": "markers",
         "name": "function",
         "text": [
          "function"
         ],
         "type": "scatter",
         "x": [
          0.7204460501670837
         ],
         "y": [
          10.309737205505371
         ]
        },
        {
         "line": {
          "color": "DarkSlateGrey",
          "width": 2
         },
         "marker": {
          "color": [
           0.730889,
           0.871916,
           0.156029,
           1
          ],
          "size": 9
         },
         "mode": "markers",
         "name": "the",
         "text": [
          "the"
         ],
         "type": "scatter",
         "x": [
          2.0591089725494385
         ],
         "y": [
          9.517817497253418
         ]
        },
        {
         "line": {
          "color": "DarkSlateGrey",
          "width": 2
         },
         "marker": {
          "color": [
           0.267004,
           0.004874,
           0.329415,
           1
          ],
          "size": 9
         },
         "mode": "markers",
         "name": "done",
         "text": [
          "done"
         ],
         "type": "scatter",
         "x": [
          -6.126519680023193
         ],
         "y": [
          15.344487190246582
         ]
        },
        {
         "line": {
          "color": "DarkSlateGrey",
          "width": 2
         },
         "marker": {
          "color": [
           0.243113,
           0.292092,
           0.538516,
           1
          ],
          "size": 9
         },
         "mode": "markers",
         "name": "##e",
         "text": [
          "##e"
         ],
         "type": "scatter",
         "x": [
          3.086691379547119
         ],
         "y": [
          11.231695175170898
         ]
        },
        {
         "line": {
          "color": "DarkSlateGrey",
          "width": 2
         },
         "marker": {
          "color": [
           0.993248,
           0.906157,
           0.143936,
           1
          ],
          "size": 9
         },
         "mode": "markers",
         "name": "the",
         "text": [
          "the"
         ],
         "type": "scatter",
         "x": [
          1.9445905685424805
         ],
         "y": [
          9.552718162536621
         ]
        },
        {
         "line": {
          "color": "DarkSlateGrey",
          "width": 2
         },
         "marker": {
          "color": [
           0.993248,
           0.906157,
           0.143936,
           1
          ],
          "size": 9
         },
         "mode": "markers",
         "name": "original",
         "text": [
          "original"
         ],
         "type": "scatter",
         "x": [
          1.0615925788879395
         ],
         "y": [
          9.710662841796875
         ]
        },
        {
         "line": {
          "color": "DarkSlateGrey",
          "width": 2
         },
         "marker": {
          "color": [
           0.993248,
           0.906157,
           0.143936,
           1
          ],
          "size": 9
         },
         "mode": "markers",
         "name": "use",
         "text": [
          "use"
         ],
         "type": "scatter",
         "x": [
          0.7242193818092346
         ],
         "y": [
          10.177118301391602
         ]
        },
        {
         "line": {
          "color": "DarkSlateGrey",
          "width": 2
         },
         "marker": {
          "color": [
           0.730889,
           0.871916,
           0.156029,
           1
          ],
          "size": 9
         },
         "mode": "markers",
         "name": "the",
         "text": [
          "the"
         ],
         "type": "scatter",
         "x": [
          1.9928703308105469
         ],
         "y": [
          9.574725151062012
         ]
        },
        {
         "line": {
          "color": "DarkSlateGrey",
          "width": 2
         },
         "marker": {
          "color": [
           0.1941,
           0.399323,
           0.555565,
           1
          ],
          "size": 9
         },
         "mode": "markers",
         "name": "property",
         "text": [
          "property"
         ],
         "type": "scatter",
         "x": [
          -0.13557390868663788
         ],
         "y": [
          11.145181655883789
         ]
        },
        {
         "line": {
          "color": "DarkSlateGrey",
          "width": 2
         },
         "marker": {
          "color": [
           0.993248,
           0.906157,
           0.143936,
           1
          ],
          "size": 9
         },
         "mode": "markers",
         "name": "begins",
         "text": [
          "begins"
         ],
         "type": "scatter",
         "x": [
          0.831167995929718
         ],
         "y": [
          8.96426010131836
         ]
        },
        {
         "line": {
          "color": "DarkSlateGrey",
          "width": 2
         },
         "marker": {
          "color": [
           0.993248,
           0.906157,
           0.143936,
           1
          ],
          "size": 9
         },
         "mode": "markers",
         "name": "with",
         "text": [
          "with"
         ],
         "type": "scatter",
         "x": [
          1.3589109182357788
         ],
         "y": [
          9.425263404846191
         ]
        },
        {
         "line": {
          "color": "DarkSlateGrey",
          "width": 2
         },
         "marker": {
          "color": [
           0.730889,
           0.871916,
           0.156029,
           1
          ],
          "size": 9
         },
         "mode": "markers",
         "name": "the",
         "text": [
          "the"
         ],
         "type": "scatter",
         "x": [
          2.035242795944214
         ],
         "y": [
          9.544757843017578
         ]
        },
        {
         "line": {
          "color": "DarkSlateGrey",
          "width": 2
         },
         "marker": {
          "color": [
           0.267004,
           0.004874,
           0.329415,
           1
          ],
          "size": 9
         },
         "mode": "markers",
         "name": "done",
         "text": [
          "done"
         ],
         "type": "scatter",
         "x": [
          -6.1188554763793945
         ],
         "y": [
          15.332376480102539
         ]
        },
        {
         "line": {
          "color": "DarkSlateGrey",
          "width": 2
         },
         "marker": {
          "color": [
           0.243113,
           0.292092,
           0.538516,
           1
          ],
          "size": 9
         },
         "mode": "markers",
         "name": "##e",
         "text": [
          "##e"
         ],
         "type": "scatter",
         "x": [
          3.0756001472473145
         ],
         "y": [
          11.240540504455566
         ]
        },
        {
         "line": {
          "color": "DarkSlateGrey",
          "width": 2
         },
         "marker": {
          "color": [
           0.730889,
           0.871916,
           0.156029,
           1
          ],
          "size": 9
         },
         "mode": "markers",
         "name": "the",
         "text": [
          "the"
         ],
         "type": "scatter",
         "x": [
          1.9405803680419922
         ],
         "y": [
          9.574790000915527
         ]
        },
        {
         "line": {
          "color": "DarkSlateGrey",
          "width": 2
         },
         "marker": {
          "color": [
           0.1941,
           0.399323,
           0.555565,
           1
          ],
          "size": 9
         },
         "mode": "markers",
         "name": "property",
         "text": [
          "property"
         ],
         "type": "scatter",
         "x": [
          -0.13288965821266174
         ],
         "y": [
          11.130491256713867
         ]
        },
        {
         "line": {
          "color": "DarkSlateGrey",
          "width": 2
         },
         "marker": {
          "color": [
           0.993248,
           0.906157,
           0.143936,
           1
          ],
          "size": 9
         },
         "mode": "markers",
         "name": "will",
         "text": [
          "will"
         ],
         "type": "scatter",
         "x": [
          0.49557316303253174
         ],
         "y": [
          8.43149471282959
         ]
        },
        {
         "line": {
          "color": "DarkSlateGrey",
          "width": 2
         },
         "marker": {
          "color": [
           0.993248,
           0.906157,
           0.143936,
           1
          ],
          "size": 9
         },
         "mode": "markers",
         "name": "fit",
         "text": [
          "fit"
         ],
         "type": "scatter",
         "x": [
          1.1084911823272705
         ],
         "y": [
          9.336996078491211
         ]
        },
        {
         "line": {
          "color": "DarkSlateGrey",
          "width": 2
         },
         "marker": {
          "color": [
           0.993248,
           0.906157,
           0.143936,
           1
          ],
          "size": 9
         },
         "mode": "markers",
         "name": "productive",
         "text": [
          "productive"
         ],
         "type": "scatter",
         "x": [
          1.06554114818573
         ],
         "y": [
          9.737737655639648
         ]
        },
        {
         "line": {
          "color": "DarkSlateGrey",
          "width": 2
         },
         "marker": {
          "color": [
           0.993248,
           0.906157,
           0.143936,
           1
          ],
          "size": 9
         },
         "mode": "markers",
         "name": "##ly",
         "text": [
          "##ly"
         ],
         "type": "scatter",
         "x": [
          1.0885168313980103
         ],
         "y": [
          9.275288581848145
         ]
        },
        {
         "line": {
          "color": "DarkSlateGrey",
          "width": 2
         },
         "marker": {
          "color": [
           0.993248,
           0.906157,
           0.143936,
           1
          ],
          "size": 9
         },
         "mode": "markers",
         "name": "into",
         "text": [
          "into"
         ],
         "type": "scatter",
         "x": [
          1.314740538597107
         ],
         "y": [
          9.252124786376953
         ]
        },
        {
         "line": {
          "color": "DarkSlateGrey",
          "width": 2
         },
         "marker": {
          "color": [
           0.730889,
           0.871916,
           0.156029,
           1
          ],
          "size": 9
         },
         "mode": "markers",
         "name": "the",
         "text": [
          "the"
         ],
         "type": "scatter",
         "x": [
          2.0635266304016113
         ],
         "y": [
          9.562434196472168
         ]
        },
        {
         "line": {
          "color": "DarkSlateGrey",
          "width": 2
         },
         "marker": {
          "color": [
           0.267004,
           0.004874,
           0.329415,
           1
          ],
          "size": 9
         },
         "mode": "markers",
         "name": "done",
         "text": [
          "done"
         ],
         "type": "scatter",
         "x": [
          -6.118744850158691
         ],
         "y": [
          15.332097053527832
         ]
        },
        {
         "line": {
          "color": "DarkSlateGrey",
          "width": 2
         },
         "marker": {
          "color": [
           0.243113,
           0.292092,
           0.538516,
           1
          ],
          "size": 9
         },
         "mode": "markers",
         "name": "##e",
         "text": [
          "##e"
         ],
         "type": "scatter",
         "x": [
          3.0571095943450928
         ],
         "y": [
          11.202038764953613
         ]
        },
        {
         "line": {
          "color": "DarkSlateGrey",
          "width": 2
         },
         "marker": {
          "color": [
           0.153364,
           0.497,
           0.557724,
           1
          ],
          "size": 9
         },
         "mode": "markers",
         "name": "education",
         "text": [
          "education"
         ],
         "type": "scatter",
         "x": [
          1.8638267517089844
         ],
         "y": [
          12.156373023986816
         ]
        },
        {
         "line": {
          "color": "DarkSlateGrey",
          "width": 2
         },
         "marker": {
          "color": [
           0.993248,
           0.906157,
           0.143936,
           1
          ],
          "size": 9
         },
         "mode": "markers",
         "name": "plan",
         "text": [
          "plan"
         ],
         "type": "scatter",
         "x": [
          1.3121882677078247
         ],
         "y": [
          10.983797073364258
         ]
        },
        {
         "line": {
          "color": "DarkSlateGrey",
          "width": 2
         },
         "marker": {
          "color": [
           0.730889,
           0.871916,
           0.156029,
           1
          ],
          "size": 9
         },
         "mode": "markers",
         "name": "the",
         "text": [
          "the"
         ],
         "type": "scatter",
         "x": [
          1.9664371013641357
         ],
         "y": [
          9.570998191833496
         ]
        },
        {
         "line": {
          "color": "DarkSlateGrey",
          "width": 2
         },
         "marker": {
          "color": [
           0.1941,
           0.399323,
           0.555565,
           1
          ],
          "size": 9
         },
         "mode": "markers",
         "name": "property",
         "text": [
          "property"
         ],
         "type": "scatter",
         "x": [
          -0.14370694756507874
         ],
         "y": [
          11.128996849060059
         ]
        },
        {
         "line": {
          "color": "DarkSlateGrey",
          "width": 2
         },
         "marker": {
          "color": [
           0.993248,
           0.906157,
           0.143936,
           1
          ],
          "size": 9
         },
         "mode": "markers",
         "name": "not",
         "text": [
          "not"
         ],
         "type": "scatter",
         "x": [
          0.31321170926094055
         ],
         "y": [
          8.619898796081543
         ]
        },
        {
         "line": {
          "color": "DarkSlateGrey",
          "width": 2
         },
         "marker": {
          "color": [
           0.993248,
           0.906157,
           0.143936,
           1
          ],
          "size": 9
         },
         "mode": "markers",
         "name": "transferred",
         "text": [
          "transferred"
         ],
         "type": "scatter",
         "x": [
          0.14587494730949402
         ],
         "y": [
          10.731246948242188
         ]
        },
        {
         "line": {
          "color": "DarkSlateGrey",
          "width": 2
         },
         "marker": {
          "color": [
           0.730889,
           0.871916,
           0.156029,
           1
          ],
          "size": 9
         },
         "mode": "markers",
         "name": "the",
         "text": [
          "the"
         ],
         "type": "scatter",
         "x": [
          2.0249390602111816
         ],
         "y": [
          9.5997953414917
         ]
        },
        {
         "line": {
          "color": "DarkSlateGrey",
          "width": 2
         },
         "marker": {
          "color": [
           0.267004,
           0.004874,
           0.329415,
           1
          ],
          "size": 9
         },
         "mode": "markers",
         "name": "done",
         "text": [
          "done"
         ],
         "type": "scatter",
         "x": [
          -6.1189703941345215
         ],
         "y": [
          15.332596778869629
         ]
        },
        {
         "line": {
          "color": "DarkSlateGrey",
          "width": 2
         },
         "marker": {
          "color": [
           0.243113,
           0.292092,
           0.538516,
           1
          ],
          "size": 9
         },
         "mode": "markers",
         "name": "##e",
         "text": [
          "##e"
         ],
         "type": "scatter",
         "x": [
          3.071763753890991
         ],
         "y": [
          11.22606372833252
         ]
        },
        {
         "line": {
          "color": "DarkSlateGrey",
          "width": 2
         },
         "marker": {
          "color": [
           0.993248,
           0.906157,
           0.143936,
           1
          ],
          "size": 9
         },
         "mode": "markers",
         "name": "exchange",
         "text": [
          "exchange"
         ],
         "type": "scatter",
         "x": [
          0.3581758141517639
         ],
         "y": [
          9.5545654296875
         ]
        },
        {
         "line": {
          "color": "DarkSlateGrey",
          "width": 2
         },
         "marker": {
          "color": [
           0.993248,
           0.906157,
           0.143936,
           1
          ],
          "size": 9
         },
         "mode": "markers",
         "name": "for",
         "text": [
          "for"
         ],
         "type": "scatter",
         "x": [
          0.8529630899429321
         ],
         "y": [
          8.888340950012207
         ]
        },
        {
         "line": {
          "color": "DarkSlateGrey",
          "width": 2
         },
         "marker": {
          "color": [
           0.993248,
           0.906157,
           0.143936,
           1
          ],
          "size": 9
         },
         "mode": "markers",
         "name": "money",
         "text": [
          "money"
         ],
         "type": "scatter",
         "x": [
          -0.38921913504600525
         ],
         "y": [
          9.65754508972168
         ]
        },
        {
         "line": {
          "color": "DarkSlateGrey",
          "width": 2
         },
         "marker": {
          "color": [
           0.993248,
           0.906157,
           0.143936,
           1
          ],
          "size": 9
         },
         "mode": "markers",
         "name": "other",
         "text": [
          "other"
         ],
         "type": "scatter",
         "x": [
          0.6126339435577393
         ],
         "y": [
          8.967989921569824
         ]
        },
        {
         "line": {
          "color": "DarkSlateGrey",
          "width": 2
         },
         "marker": {
          "color": [
           0.1941,
           0.399323,
           0.555565,
           1
          ],
          "size": 9
         },
         "mode": "markers",
         "name": "property",
         "text": [
          "property"
         ],
         "type": "scatter",
         "x": [
          -0.14493748545646667
         ],
         "y": [
          11.09229850769043
         ]
        },
        {
         "line": {
          "color": "DarkSlateGrey",
          "width": 2
         },
         "marker": {
          "color": [
           0.185556,
           0.41857,
           0.556753,
           1
          ],
          "size": 9
         },
         "mode": "markers",
         "name": "services",
         "text": [
          "services"
         ],
         "type": "scatter",
         "x": [
          0.6314467787742615
         ],
         "y": [
          10.708739280700684
         ]
        },
        {
         "line": {
          "color": "DarkSlateGrey",
          "width": 2
         },
         "marker": {
          "color": [
           0.993248,
           0.906157,
           0.143936,
           1
          ],
          "size": 9
         },
         "mode": "markers",
         "name": "except",
         "text": [
          "except"
         ],
         "type": "scatter",
         "x": [
          0.5977761149406433
         ],
         "y": [
          8.940759658813477
         ]
        },
        {
         "line": {
          "color": "DarkSlateGrey",
          "width": 2
         },
         "marker": {
          "color": [
           0.993248,
           0.906157,
           0.143936,
           1
          ],
          "size": 9
         },
         "mode": "markers",
         "name": "for",
         "text": [
          "for"
         ],
         "type": "scatter",
         "x": [
          0.8816429376602173
         ],
         "y": [
          8.739843368530273
         ]
        },
        {
         "line": {
          "color": "DarkSlateGrey",
          "width": 2
         },
         "marker": {
          "color": [
           0.993248,
           0.906157,
           0.143936,
           1
          ],
          "size": 9
         },
         "mode": "markers",
         "name": "shipping",
         "text": [
          "shipping"
         ],
         "type": "scatter",
         "x": [
          0.3095378577709198
         ],
         "y": [
          10.777430534362793
         ]
        },
        {
         "line": {
          "color": "DarkSlateGrey",
          "width": 2
         },
         "marker": {
          "color": [
           0.993248,
           0.906157,
           0.143936,
           1
          ],
          "size": 9
         },
         "mode": "markers",
         "name": "installation",
         "text": [
          "installation"
         ],
         "type": "scatter",
         "x": [
          0.3561755418777466
         ],
         "y": [
          10.884472846984863
         ]
        },
        {
         "line": {
          "color": "DarkSlateGrey",
          "width": 2
         },
         "marker": {
          "color": [
           0.993248,
           0.906157,
           0.143936,
           1
          ],
          "size": 9
         },
         "mode": "markers",
         "name": "and",
         "text": [
          "and"
         ],
         "type": "scatter",
         "x": [
          -0.45166778564453125
         ],
         "y": [
          2.628268003463745
         ]
        },
        {
         "line": {
          "color": "DarkSlateGrey",
          "width": 2
         },
         "marker": {
          "color": [
           0.993248,
           0.906157,
           0.143936,
           1
          ],
          "size": 9
         },
         "mode": "markers",
         "name": "transfer",
         "text": [
          "transfer"
         ],
         "type": "scatter",
         "x": [
          0.26019084453582764
         ],
         "y": [
          10.804974555969238
         ]
        },
        {
         "line": {
          "color": "DarkSlateGrey",
          "width": 2
         },
         "marker": {
          "color": [
           0.993248,
           0.906157,
           0.143936,
           1
          ],
          "size": 9
         },
         "mode": "markers",
         "name": "costs",
         "text": [
          "costs"
         ],
         "type": "scatter",
         "x": [
          -0.7448118925094604
         ],
         "y": [
          10.511337280273438
         ]
        },
        {
         "line": {
          "color": "DarkSlateGrey",
          "width": 2
         },
         "marker": {
          "color": [
           0.162016,
           0.687316,
           0.499129,
           1
          ],
          "size": 9
         },
         "mode": "markers",
         "name": "and",
         "text": [
          "and"
         ],
         "type": "scatter",
         "x": [
          -1.5404595136642456
         ],
         "y": [
          3.4621739387512207
         ]
        },
        {
         "line": {
          "color": "DarkSlateGrey",
          "width": 2
         },
         "marker": {
          "color": [
           0.730889,
           0.871916,
           0.156029,
           1
          ],
          "size": 9
         },
         "mode": "markers",
         "name": "the",
         "text": [
          "the"
         ],
         "type": "scatter",
         "x": [
          1.992492437362671
         ],
         "y": [
          9.528671264648438
         ]
        },
        {
         "line": {
          "color": "DarkSlateGrey",
          "width": 2
         },
         "marker": {
          "color": [
           0.267004,
           0.004874,
           0.329415,
           1
          ],
          "size": 9
         },
         "mode": "markers",
         "name": "done",
         "text": [
          "done"
         ],
         "type": "scatter",
         "x": [
          -6.118249416351318
         ],
         "y": [
          15.331429481506348
         ]
        },
        {
         "line": {
          "color": "DarkSlateGrey",
          "width": 2
         },
         "marker": {
          "color": [
           0.243113,
           0.292092,
           0.538516,
           1
          ],
          "size": 9
         },
         "mode": "markers",
         "name": "##e",
         "text": [
          "##e"
         ],
         "type": "scatter",
         "x": [
          3.0747475624084473
         ],
         "y": [
          11.220772743225098
         ]
        },
        {
         "line": {
          "color": "DarkSlateGrey",
          "width": 2
         },
         "marker": {
          "color": [
           0.993248,
           0.906157,
           0.143936,
           1
          ],
          "size": 9
         },
         "mode": "markers",
         "name": "use",
         "text": [
          "use"
         ],
         "type": "scatter",
         "x": [
          0.5776664614677429
         ],
         "y": [
          10.239052772521973
         ]
        },
        {
         "line": {
          "color": "DarkSlateGrey",
          "width": 2
         },
         "marker": {
          "color": [
           0.993248,
           0.906157,
           0.143936,
           1
          ],
          "size": 9
         },
         "mode": "markers",
         "name": "and",
         "text": [
          "and"
         ],
         "type": "scatter",
         "x": [
          -0.315505713224411
         ],
         "y": [
          2.700286626815796
         ]
        },
        {
         "line": {
          "color": "DarkSlateGrey",
          "width": 2
         },
         "marker": {
          "color": [
           0.993248,
           0.906157,
           0.143936,
           1
          ],
          "size": 9
         },
         "mode": "markers",
         "name": "disposition",
         "text": [
          "disposition"
         ],
         "type": "scatter",
         "x": [
          0.2774076759815216
         ],
         "y": [
          10.668354988098145
         ]
        },
        {
         "line": {
          "color": "DarkSlateGrey",
          "width": 2
         },
         "marker": {
          "color": [
           0.730889,
           0.871916,
           0.156029,
           1
          ],
          "size": 9
         },
         "mode": "markers",
         "name": "the",
         "text": [
          "the"
         ],
         "type": "scatter",
         "x": [
          1.9732747077941895
         ],
         "y": [
          9.539833068847656
         ]
        },
        {
         "line": {
          "color": "DarkSlateGrey",
          "width": 2
         },
         "marker": {
          "color": [
           0.1941,
           0.399323,
           0.555565,
           1
          ],
          "size": 9
         },
         "mode": "markers",
         "name": "property",
         "text": [
          "property"
         ],
         "type": "scatter",
         "x": [
          -0.13573412597179413
         ],
         "y": [
          11.144962310791016
         ]
        },
        {
         "line": {
          "color": "DarkSlateGrey",
          "width": 2
         },
         "marker": {
          "color": [
           0.993248,
           0.906157,
           0.143936,
           1
          ],
          "size": 9
         },
         "mode": "markers",
         "name": "will",
         "text": [
          "will"
         ],
         "type": "scatter",
         "x": [
          0.3572567105293274
         ],
         "y": [
          8.29996109008789
         ]
        },
        {
         "line": {
          "color": "DarkSlateGrey",
          "width": 2
         },
         "marker": {
          "color": [
           0.993248,
           0.906157,
           0.143936,
           1
          ],
          "size": 9
         },
         "mode": "markers",
         "name": "accordance",
         "text": [
          "accordance"
         ],
         "type": "scatter",
         "x": [
          -0.19529375433921814
         ],
         "y": [
          7.984261989593506
         ]
        },
        {
         "line": {
          "color": "DarkSlateGrey",
          "width": 2
         },
         "marker": {
          "color": [
           0.993248,
           0.906157,
           0.143936,
           1
          ],
          "size": 9
         },
         "mode": "markers",
         "name": "with",
         "text": [
          "with"
         ],
         "type": "scatter",
         "x": [
          -0.30284014344215393
         ],
         "y": [
          7.881276607513428
         ]
        },
        {
         "line": {
          "color": "DarkSlateGrey",
          "width": 2
         },
         "marker": {
          "color": [
           0.993248,
           0.906157,
           0.143936,
           1
          ],
          "size": 9
         },
         "mode": "markers",
         "name": "the",
         "text": [
          "the"
         ],
         "type": "scatter",
         "x": [
          -0.37048405408859253
         ],
         "y": [
          7.9293341636657715
         ]
        },
        {
         "line": {
          "color": "DarkSlateGrey",
          "width": 2
         },
         "marker": {
          "color": [
           0.993248,
           0.906157,
           0.143936,
           1
          ],
          "size": 9
         },
         "mode": "markers",
         "name": "provisions",
         "text": [
          "provisions"
         ],
         "type": "scatter",
         "x": [
          -1.7747710943222046
         ],
         "y": [
          7.138528823852539
         ]
        },
        {
         "line": {
          "color": "DarkSlateGrey",
          "width": 2
         },
         "marker": {
          "color": [
           0.993248,
           0.906157,
           0.143936,
           1
          ],
          "size": 9
         },
         "mode": "markers",
         "name": "sub",
         "text": [
          "sub"
         ],
         "type": "scatter",
         "x": [
          -1.7545946836471558
         ],
         "y": [
          7.552543640136719
         ]
        },
        {
         "line": {
          "color": "DarkSlateGrey",
          "width": 2
         },
         "marker": {
          "color": [
           0.993248,
           0.906157,
           0.143936,
           1
          ],
          "size": 9
         },
         "mode": "markers",
         "name": "##para",
         "text": [
          "##para"
         ],
         "type": "scatter",
         "x": [
          -1.7141627073287964
         ],
         "y": [
          7.719979286193848
         ]
        },
        {
         "line": {
          "color": "DarkSlateGrey",
          "width": 2
         },
         "marker": {
          "color": [
           0.993248,
           0.906157,
           0.143936,
           1
          ],
          "size": 9
         },
         "mode": "markers",
         "name": "##graphs",
         "text": [
          "##graphs"
         ],
         "type": "scatter",
         "x": [
          -1.7048918008804321
         ],
         "y": [
          7.631502628326416
         ]
        },
        {
         "line": {
          "color": "DarkSlateGrey",
          "width": 2
         },
         "marker": {
          "color": [
           0.993248,
           0.906157,
           0.143936,
           1
          ],
          "size": 9
         },
         "mode": "markers",
         "name": "and",
         "text": [
          "and"
         ],
         "type": "scatter",
         "x": [
          -1.2800242900848389
         ],
         "y": [
          3.305000066757202
         ]
        },
        {
         "line": {
          "color": "DarkSlateGrey",
          "width": 2
         },
         "marker": {
          "color": [
           0.993248,
           0.906157,
           0.143936,
           1
          ],
          "size": 9
         },
         "mode": "markers",
         "name": "the",
         "text": [
          "the"
         ],
         "type": "scatter",
         "x": [
          -0.20175836980342865
         ],
         "y": [
          8.255523681640625
         ]
        },
        {
         "line": {
          "color": "DarkSlateGrey",
          "width": 2
         },
         "marker": {
          "color": [
           0.993248,
           0.906157,
           0.143936,
           1
          ],
          "size": 9
         },
         "mode": "markers",
         "name": "determination",
         "text": [
          "determination"
         ],
         "type": "scatter",
         "x": [
          -0.3249792754650116
         ],
         "y": [
          8.852071762084961
         ]
        },
        {
         "line": {
          "color": "DarkSlateGrey",
          "width": 2
         },
         "marker": {
          "color": [
           0.575563,
           0.844566,
           0.256415,
           1
          ],
          "size": 9
         },
         "mode": "markers",
         "name": "the",
         "text": [
          "the"
         ],
         "type": "scatter",
         "x": [
          -0.24051855504512787
         ],
         "y": [
          8.436351776123047
         ]
        },
        {
         "line": {
          "color": "DarkSlateGrey",
          "width": 2
         },
         "marker": {
          "color": [
           0.122312,
           0.633153,
           0.530398,
           1
          ],
          "size": 9
         },
         "mode": "markers",
         "name": "amount",
         "text": [
          "amount"
         ],
         "type": "scatter",
         "x": [
          -0.4121290445327759
         ],
         "y": [
          9.436694145202637
         ]
        },
        {
         "line": {
          "color": "DarkSlateGrey",
          "width": 2
         },
         "marker": {
          "color": [
           0.993248,
           0.906157,
           0.143936,
           1
          ],
          "size": 9
         },
         "mode": "markers",
         "name": "##duction",
         "text": [
          "##duction"
         ],
         "type": "scatter",
         "x": [
          -0.5216249227523804
         ],
         "y": [
          9.351419448852539
         ]
        },
        {
         "line": {
          "color": "DarkSlateGrey",
          "width": 2
         },
         "marker": {
          "color": [
           0.377779,
           0.791781,
           0.377939,
           1
          ],
          "size": 9
         },
         "mode": "markers",
         "name": "under",
         "text": [
          "under"
         ],
         "type": "scatter",
         "x": [
          -0.3388137221336365
         ],
         "y": [
          7.342609882354736
         ]
        },
        {
         "line": {
          "color": "DarkSlateGrey",
          "width": 2
         },
         "marker": {
          "color": [
           0.335885,
           0.777018,
           0.402049,
           1
          ],
          "size": 9
         },
         "mode": "markers",
         "name": "section",
         "text": [
          "section"
         ],
         "type": "scatter",
         "x": [
          -2.3631885051727295
         ],
         "y": [
          7.100572109222412
         ]
        },
        {
         "line": {
          "color": "DarkSlateGrey",
          "width": 2
         },
         "marker": {
          "color": [
           0.269308,
           0.218818,
           0.509577,
           1
          ],
          "size": 9
         },
         "mode": "markers",
         "name": "170",
         "text": [
          "170"
         ],
         "type": "scatter",
         "x": [
          7.560715675354004
         ],
         "y": [
          7.836397647857666
         ]
        },
        {
         "line": {
          "color": "DarkSlateGrey",
          "width": 2
         },
         "marker": {
          "color": [
           0.203063,
           0.379716,
           0.553925,
           1
          ],
          "size": 9
         },
         "mode": "markers",
         "name": "for",
         "text": [
          "for"
         ],
         "type": "scatter",
         "x": [
          0.9950162768363953
         ],
         "y": [
          8.304224967956543
         ]
        },
        {
         "line": {
          "color": "DarkSlateGrey",
          "width": 2
         },
         "marker": {
          "color": [
           0.278791,
           0.062145,
           0.386592,
           1
          ],
          "size": 9
         },
         "mode": "markers",
         "name": "purposes",
         "text": [
          "purposes"
         ],
         "type": "scatter",
         "x": [
          -1.0582231283187866
         ],
         "y": [
          8.450336456298828
         ]
        },
        {
         "line": {
          "color": "DarkSlateGrey",
          "width": 2
         },
         "marker": {
          "color": [
           0.19109,
           0.708366,
           0.482284,
           1
          ],
          "size": 9
         },
         "mode": "markers",
         "name": "this",
         "text": [
          "this"
         ],
         "type": "scatter",
         "x": [
          -1.3385684490203857
         ],
         "y": [
          5.988609313964844
         ]
        },
        {
         "line": {
          "color": "DarkSlateGrey",
          "width": 2
         },
         "marker": {
          "color": [
           0.993248,
           0.906157,
           0.143936,
           1
          ],
          "size": 9
         },
         "mode": "markers",
         "name": "paragraph",
         "text": [
          "paragraph"
         ],
         "type": "scatter",
         "x": [
          -2.240062952041626
         ],
         "y": [
          6.829295635223389
         ]
        },
        {
         "line": {
          "color": "DarkSlateGrey",
          "width": 2
         },
         "marker": {
          "color": [
           0.993248,
           0.906157,
           0.143936,
           1
          ],
          "size": 9
         },
         "mode": "markers",
         "name": "shall",
         "text": [
          "shall"
         ],
         "type": "scatter",
         "x": [
          0.24131035804748535
         ],
         "y": [
          8.26115894317627
         ]
        },
        {
         "line": {
          "color": "DarkSlateGrey",
          "width": 2
         },
         "marker": {
          "color": [
           0.993248,
           0.906157,
           0.143936,
           1
          ],
          "size": 9
         },
         "mode": "markers",
         "name": "made",
         "text": [
          "made"
         ],
         "type": "scatter",
         "x": [
          0.004983663093298674
         ],
         "y": [
          8.19542121887207
         ]
        },
        {
         "line": {
          "color": "DarkSlateGrey",
          "width": 2
         },
         "marker": {
          "color": [
           0.993248,
           0.906157,
           0.143936,
           1
          ],
          "size": 9
         },
         "mode": "markers",
         "name": "the",
         "text": [
          "the"
         ],
         "type": "scatter",
         "x": [
          -0.3683249056339264
         ],
         "y": [
          8.043869018554688
         ]
        },
        {
         "line": {
          "color": "DarkSlateGrey",
          "width": 2
         },
         "marker": {
          "color": [
           0.993248,
           0.906157,
           0.143936,
           1
          ],
          "size": 9
         },
         "mode": "markers",
         "name": "limitation",
         "text": [
          "limitation"
         ],
         "type": "scatter",
         "x": [
          -0.43224844336509705
         ],
         "y": [
          8.8384428024292
         ]
        },
        {
         "line": {
          "color": "DarkSlateGrey",
          "width": 2
         },
         "marker": {
          "color": [
           0.377779,
           0.791781,
           0.377939,
           1
          ],
          "size": 9
         },
         "mode": "markers",
         "name": "under",
         "text": [
          "under"
         ],
         "type": "scatter",
         "x": [
          -0.38388484716415405
         ],
         "y": [
          7.399833679199219
         ]
        },
        {
         "line": {
          "color": "DarkSlateGrey",
          "width": 2
         },
         "marker": {
          "color": [
           0.335885,
           0.777018,
           0.402049,
           1
          ],
          "size": 9
         },
         "mode": "markers",
         "name": "section",
         "text": [
          "section"
         ],
         "type": "scatter",
         "x": [
          -2.3628578186035156
         ],
         "y": [
          7.096012592315674
         ]
        },
        {
         "line": {
          "color": "DarkSlateGrey",
          "width": 2
         },
         "marker": {
          "color": [
           0.269308,
           0.218818,
           0.509577,
           1
          ],
          "size": 9
         },
         "mode": "markers",
         "name": "170",
         "text": [
          "170"
         ],
         "type": "scatter",
         "x": [
          7.565269947052002
         ],
         "y": [
          7.785348415374756
         ]
        },
        {
         "line": {
          "color": "DarkSlateGrey",
          "width": 2
         },
         "marker": {
          "color": [
           0.993248,
           0.906157,
           0.143936,
           1
          ],
          "size": 9
         },
         "mode": "markers",
         "name": "applied",
         "text": [
          "applied"
         ],
         "type": "scatter",
         "x": [
          -0.027314547449350357
         ],
         "y": [
          8.506223678588867
         ]
        },
        {
         "line": {
          "color": "DarkSlateGrey",
          "width": 2
         },
         "marker": {
          "color": [
           0.993248,
           0.906157,
           0.143936,
           1
          ],
          "size": 9
         },
         "mode": "markers",
         "name": "all",
         "text": [
          "all"
         ],
         "type": "scatter",
         "x": [
          1.1511598825454712
         ],
         "y": [
          7.723908424377441
         ]
        },
        {
         "line": {
          "color": "DarkSlateGrey",
          "width": 2
         },
         "marker": {
          "color": [
           0.281924,
           0.089666,
           0.412415,
           1
          ],
          "size": 9
         },
         "mode": "markers",
         "name": "stem",
         "text": [
          "stem"
         ],
         "type": "scatter",
         "x": [
          -7.623404026031494
         ],
         "y": [
          4.167658805847168
         ]
        },
        {
         "line": {
          "color": "DarkSlateGrey",
          "width": 2
         },
         "marker": {
          "color": [
           0.993248,
           0.906157,
           0.143936,
           1
          ],
          "size": 9
         },
         "mode": "markers",
         "name": "inventory",
         "text": [
          "inventory"
         ],
         "type": "scatter",
         "x": [
          0.016957072541117668
         ],
         "y": [
          11.0650053024292
         ]
        },
        {
         "line": {
          "color": "DarkSlateGrey",
          "width": 2
         },
         "marker": {
          "color": [
           0.1941,
           0.399323,
           0.555565,
           1
          ],
          "size": 9
         },
         "mode": "markers",
         "name": "property",
         "text": [
          "property"
         ],
         "type": "scatter",
         "x": [
          -0.14258228242397308
         ],
         "y": [
          11.153636932373047
         ]
        },
        {
         "line": {
          "color": "DarkSlateGrey",
          "width": 2
         },
         "marker": {
          "color": [
           0.281924,
           0.089666,
           0.412415,
           1
          ],
          "size": 9
         },
         "mode": "markers",
         "name": "stem",
         "text": [
          "stem"
         ],
         "type": "scatter",
         "x": [
          -7.7035441398620605
         ],
         "y": [
          4.098546504974365
         ]
        },
        {
         "line": {
          "color": "DarkSlateGrey",
          "width": 2
         },
         "marker": {
          "color": [
           0.993248,
           0.906157,
           0.143936,
           1
          ],
          "size": 9
         },
         "mode": "markers",
         "name": "service",
         "text": [
          "service"
         ],
         "type": "scatter",
         "x": [
          0.5528712272644043
         ],
         "y": [
          10.940176010131836
         ]
        },
        {
         "line": {
          "color": "DarkSlateGrey",
          "width": 2
         },
         "marker": {
          "color": [
           0.223925,
           0.334994,
           0.548053,
           1
          ],
          "size": 9
         },
         "mode": "markers",
         "name": "contributions",
         "text": [
          "contributions"
         ],
         "type": "scatter",
         "x": [
          -1.1299976110458374
         ],
         "y": [
          10.889015197753906
         ]
        },
        {
         "line": {
          "color": "DarkSlateGrey",
          "width": 2
         },
         "marker": {
          "color": [
           0.626579,
           0.854645,
           0.223353,
           1
          ],
          "size": 9
         },
         "mode": "markers",
         "name": "the",
         "text": [
          "the"
         ],
         "type": "scatter",
         "x": [
          8.005019187927246
         ],
         "y": [
          -6.282664775848389
         ]
        },
        {
         "line": {
          "color": "DarkSlateGrey",
          "width": 2
         },
         "marker": {
          "color": [
           0.252194,
           0.269783,
           0.531579,
           1
          ],
          "size": 9
         },
         "mode": "markers",
         "name": "term",
         "text": [
          "term"
         ],
         "type": "scatter",
         "x": [
          17.795867919921875
         ],
         "y": [
          -4.512214183807373
         ]
        },
        {
         "line": {
          "color": "DarkSlateGrey",
          "width": 2
         },
         "marker": {
          "color": [
           0.281924,
           0.089666,
           0.412415,
           1
          ],
          "size": 9
         },
         "mode": "markers",
         "name": "stem",
         "text": [
          "stem"
         ],
         "type": "scatter",
         "x": [
          -7.675604343414307
         ],
         "y": [
          4.120615005493164
         ]
        },
        {
         "line": {
          "color": "DarkSlateGrey",
          "width": 2
         },
         "marker": {
          "color": [
           0.993248,
           0.906157,
           0.143936,
           1
          ],
          "size": 9
         },
         "mode": "markers",
         "name": "service",
         "text": [
          "service"
         ],
         "type": "scatter",
         "x": [
          0.5963791012763977
         ],
         "y": [
          10.942906379699707
         ]
        },
        {
         "line": {
          "color": "DarkSlateGrey",
          "width": 2
         },
         "marker": {
          "color": [
           0.223925,
           0.334994,
           0.548053,
           1
          ],
          "size": 9
         },
         "mode": "markers",
         "name": "contributions",
         "text": [
          "contributions"
         ],
         "type": "scatter",
         "x": [
          -1.1230660676956177
         ],
         "y": [
          10.885366439819336
         ]
        },
        {
         "line": {
          "color": "DarkSlateGrey",
          "width": 2
         },
         "marker": {
          "color": [
           0.260571,
           0.246922,
           0.522828,
           1
          ],
          "size": 9
         },
         "mode": "markers",
         "name": "means",
         "text": [
          "means"
         ],
         "type": "scatter",
         "x": [
          -5.044744491577148
         ],
         "y": [
          11.077181816101074
         ]
        },
        {
         "line": {
          "color": "DarkSlateGrey",
          "width": 2
         },
         "marker": {
          "color": [
           0.575563,
           0.844566,
           0.256415,
           1
          ],
          "size": 9
         },
         "mode": "markers",
         "name": "the",
         "text": [
          "the"
         ],
         "type": "scatter",
         "x": [
          -0.12415049970149994
         ],
         "y": [
          8.404162406921387
         ]
        },
        {
         "line": {
          "color": "DarkSlateGrey",
          "width": 2
         },
         "marker": {
          "color": [
           0.122312,
           0.633153,
           0.530398,
           1
          ],
          "size": 9
         },
         "mode": "markers",
         "name": "amount",
         "text": [
          "amount"
         ],
         "type": "scatter",
         "x": [
          -0.38923129439353943
         ],
         "y": [
          9.540414810180664
         ]
        },
        {
         "line": {
          "color": "DarkSlateGrey",
          "width": 2
         },
         "marker": {
          "color": [
           0.993248,
           0.906157,
           0.143936,
           1
          ],
          "size": 9
         },
         "mode": "markers",
         "name": "paid",
         "text": [
          "paid"
         ],
         "type": "scatter",
         "x": [
          -0.22030283510684967
         ],
         "y": [
          9.761590003967285
         ]
        },
        {
         "line": {
          "color": "DarkSlateGrey",
          "width": 2
         },
         "marker": {
          "color": [
           0.993248,
           0.906157,
           0.143936,
           1
          ],
          "size": 9
         },
         "mode": "markers",
         "name": "incurred",
         "text": [
          "incurred"
         ],
         "type": "scatter",
         "x": [
          -0.25285881757736206
         ],
         "y": [
          9.751697540283203
         ]
        },
        {
         "line": {
          "color": "DarkSlateGrey",
          "width": 2
         },
         "marker": {
          "color": [
           0.993248,
           0.906157,
           0.143936,
           1
          ],
          "size": 9
         },
         "mode": "markers",
         "name": "during",
         "text": [
          "during"
         ],
         "type": "scatter",
         "x": [
          1.2813365459442139
         ],
         "y": [
          8.984681129455566
         ]
        },
        {
         "line": {
          "color": "DarkSlateGrey",
          "width": 2
         },
         "marker": {
          "color": [
           0.993248,
           0.906157,
           0.143936,
           1
          ],
          "size": 9
         },
         "mode": "markers",
         "name": "the",
         "text": [
          "the"
         ],
         "type": "scatter",
         "x": [
          1.747615933418274
         ],
         "y": [
          9.27086353302002
         ]
        },
        {
         "line": {
          "color": "DarkSlateGrey",
          "width": 2
         },
         "marker": {
          "color": [
           0.993248,
           0.906157,
           0.143936,
           1
          ],
          "size": 9
         },
         "mode": "markers",
         "name": "taxa",
         "text": [
          "taxa"
         ],
         "type": "scatter",
         "x": [
          -1.5132368803024292
         ],
         "y": [
          8.740384101867676
         ]
        },
        {
         "line": {
          "color": "DarkSlateGrey",
          "width": 2
         },
         "marker": {
          "color": [
           0.993248,
           0.906157,
           0.143936,
           1
          ],
          "size": 9
         },
         "mode": "markers",
         "name": "##ble",
         "text": [
          "##ble"
         ],
         "type": "scatter",
         "x": [
          -0.9488859176635742
         ],
         "y": [
          8.986092567443848
         ]
        },
        {
         "line": {
          "color": "DarkSlateGrey",
          "width": 2
         },
         "marker": {
          "color": [
           0.993248,
           0.906157,
           0.143936,
           1
          ],
          "size": 9
         },
         "mode": "markers",
         "name": "year",
         "text": [
          "year"
         ],
         "type": "scatter",
         "x": [
          -0.8986323475837708
         ],
         "y": [
          9.004779815673828
         ]
        },
        {
         "line": {
          "color": "DarkSlateGrey",
          "width": 2
         },
         "marker": {
          "color": [
           0.993248,
           0.906157,
           0.143936,
           1
          ],
          "size": 9
         },
         "mode": "markers",
         "name": "for",
         "text": [
          "for"
         ],
         "type": "scatter",
         "x": [
          0.9901002049446106
         ],
         "y": [
          8.677044868469238
         ]
        },
        {
         "line": {
          "color": "DarkSlateGrey",
          "width": 2
         },
         "marker": {
          "color": [
           0.281924,
           0.089666,
           0.412415,
           1
          ],
          "size": 9
         },
         "mode": "markers",
         "name": "stem",
         "text": [
          "stem"
         ],
         "type": "scatter",
         "x": [
          -7.67952823638916
         ],
         "y": [
          4.123497486114502
         ]
        },
        {
         "line": {
          "color": "DarkSlateGrey",
          "width": 2
         },
         "marker": {
          "color": [
           0.185556,
           0.41857,
           0.556753,
           1
          ],
          "size": 9
         },
         "mode": "markers",
         "name": "services",
         "text": [
          "services"
         ],
         "type": "scatter",
         "x": [
          0.6314402222633362
         ],
         "y": [
          10.705705642700195
         ]
        },
        {
         "line": {
          "color": "DarkSlateGrey",
          "width": 2
         },
         "marker": {
          "color": [
           0.993248,
           0.906157,
           0.143936,
           1
          ],
          "size": 9
         },
         "mode": "markers",
         "name": "provided",
         "text": [
          "provided"
         ],
         "type": "scatter",
         "x": [
          0.4412838816642761
         ],
         "y": [
          9.705738067626953
         ]
        },
        {
         "line": {
          "color": "DarkSlateGrey",
          "width": 2
         },
         "marker": {
          "color": [
           0.730889,
           0.871916,
           0.156029,
           1
          ],
          "size": 9
         },
         "mode": "markers",
         "name": "the",
         "text": [
          "the"
         ],
         "type": "scatter",
         "x": [
          2.374725818634033
         ],
         "y": [
          8.773691177368164
         ]
        },
        {
         "line": {
          "color": "DarkSlateGrey",
          "width": 2
         },
         "marker": {
          "color": [
           0.143303,
           0.669459,
           0.511215,
           1
          ],
          "size": 9
         },
         "mode": "markers",
         "name": "united",
         "text": [
          "united"
         ],
         "type": "scatter",
         "x": [
          2.409684896469116
         ],
         "y": [
          7.787850856781006
         ]
        },
        {
         "line": {
          "color": "DarkSlateGrey",
          "width": 2
         },
         "marker": {
          "color": [
           0.143303,
           0.669459,
           0.511215,
           1
          ],
          "size": 9
         },
         "mode": "markers",
         "name": "states",
         "text": [
          "states"
         ],
         "type": "scatter",
         "x": [
          2.3909316062927246
         ],
         "y": [
          7.759557723999023
         ]
        },
        {
         "line": {
          "color": "DarkSlateGrey",
          "width": 2
         },
         "marker": {
          "color": [
           0.993248,
           0.906157,
           0.143936,
           1
          ],
          "size": 9
         },
         "mode": "markers",
         "name": "the",
         "text": [
          "the"
         ],
         "type": "scatter",
         "x": [
          2.432115316390991
         ],
         "y": [
          8.947928428649902
         ]
        },
        {
         "line": {
          "color": "DarkSlateGrey",
          "width": 2
         },
         "marker": {
          "color": [
           0.993248,
           0.906157,
           0.143936,
           1
          ],
          "size": 9
         },
         "mode": "markers",
         "name": "defense",
         "text": [
          "defense"
         ],
         "type": "scatter",
         "x": [
          -7.225845813751221
         ],
         "y": [
          4.500935077667236
         ]
        },
        {
         "line": {
          "color": "DarkSlateGrey",
          "width": 2
         },
         "marker": {
          "color": [
           0.993248,
           0.906157,
           0.143936,
           1
          ],
          "size": 9
         },
         "mode": "markers",
         "name": "dependent",
         "text": [
          "dependent"
         ],
         "type": "scatter",
         "x": [
          0.4818814992904663
         ],
         "y": [
          11.898653984069824
         ]
        },
        {
         "line": {
          "color": "DarkSlateGrey",
          "width": 2
         },
         "marker": {
          "color": [
           0.993248,
           0.906157,
           0.143936,
           1
          ],
          "size": 9
         },
         "mode": "markers",
         "name": "##s",
         "text": [
          "##s"
         ],
         "type": "scatter",
         "x": [
          1.9857337474822998
         ],
         "y": [
          10.62014389038086
         ]
        },
        {
         "line": {
          "color": "DarkSlateGrey",
          "width": 2
         },
         "marker": {
          "color": [
           0.153364,
           0.497,
           0.557724,
           1
          ],
          "size": 9
         },
         "mode": "markers",
         "name": "education",
         "text": [
          "education"
         ],
         "type": "scatter",
         "x": [
          1.9345189332962036
         ],
         "y": [
          12.18234634399414
         ]
        },
        {
         "line": {
          "color": "DarkSlateGrey",
          "width": 2
         },
         "marker": {
          "color": [
           0.993248,
           0.906157,
           0.143936,
           1
          ],
          "size": 9
         },
         "mode": "markers",
         "name": "system",
         "text": [
          "system"
         ],
         "type": "scatter",
         "x": [
          1.4445147514343262
         ],
         "y": [
          11.112924575805664
         ]
        },
        {
         "line": {
          "color": "DarkSlateGrey",
          "width": 2
         },
         "marker": {
          "color": [
           0.993248,
           0.906157,
           0.143936,
           1
          ],
          "size": 9
         },
         "mode": "markers",
         "name": "for",
         "text": [
          "for"
         ],
         "type": "scatter",
         "x": [
          0.9887765049934387
         ],
         "y": [
          8.67647933959961
         ]
        },
        {
         "line": {
          "color": "DarkSlateGrey",
          "width": 2
         },
         "marker": {
          "color": [
           0.89632,
           0.893616,
           0.096335,
           1
          ],
          "size": 9
         },
         "mode": "markers",
         "name": "the",
         "text": [
          "the"
         ],
         "type": "scatter",
         "x": [
          -2.3167948722839355
         ],
         "y": [
          8.29953670501709
         ]
        },
        {
         "line": {
          "color": "DarkSlateGrey",
          "width": 2
         },
         "marker": {
          "color": [
           0.993248,
           0.906157,
           0.143936,
           1
          ],
          "size": 9
         },
         "mode": "markers",
         "name": "exclusive",
         "text": [
          "exclusive"
         ],
         "type": "scatter",
         "x": [
          0.9790228605270386
         ],
         "y": [
          9.924507141113281
         ]
        },
        {
         "line": {
          "color": "DarkSlateGrey",
          "width": 2
         },
         "marker": {
          "color": [
           0.993248,
           0.906157,
           0.143936,
           1
          ],
          "size": 9
         },
         "mode": "markers",
         "name": "benefit",
         "text": [
          "benefit"
         ],
         "type": "scatter",
         "x": [
          0.773186445236206
         ],
         "y": [
          10.080623626708984
         ]
        },
        {
         "line": {
          "color": "DarkSlateGrey",
          "width": 2
         },
         "marker": {
          "color": [
           0.993248,
           0.906157,
           0.143936,
           1
          ],
          "size": 9
         },
         "mode": "markers",
         "name": "students",
         "text": [
          "students"
         ],
         "type": "scatter",
         "x": [
          1.7128978967666626
         ],
         "y": [
          11.960488319396973
         ]
        },
        {
         "line": {
          "color": "DarkSlateGrey",
          "width": 2
         },
         "marker": {
          "color": [
           0.160665,
           0.47854,
           0.558115,
           1
          ],
          "size": 9
         },
         "mode": "markers",
         "name": "elementary",
         "text": [
          "elementary"
         ],
         "type": "scatter",
         "x": [
          2.638712167739868
         ],
         "y": [
          12.818830490112305
         ]
        },
        {
         "line": {
          "color": "DarkSlateGrey",
          "width": 2
         },
         "marker": {
          "color": [
           0.160665,
           0.47854,
           0.558115,
           1
          ],
          "size": 9
         },
         "mode": "markers",
         "name": "secondary",
         "text": [
          "secondary"
         ],
         "type": "scatter",
         "x": [
          2.69401478767395
         ],
         "y": [
          12.905710220336914
         ]
        },
        {
         "line": {
          "color": "DarkSlateGrey",
          "width": 2
         },
         "marker": {
          "color": [
           0.153364,
           0.497,
           0.557724,
           1
          ],
          "size": 9
         },
         "mode": "markers",
         "name": "school",
         "text": [
          "school"
         ],
         "type": "scatter",
         "x": [
          2.2136619091033936
         ],
         "y": [
          12.039972305297852
         ]
        },
        {
         "line": {
          "color": "DarkSlateGrey",
          "width": 2
         },
         "marker": {
          "color": [
           0.993248,
           0.906157,
           0.143936,
           1
          ],
          "size": 9
         },
         "mode": "markers",
         "name": "described",
         "text": [
          "described"
         ],
         "type": "scatter",
         "x": [
          -0.10101878643035889
         ],
         "y": [
          9.2112398147583
         ]
        },
        {
         "line": {
          "color": "DarkSlateGrey",
          "width": 2
         },
         "marker": {
          "color": [
           0.335885,
           0.777018,
           0.402049,
           1
          ],
          "size": 9
         },
         "mode": "markers",
         "name": "section",
         "text": [
          "section"
         ],
         "type": "scatter",
         "x": [
          -2.364893674850464
         ],
         "y": [
          7.091429710388184
         ]
        },
        {
         "line": {
          "color": "DarkSlateGrey",
          "width": 2
         },
         "marker": {
          "color": [
           0.269308,
           0.218818,
           0.509577,
           1
          ],
          "size": 9
         },
         "mode": "markers",
         "name": "170",
         "text": [
          "170"
         ],
         "type": "scatter",
         "x": [
          7.579976558685303
         ],
         "y": [
          7.824796676635742
         ]
        },
        {
         "line": {
          "color": "DarkSlateGrey",
          "width": 2
         },
         "marker": {
          "color": [
           0.993248,
           0.906157,
           0.143936,
           1
          ],
          "size": 9
         },
         "mode": "markers",
         "name": "but",
         "text": [
          "but"
         ],
         "type": "scatter",
         "x": [
          -1.9487731456756592
         ],
         "y": [
          8.60927677154541
         ]
        },
        {
         "line": {
          "color": "DarkSlateGrey",
          "width": 2
         },
         "marker": {
          "color": [
           0.993248,
           0.906157,
           0.143936,
           1
          ],
          "size": 9
         },
         "mode": "markers",
         "name": "only",
         "text": [
          "only"
         ],
         "type": "scatter",
         "x": [
          -1.8459938764572144
         ],
         "y": [
          8.550786018371582
         ]
        },
        {
         "line": {
          "color": "DarkSlateGrey",
          "width": 2
         },
         "marker": {
          "color": [
           0.730889,
           0.871916,
           0.156029,
           1
          ],
          "size": 9
         },
         "mode": "markers",
         "name": "the",
         "text": [
          "the"
         ],
         "type": "scatter",
         "x": [
          1.904375672340393
         ],
         "y": [
          9.298566818237305
         ]
        },
        {
         "line": {
          "color": "DarkSlateGrey",
          "width": 2
         },
         "marker": {
          "color": [
           0.273809,
           0.031497,
           0.358853,
           1
          ],
          "size": 9
         },
         "mode": "markers",
         "name": "taxpayer",
         "text": [
          "taxpayer"
         ],
         "type": "scatter",
         "x": [
          -1.570219874382019
         ],
         "y": [
          9.779635429382324
         ]
        },
        {
         "line": {
          "color": "DarkSlateGrey",
          "width": 2
         },
         "marker": {
          "color": [
           0.993248,
           0.906157,
           0.143936,
           1
          ],
          "size": 9
         },
         "mode": "markers",
         "name": "engaged",
         "text": [
          "engaged"
         ],
         "type": "scatter",
         "x": [
          1.2130006551742554
         ],
         "y": [
          9.413554191589355
         ]
        },
        {
         "line": {
          "color": "DarkSlateGrey",
          "width": 2
         },
         "marker": {
          "color": [
           0.993248,
           0.906157,
           0.143936,
           1
          ],
          "size": 9
         },
         "mode": "markers",
         "name": "the",
         "text": [
          "the"
         ],
         "type": "scatter",
         "x": [
          2.0903561115264893
         ],
         "y": [
          9.20118522644043
         ]
        },
        {
         "line": {
          "color": "DarkSlateGrey",
          "width": 2
         },
         "marker": {
          "color": [
           0.233603,
           0.313828,
           0.543914,
           1
          ],
          "size": 9
         },
         "mode": "markers",
         "name": "trade",
         "text": [
          "trade"
         ],
         "type": "scatter",
         "x": [
          0.7964831590652466
         ],
         "y": [
          10.488743782043457
         ]
        },
        {
         "line": {
          "color": "DarkSlateGrey",
          "width": 2
         },
         "marker": {
          "color": [
           0.233603,
           0.313828,
           0.543914,
           1
          ],
          "size": 9
         },
         "mode": "markers",
         "name": "business",
         "text": [
          "business"
         ],
         "type": "scatter",
         "x": [
          0.7714983820915222
         ],
         "y": [
          10.474034309387207
         ]
        },
        {
         "line": {
          "color": "DarkSlateGrey",
          "width": 2
         },
         "marker": {
          "color": [
           0.185556,
           0.41857,
           0.556753,
           1
          ],
          "size": 9
         },
         "mode": "markers",
         "name": "providing",
         "text": [
          "providing"
         ],
         "type": "scatter",
         "x": [
          0.825568675994873
         ],
         "y": [
          9.798022270202637
         ]
        },
        {
         "line": {
          "color": "DarkSlateGrey",
          "width": 2
         },
         "marker": {
          "color": [
           0.130067,
           0.651384,
           0.521608,
           1
          ],
          "size": 9
         },
         "mode": "markers",
         "name": "such",
         "text": [
          "such"
         ],
         "type": "scatter",
         "x": [
          5.340112686157227
         ],
         "y": [
          12.309980392456055
         ]
        },
        {
         "line": {
          "color": "DarkSlateGrey",
          "width": 2
         },
         "marker": {
          "color": [
           0.185556,
           0.41857,
           0.556753,
           1
          ],
          "size": 9
         },
         "mode": "markers",
         "name": "services",
         "text": [
          "services"
         ],
         "type": "scatter",
         "x": [
          0.6948819756507874
         ],
         "y": [
          10.6480131149292
         ]
        },
        {
         "line": {
          "color": "DarkSlateGrey",
          "width": 2
         },
         "marker": {
          "color": [
           0.233603,
           0.313828,
           0.543914,
           1
          ],
          "size": 9
         },
         "mode": "markers",
         "name": "commercial",
         "text": [
          "commercial"
         ],
         "type": "scatter",
         "x": [
          0.8138614296913147
         ],
         "y": [
          10.423280715942383
         ]
        },
        {
         "line": {
          "color": "DarkSlateGrey",
          "width": 2
         },
         "marker": {
          "color": [
           0.993248,
           0.906157,
           0.143936,
           1
          ],
          "size": 9
         },
         "mode": "markers",
         "name": "basis",
         "text": [
          "basis"
         ],
         "type": "scatter",
         "x": [
          0.8818606734275818
         ],
         "y": [
          10.210013389587402
         ]
        },
        {
         "line": {
          "color": "DarkSlateGrey",
          "width": 2
         },
         "marker": {
          "color": [
           0.993248,
           0.906157,
           0.143936,
           1
          ],
          "size": 9
         },
         "mode": "markers",
         "name": "and",
         "text": [
          "and"
         ],
         "type": "scatter",
         "x": [
          -1.5063403844833374
         ],
         "y": [
          3.4613165855407715
         ]
        },
        {
         "line": {
          "color": "DarkSlateGrey",
          "width": 2
         },
         "marker": {
          "color": [
           0.993248,
           0.906157,
           0.143936,
           1
          ],
          "size": 9
         },
         "mode": "markers",
         "name": "charge",
         "text": [
          "charge"
         ],
         "type": "scatter",
         "x": [
          -0.474473237991333
         ],
         "y": [
          9.47136116027832
         ]
        },
        {
         "line": {
          "color": "DarkSlateGrey",
          "width": 2
         },
         "marker": {
          "color": [
           0.993248,
           0.906157,
           0.143936,
           1
          ],
          "size": 9
         },
         "mode": "markers",
         "name": "imposed",
         "text": [
          "imposed"
         ],
         "type": "scatter",
         "x": [
          -0.024296175688505173
         ],
         "y": [
          8.979715347290039
         ]
        },
        {
         "line": {
          "color": "DarkSlateGrey",
          "width": 2
         },
         "marker": {
          "color": [
           0.993248,
           0.906157,
           0.143936,
           1
          ],
          "size": 9
         },
         "mode": "markers",
         "name": "for",
         "text": [
          "for"
         ],
         "type": "scatter",
         "x": [
          0.8990089893341064
         ],
         "y": [
          8.858759880065918
         ]
        },
        {
         "line": {
          "color": "DarkSlateGrey",
          "width": 2
         },
         "marker": {
          "color": [
           0.185556,
           0.41857,
           0.556753,
           1
          ],
          "size": 9
         },
         "mode": "markers",
         "name": "providing",
         "text": [
          "providing"
         ],
         "type": "scatter",
         "x": [
          0.8876327872276306
         ],
         "y": [
          9.810806274414062
         ]
        },
        {
         "line": {
          "color": "DarkSlateGrey",
          "width": 2
         },
         "marker": {
          "color": [
           0.130067,
           0.651384,
           0.521608,
           1
          ],
          "size": 9
         },
         "mode": "markers",
         "name": "such",
         "text": [
          "such"
         ],
         "type": "scatter",
         "x": [
          5.314136505126953
         ],
         "y": [
          12.288595199584961
         ]
        },
        {
         "line": {
          "color": "DarkSlateGrey",
          "width": 2
         },
         "marker": {
          "color": [
           0.185556,
           0.41857,
           0.556753,
           1
          ],
          "size": 9
         },
         "mode": "markers",
         "name": "services",
         "text": [
          "services"
         ],
         "type": "scatter",
         "x": [
          0.7204707860946655
         ],
         "y": [
          10.635671615600586
         ]
        },
        {
         "line": {
          "color": "DarkSlateGrey",
          "width": 2
         },
         "marker": {
          "color": [
           0.281924,
           0.089666,
           0.412415,
           1
          ],
          "size": 9
         },
         "mode": "markers",
         "name": "stem",
         "text": [
          "stem"
         ],
         "type": "scatter",
         "x": [
          -7.598527908325195
         ],
         "y": [
          4.151618480682373
         ]
        },
        {
         "line": {
          "color": "DarkSlateGrey",
          "width": 2
         },
         "marker": {
          "color": [
           0.993248,
           0.906157,
           0.143936,
           1
          ],
          "size": 9
         },
         "mode": "markers",
         "name": "inventory",
         "text": [
          "inventory"
         ],
         "type": "scatter",
         "x": [
          0.05597943067550659
         ],
         "y": [
          11.044315338134766
         ]
        },
        {
         "line": {
          "color": "DarkSlateGrey",
          "width": 2
         },
         "marker": {
          "color": [
           0.1941,
           0.399323,
           0.555565,
           1
          ],
          "size": 9
         },
         "mode": "markers",
         "name": "property",
         "text": [
          "property"
         ],
         "type": "scatter",
         "x": [
          -0.1275525540113449
         ],
         "y": [
          11.138554573059082
         ]
        },
        {
         "line": {
          "color": "DarkSlateGrey",
          "width": 2
         },
         "marker": {
          "color": [
           0.626579,
           0.854645,
           0.223353,
           1
          ],
          "size": 9
         },
         "mode": "markers",
         "name": "the",
         "text": [
          "the"
         ],
         "type": "scatter",
         "x": [
          8.007336616516113
         ],
         "y": [
          -6.286966800689697
         ]
        },
        {
         "line": {
          "color": "DarkSlateGrey",
          "width": 2
         },
         "marker": {
          "color": [
           0.252194,
           0.269783,
           0.531579,
           1
          ],
          "size": 9
         },
         "mode": "markers",
         "name": "term",
         "text": [
          "term"
         ],
         "type": "scatter",
         "x": [
          17.774282455444336
         ],
         "y": [
          -4.490555286407471
         ]
        },
        {
         "line": {
          "color": "DarkSlateGrey",
          "width": 2
         },
         "marker": {
          "color": [
           0.281924,
           0.089666,
           0.412415,
           1
          ],
          "size": 9
         },
         "mode": "markers",
         "name": "stem",
         "text": [
          "stem"
         ],
         "type": "scatter",
         "x": [
          -7.634026527404785
         ],
         "y": [
          4.150357246398926
         ]
        },
        {
         "line": {
          "color": "DarkSlateGrey",
          "width": 2
         },
         "marker": {
          "color": [
           0.993248,
           0.906157,
           0.143936,
           1
          ],
          "size": 9
         },
         "mode": "markers",
         "name": "inventory",
         "text": [
          "inventory"
         ],
         "type": "scatter",
         "x": [
          0.0342850424349308
         ],
         "y": [
          11.107893943786621
         ]
        },
        {
         "line": {
          "color": "DarkSlateGrey",
          "width": 2
         },
         "marker": {
          "color": [
           0.1941,
           0.399323,
           0.555565,
           1
          ],
          "size": 9
         },
         "mode": "markers",
         "name": "property",
         "text": [
          "property"
         ],
         "type": "scatter",
         "x": [
          -0.14820894598960876
         ],
         "y": [
          11.154528617858887
         ]
        },
        {
         "line": {
          "color": "DarkSlateGrey",
          "width": 2
         },
         "marker": {
          "color": [
           0.260571,
           0.246922,
           0.522828,
           1
          ],
          "size": 9
         },
         "mode": "markers",
         "name": "means",
         "text": [
          "means"
         ],
         "type": "scatter",
         "x": [
          -5.096093654632568
         ],
         "y": [
          11.127845764160156
         ]
        },
        {
         "line": {
          "color": "DarkSlateGrey",
          "width": 2
         },
         "marker": {
          "color": [
           0.993248,
           0.906157,
           0.143936,
           1
          ],
          "size": 9
         },
         "mode": "markers",
         "name": "with",
         "text": [
          "with"
         ],
         "type": "scatter",
         "x": [
          0.7636135816574097
         ],
         "y": [
          7.7303290367126465
         ]
        },
        {
         "line": {
          "color": "DarkSlateGrey",
          "width": 2
         },
         "marker": {
          "color": [
           0.993248,
           0.906157,
           0.143936,
           1
          ],
          "size": 9
         },
         "mode": "markers",
         "name": "respect",
         "text": [
          "respect"
         ],
         "type": "scatter",
         "x": [
          -0.8992289900779724
         ],
         "y": [
          8.384035110473633
         ]
        },
        {
         "line": {
          "color": "DarkSlateGrey",
          "width": 2
         },
         "marker": {
          "color": [
           0.575563,
           0.844566,
           0.256415,
           1
          ],
          "size": 9
         },
         "mode": "markers",
         "name": "any",
         "text": [
          "any"
         ],
         "type": "scatter",
         "x": [
          1.3563920259475708
         ],
         "y": [
          7.3191142082214355
         ]
        },
        {
         "line": {
          "color": "DarkSlateGrey",
          "width": 2
         },
         "marker": {
          "color": [
           0.993248,
           0.906157,
           0.143936,
           1
          ],
          "size": 9
         },
         "mode": "markers",
         "name": "contribution",
         "text": [
          "contribution"
         ],
         "type": "scatter",
         "x": [
          -1.0336648225784302
         ],
         "y": [
          10.906262397766113
         ]
        },
        {
         "line": {
          "color": "DarkSlateGrey",
          "width": 2
         },
         "marker": {
          "color": [
           0.153364,
           0.497,
           0.557724,
           1
          ],
          "size": 9
         },
         "mode": "markers",
         "name": "school",
         "text": [
          "school"
         ],
         "type": "scatter",
         "x": [
          2.294313430786133
         ],
         "y": [
          12.061040878295898
         ]
        },
        {
         "line": {
          "color": "DarkSlateGrey",
          "width": 2
         },
         "marker": {
          "color": [
           0.575563,
           0.844566,
           0.256415,
           1
          ],
          "size": 9
         },
         "mode": "markers",
         "name": "any",
         "text": [
          "any"
         ],
         "type": "scatter",
         "x": [
          1.3347588777542114
         ],
         "y": [
          7.332843780517578
         ]
        },
        {
         "line": {
          "color": "DarkSlateGrey",
          "width": 2
         },
         "marker": {
          "color": [
           0.1941,
           0.399323,
           0.555565,
           1
          ],
          "size": 9
         },
         "mode": "markers",
         "name": "property",
         "text": [
          "property"
         ],
         "type": "scatter",
         "x": [
          -0.14276011288166046
         ],
         "y": [
          11.13280200958252
         ]
        },
        {
         "line": {
          "color": "DarkSlateGrey",
          "width": 2
         },
         "marker": {
          "color": [
           0.993248,
           0.906157,
           0.143936,
           1
          ],
          "size": 9
         },
         "mode": "markers",
         "name": "which",
         "text": [
          "which"
         ],
         "type": "scatter",
         "x": [
          1.27827787399292
         ],
         "y": [
          8.184601783752441
         ]
        },
        {
         "line": {
          "color": "DarkSlateGrey",
          "width": 2
         },
         "marker": {
          "color": [
           0.993248,
           0.906157,
           0.143936,
           1
          ],
          "size": 9
         },
         "mode": "markers",
         "name": "described",
         "text": [
          "described"
         ],
         "type": "scatter",
         "x": [
          -0.07594075798988342
         ],
         "y": [
          9.253132820129395
         ]
        },
        {
         "line": {
          "color": "DarkSlateGrey",
          "width": 2
         },
         "marker": {
          "color": [
           0.993248,
           0.906157,
           0.143936,
           1
          ],
          "size": 9
         },
         "mode": "markers",
         "name": "paragraph",
         "text": [
          "paragraph"
         ],
         "type": "scatter",
         "x": [
          -2.2772417068481445
         ],
         "y": [
          6.975811958312988
         ]
        },
        {
         "line": {
          "color": "DarkSlateGrey",
          "width": 2
         },
         "marker": {
          "color": [
           0.335885,
           0.777018,
           0.402049,
           1
          ],
          "size": 9
         },
         "mode": "markers",
         "name": "section",
         "text": [
          "section"
         ],
         "type": "scatter",
         "x": [
          -2.3161461353302
         ],
         "y": [
          7.123398303985596
         ]
        },
        {
         "line": {
          "color": "DarkSlateGrey",
          "width": 2
         },
         "marker": {
          "color": [
           0.993248,
           0.906157,
           0.143936,
           1
          ],
          "size": 9
         },
         "mode": "markers",
         "name": "122",
         "text": [
          "122"
         ],
         "type": "scatter",
         "x": [
          7.548263072967529
         ],
         "y": [
          7.872491359710693
         ]
        },
        {
         "line": {
          "color": "DarkSlateGrey",
          "width": 2
         },
         "marker": {
          "color": [
           0.269308,
           0.218818,
           0.509577,
           1
          ],
          "size": 9
         },
         "mode": "markers",
         "name": "##1",
         "text": [
          "##1"
         ],
         "type": "scatter",
         "x": [
          7.56011962890625
         ],
         "y": [
          7.947234630584717
         ]
        },
        {
         "line": {
          "color": "DarkSlateGrey",
          "width": 2
         },
         "marker": {
          "color": [
           0.993248,
           0.906157,
           0.143936,
           1
          ],
          "size": 9
         },
         "mode": "markers",
         "name": "with",
         "text": [
          "with"
         ],
         "type": "scatter",
         "x": [
          0.7829208374023438
         ],
         "y": [
          7.698178291320801
         ]
        },
        {
         "line": {
          "color": "DarkSlateGrey",
          "width": 2
         },
         "marker": {
          "color": [
           0.993248,
           0.906157,
           0.143936,
           1
          ],
          "size": 9
         },
         "mode": "markers",
         "name": "respect",
         "text": [
          "respect"
         ],
         "type": "scatter",
         "x": [
          -0.7885081768035889
         ],
         "y": [
          8.390246391296387
         ]
        },
        {
         "line": {
          "color": "DarkSlateGrey",
          "width": 2
         },
         "marker": {
          "color": [
           0.730889,
           0.871916,
           0.156029,
           1
          ],
          "size": 9
         },
         "mode": "markers",
         "name": "the",
         "text": [
          "the"
         ],
         "type": "scatter",
         "x": [
          2.037368059158325
         ],
         "y": [
          9.475360870361328
         ]
        },
        {
         "line": {
          "color": "DarkSlateGrey",
          "width": 2
         },
         "marker": {
          "color": [
           0.993248,
           0.906157,
           0.143936,
           1
          ],
          "size": 9
         },
         "mode": "markers",
         "name": "donor",
         "text": [
          "donor"
         ],
         "type": "scatter",
         "x": [
          -0.4192168116569519
         ],
         "y": [
          10.692540168762207
         ]
        },
        {
         "line": {
          "color": "DarkSlateGrey",
          "width": 2
         },
         "marker": {
          "color": [
           0.162016,
           0.687316,
           0.499129,
           1
          ],
          "size": 9
         },
         "mode": "markers",
         "name": "and",
         "text": [
          "and"
         ],
         "type": "scatter",
         "x": [
          -1.5195066928863525
         ],
         "y": [
          3.4604690074920654
         ]
        },
        {
         "line": {
          "color": "DarkSlateGrey",
          "width": 2
         },
         "marker": {
          "color": [
           0.993248,
           0.906157,
           0.143936,
           1
          ],
          "size": 9
         },
         "mode": "markers",
         "name": "which",
         "text": [
          "which"
         ],
         "type": "scatter",
         "x": [
          1.2688939571380615
         ],
         "y": [
          8.163822174072266
         ]
        },
        {
         "line": {
          "color": "DarkSlateGrey",
          "width": 2
         },
         "marker": {
          "color": [
           0.993248,
           0.906157,
           0.143936,
           1
          ],
          "size": 9
         },
         "mode": "markers",
         "name": "determined",
         "text": [
          "determined"
         ],
         "type": "scatter",
         "x": [
          0.006440006662160158
         ],
         "y": [
          9.344486236572266
         ]
        },
        {
         "line": {
          "color": "DarkSlateGrey",
          "width": 2
         },
         "marker": {
          "color": [
           0.730889,
           0.871916,
           0.156029,
           1
          ],
          "size": 9
         },
         "mode": "markers",
         "name": "the",
         "text": [
          "the"
         ],
         "type": "scatter",
         "x": [
          2.061659574508667
         ],
         "y": [
          9.463977813720703
         ]
        },
        {
         "line": {
          "color": "DarkSlateGrey",
          "width": 2
         },
         "marker": {
          "color": [
           0.153364,
           0.497,
           0.557724,
           1
          ],
          "size": 9
         },
         "mode": "markers",
         "name": "school",
         "text": [
          "school"
         ],
         "type": "scatter",
         "x": [
          2.3088490962982178
         ],
         "y": [
          12.031132698059082
         ]
        },
        {
         "line": {
          "color": "DarkSlateGrey",
          "width": 2
         },
         "marker": {
          "color": [
           0.993248,
           0.906157,
           0.143936,
           1
          ],
          "size": 9
         },
         "mode": "markers",
         "name": "needed",
         "text": [
          "needed"
         ],
         "type": "scatter",
         "x": [
          0.30014273524284363
         ],
         "y": [
          9.623515129089355
         ]
        },
        {
         "line": {
          "color": "DarkSlateGrey",
          "width": 2
         },
         "marker": {
          "color": [
           0.993248,
           0.906157,
           0.143936,
           1
          ],
          "size": 9
         },
         "mode": "markers",
         "name": "the",
         "text": [
          "the"
         ],
         "type": "scatter",
         "x": [
          2.068187952041626
         ],
         "y": [
          9.485027313232422
         ]
        },
        {
         "line": {
          "color": "DarkSlateGrey",
          "width": 2
         },
         "marker": {
          "color": [
           0.153364,
           0.497,
           0.557724,
           1
          ],
          "size": 9
         },
         "mode": "markers",
         "name": "school",
         "text": [
          "school"
         ],
         "type": "scatter",
         "x": [
          2.288391351699829
         ],
         "y": [
          12.050806999206543
         ]
        },
        {
         "line": {
          "color": "DarkSlateGrey",
          "width": 2
         },
         "marker": {
          "color": [
           0.993248,
           0.906157,
           0.143936,
           1
          ],
          "size": 9
         },
         "mode": "markers",
         "name": "providing",
         "text": [
          "providing"
         ],
         "type": "scatter",
         "x": [
          0.7376260757446289
         ],
         "y": [
          9.814181327819824
         ]
        },
        {
         "line": {
          "color": "DarkSlateGrey",
          "width": 2
         },
         "marker": {
          "color": [
           0.153364,
           0.497,
           0.557724,
           1
          ],
          "size": 9
         },
         "mode": "markers",
         "name": "education",
         "text": [
          "education"
         ],
         "type": "scatter",
         "x": [
          1.8430800437927246
         ],
         "y": [
          12.106725692749023
         ]
        },
        {
         "line": {
          "color": "DarkSlateGrey",
          "width": 2
         },
         "marker": {
          "color": [
           0.993248,
           0.906157,
           0.143936,
           1
          ],
          "size": 9
         },
         "mode": "markers",
         "name": "grades",
         "text": [
          "grades"
         ],
         "type": "scatter",
         "x": [
          2.4657671451568604
         ],
         "y": [
          12.563140869140625
         ]
        },
        {
         "line": {
          "color": "DarkSlateGrey",
          "width": 2
         },
         "marker": {
          "color": [
           0.993248,
           0.906157,
           0.143936,
           1
          ],
          "size": 9
         },
         "mode": "markers",
         "name": "the",
         "text": [
          "the"
         ],
         "type": "scatter",
         "x": [
          2.516289710998535
         ],
         "y": [
          9.031678199768066
         ]
        },
        {
         "line": {
          "color": "DarkSlateGrey",
          "width": 2
         },
         "marker": {
          "color": [
           0.288921,
           0.758394,
           0.428426,
           1
          ],
          "size": 9
         },
         "mode": "markers",
         "name": "areas",
         "text": [
          "areas"
         ],
         "type": "scatter",
         "x": [
          3.3594629764556885
         ],
         "y": [
          9.759517669677734
         ]
        },
        {
         "line": {
          "color": "DarkSlateGrey",
          "width": 2
         },
         "marker": {
          "color": [
           0.279574,
           0.170599,
           0.479997,
           1
          ],
          "size": 9
         },
         "mode": "markers",
         "name": "science",
         "text": [
          "science"
         ],
         "type": "scatter",
         "x": [
          4.541449069976807
         ],
         "y": [
          -8.396191596984863
         ]
        },
        {
         "line": {
          "color": "DarkSlateGrey",
          "width": 2
         },
         "marker": {
          "color": [
           0.275191,
           0.194905,
           0.496005,
           1
          ],
          "size": 9
         },
         "mode": "markers",
         "name": "technology",
         "text": [
          "technology"
         ],
         "type": "scatter",
         "x": [
          14.858006477355957
         ],
         "y": [
          10.928609848022461
         ]
        },
        {
         "line": {
          "color": "DarkSlateGrey",
          "width": 2
         },
         "marker": {
          "color": [
           0.28229,
           0.145912,
           0.46151,
           1
          ],
          "size": 9
         },
         "mode": "markers",
         "name": "engineering",
         "text": [
          "engineering"
         ],
         "type": "scatter",
         "x": [
          14.694191932678223
         ],
         "y": [
          12.088827133178711
         ]
        },
        {
         "line": {
          "color": "DarkSlateGrey",
          "width": 2
         },
         "marker": {
          "color": [
           0.283197,
           0.11568,
           0.436115,
           1
          ],
          "size": 9
         },
         "mode": "markers",
         "name": "mathematics",
         "text": [
          "mathematics"
         ],
         "type": "scatter",
         "x": [
          6.904082298278809
         ],
         "y": [
          21.928333282470703
         ]
        },
        {
         "line": {
          "color": "DarkSlateGrey",
          "width": 2
         },
         "marker": {
          "color": [
           0.281924,
           0.089666,
           0.412415,
           1
          ],
          "size": 9
         },
         "mode": "markers",
         "name": "stem",
         "text": [
          "stem"
         ],
         "type": "scatter",
         "x": [
          -7.663320064544678
         ],
         "y": [
          4.175827503204346
         ]
        },
        {
         "line": {
          "color": "DarkSlateGrey",
          "width": 2
         },
         "marker": {
          "color": [
           0.185556,
           0.41857,
           0.556753,
           1
          ],
          "size": 9
         },
         "mode": "markers",
         "name": "services",
         "text": [
          "services"
         ],
         "type": "scatter",
         "x": [
          0.6046708822250366
         ],
         "y": [
          10.752278327941895
         ]
        },
        {
         "line": {
          "color": "DarkSlateGrey",
          "width": 2
         },
         "marker": {
          "color": [
           0.626579,
           0.854645,
           0.223353,
           1
          ],
          "size": 9
         },
         "mode": "markers",
         "name": "the",
         "text": [
          "the"
         ],
         "type": "scatter",
         "x": [
          8.025283813476562
         ],
         "y": [
          -6.305851459503174
         ]
        },
        {
         "line": {
          "color": "DarkSlateGrey",
          "width": 2
         },
         "marker": {
          "color": [
           0.252194,
           0.269783,
           0.531579,
           1
          ],
          "size": 9
         },
         "mode": "markers",
         "name": "term",
         "text": [
          "term"
         ],
         "type": "scatter",
         "x": [
          17.787748336791992
         ],
         "y": [
          -4.50326681137085
         ]
        },
        {
         "line": {
          "color": "DarkSlateGrey",
          "width": 2
         },
         "marker": {
          "color": [
           0.281924,
           0.089666,
           0.412415,
           1
          ],
          "size": 9
         },
         "mode": "markers",
         "name": "stem",
         "text": [
          "stem"
         ],
         "type": "scatter",
         "x": [
          -7.651440143585205
         ],
         "y": [
          4.115742206573486
         ]
        },
        {
         "line": {
          "color": "DarkSlateGrey",
          "width": 2
         },
         "marker": {
          "color": [
           0.185556,
           0.41857,
           0.556753,
           1
          ],
          "size": 9
         },
         "mode": "markers",
         "name": "services",
         "text": [
          "services"
         ],
         "type": "scatter",
         "x": [
          0.613156795501709
         ],
         "y": [
          10.776666641235352
         ]
        },
        {
         "line": {
          "color": "DarkSlateGrey",
          "width": 2
         },
         "marker": {
          "color": [
           0.260571,
           0.246922,
           0.522828,
           1
          ],
          "size": 9
         },
         "mode": "markers",
         "name": "means",
         "text": [
          "means"
         ],
         "type": "scatter",
         "x": [
          -5.083699703216553
         ],
         "y": [
          11.115469932556152
         ]
        },
        {
         "line": {
          "color": "DarkSlateGrey",
          "width": 2
         },
         "marker": {
          "color": [
           0.993248,
           0.906157,
           0.143936,
           1
          ],
          "size": 9
         },
         "mode": "markers",
         "name": "with",
         "text": [
          "with"
         ],
         "type": "scatter",
         "x": [
          0.7564733624458313
         ],
         "y": [
          7.723560810089111
         ]
        },
        {
         "line": {
          "color": "DarkSlateGrey",
          "width": 2
         },
         "marker": {
          "color": [
           0.993248,
           0.906157,
           0.143936,
           1
          ],
          "size": 9
         },
         "mode": "markers",
         "name": "respect",
         "text": [
          "respect"
         ],
         "type": "scatter",
         "x": [
          -0.7563174366950989
         ],
         "y": [
          8.380194664001465
         ]
        },
        {
         "line": {
          "color": "DarkSlateGrey",
          "width": 2
         },
         "marker": {
          "color": [
           0.575563,
           0.844566,
           0.256415,
           1
          ],
          "size": 9
         },
         "mode": "markers",
         "name": "any",
         "text": [
          "any"
         ],
         "type": "scatter",
         "x": [
          1.3597668409347534
         ],
         "y": [
          7.2972283363342285
         ]
        },
        {
         "line": {
          "color": "DarkSlateGrey",
          "width": 2
         },
         "marker": {
          "color": [
           0.993248,
           0.906157,
           0.143936,
           1
          ],
          "size": 9
         },
         "mode": "markers",
         "name": "contribution",
         "text": [
          "contribution"
         ],
         "type": "scatter",
         "x": [
          -1.0883346796035767
         ],
         "y": [
          10.893678665161133
         ]
        },
        {
         "line": {
          "color": "DarkSlateGrey",
          "width": 2
         },
         "marker": {
          "color": [
           0.153364,
           0.497,
           0.557724,
           1
          ],
          "size": 9
         },
         "mode": "markers",
         "name": "school",
         "text": [
          "school"
         ],
         "type": "scatter",
         "x": [
          2.2983036041259766
         ],
         "y": [
          12.054600715637207
         ]
        },
        {
         "line": {
          "color": "DarkSlateGrey",
          "width": 2
         },
         "marker": {
          "color": [
           0.575563,
           0.844566,
           0.256415,
           1
          ],
          "size": 9
         },
         "mode": "markers",
         "name": "any",
         "text": [
          "any"
         ],
         "type": "scatter",
         "x": [
          1.3470618724822998
         ],
         "y": [
          7.314467430114746
         ]
        },
        {
         "line": {
          "color": "DarkSlateGrey",
          "width": 2
         },
         "marker": {
          "color": [
           0.185556,
           0.41857,
           0.556753,
           1
          ],
          "size": 9
         },
         "mode": "markers",
         "name": "service",
         "text": [
          "service"
         ],
         "type": "scatter",
         "x": [
          0.600849986076355
         ],
         "y": [
          10.764993667602539
         ]
        },
        {
         "line": {
          "color": "DarkSlateGrey",
          "width": 2
         },
         "marker": {
          "color": [
           0.993248,
           0.906157,
           0.143936,
           1
          ],
          "size": 9
         },
         "mode": "markers",
         "name": "determined",
         "text": [
          "determined"
         ],
         "type": "scatter",
         "x": [
          0.06828762590885162
         ],
         "y": [
          9.364996910095215
         ]
        },
        {
         "line": {
          "color": "DarkSlateGrey",
          "width": 2
         },
         "marker": {
          "color": [
           0.730889,
           0.871916,
           0.156029,
           1
          ],
          "size": 9
         },
         "mode": "markers",
         "name": "the",
         "text": [
          "the"
         ],
         "type": "scatter",
         "x": [
          2.0585148334503174
         ],
         "y": [
          9.470056533813477
         ]
        },
        {
         "line": {
          "color": "DarkSlateGrey",
          "width": 2
         },
         "marker": {
          "color": [
           0.153364,
           0.497,
           0.557724,
           1
          ],
          "size": 9
         },
         "mode": "markers",
         "name": "school",
         "text": [
          "school"
         ],
         "type": "scatter",
         "x": [
          2.3112151622772217
         ],
         "y": [
          12.031017303466797
         ]
        },
        {
         "line": {
          "color": "DarkSlateGrey",
          "width": 2
         },
         "marker": {
          "color": [
           0.993248,
           0.906157,
           0.143936,
           1
          ],
          "size": 9
         },
         "mode": "markers",
         "name": "needed",
         "text": [
          "needed"
         ],
         "type": "scatter",
         "x": [
          0.30939334630966187
         ],
         "y": [
          9.614561080932617
         ]
        },
        {
         "line": {
          "color": "DarkSlateGrey",
          "width": 2
         },
         "marker": {
          "color": [
           0.730889,
           0.871916,
           0.156029,
           1
          ],
          "size": 9
         },
         "mode": "markers",
         "name": "the",
         "text": [
          "the"
         ],
         "type": "scatter",
         "x": [
          2.080221176147461
         ],
         "y": [
          9.488139152526855
         ]
        },
        {
         "line": {
          "color": "DarkSlateGrey",
          "width": 2
         },
         "marker": {
          "color": [
           0.153364,
           0.497,
           0.557724,
           1
          ],
          "size": 9
         },
         "mode": "markers",
         "name": "school",
         "text": [
          "school"
         ],
         "type": "scatter",
         "x": [
          2.301865577697754
         ],
         "y": [
          12.058919906616211
         ]
        },
        {
         "line": {
          "color": "DarkSlateGrey",
          "width": 2
         },
         "marker": {
          "color": [
           0.993248,
           0.906157,
           0.143936,
           1
          ],
          "size": 9
         },
         "mode": "markers",
         "name": "providing",
         "text": [
          "providing"
         ],
         "type": "scatter",
         "x": [
          0.7372554540634155
         ],
         "y": [
          9.742904663085938
         ]
        },
        {
         "line": {
          "color": "DarkSlateGrey",
          "width": 2
         },
         "marker": {
          "color": [
           0.153364,
           0.497,
           0.557724,
           1
          ],
          "size": 9
         },
         "mode": "markers",
         "name": "education",
         "text": [
          "education"
         ],
         "type": "scatter",
         "x": [
          1.7903553247451782
         ],
         "y": [
          12.115760803222656
         ]
        },
        {
         "line": {
          "color": "DarkSlateGrey",
          "width": 2
         },
         "marker": {
          "color": [
           0.993248,
           0.906157,
           0.143936,
           1
          ],
          "size": 9
         },
         "mode": "markers",
         "name": "grades",
         "text": [
          "grades"
         ],
         "type": "scatter",
         "x": [
          2.495837926864624
         ],
         "y": [
          12.590364456176758
         ]
        },
        {
         "line": {
          "color": "DarkSlateGrey",
          "width": 2
         },
         "marker": {
          "color": [
           0.993248,
           0.906157,
           0.143936,
           1
          ],
          "size": 9
         },
         "mode": "markers",
         "name": "the",
         "text": [
          "the"
         ],
         "type": "scatter",
         "x": [
          2.5317564010620117
         ],
         "y": [
          9.076449394226074
         ]
        },
        {
         "line": {
          "color": "DarkSlateGrey",
          "width": 2
         },
         "marker": {
          "color": [
           0.288921,
           0.758394,
           0.428426,
           1
          ],
          "size": 9
         },
         "mode": "markers",
         "name": "areas",
         "text": [
          "areas"
         ],
         "type": "scatter",
         "x": [
          3.3609158992767334
         ],
         "y": [
          9.766929626464844
         ]
        },
        {
         "line": {
          "color": "DarkSlateGrey",
          "width": 2
         },
         "marker": {
          "color": [
           0.279574,
           0.170599,
           0.479997,
           1
          ],
          "size": 9
         },
         "mode": "markers",
         "name": "science",
         "text": [
          "science"
         ],
         "type": "scatter",
         "x": [
          4.59161376953125
         ],
         "y": [
          -8.345955848693848
         ]
        },
        {
         "line": {
          "color": "DarkSlateGrey",
          "width": 2
         },
         "marker": {
          "color": [
           0.275191,
           0.194905,
           0.496005,
           1
          ],
          "size": 9
         },
         "mode": "markers",
         "name": "technology",
         "text": [
          "technology"
         ],
         "type": "scatter",
         "x": [
          14.85702133178711
         ],
         "y": [
          10.926636695861816
         ]
        },
        {
         "line": {
          "color": "DarkSlateGrey",
          "width": 2
         },
         "marker": {
          "color": [
           0.28229,
           0.145912,
           0.46151,
           1
          ],
          "size": 9
         },
         "mode": "markers",
         "name": "engineering",
         "text": [
          "engineering"
         ],
         "type": "scatter",
         "x": [
          14.692999839782715
         ],
         "y": [
          12.092612266540527
         ]
        },
        {
         "line": {
          "color": "DarkSlateGrey",
          "width": 2
         },
         "marker": {
          "color": [
           0.283197,
           0.11568,
           0.436115,
           1
          ],
          "size": 9
         },
         "mode": "markers",
         "name": "mathematics",
         "text": [
          "mathematics"
         ],
         "type": "scatter",
         "x": [
          6.93135929107666
         ],
         "y": [
          21.93989372253418
         ]
        },
        {
         "line": {
          "color": "DarkSlateGrey",
          "width": 2
         },
         "marker": {
          "color": [
           0.993248,
           0.906157,
           0.143936,
           1
          ],
          "size": 9
         },
         "mode": "markers",
         "name": "including",
         "text": [
          "including"
         ],
         "type": "scatter",
         "x": [
          0.6553890109062195
         ],
         "y": [
          8.955039978027344
         ]
        },
        {
         "line": {
          "color": "DarkSlateGrey",
          "width": 2
         },
         "marker": {
          "color": [
           0.993248,
           0.906157,
           0.143936,
           1
          ],
          "size": 9
         },
         "mode": "markers",
         "name": "teaching",
         "text": [
          "teaching"
         ],
         "type": "scatter",
         "x": [
          1.4668731689453125
         ],
         "y": [
          12.071346282958984
         ]
        },
        {
         "line": {
          "color": "DarkSlateGrey",
          "width": 2
         },
         "marker": {
          "color": [
           0.993248,
           0.906157,
           0.143936,
           1
          ],
          "size": 9
         },
         "mode": "markers",
         "name": "courses",
         "text": [
          "courses"
         ],
         "type": "scatter",
         "x": [
          1.7232918739318848
         ],
         "y": [
          11.92660903930664
         ]
        },
        {
         "line": {
          "color": "DarkSlateGrey",
          "width": 2
         },
         "marker": {
          "color": [
           0.993248,
           0.906157,
           0.143936,
           1
          ],
          "size": 9
         },
         "mode": "markers",
         "name": "instruction",
         "text": [
          "instruction"
         ],
         "type": "scatter",
         "x": [
          1.6514486074447632
         ],
         "y": [
          11.975584983825684
         ]
        },
        {
         "line": {
          "color": "DarkSlateGrey",
          "width": 2
         },
         "marker": {
          "color": [
           0.130067,
           0.651384,
           0.521608,
           1
          ],
          "size": 9
         },
         "mode": "markers",
         "name": "such",
         "text": [
          "such"
         ],
         "type": "scatter",
         "x": [
          5.356645107269287
         ],
         "y": [
          12.321502685546875
         ]
        },
        {
         "line": {
          "color": "DarkSlateGrey",
          "width": 2
         },
         "marker": {
          "color": [
           0.153364,
           0.497,
           0.557724,
           1
          ],
          "size": 9
         },
         "mode": "markers",
         "name": "school",
         "text": [
          "school"
         ],
         "type": "scatter",
         "x": [
          2.2183094024658203
         ],
         "y": [
          12.062678337097168
         ]
        },
        {
         "line": {
          "color": "DarkSlateGrey",
          "width": 2
         },
         "marker": {
          "color": [
           0.575563,
           0.844566,
           0.256415,
           1
          ],
          "size": 9
         },
         "mode": "markers",
         "name": "any",
         "text": [
          "any"
         ],
         "type": "scatter",
         "x": [
          1.3683650493621826
         ],
         "y": [
          7.313545227050781
         ]
        },
        {
         "line": {
          "color": "DarkSlateGrey",
          "width": 2
         },
         "marker": {
          "color": [
           0.130067,
           0.651384,
           0.521608,
           1
          ],
          "size": 9
         },
         "mode": "markers",
         "name": "such",
         "text": [
          "such"
         ],
         "type": "scatter",
         "x": [
          5.353968143463135
         ],
         "y": [
          12.318649291992188
         ]
        },
        {
         "line": {
          "color": "DarkSlateGrey",
          "width": 2
         },
         "marker": {
          "color": [
           0.288921,
           0.758394,
           0.428426,
           1
          ],
          "size": 9
         },
         "mode": "markers",
         "name": "area",
         "text": [
          "area"
         ],
         "type": "scatter",
         "x": [
          3.35664439201355
         ],
         "y": [
          9.777068138122559
         ]
        },
        {
         "line": {
          "color": "DarkSlateGrey",
          "width": 2
         },
         "marker": {
          "color": [
           0.993248,
           0.906157,
           0.143936,
           1
          ],
          "size": 9
         },
         "mode": "markers",
         "name": "defense",
         "text": [
          "defense"
         ],
         "type": "scatter",
         "x": [
          -7.257544994354248
         ],
         "y": [
          4.466214179992676
         ]
        },
        {
         "line": {
          "color": "DarkSlateGrey",
          "width": 2
         },
         "marker": {
          "color": [
           0.993248,
           0.906157,
           0.143936,
           1
          ],
          "size": 9
         },
         "mode": "markers",
         "name": "dependent",
         "text": [
          "dependent"
         ],
         "type": "scatter",
         "x": [
          0.4929274618625641
         ],
         "y": [
          11.886163711547852
         ]
        },
        {
         "line": {
          "color": "DarkSlateGrey",
          "width": 2
         },
         "marker": {
          "color": [
           0.993248,
           0.906157,
           0.143936,
           1
          ],
          "size": 9
         },
         "mode": "markers",
         "name": "##s",
         "text": [
          "##s"
         ],
         "type": "scatter",
         "x": [
          1.9639707803726196
         ],
         "y": [
          10.631715774536133
         ]
        },
        {
         "line": {
          "color": "DarkSlateGrey",
          "width": 2
         },
         "marker": {
          "color": [
           0.153364,
           0.497,
           0.557724,
           1
          ],
          "size": 9
         },
         "mode": "markers",
         "name": "education",
         "text": [
          "education"
         ],
         "type": "scatter",
         "x": [
          1.8763043880462646
         ],
         "y": [
          12.196629524230957
         ]
        },
        {
         "line": {
          "color": "DarkSlateGrey",
          "width": 2
         },
         "marker": {
          "color": [
           0.993248,
           0.906157,
           0.143936,
           1
          ],
          "size": 9
         },
         "mode": "markers",
         "name": "system",
         "text": [
          "system"
         ],
         "type": "scatter",
         "x": [
          1.3794623613357544
         ],
         "y": [
          11.072179794311523
         ]
        },
        {
         "line": {
          "color": "DarkSlateGrey",
          "width": 2
         },
         "marker": {
          "color": [
           0.203063,
           0.379716,
           0.553925,
           1
          ],
          "size": 9
         },
         "mode": "markers",
         "name": "for",
         "text": [
          "for"
         ],
         "type": "scatter",
         "x": [
          0.9346649646759033
         ],
         "y": [
          8.090276718139648
         ]
        },
        {
         "line": {
          "color": "DarkSlateGrey",
          "width": 2
         },
         "marker": {
          "color": [
           0.278791,
           0.062145,
           0.386592,
           1
          ],
          "size": 9
         },
         "mode": "markers",
         "name": "purposes",
         "text": [
          "purposes"
         ],
         "type": "scatter",
         "x": [
          -1.0384076833724976
         ],
         "y": [
          8.449179649353027
         ]
        },
        {
         "line": {
          "color": "DarkSlateGrey",
          "width": 2
         },
         "marker": {
          "color": [
           0.19109,
           0.708366,
           0.482284,
           1
          ],
          "size": 9
         },
         "mode": "markers",
         "name": "this",
         "text": [
          "this"
         ],
         "type": "scatter",
         "x": [
          -1.3608264923095703
         ],
         "y": [
          6.0200114250183105
         ]
        },
        {
         "line": {
          "color": "DarkSlateGrey",
          "width": 2
         },
         "marker": {
          "color": [
           0.993248,
           0.906157,
           0.143936,
           1
          ],
          "size": 9
         },
         "mode": "markers",
         "name": "sub",
         "text": [
          "sub"
         ],
         "type": "scatter",
         "x": [
          -1.9357823133468628
         ],
         "y": [
          7.243052005767822
         ]
        },
        {
         "line": {
          "color": "DarkSlateGrey",
          "width": 2
         },
         "marker": {
          "color": [
           0.335885,
           0.777018,
           0.402049,
           1
          ],
          "size": 9
         },
         "mode": "markers",
         "name": "##section",
         "text": [
          "##section"
         ],
         "type": "scatter",
         "x": [
          -2.189157009124756
         ],
         "y": [
          6.862676620483398
         ]
        },
        {
         "line": {
          "color": "DarkSlateGrey",
          "width": 2
         },
         "marker": {
          "color": [
           0.626579,
           0.854645,
           0.223353,
           1
          ],
          "size": 9
         },
         "mode": "markers",
         "name": "the",
         "text": [
          "the"
         ],
         "type": "scatter",
         "x": [
          8.029576301574707
         ],
         "y": [
          -6.308773994445801
         ]
        },
        {
         "line": {
          "color": "DarkSlateGrey",
          "width": 2
         },
         "marker": {
          "color": [
           0.252194,
           0.269783,
           0.531579,
           1
          ],
          "size": 9
         },
         "mode": "markers",
         "name": "term",
         "text": [
          "term"
         ],
         "type": "scatter",
         "x": [
          17.761011123657227
         ],
         "y": [
          -4.477334499359131
         ]
        },
        {
         "line": {
          "color": "DarkSlateGrey",
          "width": 2
         },
         "marker": {
          "color": [
           0.993248,
           0.906157,
           0.143936,
           1
          ],
          "size": 9
         },
         "mode": "markers",
         "name": "defense",
         "text": [
          "defense"
         ],
         "type": "scatter",
         "x": [
          -7.227705955505371
         ],
         "y": [
          4.499056339263916
         ]
        },
        {
         "line": {
          "color": "DarkSlateGrey",
          "width": 2
         },
         "marker": {
          "color": [
           0.993248,
           0.906157,
           0.143936,
           1
          ],
          "size": 9
         },
         "mode": "markers",
         "name": "dependent",
         "text": [
          "dependent"
         ],
         "type": "scatter",
         "x": [
          0.49952492117881775
         ],
         "y": [
          11.88660717010498
         ]
        },
        {
         "line": {
          "color": "DarkSlateGrey",
          "width": 2
         },
         "marker": {
          "color": [
           0.993248,
           0.906157,
           0.143936,
           1
          ],
          "size": 9
         },
         "mode": "markers",
         "name": "##s",
         "text": [
          "##s"
         ],
         "type": "scatter",
         "x": [
          1.9698368310928345
         ],
         "y": [
          10.628896713256836
         ]
        },
        {
         "line": {
          "color": "DarkSlateGrey",
          "width": 2
         },
         "marker": {
          "color": [
           0.153364,
           0.497,
           0.557724,
           1
          ],
          "size": 9
         },
         "mode": "markers",
         "name": "education",
         "text": [
          "education"
         ],
         "type": "scatter",
         "x": [
          1.9193286895751953
         ],
         "y": [
          12.26683235168457
         ]
        },
        {
         "line": {
          "color": "DarkSlateGrey",
          "width": 2
         },
         "marker": {
          "color": [
           0.993248,
           0.906157,
           0.143936,
           1
          ],
          "size": 9
         },
         "mode": "markers",
         "name": "system",
         "text": [
          "system"
         ],
         "type": "scatter",
         "x": [
          1.3946139812469482
         ],
         "y": [
          11.057670593261719
         ]
        },
        {
         "line": {
          "color": "DarkSlateGrey",
          "width": 2
         },
         "marker": {
          "color": [
           0.260571,
           0.246922,
           0.522828,
           1
          ],
          "size": 9
         },
         "mode": "markers",
         "name": "means",
         "text": [
          "means"
         ],
         "type": "scatter",
         "x": [
          -5.056886672973633
         ],
         "y": [
          11.088911056518555
         ]
        },
        {
         "line": {
          "color": "DarkSlateGrey",
          "width": 2
         },
         "marker": {
          "color": [
           0.993248,
           0.906157,
           0.143936,
           1
          ],
          "size": 9
         },
         "mode": "markers",
         "name": "the",
         "text": [
          "the"
         ],
         "type": "scatter",
         "x": [
          -0.2614049017429352
         ],
         "y": [
          8.198843002319336
         ]
        },
        {
         "line": {
          "color": "DarkSlateGrey",
          "width": 2
         },
         "marker": {
          "color": [
           0.168126,
           0.459988,
           0.558082,
           1
          ],
          "size": 9
         },
         "mode": "markers",
         "name": "program",
         "text": [
          "program"
         ],
         "type": "scatter",
         "x": [
          1.3236294984817505
         ],
         "y": [
          11.05551815032959
         ]
        },
        {
         "line": {
          "color": "DarkSlateGrey",
          "width": 2
         },
         "marker": {
          "color": [
           0.993248,
           0.906157,
           0.143936,
           1
          ],
          "size": 9
         },
         "mode": "markers",
         "name": "established",
         "text": [
          "established"
         ],
         "type": "scatter",
         "x": [
          0.15049415826797485
         ],
         "y": [
          9.460768699645996
         ]
        },
        {
         "line": {
          "color": "DarkSlateGrey",
          "width": 2
         },
         "marker": {
          "color": [
           0.993248,
           0.906157,
           0.143936,
           1
          ],
          "size": 9
         },
         "mode": "markers",
         "name": "and",
         "text": [
          "and"
         ],
         "type": "scatter",
         "x": [
          -0.029920846223831177
         ],
         "y": [
          2.8042964935302734
         ]
        },
        {
         "line": {
          "color": "DarkSlateGrey",
          "width": 2
         },
         "marker": {
          "color": [
           0.993248,
           0.906157,
           0.143936,
           1
          ],
          "size": 9
         },
         "mode": "markers",
         "name": "operated",
         "text": [
          "operated"
         ],
         "type": "scatter",
         "x": [
          0.4046008586883545
         ],
         "y": [
          9.580877304077148
         ]
        },
        {
         "line": {
          "color": "DarkSlateGrey",
          "width": 2
         },
         "marker": {
          "color": [
           0.993248,
           0.906157,
           0.143936,
           1
          ],
          "size": 9
         },
         "mode": "markers",
         "name": "under",
         "text": [
          "under"
         ],
         "type": "scatter",
         "x": [
          -0.336489737033844
         ],
         "y": [
          7.465356826782227
         ]
        },
        {
         "line": {
          "color": "DarkSlateGrey",
          "width": 2
         },
         "marker": {
          "color": [
           0.993248,
           0.906157,
           0.143936,
           1
          ],
          "size": 9
         },
         "mode": "markers",
         "name": "the",
         "text": [
          "the"
         ],
         "type": "scatter",
         "x": [
          -0.4507661461830139
         ],
         "y": [
          7.789362907409668
         ]
        },
        {
         "line": {
          "color": "DarkSlateGrey",
          "width": 2
         },
         "marker": {
          "color": [
           0.993248,
           0.906157,
           0.143936,
           1
          ],
          "size": 9
         },
         "mode": "markers",
         "name": "defense",
         "text": [
          "defense"
         ],
         "type": "scatter",
         "x": [
          -7.241764545440674
         ],
         "y": [
          4.483948230743408
         ]
        },
        {
         "line": {
          "color": "DarkSlateGrey",
          "width": 2
         },
         "marker": {
          "color": [
           0.993248,
           0.906157,
           0.143936,
           1
          ],
          "size": 9
         },
         "mode": "markers",
         "name": "dependent",
         "text": [
          "dependent"
         ],
         "type": "scatter",
         "x": [
          0.5009077191352844
         ],
         "y": [
          11.892136573791504
         ]
        },
        {
         "line": {
          "color": "DarkSlateGrey",
          "width": 2
         },
         "marker": {
          "color": [
           0.993248,
           0.906157,
           0.143936,
           1
          ],
          "size": 9
         },
         "mode": "markers",
         "name": "##s",
         "text": [
          "##s"
         ],
         "type": "scatter",
         "x": [
          1.9845134019851685
         ],
         "y": [
          10.59138011932373
         ]
        },
        {
         "line": {
          "color": "DarkSlateGrey",
          "width": 2
         },
         "marker": {
          "color": [
           0.153364,
           0.497,
           0.557724,
           1
          ],
          "size": 9
         },
         "mode": "markers",
         "name": "education",
         "text": [
          "education"
         ],
         "type": "scatter",
         "x": [
          1.8750091791152954
         ],
         "y": [
          12.1909761428833
         ]
        },
        {
         "line": {
          "color": "DarkSlateGrey",
          "width": 2
         },
         "marker": {
          "color": [
           0.993248,
           0.906157,
           0.143936,
           1
          ],
          "size": 9
         },
         "mode": "markers",
         "name": "act",
         "text": [
          "act"
         ],
         "type": "scatter",
         "x": [
          -1.9490879774093628
         ],
         "y": [
          6.92207670211792
         ]
        },
        {
         "line": {
          "color": "DarkSlateGrey",
          "width": 2
         },
         "marker": {
          "color": [
           0.993248,
           0.906157,
           0.143936,
           1
          ],
          "size": 9
         },
         "mode": "markers",
         "name": "1978",
         "text": [
          "1978"
         ],
         "type": "scatter",
         "x": [
          -2.028369903564453
         ],
         "y": [
          8.492406845092773
         ]
        },
        {
         "line": {
          "color": "DarkSlateGrey",
          "width": 2
         },
         "marker": {
          "color": [
           0.993248,
           0.906157,
           0.143936,
           1
          ],
          "size": 9
         },
         "mode": "markers",
         "name": "##1",
         "text": [
          "##1"
         ],
         "type": "scatter",
         "x": [
          7.434889316558838
         ],
         "y": [
          7.938770771026611
         ]
        },
        {
         "line": {
          "color": "DarkSlateGrey",
          "width": 2
         },
         "marker": {
          "color": [
           0.993248,
           0.906157,
           0.143936,
           1
          ],
          "size": 9
         },
         "mode": "markers",
         "name": "##q",
         "text": [
          "##q"
         ],
         "type": "scatter",
         "x": [
          -2.2124791145324707
         ],
         "y": [
          7.677312850952148
         ]
        },
        {
         "line": {
          "color": "DarkSlateGrey",
          "width": 2
         },
         "marker": {
          "color": [
           0.281924,
           0.089666,
           0.412415,
           1
          ],
          "size": 9
         },
         "mode": "markers",
         "name": "stem",
         "text": [
          "stem"
         ],
         "type": "scatter",
         "x": [
          -7.60720157623291
         ],
         "y": [
          4.184604644775391
         ]
        },
        {
         "line": {
          "color": "DarkSlateGrey",
          "width": 2
         },
         "marker": {
          "color": [
           0.153364,
           0.497,
           0.557724,
           1
          ],
          "size": 9
         },
         "mode": "markers",
         "name": "teacher",
         "text": [
          "teacher"
         ],
         "type": "scatter",
         "x": [
          1.2170175313949585
         ],
         "y": [
          12.387737274169922
         ]
        },
        {
         "line": {
          "color": "DarkSlateGrey",
          "width": 2
         },
         "marker": {
          "color": [
           0.14618,
           0.515413,
           0.556823,
           1
          ],
          "size": 9
         },
         "mode": "markers",
         "name": "##tern",
         "text": [
          "##tern"
         ],
         "type": "scatter",
         "x": [
          0.7965868711471558
         ],
         "y": [
          11.72580623626709
         ]
        },
        {
         "line": {
          "color": "DarkSlateGrey",
          "width": 2
         },
         "marker": {
          "color": [
           0.14618,
           0.515413,
           0.556823,
           1
          ],
          "size": 9
         },
         "mode": "markers",
         "name": "##ship",
         "text": [
          "##ship"
         ],
         "type": "scatter",
         "x": [
          0.9193748831748962
         ],
         "y": [
          11.532687187194824
         ]
        },
        {
         "line": {
          "color": "DarkSlateGrey",
          "width": 2
         },
         "marker": {
          "color": [
           0.212395,
           0.359683,
           0.55171,
           1
          ],
          "size": 9
         },
         "mode": "markers",
         "name": "expenses",
         "text": [
          "expenses"
         ],
         "type": "scatter",
         "x": [
          -0.7584702968597412
         ],
         "y": [
          10.52621078491211
         ]
        },
        {
         "line": {
          "color": "DarkSlateGrey",
          "width": 2
         },
         "marker": {
          "color": [
           0.203063,
           0.379716,
           0.553925,
           1
          ],
          "size": 9
         },
         "mode": "markers",
         "name": "for",
         "text": [
          "for"
         ],
         "type": "scatter",
         "x": [
          0.9131953120231628
         ],
         "y": [
          8.071484565734863
         ]
        },
        {
         "line": {
          "color": "DarkSlateGrey",
          "width": 2
         },
         "marker": {
          "color": [
           0.278791,
           0.062145,
           0.386592,
           1
          ],
          "size": 9
         },
         "mode": "markers",
         "name": "purposes",
         "text": [
          "purposes"
         ],
         "type": "scatter",
         "x": [
          -1.0906789302825928
         ],
         "y": [
          8.39647388458252
         ]
        },
        {
         "line": {
          "color": "DarkSlateGrey",
          "width": 2
         },
         "marker": {
          "color": [
           0.19109,
           0.708366,
           0.482284,
           1
          ],
          "size": 9
         },
         "mode": "markers",
         "name": "this",
         "text": [
          "this"
         ],
         "type": "scatter",
         "x": [
          -1.3817251920700073
         ],
         "y": [
          5.996021747589111
         ]
        },
        {
         "line": {
          "color": "DarkSlateGrey",
          "width": 2
         },
         "marker": {
          "color": [
           0.335885,
           0.777018,
           0.402049,
           1
          ],
          "size": 9
         },
         "mode": "markers",
         "name": "section",
         "text": [
          "section"
         ],
         "type": "scatter",
         "x": [
          -2.1677498817443848
         ],
         "y": [
          6.834319591522217
         ]
        },
        {
         "line": {
          "color": "DarkSlateGrey",
          "width": 2
         },
         "marker": {
          "color": [
           0.993248,
           0.906157,
           0.143936,
           1
          ],
          "size": 9
         },
         "mode": "markers",
         "name": "general",
         "text": [
          "general"
         ],
         "type": "scatter",
         "x": [
          -2.027479887008667
         ],
         "y": [
          8.452446937561035
         ]
        },
        {
         "line": {
          "color": "DarkSlateGrey",
          "width": 2
         },
         "marker": {
          "color": [
           0.626579,
           0.854645,
           0.223353,
           1
          ],
          "size": 9
         },
         "mode": "markers",
         "name": "the",
         "text": [
          "the"
         ],
         "type": "scatter",
         "x": [
          8.00661849975586
         ],
         "y": [
          -6.286524295806885
         ]
        },
        {
         "line": {
          "color": "DarkSlateGrey",
          "width": 2
         },
         "marker": {
          "color": [
           0.252194,
           0.269783,
           0.531579,
           1
          ],
          "size": 9
         },
         "mode": "markers",
         "name": "term",
         "text": [
          "term"
         ],
         "type": "scatter",
         "x": [
          17.784162521362305
         ],
         "y": [
          -4.500286102294922
         ]
        },
        {
         "line": {
          "color": "DarkSlateGrey",
          "width": 2
         },
         "marker": {
          "color": [
           0.281924,
           0.089666,
           0.412415,
           1
          ],
          "size": 9
         },
         "mode": "markers",
         "name": "stem",
         "text": [
          "stem"
         ],
         "type": "scatter",
         "x": [
          -7.5788068771362305
         ],
         "y": [
          4.1620402336120605
         ]
        },
        {
         "line": {
          "color": "DarkSlateGrey",
          "width": 2
         },
         "marker": {
          "color": [
           0.153364,
           0.497,
           0.557724,
           1
          ],
          "size": 9
         },
         "mode": "markers",
         "name": "teacher",
         "text": [
          "teacher"
         ],
         "type": "scatter",
         "x": [
          1.1872769594192505
         ],
         "y": [
          12.40621280670166
         ]
        },
        {
         "line": {
          "color": "DarkSlateGrey",
          "width": 2
         },
         "marker": {
          "color": [
           0.14618,
           0.515413,
           0.556823,
           1
          ],
          "size": 9
         },
         "mode": "markers",
         "name": "##tern",
         "text": [
          "##tern"
         ],
         "type": "scatter",
         "x": [
          0.7259639501571655
         ],
         "y": [
          11.8005952835083
         ]
        },
        {
         "line": {
          "color": "DarkSlateGrey",
          "width": 2
         },
         "marker": {
          "color": [
           0.14618,
           0.515413,
           0.556823,
           1
          ],
          "size": 9
         },
         "mode": "markers",
         "name": "##ship",
         "text": [
          "##ship"
         ],
         "type": "scatter",
         "x": [
          0.9435495138168335
         ],
         "y": [
          11.570530891418457
         ]
        },
        {
         "line": {
          "color": "DarkSlateGrey",
          "width": 2
         },
         "marker": {
          "color": [
           0.212395,
           0.359683,
           0.55171,
           1
          ],
          "size": 9
         },
         "mode": "markers",
         "name": "expenses",
         "text": [
          "expenses"
         ],
         "type": "scatter",
         "x": [
          -0.7631279230117798
         ],
         "y": [
          10.519346237182617
         ]
        },
        {
         "line": {
          "color": "DarkSlateGrey",
          "width": 2
         },
         "marker": {
          "color": [
           0.260571,
           0.246922,
           0.522828,
           1
          ],
          "size": 9
         },
         "mode": "markers",
         "name": "means",
         "text": [
          "means"
         ],
         "type": "scatter",
         "x": [
          -5.074948310852051
         ],
         "y": [
          11.107484817504883
         ]
        },
        {
         "line": {
          "color": "DarkSlateGrey",
          "width": 2
         },
         "marker": {
          "color": [
           0.575563,
           0.844566,
           0.256415,
           1
          ],
          "size": 9
         },
         "mode": "markers",
         "name": "any",
         "text": [
          "any"
         ],
         "type": "scatter",
         "x": [
          1.3267321586608887
         ],
         "y": [
          7.348111629486084
         ]
        },
        {
         "line": {
          "color": "DarkSlateGrey",
          "width": 2
         },
         "marker": {
          "color": [
           0.122312,
           0.633153,
           0.530398,
           1
          ],
          "size": 9
         },
         "mode": "markers",
         "name": "amount",
         "text": [
          "amount"
         ],
         "type": "scatter",
         "x": [
          -0.40168076753616333
         ],
         "y": [
          9.555737495422363
         ]
        },
        {
         "line": {
          "color": "DarkSlateGrey",
          "width": 2
         },
         "marker": {
          "color": [
           0.993248,
           0.906157,
           0.143936,
           1
          ],
          "size": 9
         },
         "mode": "markers",
         "name": "paid",
         "text": [
          "paid"
         ],
         "type": "scatter",
         "x": [
          -0.2701747715473175
         ],
         "y": [
          9.733892440795898
         ]
        },
        {
         "line": {
          "color": "DarkSlateGrey",
          "width": 2
         },
         "marker": {
          "color": [
           0.993248,
           0.906157,
           0.143936,
           1
          ],
          "size": 9
         },
         "mode": "markers",
         "name": "incurred",
         "text": [
          "incurred"
         ],
         "type": "scatter",
         "x": [
          -0.27670052647590637
         ],
         "y": [
          9.793971061706543
         ]
        },
        {
         "line": {
          "color": "DarkSlateGrey",
          "width": 2
         },
         "marker": {
          "color": [
           0.993248,
           0.906157,
           0.143936,
           1
          ],
          "size": 9
         },
         "mode": "markers",
         "name": "carry",
         "text": [
          "carry"
         ],
         "type": "scatter",
         "x": [
          0.9667896032333374
         ],
         "y": [
          9.61258602142334
         ]
        },
        {
         "line": {
          "color": "DarkSlateGrey",
          "width": 2
         },
         "marker": {
          "color": [
           0.993248,
           0.906157,
           0.143936,
           1
          ],
          "size": 9
         },
         "mode": "markers",
         "name": "out",
         "text": [
          "out"
         ],
         "type": "scatter",
         "x": [
          1.1995199918746948
         ],
         "y": [
          9.335922241210938
         ]
        },
        {
         "line": {
          "color": "DarkSlateGrey",
          "width": 2
         },
         "marker": {
          "color": [
           0.281924,
           0.089666,
           0.412415,
           1
          ],
          "size": 9
         },
         "mode": "markers",
         "name": "stem",
         "text": [
          "stem"
         ],
         "type": "scatter",
         "x": [
          -7.619021415710449
         ],
         "y": [
          4.171992778778076
         ]
        },
        {
         "line": {
          "color": "DarkSlateGrey",
          "width": 2
         },
         "marker": {
          "color": [
           0.14618,
           0.515413,
           0.556823,
           1
          ],
          "size": 9
         },
         "mode": "markers",
         "name": "##tern",
         "text": [
          "##tern"
         ],
         "type": "scatter",
         "x": [
          0.7536766529083252
         ],
         "y": [
          11.772669792175293
         ]
        },
        {
         "line": {
          "color": "DarkSlateGrey",
          "width": 2
         },
         "marker": {
          "color": [
           0.14618,
           0.515413,
           0.556823,
           1
          ],
          "size": 9
         },
         "mode": "markers",
         "name": "##ship",
         "text": [
          "##ship"
         ],
         "type": "scatter",
         "x": [
          0.926056444644928
         ],
         "y": [
          11.571699142456055
         ]
        },
        {
         "line": {
          "color": "DarkSlateGrey",
          "width": 2
         },
         "marker": {
          "color": [
           0.168126,
           0.459988,
           0.558082,
           1
          ],
          "size": 9
         },
         "mode": "markers",
         "name": "program",
         "text": [
          "program"
         ],
         "type": "scatter",
         "x": [
          1.3052371740341187
         ],
         "y": [
          11.039793968200684
         ]
        },
        {
         "line": {
          "color": "DarkSlateGrey",
          "width": 2
         },
         "marker": {
          "color": [
           0.730889,
           0.871916,
           0.156029,
           1
          ],
          "size": 9
         },
         "mode": "markers",
         "name": "the",
         "text": [
          "the"
         ],
         "type": "scatter",
         "x": [
          1.9672651290893555
         ],
         "y": [
          9.315159797668457
         ]
        },
        {
         "line": {
          "color": "DarkSlateGrey",
          "width": 2
         },
         "marker": {
          "color": [
           0.273809,
           0.031497,
           0.358853,
           1
          ],
          "size": 9
         },
         "mode": "markers",
         "name": "taxpayer",
         "text": [
          "taxpayer"
         ],
         "type": "scatter",
         "x": [
          -1.6156322956085205
         ],
         "y": [
          9.755791664123535
         ]
        },
        {
         "line": {
          "color": "DarkSlateGrey",
          "width": 2
         },
         "marker": {
          "color": [
           0.993248,
           0.906157,
           0.143936,
           1
          ],
          "size": 9
         },
         "mode": "markers",
         "name": "but",
         "text": [
          "but"
         ],
         "type": "scatter",
         "x": [
          -1.8868740797042847
         ],
         "y": [
          8.58964729309082
         ]
        },
        {
         "line": {
          "color": "DarkSlateGrey",
          "width": 2
         },
         "marker": {
          "color": [
           0.993248,
           0.906157,
           0.143936,
           1
          ],
          "size": 9
         },
         "mode": "markers",
         "name": "only",
         "text": [
          "only"
         ],
         "type": "scatter",
         "x": [
          0.363567054271698
         ],
         "y": [
          8.615848541259766
         ]
        },
        {
         "line": {
          "color": "DarkSlateGrey",
          "width": 2
         },
         "marker": {
          "color": [
           0.89632,
           0.893616,
           0.096335,
           1
          ],
          "size": 9
         },
         "mode": "markers",
         "name": "the",
         "text": [
          "the"
         ],
         "type": "scatter",
         "x": [
          -2.3045883178710938
         ],
         "y": [
          8.280783653259277
         ]
        },
        {
         "line": {
          "color": "DarkSlateGrey",
          "width": 2
         },
         "marker": {
          "color": [
           0.993248,
           0.906157,
           0.143936,
           1
          ],
          "size": 9
         },
         "mode": "markers",
         "name": "extent",
         "text": [
          "extent"
         ],
         "type": "scatter",
         "x": [
          0.33355817198753357
         ],
         "y": [
          8.405678749084473
         ]
        },
        {
         "line": {
          "color": "DarkSlateGrey",
          "width": 2
         },
         "marker": {
          "color": [
           0.993248,
           0.906157,
           0.143936,
           1
          ],
          "size": 9
         },
         "mode": "markers",
         "name": "that",
         "text": [
          "that"
         ],
         "type": "scatter",
         "x": [
          0.7215425372123718
         ],
         "y": [
          8.407205581665039
         ]
        },
        {
         "line": {
          "color": "DarkSlateGrey",
          "width": 2
         },
         "marker": {
          "color": [
           0.130067,
           0.651384,
           0.521608,
           1
          ],
          "size": 9
         },
         "mode": "markers",
         "name": "such",
         "text": [
          "such"
         ],
         "type": "scatter",
         "x": [
          5.336972713470459
         ],
         "y": [
          12.331995010375977
         ]
        },
        {
         "line": {
          "color": "DarkSlateGrey",
          "width": 2
         },
         "marker": {
          "color": [
           0.122312,
           0.633153,
           0.530398,
           1
          ],
          "size": 9
         },
         "mode": "markers",
         "name": "amount",
         "text": [
          "amount"
         ],
         "type": "scatter",
         "x": [
          -0.4053451120853424
         ],
         "y": [
          9.570219993591309
         ]
        },
        {
         "line": {
          "color": "DarkSlateGrey",
          "width": 2
         },
         "marker": {
          "color": [
           0.993248,
           0.906157,
           0.143936,
           1
          ],
          "size": 9
         },
         "mode": "markers",
         "name": "##tri",
         "text": [
          "##tri"
         ],
         "type": "scatter",
         "x": [
          -1.232863426208496
         ],
         "y": [
          8.218503952026367
         ]
        },
        {
         "line": {
          "color": "DarkSlateGrey",
          "width": 2
         },
         "marker": {
          "color": [
           0.993248,
           0.906157,
           0.143936,
           1
          ],
          "size": 9
         },
         "mode": "markers",
         "name": "##bu",
         "text": [
          "##bu"
         ],
         "type": "scatter",
         "x": [
          -1.1984423398971558
         ],
         "y": [
          8.237483024597168
         ]
        },
        {
         "line": {
          "color": "DarkSlateGrey",
          "width": 2
         },
         "marker": {
          "color": [
           0.993248,
           0.906157,
           0.143936,
           1
          ],
          "size": 9
         },
         "mode": "markers",
         "name": "##table",
         "text": [
          "##table"
         ],
         "type": "scatter",
         "x": [
          -0.7970383763313293
         ],
         "y": [
          8.347063064575195
         ]
        },
        {
         "line": {
          "color": "DarkSlateGrey",
          "width": 2
         },
         "marker": {
          "color": [
           0.993248,
           0.906157,
           0.143936,
           1
          ],
          "size": 9
         },
         "mode": "markers",
         "name": "the",
         "text": [
          "the"
         ],
         "type": "scatter",
         "x": [
          1.947627305984497
         ],
         "y": [
          9.388965606689453
         ]
        },
        {
         "line": {
          "color": "DarkSlateGrey",
          "width": 2
         },
         "marker": {
          "color": [
           0.993248,
           0.906157,
           0.143936,
           1
          ],
          "size": 9
         },
         "mode": "markers",
         "name": "participation",
         "text": [
          "participation"
         ],
         "type": "scatter",
         "x": [
          1.1760848760604858
         ],
         "y": [
          9.530403137207031
         ]
        },
        {
         "line": {
          "color": "DarkSlateGrey",
          "width": 2
         },
         "marker": {
          "color": [
           0.130067,
           0.651384,
           0.521608,
           1
          ],
          "size": 9
         },
         "mode": "markers",
         "name": "such",
         "text": [
          "such"
         ],
         "type": "scatter",
         "x": [
          5.355459213256836
         ],
         "y": [
          12.321651458740234
         ]
        },
        {
         "line": {
          "color": "DarkSlateGrey",
          "width": 2
         },
         "marker": {
          "color": [
           0.168126,
           0.459988,
           0.558082,
           1
          ],
          "size": 9
         },
         "mode": "markers",
         "name": "program",
         "text": [
          "program"
         ],
         "type": "scatter",
         "x": [
          1.2864502668380737
         ],
         "y": [
          11.04190444946289
         ]
        },
        {
         "line": {
          "color": "DarkSlateGrey",
          "width": 2
         },
         "marker": {
          "color": [
           0.575563,
           0.844566,
           0.256415,
           1
          ],
          "size": 9
         },
         "mode": "markers",
         "name": "any",
         "text": [
          "any"
         ],
         "type": "scatter",
         "x": [
          1.3434531688690186
         ],
         "y": [
          7.315060138702393
         ]
        },
        {
         "line": {
          "color": "DarkSlateGrey",
          "width": 2
         },
         "marker": {
          "color": [
           0.993248,
           0.906157,
           0.143936,
           1
          ],
          "size": 9
         },
         "mode": "markers",
         "name": "eligible",
         "text": [
          "eligible"
         ],
         "type": "scatter",
         "x": [
          1.5797291994094849
         ],
         "y": [
          6.552255630493164
         ]
        },
        {
         "line": {
          "color": "DarkSlateGrey",
          "width": 2
         },
         "marker": {
          "color": [
           0.281924,
           0.089666,
           0.412415,
           1
          ],
          "size": 9
         },
         "mode": "markers",
         "name": "stem",
         "text": [
          "stem"
         ],
         "type": "scatter",
         "x": [
          -7.541635036468506
         ],
         "y": [
          4.253506183624268
         ]
        },
        {
         "line": {
          "color": "DarkSlateGrey",
          "width": 2
         },
         "marker": {
          "color": [
           0.153364,
           0.497,
           0.557724,
           1
          ],
          "size": 9
         },
         "mode": "markers",
         "name": "teacher",
         "text": [
          "teacher"
         ],
         "type": "scatter",
         "x": [
          1.2188912630081177
         ],
         "y": [
          12.390567779541016
         ]
        },
        {
         "line": {
          "color": "DarkSlateGrey",
          "width": 2
         },
         "marker": {
          "color": [
           0.993248,
           0.906157,
           0.143936,
           1
          ],
          "size": 9
         },
         "mode": "markers",
         "name": "including",
         "text": [
          "including"
         ],
         "type": "scatter",
         "x": [
          0.6796706914901733
         ],
         "y": [
          9.00777816772461
         ]
        },
        {
         "line": {
          "color": "DarkSlateGrey",
          "width": 2
         },
         "marker": {
          "color": [
           0.122312,
           0.633153,
           0.530398,
           1
          ],
          "size": 9
         },
         "mode": "markers",
         "name": "amounts",
         "text": [
          "amounts"
         ],
         "type": "scatter",
         "x": [
          -0.41154181957244873
         ],
         "y": [
          9.570456504821777
         ]
        },
        {
         "line": {
          "color": "DarkSlateGrey",
          "width": 2
         },
         "marker": {
          "color": [
           0.993248,
           0.906157,
           0.143936,
           1
          ],
          "size": 9
         },
         "mode": "markers",
         "name": "paid",
         "text": [
          "paid"
         ],
         "type": "scatter",
         "x": [
          -0.2272239774465561
         ],
         "y": [
          9.69632339477539
         ]
        },
        {
         "line": {
          "color": "DarkSlateGrey",
          "width": 2
         },
         "marker": {
          "color": [
           0.130067,
           0.651384,
           0.521608,
           1
          ],
          "size": 9
         },
         "mode": "markers",
         "name": "such",
         "text": [
          "such"
         ],
         "type": "scatter",
         "x": [
          5.365665435791016
         ],
         "y": [
          12.324233055114746
         ]
        },
        {
         "line": {
          "color": "DarkSlateGrey",
          "width": 2
         },
         "marker": {
          "color": [
           0.153364,
           0.497,
           0.557724,
           1
          ],
          "size": 9
         },
         "mode": "markers",
         "name": "teacher",
         "text": [
          "teacher"
         ],
         "type": "scatter",
         "x": [
          1.2160053253173828
         ],
         "y": [
          12.376352310180664
         ]
        },
        {
         "line": {
          "color": "DarkSlateGrey",
          "width": 2
         },
         "marker": {
          "color": [
           0.993248,
           0.906157,
           0.143936,
           1
          ],
          "size": 9
         },
         "mode": "markers",
         "name": "##ipe",
         "text": [
          "##ipe"
         ],
         "type": "scatter",
         "x": [
          -1.0050065517425537
         ],
         "y": [
          9.178956985473633
         ]
        },
        {
         "line": {
          "color": "DarkSlateGrey",
          "width": 2
         },
         "marker": {
          "color": [
           0.993248,
           0.906157,
           0.143936,
           1
          ],
          "size": 9
         },
         "mode": "markers",
         "name": "##nd",
         "text": [
          "##nd"
         ],
         "type": "scatter",
         "x": [
          -0.5790867805480957
         ],
         "y": [
          9.477103233337402
         ]
        },
        {
         "line": {
          "color": "DarkSlateGrey",
          "width": 2
         },
         "marker": {
          "color": [
           0.993248,
           0.906157,
           0.143936,
           1
          ],
          "size": 9
         },
         "mode": "markers",
         "name": "while",
         "text": [
          "while"
         ],
         "type": "scatter",
         "x": [
          1.1459304094314575
         ],
         "y": [
          9.205957412719727
         ]
        },
        {
         "line": {
          "color": "DarkSlateGrey",
          "width": 2
         },
         "marker": {
          "color": [
           0.993248,
           0.906157,
           0.143936,
           1
          ],
          "size": 9
         },
         "mode": "markers",
         "name": "participating",
         "text": [
          "participating"
         ],
         "type": "scatter",
         "x": [
          1.193861484527588
         ],
         "y": [
          9.449175834655762
         ]
        },
        {
         "line": {
          "color": "DarkSlateGrey",
          "width": 2
         },
         "marker": {
          "color": [
           0.130067,
           0.651384,
           0.521608,
           1
          ],
          "size": 9
         },
         "mode": "markers",
         "name": "such",
         "text": [
          "such"
         ],
         "type": "scatter",
         "x": [
          5.356001377105713
         ],
         "y": [
          12.321097373962402
         ]
        },
        {
         "line": {
          "color": "DarkSlateGrey",
          "width": 2
         },
         "marker": {
          "color": [
           0.168126,
           0.459988,
           0.558082,
           1
          ],
          "size": 9
         },
         "mode": "markers",
         "name": "program",
         "text": [
          "program"
         ],
         "type": "scatter",
         "x": [
          1.2810676097869873
         ],
         "y": [
          10.996855735778809
         ]
        },
        {
         "line": {
          "color": "DarkSlateGrey",
          "width": 2
         },
         "marker": {
          "color": [
           0.281924,
           0.089666,
           0.412415,
           1
          ],
          "size": 9
         },
         "mode": "markers",
         "name": "stem",
         "text": [
          "stem"
         ],
         "type": "scatter",
         "x": [
          -7.6057939529418945
         ],
         "y": [
          4.188448905944824
         ]
        },
        {
         "line": {
          "color": "DarkSlateGrey",
          "width": 2
         },
         "marker": {
          "color": [
           0.14618,
           0.515413,
           0.556823,
           1
          ],
          "size": 9
         },
         "mode": "markers",
         "name": "##tern",
         "text": [
          "##tern"
         ],
         "type": "scatter",
         "x": [
          0.7178285121917725
         ],
         "y": [
          11.806549072265625
         ]
        },
        {
         "line": {
          "color": "DarkSlateGrey",
          "width": 2
         },
         "marker": {
          "color": [
           0.14618,
           0.515413,
           0.556823,
           1
          ],
          "size": 9
         },
         "mode": "markers",
         "name": "##ship",
         "text": [
          "##ship"
         ],
         "type": "scatter",
         "x": [
          0.9370101690292358
         ],
         "y": [
          11.554851531982422
         ]
        },
        {
         "line": {
          "color": "DarkSlateGrey",
          "width": 2
         },
         "marker": {
          "color": [
           0.168126,
           0.459988,
           0.558082,
           1
          ],
          "size": 9
         },
         "mode": "markers",
         "name": "program",
         "text": [
          "program"
         ],
         "type": "scatter",
         "x": [
          1.288257122039795
         ],
         "y": [
          11.056573867797852
         ]
        },
        {
         "line": {
          "color": "DarkSlateGrey",
          "width": 2
         },
         "marker": {
          "color": [
           0.626579,
           0.854645,
           0.223353,
           1
          ],
          "size": 9
         },
         "mode": "markers",
         "name": "the",
         "text": [
          "the"
         ],
         "type": "scatter",
         "x": [
          8.008479118347168
         ],
         "y": [
          -6.288294315338135
         ]
        },
        {
         "line": {
          "color": "DarkSlateGrey",
          "width": 2
         },
         "marker": {
          "color": [
           0.252194,
           0.269783,
           0.531579,
           1
          ],
          "size": 9
         },
         "mode": "markers",
         "name": "term",
         "text": [
          "term"
         ],
         "type": "scatter",
         "x": [
          17.777503967285156
         ],
         "y": [
          -4.4936723709106445
         ]
        },
        {
         "line": {
          "color": "DarkSlateGrey",
          "width": 2
         },
         "marker": {
          "color": [
           0.281924,
           0.089666,
           0.412415,
           1
          ],
          "size": 9
         },
         "mode": "markers",
         "name": "stem",
         "text": [
          "stem"
         ],
         "type": "scatter",
         "x": [
          -7.610032558441162
         ],
         "y": [
          4.178753852844238
         ]
        },
        {
         "line": {
          "color": "DarkSlateGrey",
          "width": 2
         },
         "marker": {
          "color": [
           0.993248,
           0.906157,
           0.143936,
           1
          ],
          "size": 9
         },
         "mode": "markers",
         "name": "##tern",
         "text": [
          "##tern"
         ],
         "type": "scatter",
         "x": [
          0.7008678913116455
         ],
         "y": [
          11.819048881530762
         ]
        },
        {
         "line": {
          "color": "DarkSlateGrey",
          "width": 2
         },
         "marker": {
          "color": [
           0.993248,
           0.906157,
           0.143936,
           1
          ],
          "size": 9
         },
         "mode": "markers",
         "name": "##ship",
         "text": [
          "##ship"
         ],
         "type": "scatter",
         "x": [
          0.9377560019493103
         ],
         "y": [
          11.608139038085938
         ]
        },
        {
         "line": {
          "color": "DarkSlateGrey",
          "width": 2
         },
         "marker": {
          "color": [
           0.168126,
           0.459988,
           0.558082,
           1
          ],
          "size": 9
         },
         "mode": "markers",
         "name": "program",
         "text": [
          "program"
         ],
         "type": "scatter",
         "x": [
          1.2854238748550415
         ],
         "y": [
          11.050032615661621
         ]
        },
        {
         "line": {
          "color": "DarkSlateGrey",
          "width": 2
         },
         "marker": {
          "color": [
           0.260571,
           0.246922,
           0.522828,
           1
          ],
          "size": 9
         },
         "mode": "markers",
         "name": "means",
         "text": [
          "means"
         ],
         "type": "scatter",
         "x": [
          -5.075170993804932
         ],
         "y": [
          11.107138633728027
         ]
        },
        {
         "line": {
          "color": "DarkSlateGrey",
          "width": 2
         },
         "marker": {
          "color": [
           0.575563,
           0.844566,
           0.256415,
           1
          ],
          "size": 9
         },
         "mode": "markers",
         "name": "any",
         "text": [
          "any"
         ],
         "type": "scatter",
         "x": [
          1.3220582008361816
         ],
         "y": [
          7.3512420654296875
         ]
        },
        {
         "line": {
          "color": "DarkSlateGrey",
          "width": 2
         },
         "marker": {
          "color": [
           0.168126,
           0.459988,
           0.558082,
           1
          ],
          "size": 9
         },
         "mode": "markers",
         "name": "program",
         "text": [
          "program"
         ],
         "type": "scatter",
         "x": [
          1.3129701614379883
         ],
         "y": [
          10.998844146728516
         ]
        },
        {
         "line": {
          "color": "DarkSlateGrey",
          "width": 2
         },
         "marker": {
          "color": [
           0.993248,
           0.906157,
           0.143936,
           1
          ],
          "size": 9
         },
         "mode": "markers",
         "name": "established",
         "text": [
          "established"
         ],
         "type": "scatter",
         "x": [
          0.14291450381278992
         ],
         "y": [
          9.491922378540039
         ]
        },
        {
         "line": {
          "color": "DarkSlateGrey",
          "width": 2
         },
         "marker": {
          "color": [
           0.273809,
           0.031497,
           0.358853,
           1
          ],
          "size": 9
         },
         "mode": "markers",
         "name": "taxpayer",
         "text": [
          "taxpayer"
         ],
         "type": "scatter",
         "x": [
          -1.6149183511734009
         ],
         "y": [
          9.746175765991211
         ]
        },
        {
         "line": {
          "color": "DarkSlateGrey",
          "width": 2
         },
         "marker": {
          "color": [
           0.993248,
           0.906157,
           0.143936,
           1
          ],
          "size": 9
         },
         "mode": "markers",
         "name": "engaged",
         "text": [
          "engaged"
         ],
         "type": "scatter",
         "x": [
          1.3001782894134521
         ],
         "y": [
          9.306476593017578
         ]
        },
        {
         "line": {
          "color": "DarkSlateGrey",
          "width": 2
         },
         "marker": {
          "color": [
           0.993248,
           0.906157,
           0.143936,
           1
          ],
          "size": 9
         },
         "mode": "markers",
         "name": "trade",
         "text": [
          "trade"
         ],
         "type": "scatter",
         "x": [
          0.8201569318771362
         ],
         "y": [
          10.52902603149414
         ]
        },
        {
         "line": {
          "color": "DarkSlateGrey",
          "width": 2
         },
         "marker": {
          "color": [
           0.233603,
           0.313828,
           0.543914,
           1
          ],
          "size": 9
         },
         "mode": "markers",
         "name": "business",
         "text": [
          "business"
         ],
         "type": "scatter",
         "x": [
          0.8003529906272888
         ],
         "y": [
          10.499422073364258
         ]
        },
        {
         "line": {
          "color": "DarkSlateGrey",
          "width": 2
         },
         "marker": {
          "color": [
           0.993248,
           0.906157,
           0.143936,
           1
          ],
          "size": 9
         },
         "mode": "markers",
         "name": "within",
         "text": [
          "within"
         ],
         "type": "scatter",
         "x": [
          2.406219244003296
         ],
         "y": [
          8.546974182128906
         ]
        },
        {
         "line": {
          "color": "DarkSlateGrey",
          "width": 2
         },
         "marker": {
          "color": [
           0.288921,
           0.758394,
           0.428426,
           1
          ],
          "size": 9
         },
         "mode": "markers",
         "name": "area",
         "text": [
          "area"
         ],
         "type": "scatter",
         "x": [
          3.3501250743865967
         ],
         "y": [
          9.761935234069824
         ]
        },
        {
         "line": {
          "color": "DarkSlateGrey",
          "width": 2
         },
         "marker": {
          "color": [
           0.279574,
           0.170599,
           0.479997,
           1
          ],
          "size": 9
         },
         "mode": "markers",
         "name": "science",
         "text": [
          "science"
         ],
         "type": "scatter",
         "x": [
          4.597038269042969
         ],
         "y": [
          -8.33960247039795
         ]
        },
        {
         "line": {
          "color": "DarkSlateGrey",
          "width": 2
         },
         "marker": {
          "color": [
           0.275191,
           0.194905,
           0.496005,
           1
          ],
          "size": 9
         },
         "mode": "markers",
         "name": "technology",
         "text": [
          "technology"
         ],
         "type": "scatter",
         "x": [
          14.812129020690918
         ],
         "y": [
          10.877401351928711
         ]
        },
        {
         "line": {
          "color": "DarkSlateGrey",
          "width": 2
         },
         "marker": {
          "color": [
           0.28229,
           0.145912,
           0.46151,
           1
          ],
          "size": 9
         },
         "mode": "markers",
         "name": "engineering",
         "text": [
          "engineering"
         ],
         "type": "scatter",
         "x": [
          14.69339656829834
         ],
         "y": [
          12.091212272644043
         ]
        },
        {
         "line": {
          "color": "DarkSlateGrey",
          "width": 2
         },
         "marker": {
          "color": [
           0.283197,
           0.11568,
           0.436115,
           1
          ],
          "size": 9
         },
         "mode": "markers",
         "name": "mathematics",
         "text": [
          "mathematics"
         ],
         "type": "scatter",
         "x": [
          6.9360785484313965
         ],
         "y": [
          21.9462833404541
         ]
        },
        {
         "line": {
          "color": "DarkSlateGrey",
          "width": 2
         },
         "marker": {
          "color": [
           0.162016,
           0.687316,
           0.499129,
           1
          ],
          "size": 9
         },
         "mode": "markers",
         "name": "and",
         "text": [
          "and"
         ],
         "type": "scatter",
         "x": [
          -1.4988770484924316
         ],
         "y": [
          3.4529013633728027
         ]
        },
        {
         "line": {
          "color": "DarkSlateGrey",
          "width": 2
         },
         "marker": {
          "color": [
           0.993248,
           0.906157,
           0.143936,
           1
          ],
          "size": 9
         },
         "mode": "markers",
         "name": "under",
         "text": [
          "under"
         ],
         "type": "scatter",
         "x": [
          -0.34531500935554504
         ],
         "y": [
          7.349634647369385
         ]
        },
        {
         "line": {
          "color": "DarkSlateGrey",
          "width": 2
         },
         "marker": {
          "color": [
           0.993248,
           0.906157,
           0.143936,
           1
          ],
          "size": 9
         },
         "mode": "markers",
         "name": "which",
         "text": [
          "which"
         ],
         "type": "scatter",
         "x": [
          1.3012093305587769
         ],
         "y": [
          8.159027099609375
         ]
        },
        {
         "line": {
          "color": "DarkSlateGrey",
          "width": 2
         },
         "marker": {
          "color": [
           0.993248,
           0.906157,
           0.143936,
           1
          ],
          "size": 9
         },
         "mode": "markers",
         "name": "eligible",
         "text": [
          "eligible"
         ],
         "type": "scatter",
         "x": [
          1.556684136390686
         ],
         "y": [
          6.530087947845459
         ]
        },
        {
         "line": {
          "color": "DarkSlateGrey",
          "width": 2
         },
         "marker": {
          "color": [
           0.281924,
           0.089666,
           0.412415,
           1
          ],
          "size": 9
         },
         "mode": "markers",
         "name": "stem",
         "text": [
          "stem"
         ],
         "type": "scatter",
         "x": [
          -7.6227288246154785
         ],
         "y": [
          4.173796653747559
         ]
        },
        {
         "line": {
          "color": "DarkSlateGrey",
          "width": 2
         },
         "marker": {
          "color": [
           0.153364,
           0.497,
           0.557724,
           1
          ],
          "size": 9
         },
         "mode": "markers",
         "name": "teachers",
         "text": [
          "teachers"
         ],
         "type": "scatter",
         "x": [
          1.2191814184188843
         ],
         "y": [
          12.385294914245605
         ]
        },
        {
         "line": {
          "color": "DarkSlateGrey",
          "width": 2
         },
         "marker": {
          "color": [
           0.993248,
           0.906157,
           0.143936,
           1
          ],
          "size": 9
         },
         "mode": "markers",
         "name": "receive",
         "text": [
          "receive"
         ],
         "type": "scatter",
         "x": [
          1.3517566919326782
         ],
         "y": [
          10.342706680297852
         ]
        },
        {
         "line": {
          "color": "DarkSlateGrey",
          "width": 2
         },
         "marker": {
          "color": [
           0.993248,
           0.906157,
           0.143936,
           1
          ],
          "size": 9
         },
         "mode": "markers",
         "name": "training",
         "text": [
          "training"
         ],
         "type": "scatter",
         "x": [
          1.2051477432250977
         ],
         "y": [
          11.373307228088379
         ]
        },
        {
         "line": {
          "color": "DarkSlateGrey",
          "width": 2
         },
         "marker": {
          "color": [
           0.993248,
           0.906157,
           0.143936,
           1
          ],
          "size": 9
         },
         "mode": "markers",
         "name": "enhance",
         "text": [
          "enhance"
         ],
         "type": "scatter",
         "x": [
          1.3952292203903198
         ],
         "y": [
          10.282536506652832
         ]
        },
        {
         "line": {
          "color": "DarkSlateGrey",
          "width": 2
         },
         "marker": {
          "color": [
           0.993248,
           0.906157,
           0.143936,
           1
          ],
          "size": 9
         },
         "mode": "markers",
         "name": "their",
         "text": [
          "their"
         ],
         "type": "scatter",
         "x": [
          1.5458784103393555
         ],
         "y": [
          10.143906593322754
         ]
        },
        {
         "line": {
          "color": "DarkSlateGrey",
          "width": 2
         },
         "marker": {
          "color": [
           0.993248,
           0.906157,
           0.143936,
           1
          ],
          "size": 9
         },
         "mode": "markers",
         "name": "teaching",
         "text": [
          "teaching"
         ],
         "type": "scatter",
         "x": [
          1.337506890296936
         ],
         "y": [
          12.213784217834473
         ]
        },
        {
         "line": {
          "color": "DarkSlateGrey",
          "width": 2
         },
         "marker": {
          "color": [
           0.993248,
           0.906157,
           0.143936,
           1
          ],
          "size": 9
         },
         "mode": "markers",
         "name": "skills",
         "text": [
          "skills"
         ],
         "type": "scatter",
         "x": [
          1.2748360633850098
         ],
         "y": [
          11.335942268371582
         ]
        },
        {
         "line": {
          "color": "DarkSlateGrey",
          "width": 2
         },
         "marker": {
          "color": [
           0.89632,
           0.893616,
           0.096335,
           1
          ],
          "size": 9
         },
         "mode": "markers",
         "name": "the",
         "text": [
          "the"
         ],
         "type": "scatter",
         "x": [
          -2.3091423511505127
         ],
         "y": [
          8.347439765930176
         ]
        },
        {
         "line": {
          "color": "DarkSlateGrey",
          "width": 2
         },
         "marker": {
          "color": [
           0.288921,
           0.758394,
           0.428426,
           1
          ],
          "size": 9
         },
         "mode": "markers",
         "name": "areas",
         "text": [
          "areas"
         ],
         "type": "scatter",
         "x": [
          3.365863561630249
         ],
         "y": [
          9.772004127502441
         ]
        },
        {
         "line": {
          "color": "DarkSlateGrey",
          "width": 2
         },
         "marker": {
          "color": [
           0.279574,
           0.170599,
           0.479997,
           1
          ],
          "size": 9
         },
         "mode": "markers",
         "name": "science",
         "text": [
          "science"
         ],
         "type": "scatter",
         "x": [
          4.594167232513428
         ],
         "y": [
          -8.342819213867188
         ]
        },
        {
         "line": {
          "color": "DarkSlateGrey",
          "width": 2
         },
         "marker": {
          "color": [
           0.275191,
           0.194905,
           0.496005,
           1
          ],
          "size": 9
         },
         "mode": "markers",
         "name": "technology",
         "text": [
          "technology"
         ],
         "type": "scatter",
         "x": [
          14.856995582580566
         ],
         "y": [
          10.92705249786377
         ]
        },
        {
         "line": {
          "color": "DarkSlateGrey",
          "width": 2
         },
         "marker": {
          "color": [
           0.28229,
           0.145912,
           0.46151,
           1
          ],
          "size": 9
         },
         "mode": "markers",
         "name": "engineering",
         "text": [
          "engineering"
         ],
         "type": "scatter",
         "x": [
          14.697294235229492
         ],
         "y": [
          12.086036682128906
         ]
        },
        {
         "line": {
          "color": "DarkSlateGrey",
          "width": 2
         },
         "marker": {
          "color": [
           0.283197,
           0.11568,
           0.436115,
           1
          ],
          "size": 9
         },
         "mode": "markers",
         "name": "mathematics",
         "text": [
          "mathematics"
         ],
         "type": "scatter",
         "x": [
          6.939080715179443
         ],
         "y": [
          21.949899673461914
         ]
        },
        {
         "line": {
          "color": "DarkSlateGrey",
          "width": 2
         },
         "marker": {
          "color": [
           0.993248,
           0.906157,
           0.143936,
           1
          ],
          "size": 9
         },
         "mode": "markers",
         "name": "otherwise",
         "text": [
          "otherwise"
         ],
         "type": "scatter",
         "x": [
          1.4129325151443481
         ],
         "y": [
          10.159941673278809
         ]
        },
        {
         "line": {
          "color": "DarkSlateGrey",
          "width": 2
         },
         "marker": {
          "color": [
           0.993248,
           0.906157,
           0.143936,
           1
          ],
          "size": 9
         },
         "mode": "markers",
         "name": "improve",
         "text": [
          "improve"
         ],
         "type": "scatter",
         "x": [
          1.3722496032714844
         ],
         "y": [
          10.285966873168945
         ]
        },
        {
         "line": {
          "color": "DarkSlateGrey",
          "width": 2
         },
         "marker": {
          "color": [
           0.993248,
           0.906157,
           0.143936,
           1
          ],
          "size": 9
         },
         "mode": "markers",
         "name": "their",
         "text": [
          "their"
         ],
         "type": "scatter",
         "x": [
          1.5251420736312866
         ],
         "y": [
          10.215070724487305
         ]
        },
        {
         "line": {
          "color": "DarkSlateGrey",
          "width": 2
         },
         "marker": {
          "color": [
           0.993248,
           0.906157,
           0.143936,
           1
          ],
          "size": 9
         },
         "mode": "markers",
         "name": "knowledge",
         "text": [
          "knowledge"
         ],
         "type": "scatter",
         "x": [
          1.4847060441970825
         ],
         "y": [
          11.55060863494873
         ]
        },
        {
         "line": {
          "color": "DarkSlateGrey",
          "width": 2
         },
         "marker": {
          "color": [
           0.130067,
           0.651384,
           0.521608,
           1
          ],
          "size": 9
         },
         "mode": "markers",
         "name": "such",
         "text": [
          "such"
         ],
         "type": "scatter",
         "x": [
          5.366863250732422
         ],
         "y": [
          12.30664348602295
         ]
        },
        {
         "line": {
          "color": "DarkSlateGrey",
          "width": 2
         },
         "marker": {
          "color": [
           0.288921,
           0.758394,
           0.428426,
           1
          ],
          "size": 9
         },
         "mode": "markers",
         "name": "areas",
         "text": [
          "areas"
         ],
         "type": "scatter",
         "x": [
          3.3733410835266113
         ],
         "y": [
          9.783761024475098
         ]
        },
        {
         "line": {
          "color": "DarkSlateGrey",
          "width": 2
         },
         "marker": {
          "color": [
           0.993248,
           0.906157,
           0.143936,
           1
          ],
          "size": 9
         },
         "mode": "markers",
         "name": "eligible",
         "text": [
          "eligible"
         ],
         "type": "scatter",
         "x": [
          1.5731335878372192
         ],
         "y": [
          6.508440017700195
         ]
        },
        {
         "line": {
          "color": "DarkSlateGrey",
          "width": 2
         },
         "marker": {
          "color": [
           0.281924,
           0.089666,
           0.412415,
           1
          ],
          "size": 9
         },
         "mode": "markers",
         "name": "stem",
         "text": [
          "stem"
         ],
         "type": "scatter",
         "x": [
          -7.549561023712158
         ],
         "y": [
          4.254168510437012
         ]
        },
        {
         "line": {
          "color": "DarkSlateGrey",
          "width": 2
         },
         "marker": {
          "color": [
           0.153364,
           0.497,
           0.557724,
           1
          ],
          "size": 9
         },
         "mode": "markers",
         "name": "teacher",
         "text": [
          "teacher"
         ],
         "type": "scatter",
         "x": [
          1.1942338943481445
         ],
         "y": [
          12.423513412475586
         ]
        },
        {
         "line": {
          "color": "DarkSlateGrey",
          "width": 2
         },
         "marker": {
          "color": [
           0.626579,
           0.854645,
           0.223353,
           1
          ],
          "size": 9
         },
         "mode": "markers",
         "name": "the",
         "text": [
          "the"
         ],
         "type": "scatter",
         "x": [
          8.007547378540039
         ],
         "y": [
          -6.287635326385498
         ]
        },
        {
         "line": {
          "color": "DarkSlateGrey",
          "width": 2
         },
         "marker": {
          "color": [
           0.252194,
           0.269783,
           0.531579,
           1
          ],
          "size": 9
         },
         "mode": "markers",
         "name": "term",
         "text": [
          "term"
         ],
         "type": "scatter",
         "x": [
          17.776445388793945
         ],
         "y": [
          -4.492599010467529
         ]
        },
        {
         "line": {
          "color": "DarkSlateGrey",
          "width": 2
         },
         "marker": {
          "color": [
           0.993248,
           0.906157,
           0.143936,
           1
          ],
          "size": 9
         },
         "mode": "markers",
         "name": "eligible",
         "text": [
          "eligible"
         ],
         "type": "scatter",
         "x": [
          1.569446325302124
         ],
         "y": [
          6.510278224945068
         ]
        },
        {
         "line": {
          "color": "DarkSlateGrey",
          "width": 2
         },
         "marker": {
          "color": [
           0.281924,
           0.089666,
           0.412415,
           1
          ],
          "size": 9
         },
         "mode": "markers",
         "name": "stem",
         "text": [
          "stem"
         ],
         "type": "scatter",
         "x": [
          -7.6055827140808105
         ],
         "y": [
          4.198375225067139
         ]
        },
        {
         "line": {
          "color": "DarkSlateGrey",
          "width": 2
         },
         "marker": {
          "color": [
           0.153364,
           0.497,
           0.557724,
           1
          ],
          "size": 9
         },
         "mode": "markers",
         "name": "teacher",
         "text": [
          "teacher"
         ],
         "type": "scatter",
         "x": [
          1.2010858058929443
         ],
         "y": [
          12.403275489807129
         ]
        },
        {
         "line": {
          "color": "DarkSlateGrey",
          "width": 2
         },
         "marker": {
          "color": [
           0.260571,
           0.246922,
           0.522828,
           1
          ],
          "size": 9
         },
         "mode": "markers",
         "name": "means",
         "text": [
          "means"
         ],
         "type": "scatter",
         "x": [
          -5.077609062194824
         ],
         "y": [
          11.109454154968262
         ]
        },
        {
         "line": {
          "color": "DarkSlateGrey",
          "width": 2
         },
         "marker": {
          "color": [
           0.993248,
           0.906157,
           0.143936,
           1
          ],
          "size": 9
         },
         "mode": "markers",
         "name": "any",
         "text": [
          "any"
         ],
         "type": "scatter",
         "x": [
          1.2960432767868042
         ],
         "y": [
          7.417858600616455
         ]
        },
        {
         "line": {
          "color": "DarkSlateGrey",
          "width": 2
         },
         "marker": {
          "color": [
           0.993248,
           0.906157,
           0.143936,
           1
          ],
          "size": 9
         },
         "mode": "markers",
         "name": "individual",
         "text": [
          "individual"
         ],
         "type": "scatter",
         "x": [
          1.4312963485717773
         ],
         "y": [
          8.331839561462402
         ]
        },
        {
         "line": {
          "color": "DarkSlateGrey",
          "width": 2
         },
         "marker": {
          "color": [
           0.993248,
           0.906157,
           0.143936,
           1
          ],
          "size": 9
         },
         "mode": "markers",
         "name": "who",
         "text": [
          "who"
         ],
         "type": "scatter",
         "x": [
          1.4084889888763428
         ],
         "y": [
          8.308632850646973
         ]
        },
        {
         "line": {
          "color": "DarkSlateGrey",
          "width": 2
         },
         "marker": {
          "color": [
           0.153364,
           0.497,
           0.557724,
           1
          ],
          "size": 9
         },
         "mode": "markers",
         "name": "teacher",
         "text": [
          "teacher"
         ],
         "type": "scatter",
         "x": [
          1.227521300315857
         ],
         "y": [
          12.370766639709473
         ]
        },
        {
         "line": {
          "color": "DarkSlateGrey",
          "width": 2
         },
         "marker": {
          "color": [
           0.993248,
           0.906157,
           0.143936,
           1
          ],
          "size": 9
         },
         "mode": "markers",
         "name": "grades",
         "text": [
          "grades"
         ],
         "type": "scatter",
         "x": [
          2.468813180923462
         ],
         "y": [
          12.57424259185791
         ]
        },
        {
         "line": {
          "color": "DarkSlateGrey",
          "width": 2
         },
         "marker": {
          "color": [
           0.153364,
           0.497,
           0.557724,
           1
          ],
          "size": 9
         },
         "mode": "markers",
         "name": "educational",
         "text": [
          "educational"
         ],
         "type": "scatter",
         "x": [
          1.8958404064178467
         ],
         "y": [
          12.165221214294434
         ]
        },
        {
         "line": {
          "color": "DarkSlateGrey",
          "width": 2
         },
         "marker": {
          "color": [
           0.993248,
           0.906157,
           0.143936,
           1
          ],
          "size": 9
         },
         "mode": "markers",
         "name": "organization",
         "text": [
          "organization"
         ],
         "type": "scatter",
         "x": [
          2.0482327938079834
         ],
         "y": [
          11.636638641357422
         ]
        },
        {
         "line": {
          "color": "DarkSlateGrey",
          "width": 2
         },
         "marker": {
          "color": [
           0.993248,
           0.906157,
           0.143936,
           1
          ],
          "size": 9
         },
         "mode": "markers",
         "name": "described",
         "text": [
          "described"
         ],
         "type": "scatter",
         "x": [
          -0.0819760411977768
         ],
         "y": [
          9.176592826843262
         ]
        },
        {
         "line": {
          "color": "DarkSlateGrey",
          "width": 2
         },
         "marker": {
          "color": [
           0.335885,
           0.777018,
           0.402049,
           1
          ],
          "size": 9
         },
         "mode": "markers",
         "name": "section",
         "text": [
          "section"
         ],
         "type": "scatter",
         "x": [
          -2.2705278396606445
         ],
         "y": [
          7.171668529510498
         ]
        },
        {
         "line": {
          "color": "DarkSlateGrey",
          "width": 2
         },
         "marker": {
          "color": [
           0.269308,
           0.218818,
           0.509577,
           1
          ],
          "size": 9
         },
         "mode": "markers",
         "name": "170",
         "text": [
          "170"
         ],
         "type": "scatter",
         "x": [
          7.597922325134277
         ],
         "y": [
          7.872585773468018
         ]
        },
        {
         "line": {
          "color": "DarkSlateGrey",
          "width": 2
         },
         "marker": {
          "color": [
           0.993248,
           0.906157,
           0.143936,
           1
          ],
          "size": 9
         },
         "mode": "markers",
         "name": "which",
         "text": [
          "which"
         ],
         "type": "scatter",
         "x": [
          1.441878318786621
         ],
         "y": [
          8.22915267944336
         ]
        },
        {
         "line": {
          "color": "DarkSlateGrey",
          "width": 2
         },
         "marker": {
          "color": [
           0.993248,
           0.906157,
           0.143936,
           1
          ],
          "size": 9
         },
         "mode": "markers",
         "name": "located",
         "text": [
          "located"
         ],
         "type": "scatter",
         "x": [
          1.9015214443206787
         ],
         "y": [
          8.302647590637207
         ]
        },
        {
         "line": {
          "color": "DarkSlateGrey",
          "width": 2
         },
         "marker": {
          "color": [
           0.143303,
           0.669459,
           0.511215,
           1
          ],
          "size": 9
         },
         "mode": "markers",
         "name": "the",
         "text": [
          "the"
         ],
         "type": "scatter",
         "x": [
          2.2341201305389404
         ],
         "y": [
          8.488368034362793
         ]
        },
        {
         "line": {
          "color": "DarkSlateGrey",
          "width": 2
         },
         "marker": {
          "color": [
           0.143303,
           0.669459,
           0.511215,
           1
          ],
          "size": 9
         },
         "mode": "markers",
         "name": "united",
         "text": [
          "united"
         ],
         "type": "scatter",
         "x": [
          2.3822622299194336
         ],
         "y": [
          7.779403209686279
         ]
        },
        {
         "line": {
          "color": "DarkSlateGrey",
          "width": 2
         },
         "marker": {
          "color": [
           0.143303,
           0.669459,
           0.511215,
           1
          ],
          "size": 9
         },
         "mode": "markers",
         "name": "states",
         "text": [
          "states"
         ],
         "type": "scatter",
         "x": [
          2.3871212005615234
         ],
         "y": [
          7.767452716827393
         ]
        },
        {
         "line": {
          "color": "DarkSlateGrey",
          "width": 2
         },
         "marker": {
          "color": [
           0.993248,
           0.906157,
           0.143936,
           1
          ],
          "size": 9
         },
         "mode": "markers",
         "name": "which",
         "text": [
          "which"
         ],
         "type": "scatter",
         "x": [
          1.4723834991455078
         ],
         "y": [
          8.224944114685059
         ]
        },
        {
         "line": {
          "color": "DarkSlateGrey",
          "width": 2
         },
         "marker": {
          "color": [
           0.993248,
           0.906157,
           0.143936,
           1
          ],
          "size": 9
         },
         "mode": "markers",
         "name": "located",
         "text": [
          "located"
         ],
         "type": "scatter",
         "x": [
          1.9301412105560303
         ],
         "y": [
          8.261070251464844
         ]
        },
        {
         "line": {
          "color": "DarkSlateGrey",
          "width": 2
         },
         "marker": {
          "color": [
           0.143303,
           0.669459,
           0.511215,
           1
          ],
          "size": 9
         },
         "mode": "markers",
         "name": "united",
         "text": [
          "united"
         ],
         "type": "scatter",
         "x": [
          2.378174304962158
         ],
         "y": [
          7.782796382904053
         ]
        },
        {
         "line": {
          "color": "DarkSlateGrey",
          "width": 2
         },
         "marker": {
          "color": [
           0.143303,
           0.669459,
           0.511215,
           1
          ],
          "size": 9
         },
         "mode": "markers",
         "name": "states",
         "text": [
          "states"
         ],
         "type": "scatter",
         "x": [
          2.375366449356079
         ],
         "y": [
          7.803008556365967
         ]
        },
        {
         "line": {
          "color": "DarkSlateGrey",
          "width": 2
         },
         "marker": {
          "color": [
           0.993248,
           0.906157,
           0.143936,
           1
          ],
          "size": 9
         },
         "mode": "markers",
         "name": "military",
         "text": [
          "military"
         ],
         "type": "scatter",
         "x": [
          2.210542678833008
         ],
         "y": [
          8.006402969360352
         ]
        },
        {
         "line": {
          "color": "DarkSlateGrey",
          "width": 2
         },
         "marker": {
          "color": [
           0.993248,
           0.906157,
           0.143936,
           1
          ],
          "size": 9
         },
         "mode": "markers",
         "name": "base",
         "text": [
          "base"
         ],
         "type": "scatter",
         "x": [
          2.0817527770996094
         ],
         "y": [
          8.187737464904785
         ]
        },
        {
         "line": {
          "color": "DarkSlateGrey",
          "width": 2
         },
         "marker": {
          "color": [
           0.993248,
           0.906157,
           0.143936,
           1
          ],
          "size": 9
         },
         "mode": "markers",
         "name": "outside",
         "text": [
          "outside"
         ],
         "type": "scatter",
         "x": [
          2.0509395599365234
         ],
         "y": [
          8.327744483947754
         ]
        },
        {
         "line": {
          "color": "DarkSlateGrey",
          "width": 2
         },
         "marker": {
          "color": [
           0.993248,
           0.906157,
           0.143936,
           1
          ],
          "size": 9
         },
         "mode": "markers",
         "name": "the",
         "text": [
          "the"
         ],
         "type": "scatter",
         "x": [
          2.3431270122528076
         ],
         "y": [
          8.65672779083252
         ]
        },
        {
         "line": {
          "color": "DarkSlateGrey",
          "width": 2
         },
         "marker": {
          "color": [
           0.143303,
           0.669459,
           0.511215,
           1
          ],
          "size": 9
         },
         "mode": "markers",
         "name": "united",
         "text": [
          "united"
         ],
         "type": "scatter",
         "x": [
          2.3817062377929688
         ],
         "y": [
          7.780492305755615
         ]
        },
        {
         "line": {
          "color": "DarkSlateGrey",
          "width": 2
         },
         "marker": {
          "color": [
           0.143303,
           0.669459,
           0.511215,
           1
          ],
          "size": 9
         },
         "mode": "markers",
         "name": "states",
         "text": [
          "states"
         ],
         "type": "scatter",
         "x": [
          2.3806450366973877
         ],
         "y": [
          7.783558368682861
         ]
        },
        {
         "line": {
          "color": "DarkSlateGrey",
          "width": 2
         },
         "marker": {
          "color": [
           0.162016,
           0.687316,
           0.499129,
           1
          ],
          "size": 9
         },
         "mode": "markers",
         "name": "and",
         "text": [
          "and"
         ],
         "type": "scatter",
         "x": [
          -1.5117210149765015
         ],
         "y": [
          3.466322422027588
         ]
        },
        {
         "line": {
          "color": "DarkSlateGrey",
          "width": 2
         },
         "marker": {
          "color": [
           0.993248,
           0.906157,
           0.143936,
           1
          ],
          "size": 9
         },
         "mode": "markers",
         "name": "whose",
         "text": [
          "whose"
         ],
         "type": "scatter",
         "x": [
          1.4144283533096313
         ],
         "y": [
          8.284568786621094
         ]
        },
        {
         "line": {
          "color": "DarkSlateGrey",
          "width": 2
         },
         "marker": {
          "color": [
           0.153364,
           0.497,
           0.557724,
           1
          ],
          "size": 9
         },
         "mode": "markers",
         "name": "teaching",
         "text": [
          "teaching"
         ],
         "type": "scatter",
         "x": [
          1.3283742666244507
         ],
         "y": [
          12.238011360168457
         ]
        },
        {
         "line": {
          "color": "DarkSlateGrey",
          "width": 2
         },
         "marker": {
          "color": [
           0.993248,
           0.906157,
           0.143936,
           1
          ],
          "size": 9
         },
         "mode": "markers",
         "name": "responsibilities",
         "text": [
          "responsibilities"
         ],
         "type": "scatter",
         "x": [
          -0.6493499279022217
         ],
         "y": [
          10.566991806030273
         ]
        },
        {
         "line": {
          "color": "DarkSlateGrey",
          "width": 2
         },
         "marker": {
          "color": [
           0.130067,
           0.651384,
           0.521608,
           1
          ],
          "size": 9
         },
         "mode": "markers",
         "name": "such",
         "text": [
          "such"
         ],
         "type": "scatter",
         "x": [
          5.356494426727295
         ],
         "y": [
          12.321067810058594
         ]
        },
        {
         "line": {
          "color": "DarkSlateGrey",
          "width": 2
         },
         "marker": {
          "color": [
           0.153364,
           0.497,
           0.557724,
           1
          ],
          "size": 9
         },
         "mode": "markers",
         "name": "school",
         "text": [
          "school"
         ],
         "type": "scatter",
         "x": [
          2.243253469467163
         ],
         "y": [
          11.951217651367188
         ]
        },
        {
         "line": {
          "color": "DarkSlateGrey",
          "width": 2
         },
         "marker": {
          "color": [
           0.993248,
           0.906157,
           0.143936,
           1
          ],
          "size": 9
         },
         "mode": "markers",
         "name": "include",
         "text": [
          "include"
         ],
         "type": "scatter",
         "x": [
          0.6288349628448486
         ],
         "y": [
          8.74128532409668
         ]
        },
        {
         "line": {
          "color": "DarkSlateGrey",
          "width": 2
         },
         "marker": {
          "color": [
           0.993248,
           0.906157,
           0.143936,
           1
          ],
          "size": 9
         },
         "mode": "markers",
         "name": "are",
         "text": [
          "are"
         ],
         "type": "scatter",
         "x": [
          0.5889623165130615
         ],
         "y": [
          8.467303276062012
         ]
        },
        {
         "line": {
          "color": "DarkSlateGrey",
          "width": 2
         },
         "marker": {
          "color": [
           0.993248,
           0.906157,
           0.143936,
           1
          ],
          "size": 9
         },
         "mode": "markers",
         "name": "likely",
         "text": [
          "likely"
         ],
         "type": "scatter",
         "x": [
          0.37375929951667786
         ],
         "y": [
          8.588081359863281
         ]
        },
        {
         "line": {
          "color": "DarkSlateGrey",
          "width": 2
         },
         "marker": {
          "color": [
           0.993248,
           0.906157,
           0.143936,
           1
          ],
          "size": 9
         },
         "mode": "markers",
         "name": "include",
         "text": [
          "include"
         ],
         "type": "scatter",
         "x": [
          0.7018389105796814
         ],
         "y": [
          8.874382019042969
         ]
        },
        {
         "line": {
          "color": "DarkSlateGrey",
          "width": 2
         },
         "marker": {
          "color": [
           0.575563,
           0.844566,
           0.256415,
           1
          ],
          "size": 9
         },
         "mode": "markers",
         "name": "any",
         "text": [
          "any"
         ],
         "type": "scatter",
         "x": [
          1.3483716249465942
         ],
         "y": [
          7.319291591644287
         ]
        },
        {
         "line": {
          "color": "DarkSlateGrey",
          "width": 2
         },
         "marker": {
          "color": [
           0.993248,
           0.906157,
           0.143936,
           1
          ],
          "size": 9
         },
         "mode": "markers",
         "name": "course",
         "text": [
          "course"
         ],
         "type": "scatter",
         "x": [
          1.8554279804229736
         ],
         "y": [
          11.92158031463623
         ]
        },
        {
         "line": {
          "color": "DarkSlateGrey",
          "width": 2
         },
         "marker": {
          "color": [
           0.993248,
           0.906157,
           0.143936,
           1
          ],
          "size": 9
         },
         "mode": "markers",
         "name": "the",
         "text": [
          "the"
         ],
         "type": "scatter",
         "x": [
          2.6919846534729004
         ],
         "y": [
          9.059232711791992
         ]
        },
        {
         "line": {
          "color": "DarkSlateGrey",
          "width": 2
         },
         "marker": {
          "color": [
           0.288921,
           0.758394,
           0.428426,
           1
          ],
          "size": 9
         },
         "mode": "markers",
         "name": "areas",
         "text": [
          "areas"
         ],
         "type": "scatter",
         "x": [
          3.3441174030303955
         ],
         "y": [
          9.747061729431152
         ]
        },
        {
         "line": {
          "color": "DarkSlateGrey",
          "width": 2
         },
         "marker": {
          "color": [
           0.279574,
           0.170599,
           0.479997,
           1
          ],
          "size": 9
         },
         "mode": "markers",
         "name": "science",
         "text": [
          "science"
         ],
         "type": "scatter",
         "x": [
          4.596579074859619
         ],
         "y": [
          -8.339191436767578
         ]
        },
        {
         "line": {
          "color": "DarkSlateGrey",
          "width": 2
         },
         "marker": {
          "color": [
           0.275191,
           0.194905,
           0.496005,
           1
          ],
          "size": 9
         },
         "mode": "markers",
         "name": "technology",
         "text": [
          "technology"
         ],
         "type": "scatter",
         "x": [
          14.88794994354248
         ],
         "y": [
          10.955719947814941
         ]
        },
        {
         "line": {
          "color": "DarkSlateGrey",
          "width": 2
         },
         "marker": {
          "color": [
           0.28229,
           0.145912,
           0.46151,
           1
          ],
          "size": 9
         },
         "mode": "markers",
         "name": "engineering",
         "text": [
          "engineering"
         ],
         "type": "scatter",
         "x": [
          14.693643569946289
         ],
         "y": [
          12.089856147766113
         ]
        },
        {
         "line": {
          "color": "DarkSlateGrey",
          "width": 2
         },
         "marker": {
          "color": [
           0.283197,
           0.11568,
           0.436115,
           1
          ],
          "size": 9
         },
         "mode": "markers",
         "name": "mathematics",
         "text": [
          "mathematics"
         ],
         "type": "scatter",
         "x": [
          6.935497760772705
         ],
         "y": [
          21.94561195373535
         ]
        },
        {
         "line": {
          "color": "DarkSlateGrey",
          "width": 2
         },
         "marker": {
          "color": [
           0.281924,
           0.089666,
           0.412415,
           1
          ],
          "size": 9
         },
         "mode": "markers",
         "name": "stem",
         "text": [
          "stem"
         ],
         "type": "scatter",
         "x": [
          -7.605871677398682
         ],
         "y": [
          4.195600509643555
         ]
        },
        {
         "line": {
          "color": "DarkSlateGrey",
          "width": 2
         },
         "marker": {
          "color": [
           0.153364,
           0.497,
           0.557724,
           1
          ],
          "size": 9
         },
         "mode": "markers",
         "name": "teacher",
         "text": [
          "teacher"
         ],
         "type": "scatter",
         "x": [
          1.1951408386230469
         ],
         "y": [
          12.371957778930664
         ]
        },
        {
         "line": {
          "color": "DarkSlateGrey",
          "width": 2
         },
         "marker": {
          "color": [
           0.993248,
           0.906157,
           0.143936,
           1
          ],
          "size": 9
         },
         "mode": "markers",
         "name": "training",
         "text": [
          "training"
         ],
         "type": "scatter",
         "x": [
          1.0723422765731812
         ],
         "y": [
          11.540157318115234
         ]
        },
        {
         "line": {
          "color": "DarkSlateGrey",
          "width": 2
         },
         "marker": {
          "color": [
           0.212395,
           0.359683,
           0.55171,
           1
          ],
          "size": 9
         },
         "mode": "markers",
         "name": "expenses",
         "text": [
          "expenses"
         ],
         "type": "scatter",
         "x": [
          -0.7738481760025024
         ],
         "y": [
          10.539873123168945
         ]
        },
        {
         "line": {
          "color": "DarkSlateGrey",
          "width": 2
         },
         "marker": {
          "color": [
           0.626579,
           0.854645,
           0.223353,
           1
          ],
          "size": 9
         },
         "mode": "markers",
         "name": "the",
         "text": [
          "the"
         ],
         "type": "scatter",
         "x": [
          8.00345230102539
         ],
         "y": [
          -6.281377792358398
         ]
        },
        {
         "line": {
          "color": "DarkSlateGrey",
          "width": 2
         },
         "marker": {
          "color": [
           0.252194,
           0.269783,
           0.531579,
           1
          ],
          "size": 9
         },
         "mode": "markers",
         "name": "term",
         "text": [
          "term"
         ],
         "type": "scatter",
         "x": [
          17.770517349243164
         ],
         "y": [
          -4.486922740936279
         ]
        },
        {
         "line": {
          "color": "DarkSlateGrey",
          "width": 2
         },
         "marker": {
          "color": [
           0.281924,
           0.089666,
           0.412415,
           1
          ],
          "size": 9
         },
         "mode": "markers",
         "name": "stem",
         "text": [
          "stem"
         ],
         "type": "scatter",
         "x": [
          -7.5699968338012695
         ],
         "y": [
          4.194248199462891
         ]
        },
        {
         "line": {
          "color": "DarkSlateGrey",
          "width": 2
         },
         "marker": {
          "color": [
           0.153364,
           0.497,
           0.557724,
           1
          ],
          "size": 9
         },
         "mode": "markers",
         "name": "teacher",
         "text": [
          "teacher"
         ],
         "type": "scatter",
         "x": [
          1.1509790420532227
         ],
         "y": [
          12.3593111038208
         ]
        },
        {
         "line": {
          "color": "DarkSlateGrey",
          "width": 2
         },
         "marker": {
          "color": [
           0.993248,
           0.906157,
           0.143936,
           1
          ],
          "size": 9
         },
         "mode": "markers",
         "name": "training",
         "text": [
          "training"
         ],
         "type": "scatter",
         "x": [
          1.0965790748596191
         ],
         "y": [
          11.541446685791016
         ]
        },
        {
         "line": {
          "color": "DarkSlateGrey",
          "width": 2
         },
         "marker": {
          "color": [
           0.212395,
           0.359683,
           0.55171,
           1
          ],
          "size": 9
         },
         "mode": "markers",
         "name": "expenses",
         "text": [
          "expenses"
         ],
         "type": "scatter",
         "x": [
          -0.7570324540138245
         ],
         "y": [
          10.520588874816895
         ]
        },
        {
         "line": {
          "color": "DarkSlateGrey",
          "width": 2
         },
         "marker": {
          "color": [
           0.260571,
           0.246922,
           0.522828,
           1
          ],
          "size": 9
         },
         "mode": "markers",
         "name": "means",
         "text": [
          "means"
         ],
         "type": "scatter",
         "x": [
          -5.070499897003174
         ],
         "y": [
          11.103501319885254
         ]
        },
        {
         "line": {
          "color": "DarkSlateGrey",
          "width": 2
         },
         "marker": {
          "color": [
           0.575563,
           0.844566,
           0.256415,
           1
          ],
          "size": 9
         },
         "mode": "markers",
         "name": "any",
         "text": [
          "any"
         ],
         "type": "scatter",
         "x": [
          1.312503457069397
         ],
         "y": [
          7.363034248352051
         ]
        },
        {
         "line": {
          "color": "DarkSlateGrey",
          "width": 2
         },
         "marker": {
          "color": [
           0.122312,
           0.633153,
           0.530398,
           1
          ],
          "size": 9
         },
         "mode": "markers",
         "name": "amount",
         "text": [
          "amount"
         ],
         "type": "scatter",
         "x": [
          -0.4065517485141754
         ],
         "y": [
          9.517518997192383
         ]
        },
        {
         "line": {
          "color": "DarkSlateGrey",
          "width": 2
         },
         "marker": {
          "color": [
           0.993248,
           0.906157,
           0.143936,
           1
          ],
          "size": 9
         },
         "mode": "markers",
         "name": "paid",
         "text": [
          "paid"
         ],
         "type": "scatter",
         "x": [
          -0.19536910951137543
         ],
         "y": [
          9.712559700012207
         ]
        },
        {
         "line": {
          "color": "DarkSlateGrey",
          "width": 2
         },
         "marker": {
          "color": [
           0.993248,
           0.906157,
           0.143936,
           1
          ],
          "size": 9
         },
         "mode": "markers",
         "name": "incurred",
         "text": [
          "incurred"
         ],
         "type": "scatter",
         "x": [
          -0.20697800815105438
         ],
         "y": [
          9.80331802368164
         ]
        },
        {
         "line": {
          "color": "DarkSlateGrey",
          "width": 2
         },
         "marker": {
          "color": [
           0.273809,
           0.031497,
           0.358853,
           1
          ],
          "size": 9
         },
         "mode": "markers",
         "name": "taxpayer",
         "text": [
          "taxpayer"
         ],
         "type": "scatter",
         "x": [
          -1.6085641384124756
         ],
         "y": [
          9.747684478759766
         ]
        },
        {
         "line": {
          "color": "DarkSlateGrey",
          "width": 2
         },
         "marker": {
          "color": [
           0.993248,
           0.906157,
           0.143936,
           1
          ],
          "size": 9
         },
         "mode": "markers",
         "name": "engaged",
         "text": [
          "engaged"
         ],
         "type": "scatter",
         "x": [
          1.2379833459854126
         ],
         "y": [
          9.39833927154541
         ]
        },
        {
         "line": {
          "color": "DarkSlateGrey",
          "width": 2
         },
         "marker": {
          "color": [
           0.233603,
           0.313828,
           0.543914,
           1
          ],
          "size": 9
         },
         "mode": "markers",
         "name": "trade",
         "text": [
          "trade"
         ],
         "type": "scatter",
         "x": [
          0.8252192139625549
         ],
         "y": [
          10.554831504821777
         ]
        },
        {
         "line": {
          "color": "DarkSlateGrey",
          "width": 2
         },
         "marker": {
          "color": [
           0.233603,
           0.313828,
           0.543914,
           1
          ],
          "size": 9
         },
         "mode": "markers",
         "name": "business",
         "text": [
          "business"
         ],
         "type": "scatter",
         "x": [
          0.7982302308082581
         ],
         "y": [
          10.48048210144043
         ]
        },
        {
         "line": {
          "color": "DarkSlateGrey",
          "width": 2
         },
         "marker": {
          "color": [
           0.993248,
           0.906157,
           0.143936,
           1
          ],
          "size": 9
         },
         "mode": "markers",
         "name": "within",
         "text": [
          "within"
         ],
         "type": "scatter",
         "x": [
          2.3629610538482666
         ],
         "y": [
          8.529899597167969
         ]
        },
        {
         "line": {
          "color": "DarkSlateGrey",
          "width": 2
         },
         "marker": {
          "color": [
           0.288921,
           0.758394,
           0.428426,
           1
          ],
          "size": 9
         },
         "mode": "markers",
         "name": "area",
         "text": [
          "area"
         ],
         "type": "scatter",
         "x": [
          3.346498489379883
         ],
         "y": [
          9.763971328735352
         ]
        },
        {
         "line": {
          "color": "DarkSlateGrey",
          "width": 2
         },
         "marker": {
          "color": [
           0.279574,
           0.170599,
           0.479997,
           1
          ],
          "size": 9
         },
         "mode": "markers",
         "name": "science",
         "text": [
          "science"
         ],
         "type": "scatter",
         "x": [
          4.599647521972656
         ],
         "y": [
          -8.33716869354248
         ]
        },
        {
         "line": {
          "color": "DarkSlateGrey",
          "width": 2
         },
         "marker": {
          "color": [
           0.275191,
           0.194905,
           0.496005,
           1
          ],
          "size": 9
         },
         "mode": "markers",
         "name": "technology",
         "text": [
          "technology"
         ],
         "type": "scatter",
         "x": [
          14.862637519836426
         ],
         "y": [
          10.932241439819336
         ]
        },
        {
         "line": {
          "color": "DarkSlateGrey",
          "width": 2
         },
         "marker": {
          "color": [
           0.28229,
           0.145912,
           0.46151,
           1
          ],
          "size": 9
         },
         "mode": "markers",
         "name": "engineering",
         "text": [
          "engineering"
         ],
         "type": "scatter",
         "x": [
          14.692808151245117
         ],
         "y": [
          12.090812683105469
         ]
        },
        {
         "line": {
          "color": "DarkSlateGrey",
          "width": 2
         },
         "marker": {
          "color": [
           0.283197,
           0.11568,
           0.436115,
           1
          ],
          "size": 9
         },
         "mode": "markers",
         "name": "mathematics",
         "text": [
          "mathematics"
         ],
         "type": "scatter",
         "x": [
          6.935296058654785
         ],
         "y": [
          21.94516944885254
         ]
        },
        {
         "line": {
          "color": "DarkSlateGrey",
          "width": 2
         },
         "marker": {
          "color": [
           0.993248,
           0.906157,
           0.143936,
           1
          ],
          "size": 9
         },
         "mode": "markers",
         "name": "which",
         "text": [
          "which"
         ],
         "type": "scatter",
         "x": [
          1.2411329746246338
         ],
         "y": [
          8.184370040893555
         ]
        },
        {
         "line": {
          "color": "DarkSlateGrey",
          "width": 2
         },
         "marker": {
          "color": [
           0.993248,
           0.906157,
           0.143936,
           1
          ],
          "size": 9
         },
         "mode": "markers",
         "name": "##tri",
         "text": [
          "##tri"
         ],
         "type": "scatter",
         "x": [
          -1.2376981973648071
         ],
         "y": [
          8.214470863342285
         ]
        },
        {
         "line": {
          "color": "DarkSlateGrey",
          "width": 2
         },
         "marker": {
          "color": [
           0.993248,
           0.906157,
           0.143936,
           1
          ],
          "size": 9
         },
         "mode": "markers",
         "name": "##bu",
         "text": [
          "##bu"
         ],
         "type": "scatter",
         "x": [
          -1.0838828086853027
         ],
         "y": [
          8.207771301269531
         ]
        },
        {
         "line": {
          "color": "DarkSlateGrey",
          "width": 2
         },
         "marker": {
          "color": [
           0.993248,
           0.906157,
           0.143936,
           1
          ],
          "size": 9
         },
         "mode": "markers",
         "name": "##table",
         "text": [
          "##table"
         ],
         "type": "scatter",
         "x": [
          -0.81732177734375
         ],
         "y": [
          8.3330659866333
         ]
        },
        {
         "line": {
          "color": "DarkSlateGrey",
          "width": 2
         },
         "marker": {
          "color": [
           0.993248,
           0.906157,
           0.143936,
           1
          ],
          "size": 9
         },
         "mode": "markers",
         "name": "the",
         "text": [
          "the"
         ],
         "type": "scatter",
         "x": [
          2.0092389583587646
         ],
         "y": [
          9.31110668182373
         ]
        },
        {
         "line": {
          "color": "DarkSlateGrey",
          "width": 2
         },
         "marker": {
          "color": [
           0.993248,
           0.906157,
           0.143936,
           1
          ],
          "size": 9
         },
         "mode": "markers",
         "name": "participation",
         "text": [
          "participation"
         ],
         "type": "scatter",
         "x": [
          1.2300618886947632
         ],
         "y": [
          9.679670333862305
         ]
        },
        {
         "line": {
          "color": "DarkSlateGrey",
          "width": 2
         },
         "marker": {
          "color": [
           0.575563,
           0.844566,
           0.256415,
           1
          ],
          "size": 9
         },
         "mode": "markers",
         "name": "any",
         "text": [
          "any"
         ],
         "type": "scatter",
         "x": [
          1.3513123989105225
         ],
         "y": [
          7.320973873138428
         ]
        },
        {
         "line": {
          "color": "DarkSlateGrey",
          "width": 2
         },
         "marker": {
          "color": [
           0.993248,
           0.906157,
           0.143936,
           1
          ],
          "size": 9
         },
         "mode": "markers",
         "name": "eligible",
         "text": [
          "eligible"
         ],
         "type": "scatter",
         "x": [
          1.5604528188705444
         ],
         "y": [
          6.5618391036987305
         ]
        },
        {
         "line": {
          "color": "DarkSlateGrey",
          "width": 2
         },
         "marker": {
          "color": [
           0.281924,
           0.089666,
           0.412415,
           1
          ],
          "size": 9
         },
         "mode": "markers",
         "name": "stem",
         "text": [
          "stem"
         ],
         "type": "scatter",
         "x": [
          -7.571061134338379
         ],
         "y": [
          4.221257209777832
         ]
        },
        {
         "line": {
          "color": "DarkSlateGrey",
          "width": 2
         },
         "marker": {
          "color": [
           0.153364,
           0.497,
           0.557724,
           1
          ],
          "size": 9
         },
         "mode": "markers",
         "name": "teacher",
         "text": [
          "teacher"
         ],
         "type": "scatter",
         "x": [
          1.2209478616714478
         ],
         "y": [
          12.384808540344238
         ]
        },
        {
         "line": {
          "color": "DarkSlateGrey",
          "width": 2
         },
         "marker": {
          "color": [
           0.993248,
           0.906157,
           0.143936,
           1
          ],
          "size": 9
         },
         "mode": "markers",
         "name": "regular",
         "text": [
          "regular"
         ],
         "type": "scatter",
         "x": [
          1.2002490758895874
         ],
         "y": [
          10.674894332885742
         ]
        },
        {
         "line": {
          "color": "DarkSlateGrey",
          "width": 2
         },
         "marker": {
          "color": [
           0.168126,
           0.459988,
           0.558082,
           1
          ],
          "size": 9
         },
         "mode": "markers",
         "name": "training",
         "text": [
          "training"
         ],
         "type": "scatter",
         "x": [
          1.1375553607940674
         ],
         "y": [
          11.436090469360352
         ]
        },
        {
         "line": {
          "color": "DarkSlateGrey",
          "width": 2
         },
         "marker": {
          "color": [
           0.168126,
           0.459988,
           0.558082,
           1
          ],
          "size": 9
         },
         "mode": "markers",
         "name": "program",
         "text": [
          "program"
         ],
         "type": "scatter",
         "x": [
          1.2675001621246338
         ],
         "y": [
          10.9973726272583
         ]
        },
        {
         "line": {
          "color": "DarkSlateGrey",
          "width": 2
         },
         "marker": {
          "color": [
           0.993248,
           0.906157,
           0.143936,
           1
          ],
          "size": 9
         },
         "mode": "markers",
         "name": "provided",
         "text": [
          "provided"
         ],
         "type": "scatter",
         "x": [
          0.4849378764629364
         ],
         "y": [
          9.756447792053223
         ]
        },
        {
         "line": {
          "color": "DarkSlateGrey",
          "width": 2
         },
         "marker": {
          "color": [
           0.993248,
           0.906157,
           0.143936,
           1
          ],
          "size": 9
         },
         "mode": "markers",
         "name": "employees",
         "text": [
          "employees"
         ],
         "type": "scatter",
         "x": [
          1.3952230215072632
         ],
         "y": [
          11.99035930633545
         ]
        },
        {
         "line": {
          "color": "DarkSlateGrey",
          "width": 2
         },
         "marker": {
          "color": [
           0.730889,
           0.871916,
           0.156029,
           1
          ],
          "size": 9
         },
         "mode": "markers",
         "name": "the",
         "text": [
          "the"
         ],
         "type": "scatter",
         "x": [
          1.9792882204055786
         ],
         "y": [
          9.38028621673584
         ]
        },
        {
         "line": {
          "color": "DarkSlateGrey",
          "width": 2
         },
         "marker": {
          "color": [
           0.273809,
           0.031497,
           0.358853,
           1
          ],
          "size": 9
         },
         "mode": "markers",
         "name": "taxpayer",
         "text": [
          "taxpayer"
         ],
         "type": "scatter",
         "x": [
          -1.6080057621002197
         ],
         "y": [
          9.74905014038086
         ]
        },
        {
         "line": {
          "color": "DarkSlateGrey",
          "width": 2
         },
         "marker": {
          "color": [
           0.993248,
           0.906157,
           0.143936,
           1
          ],
          "size": 9
         },
         "mode": "markers",
         "name": "which",
         "text": [
          "which"
         ],
         "type": "scatter",
         "x": [
          1.2487845420837402
         ],
         "y": [
          8.19234848022461
         ]
        },
        {
         "line": {
          "color": "DarkSlateGrey",
          "width": 2
         },
         "marker": {
          "color": [
           0.993248,
           0.906157,
           0.143936,
           1
          ],
          "size": 9
         },
         "mode": "markers",
         "name": "determined",
         "text": [
          "determined"
         ],
         "type": "scatter",
         "x": [
          -0.016943631693720818
         ],
         "y": [
          9.349408149719238
         ]
        },
        {
         "line": {
          "color": "DarkSlateGrey",
          "width": 2
         },
         "marker": {
          "color": [
           0.130067,
           0.651384,
           0.521608,
           1
          ],
          "size": 9
         },
         "mode": "markers",
         "name": "such",
         "text": [
          "such"
         ],
         "type": "scatter",
         "x": [
          5.363431930541992
         ],
         "y": [
          12.320225715637207
         ]
        },
        {
         "line": {
          "color": "DarkSlateGrey",
          "width": 2
         },
         "marker": {
          "color": [
           0.153364,
           0.497,
           0.557724,
           1
          ],
          "size": 9
         },
         "mode": "markers",
         "name": "teacher",
         "text": [
          "teacher"
         ],
         "type": "scatter",
         "x": [
          1.1983498334884644
         ],
         "y": [
          12.409467697143555
         ]
        },
        {
         "line": {
          "color": "DarkSlateGrey",
          "width": 2
         },
         "marker": {
          "color": [
           0.153364,
           0.497,
           0.557724,
           1
          ],
          "size": 9
         },
         "mode": "markers",
         "name": "school",
         "text": [
          "school"
         ],
         "type": "scatter",
         "x": [
          2.293935537338257
         ],
         "y": [
          12.039528846740723
         ]
        },
        {
         "line": {
          "color": "DarkSlateGrey",
          "width": 2
         },
         "marker": {
          "color": [
           0.993248,
           0.906157,
           0.143936,
           1
          ],
          "size": 9
         },
         "mode": "markers",
         "name": "enhancing",
         "text": [
          "enhancing"
         ],
         "type": "scatter",
         "x": [
          1.040258765220642
         ],
         "y": [
          10.003172874450684
         ]
        },
        {
         "line": {
          "color": "DarkSlateGrey",
          "width": 2
         },
         "marker": {
          "color": [
           0.130067,
           0.651384,
           0.521608,
           1
          ],
          "size": 9
         },
         "mode": "markers",
         "name": "such",
         "text": [
          "such"
         ],
         "type": "scatter",
         "x": [
          5.379385948181152
         ],
         "y": [
          12.327102661132812
         ]
        },
        {
         "line": {
          "color": "DarkSlateGrey",
          "width": 2
         },
         "marker": {
          "color": [
           0.153364,
           0.497,
           0.557724,
           1
          ],
          "size": 9
         },
         "mode": "markers",
         "name": "teacher",
         "text": [
          "teacher"
         ],
         "type": "scatter",
         "x": [
          1.2045315504074097
         ],
         "y": [
          12.352160453796387
         ]
        },
        {
         "line": {
          "color": "DarkSlateGrey",
          "width": 2
         },
         "marker": {
          "color": [
           0.993248,
           0.906157,
           0.143936,
           1
          ],
          "size": 9
         },
         "mode": "markers",
         "name": "teaching",
         "text": [
          "teaching"
         ],
         "type": "scatter",
         "x": [
          1.3178223371505737
         ],
         "y": [
          12.192976951599121
         ]
        },
        {
         "line": {
          "color": "DarkSlateGrey",
          "width": 2
         },
         "marker": {
          "color": [
           0.993248,
           0.906157,
           0.143936,
           1
          ],
          "size": 9
         },
         "mode": "markers",
         "name": "skills",
         "text": [
          "skills"
         ],
         "type": "scatter",
         "x": [
          1.2321702241897583
         ],
         "y": [
          11.312801361083984
         ]
        },
        {
         "line": {
          "color": "DarkSlateGrey",
          "width": 2
         },
         "marker": {
          "color": [
           0.993248,
           0.906157,
           0.143936,
           1
          ],
          "size": 9
         },
         "mode": "markers",
         "name": "the",
         "text": [
          "the"
         ],
         "type": "scatter",
         "x": [
          2.6016383171081543
         ],
         "y": [
          9.035604476928711
         ]
        },
        {
         "line": {
          "color": "DarkSlateGrey",
          "width": 2
         },
         "marker": {
          "color": [
           0.288921,
           0.758394,
           0.428426,
           1
          ],
          "size": 9
         },
         "mode": "markers",
         "name": "areas",
         "text": [
          "areas"
         ],
         "type": "scatter",
         "x": [
          3.3590986728668213
         ],
         "y": [
          9.76543140411377
         ]
        },
        {
         "line": {
          "color": "DarkSlateGrey",
          "width": 2
         },
         "marker": {
          "color": [
           0.279574,
           0.170599,
           0.479997,
           1
          ],
          "size": 9
         },
         "mode": "markers",
         "name": "science",
         "text": [
          "science"
         ],
         "type": "scatter",
         "x": [
          4.59660530090332
         ],
         "y": [
          -8.340357780456543
         ]
        },
        {
         "line": {
          "color": "DarkSlateGrey",
          "width": 2
         },
         "marker": {
          "color": [
           0.275191,
           0.194905,
           0.496005,
           1
          ],
          "size": 9
         },
         "mode": "markers",
         "name": "technology",
         "text": [
          "technology"
         ],
         "type": "scatter",
         "x": [
          14.85765552520752
         ],
         "y": [
          10.926606178283691
         ]
        },
        {
         "line": {
          "color": "DarkSlateGrey",
          "width": 2
         },
         "marker": {
          "color": [
           0.28229,
           0.145912,
           0.46151,
           1
          ],
          "size": 9
         },
         "mode": "markers",
         "name": "engineering",
         "text": [
          "engineering"
         ],
         "type": "scatter",
         "x": [
          14.692910194396973
         ],
         "y": [
          12.09131908416748
         ]
        },
        {
         "line": {
          "color": "DarkSlateGrey",
          "width": 2
         },
         "marker": {
          "color": [
           0.283197,
           0.11568,
           0.436115,
           1
          ],
          "size": 9
         },
         "mode": "markers",
         "name": "mathematics",
         "text": [
          "mathematics"
         ],
         "type": "scatter",
         "x": [
          6.93567419052124
         ],
         "y": [
          21.945846557617188
         ]
        },
        {
         "line": {
          "color": "DarkSlateGrey",
          "width": 2
         },
         "marker": {
          "color": [
           0.993248,
           0.906157,
           0.143936,
           1
          ],
          "size": 9
         },
         "mode": "markers",
         "name": "denial",
         "text": [
          "denial"
         ],
         "type": "scatter",
         "x": [
          -0.3201349079608917
         ],
         "y": [
          8.737444877624512
         ]
        },
        {
         "line": {
          "color": "DarkSlateGrey",
          "width": 2
         },
         "marker": {
          "color": [
           0.993248,
           0.906157,
           0.143936,
           1
          ],
          "size": 9
         },
         "mode": "markers",
         "name": "double",
         "text": [
          "double"
         ],
         "type": "scatter",
         "x": [
          -0.48109230399131775
         ],
         "y": [
          8.851587295532227
         ]
        },
        {
         "line": {
          "color": "DarkSlateGrey",
          "width": 2
         },
         "marker": {
          "color": [
           0.993248,
           0.906157,
           0.143936,
           1
          ],
          "size": 9
         },
         "mode": "markers",
         "name": "benefit",
         "text": [
          "benefit"
         ],
         "type": "scatter",
         "x": [
          -0.46720945835113525
         ],
         "y": [
          9.369235038757324
         ]
        },
        {
         "line": {
          "color": "DarkSlateGrey",
          "width": 2
         },
         "marker": {
          "color": [
           0.993248,
           0.906157,
           0.143936,
           1
          ],
          "size": 9
         },
         "mode": "markers",
         "name": "##duction",
         "text": [
          "##duction"
         ],
         "type": "scatter",
         "x": [
          -0.5492515563964844
         ],
         "y": [
          9.303458213806152
         ]
        },
        {
         "line": {
          "color": "DarkSlateGrey",
          "width": 2
         },
         "marker": {
          "color": [
           0.993248,
           0.906157,
           0.143936,
           1
          ],
          "size": 9
         },
         "mode": "markers",
         "name": "shall",
         "text": [
          "shall"
         ],
         "type": "scatter",
         "x": [
          0.26892179250717163
         ],
         "y": [
          8.2518310546875
         ]
        },
        {
         "line": {
          "color": "DarkSlateGrey",
          "width": 2
         },
         "marker": {
          "color": [
           0.993248,
           0.906157,
           0.143936,
           1
          ],
          "size": 9
         },
         "mode": "markers",
         "name": "allowed",
         "text": [
          "allowed"
         ],
         "type": "scatter",
         "x": [
          -0.04686494916677475
         ],
         "y": [
          8.926276206970215
         ]
        },
        {
         "line": {
          "color": "DarkSlateGrey",
          "width": 2
         },
         "marker": {
          "color": [
           0.377779,
           0.791781,
           0.377939,
           1
          ],
          "size": 9
         },
         "mode": "markers",
         "name": "under",
         "text": [
          "under"
         ],
         "type": "scatter",
         "x": [
          -0.34507519006729126
         ],
         "y": [
          7.3395209312438965
         ]
        },
        {
         "line": {
          "color": "DarkSlateGrey",
          "width": 2
         },
         "marker": {
          "color": [
           0.19109,
           0.708366,
           0.482284,
           1
          ],
          "size": 9
         },
         "mode": "markers",
         "name": "this",
         "text": [
          "this"
         ],
         "type": "scatter",
         "x": [
          -1.3894351720809937
         ],
         "y": [
          5.968570232391357
         ]
        },
        {
         "line": {
          "color": "DarkSlateGrey",
          "width": 2
         },
         "marker": {
          "color": [
           0.993248,
           0.906157,
           0.143936,
           1
          ],
          "size": 9
         },
         "mode": "markers",
         "name": "chapter",
         "text": [
          "chapter"
         ],
         "type": "scatter",
         "x": [
          -2.1843292713165283
         ],
         "y": [
          6.839520454406738
         ]
        },
        {
         "line": {
          "color": "DarkSlateGrey",
          "width": 2
         },
         "marker": {
          "color": [
           0.993248,
           0.906157,
           0.143936,
           1
          ],
          "size": 9
         },
         "mode": "markers",
         "name": "for",
         "text": [
          "for"
         ],
         "type": "scatter",
         "x": [
          0.9377807974815369
         ],
         "y": [
          8.74636459350586
         ]
        },
        {
         "line": {
          "color": "DarkSlateGrey",
          "width": 2
         },
         "marker": {
          "color": [
           0.575563,
           0.844566,
           0.256415,
           1
          ],
          "size": 9
         },
         "mode": "markers",
         "name": "any",
         "text": [
          "any"
         ],
         "type": "scatter",
         "x": [
          1.3627772331237793
         ],
         "y": [
          7.305791854858398
         ]
        },
        {
         "line": {
          "color": "DarkSlateGrey",
          "width": 2
         },
         "marker": {
          "color": [
           0.122312,
           0.633153,
           0.530398,
           1
          ],
          "size": 9
         },
         "mode": "markers",
         "name": "amount",
         "text": [
          "amount"
         ],
         "type": "scatter",
         "x": [
          -0.40511348843574524
         ],
         "y": [
          9.495868682861328
         ]
        },
        {
         "line": {
          "color": "DarkSlateGrey",
          "width": 2
         },
         "marker": {
          "color": [
           0.993248,
           0.906157,
           0.143936,
           1
          ],
          "size": 9
         },
         "mode": "markers",
         "name": "allowed",
         "text": [
          "allowed"
         ],
         "type": "scatter",
         "x": [
          0.06381823867559433
         ],
         "y": [
          9.30248737335205
         ]
        },
        {
         "line": {
          "color": "DarkSlateGrey",
          "width": 2
         },
         "marker": {
          "color": [
           0.993248,
           0.906157,
           0.143936,
           1
          ],
          "size": 9
         },
         "mode": "markers",
         "name": "credit",
         "text": [
          "credit"
         ],
         "type": "scatter",
         "x": [
          -0.6521918177604675
         ],
         "y": [
          9.617592811584473
         ]
        },
        {
         "line": {
          "color": "DarkSlateGrey",
          "width": 2
         },
         "marker": {
          "color": [
           0.377779,
           0.791781,
           0.377939,
           1
          ],
          "size": 9
         },
         "mode": "markers",
         "name": "under",
         "text": [
          "under"
         ],
         "type": "scatter",
         "x": [
          -0.3677661418914795
         ],
         "y": [
          7.355763912200928
         ]
        },
        {
         "line": {
          "color": "DarkSlateGrey",
          "width": 2
         },
         "marker": {
          "color": [
           0.19109,
           0.708366,
           0.482284,
           1
          ],
          "size": 9
         },
         "mode": "markers",
         "name": "this",
         "text": [
          "this"
         ],
         "type": "scatter",
         "x": [
          -1.3912572860717773
         ],
         "y": [
          5.970759391784668
         ]
        },
        {
         "line": {
          "color": "DarkSlateGrey",
          "width": 2
         },
         "marker": {
          "color": [
           0.335885,
           0.777018,
           0.402049,
           1
          ],
          "size": 9
         },
         "mode": "markers",
         "name": "section",
         "text": [
          "section"
         ],
         "type": "scatter",
         "x": [
          -2.1364269256591797
         ],
         "y": [
          6.8458476066589355
         ]
        },
        {
         "line": {
          "color": "DarkSlateGrey",
          "width": 2
         },
         "marker": {
          "color": [
           0.993248,
           0.906157,
           0.143936,
           1
          ],
          "size": 9
         },
         "mode": "markers",
         "name": "conform",
         "text": [
          "conform"
         ],
         "type": "scatter",
         "x": [
          -0.6839094758033752
         ],
         "y": [
          8.274070739746094
         ]
        },
        {
         "line": {
          "color": "DarkSlateGrey",
          "width": 2
         },
         "marker": {
          "color": [
           0.993248,
           0.906157,
           0.143936,
           1
          ],
          "size": 9
         },
         "mode": "markers",
         "name": "##ing",
         "text": [
          "##ing"
         ],
         "type": "scatter",
         "x": [
          -0.49808281660079956
         ],
         "y": [
          8.199145317077637
         ]
        },
        {
         "line": {
          "color": "DarkSlateGrey",
          "width": 2
         },
         "marker": {
          "color": [
           0.993248,
           0.906157,
           0.143936,
           1
          ],
          "size": 9
         },
         "mode": "markers",
         "name": "amendments",
         "text": [
          "amendments"
         ],
         "type": "scatter",
         "x": [
          -1.4753247499465942
         ],
         "y": [
          6.6832661628723145
         ]
        },
        {
         "line": {
          "color": "DarkSlateGrey",
          "width": 2
         },
         "marker": {
          "color": [
           0.335885,
           0.777018,
           0.402049,
           1
          ],
          "size": 9
         },
         "mode": "markers",
         "name": "section",
         "text": [
          "section"
         ],
         "type": "scatter",
         "x": [
          -2.3630526065826416
         ],
         "y": [
          7.087663173675537
         ]
        },
        {
         "line": {
          "color": "DarkSlateGrey",
          "width": 2
         },
         "marker": {
          "color": [
           0.130067,
           0.651384,
           0.521608,
           1
          ],
          "size": 9
         },
         "mode": "markers",
         "name": "such",
         "text": [
          "such"
         ],
         "type": "scatter",
         "x": [
          5.3342461585998535
         ],
         "y": [
          12.331290245056152
         ]
        },
        {
         "line": {
          "color": "DarkSlateGrey",
          "width": 2
         },
         "marker": {
          "color": [
           0.993248,
           0.906157,
           0.143936,
           1
          ],
          "size": 9
         },
         "mode": "markers",
         "name": "code",
         "text": [
          "code"
         ],
         "type": "scatter",
         "x": [
          -2.1607837677001953
         ],
         "y": [
          6.911659240722656
         ]
        },
        {
         "line": {
          "color": "DarkSlateGrey",
          "width": 2
         },
         "marker": {
          "color": [
           0.993248,
           0.906157,
           0.143936,
           1
          ],
          "size": 9
         },
         "mode": "markers",
         "name": "amended",
         "text": [
          "amended"
         ],
         "type": "scatter",
         "x": [
          -1.3789212703704834
         ],
         "y": [
          6.591780662536621
         ]
        },
        {
         "line": {
          "color": "DarkSlateGrey",
          "width": 2
         },
         "marker": {
          "color": [
           0.993248,
           0.906157,
           0.143936,
           1
          ],
          "size": 9
         },
         "mode": "markers",
         "name": "striking",
         "text": [
          "striking"
         ],
         "type": "scatter",
         "x": [
          -1.080597162246704
         ],
         "y": [
          6.590966701507568
         ]
        },
        {
         "line": {
          "color": "DarkSlateGrey",
          "width": 2
         },
         "marker": {
          "color": [
           0.993248,
           0.906157,
           0.143936,
           1
          ],
          "size": 9
         },
         "mode": "markers",
         "name": "plus",
         "text": [
          "plus"
         ],
         "type": "scatter",
         "x": [
          -1.969725251197815
         ],
         "y": [
          8.192737579345703
         ]
        },
        {
         "line": {
          "color": "DarkSlateGrey",
          "width": 2
         },
         "marker": {
          "color": [
           0.993248,
           0.906157,
           0.143936,
           1
          ],
          "size": 9
         },
         "mode": "markers",
         "name": "the",
         "text": [
          "the"
         ],
         "type": "scatter",
         "x": [
          -1.2312432527542114
         ],
         "y": [
          7.088094711303711
         ]
        },
        {
         "line": {
          "color": "DarkSlateGrey",
          "width": 2
         },
         "marker": {
          "color": [
           0.993248,
           0.906157,
           0.143936,
           1
          ],
          "size": 9
         },
         "mode": "markers",
         "name": "end",
         "text": [
          "end"
         ],
         "type": "scatter",
         "x": [
          -1.3596433401107788
         ],
         "y": [
          7.455029010772705
         ]
        },
        {
         "line": {
          "color": "DarkSlateGrey",
          "width": 2
         },
         "marker": {
          "color": [
           0.993248,
           0.906157,
           0.143936,
           1
          ],
          "size": 9
         },
         "mode": "markers",
         "name": "paragraph",
         "text": [
          "paragraph"
         ],
         "type": "scatter",
         "x": [
          -2.321153163909912
         ],
         "y": [
          6.9434285163879395
         ]
        },
        {
         "line": {
          "color": "DarkSlateGrey",
          "width": 2
         },
         "marker": {
          "color": [
           0.993248,
           0.906157,
           0.143936,
           1
          ],
          "size": 9
         },
         "mode": "markers",
         "name": "striking",
         "text": [
          "striking"
         ],
         "type": "scatter",
         "x": [
          -1.0274289846420288
         ],
         "y": [
          6.671602725982666
         ]
        },
        {
         "line": {
          "color": "DarkSlateGrey",
          "width": 2
         },
         "marker": {
          "color": [
           0.993248,
           0.906157,
           0.143936,
           1
          ],
          "size": 9
         },
         "mode": "markers",
         "name": "the",
         "text": [
          "the"
         ],
         "type": "scatter",
         "x": [
          -0.315107524394989
         ],
         "y": [
          8.221877098083496
         ]
        },
        {
         "line": {
          "color": "DarkSlateGrey",
          "width": 2
         },
         "marker": {
          "color": [
           0.993248,
           0.906157,
           0.143936,
           1
          ],
          "size": 9
         },
         "mode": "markers",
         "name": "period",
         "text": [
          "period"
         ],
         "type": "scatter",
         "x": [
          -0.7240356206893921
         ],
         "y": [
          8.974976539611816
         ]
        },
        {
         "line": {
          "color": "DarkSlateGrey",
          "width": 2
         },
         "marker": {
          "color": [
           0.89632,
           0.893616,
           0.096335,
           1
          ],
          "size": 9
         },
         "mode": "markers",
         "name": "the",
         "text": [
          "the"
         ],
         "type": "scatter",
         "x": [
          -2.0909500122070312
         ],
         "y": [
          8.016223907470703
         ]
        },
        {
         "line": {
          "color": "DarkSlateGrey",
          "width": 2
         },
         "marker": {
          "color": [
           0.993248,
           0.906157,
           0.143936,
           1
          ],
          "size": 9
         },
         "mode": "markers",
         "name": "end",
         "text": [
          "end"
         ],
         "type": "scatter",
         "x": [
          -1.3352864980697632
         ],
         "y": [
          7.424381732940674
         ]
        },
        {
         "line": {
          "color": "DarkSlateGrey",
          "width": 2
         },
         "marker": {
          "color": [
           0.993248,
           0.906157,
           0.143936,
           1
          ],
          "size": 9
         },
         "mode": "markers",
         "name": "paragraph",
         "text": [
          "paragraph"
         ],
         "type": "scatter",
         "x": [
          -2.3044307231903076
         ],
         "y": [
          6.9524455070495605
         ]
        },
        {
         "line": {
          "color": "DarkSlateGrey",
          "width": 2
         },
         "marker": {
          "color": [
           0.993248,
           0.906157,
           0.143936,
           1
          ],
          "size": 9
         },
         "mode": "markers",
         "name": "and",
         "text": [
          "and"
         ],
         "type": "scatter",
         "x": [
          -0.8650391101837158
         ],
         "y": [
          6.30940580368042
         ]
        },
        {
         "line": {
          "color": "DarkSlateGrey",
          "width": 2
         },
         "marker": {
          "color": [
           0.993248,
           0.906157,
           0.143936,
           1
          ],
          "size": 9
         },
         "mode": "markers",
         "name": "insert",
         "text": [
          "insert"
         ],
         "type": "scatter",
         "x": [
          -1.1154365539550781
         ],
         "y": [
          6.612831115722656
         ]
        },
        {
         "line": {
          "color": "DarkSlateGrey",
          "width": 2
         },
         "marker": {
          "color": [
           0.993248,
           0.906157,
           0.143936,
           1
          ],
          "size": 9
         },
         "mode": "markers",
         "name": "##ing",
         "text": [
          "##ing"
         ],
         "type": "scatter",
         "x": [
          -1.0343616008758545
         ],
         "y": [
          6.611413478851318
         ]
        },
        {
         "line": {
          "color": "DarkSlateGrey",
          "width": 2
         },
         "marker": {
          "color": [
           0.993248,
           0.906157,
           0.143936,
           1
          ],
          "size": 9
         },
         "mode": "markers",
         "name": "plus",
         "text": [
          "plus"
         ],
         "type": "scatter",
         "x": [
          -1.4340786933898926
         ],
         "y": [
          7.313839435577393
         ]
        },
        {
         "line": {
          "color": "DarkSlateGrey",
          "width": 2
         },
         "marker": {
          "color": [
           0.993248,
           0.906157,
           0.143936,
           1
          ],
          "size": 9
         },
         "mode": "markers",
         "name": "and",
         "text": [
          "and"
         ],
         "type": "scatter",
         "x": [
          -1.4806842803955078
         ],
         "y": [
          3.504044771194458
         ]
        },
        {
         "line": {
          "color": "DarkSlateGrey",
          "width": 2
         },
         "marker": {
          "color": [
           0.993248,
           0.906157,
           0.143936,
           1
          ],
          "size": 9
         },
         "mode": "markers",
         "name": "adding",
         "text": [
          "adding"
         ],
         "type": "scatter",
         "x": [
          -1.088911771774292
         ],
         "y": [
          6.593369483947754
         ]
        },
        {
         "line": {
          "color": "DarkSlateGrey",
          "width": 2
         },
         "marker": {
          "color": [
           0.89632,
           0.893616,
           0.096335,
           1
          ],
          "size": 9
         },
         "mode": "markers",
         "name": "the",
         "text": [
          "the"
         ],
         "type": "scatter",
         "x": [
          -2.1812937259674072
         ],
         "y": [
          8.111416816711426
         ]
        },
        {
         "line": {
          "color": "DarkSlateGrey",
          "width": 2
         },
         "marker": {
          "color": [
           0.993248,
           0.906157,
           0.143936,
           1
          ],
          "size": 9
         },
         "mode": "markers",
         "name": "end",
         "text": [
          "end"
         ],
         "type": "scatter",
         "x": [
          -1.3867006301879883
         ],
         "y": [
          7.432103157043457
         ]
        },
        {
         "line": {
          "color": "DarkSlateGrey",
          "width": 2
         },
         "marker": {
          "color": [
           0.993248,
           0.906157,
           0.143936,
           1
          ],
          "size": 9
         },
         "mode": "markers",
         "name": "the",
         "text": [
          "the"
         ],
         "type": "scatter",
         "x": [
          -1.1742833852767944
         ],
         "y": [
          6.99812650680542
         ]
        },
        {
         "line": {
          "color": "DarkSlateGrey",
          "width": 2
         },
         "marker": {
          "color": [
           0.993248,
           0.906157,
           0.143936,
           1
          ],
          "size": 9
         },
         "mode": "markers",
         "name": "following",
         "text": [
          "following"
         ],
         "type": "scatter",
         "x": [
          -1.3573805093765259
         ],
         "y": [
          6.059452056884766
         ]
        },
        {
         "line": {
          "color": "DarkSlateGrey",
          "width": 2
         },
         "marker": {
          "color": [
           0.993248,
           0.906157,
           0.143936,
           1
          ],
          "size": 9
         },
         "mode": "markers",
         "name": "new",
         "text": [
          "new"
         ],
         "type": "scatter",
         "x": [
          -1.3177516460418701
         ],
         "y": [
          6.455087184906006
         ]
        },
        {
         "line": {
          "color": "DarkSlateGrey",
          "width": 2
         },
         "marker": {
          "color": [
           0.993248,
           0.906157,
           0.143936,
           1
          ],
          "size": 9
         },
         "mode": "markers",
         "name": "paragraph",
         "text": [
          "paragraph"
         ],
         "type": "scatter",
         "x": [
          -2.2573888301849365
         ],
         "y": [
          6.876712799072266
         ]
        },
        {
         "line": {
          "color": "DarkSlateGrey",
          "width": 2
         },
         "marker": {
          "color": [
           0.575563,
           0.844566,
           0.256415,
           1
          ],
          "size": 9
         },
         "mode": "markers",
         "name": "the",
         "text": [
          "the"
         ],
         "type": "scatter",
         "x": [
          -0.2545843720436096
         ],
         "y": [
          8.226476669311523
         ]
        },
        {
         "line": {
          "color": "DarkSlateGrey",
          "width": 2
         },
         "marker": {
          "color": [
           0.160665,
           0.47854,
           0.558115,
           1
          ],
          "size": 9
         },
         "mode": "markers",
         "name": "elementary",
         "text": [
          "elementary"
         ],
         "type": "scatter",
         "x": [
          2.699293851852417
         ],
         "y": [
          12.887669563293457
         ]
        },
        {
         "line": {
          "color": "DarkSlateGrey",
          "width": 2
         },
         "marker": {
          "color": [
           0.993248,
           0.906157,
           0.143936,
           1
          ],
          "size": 9
         },
         "mode": "markers",
         "name": "and",
         "text": [
          "and"
         ],
         "type": "scatter",
         "x": [
          -0.46195197105407715
         ],
         "y": [
          2.68060564994812
         ]
        },
        {
         "line": {
          "color": "DarkSlateGrey",
          "width": 2
         },
         "marker": {
          "color": [
           0.993248,
           0.906157,
           0.143936,
           1
          ],
          "size": 9
         },
         "mode": "markers",
         "name": "secondary",
         "text": [
          "secondary"
         ],
         "type": "scatter",
         "x": [
          2.722846746444702
         ],
         "y": [
          12.957263946533203
         ]
        },
        {
         "line": {
          "color": "DarkSlateGrey",
          "width": 2
         },
         "marker": {
          "color": [
           0.279574,
           0.170599,
           0.479997,
           1
          ],
          "size": 9
         },
         "mode": "markers",
         "name": "science",
         "text": [
          "science"
         ],
         "type": "scatter",
         "x": [
          4.599874019622803
         ],
         "y": [
          -8.337991714477539
         ]
        },
        {
         "line": {
          "color": "DarkSlateGrey",
          "width": 2
         },
         "marker": {
          "color": [
           0.275191,
           0.194905,
           0.496005,
           1
          ],
          "size": 9
         },
         "mode": "markers",
         "name": "technology",
         "text": [
          "technology"
         ],
         "type": "scatter",
         "x": [
          14.862545013427734
         ],
         "y": [
          10.935311317443848
         ]
        },
        {
         "line": {
          "color": "DarkSlateGrey",
          "width": 2
         },
         "marker": {
          "color": [
           0.28229,
           0.145912,
           0.46151,
           1
          ],
          "size": 9
         },
         "mode": "markers",
         "name": "engineering",
         "text": [
          "engineering"
         ],
         "type": "scatter",
         "x": [
          14.693918228149414
         ],
         "y": [
          12.08503246307373
         ]
        },
        {
         "line": {
          "color": "DarkSlateGrey",
          "width": 2
         },
         "marker": {
          "color": [
           0.89632,
           0.893616,
           0.096335,
           1
          ],
          "size": 9
         },
         "mode": "markers",
         "name": "and",
         "text": [
          "and"
         ],
         "type": "scatter",
         "x": [
          -0.47836413979530334
         ],
         "y": [
          2.553701162338257
         ]
        },
        {
         "line": {
          "color": "DarkSlateGrey",
          "width": 2
         },
         "marker": {
          "color": [
           0.283197,
           0.11568,
           0.436115,
           1
          ],
          "size": 9
         },
         "mode": "markers",
         "name": "mathematics",
         "text": [
          "mathematics"
         ],
         "type": "scatter",
         "x": [
          6.924533843994141
         ],
         "y": [
          21.931840896606445
         ]
        },
        {
         "line": {
          "color": "DarkSlateGrey",
          "width": 2
         },
         "marker": {
          "color": [
           0.281924,
           0.089666,
           0.412415,
           1
          ],
          "size": 9
         },
         "mode": "markers",
         "name": "stem",
         "text": [
          "stem"
         ],
         "type": "scatter",
         "x": [
          -7.647602081298828
         ],
         "y": [
          4.154447555541992
         ]
        },
        {
         "line": {
          "color": "DarkSlateGrey",
          "width": 2
         },
         "marker": {
          "color": [
           0.993248,
           0.906157,
           0.143936,
           1
          ],
          "size": 9
         },
         "mode": "markers",
         "name": "contributions",
         "text": [
          "contributions"
         ],
         "type": "scatter",
         "x": [
          -1.1782395839691162
         ],
         "y": [
          10.940089225769043
         ]
        },
        {
         "line": {
          "color": "DarkSlateGrey",
          "width": 2
         },
         "marker": {
          "color": [
           0.993248,
           0.906157,
           0.143936,
           1
          ],
          "size": 9
         },
         "mode": "markers",
         "name": "credit",
         "text": [
          "credit"
         ],
         "type": "scatter",
         "x": [
          -0.6178295612335205
         ],
         "y": [
          9.668279647827148
         ]
        },
        {
         "line": {
          "color": "DarkSlateGrey",
          "width": 2
         },
         "marker": {
          "color": [
           0.993248,
           0.906157,
           0.143936,
           1
          ],
          "size": 9
         },
         "mode": "markers",
         "name": "determined",
         "text": [
          "determined"
         ],
         "type": "scatter",
         "x": [
          -0.02481619082391262
         ],
         "y": [
          9.286799430847168
         ]
        },
        {
         "line": {
          "color": "DarkSlateGrey",
          "width": 2
         },
         "marker": {
          "color": [
           0.377779,
           0.791781,
           0.377939,
           1
          ],
          "size": 9
         },
         "mode": "markers",
         "name": "under",
         "text": [
          "under"
         ],
         "type": "scatter",
         "x": [
          -0.3831515312194824
         ],
         "y": [
          7.377286911010742
         ]
        },
        {
         "line": {
          "color": "DarkSlateGrey",
          "width": 2
         },
         "marker": {
          "color": [
           0.335885,
           0.777018,
           0.402049,
           1
          ],
          "size": 9
         },
         "mode": "markers",
         "name": "section",
         "text": [
          "section"
         ],
         "type": "scatter",
         "x": [
          -2.3308959007263184
         ],
         "y": [
          7.053689002990723
         ]
        },
        {
         "line": {
          "color": "DarkSlateGrey",
          "width": 2
         },
         "marker": {
          "color": [
           0.993248,
           0.906157,
           0.143936,
           1
          ],
          "size": 9
         },
         "mode": "markers",
         "name": "##o",
         "text": [
          "##o"
         ],
         "type": "scatter",
         "x": [
          7.576796531677246
         ],
         "y": [
          8.12161922454834
         ]
        },
        {
         "line": {
          "color": "DarkSlateGrey",
          "width": 2
         },
         "marker": {
          "color": [
           0.626579,
           0.854645,
           0.223353,
           1
          ],
          "size": 9
         },
         "mode": "markers",
         "name": "the",
         "text": [
          "the"
         ],
         "type": "scatter",
         "x": [
          -0.3342894911766052
         ],
         "y": [
          8.12243366241455
         ]
        },
        {
         "line": {
          "color": "DarkSlateGrey",
          "width": 2
         },
         "marker": {
          "color": [
           0.993248,
           0.906157,
           0.143936,
           1
          ],
          "size": 9
         },
         "mode": "markers",
         "name": "table",
         "text": [
          "table"
         ],
         "type": "scatter",
         "x": [
          -0.5420742034912109
         ],
         "y": [
          8.664782524108887
         ]
        },
        {
         "line": {
          "color": "DarkSlateGrey",
          "width": 2
         },
         "marker": {
          "color": [
           0.993248,
           0.906157,
           0.143936,
           1
          ],
          "size": 9
         },
         "mode": "markers",
         "name": "sections",
         "text": [
          "sections"
         ],
         "type": "scatter",
         "x": [
          -1.9171910285949707
         ],
         "y": [
          6.927945613861084
         ]
        },
        {
         "line": {
          "color": "DarkSlateGrey",
          "width": 2
         },
         "marker": {
          "color": [
           0.993248,
           0.906157,
           0.143936,
           1
          ],
          "size": 9
         },
         "mode": "markers",
         "name": "for",
         "text": [
          "for"
         ],
         "type": "scatter",
         "x": [
          0.9279763698577881
         ],
         "y": [
          8.524581909179688
         ]
        },
        {
         "line": {
          "color": "DarkSlateGrey",
          "width": 2
         },
         "marker": {
          "color": [
           0.993248,
           0.906157,
           0.143936,
           1
          ],
          "size": 9
         },
         "mode": "markers",
         "name": "sub",
         "text": [
          "sub"
         ],
         "type": "scatter",
         "x": [
          -1.8540459871292114
         ],
         "y": [
          7.37742805480957
         ]
        },
        {
         "line": {
          "color": "DarkSlateGrey",
          "width": 2
         },
         "marker": {
          "color": [
           0.993248,
           0.906157,
           0.143936,
           1
          ],
          "size": 9
         },
         "mode": "markers",
         "name": "##par",
         "text": [
          "##par"
         ],
         "type": "scatter",
         "x": [
          -1.8100061416625977
         ],
         "y": [
          7.653427600860596
         ]
        },
        {
         "line": {
          "color": "DarkSlateGrey",
          "width": 2
         },
         "marker": {
          "color": [
           0.993248,
           0.906157,
           0.143936,
           1
          ],
          "size": 9
         },
         "mode": "markers",
         "name": "##t",
         "text": [
          "##t"
         ],
         "type": "scatter",
         "x": [
          -1.731793761253357
         ],
         "y": [
          7.479592323303223
         ]
        },
        {
         "line": {
          "color": "DarkSlateGrey",
          "width": 2
         },
         "marker": {
          "color": [
           0.335885,
           0.777018,
           0.402049,
           1
          ],
          "size": 9
         },
         "mode": "markers",
         "name": "part",
         "text": [
          "part"
         ],
         "type": "scatter",
         "x": [
          -2.1232547760009766
         ],
         "y": [
          7.269443511962891
         ]
        },
        {
         "line": {
          "color": "DarkSlateGrey",
          "width": 2
         },
         "marker": {
          "color": [
           0.993248,
           0.906157,
           0.143936,
           1
          ],
          "size": 9
         },
         "mode": "markers",
         "name": "sub",
         "text": [
          "sub"
         ],
         "type": "scatter",
         "x": [
          -1.8334211111068726
         ],
         "y": [
          7.446409225463867
         ]
        },
        {
         "line": {
          "color": "DarkSlateGrey",
          "width": 2
         },
         "marker": {
          "color": [
           0.993248,
           0.906157,
           0.143936,
           1
          ],
          "size": 9
         },
         "mode": "markers",
         "name": "##cha",
         "text": [
          "##cha"
         ],
         "type": "scatter",
         "x": [
          -1.8511393070220947
         ],
         "y": [
          8.086977005004883
         ]
        },
        {
         "line": {
          "color": "DarkSlateGrey",
          "width": 2
         },
         "marker": {
          "color": [
           0.993248,
           0.906157,
           0.143936,
           1
          ],
          "size": 9
         },
         "mode": "markers",
         "name": "##pt",
         "text": [
          "##pt"
         ],
         "type": "scatter",
         "x": [
          -1.862926959991455
         ],
         "y": [
          7.926209926605225
         ]
        },
        {
         "line": {
          "color": "DarkSlateGrey",
          "width": 2
         },
         "marker": {
          "color": [
           0.993248,
           0.906157,
           0.143936,
           1
          ],
          "size": 9
         },
         "mode": "markers",
         "name": "##er",
         "text": [
          "##er"
         ],
         "type": "scatter",
         "x": [
          -1.8110915422439575
         ],
         "y": [
          7.477522373199463
         ]
        },
        {
         "line": {
          "color": "DarkSlateGrey",
          "width": 2
         },
         "marker": {
          "color": [
           0.335885,
           0.777018,
           0.402049,
           1
          ],
          "size": 9
         },
         "mode": "markers",
         "name": "chapter",
         "text": [
          "chapter"
         ],
         "type": "scatter",
         "x": [
          -2.238121747970581
         ],
         "y": [
          7.0412468910217285
         ]
        },
        {
         "line": {
          "color": "DarkSlateGrey",
          "width": 2
         },
         "marker": {
          "color": [
           0.130067,
           0.651384,
           0.521608,
           1
          ],
          "size": 9
         },
         "mode": "markers",
         "name": "such",
         "text": [
          "such"
         ],
         "type": "scatter",
         "x": [
          5.351822376251221
         ],
         "y": [
          12.319960594177246
         ]
        },
        {
         "line": {
          "color": "DarkSlateGrey",
          "width": 2
         },
         "marker": {
          "color": [
           0.993248,
           0.906157,
           0.143936,
           1
          ],
          "size": 9
         },
         "mode": "markers",
         "name": "code",
         "text": [
          "code"
         ],
         "type": "scatter",
         "x": [
          -2.1349692344665527
         ],
         "y": [
          6.856093883514404
         ]
        },
        {
         "line": {
          "color": "DarkSlateGrey",
          "width": 2
         },
         "marker": {
          "color": [
           0.993248,
           0.906157,
           0.143936,
           1
          ],
          "size": 9
         },
         "mode": "markers",
         "name": "amended",
         "text": [
          "amended"
         ],
         "type": "scatter",
         "x": [
          -1.3548250198364258
         ],
         "y": [
          6.563825607299805
         ]
        },
        {
         "line": {
          "color": "DarkSlateGrey",
          "width": 2
         },
         "marker": {
          "color": [
           0.993248,
           0.906157,
           0.143936,
           1
          ],
          "size": 9
         },
         "mode": "markers",
         "name": "adding",
         "text": [
          "adding"
         ],
         "type": "scatter",
         "x": [
          -1.1050705909729004
         ],
         "y": [
          6.607059955596924
         ]
        },
        {
         "line": {
          "color": "DarkSlateGrey",
          "width": 2
         },
         "marker": {
          "color": [
           0.993248,
           0.906157,
           0.143936,
           1
          ],
          "size": 9
         },
         "mode": "markers",
         "name": "the",
         "text": [
          "the"
         ],
         "type": "scatter",
         "x": [
          -1.2347915172576904
         ],
         "y": [
          7.039490699768066
         ]
        },
        {
         "line": {
          "color": "DarkSlateGrey",
          "width": 2
         },
         "marker": {
          "color": [
           0.993248,
           0.906157,
           0.143936,
           1
          ],
          "size": 9
         },
         "mode": "markers",
         "name": "end",
         "text": [
          "end"
         ],
         "type": "scatter",
         "x": [
          -1.4191135168075562
         ],
         "y": [
          7.461902141571045
         ]
        },
        {
         "line": {
          "color": "DarkSlateGrey",
          "width": 2
         },
         "marker": {
          "color": [
           0.993248,
           0.906157,
           0.143936,
           1
          ],
          "size": 9
         },
         "mode": "markers",
         "name": "the",
         "text": [
          "the"
         ],
         "type": "scatter",
         "x": [
          -1.1614727973937988
         ],
         "y": [
          6.960113048553467
         ]
        },
        {
         "line": {
          "color": "DarkSlateGrey",
          "width": 2
         },
         "marker": {
          "color": [
           0.993248,
           0.906157,
           0.143936,
           1
          ],
          "size": 9
         },
         "mode": "markers",
         "name": "following",
         "text": [
          "following"
         ],
         "type": "scatter",
         "x": [
          -1.358196496963501
         ],
         "y": [
          6.0926194190979
         ]
        },
        {
         "line": {
          "color": "DarkSlateGrey",
          "width": 2
         },
         "marker": {
          "color": [
           0.993248,
           0.906157,
           0.143936,
           1
          ],
          "size": 9
         },
         "mode": "markers",
         "name": "new",
         "text": [
          "new"
         ],
         "type": "scatter",
         "x": [
          -1.3341479301452637
         ],
         "y": [
          6.540200710296631
         ]
        },
        {
         "line": {
          "color": "DarkSlateGrey",
          "width": 2
         },
         "marker": {
          "color": [
           0.993248,
           0.906157,
           0.143936,
           1
          ],
          "size": 9
         },
         "mode": "markers",
         "name": "item",
         "text": [
          "item"
         ],
         "type": "scatter",
         "x": [
          -2.274564743041992
         ],
         "y": [
          6.866333961486816
         ]
        },
        {
         "line": {
          "color": "DarkSlateGrey",
          "width": 2
         },
         "marker": {
          "color": [
           0.993248,
           0.906157,
           0.143936,
           1
          ],
          "size": 9
         },
         "mode": "markers",
         "name": "sec",
         "text": [
          "sec"
         ],
         "type": "scatter",
         "x": [
          -2.367210626602173
         ],
         "y": [
          7.095195293426514
         ]
        },
        {
         "line": {
          "color": "DarkSlateGrey",
          "width": 2
         },
         "marker": {
          "color": [
           0.993248,
           0.906157,
           0.143936,
           1
          ],
          "size": 9
         },
         "mode": "markers",
         "name": "##o",
         "text": [
          "##o"
         ],
         "type": "scatter",
         "x": [
          7.549436092376709
         ],
         "y": [
          8.138676643371582
         ]
        },
        {
         "line": {
          "color": "DarkSlateGrey",
          "width": 2
         },
         "marker": {
          "color": [
           0.223925,
           0.334994,
           0.548053,
           1
          ],
          "size": 9
         },
         "mode": "markers",
         "name": "contributions",
         "text": [
          "contributions"
         ],
         "type": "scatter",
         "x": [
          -1.1136137247085571
         ],
         "y": [
          10.892297744750977
         ]
        },
        {
         "line": {
          "color": "DarkSlateGrey",
          "width": 2
         },
         "marker": {
          "color": [
           0.993248,
           0.906157,
           0.143936,
           1
          ],
          "size": 9
         },
         "mode": "markers",
         "name": "benefit",
         "text": [
          "benefit"
         ],
         "type": "scatter",
         "x": [
          0.5830612778663635
         ],
         "y": [
          9.998014450073242
         ]
        },
        {
         "line": {
          "color": "DarkSlateGrey",
          "width": 2
         },
         "marker": {
          "color": [
           0.993248,
           0.906157,
           0.143936,
           1
          ],
          "size": 9
         },
         "mode": "markers",
         "name": "##ing",
         "text": [
          "##ing"
         ],
         "type": "scatter",
         "x": [
          1.3124809265136719
         ],
         "y": [
          9.779243469238281
         ]
        },
        {
         "line": {
          "color": "DarkSlateGrey",
          "width": 2
         },
         "marker": {
          "color": [
           0.279574,
           0.170599,
           0.479997,
           1
          ],
          "size": 9
         },
         "mode": "markers",
         "name": "science",
         "text": [
          "science"
         ],
         "type": "scatter",
         "x": [
          4.602283000946045
         ],
         "y": [
          -8.335081100463867
         ]
        },
        {
         "line": {
          "color": "DarkSlateGrey",
          "width": 2
         },
         "marker": {
          "color": [
           0.275191,
           0.194905,
           0.496005,
           1
          ],
          "size": 9
         },
         "mode": "markers",
         "name": "technology",
         "text": [
          "technology"
         ],
         "type": "scatter",
         "x": [
          14.853642463684082
         ],
         "y": [
          10.922006607055664
         ]
        },
        {
         "line": {
          "color": "DarkSlateGrey",
          "width": 2
         },
         "marker": {
          "color": [
           0.28229,
           0.145912,
           0.46151,
           1
          ],
          "size": 9
         },
         "mode": "markers",
         "name": "engineering",
         "text": [
          "engineering"
         ],
         "type": "scatter",
         "x": [
          14.69265365600586
         ],
         "y": [
          12.091368675231934
         ]
        },
        {
         "line": {
          "color": "DarkSlateGrey",
          "width": 2
         },
         "marker": {
          "color": [
           0.993248,
           0.906157,
           0.143936,
           1
          ],
          "size": 9
         },
         "mode": "markers",
         "name": "and",
         "text": [
          "and"
         ],
         "type": "scatter",
         "x": [
          -0.44283100962638855
         ],
         "y": [
          2.5987746715545654
         ]
        },
        {
         "line": {
          "color": "DarkSlateGrey",
          "width": 2
         },
         "marker": {
          "color": [
           0.283197,
           0.11568,
           0.436115,
           1
          ],
          "size": 9
         },
         "mode": "markers",
         "name": "mathematics",
         "text": [
          "mathematics"
         ],
         "type": "scatter",
         "x": [
          6.935855388641357
         ],
         "y": [
          21.94574546813965
         ]
        },
        {
         "line": {
          "color": "DarkSlateGrey",
          "width": 2
         },
         "marker": {
          "color": [
           0.153364,
           0.497,
           0.557724,
           1
          ],
          "size": 9
         },
         "mode": "markers",
         "name": "education",
         "text": [
          "education"
         ],
         "type": "scatter",
         "x": [
          1.8726303577423096
         ],
         "y": [
          12.189933776855469
         ]
        },
        {
         "line": {
          "color": "DarkSlateGrey",
          "width": 2
         },
         "marker": {
          "color": [
           0.993248,
           0.906157,
           0.143936,
           1
          ],
          "size": 9
         },
         "mode": "markers",
         "name": "the",
         "text": [
          "the"
         ],
         "type": "scatter",
         "x": [
          2.501145362854004
         ],
         "y": [
          8.991922378540039
         ]
        },
        {
         "line": {
          "color": "DarkSlateGrey",
          "width": 2
         },
         "marker": {
          "color": [
           0.160665,
           0.47854,
           0.558115,
           1
          ],
          "size": 9
         },
         "mode": "markers",
         "name": "elementary",
         "text": [
          "elementary"
         ],
         "type": "scatter",
         "x": [
          2.693747043609619
         ],
         "y": [
          12.879802703857422
         ]
        },
        {
         "line": {
          "color": "DarkSlateGrey",
          "width": 2
         },
         "marker": {
          "color": [
           0.993248,
           0.906157,
           0.143936,
           1
          ],
          "size": 9
         },
         "mode": "markers",
         "name": "and",
         "text": [
          "and"
         ],
         "type": "scatter",
         "x": [
          -0.4691820740699768
         ],
         "y": [
          2.69850754737854
         ]
        },
        {
         "line": {
          "color": "DarkSlateGrey",
          "width": 2
         },
         "marker": {
          "color": [
           0.160665,
           0.47854,
           0.558115,
           1
          ],
          "size": 9
         },
         "mode": "markers",
         "name": "secondary",
         "text": [
          "secondary"
         ],
         "type": "scatter",
         "x": [
          2.716519832611084
         ],
         "y": [
          12.93211841583252
         ]
        },
        {
         "line": {
          "color": "DarkSlateGrey",
          "width": 2
         },
         "marker": {
          "color": [
           0.153364,
           0.497,
           0.557724,
           1
          ],
          "size": 9
         },
         "mode": "markers",
         "name": "school",
         "text": [
          "school"
         ],
         "type": "scatter",
         "x": [
          2.2443838119506836
         ],
         "y": [
          12.134490013122559
         ]
        },
        {
         "line": {
          "color": "DarkSlateGrey",
          "width": 2
         },
         "marker": {
          "color": [
           0.993248,
           0.906157,
           0.143936,
           1
          ],
          "size": 9
         },
         "mode": "markers",
         "name": "level",
         "text": [
          "level"
         ],
         "type": "scatter",
         "x": [
          2.173790454864502
         ],
         "y": [
          11.858798027038574
         ]
        },
        {
         "line": {
          "color": "DarkSlateGrey",
          "width": 2
         },
         "marker": {
          "color": [
           0.993248,
           0.906157,
           0.143936,
           1
          ],
          "size": 9
         },
         "mode": "markers",
         "name": "effective",
         "text": [
          "effective"
         ],
         "type": "scatter",
         "x": [
          -1.1322776079177856
         ],
         "y": [
          8.300238609313965
         ]
        },
        {
         "line": {
          "color": "DarkSlateGrey",
          "width": 2
         },
         "marker": {
          "color": [
           0.993248,
           0.906157,
           0.143936,
           1
          ],
          "size": 9
         },
         "mode": "markers",
         "name": "date",
         "text": [
          "date"
         ],
         "type": "scatter",
         "x": [
          -1.0931538343429565
         ],
         "y": [
          8.601031303405762
         ]
        },
        {
         "line": {
          "color": "DarkSlateGrey",
          "width": 2
         },
         "marker": {
          "color": [
           0.575563,
           0.844566,
           0.256415,
           1
          ],
          "size": 9
         },
         "mode": "markers",
         "name": "the",
         "text": [
          "the"
         ],
         "type": "scatter",
         "x": [
          -0.3371211290359497
         ],
         "y": [
          8.124687194824219
         ]
        },
        {
         "line": {
          "color": "DarkSlateGrey",
          "width": 2
         },
         "marker": {
          "color": [
           0.993248,
           0.906157,
           0.143936,
           1
          ],
          "size": 9
         },
         "mode": "markers",
         "name": "amendments",
         "text": [
          "amendments"
         ],
         "type": "scatter",
         "x": [
          -1.4577566385269165
         ],
         "y": [
          6.692836761474609
         ]
        },
        {
         "line": {
          "color": "DarkSlateGrey",
          "width": 2
         },
         "marker": {
          "color": [
           0.993248,
           0.906157,
           0.143936,
           1
          ],
          "size": 9
         },
         "mode": "markers",
         "name": "made",
         "text": [
          "made"
         ],
         "type": "scatter",
         "x": [
          -0.3403487801551819
         ],
         "y": [
          8.090197563171387
         ]
        },
        {
         "line": {
          "color": "DarkSlateGrey",
          "width": 2
         },
         "marker": {
          "color": [
           0.19109,
           0.708366,
           0.482284,
           1
          ],
          "size": 9
         },
         "mode": "markers",
         "name": "this",
         "text": [
          "this"
         ],
         "type": "scatter",
         "x": [
          -1.3805030584335327
         ],
         "y": [
          5.982090473175049
         ]
        },
        {
         "line": {
          "color": "DarkSlateGrey",
          "width": 2
         },
         "marker": {
          "color": [
           0.335885,
           0.777018,
           0.402049,
           1
          ],
          "size": 9
         },
         "mode": "markers",
         "name": "section",
         "text": [
          "section"
         ],
         "type": "scatter",
         "x": [
          -2.158501386642456
         ],
         "y": [
          6.775454521179199
         ]
        },
        {
         "line": {
          "color": "DarkSlateGrey",
          "width": 2
         },
         "marker": {
          "color": [
           0.993248,
           0.906157,
           0.143936,
           1
          ],
          "size": 9
         },
         "mode": "markers",
         "name": "shall",
         "text": [
          "shall"
         ],
         "type": "scatter",
         "x": [
          0.28669244050979614
         ],
         "y": [
          8.230178833007812
         ]
        },
        {
         "line": {
          "color": "DarkSlateGrey",
          "width": 2
         },
         "marker": {
          "color": [
           0.993248,
           0.906157,
           0.143936,
           1
          ],
          "size": 9
         },
         "mode": "markers",
         "name": "apply",
         "text": [
          "apply"
         ],
         "type": "scatter",
         "x": [
          -0.00915525108575821
         ],
         "y": [
          8.484855651855469
         ]
        },
        {
         "line": {
          "color": "DarkSlateGrey",
          "width": 2
         },
         "marker": {
          "color": [
           0.993248,
           0.906157,
           0.143936,
           1
          ],
          "size": 9
         },
         "mode": "markers",
         "name": "taxa",
         "text": [
          "taxa"
         ],
         "type": "scatter",
         "x": [
          -1.5953811407089233
         ],
         "y": [
          8.656365394592285
         ]
        },
        {
         "line": {
          "color": "DarkSlateGrey",
          "width": 2
         },
         "marker": {
          "color": [
           0.993248,
           0.906157,
           0.143936,
           1
          ],
          "size": 9
         },
         "mode": "markers",
         "name": "##ble",
         "text": [
          "##ble"
         ],
         "type": "scatter",
         "x": [
          -0.9438536763191223
         ],
         "y": [
          8.96059799194336
         ]
        },
        {
         "line": {
          "color": "DarkSlateGrey",
          "width": 2
         },
         "marker": {
          "color": [
           0.993248,
           0.906157,
           0.143936,
           1
          ],
          "size": 9
         },
         "mode": "markers",
         "name": "years",
         "text": [
          "years"
         ],
         "type": "scatter",
         "x": [
          -0.9299154281616211
         ],
         "y": [
          8.928053855895996
         ]
        },
        {
         "line": {
          "color": "DarkSlateGrey",
          "width": 2
         },
         "marker": {
          "color": [
           0.993248,
           0.906157,
           0.143936,
           1
          ],
          "size": 9
         },
         "mode": "markers",
         "name": "beginning",
         "text": [
          "beginning"
         ],
         "type": "scatter",
         "x": [
          -0.8671635985374451
         ],
         "y": [
          8.78370475769043
         ]
        },
        {
         "line": {
          "color": "DarkSlateGrey",
          "width": 2
         },
         "marker": {
          "color": [
           0.993248,
           0.906157,
           0.143936,
           1
          ],
          "size": 9
         },
         "mode": "markers",
         "name": "after",
         "text": [
          "after"
         ],
         "type": "scatter",
         "x": [
          -1.098557949066162
         ],
         "y": [
          7.978198528289795
         ]
        },
        {
         "line": {
          "color": "DarkSlateGrey",
          "width": 2
         },
         "marker": {
          "color": [
           0.89632,
           0.893616,
           0.096335,
           1
          ],
          "size": 9
         },
         "mode": "markers",
         "name": "the",
         "text": [
          "the"
         ],
         "type": "scatter",
         "x": [
          -2.2999911308288574
         ],
         "y": [
          8.225202560424805
         ]
        },
        {
         "line": {
          "color": "DarkSlateGrey",
          "width": 2
         },
         "marker": {
          "color": [
           0.993248,
           0.906157,
           0.143936,
           1
          ],
          "size": 9
         },
         "mode": "markers",
         "name": "date",
         "text": [
          "date"
         ],
         "type": "scatter",
         "x": [
          -1.1481050252914429
         ],
         "y": [
          7.9435858726501465
         ]
        },
        {
         "line": {
          "color": "DarkSlateGrey",
          "width": 2
         },
         "marker": {
          "color": [
           0.89632,
           0.893616,
           0.096335,
           1
          ],
          "size": 9
         },
         "mode": "markers",
         "name": "the",
         "text": [
          "the"
         ],
         "type": "scatter",
         "x": [
          -2.034358024597168
         ],
         "y": [
          8.115394592285156
         ]
        },
        {
         "line": {
          "color": "DarkSlateGrey",
          "width": 2
         },
         "marker": {
          "color": [
           0.993248,
           0.906157,
           0.143936,
           1
          ],
          "size": 9
         },
         "mode": "markers",
         "name": "enactment",
         "text": [
          "enactment"
         ],
         "type": "scatter",
         "x": [
          -1.251781702041626
         ],
         "y": [
          7.514209270477295
         ]
        },
        {
         "line": {
          "color": "DarkSlateGrey",
          "width": 2
         },
         "marker": {
          "color": [
           0.19109,
           0.708366,
           0.482284,
           1
          ],
          "size": 9
         },
         "mode": "markers",
         "name": "this",
         "text": [
          "this"
         ],
         "type": "scatter",
         "x": [
          -1.37174654006958
         ],
         "y": [
          6.010225772857666
         ]
        },
        {
         "line": {
          "color": "DarkSlateGrey",
          "width": 2
         },
         "marker": {
          "color": [
           0.993248,
           0.906157,
           0.143936,
           1
          ],
          "size": 9
         },
         "mode": "markers",
         "name": "act",
         "text": [
          "act"
         ],
         "type": "scatter",
         "x": [
          -2.011627674102783
         ],
         "y": [
          6.880654335021973
         ]
        },
        {
         "line": {
          "color": "DarkSlateGrey",
          "width": 2
         },
         "marker": {
          "color": "red",
          "size": 9,
          "symbol": "diamond"
         },
         "mode": "markers",
         "name": "national",
         "text": [
          "national"
         ],
         "type": "scatter",
         "x": [
          5.363978385925293
         ],
         "y": [
          -0.2525724768638611
         ]
        },
        {
         "line": {
          "color": "DarkSlateGrey",
          "width": 2
         },
         "marker": {
          "color": "red",
          "size": 9,
          "symbol": "diamond"
         },
         "mode": "markers",
         "name": "science",
         "text": [
          "science"
         ],
         "type": "scatter",
         "x": [
          5.640651226043701
         ],
         "y": [
          -0.42709141969680786
         ]
        },
        {
         "line": {
          "color": "DarkSlateGrey",
          "width": 2
         },
         "marker": {
          "color": "red",
          "size": 9,
          "symbol": "diamond"
         },
         "mode": "markers",
         "name": "education",
         "text": [
          "education"
         ],
         "type": "scatter",
         "x": [
          5.855268955230713
         ],
         "y": [
          -0.39141416549682617
         ]
        },
        {
         "line": {
          "color": "DarkSlateGrey",
          "width": 2
         },
         "marker": {
          "color": "red",
          "size": 9,
          "symbol": "diamond"
         },
         "mode": "markers",
         "name": "tax",
         "text": [
          "tax"
         ],
         "type": "scatter",
         "x": [
          5.348702907562256
         ],
         "y": [
          0.04152708873152733
         ]
        },
        {
         "line": {
          "color": "DarkSlateGrey",
          "width": 2
         },
         "marker": {
          "color": "red",
          "size": 9,
          "symbol": "diamond"
         },
         "mode": "markers",
         "name": "incentive",
         "text": [
          "incentive"
         ],
         "type": "scatter",
         "x": [
          5.060941219329834
         ],
         "y": [
          0.1494850367307663
         ]
        },
        {
         "line": {
          "color": "DarkSlateGrey",
          "width": 2
         },
         "marker": {
          "color": "red",
          "size": 9,
          "symbol": "diamond"
         },
         "mode": "markers",
         "name": "for",
         "text": [
          "for"
         ],
         "type": "scatter",
         "x": [
          5.190621376037598
         ],
         "y": [
          0.5896340012550354
         ]
        },
        {
         "line": {
          "color": "DarkSlateGrey",
          "width": 2
         },
         "marker": {
          "color": "red",
          "size": 9,
          "symbol": "diamond"
         },
         "mode": "markers",
         "name": "businesses",
         "text": [
          "businesses"
         ],
         "type": "scatter",
         "x": [
          5.653001308441162
         ],
         "y": [
          -0.17632147669792175
         ]
        },
        {
         "line": {
          "color": "DarkSlateGrey",
          "width": 2
         },
         "marker": {
          "color": "red",
          "size": 9,
          "symbol": "diamond"
         },
         "mode": "markers",
         "name": "act",
         "text": [
          "act"
         ],
         "type": "scatter",
         "x": [
          4.605982303619385
         ],
         "y": [
          0.12342996150255203
         ]
        },
        {
         "line": {
          "color": "DarkSlateGrey",
          "width": 2
         },
         "marker": {
          "color": "red",
          "size": 9,
          "symbol": "diamond"
         },
         "mode": "markers",
         "name": "2007",
         "text": [
          "2007"
         ],
         "type": "scatter",
         "x": [
          4.766280174255371
         ],
         "y": [
          -0.09100941568613052
         ]
        },
        {
         "line": {
          "color": "DarkSlateGrey",
          "width": 2
         },
         "marker": {
          "color": "red",
          "size": 9,
          "symbol": "diamond"
         },
         "mode": "markers",
         "name": "amend",
         "text": [
          "amend"
         ],
         "type": "scatter",
         "x": [
          4.6718034744262695
         ],
         "y": [
          0.09839006513357162
         ]
        },
        {
         "line": {
          "color": "DarkSlateGrey",
          "width": 2
         },
         "marker": {
          "color": "red",
          "size": 9,
          "symbol": "diamond"
         },
         "mode": "markers",
         "name": "##s",
         "text": [
          "##s"
         ],
         "type": "scatter",
         "x": [
          4.724323749542236
         ],
         "y": [
          0.03271351382136345
         ]
        },
        {
         "line": {
          "color": "DarkSlateGrey",
          "width": 2
         },
         "marker": {
          "color": "red",
          "size": 9,
          "symbol": "diamond"
         },
         "mode": "markers",
         "name": "the",
         "text": [
          "the"
         ],
         "type": "scatter",
         "x": [
          4.8778862953186035
         ],
         "y": [
          0.0780150443315506
         ]
        },
        {
         "line": {
          "color": "DarkSlateGrey",
          "width": 2
         },
         "marker": {
          "color": "red",
          "size": 9,
          "symbol": "diamond"
         },
         "mode": "markers",
         "name": "internal",
         "text": [
          "internal"
         ],
         "type": "scatter",
         "x": [
          5.209235668182373
         ],
         "y": [
          -0.08941031247377396
         ]
        },
        {
         "line": {
          "color": "DarkSlateGrey",
          "width": 2
         },
         "marker": {
          "color": "red",
          "size": 9,
          "symbol": "diamond"
         },
         "mode": "markers",
         "name": "revenue",
         "text": [
          "revenue"
         ],
         "type": "scatter",
         "x": [
          5.315600872039795
         ],
         "y": [
          -0.021119149401783943
         ]
        },
        {
         "line": {
          "color": "DarkSlateGrey",
          "width": 2
         },
         "marker": {
          "color": "red",
          "size": 9,
          "symbol": "diamond"
         },
         "mode": "markers",
         "name": "code",
         "text": [
          "code"
         ],
         "type": "scatter",
         "x": [
          4.991426467895508
         ],
         "y": [
          0.028710780665278435
         ]
        },
        {
         "line": {
          "color": "DarkSlateGrey",
          "width": 2
         },
         "marker": {
          "color": "red",
          "size": 9,
          "symbol": "diamond"
         },
         "mode": "markers",
         "name": "allow",
         "text": [
          "allow"
         ],
         "type": "scatter",
         "x": [
          4.98219633102417
         ],
         "y": [
          0.23443089425563812
         ]
        },
        {
         "line": {
          "color": "DarkSlateGrey",
          "width": 2
         },
         "marker": {
          "color": "red",
          "size": 9,
          "symbol": "diamond"
         },
         "mode": "markers",
         "name": "general",
         "text": [
          "general"
         ],
         "type": "scatter",
         "x": [
          5.584290504455566
         ],
         "y": [
          0.1330828070640564
         ]
        },
        {
         "line": {
          "color": "DarkSlateGrey",
          "width": 2
         },
         "marker": {
          "color": "red",
          "size": 9,
          "symbol": "diamond"
         },
         "mode": "markers",
         "name": "business",
         "text": [
          "business"
         ],
         "type": "scatter",
         "x": [
          5.7272796630859375
         ],
         "y": [
          -0.08136338740587234
         ]
        },
        {
         "line": {
          "color": "DarkSlateGrey",
          "width": 2
         },
         "marker": {
          "color": "red",
          "size": 9,
          "symbol": "diamond"
         },
         "mode": "markers",
         "name": "tax",
         "text": [
          "tax"
         ],
         "type": "scatter",
         "x": [
          5.368460178375244
         ],
         "y": [
          0.14779630303382874
         ]
        },
        {
         "line": {
          "color": "DarkSlateGrey",
          "width": 2
         },
         "marker": {
          "color": "red",
          "size": 9,
          "symbol": "diamond"
         },
         "mode": "markers",
         "name": "credit",
         "text": [
          "credit"
         ],
         "type": "scatter",
         "x": [
          5.24810266494751
         ],
         "y": [
          0.30463138222694397
         ]
        },
        {
         "line": {
          "color": "DarkSlateGrey",
          "width": 2
         },
         "marker": {
          "color": "red",
          "size": 9,
          "symbol": "diamond"
         },
         "mode": "markers",
         "name": "for",
         "text": [
          "for"
         ],
         "type": "scatter",
         "x": [
          5.430105209350586
         ],
         "y": [
          0.5850144624710083
         ]
        },
        {
         "line": {
          "color": "DarkSlateGrey",
          "width": 2
         },
         "marker": {
          "color": "red",
          "size": 9,
          "symbol": "diamond"
         },
         "mode": "markers",
         "name": "contributions",
         "text": [
          "contributions"
         ],
         "type": "scatter",
         "x": [
          5.655284404754639
         ],
         "y": [
          0.352210134267807
         ]
        },
        {
         "line": {
          "color": "DarkSlateGrey",
          "width": 2
         },
         "marker": {
          "color": "red",
          "size": 9,
          "symbol": "diamond"
         },
         "mode": "markers",
         "name": "property",
         "text": [
          "property"
         ],
         "type": "scatter",
         "x": [
          6.000591278076172
         ],
         "y": [
          0.2181864082813263
         ]
        },
        {
         "line": {
          "color": "DarkSlateGrey",
          "width": 2
         },
         "marker": {
          "color": "red",
          "size": 9,
          "symbol": "diamond"
         },
         "mode": "markers",
         "name": "services",
         "text": [
          "services"
         ],
         "type": "scatter",
         "x": [
          5.9804816246032715
         ],
         "y": [
          -0.011346559040248394
         ]
        },
        {
         "line": {
          "color": "DarkSlateGrey",
          "width": 2
         },
         "marker": {
          "color": "red",
          "size": 9,
          "symbol": "diamond"
         },
         "mode": "markers",
         "name": "elementary",
         "text": [
          "elementary"
         ],
         "type": "scatter",
         "x": [
          5.920621395111084
         ],
         "y": [
          -0.4036730229854584
         ]
        },
        {
         "line": {
          "color": "DarkSlateGrey",
          "width": 2
         },
         "marker": {
          "color": "red",
          "size": 9,
          "symbol": "diamond"
         },
         "mode": "markers",
         "name": "and",
         "text": [
          "and"
         ],
         "type": "scatter",
         "x": [
          3.5909368991851807
         ],
         "y": [
          5.8909502029418945
         ]
        },
        {
         "line": {
          "color": "DarkSlateGrey",
          "width": 2
         },
         "marker": {
          "color": "red",
          "size": 9,
          "symbol": "diamond"
         },
         "mode": "markers",
         "name": "secondary",
         "text": [
          "secondary"
         ],
         "type": "scatter",
         "x": [
          6.050533294677734
         ],
         "y": [
          -0.43835344910621643
         ]
        },
        {
         "line": {
          "color": "DarkSlateGrey",
          "width": 2
         },
         "marker": {
          "color": "red",
          "size": 9,
          "symbol": "diamond"
         },
         "mode": "markers",
         "name": "schools",
         "text": [
          "schools"
         ],
         "type": "scatter",
         "x": [
          5.981792449951172
         ],
         "y": [
          -0.3982224762439728
         ]
        },
        {
         "line": {
          "color": "DarkSlateGrey",
          "width": 2
         },
         "marker": {
          "color": "red",
          "size": 9,
          "symbol": "diamond"
         },
         "mode": "markers",
         "name": "and",
         "text": [
          "and"
         ],
         "type": "scatter",
         "x": [
          5.288118362426758
         ],
         "y": [
          -3.191215753555298
         ]
        },
        {
         "line": {
          "color": "DarkSlateGrey",
          "width": 2
         },
         "marker": {
          "color": "red",
          "size": 9,
          "symbol": "diamond"
         },
         "mode": "markers",
         "name": "for",
         "text": [
          "for"
         ],
         "type": "scatter",
         "x": [
          5.192712783813477
         ],
         "y": [
          0.7411113977432251
         ]
        },
        {
         "line": {
          "color": "DarkSlateGrey",
          "width": 2
         },
         "marker": {
          "color": "red",
          "size": 9,
          "symbol": "diamond"
         },
         "mode": "markers",
         "name": "teacher",
         "text": [
          "teacher"
         ],
         "type": "scatter",
         "x": [
          5.927002906799316
         ],
         "y": [
          -0.5042708516120911
         ]
        },
        {
         "line": {
          "color": "DarkSlateGrey",
          "width": 2
         },
         "marker": {
          "color": "red",
          "size": 9,
          "symbol": "diamond"
         },
         "mode": "markers",
         "name": "training",
         "text": [
          "training"
         ],
         "type": "scatter",
         "x": [
          5.8642988204956055
         ],
         "y": [
          -0.5338406562805176
         ]
        },
        {
         "line": {
          "color": "DarkSlateGrey",
          "width": 2
         },
         "marker": {
          "color": "red",
          "size": 9,
          "symbol": "diamond"
         },
         "mode": "markers",
         "name": "promote",
         "text": [
          "promote"
         ],
         "type": "scatter",
         "x": [
          5.692939758300781
         ],
         "y": [
          -0.10642178356647491
         ]
        },
        {
         "line": {
          "color": "DarkSlateGrey",
          "width": 2
         },
         "marker": {
          "color": "red",
          "size": 9,
          "symbol": "diamond"
         },
         "mode": "markers",
         "name": "instruction",
         "text": [
          "instruction"
         ],
         "type": "scatter",
         "x": [
          5.8881659507751465
         ],
         "y": [
          -0.5148459672927856
         ]
        },
        {
         "line": {
          "color": "DarkSlateGrey",
          "width": 2
         },
         "marker": {
          "color": "red",
          "size": 9,
          "symbol": "diamond"
         },
         "mode": "markers",
         "name": "science",
         "text": [
          "science"
         ],
         "type": "scatter",
         "x": [
          5.9124603271484375
         ],
         "y": [
          -0.6146414279937744
         ]
        },
        {
         "line": {
          "color": "DarkSlateGrey",
          "width": 2
         },
         "marker": {
          "color": "red",
          "size": 9,
          "symbol": "diamond"
         },
         "mode": "markers",
         "name": "technology",
         "text": [
          "technology"
         ],
         "type": "scatter",
         "x": [
          5.930054664611816
         ],
         "y": [
          -0.6299617290496826
         ]
        },
        {
         "line": {
          "color": "DarkSlateGrey",
          "width": 2
         },
         "marker": {
          "color": "red",
          "size": 9,
          "symbol": "diamond"
         },
         "mode": "markers",
         "name": "engineering",
         "text": [
          "engineering"
         ],
         "type": "scatter",
         "x": [
          5.901739120483398
         ],
         "y": [
          -0.620373547077179
         ]
        },
        {
         "line": {
          "color": "DarkSlateGrey",
          "width": 2
         },
         "marker": {
          "color": "red",
          "size": 9,
          "symbol": "diamond"
         },
         "mode": "markers",
         "name": "mathematics",
         "text": [
          "mathematics"
         ],
         "type": "scatter",
         "x": [
          5.912266731262207
         ],
         "y": [
          -0.5989581942558289
         ]
        }
       ],
       "layout": {
        "scene": {
         "xaxis": {
          "title": {
           "text": "X"
          }
         },
         "yaxis": {
          "title": {
           "text": "Y"
          }
         }
        },
        "template": {
         "data": {
          "bar": [
           {
            "error_x": {
             "color": "#2a3f5f"
            },
            "error_y": {
             "color": "#2a3f5f"
            },
            "marker": {
             "line": {
              "color": "#E5ECF6",
              "width": 0.5
             },
             "pattern": {
              "fillmode": "overlay",
              "size": 10,
              "solidity": 0.2
             }
            },
            "type": "bar"
           }
          ],
          "barpolar": [
           {
            "marker": {
             "line": {
              "color": "#E5ECF6",
              "width": 0.5
             },
             "pattern": {
              "fillmode": "overlay",
              "size": 10,
              "solidity": 0.2
             }
            },
            "type": "barpolar"
           }
          ],
          "carpet": [
           {
            "aaxis": {
             "endlinecolor": "#2a3f5f",
             "gridcolor": "white",
             "linecolor": "white",
             "minorgridcolor": "white",
             "startlinecolor": "#2a3f5f"
            },
            "baxis": {
             "endlinecolor": "#2a3f5f",
             "gridcolor": "white",
             "linecolor": "white",
             "minorgridcolor": "white",
             "startlinecolor": "#2a3f5f"
            },
            "type": "carpet"
           }
          ],
          "choropleth": [
           {
            "colorbar": {
             "outlinewidth": 0,
             "ticks": ""
            },
            "type": "choropleth"
           }
          ],
          "contour": [
           {
            "colorbar": {
             "outlinewidth": 0,
             "ticks": ""
            },
            "colorscale": [
             [
              0,
              "#0d0887"
             ],
             [
              0.1111111111111111,
              "#46039f"
             ],
             [
              0.2222222222222222,
              "#7201a8"
             ],
             [
              0.3333333333333333,
              "#9c179e"
             ],
             [
              0.4444444444444444,
              "#bd3786"
             ],
             [
              0.5555555555555556,
              "#d8576b"
             ],
             [
              0.6666666666666666,
              "#ed7953"
             ],
             [
              0.7777777777777778,
              "#fb9f3a"
             ],
             [
              0.8888888888888888,
              "#fdca26"
             ],
             [
              1,
              "#f0f921"
             ]
            ],
            "type": "contour"
           }
          ],
          "contourcarpet": [
           {
            "colorbar": {
             "outlinewidth": 0,
             "ticks": ""
            },
            "type": "contourcarpet"
           }
          ],
          "heatmap": [
           {
            "colorbar": {
             "outlinewidth": 0,
             "ticks": ""
            },
            "colorscale": [
             [
              0,
              "#0d0887"
             ],
             [
              0.1111111111111111,
              "#46039f"
             ],
             [
              0.2222222222222222,
              "#7201a8"
             ],
             [
              0.3333333333333333,
              "#9c179e"
             ],
             [
              0.4444444444444444,
              "#bd3786"
             ],
             [
              0.5555555555555556,
              "#d8576b"
             ],
             [
              0.6666666666666666,
              "#ed7953"
             ],
             [
              0.7777777777777778,
              "#fb9f3a"
             ],
             [
              0.8888888888888888,
              "#fdca26"
             ],
             [
              1,
              "#f0f921"
             ]
            ],
            "type": "heatmap"
           }
          ],
          "heatmapgl": [
           {
            "colorbar": {
             "outlinewidth": 0,
             "ticks": ""
            },
            "colorscale": [
             [
              0,
              "#0d0887"
             ],
             [
              0.1111111111111111,
              "#46039f"
             ],
             [
              0.2222222222222222,
              "#7201a8"
             ],
             [
              0.3333333333333333,
              "#9c179e"
             ],
             [
              0.4444444444444444,
              "#bd3786"
             ],
             [
              0.5555555555555556,
              "#d8576b"
             ],
             [
              0.6666666666666666,
              "#ed7953"
             ],
             [
              0.7777777777777778,
              "#fb9f3a"
             ],
             [
              0.8888888888888888,
              "#fdca26"
             ],
             [
              1,
              "#f0f921"
             ]
            ],
            "type": "heatmapgl"
           }
          ],
          "histogram": [
           {
            "marker": {
             "pattern": {
              "fillmode": "overlay",
              "size": 10,
              "solidity": 0.2
             }
            },
            "type": "histogram"
           }
          ],
          "histogram2d": [
           {
            "colorbar": {
             "outlinewidth": 0,
             "ticks": ""
            },
            "colorscale": [
             [
              0,
              "#0d0887"
             ],
             [
              0.1111111111111111,
              "#46039f"
             ],
             [
              0.2222222222222222,
              "#7201a8"
             ],
             [
              0.3333333333333333,
              "#9c179e"
             ],
             [
              0.4444444444444444,
              "#bd3786"
             ],
             [
              0.5555555555555556,
              "#d8576b"
             ],
             [
              0.6666666666666666,
              "#ed7953"
             ],
             [
              0.7777777777777778,
              "#fb9f3a"
             ],
             [
              0.8888888888888888,
              "#fdca26"
             ],
             [
              1,
              "#f0f921"
             ]
            ],
            "type": "histogram2d"
           }
          ],
          "histogram2dcontour": [
           {
            "colorbar": {
             "outlinewidth": 0,
             "ticks": ""
            },
            "colorscale": [
             [
              0,
              "#0d0887"
             ],
             [
              0.1111111111111111,
              "#46039f"
             ],
             [
              0.2222222222222222,
              "#7201a8"
             ],
             [
              0.3333333333333333,
              "#9c179e"
             ],
             [
              0.4444444444444444,
              "#bd3786"
             ],
             [
              0.5555555555555556,
              "#d8576b"
             ],
             [
              0.6666666666666666,
              "#ed7953"
             ],
             [
              0.7777777777777778,
              "#fb9f3a"
             ],
             [
              0.8888888888888888,
              "#fdca26"
             ],
             [
              1,
              "#f0f921"
             ]
            ],
            "type": "histogram2dcontour"
           }
          ],
          "mesh3d": [
           {
            "colorbar": {
             "outlinewidth": 0,
             "ticks": ""
            },
            "type": "mesh3d"
           }
          ],
          "parcoords": [
           {
            "line": {
             "colorbar": {
              "outlinewidth": 0,
              "ticks": ""
             }
            },
            "type": "parcoords"
           }
          ],
          "pie": [
           {
            "automargin": true,
            "type": "pie"
           }
          ],
          "scatter": [
           {
            "fillpattern": {
             "fillmode": "overlay",
             "size": 10,
             "solidity": 0.2
            },
            "type": "scatter"
           }
          ],
          "scatter3d": [
           {
            "line": {
             "colorbar": {
              "outlinewidth": 0,
              "ticks": ""
             }
            },
            "marker": {
             "colorbar": {
              "outlinewidth": 0,
              "ticks": ""
             }
            },
            "type": "scatter3d"
           }
          ],
          "scattercarpet": [
           {
            "marker": {
             "colorbar": {
              "outlinewidth": 0,
              "ticks": ""
             }
            },
            "type": "scattercarpet"
           }
          ],
          "scattergeo": [
           {
            "marker": {
             "colorbar": {
              "outlinewidth": 0,
              "ticks": ""
             }
            },
            "type": "scattergeo"
           }
          ],
          "scattergl": [
           {
            "marker": {
             "colorbar": {
              "outlinewidth": 0,
              "ticks": ""
             }
            },
            "type": "scattergl"
           }
          ],
          "scattermapbox": [
           {
            "marker": {
             "colorbar": {
              "outlinewidth": 0,
              "ticks": ""
             }
            },
            "type": "scattermapbox"
           }
          ],
          "scatterpolar": [
           {
            "marker": {
             "colorbar": {
              "outlinewidth": 0,
              "ticks": ""
             }
            },
            "type": "scatterpolar"
           }
          ],
          "scatterpolargl": [
           {
            "marker": {
             "colorbar": {
              "outlinewidth": 0,
              "ticks": ""
             }
            },
            "type": "scatterpolargl"
           }
          ],
          "scatterternary": [
           {
            "marker": {
             "colorbar": {
              "outlinewidth": 0,
              "ticks": ""
             }
            },
            "type": "scatterternary"
           }
          ],
          "surface": [
           {
            "colorbar": {
             "outlinewidth": 0,
             "ticks": ""
            },
            "colorscale": [
             [
              0,
              "#0d0887"
             ],
             [
              0.1111111111111111,
              "#46039f"
             ],
             [
              0.2222222222222222,
              "#7201a8"
             ],
             [
              0.3333333333333333,
              "#9c179e"
             ],
             [
              0.4444444444444444,
              "#bd3786"
             ],
             [
              0.5555555555555556,
              "#d8576b"
             ],
             [
              0.6666666666666666,
              "#ed7953"
             ],
             [
              0.7777777777777778,
              "#fb9f3a"
             ],
             [
              0.8888888888888888,
              "#fdca26"
             ],
             [
              1,
              "#f0f921"
             ]
            ],
            "type": "surface"
           }
          ],
          "table": [
           {
            "cells": {
             "fill": {
              "color": "#EBF0F8"
             },
             "line": {
              "color": "white"
             }
            },
            "header": {
             "fill": {
              "color": "#C8D4E3"
             },
             "line": {
              "color": "white"
             }
            },
            "type": "table"
           }
          ]
         },
         "layout": {
          "annotationdefaults": {
           "arrowcolor": "#2a3f5f",
           "arrowhead": 0,
           "arrowwidth": 1
          },
          "autotypenumbers": "strict",
          "coloraxis": {
           "colorbar": {
            "outlinewidth": 0,
            "ticks": ""
           }
          },
          "colorscale": {
           "diverging": [
            [
             0,
             "#8e0152"
            ],
            [
             0.1,
             "#c51b7d"
            ],
            [
             0.2,
             "#de77ae"
            ],
            [
             0.3,
             "#f1b6da"
            ],
            [
             0.4,
             "#fde0ef"
            ],
            [
             0.5,
             "#f7f7f7"
            ],
            [
             0.6,
             "#e6f5d0"
            ],
            [
             0.7,
             "#b8e186"
            ],
            [
             0.8,
             "#7fbc41"
            ],
            [
             0.9,
             "#4d9221"
            ],
            [
             1,
             "#276419"
            ]
           ],
           "sequential": [
            [
             0,
             "#0d0887"
            ],
            [
             0.1111111111111111,
             "#46039f"
            ],
            [
             0.2222222222222222,
             "#7201a8"
            ],
            [
             0.3333333333333333,
             "#9c179e"
            ],
            [
             0.4444444444444444,
             "#bd3786"
            ],
            [
             0.5555555555555556,
             "#d8576b"
            ],
            [
             0.6666666666666666,
             "#ed7953"
            ],
            [
             0.7777777777777778,
             "#fb9f3a"
            ],
            [
             0.8888888888888888,
             "#fdca26"
            ],
            [
             1,
             "#f0f921"
            ]
           ],
           "sequentialminus": [
            [
             0,
             "#0d0887"
            ],
            [
             0.1111111111111111,
             "#46039f"
            ],
            [
             0.2222222222222222,
             "#7201a8"
            ],
            [
             0.3333333333333333,
             "#9c179e"
            ],
            [
             0.4444444444444444,
             "#bd3786"
            ],
            [
             0.5555555555555556,
             "#d8576b"
            ],
            [
             0.6666666666666666,
             "#ed7953"
            ],
            [
             0.7777777777777778,
             "#fb9f3a"
            ],
            [
             0.8888888888888888,
             "#fdca26"
            ],
            [
             1,
             "#f0f921"
            ]
           ]
          },
          "colorway": [
           "#636efa",
           "#EF553B",
           "#00cc96",
           "#ab63fa",
           "#FFA15A",
           "#19d3f3",
           "#FF6692",
           "#B6E880",
           "#FF97FF",
           "#FECB52"
          ],
          "font": {
           "color": "#2a3f5f"
          },
          "geo": {
           "bgcolor": "white",
           "lakecolor": "white",
           "landcolor": "#E5ECF6",
           "showlakes": true,
           "showland": true,
           "subunitcolor": "white"
          },
          "hoverlabel": {
           "align": "left"
          },
          "hovermode": "closest",
          "mapbox": {
           "style": "light"
          },
          "paper_bgcolor": "white",
          "plot_bgcolor": "#E5ECF6",
          "polar": {
           "angularaxis": {
            "gridcolor": "white",
            "linecolor": "white",
            "ticks": ""
           },
           "bgcolor": "#E5ECF6",
           "radialaxis": {
            "gridcolor": "white",
            "linecolor": "white",
            "ticks": ""
           }
          },
          "scene": {
           "xaxis": {
            "backgroundcolor": "#E5ECF6",
            "gridcolor": "white",
            "gridwidth": 2,
            "linecolor": "white",
            "showbackground": true,
            "ticks": "",
            "zerolinecolor": "white"
           },
           "yaxis": {
            "backgroundcolor": "#E5ECF6",
            "gridcolor": "white",
            "gridwidth": 2,
            "linecolor": "white",
            "showbackground": true,
            "ticks": "",
            "zerolinecolor": "white"
           },
           "zaxis": {
            "backgroundcolor": "#E5ECF6",
            "gridcolor": "white",
            "gridwidth": 2,
            "linecolor": "white",
            "showbackground": true,
            "ticks": "",
            "zerolinecolor": "white"
           }
          },
          "shapedefaults": {
           "line": {
            "color": "#2a3f5f"
           }
          },
          "ternary": {
           "aaxis": {
            "gridcolor": "white",
            "linecolor": "white",
            "ticks": ""
           },
           "baxis": {
            "gridcolor": "white",
            "linecolor": "white",
            "ticks": ""
           },
           "bgcolor": "#E5ECF6",
           "caxis": {
            "gridcolor": "white",
            "linecolor": "white",
            "ticks": ""
           }
          },
          "title": {
           "x": 0.05
          },
          "xaxis": {
           "automargin": true,
           "gridcolor": "white",
           "linecolor": "white",
           "ticks": "",
           "title": {
            "standoff": 15
           },
           "zerolinecolor": "white",
           "zerolinewidth": 2
          },
          "yaxis": {
           "automargin": true,
           "gridcolor": "white",
           "linecolor": "white",
           "ticks": "",
           "title": {
            "standoff": 15
           },
           "zerolinecolor": "white",
           "zerolinewidth": 2
          }
         }
        },
        "title": {
         "text": "2D Scatter Plot"
        }
       }
      }
     },
     "metadata": {},
     "output_type": "display_data"
    }
   ],
   "source": [
    "visualizeCorpus(v, l, vgold, lgold, clabels, dim=2)"
   ]
  },
  {
   "attachments": {},
   "cell_type": "markdown",
   "metadata": {},
   "source": [
    "### Colorize clusters"
   ]
  },
  {
   "cell_type": "code",
   "execution_count": null,
   "metadata": {},
   "outputs": [],
   "source": [
    "a = [\"dd\", \"e\"]"
   ]
  },
  {
   "cell_type": "code",
   "execution_count": null,
   "metadata": {},
   "outputs": [],
   "source": [
    "a != None"
   ]
  }
 ],
 "metadata": {
  "kernelspec": {
   "display_name": ".venv",
   "language": "python",
   "name": "python3"
  },
  "language_info": {
   "codemirror_mode": {
    "name": "ipython",
    "version": 3
   },
   "file_extension": ".py",
   "mimetype": "text/x-python",
   "name": "python",
   "nbconvert_exporter": "python",
   "pygments_lexer": "ipython3",
   "version": "3.11.3"
  },
  "orig_nbformat": 4
 },
 "nbformat": 4,
 "nbformat_minor": 2
}

{
 "cells": [
  {
   "attachments": {},
   "cell_type": "markdown",
   "metadata": {},
   "source": [
    "### Libraries"
   ]
  },
  {
   "cell_type": "code",
   "execution_count": 1,
   "metadata": {},
   "outputs": [],
   "source": [
    "import sys\n",
    "sys.path.append(r\"C:\\Pro\\Stages\\A4 - DVRC\\Work\\Supervised-Learning-using-Unsupervised-Learning-Metrics-in-the-absence-of-Annotated-Data\\myLibraries\")"
   ]
  },
  {
   "cell_type": "code",
   "execution_count": 34,
   "metadata": {},
   "outputs": [],
   "source": [
    "from transformers import BertTokenizer, BertModel\n",
    "import torch\n",
    "from umap import UMAP\n",
    "import plotly.express as px\n",
    "import plotly.graph_objects as go\n",
    "from matplotlib import pyplot as plt\n",
    "import numpy as np\n",
    "import pandas as pd\n",
    "from MARScore.utils import *\n",
    "import hdbscan\n",
    "from custom_score.utils import cleanString "
   ]
  },
  {
   "attachments": {},
   "cell_type": "markdown",
   "metadata": {},
   "source": [
    "### Datasets"
   ]
  },
  {
   "cell_type": "code",
   "execution_count": 3,
   "metadata": {},
   "outputs": [],
   "source": [
    "dataset_url=\"https://drive.google.com/file/d/1Wd0M3qepNF6B4YwFYrpo7CaSERpudAG_/view?usp=share_link\"\n",
    "dataset_url='https://drive.google.com/uc?export=download&id=' + dataset_url.split('/')[-2]\n",
    "dataset = pd.read_json(dataset_url, lines=True)\n",
    "dataset = dataset.loc[:, [\"text\", \"summary\"]]"
   ]
  },
  {
   "attachments": {},
   "cell_type": "markdown",
   "metadata": {},
   "source": [
    "### Corpus embedding"
   ]
  },
  {
   "cell_type": "code",
   "execution_count": null,
   "metadata": {},
   "outputs": [],
   "source": [
    "def tokenizeCorpus(corpus, model=BertModel.from_pretrained('bert-base-uncased', \n",
    "                                                           output_hidden_states=True), \n",
    "                           tokenizer = BertTokenizer.from_pretrained('bert-base-uncased'), \n",
    "                           model_input_size=512):\n",
    "    def flatten(l):\n",
    "        return [item for sublist in l for item in sublist]\n",
    "    input_size = model_input_size - 1\n",
    "    corpusWords = corpus.split(\" \")\n",
    "    splited = [\" \".join(corpusWords[i:i+input_size]) for i in range(0, len(corpusWords), input_size)]\n",
    "\n",
    "    input_ids = []\n",
    "    attention_masks = []\n",
    "    for sentence in splited:\n",
    "        encoded = tokenizer.encode_plus(sentence, \n",
    "                                        add_special_tokens=True,\n",
    "                                        max_length=input_size+1,\n",
    "                                        padding=\"max_length\",\n",
    "                                        return_attention_mask=True,\n",
    "                                        return_tensors='pt',\n",
    "                                        truncation=True)\n",
    "        input_ids.append(encoded[\"input_ids\"])\n",
    "        attention_masks.append(encoded[\"attention_mask\"])\n",
    "\n",
    "    #inputs_ids = torch.Tensor(len(input_ids),1, max_len+1)\n",
    "    #torch.cat(input_ids, out=inputs_ids)\n",
    "    inputs_ids = torch.cat(input_ids, dim=0)\n",
    "    attention_masks = torch.cat(attention_masks, dim=0)\n",
    "    \n",
    "    temp = flatten([batch.tolist() for batch in input_ids])\n",
    "    labels = np.array(temp)\n",
    "    labels = labels.reshape((labels.shape[0]*labels.shape[1]))\n",
    "    labels = tokenizer.convert_ids_to_tokens(labels)\n",
    "    with torch.no_grad():\n",
    "        output = model(inputs_ids, attention_mask=attention_masks)\n",
    "    return output, labels\n",
    "\n",
    "def vectorizeCorpus(model_output, allStates=True):\n",
    "    if allStates==True:\n",
    "        hidden_states = model_output.hidden_states\n",
    "    else:\n",
    "        hidden_states = [model_output.last_hidden_state]\n",
    "    token_embeddings = torch.stack(hidden_states, dim=0)\n",
    "    token_embeddings = token_embeddings.permute(1,2,0,3)\n",
    "    embs = []\n",
    "    for batch in token_embeddings:\n",
    "        for token in batch:\n",
    "            emb = torch.cat((token[-1], token[-2], token[-3], token[-4]), dim=0)\n",
    "            embs.append(emb)\n",
    "    return embs\n",
    "\n",
    "def visualizeCorpus(embs, labels, embs_gold=None, labels_gold=None, dim=2):\n",
    "    comp_gold = True if embs_gold != None and labels_gold != None else False\n",
    "\n",
    "    formated_embs = [token.tolist() for token in embs]\n",
    "    formated_embs = np.array(formated_embs)\n",
    "    formated_embs_gold = [token.tolist() for token in embs_gold]\n",
    "    formated_embs_gold = np.array(formated_embs_gold)\n",
    "    token_indexes = [i for i in range(len(labels)) if labels[i] != \"[PAD]\" and labels[i] != \"[CLS]\" and labels[i] != \"[SEP]\" and len(labels[i])>2]\n",
    "\n",
    "    if dim == 1:\n",
    "        umap1D = UMAP(n_components=1, init='random', random_state=0)\n",
    "        proj1D = umap1D.fit_transform(formated_embs).T\n",
    "\n",
    "        data = {\"x\": proj1D[0],\n",
    "                \"labels\": labels}\n",
    "        \n",
    "        for k in data.keys():\n",
    "            data[k] = [data[k][i] for i in range(len(data[k])) if i in token_indexes]\n",
    "\n",
    "        if comp_gold:\n",
    "            token_indexes_gold = [i for i in range(len(labels_gold)) if labels_gold[i] != \"[PAD]\" and labels_gold[i] != \"[CLS]\" and labels_gold[i] != \"[SEP]\" and len(labels_gold[i])>2]\n",
    "            proj1D_gold = umap1D.fit_transform(formated_embs_gold).T\n",
    "            data_gold = {\"x\": proj1D_gold[0],\n",
    "                        \"labels\": labels_gold}\n",
    "            for k in data_gold.keys():\n",
    "                data_gold[k] = [data_gold[k][i] for i in range(len(data_gold[k])) if i in token_indexes_gold]\n",
    "\n",
    "        traces = []\n",
    "        for i in range(len(data['x'])):\n",
    "            if comp_gold:\n",
    "                color = 'green' if data[\"labels\"][i] in data_gold[\"labels\"] else 'red'\n",
    "            else:\n",
    "                color = 'red'\n",
    "            trace = go.Scatter(\n",
    "                x=[data['x'][i]],\n",
    "                mode='markers',\n",
    "                marker=dict(size=6, color=color),\n",
    "                text=[data['labels'][i]],\n",
    "                name=data['labels'][i]\n",
    "            )\n",
    "            traces.append(trace)\n",
    "        if comp_gold:\n",
    "            for i in range(len(data_gold['x'])):\n",
    "                trace = go.Scatter(\n",
    "                    x=[data_gold['x'][i]],\n",
    "                    mode='markers',\n",
    "                    marker=dict(size=6, color='gold'),\n",
    "                    text=[data_gold['labels'][i]],\n",
    "                    name=data_gold['labels'][i]\n",
    "                )\n",
    "                traces.append(trace)\n",
    "\n",
    "        layout = go.Layout(\n",
    "            title='1D Scatter Plot',\n",
    "            scene=dict(\n",
    "                xaxis=dict(title='X')\n",
    "            )\n",
    "        )\n",
    "        fig = go.Figure(data=traces, layout=layout)\n",
    "        fig.show()\n",
    "\n",
    "    elif dim == 2:\n",
    "        umap2D = UMAP(n_components=2, init='random', random_state=0)\n",
    "        proj2D = umap2D.fit_transform(formated_embs).T\n",
    "\n",
    "        data = {\"x\": proj2D[0],\n",
    "                \"y\": proj2D[1],\n",
    "                \"labels\": labels}\n",
    "        \n",
    "        for k in data.keys():\n",
    "            data[k] = [data[k][i] for i in range(len(data[k])) if i in token_indexes]\n",
    "\n",
    "        if comp_gold:\n",
    "            token_indexes_gold = [i for i in range(len(labels_gold)) if labels_gold[i] != \"[PAD]\" and labels_gold[i] != \"[CLS]\" and labels_gold[i] != \"[SEP]\" and len(labels_gold[i])>2]\n",
    "            proj2D_gold = umap2D.fit_transform(formated_embs_gold).T\n",
    "            data_gold = {\"x\": proj2D_gold[0],\n",
    "                        \"y\": proj2D_gold[1],\n",
    "                        \"labels\": labels_gold}\n",
    "            for k in data_gold.keys():\n",
    "                data_gold[k] = [data_gold[k][i] for i in range(len(data_gold[k])) if i in token_indexes_gold]\n",
    "\n",
    "        traces = []\n",
    "        for i in range(len(data['x'])):\n",
    "            if comp_gold:\n",
    "                color = 'green' if data[\"labels\"][i] in data_gold[\"labels\"] else 'red'\n",
    "            else:\n",
    "                color = 'red'\n",
    "            trace = go.Scatter(\n",
    "                x=[data['x'][i]],\n",
    "                y=[data['y'][i]],\n",
    "                mode='markers',\n",
    "                marker=dict(size=6, color=color),\n",
    "                text=[data['labels'][i]],\n",
    "                name=data['labels'][i]\n",
    "            )\n",
    "            traces.append(trace)\n",
    "        if comp_gold:\n",
    "            for i in range(len(data_gold['x'])):\n",
    "                trace = go.Scatter(\n",
    "                    x=[data_gold['x'][i]],\n",
    "                    y=[data_gold['y'][i]],\n",
    "                    mode='markers',\n",
    "                    marker=dict(size=6, color='gold'),\n",
    "                    text=[data_gold['labels'][i]],\n",
    "                    name=data_gold['labels'][i]\n",
    "                )\n",
    "                traces.append(trace)\n",
    "\n",
    "        layout = go.Layout(\n",
    "            title='2D Scatter Plot',\n",
    "            scene=dict(\n",
    "                xaxis=dict(title='X'),\n",
    "                yaxis=dict(title='Y')\n",
    "            )\n",
    "        )\n",
    "        fig = go.Figure(data=traces, layout=layout)\n",
    "        fig.show()"
   ]
  },
  {
   "cell_type": "code",
   "execution_count": null,
   "metadata": {},
   "outputs": [],
   "source": [
    "model = BertModel.from_pretrained('bert-base-uncased',\n",
    "                                  output_hidden_states=True)\n",
    "tokenizer = BertTokenizer.from_pretrained('bert-base-uncased')"
   ]
  },
  {
   "cell_type": "code",
   "execution_count": null,
   "metadata": {},
   "outputs": [],
   "source": [
    "dataset_url=\"https://drive.google.com/file/d/1Wd0M3qepNF6B4YwFYrpo7CaSERpudAG_/view?usp=share_link\"\n",
    "dataset_url='https://drive.google.com/uc?export=download&id=' + dataset_url.split('/')[-2]\n",
    "dataset = pd.read_json(dataset_url, lines=True)\n",
    "dataset = dataset.loc[:, [\"text\", \"summary\"]]\n",
    "\n",
    "elem0 = dataset.iloc[0, 0]\n",
    "print(elem0)"
   ]
  },
  {
   "cell_type": "code",
   "execution_count": null,
   "metadata": {},
   "outputs": [],
   "source": [
    "gold0 = dataset.iloc[0, 1]\n",
    "print(gold0)"
   ]
  },
  {
   "cell_type": "code",
   "execution_count": null,
   "metadata": {},
   "outputs": [],
   "source": [
    "o, l = tokenizeCorpus(elem0)\n",
    "ogold, lgold = tokenizeCorpus(gold0)\n",
    "v = vectorizeCorpus(o)\n",
    "vgold = vectorizeCorpus(ogold)\n",
    "visualizeCorpus(v, l, vgold, lgold, dim=1)"
   ]
  },
  {
   "attachments": {},
   "cell_type": "markdown",
   "metadata": {},
   "source": [
    "### Clustering with HDBScan"
   ]
  },
  {
   "cell_type": "code",
   "execution_count": 3,
   "metadata": {},
   "outputs": [],
   "source": [
    "dataset_url=\"https://drive.google.com/file/d/1Wd0M3qepNF6B4YwFYrpo7CaSERpudAG_/view?usp=share_link\"\n",
    "dataset_url='https://drive.google.com/uc?export=download&id=' + dataset_url.split('/')[-2]\n",
    "dataset = pd.read_json(dataset_url, lines=True)\n",
    "dataset = dataset.loc[:, [\"text\", \"summary\"]]"
   ]
  },
  {
   "cell_type": "code",
   "execution_count": 4,
   "metadata": {},
   "outputs": [],
   "source": [
    "elem0 = dataset.iloc[0, 0]\n",
    "gold0 = dataset.iloc[0, 1]"
   ]
  },
  {
   "cell_type": "code",
   "execution_count": 5,
   "metadata": {},
   "outputs": [],
   "source": [
    "o, l = tokenizeCorpus(elem0)\n",
    "ogold, lgold = tokenizeCorpus(gold0)\n",
    "v = vectorizeCorpus(o)\n",
    "vgold = vectorizeCorpus(ogold)"
   ]
  },
  {
   "cell_type": "code",
   "execution_count": 6,
   "metadata": {},
   "outputs": [],
   "source": [
    "v = cleanVectors(v, l)\n",
    "vgold = cleanVectors(vgold, lgold)"
   ]
  },
  {
   "cell_type": "code",
   "execution_count": 7,
   "metadata": {},
   "outputs": [
    {
     "name": "stderr",
     "output_type": "stream",
     "text": [
      "c:\\Pro\\Stages\\A4 - DVRC\\Work\\Supervised-Learning-using-Unsupervised-Learning-Metrics-in-the-absence-of-Annotated-Data\\.venv\\Lib\\site-packages\\sklearn\\feature_extraction\\text.py:528: UserWarning: The parameter 'token_pattern' will not be used since 'tokenizer' is not None'\n",
      "  warnings.warn(\n"
     ]
    }
   ],
   "source": [
    "tf_values = tf(l)"
   ]
  },
  {
   "cell_type": "code",
   "execution_count": 9,
   "metadata": {},
   "outputs": [],
   "source": [
    "clusterer = hdbscan.HDBSCAN()\n",
    "clusterer.fit(v)\n",
    "clabels = clusterer.labels_"
   ]
  },
  {
   "cell_type": "code",
   "execution_count": 15,
   "metadata": {},
   "outputs": [
    {
     "data": {
      "application/vnd.plotly.v1+json": {
       "config": {
        "plotlyServerURL": "https://plot.ly"
       },
       "data": [
        {
         "line": {
          "color": "DarkSlateGrey",
          "width": 2
         },
         "marker": {
          "color": [
           0.993248,
           0.906157,
           0.143936,
           1
          ],
          "size": 9
         },
         "mode": "markers",
         "name": "section",
         "text": [
          "token: section || tf   : 18.0"
         ],
         "type": "scatter",
         "x": [
          -3.855665922164917
         ]
        },
        {
         "line": {
          "color": "DarkSlateGrey",
          "width": 2
         },
         "marker": {
          "color": [
           0.304148,
           0.764704,
           0.419943,
           1
          ],
          "size": 9
         },
         "mode": "markers",
         "name": "short",
         "text": [
          "token: short || tf   : 1.0"
         ],
         "type": "scatter",
         "x": [
          -15.239753723144531
         ]
        },
        {
         "line": {
          "color": "DarkSlateGrey",
          "width": 2
         },
         "marker": {
          "color": [
           0.993248,
           0.906157,
           0.143936,
           1
          ],
          "size": 9
         },
         "mode": "markers",
         "name": "title",
         "text": [
          "token: title || tf   : 1.0"
         ],
         "type": "scatter",
         "x": [
          -0.2823583483695984
         ]
        },
        {
         "line": {
          "color": "DarkSlateGrey",
          "width": 2
         },
         "marker": {
          "color": [
           0.993248,
           0.906157,
           0.143936,
           1
          ],
          "size": 9
         },
         "mode": "markers",
         "name": "this",
         "text": [
          "token: this || tf   : 11.0"
         ],
         "type": "scatter",
         "x": [
          -2.7743630409240723
         ]
        },
        {
         "line": {
          "color": "DarkSlateGrey",
          "width": 2
         },
         "marker": {
          "color": [
           0.993248,
           0.906157,
           0.143936,
           1
          ],
          "size": 9
         },
         "mode": "markers",
         "name": "act",
         "text": [
          "token: act || tf   : 4.0"
         ],
         "type": "scatter",
         "x": [
          7.369259834289551
         ]
        },
        {
         "line": {
          "color": "DarkSlateGrey",
          "width": 2
         },
         "marker": {
          "color": [
           0.993248,
           0.906157,
           0.143936,
           1
          ],
          "size": 9
         },
         "mode": "markers",
         "name": "may",
         "text": [
          "token: may || tf   : 1.0"
         ],
         "type": "scatter",
         "x": [
          30.564865112304688
         ]
        },
        {
         "line": {
          "color": "DarkSlateGrey",
          "width": 2
         },
         "marker": {
          "color": [
           0.993248,
           0.906157,
           0.143936,
           1
          ],
          "size": 9
         },
         "mode": "markers",
         "name": "cited",
         "text": [
          "token: cited || tf   : 1.0"
         ],
         "type": "scatter",
         "x": [
          5.566031455993652
         ]
        },
        {
         "line": {
          "color": "DarkSlateGrey",
          "width": 2
         },
         "marker": {
          "color": [
           0.993248,
           0.906157,
           0.143936,
           1
          ],
          "size": 9
         },
         "mode": "markers",
         "name": "the",
         "text": [
          "token: the || tf   : 83.0"
         ],
         "type": "scatter",
         "x": [
          3.5587549209594727
         ]
        },
        {
         "line": {
          "color": "DarkSlateGrey",
          "width": 2
         },
         "marker": {
          "color": [
           0.993248,
           0.906157,
           0.143936,
           1
          ],
          "size": 9
         },
         "mode": "markers",
         "name": "national",
         "text": [
          "token: national || tf   : 1.0"
         ],
         "type": "scatter",
         "x": [
          -2.7492361068725586
         ]
        },
        {
         "line": {
          "color": "DarkSlateGrey",
          "width": 2
         },
         "marker": {
          "color": [
           0.993248,
           0.906157,
           0.143936,
           1
          ],
          "size": 9
         },
         "mode": "markers",
         "name": "science",
         "text": [
          "token: science || tf   : 13.0"
         ],
         "type": "scatter",
         "x": [
          -14.375523567199707
         ]
        },
        {
         "line": {
          "color": "DarkSlateGrey",
          "width": 2
         },
         "marker": {
          "color": [
           0.993248,
           0.906157,
           0.143936,
           1
          ],
          "size": 9
         },
         "mode": "markers",
         "name": "education",
         "text": [
          "token: education || tf   : 12.0"
         ],
         "type": "scatter",
         "x": [
          4.428408145904541
         ]
        },
        {
         "line": {
          "color": "DarkSlateGrey",
          "width": 2
         },
         "marker": {
          "color": [
           0.168126,
           0.459988,
           0.558082,
           1
          ],
          "size": 9
         },
         "mode": "markers",
         "name": "tax",
         "text": [
          "token: tax || tf   : 1.0"
         ],
         "type": "scatter",
         "x": [
          3.431018114089966
         ]
        },
        {
         "line": {
          "color": "DarkSlateGrey",
          "width": 2
         },
         "marker": {
          "color": [
           0.993248,
           0.906157,
           0.143936,
           1
          ],
          "size": 9
         },
         "mode": "markers",
         "name": "incentive",
         "text": [
          "token: incentive || tf   : 1.0"
         ],
         "type": "scatter",
         "x": [
          1.5015246868133545
         ]
        },
        {
         "line": {
          "color": "DarkSlateGrey",
          "width": 2
         },
         "marker": {
          "color": [
           0.119699,
           0.61849,
           0.536347,
           1
          ],
          "size": 9
         },
         "mode": "markers",
         "name": "for",
         "text": [
          "token: for || tf   : 20.0"
         ],
         "type": "scatter",
         "x": [
          5.42822790145874
         ]
        },
        {
         "line": {
          "color": "DarkSlateGrey",
          "width": 2
         },
         "marker": {
          "color": [
           0.993248,
           0.906157,
           0.143936,
           1
          ],
          "size": 9
         },
         "mode": "markers",
         "name": "businesses",
         "text": [
          "token: businesses || tf   : 1.0"
         ],
         "type": "scatter",
         "x": [
          5.964069366455078
         ]
        },
        {
         "line": {
          "color": "DarkSlateGrey",
          "width": 2
         },
         "marker": {
          "color": [
           0.993248,
           0.906157,
           0.143936,
           1
          ],
          "size": 9
         },
         "mode": "markers",
         "name": "act",
         "text": [
          "token: act || tf   : 4.0"
         ],
         "type": "scatter",
         "x": [
          6.099388122558594
         ]
        },
        {
         "line": {
          "color": "DarkSlateGrey",
          "width": 2
         },
         "marker": {
          "color": [
           0.179019,
           0.433756,
           0.55743,
           1
          ],
          "size": 9
         },
         "mode": "markers",
         "name": "2007",
         "text": [
          "token: 2007 || tf   : 1.0"
         ],
         "type": "scatter",
         "x": [
          10.148959159851074
         ]
        },
        {
         "line": {
          "color": "DarkSlateGrey",
          "width": 2
         },
         "marker": {
          "color": [
           0.496615,
           0.826376,
           0.306377,
           1
          ],
          "size": 9
         },
         "mode": "markers",
         "name": "sec",
         "text": [
          "token: sec || tf   : 3.0"
         ],
         "type": "scatter",
         "x": [
          13.432985305786133
         ]
        },
        {
         "line": {
          "color": "DarkSlateGrey",
          "width": 2
         },
         "marker": {
          "color": [
           0.430983,
           0.808473,
           0.346476,
           1
          ],
          "size": 9
         },
         "mode": "markers",
         "name": "credits",
         "text": [
          "token: credits || tf   : 2.0"
         ],
         "type": "scatter",
         "x": [
          16.08174705505371
         ]
        },
        {
         "line": {
          "color": "DarkSlateGrey",
          "width": 2
         },
         "marker": {
          "color": [
           0.496615,
           0.826376,
           0.306377,
           1
          ],
          "size": 9
         },
         "mode": "markers",
         "name": "for",
         "text": [
          "token: for || tf   : 20.0"
         ],
         "type": "scatter",
         "x": [
          14.037972450256348
         ]
        },
        {
         "line": {
          "color": "DarkSlateGrey",
          "width": 2
         },
         "marker": {
          "color": [
           0.993248,
           0.906157,
           0.143936,
           1
          ],
          "size": 9
         },
         "mode": "markers",
         "name": "certain",
         "text": [
          "token: certain || tf   : 1.0"
         ],
         "type": "scatter",
         "x": [
          14.412822723388672
         ]
        },
        {
         "line": {
          "color": "DarkSlateGrey",
          "width": 2
         },
         "marker": {
          "color": [
           0.993248,
           0.906157,
           0.143936,
           1
          ],
          "size": 9
         },
         "mode": "markers",
         "name": "contributions",
         "text": [
          "token: contributions || tf   : 17.0"
         ],
         "type": "scatter",
         "x": [
          -3.1002447605133057
         ]
        },
        {
         "line": {
          "color": "DarkSlateGrey",
          "width": 2
         },
         "marker": {
          "color": [
           0.993248,
           0.906157,
           0.143936,
           1
          ],
          "size": 9
         },
         "mode": "markers",
         "name": "benefit",
         "text": [
          "token: benefit || tf   : 5.0"
         ],
         "type": "scatter",
         "x": [
          -13.399662971496582
         ]
        },
        {
         "line": {
          "color": "DarkSlateGrey",
          "width": 2
         },
         "marker": {
          "color": [
           0.993248,
           0.906157,
           0.143936,
           1
          ],
          "size": 9
         },
         "mode": "markers",
         "name": "##ing",
         "text": [
          "token: ##ing || tf   : 5.0"
         ],
         "type": "scatter",
         "x": [
          -13.258866310119629
         ]
        },
        {
         "line": {
          "color": "DarkSlateGrey",
          "width": 2
         },
         "marker": {
          "color": [
           0.993248,
           0.906157,
           0.143936,
           1
          ],
          "size": 9
         },
         "mode": "markers",
         "name": "science",
         "text": [
          "token: science || tf   : 13.0"
         ],
         "type": "scatter",
         "x": [
          -13.57043743133545
         ]
        },
        {
         "line": {
          "color": "DarkSlateGrey",
          "width": 2
         },
         "marker": {
          "color": [
           0.252899,
           0.742211,
           0.448284,
           1
          ],
          "size": 9
         },
         "mode": "markers",
         "name": "technology",
         "text": [
          "token: technology || tf   : 12.0"
         ],
         "type": "scatter",
         "x": [
          -13.40982723236084
         ]
        },
        {
         "line": {
          "color": "DarkSlateGrey",
          "width": 2
         },
         "marker": {
          "color": [
           0.993248,
           0.906157,
           0.143936,
           1
          ],
          "size": 9
         },
         "mode": "markers",
         "name": "engineering",
         "text": [
          "token: engineering || tf   : 12.0"
         ],
         "type": "scatter",
         "x": [
          -13.300637245178223
         ]
        },
        {
         "line": {
          "color": "DarkSlateGrey",
          "width": 2
         },
         "marker": {
          "color": [
           0.252899,
           0.742211,
           0.448284,
           1
          ],
          "size": 9
         },
         "mode": "markers",
         "name": "and",
         "text": [
          "token: and || tf   : 23.0"
         ],
         "type": "scatter",
         "x": [
          -14.03652572631836
         ]
        },
        {
         "line": {
          "color": "DarkSlateGrey",
          "width": 2
         },
         "marker": {
          "color": [
           0.993248,
           0.906157,
           0.143936,
           1
          ],
          "size": 9
         },
         "mode": "markers",
         "name": "mathematics",
         "text": [
          "token: mathematics || tf   : 12.0"
         ],
         "type": "scatter",
         "x": [
          -2.4239726066589355
         ]
        },
        {
         "line": {
          "color": "DarkSlateGrey",
          "width": 2
         },
         "marker": {
          "color": [
           0.993248,
           0.906157,
           0.143936,
           1
          ],
          "size": 9
         },
         "mode": "markers",
         "name": "education",
         "text": [
          "token: education || tf   : 12.0"
         ],
         "type": "scatter",
         "x": [
          -12.867225646972656
         ]
        },
        {
         "line": {
          "color": "DarkSlateGrey",
          "width": 2
         },
         "marker": {
          "color": [
           0.993248,
           0.906157,
           0.143936,
           1
          ],
          "size": 9
         },
         "mode": "markers",
         "name": "the",
         "text": [
          "token: the || tf   : 83.0"
         ],
         "type": "scatter",
         "x": [
          -15.235950469970703
         ]
        },
        {
         "line": {
          "color": "DarkSlateGrey",
          "width": 2
         },
         "marker": {
          "color": [
           0.993248,
           0.906157,
           0.143936,
           1
          ],
          "size": 9
         },
         "mode": "markers",
         "name": "elementary",
         "text": [
          "token: elementary || tf   : 7.0"
         ],
         "type": "scatter",
         "x": [
          -2.778372287750244
         ]
        },
        {
         "line": {
          "color": "DarkSlateGrey",
          "width": 2
         },
         "marker": {
          "color": [
           0.993248,
           0.906157,
           0.143936,
           1
          ],
          "size": 9
         },
         "mode": "markers",
         "name": "and",
         "text": [
          "token: and || tf   : 23.0"
         ],
         "type": "scatter",
         "x": [
          2.3564059734344482
         ]
        },
        {
         "line": {
          "color": "DarkSlateGrey",
          "width": 2
         },
         "marker": {
          "color": [
           0.993248,
           0.906157,
           0.143936,
           1
          ],
          "size": 9
         },
         "mode": "markers",
         "name": "secondary",
         "text": [
          "token: secondary || tf   : 7.0"
         ],
         "type": "scatter",
         "x": [
          7.512091159820557
         ]
        },
        {
         "line": {
          "color": "DarkSlateGrey",
          "width": 2
         },
         "marker": {
          "color": [
           0.993248,
           0.906157,
           0.143936,
           1
          ],
          "size": 9
         },
         "mode": "markers",
         "name": "school",
         "text": [
          "token: school || tf   : 17.0"
         ],
         "type": "scatter",
         "x": [
          2.393779993057251
         ]
        },
        {
         "line": {
          "color": "DarkSlateGrey",
          "width": 2
         },
         "marker": {
          "color": [
           0.993248,
           0.906157,
           0.143936,
           1
          ],
          "size": 9
         },
         "mode": "markers",
         "name": "level",
         "text": [
          "token: level || tf   : 3.0"
         ],
         "type": "scatter",
         "x": [
          4.432695388793945
         ]
        },
        {
         "line": {
          "color": "DarkSlateGrey",
          "width": 2
         },
         "marker": {
          "color": [
           0.993248,
           0.906157,
           0.143936,
           1
          ],
          "size": 9
         },
         "mode": "markers",
         "name": "general",
         "text": [
          "token: general || tf   : 4.0"
         ],
         "type": "scatter",
         "x": [
          -4.525211811065674
         ]
        },
        {
         "line": {
          "color": "DarkSlateGrey",
          "width": 2
         },
         "marker": {
          "color": [
           0.993248,
           0.906157,
           0.143936,
           1
          ],
          "size": 9
         },
         "mode": "markers",
         "name": "sub",
         "text": [
          "token: sub || tf   : 7.0"
         ],
         "type": "scatter",
         "x": [
          -14.033747673034668
         ]
        },
        {
         "line": {
          "color": "DarkSlateGrey",
          "width": 2
         },
         "marker": {
          "color": [
           0.993248,
           0.906157,
           0.143936,
           1
          ],
          "size": 9
         },
         "mode": "markers",
         "name": "##par",
         "text": [
          "token: ##par || tf   : 2.0"
         ],
         "type": "scatter",
         "x": [
          5.342593193054199
         ]
        },
        {
         "line": {
          "color": "DarkSlateGrey",
          "width": 2
         },
         "marker": {
          "color": [
           0.993248,
           0.906157,
           0.143936,
           1
          ],
          "size": 9
         },
         "mode": "markers",
         "name": "##t",
         "text": [
          "token: ##t || tf   : 2.0"
         ],
         "type": "scatter",
         "x": [
          6.001887798309326
         ]
        },
        {
         "line": {
          "color": "DarkSlateGrey",
          "width": 2
         },
         "marker": {
          "color": [
           0.179019,
           0.433756,
           0.55743,
           1
          ],
          "size": 9
         },
         "mode": "markers",
         "name": "part",
         "text": [
          "token: part || tf   : 2.0"
         ],
         "type": "scatter",
         "x": [
          10.157247543334961
         ]
        },
        {
         "line": {
          "color": "DarkSlateGrey",
          "width": 2
         },
         "marker": {
          "color": [
           0.21621,
           0.351535,
           0.550627,
           1
          ],
          "size": 9
         },
         "mode": "markers",
         "name": "sub",
         "text": [
          "token: sub || tf   : 7.0"
         ],
         "type": "scatter",
         "x": [
          32.544097900390625
         ]
        },
        {
         "line": {
          "color": "DarkSlateGrey",
          "width": 2
         },
         "marker": {
          "color": [
           0.496615,
           0.826376,
           0.306377,
           1
          ],
          "size": 9
         },
         "mode": "markers",
         "name": "##cha",
         "text": [
          "token: ##cha || tf   : 2.0"
         ],
         "type": "scatter",
         "x": [
          13.47934627532959
         ]
        },
        {
         "line": {
          "color": "DarkSlateGrey",
          "width": 2
         },
         "marker": {
          "color": [
           0.993248,
           0.906157,
           0.143936,
           1
          ],
          "size": 9
         },
         "mode": "markers",
         "name": "##pt",
         "text": [
          "token: ##pt || tf   : 2.0"
         ],
         "type": "scatter",
         "x": [
          -2.128824472427368
         ]
        },
        {
         "line": {
          "color": "DarkSlateGrey",
          "width": 2
         },
         "marker": {
          "color": [
           0.430983,
           0.808473,
           0.346476,
           1
          ],
          "size": 9
         },
         "mode": "markers",
         "name": "##er",
         "text": [
          "token: ##er || tf   : 2.0"
         ],
         "type": "scatter",
         "x": [
          15.973272323608398
         ]
        },
        {
         "line": {
          "color": "DarkSlateGrey",
          "width": 2
         },
         "marker": {
          "color": [
           0.496615,
           0.826376,
           0.306377,
           1
          ],
          "size": 9
         },
         "mode": "markers",
         "name": "chapter",
         "text": [
          "token: chapter || tf   : 3.0"
         ],
         "type": "scatter",
         "x": [
          13.95910930633545
         ]
        },
        {
         "line": {
          "color": "DarkSlateGrey",
          "width": 2
         },
         "marker": {
          "color": [
           0.168126,
           0.459988,
           0.558082,
           1
          ],
          "size": 9
         },
         "mode": "markers",
         "name": "the",
         "text": [
          "token: the || tf   : 83.0"
         ],
         "type": "scatter",
         "x": [
          3.0747907161712646
         ]
        },
        {
         "line": {
          "color": "DarkSlateGrey",
          "width": 2
         },
         "marker": {
          "color": [
           0.281446,
           0.08432,
           0.407414,
           1
          ],
          "size": 9
         },
         "mode": "markers",
         "name": "internal",
         "text": [
          "token: internal || tf   : 1.0"
         ],
         "type": "scatter",
         "x": [
          2.7614552974700928
         ]
        },
        {
         "line": {
          "color": "DarkSlateGrey",
          "width": 2
         },
         "marker": {
          "color": [
           0.252899,
           0.742211,
           0.448284,
           1
          ],
          "size": 9
         },
         "mode": "markers",
         "name": "revenue",
         "text": [
          "token: revenue || tf   : 1.0"
         ],
         "type": "scatter",
         "x": [
          -14.42194938659668
         ]
        },
        {
         "line": {
          "color": "DarkSlateGrey",
          "width": 2
         },
         "marker": {
          "color": [
           0.993248,
           0.906157,
           0.143936,
           1
          ],
          "size": 9
         },
         "mode": "markers",
         "name": "code",
         "text": [
          "token: code || tf   : 3.0"
         ],
         "type": "scatter",
         "x": [
          -1.145885944366455
         ]
        },
        {
         "line": {
          "color": "DarkSlateGrey",
          "width": 2
         },
         "marker": {
          "color": [
           0.281412,
           0.155834,
           0.469201,
           1
          ],
          "size": 9
         },
         "mode": "markers",
         "name": "1986",
         "text": [
          "token: 1986 || tf   : 1.0"
         ],
         "type": "scatter",
         "x": [
          26.519901275634766
         ]
        },
        {
         "line": {
          "color": "DarkSlateGrey",
          "width": 2
         },
         "marker": {
          "color": [
           0.190631,
           0.407061,
           0.556089,
           1
          ],
          "size": 9
         },
         "mode": "markers",
         "name": "relating",
         "text": [
          "token: relating || tf   : 1.0"
         ],
         "type": "scatter",
         "x": [
          30.531450271606445
         ]
        },
        {
         "line": {
          "color": "DarkSlateGrey",
          "width": 2
         },
         "marker": {
          "color": [
           0.203063,
           0.379716,
           0.553925,
           1
          ],
          "size": 9
         },
         "mode": "markers",
         "name": "business",
         "text": [
          "token: business || tf   : 4.0"
         ],
         "type": "scatter",
         "x": [
          -11.901808738708496
         ]
        },
        {
         "line": {
          "color": "DarkSlateGrey",
          "width": 2
         },
         "marker": {
          "color": [
           0.281412,
           0.155834,
           0.469201,
           1
          ],
          "size": 9
         },
         "mode": "markers",
         "name": "related",
         "text": [
          "token: related || tf   : 2.0"
         ],
         "type": "scatter",
         "x": [
          26.46030044555664
         ]
        },
        {
         "line": {
          "color": "DarkSlateGrey",
          "width": 2
         },
         "marker": {
          "color": [
           0.21621,
           0.351535,
           0.550627,
           1
          ],
          "size": 9
         },
         "mode": "markers",
         "name": "credits",
         "text": [
          "token: credits || tf   : 2.0"
         ],
         "type": "scatter",
         "x": [
          32.532501220703125
         ]
        },
        {
         "line": {
          "color": "DarkSlateGrey",
          "width": 2
         },
         "marker": {
          "color": [
           0.993248,
           0.906157,
           0.143936,
           1
          ],
          "size": 9
         },
         "mode": "markers",
         "name": "amended",
         "text": [
          "token: amended || tf   : 3.0"
         ],
         "type": "scatter",
         "x": [
          4.313801288604736
         ]
        },
        {
         "line": {
          "color": "DarkSlateGrey",
          "width": 2
         },
         "marker": {
          "color": [
           0.636902,
           0.856542,
           0.21662,
           1
          ],
          "size": 9
         },
         "mode": "markers",
         "name": "adding",
         "text": [
          "token: adding || tf   : 3.0"
         ],
         "type": "scatter",
         "x": [
          -0.5759506225585938
         ]
        },
        {
         "line": {
          "color": "DarkSlateGrey",
          "width": 2
         },
         "marker": {
          "color": [
           0.252899,
           0.742211,
           0.448284,
           1
          ],
          "size": 9
         },
         "mode": "markers",
         "name": "the",
         "text": [
          "token: the || tf   : 83.0"
         ],
         "type": "scatter",
         "x": [
          -14.979248046875
         ]
        },
        {
         "line": {
          "color": "DarkSlateGrey",
          "width": 2
         },
         "marker": {
          "color": [
           0.168126,
           0.459988,
           0.558082,
           1
          ],
          "size": 9
         },
         "mode": "markers",
         "name": "end",
         "text": [
          "token: end || tf   : 5.0"
         ],
         "type": "scatter",
         "x": [
          3.2837893962860107
         ]
        },
        {
         "line": {
          "color": "DarkSlateGrey",
          "width": 2
         },
         "marker": {
          "color": [
           0.993248,
           0.906157,
           0.143936,
           1
          ],
          "size": 9
         },
         "mode": "markers",
         "name": "the",
         "text": [
          "token: the || tf   : 83.0"
         ],
         "type": "scatter",
         "x": [
          -1.6204278469085693
         ]
        },
        {
         "line": {
          "color": "DarkSlateGrey",
          "width": 2
         },
         "marker": {
          "color": [
           0.993248,
           0.906157,
           0.143936,
           1
          ],
          "size": 9
         },
         "mode": "markers",
         "name": "following",
         "text": [
          "token: following || tf   : 3.0"
         ],
         "type": "scatter",
         "x": [
          1.0761542320251465
         ]
        },
        {
         "line": {
          "color": "DarkSlateGrey",
          "width": 2
         },
         "marker": {
          "color": [
           0.993248,
           0.906157,
           0.143936,
           1
          ],
          "size": 9
         },
         "mode": "markers",
         "name": "new",
         "text": [
          "token: new || tf   : 3.0"
         ],
         "type": "scatter",
         "x": [
          0.8277087211608887
         ]
        },
        {
         "line": {
          "color": "DarkSlateGrey",
          "width": 2
         },
         "marker": {
          "color": [
           0.993248,
           0.906157,
           0.143936,
           1
          ],
          "size": 9
         },
         "mode": "markers",
         "name": "section",
         "text": [
          "token: section || tf   : 18.0"
         ],
         "type": "scatter",
         "x": [
          0.8935947418212891
         ]
        },
        {
         "line": {
          "color": "DarkSlateGrey",
          "width": 2
         },
         "marker": {
          "color": [
           0.993248,
           0.906157,
           0.143936,
           1
          ],
          "size": 9
         },
         "mode": "markers",
         "name": "sec",
         "text": [
          "token: sec || tf   : 3.0"
         ],
         "type": "scatter",
         "x": [
          3.9341142177581787
         ]
        },
        {
         "line": {
          "color": "DarkSlateGrey",
          "width": 2
         },
         "marker": {
          "color": [
           0.229739,
           0.322361,
           0.545706,
           1
          ],
          "size": 9
         },
         "mode": "markers",
         "name": "##o",
         "text": [
          "token: ##o || tf   : 3.0"
         ],
         "type": "scatter",
         "x": [
          -10.101054191589355
         ]
        },
        {
         "line": {
          "color": "DarkSlateGrey",
          "width": 2
         },
         "marker": {
          "color": [
           0.993248,
           0.906157,
           0.143936,
           1
          ],
          "size": 9
         },
         "mode": "markers",
         "name": "contributions",
         "text": [
          "token: contributions || tf   : 17.0"
         ],
         "type": "scatter",
         "x": [
          -1.5833486318588257
         ]
        },
        {
         "line": {
          "color": "DarkSlateGrey",
          "width": 2
         },
         "marker": {
          "color": [
           0.276022,
           0.044167,
           0.370164,
           1
          ],
          "size": 9
         },
         "mode": "markers",
         "name": "benefit",
         "text": [
          "token: benefit || tf   : 5.0"
         ],
         "type": "scatter",
         "x": [
          5.781717777252197
         ]
        },
        {
         "line": {
          "color": "DarkSlateGrey",
          "width": 2
         },
         "marker": {
          "color": [
           0.993248,
           0.906157,
           0.143936,
           1
          ],
          "size": 9
         },
         "mode": "markers",
         "name": "##ing",
         "text": [
          "token: ##ing || tf   : 5.0"
         ],
         "type": "scatter",
         "x": [
          3.3899991512298584
         ]
        },
        {
         "line": {
          "color": "DarkSlateGrey",
          "width": 2
         },
         "marker": {
          "color": [
           0.170948,
           0.694384,
           0.493803,
           1
          ],
          "size": 9
         },
         "mode": "markers",
         "name": "science",
         "text": [
          "token: science || tf   : 13.0"
         ],
         "type": "scatter",
         "x": [
          20.94198989868164
         ]
        },
        {
         "line": {
          "color": "DarkSlateGrey",
          "width": 2
         },
         "marker": {
          "color": [
           0.993248,
           0.906157,
           0.143936,
           1
          ],
          "size": 9
         },
         "mode": "markers",
         "name": "technology",
         "text": [
          "token: technology || tf   : 12.0"
         ],
         "type": "scatter",
         "x": [
          0.851616621017456
         ]
        },
        {
         "line": {
          "color": "DarkSlateGrey",
          "width": 2
         },
         "marker": {
          "color": [
           0.993248,
           0.906157,
           0.143936,
           1
          ],
          "size": 9
         },
         "mode": "markers",
         "name": "engineering",
         "text": [
          "token: engineering || tf   : 12.0"
         ],
         "type": "scatter",
         "x": [
          -8.923133850097656
         ]
        },
        {
         "line": {
          "color": "DarkSlateGrey",
          "width": 2
         },
         "marker": {
          "color": [
           0.119699,
           0.61849,
           0.536347,
           1
          ],
          "size": 9
         },
         "mode": "markers",
         "name": "and",
         "text": [
          "token: and || tf   : 23.0"
         ],
         "type": "scatter",
         "x": [
          5.261430263519287
         ]
        },
        {
         "line": {
          "color": "DarkSlateGrey",
          "width": 2
         },
         "marker": {
          "color": [
           0.168126,
           0.459988,
           0.558082,
           1
          ],
          "size": 9
         },
         "mode": "markers",
         "name": "mathematics",
         "text": [
          "token: mathematics || tf   : 12.0"
         ],
         "type": "scatter",
         "x": [
          3.062636613845825
         ]
        },
        {
         "line": {
          "color": "DarkSlateGrey",
          "width": 2
         },
         "marker": {
          "color": [
           0.281446,
           0.08432,
           0.407414,
           1
          ],
          "size": 9
         },
         "mode": "markers",
         "name": "education",
         "text": [
          "token: education || tf   : 12.0"
         ],
         "type": "scatter",
         "x": [
          2.773749351501465
         ]
        },
        {
         "line": {
          "color": "DarkSlateGrey",
          "width": 2
         },
         "marker": {
          "color": [
           0.252899,
           0.742211,
           0.448284,
           1
          ],
          "size": 9
         },
         "mode": "markers",
         "name": "the",
         "text": [
          "token: the || tf   : 83.0"
         ],
         "type": "scatter",
         "x": [
          -14.923054695129395
         ]
        },
        {
         "line": {
          "color": "DarkSlateGrey",
          "width": 2
         },
         "marker": {
          "color": [
           0.783315,
           0.879285,
           0.125405,
           1
          ],
          "size": 9
         },
         "mode": "markers",
         "name": "elementary",
         "text": [
          "token: elementary || tf   : 7.0"
         ],
         "type": "scatter",
         "x": [
          -3.518202066421509
         ]
        },
        {
         "line": {
          "color": "DarkSlateGrey",
          "width": 2
         },
         "marker": {
          "color": [
           0.244972,
           0.287675,
           0.53726,
           1
          ],
          "size": 9
         },
         "mode": "markers",
         "name": "and",
         "text": [
          "token: and || tf   : 23.0"
         ],
         "type": "scatter",
         "x": [
          -6.936412811279297
         ]
        },
        {
         "line": {
          "color": "DarkSlateGrey",
          "width": 2
         },
         "marker": {
          "color": [
           0.993248,
           0.906157,
           0.143936,
           1
          ],
          "size": 9
         },
         "mode": "markers",
         "name": "secondary",
         "text": [
          "token: secondary || tf   : 7.0"
         ],
         "type": "scatter",
         "x": [
          -8.920089721679688
         ]
        },
        {
         "line": {
          "color": "DarkSlateGrey",
          "width": 2
         },
         "marker": {
          "color": [
           0.229739,
           0.322361,
           0.545706,
           1
          ],
          "size": 9
         },
         "mode": "markers",
         "name": "school",
         "text": [
          "token: school || tf   : 17.0"
         ],
         "type": "scatter",
         "x": [
          -9.899628639221191
         ]
        },
        {
         "line": {
          "color": "DarkSlateGrey",
          "width": 2
         },
         "marker": {
          "color": [
           0.119699,
           0.61849,
           0.536347,
           1
          ],
          "size": 9
         },
         "mode": "markers",
         "name": "level",
         "text": [
          "token: level || tf   : 3.0"
         ],
         "type": "scatter",
         "x": [
          5.346203804016113
         ]
        },
        {
         "line": {
          "color": "DarkSlateGrey",
          "width": 2
         },
         "marker": {
          "color": [
           0.565498,
           0.84243,
           0.262877,
           1
          ],
          "size": 9
         },
         "mode": "markers",
         "name": "general",
         "text": [
          "token: general || tf   : 4.0"
         ],
         "type": "scatter",
         "x": [
          11.361602783203125
         ]
        },
        {
         "line": {
          "color": "DarkSlateGrey",
          "width": 2
         },
         "marker": {
          "color": [
           0.496615,
           0.826376,
           0.306377,
           1
          ],
          "size": 9
         },
         "mode": "markers",
         "name": "for",
         "text": [
          "token: for || tf   : 20.0"
         ],
         "type": "scatter",
         "x": [
          12.553743362426758
         ]
        },
        {
         "line": {
          "color": "DarkSlateGrey",
          "width": 2
         },
         "marker": {
          "color": [
           0.565498,
           0.84243,
           0.262877,
           1
          ],
          "size": 9
         },
         "mode": "markers",
         "name": "purposes",
         "text": [
          "token: purposes || tf   : 7.0"
         ],
         "type": "scatter",
         "x": [
          11.553426742553711
         ]
        },
        {
         "line": {
          "color": "DarkSlateGrey",
          "width": 2
         },
         "marker": {
          "color": [
           0.229739,
           0.322361,
           0.545706,
           1
          ],
          "size": 9
         },
         "mode": "markers",
         "name": "section",
         "text": [
          "token: section || tf   : 18.0"
         ],
         "type": "scatter",
         "x": [
          -9.50909423828125
         ]
        },
        {
         "line": {
          "color": "DarkSlateGrey",
          "width": 2
         },
         "marker": {
          "color": [
           0.168126,
           0.459988,
           0.558082,
           1
          ],
          "size": 9
         },
         "mode": "markers",
         "name": "the",
         "text": [
          "token: the || tf   : 83.0"
         ],
         "type": "scatter",
         "x": [
          3.0388691425323486
         ]
        },
        {
         "line": {
          "color": "DarkSlateGrey",
          "width": 2
         },
         "marker": {
          "color": [
           0.281446,
           0.08432,
           0.407414,
           1
          ],
          "size": 9
         },
         "mode": "markers",
         "name": "elementary",
         "text": [
          "token: elementary || tf   : 7.0"
         ],
         "type": "scatter",
         "x": [
          2.731173515319824
         ]
        },
        {
         "line": {
          "color": "DarkSlateGrey",
          "width": 2
         },
         "marker": {
          "color": [
           0.304148,
           0.764704,
           0.419943,
           1
          ],
          "size": 9
         },
         "mode": "markers",
         "name": "and",
         "text": [
          "token: and || tf   : 23.0"
         ],
         "type": "scatter",
         "x": [
          19.091272354125977
         ]
        },
        {
         "line": {
          "color": "DarkSlateGrey",
          "width": 2
         },
         "marker": {
          "color": [
           0.252899,
           0.742211,
           0.448284,
           1
          ],
          "size": 9
         },
         "mode": "markers",
         "name": "secondary",
         "text": [
          "token: secondary || tf   : 7.0"
         ],
         "type": "scatter",
         "x": [
          -14.909370422363281
         ]
        },
        {
         "line": {
          "color": "DarkSlateGrey",
          "width": 2
         },
         "marker": {
          "color": [
           0.993248,
           0.906157,
           0.143936,
           1
          ],
          "size": 9
         },
         "mode": "markers",
         "name": "science",
         "text": [
          "token: science || tf   : 13.0"
         ],
         "type": "scatter",
         "x": [
          -3.022688627243042
         ]
        },
        {
         "line": {
          "color": "DarkSlateGrey",
          "width": 2
         },
         "marker": {
          "color": [
           0.244972,
           0.287675,
           0.53726,
           1
          ],
          "size": 9
         },
         "mode": "markers",
         "name": "technology",
         "text": [
          "token: technology || tf   : 12.0"
         ],
         "type": "scatter",
         "x": [
          -6.99097204208374
         ]
        },
        {
         "line": {
          "color": "DarkSlateGrey",
          "width": 2
         },
         "marker": {
          "color": [
           0.496615,
           0.826376,
           0.306377,
           1
          ],
          "size": 9
         },
         "mode": "markers",
         "name": "engineering",
         "text": [
          "token: engineering || tf   : 12.0"
         ],
         "type": "scatter",
         "x": [
          13.822545051574707
         ]
        },
        {
         "line": {
          "color": "DarkSlateGrey",
          "width": 2
         },
         "marker": {
          "color": [
           0.257322,
           0.25613,
           0.526563,
           1
          ],
          "size": 9
         },
         "mode": "markers",
         "name": "and",
         "text": [
          "token: and || tf   : 23.0"
         ],
         "type": "scatter",
         "x": [
          -6.15755558013916
         ]
        },
        {
         "line": {
          "color": "DarkSlateGrey",
          "width": 2
         },
         "marker": {
          "color": [
           0.229739,
           0.322361,
           0.545706,
           1
          ],
          "size": 9
         },
         "mode": "markers",
         "name": "mathematics",
         "text": [
          "token: mathematics || tf   : 12.0"
         ],
         "type": "scatter",
         "x": [
          -9.576788902282715
         ]
        },
        {
         "line": {
          "color": "DarkSlateGrey",
          "width": 2
         },
         "marker": {
          "color": [
           0.119699,
           0.61849,
           0.536347,
           1
          ],
          "size": 9
         },
         "mode": "markers",
         "name": "stem",
         "text": [
          "token: stem || tf   : 35.0"
         ],
         "type": "scatter",
         "x": [
          5.361894130706787
         ]
        },
        {
         "line": {
          "color": "DarkSlateGrey",
          "width": 2
         },
         "marker": {
          "color": [
           0.229739,
           0.322361,
           0.545706,
           1
          ],
          "size": 9
         },
         "mode": "markers",
         "name": "contributions",
         "text": [
          "token: contributions || tf   : 17.0"
         ],
         "type": "scatter",
         "x": [
          -9.555217742919922
         ]
        },
        {
         "line": {
          "color": "DarkSlateGrey",
          "width": 2
         },
         "marker": {
          "color": [
           0.993248,
           0.906157,
           0.143936,
           1
          ],
          "size": 9
         },
         "mode": "markers",
         "name": "credit",
         "text": [
          "token: credit || tf   : 3.0"
         ],
         "type": "scatter",
         "x": [
          7.984562873840332
         ]
        },
        {
         "line": {
          "color": "DarkSlateGrey",
          "width": 2
         },
         "marker": {
          "color": [
           0.119699,
           0.61849,
           0.536347,
           1
          ],
          "size": 9
         },
         "mode": "markers",
         "name": "determined",
         "text": [
          "token: determined || tf   : 5.0"
         ],
         "type": "scatter",
         "x": [
          5.379327297210693
         ]
        },
        {
         "line": {
          "color": "DarkSlateGrey",
          "width": 2
         },
         "marker": {
          "color": [
           0.229739,
           0.322361,
           0.545706,
           1
          ],
          "size": 9
         },
         "mode": "markers",
         "name": "under",
         "text": [
          "token: under || tf   : 9.0"
         ],
         "type": "scatter",
         "x": [
          -9.56143856048584
         ]
        },
        {
         "line": {
          "color": "DarkSlateGrey",
          "width": 2
         },
         "marker": {
          "color": [
           0.127568,
           0.566949,
           0.550556,
           1
          ],
          "size": 9
         },
         "mode": "markers",
         "name": "this",
         "text": [
          "token: this || tf   : 11.0"
         ],
         "type": "scatter",
         "x": [
          9.383271217346191
         ]
        },
        {
         "line": {
          "color": "DarkSlateGrey",
          "width": 2
         },
         "marker": {
          "color": [
           0.119699,
           0.61849,
           0.536347,
           1
          ],
          "size": 9
         },
         "mode": "markers",
         "name": "section",
         "text": [
          "token: section || tf   : 18.0"
         ],
         "type": "scatter",
         "x": [
          5.273295879364014
         ]
        },
        {
         "line": {
          "color": "DarkSlateGrey",
          "width": 2
         },
         "marker": {
          "color": [
           0.783315,
           0.879285,
           0.125405,
           1
          ],
          "size": 9
         },
         "mode": "markers",
         "name": "for",
         "text": [
          "token: for || tf   : 20.0"
         ],
         "type": "scatter",
         "x": [
          -3.4737656116485596
         ]
        },
        {
         "line": {
          "color": "DarkSlateGrey",
          "width": 2
         },
         "marker": {
          "color": [
           0.244972,
           0.287675,
           0.53726,
           1
          ],
          "size": 9
         },
         "mode": "markers",
         "name": "the",
         "text": [
          "token: the || tf   : 83.0"
         ],
         "type": "scatter",
         "x": [
          -6.957764625549316
         ]
        },
        {
         "line": {
          "color": "DarkSlateGrey",
          "width": 2
         },
         "marker": {
          "color": [
           0.229739,
           0.322361,
           0.545706,
           1
          ],
          "size": 9
         },
         "mode": "markers",
         "name": "taxa",
         "text": [
          "token: taxa || tf   : 4.0"
         ],
         "type": "scatter",
         "x": [
          -9.606596946716309
         ]
        },
        {
         "line": {
          "color": "DarkSlateGrey",
          "width": 2
         },
         "marker": {
          "color": [
           0.127568,
           0.566949,
           0.550556,
           1
          ],
          "size": 9
         },
         "mode": "markers",
         "name": "##ble",
         "text": [
          "token: ##ble || tf   : 4.0"
         ],
         "type": "scatter",
         "x": [
          9.346382141113281
         ]
        },
        {
         "line": {
          "color": "DarkSlateGrey",
          "width": 2
         },
         "marker": {
          "color": [
           0.119699,
           0.61849,
           0.536347,
           1
          ],
          "size": 9
         },
         "mode": "markers",
         "name": "year",
         "text": [
          "token: year || tf   : 3.0"
         ],
         "type": "scatter",
         "x": [
          5.310383319854736
         ]
        },
        {
         "line": {
          "color": "DarkSlateGrey",
          "width": 2
         },
         "marker": {
          "color": [
           0.121148,
           0.592739,
           0.544641,
           1
          ],
          "size": 9
         },
         "mode": "markers",
         "name": "amount",
         "text": [
          "token: amount || tf   : 8.0"
         ],
         "type": "scatter",
         "x": [
          3.9771158695220947
         ]
        },
        {
         "line": {
          "color": "DarkSlateGrey",
          "width": 2
         },
         "marker": {
          "color": [
           0.993248,
           0.906157,
           0.143936,
           1
          ],
          "size": 9
         },
         "mode": "markers",
         "name": "equal",
         "text": [
          "token: equal || tf   : 1.0"
         ],
         "type": "scatter",
         "x": [
          1.771243929862976
         ]
        },
        {
         "line": {
          "color": "DarkSlateGrey",
          "width": 2
         },
         "marker": {
          "color": [
           0.993248,
           0.906157,
           0.143936,
           1
          ],
          "size": 9
         },
         "mode": "markers",
         "name": "100",
         "text": [
          "token: 100 || tf   : 1.0"
         ],
         "type": "scatter",
         "x": [
          -2.378986120223999
         ]
        },
        {
         "line": {
          "color": "DarkSlateGrey",
          "width": 2
         },
         "marker": {
          "color": [
           0.993248,
           0.906157,
           0.143936,
           1
          ],
          "size": 9
         },
         "mode": "markers",
         "name": "percent",
         "text": [
          "token: percent || tf   : 1.0"
         ],
         "type": "scatter",
         "x": [
          3.2343547344207764
         ]
        },
        {
         "line": {
          "color": "DarkSlateGrey",
          "width": 2
         },
         "marker": {
          "color": [
           0.993248,
           0.906157,
           0.143936,
           1
          ],
          "size": 9
         },
         "mode": "markers",
         "name": "the",
         "text": [
          "token: the || tf   : 83.0"
         ],
         "type": "scatter",
         "x": [
          -14.5285005569458
         ]
        },
        {
         "line": {
          "color": "DarkSlateGrey",
          "width": 2
         },
         "marker": {
          "color": [
           0.993248,
           0.906157,
           0.143936,
           1
          ],
          "size": 9
         },
         "mode": "markers",
         "name": "qualified",
         "text": [
          "token: qualified || tf   : 3.0"
         ],
         "type": "scatter",
         "x": [
          0.17829708755016327
         ]
        },
        {
         "line": {
          "color": "DarkSlateGrey",
          "width": 2
         },
         "marker": {
          "color": [
           0.993248,
           0.906157,
           0.143936,
           1
          ],
          "size": 9
         },
         "mode": "markers",
         "name": "stem",
         "text": [
          "token: stem || tf   : 35.0"
         ],
         "type": "scatter",
         "x": [
          3.9209465980529785
         ]
        },
        {
         "line": {
          "color": "DarkSlateGrey",
          "width": 2
         },
         "marker": {
          "color": [
           0.636902,
           0.856542,
           0.21662,
           1
          ],
          "size": 9
         },
         "mode": "markers",
         "name": "contributions",
         "text": [
          "token: contributions || tf   : 17.0"
         ],
         "type": "scatter",
         "x": [
          -0.5329998135566711
         ]
        },
        {
         "line": {
          "color": "DarkSlateGrey",
          "width": 2
         },
         "marker": {
          "color": [
           0.283229,
           0.120777,
           0.440584,
           1
          ],
          "size": 9
         },
         "mode": "markers",
         "name": "the",
         "text": [
          "token: the || tf   : 83.0"
         ],
         "type": "scatter",
         "x": [
          -14.031248092651367
         ]
        },
        {
         "line": {
          "color": "DarkSlateGrey",
          "width": 2
         },
         "marker": {
          "color": [
           0.168126,
           0.459988,
           0.558082,
           1
          ],
          "size": 9
         },
         "mode": "markers",
         "name": "taxpayer",
         "text": [
          "token: taxpayer || tf   : 6.0"
         ],
         "type": "scatter",
         "x": [
          3.3421318531036377
         ]
        },
        {
         "line": {
          "color": "DarkSlateGrey",
          "width": 2
         },
         "marker": {
          "color": [
           0.993248,
           0.906157,
           0.143936,
           1
          ],
          "size": 9
         },
         "mode": "markers",
         "name": "for",
         "text": [
          "token: for || tf   : 20.0"
         ],
         "type": "scatter",
         "x": [
          6.146085262298584
         ]
        },
        {
         "line": {
          "color": "DarkSlateGrey",
          "width": 2
         },
         "marker": {
          "color": [
           0.119699,
           0.61849,
           0.536347,
           1
          ],
          "size": 9
         },
         "mode": "markers",
         "name": "such",
         "text": [
          "token: such || tf   : 15.0"
         ],
         "type": "scatter",
         "x": [
          5.362760066986084
         ]
        },
        {
         "line": {
          "color": "DarkSlateGrey",
          "width": 2
         },
         "marker": {
          "color": [
           0.229739,
           0.322361,
           0.545706,
           1
          ],
          "size": 9
         },
         "mode": "markers",
         "name": "taxa",
         "text": [
          "token: taxa || tf   : 4.0"
         ],
         "type": "scatter",
         "x": [
          -9.616671562194824
         ]
        },
        {
         "line": {
          "color": "DarkSlateGrey",
          "width": 2
         },
         "marker": {
          "color": [
           0.993248,
           0.906157,
           0.143936,
           1
          ],
          "size": 9
         },
         "mode": "markers",
         "name": "##ble",
         "text": [
          "token: ##ble || tf   : 4.0"
         ],
         "type": "scatter",
         "x": [
          8.987656593322754
         ]
        },
        {
         "line": {
          "color": "DarkSlateGrey",
          "width": 2
         },
         "marker": {
          "color": [
           0.127568,
           0.566949,
           0.550556,
           1
          ],
          "size": 9
         },
         "mode": "markers",
         "name": "year",
         "text": [
          "token: year || tf   : 3.0"
         ],
         "type": "scatter",
         "x": [
          9.318520545959473
         ]
        },
        {
         "line": {
          "color": "DarkSlateGrey",
          "width": 2
         },
         "marker": {
          "color": [
           0.993248,
           0.906157,
           0.143936,
           1
          ],
          "size": 9
         },
         "mode": "markers",
         "name": "qualified",
         "text": [
          "token: qualified || tf   : 3.0"
         ],
         "type": "scatter",
         "x": [
          0.042546022683382034
         ]
        },
        {
         "line": {
          "color": "DarkSlateGrey",
          "width": 2
         },
         "marker": {
          "color": [
           0.252899,
           0.742211,
           0.448284,
           1
          ],
          "size": 9
         },
         "mode": "markers",
         "name": "stem",
         "text": [
          "token: stem || tf   : 35.0"
         ],
         "type": "scatter",
         "x": [
          -14.432616233825684
         ]
        },
        {
         "line": {
          "color": "DarkSlateGrey",
          "width": 2
         },
         "marker": {
          "color": [
           0.283229,
           0.120777,
           0.440584,
           1
          ],
          "size": 9
         },
         "mode": "markers",
         "name": "contributions",
         "text": [
          "token: contributions || tf   : 17.0"
         ],
         "type": "scatter",
         "x": [
          -13.95885944366455
         ]
        },
        {
         "line": {
          "color": "DarkSlateGrey",
          "width": 2
         },
         "marker": {
          "color": [
           0.993248,
           0.906157,
           0.143936,
           1
          ],
          "size": 9
         },
         "mode": "markers",
         "name": "for",
         "text": [
          "token: for || tf   : 20.0"
         ],
         "type": "scatter",
         "x": [
          7.21323823928833
         ]
        },
        {
         "line": {
          "color": "DarkSlateGrey",
          "width": 2
         },
         "marker": {
          "color": [
           0.85581,
           0.888601,
           0.097452,
           1
          ],
          "size": 9
         },
         "mode": "markers",
         "name": "purposes",
         "text": [
          "token: purposes || tf   : 7.0"
         ],
         "type": "scatter",
         "x": [
          -1.5929923057556152
         ]
        },
        {
         "line": {
          "color": "DarkSlateGrey",
          "width": 2
         },
         "marker": {
          "color": [
           0.85581,
           0.888601,
           0.097452,
           1
          ],
          "size": 9
         },
         "mode": "markers",
         "name": "this",
         "text": [
          "token: this || tf   : 11.0"
         ],
         "type": "scatter",
         "x": [
          -1.6721255779266357
         ]
        },
        {
         "line": {
          "color": "DarkSlateGrey",
          "width": 2
         },
         "marker": {
          "color": [
           0.267004,
           0.004874,
           0.329415,
           1
          ],
          "size": 9
         },
         "mode": "markers",
         "name": "section",
         "text": [
          "token: section || tf   : 18.0"
         ],
         "type": "scatter",
         "x": [
          23.210601806640625
         ]
        },
        {
         "line": {
          "color": "DarkSlateGrey",
          "width": 2
         },
         "marker": {
          "color": [
           0.993248,
           0.906157,
           0.143936,
           1
          ],
          "size": 9
         },
         "mode": "markers",
         "name": "the",
         "text": [
          "token: the || tf   : 83.0"
         ],
         "type": "scatter",
         "x": [
          6.725517272949219
         ]
        },
        {
         "line": {
          "color": "DarkSlateGrey",
          "width": 2
         },
         "marker": {
          "color": [
           0.85581,
           0.888601,
           0.097452,
           1
          ],
          "size": 9
         },
         "mode": "markers",
         "name": "term",
         "text": [
          "token: term || tf   : 11.0"
         ],
         "type": "scatter",
         "x": [
          -2.253129243850708
         ]
        },
        {
         "line": {
          "color": "DarkSlateGrey",
          "width": 2
         },
         "marker": {
          "color": [
           0.20803,
           0.718701,
           0.472873,
           1
          ],
          "size": 9
         },
         "mode": "markers",
         "name": "qualified",
         "text": [
          "token: qualified || tf   : 3.0"
         ],
         "type": "scatter",
         "x": [
          17.40036964416504
         ]
        },
        {
         "line": {
          "color": "DarkSlateGrey",
          "width": 2
         },
         "marker": {
          "color": [
           0.993248,
           0.906157,
           0.143936,
           1
          ],
          "size": 9
         },
         "mode": "markers",
         "name": "stem",
         "text": [
          "token: stem || tf   : 35.0"
         ],
         "type": "scatter",
         "x": [
          6.621023178100586
         ]
        },
        {
         "line": {
          "color": "DarkSlateGrey",
          "width": 2
         },
         "marker": {
          "color": [
           0.85581,
           0.888601,
           0.097452,
           1
          ],
          "size": 9
         },
         "mode": "markers",
         "name": "contributions",
         "text": [
          "token: contributions || tf   : 17.0"
         ],
         "type": "scatter",
         "x": [
          -2.0631701946258545
         ]
        },
        {
         "line": {
          "color": "DarkSlateGrey",
          "width": 2
         },
         "marker": {
          "color": [
           0.993248,
           0.906157,
           0.143936,
           1
          ],
          "size": 9
         },
         "mode": "markers",
         "name": "means",
         "text": [
          "token: means || tf   : 11.0"
         ],
         "type": "scatter",
         "x": [
          10.90732479095459
         ]
        },
        {
         "line": {
          "color": "DarkSlateGrey",
          "width": 2
         },
         "marker": {
          "color": [
           0.993248,
           0.906157,
           0.143936,
           1
          ],
          "size": 9
         },
         "mode": "markers",
         "name": "stem",
         "text": [
          "token: stem || tf   : 35.0"
         ],
         "type": "scatter",
         "x": [
          -2.180882453918457
         ]
        },
        {
         "line": {
          "color": "DarkSlateGrey",
          "width": 2
         },
         "marker": {
          "color": [
           0.993248,
           0.906157,
           0.143936,
           1
          ],
          "size": 9
         },
         "mode": "markers",
         "name": "school",
         "text": [
          "token: school || tf   : 17.0"
         ],
         "type": "scatter",
         "x": [
          14.52486515045166
         ]
        },
        {
         "line": {
          "color": "DarkSlateGrey",
          "width": 2
         },
         "marker": {
          "color": [
           0.993248,
           0.906157,
           0.143936,
           1
          ],
          "size": 9
         },
         "mode": "markers",
         "name": "contributions",
         "text": [
          "token: contributions || tf   : 17.0"
         ],
         "type": "scatter",
         "x": [
          1.7791403532028198
         ]
        },
        {
         "line": {
          "color": "DarkSlateGrey",
          "width": 2
         },
         "marker": {
          "color": [
           0.267004,
           0.004874,
           0.329415,
           1
          ],
          "size": 9
         },
         "mode": "markers",
         "name": "stem",
         "text": [
          "token: stem || tf   : 35.0"
         ],
         "type": "scatter",
         "x": [
          23.219783782958984
         ]
        },
        {
         "line": {
          "color": "DarkSlateGrey",
          "width": 2
         },
         "marker": {
          "color": [
           0.147607,
           0.511733,
           0.557049,
           1
          ],
          "size": 9
         },
         "mode": "markers",
         "name": "teacher",
         "text": [
          "token: teacher || tf   : 14.0"
         ],
         "type": "scatter",
         "x": [
          -7.8994574546813965
         ]
        },
        {
         "line": {
          "color": "DarkSlateGrey",
          "width": 2
         },
         "marker": {
          "color": [
           0.993248,
           0.906157,
           0.143936,
           1
          ],
          "size": 9
         },
         "mode": "markers",
         "name": "##tern",
         "text": [
          "token: ##tern || tf   : 6.0"
         ],
         "type": "scatter",
         "x": [
          0.9362707138061523
         ]
        },
        {
         "line": {
          "color": "DarkSlateGrey",
          "width": 2
         },
         "marker": {
          "color": [
           0.993248,
           0.906157,
           0.143936,
           1
          ],
          "size": 9
         },
         "mode": "markers",
         "name": "##ship",
         "text": [
          "token: ##ship || tf   : 6.0"
         ],
         "type": "scatter",
         "x": [
          7.113789081573486
         ]
        },
        {
         "line": {
          "color": "DarkSlateGrey",
          "width": 2
         },
         "marker": {
          "color": [
           0.85581,
           0.888601,
           0.097452,
           1
          ],
          "size": 9
         },
         "mode": "markers",
         "name": "expenses",
         "text": [
          "token: expenses || tf   : 6.0"
         ],
         "type": "scatter",
         "x": [
          -1.6077409982681274
         ]
        },
        {
         "line": {
          "color": "DarkSlateGrey",
          "width": 2
         },
         "marker": {
          "color": [
           0.993248,
           0.906157,
           0.143936,
           1
          ],
          "size": 9
         },
         "mode": "markers",
         "name": "and",
         "text": [
          "token: and || tf   : 23.0"
         ],
         "type": "scatter",
         "x": [
          0.8650764226913452
         ]
        },
        {
         "line": {
          "color": "DarkSlateGrey",
          "width": 2
         },
         "marker": {
          "color": [
           0.127568,
           0.566949,
           0.550556,
           1
          ],
          "size": 9
         },
         "mode": "markers",
         "name": "stem",
         "text": [
          "token: stem || tf   : 35.0"
         ],
         "type": "scatter",
         "x": [
          9.298715591430664
         ]
        },
        {
         "line": {
          "color": "DarkSlateGrey",
          "width": 2
         },
         "marker": {
          "color": [
           0.993248,
           0.906157,
           0.143936,
           1
          ],
          "size": 9
         },
         "mode": "markers",
         "name": "teacher",
         "text": [
          "token: teacher || tf   : 14.0"
         ],
         "type": "scatter",
         "x": [
          0.04266965016722679
         ]
        },
        {
         "line": {
          "color": "DarkSlateGrey",
          "width": 2
         },
         "marker": {
          "color": [
           0.993248,
           0.906157,
           0.143936,
           1
          ],
          "size": 9
         },
         "mode": "markers",
         "name": "training",
         "text": [
          "token: training || tf   : 5.0"
         ],
         "type": "scatter",
         "x": [
          1.1723203659057617
         ]
        },
        {
         "line": {
          "color": "DarkSlateGrey",
          "width": 2
         },
         "marker": {
          "color": [
           0.993248,
           0.906157,
           0.143936,
           1
          ],
          "size": 9
         },
         "mode": "markers",
         "name": "expenses",
         "text": [
          "token: expenses || tf   : 6.0"
         ],
         "type": "scatter",
         "x": [
          1.205381155014038
         ]
        },
        {
         "line": {
          "color": "DarkSlateGrey",
          "width": 2
         },
         "marker": {
          "color": [
           0.993248,
           0.906157,
           0.143936,
           1
          ],
          "size": 9
         },
         "mode": "markers",
         "name": "stem",
         "text": [
          "token: stem || tf   : 35.0"
         ],
         "type": "scatter",
         "x": [
          8.096898078918457
         ]
        },
        {
         "line": {
          "color": "DarkSlateGrey",
          "width": 2
         },
         "marker": {
          "color": [
           0.85581,
           0.888601,
           0.097452,
           1
          ],
          "size": 9
         },
         "mode": "markers",
         "name": "school",
         "text": [
          "token: school || tf   : 17.0"
         ],
         "type": "scatter",
         "x": [
          -1.3882710933685303
         ]
        },
        {
         "line": {
          "color": "DarkSlateGrey",
          "width": 2
         },
         "marker": {
          "color": [
           0.127568,
           0.566949,
           0.550556,
           1
          ],
          "size": 9
         },
         "mode": "markers",
         "name": "contributions",
         "text": [
          "token: contributions || tf   : 17.0"
         ],
         "type": "scatter",
         "x": [
          9.378915786743164
         ]
        },
        {
         "line": {
          "color": "DarkSlateGrey",
          "width": 2
         },
         "marker": {
          "color": [
           0.267004,
           0.004874,
           0.329415,
           1
          ],
          "size": 9
         },
         "mode": "markers",
         "name": "for",
         "text": [
          "token: for || tf   : 20.0"
         ],
         "type": "scatter",
         "x": [
          23.21024513244629
         ]
        },
        {
         "line": {
          "color": "DarkSlateGrey",
          "width": 2
         },
         "marker": {
          "color": [
           0.147607,
           0.511733,
           0.557049,
           1
          ],
          "size": 9
         },
         "mode": "markers",
         "name": "purposes",
         "text": [
          "token: purposes || tf   : 7.0"
         ],
         "type": "scatter",
         "x": [
          -7.887117862701416
         ]
        },
        {
         "line": {
          "color": "DarkSlateGrey",
          "width": 2
         },
         "marker": {
          "color": [
           0.993248,
           0.906157,
           0.143936,
           1
          ],
          "size": 9
         },
         "mode": "markers",
         "name": "this",
         "text": [
          "token: this || tf   : 11.0"
         ],
         "type": "scatter",
         "x": [
          3.520460367202759
         ]
        },
        {
         "line": {
          "color": "DarkSlateGrey",
          "width": 2
         },
         "marker": {
          "color": [
           0.993248,
           0.906157,
           0.143936,
           1
          ],
          "size": 9
         },
         "mode": "markers",
         "name": "section",
         "text": [
          "token: section || tf   : 18.0"
         ],
         "type": "scatter",
         "x": [
          4.205247402191162
         ]
        },
        {
         "line": {
          "color": "DarkSlateGrey",
          "width": 2
         },
         "marker": {
          "color": [
           0.993248,
           0.906157,
           0.143936,
           1
          ],
          "size": 9
         },
         "mode": "markers",
         "name": "general",
         "text": [
          "token: general || tf   : 4.0"
         ],
         "type": "scatter",
         "x": [
          8.828091621398926
         ]
        },
        {
         "line": {
          "color": "DarkSlateGrey",
          "width": 2
         },
         "marker": {
          "color": [
           0.267004,
           0.004874,
           0.329415,
           1
          ],
          "size": 9
         },
         "mode": "markers",
         "name": "the",
         "text": [
          "token: the || tf   : 83.0"
         ],
         "type": "scatter",
         "x": [
          23.210655212402344
         ]
        },
        {
         "line": {
          "color": "DarkSlateGrey",
          "width": 2
         },
         "marker": {
          "color": [
           0.147607,
           0.511733,
           0.557049,
           1
          ],
          "size": 9
         },
         "mode": "markers",
         "name": "term",
         "text": [
          "token: term || tf   : 11.0"
         ],
         "type": "scatter",
         "x": [
          -7.900641918182373
         ]
        },
        {
         "line": {
          "color": "DarkSlateGrey",
          "width": 2
         },
         "marker": {
          "color": [
           0.993248,
           0.906157,
           0.143936,
           1
          ],
          "size": 9
         },
         "mode": "markers",
         "name": "stem",
         "text": [
          "token: stem || tf   : 35.0"
         ],
         "type": "scatter",
         "x": [
          26.482019424438477
         ]
        },
        {
         "line": {
          "color": "DarkSlateGrey",
          "width": 2
         },
         "marker": {
          "color": [
           0.993248,
           0.906157,
           0.143936,
           1
          ],
          "size": 9
         },
         "mode": "markers",
         "name": "school",
         "text": [
          "token: school || tf   : 17.0"
         ],
         "type": "scatter",
         "x": [
          8.703301429748535
         ]
        },
        {
         "line": {
          "color": "DarkSlateGrey",
          "width": 2
         },
         "marker": {
          "color": [
           0.85581,
           0.888601,
           0.097452,
           1
          ],
          "size": 9
         },
         "mode": "markers",
         "name": "contributions",
         "text": [
          "token: contributions || tf   : 17.0"
         ],
         "type": "scatter",
         "x": [
          -1.4856454133987427
         ]
        },
        {
         "line": {
          "color": "DarkSlateGrey",
          "width": 2
         },
         "marker": {
          "color": [
           0.993248,
           0.906157,
           0.143936,
           1
          ],
          "size": 9
         },
         "mode": "markers",
         "name": "means",
         "text": [
          "token: means || tf   : 11.0"
         ],
         "type": "scatter",
         "x": [
          -0.15782707929611206
         ]
        },
        {
         "line": {
          "color": "DarkSlateGrey",
          "width": 2
         },
         "marker": {
          "color": [
           0.281412,
           0.155834,
           0.469201,
           1
          ],
          "size": 9
         },
         "mode": "markers",
         "name": "stem",
         "text": [
          "token: stem || tf   : 35.0"
         ],
         "type": "scatter",
         "x": [
          26.82079315185547
         ]
        },
        {
         "line": {
          "color": "DarkSlateGrey",
          "width": 2
         },
         "marker": {
          "color": [
           0.993248,
           0.906157,
           0.143936,
           1
          ],
          "size": 9
         },
         "mode": "markers",
         "name": "property",
         "text": [
          "token: property || tf   : 14.0"
         ],
         "type": "scatter",
         "x": [
          -0.9046400785446167
         ]
        },
        {
         "line": {
          "color": "DarkSlateGrey",
          "width": 2
         },
         "marker": {
          "color": [
           0.993248,
           0.906157,
           0.143936,
           1
          ],
          "size": 9
         },
         "mode": "markers",
         "name": "contributions",
         "text": [
          "token: contributions || tf   : 17.0"
         ],
         "type": "scatter",
         "x": [
          0.2088625431060791
         ]
        },
        {
         "line": {
          "color": "DarkSlateGrey",
          "width": 2
         },
         "marker": {
          "color": [
           0.121148,
           0.592739,
           0.544641,
           1
          ],
          "size": 9
         },
         "mode": "markers",
         "name": "and",
         "text": [
          "token: and || tf   : 23.0"
         ],
         "type": "scatter",
         "x": [
          3.9592397212982178
         ]
        },
        {
         "line": {
          "color": "DarkSlateGrey",
          "width": 2
         },
         "marker": {
          "color": [
           0.281446,
           0.08432,
           0.407414,
           1
          ],
          "size": 9
         },
         "mode": "markers",
         "name": "stem",
         "text": [
          "token: stem || tf   : 35.0"
         ],
         "type": "scatter",
         "x": [
          2.7679684162139893
         ]
        },
        {
         "line": {
          "color": "DarkSlateGrey",
          "width": 2
         },
         "marker": {
          "color": [
           0.304148,
           0.764704,
           0.419943,
           1
          ],
          "size": 9
         },
         "mode": "markers",
         "name": "service",
         "text": [
          "token: service || tf   : 4.0"
         ],
         "type": "scatter",
         "x": [
          19.089702606201172
         ]
        },
        {
         "line": {
          "color": "DarkSlateGrey",
          "width": 2
         },
         "marker": {
          "color": [
           0.252899,
           0.742211,
           0.448284,
           1
          ],
          "size": 9
         },
         "mode": "markers",
         "name": "contributions",
         "text": [
          "token: contributions || tf   : 17.0"
         ],
         "type": "scatter",
         "x": [
          -14.862570762634277
         ]
        },
        {
         "line": {
          "color": "DarkSlateGrey",
          "width": 2
         },
         "marker": {
          "color": [
           0.283229,
           0.120777,
           0.440584,
           1
          ],
          "size": 9
         },
         "mode": "markers",
         "name": "stem",
         "text": [
          "token: stem || tf   : 35.0"
         ],
         "type": "scatter",
         "x": [
          -14.002744674682617
         ]
        },
        {
         "line": {
          "color": "DarkSlateGrey",
          "width": 2
         },
         "marker": {
          "color": [
           0.993248,
           0.906157,
           0.143936,
           1
          ],
          "size": 9
         },
         "mode": "markers",
         "name": "property",
         "text": [
          "token: property || tf   : 14.0"
         ],
         "type": "scatter",
         "x": [
          0.058895185589790344
         ]
        },
        {
         "line": {
          "color": "DarkSlateGrey",
          "width": 2
         },
         "marker": {
          "color": [
           0.993248,
           0.906157,
           0.143936,
           1
          ],
          "size": 9
         },
         "mode": "markers",
         "name": "contributions",
         "text": [
          "token: contributions || tf   : 17.0"
         ],
         "type": "scatter",
         "x": [
          1.5255426168441772
         ]
        },
        {
         "line": {
          "color": "DarkSlateGrey",
          "width": 2
         },
         "marker": {
          "color": [
           0.229739,
           0.322361,
           0.545706,
           1
          ],
          "size": 9
         },
         "mode": "markers",
         "name": "the",
         "text": [
          "token: the || tf   : 83.0"
         ],
         "type": "scatter",
         "x": [
          -9.774048805236816
         ]
        },
        {
         "line": {
          "color": "DarkSlateGrey",
          "width": 2
         },
         "marker": {
          "color": [
           0.993248,
           0.906157,
           0.143936,
           1
          ],
          "size": 9
         },
         "mode": "markers",
         "name": "term",
         "text": [
          "token: term || tf   : 11.0"
         ],
         "type": "scatter",
         "x": [
          7.9882941246032715
         ]
        },
        {
         "line": {
          "color": "DarkSlateGrey",
          "width": 2
         },
         "marker": {
          "color": [
           0.783315,
           0.879285,
           0.125405,
           1
          ],
          "size": 9
         },
         "mode": "markers",
         "name": "stem",
         "text": [
          "token: stem || tf   : 35.0"
         ],
         "type": "scatter",
         "x": [
          -3.5328288078308105
         ]
        },
        {
         "line": {
          "color": "DarkSlateGrey",
          "width": 2
         },
         "marker": {
          "color": [
           0.244972,
           0.287675,
           0.53726,
           1
          ],
          "size": 9
         },
         "mode": "markers",
         "name": "property",
         "text": [
          "token: property || tf   : 14.0"
         ],
         "type": "scatter",
         "x": [
          -6.962439060211182
         ]
        },
        {
         "line": {
          "color": "DarkSlateGrey",
          "width": 2
         },
         "marker": {
          "color": [
           0.229739,
           0.322361,
           0.545706,
           1
          ],
          "size": 9
         },
         "mode": "markers",
         "name": "contributions",
         "text": [
          "token: contributions || tf   : 17.0"
         ],
         "type": "scatter",
         "x": [
          -9.665658950805664
         ]
        },
        {
         "line": {
          "color": "DarkSlateGrey",
          "width": 2
         },
         "marker": {
          "color": [
           0.119699,
           0.61849,
           0.536347,
           1
          ],
          "size": 9
         },
         "mode": "markers",
         "name": "means",
         "text": [
          "token: means || tf   : 11.0"
         ],
         "type": "scatter",
         "x": [
          5.196632385253906
         ]
        },
        {
         "line": {
          "color": "DarkSlateGrey",
          "width": 2
         },
         "marker": {
          "color": [
           0.257322,
           0.25613,
           0.526563,
           1
          ],
          "size": 9
         },
         "mode": "markers",
         "name": "the",
         "text": [
          "token: the || tf   : 83.0"
         ],
         "type": "scatter",
         "x": [
          -6.081494331359863
         ]
        },
        {
         "line": {
          "color": "DarkSlateGrey",
          "width": 2
         },
         "marker": {
          "color": [
           0.709898,
           0.868751,
           0.169257,
           1
          ],
          "size": 9
         },
         "mode": "markers",
         "name": "amount",
         "text": [
          "token: amount || tf   : 8.0"
         ],
         "type": "scatter",
         "x": [
          -1.0698119401931763
         ]
        },
        {
         "line": {
          "color": "DarkSlateGrey",
          "width": 2
         },
         "marker": {
          "color": [
           0.121148,
           0.592739,
           0.544641,
           1
          ],
          "size": 9
         },
         "mode": "markers",
         "name": "which",
         "text": [
          "token: which || tf   : 8.0"
         ],
         "type": "scatter",
         "x": [
          4.062061309814453
         ]
        },
        {
         "line": {
          "color": "DarkSlateGrey",
          "width": 2
         },
         "marker": {
          "color": [
           0.121148,
           0.592739,
           0.544641,
           1
          ],
          "size": 9
         },
         "mode": "markers",
         "name": "would",
         "text": [
          "token: would || tf   : 1.0"
         ],
         "type": "scatter",
         "x": [
          4.6511993408203125
         ]
        },
        {
         "line": {
          "color": "DarkSlateGrey",
          "width": 2
         },
         "marker": {
          "color": [
           0.993248,
           0.906157,
           0.143936,
           1
          ],
          "size": 9
         },
         "mode": "markers",
         "name": "but",
         "text": [
          "token: but || tf   : 3.0"
         ],
         "type": "scatter",
         "x": [
          2.901038408279419
         ]
        },
        {
         "line": {
          "color": "DarkSlateGrey",
          "width": 2
         },
         "marker": {
          "color": [
           0.993248,
           0.906157,
           0.143936,
           1
          ],
          "size": 9
         },
         "mode": "markers",
         "name": "for",
         "text": [
          "token: for || tf   : 20.0"
         ],
         "type": "scatter",
         "x": [
          -1.3436994552612305
         ]
        },
        {
         "line": {
          "color": "DarkSlateGrey",
          "width": 2
         },
         "marker": {
          "color": [
           0.993248,
           0.906157,
           0.143936,
           1
          ],
          "size": 9
         },
         "mode": "markers",
         "name": "sub",
         "text": [
          "token: sub || tf   : 7.0"
         ],
         "type": "scatter",
         "x": [
          1.1459143161773682
         ]
        },
        {
         "line": {
          "color": "DarkSlateGrey",
          "width": 2
         },
         "marker": {
          "color": [
           0.993248,
           0.906157,
           0.143936,
           1
          ],
          "size": 9
         },
         "mode": "markers",
         "name": "##section",
         "text": [
          "token: ##section || tf   : 2.0"
         ],
         "type": "scatter",
         "x": [
          0.7869406938552856
         ]
        },
        {
         "line": {
          "color": "DarkSlateGrey",
          "width": 2
         },
         "marker": {
          "color": [
           0.85581,
           0.888601,
           0.097452,
           1
          ],
          "size": 9
         },
         "mode": "markers",
         "name": "allowed",
         "text": [
          "token: allowed || tf   : 3.0"
         ],
         "type": "scatter",
         "x": [
          -2.1276695728302
         ]
        },
        {
         "line": {
          "color": "DarkSlateGrey",
          "width": 2
         },
         "marker": {
          "color": [
           0.993248,
           0.906157,
           0.143936,
           1
          ],
          "size": 9
         },
         "mode": "markers",
         "name": "##duction",
         "text": [
          "token: ##duction || tf   : 3.0"
         ],
         "type": "scatter",
         "x": [
          8.668866157531738
         ]
        },
        {
         "line": {
          "color": "DarkSlateGrey",
          "width": 2
         },
         "marker": {
          "color": [
           0.993248,
           0.906157,
           0.143936,
           1
          ],
          "size": 9
         },
         "mode": "markers",
         "name": "under",
         "text": [
          "token: under || tf   : 9.0"
         ],
         "type": "scatter",
         "x": [
          10.938261985778809
         ]
        },
        {
         "line": {
          "color": "DarkSlateGrey",
          "width": 2
         },
         "marker": {
          "color": [
           0.993248,
           0.906157,
           0.143936,
           1
          ],
          "size": 9
         },
         "mode": "markers",
         "name": "section",
         "text": [
          "token: section || tf   : 18.0"
         ],
         "type": "scatter",
         "x": [
          10.695877075195312
         ]
        },
        {
         "line": {
          "color": "DarkSlateGrey",
          "width": 2
         },
         "marker": {
          "color": [
           0.496615,
           0.826376,
           0.306377,
           1
          ],
          "size": 9
         },
         "mode": "markers",
         "name": "170",
         "text": [
          "token: 170 || tf   : 6.0"
         ],
         "type": "scatter",
         "x": [
          13.438056945800781
         ]
        },
        {
         "line": {
          "color": "DarkSlateGrey",
          "width": 2
         },
         "marker": {
          "color": [
           0.993248,
           0.906157,
           0.143936,
           1
          ],
          "size": 9
         },
         "mode": "markers",
         "name": "for",
         "text": [
          "token: for || tf   : 20.0"
         ],
         "type": "scatter",
         "x": [
          8.21554183959961
         ]
        },
        {
         "line": {
          "color": "DarkSlateGrey",
          "width": 2
         },
         "marker": {
          "color": [
           0.926106,
           0.89733,
           0.104071,
           1
          ],
          "size": 9
         },
         "mode": "markers",
         "name": "charitable",
         "text": [
          "token: charitable || tf   : 1.0"
         ],
         "type": "scatter",
         "x": [
          -2.6061809062957764
         ]
        },
        {
         "line": {
          "color": "DarkSlateGrey",
          "width": 2
         },
         "marker": {
          "color": [
           0.993248,
           0.906157,
           0.143936,
           1
          ],
          "size": 9
         },
         "mode": "markers",
         "name": "contribution",
         "text": [
          "token: contribution || tf   : 3.0"
         ],
         "type": "scatter",
         "x": [
          3.640504837036133
         ]
        },
        {
         "line": {
          "color": "DarkSlateGrey",
          "width": 2
         },
         "marker": {
          "color": [
           0.993248,
           0.906157,
           0.143936,
           1
          ],
          "size": 9
         },
         "mode": "markers",
         "name": "stem",
         "text": [
          "token: stem || tf   : 35.0"
         ],
         "type": "scatter",
         "x": [
          12.99425983428955
         ]
        },
        {
         "line": {
          "color": "DarkSlateGrey",
          "width": 2
         },
         "marker": {
          "color": [
           0.430983,
           0.808473,
           0.346476,
           1
          ],
          "size": 9
         },
         "mode": "markers",
         "name": "inventory",
         "text": [
          "token: inventory || tf   : 4.0"
         ],
         "type": "scatter",
         "x": [
          15.890660285949707
         ]
        },
        {
         "line": {
          "color": "DarkSlateGrey",
          "width": 2
         },
         "marker": {
          "color": [
           0.430983,
           0.808473,
           0.346476,
           1
          ],
          "size": 9
         },
         "mode": "markers",
         "name": "property",
         "text": [
          "token: property || tf   : 14.0"
         ],
         "type": "scatter",
         "x": [
          16.013782501220703
         ]
        },
        {
         "line": {
          "color": "DarkSlateGrey",
          "width": 2
         },
         "marker": {
          "color": [
           0.993248,
           0.906157,
           0.143936,
           1
          ],
          "size": 9
         },
         "mode": "markers",
         "name": "the",
         "text": [
          "token: the || tf   : 83.0"
         ],
         "type": "scatter",
         "x": [
          6.87431001663208
         ]
        },
        {
         "line": {
          "color": "DarkSlateGrey",
          "width": 2
         },
         "marker": {
          "color": [
           0.993248,
           0.906157,
           0.143936,
           1
          ],
          "size": 9
         },
         "mode": "markers",
         "name": "done",
         "text": [
          "token: done || tf   : 7.0"
         ],
         "type": "scatter",
         "x": [
          -2.068615436553955
         ]
        },
        {
         "line": {
          "color": "DarkSlateGrey",
          "width": 2
         },
         "marker": {
          "color": [
           0.13777,
           0.537492,
           0.554906,
           1
          ],
          "size": 9
         },
         "mode": "markers",
         "name": "##e",
         "text": [
          "token: ##e || tf   : 7.0"
         ],
         "type": "scatter",
         "x": [
          7.491876125335693
         ]
        },
        {
         "line": {
          "color": "DarkSlateGrey",
          "width": 2
         },
         "marker": {
          "color": [
           0.170948,
           0.694384,
           0.493803,
           1
          ],
          "size": 9
         },
         "mode": "markers",
         "name": "elementary",
         "text": [
          "token: elementary || tf   : 7.0"
         ],
         "type": "scatter",
         "x": [
          20.829479217529297
         ]
        },
        {
         "line": {
          "color": "DarkSlateGrey",
          "width": 2
         },
         "marker": {
          "color": [
           0.13777,
           0.537492,
           0.554906,
           1
          ],
          "size": 9
         },
         "mode": "markers",
         "name": "secondary",
         "text": [
          "token: secondary || tf   : 7.0"
         ],
         "type": "scatter",
         "x": [
          7.490579605102539
         ]
        },
        {
         "line": {
          "color": "DarkSlateGrey",
          "width": 2
         },
         "marker": {
          "color": [
           0.993248,
           0.906157,
           0.143936,
           1
          ],
          "size": 9
         },
         "mode": "markers",
         "name": "school",
         "text": [
          "token: school || tf   : 17.0"
         ],
         "type": "scatter",
         "x": [
          7.314815998077393
         ]
        },
        {
         "line": {
          "color": "DarkSlateGrey",
          "width": 2
         },
         "marker": {
          "color": [
           0.276194,
           0.190074,
           0.493001,
           1
          ],
          "size": 9
         },
         "mode": "markers",
         "name": "described",
         "text": [
          "token: described || tf   : 4.0"
         ],
         "type": "scatter",
         "x": [
          27.008893966674805
         ]
        },
        {
         "line": {
          "color": "DarkSlateGrey",
          "width": 2
         },
         "marker": {
          "color": [
           0.993248,
           0.906157,
           0.143936,
           1
          ],
          "size": 9
         },
         "mode": "markers",
         "name": "section",
         "text": [
          "token: section || tf   : 18.0"
         ],
         "type": "scatter",
         "x": [
          0.22669227421283722
         ]
        },
        {
         "line": {
          "color": "DarkSlateGrey",
          "width": 2
         },
         "marker": {
          "color": [
           0.993248,
           0.906157,
           0.143936,
           1
          ],
          "size": 9
         },
         "mode": "markers",
         "name": "170",
         "text": [
          "token: 170 || tf   : 6.0"
         ],
         "type": "scatter",
         "x": [
          3.4511194229125977
         ]
        },
        {
         "line": {
          "color": "DarkSlateGrey",
          "width": 2
         },
         "marker": {
          "color": [
           0.127568,
           0.566949,
           0.550556,
           1
          ],
          "size": 9
         },
         "mode": "markers",
         "name": "substantially",
         "text": [
          "token: substantially || tf   : 1.0"
         ],
         "type": "scatter",
         "x": [
          9.316374778747559
         ]
        },
        {
         "line": {
          "color": "DarkSlateGrey",
          "width": 2
         },
         "marker": {
          "color": [
           0.157729,
           0.485932,
           0.558013,
           1
          ],
          "size": 9
         },
         "mode": "markers",
         "name": "all",
         "text": [
          "token: all || tf   : 2.0"
         ],
         "type": "scatter",
         "x": [
          1.826919674873352
         ]
        },
        {
         "line": {
          "color": "DarkSlateGrey",
          "width": 2
         },
         "marker": {
          "color": [
           0.993248,
           0.906157,
           0.143936,
           1
          ],
          "size": 9
         },
         "mode": "markers",
         "name": "the",
         "text": [
          "token: the || tf   : 83.0"
         ],
         "type": "scatter",
         "x": [
          -14.60628890991211
         ]
        },
        {
         "line": {
          "color": "DarkSlateGrey",
          "width": 2
         },
         "marker": {
          "color": [
           0.252899,
           0.742211,
           0.448284,
           1
          ],
          "size": 9
         },
         "mode": "markers",
         "name": "use",
         "text": [
          "token: use || tf   : 3.0"
         ],
         "type": "scatter",
         "x": [
          -14.374614715576172
         ]
        },
        {
         "line": {
          "color": "DarkSlateGrey",
          "width": 2
         },
         "marker": {
          "color": [
           0.993248,
           0.906157,
           0.143936,
           1
          ],
          "size": 9
         },
         "mode": "markers",
         "name": "the",
         "text": [
          "token: the || tf   : 83.0"
         ],
         "type": "scatter",
         "x": [
          -13.910228729248047
         ]
        },
        {
         "line": {
          "color": "DarkSlateGrey",
          "width": 2
         },
         "marker": {
          "color": [
           0.993248,
           0.906157,
           0.143936,
           1
          ],
          "size": 9
         },
         "mode": "markers",
         "name": "property",
         "text": [
          "token: property || tf   : 14.0"
         ],
         "type": "scatter",
         "x": [
          2.8264577388763428
         ]
        },
        {
         "line": {
          "color": "DarkSlateGrey",
          "width": 2
         },
         "marker": {
          "color": [
           0.565498,
           0.84243,
           0.262877,
           1
          ],
          "size": 9
         },
         "mode": "markers",
         "name": "the",
         "text": [
          "token: the || tf   : 83.0"
         ],
         "type": "scatter",
         "x": [
          11.324466705322266
         ]
        },
        {
         "line": {
          "color": "DarkSlateGrey",
          "width": 2
         },
         "marker": {
          "color": [
           0.126326,
           0.644107,
           0.525311,
           1
          ],
          "size": 9
         },
         "mode": "markers",
         "name": "done",
         "text": [
          "token: done || tf   : 7.0"
         ],
         "type": "scatter",
         "x": [
          4.891127109527588
         ]
        },
        {
         "line": {
          "color": "DarkSlateGrey",
          "width": 2
         },
         "marker": {
          "color": [
           0.257322,
           0.25613,
           0.526563,
           1
          ],
          "size": 9
         },
         "mode": "markers",
         "name": "##e",
         "text": [
          "token: ##e || tf   : 7.0"
         ],
         "type": "scatter",
         "x": [
          -6.10740327835083
         ]
        },
        {
         "line": {
          "color": "DarkSlateGrey",
          "width": 2
         },
         "marker": {
          "color": [
           0.121148,
           0.592739,
           0.544641,
           1
          ],
          "size": 9
         },
         "mode": "markers",
         "name": "within",
         "text": [
          "token: within || tf   : 4.0"
         ],
         "type": "scatter",
         "x": [
          4.1310296058654785
         ]
        },
        {
         "line": {
          "color": "DarkSlateGrey",
          "width": 2
         },
         "marker": {
          "color": [
           0.121148,
           0.592739,
           0.544641,
           1
          ],
          "size": 9
         },
         "mode": "markers",
         "name": "the",
         "text": [
          "token: the || tf   : 83.0"
         ],
         "type": "scatter",
         "x": [
          4.477795124053955
         ]
        },
        {
         "line": {
          "color": "DarkSlateGrey",
          "width": 2
         },
         "marker": {
          "color": [
           0.993248,
           0.906157,
           0.143936,
           1
          ],
          "size": 9
         },
         "mode": "markers",
         "name": "united",
         "text": [
          "token: united || tf   : 5.0"
         ],
         "type": "scatter",
         "x": [
          4.585653305053711
         ]
        },
        {
         "line": {
          "color": "DarkSlateGrey",
          "width": 2
         },
         "marker": {
          "color": [
           0.993248,
           0.906157,
           0.143936,
           1
          ],
          "size": 9
         },
         "mode": "markers",
         "name": "states",
         "text": [
          "token: states || tf   : 5.0"
         ],
         "type": "scatter",
         "x": [
          6.76308536529541
         ]
        },
        {
         "line": {
          "color": "DarkSlateGrey",
          "width": 2
         },
         "marker": {
          "color": [
           0.229739,
           0.322361,
           0.545706,
           1
          ],
          "size": 9
         },
         "mode": "markers",
         "name": "within",
         "text": [
          "token: within || tf   : 4.0"
         ],
         "type": "scatter",
         "x": [
          -10.059624671936035
         ]
        },
        {
         "line": {
          "color": "DarkSlateGrey",
          "width": 2
         },
         "marker": {
          "color": [
           0.565498,
           0.84243,
           0.262877,
           1
          ],
          "size": 9
         },
         "mode": "markers",
         "name": "the",
         "text": [
          "token: the || tf   : 83.0"
         ],
         "type": "scatter",
         "x": [
          11.164000511169434
         ]
        },
        {
         "line": {
          "color": "DarkSlateGrey",
          "width": 2
         },
         "marker": {
          "color": [
           0.565498,
           0.84243,
           0.262877,
           1
          ],
          "size": 9
         },
         "mode": "markers",
         "name": "defense",
         "text": [
          "token: defense || tf   : 5.0"
         ],
         "type": "scatter",
         "x": [
          11.229472160339355
         ]
        },
        {
         "line": {
          "color": "DarkSlateGrey",
          "width": 2
         },
         "marker": {
          "color": [
           0.369214,
           0.788888,
           0.382914,
           1
          ],
          "size": 9
         },
         "mode": "markers",
         "name": "dependent",
         "text": [
          "token: dependent || tf   : 5.0"
         ],
         "type": "scatter",
         "x": [
          8.162775993347168
         ]
        },
        {
         "line": {
          "color": "DarkSlateGrey",
          "width": 2
         },
         "marker": {
          "color": [
           0.85581,
           0.888601,
           0.097452,
           1
          ],
          "size": 9
         },
         "mode": "markers",
         "name": "##s",
         "text": [
          "token: ##s || tf   : 5.0"
         ],
         "type": "scatter",
         "x": [
          -1.6223080158233643
         ]
        },
        {
         "line": {
          "color": "DarkSlateGrey",
          "width": 2
         },
         "marker": {
          "color": [
           0.993248,
           0.906157,
           0.143936,
           1
          ],
          "size": 9
         },
         "mode": "markers",
         "name": "education",
         "text": [
          "token: education || tf   : 12.0"
         ],
         "type": "scatter",
         "x": [
          -2.602365493774414
         ]
        },
        {
         "line": {
          "color": "DarkSlateGrey",
          "width": 2
         },
         "marker": {
          "color": [
           0.993248,
           0.906157,
           0.143936,
           1
          ],
          "size": 9
         },
         "mode": "markers",
         "name": "system",
         "text": [
          "token: system || tf   : 4.0"
         ],
         "type": "scatter",
         "x": [
          -0.20896312594413757
         ]
        },
        {
         "line": {
          "color": "DarkSlateGrey",
          "width": 2
         },
         "marker": {
          "color": [
           0.926106,
           0.89733,
           0.104071,
           1
          ],
          "size": 9
         },
         "mode": "markers",
         "name": "for",
         "text": [
          "token: for || tf   : 20.0"
         ],
         "type": "scatter",
         "x": [
          -2.619056224822998
         ]
        },
        {
         "line": {
          "color": "DarkSlateGrey",
          "width": 2
         },
         "marker": {
          "color": [
           0.993248,
           0.906157,
           0.143936,
           1
          ],
          "size": 9
         },
         "mode": "markers",
         "name": "educational",
         "text": [
          "token: educational || tf   : 2.0"
         ],
         "type": "scatter",
         "x": [
          0.6908731460571289
         ]
        },
        {
         "line": {
          "color": "DarkSlateGrey",
          "width": 2
         },
         "marker": {
          "color": [
           0.993248,
           0.906157,
           0.143936,
           1
          ],
          "size": 9
         },
         "mode": "markers",
         "name": "purposes",
         "text": [
          "token: purposes || tf   : 7.0"
         ],
         "type": "scatter",
         "x": [
          1.0633885860443115
         ]
        },
        {
         "line": {
          "color": "DarkSlateGrey",
          "width": 2
         },
         "marker": {
          "color": [
           0.121148,
           0.592739,
           0.544641,
           1
          ],
          "size": 9
         },
         "mode": "markers",
         "name": "any",
         "text": [
          "token: any || tf   : 14.0"
         ],
         "type": "scatter",
         "x": [
          4.216215133666992
         ]
        },
        {
         "line": {
          "color": "DarkSlateGrey",
          "width": 2
         },
         "marker": {
          "color": [
           0.993248,
           0.906157,
           0.143936,
           1
          ],
          "size": 9
         },
         "mode": "markers",
         "name": "the",
         "text": [
          "token: the || tf   : 83.0"
         ],
         "type": "scatter",
         "x": [
          2.438706159591675
         ]
        },
        {
         "line": {
          "color": "DarkSlateGrey",
          "width": 2
         },
         "marker": {
          "color": [
           0.993248,
           0.906157,
           0.143936,
           1
          ],
          "size": 9
         },
         "mode": "markers",
         "name": "grades",
         "text": [
          "token: grades || tf   : 4.0"
         ],
         "type": "scatter",
         "x": [
          2.3888630867004395
         ]
        },
        {
         "line": {
          "color": "DarkSlateGrey",
          "width": 2
         },
         "marker": {
          "color": [
           0.369214,
           0.788888,
           0.382914,
           1
          ],
          "size": 9
         },
         "mode": "markers",
         "name": "that",
         "text": [
          "token: that || tf   : 2.0"
         ],
         "type": "scatter",
         "x": [
          8.169249534606934
         ]
        },
        {
         "line": {
          "color": "DarkSlateGrey",
          "width": 2
         },
         "marker": {
          "color": [
           0.709898,
           0.868751,
           0.169257,
           1
          ],
          "size": 9
         },
         "mode": "markers",
         "name": "are",
         "text": [
          "token: are || tf   : 2.0"
         ],
         "type": "scatter",
         "x": [
          1.4175288677215576
         ]
        },
        {
         "line": {
          "color": "DarkSlateGrey",
          "width": 2
         },
         "marker": {
          "color": [
           0.993248,
           0.906157,
           0.143936,
           1
          ],
          "size": 9
         },
         "mode": "markers",
         "name": "related",
         "text": [
          "token: related || tf   : 2.0"
         ],
         "type": "scatter",
         "x": [
          -8.85561466217041
         ]
        },
        {
         "line": {
          "color": "DarkSlateGrey",
          "width": 2
         },
         "marker": {
          "color": [
           0.496615,
           0.826376,
           0.306377,
           1
          ],
          "size": 9
         },
         "mode": "markers",
         "name": "the",
         "text": [
          "token: the || tf   : 83.0"
         ],
         "type": "scatter",
         "x": [
          12.620830535888672
         ]
        },
        {
         "line": {
          "color": "DarkSlateGrey",
          "width": 2
         },
         "marker": {
          "color": [
           0.993248,
           0.906157,
           0.143936,
           1
          ],
          "size": 9
         },
         "mode": "markers",
         "name": "purpose",
         "text": [
          "token: purpose || tf   : 1.0"
         ],
         "type": "scatter",
         "x": [
          2.1956310272216797
         ]
        },
        {
         "line": {
          "color": "DarkSlateGrey",
          "width": 2
         },
         "marker": {
          "color": [
           0.121148,
           0.592739,
           0.544641,
           1
          ],
          "size": 9
         },
         "mode": "markers",
         "name": "function",
         "text": [
          "token: function || tf   : 1.0"
         ],
         "type": "scatter",
         "x": [
          4.410579204559326
         ]
        },
        {
         "line": {
          "color": "DarkSlateGrey",
          "width": 2
         },
         "marker": {
          "color": [
           0.496615,
           0.826376,
           0.306377,
           1
          ],
          "size": 9
         },
         "mode": "markers",
         "name": "the",
         "text": [
          "token: the || tf   : 83.0"
         ],
         "type": "scatter",
         "x": [
          12.61389446258545
         ]
        },
        {
         "line": {
          "color": "DarkSlateGrey",
          "width": 2
         },
         "marker": {
          "color": [
           0.993248,
           0.906157,
           0.143936,
           1
          ],
          "size": 9
         },
         "mode": "markers",
         "name": "done",
         "text": [
          "token: done || tf   : 7.0"
         ],
         "type": "scatter",
         "x": [
          4.2274627685546875
         ]
        },
        {
         "line": {
          "color": "DarkSlateGrey",
          "width": 2
         },
         "marker": {
          "color": [
           0.993248,
           0.906157,
           0.143936,
           1
          ],
          "size": 9
         },
         "mode": "markers",
         "name": "##e",
         "text": [
          "token: ##e || tf   : 7.0"
         ],
         "type": "scatter",
         "x": [
          4.241204738616943
         ]
        },
        {
         "line": {
          "color": "DarkSlateGrey",
          "width": 2
         },
         "marker": {
          "color": [
           0.565498,
           0.84243,
           0.262877,
           1
          ],
          "size": 9
         },
         "mode": "markers",
         "name": "the",
         "text": [
          "token: the || tf   : 83.0"
         ],
         "type": "scatter",
         "x": [
          11.254205703735352
         ]
        },
        {
         "line": {
          "color": "DarkSlateGrey",
          "width": 2
         },
         "marker": {
          "color": [
           0.369214,
           0.788888,
           0.382914,
           1
          ],
          "size": 9
         },
         "mode": "markers",
         "name": "original",
         "text": [
          "token: original || tf   : 1.0"
         ],
         "type": "scatter",
         "x": [
          8.174946784973145
         ]
        },
        {
         "line": {
          "color": "DarkSlateGrey",
          "width": 2
         },
         "marker": {
          "color": [
           0.783315,
           0.879285,
           0.125405,
           1
          ],
          "size": 9
         },
         "mode": "markers",
         "name": "use",
         "text": [
          "token: use || tf   : 3.0"
         ],
         "type": "scatter",
         "x": [
          -3.5521767139434814
         ]
        },
        {
         "line": {
          "color": "DarkSlateGrey",
          "width": 2
         },
         "marker": {
          "color": [
           0.229739,
           0.322361,
           0.545706,
           1
          ],
          "size": 9
         },
         "mode": "markers",
         "name": "the",
         "text": [
          "token: the || tf   : 83.0"
         ],
         "type": "scatter",
         "x": [
          -10.101775169372559
         ]
        },
        {
         "line": {
          "color": "DarkSlateGrey",
          "width": 2
         },
         "marker": {
          "color": [
           0.993248,
           0.906157,
           0.143936,
           1
          ],
          "size": 9
         },
         "mode": "markers",
         "name": "property",
         "text": [
          "token: property || tf   : 14.0"
         ],
         "type": "scatter",
         "x": [
          11.165903091430664
         ]
        },
        {
         "line": {
          "color": "DarkSlateGrey",
          "width": 2
         },
         "marker": {
          "color": [
           0.993248,
           0.906157,
           0.143936,
           1
          ],
          "size": 9
         },
         "mode": "markers",
         "name": "begins",
         "text": [
          "token: begins || tf   : 1.0"
         ],
         "type": "scatter",
         "x": [
          11.230327606201172
         ]
        },
        {
         "line": {
          "color": "DarkSlateGrey",
          "width": 2
         },
         "marker": {
          "color": [
           0.369214,
           0.788888,
           0.382914,
           1
          ],
          "size": 9
         },
         "mode": "markers",
         "name": "with",
         "text": [
          "token: with || tf   : 5.0"
         ],
         "type": "scatter",
         "x": [
          8.185589790344238
         ]
        },
        {
         "line": {
          "color": "DarkSlateGrey",
          "width": 2
         },
         "marker": {
          "color": [
           0.257322,
           0.25613,
           0.526563,
           1
          ],
          "size": 9
         },
         "mode": "markers",
         "name": "the",
         "text": [
          "token: the || tf   : 83.0"
         ],
         "type": "scatter",
         "x": [
          -6.134859561920166
         ]
        },
        {
         "line": {
          "color": "DarkSlateGrey",
          "width": 2
         },
         "marker": {
          "color": [
           0.709898,
           0.868751,
           0.169257,
           1
          ],
          "size": 9
         },
         "mode": "markers",
         "name": "done",
         "text": [
          "token: done || tf   : 7.0"
         ],
         "type": "scatter",
         "x": [
          1.469705581665039
         ]
        },
        {
         "line": {
          "color": "DarkSlateGrey",
          "width": 2
         },
         "marker": {
          "color": [
           0.369214,
           0.788888,
           0.382914,
           1
          ],
          "size": 9
         },
         "mode": "markers",
         "name": "##e",
         "text": [
          "token: ##e || tf   : 7.0"
         ],
         "type": "scatter",
         "x": [
          8.162599563598633
         ]
        },
        {
         "line": {
          "color": "DarkSlateGrey",
          "width": 2
         },
         "marker": {
          "color": [
           0.267968,
           0.223549,
           0.512008,
           1
          ],
          "size": 9
         },
         "mode": "markers",
         "name": "the",
         "text": [
          "token: the || tf   : 83.0"
         ],
         "type": "scatter",
         "x": [
          15.045679092407227
         ]
        },
        {
         "line": {
          "color": "DarkSlateGrey",
          "width": 2
         },
         "marker": {
          "color": [
           0.190631,
           0.407061,
           0.556089,
           1
          ],
          "size": 9
         },
         "mode": "markers",
         "name": "property",
         "text": [
          "token: property || tf   : 14.0"
         ],
         "type": "scatter",
         "x": [
          30.51264190673828
         ]
        },
        {
         "line": {
          "color": "DarkSlateGrey",
          "width": 2
         },
         "marker": {
          "color": [
           0.179019,
           0.433756,
           0.55743,
           1
          ],
          "size": 9
         },
         "mode": "markers",
         "name": "will",
         "text": [
          "token: will || tf   : 2.0"
         ],
         "type": "scatter",
         "x": [
          10.177103996276855
         ]
        },
        {
         "line": {
          "color": "DarkSlateGrey",
          "width": 2
         },
         "marker": {
          "color": [
           0.203063,
           0.379716,
           0.553925,
           1
          ],
          "size": 9
         },
         "mode": "markers",
         "name": "fit",
         "text": [
          "token: fit || tf   : 1.0"
         ],
         "type": "scatter",
         "x": [
          -11.968802452087402
         ]
        },
        {
         "line": {
          "color": "DarkSlateGrey",
          "width": 2
         },
         "marker": {
          "color": [
           0.21621,
           0.351535,
           0.550627,
           1
          ],
          "size": 9
         },
         "mode": "markers",
         "name": "productive",
         "text": [
          "token: productive || tf   : 1.0"
         ],
         "type": "scatter",
         "x": [
          32.492584228515625
         ]
        },
        {
         "line": {
          "color": "DarkSlateGrey",
          "width": 2
         },
         "marker": {
          "color": [
           0.276194,
           0.190074,
           0.493001,
           1
          ],
          "size": 9
         },
         "mode": "markers",
         "name": "##ly",
         "text": [
          "token: ##ly || tf   : 1.0"
         ],
         "type": "scatter",
         "x": [
          26.941713333129883
         ]
        },
        {
         "line": {
          "color": "DarkSlateGrey",
          "width": 2
         },
         "marker": {
          "color": [
           0.993248,
           0.906157,
           0.143936,
           1
          ],
          "size": 9
         },
         "mode": "markers",
         "name": "into",
         "text": [
          "token: into || tf   : 1.0"
         ],
         "type": "scatter",
         "x": [
          -0.5366066694259644
         ]
        },
        {
         "line": {
          "color": "DarkSlateGrey",
          "width": 2
         },
         "marker": {
          "color": [
           0.993248,
           0.906157,
           0.143936,
           1
          ],
          "size": 9
         },
         "mode": "markers",
         "name": "the",
         "text": [
          "token: the || tf   : 83.0"
         ],
         "type": "scatter",
         "x": [
          1.788944125175476
         ]
        },
        {
         "line": {
          "color": "DarkSlateGrey",
          "width": 2
         },
         "marker": {
          "color": [
           0.993248,
           0.906157,
           0.143936,
           1
          ],
          "size": 9
         },
         "mode": "markers",
         "name": "done",
         "text": [
          "token: done || tf   : 7.0"
         ],
         "type": "scatter",
         "x": [
          -8.809942245483398
         ]
        },
        {
         "line": {
          "color": "DarkSlateGrey",
          "width": 2
         },
         "marker": {
          "color": [
           0.229739,
           0.322361,
           0.545706,
           1
          ],
          "size": 9
         },
         "mode": "markers",
         "name": "##e",
         "text": [
          "token: ##e || tf   : 7.0"
         ],
         "type": "scatter",
         "x": [
          -10.099729537963867
         ]
        },
        {
         "line": {
          "color": "DarkSlateGrey",
          "width": 2
         },
         "marker": {
          "color": [
           0.993248,
           0.906157,
           0.143936,
           1
          ],
          "size": 9
         },
         "mode": "markers",
         "name": "education",
         "text": [
          "token: education || tf   : 12.0"
         ],
         "type": "scatter",
         "x": [
          11.76734733581543
         ]
        },
        {
         "line": {
          "color": "DarkSlateGrey",
          "width": 2
         },
         "marker": {
          "color": [
           0.993248,
           0.906157,
           0.143936,
           1
          ],
          "size": 9
         },
         "mode": "markers",
         "name": "plan",
         "text": [
          "token: plan || tf   : 1.0"
         ],
         "type": "scatter",
         "x": [
          11.768670082092285
         ]
        },
        {
         "line": {
          "color": "DarkSlateGrey",
          "width": 2
         },
         "marker": {
          "color": [
           0.179019,
           0.433756,
           0.55743,
           1
          ],
          "size": 9
         },
         "mode": "markers",
         "name": "the",
         "text": [
          "token: the || tf   : 83.0"
         ],
         "type": "scatter",
         "x": [
          10.195714950561523
         ]
        },
        {
         "line": {
          "color": "DarkSlateGrey",
          "width": 2
         },
         "marker": {
          "color": [
           0.203063,
           0.379716,
           0.553925,
           1
          ],
          "size": 9
         },
         "mode": "markers",
         "name": "property",
         "text": [
          "token: property || tf   : 14.0"
         ],
         "type": "scatter",
         "x": [
          -11.935797691345215
         ]
        },
        {
         "line": {
          "color": "DarkSlateGrey",
          "width": 2
         },
         "marker": {
          "color": [
           0.993248,
           0.906157,
           0.143936,
           1
          ],
          "size": 9
         },
         "mode": "markers",
         "name": "not",
         "text": [
          "token: not || tf   : 1.0"
         ],
         "type": "scatter",
         "x": [
          11.801677703857422
         ]
        },
        {
         "line": {
          "color": "DarkSlateGrey",
          "width": 2
         },
         "marker": {
          "color": [
           0.993248,
           0.906157,
           0.143936,
           1
          ],
          "size": 9
         },
         "mode": "markers",
         "name": "transferred",
         "text": [
          "token: transferred || tf   : 1.0"
         ],
         "type": "scatter",
         "x": [
          11.7959566116333
         ]
        },
        {
         "line": {
          "color": "DarkSlateGrey",
          "width": 2
         },
         "marker": {
          "color": [
           0.993248,
           0.906157,
           0.143936,
           1
          ],
          "size": 9
         },
         "mode": "markers",
         "name": "the",
         "text": [
          "token: the || tf   : 83.0"
         ],
         "type": "scatter",
         "x": [
          12.12294864654541
         ]
        },
        {
         "line": {
          "color": "DarkSlateGrey",
          "width": 2
         },
         "marker": {
          "color": [
           0.170948,
           0.694384,
           0.493803,
           1
          ],
          "size": 9
         },
         "mode": "markers",
         "name": "done",
         "text": [
          "token: done || tf   : 7.0"
         ],
         "type": "scatter",
         "x": [
          20.887603759765625
         ]
        },
        {
         "line": {
          "color": "DarkSlateGrey",
          "width": 2
         },
         "marker": {
          "color": [
           0.267968,
           0.223549,
           0.512008,
           1
          ],
          "size": 9
         },
         "mode": "markers",
         "name": "##e",
         "text": [
          "token: ##e || tf   : 7.0"
         ],
         "type": "scatter",
         "x": [
          14.950822830200195
         ]
        },
        {
         "line": {
          "color": "DarkSlateGrey",
          "width": 2
         },
         "marker": {
          "color": [
           0.229739,
           0.322361,
           0.545706,
           1
          ],
          "size": 9
         },
         "mode": "markers",
         "name": "exchange",
         "text": [
          "token: exchange || tf   : 1.0"
         ],
         "type": "scatter",
         "x": [
          -10.113272666931152
         ]
        },
        {
         "line": {
          "color": "DarkSlateGrey",
          "width": 2
         },
         "marker": {
          "color": [
           0.496615,
           0.826376,
           0.306377,
           1
          ],
          "size": 9
         },
         "mode": "markers",
         "name": "for",
         "text": [
          "token: for || tf   : 20.0"
         ],
         "type": "scatter",
         "x": [
          12.532415390014648
         ]
        },
        {
         "line": {
          "color": "DarkSlateGrey",
          "width": 2
         },
         "marker": {
          "color": [
           0.783315,
           0.879285,
           0.125405,
           1
          ],
          "size": 9
         },
         "mode": "markers",
         "name": "money",
         "text": [
          "token: money || tf   : 1.0"
         ],
         "type": "scatter",
         "x": [
          -3.5422067642211914
         ]
        },
        {
         "line": {
          "color": "DarkSlateGrey",
          "width": 2
         },
         "marker": {
          "color": [
           0.993248,
           0.906157,
           0.143936,
           1
          ],
          "size": 9
         },
         "mode": "markers",
         "name": "other",
         "text": [
          "token: other || tf   : 1.0"
         ],
         "type": "scatter",
         "x": [
          -8.854697227478027
         ]
        },
        {
         "line": {
          "color": "DarkSlateGrey",
          "width": 2
         },
         "marker": {
          "color": [
           0.229739,
           0.322361,
           0.545706,
           1
          ],
          "size": 9
         },
         "mode": "markers",
         "name": "property",
         "text": [
          "token: property || tf   : 14.0"
         ],
         "type": "scatter",
         "x": [
          -10.092382431030273
         ]
        },
        {
         "line": {
          "color": "DarkSlateGrey",
          "width": 2
         },
         "marker": {
          "color": [
           0.993248,
           0.906157,
           0.143936,
           1
          ],
          "size": 9
         },
         "mode": "markers",
         "name": "services",
         "text": [
          "token: services || tf   : 6.0"
         ],
         "type": "scatter",
         "x": [
          1.4521830081939697
         ]
        },
        {
         "line": {
          "color": "DarkSlateGrey",
          "width": 2
         },
         "marker": {
          "color": [
           0.157729,
           0.485932,
           0.558013,
           1
          ],
          "size": 9
         },
         "mode": "markers",
         "name": "except",
         "text": [
          "token: except || tf   : 1.0"
         ],
         "type": "scatter",
         "x": [
          1.8294920921325684
         ]
        },
        {
         "line": {
          "color": "DarkSlateGrey",
          "width": 2
         },
         "marker": {
          "color": [
           0.496615,
           0.826376,
           0.306377,
           1
          ],
          "size": 9
         },
         "mode": "markers",
         "name": "for",
         "text": [
          "token: for || tf   : 20.0"
         ],
         "type": "scatter",
         "x": [
          12.579806327819824
         ]
        },
        {
         "line": {
          "color": "DarkSlateGrey",
          "width": 2
         },
         "marker": {
          "color": [
           0.993248,
           0.906157,
           0.143936,
           1
          ],
          "size": 9
         },
         "mode": "markers",
         "name": "shipping",
         "text": [
          "token: shipping || tf   : 1.0"
         ],
         "type": "scatter",
         "x": [
          14.536274909973145
         ]
        },
        {
         "line": {
          "color": "DarkSlateGrey",
          "width": 2
         },
         "marker": {
          "color": [
           0.993248,
           0.906157,
           0.143936,
           1
          ],
          "size": 9
         },
         "mode": "markers",
         "name": "installation",
         "text": [
          "token: installation || tf   : 1.0"
         ],
         "type": "scatter",
         "x": [
          13.655562400817871
         ]
        },
        {
         "line": {
          "color": "DarkSlateGrey",
          "width": 2
         },
         "marker": {
          "color": [
           0.993248,
           0.906157,
           0.143936,
           1
          ],
          "size": 9
         },
         "mode": "markers",
         "name": "and",
         "text": [
          "token: and || tf   : 23.0"
         ],
         "type": "scatter",
         "x": [
          -0.11113540828227997
         ]
        },
        {
         "line": {
          "color": "DarkSlateGrey",
          "width": 2
         },
         "marker": {
          "color": [
           0.252899,
           0.742211,
           0.448284,
           1
          ],
          "size": 9
         },
         "mode": "markers",
         "name": "transfer",
         "text": [
          "token: transfer || tf   : 1.0"
         ],
         "type": "scatter",
         "x": [
          -14.440157890319824
         ]
        },
        {
         "line": {
          "color": "DarkSlateGrey",
          "width": 2
         },
         "marker": {
          "color": [
           0.283229,
           0.120777,
           0.440584,
           1
          ],
          "size": 9
         },
         "mode": "markers",
         "name": "costs",
         "text": [
          "token: costs || tf   : 1.0"
         ],
         "type": "scatter",
         "x": [
          -13.917933464050293
         ]
        },
        {
         "line": {
          "color": "DarkSlateGrey",
          "width": 2
         },
         "marker": {
          "color": [
           0.993248,
           0.906157,
           0.143936,
           1
          ],
          "size": 9
         },
         "mode": "markers",
         "name": "and",
         "text": [
          "token: and || tf   : 23.0"
         ],
         "type": "scatter",
         "x": [
          6.953880310058594
         ]
        },
        {
         "line": {
          "color": "DarkSlateGrey",
          "width": 2
         },
         "marker": {
          "color": [
           0.20803,
           0.718701,
           0.472873,
           1
          ],
          "size": 9
         },
         "mode": "markers",
         "name": "the",
         "text": [
          "token: the || tf   : 83.0"
         ],
         "type": "scatter",
         "x": [
          17.415803909301758
         ]
        },
        {
         "line": {
          "color": "DarkSlateGrey",
          "width": 2
         },
         "marker": {
          "color": [
           0.20803,
           0.718701,
           0.472873,
           1
          ],
          "size": 9
         },
         "mode": "markers",
         "name": "done",
         "text": [
          "token: done || tf   : 7.0"
         ],
         "type": "scatter",
         "x": [
          17.37975311279297
         ]
        },
        {
         "line": {
          "color": "DarkSlateGrey",
          "width": 2
         },
         "marker": {
          "color": [
           0.993248,
           0.906157,
           0.143936,
           1
          ],
          "size": 9
         },
         "mode": "markers",
         "name": "##e",
         "text": [
          "token: ##e || tf   : 7.0"
         ],
         "type": "scatter",
         "x": [
          8.44498348236084
         ]
        },
        {
         "line": {
          "color": "DarkSlateGrey",
          "width": 2
         },
         "marker": {
          "color": [
           0.993248,
           0.906157,
           0.143936,
           1
          ],
          "size": 9
         },
         "mode": "markers",
         "name": "use",
         "text": [
          "token: use || tf   : 3.0"
         ],
         "type": "scatter",
         "x": [
          -2.169048547744751
         ]
        },
        {
         "line": {
          "color": "DarkSlateGrey",
          "width": 2
         },
         "marker": {
          "color": [
           0.20803,
           0.718701,
           0.472873,
           1
          ],
          "size": 9
         },
         "mode": "markers",
         "name": "and",
         "text": [
          "token: and || tf   : 23.0"
         ],
         "type": "scatter",
         "x": [
          17.401758193969727
         ]
        },
        {
         "line": {
          "color": "DarkSlateGrey",
          "width": 2
         },
         "marker": {
          "color": [
           0.20803,
           0.718701,
           0.472873,
           1
          ],
          "size": 9
         },
         "mode": "markers",
         "name": "disposition",
         "text": [
          "token: disposition || tf   : 1.0"
         ],
         "type": "scatter",
         "x": [
          17.383628845214844
         ]
        },
        {
         "line": {
          "color": "DarkSlateGrey",
          "width": 2
         },
         "marker": {
          "color": [
           0.157729,
           0.485932,
           0.558013,
           1
          ],
          "size": 9
         },
         "mode": "markers",
         "name": "the",
         "text": [
          "token: the || tf   : 83.0"
         ],
         "type": "scatter",
         "x": [
          1.8098605871200562
         ]
        },
        {
         "line": {
          "color": "DarkSlateGrey",
          "width": 2
         },
         "marker": {
          "color": [
           0.496615,
           0.826376,
           0.306377,
           1
          ],
          "size": 9
         },
         "mode": "markers",
         "name": "property",
         "text": [
          "token: property || tf   : 14.0"
         ],
         "type": "scatter",
         "x": [
          12.5952787399292
         ]
        },
        {
         "line": {
          "color": "DarkSlateGrey",
          "width": 2
         },
         "marker": {
          "color": [
           0.993248,
           0.906157,
           0.143936,
           1
          ],
          "size": 9
         },
         "mode": "markers",
         "name": "will",
         "text": [
          "token: will || tf   : 2.0"
         ],
         "type": "scatter",
         "x": [
          4.851318836212158
         ]
        },
        {
         "line": {
          "color": "DarkSlateGrey",
          "width": 2
         },
         "marker": {
          "color": [
           0.993248,
           0.906157,
           0.143936,
           1
          ],
          "size": 9
         },
         "mode": "markers",
         "name": "accordance",
         "text": [
          "token: accordance || tf   : 1.0"
         ],
         "type": "scatter",
         "x": [
          1.9210611581802368
         ]
        },
        {
         "line": {
          "color": "DarkSlateGrey",
          "width": 2
         },
         "marker": {
          "color": [
           0.993248,
           0.906157,
           0.143936,
           1
          ],
          "size": 9
         },
         "mode": "markers",
         "name": "with",
         "text": [
          "token: with || tf   : 5.0"
         ],
         "type": "scatter",
         "x": [
          1.64651620388031
         ]
        },
        {
         "line": {
          "color": "DarkSlateGrey",
          "width": 2
         },
         "marker": {
          "color": [
           0.993248,
           0.906157,
           0.143936,
           1
          ],
          "size": 9
         },
         "mode": "markers",
         "name": "the",
         "text": [
          "token: the || tf   : 83.0"
         ],
         "type": "scatter",
         "x": [
          0.48545002937316895
         ]
        },
        {
         "line": {
          "color": "DarkSlateGrey",
          "width": 2
         },
         "marker": {
          "color": [
           0.993248,
           0.906157,
           0.143936,
           1
          ],
          "size": 9
         },
         "mode": "markers",
         "name": "provisions",
         "text": [
          "token: provisions || tf   : 1.0"
         ],
         "type": "scatter",
         "x": [
          2.045144557952881
         ]
        },
        {
         "line": {
          "color": "DarkSlateGrey",
          "width": 2
         },
         "marker": {
          "color": [
           0.993248,
           0.906157,
           0.143936,
           1
          ],
          "size": 9
         },
         "mode": "markers",
         "name": "sub",
         "text": [
          "token: sub || tf   : 7.0"
         ],
         "type": "scatter",
         "x": [
          13.29183292388916
         ]
        },
        {
         "line": {
          "color": "DarkSlateGrey",
          "width": 2
         },
         "marker": {
          "color": [
           0.993248,
           0.906157,
           0.143936,
           1
          ],
          "size": 9
         },
         "mode": "markers",
         "name": "##para",
         "text": [
          "token: ##para || tf   : 1.0"
         ],
         "type": "scatter",
         "x": [
          -2.1860129833221436
         ]
        },
        {
         "line": {
          "color": "DarkSlateGrey",
          "width": 2
         },
         "marker": {
          "color": [
           0.267968,
           0.223549,
           0.512008,
           1
          ],
          "size": 9
         },
         "mode": "markers",
         "name": "##graphs",
         "text": [
          "token: ##graphs || tf   : 1.0"
         ],
         "type": "scatter",
         "x": [
          14.998529434204102
         ]
        },
        {
         "line": {
          "color": "DarkSlateGrey",
          "width": 2
         },
         "marker": {
          "color": [
           0.21621,
           0.351535,
           0.550627,
           1
          ],
          "size": 9
         },
         "mode": "markers",
         "name": "and",
         "text": [
          "token: and || tf   : 23.0"
         ],
         "type": "scatter",
         "x": [
          32.52643585205078
         ]
        },
        {
         "line": {
          "color": "DarkSlateGrey",
          "width": 2
         },
         "marker": {
          "color": [
           0.783315,
           0.879285,
           0.125405,
           1
          ],
          "size": 9
         },
         "mode": "markers",
         "name": "the",
         "text": [
          "token: the || tf   : 83.0"
         ],
         "type": "scatter",
         "x": [
          -3.445328950881958
         ]
        },
        {
         "line": {
          "color": "DarkSlateGrey",
          "width": 2
         },
         "marker": {
          "color": [
           0.244972,
           0.287675,
           0.53726,
           1
          ],
          "size": 9
         },
         "mode": "markers",
         "name": "determination",
         "text": [
          "token: determination || tf   : 1.0"
         ],
         "type": "scatter",
         "x": [
          -6.9637064933776855
         ]
        },
        {
         "line": {
          "color": "DarkSlateGrey",
          "width": 2
         },
         "marker": {
          "color": [
           0.496615,
           0.826376,
           0.306377,
           1
          ],
          "size": 9
         },
         "mode": "markers",
         "name": "the",
         "text": [
          "token: the || tf   : 83.0"
         ],
         "type": "scatter",
         "x": [
          12.520975112915039
         ]
        },
        {
         "line": {
          "color": "DarkSlateGrey",
          "width": 2
         },
         "marker": {
          "color": [
           0.993248,
           0.906157,
           0.143936,
           1
          ],
          "size": 9
         },
         "mode": "markers",
         "name": "amount",
         "text": [
          "token: amount || tf   : 8.0"
         ],
         "type": "scatter",
         "x": [
          11.609721183776855
         ]
        },
        {
         "line": {
          "color": "DarkSlateGrey",
          "width": 2
         },
         "marker": {
          "color": [
           0.709898,
           0.868751,
           0.169257,
           1
          ],
          "size": 9
         },
         "mode": "markers",
         "name": "##duction",
         "text": [
          "token: ##duction || tf   : 3.0"
         ],
         "type": "scatter",
         "x": [
          1.4923959970474243
         ]
        },
        {
         "line": {
          "color": "DarkSlateGrey",
          "width": 2
         },
         "marker": {
          "color": [
           0.121148,
           0.592739,
           0.544641,
           1
          ],
          "size": 9
         },
         "mode": "markers",
         "name": "under",
         "text": [
          "token: under || tf   : 9.0"
         ],
         "type": "scatter",
         "x": [
          4.17497444152832
         ]
        },
        {
         "line": {
          "color": "DarkSlateGrey",
          "width": 2
         },
         "marker": {
          "color": [
           0.121148,
           0.592739,
           0.544641,
           1
          ],
          "size": 9
         },
         "mode": "markers",
         "name": "section",
         "text": [
          "token: section || tf   : 18.0"
         ],
         "type": "scatter",
         "x": [
          4.606810569763184
         ]
        },
        {
         "line": {
          "color": "DarkSlateGrey",
          "width": 2
         },
         "marker": {
          "color": [
           0.121148,
           0.592739,
           0.544641,
           1
          ],
          "size": 9
         },
         "mode": "markers",
         "name": "170",
         "text": [
          "token: 170 || tf   : 6.0"
         ],
         "type": "scatter",
         "x": [
          4.723021984100342
         ]
        },
        {
         "line": {
          "color": "DarkSlateGrey",
          "width": 2
         },
         "marker": {
          "color": [
           0.276022,
           0.044167,
           0.370164,
           1
          ],
          "size": 9
         },
         "mode": "markers",
         "name": "for",
         "text": [
          "token: for || tf   : 20.0"
         ],
         "type": "scatter",
         "x": [
          5.787873268127441
         ]
        },
        {
         "line": {
          "color": "DarkSlateGrey",
          "width": 2
         },
         "marker": {
          "color": [
           0.993248,
           0.906157,
           0.143936,
           1
          ],
          "size": 9
         },
         "mode": "markers",
         "name": "purposes",
         "text": [
          "token: purposes || tf   : 7.0"
         ],
         "type": "scatter",
         "x": [
          6.919895172119141
         ]
        },
        {
         "line": {
          "color": "DarkSlateGrey",
          "width": 2
         },
         "marker": {
          "color": [
           0.13777,
           0.537492,
           0.554906,
           1
          ],
          "size": 9
         },
         "mode": "markers",
         "name": "this",
         "text": [
          "token: this || tf   : 11.0"
         ],
         "type": "scatter",
         "x": [
          7.50033712387085
         ]
        },
        {
         "line": {
          "color": "DarkSlateGrey",
          "width": 2
         },
         "marker": {
          "color": [
           0.993248,
           0.906157,
           0.143936,
           1
          ],
          "size": 9
         },
         "mode": "markers",
         "name": "paragraph",
         "text": [
          "token: paragraph || tf   : 5.0"
         ],
         "type": "scatter",
         "x": [
          6.639978885650635
         ]
        },
        {
         "line": {
          "color": "DarkSlateGrey",
          "width": 2
         },
         "marker": {
          "color": [
           0.267968,
           0.223549,
           0.512008,
           1
          ],
          "size": 9
         },
         "mode": "markers",
         "name": "shall",
         "text": [
          "token: shall || tf   : 3.0"
         ],
         "type": "scatter",
         "x": [
          14.996905326843262
         ]
        },
        {
         "line": {
          "color": "DarkSlateGrey",
          "width": 2
         },
         "marker": {
          "color": [
           0.179019,
           0.433756,
           0.55743,
           1
          ],
          "size": 9
         },
         "mode": "markers",
         "name": "made",
         "text": [
          "token: made || tf   : 2.0"
         ],
         "type": "scatter",
         "x": [
          10.168824195861816
         ]
        },
        {
         "line": {
          "color": "DarkSlateGrey",
          "width": 2
         },
         "marker": {
          "color": [
           0.157729,
           0.485932,
           0.558013,
           1
          ],
          "size": 9
         },
         "mode": "markers",
         "name": "the",
         "text": [
          "token: the || tf   : 83.0"
         ],
         "type": "scatter",
         "x": [
          1.8636693954467773
         ]
        },
        {
         "line": {
          "color": "DarkSlateGrey",
          "width": 2
         },
         "marker": {
          "color": [
           0.993248,
           0.906157,
           0.143936,
           1
          ],
          "size": 9
         },
         "mode": "markers",
         "name": "limitation",
         "text": [
          "token: limitation || tf   : 1.0"
         ],
         "type": "scatter",
         "x": [
          2.3791513442993164
         ]
        },
        {
         "line": {
          "color": "DarkSlateGrey",
          "width": 2
         },
         "marker": {
          "color": [
           0.993248,
           0.906157,
           0.143936,
           1
          ],
          "size": 9
         },
         "mode": "markers",
         "name": "under",
         "text": [
          "token: under || tf   : 9.0"
         ],
         "type": "scatter",
         "x": [
          2.4285624027252197
         ]
        },
        {
         "line": {
          "color": "DarkSlateGrey",
          "width": 2
         },
         "marker": {
          "color": [
           0.993248,
           0.906157,
           0.143936,
           1
          ],
          "size": 9
         },
         "mode": "markers",
         "name": "section",
         "text": [
          "token: section || tf   : 18.0"
         ],
         "type": "scatter",
         "x": [
          2.390425205230713
         ]
        },
        {
         "line": {
          "color": "DarkSlateGrey",
          "width": 2
         },
         "marker": {
          "color": [
           0.993248,
           0.906157,
           0.143936,
           1
          ],
          "size": 9
         },
         "mode": "markers",
         "name": "170",
         "text": [
          "token: 170 || tf   : 6.0"
         ],
         "type": "scatter",
         "x": [
          -1.7720234394073486
         ]
        },
        {
         "line": {
          "color": "DarkSlateGrey",
          "width": 2
         },
         "marker": {
          "color": [
           0.993248,
           0.906157,
           0.143936,
           1
          ],
          "size": 9
         },
         "mode": "markers",
         "name": "applied",
         "text": [
          "token: applied || tf   : 1.0"
         ],
         "type": "scatter",
         "x": [
          12.69522762298584
         ]
        },
        {
         "line": {
          "color": "DarkSlateGrey",
          "width": 2
         },
         "marker": {
          "color": [
           0.276022,
           0.044167,
           0.370164,
           1
          ],
          "size": 9
         },
         "mode": "markers",
         "name": "all",
         "text": [
          "token: all || tf   : 2.0"
         ],
         "type": "scatter",
         "x": [
          5.732906341552734
         ]
        },
        {
         "line": {
          "color": "DarkSlateGrey",
          "width": 2
         },
         "marker": {
          "color": [
           0.157729,
           0.485932,
           0.558013,
           1
          ],
          "size": 9
         },
         "mode": "markers",
         "name": "stem",
         "text": [
          "token: stem || tf   : 35.0"
         ],
         "type": "scatter",
         "x": [
          1.7908414602279663
         ]
        },
        {
         "line": {
          "color": "DarkSlateGrey",
          "width": 2
         },
         "marker": {
          "color": [
           0.993248,
           0.906157,
           0.143936,
           1
          ],
          "size": 9
         },
         "mode": "markers",
         "name": "inventory",
         "text": [
          "token: inventory || tf   : 4.0"
         ],
         "type": "scatter",
         "x": [
          0.0861157700419426
         ]
        },
        {
         "line": {
          "color": "DarkSlateGrey",
          "width": 2
         },
         "marker": {
          "color": [
           0.170948,
           0.694384,
           0.493803,
           1
          ],
          "size": 9
         },
         "mode": "markers",
         "name": "property",
         "text": [
          "token: property || tf   : 14.0"
         ],
         "type": "scatter",
         "x": [
          20.89110565185547
         ]
        },
        {
         "line": {
          "color": "DarkSlateGrey",
          "width": 2
         },
         "marker": {
          "color": [
           0.993248,
           0.906157,
           0.143936,
           1
          ],
          "size": 9
         },
         "mode": "markers",
         "name": "stem",
         "text": [
          "token: stem || tf   : 35.0"
         ],
         "type": "scatter",
         "x": [
          11.926401138305664
         ]
        },
        {
         "line": {
          "color": "DarkSlateGrey",
          "width": 2
         },
         "marker": {
          "color": [
           0.993248,
           0.906157,
           0.143936,
           1
          ],
          "size": 9
         },
         "mode": "markers",
         "name": "service",
         "text": [
          "token: service || tf   : 4.0"
         ],
         "type": "scatter",
         "x": [
          -2.1281375885009766
         ]
        },
        {
         "line": {
          "color": "DarkSlateGrey",
          "width": 2
         },
         "marker": {
          "color": [
           0.267968,
           0.223549,
           0.512008,
           1
          ],
          "size": 9
         },
         "mode": "markers",
         "name": "contributions",
         "text": [
          "token: contributions || tf   : 17.0"
         ],
         "type": "scatter",
         "x": [
          14.988860130310059
         ]
        },
        {
         "line": {
          "color": "DarkSlateGrey",
          "width": 2
         },
         "marker": {
          "color": [
           0.21621,
           0.351535,
           0.550627,
           1
          ],
          "size": 9
         },
         "mode": "markers",
         "name": "the",
         "text": [
          "token: the || tf   : 83.0"
         ],
         "type": "scatter",
         "x": [
          32.49814224243164
         ]
        },
        {
         "line": {
          "color": "DarkSlateGrey",
          "width": 2
         },
         "marker": {
          "color": [
           0.993248,
           0.906157,
           0.143936,
           1
          ],
          "size": 9
         },
         "mode": "markers",
         "name": "term",
         "text": [
          "token: term || tf   : 11.0"
         ],
         "type": "scatter",
         "x": [
          0.6288869380950928
         ]
        },
        {
         "line": {
          "color": "DarkSlateGrey",
          "width": 2
         },
         "marker": {
          "color": [
           0.993248,
           0.906157,
           0.143936,
           1
          ],
          "size": 9
         },
         "mode": "markers",
         "name": "stem",
         "text": [
          "token: stem || tf   : 35.0"
         ],
         "type": "scatter",
         "x": [
          4.065796375274658
         ]
        },
        {
         "line": {
          "color": "DarkSlateGrey",
          "width": 2
         },
         "marker": {
          "color": [
           0.993248,
           0.906157,
           0.143936,
           1
          ],
          "size": 9
         },
         "mode": "markers",
         "name": "service",
         "text": [
          "token: service || tf   : 4.0"
         ],
         "type": "scatter",
         "x": [
          4.027397632598877
         ]
        },
        {
         "line": {
          "color": "DarkSlateGrey",
          "width": 2
         },
         "marker": {
          "color": [
           0.993248,
           0.906157,
           0.143936,
           1
          ],
          "size": 9
         },
         "mode": "markers",
         "name": "contributions",
         "text": [
          "token: contributions || tf   : 17.0"
         ],
         "type": "scatter",
         "x": [
          -0.25215578079223633
         ]
        },
        {
         "line": {
          "color": "DarkSlateGrey",
          "width": 2
         },
         "marker": {
          "color": [
           0.636902,
           0.856542,
           0.21662,
           1
          ],
          "size": 9
         },
         "mode": "markers",
         "name": "means",
         "text": [
          "token: means || tf   : 11.0"
         ],
         "type": "scatter",
         "x": [
          -0.5886936187744141
         ]
        },
        {
         "line": {
          "color": "DarkSlateGrey",
          "width": 2
         },
         "marker": {
          "color": [
           0.304148,
           0.764704,
           0.419943,
           1
          ],
          "size": 9
         },
         "mode": "markers",
         "name": "the",
         "text": [
          "token: the || tf   : 83.0"
         ],
         "type": "scatter",
         "x": [
          19.10912322998047
         ]
        },
        {
         "line": {
          "color": "DarkSlateGrey",
          "width": 2
         },
         "marker": {
          "color": [
           0.252899,
           0.742211,
           0.448284,
           1
          ],
          "size": 9
         },
         "mode": "markers",
         "name": "amount",
         "text": [
          "token: amount || tf   : 8.0"
         ],
         "type": "scatter",
         "x": [
          -14.99708366394043
         ]
        },
        {
         "line": {
          "color": "DarkSlateGrey",
          "width": 2
         },
         "marker": {
          "color": [
           0.168126,
           0.459988,
           0.558082,
           1
          ],
          "size": 9
         },
         "mode": "markers",
         "name": "paid",
         "text": [
          "token: paid || tf   : 4.0"
         ],
         "type": "scatter",
         "x": [
          3.3644769191741943
         ]
        },
        {
         "line": {
          "color": "DarkSlateGrey",
          "width": 2
         },
         "marker": {
          "color": [
           0.121148,
           0.592739,
           0.544641,
           1
          ],
          "size": 9
         },
         "mode": "markers",
         "name": "incurred",
         "text": [
          "token: incurred || tf   : 3.0"
         ],
         "type": "scatter",
         "x": [
          4.078769683837891
         ]
        },
        {
         "line": {
          "color": "DarkSlateGrey",
          "width": 2
         },
         "marker": {
          "color": [
           0.993248,
           0.906157,
           0.143936,
           1
          ],
          "size": 9
         },
         "mode": "markers",
         "name": "during",
         "text": [
          "token: during || tf   : 1.0"
         ],
         "type": "scatter",
         "x": [
          0.23858830332756042
         ]
        },
        {
         "line": {
          "color": "DarkSlateGrey",
          "width": 2
         },
         "marker": {
          "color": [
           0.993248,
           0.906157,
           0.143936,
           1
          ],
          "size": 9
         },
         "mode": "markers",
         "name": "the",
         "text": [
          "token: the || tf   : 83.0"
         ],
         "type": "scatter",
         "x": [
          4.298245906829834
         ]
        },
        {
         "line": {
          "color": "DarkSlateGrey",
          "width": 2
         },
         "marker": {
          "color": [
           0.636902,
           0.856542,
           0.21662,
           1
          ],
          "size": 9
         },
         "mode": "markers",
         "name": "taxa",
         "text": [
          "token: taxa || tf   : 4.0"
         ],
         "type": "scatter",
         "x": [
          -0.5950678586959839
         ]
        },
        {
         "line": {
          "color": "DarkSlateGrey",
          "width": 2
         },
         "marker": {
          "color": [
           0.304148,
           0.764704,
           0.419943,
           1
          ],
          "size": 9
         },
         "mode": "markers",
         "name": "##ble",
         "text": [
          "token: ##ble || tf   : 4.0"
         ],
         "type": "scatter",
         "x": [
          19.08531951904297
         ]
        },
        {
         "line": {
          "color": "DarkSlateGrey",
          "width": 2
         },
         "marker": {
          "color": [
           0.252899,
           0.742211,
           0.448284,
           1
          ],
          "size": 9
         },
         "mode": "markers",
         "name": "year",
         "text": [
          "token: year || tf   : 3.0"
         ],
         "type": "scatter",
         "x": [
          -14.866312026977539
         ]
        },
        {
         "line": {
          "color": "DarkSlateGrey",
          "width": 2
         },
         "marker": {
          "color": [
           0.993248,
           0.906157,
           0.143936,
           1
          ],
          "size": 9
         },
         "mode": "markers",
         "name": "for",
         "text": [
          "token: for || tf   : 20.0"
         ],
         "type": "scatter",
         "x": [
          -0.4571532607078552
         ]
        },
        {
         "line": {
          "color": "DarkSlateGrey",
          "width": 2
         },
         "marker": {
          "color": [
           0.993248,
           0.906157,
           0.143936,
           1
          ],
          "size": 9
         },
         "mode": "markers",
         "name": "stem",
         "text": [
          "token: stem || tf   : 35.0"
         ],
         "type": "scatter",
         "x": [
          -0.7198314666748047
         ]
        },
        {
         "line": {
          "color": "DarkSlateGrey",
          "width": 2
         },
         "marker": {
          "color": [
           0.993248,
           0.906157,
           0.143936,
           1
          ],
          "size": 9
         },
         "mode": "markers",
         "name": "services",
         "text": [
          "token: services || tf   : 6.0"
         ],
         "type": "scatter",
         "x": [
          -5.042270660400391
         ]
        },
        {
         "line": {
          "color": "DarkSlateGrey",
          "width": 2
         },
         "marker": {
          "color": [
           0.252899,
           0.742211,
           0.448284,
           1
          ],
          "size": 9
         },
         "mode": "markers",
         "name": "provided",
         "text": [
          "token: provided || tf   : 2.0"
         ],
         "type": "scatter",
         "x": [
          -14.455276489257812
         ]
        },
        {
         "line": {
          "color": "DarkSlateGrey",
          "width": 2
         },
         "marker": {
          "color": [
           0.993248,
           0.906157,
           0.143936,
           1
          ],
          "size": 9
         },
         "mode": "markers",
         "name": "the",
         "text": [
          "token: the || tf   : 83.0"
         ],
         "type": "scatter",
         "x": [
          -15.127155303955078
         ]
        },
        {
         "line": {
          "color": "DarkSlateGrey",
          "width": 2
         },
         "marker": {
          "color": [
           0.993248,
           0.906157,
           0.143936,
           1
          ],
          "size": 9
         },
         "mode": "markers",
         "name": "united",
         "text": [
          "token: united || tf   : 5.0"
         ],
         "type": "scatter",
         "x": [
          -4.959919452667236
         ]
        },
        {
         "line": {
          "color": "DarkSlateGrey",
          "width": 2
         },
         "marker": {
          "color": [
           0.993248,
           0.906157,
           0.143936,
           1
          ],
          "size": 9
         },
         "mode": "markers",
         "name": "states",
         "text": [
          "token: states || tf   : 5.0"
         ],
         "type": "scatter",
         "x": [
          -4.647131443023682
         ]
        },
        {
         "line": {
          "color": "DarkSlateGrey",
          "width": 2
         },
         "marker": {
          "color": [
           0.993248,
           0.906157,
           0.143936,
           1
          ],
          "size": 9
         },
         "mode": "markers",
         "name": "the",
         "text": [
          "token: the || tf   : 83.0"
         ],
         "type": "scatter",
         "x": [
          -3.902460813522339
         ]
        },
        {
         "line": {
          "color": "DarkSlateGrey",
          "width": 2
         },
         "marker": {
          "color": [
           0.993248,
           0.906157,
           0.143936,
           1
          ],
          "size": 9
         },
         "mode": "markers",
         "name": "defense",
         "text": [
          "token: defense || tf   : 5.0"
         ],
         "type": "scatter",
         "x": [
          -14.683154106140137
         ]
        },
        {
         "line": {
          "color": "DarkSlateGrey",
          "width": 2
         },
         "marker": {
          "color": [
           0.993248,
           0.906157,
           0.143936,
           1
          ],
          "size": 9
         },
         "mode": "markers",
         "name": "dependent",
         "text": [
          "token: dependent || tf   : 5.0"
         ],
         "type": "scatter",
         "x": [
          -4.6118083000183105
         ]
        },
        {
         "line": {
          "color": "DarkSlateGrey",
          "width": 2
         },
         "marker": {
          "color": [
           0.993248,
           0.906157,
           0.143936,
           1
          ],
          "size": 9
         },
         "mode": "markers",
         "name": "##s",
         "text": [
          "token: ##s || tf   : 5.0"
         ],
         "type": "scatter",
         "x": [
          -1.1338027715682983
         ]
        },
        {
         "line": {
          "color": "DarkSlateGrey",
          "width": 2
         },
         "marker": {
          "color": [
           0.926106,
           0.89733,
           0.104071,
           1
          ],
          "size": 9
         },
         "mode": "markers",
         "name": "education",
         "text": [
          "token: education || tf   : 12.0"
         ],
         "type": "scatter",
         "x": [
          -2.737664222717285
         ]
        },
        {
         "line": {
          "color": "DarkSlateGrey",
          "width": 2
         },
         "marker": {
          "color": [
           0.993248,
           0.906157,
           0.143936,
           1
          ],
          "size": 9
         },
         "mode": "markers",
         "name": "system",
         "text": [
          "token: system || tf   : 4.0"
         ],
         "type": "scatter",
         "x": [
          -3.981492280960083
         ]
        },
        {
         "line": {
          "color": "DarkSlateGrey",
          "width": 2
         },
         "marker": {
          "color": [
           0.993248,
           0.906157,
           0.143936,
           1
          ],
          "size": 9
         },
         "mode": "markers",
         "name": "for",
         "text": [
          "token: for || tf   : 20.0"
         ],
         "type": "scatter",
         "x": [
          -14.690641403198242
         ]
        },
        {
         "line": {
          "color": "DarkSlateGrey",
          "width": 2
         },
         "marker": {
          "color": [
           0.993248,
           0.906157,
           0.143936,
           1
          ],
          "size": 9
         },
         "mode": "markers",
         "name": "the",
         "text": [
          "token: the || tf   : 83.0"
         ],
         "type": "scatter",
         "x": [
          26.98757553100586
         ]
        },
        {
         "line": {
          "color": "DarkSlateGrey",
          "width": 2
         },
         "marker": {
          "color": [
           0.993248,
           0.906157,
           0.143936,
           1
          ],
          "size": 9
         },
         "mode": "markers",
         "name": "exclusive",
         "text": [
          "token: exclusive || tf   : 1.0"
         ],
         "type": "scatter",
         "x": [
          -4.695551872253418
         ]
        },
        {
         "line": {
          "color": "DarkSlateGrey",
          "width": 2
         },
         "marker": {
          "color": [
           0.993248,
           0.906157,
           0.143936,
           1
          ],
          "size": 9
         },
         "mode": "markers",
         "name": "benefit",
         "text": [
          "token: benefit || tf   : 5.0"
         ],
         "type": "scatter",
         "x": [
          -4.556464195251465
         ]
        },
        {
         "line": {
          "color": "DarkSlateGrey",
          "width": 2
         },
         "marker": {
          "color": [
           0.276194,
           0.190074,
           0.493001,
           1
          ],
          "size": 9
         },
         "mode": "markers",
         "name": "students",
         "text": [
          "token: students || tf   : 1.0"
         ],
         "type": "scatter",
         "x": [
          26.996492385864258
         ]
        },
        {
         "line": {
          "color": "DarkSlateGrey",
          "width": 2
         },
         "marker": {
          "color": [
           0.993248,
           0.906157,
           0.143936,
           1
          ],
          "size": 9
         },
         "mode": "markers",
         "name": "elementary",
         "text": [
          "token: elementary || tf   : 7.0"
         ],
         "type": "scatter",
         "x": [
          -3.973015308380127
         ]
        },
        {
         "line": {
          "color": "DarkSlateGrey",
          "width": 2
         },
         "marker": {
          "color": [
           0.993248,
           0.906157,
           0.143936,
           1
          ],
          "size": 9
         },
         "mode": "markers",
         "name": "secondary",
         "text": [
          "token: secondary || tf   : 7.0"
         ],
         "type": "scatter",
         "x": [
          -4.516995429992676
         ]
        },
        {
         "line": {
          "color": "DarkSlateGrey",
          "width": 2
         },
         "marker": {
          "color": [
           0.993248,
           0.906157,
           0.143936,
           1
          ],
          "size": 9
         },
         "mode": "markers",
         "name": "school",
         "text": [
          "token: school || tf   : 17.0"
         ],
         "type": "scatter",
         "x": [
          -4.920238971710205
         ]
        },
        {
         "line": {
          "color": "DarkSlateGrey",
          "width": 2
         },
         "marker": {
          "color": [
           0.993248,
           0.906157,
           0.143936,
           1
          ],
          "size": 9
         },
         "mode": "markers",
         "name": "described",
         "text": [
          "token: described || tf   : 4.0"
         ],
         "type": "scatter",
         "x": [
          -14.748299598693848
         ]
        },
        {
         "line": {
          "color": "DarkSlateGrey",
          "width": 2
         },
         "marker": {
          "color": [
           0.430983,
           0.808473,
           0.346476,
           1
          ],
          "size": 9
         },
         "mode": "markers",
         "name": "section",
         "text": [
          "token: section || tf   : 18.0"
         ],
         "type": "scatter",
         "x": [
          15.941080093383789
         ]
        },
        {
         "line": {
          "color": "DarkSlateGrey",
          "width": 2
         },
         "marker": {
          "color": [
           0.281412,
           0.155834,
           0.469201,
           1
          ],
          "size": 9
         },
         "mode": "markers",
         "name": "170",
         "text": [
          "token: 170 || tf   : 6.0"
         ],
         "type": "scatter",
         "x": [
          26.44220733642578
         ]
        },
        {
         "line": {
          "color": "DarkSlateGrey",
          "width": 2
         },
         "marker": {
          "color": [
           0.993248,
           0.906157,
           0.143936,
           1
          ],
          "size": 9
         },
         "mode": "markers",
         "name": "but",
         "text": [
          "token: but || tf   : 3.0"
         ],
         "type": "scatter",
         "x": [
          -14.113351821899414
         ]
        },
        {
         "line": {
          "color": "DarkSlateGrey",
          "width": 2
         },
         "marker": {
          "color": [
           0.783315,
           0.879285,
           0.125405,
           1
          ],
          "size": 9
         },
         "mode": "markers",
         "name": "only",
         "text": [
          "token: only || tf   : 2.0"
         ],
         "type": "scatter",
         "x": [
          -1.1515324115753174
         ]
        },
        {
         "line": {
          "color": "DarkSlateGrey",
          "width": 2
         },
         "marker": {
          "color": "red",
          "size": 9,
          "symbol": "diamond"
         },
         "mode": "markers",
         "name": "national",
         "text": [
          "token: national"
         ],
         "type": "scatter",
         "x": [
          30.53815269470215
         ]
        },
        {
         "line": {
          "color": "DarkSlateGrey",
          "width": 2
         },
         "marker": {
          "color": "red",
          "size": 9,
          "symbol": "diamond"
         },
         "mode": "markers",
         "name": "science",
         "text": [
          "token: science"
         ],
         "type": "scatter",
         "x": [
          13.460335731506348
         ]
        },
        {
         "line": {
          "color": "DarkSlateGrey",
          "width": 2
         },
         "marker": {
          "color": "red",
          "size": 9,
          "symbol": "diamond"
         },
         "mode": "markers",
         "name": "education",
         "text": [
          "token: education"
         ],
         "type": "scatter",
         "x": [
          5.178905487060547
         ]
        },
        {
         "line": {
          "color": "DarkSlateGrey",
          "width": 2
         },
         "marker": {
          "color": "red",
          "size": 9,
          "symbol": "diamond"
         },
         "mode": "markers",
         "name": "tax",
         "text": [
          "token: tax"
         ],
         "type": "scatter",
         "x": [
          4.658797264099121
         ]
        },
        {
         "line": {
          "color": "DarkSlateGrey",
          "width": 2
         },
         "marker": {
          "color": "red",
          "size": 9,
          "symbol": "diamond"
         },
         "mode": "markers",
         "name": "incentive",
         "text": [
          "token: incentive"
         ],
         "type": "scatter",
         "x": [
          3.5098392963409424
         ]
        },
        {
         "line": {
          "color": "DarkSlateGrey",
          "width": 2
         },
         "marker": {
          "color": "red",
          "size": 9,
          "symbol": "diamond"
         },
         "mode": "markers",
         "name": "for",
         "text": [
          "token: for"
         ],
         "type": "scatter",
         "x": [
          7.703373432159424
         ]
        },
        {
         "line": {
          "color": "DarkSlateGrey",
          "width": 2
         },
         "marker": {
          "color": "red",
          "size": 9,
          "symbol": "diamond"
         },
         "mode": "markers",
         "name": "businesses",
         "text": [
          "token: businesses"
         ],
         "type": "scatter",
         "x": [
          -15.092565536499023
         ]
        },
        {
         "line": {
          "color": "DarkSlateGrey",
          "width": 2
         },
         "marker": {
          "color": "red",
          "size": 9,
          "symbol": "diamond"
         },
         "mode": "markers",
         "name": "act",
         "text": [
          "token: act"
         ],
         "type": "scatter",
         "x": [
          -2.7480273246765137
         ]
        },
        {
         "line": {
          "color": "DarkSlateGrey",
          "width": 2
         },
         "marker": {
          "color": "red",
          "size": 9,
          "symbol": "diamond"
         },
         "mode": "markers",
         "name": "2007",
         "text": [
          "token: 2007"
         ],
         "type": "scatter",
         "x": [
          -2.7873165607452393
         ]
        },
        {
         "line": {
          "color": "DarkSlateGrey",
          "width": 2
         },
         "marker": {
          "color": "red",
          "size": 9,
          "symbol": "diamond"
         },
         "mode": "markers",
         "name": "amend",
         "text": [
          "token: amend"
         ],
         "type": "scatter",
         "x": [
          6.2935614585876465
         ]
        },
        {
         "line": {
          "color": "DarkSlateGrey",
          "width": 2
         },
         "marker": {
          "color": "red",
          "size": 9,
          "symbol": "diamond"
         },
         "mode": "markers",
         "name": "##s",
         "text": [
          "token: ##s"
         ],
         "type": "scatter",
         "x": [
          5.717311382293701
         ]
        },
        {
         "line": {
          "color": "DarkSlateGrey",
          "width": 2
         },
         "marker": {
          "color": "red",
          "size": 9,
          "symbol": "diamond"
         },
         "mode": "markers",
         "name": "the",
         "text": [
          "token: the"
         ],
         "type": "scatter",
         "x": [
          -15.226462364196777
         ]
        },
        {
         "line": {
          "color": "DarkSlateGrey",
          "width": 2
         },
         "marker": {
          "color": "red",
          "size": 9,
          "symbol": "diamond"
         },
         "mode": "markers",
         "name": "internal",
         "text": [
          "token: internal"
         ],
         "type": "scatter",
         "x": [
          -0.6113921999931335
         ]
        },
        {
         "line": {
          "color": "DarkSlateGrey",
          "width": 2
         },
         "marker": {
          "color": "red",
          "size": 9,
          "symbol": "diamond"
         },
         "mode": "markers",
         "name": "revenue",
         "text": [
          "token: revenue"
         ],
         "type": "scatter",
         "x": [
          -2.958155393600464
         ]
        },
        {
         "line": {
          "color": "DarkSlateGrey",
          "width": 2
         },
         "marker": {
          "color": "red",
          "size": 9,
          "symbol": "diamond"
         },
         "mode": "markers",
         "name": "code",
         "text": [
          "token: code"
         ],
         "type": "scatter",
         "x": [
          7.4450225830078125
         ]
        },
        {
         "line": {
          "color": "DarkSlateGrey",
          "width": 2
         },
         "marker": {
          "color": "red",
          "size": 9,
          "symbol": "diamond"
         },
         "mode": "markers",
         "name": "allow",
         "text": [
          "token: allow"
         ],
         "type": "scatter",
         "x": [
          4.266079425811768
         ]
        },
        {
         "line": {
          "color": "DarkSlateGrey",
          "width": 2
         },
         "marker": {
          "color": "red",
          "size": 9,
          "symbol": "diamond"
         },
         "mode": "markers",
         "name": "general",
         "text": [
          "token: general"
         ],
         "type": "scatter",
         "x": [
          5.2899861335754395
         ]
        },
        {
         "line": {
          "color": "DarkSlateGrey",
          "width": 2
         },
         "marker": {
          "color": "red",
          "size": 9,
          "symbol": "diamond"
         },
         "mode": "markers",
         "name": "business",
         "text": [
          "token: business"
         ],
         "type": "scatter",
         "x": [
          9.38308048248291
         ]
        },
        {
         "line": {
          "color": "DarkSlateGrey",
          "width": 2
         },
         "marker": {
          "color": "red",
          "size": 9,
          "symbol": "diamond"
         },
         "mode": "markers",
         "name": "tax",
         "text": [
          "token: tax"
         ],
         "type": "scatter",
         "x": [
          7.759590148925781
         ]
        },
        {
         "line": {
          "color": "DarkSlateGrey",
          "width": 2
         },
         "marker": {
          "color": "red",
          "size": 9,
          "symbol": "diamond"
         },
         "mode": "markers",
         "name": "credit",
         "text": [
          "token: credit"
         ],
         "type": "scatter",
         "x": [
          15.716859817504883
         ]
        },
        {
         "line": {
          "color": "DarkSlateGrey",
          "width": 2
         },
         "marker": {
          "color": "red",
          "size": 9,
          "symbol": "diamond"
         },
         "mode": "markers",
         "name": "for",
         "text": [
          "token: for"
         ],
         "type": "scatter",
         "x": [
          26.346582412719727
         ]
        },
        {
         "line": {
          "color": "DarkSlateGrey",
          "width": 2
         },
         "marker": {
          "color": "red",
          "size": 9,
          "symbol": "diamond"
         },
         "mode": "markers",
         "name": "contributions",
         "text": [
          "token: contributions"
         ],
         "type": "scatter",
         "x": [
          16.08114242553711
         ]
        },
        {
         "line": {
          "color": "DarkSlateGrey",
          "width": 2
         },
         "marker": {
          "color": "red",
          "size": 9,
          "symbol": "diamond"
         },
         "mode": "markers",
         "name": "property",
         "text": [
          "token: property"
         ],
         "type": "scatter",
         "x": [
          26.87118148803711
         ]
        },
        {
         "line": {
          "color": "DarkSlateGrey",
          "width": 2
         },
         "marker": {
          "color": "red",
          "size": 9,
          "symbol": "diamond"
         },
         "mode": "markers",
         "name": "services",
         "text": [
          "token: services"
         ],
         "type": "scatter",
         "x": [
          12.54550838470459
         ]
        },
        {
         "line": {
          "color": "DarkSlateGrey",
          "width": 2
         },
         "marker": {
          "color": "red",
          "size": 9,
          "symbol": "diamond"
         },
         "mode": "markers",
         "name": "elementary",
         "text": [
          "token: elementary"
         ],
         "type": "scatter",
         "x": [
          11.871042251586914
         ]
        },
        {
         "line": {
          "color": "DarkSlateGrey",
          "width": 2
         },
         "marker": {
          "color": "red",
          "size": 9,
          "symbol": "diamond"
         },
         "mode": "markers",
         "name": "and",
         "text": [
          "token: and"
         ],
         "type": "scatter",
         "x": [
          13.070610046386719
         ]
        },
        {
         "line": {
          "color": "DarkSlateGrey",
          "width": 2
         },
         "marker": {
          "color": "red",
          "size": 9,
          "symbol": "diamond"
         },
         "mode": "markers",
         "name": "secondary",
         "text": [
          "token: secondary"
         ],
         "type": "scatter",
         "x": [
          30.602710723876953
         ]
        },
        {
         "line": {
          "color": "DarkSlateGrey",
          "width": 2
         },
         "marker": {
          "color": "red",
          "size": 9,
          "symbol": "diamond"
         },
         "mode": "markers",
         "name": "schools",
         "text": [
          "token: schools"
         ],
         "type": "scatter",
         "x": [
          10.178706169128418
         ]
        },
        {
         "line": {
          "color": "DarkSlateGrey",
          "width": 2
         },
         "marker": {
          "color": "red",
          "size": 9,
          "symbol": "diamond"
         },
         "mode": "markers",
         "name": "and",
         "text": [
          "token: and"
         ],
         "type": "scatter",
         "x": [
          -11.846047401428223
         ]
        },
        {
         "line": {
          "color": "DarkSlateGrey",
          "width": 2
         },
         "marker": {
          "color": "red",
          "size": 9,
          "symbol": "diamond"
         },
         "mode": "markers",
         "name": "for",
         "text": [
          "token: for"
         ],
         "type": "scatter",
         "x": [
          32.42057418823242
         ]
        }
       ],
       "layout": {
        "scene": {
         "xaxis": {
          "title": {
           "text": "X"
          }
         }
        },
        "template": {
         "data": {
          "bar": [
           {
            "error_x": {
             "color": "#2a3f5f"
            },
            "error_y": {
             "color": "#2a3f5f"
            },
            "marker": {
             "line": {
              "color": "#E5ECF6",
              "width": 0.5
             },
             "pattern": {
              "fillmode": "overlay",
              "size": 10,
              "solidity": 0.2
             }
            },
            "type": "bar"
           }
          ],
          "barpolar": [
           {
            "marker": {
             "line": {
              "color": "#E5ECF6",
              "width": 0.5
             },
             "pattern": {
              "fillmode": "overlay",
              "size": 10,
              "solidity": 0.2
             }
            },
            "type": "barpolar"
           }
          ],
          "carpet": [
           {
            "aaxis": {
             "endlinecolor": "#2a3f5f",
             "gridcolor": "white",
             "linecolor": "white",
             "minorgridcolor": "white",
             "startlinecolor": "#2a3f5f"
            },
            "baxis": {
             "endlinecolor": "#2a3f5f",
             "gridcolor": "white",
             "linecolor": "white",
             "minorgridcolor": "white",
             "startlinecolor": "#2a3f5f"
            },
            "type": "carpet"
           }
          ],
          "choropleth": [
           {
            "colorbar": {
             "outlinewidth": 0,
             "ticks": ""
            },
            "type": "choropleth"
           }
          ],
          "contour": [
           {
            "colorbar": {
             "outlinewidth": 0,
             "ticks": ""
            },
            "colorscale": [
             [
              0,
              "#0d0887"
             ],
             [
              0.1111111111111111,
              "#46039f"
             ],
             [
              0.2222222222222222,
              "#7201a8"
             ],
             [
              0.3333333333333333,
              "#9c179e"
             ],
             [
              0.4444444444444444,
              "#bd3786"
             ],
             [
              0.5555555555555556,
              "#d8576b"
             ],
             [
              0.6666666666666666,
              "#ed7953"
             ],
             [
              0.7777777777777778,
              "#fb9f3a"
             ],
             [
              0.8888888888888888,
              "#fdca26"
             ],
             [
              1,
              "#f0f921"
             ]
            ],
            "type": "contour"
           }
          ],
          "contourcarpet": [
           {
            "colorbar": {
             "outlinewidth": 0,
             "ticks": ""
            },
            "type": "contourcarpet"
           }
          ],
          "heatmap": [
           {
            "colorbar": {
             "outlinewidth": 0,
             "ticks": ""
            },
            "colorscale": [
             [
              0,
              "#0d0887"
             ],
             [
              0.1111111111111111,
              "#46039f"
             ],
             [
              0.2222222222222222,
              "#7201a8"
             ],
             [
              0.3333333333333333,
              "#9c179e"
             ],
             [
              0.4444444444444444,
              "#bd3786"
             ],
             [
              0.5555555555555556,
              "#d8576b"
             ],
             [
              0.6666666666666666,
              "#ed7953"
             ],
             [
              0.7777777777777778,
              "#fb9f3a"
             ],
             [
              0.8888888888888888,
              "#fdca26"
             ],
             [
              1,
              "#f0f921"
             ]
            ],
            "type": "heatmap"
           }
          ],
          "heatmapgl": [
           {
            "colorbar": {
             "outlinewidth": 0,
             "ticks": ""
            },
            "colorscale": [
             [
              0,
              "#0d0887"
             ],
             [
              0.1111111111111111,
              "#46039f"
             ],
             [
              0.2222222222222222,
              "#7201a8"
             ],
             [
              0.3333333333333333,
              "#9c179e"
             ],
             [
              0.4444444444444444,
              "#bd3786"
             ],
             [
              0.5555555555555556,
              "#d8576b"
             ],
             [
              0.6666666666666666,
              "#ed7953"
             ],
             [
              0.7777777777777778,
              "#fb9f3a"
             ],
             [
              0.8888888888888888,
              "#fdca26"
             ],
             [
              1,
              "#f0f921"
             ]
            ],
            "type": "heatmapgl"
           }
          ],
          "histogram": [
           {
            "marker": {
             "pattern": {
              "fillmode": "overlay",
              "size": 10,
              "solidity": 0.2
             }
            },
            "type": "histogram"
           }
          ],
          "histogram2d": [
           {
            "colorbar": {
             "outlinewidth": 0,
             "ticks": ""
            },
            "colorscale": [
             [
              0,
              "#0d0887"
             ],
             [
              0.1111111111111111,
              "#46039f"
             ],
             [
              0.2222222222222222,
              "#7201a8"
             ],
             [
              0.3333333333333333,
              "#9c179e"
             ],
             [
              0.4444444444444444,
              "#bd3786"
             ],
             [
              0.5555555555555556,
              "#d8576b"
             ],
             [
              0.6666666666666666,
              "#ed7953"
             ],
             [
              0.7777777777777778,
              "#fb9f3a"
             ],
             [
              0.8888888888888888,
              "#fdca26"
             ],
             [
              1,
              "#f0f921"
             ]
            ],
            "type": "histogram2d"
           }
          ],
          "histogram2dcontour": [
           {
            "colorbar": {
             "outlinewidth": 0,
             "ticks": ""
            },
            "colorscale": [
             [
              0,
              "#0d0887"
             ],
             [
              0.1111111111111111,
              "#46039f"
             ],
             [
              0.2222222222222222,
              "#7201a8"
             ],
             [
              0.3333333333333333,
              "#9c179e"
             ],
             [
              0.4444444444444444,
              "#bd3786"
             ],
             [
              0.5555555555555556,
              "#d8576b"
             ],
             [
              0.6666666666666666,
              "#ed7953"
             ],
             [
              0.7777777777777778,
              "#fb9f3a"
             ],
             [
              0.8888888888888888,
              "#fdca26"
             ],
             [
              1,
              "#f0f921"
             ]
            ],
            "type": "histogram2dcontour"
           }
          ],
          "mesh3d": [
           {
            "colorbar": {
             "outlinewidth": 0,
             "ticks": ""
            },
            "type": "mesh3d"
           }
          ],
          "parcoords": [
           {
            "line": {
             "colorbar": {
              "outlinewidth": 0,
              "ticks": ""
             }
            },
            "type": "parcoords"
           }
          ],
          "pie": [
           {
            "automargin": true,
            "type": "pie"
           }
          ],
          "scatter": [
           {
            "fillpattern": {
             "fillmode": "overlay",
             "size": 10,
             "solidity": 0.2
            },
            "type": "scatter"
           }
          ],
          "scatter3d": [
           {
            "line": {
             "colorbar": {
              "outlinewidth": 0,
              "ticks": ""
             }
            },
            "marker": {
             "colorbar": {
              "outlinewidth": 0,
              "ticks": ""
             }
            },
            "type": "scatter3d"
           }
          ],
          "scattercarpet": [
           {
            "marker": {
             "colorbar": {
              "outlinewidth": 0,
              "ticks": ""
             }
            },
            "type": "scattercarpet"
           }
          ],
          "scattergeo": [
           {
            "marker": {
             "colorbar": {
              "outlinewidth": 0,
              "ticks": ""
             }
            },
            "type": "scattergeo"
           }
          ],
          "scattergl": [
           {
            "marker": {
             "colorbar": {
              "outlinewidth": 0,
              "ticks": ""
             }
            },
            "type": "scattergl"
           }
          ],
          "scattermapbox": [
           {
            "marker": {
             "colorbar": {
              "outlinewidth": 0,
              "ticks": ""
             }
            },
            "type": "scattermapbox"
           }
          ],
          "scatterpolar": [
           {
            "marker": {
             "colorbar": {
              "outlinewidth": 0,
              "ticks": ""
             }
            },
            "type": "scatterpolar"
           }
          ],
          "scatterpolargl": [
           {
            "marker": {
             "colorbar": {
              "outlinewidth": 0,
              "ticks": ""
             }
            },
            "type": "scatterpolargl"
           }
          ],
          "scatterternary": [
           {
            "marker": {
             "colorbar": {
              "outlinewidth": 0,
              "ticks": ""
             }
            },
            "type": "scatterternary"
           }
          ],
          "surface": [
           {
            "colorbar": {
             "outlinewidth": 0,
             "ticks": ""
            },
            "colorscale": [
             [
              0,
              "#0d0887"
             ],
             [
              0.1111111111111111,
              "#46039f"
             ],
             [
              0.2222222222222222,
              "#7201a8"
             ],
             [
              0.3333333333333333,
              "#9c179e"
             ],
             [
              0.4444444444444444,
              "#bd3786"
             ],
             [
              0.5555555555555556,
              "#d8576b"
             ],
             [
              0.6666666666666666,
              "#ed7953"
             ],
             [
              0.7777777777777778,
              "#fb9f3a"
             ],
             [
              0.8888888888888888,
              "#fdca26"
             ],
             [
              1,
              "#f0f921"
             ]
            ],
            "type": "surface"
           }
          ],
          "table": [
           {
            "cells": {
             "fill": {
              "color": "#EBF0F8"
             },
             "line": {
              "color": "white"
             }
            },
            "header": {
             "fill": {
              "color": "#C8D4E3"
             },
             "line": {
              "color": "white"
             }
            },
            "type": "table"
           }
          ]
         },
         "layout": {
          "annotationdefaults": {
           "arrowcolor": "#2a3f5f",
           "arrowhead": 0,
           "arrowwidth": 1
          },
          "autotypenumbers": "strict",
          "coloraxis": {
           "colorbar": {
            "outlinewidth": 0,
            "ticks": ""
           }
          },
          "colorscale": {
           "diverging": [
            [
             0,
             "#8e0152"
            ],
            [
             0.1,
             "#c51b7d"
            ],
            [
             0.2,
             "#de77ae"
            ],
            [
             0.3,
             "#f1b6da"
            ],
            [
             0.4,
             "#fde0ef"
            ],
            [
             0.5,
             "#f7f7f7"
            ],
            [
             0.6,
             "#e6f5d0"
            ],
            [
             0.7,
             "#b8e186"
            ],
            [
             0.8,
             "#7fbc41"
            ],
            [
             0.9,
             "#4d9221"
            ],
            [
             1,
             "#276419"
            ]
           ],
           "sequential": [
            [
             0,
             "#0d0887"
            ],
            [
             0.1111111111111111,
             "#46039f"
            ],
            [
             0.2222222222222222,
             "#7201a8"
            ],
            [
             0.3333333333333333,
             "#9c179e"
            ],
            [
             0.4444444444444444,
             "#bd3786"
            ],
            [
             0.5555555555555556,
             "#d8576b"
            ],
            [
             0.6666666666666666,
             "#ed7953"
            ],
            [
             0.7777777777777778,
             "#fb9f3a"
            ],
            [
             0.8888888888888888,
             "#fdca26"
            ],
            [
             1,
             "#f0f921"
            ]
           ],
           "sequentialminus": [
            [
             0,
             "#0d0887"
            ],
            [
             0.1111111111111111,
             "#46039f"
            ],
            [
             0.2222222222222222,
             "#7201a8"
            ],
            [
             0.3333333333333333,
             "#9c179e"
            ],
            [
             0.4444444444444444,
             "#bd3786"
            ],
            [
             0.5555555555555556,
             "#d8576b"
            ],
            [
             0.6666666666666666,
             "#ed7953"
            ],
            [
             0.7777777777777778,
             "#fb9f3a"
            ],
            [
             0.8888888888888888,
             "#fdca26"
            ],
            [
             1,
             "#f0f921"
            ]
           ]
          },
          "colorway": [
           "#636efa",
           "#EF553B",
           "#00cc96",
           "#ab63fa",
           "#FFA15A",
           "#19d3f3",
           "#FF6692",
           "#B6E880",
           "#FF97FF",
           "#FECB52"
          ],
          "font": {
           "color": "#2a3f5f"
          },
          "geo": {
           "bgcolor": "white",
           "lakecolor": "white",
           "landcolor": "#E5ECF6",
           "showlakes": true,
           "showland": true,
           "subunitcolor": "white"
          },
          "hoverlabel": {
           "align": "left"
          },
          "hovermode": "closest",
          "mapbox": {
           "style": "light"
          },
          "paper_bgcolor": "white",
          "plot_bgcolor": "#E5ECF6",
          "polar": {
           "angularaxis": {
            "gridcolor": "white",
            "linecolor": "white",
            "ticks": ""
           },
           "bgcolor": "#E5ECF6",
           "radialaxis": {
            "gridcolor": "white",
            "linecolor": "white",
            "ticks": ""
           }
          },
          "scene": {
           "xaxis": {
            "backgroundcolor": "#E5ECF6",
            "gridcolor": "white",
            "gridwidth": 2,
            "linecolor": "white",
            "showbackground": true,
            "ticks": "",
            "zerolinecolor": "white"
           },
           "yaxis": {
            "backgroundcolor": "#E5ECF6",
            "gridcolor": "white",
            "gridwidth": 2,
            "linecolor": "white",
            "showbackground": true,
            "ticks": "",
            "zerolinecolor": "white"
           },
           "zaxis": {
            "backgroundcolor": "#E5ECF6",
            "gridcolor": "white",
            "gridwidth": 2,
            "linecolor": "white",
            "showbackground": true,
            "ticks": "",
            "zerolinecolor": "white"
           }
          },
          "shapedefaults": {
           "line": {
            "color": "#2a3f5f"
           }
          },
          "ternary": {
           "aaxis": {
            "gridcolor": "white",
            "linecolor": "white",
            "ticks": ""
           },
           "baxis": {
            "gridcolor": "white",
            "linecolor": "white",
            "ticks": ""
           },
           "bgcolor": "#E5ECF6",
           "caxis": {
            "gridcolor": "white",
            "linecolor": "white",
            "ticks": ""
           }
          },
          "title": {
           "x": 0.05
          },
          "xaxis": {
           "automargin": true,
           "gridcolor": "white",
           "linecolor": "white",
           "ticks": "",
           "title": {
            "standoff": 15
           },
           "zerolinecolor": "white",
           "zerolinewidth": 2
          },
          "yaxis": {
           "automargin": true,
           "gridcolor": "white",
           "linecolor": "white",
           "ticks": "",
           "title": {
            "standoff": 15
           },
           "zerolinecolor": "white",
           "zerolinewidth": 2
          }
         }
        },
        "title": {
         "text": "1D Scatter Plot"
        }
       }
      }
     },
     "metadata": {},
     "output_type": "display_data"
    }
   ],
   "source": [
    "visualizeCorpus(v, l, vgold, lgold, clabels, tf_values, dim=1)"
   ]
  },
  {
   "attachments": {},
   "cell_type": "markdown",
   "metadata": {},
   "source": [
    "### Compute TF of words"
   ]
  },
  {
   "cell_type": "code",
   "execution_count": null,
   "metadata": {},
   "outputs": [],
   "source": [
    "from sklearn.feature_extraction.text import TfidfVectorizer"
   ]
  },
  {
   "cell_type": "code",
   "execution_count": null,
   "metadata": {},
   "outputs": [],
   "source": [
    "def tf(words):\n",
    "    text = ' '.join(words)\n",
    "    vectorizer = TfidfVectorizer(use_idf=False, norm=None)\n",
    "    tf_values = vectorizer.fit_transform([text]).toarray()[0]\n",
    "    tf_dict = {word: tf_values[index] for word, index in vectorizer.vocabulary_.items()}\n",
    "    return tf_dict"
   ]
  },
  {
   "cell_type": "code",
   "execution_count": null,
   "metadata": {},
   "outputs": [],
   "source": [
    "tf(l)"
   ]
  },
  {
   "cell_type": "code",
   "execution_count": null,
   "metadata": {},
   "outputs": [],
   "source": [
    "def create_word_dictionary(words):\n",
    "    word_dict = {}\n",
    "    for word in words:\n",
    "        if word not in word_dict:\n",
    "            word_dict[word] = 1\n",
    "    return word_dict"
   ]
  },
  {
   "cell_type": "code",
   "execution_count": null,
   "metadata": {},
   "outputs": [],
   "source": [
    "create_word_dictionary([\"Banana\", \"Banana\", \"Apple\", \"Mango\"])"
   ]
  },
  {
   "attachments": {},
   "cell_type": "markdown",
   "metadata": {},
   "source": [
    "### TF des clusters"
   ]
  },
  {
   "cell_type": "code",
   "execution_count": 4,
   "metadata": {},
   "outputs": [],
   "source": [
    "elem0 = dataset.iloc[0, 0]\n",
    "gold0 = dataset.iloc[0, 1]\n",
    "o, l = tokenizeCorpus(elem0)\n",
    "ogold, lgold = tokenizeCorpus(gold0)\n",
    "v = vectorizeCorpus(o)\n",
    "vgold = vectorizeCorpus(ogold)"
   ]
  },
  {
   "cell_type": "code",
   "execution_count": 5,
   "metadata": {},
   "outputs": [
    {
     "name": "stderr",
     "output_type": "stream",
     "text": [
      "c:\\Pro\\Stages\\A4 - DVRC\\Work\\Supervised-Learning-using-Unsupervised-Learning-Metrics-in-the-absence-of-Annotated-Data\\.venv\\Lib\\site-packages\\sklearn\\feature_extraction\\text.py:528: UserWarning: The parameter 'token_pattern' will not be used since 'tokenizer' is not None'\n",
      "  warnings.warn(\n"
     ]
    }
   ],
   "source": [
    "tf_values = tf(l)\n",
    "clusterer = hdbscan.HDBSCAN()\n",
    "clusterer.fit(v)\n",
    "clabels = clusterer.labels_"
   ]
  },
  {
   "cell_type": "code",
   "execution_count": 6,
   "metadata": {},
   "outputs": [],
   "source": [
    "def clusters_tf(tf_values, labels, clabels):\n",
    "    clusters_tf_values = {}\n",
    "    for label, clabel in zip(labels, clabels):\n",
    "        if clabel in clusters_tf_values.keys():\n",
    "            clusters_tf_values[clabel] += tf_values[label]\n",
    "        else:\n",
    "            clusters_tf_values[clabel] = tf_values[label]\n",
    "    return clusters_tf_values"
   ]
  },
  {
   "cell_type": "code",
   "execution_count": 8,
   "metadata": {},
   "outputs": [],
   "source": [
    "clusters_tf_values = clusters_tf(tf_values, l, clabels)"
   ]
  },
  {
   "attachments": {},
   "cell_type": "markdown",
   "metadata": {},
   "source": [
    "### ILP"
   ]
  },
  {
   "cell_type": "code",
   "execution_count": 17,
   "metadata": {},
   "outputs": [],
   "source": [
    "from cvxopt.glpk import ilp"
   ]
  },
  {
   "cell_type": "code",
   "execution_count": 31,
   "metadata": {},
   "outputs": [
    {
     "name": "stdout",
     "output_type": "stream",
     "text": [
      "['[CLS]', 'section', '1', '.', 'short', 'title', '.', 'this', 'act', 'may', 'be', 'cited', 'as', 'the', '`', '`', 'national', 'science', 'education', 'tax', 'incentive', 'for', 'businesses', 'act', 'of', '2007', \"'\", \"'\", '.', 'sec', '.', '2', '.', 'credits', 'for', 'certain', 'contributions', 'benefit', '##ing', 'science', ',', 'technology', ',', 'engineering', ',', 'and', 'mathematics', 'education', 'at', 'the', 'elementary', 'and', 'secondary', 'school', 'level', '.', '(', 'a', ')', 'in', 'general', '.', '-', '-', 'sub', '##par', '##t', 'd', 'of', 'part', 'iv', 'of', 'sub', '##cha', '##pt', '##er', 'a', 'of', 'chapter', '1', 'of', 'the', 'internal', 'revenue', 'code', 'of', '1986', '(', 'relating', 'to', 'business', 'related', 'credits', ')', 'is', 'amended', 'by', 'adding', 'at', 'the', 'end', 'the', 'following', 'new', 'section', ':', '`', '`', 'sec', '.', '45', '##o', '.', 'contributions', 'benefit', '##ing', 'science', ',', 'technology', ',', 'engineering', ',', 'and', 'mathematics', 'education', 'at', 'the', 'elementary', 'and', 'secondary', 'school', 'level', '.', '`', '`', '(', 'a', ')', 'in', 'general', '.', '-', '-', 'for', 'purposes', 'of', 'section', '38', ',', 'the', 'elementary', 'and', 'secondary', 'science', ',', 'technology', ',', 'engineering', ',', 'and', 'mathematics', '(', 'stem', ')', 'contributions', 'credit', 'determined', 'under', 'this', 'section', 'for', 'the', 'taxa', '##ble', 'year', 'is', 'an', 'amount', 'equal', 'to', '100', 'percent', 'of', 'the', 'qualified', 'stem', 'contributions', 'of', 'the', 'taxpayer', 'for', 'such', 'taxa', '##ble', 'year', '.', '`', '`', '(', 'b', ')', 'qualified', 'stem', 'contributions', '.', '-', '-', 'for', 'purposes', 'of', 'this', 'section', ',', 'the', 'term', '`', 'qualified', 'stem', 'contributions', \"'\", 'means', '-', '-', '`', '`', '(', '1', ')', 'stem', 'school', 'contributions', ',', '`', '`', '(', '2', ')', 'stem', 'teacher', 'ex', '##tern', '##ship', 'expenses', ',', 'and', '`', '`', '(', '3', ')', 'stem', 'teacher', 'training', 'expenses', '.', '`', '`', '(', 'c', ')', 'stem', 'school', 'contributions', '.', '-', '-', 'for', 'purposes', 'of', 'this', 'section', '-', '-', '`', '`', '(', '1', ')', 'in', 'general', '.', '-', '-', 'the', 'term', '`', 'stem', 'school', 'contributions', \"'\", 'means', '-', '-', '`', '`', '(', 'a', ')', 'stem', 'property', 'contributions', ',', 'and', '`', '`', '(', 'b', ')', 'stem', 'service', 'contributions', '.', '`', '`', '(', '2', ')', 'stem', 'property', 'contributions', '.', '-', '-', 'the', 'term', '`', 'stem', 'property', 'contributions', \"'\", 'means', 'the', 'amount', 'which', 'would', '(', 'but', 'for', 'sub', '##section', '(', 'f', ')', ')', 'be', 'allowed', 'as', 'a', 'de', '##duction', 'under', 'section', '170', 'for', 'a', 'charitable', 'contribution', 'of', 'stem', 'inventory', 'property', 'if', '-', '-', '`', '`', '(', 'a', ')', 'the', 'done', '##e', 'is', 'an', 'elementary', 'or', 'secondary', 'school', 'described', 'in', 'section', '170', '(', 'b', ')', '(', '1', ')', '(', 'a', ')', '(', 'ii', ')', ',', '`', '`', '(', 'b', ')', 'substantially', 'all', 'of', 'the', 'use', 'of', 'the', 'property', '[SEP]', '[PAD]', '[PAD]', '[PAD]', '[PAD]', '[PAD]', '[PAD]', '[PAD]', '[PAD]', '[PAD]', '[PAD]', '[PAD]', '[PAD]', '[PAD]', '[PAD]', '[PAD]', '[PAD]', '[PAD]', '[PAD]', '[PAD]', '[PAD]', '[PAD]', '[PAD]', '[PAD]', '[PAD]', '[PAD]', '[PAD]', '[PAD]', '[PAD]', '[PAD]', '[PAD]', '[PAD]', '[PAD]', '[PAD]', '[PAD]', '[PAD]', '[PAD]', '[PAD]', '[PAD]', '[PAD]', '[PAD]', '[PAD]', '[PAD]', '[PAD]', '[PAD]', '[PAD]', '[PAD]', '[PAD]', '[PAD]', '[PAD]', '[PAD]', '[PAD]', '[PAD]', '[PAD]', '[PAD]', '[PAD]', '[PAD]', '[PAD]', '[PAD]', '[PAD]', '[PAD]', '[PAD]', '[PAD]', '[PAD]', '[PAD]', '[PAD]', '[PAD]', '[PAD]', '[PAD]', '[PAD]', '[PAD]', '[PAD]', '[PAD]', '[PAD]', '[PAD]', '[PAD]', '[PAD]', '[PAD]', '[PAD]', '[PAD]', '[PAD]', '[PAD]', '[PAD]', '[PAD]', '[PAD]', '[PAD]', '[PAD]', '[PAD]', '[PAD]', '[PAD]', '[PAD]', '[PAD]', '[PAD]', '[PAD]', '[PAD]', '[PAD]', '[PAD]', '[PAD]', '[PAD]', '[PAD]', '[PAD]', '[PAD]', '[PAD]', '[PAD]', '[CLS]', 'by', 'the', 'done', '##e', 'is', 'within', 'the', 'united', 'states', 'or', 'within', 'the', 'defense', 'dependent', '##s', \"'\", 'education', 'system', 'for', 'educational', 'purposes', 'in', 'any', 'of', 'the', 'grades', 'k', '-', '12', 'that', 'are', 'related', 'to', 'the', 'purpose', 'or', 'function', 'of', 'the', 'done', '##e', ',', '`', '`', '(', 'c', ')', 'the', 'original', 'use', 'of', 'the', 'property', 'begins', 'with', 'the', 'done', '##e', ',', '`', '`', '(', 'd', ')', 'the', 'property', 'will', 'fit', 'productive', '##ly', 'into', 'the', 'done', '##e', \"'\", 's', 'education', 'plan', ',', '`', '`', '(', 'e', ')', 'the', 'property', 'is', 'not', 'transferred', 'by', 'the', 'done', '##e', 'in', 'exchange', 'for', 'money', ',', 'other', 'property', ',', 'or', 'services', ',', 'except', 'for', 'shipping', ',', 'installation', 'and', 'transfer', 'costs', ',', 'and', '`', '`', '(', 'f', ')', 'the', 'done', '##e', \"'\", 's', 'use', 'and', 'disposition', 'of', 'the', 'property', 'will', 'be', 'in', 'accordance', 'with', 'the', 'provisions', 'of', 'sub', '##para', '##graphs', '(', 'b', ')', 'and', '(', 'e', ')', '.', 'the', 'determination', 'of', 'the', 'amount', 'of', 'de', '##duction', 'under', 'section', '170', 'for', 'purposes', 'of', 'this', 'paragraph', 'shall', 'be', 'made', 'as', 'if', 'the', 'limitation', 'under', 'section', '170', '(', 'e', ')', '(', '3', ')', '(', 'b', ')', 'applied', 'to', 'all', 'stem', 'inventory', 'property', '.', '`', '`', '(', '3', ')', 'stem', 'service', 'contributions', '.', '-', '-', 'the', 'term', '`', 'stem', 'service', 'contributions', \"'\", 'means', 'the', 'amount', 'paid', 'or', 'incurred', 'during', 'the', 'taxa', '##ble', 'year', 'for', 'stem', 'services', 'provided', 'in', 'the', 'united', 'states', 'or', 'in', 'the', 'defense', 'dependent', '##s', \"'\", 'education', 'system', 'for', 'the', 'exclusive', 'benefit', 'of', 'students', 'at', 'an', 'elementary', 'or', 'secondary', 'school', 'described', 'in', 'section', '170', '(', 'b', ')', '(', '1', ')', '(', 'a', ')', '(', 'ii', ')', 'but', 'only', 'if', '-', '-', '[SEP]', '[PAD]', '[PAD]', '[PAD]', '[PAD]', '[PAD]', '[PAD]', '[PAD]', '[PAD]', '[PAD]', '[PAD]', '[PAD]', '[PAD]', '[PAD]', '[PAD]', '[PAD]', '[PAD]', '[PAD]', '[PAD]', '[PAD]', '[PAD]', '[PAD]', '[PAD]', '[PAD]', '[PAD]', '[PAD]', '[PAD]', '[PAD]', '[PAD]', '[PAD]', '[PAD]', '[PAD]', '[PAD]', '[PAD]', '[PAD]', '[PAD]', '[PAD]', '[PAD]', '[PAD]', '[PAD]', '[PAD]', '[PAD]', '[PAD]', '[PAD]', '[PAD]', '[PAD]', '[PAD]', '[PAD]', '[PAD]', '[PAD]', '[PAD]', '[PAD]', '[PAD]', '[PAD]', '[PAD]', '[PAD]', '[PAD]', '[PAD]', '[PAD]', '[PAD]', '[PAD]', '[PAD]', '[PAD]', '[PAD]', '[PAD]', '[PAD]', '[PAD]', '[PAD]', '[PAD]', '[PAD]', '[PAD]', '[PAD]', '[PAD]', '[PAD]', '[PAD]', '[PAD]', '[PAD]', '[PAD]', '[PAD]', '[PAD]', '[PAD]', '[PAD]', '[PAD]', '[PAD]', '[PAD]', '[PAD]', '[PAD]', '[PAD]', '[PAD]', '[PAD]', '[PAD]', '[PAD]', '[PAD]', '[PAD]', '[PAD]', '[PAD]', '[PAD]', '[PAD]', '[PAD]', '[PAD]', '[PAD]', '[PAD]', '[PAD]', '[PAD]', '[PAD]', '[PAD]', '[PAD]', '[PAD]', '[PAD]', '[PAD]', '[PAD]', '[PAD]', '[PAD]', '[PAD]', '[PAD]', '[PAD]', '[PAD]', '[PAD]', '[PAD]', '[PAD]', '[PAD]', '[PAD]', '[PAD]', '[PAD]', '[PAD]', '[PAD]', '[PAD]', '[PAD]', '[PAD]', '[PAD]', '[PAD]', '[PAD]', '[PAD]', '[PAD]', '[PAD]', '[PAD]', '[PAD]', '[PAD]', '[PAD]', '[PAD]', '[PAD]', '[PAD]', '[PAD]', '[PAD]', '[PAD]', '[PAD]', '[PAD]', '[PAD]', '[PAD]', '[PAD]', '[PAD]', '[PAD]', '[PAD]', '[PAD]', '[PAD]', '[PAD]', '[PAD]', '[PAD]', '[PAD]', '[PAD]', '[PAD]', '[PAD]', '[PAD]', '[PAD]', '[PAD]', '[PAD]', '[PAD]', '[PAD]', '[PAD]', '[PAD]', '[PAD]', '[PAD]', '[PAD]', '[PAD]', '[PAD]', '[PAD]', '[PAD]', '[PAD]', '[PAD]', '[PAD]', '[PAD]', '[PAD]', '[PAD]', '[PAD]', '[PAD]', '[PAD]', '[PAD]', '[PAD]', '[PAD]', '[PAD]', '[PAD]', '[PAD]', '[PAD]', '[PAD]', '[PAD]', '[PAD]', '[PAD]', '[PAD]', '[PAD]', '[PAD]', '[PAD]', '[PAD]', '[PAD]', '[PAD]', '[PAD]', '[PAD]', '[PAD]', '[PAD]', '[PAD]', '[PAD]', '[PAD]', '[PAD]', '[PAD]', '[PAD]', '[PAD]', '[PAD]', '[PAD]', '[PAD]', '[PAD]', '[PAD]', '[PAD]', '[PAD]', '[PAD]', '[PAD]', '[PAD]', '[PAD]', '[PAD]', '[PAD]', '[PAD]', '[PAD]', '[PAD]', '[PAD]', '[PAD]', '[PAD]', '[PAD]', '[PAD]', '[PAD]', '[PAD]', '[PAD]', '[PAD]', '[PAD]', '[CLS]', '`', '`', '(', 'a', ')', 'the', 'taxpayer', 'is', 'engaged', 'in', 'the', 'trade', 'or', 'business', 'of', 'providing', 'such', 'services', 'on', 'a', 'commercial', 'basis', ',', 'and', '`', '`', '(', 'b', ')', 'no', 'charge', 'is', 'imposed', 'for', 'providing', 'such', 'services', '.', '`', '`', '(', '4', ')', 'stem', 'inventory', 'property', '.', '-', '-', 'the', 'term', '`', 'stem', 'inventory', 'property', \"'\", 'means', ',', 'with', 'respect', 'to', 'any', 'contribution', 'to', 'a', 'school', ',', 'any', 'property', '-', '-', '`', '`', '(', 'a', ')', 'which', 'is', 'described', 'in', 'paragraph', '(', '1', ')', 'or', '(', '2', ')', 'of', 'section', '122', '##1', '(', 'a', ')', 'with', 'respect', 'to', 'the', 'donor', ',', 'and', '`', '`', '(', 'b', ')', 'which', 'is', 'determined', 'by', 'the', 'school', 'to', 'be', 'needed', 'by', 'the', 'school', 'in', 'providing', 'education', 'in', 'grades', 'k', '-', '12', 'in', 'the', 'areas', 'of', 'science', ',', 'technology', ',', 'engineering', ',', 'or', 'mathematics', '.', '`', '`', '(', '5', ')', 'stem', 'services', '.', '-', '-', 'the', 'term', '`', 'stem', 'services', \"'\", 'means', ',', 'with', 'respect', 'to', 'any', 'contribution', 'to', 'a', 'school', ',', 'any', 'service', 'determined', 'by', 'the', 'school', 'to', 'be', 'needed', 'by', 'the', 'school', 'in', 'providing', 'education', 'in', 'grades', 'k', '-', '12', 'in', 'the', 'areas', 'of', 'science', ',', 'technology', ',', 'engineering', ',', 'or', 'mathematics', ',', 'including', 'teaching', 'courses', 'of', 'instruction', 'at', 'such', 'school', 'in', 'any', 'such', 'area', '.', '`', '`', '(', '6', ')', 'defense', 'dependent', '##s', \"'\", 'education', 'system', '.', '-', '-', 'for', 'purposes', 'of', 'this', 'sub', '##section', ',', 'the', 'term', '`', 'defense', 'dependent', '##s', \"'\", 'education', 'system', \"'\", 'means', 'the', 'program', 'established', 'and', 'operated', 'under', 'the', 'defense', 'dependent', '##s', \"'\", 'education', 'act', 'of', '1978', '(', '20', 'u', '.', 's', '.', 'c', '.', '92', '##1', 'et', 'se', '##q', '.', ')', '.', '`', '`', '(', 'd', ')', 'stem', 'teacher', 'ex', '##tern', '##ship', 'expenses', '.', '-', '-', 'for', 'purposes', 'of', 'this', 'section', '-', '-', '`', '`', '(', '1', ')', 'in', '[SEP]', '[PAD]', '[PAD]', '[PAD]', '[PAD]', '[PAD]', '[PAD]', '[PAD]', '[PAD]', '[PAD]', '[PAD]', '[PAD]', '[PAD]', '[PAD]', '[PAD]', '[PAD]', '[PAD]', '[PAD]', '[PAD]', '[PAD]', '[PAD]', '[PAD]', '[PAD]', '[PAD]', '[PAD]', '[PAD]', '[PAD]', '[PAD]', '[PAD]', '[PAD]', '[PAD]', '[PAD]', '[PAD]', '[PAD]', '[PAD]', '[PAD]', '[PAD]', '[PAD]', '[PAD]', '[PAD]', '[PAD]', '[PAD]', '[PAD]', '[PAD]', '[PAD]', '[PAD]', '[PAD]', '[PAD]', '[PAD]', '[PAD]', '[PAD]', '[PAD]', '[PAD]', '[PAD]', '[PAD]', '[PAD]', '[PAD]', '[PAD]', '[PAD]', '[PAD]', '[PAD]', '[PAD]', '[PAD]', '[PAD]', '[PAD]', '[PAD]', '[PAD]', '[PAD]', '[PAD]', '[PAD]', '[PAD]', '[PAD]', '[PAD]', '[PAD]', '[PAD]', '[PAD]', '[PAD]', '[PAD]', '[PAD]', '[PAD]', '[PAD]', '[PAD]', '[PAD]', '[PAD]', '[PAD]', '[PAD]', '[PAD]', '[PAD]', '[PAD]', '[PAD]', '[PAD]', '[PAD]', '[PAD]', '[PAD]', '[PAD]', '[PAD]', '[PAD]', '[PAD]', '[PAD]', '[PAD]', '[PAD]', '[PAD]', '[PAD]', '[PAD]', '[PAD]', '[PAD]', '[PAD]', '[PAD]', '[PAD]', '[PAD]', '[PAD]', '[PAD]', '[PAD]', '[PAD]', '[PAD]', '[PAD]', '[PAD]', '[PAD]', '[PAD]', '[PAD]', '[PAD]', '[PAD]', '[PAD]', '[PAD]', '[PAD]', '[PAD]', '[PAD]', '[PAD]', '[PAD]', '[PAD]', '[PAD]', '[PAD]', '[PAD]', '[PAD]', '[PAD]', '[PAD]', '[PAD]', '[PAD]', '[PAD]', '[PAD]', '[PAD]', '[PAD]', '[PAD]', '[PAD]', '[PAD]', '[PAD]', '[PAD]', '[PAD]', '[PAD]', '[PAD]', '[PAD]', '[PAD]', '[PAD]', '[PAD]', '[PAD]', '[PAD]', '[PAD]', '[PAD]', '[PAD]', '[PAD]', '[PAD]', '[PAD]', '[PAD]', '[PAD]', '[PAD]', '[PAD]', '[PAD]', '[PAD]', '[PAD]', '[PAD]', '[PAD]', '[PAD]', '[PAD]', '[PAD]', '[PAD]', '[PAD]', '[PAD]', '[PAD]', '[PAD]', '[PAD]', '[PAD]', '[PAD]', '[PAD]', '[PAD]', '[PAD]', '[PAD]', '[PAD]', '[PAD]', '[PAD]', '[PAD]', '[PAD]', '[PAD]', '[PAD]', '[PAD]', '[PAD]', '[PAD]', '[PAD]', '[PAD]', '[PAD]', '[PAD]', '[PAD]', '[PAD]', '[PAD]', '[PAD]', '[PAD]', '[PAD]', '[PAD]', '[PAD]', '[CLS]', 'general', '.', '-', '-', 'the', 'term', '`', 'stem', 'teacher', 'ex', '##tern', '##ship', 'expenses', \"'\", 'means', 'any', 'amount', 'paid', 'or', 'incurred', 'to', 'carry', 'out', 'a', 'stem', 'ex', '##tern', '##ship', 'program', 'of', 'the', 'taxpayer', 'but', 'only', 'to', 'the', 'extent', 'that', 'such', 'amount', 'is', 'at', '##tri', '##bu', '##table', 'to', 'the', 'participation', 'in', 'such', 'program', 'of', 'any', 'eligible', 'stem', 'teacher', ',', 'including', 'amounts', 'paid', 'to', 'such', 'a', 'teacher', 'as', 'a', 'st', '##ipe', '##nd', 'while', 'participating', 'in', 'such', 'program', '.', '`', '`', '(', '2', ')', 'stem', 'ex', '##tern', '##ship', 'program', '.', '-', '-', 'the', 'term', '`', 'stem', 'ex', '##tern', '##ship', 'program', \"'\", 'means', 'any', 'program', '-', '-', '`', '`', '(', 'a', ')', 'established', 'by', 'a', 'taxpayer', 'engaged', 'in', 'a', 'trade', 'or', 'business', 'within', 'an', 'area', 'of', 'science', ',', 'technology', ',', 'engineering', ',', 'or', 'mathematics', ',', 'and', '`', '`', '(', 'b', ')', 'under', 'which', 'eligible', 'stem', 'teachers', 'receive', 'training', 'to', 'enhance', 'their', 'teaching', 'skills', 'in', 'the', 'areas', 'of', 'science', ',', 'technology', ',', 'engineering', ',', 'or', 'mathematics', 'or', 'otherwise', 'improve', 'their', 'knowledge', 'in', 'such', 'areas', '.', '`', '`', '(', '3', ')', 'eligible', 'stem', 'teacher', '.', '-', '-', 'the', 'term', '`', 'eligible', 'stem', 'teacher', \"'\", 'means', 'any', 'individual', '-', '-', '`', '`', '(', 'a', ')', 'who', 'is', 'a', 'teacher', 'in', 'grades', 'k', '-', '12', 'at', 'an', 'educational', 'organization', 'described', 'in', 'section', '170', '(', 'b', ')', '(', '1', ')', '(', 'a', ')', '(', 'ii', ')', 'which', 'is', 'located', 'in', 'the', 'united', 'states', 'or', 'which', 'is', 'located', 'on', 'a', 'united', 'states', 'military', 'base', 'outside', 'the', 'united', 'states', ',', 'and', '`', '`', '(', 'b', ')', 'whose', 'teaching', 'responsibilities', 'at', 'such', 'school', 'include', ',', 'or', 'are', 'likely', 'to', 'include', ',', 'any', 'course', 'in', '[SEP]', '[PAD]', '[PAD]', '[PAD]', '[PAD]', '[PAD]', '[PAD]', '[PAD]', '[PAD]', '[PAD]', '[PAD]', '[PAD]', '[PAD]', '[PAD]', '[PAD]', '[PAD]', '[PAD]', '[PAD]', '[PAD]', '[PAD]', '[PAD]', '[PAD]', '[PAD]', '[PAD]', '[PAD]', '[PAD]', '[PAD]', '[PAD]', '[PAD]', '[PAD]', '[PAD]', '[PAD]', '[PAD]', '[PAD]', '[PAD]', '[PAD]', '[PAD]', '[PAD]', '[PAD]', '[PAD]', '[PAD]', '[PAD]', '[PAD]', '[PAD]', '[PAD]', '[PAD]', '[PAD]', '[PAD]', '[PAD]', '[PAD]', '[PAD]', '[PAD]', '[PAD]', '[PAD]', '[PAD]', '[PAD]', '[PAD]', '[PAD]', '[PAD]', '[PAD]', '[PAD]', '[PAD]', '[PAD]', '[PAD]', '[PAD]', '[PAD]', '[PAD]', '[PAD]', '[PAD]', '[PAD]', '[PAD]', '[PAD]', '[PAD]', '[PAD]', '[PAD]', '[PAD]', '[PAD]', '[PAD]', '[PAD]', '[PAD]', '[PAD]', '[PAD]', '[PAD]', '[PAD]', '[PAD]', '[PAD]', '[PAD]', '[PAD]', '[PAD]', '[PAD]', '[PAD]', '[PAD]', '[PAD]', '[PAD]', '[PAD]', '[PAD]', '[PAD]', '[PAD]', '[PAD]', '[PAD]', '[PAD]', '[PAD]', '[PAD]', '[PAD]', '[PAD]', '[PAD]', '[PAD]', '[PAD]', '[PAD]', '[PAD]', '[PAD]', '[PAD]', '[PAD]', '[PAD]', '[PAD]', '[PAD]', '[PAD]', '[PAD]', '[PAD]', '[PAD]', '[PAD]', '[PAD]', '[PAD]', '[PAD]', '[PAD]', '[PAD]', '[PAD]', '[PAD]', '[PAD]', '[PAD]', '[PAD]', '[PAD]', '[PAD]', '[PAD]', '[PAD]', '[PAD]', '[PAD]', '[PAD]', '[PAD]', '[PAD]', '[PAD]', '[PAD]', '[PAD]', '[PAD]', '[PAD]', '[PAD]', '[PAD]', '[PAD]', '[PAD]', '[PAD]', '[PAD]', '[PAD]', '[PAD]', '[PAD]', '[PAD]', '[PAD]', '[PAD]', '[PAD]', '[PAD]', '[PAD]', '[PAD]', '[PAD]', '[PAD]', '[PAD]', '[PAD]', '[PAD]', '[PAD]', '[PAD]', '[PAD]', '[PAD]', '[PAD]', '[PAD]', '[PAD]', '[PAD]', '[PAD]', '[PAD]', '[PAD]', '[PAD]', '[PAD]', '[PAD]', '[PAD]', '[PAD]', '[PAD]', '[PAD]', '[PAD]', '[PAD]', '[PAD]', '[PAD]', '[PAD]', '[PAD]', '[PAD]', '[PAD]', '[PAD]', '[PAD]', '[PAD]', '[PAD]', '[PAD]', '[PAD]', '[PAD]', '[PAD]', '[PAD]', '[PAD]', '[PAD]', '[PAD]', '[PAD]', '[PAD]', '[PAD]', '[PAD]', '[PAD]', '[PAD]', '[PAD]', '[PAD]', '[PAD]', '[PAD]', '[PAD]', '[PAD]', '[PAD]', '[PAD]', '[PAD]', '[PAD]', '[PAD]', '[PAD]', '[PAD]', '[PAD]', '[PAD]', '[PAD]', '[PAD]', '[PAD]', '[PAD]', '[PAD]', '[PAD]', '[PAD]', '[PAD]', '[PAD]', '[PAD]', '[PAD]', '[PAD]', '[PAD]', '[PAD]', '[PAD]', '[CLS]', 'the', 'areas', 'of', 'science', ',', 'technology', ',', 'engineering', ',', 'or', 'mathematics', '.', '`', '`', '(', 'e', ')', 'stem', 'teacher', 'training', 'expenses', '.', '-', '-', 'the', 'term', '`', 'stem', 'teacher', 'training', 'expenses', \"'\", 'means', 'any', 'amount', 'paid', 'or', 'incurred', 'by', 'a', 'taxpayer', 'engaged', 'in', 'a', 'trade', 'or', 'business', 'within', 'an', 'area', 'of', 'science', ',', 'technology', ',', 'engineering', ',', 'or', 'mathematics', 'which', 'is', 'at', '##tri', '##bu', '##table', 'to', 'the', 'participation', 'of', 'any', 'eligible', 'stem', 'teacher', 'in', 'a', 'regular', 'training', 'program', 'provided', 'to', 'employees', 'of', 'the', 'taxpayer', 'which', 'is', 'determined', 'by', 'such', 'teacher', \"'\", 's', 'school', 'as', 'enhancing', 'such', 'teacher', \"'\", 's', 'teaching', 'skills', 'in', 'the', 'areas', 'of', 'science', ',', 'technology', ',', 'engineering', ',', 'or', 'mathematics', '.', '`', '`', '(', 'f', ')', 'denial', 'of', 'double', 'benefit', '.', '-', '-', 'no', 'de', '##duction', 'shall', 'be', 'allowed', 'under', 'this', 'chapter', 'for', 'any', 'amount', 'allowed', 'as', 'a', 'credit', 'under', 'this', 'section', '.', \"'\", \"'\", '.', '(', 'b', ')', 'conform', '##ing', 'amendments', '.', '-', '-', '(', '1', ')', 'section', '38', '(', 'b', ')', 'of', 'such', 'code', 'is', 'amended', 'by', 'striking', '`', '`', 'plus', \"'\", \"'\", 'at', 'the', 'end', 'of', 'paragraph', '(', '30', ')', ',', 'by', 'striking', 'the', 'period', 'at', 'the', 'end', 'of', 'paragraph', '(', '31', ')', ',', 'and', 'insert', '##ing', '`', '`', ',', 'plus', \"'\", \"'\", ',', 'and', 'by', 'adding', 'at', 'the', 'end', 'the', 'following', 'new', 'paragraph', ':', '`', '`', '(', '32', ')', 'the', 'elementary', 'and', 'secondary', 'science', ',', 'technology', ',', 'engineering', ',', 'and', 'mathematics', '(', 'stem', ')', 'contributions', 'credit', 'determined', 'under', 'section', '45', '##o', '.', \"'\", \"'\", '.', '(', '2', ')', 'the', 'table', 'of', 'sections', 'for', 'sub', '##par', '##t', 'd', 'of', 'part', 'iv', 'of', 'sub', '##cha', '##pt', '##er', 'a', 'of', 'chapter', '1', 'of', 'such', 'code', 'is', 'amended', 'by', 'adding', 'at', 'the', 'end', 'the', 'following', 'new', 'item', ':', '`', '`', 'sec', '.', '45', '##o', '.', 'contributions', 'benefit', '##ing', 'science', ',', 'technology', ',', 'engineering', ',', 'and', 'mathematics', 'education', 'at', 'the', 'elementary', 'and', 'secondary', 'school', 'level', '.', \"'\", \"'\", '.', '(', 'c', ')', 'effective', 'date', '.', '-', '-', 'the', 'amendments', 'made', 'by', 'this', 'section', 'shall', 'apply', 'to', 'taxa', '##ble', 'years', 'beginning', 'after', 'the', 'date', 'of', 'the', 'enactment', 'of', 'this', 'act', '.', '[SEP]', '[PAD]', '[PAD]', '[PAD]', '[PAD]', '[PAD]', '[PAD]', '[PAD]', '[PAD]', '[PAD]', '[PAD]', '[PAD]', '[PAD]', '[PAD]', '[PAD]', '[PAD]', '[PAD]', '[PAD]', '[PAD]', '[PAD]', '[PAD]', '[PAD]', '[PAD]', '[PAD]', '[PAD]', '[PAD]', '[PAD]', '[PAD]', '[PAD]', '[PAD]', '[PAD]', '[PAD]', '[PAD]', '[PAD]', '[PAD]', '[PAD]', '[PAD]', '[PAD]', '[PAD]', '[PAD]', '[PAD]', '[PAD]', '[PAD]', '[PAD]', '[PAD]', '[PAD]', '[PAD]', '[PAD]', '[PAD]', '[PAD]', '[PAD]', '[PAD]', '[PAD]', '[PAD]', '[PAD]', '[PAD]', '[PAD]', '[PAD]', '[PAD]', '[PAD]', '[PAD]', '[PAD]', '[PAD]', '[PAD]', '[PAD]', '[PAD]', '[PAD]', '[PAD]', '[PAD]', '[PAD]', '[PAD]', '[PAD]', '[PAD]', '[PAD]', '[PAD]', '[PAD]', '[PAD]', '[PAD]', '[PAD]', '[PAD]', '[PAD]', '[PAD]', '[PAD]', '[PAD]', '[PAD]', '[PAD]', '[PAD]', '[PAD]', '[PAD]', '[PAD]', '[PAD]', '[PAD]', '[PAD]', '[PAD]', '[PAD]', '[PAD]', '[PAD]', '[PAD]', '[PAD]', '[PAD]', '[PAD]', '[PAD]', '[PAD]', '[PAD]', '[PAD]', '[PAD]', '[PAD]', '[PAD]', '[PAD]', '[PAD]', '[PAD]', '[PAD]', '[PAD]', '[PAD]', '[PAD]', '[PAD]', '[PAD]', '[PAD]', '[PAD]', '[PAD]', '[PAD]', '[PAD]', '[PAD]', '[PAD]', '[PAD]', '[PAD]', '[PAD]', '[PAD]', '[PAD]', '[PAD]', '[PAD]', '[PAD]', '[PAD]', '[PAD]', '[PAD]', '[PAD]', '[PAD]', '[PAD]', '[PAD]', '[PAD]', '[PAD]', '[PAD]', '[PAD]', '[PAD]', '[PAD]', '[PAD]', '[PAD]', '[PAD]', '[PAD]', '[PAD]', '[PAD]', '[PAD]', '[PAD]', '[PAD]', '[PAD]', '[PAD]', '[PAD]', '[PAD]', '[PAD]']\n"
     ]
    }
   ],
   "source": [
    "print(l)"
   ]
  },
  {
   "cell_type": "code",
   "execution_count": 38,
   "metadata": {},
   "outputs": [],
   "source": [
    "sentences = list(map(str.strip, list(map(cleanString, \" \".join(l).split(\".\")))))"
   ]
  },
  {
   "cell_type": "code",
   "execution_count": 46,
   "metadata": {},
   "outputs": [
    {
     "data": {
      "text/plain": [
       "2560"
      ]
     },
     "execution_count": 46,
     "metadata": {},
     "output_type": "execute_result"
    }
   ],
   "source": [
    "len(clabels)"
   ]
  },
  {
   "cell_type": "code",
   "execution_count": null,
   "metadata": {},
   "outputs": [],
   "source": [
    "len(clusters_tf_values)"
   ]
  },
  {
   "cell_type": "code",
   "execution_count": 68,
   "metadata": {},
   "outputs": [],
   "source": [
    "def to_ilp_format(labels, clabels, clusters_tf_values):\n",
    "    #define scoring function\n",
    "    output = \"Maximize\\nscore:\"\n",
    "    for i, k in enumerate(sorted(clusters_tf_values.keys())):\n",
    "        if int(clusters_tf_values[k]) < 0:\n",
    "            output += f\" - {-int(clusters_tf_values[k])} c{i}\"\n",
    "        else:\n",
    "            output += f\" + {int(clusters_tf_values[k])} c{i}\"\n",
    "\n",
    "    #create sentences and sentence dictionnary\n",
    "    sentence_index = 0\n",
    "    sentences_map = {0: set()}\n",
    "    for cluster_index, token in zip(clabels, labels):\n",
    "        if cluster_index in sentences_map.keys():\n",
    "            sentences_map[cluster_index].add(sentence_index)\n",
    "        else:\n",
    "            sentences_map[cluster_index] = {sentence_index}\n",
    "        \n",
    "        if token == \".\":\n",
    "            sentence_index += 1\n",
    "            \n",
    "\n",
    "    #define constraints\n",
    "    output += \"\\n\\nSubject To\\n\"\n",
    "    for i, k in enumerate(sorted(sentences_map.keys())):\n",
    "        output += f\"index_{i}:\"\n",
    "        for cluster_index in sorted(sentences_map[k]):\n",
    "            output += f\" s{cluster_index} +\"\n",
    "        output = output[:-2] + f\" - c{k}\" + \"\\n\"\n",
    "        \n",
    "    #define sentence length length\n",
    "    \n",
    "    #define variables\n",
    "    output += \"\\n\\nBinary\\n\"\n",
    "    for i in range(len(clusters_tf_values.keys())):\n",
    "        output += f\"c{i}\\n\"\n",
    "    return output"
   ]
  },
  {
   "cell_type": "code",
   "execution_count": 69,
   "metadata": {},
   "outputs": [
    {
     "name": "stdout",
     "output_type": "stream",
     "text": [
      "Maximize\n",
      "score: + 49209 c0 + 49 c1 + 36 c2 + 42 c3 + 1225 c4 + 144 c5 + 144 c6 + 156 c7 + 144 c8 + 40 c9 + 121 c10 + 121 c11 + 49 c12 + 19 c13 + 258 c14 + 36 c15 + 120 c16 + 196 c17 + 48 c18 + 829 c19 + 69 c20 + 91 c21 + 638 c22 + 89 c23 + 4485 c24 + 6825 c25 + 1092 c26 + 320 c27 + 352 c28 + 65 c29 + 225 c30 + 133 c31 + 205 c32 + 121 c33 + 1932 c34 + 759 c35 + 45 c36 + 334 c37 + 95 c38 + 510 c39 + 306 c40 + 75 c41 + 500 c42 + 996 c43 + 357 c44 + 2060 c45 + 345 c46 + 288 c47 + 867470 c48 + 3132 c49\n",
      "\n",
      "Subject To\n",
      "index_0: s0 + s1 + s2 + s3 + s4 + s5 + s6 + s7 + s8 + s9 + s10 + s11 + s12 + s13 + s15 + s16 + s18 + s19 + s20 + s21 + s22 + s23 + s24 + s25 + s26 + s27 + s28 + s29 + s30 + s31 + s33 + s34 + s36 + s37 + s38 + s39 + s40 + s41 + s42 + s44 + s45 + s47 + s48 + s49 + s51 + s52 + s53 - c-1\n",
      "index_1: s18 - c0\n",
      "index_2: s11 + s21 + s34 + s36 + s40 - c1\n",
      "index_3: s11 + s13 + s15 + s19 + s27 + s33 - c2\n",
      "index_4: s11 + s12 + s13 + s14 + s16 + s17 + s18 + s19 + s20 + s21 + s22 + s23 + s24 + s25 + s32 + s34 + s35 + s36 + s37 + s38 + s39 + s40 + s45 - c3\n",
      "index_5: s5 + s9 + s11 + s23 + s25 + s36 + s38 + s40 + s45 + s49 - c4\n",
      "index_6: s5 + s9 + s11 + s23 + s25 + s36 + s38 + s40 + s45 + s49 - c5\n",
      "index_7: s5 + s9 + s11 + s23 + s25 + s36 + s38 + s40 + s45 + s49 - c6\n",
      "index_8: s5 + s9 + s11 + s23 + s25 + s36 + s38 + s40 + s45 + s49 - c7\n",
      "index_9: s18 + s19 + s21 + s23 + s38 + s45 - c8\n",
      "index_10: s13 + s16 + s18 + s21 + s23 + s25 + s27 + s34 + s36 + s38 + s40 - c9\n",
      "index_11: s13 + s16 + s18 + s21 + s23 + s25 + s27 + s34 + s36 + s38 + s40 - c10\n",
      "index_12: s18 - c11\n",
      "index_13: s21 + s36 + s40 - c12\n",
      "index_14: s5 + s11 + s12 + s13 + s14 + s16 + s17 + s18 + s20 + s21 + s49 - c13\n",
      "index_15: s13 + s32 + s34 + s39 + s40 - c14\n",
      "index_16: s11 + s13 + s15 + s19 + s27 + s33 - c15\n",
      "index_17: s16 + s17 + s18 + s19 + s22 + s23 - c16\n",
      "index_18: s18 + s21 + s24 + s25 - c17\n",
      "index_19: s0 + s6 + s7 + s10 + s12 + s13 + s14 + s15 + s16 + s17 + s18 + s19 + s21 + s22 + s23 + s32 + s33 + s35 + s36 + s37 + s38 + s39 + s41 + s44 + s45 + s47 + s51 - c18\n",
      "index_20: s27 + s34 + s35 + s36 + s40 - c19\n",
      "index_21: s5 + s9 + s11 + s18 + s21 + s45 + s49 - c20\n",
      "index_22: s2 + s5 + s9 + s13 + s14 + s16 + s18 + s21 + s23 + s25 + s26 + s27 + s32 + s34 + s36 + s37 + s38 + s39 + s40 + s49 - c21\n",
      "index_23: s13 + s32 + s34 + s35 - c22\n",
      "index_24: s6 + s10 + s12 + s13 + s14 + s15 + s16 + s17 + s18 + s19 + s20 + s21 + s22 + s23 + s24 + s26 + s27 + s32 + s33 + s35 + s36 + s37 + s38 + s39 + s41 + s44 + s45 + s47 + s51 - c23\n",
      "index_25: s7 + s10 + s12 + s13 + s14 + s15 + s16 + s17 + s18 + s20 + s21 + s22 + s23 + s24 + s26 + s32 + s33 + s35 + s36 + s37 + s38 + s39 + s41 + s45 + s47 - c24\n",
      "index_26: s2 + s13 + s16 + s18 + s21 + s23 + s25 + s27 + s34 + s36 + s38 + s40 - c25\n",
      "index_27: s2 + s43 + s45 + s46 + s50 - c26\n",
      "index_28: s13 + s16 + s18 + s21 + s23 + s25 + s27 + s34 + s36 + s38 + s40 - c27\n",
      "index_29: s11 + s18 + s19 + s21 + s34 + s40 + s42 - c28\n",
      "index_30: s11 + s21 + s25 + s34 + s36 + s38 + s40 + s45 + s47 - c29\n",
      "index_31: s18 + s21 + s38 - c30\n",
      "index_32: s13 + s16 + s18 + s23 + s36 + s38 - c31\n",
      "index_33: s2 + s11 + s13 + s15 + s19 + s27 + s33 + s42 + s52 - c32\n",
      "index_34: s10 + s12 + s13 + s14 + s16 + s17 + s18 + s20 + s21 + s22 + s23 + s24 + s26 + s32 + s35 + s36 + s37 + s39 + s45 - c33\n",
      "index_35: s18 + s19 + s21 + s38 + s45 - c34\n",
      "index_36: s23 + s25 + s36 + s38 + s40 - c35\n",
      "index_37: s0 + s7 + s11 + s13 + s15 + s18 + s19 + s21 + s23 + s27 + s33 + s38 + s42 + s45 + s47 + s52 - c36\n",
      "index_38: s11 + s18 + s19 + s21 + s42 + s45 - c37\n",
      "index_39: s7 + s23 + s45 + s47 - c38\n",
      "index_40: s11 + s13 + s15 + s19 + s27 + s33 - c39\n",
      "index_41: s18 + s23 + s25 + s40 - c40\n",
      "index_42: s19 + s21 + s23 + s25 + s34 + s36 + s38 + s40 + s42 + s45 + s52 - c41\n",
      "index_43: s13 + s16 + s18 + s21 + s23 + s25 + s27 + s34 + s36 + s38 + s40 + s47 - c42\n",
      "index_44: s23 + s25 + s36 + s38 + s40 - c43\n",
      "index_45: s18 + s21 + s23 + s25 + s34 + s36 + s38 + s40 - c44\n",
      "index_46: s18 + s21 + s23 + s25 + s36 + s38 + s40 - c45\n",
      "index_47: s18 + s23 + s25 + s36 + s40 - c46\n",
      "index_48: s1 + s2 + s5 + s6 + s7 + s9 + s10 + s11 + s12 + s13 + s14 + s15 + s16 + s17 + s18 + s19 + s20 + s21 + s22 + s23 + s24 + s25 + s26 + s27 + s28 + s30 + s31 + s32 + s33 + s34 + s35 + s36 + s37 + s38 + s39 + s40 + s41 + s42 + s43 + s44 + s45 + s46 + s49 + s50 + s51 + s52 + s53 - c47\n",
      "index_49: s7 + s11 + s13 + s15 + s16 + s18 + s21 + s23 + s25 + s27 + s33 + s34 + s36 + s38 + s40 + s42 + s45 + s52 - c48\n",
      "\n",
      "\n",
      "Binary\n",
      "c0\n",
      "c1\n",
      "c2\n",
      "c3\n",
      "c4\n",
      "c5\n",
      "c6\n",
      "c7\n",
      "c8\n",
      "c9\n",
      "c10\n",
      "c11\n",
      "c12\n",
      "c13\n",
      "c14\n",
      "c15\n",
      "c16\n",
      "c17\n",
      "c18\n",
      "c19\n",
      "c20\n",
      "c21\n",
      "c22\n",
      "c23\n",
      "c24\n",
      "c25\n",
      "c26\n",
      "c27\n",
      "c28\n",
      "c29\n",
      "c30\n",
      "c31\n",
      "c32\n",
      "c33\n",
      "c34\n",
      "c35\n",
      "c36\n",
      "c37\n",
      "c38\n",
      "c39\n",
      "c40\n",
      "c41\n",
      "c42\n",
      "c43\n",
      "c44\n",
      "c45\n",
      "c46\n",
      "c47\n",
      "c48\n",
      "c49\n",
      "\n"
     ]
    }
   ],
   "source": [
    "res = to_ilp_format(l, clabels, clusters_tf_values)\n",
    "print(res)"
   ]
  }
 ],
 "metadata": {
  "kernelspec": {
   "display_name": ".venv",
   "language": "python",
   "name": "python3"
  },
  "language_info": {
   "codemirror_mode": {
    "name": "ipython",
    "version": 3
   },
   "file_extension": ".py",
   "mimetype": "text/x-python",
   "name": "python",
   "nbconvert_exporter": "python",
   "pygments_lexer": "ipython3",
   "version": "3.11.3"
  },
  "orig_nbformat": 4
 },
 "nbformat": 4,
 "nbformat_minor": 2
}

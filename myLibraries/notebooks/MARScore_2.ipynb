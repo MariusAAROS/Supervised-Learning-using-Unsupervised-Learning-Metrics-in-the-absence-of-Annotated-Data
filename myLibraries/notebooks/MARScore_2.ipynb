{
 "cells": [
  {
   "attachments": {},
   "cell_type": "markdown",
   "metadata": {},
   "source": [
    "### Libraries"
   ]
  },
  {
   "cell_type": "code",
   "execution_count": null,
   "metadata": {},
   "outputs": [],
   "source": [
    "from transformers import BertTokenizer, BertModel\n",
    "import torch\n",
    "from umap import UMAP\n",
    "import plotly.express as px\n",
    "import plotly.graph_objects as go\n",
    "from matplotlib import pyplot as plt\n",
    "import numpy as np\n",
    "import pandas as pd"
   ]
  },
  {
   "attachments": {},
   "cell_type": "markdown",
   "metadata": {},
   "source": [
    "### Corpus embedding"
   ]
  },
  {
   "cell_type": "code",
   "execution_count": null,
   "metadata": {},
   "outputs": [],
   "source": [
    "def tokenizeCorpus(corpus, model=BertModel.from_pretrained('bert-base-uncased', \n",
    "                                                           output_hidden_states=True), \n",
    "                           tokenizer = BertTokenizer.from_pretrained('bert-base-uncased'), \n",
    "                           model_input_size=512):\n",
    "    def flatten(l):\n",
    "        return [item for sublist in l for item in sublist]\n",
    "    input_size = model_input_size - 1\n",
    "    corpusWords = corpus.split(\" \")\n",
    "    splited = [\" \".join(corpusWords[i:i+input_size]) for i in range(0, len(corpusWords), input_size)]\n",
    "\n",
    "    input_ids = []\n",
    "    attention_masks = []\n",
    "    for sentence in splited:\n",
    "        encoded = tokenizer.encode_plus(sentence, \n",
    "                                        add_special_tokens=True,\n",
    "                                        max_length=input_size+1,\n",
    "                                        padding=\"max_length\",\n",
    "                                        return_attention_mask=True,\n",
    "                                        return_tensors='pt',\n",
    "                                        truncation=True)\n",
    "        input_ids.append(encoded[\"input_ids\"])\n",
    "        attention_masks.append(encoded[\"attention_mask\"])\n",
    "\n",
    "    #inputs_ids = torch.Tensor(len(input_ids),1, max_len+1)\n",
    "    #torch.cat(input_ids, out=inputs_ids)\n",
    "    inputs_ids = torch.cat(input_ids, dim=0)\n",
    "    attention_masks = torch.cat(attention_masks, dim=0)\n",
    "    \n",
    "    temp = flatten([batch.tolist() for batch in input_ids])\n",
    "    labels = np.array(temp)\n",
    "    labels = labels.reshape((labels.shape[0]*labels.shape[1]))\n",
    "    labels = tokenizer.convert_ids_to_tokens(labels)\n",
    "    with torch.no_grad():\n",
    "        output = model(inputs_ids, attention_mask=attention_masks)\n",
    "    return output, labels\n",
    "\n",
    "def vectorizeCorpus(model_output, allStates=True):\n",
    "    if allStates==True:\n",
    "        hidden_states = model_output.hidden_states\n",
    "    else:\n",
    "        hidden_states = [model_output.last_hidden_state]\n",
    "    token_embeddings = torch.stack(hidden_states, dim=0)\n",
    "    token_embeddings = token_embeddings.permute(1,2,0,3)\n",
    "    embs = []\n",
    "    for batch in token_embeddings:\n",
    "        for token in batch:\n",
    "            emb = torch.cat((token[-1], token[-2], token[-3], token[-4]), dim=0)\n",
    "            embs.append(emb)\n",
    "    return embs\n",
    "\n",
    "def visualizeCorpus(embs, labels, embs_gold=None, labels_gold=None, dim=2):\n",
    "    comp_gold = True if embs_gold != None and labels_gold != None else False\n",
    "\n",
    "    formated_embs = [token.tolist() for token in embs]\n",
    "    formated_embs = np.array(formated_embs)\n",
    "    formated_embs_gold = [token.tolist() for token in embs_gold]\n",
    "    formated_embs_gold = np.array(formated_embs_gold)\n",
    "    token_indexes = [i for i in range(len(labels)) if labels[i] != \"[PAD]\" and labels[i] != \"[CLS]\" and labels[i] != \"[SEP]\" and len(labels[i])>2]\n",
    "\n",
    "    if dim == 1:\n",
    "        umap1D = UMAP(n_components=1, init='random', random_state=0)\n",
    "        proj1D = umap1D.fit_transform(formated_embs).T\n",
    "\n",
    "        data = {\"x\": proj1D[0],\n",
    "                \"labels\": labels}\n",
    "        \n",
    "        for k in data.keys():\n",
    "            data[k] = [data[k][i] for i in range(len(data[k])) if i in token_indexes]\n",
    "\n",
    "        if comp_gold:\n",
    "            token_indexes_gold = [i for i in range(len(labels_gold)) if labels_gold[i] != \"[PAD]\" and labels_gold[i] != \"[CLS]\" and labels_gold[i] != \"[SEP]\" and len(labels_gold[i])>2]\n",
    "            proj1D_gold = umap1D.fit_transform(formated_embs_gold).T\n",
    "            data_gold = {\"x\": proj1D_gold[0],\n",
    "                        \"labels\": labels_gold}\n",
    "            for k in data_gold.keys():\n",
    "                data_gold[k] = [data_gold[k][i] for i in range(len(data_gold[k])) if i in token_indexes_gold]\n",
    "\n",
    "        traces = []\n",
    "        for i in range(len(data['x'])):\n",
    "            if comp_gold:\n",
    "                color = 'green' if data[\"labels\"][i] in data_gold[\"labels\"] else 'red'\n",
    "            else:\n",
    "                color = 'red'\n",
    "            trace = go.Scatter(\n",
    "                x=[data['x'][i]],\n",
    "                mode='markers',\n",
    "                marker=dict(size=6, color=color),\n",
    "                text=[data['labels'][i]],\n",
    "                name=data['labels'][i]\n",
    "            )\n",
    "            traces.append(trace)\n",
    "        if comp_gold:\n",
    "            for i in range(len(data_gold['x'])):\n",
    "                trace = go.Scatter(\n",
    "                    x=[data_gold['x'][i]],\n",
    "                    mode='markers',\n",
    "                    marker=dict(size=6, color='gold'),\n",
    "                    text=[data_gold['labels'][i]],\n",
    "                    name=data_gold['labels'][i]\n",
    "                )\n",
    "                traces.append(trace)\n",
    "\n",
    "        layout = go.Layout(\n",
    "            title='1D Scatter Plot',\n",
    "            scene=dict(\n",
    "                xaxis=dict(title='X')\n",
    "            )\n",
    "        )\n",
    "        fig = go.Figure(data=traces, layout=layout)\n",
    "        fig.show()\n",
    "\n",
    "    elif dim == 2:\n",
    "        umap2D = UMAP(n_components=2, init='random', random_state=0)\n",
    "        proj2D = umap2D.fit_transform(formated_embs).T\n",
    "\n",
    "        data = {\"x\": proj2D[0],\n",
    "                \"y\": proj2D[1],\n",
    "                \"labels\": labels}\n",
    "        \n",
    "        for k in data.keys():\n",
    "            data[k] = [data[k][i] for i in range(len(data[k])) if i in token_indexes]\n",
    "\n",
    "        if comp_gold:\n",
    "            token_indexes_gold = [i for i in range(len(labels_gold)) if labels_gold[i] != \"[PAD]\" and labels_gold[i] != \"[CLS]\" and labels_gold[i] != \"[SEP]\" and len(labels_gold[i])>2]\n",
    "            proj2D_gold = umap2D.fit_transform(formated_embs_gold).T\n",
    "            data_gold = {\"x\": proj2D_gold[0],\n",
    "                        \"y\": proj2D_gold[1],\n",
    "                        \"labels\": labels_gold}\n",
    "            for k in data_gold.keys():\n",
    "                data_gold[k] = [data_gold[k][i] for i in range(len(data_gold[k])) if i in token_indexes_gold]\n",
    "\n",
    "        traces = []\n",
    "        for i in range(len(data['x'])):\n",
    "            if comp_gold:\n",
    "                color = 'green' if data[\"labels\"][i] in data_gold[\"labels\"] else 'red'\n",
    "            else:\n",
    "                color = 'red'\n",
    "            trace = go.Scatter(\n",
    "                x=[data['x'][i]],\n",
    "                y=[data['y'][i]],\n",
    "                mode='markers',\n",
    "                marker=dict(size=6, color=color),\n",
    "                text=[data['labels'][i]],\n",
    "                name=data['labels'][i]\n",
    "            )\n",
    "            traces.append(trace)\n",
    "        if comp_gold:\n",
    "            for i in range(len(data_gold['x'])):\n",
    "                trace = go.Scatter(\n",
    "                    x=[data_gold['x'][i]],\n",
    "                    y=[data_gold['y'][i]],\n",
    "                    mode='markers',\n",
    "                    marker=dict(size=6, color='gold'),\n",
    "                    text=[data_gold['labels'][i]],\n",
    "                    name=data_gold['labels'][i]\n",
    "                )\n",
    "                traces.append(trace)\n",
    "\n",
    "        layout = go.Layout(\n",
    "            title='2D Scatter Plot',\n",
    "            scene=dict(\n",
    "                xaxis=dict(title='X'),\n",
    "                yaxis=dict(title='Y')\n",
    "            )\n",
    "        )\n",
    "        fig = go.Figure(data=traces, layout=layout)\n",
    "        fig.show()"
   ]
  },
  {
   "cell_type": "code",
   "execution_count": null,
   "metadata": {},
   "outputs": [],
   "source": [
    "model = BertModel.from_pretrained('bert-base-uncased',\n",
    "                                  output_hidden_states=True)\n",
    "tokenizer = BertTokenizer.from_pretrained('bert-base-uncased')"
   ]
  },
  {
   "cell_type": "code",
   "execution_count": null,
   "metadata": {},
   "outputs": [],
   "source": [
    "dataset_url=\"https://drive.google.com/file/d/1Wd0M3qepNF6B4YwFYrpo7CaSERpudAG_/view?usp=share_link\"\n",
    "dataset_url='https://drive.google.com/uc?export=download&id=' + dataset_url.split('/')[-2]\n",
    "dataset = pd.read_json(dataset_url, lines=True)\n",
    "dataset = dataset.loc[:, [\"text\", \"summary\"]]\n",
    "\n",
    "elem0 = dataset.iloc[0, 0]\n",
    "print(elem0)"
   ]
  },
  {
   "cell_type": "code",
   "execution_count": null,
   "metadata": {},
   "outputs": [],
   "source": [
    "gold0 = dataset.iloc[0, 1]\n",
    "print(gold0)"
   ]
  },
  {
   "cell_type": "code",
   "execution_count": null,
   "metadata": {},
   "outputs": [],
   "source": [
    "o, l = tokenizeCorpus(elem0)\n",
    "ogold, lgold = tokenizeCorpus(gold0)\n",
    "v = vectorizeCorpus(o)\n",
    "vgold = vectorizeCorpus(ogold)\n",
    "visualizeCorpus(v, l, vgold, lgold, dim=1)"
   ]
  },
  {
   "attachments": {},
   "cell_type": "markdown",
   "metadata": {},
   "source": [
    "### Clustering with HDBScan"
   ]
  },
  {
   "cell_type": "code",
   "execution_count": 1,
   "metadata": {},
   "outputs": [],
   "source": [
    "import sys\n",
    "sys.path.append(r\"D:\\COURS\\A4\\S8 - ESILV\\Stage\\Work\\Supervised-Learning-using-Unsupervised-Learning-Metrics-in-the-absence-of-Annotated-Data\\myLibraries\")"
   ]
  },
  {
   "cell_type": "code",
   "execution_count": 2,
   "metadata": {},
   "outputs": [
    {
     "name": "stderr",
     "output_type": "stream",
     "text": [
      "d:\\COURS\\A4\\S8 - ESILV\\Stage\\Work\\Supervised-Learning-using-Unsupervised-Learning-Metrics-in-the-absence-of-Annotated-Data\\.venv\\Lib\\site-packages\\tqdm\\auto.py:21: TqdmWarning: IProgress not found. Please update jupyter and ipywidgets. See https://ipywidgets.readthedocs.io/en/stable/user_install.html\n",
      "  from .autonotebook import tqdm as notebook_tqdm\n",
      "d:\\COURS\\A4\\S8 - ESILV\\Stage\\Work\\Supervised-Learning-using-Unsupervised-Learning-Metrics-in-the-absence-of-Annotated-Data\\.venv\\Lib\\site-packages\\umap\\distances.py:1063: NumbaDeprecationWarning: \u001b[1mThe 'nopython' keyword argument was not supplied to the 'numba.jit' decorator. The implicit default value for this argument is currently False, but it will be changed to True in Numba 0.59.0. See https://numba.readthedocs.io/en/stable/reference/deprecation.html#deprecation-of-object-mode-fall-back-behaviour-when-using-jit for details.\u001b[0m\n",
      "  @numba.jit()\n",
      "d:\\COURS\\A4\\S8 - ESILV\\Stage\\Work\\Supervised-Learning-using-Unsupervised-Learning-Metrics-in-the-absence-of-Annotated-Data\\.venv\\Lib\\site-packages\\umap\\distances.py:1071: NumbaDeprecationWarning: \u001b[1mThe 'nopython' keyword argument was not supplied to the 'numba.jit' decorator. The implicit default value for this argument is currently False, but it will be changed to True in Numba 0.59.0. See https://numba.readthedocs.io/en/stable/reference/deprecation.html#deprecation-of-object-mode-fall-back-behaviour-when-using-jit for details.\u001b[0m\n",
      "  @numba.jit()\n",
      "d:\\COURS\\A4\\S8 - ESILV\\Stage\\Work\\Supervised-Learning-using-Unsupervised-Learning-Metrics-in-the-absence-of-Annotated-Data\\.venv\\Lib\\site-packages\\umap\\distances.py:1086: NumbaDeprecationWarning: \u001b[1mThe 'nopython' keyword argument was not supplied to the 'numba.jit' decorator. The implicit default value for this argument is currently False, but it will be changed to True in Numba 0.59.0. See https://numba.readthedocs.io/en/stable/reference/deprecation.html#deprecation-of-object-mode-fall-back-behaviour-when-using-jit for details.\u001b[0m\n",
      "  @numba.jit()\n",
      "d:\\COURS\\A4\\S8 - ESILV\\Stage\\Work\\Supervised-Learning-using-Unsupervised-Learning-Metrics-in-the-absence-of-Annotated-Data\\.venv\\Lib\\site-packages\\umap\\umap_.py:660: NumbaDeprecationWarning: \u001b[1mThe 'nopython' keyword argument was not supplied to the 'numba.jit' decorator. The implicit default value for this argument is currently False, but it will be changed to True in Numba 0.59.0. See https://numba.readthedocs.io/en/stable/reference/deprecation.html#deprecation-of-object-mode-fall-back-behaviour-when-using-jit for details.\u001b[0m\n",
      "  @numba.jit()\n",
      "Some weights of the model checkpoint at bert-base-uncased were not used when initializing BertModel: ['cls.seq_relationship.weight', 'cls.predictions.transform.dense.weight', 'cls.seq_relationship.bias', 'cls.predictions.transform.LayerNorm.bias', 'cls.predictions.transform.LayerNorm.weight', 'cls.predictions.bias', 'cls.predictions.decoder.weight', 'cls.predictions.transform.dense.bias']\n",
      "- This IS expected if you are initializing BertModel from the checkpoint of a model trained on another task or with another architecture (e.g. initializing a BertForSequenceClassification model from a BertForPreTraining model).\n",
      "- This IS NOT expected if you are initializing BertModel from the checkpoint of a model that you expect to be exactly identical (initializing a BertForSequenceClassification model from a BertForSequenceClassification model).\n"
     ]
    }
   ],
   "source": [
    "import hdbscan\n",
    "from MARScore.utils import *\n",
    "import pandas as pd\n",
    "from matplotlib import cm"
   ]
  },
  {
   "cell_type": "code",
   "execution_count": 13,
   "metadata": {},
   "outputs": [],
   "source": [
    "dataset_url=\"https://drive.google.com/file/d/1Wd0M3qepNF6B4YwFYrpo7CaSERpudAG_/view?usp=share_link\"\n",
    "dataset_url='https://drive.google.com/uc?export=download&id=' + dataset_url.split('/')[-2]\n",
    "dataset = pd.read_json(dataset_url, lines=True)\n",
    "dataset = dataset.loc[:, [\"text\", \"summary\"]]"
   ]
  },
  {
   "cell_type": "code",
   "execution_count": 14,
   "metadata": {},
   "outputs": [],
   "source": [
    "elem0 = dataset.iloc[0, 0]\n",
    "gold0 = dataset.iloc[0, 1]"
   ]
  },
  {
   "cell_type": "code",
   "execution_count": 21,
   "metadata": {},
   "outputs": [],
   "source": [
    "o, l = tokenizeCorpus(elem0)\n",
    "ogold, lgold = tokenizeCorpus(gold0)\n",
    "v = vectorizeCorpus(o)\n",
    "vgold = vectorizeCorpus(ogold)"
   ]
  },
  {
   "cell_type": "code",
   "execution_count": 22,
   "metadata": {},
   "outputs": [],
   "source": [
    "v = cleanVectors(v, l)\n",
    "vgold = cleanVectors(vgold, lgold)"
   ]
  },
  {
   "cell_type": "code",
   "execution_count": 23,
   "metadata": {},
   "outputs": [
    {
     "data": {
      "text/plain": [
       "(839, 3072)"
      ]
     },
     "execution_count": 23,
     "metadata": {},
     "output_type": "execute_result"
    }
   ],
   "source": [
    "np.array(v).shape"
   ]
  },
  {
   "cell_type": "code",
   "execution_count": 24,
   "metadata": {},
   "outputs": [],
   "source": [
    "clusterer = hdbscan.HDBSCAN()\n",
    "clusterer.fit(v)\n",
    "clabels = clusterer.labels_"
   ]
  },
  {
   "cell_type": "code",
   "execution_count": 25,
   "metadata": {},
   "outputs": [
    {
     "data": {
      "text/plain": [
       "839"
      ]
     },
     "execution_count": 25,
     "metadata": {},
     "output_type": "execute_result"
    }
   ],
   "source": [
    "len(clabels)"
   ]
  },
  {
   "cell_type": "code",
   "execution_count": 26,
   "metadata": {},
   "outputs": [
    {
     "name": "stderr",
     "output_type": "stream",
     "text": [
      "C:\\Users\\orteg\\AppData\\Local\\Temp\\ipykernel_19580\\2292762520.py:1: MatplotlibDeprecationWarning:\n",
      "\n",
      "The get_cmap function was deprecated in Matplotlib 3.7 and will be removed two minor releases later. Use ``matplotlib.colormaps[name]`` or ``matplotlib.colormaps.get_cmap(obj)`` instead.\n",
      "\n"
     ]
    },
    {
     "data": {
      "image/png": "[encoded data removed]",
      "text/html": [
       "<div style=\"vertical-align: middle;\"><strong>viridis</strong> </div><div class=\"cmap\"><img alt=\"viridis colormap\" title=\"viridis\" style=\"border: 1px solid #555;\" src=\"data:image/png;base64,iVBORw0KGgoAAAANSUhEUgAAAgAAAABACAYAAABsv8+/AAAAFnRFWHRUaXRsZQB2aXJpZGlzIGNvbG9ybWFwrE0mCwAAABx0RVh0RGVzY3JpcHRpb24AdmlyaWRpcyBjb2xvcm1hcAtjl3IAAAAwdEVYdEF1dGhvcgBNYXRwbG90bGliIHYzLjcuMSwgaHR0cHM6Ly9tYXRwbG90bGliLm9yZyqv+E0AAAAydEVYdFNvZnR3YXJlAE1hdHBsb3RsaWIgdjMuNy4xLCBodHRwczovL21hdHBsb3RsaWIub3JnBAlnagAAAcxJREFUeJzt1klOw1AURNFvx7GxEUJJtsQS2P8qaEQThwEr+I8RqnPmpWfJae7wNDzfWsG4bZVZG7a1tltru9u6FHdz92Zfj6Vb17upuDuUdt/rWLu3DP23CpvfW6VZ6Rn/cm/v/5jUby2lr2q7Fnf7spd2ba7txuXavZnm/k1rrS3LV2m3zbXd/fxZ2j0cP7o3p+WtdOvx+F7anabavfP0Wty9dG8uh/5Na62di7vL2P/eWmvtPNZ+m0+H2v9x7RoA8K8JAAAIJAAAIJAAAIBAAgAAAgkAAAgkAAAgkAAAgEACAAACCQAACCQAACCQAACAQAIAAAIJAAAIJAAAIJAAAIBAAgAAAgkAAAgkAAAgkAAAgEACAAACCQAACCQAACCQAACAQAIAAAIJAAAIJAAAIJAAAIBAAgAAAgkAAAgkAAAgkAAAgEACAAACCQAACCQAACCQAACAQAIAAAIJAAAIJAAAIJAAAIBAAgAAAgkAAAgkAAAgkAAAgEACAAACCQAACCQAACCQAACAQAIAAAIJAAAIJAAAIJAAAIBAAgAAAgkAAAgkAAAgkAAAgEACAAACCQAACCQAACCQAACAQAIAAAIJAAAIJAAAINAPYbElh5uhylsAAAAASUVORK5CYII=\"></div><div style=\"vertical-align: middle; max-width: 514px; display: flex; justify-content: space-between;\"><div style=\"float: left;\"><div title=\"#440154ff\" style=\"display: inline-block; width: 1em; height: 1em; margin: 0; vertical-align: middle; border: 1px solid #555; background-color: #440154ff;\"></div> under</div><div style=\"margin: 0 auto; display: inline-block;\">bad <div title=\"#00000000\" style=\"display: inline-block; width: 1em; height: 1em; margin: 0; vertical-align: middle; border: 1px solid #555; background-color: #00000000;\"></div></div><div style=\"float: right;\">over <div title=\"#fde725ff\" style=\"display: inline-block; width: 1em; height: 1em; margin: 0; vertical-align: middle; border: 1px solid #555; background-color: #fde725ff;\"></div></div>"
      ],
      "text/plain": [
       "<matplotlib.colors.ListedColormap at 0x2209c9e3810>"
      ]
     },
     "execution_count": 26,
     "metadata": {},
     "output_type": "execute_result"
    }
   ],
   "source": [
    "\n",
    "cmap = cm.get_cmap('viridis', len(set(clabels)))\n",
    "cmap"
   ]
  },
  {
   "cell_type": "code",
   "execution_count": 27,
   "metadata": {},
   "outputs": [
    {
     "data": {
      "text/plain": [
       "37"
      ]
     },
     "execution_count": 27,
     "metadata": {},
     "output_type": "execute_result"
    }
   ],
   "source": [
    "len(cmap.colors)"
   ]
  },
  {
   "cell_type": "code",
   "execution_count": 28,
   "metadata": {},
   "outputs": [
    {
     "data": {
      "application/vnd.plotly.v1+json": {
       "config": {
        "plotlyServerURL": "https://plot.ly"
       },
       "data": [
        {
         "line": {
          "color": "DarkSlateGrey",
          "width": 2
         },
         "marker": {
          "color": [
           0.993248,
           0.906157,
           0.143936,
           1
          ],
          "size": 9
         },
         "mode": "markers",
         "name": "section",
         "text": [
          "section"
         ],
         "type": "scatter",
         "x": [
          7.246506214141846
         ],
         "y": [
          7.248709201812744
         ]
        },
        {
         "line": {
          "color": "DarkSlateGrey",
          "width": 2
         },
         "marker": {
          "color": [
           0.304148,
           0.764704,
           0.419943,
           1
          ],
          "size": 9
         },
         "mode": "markers",
         "name": "short",
         "text": [
          "short"
         ],
         "type": "scatter",
         "x": [
          7.120741367340088
         ],
         "y": [
          8.545782089233398
         ]
        },
        {
         "line": {
          "color": "DarkSlateGrey",
          "width": 2
         },
         "marker": {
          "color": [
           0.993248,
           0.906157,
           0.143936,
           1
          ],
          "size": 9
         },
         "mode": "markers",
         "name": "title",
         "text": [
          "title"
         ],
         "type": "scatter",
         "x": [
          4.881601333618164
         ],
         "y": [
          5.5537848472595215
         ]
        },
        {
         "line": {
          "color": "DarkSlateGrey",
          "width": 2
         },
         "marker": {
          "color": [
           0.993248,
           0.906157,
           0.143936,
           1
          ],
          "size": 9
         },
         "mode": "markers",
         "name": "this",
         "text": [
          "this"
         ],
         "type": "scatter",
         "x": [
          6.7412543296813965
         ],
         "y": [
          6.3172430992126465
         ]
        },
        {
         "line": {
          "color": "DarkSlateGrey",
          "width": 2
         },
         "marker": {
          "color": [
           0.993248,
           0.906157,
           0.143936,
           1
          ],
          "size": 9
         },
         "mode": "markers",
         "name": "act",
         "text": [
          "act"
         ],
         "type": "scatter",
         "x": [
          6.570759296417236
         ],
         "y": [
          7.303696155548096
         ]
        },
        {
         "line": {
          "color": "DarkSlateGrey",
          "width": 2
         },
         "marker": {
          "color": [
           0.993248,
           0.906157,
           0.143936,
           1
          ],
          "size": 9
         },
         "mode": "markers",
         "name": "may",
         "text": [
          "may"
         ],
         "type": "scatter",
         "x": [
          15.629524230957031
         ],
         "y": [
          11.774659156799316
         ]
        },
        {
         "line": {
          "color": "DarkSlateGrey",
          "width": 2
         },
         "marker": {
          "color": [
           0.993248,
           0.906157,
           0.143936,
           1
          ],
          "size": 9
         },
         "mode": "markers",
         "name": "cited",
         "text": [
          "cited"
         ],
         "type": "scatter",
         "x": [
          4.575069904327393
         ],
         "y": [
          8.054632186889648
         ]
        },
        {
         "line": {
          "color": "DarkSlateGrey",
          "width": 2
         },
         "marker": {
          "color": [
           0.993248,
           0.906157,
           0.143936,
           1
          ],
          "size": 9
         },
         "mode": "markers",
         "name": "the",
         "text": [
          "the"
         ],
         "type": "scatter",
         "x": [
          2.9119250774383545
         ],
         "y": [
          5.494048595428467
         ]
        },
        {
         "line": {
          "color": "DarkSlateGrey",
          "width": 2
         },
         "marker": {
          "color": [
           0.993248,
           0.906157,
           0.143936,
           1
          ],
          "size": 9
         },
         "mode": "markers",
         "name": "national",
         "text": [
          "national"
         ],
         "type": "scatter",
         "x": [
          6.563634395599365
         ],
         "y": [
          6.8279218673706055
         ]
        },
        {
         "line": {
          "color": "DarkSlateGrey",
          "width": 2
         },
         "marker": {
          "color": [
           0.993248,
           0.906157,
           0.143936,
           1
          ],
          "size": 9
         },
         "mode": "markers",
         "name": "science",
         "text": [
          "science"
         ],
         "type": "scatter",
         "x": [
          8.069215774536133
         ],
         "y": [
          8.716017723083496
         ]
        },
        {
         "line": {
          "color": "DarkSlateGrey",
          "width": 2
         },
         "marker": {
          "color": [
           0.993248,
           0.906157,
           0.143936,
           1
          ],
          "size": 9
         },
         "mode": "markers",
         "name": "education",
         "text": [
          "education"
         ],
         "type": "scatter",
         "x": [
          4.2761921882629395
         ],
         "y": [
          7.315871238708496
         ]
        },
        {
         "line": {
          "color": "DarkSlateGrey",
          "width": 2
         },
         "marker": {
          "color": [
           0.168126,
           0.459988,
           0.558082,
           1
          ],
          "size": 9
         },
         "mode": "markers",
         "name": "tax",
         "text": [
          "tax"
         ],
         "type": "scatter",
         "x": [
          2.849388599395752
         ],
         "y": [
          5.3036017417907715
         ]
        },
        {
         "line": {
          "color": "DarkSlateGrey",
          "width": 2
         },
         "marker": {
          "color": [
           0.993248,
           0.906157,
           0.143936,
           1
          ],
          "size": 9
         },
         "mode": "markers",
         "name": "incentive",
         "text": [
          "incentive"
         ],
         "type": "scatter",
         "x": [
          3.7515878677368164
         ],
         "y": [
          2.8923683166503906
         ]
        },
        {
         "line": {
          "color": "DarkSlateGrey",
          "width": 2
         },
         "marker": {
          "color": [
           0.119699,
           0.61849,
           0.536347,
           1
          ],
          "size": 9
         },
         "mode": "markers",
         "name": "for",
         "text": [
          "for"
         ],
         "type": "scatter",
         "x": [
          -0.915739893913269
         ],
         "y": [
          5.665757656097412
         ]
        },
        {
         "line": {
          "color": "DarkSlateGrey",
          "width": 2
         },
         "marker": {
          "color": [
           0.993248,
           0.906157,
           0.143936,
           1
          ],
          "size": 9
         },
         "mode": "markers",
         "name": "businesses",
         "text": [
          "businesses"
         ],
         "type": "scatter",
         "x": [
          2.5043275356292725
         ],
         "y": [
          6.947422027587891
         ]
        },
        {
         "line": {
          "color": "DarkSlateGrey",
          "width": 2
         },
         "marker": {
          "color": [
           0.993248,
           0.906157,
           0.143936,
           1
          ],
          "size": 9
         },
         "mode": "markers",
         "name": "act",
         "text": [
          "act"
         ],
         "type": "scatter",
         "x": [
          2.548650026321411
         ],
         "y": [
          6.734842300415039
         ]
        },
        {
         "line": {
          "color": "DarkSlateGrey",
          "width": 2
         },
         "marker": {
          "color": [
           0.179019,
           0.433756,
           0.55743,
           1
          ],
          "size": 9
         },
         "mode": "markers",
         "name": "2007",
         "text": [
          "2007"
         ],
         "type": "scatter",
         "x": [
          20.608856201171875
         ],
         "y": [
          7.698453426361084
         ]
        },
        {
         "line": {
          "color": "DarkSlateGrey",
          "width": 2
         },
         "marker": {
          "color": [
           0.496615,
           0.826376,
           0.306377,
           1
          ],
          "size": 9
         },
         "mode": "markers",
         "name": "sec",
         "text": [
          "sec"
         ],
         "type": "scatter",
         "x": [
          0.2667187452316284
         ],
         "y": [
          9.037259101867676
         ]
        },
        {
         "line": {
          "color": "DarkSlateGrey",
          "width": 2
         },
         "marker": {
          "color": [
           0.430983,
           0.808473,
           0.346476,
           1
          ],
          "size": 9
         },
         "mode": "markers",
         "name": "credits",
         "text": [
          "credits"
         ],
         "type": "scatter",
         "x": [
          -2.1512951850891113
         ],
         "y": [
          9.658196449279785
         ]
        },
        {
         "line": {
          "color": "DarkSlateGrey",
          "width": 2
         },
         "marker": {
          "color": [
           0.496615,
           0.826376,
           0.306377,
           1
          ],
          "size": 9
         },
         "mode": "markers",
         "name": "for",
         "text": [
          "for"
         ],
         "type": "scatter",
         "x": [
          -0.3036603331565857
         ],
         "y": [
          9.634849548339844
         ]
        },
        {
         "line": {
          "color": "DarkSlateGrey",
          "width": 2
         },
         "marker": {
          "color": [
           0.993248,
           0.906157,
           0.143936,
           1
          ],
          "size": 9
         },
         "mode": "markers",
         "name": "certain",
         "text": [
          "certain"
         ],
         "type": "scatter",
         "x": [
          -0.4076320230960846
         ],
         "y": [
          8.888010025024414
         ]
        },
        {
         "line": {
          "color": "DarkSlateGrey",
          "width": 2
         },
         "marker": {
          "color": [
           0.993248,
           0.906157,
           0.143936,
           1
          ],
          "size": 9
         },
         "mode": "markers",
         "name": "contributions",
         "text": [
          "contributions"
         ],
         "type": "scatter",
         "x": [
          6.453965187072754
         ],
         "y": [
          6.426998615264893
         ]
        },
        {
         "line": {
          "color": "DarkSlateGrey",
          "width": 2
         },
         "marker": {
          "color": [
           0.993248,
           0.906157,
           0.143936,
           1
          ],
          "size": 9
         },
         "mode": "markers",
         "name": "benefit",
         "text": [
          "benefit"
         ],
         "type": "scatter",
         "x": [
          7.448268890380859
         ],
         "y": [
          7.764250755310059
         ]
        },
        {
         "line": {
          "color": "DarkSlateGrey",
          "width": 2
         },
         "marker": {
          "color": [
           0.993248,
           0.906157,
           0.143936,
           1
          ],
          "size": 9
         },
         "mode": "markers",
         "name": "##ing",
         "text": [
          "##ing"
         ],
         "type": "scatter",
         "x": [
          7.325808525085449
         ],
         "y": [
          7.69436502456665
         ]
        },
        {
         "line": {
          "color": "DarkSlateGrey",
          "width": 2
         },
         "marker": {
          "color": [
           0.993248,
           0.906157,
           0.143936,
           1
          ],
          "size": 9
         },
         "mode": "markers",
         "name": "science",
         "text": [
          "science"
         ],
         "type": "scatter",
         "x": [
          7.679445266723633
         ],
         "y": [
          7.917700290679932
         ]
        },
        {
         "line": {
          "color": "DarkSlateGrey",
          "width": 2
         },
         "marker": {
          "color": [
           0.252899,
           0.742211,
           0.448284,
           1
          ],
          "size": 9
         },
         "mode": "markers",
         "name": "technology",
         "text": [
          "technology"
         ],
         "type": "scatter",
         "x": [
          7.451661586761475
         ],
         "y": [
          7.838455677032471
         ]
        },
        {
         "line": {
          "color": "DarkSlateGrey",
          "width": 2
         },
         "marker": {
          "color": [
           0.993248,
           0.906157,
           0.143936,
           1
          ],
          "size": 9
         },
         "mode": "markers",
         "name": "engineering",
         "text": [
          "engineering"
         ],
         "type": "scatter",
         "x": [
          7.235472679138184
         ],
         "y": [
          7.937511444091797
         ]
        },
        {
         "line": {
          "color": "DarkSlateGrey",
          "width": 2
         },
         "marker": {
          "color": [
           0.252899,
           0.742211,
           0.448284,
           1
          ],
          "size": 9
         },
         "mode": "markers",
         "name": "and",
         "text": [
          "and"
         ],
         "type": "scatter",
         "x": [
          7.732778549194336
         ],
         "y": [
          8.278742790222168
         ]
        },
        {
         "line": {
          "color": "DarkSlateGrey",
          "width": 2
         },
         "marker": {
          "color": [
           0.993248,
           0.906157,
           0.143936,
           1
          ],
          "size": 9
         },
         "mode": "markers",
         "name": "mathematics",
         "text": [
          "mathematics"
         ],
         "type": "scatter",
         "x": [
          6.914091110229492
         ],
         "y": [
          7.0085978507995605
         ]
        },
        {
         "line": {
          "color": "DarkSlateGrey",
          "width": 2
         },
         "marker": {
          "color": [
           0.993248,
           0.906157,
           0.143936,
           1
          ],
          "size": 9
         },
         "mode": "markers",
         "name": "education",
         "text": [
          "education"
         ],
         "type": "scatter",
         "x": [
          6.746071815490723
         ],
         "y": [
          7.650862216949463
         ]
        },
        {
         "line": {
          "color": "DarkSlateGrey",
          "width": 2
         },
         "marker": {
          "color": [
           0.993248,
           0.906157,
           0.143936,
           1
          ],
          "size": 9
         },
         "mode": "markers",
         "name": "the",
         "text": [
          "the"
         ],
         "type": "scatter",
         "x": [
          7.05214262008667
         ],
         "y": [
          8.460301399230957
         ]
        },
        {
         "line": {
          "color": "DarkSlateGrey",
          "width": 2
         },
         "marker": {
          "color": [
           0.993248,
           0.906157,
           0.143936,
           1
          ],
          "size": 9
         },
         "mode": "markers",
         "name": "elementary",
         "text": [
          "elementary"
         ],
         "type": "scatter",
         "x": [
          6.6043381690979
         ],
         "y": [
          6.8368449211120605
         ]
        },
        {
         "line": {
          "color": "DarkSlateGrey",
          "width": 2
         },
         "marker": {
          "color": [
           0.993248,
           0.906157,
           0.143936,
           1
          ],
          "size": 9
         },
         "mode": "markers",
         "name": "and",
         "text": [
          "and"
         ],
         "type": "scatter",
         "x": [
          3.7519850730895996
         ],
         "y": [
          4.6207594871521
         ]
        },
        {
         "line": {
          "color": "DarkSlateGrey",
          "width": 2
         },
         "marker": {
          "color": [
           0.993248,
           0.906157,
           0.143936,
           1
          ],
          "size": 9
         },
         "mode": "markers",
         "name": "secondary",
         "text": [
          "secondary"
         ],
         "type": "scatter",
         "x": [
          1.5879915952682495
         ],
         "y": [
          6.551591396331787
         ]
        },
        {
         "line": {
          "color": "DarkSlateGrey",
          "width": 2
         },
         "marker": {
          "color": [
           0.993248,
           0.906157,
           0.143936,
           1
          ],
          "size": 9
         },
         "mode": "markers",
         "name": "school",
         "text": [
          "school"
         ],
         "type": "scatter",
         "x": [
          3.812134027481079
         ],
         "y": [
          4.750232696533203
         ]
        },
        {
         "line": {
          "color": "DarkSlateGrey",
          "width": 2
         },
         "marker": {
          "color": [
           0.993248,
           0.906157,
           0.143936,
           1
          ],
          "size": 9
         },
         "mode": "markers",
         "name": "level",
         "text": [
          "level"
         ],
         "type": "scatter",
         "x": [
          4.281612396240234
         ],
         "y": [
          7.363274097442627
         ]
        },
        {
         "line": {
          "color": "DarkSlateGrey",
          "width": 2
         },
         "marker": {
          "color": [
           0.993248,
           0.906157,
           0.143936,
           1
          ],
          "size": 9
         },
         "mode": "markers",
         "name": "general",
         "text": [
          "general"
         ],
         "type": "scatter",
         "x": [
          5.262502193450928
         ],
         "y": [
          2.1261680126190186
         ]
        },
        {
         "line": {
          "color": "DarkSlateGrey",
          "width": 2
         },
         "marker": {
          "color": [
           0.993248,
           0.906157,
           0.143936,
           1
          ],
          "size": 9
         },
         "mode": "markers",
         "name": "sub",
         "text": [
          "sub"
         ],
         "type": "scatter",
         "x": [
          8.124711990356445
         ],
         "y": [
          8.21805191040039
         ]
        },
        {
         "line": {
          "color": "DarkSlateGrey",
          "width": 2
         },
         "marker": {
          "color": [
           0.993248,
           0.906157,
           0.143936,
           1
          ],
          "size": 9
         },
         "mode": "markers",
         "name": "##par",
         "text": [
          "##par"
         ],
         "type": "scatter",
         "x": [
          -0.8105766177177429
         ],
         "y": [
          5.773119926452637
         ]
        },
        {
         "line": {
          "color": "DarkSlateGrey",
          "width": 2
         },
         "marker": {
          "color": [
           0.993248,
           0.906157,
           0.143936,
           1
          ],
          "size": 9
         },
         "mode": "markers",
         "name": "##t",
         "text": [
          "##t"
         ],
         "type": "scatter",
         "x": [
          2.5419352054595947
         ],
         "y": [
          6.917922496795654
         ]
        },
        {
         "line": {
          "color": "DarkSlateGrey",
          "width": 2
         },
         "marker": {
          "color": [
           0.179019,
           0.433756,
           0.55743,
           1
          ],
          "size": 9
         },
         "mode": "markers",
         "name": "part",
         "text": [
          "part"
         ],
         "type": "scatter",
         "x": [
          20.568761825561523
         ],
         "y": [
          7.656225681304932
         ]
        },
        {
         "line": {
          "color": "DarkSlateGrey",
          "width": 2
         },
         "marker": {
          "color": [
           0.21621,
           0.351535,
           0.550627,
           1
          ],
          "size": 9
         },
         "mode": "markers",
         "name": "sub",
         "text": [
          "sub"
         ],
         "type": "scatter",
         "x": [
          18.47669792175293
         ],
         "y": [
          11.098074913024902
         ]
        },
        {
         "line": {
          "color": "DarkSlateGrey",
          "width": 2
         },
         "marker": {
          "color": [
           0.496615,
           0.826376,
           0.306377,
           1
          ],
          "size": 9
         },
         "mode": "markers",
         "name": "##cha",
         "text": [
          "##cha"
         ],
         "type": "scatter",
         "x": [
          0.27594131231307983
         ],
         "y": [
          9.071824073791504
         ]
        },
        {
         "line": {
          "color": "DarkSlateGrey",
          "width": 2
         },
         "marker": {
          "color": [
           0.993248,
           0.906157,
           0.143936,
           1
          ],
          "size": 9
         },
         "mode": "markers",
         "name": "##pt",
         "text": [
          "##pt"
         ],
         "type": "scatter",
         "x": [
          6.404605388641357
         ],
         "y": [
          4.241266250610352
         ]
        },
        {
         "line": {
          "color": "DarkSlateGrey",
          "width": 2
         },
         "marker": {
          "color": [
           0.430983,
           0.808473,
           0.346476,
           1
          ],
          "size": 9
         },
         "mode": "markers",
         "name": "##er",
         "text": [
          "##er"
         ],
         "type": "scatter",
         "x": [
          -2.284038782119751
         ],
         "y": [
          9.791111946105957
         ]
        },
        {
         "line": {
          "color": "DarkSlateGrey",
          "width": 2
         },
         "marker": {
          "color": [
           0.496615,
           0.826376,
           0.306377,
           1
          ],
          "size": 9
         },
         "mode": "markers",
         "name": "chapter",
         "text": [
          "chapter"
         ],
         "type": "scatter",
         "x": [
          -0.3807159960269928
         ],
         "y": [
          9.605523109436035
         ]
        },
        {
         "line": {
          "color": "DarkSlateGrey",
          "width": 2
         },
         "marker": {
          "color": [
           0.168126,
           0.459988,
           0.558082,
           1
          ],
          "size": 9
         },
         "mode": "markers",
         "name": "the",
         "text": [
          "the"
         ],
         "type": "scatter",
         "x": [
          2.736509084701538
         ],
         "y": [
          4.815872669219971
         ]
        },
        {
         "line": {
          "color": "DarkSlateGrey",
          "width": 2
         },
         "marker": {
          "color": [
           0.281446,
           0.08432,
           0.407414,
           1
          ],
          "size": 9
         },
         "mode": "markers",
         "name": "internal",
         "text": [
          "internal"
         ],
         "type": "scatter",
         "x": [
          3.1466169357299805
         ],
         "y": [
          4.259890556335449
         ]
        },
        {
         "line": {
          "color": "DarkSlateGrey",
          "width": 2
         },
         "marker": {
          "color": [
           0.252899,
           0.742211,
           0.448284,
           1
          ],
          "size": 9
         },
         "mode": "markers",
         "name": "revenue",
         "text": [
          "revenue"
         ],
         "type": "scatter",
         "x": [
          7.8577656745910645
         ],
         "y": [
          8.749238014221191
         ]
        },
        {
         "line": {
          "color": "DarkSlateGrey",
          "width": 2
         },
         "marker": {
          "color": [
           0.993248,
           0.906157,
           0.143936,
           1
          ],
          "size": 9
         },
         "mode": "markers",
         "name": "code",
         "text": [
          "code"
         ],
         "type": "scatter",
         "x": [
          5.831798553466797
         ],
         "y": [
          5.292516231536865
         ]
        },
        {
         "line": {
          "color": "DarkSlateGrey",
          "width": 2
         },
         "marker": {
          "color": [
           0.281412,
           0.155834,
           0.469201,
           1
          ],
          "size": 9
         },
         "mode": "markers",
         "name": "1986",
         "text": [
          "1986"
         ],
         "type": "scatter",
         "x": [
          0.26854291558265686
         ],
         "y": [
          -0.8812114596366882
         ]
        },
        {
         "line": {
          "color": "DarkSlateGrey",
          "width": 2
         },
         "marker": {
          "color": [
           0.190631,
           0.407061,
           0.556089,
           1
          ],
          "size": 9
         },
         "mode": "markers",
         "name": "relating",
         "text": [
          "relating"
         ],
         "type": "scatter",
         "x": [
          15.745257377624512
         ],
         "y": [
          11.643054008483887
         ]
        },
        {
         "line": {
          "color": "DarkSlateGrey",
          "width": 2
         },
         "marker": {
          "color": [
           0.203063,
           0.379716,
           0.553925,
           1
          ],
          "size": 9
         },
         "mode": "markers",
         "name": "business",
         "text": [
          "business"
         ],
         "type": "scatter",
         "x": [
          6.36369514465332
         ],
         "y": [
          -10.983180046081543
         ]
        },
        {
         "line": {
          "color": "DarkSlateGrey",
          "width": 2
         },
         "marker": {
          "color": [
           0.281412,
           0.155834,
           0.469201,
           1
          ],
          "size": 9
         },
         "mode": "markers",
         "name": "related",
         "text": [
          "related"
         ],
         "type": "scatter",
         "x": [
          0.14342603087425232
         ],
         "y": [
          -0.7902459502220154
         ]
        },
        {
         "line": {
          "color": "DarkSlateGrey",
          "width": 2
         },
         "marker": {
          "color": [
           0.21621,
           0.351535,
           0.550627,
           1
          ],
          "size": 9
         },
         "mode": "markers",
         "name": "credits",
         "text": [
          "credits"
         ],
         "type": "scatter",
         "x": [
          18.500778198242188
         ],
         "y": [
          11.122180938720703
         ]
        },
        {
         "line": {
          "color": "DarkSlateGrey",
          "width": 2
         },
         "marker": {
          "color": [
           0.993248,
           0.906157,
           0.143936,
           1
          ],
          "size": 9
         },
         "mode": "markers",
         "name": "amended",
         "text": [
          "amended"
         ],
         "type": "scatter",
         "x": [
          4.248311996459961
         ],
         "y": [
          7.3501973152160645
         ]
        },
        {
         "line": {
          "color": "DarkSlateGrey",
          "width": 2
         },
         "marker": {
          "color": [
           0.636902,
           0.856542,
           0.21662,
           1
          ],
          "size": 9
         },
         "mode": "markers",
         "name": "adding",
         "text": [
          "adding"
         ],
         "type": "scatter",
         "x": [
          6.006738185882568
         ],
         "y": [
          7.058470249176025
         ]
        },
        {
         "line": {
          "color": "DarkSlateGrey",
          "width": 2
         },
         "marker": {
          "color": [
           0.252899,
           0.742211,
           0.448284,
           1
          ],
          "size": 9
         },
         "mode": "markers",
         "name": "the",
         "text": [
          "the"
         ],
         "type": "scatter",
         "x": [
          7.35040283203125
         ],
         "y": [
          8.882929801940918
         ]
        },
        {
         "line": {
          "color": "DarkSlateGrey",
          "width": 2
         },
         "marker": {
          "color": [
           0.168126,
           0.459988,
           0.558082,
           1
          ],
          "size": 9
         },
         "mode": "markers",
         "name": "end",
         "text": [
          "end"
         ],
         "type": "scatter",
         "x": [
          2.8357434272766113
         ],
         "y": [
          5.269156455993652
         ]
        },
        {
         "line": {
          "color": "DarkSlateGrey",
          "width": 2
         },
         "marker": {
          "color": [
           0.993248,
           0.906157,
           0.143936,
           1
          ],
          "size": 9
         },
         "mode": "markers",
         "name": "the",
         "text": [
          "the"
         ],
         "type": "scatter",
         "x": [
          5.700744152069092
         ],
         "y": [
          4.689483165740967
         ]
        },
        {
         "line": {
          "color": "DarkSlateGrey",
          "width": 2
         },
         "marker": {
          "color": [
           0.993248,
           0.906157,
           0.143936,
           1
          ],
          "size": 9
         },
         "mode": "markers",
         "name": "following",
         "text": [
          "following"
         ],
         "type": "scatter",
         "x": [
          4.933916091918945
         ],
         "y": [
          7.531590461730957
         ]
        },
        {
         "line": {
          "color": "DarkSlateGrey",
          "width": 2
         },
         "marker": {
          "color": [
           0.993248,
           0.906157,
           0.143936,
           1
          ],
          "size": 9
         },
         "mode": "markers",
         "name": "new",
         "text": [
          "new"
         ],
         "type": "scatter",
         "x": [
          5.107673645019531
         ],
         "y": [
          7.090677738189697
         ]
        },
        {
         "line": {
          "color": "DarkSlateGrey",
          "width": 2
         },
         "marker": {
          "color": [
           0.993248,
           0.906157,
           0.143936,
           1
          ],
          "size": 9
         },
         "mode": "markers",
         "name": "section",
         "text": [
          "section"
         ],
         "type": "scatter",
         "x": [
          5.12264347076416
         ],
         "y": [
          6.89892053604126
         ]
        },
        {
         "line": {
          "color": "DarkSlateGrey",
          "width": 2
         },
         "marker": {
          "color": [
           0.993248,
           0.906157,
           0.143936,
           1
          ],
          "size": 9
         },
         "mode": "markers",
         "name": "sec",
         "text": [
          "sec"
         ],
         "type": "scatter",
         "x": [
          3.78391432762146
         ],
         "y": [
          7.233895301818848
         ]
        },
        {
         "line": {
          "color": "DarkSlateGrey",
          "width": 2
         },
         "marker": {
          "color": [
           0.229739,
           0.322361,
           0.545706,
           1
          ],
          "size": 9
         },
         "mode": "markers",
         "name": "##o",
         "text": [
          "##o"
         ],
         "type": "scatter",
         "x": [
          6.324001789093018
         ],
         "y": [
          -0.8291608095169067
         ]
        },
        {
         "line": {
          "color": "DarkSlateGrey",
          "width": 2
         },
         "marker": {
          "color": [
           0.993248,
           0.906157,
           0.143936,
           1
          ],
          "size": 9
         },
         "mode": "markers",
         "name": "contributions",
         "text": [
          "contributions"
         ],
         "type": "scatter",
         "x": [
          5.718365669250488
         ],
         "y": [
          4.7263383865356445
         ]
        },
        {
         "line": {
          "color": "DarkSlateGrey",
          "width": 2
         },
         "marker": {
          "color": [
           0.276022,
           0.044167,
           0.370164,
           1
          ],
          "size": 9
         },
         "mode": "markers",
         "name": "benefit",
         "text": [
          "benefit"
         ],
         "type": "scatter",
         "x": [
          4.581045627593994
         ],
         "y": [
          8.359851837158203
         ]
        },
        {
         "line": {
          "color": "DarkSlateGrey",
          "width": 2
         },
         "marker": {
          "color": [
           0.993248,
           0.906157,
           0.143936,
           1
          ],
          "size": 9
         },
         "mode": "markers",
         "name": "##ing",
         "text": [
          "##ing"
         ],
         "type": "scatter",
         "x": [
          2.7515976428985596
         ],
         "y": [
          5.197336196899414
         ]
        },
        {
         "line": {
          "color": "DarkSlateGrey",
          "width": 2
         },
         "marker": {
          "color": [
           0.170948,
           0.694384,
           0.493803,
           1
          ],
          "size": 9
         },
         "mode": "markers",
         "name": "science",
         "text": [
          "science"
         ],
         "type": "scatter",
         "x": [
          3.4871726036071777
         ],
         "y": [
          1.2652260065078735
         ]
        },
        {
         "line": {
          "color": "DarkSlateGrey",
          "width": 2
         },
         "marker": {
          "color": [
           0.993248,
           0.906157,
           0.143936,
           1
          ],
          "size": 9
         },
         "mode": "markers",
         "name": "technology",
         "text": [
          "technology"
         ],
         "type": "scatter",
         "x": [
          5.089144706726074
         ],
         "y": [
          7.097238540649414
         ]
        },
        {
         "line": {
          "color": "DarkSlateGrey",
          "width": 2
         },
         "marker": {
          "color": [
           0.993248,
           0.906157,
           0.143936,
           1
          ],
          "size": 9
         },
         "mode": "markers",
         "name": "engineering",
         "text": [
          "engineering"
         ],
         "type": "scatter",
         "x": [
          5.9168171882629395
         ],
         "y": [
          0.21874544024467468
         ]
        },
        {
         "line": {
          "color": "DarkSlateGrey",
          "width": 2
         },
         "marker": {
          "color": [
           0.119699,
           0.61849,
           0.536347,
           1
          ],
          "size": 9
         },
         "mode": "markers",
         "name": "and",
         "text": [
          "and"
         ],
         "type": "scatter",
         "x": [
          -0.9309844970703125
         ],
         "y": [
          5.621615409851074
         ]
        },
        {
         "line": {
          "color": "DarkSlateGrey",
          "width": 2
         },
         "marker": {
          "color": [
           0.168126,
           0.459988,
           0.558082,
           1
          ],
          "size": 9
         },
         "mode": "markers",
         "name": "mathematics",
         "text": [
          "mathematics"
         ],
         "type": "scatter",
         "x": [
          2.7159552574157715
         ],
         "y": [
          4.888035297393799
         ]
        },
        {
         "line": {
          "color": "DarkSlateGrey",
          "width": 2
         },
         "marker": {
          "color": [
           0.281446,
           0.08432,
           0.407414,
           1
          ],
          "size": 9
         },
         "mode": "markers",
         "name": "education",
         "text": [
          "education"
         ],
         "type": "scatter",
         "x": [
          3.095149040222168
         ],
         "y": [
          4.213441848754883
         ]
        },
        {
         "line": {
          "color": "DarkSlateGrey",
          "width": 2
         },
         "marker": {
          "color": [
           0.252899,
           0.742211,
           0.448284,
           1
          ],
          "size": 9
         },
         "mode": "markers",
         "name": "the",
         "text": [
          "the"
         ],
         "type": "scatter",
         "x": [
          7.347269058227539
         ],
         "y": [
          8.991077423095703
         ]
        },
        {
         "line": {
          "color": "DarkSlateGrey",
          "width": 2
         },
         "marker": {
          "color": [
           0.783315,
           0.879285,
           0.125405,
           1
          ],
          "size": 9
         },
         "mode": "markers",
         "name": "elementary",
         "text": [
          "elementary"
         ],
         "type": "scatter",
         "x": [
          7.480967044830322
         ],
         "y": [
          5.273882865905762
         ]
        },
        {
         "line": {
          "color": "DarkSlateGrey",
          "width": 2
         },
         "marker": {
          "color": [
           0.244972,
           0.287675,
           0.53726,
           1
          ],
          "size": 9
         },
         "mode": "markers",
         "name": "and",
         "text": [
          "and"
         ],
         "type": "scatter",
         "x": [
          14.019109725952148
         ],
         "y": [
          1.5950820446014404
         ]
        },
        {
         "line": {
          "color": "DarkSlateGrey",
          "width": 2
         },
         "marker": {
          "color": [
           0.993248,
           0.906157,
           0.143936,
           1
          ],
          "size": 9
         },
         "mode": "markers",
         "name": "secondary",
         "text": [
          "secondary"
         ],
         "type": "scatter",
         "x": [
          5.940821647644043
         ],
         "y": [
          0.22392664849758148
         ]
        },
        {
         "line": {
          "color": "DarkSlateGrey",
          "width": 2
         },
         "marker": {
          "color": [
           0.229739,
           0.322361,
           0.545706,
           1
          ],
          "size": 9
         },
         "mode": "markers",
         "name": "school",
         "text": [
          "school"
         ],
         "type": "scatter",
         "x": [
          6.39235782623291
         ],
         "y": [
          -0.96943199634552
         ]
        },
        {
         "line": {
          "color": "DarkSlateGrey",
          "width": 2
         },
         "marker": {
          "color": [
           0.119699,
           0.61849,
           0.536347,
           1
          ],
          "size": 9
         },
         "mode": "markers",
         "name": "level",
         "text": [
          "level"
         ],
         "type": "scatter",
         "x": [
          -0.9430034756660461
         ],
         "y": [
          5.6680908203125
         ]
        },
        {
         "line": {
          "color": "DarkSlateGrey",
          "width": 2
         },
         "marker": {
          "color": [
           0.565498,
           0.84243,
           0.262877,
           1
          ],
          "size": 9
         },
         "mode": "markers",
         "name": "general",
         "text": [
          "general"
         ],
         "type": "scatter",
         "x": [
          1.7614177465438843
         ],
         "y": [
          8.562570571899414
         ]
        },
        {
         "line": {
          "color": "DarkSlateGrey",
          "width": 2
         },
         "marker": {
          "color": [
           0.496615,
           0.826376,
           0.306377,
           1
          ],
          "size": 9
         },
         "mode": "markers",
         "name": "for",
         "text": [
          "for"
         ],
         "type": "scatter",
         "x": [
          0.8937159180641174
         ],
         "y": [
          10.196355819702148
         ]
        },
        {
         "line": {
          "color": "DarkSlateGrey",
          "width": 2
         },
         "marker": {
          "color": [
           0.565498,
           0.84243,
           0.262877,
           1
          ],
          "size": 9
         },
         "mode": "markers",
         "name": "purposes",
         "text": [
          "purposes"
         ],
         "type": "scatter",
         "x": [
          1.3809961080551147
         ],
         "y": [
          8.598762512207031
         ]
        },
        {
         "line": {
          "color": "DarkSlateGrey",
          "width": 2
         },
         "marker": {
          "color": [
           0.229739,
           0.322361,
           0.545706,
           1
          ],
          "size": 9
         },
         "mode": "markers",
         "name": "section",
         "text": [
          "section"
         ],
         "type": "scatter",
         "x": [
          6.56619930267334
         ],
         "y": [
          -1.0206488370895386
         ]
        },
        {
         "line": {
          "color": "DarkSlateGrey",
          "width": 2
         },
         "marker": {
          "color": [
           0.168126,
           0.459988,
           0.558082,
           1
          ],
          "size": 9
         },
         "mode": "markers",
         "name": "the",
         "text": [
          "the"
         ],
         "type": "scatter",
         "x": [
          2.745615005493164
         ],
         "y": [
          4.850769519805908
         ]
        },
        {
         "line": {
          "color": "DarkSlateGrey",
          "width": 2
         },
         "marker": {
          "color": [
           0.281446,
           0.08432,
           0.407414,
           1
          ],
          "size": 9
         },
         "mode": "markers",
         "name": "elementary",
         "text": [
          "elementary"
         ],
         "type": "scatter",
         "x": [
          3.0907552242279053
         ],
         "y": [
          4.231780052185059
         ]
        },
        {
         "line": {
          "color": "DarkSlateGrey",
          "width": 2
         },
         "marker": {
          "color": [
           0.304148,
           0.764704,
           0.419943,
           1
          ],
          "size": 9
         },
         "mode": "markers",
         "name": "and",
         "text": [
          "and"
         ],
         "type": "scatter",
         "x": [
          5.199826717376709
         ],
         "y": [
          1.979244351387024
         ]
        },
        {
         "line": {
          "color": "DarkSlateGrey",
          "width": 2
         },
         "marker": {
          "color": [
           0.252899,
           0.742211,
           0.448284,
           1
          ],
          "size": 9
         },
         "mode": "markers",
         "name": "secondary",
         "text": [
          "secondary"
         ],
         "type": "scatter",
         "x": [
          7.3143630027771
         ],
         "y": [
          8.97862434387207
         ]
        },
        {
         "line": {
          "color": "DarkSlateGrey",
          "width": 2
         },
         "marker": {
          "color": [
           0.993248,
           0.906157,
           0.143936,
           1
          ],
          "size": 9
         },
         "mode": "markers",
         "name": "science",
         "text": [
          "science"
         ],
         "type": "scatter",
         "x": [
          6.4400506019592285
         ],
         "y": [
          6.418032646179199
         ]
        },
        {
         "line": {
          "color": "DarkSlateGrey",
          "width": 2
         },
         "marker": {
          "color": [
           0.244972,
           0.287675,
           0.53726,
           1
          ],
          "size": 9
         },
         "mode": "markers",
         "name": "technology",
         "text": [
          "technology"
         ],
         "type": "scatter",
         "x": [
          13.976456642150879
         ],
         "y": [
          1.6373322010040283
         ]
        },
        {
         "line": {
          "color": "DarkSlateGrey",
          "width": 2
         },
         "marker": {
          "color": [
           0.496615,
           0.826376,
           0.306377,
           1
          ],
          "size": 9
         },
         "mode": "markers",
         "name": "engineering",
         "text": [
          "engineering"
         ],
         "type": "scatter",
         "x": [
          -0.26670926809310913
         ],
         "y": [
          9.793387413024902
         ]
        },
        {
         "line": {
          "color": "DarkSlateGrey",
          "width": 2
         },
         "marker": {
          "color": [
           0.257322,
           0.25613,
           0.526563,
           1
          ],
          "size": 9
         },
         "mode": "markers",
         "name": "and",
         "text": [
          "and"
         ],
         "type": "scatter",
         "x": [
          13.248739242553711
         ],
         "y": [
          2.25823712348938
         ]
        },
        {
         "line": {
          "color": "DarkSlateGrey",
          "width": 2
         },
         "marker": {
          "color": [
           0.229739,
           0.322361,
           0.545706,
           1
          ],
          "size": 9
         },
         "mode": "markers",
         "name": "mathematics",
         "text": [
          "mathematics"
         ],
         "type": "scatter",
         "x": [
          6.587174415588379
         ],
         "y": [
          -1.08114755153656
         ]
        },
        {
         "line": {
          "color": "DarkSlateGrey",
          "width": 2
         },
         "marker": {
          "color": [
           0.119699,
           0.61849,
           0.536347,
           1
          ],
          "size": 9
         },
         "mode": "markers",
         "name": "stem",
         "text": [
          "stem"
         ],
         "type": "scatter",
         "x": [
          -0.8576308488845825
         ],
         "y": [
          5.779158592224121
         ]
        },
        {
         "line": {
          "color": "DarkSlateGrey",
          "width": 2
         },
         "marker": {
          "color": [
           0.229739,
           0.322361,
           0.545706,
           1
          ],
          "size": 9
         },
         "mode": "markers",
         "name": "contributions",
         "text": [
          "contributions"
         ],
         "type": "scatter",
         "x": [
          6.517452239990234
         ],
         "y": [
          -1.0667446851730347
         ]
        },
        {
         "line": {
          "color": "DarkSlateGrey",
          "width": 2
         },
         "marker": {
          "color": [
           0.993248,
           0.906157,
           0.143936,
           1
          ],
          "size": 9
         },
         "mode": "markers",
         "name": "credit",
         "text": [
          "credit"
         ],
         "type": "scatter",
         "x": [
          0.8943270444869995
         ],
         "y": [
          6.396121025085449
         ]
        },
        {
         "line": {
          "color": "DarkSlateGrey",
          "width": 2
         },
         "marker": {
          "color": [
           0.119699,
           0.61849,
           0.536347,
           1
          ],
          "size": 9
         },
         "mode": "markers",
         "name": "determined",
         "text": [
          "determined"
         ],
         "type": "scatter",
         "x": [
          -0.8916910290718079
         ],
         "y": [
          5.7911906242370605
         ]
        },
        {
         "line": {
          "color": "DarkSlateGrey",
          "width": 2
         },
         "marker": {
          "color": [
           0.229739,
           0.322361,
           0.545706,
           1
          ],
          "size": 9
         },
         "mode": "markers",
         "name": "under",
         "text": [
          "under"
         ],
         "type": "scatter",
         "x": [
          6.5577192306518555
         ],
         "y": [
          -1.0097253322601318
         ]
        },
        {
         "line": {
          "color": "DarkSlateGrey",
          "width": 2
         },
         "marker": {
          "color": [
           0.127568,
           0.566949,
           0.550556,
           1
          ],
          "size": 9
         },
         "mode": "markers",
         "name": "this",
         "text": [
          "this"
         ],
         "type": "scatter",
         "x": [
          1.1094520092010498
         ],
         "y": [
          5.063189506530762
         ]
        },
        {
         "line": {
          "color": "DarkSlateGrey",
          "width": 2
         },
         "marker": {
          "color": [
           0.119699,
           0.61849,
           0.536347,
           1
          ],
          "size": 9
         },
         "mode": "markers",
         "name": "section",
         "text": [
          "section"
         ],
         "type": "scatter",
         "x": [
          -0.8360133171081543
         ],
         "y": [
          5.772229194641113
         ]
        },
        {
         "line": {
          "color": "DarkSlateGrey",
          "width": 2
         },
         "marker": {
          "color": [
           0.783315,
           0.879285,
           0.125405,
           1
          ],
          "size": 9
         },
         "mode": "markers",
         "name": "for",
         "text": [
          "for"
         ],
         "type": "scatter",
         "x": [
          7.607809066772461
         ],
         "y": [
          5.13532018661499
         ]
        },
        {
         "line": {
          "color": "DarkSlateGrey",
          "width": 2
         },
         "marker": {
          "color": [
           0.244972,
           0.287675,
           0.53726,
           1
          ],
          "size": 9
         },
         "mode": "markers",
         "name": "the",
         "text": [
          "the"
         ],
         "type": "scatter",
         "x": [
          13.98473834991455
         ],
         "y": [
          1.614782452583313
         ]
        },
        {
         "line": {
          "color": "DarkSlateGrey",
          "width": 2
         },
         "marker": {
          "color": [
           0.229739,
           0.322361,
           0.545706,
           1
          ],
          "size": 9
         },
         "mode": "markers",
         "name": "taxa",
         "text": [
          "taxa"
         ],
         "type": "scatter",
         "x": [
          6.5948944091796875
         ],
         "y": [
          -1.0303127765655518
         ]
        },
        {
         "line": {
          "color": "DarkSlateGrey",
          "width": 2
         },
         "marker": {
          "color": [
           0.127568,
           0.566949,
           0.550556,
           1
          ],
          "size": 9
         },
         "mode": "markers",
         "name": "##ble",
         "text": [
          "##ble"
         ],
         "type": "scatter",
         "x": [
          1.1320116519927979
         ],
         "y": [
          5.1113715171813965
         ]
        },
        {
         "line": {
          "color": "DarkSlateGrey",
          "width": 2
         },
         "marker": {
          "color": [
           0.119699,
           0.61849,
           0.536347,
           1
          ],
          "size": 9
         },
         "mode": "markers",
         "name": "year",
         "text": [
          "year"
         ],
         "type": "scatter",
         "x": [
          -0.922950029373169
         ],
         "y": [
          5.76055908203125
         ]
        },
        {
         "line": {
          "color": "DarkSlateGrey",
          "width": 2
         },
         "marker": {
          "color": [
           0.121148,
           0.592739,
           0.544641,
           1
          ],
          "size": 9
         },
         "mode": "markers",
         "name": "amount",
         "text": [
          "amount"
         ],
         "type": "scatter",
         "x": [
          3.7776567935943604
         ],
         "y": [
          7.216501235961914
         ]
        },
        {
         "line": {
          "color": "DarkSlateGrey",
          "width": 2
         },
         "marker": {
          "color": [
           0.993248,
           0.906157,
           0.143936,
           1
          ],
          "size": 9
         },
         "mode": "markers",
         "name": "equal",
         "text": [
          "equal"
         ],
         "type": "scatter",
         "x": [
          4.442659854888916
         ],
         "y": [
          3.92071795463562
         ]
        },
        {
         "line": {
          "color": "DarkSlateGrey",
          "width": 2
         },
         "marker": {
          "color": [
           0.993248,
           0.906157,
           0.143936,
           1
          ],
          "size": 9
         },
         "mode": "markers",
         "name": "100",
         "text": [
          "100"
         ],
         "type": "scatter",
         "x": [
          5.403591632843018
         ],
         "y": [
          5.736368179321289
         ]
        },
        {
         "line": {
          "color": "DarkSlateGrey",
          "width": 2
         },
         "marker": {
          "color": [
           0.993248,
           0.906157,
           0.143936,
           1
          ],
          "size": 9
         },
         "mode": "markers",
         "name": "percent",
         "text": [
          "percent"
         ],
         "type": "scatter",
         "x": [
          2.7824172973632812
         ],
         "y": [
          4.956370830535889
         ]
        },
        {
         "line": {
          "color": "DarkSlateGrey",
          "width": 2
         },
         "marker": {
          "color": [
           0.993248,
           0.906157,
           0.143936,
           1
          ],
          "size": 9
         },
         "mode": "markers",
         "name": "the",
         "text": [
          "the"
         ],
         "type": "scatter",
         "x": [
          7.657451152801514
         ],
         "y": [
          8.741806983947754
         ]
        },
        {
         "line": {
          "color": "DarkSlateGrey",
          "width": 2
         },
         "marker": {
          "color": [
           0.993248,
           0.906157,
           0.143936,
           1
          ],
          "size": 9
         },
         "mode": "markers",
         "name": "qualified",
         "text": [
          "qualified"
         ],
         "type": "scatter",
         "x": [
          4.383864879608154
         ],
         "y": [
          6.140080451965332
         ]
        },
        {
         "line": {
          "color": "DarkSlateGrey",
          "width": 2
         },
         "marker": {
          "color": [
           0.993248,
           0.906157,
           0.143936,
           1
          ],
          "size": 9
         },
         "mode": "markers",
         "name": "stem",
         "text": [
          "stem"
         ],
         "type": "scatter",
         "x": [
          4.22432804107666
         ],
         "y": [
          6.985813140869141
         ]
        },
        {
         "line": {
          "color": "DarkSlateGrey",
          "width": 2
         },
         "marker": {
          "color": [
           0.636902,
           0.856542,
           0.21662,
           1
          ],
          "size": 9
         },
         "mode": "markers",
         "name": "contributions",
         "text": [
          "contributions"
         ],
         "type": "scatter",
         "x": [
          6.005748271942139
         ],
         "y": [
          7.083935260772705
         ]
        },
        {
         "line": {
          "color": "DarkSlateGrey",
          "width": 2
         },
         "marker": {
          "color": [
           0.283229,
           0.120777,
           0.440584,
           1
          ],
          "size": 9
         },
         "mode": "markers",
         "name": "the",
         "text": [
          "the"
         ],
         "type": "scatter",
         "x": [
          8.481971740722656
         ],
         "y": [
          8.160423278808594
         ]
        },
        {
         "line": {
          "color": "DarkSlateGrey",
          "width": 2
         },
         "marker": {
          "color": [
           0.168126,
           0.459988,
           0.558082,
           1
          ],
          "size": 9
         },
         "mode": "markers",
         "name": "taxpayer",
         "text": [
          "taxpayer"
         ],
         "type": "scatter",
         "x": [
          2.8276896476745605
         ],
         "y": [
          5.368908405303955
         ]
        },
        {
         "line": {
          "color": "DarkSlateGrey",
          "width": 2
         },
         "marker": {
          "color": [
           0.993248,
           0.906157,
           0.143936,
           1
          ],
          "size": 9
         },
         "mode": "markers",
         "name": "for",
         "text": [
          "for"
         ],
         "type": "scatter",
         "x": [
          1.1587417125701904
         ],
         "y": [
          5.613098621368408
         ]
        },
        {
         "line": {
          "color": "DarkSlateGrey",
          "width": 2
         },
         "marker": {
          "color": [
           0.119699,
           0.61849,
           0.536347,
           1
          ],
          "size": 9
         },
         "mode": "markers",
         "name": "such",
         "text": [
          "such"
         ],
         "type": "scatter",
         "x": [
          -0.8951179385185242
         ],
         "y": [
          5.803117752075195
         ]
        },
        {
         "line": {
          "color": "DarkSlateGrey",
          "width": 2
         },
         "marker": {
          "color": [
           0.229739,
           0.322361,
           0.545706,
           1
          ],
          "size": 9
         },
         "mode": "markers",
         "name": "taxa",
         "text": [
          "taxa"
         ],
         "type": "scatter",
         "x": [
          6.461617946624756
         ],
         "y": [
          -1.0685747861862183
         ]
        },
        {
         "line": {
          "color": "DarkSlateGrey",
          "width": 2
         },
         "marker": {
          "color": [
           0.993248,
           0.906157,
           0.143936,
           1
          ],
          "size": 9
         },
         "mode": "markers",
         "name": "##ble",
         "text": [
          "##ble"
         ],
         "type": "scatter",
         "x": [
          1.1218836307525635
         ],
         "y": [
          5.4894843101501465
         ]
        },
        {
         "line": {
          "color": "DarkSlateGrey",
          "width": 2
         },
         "marker": {
          "color": [
           0.127568,
           0.566949,
           0.550556,
           1
          ],
          "size": 9
         },
         "mode": "markers",
         "name": "year",
         "text": [
          "year"
         ],
         "type": "scatter",
         "x": [
          1.1672531366348267
         ],
         "y": [
          5.036544322967529
         ]
        },
        {
         "line": {
          "color": "DarkSlateGrey",
          "width": 2
         },
         "marker": {
          "color": [
           0.993248,
           0.906157,
           0.143936,
           1
          ],
          "size": 9
         },
         "mode": "markers",
         "name": "qualified",
         "text": [
          "qualified"
         ],
         "type": "scatter",
         "x": [
          3.8798160552978516
         ],
         "y": [
          6.254333972930908
         ]
        },
        {
         "line": {
          "color": "DarkSlateGrey",
          "width": 2
         },
         "marker": {
          "color": [
           0.252899,
           0.742211,
           0.448284,
           1
          ],
          "size": 9
         },
         "mode": "markers",
         "name": "stem",
         "text": [
          "stem"
         ],
         "type": "scatter",
         "x": [
          7.846368789672852
         ],
         "y": [
          8.689604759216309
         ]
        },
        {
         "line": {
          "color": "DarkSlateGrey",
          "width": 2
         },
         "marker": {
          "color": [
           0.283229,
           0.120777,
           0.440584,
           1
          ],
          "size": 9
         },
         "mode": "markers",
         "name": "contributions",
         "text": [
          "contributions"
         ],
         "type": "scatter",
         "x": [
          8.573402404785156
         ],
         "y": [
          8.116483688354492
         ]
        },
        {
         "line": {
          "color": "DarkSlateGrey",
          "width": 2
         },
         "marker": {
          "color": [
           0.993248,
           0.906157,
           0.143936,
           1
          ],
          "size": 9
         },
         "mode": "markers",
         "name": "for",
         "text": [
          "for"
         ],
         "type": "scatter",
         "x": [
          1.7515206336975098
         ],
         "y": [
          6.0096235275268555
         ]
        },
        {
         "line": {
          "color": "DarkSlateGrey",
          "width": 2
         },
         "marker": {
          "color": [
           0.85581,
           0.888601,
           0.097452,
           1
          ],
          "size": 9
         },
         "mode": "markers",
         "name": "purposes",
         "text": [
          "purposes"
         ],
         "type": "scatter",
         "x": [
          5.59774923324585
         ],
         "y": [
          4.474841117858887
         ]
        },
        {
         "line": {
          "color": "DarkSlateGrey",
          "width": 2
         },
         "marker": {
          "color": [
           0.85581,
           0.888601,
           0.097452,
           1
          ],
          "size": 9
         },
         "mode": "markers",
         "name": "this",
         "text": [
          "this"
         ],
         "type": "scatter",
         "x": [
          5.674029350280762
         ],
         "y": [
          4.327315330505371
         ]
        },
        {
         "line": {
          "color": "DarkSlateGrey",
          "width": 2
         },
         "marker": {
          "color": [
           0.267004,
           0.004874,
           0.329415,
           1
          ],
          "size": 9
         },
         "mode": "markers",
         "name": "section",
         "text": [
          "section"
         ],
         "type": "scatter",
         "x": [
          3.563826560974121
         ],
         "y": [
          20.834383010864258
         ]
        },
        {
         "line": {
          "color": "DarkSlateGrey",
          "width": 2
         },
         "marker": {
          "color": [
           0.993248,
           0.906157,
           0.143936,
           1
          ],
          "size": 9
         },
         "mode": "markers",
         "name": "the",
         "text": [
          "the"
         ],
         "type": "scatter",
         "x": [
          4.717689037322998
         ],
         "y": [
          4.337615489959717
         ]
        },
        {
         "line": {
          "color": "DarkSlateGrey",
          "width": 2
         },
         "marker": {
          "color": [
           0.85581,
           0.888601,
           0.097452,
           1
          ],
          "size": 9
         },
         "mode": "markers",
         "name": "term",
         "text": [
          "term"
         ],
         "type": "scatter",
         "x": [
          6.375170707702637
         ],
         "y": [
          4.0933122634887695
         ]
        },
        {
         "line": {
          "color": "DarkSlateGrey",
          "width": 2
         },
         "marker": {
          "color": [
           0.20803,
           0.718701,
           0.472873,
           1
          ],
          "size": 9
         },
         "mode": "markers",
         "name": "qualified",
         "text": [
          "qualified"
         ],
         "type": "scatter",
         "x": [
          6.637909412384033
         ],
         "y": [
          2.9137468338012695
         ]
        },
        {
         "line": {
          "color": "DarkSlateGrey",
          "width": 2
         },
         "marker": {
          "color": [
           0.993248,
           0.906157,
           0.143936,
           1
          ],
          "size": 9
         },
         "mode": "markers",
         "name": "stem",
         "text": [
          "stem"
         ],
         "type": "scatter",
         "x": [
          4.582322120666504
         ],
         "y": [
          4.458507537841797
         ]
        },
        {
         "line": {
          "color": "DarkSlateGrey",
          "width": 2
         },
         "marker": {
          "color": [
           0.85581,
           0.888601,
           0.097452,
           1
          ],
          "size": 9
         },
         "mode": "markers",
         "name": "contributions",
         "text": [
          "contributions"
         ],
         "type": "scatter",
         "x": [
          6.357428073883057
         ],
         "y": [
          4.200428009033203
         ]
        },
        {
         "line": {
          "color": "DarkSlateGrey",
          "width": 2
         },
         "marker": {
          "color": [
           0.993248,
           0.906157,
           0.143936,
           1
          ],
          "size": 9
         },
         "mode": "markers",
         "name": "means",
         "text": [
          "means"
         ],
         "type": "scatter",
         "x": [
          2.007378578186035
         ],
         "y": [
          9.281327247619629
         ]
        },
        {
         "line": {
          "color": "DarkSlateGrey",
          "width": 2
         },
         "marker": {
          "color": [
           0.993248,
           0.906157,
           0.143936,
           1
          ],
          "size": 9
         },
         "mode": "markers",
         "name": "stem",
         "text": [
          "stem"
         ],
         "type": "scatter",
         "x": [
          6.439426422119141
         ],
         "y": [
          4.226174354553223
         ]
        },
        {
         "line": {
          "color": "DarkSlateGrey",
          "width": 2
         },
         "marker": {
          "color": [
           0.993248,
           0.906157,
           0.143936,
           1
          ],
          "size": 9
         },
         "mode": "markers",
         "name": "school",
         "text": [
          "school"
         ],
         "type": "scatter",
         "x": [
          -0.6835231184959412
         ],
         "y": [
          9.163701057434082
         ]
        },
        {
         "line": {
          "color": "DarkSlateGrey",
          "width": 2
         },
         "marker": {
          "color": [
           0.993248,
           0.906157,
           0.143936,
           1
          ],
          "size": 9
         },
         "mode": "markers",
         "name": "contributions",
         "text": [
          "contributions"
         ],
         "type": "scatter",
         "x": [
          4.474072456359863
         ],
         "y": [
          4.1252899169921875
         ]
        },
        {
         "line": {
          "color": "DarkSlateGrey",
          "width": 2
         },
         "marker": {
          "color": [
           0.267004,
           0.004874,
           0.329415,
           1
          ],
          "size": 9
         },
         "mode": "markers",
         "name": "stem",
         "text": [
          "stem"
         ],
         "type": "scatter",
         "x": [
          3.5465192794799805
         ],
         "y": [
          20.82786750793457
         ]
        },
        {
         "line": {
          "color": "DarkSlateGrey",
          "width": 2
         },
         "marker": {
          "color": [
           0.147607,
           0.511733,
           0.557049,
           1
          ],
          "size": 9
         },
         "mode": "markers",
         "name": "teacher",
         "text": [
          "teacher"
         ],
         "type": "scatter",
         "x": [
          -0.03685297071933746
         ],
         "y": [
          11.675666809082031
         ]
        },
        {
         "line": {
          "color": "DarkSlateGrey",
          "width": 2
         },
         "marker": {
          "color": [
           0.993248,
           0.906157,
           0.143936,
           1
          ],
          "size": 9
         },
         "mode": "markers",
         "name": "##tern",
         "text": [
          "##tern"
         ],
         "type": "scatter",
         "x": [
          4.753623008728027
         ],
         "y": [
          4.984987258911133
         ]
        },
        {
         "line": {
          "color": "DarkSlateGrey",
          "width": 2
         },
         "marker": {
          "color": [
           0.993248,
           0.906157,
           0.143936,
           1
          ],
          "size": 9
         },
         "mode": "markers",
         "name": "##ship",
         "text": [
          "##ship"
         ],
         "type": "scatter",
         "x": [
          1.9224326610565186
         ],
         "y": [
          6.012715816497803
         ]
        },
        {
         "line": {
          "color": "DarkSlateGrey",
          "width": 2
         },
         "marker": {
          "color": [
           0.85581,
           0.888601,
           0.097452,
           1
          ],
          "size": 9
         },
         "mode": "markers",
         "name": "expenses",
         "text": [
          "expenses"
         ],
         "type": "scatter",
         "x": [
          5.510860919952393
         ],
         "y": [
          4.39163875579834
         ]
        },
        {
         "line": {
          "color": "DarkSlateGrey",
          "width": 2
         },
         "marker": {
          "color": [
           0.993248,
           0.906157,
           0.143936,
           1
          ],
          "size": 9
         },
         "mode": "markers",
         "name": "and",
         "text": [
          "and"
         ],
         "type": "scatter",
         "x": [
          4.701719284057617
         ],
         "y": [
          5.010751247406006
         ]
        },
        {
         "line": {
          "color": "DarkSlateGrey",
          "width": 2
         },
         "marker": {
          "color": [
           0.127568,
           0.566949,
           0.550556,
           1
          ],
          "size": 9
         },
         "mode": "markers",
         "name": "stem",
         "text": [
          "stem"
         ],
         "type": "scatter",
         "x": [
          1.285771369934082
         ],
         "y": [
          5.055671691894531
         ]
        },
        {
         "line": {
          "color": "DarkSlateGrey",
          "width": 2
         },
         "marker": {
          "color": [
           0.993248,
           0.906157,
           0.143936,
           1
          ],
          "size": 9
         },
         "mode": "markers",
         "name": "teacher",
         "text": [
          "teacher"
         ],
         "type": "scatter",
         "x": [
          4.650388717651367
         ],
         "y": [
          5.341020107269287
         ]
        },
        {
         "line": {
          "color": "DarkSlateGrey",
          "width": 2
         },
         "marker": {
          "color": [
           0.993248,
           0.906157,
           0.143936,
           1
          ],
          "size": 9
         },
         "mode": "markers",
         "name": "training",
         "text": [
          "training"
         ],
         "type": "scatter",
         "x": [
          4.187709808349609
         ],
         "y": [
          5.248045444488525
         ]
        },
        {
         "line": {
          "color": "DarkSlateGrey",
          "width": 2
         },
         "marker": {
          "color": [
           0.993248,
           0.906157,
           0.143936,
           1
          ],
          "size": 9
         },
         "mode": "markers",
         "name": "expenses",
         "text": [
          "expenses"
         ],
         "type": "scatter",
         "x": [
          4.122550964355469
         ],
         "y": [
          5.344203948974609
         ]
        },
        {
         "line": {
          "color": "DarkSlateGrey",
          "width": 2
         },
         "marker": {
          "color": [
           0.993248,
           0.906157,
           0.143936,
           1
          ],
          "size": 9
         },
         "mode": "markers",
         "name": "stem",
         "text": [
          "stem"
         ],
         "type": "scatter",
         "x": [
          1.067504644393921
         ],
         "y": [
          7.694925785064697
         ]
        },
        {
         "line": {
          "color": "DarkSlateGrey",
          "width": 2
         },
         "marker": {
          "color": [
           0.85581,
           0.888601,
           0.097452,
           1
          ],
          "size": 9
         },
         "mode": "markers",
         "name": "school",
         "text": [
          "school"
         ],
         "type": "scatter",
         "x": [
          5.3641743659973145
         ],
         "y": [
          4.4846625328063965
         ]
        },
        {
         "line": {
          "color": "DarkSlateGrey",
          "width": 2
         },
         "marker": {
          "color": [
           0.127568,
           0.566949,
           0.550556,
           1
          ],
          "size": 9
         },
         "mode": "markers",
         "name": "contributions",
         "text": [
          "contributions"
         ],
         "type": "scatter",
         "x": [
          1.289868950843811
         ],
         "y": [
          4.993165969848633
         ]
        },
        {
         "line": {
          "color": "DarkSlateGrey",
          "width": 2
         },
         "marker": {
          "color": [
           0.267004,
           0.004874,
           0.329415,
           1
          ],
          "size": 9
         },
         "mode": "markers",
         "name": "for",
         "text": [
          "for"
         ],
         "type": "scatter",
         "x": [
          3.5677695274353027
         ],
         "y": [
          20.838167190551758
         ]
        },
        {
         "line": {
          "color": "DarkSlateGrey",
          "width": 2
         },
         "marker": {
          "color": [
           0.147607,
           0.511733,
           0.557049,
           1
          ],
          "size": 9
         },
         "mode": "markers",
         "name": "purposes",
         "text": [
          "purposes"
         ],
         "type": "scatter",
         "x": [
          -0.06362475454807281
         ],
         "y": [
          11.692727088928223
         ]
        },
        {
         "line": {
          "color": "DarkSlateGrey",
          "width": 2
         },
         "marker": {
          "color": [
           0.993248,
           0.906157,
           0.143936,
           1
          ],
          "size": 9
         },
         "mode": "markers",
         "name": "this",
         "text": [
          "this"
         ],
         "type": "scatter",
         "x": [
          2.857316017150879
         ],
         "y": [
          5.448482036590576
         ]
        },
        {
         "line": {
          "color": "DarkSlateGrey",
          "width": 2
         },
         "marker": {
          "color": [
           0.993248,
           0.906157,
           0.143936,
           1
          ],
          "size": 9
         },
         "mode": "markers",
         "name": "section",
         "text": [
          "section"
         ],
         "type": "scatter",
         "x": [
          3.5525059700012207
         ],
         "y": [
          7.11728048324585
         ]
        },
        {
         "line": {
          "color": "DarkSlateGrey",
          "width": 2
         },
         "marker": {
          "color": [
           0.993248,
           0.906157,
           0.143936,
           1
          ],
          "size": 9
         },
         "mode": "markers",
         "name": "general",
         "text": [
          "general"
         ],
         "type": "scatter",
         "x": [
          1.4896432161331177
         ],
         "y": [
          5.754379749298096
         ]
        },
        {
         "line": {
          "color": "DarkSlateGrey",
          "width": 2
         },
         "marker": {
          "color": [
           0.267004,
           0.004874,
           0.329415,
           1
          ],
          "size": 9
         },
         "mode": "markers",
         "name": "the",
         "text": [
          "the"
         ],
         "type": "scatter",
         "x": [
          3.559790849685669
         ],
         "y": [
          20.83013916015625
         ]
        },
        {
         "line": {
          "color": "DarkSlateGrey",
          "width": 2
         },
         "marker": {
          "color": [
           0.147607,
           0.511733,
           0.557049,
           1
          ],
          "size": 9
         },
         "mode": "markers",
         "name": "term",
         "text": [
          "term"
         ],
         "type": "scatter",
         "x": [
          -0.050049759447574615
         ],
         "y": [
          11.682808876037598
         ]
        },
        {
         "line": {
          "color": "DarkSlateGrey",
          "width": 2
         },
         "marker": {
          "color": [
           0.993248,
           0.906157,
           0.143936,
           1
          ],
          "size": 9
         },
         "mode": "markers",
         "name": "stem",
         "text": [
          "stem"
         ],
         "type": "scatter",
         "x": [
          0.2744155824184418
         ],
         "y": [
          -0.8856021165847778
         ]
        },
        {
         "line": {
          "color": "DarkSlateGrey",
          "width": 2
         },
         "marker": {
          "color": [
           0.993248,
           0.906157,
           0.143936,
           1
          ],
          "size": 9
         },
         "mode": "markers",
         "name": "school",
         "text": [
          "school"
         ],
         "type": "scatter",
         "x": [
          1.5679876804351807
         ],
         "y": [
          5.717645645141602
         ]
        },
        {
         "line": {
          "color": "DarkSlateGrey",
          "width": 2
         },
         "marker": {
          "color": [
           0.85581,
           0.888601,
           0.097452,
           1
          ],
          "size": 9
         },
         "mode": "markers",
         "name": "contributions",
         "text": [
          "contributions"
         ],
         "type": "scatter",
         "x": [
          5.501456260681152
         ],
         "y": [
          4.390718936920166
         ]
        },
        {
         "line": {
          "color": "DarkSlateGrey",
          "width": 2
         },
         "marker": {
          "color": [
           0.993248,
           0.906157,
           0.143936,
           1
          ],
          "size": 9
         },
         "mode": "markers",
         "name": "means",
         "text": [
          "means"
         ],
         "type": "scatter",
         "x": [
          4.773868560791016
         ],
         "y": [
          5.46173095703125
         ]
        },
        {
         "line": {
          "color": "DarkSlateGrey",
          "width": 2
         },
         "marker": {
          "color": [
           0.281412,
           0.155834,
           0.469201,
           1
          ],
          "size": 9
         },
         "mode": "markers",
         "name": "stem",
         "text": [
          "stem"
         ],
         "type": "scatter",
         "x": [
          0.5278833508491516
         ],
         "y": [
          -0.9321736693382263
         ]
        },
        {
         "line": {
          "color": "DarkSlateGrey",
          "width": 2
         },
         "marker": {
          "color": [
           0.993248,
           0.906157,
           0.143936,
           1
          ],
          "size": 9
         },
         "mode": "markers",
         "name": "property",
         "text": [
          "property"
         ],
         "type": "scatter",
         "x": [
          5.762696743011475
         ],
         "y": [
          5.6150336265563965
         ]
        },
        {
         "line": {
          "color": "DarkSlateGrey",
          "width": 2
         },
         "marker": {
          "color": [
           0.993248,
           0.906157,
           0.143936,
           1
          ],
          "size": 9
         },
         "mode": "markers",
         "name": "contributions",
         "text": [
          "contributions"
         ],
         "type": "scatter",
         "x": [
          4.397583484649658
         ],
         "y": [
          6.458783149719238
         ]
        },
        {
         "line": {
          "color": "DarkSlateGrey",
          "width": 2
         },
         "marker": {
          "color": [
           0.121148,
           0.592739,
           0.544641,
           1
          ],
          "size": 9
         },
         "mode": "markers",
         "name": "and",
         "text": [
          "and"
         ],
         "type": "scatter",
         "x": [
          3.816032648086548
         ],
         "y": [
          7.105899333953857
         ]
        },
        {
         "line": {
          "color": "DarkSlateGrey",
          "width": 2
         },
         "marker": {
          "color": [
           0.281446,
           0.08432,
           0.407414,
           1
          ],
          "size": 9
         },
         "mode": "markers",
         "name": "stem",
         "text": [
          "stem"
         ],
         "type": "scatter",
         "x": [
          3.066754102706909
         ],
         "y": [
          4.2470879554748535
         ]
        },
        {
         "line": {
          "color": "DarkSlateGrey",
          "width": 2
         },
         "marker": {
          "color": [
           0.304148,
           0.764704,
           0.419943,
           1
          ],
          "size": 9
         },
         "mode": "markers",
         "name": "service",
         "text": [
          "service"
         ],
         "type": "scatter",
         "x": [
          5.237850189208984
         ],
         "y": [
          1.9713127613067627
         ]
        },
        {
         "line": {
          "color": "DarkSlateGrey",
          "width": 2
         },
         "marker": {
          "color": [
           0.252899,
           0.742211,
           0.448284,
           1
          ],
          "size": 9
         },
         "mode": "markers",
         "name": "contributions",
         "text": [
          "contributions"
         ],
         "type": "scatter",
         "x": [
          7.459136486053467
         ],
         "y": [
          8.934886932373047
         ]
        },
        {
         "line": {
          "color": "DarkSlateGrey",
          "width": 2
         },
         "marker": {
          "color": [
           0.283229,
           0.120777,
           0.440584,
           1
          ],
          "size": 9
         },
         "mode": "markers",
         "name": "stem",
         "text": [
          "stem"
         ],
         "type": "scatter",
         "x": [
          8.506624221801758
         ],
         "y": [
          8.170605659484863
         ]
        },
        {
         "line": {
          "color": "DarkSlateGrey",
          "width": 2
         },
         "marker": {
          "color": [
           0.993248,
           0.906157,
           0.143936,
           1
          ],
          "size": 9
         },
         "mode": "markers",
         "name": "property",
         "text": [
          "property"
         ],
         "type": "scatter",
         "x": [
          4.6520609855651855
         ],
         "y": [
          6.00059700012207
         ]
        },
        {
         "line": {
          "color": "DarkSlateGrey",
          "width": 2
         },
         "marker": {
          "color": [
           0.993248,
           0.906157,
           0.143936,
           1
          ],
          "size": 9
         },
         "mode": "markers",
         "name": "contributions",
         "text": [
          "contributions"
         ],
         "type": "scatter",
         "x": [
          3.7936224937438965
         ],
         "y": [
          3.011904716491699
         ]
        },
        {
         "line": {
          "color": "DarkSlateGrey",
          "width": 2
         },
         "marker": {
          "color": [
           0.229739,
           0.322361,
           0.545706,
           1
          ],
          "size": 9
         },
         "mode": "markers",
         "name": "the",
         "text": [
          "the"
         ],
         "type": "scatter",
         "x": [
          6.507396221160889
         ],
         "y": [
          -0.9246606826782227
         ]
        },
        {
         "line": {
          "color": "DarkSlateGrey",
          "width": 2
         },
         "marker": {
          "color": [
           0.993248,
           0.906157,
           0.143936,
           1
          ],
          "size": 9
         },
         "mode": "markers",
         "name": "term",
         "text": [
          "term"
         ],
         "type": "scatter",
         "x": [
          0.8746768236160278
         ],
         "y": [
          6.46497917175293
         ]
        },
        {
         "line": {
          "color": "DarkSlateGrey",
          "width": 2
         },
         "marker": {
          "color": [
           0.783315,
           0.879285,
           0.125405,
           1
          ],
          "size": 9
         },
         "mode": "markers",
         "name": "stem",
         "text": [
          "stem"
         ],
         "type": "scatter",
         "x": [
          7.565434455871582
         ],
         "y": [
          5.156208038330078
         ]
        },
        {
         "line": {
          "color": "DarkSlateGrey",
          "width": 2
         },
         "marker": {
          "color": [
           0.244972,
           0.287675,
           0.53726,
           1
          ],
          "size": 9
         },
         "mode": "markers",
         "name": "property",
         "text": [
          "property"
         ],
         "type": "scatter",
         "x": [
          13.964344024658203
         ],
         "y": [
          1.6482725143432617
         ]
        },
        {
         "line": {
          "color": "DarkSlateGrey",
          "width": 2
         },
         "marker": {
          "color": [
           0.229739,
           0.322361,
           0.545706,
           1
          ],
          "size": 9
         },
         "mode": "markers",
         "name": "contributions",
         "text": [
          "contributions"
         ],
         "type": "scatter",
         "x": [
          6.620792388916016
         ],
         "y": [
          -0.836333155632019
         ]
        },
        {
         "line": {
          "color": "DarkSlateGrey",
          "width": 2
         },
         "marker": {
          "color": [
           0.119699,
           0.61849,
           0.536347,
           1
          ],
          "size": 9
         },
         "mode": "markers",
         "name": "means",
         "text": [
          "means"
         ],
         "type": "scatter",
         "x": [
          -0.8939693570137024
         ],
         "y": [
          5.800876617431641
         ]
        },
        {
         "line": {
          "color": "DarkSlateGrey",
          "width": 2
         },
         "marker": {
          "color": [
           0.257322,
           0.25613,
           0.526563,
           1
          ],
          "size": 9
         },
         "mode": "markers",
         "name": "the",
         "text": [
          "the"
         ],
         "type": "scatter",
         "x": [
          13.201001167297363
         ],
         "y": [
          2.3016676902770996
         ]
        },
        {
         "line": {
          "color": "DarkSlateGrey",
          "width": 2
         },
         "marker": {
          "color": [
           0.709898,
           0.868751,
           0.169257,
           1
          ],
          "size": 9
         },
         "mode": "markers",
         "name": "amount",
         "text": [
          "amount"
         ],
         "type": "scatter",
         "x": [
          5.858250617980957
         ],
         "y": [
          5.227821350097656
         ]
        },
        {
         "line": {
          "color": "DarkSlateGrey",
          "width": 2
         },
         "marker": {
          "color": [
           0.121148,
           0.592739,
           0.544641,
           1
          ],
          "size": 9
         },
         "mode": "markers",
         "name": "which",
         "text": [
          "which"
         ],
         "type": "scatter",
         "x": [
          3.704892873764038
         ],
         "y": [
          7.231729984283447
         ]
        },
        {
         "line": {
          "color": "DarkSlateGrey",
          "width": 2
         },
         "marker": {
          "color": [
           0.121148,
           0.592739,
           0.544641,
           1
          ],
          "size": 9
         },
         "mode": "markers",
         "name": "would",
         "text": [
          "would"
         ],
         "type": "scatter",
         "x": [
          3.2849762439727783
         ],
         "y": [
          6.9363112449646
         ]
        },
        {
         "line": {
          "color": "DarkSlateGrey",
          "width": 2
         },
         "marker": {
          "color": [
           0.993248,
           0.906157,
           0.143936,
           1
          ],
          "size": 9
         },
         "mode": "markers",
         "name": "but",
         "text": [
          "but"
         ],
         "type": "scatter",
         "x": [
          3.2709827423095703
         ],
         "y": [
          5.496591567993164
         ]
        },
        {
         "line": {
          "color": "DarkSlateGrey",
          "width": 2
         },
         "marker": {
          "color": [
           0.993248,
           0.906157,
           0.143936,
           1
          ],
          "size": 9
         },
         "mode": "markers",
         "name": "for",
         "text": [
          "for"
         ],
         "type": "scatter",
         "x": [
          5.79742431640625
         ],
         "y": [
          4.888070583343506
         ]
        },
        {
         "line": {
          "color": "DarkSlateGrey",
          "width": 2
         },
         "marker": {
          "color": [
           0.993248,
           0.906157,
           0.143936,
           1
          ],
          "size": 9
         },
         "mode": "markers",
         "name": "sub",
         "text": [
          "sub"
         ],
         "type": "scatter",
         "x": [
          4.885361671447754
         ],
         "y": [
          7.418032169342041
         ]
        },
        {
         "line": {
          "color": "DarkSlateGrey",
          "width": 2
         },
         "marker": {
          "color": [
           0.993248,
           0.906157,
           0.143936,
           1
          ],
          "size": 9
         },
         "mode": "markers",
         "name": "##section",
         "text": [
          "##section"
         ],
         "type": "scatter",
         "x": [
          5.0680012702941895
         ],
         "y": [
          7.083388328552246
         ]
        },
        {
         "line": {
          "color": "DarkSlateGrey",
          "width": 2
         },
         "marker": {
          "color": [
           0.85581,
           0.888601,
           0.097452,
           1
          ],
          "size": 9
         },
         "mode": "markers",
         "name": "allowed",
         "text": [
          "allowed"
         ],
         "type": "scatter",
         "x": [
          6.315954208374023
         ],
         "y": [
          4.025915622711182
         ]
        },
        {
         "line": {
          "color": "DarkSlateGrey",
          "width": 2
         },
         "marker": {
          "color": [
           0.993248,
           0.906157,
           0.143936,
           1
          ],
          "size": 9
         },
         "mode": "markers",
         "name": "##duction",
         "text": [
          "##duction"
         ],
         "type": "scatter",
         "x": [
          6.435580253601074
         ],
         "y": [
          1.7754098176956177
         ]
        },
        {
         "line": {
          "color": "DarkSlateGrey",
          "width": 2
         },
         "marker": {
          "color": [
           0.993248,
           0.906157,
           0.143936,
           1
          ],
          "size": 9
         },
         "mode": "markers",
         "name": "under",
         "text": [
          "under"
         ],
         "type": "scatter",
         "x": [
          2.035733938217163
         ],
         "y": [
          9.275458335876465
         ]
        },
        {
         "line": {
          "color": "DarkSlateGrey",
          "width": 2
         },
         "marker": {
          "color": [
           0.993248,
           0.906157,
           0.143936,
           1
          ],
          "size": 9
         },
         "mode": "markers",
         "name": "section",
         "text": [
          "section"
         ],
         "type": "scatter",
         "x": [
          2.2848126888275146
         ],
         "y": [
          8.879939079284668
         ]
        },
        {
         "line": {
          "color": "DarkSlateGrey",
          "width": 2
         },
         "marker": {
          "color": [
           0.496615,
           0.826376,
           0.306377,
           1
          ],
          "size": 9
         },
         "mode": "markers",
         "name": "170",
         "text": [
          "170"
         ],
         "type": "scatter",
         "x": [
          0.22647258639335632
         ],
         "y": [
          9.190425872802734
         ]
        },
        {
         "line": {
          "color": "DarkSlateGrey",
          "width": 2
         },
         "marker": {
          "color": [
           0.993248,
           0.906157,
           0.143936,
           1
          ],
          "size": 9
         },
         "mode": "markers",
         "name": "for",
         "text": [
          "for"
         ],
         "type": "scatter",
         "x": [
          0.7804285883903503
         ],
         "y": [
          7.789206504821777
         ]
        },
        {
         "line": {
          "color": "DarkSlateGrey",
          "width": 2
         },
         "marker": {
          "color": [
           0.926106,
           0.89733,
           0.104071,
           1
          ],
          "size": 9
         },
         "mode": "markers",
         "name": "charitable",
         "text": [
          "charitable"
         ],
         "type": "scatter",
         "x": [
          6.180896759033203
         ],
         "y": [
          6.198681354522705
         ]
        },
        {
         "line": {
          "color": "DarkSlateGrey",
          "width": 2
         },
         "marker": {
          "color": [
           0.993248,
           0.906157,
           0.143936,
           1
          ],
          "size": 9
         },
         "mode": "markers",
         "name": "contribution",
         "text": [
          "contribution"
         ],
         "type": "scatter",
         "x": [
          2.459658622741699
         ],
         "y": [
          7.102132797241211
         ]
        },
        {
         "line": {
          "color": "DarkSlateGrey",
          "width": 2
         },
         "marker": {
          "color": [
           0.993248,
           0.906157,
           0.143936,
           1
          ],
          "size": 9
         },
         "mode": "markers",
         "name": "stem",
         "text": [
          "stem"
         ],
         "type": "scatter",
         "x": [
          0.49293527007102966
         ],
         "y": [
          9.612458229064941
         ]
        },
        {
         "line": {
          "color": "DarkSlateGrey",
          "width": 2
         },
         "marker": {
          "color": [
           0.430983,
           0.808473,
           0.346476,
           1
          ],
          "size": 9
         },
         "mode": "markers",
         "name": "inventory",
         "text": [
          "inventory"
         ],
         "type": "scatter",
         "x": [
          -2.270573139190674
         ],
         "y": [
          9.801268577575684
         ]
        },
        {
         "line": {
          "color": "DarkSlateGrey",
          "width": 2
         },
         "marker": {
          "color": [
           0.430983,
           0.808473,
           0.346476,
           1
          ],
          "size": 9
         },
         "mode": "markers",
         "name": "property",
         "text": [
          "property"
         ],
         "type": "scatter",
         "x": [
          -2.1540043354034424
         ],
         "y": [
          9.664432525634766
         ]
        },
        {
         "line": {
          "color": "DarkSlateGrey",
          "width": 2
         },
         "marker": {
          "color": [
           0.993248,
           0.906157,
           0.143936,
           1
          ],
          "size": 9
         },
         "mode": "markers",
         "name": "the",
         "text": [
          "the"
         ],
         "type": "scatter",
         "x": [
          2.442239284515381
         ],
         "y": [
          6.324892044067383
         ]
        },
        {
         "line": {
          "color": "DarkSlateGrey",
          "width": 2
         },
         "marker": {
          "color": [
           0.993248,
           0.906157,
           0.143936,
           1
          ],
          "size": 9
         },
         "mode": "markers",
         "name": "done",
         "text": [
          "done"
         ],
         "type": "scatter",
         "x": [
          6.28167200088501
         ],
         "y": [
          4.918644428253174
         ]
        },
        {
         "line": {
          "color": "DarkSlateGrey",
          "width": 2
         },
         "marker": {
          "color": [
           0.13777,
           0.537492,
           0.554906,
           1
          ],
          "size": 9
         },
         "mode": "markers",
         "name": "##e",
         "text": [
          "##e"
         ],
         "type": "scatter",
         "x": [
          1.5665431022644043
         ],
         "y": [
          6.489809036254883
         ]
        },
        {
         "line": {
          "color": "DarkSlateGrey",
          "width": 2
         },
         "marker": {
          "color": [
           0.170948,
           0.694384,
           0.493803,
           1
          ],
          "size": 9
         },
         "mode": "markers",
         "name": "elementary",
         "text": [
          "elementary"
         ],
         "type": "scatter",
         "x": [
          3.471078634262085
         ],
         "y": [
          1.2792171239852905
         ]
        },
        {
         "line": {
          "color": "DarkSlateGrey",
          "width": 2
         },
         "marker": {
          "color": [
           0.13777,
           0.537492,
           0.554906,
           1
          ],
          "size": 9
         },
         "mode": "markers",
         "name": "secondary",
         "text": [
          "secondary"
         ],
         "type": "scatter",
         "x": [
          1.6385091543197632
         ],
         "y": [
          6.580400466918945
         ]
        },
        {
         "line": {
          "color": "DarkSlateGrey",
          "width": 2
         },
         "marker": {
          "color": [
           0.993248,
           0.906157,
           0.143936,
           1
          ],
          "size": 9
         },
         "mode": "markers",
         "name": "school",
         "text": [
          "school"
         ],
         "type": "scatter",
         "x": [
          1.9972153902053833
         ],
         "y": [
          6.445131778717041
         ]
        },
        {
         "line": {
          "color": "DarkSlateGrey",
          "width": 2
         },
         "marker": {
          "color": [
           0.276194,
           0.190074,
           0.493001,
           1
          ],
          "size": 9
         },
         "mode": "markers",
         "name": "described",
         "text": [
          "described"
         ],
         "type": "scatter",
         "x": [
          0.8156890273094177
         ],
         "y": [
          -0.9558008313179016
         ]
        },
        {
         "line": {
          "color": "DarkSlateGrey",
          "width": 2
         },
         "marker": {
          "color": [
           0.993248,
           0.906157,
           0.143936,
           1
          ],
          "size": 9
         },
         "mode": "markers",
         "name": "section",
         "text": [
          "section"
         ],
         "type": "scatter",
         "x": [
          4.105111598968506
         ],
         "y": [
          6.4636712074279785
         ]
        },
        {
         "line": {
          "color": "DarkSlateGrey",
          "width": 2
         },
         "marker": {
          "color": [
           0.993248,
           0.906157,
           0.143936,
           1
          ],
          "size": 9
         },
         "mode": "markers",
         "name": "170",
         "text": [
          "170"
         ],
         "type": "scatter",
         "x": [
          2.923948287963867
         ],
         "y": [
          5.516941070556641
         ]
        },
        {
         "line": {
          "color": "DarkSlateGrey",
          "width": 2
         },
         "marker": {
          "color": [
           0.127568,
           0.566949,
           0.550556,
           1
          ],
          "size": 9
         },
         "mode": "markers",
         "name": "substantially",
         "text": [
          "substantially"
         ],
         "type": "scatter",
         "x": [
          1.2601680755615234
         ],
         "y": [
          5.017883777618408
         ]
        },
        {
         "line": {
          "color": "DarkSlateGrey",
          "width": 2
         },
         "marker": {
          "color": [
           0.157729,
           0.485932,
           0.558013,
           1
          ],
          "size": 9
         },
         "mode": "markers",
         "name": "all",
         "text": [
          "all"
         ],
         "type": "scatter",
         "x": [
          4.447901248931885
         ],
         "y": [
          3.9155561923980713
         ]
        },
        {
         "line": {
          "color": "DarkSlateGrey",
          "width": 2
         },
         "marker": {
          "color": [
           0.993248,
           0.906157,
           0.143936,
           1
          ],
          "size": 9
         },
         "mode": "markers",
         "name": "the",
         "text": [
          "the"
         ],
         "type": "scatter",
         "x": [
          7.687904357910156
         ],
         "y": [
          8.77801513671875
         ]
        },
        {
         "line": {
          "color": "DarkSlateGrey",
          "width": 2
         },
         "marker": {
          "color": [
           0.252899,
           0.742211,
           0.448284,
           1
          ],
          "size": 9
         },
         "mode": "markers",
         "name": "use",
         "text": [
          "use"
         ],
         "type": "scatter",
         "x": [
          7.881974220275879
         ],
         "y": [
          8.553287506103516
         ]
        },
        {
         "line": {
          "color": "DarkSlateGrey",
          "width": 2
         },
         "marker": {
          "color": [
           0.993248,
           0.906157,
           0.143936,
           1
          ],
          "size": 9
         },
         "mode": "markers",
         "name": "the",
         "text": [
          "the"
         ],
         "type": "scatter",
         "x": [
          8.272799491882324
         ],
         "y": [
          8.126838684082031
         ]
        },
        {
         "line": {
          "color": "DarkSlateGrey",
          "width": 2
         },
         "marker": {
          "color": [
           0.993248,
           0.906157,
           0.143936,
           1
          ],
          "size": 9
         },
         "mode": "markers",
         "name": "property",
         "text": [
          "property"
         ],
         "type": "scatter",
         "x": [
          2.9202775955200195
         ],
         "y": [
          4.6624627113342285
         ]
        },
        {
         "line": {
          "color": "DarkSlateGrey",
          "width": 2
         },
         "marker": {
          "color": [
           0.565498,
           0.84243,
           0.262877,
           1
          ],
          "size": 9
         },
         "mode": "markers",
         "name": "the",
         "text": [
          "the"
         ],
         "type": "scatter",
         "x": [
          1.8123530149459839
         ],
         "y": [
          8.663921356201172
         ]
        },
        {
         "line": {
          "color": "DarkSlateGrey",
          "width": 2
         },
         "marker": {
          "color": [
           0.126326,
           0.644107,
           0.525311,
           1
          ],
          "size": 9
         },
         "mode": "markers",
         "name": "done",
         "text": [
          "done"
         ],
         "type": "scatter",
         "x": [
          -0.12348156422376633
         ],
         "y": [
          6.127852439880371
         ]
        },
        {
         "line": {
          "color": "DarkSlateGrey",
          "width": 2
         },
         "marker": {
          "color": [
           0.257322,
           0.25613,
           0.526563,
           1
          ],
          "size": 9
         },
         "mode": "markers",
         "name": "##e",
         "text": [
          "##e"
         ],
         "type": "scatter",
         "x": [
          13.201786041259766
         ],
         "y": [
          2.303382635116577
         ]
        },
        {
         "line": {
          "color": "DarkSlateGrey",
          "width": 2
         },
         "marker": {
          "color": [
           0.121148,
           0.592739,
           0.544641,
           1
          ],
          "size": 9
         },
         "mode": "markers",
         "name": "within",
         "text": [
          "within"
         ],
         "type": "scatter",
         "x": [
          3.6874306201934814
         ],
         "y": [
          7.215662956237793
         ]
        },
        {
         "line": {
          "color": "DarkSlateGrey",
          "width": 2
         },
         "marker": {
          "color": [
           0.121148,
           0.592739,
           0.544641,
           1
          ],
          "size": 9
         },
         "mode": "markers",
         "name": "the",
         "text": [
          "the"
         ],
         "type": "scatter",
         "x": [
          3.376499652862549
         ],
         "y": [
          6.93110466003418
         ]
        },
        {
         "line": {
          "color": "DarkSlateGrey",
          "width": 2
         },
         "marker": {
          "color": [
           0.993248,
           0.906157,
           0.143936,
           1
          ],
          "size": 9
         },
         "mode": "markers",
         "name": "united",
         "text": [
          "united"
         ],
         "type": "scatter",
         "x": [
          3.339543342590332
         ],
         "y": [
          6.898705005645752
         ]
        },
        {
         "line": {
          "color": "DarkSlateGrey",
          "width": 2
         },
         "marker": {
          "color": [
           0.993248,
           0.906157,
           0.143936,
           1
          ],
          "size": 9
         },
         "mode": "markers",
         "name": "states",
         "text": [
          "states"
         ],
         "type": "scatter",
         "x": [
          2.3743326663970947
         ],
         "y": [
          6.310610771179199
         ]
        },
        {
         "line": {
          "color": "DarkSlateGrey",
          "width": 2
         },
         "marker": {
          "color": [
           0.229739,
           0.322361,
           0.545706,
           1
          ],
          "size": 9
         },
         "mode": "markers",
         "name": "within",
         "text": [
          "within"
         ],
         "type": "scatter",
         "x": [
          6.5135297775268555
         ],
         "y": [
          -0.5589160919189453
         ]
        },
        {
         "line": {
          "color": "DarkSlateGrey",
          "width": 2
         },
         "marker": {
          "color": [
           0.565498,
           0.84243,
           0.262877,
           1
          ],
          "size": 9
         },
         "mode": "markers",
         "name": "the",
         "text": [
          "the"
         ],
         "type": "scatter",
         "x": [
          1.8387590646743774
         ],
         "y": [
          9.006653785705566
         ]
        },
        {
         "line": {
          "color": "DarkSlateGrey",
          "width": 2
         },
         "marker": {
          "color": [
           0.565498,
           0.84243,
           0.262877,
           1
          ],
          "size": 9
         },
         "mode": "markers",
         "name": "defense",
         "text": [
          "defense"
         ],
         "type": "scatter",
         "x": [
          1.8935545682907104
         ],
         "y": [
          8.65123462677002
         ]
        },
        {
         "line": {
          "color": "DarkSlateGrey",
          "width": 2
         },
         "marker": {
          "color": [
           0.369214,
           0.788888,
           0.382914,
           1
          ],
          "size": 9
         },
         "mode": "markers",
         "name": "dependent",
         "text": [
          "dependent"
         ],
         "type": "scatter",
         "x": [
          0.9608014822006226
         ],
         "y": [
          7.594943523406982
         ]
        },
        {
         "line": {
          "color": "DarkSlateGrey",
          "width": 2
         },
         "marker": {
          "color": [
           0.85581,
           0.888601,
           0.097452,
           1
          ],
          "size": 9
         },
         "mode": "markers",
         "name": "##s",
         "text": [
          "##s"
         ],
         "type": "scatter",
         "x": [
          5.648032188415527
         ],
         "y": [
          4.547900676727295
         ]
        },
        {
         "line": {
          "color": "DarkSlateGrey",
          "width": 2
         },
         "marker": {
          "color": [
           0.993248,
           0.906157,
           0.143936,
           1
          ],
          "size": 9
         },
         "mode": "markers",
         "name": "education",
         "text": [
          "education"
         ],
         "type": "scatter",
         "x": [
          5.39898157119751
         ],
         "y": [
          5.658952236175537
         ]
        },
        {
         "line": {
          "color": "DarkSlateGrey",
          "width": 2
         },
         "marker": {
          "color": [
           0.993248,
           0.906157,
           0.143936,
           1
          ],
          "size": 9
         },
         "mode": "markers",
         "name": "system",
         "text": [
          "system"
         ],
         "type": "scatter",
         "x": [
          5.272090435028076
         ],
         "y": [
          5.510622978210449
         ]
        },
        {
         "line": {
          "color": "DarkSlateGrey",
          "width": 2
         },
         "marker": {
          "color": [
           0.926106,
           0.89733,
           0.104071,
           1
          ],
          "size": 9
         },
         "mode": "markers",
         "name": "for",
         "text": [
          "for"
         ],
         "type": "scatter",
         "x": [
          6.229221820831299
         ],
         "y": [
          6.062770843505859
         ]
        },
        {
         "line": {
          "color": "DarkSlateGrey",
          "width": 2
         },
         "marker": {
          "color": [
           0.993248,
           0.906157,
           0.143936,
           1
          ],
          "size": 9
         },
         "mode": "markers",
         "name": "educational",
         "text": [
          "educational"
         ],
         "type": "scatter",
         "x": [
          4.997967720031738
         ],
         "y": [
          5.006439685821533
         ]
        },
        {
         "line": {
          "color": "DarkSlateGrey",
          "width": 2
         },
         "marker": {
          "color": [
           0.993248,
           0.906157,
           0.143936,
           1
          ],
          "size": 9
         },
         "mode": "markers",
         "name": "purposes",
         "text": [
          "purposes"
         ],
         "type": "scatter",
         "x": [
          4.8611931800842285
         ],
         "y": [
          4.584781169891357
         ]
        },
        {
         "line": {
          "color": "DarkSlateGrey",
          "width": 2
         },
         "marker": {
          "color": [
           0.121148,
           0.592739,
           0.544641,
           1
          ],
          "size": 9
         },
         "mode": "markers",
         "name": "any",
         "text": [
          "any"
         ],
         "type": "scatter",
         "x": [
          3.6630938053131104
         ],
         "y": [
          7.1218085289001465
         ]
        },
        {
         "line": {
          "color": "DarkSlateGrey",
          "width": 2
         },
         "marker": {
          "color": [
           0.993248,
           0.906157,
           0.143936,
           1
          ],
          "size": 9
         },
         "mode": "markers",
         "name": "the",
         "text": [
          "the"
         ],
         "type": "scatter",
         "x": [
          3.9070823192596436
         ],
         "y": [
          4.644468307495117
         ]
        },
        {
         "line": {
          "color": "DarkSlateGrey",
          "width": 2
         },
         "marker": {
          "color": [
           0.993248,
           0.906157,
           0.143936,
           1
          ],
          "size": 9
         },
         "mode": "markers",
         "name": "grades",
         "text": [
          "grades"
         ],
         "type": "scatter",
         "x": [
          3.9124197959899902
         ],
         "y": [
          4.718499660491943
         ]
        },
        {
         "line": {
          "color": "DarkSlateGrey",
          "width": 2
         },
         "marker": {
          "color": [
           0.369214,
           0.788888,
           0.382914,
           1
          ],
          "size": 9
         },
         "mode": "markers",
         "name": "that",
         "text": [
          "that"
         ],
         "type": "scatter",
         "x": [
          1.0124903917312622
         ],
         "y": [
          7.572206497192383
         ]
        },
        {
         "line": {
          "color": "DarkSlateGrey",
          "width": 2
         },
         "marker": {
          "color": [
           0.709898,
           0.868751,
           0.169257,
           1
          ],
          "size": 9
         },
         "mode": "markers",
         "name": "are",
         "text": [
          "are"
         ],
         "type": "scatter",
         "x": [
          3.805063009262085
         ],
         "y": [
          2.905242443084717
         ]
        },
        {
         "line": {
          "color": "DarkSlateGrey",
          "width": 2
         },
         "marker": {
          "color": [
           0.993248,
           0.906157,
           0.143936,
           1
          ],
          "size": 9
         },
         "mode": "markers",
         "name": "related",
         "text": [
          "related"
         ],
         "type": "scatter",
         "x": [
          5.864764213562012
         ],
         "y": [
          0.3538352847099304
         ]
        },
        {
         "line": {
          "color": "DarkSlateGrey",
          "width": 2
         },
         "marker": {
          "color": [
           0.496615,
           0.826376,
           0.306377,
           1
          ],
          "size": 9
         },
         "mode": "markers",
         "name": "the",
         "text": [
          "the"
         ],
         "type": "scatter",
         "x": [
          0.9959940910339355
         ],
         "y": [
          10.322264671325684
         ]
        },
        {
         "line": {
          "color": "DarkSlateGrey",
          "width": 2
         },
         "marker": {
          "color": [
           0.993248,
           0.906157,
           0.143936,
           1
          ],
          "size": 9
         },
         "mode": "markers",
         "name": "purpose",
         "text": [
          "purpose"
         ],
         "type": "scatter",
         "x": [
          3.667447566986084
         ],
         "y": [
          5.329159736633301
         ]
        },
        {
         "line": {
          "color": "DarkSlateGrey",
          "width": 2
         },
         "marker": {
          "color": [
           0.121148,
           0.592739,
           0.544641,
           1
          ],
          "size": 9
         },
         "mode": "markers",
         "name": "function",
         "text": [
          "function"
         ],
         "type": "scatter",
         "x": [
          3.482107400894165
         ],
         "y": [
          6.943580150604248
         ]
        },
        {
         "line": {
          "color": "DarkSlateGrey",
          "width": 2
         },
         "marker": {
          "color": [
           0.496615,
           0.826376,
           0.306377,
           1
          ],
          "size": 9
         },
         "mode": "markers",
         "name": "the",
         "text": [
          "the"
         ],
         "type": "scatter",
         "x": [
          0.9541764855384827
         ],
         "y": [
          10.25240421295166
         ]
        },
        {
         "line": {
          "color": "DarkSlateGrey",
          "width": 2
         },
         "marker": {
          "color": [
           0.993248,
           0.906157,
           0.143936,
           1
          ],
          "size": 9
         },
         "mode": "markers",
         "name": "done",
         "text": [
          "done"
         ],
         "type": "scatter",
         "x": [
          4.460936069488525
         ],
         "y": [
          7.165797233581543
         ]
        },
        {
         "line": {
          "color": "DarkSlateGrey",
          "width": 2
         },
         "marker": {
          "color": [
           0.993248,
           0.906157,
           0.143936,
           1
          ],
          "size": 9
         },
         "mode": "markers",
         "name": "##e",
         "text": [
          "##e"
         ],
         "type": "scatter",
         "x": [
          4.014392375946045
         ],
         "y": [
          7.074646472930908
         ]
        },
        {
         "line": {
          "color": "DarkSlateGrey",
          "width": 2
         },
         "marker": {
          "color": [
           0.565498,
           0.84243,
           0.262877,
           1
          ],
          "size": 9
         },
         "mode": "markers",
         "name": "the",
         "text": [
          "the"
         ],
         "type": "scatter",
         "x": [
          1.8546384572982788
         ],
         "y": [
          8.71407413482666
         ]
        },
        {
         "line": {
          "color": "DarkSlateGrey",
          "width": 2
         },
         "marker": {
          "color": [
           0.369214,
           0.788888,
           0.382914,
           1
          ],
          "size": 9
         },
         "mode": "markers",
         "name": "original",
         "text": [
          "original"
         ],
         "type": "scatter",
         "x": [
          0.95926833152771
         ],
         "y": [
          7.621214389801025
         ]
        },
        {
         "line": {
          "color": "DarkSlateGrey",
          "width": 2
         },
         "marker": {
          "color": [
           0.783315,
           0.879285,
           0.125405,
           1
          ],
          "size": 9
         },
         "mode": "markers",
         "name": "use",
         "text": [
          "use"
         ],
         "type": "scatter",
         "x": [
          7.604823589324951
         ],
         "y": [
          5.1387481689453125
         ]
        },
        {
         "line": {
          "color": "DarkSlateGrey",
          "width": 2
         },
         "marker": {
          "color": [
           0.229739,
           0.322361,
           0.545706,
           1
          ],
          "size": 9
         },
         "mode": "markers",
         "name": "the",
         "text": [
          "the"
         ],
         "type": "scatter",
         "x": [
          6.486130237579346
         ],
         "y": [
          -0.6118558049201965
         ]
        },
        {
         "line": {
          "color": "DarkSlateGrey",
          "width": 2
         },
         "marker": {
          "color": [
           0.993248,
           0.906157,
           0.143936,
           1
          ],
          "size": 9
         },
         "mode": "markers",
         "name": "property",
         "text": [
          "property"
         ],
         "type": "scatter",
         "x": [
          1.8349506855010986
         ],
         "y": [
          8.950506210327148
         ]
        },
        {
         "line": {
          "color": "DarkSlateGrey",
          "width": 2
         },
         "marker": {
          "color": [
           0.993248,
           0.906157,
           0.143936,
           1
          ],
          "size": 9
         },
         "mode": "markers",
         "name": "begins",
         "text": [
          "begins"
         ],
         "type": "scatter",
         "x": [
          1.8291692733764648
         ],
         "y": [
          8.701903343200684
         ]
        },
        {
         "line": {
          "color": "DarkSlateGrey",
          "width": 2
         },
         "marker": {
          "color": [
           0.369214,
           0.788888,
           0.382914,
           1
          ],
          "size": 9
         },
         "mode": "markers",
         "name": "with",
         "text": [
          "with"
         ],
         "type": "scatter",
         "x": [
          0.9745257496833801
         ],
         "y": [
          7.599470138549805
         ]
        },
        {
         "line": {
          "color": "DarkSlateGrey",
          "width": 2
         },
         "marker": {
          "color": [
           0.257322,
           0.25613,
           0.526563,
           1
          ],
          "size": 9
         },
         "mode": "markers",
         "name": "the",
         "text": [
          "the"
         ],
         "type": "scatter",
         "x": [
          13.19605827331543
         ],
         "y": [
          2.3090169429779053
         ]
        },
        {
         "line": {
          "color": "DarkSlateGrey",
          "width": 2
         },
         "marker": {
          "color": [
           0.709898,
           0.868751,
           0.169257,
           1
          ],
          "size": 9
         },
         "mode": "markers",
         "name": "done",
         "text": [
          "done"
         ],
         "type": "scatter",
         "x": [
          3.874485969543457
         ],
         "y": [
          3.00946307182312
         ]
        },
        {
         "line": {
          "color": "DarkSlateGrey",
          "width": 2
         },
         "marker": {
          "color": [
           0.369214,
           0.788888,
           0.382914,
           1
          ],
          "size": 9
         },
         "mode": "markers",
         "name": "##e",
         "text": [
          "##e"
         ],
         "type": "scatter",
         "x": [
          0.993385374546051
         ],
         "y": [
          7.582651138305664
         ]
        },
        {
         "line": {
          "color": "DarkSlateGrey",
          "width": 2
         },
         "marker": {
          "color": [
           0.267968,
           0.223549,
           0.512008,
           1
          ],
          "size": 9
         },
         "mode": "markers",
         "name": "the",
         "text": [
          "the"
         ],
         "type": "scatter",
         "x": [
          -1.0118016004562378
         ],
         "y": [
          8.523285865783691
         ]
        },
        {
         "line": {
          "color": "DarkSlateGrey",
          "width": 2
         },
         "marker": {
          "color": [
           0.190631,
           0.407061,
           0.556089,
           1
          ],
          "size": 9
         },
         "mode": "markers",
         "name": "property",
         "text": [
          "property"
         ],
         "type": "scatter",
         "x": [
          15.68722915649414
         ],
         "y": [
          11.690289497375488
         ]
        },
        {
         "line": {
          "color": "DarkSlateGrey",
          "width": 2
         },
         "marker": {
          "color": [
           0.179019,
           0.433756,
           0.55743,
           1
          ],
          "size": 9
         },
         "mode": "markers",
         "name": "will",
         "text": [
          "will"
         ],
         "type": "scatter",
         "x": [
          20.534011840820312
         ],
         "y": [
          7.621956825256348
         ]
        },
        {
         "line": {
          "color": "DarkSlateGrey",
          "width": 2
         },
         "marker": {
          "color": [
           0.203063,
           0.379716,
           0.553925,
           1
          ],
          "size": 9
         },
         "mode": "markers",
         "name": "fit",
         "text": [
          "fit"
         ],
         "type": "scatter",
         "x": [
          6.317190647125244
         ],
         "y": [
          -10.936583518981934
         ]
        },
        {
         "line": {
          "color": "DarkSlateGrey",
          "width": 2
         },
         "marker": {
          "color": [
           0.21621,
           0.351535,
           0.550627,
           1
          ],
          "size": 9
         },
         "mode": "markers",
         "name": "productive",
         "text": [
          "productive"
         ],
         "type": "scatter",
         "x": [
          18.460899353027344
         ],
         "y": [
          11.0816068649292
         ]
        },
        {
         "line": {
          "color": "DarkSlateGrey",
          "width": 2
         },
         "marker": {
          "color": [
           0.276194,
           0.190074,
           0.493001,
           1
          ],
          "size": 9
         },
         "mode": "markers",
         "name": "##ly",
         "text": [
          "##ly"
         ],
         "type": "scatter",
         "x": [
          0.8079038858413696
         ],
         "y": [
          -0.9684348106384277
         ]
        },
        {
         "line": {
          "color": "DarkSlateGrey",
          "width": 2
         },
         "marker": {
          "color": [
           0.993248,
           0.906157,
           0.143936,
           1
          ],
          "size": 9
         },
         "mode": "markers",
         "name": "into",
         "text": [
          "into"
         ],
         "type": "scatter",
         "x": [
          6.026993751525879
         ],
         "y": [
          7.094316482543945
         ]
        },
        {
         "line": {
          "color": "DarkSlateGrey",
          "width": 2
         },
         "marker": {
          "color": [
           0.993248,
           0.906157,
           0.143936,
           1
          ],
          "size": 9
         },
         "mode": "markers",
         "name": "the",
         "text": [
          "the"
         ],
         "type": "scatter",
         "x": [
          4.417778015136719
         ],
         "y": [
          3.9645562171936035
         ]
        },
        {
         "line": {
          "color": "DarkSlateGrey",
          "width": 2
         },
         "marker": {
          "color": [
           0.993248,
           0.906157,
           0.143936,
           1
          ],
          "size": 9
         },
         "mode": "markers",
         "name": "done",
         "text": [
          "done"
         ],
         "type": "scatter",
         "x": [
          5.870701789855957
         ],
         "y": [
          0.3321331739425659
         ]
        },
        {
         "line": {
          "color": "DarkSlateGrey",
          "width": 2
         },
         "marker": {
          "color": [
           0.229739,
           0.322361,
           0.545706,
           1
          ],
          "size": 9
         },
         "mode": "markers",
         "name": "##e",
         "text": [
          "##e"
         ],
         "type": "scatter",
         "x": [
          6.300015449523926
         ],
         "y": [
          -0.5691339373588562
         ]
        },
        {
         "line": {
          "color": "DarkSlateGrey",
          "width": 2
         },
         "marker": {
          "color": [
           0.993248,
           0.906157,
           0.143936,
           1
          ],
          "size": 9
         },
         "mode": "markers",
         "name": "education",
         "text": [
          "education"
         ],
         "type": "scatter",
         "x": [
          1.3950685262680054
         ],
         "y": [
          8.423337936401367
         ]
        },
        {
         "line": {
          "color": "DarkSlateGrey",
          "width": 2
         },
         "marker": {
          "color": [
           0.993248,
           0.906157,
           0.143936,
           1
          ],
          "size": 9
         },
         "mode": "markers",
         "name": "plan",
         "text": [
          "plan"
         ],
         "type": "scatter",
         "x": [
          1.9354716539382935
         ],
         "y": [
          7.767726421356201
         ]
        },
        {
         "line": {
          "color": "DarkSlateGrey",
          "width": 2
         },
         "marker": {
          "color": [
           0.179019,
           0.433756,
           0.55743,
           1
          ],
          "size": 9
         },
         "mode": "markers",
         "name": "the",
         "text": [
          "the"
         ],
         "type": "scatter",
         "x": [
          20.556011199951172
         ],
         "y": [
          7.643628120422363
         ]
        },
        {
         "line": {
          "color": "DarkSlateGrey",
          "width": 2
         },
         "marker": {
          "color": [
           0.203063,
           0.379716,
           0.553925,
           1
          ],
          "size": 9
         },
         "mode": "markers",
         "name": "property",
         "text": [
          "property"
         ],
         "type": "scatter",
         "x": [
          6.276307582855225
         ],
         "y": [
          -10.89555549621582
         ]
        },
        {
         "line": {
          "color": "DarkSlateGrey",
          "width": 2
         },
         "marker": {
          "color": [
           0.993248,
           0.906157,
           0.143936,
           1
          ],
          "size": 9
         },
         "mode": "markers",
         "name": "not",
         "text": [
          "not"
         ],
         "type": "scatter",
         "x": [
          1.9939055442810059
         ],
         "y": [
          7.758664608001709
         ]
        },
        {
         "line": {
          "color": "DarkSlateGrey",
          "width": 2
         },
         "marker": {
          "color": [
           0.993248,
           0.906157,
           0.143936,
           1
          ],
          "size": 9
         },
         "mode": "markers",
         "name": "transferred",
         "text": [
          "transferred"
         ],
         "type": "scatter",
         "x": [
          1.9136695861816406
         ],
         "y": [
          7.7796149253845215
         ]
        },
        {
         "line": {
          "color": "DarkSlateGrey",
          "width": 2
         },
         "marker": {
          "color": [
           0.993248,
           0.906157,
           0.143936,
           1
          ],
          "size": 9
         },
         "mode": "markers",
         "name": "the",
         "text": [
          "the"
         ],
         "type": "scatter",
         "x": [
          1.1010140180587769
         ],
         "y": [
          8.490785598754883
         ]
        },
        {
         "line": {
          "color": "DarkSlateGrey",
          "width": 2
         },
         "marker": {
          "color": [
           0.170948,
           0.694384,
           0.493803,
           1
          ],
          "size": 9
         },
         "mode": "markers",
         "name": "done",
         "text": [
          "done"
         ],
         "type": "scatter",
         "x": [
          3.494020700454712
         ],
         "y": [
          1.2577794790267944
         ]
        },
        {
         "line": {
          "color": "DarkSlateGrey",
          "width": 2
         },
         "marker": {
          "color": [
           0.267968,
           0.223549,
           0.512008,
           1
          ],
          "size": 9
         },
         "mode": "markers",
         "name": "##e",
         "text": [
          "##e"
         ],
         "type": "scatter",
         "x": [
          -0.9602139592170715
         ],
         "y": [
          8.481939315795898
         ]
        },
        {
         "line": {
          "color": "DarkSlateGrey",
          "width": 2
         },
         "marker": {
          "color": [
           0.229739,
           0.322361,
           0.545706,
           1
          ],
          "size": 9
         },
         "mode": "markers",
         "name": "exchange",
         "text": [
          "exchange"
         ],
         "type": "scatter",
         "x": [
          6.2389421463012695
         ],
         "y": [
          -0.6181109547615051
         ]
        },
        {
         "line": {
          "color": "DarkSlateGrey",
          "width": 2
         },
         "marker": {
          "color": [
           0.496615,
           0.826376,
           0.306377,
           1
          ],
          "size": 9
         },
         "mode": "markers",
         "name": "for",
         "text": [
          "for"
         ],
         "type": "scatter",
         "x": [
          0.9569455981254578
         ],
         "y": [
          10.288588523864746
         ]
        },
        {
         "line": {
          "color": "DarkSlateGrey",
          "width": 2
         },
         "marker": {
          "color": [
           0.783315,
           0.879285,
           0.125405,
           1
          ],
          "size": 9
         },
         "mode": "markers",
         "name": "money",
         "text": [
          "money"
         ],
         "type": "scatter",
         "x": [
          7.534599304199219
         ],
         "y": [
          5.206186294555664
         ]
        },
        {
         "line": {
          "color": "DarkSlateGrey",
          "width": 2
         },
         "marker": {
          "color": [
           0.993248,
           0.906157,
           0.143936,
           1
          ],
          "size": 9
         },
         "mode": "markers",
         "name": "other",
         "text": [
          "other"
         ],
         "type": "scatter",
         "x": [
          5.87330961227417
         ],
         "y": [
          0.322428435087204
         ]
        },
        {
         "line": {
          "color": "DarkSlateGrey",
          "width": 2
         },
         "marker": {
          "color": [
           0.229739,
           0.322361,
           0.545706,
           1
          ],
          "size": 9
         },
         "mode": "markers",
         "name": "property",
         "text": [
          "property"
         ],
         "type": "scatter",
         "x": [
          6.283486366271973
         ],
         "y": [
          -0.5891575813293457
         ]
        },
        {
         "line": {
          "color": "DarkSlateGrey",
          "width": 2
         },
         "marker": {
          "color": [
           0.993248,
           0.906157,
           0.143936,
           1
          ],
          "size": 9
         },
         "mode": "markers",
         "name": "services",
         "text": [
          "services"
         ],
         "type": "scatter",
         "x": [
          3.8934242725372314
         ],
         "y": [
          3.0778019428253174
         ]
        },
        {
         "line": {
          "color": "DarkSlateGrey",
          "width": 2
         },
         "marker": {
          "color": [
           0.157729,
           0.485932,
           0.558013,
           1
          ],
          "size": 9
         },
         "mode": "markers",
         "name": "except",
         "text": [
          "except"
         ],
         "type": "scatter",
         "x": [
          4.3331804275512695
         ],
         "y": [
          3.7570197582244873
         ]
        },
        {
         "line": {
          "color": "DarkSlateGrey",
          "width": 2
         },
         "marker": {
          "color": [
           0.496615,
           0.826376,
           0.306377,
           1
          ],
          "size": 9
         },
         "mode": "markers",
         "name": "for",
         "text": [
          "for"
         ],
         "type": "scatter",
         "x": [
          0.8598589301109314
         ],
         "y": [
          10.125268936157227
         ]
        },
        {
         "line": {
          "color": "DarkSlateGrey",
          "width": 2
         },
         "marker": {
          "color": [
           0.993248,
           0.906157,
           0.143936,
           1
          ],
          "size": 9
         },
         "mode": "markers",
         "name": "shipping",
         "text": [
          "shipping"
         ],
         "type": "scatter",
         "x": [
          -0.7387059330940247
         ],
         "y": [
          9.143234252929688
         ]
        },
        {
         "line": {
          "color": "DarkSlateGrey",
          "width": 2
         },
         "marker": {
          "color": [
           0.993248,
           0.906157,
           0.143936,
           1
          ],
          "size": 9
         },
         "mode": "markers",
         "name": "installation",
         "text": [
          "installation"
         ],
         "type": "scatter",
         "x": [
          0.012767731212079525
         ],
         "y": [
          9.047041893005371
         ]
        },
        {
         "line": {
          "color": "DarkSlateGrey",
          "width": 2
         },
         "marker": {
          "color": [
           0.993248,
           0.906157,
           0.143936,
           1
          ],
          "size": 9
         },
         "mode": "markers",
         "name": "and",
         "text": [
          "and"
         ],
         "type": "scatter",
         "x": [
          4.032539367675781
         ],
         "y": [
          6.206377029418945
         ]
        },
        {
         "line": {
          "color": "DarkSlateGrey",
          "width": 2
         },
         "marker": {
          "color": [
           0.252899,
           0.742211,
           0.448284,
           1
          ],
          "size": 9
         },
         "mode": "markers",
         "name": "transfer",
         "text": [
          "transfer"
         ],
         "type": "scatter",
         "x": [
          7.82889986038208
         ],
         "y": [
          8.56527042388916
         ]
        },
        {
         "line": {
          "color": "DarkSlateGrey",
          "width": 2
         },
         "marker": {
          "color": [
           0.283229,
           0.120777,
           0.440584,
           1
          ],
          "size": 9
         },
         "mode": "markers",
         "name": "costs",
         "text": [
          "costs"
         ],
         "type": "scatter",
         "x": [
          8.484170913696289
         ],
         "y": [
          8.121954917907715
         ]
        },
        {
         "line": {
          "color": "DarkSlateGrey",
          "width": 2
         },
         "marker": {
          "color": [
           0.993248,
           0.906157,
           0.143936,
           1
          ],
          "size": 9
         },
         "mode": "markers",
         "name": "and",
         "text": [
          "and"
         ],
         "type": "scatter",
         "x": [
          4.865834712982178
         ],
         "y": [
          3.924774408340454
         ]
        },
        {
         "line": {
          "color": "DarkSlateGrey",
          "width": 2
         },
         "marker": {
          "color": [
           0.20803,
           0.718701,
           0.472873,
           1
          ],
          "size": 9
         },
         "mode": "markers",
         "name": "the",
         "text": [
          "the"
         ],
         "type": "scatter",
         "x": [
          6.519478797912598
         ],
         "y": [
          2.971540927886963
         ]
        },
        {
         "line": {
          "color": "DarkSlateGrey",
          "width": 2
         },
         "marker": {
          "color": [
           0.20803,
           0.718701,
           0.472873,
           1
          ],
          "size": 9
         },
         "mode": "markers",
         "name": "done",
         "text": [
          "done"
         ],
         "type": "scatter",
         "x": [
          6.508741855621338
         ],
         "y": [
          2.8913848400115967
         ]
        },
        {
         "line": {
          "color": "DarkSlateGrey",
          "width": 2
         },
         "marker": {
          "color": [
           0.993248,
           0.906157,
           0.143936,
           1
          ],
          "size": 9
         },
         "mode": "markers",
         "name": "##e",
         "text": [
          "##e"
         ],
         "type": "scatter",
         "x": [
          6.324375152587891
         ],
         "y": [
          2.793515205383301
         ]
        },
        {
         "line": {
          "color": "DarkSlateGrey",
          "width": 2
         },
         "marker": {
          "color": [
           0.993248,
           0.906157,
           0.143936,
           1
          ],
          "size": 9
         },
         "mode": "markers",
         "name": "use",
         "text": [
          "use"
         ],
         "type": "scatter",
         "x": [
          6.338382720947266
         ],
         "y": [
          3.8888323307037354
         ]
        },
        {
         "line": {
          "color": "DarkSlateGrey",
          "width": 2
         },
         "marker": {
          "color": [
           0.20803,
           0.718701,
           0.472873,
           1
          ],
          "size": 9
         },
         "mode": "markers",
         "name": "and",
         "text": [
          "and"
         ],
         "type": "scatter",
         "x": [
          6.582919120788574
         ],
         "y": [
          2.8930165767669678
         ]
        },
        {
         "line": {
          "color": "DarkSlateGrey",
          "width": 2
         },
         "marker": {
          "color": [
           0.20803,
           0.718701,
           0.472873,
           1
          ],
          "size": 9
         },
         "mode": "markers",
         "name": "disposition",
         "text": [
          "disposition"
         ],
         "type": "scatter",
         "x": [
          6.55035400390625
         ],
         "y": [
          2.9184627532958984
         ]
        },
        {
         "line": {
          "color": "DarkSlateGrey",
          "width": 2
         },
         "marker": {
          "color": [
           0.157729,
           0.485932,
           0.558013,
           1
          ],
          "size": 9
         },
         "mode": "markers",
         "name": "the",
         "text": [
          "the"
         ],
         "type": "scatter",
         "x": [
          4.4911651611328125
         ],
         "y": [
          3.8485376834869385
         ]
        },
        {
         "line": {
          "color": "DarkSlateGrey",
          "width": 2
         },
         "marker": {
          "color": [
           0.496615,
           0.826376,
           0.306377,
           1
          ],
          "size": 9
         },
         "mode": "markers",
         "name": "property",
         "text": [
          "property"
         ],
         "type": "scatter",
         "x": [
          0.8170053958892822
         ],
         "y": [
          9.92911434173584
         ]
        },
        {
         "line": {
          "color": "DarkSlateGrey",
          "width": 2
         },
         "marker": {
          "color": [
           0.993248,
           0.906157,
           0.143936,
           1
          ],
          "size": 9
         },
         "mode": "markers",
         "name": "will",
         "text": [
          "will"
         ],
         "type": "scatter",
         "x": [
          0.08493886888027191
         ],
         "y": [
          6.314811706542969
         ]
        },
        {
         "line": {
          "color": "DarkSlateGrey",
          "width": 2
         },
         "marker": {
          "color": [
           0.993248,
           0.906157,
           0.143936,
           1
          ],
          "size": 9
         },
         "mode": "markers",
         "name": "accordance",
         "text": [
          "accordance"
         ],
         "type": "scatter",
         "x": [
          4.00612735748291
         ],
         "y": [
          5.124910831451416
         ]
        },
        {
         "line": {
          "color": "DarkSlateGrey",
          "width": 2
         },
         "marker": {
          "color": [
           0.993248,
           0.906157,
           0.143936,
           1
          ],
          "size": 9
         },
         "mode": "markers",
         "name": "with",
         "text": [
          "with"
         ],
         "type": "scatter",
         "x": [
          4.395249366760254
         ],
         "y": [
          4.851521968841553
         ]
        },
        {
         "line": {
          "color": "DarkSlateGrey",
          "width": 2
         },
         "marker": {
          "color": [
           0.993248,
           0.906157,
           0.143936,
           1
          ],
          "size": 9
         },
         "mode": "markers",
         "name": "the",
         "text": [
          "the"
         ],
         "type": "scatter",
         "x": [
          4.429214000701904
         ],
         "y": [
          5.152549743652344
         ]
        },
        {
         "line": {
          "color": "DarkSlateGrey",
          "width": 2
         },
         "marker": {
          "color": [
           0.993248,
           0.906157,
           0.143936,
           1
          ],
          "size": 9
         },
         "mode": "markers",
         "name": "provisions",
         "text": [
          "provisions"
         ],
         "type": "scatter",
         "x": [
          3.7966244220733643
         ],
         "y": [
          5.293647766113281
         ]
        },
        {
         "line": {
          "color": "DarkSlateGrey",
          "width": 2
         },
         "marker": {
          "color": [
           0.993248,
           0.906157,
           0.143936,
           1
          ],
          "size": 9
         },
         "mode": "markers",
         "name": "sub",
         "text": [
          "sub"
         ],
         "type": "scatter",
         "x": [
          0.23899152874946594
         ],
         "y": [
          9.487513542175293
         ]
        },
        {
         "line": {
          "color": "DarkSlateGrey",
          "width": 2
         },
         "marker": {
          "color": [
           0.993248,
           0.906157,
           0.143936,
           1
          ],
          "size": 9
         },
         "mode": "markers",
         "name": "##para",
         "text": [
          "##para"
         ],
         "type": "scatter",
         "x": [
          6.514533519744873
         ],
         "y": [
          4.264008045196533
         ]
        },
        {
         "line": {
          "color": "DarkSlateGrey",
          "width": 2
         },
         "marker": {
          "color": [
           0.267968,
           0.223549,
           0.512008,
           1
          ],
          "size": 9
         },
         "mode": "markers",
         "name": "##graphs",
         "text": [
          "##graphs"
         ],
         "type": "scatter",
         "x": [
          -0.9994960427284241
         ],
         "y": [
          8.484906196594238
         ]
        },
        {
         "line": {
          "color": "DarkSlateGrey",
          "width": 2
         },
         "marker": {
          "color": [
           0.21621,
           0.351535,
           0.550627,
           1
          ],
          "size": 9
         },
         "mode": "markers",
         "name": "and",
         "text": [
          "and"
         ],
         "type": "scatter",
         "x": [
          18.434391021728516
         ],
         "y": [
          11.054429054260254
         ]
        },
        {
         "line": {
          "color": "DarkSlateGrey",
          "width": 2
         },
         "marker": {
          "color": [
           0.783315,
           0.879285,
           0.125405,
           1
          ],
          "size": 9
         },
         "mode": "markers",
         "name": "the",
         "text": [
          "the"
         ],
         "type": "scatter",
         "x": [
          7.5098466873168945
         ],
         "y": [
          5.204428195953369
         ]
        },
        {
         "line": {
          "color": "DarkSlateGrey",
          "width": 2
         },
         "marker": {
          "color": [
           0.244972,
           0.287675,
           0.53726,
           1
          ],
          "size": 9
         },
         "mode": "markers",
         "name": "determination",
         "text": [
          "determination"
         ],
         "type": "scatter",
         "x": [
          13.931587219238281
         ],
         "y": [
          1.6832433938980103
         ]
        },
        {
         "line": {
          "color": "DarkSlateGrey",
          "width": 2
         },
         "marker": {
          "color": [
           0.496615,
           0.826376,
           0.306377,
           1
          ],
          "size": 9
         },
         "mode": "markers",
         "name": "the",
         "text": [
          "the"
         ],
         "type": "scatter",
         "x": [
          0.9673243165016174
         ],
         "y": [
          10.264493942260742
         ]
        },
        {
         "line": {
          "color": "DarkSlateGrey",
          "width": 2
         },
         "marker": {
          "color": [
           0.993248,
           0.906157,
           0.143936,
           1
          ],
          "size": 9
         },
         "mode": "markers",
         "name": "amount",
         "text": [
          "amount"
         ],
         "type": "scatter",
         "x": [
          1.4346816539764404
         ],
         "y": [
          8.579744338989258
         ]
        },
        {
         "line": {
          "color": "DarkSlateGrey",
          "width": 2
         },
         "marker": {
          "color": [
           0.709898,
           0.868751,
           0.169257,
           1
          ],
          "size": 9
         },
         "mode": "markers",
         "name": "##duction",
         "text": [
          "##duction"
         ],
         "type": "scatter",
         "x": [
          3.851187229156494
         ],
         "y": [
          2.989741563796997
         ]
        },
        {
         "line": {
          "color": "DarkSlateGrey",
          "width": 2
         },
         "marker": {
          "color": [
           0.121148,
           0.592739,
           0.544641,
           1
          ],
          "size": 9
         },
         "mode": "markers",
         "name": "under",
         "text": [
          "under"
         ],
         "type": "scatter",
         "x": [
          3.728949546813965
         ],
         "y": [
          7.189640522003174
         ]
        },
        {
         "line": {
          "color": "DarkSlateGrey",
          "width": 2
         },
         "marker": {
          "color": [
           0.121148,
           0.592739,
           0.544641,
           1
          ],
          "size": 9
         },
         "mode": "markers",
         "name": "section",
         "text": [
          "section"
         ],
         "type": "scatter",
         "x": [
          3.3158414363861084
         ],
         "y": [
          6.886598587036133
         ]
        },
        {
         "line": {
          "color": "DarkSlateGrey",
          "width": 2
         },
         "marker": {
          "color": [
           0.121148,
           0.592739,
           0.544641,
           1
          ],
          "size": 9
         },
         "mode": "markers",
         "name": "170",
         "text": [
          "170"
         ],
         "type": "scatter",
         "x": [
          3.2528538703918457
         ],
         "y": [
          6.841542720794678
         ]
        },
        {
         "line": {
          "color": "DarkSlateGrey",
          "width": 2
         },
         "marker": {
          "color": [
           0.276022,
           0.044167,
           0.370164,
           1
          ],
          "size": 9
         },
         "mode": "markers",
         "name": "for",
         "text": [
          "for"
         ],
         "type": "scatter",
         "x": [
          4.524179458618164
         ],
         "y": [
          8.41170883178711
         ]
        },
        {
         "line": {
          "color": "DarkSlateGrey",
          "width": 2
         },
         "marker": {
          "color": [
           0.993248,
           0.906157,
           0.143936,
           1
          ],
          "size": 9
         },
         "mode": "markers",
         "name": "purposes",
         "text": [
          "purposes"
         ],
         "type": "scatter",
         "x": [
          2.4511632919311523
         ],
         "y": [
          6.254689693450928
         ]
        },
        {
         "line": {
          "color": "DarkSlateGrey",
          "width": 2
         },
         "marker": {
          "color": [
           0.13777,
           0.537492,
           0.554906,
           1
          ],
          "size": 9
         },
         "mode": "markers",
         "name": "this",
         "text": [
          "this"
         ],
         "type": "scatter",
         "x": [
          1.5717185735702515
         ],
         "y": [
          6.562914848327637
         ]
        },
        {
         "line": {
          "color": "DarkSlateGrey",
          "width": 2
         },
         "marker": {
          "color": [
           0.993248,
           0.906157,
           0.143936,
           1
          ],
          "size": 9
         },
         "mode": "markers",
         "name": "paragraph",
         "text": [
          "paragraph"
         ],
         "type": "scatter",
         "x": [
          4.3567328453063965
         ],
         "y": [
          4.51805305480957
         ]
        },
        {
         "line": {
          "color": "DarkSlateGrey",
          "width": 2
         },
         "marker": {
          "color": [
           0.267968,
           0.223549,
           0.512008,
           1
          ],
          "size": 9
         },
         "mode": "markers",
         "name": "shall",
         "text": [
          "shall"
         ],
         "type": "scatter",
         "x": [
          -0.9680551886558533
         ],
         "y": [
          8.512683868408203
         ]
        },
        {
         "line": {
          "color": "DarkSlateGrey",
          "width": 2
         },
         "marker": {
          "color": [
           0.179019,
           0.433756,
           0.55743,
           1
          ],
          "size": 9
         },
         "mode": "markers",
         "name": "made",
         "text": [
          "made"
         ],
         "type": "scatter",
         "x": [
          20.697418212890625
         ],
         "y": [
          7.785696983337402
         ]
        },
        {
         "line": {
          "color": "DarkSlateGrey",
          "width": 2
         },
         "marker": {
          "color": [
           0.157729,
           0.485932,
           0.558013,
           1
          ],
          "size": 9
         },
         "mode": "markers",
         "name": "the",
         "text": [
          "the"
         ],
         "type": "scatter",
         "x": [
          4.46193265914917
         ],
         "y": [
          3.9611401557922363
         ]
        },
        {
         "line": {
          "color": "DarkSlateGrey",
          "width": 2
         },
         "marker": {
          "color": [
           0.993248,
           0.906157,
           0.143936,
           1
          ],
          "size": 9
         },
         "mode": "markers",
         "name": "limitation",
         "text": [
          "limitation"
         ],
         "type": "scatter",
         "x": [
          3.9898741245269775
         ],
         "y": [
          4.691176414489746
         ]
        },
        {
         "line": {
          "color": "DarkSlateGrey",
          "width": 2
         },
         "marker": {
          "color": [
           0.993248,
           0.906157,
           0.143936,
           1
          ],
          "size": 9
         },
         "mode": "markers",
         "name": "under",
         "text": [
          "under"
         ],
         "type": "scatter",
         "x": [
          3.926976442337036
         ],
         "y": [
          4.6349005699157715
         ]
        },
        {
         "line": {
          "color": "DarkSlateGrey",
          "width": 2
         },
         "marker": {
          "color": [
           0.993248,
           0.906157,
           0.143936,
           1
          ],
          "size": 9
         },
         "mode": "markers",
         "name": "section",
         "text": [
          "section"
         ],
         "type": "scatter",
         "x": [
          3.887953042984009
         ],
         "y": [
          4.646570205688477
         ]
        },
        {
         "line": {
          "color": "DarkSlateGrey",
          "width": 2
         },
         "marker": {
          "color": [
           0.993248,
           0.906157,
           0.143936,
           1
          ],
          "size": 9
         },
         "mode": "markers",
         "name": "170",
         "text": [
          "170"
         ],
         "type": "scatter",
         "x": [
          6.010564804077148
         ],
         "y": [
          4.814842700958252
         ]
        },
        {
         "line": {
          "color": "DarkSlateGrey",
          "width": 2
         },
         "marker": {
          "color": [
           0.993248,
           0.906157,
           0.143936,
           1
          ],
          "size": 9
         },
         "mode": "markers",
         "name": "applied",
         "text": [
          "applied"
         ],
         "type": "scatter",
         "x": [
          0.8753746151924133
         ],
         "y": [
          9.833226203918457
         ]
        },
        {
         "line": {
          "color": "DarkSlateGrey",
          "width": 2
         },
         "marker": {
          "color": [
           0.276022,
           0.044167,
           0.370164,
           1
          ],
          "size": 9
         },
         "mode": "markers",
         "name": "all",
         "text": [
          "all"
         ],
         "type": "scatter",
         "x": [
          4.552635669708252
         ],
         "y": [
          8.375672340393066
         ]
        },
        {
         "line": {
          "color": "DarkSlateGrey",
          "width": 2
         },
         "marker": {
          "color": [
           0.157729,
           0.485932,
           0.558013,
           1
          ],
          "size": 9
         },
         "mode": "markers",
         "name": "stem",
         "text": [
          "stem"
         ],
         "type": "scatter",
         "x": [
          4.440737247467041
         ],
         "y": [
          3.9381630420684814
         ]
        },
        {
         "line": {
          "color": "DarkSlateGrey",
          "width": 2
         },
         "marker": {
          "color": [
           0.993248,
           0.906157,
           0.143936,
           1
          ],
          "size": 9
         },
         "mode": "markers",
         "name": "inventory",
         "text": [
          "inventory"
         ],
         "type": "scatter",
         "x": [
          3.733048439025879
         ],
         "y": [
          6.341498374938965
         ]
        },
        {
         "line": {
          "color": "DarkSlateGrey",
          "width": 2
         },
         "marker": {
          "color": [
           0.170948,
           0.694384,
           0.493803,
           1
          ],
          "size": 9
         },
         "mode": "markers",
         "name": "property",
         "text": [
          "property"
         ],
         "type": "scatter",
         "x": [
          3.4550135135650635
         ],
         "y": [
          1.2697765827178955
         ]
        },
        {
         "line": {
          "color": "DarkSlateGrey",
          "width": 2
         },
         "marker": {
          "color": [
           0.993248,
           0.906157,
           0.143936,
           1
          ],
          "size": 9
         },
         "mode": "markers",
         "name": "stem",
         "text": [
          "stem"
         ],
         "type": "scatter",
         "x": [
          1.2655669450759888
         ],
         "y": [
          8.329538345336914
         ]
        },
        {
         "line": {
          "color": "DarkSlateGrey",
          "width": 2
         },
         "marker": {
          "color": [
           0.993248,
           0.906157,
           0.143936,
           1
          ],
          "size": 9
         },
         "mode": "markers",
         "name": "service",
         "text": [
          "service"
         ],
         "type": "scatter",
         "x": [
          6.45468807220459
         ],
         "y": [
          4.273364067077637
         ]
        },
        {
         "line": {
          "color": "DarkSlateGrey",
          "width": 2
         },
         "marker": {
          "color": [
           0.267968,
           0.223549,
           0.512008,
           1
          ],
          "size": 9
         },
         "mode": "markers",
         "name": "contributions",
         "text": [
          "contributions"
         ],
         "type": "scatter",
         "x": [
          -0.9851675629615784
         ],
         "y": [
          8.511051177978516
         ]
        },
        {
         "line": {
          "color": "DarkSlateGrey",
          "width": 2
         },
         "marker": {
          "color": [
           0.21621,
           0.351535,
           0.550627,
           1
          ],
          "size": 9
         },
         "mode": "markers",
         "name": "the",
         "text": [
          "the"
         ],
         "type": "scatter",
         "x": [
          18.411605834960938
         ],
         "y": [
          11.02956771850586
         ]
        },
        {
         "line": {
          "color": "DarkSlateGrey",
          "width": 2
         },
         "marker": {
          "color": [
           0.993248,
           0.906157,
           0.143936,
           1
          ],
          "size": 9
         },
         "mode": "markers",
         "name": "term",
         "text": [
          "term"
         ],
         "type": "scatter",
         "x": [
          4.43126106262207
         ],
         "y": [
          6.599412441253662
         ]
        },
        {
         "line": {
          "color": "DarkSlateGrey",
          "width": 2
         },
         "marker": {
          "color": [
           0.993248,
           0.906157,
           0.143936,
           1
          ],
          "size": 9
         },
         "mode": "markers",
         "name": "stem",
         "text": [
          "stem"
         ],
         "type": "scatter",
         "x": [
          4.230686187744141
         ],
         "y": [
          7.035348415374756
         ]
        },
        {
         "line": {
          "color": "DarkSlateGrey",
          "width": 2
         },
         "marker": {
          "color": [
           0.993248,
           0.906157,
           0.143936,
           1
          ],
          "size": 9
         },
         "mode": "markers",
         "name": "service",
         "text": [
          "service"
         ],
         "type": "scatter",
         "x": [
          4.268949031829834
         ],
         "y": [
          6.927886009216309
         ]
        },
        {
         "line": {
          "color": "DarkSlateGrey",
          "width": 2
         },
         "marker": {
          "color": [
           0.993248,
           0.906157,
           0.143936,
           1
          ],
          "size": 9
         },
         "mode": "markers",
         "name": "contributions",
         "text": [
          "contributions"
         ],
         "type": "scatter",
         "x": [
          4.888317584991455
         ],
         "y": [
          5.6294708251953125
         ]
        },
        {
         "line": {
          "color": "DarkSlateGrey",
          "width": 2
         },
         "marker": {
          "color": [
           0.636902,
           0.856542,
           0.21662,
           1
          ],
          "size": 9
         },
         "mode": "markers",
         "name": "means",
         "text": [
          "means"
         ],
         "type": "scatter",
         "x": [
          6.040885925292969
         ],
         "y": [
          7.079315662384033
         ]
        },
        {
         "line": {
          "color": "DarkSlateGrey",
          "width": 2
         },
         "marker": {
          "color": [
           0.304148,
           0.764704,
           0.419943,
           1
          ],
          "size": 9
         },
         "mode": "markers",
         "name": "the",
         "text": [
          "the"
         ],
         "type": "scatter",
         "x": [
          5.238541126251221
         ],
         "y": [
          1.937598705291748
         ]
        },
        {
         "line": {
          "color": "DarkSlateGrey",
          "width": 2
         },
         "marker": {
          "color": [
           0.252899,
           0.742211,
           0.448284,
           1
          ],
          "size": 9
         },
         "mode": "markers",
         "name": "amount",
         "text": [
          "amount"
         ],
         "type": "scatter",
         "x": [
          7.341565132141113
         ],
         "y": [
          8.892953872680664
         ]
        },
        {
         "line": {
          "color": "DarkSlateGrey",
          "width": 2
         },
         "marker": {
          "color": [
           0.168126,
           0.459988,
           0.558082,
           1
          ],
          "size": 9
         },
         "mode": "markers",
         "name": "paid",
         "text": [
          "paid"
         ],
         "type": "scatter",
         "x": [
          2.8423736095428467
         ],
         "y": [
          5.361945629119873
         ]
        },
        {
         "line": {
          "color": "DarkSlateGrey",
          "width": 2
         },
         "marker": {
          "color": [
           0.121148,
           0.592739,
           0.544641,
           1
          ],
          "size": 9
         },
         "mode": "markers",
         "name": "incurred",
         "text": [
          "incurred"
         ],
         "type": "scatter",
         "x": [
          3.8260717391967773
         ],
         "y": [
          7.20732307434082
         ]
        },
        {
         "line": {
          "color": "DarkSlateGrey",
          "width": 2
         },
         "marker": {
          "color": [
           0.993248,
           0.906157,
           0.143936,
           1
          ],
          "size": 9
         },
         "mode": "markers",
         "name": "during",
         "text": [
          "during"
         ],
         "type": "scatter",
         "x": [
          3.895542621612549
         ],
         "y": [
          6.330357074737549
         ]
        },
        {
         "line": {
          "color": "DarkSlateGrey",
          "width": 2
         },
         "marker": {
          "color": [
           0.993248,
           0.906157,
           0.143936,
           1
          ],
          "size": 9
         },
         "mode": "markers",
         "name": "the",
         "text": [
          "the"
         ],
         "type": "scatter",
         "x": [
          4.2967071533203125
         ],
         "y": [
          7.234251499176025
         ]
        },
        {
         "line": {
          "color": "DarkSlateGrey",
          "width": 2
         },
         "marker": {
          "color": [
           0.636902,
           0.856542,
           0.21662,
           1
          ],
          "size": 9
         },
         "mode": "markers",
         "name": "taxa",
         "text": [
          "taxa"
         ],
         "type": "scatter",
         "x": [
          6.039684772491455
         ],
         "y": [
          7.067322731018066
         ]
        },
        {
         "line": {
          "color": "DarkSlateGrey",
          "width": 2
         },
         "marker": {
          "color": [
           0.304148,
           0.764704,
           0.419943,
           1
          ],
          "size": 9
         },
         "mode": "markers",
         "name": "##ble",
         "text": [
          "##ble"
         ],
         "type": "scatter",
         "x": [
          5.267240524291992
         ],
         "y": [
          1.9683557748794556
         ]
        },
        {
         "line": {
          "color": "DarkSlateGrey",
          "width": 2
         },
         "marker": {
          "color": [
           0.252899,
           0.742211,
           0.448284,
           1
          ],
          "size": 9
         },
         "mode": "markers",
         "name": "year",
         "text": [
          "year"
         ],
         "type": "scatter",
         "x": [
          7.413531303405762
         ],
         "y": [
          8.823986053466797
         ]
        },
        {
         "line": {
          "color": "DarkSlateGrey",
          "width": 2
         },
         "marker": {
          "color": [
           0.993248,
           0.906157,
           0.143936,
           1
          ],
          "size": 9
         },
         "mode": "markers",
         "name": "for",
         "text": [
          "for"
         ],
         "type": "scatter",
         "x": [
          5.650861740112305
         ],
         "y": [
          6.252427577972412
         ]
        },
        {
         "line": {
          "color": "DarkSlateGrey",
          "width": 2
         },
         "marker": {
          "color": [
           0.993248,
           0.906157,
           0.143936,
           1
          ],
          "size": 9
         },
         "mode": "markers",
         "name": "stem",
         "text": [
          "stem"
         ],
         "type": "scatter",
         "x": [
          5.77038049697876
         ],
         "y": [
          5.982550144195557
         ]
        },
        {
         "line": {
          "color": "DarkSlateGrey",
          "width": 2
         },
         "marker": {
          "color": [
           0.993248,
           0.906157,
           0.143936,
           1
          ],
          "size": 9
         },
         "mode": "markers",
         "name": "services",
         "text": [
          "services"
         ],
         "type": "scatter",
         "x": [
          7.612664222717285
         ],
         "y": [
          6.79245138168335
         ]
        },
        {
         "line": {
          "color": "DarkSlateGrey",
          "width": 2
         },
         "marker": {
          "color": [
           0.252899,
           0.742211,
           0.448284,
           1
          ],
          "size": 9
         },
         "mode": "markers",
         "name": "provided",
         "text": [
          "provided"
         ],
         "type": "scatter",
         "x": [
          7.927187442779541
         ],
         "y": [
          8.72613525390625
         ]
        },
        {
         "line": {
          "color": "DarkSlateGrey",
          "width": 2
         },
         "marker": {
          "color": [
           0.993248,
           0.906157,
           0.143936,
           1
          ],
          "size": 9
         },
         "mode": "markers",
         "name": "the",
         "text": [
          "the"
         ],
         "type": "scatter",
         "x": [
          7.227107048034668
         ],
         "y": [
          8.768136024475098
         ]
        },
        {
         "line": {
          "color": "DarkSlateGrey",
          "width": 2
         },
         "marker": {
          "color": [
           0.993248,
           0.906157,
           0.143936,
           1
          ],
          "size": 9
         },
         "mode": "markers",
         "name": "united",
         "text": [
          "united"
         ],
         "type": "scatter",
         "x": [
          7.716973304748535
         ],
         "y": [
          6.724359512329102
         ]
        },
        {
         "line": {
          "color": "DarkSlateGrey",
          "width": 2
         },
         "marker": {
          "color": [
           0.993248,
           0.906157,
           0.143936,
           1
          ],
          "size": 9
         },
         "mode": "markers",
         "name": "states",
         "text": [
          "states"
         ],
         "type": "scatter",
         "x": [
          7.466604232788086
         ],
         "y": [
          6.278773784637451
         ]
        },
        {
         "line": {
          "color": "DarkSlateGrey",
          "width": 2
         },
         "marker": {
          "color": [
           0.993248,
           0.906157,
           0.143936,
           1
          ],
          "size": 9
         },
         "mode": "markers",
         "name": "the",
         "text": [
          "the"
         ],
         "type": "scatter",
         "x": [
          7.086705684661865
         ],
         "y": [
          6.348553657531738
         ]
        },
        {
         "line": {
          "color": "DarkSlateGrey",
          "width": 2
         },
         "marker": {
          "color": [
           0.993248,
           0.906157,
           0.143936,
           1
          ],
          "size": 9
         },
         "mode": "markers",
         "name": "defense",
         "text": [
          "defense"
         ],
         "type": "scatter",
         "x": [
          7.714018821716309
         ],
         "y": [
          8.813493728637695
         ]
        },
        {
         "line": {
          "color": "DarkSlateGrey",
          "width": 2
         },
         "marker": {
          "color": [
           0.993248,
           0.906157,
           0.143936,
           1
          ],
          "size": 9
         },
         "mode": "markers",
         "name": "dependent",
         "text": [
          "dependent"
         ],
         "type": "scatter",
         "x": [
          7.507073402404785
         ],
         "y": [
          6.327530860900879
         ]
        },
        {
         "line": {
          "color": "DarkSlateGrey",
          "width": 2
         },
         "marker": {
          "color": [
           0.993248,
           0.906157,
           0.143936,
           1
          ],
          "size": 9
         },
         "mode": "markers",
         "name": "##s",
         "text": [
          "##s"
         ],
         "type": "scatter",
         "x": [
          6.242941379547119
         ],
         "y": [
          5.422029972076416
         ]
        },
        {
         "line": {
          "color": "DarkSlateGrey",
          "width": 2
         },
         "marker": {
          "color": [
           0.926106,
           0.89733,
           0.104071,
           1
          ],
          "size": 9
         },
         "mode": "markers",
         "name": "education",
         "text": [
          "education"
         ],
         "type": "scatter",
         "x": [
          6.527551174163818
         ],
         "y": [
          5.78145694732666
         ]
        },
        {
         "line": {
          "color": "DarkSlateGrey",
          "width": 2
         },
         "marker": {
          "color": [
           0.993248,
           0.906157,
           0.143936,
           1
          ],
          "size": 9
         },
         "mode": "markers",
         "name": "system",
         "text": [
          "system"
         ],
         "type": "scatter",
         "x": [
          7.070407867431641
         ],
         "y": [
          6.359614372253418
         ]
        },
        {
         "line": {
          "color": "DarkSlateGrey",
          "width": 2
         },
         "marker": {
          "color": [
           0.993248,
           0.906157,
           0.143936,
           1
          ],
          "size": 9
         },
         "mode": "markers",
         "name": "for",
         "text": [
          "for"
         ],
         "type": "scatter",
         "x": [
          7.72537899017334
         ],
         "y": [
          8.825389862060547
         ]
        },
        {
         "line": {
          "color": "DarkSlateGrey",
          "width": 2
         },
         "marker": {
          "color": [
           0.993248,
           0.906157,
           0.143936,
           1
          ],
          "size": 9
         },
         "mode": "markers",
         "name": "the",
         "text": [
          "the"
         ],
         "type": "scatter",
         "x": [
          0.7684980630874634
         ],
         "y": [
          -0.9236297011375427
         ]
        },
        {
         "line": {
          "color": "DarkSlateGrey",
          "width": 2
         },
         "marker": {
          "color": [
           0.993248,
           0.906157,
           0.143936,
           1
          ],
          "size": 9
         },
         "mode": "markers",
         "name": "exclusive",
         "text": [
          "exclusive"
         ],
         "type": "scatter",
         "x": [
          7.4925217628479
         ],
         "y": [
          6.308058261871338
         ]
        },
        {
         "line": {
          "color": "DarkSlateGrey",
          "width": 2
         },
         "marker": {
          "color": [
           0.993248,
           0.906157,
           0.143936,
           1
          ],
          "size": 9
         },
         "mode": "markers",
         "name": "benefit",
         "text": [
          "benefit"
         ],
         "type": "scatter",
         "x": [
          7.496773719787598
         ],
         "y": [
          6.297598838806152
         ]
        },
        {
         "line": {
          "color": "DarkSlateGrey",
          "width": 2
         },
         "marker": {
          "color": [
           0.276194,
           0.190074,
           0.493001,
           1
          ],
          "size": 9
         },
         "mode": "markers",
         "name": "students",
         "text": [
          "students"
         ],
         "type": "scatter",
         "x": [
          0.7762143015861511
         ],
         "y": [
          -0.9440475702285767
         ]
        },
        {
         "line": {
          "color": "DarkSlateGrey",
          "width": 2
         },
         "marker": {
          "color": [
           0.993248,
           0.906157,
           0.143936,
           1
          ],
          "size": 9
         },
         "mode": "markers",
         "name": "elementary",
         "text": [
          "elementary"
         ],
         "type": "scatter",
         "x": [
          7.103261947631836
         ],
         "y": [
          6.348723888397217
         ]
        },
        {
         "line": {
          "color": "DarkSlateGrey",
          "width": 2
         },
         "marker": {
          "color": [
           0.993248,
           0.906157,
           0.143936,
           1
          ],
          "size": 9
         },
         "mode": "markers",
         "name": "secondary",
         "text": [
          "secondary"
         ],
         "type": "scatter",
         "x": [
          5.2310028076171875
         ],
         "y": [
          2.070030450820923
         ]
        },
        {
         "line": {
          "color": "DarkSlateGrey",
          "width": 2
         },
         "marker": {
          "color": [
           0.993248,
           0.906157,
           0.143936,
           1
          ],
          "size": 9
         },
         "mode": "markers",
         "name": "school",
         "text": [
          "school"
         ],
         "type": "scatter",
         "x": [
          7.679877281188965
         ],
         "y": [
          6.563122749328613
         ]
        },
        {
         "line": {
          "color": "DarkSlateGrey",
          "width": 2
         },
         "marker": {
          "color": [
           0.993248,
           0.906157,
           0.143936,
           1
          ],
          "size": 9
         },
         "mode": "markers",
         "name": "described",
         "text": [
          "described"
         ],
         "type": "scatter",
         "x": [
          7.548669338226318
         ],
         "y": [
          8.898125648498535
         ]
        },
        {
         "line": {
          "color": "DarkSlateGrey",
          "width": 2
         },
         "marker": {
          "color": [
           0.430983,
           0.808473,
           0.346476,
           1
          ],
          "size": 9
         },
         "mode": "markers",
         "name": "section",
         "text": [
          "section"
         ],
         "type": "scatter",
         "x": [
          -2.257091522216797
         ],
         "y": [
          9.76189136505127
         ]
        },
        {
         "line": {
          "color": "DarkSlateGrey",
          "width": 2
         },
         "marker": {
          "color": [
           0.281412,
           0.155834,
           0.469201,
           1
          ],
          "size": 9
         },
         "mode": "markers",
         "name": "170",
         "text": [
          "170"
         ],
         "type": "scatter",
         "x": [
          0.24586080014705658
         ],
         "y": [
          -0.8976510763168335
         ]
        },
        {
         "line": {
          "color": "DarkSlateGrey",
          "width": 2
         },
         "marker": {
          "color": [
           0.993248,
           0.906157,
           0.143936,
           1
          ],
          "size": 9
         },
         "mode": "markers",
         "name": "but",
         "text": [
          "but"
         ],
         "type": "scatter",
         "x": [
          8.19845962524414
         ],
         "y": [
          8.222517967224121
         ]
        },
        {
         "line": {
          "color": "DarkSlateGrey",
          "width": 2
         },
         "marker": {
          "color": [
           0.783315,
           0.879285,
           0.125405,
           1
          ],
          "size": 9
         },
         "mode": "markers",
         "name": "only",
         "text": [
          "only"
         ],
         "type": "scatter",
         "x": [
          6.270395755767822
         ],
         "y": [
          5.545638561248779
         ]
        },
        {
         "line": {
          "color": "DarkSlateGrey",
          "width": 2
         },
         "marker": {
          "color": "red",
          "size": 9,
          "symbol": "diamond"
         },
         "mode": "markers",
         "name": "national",
         "text": [
          "national"
         ],
         "type": "scatter",
         "x": [
          -1.1360057592391968
         ],
         "y": [
          15.750554084777832
         ]
        },
        {
         "line": {
          "color": "DarkSlateGrey",
          "width": 2
         },
         "marker": {
          "color": "red",
          "size": 9,
          "symbol": "diamond"
         },
         "mode": "markers",
         "name": "science",
         "text": [
          "science"
         ],
         "type": "scatter",
         "x": [
          1.095855951309204
         ],
         "y": [
          15.247537612915039
         ]
        },
        {
         "line": {
          "color": "DarkSlateGrey",
          "width": 2
         },
         "marker": {
          "color": "red",
          "size": 9,
          "symbol": "diamond"
         },
         "mode": "markers",
         "name": "education",
         "text": [
          "education"
         ],
         "type": "scatter",
         "x": [
          -1.6348673105239868
         ],
         "y": [
          13.351388931274414
         ]
        },
        {
         "line": {
          "color": "DarkSlateGrey",
          "width": 2
         },
         "marker": {
          "color": "red",
          "size": 9,
          "symbol": "diamond"
         },
         "mode": "markers",
         "name": "tax",
         "text": [
          "tax"
         ],
         "type": "scatter",
         "x": [
          -1.3354467153549194
         ],
         "y": [
          12.931573867797852
         ]
        },
        {
         "line": {
          "color": "DarkSlateGrey",
          "width": 2
         },
         "marker": {
          "color": "red",
          "size": 9,
          "symbol": "diamond"
         },
         "mode": "markers",
         "name": "incentive",
         "text": [
          "incentive"
         ],
         "type": "scatter",
         "x": [
          -0.4306143522262573
         ],
         "y": [
          12.97148323059082
         ]
        },
        {
         "line": {
          "color": "DarkSlateGrey",
          "width": 2
         },
         "marker": {
          "color": "red",
          "size": 9,
          "symbol": "diamond"
         },
         "mode": "markers",
         "name": "for",
         "text": [
          "for"
         ],
         "type": "scatter",
         "x": [
          -1.4642077684402466
         ],
         "y": [
          15.049774169921875
         ]
        },
        {
         "line": {
          "color": "DarkSlateGrey",
          "width": 2
         },
         "marker": {
          "color": "red",
          "size": 9,
          "symbol": "diamond"
         },
         "mode": "markers",
         "name": "businesses",
         "text": [
          "businesses"
         ],
         "type": "scatter",
         "x": [
          -1.7139085531234741
         ],
         "y": [
          11.8690185546875
         ]
        },
        {
         "line": {
          "color": "DarkSlateGrey",
          "width": 2
         },
         "marker": {
          "color": "red",
          "size": 9,
          "symbol": "diamond"
         },
         "mode": "markers",
         "name": "act",
         "text": [
          "act"
         ],
         "type": "scatter",
         "x": [
          -1.0879244804382324
         ],
         "y": [
          12.570150375366211
         ]
        },
        {
         "line": {
          "color": "DarkSlateGrey",
          "width": 2
         },
         "marker": {
          "color": "red",
          "size": 9,
          "symbol": "diamond"
         },
         "mode": "markers",
         "name": "2007",
         "text": [
          "2007"
         ],
         "type": "scatter",
         "x": [
          -1.392714500427246
         ],
         "y": [
          12.19698715209961
         ]
        },
        {
         "line": {
          "color": "DarkSlateGrey",
          "width": 2
         },
         "marker": {
          "color": "red",
          "size": 9,
          "symbol": "diamond"
         },
         "mode": "markers",
         "name": "amend",
         "text": [
          "amend"
         ],
         "type": "scatter",
         "x": [
          -2.4502339363098145
         ],
         "y": [
          12.495881080627441
         ]
        },
        {
         "line": {
          "color": "DarkSlateGrey",
          "width": 2
         },
         "marker": {
          "color": "red",
          "size": 9,
          "symbol": "diamond"
         },
         "mode": "markers",
         "name": "##s",
         "text": [
          "##s"
         ],
         "type": "scatter",
         "x": [
          -2.46480393409729
         ],
         "y": [
          12.959772109985352
         ]
        },
        {
         "line": {
          "color": "DarkSlateGrey",
          "width": 2
         },
         "marker": {
          "color": "red",
          "size": 9,
          "symbol": "diamond"
         },
         "mode": "markers",
         "name": "the",
         "text": [
          "the"
         ],
         "type": "scatter",
         "x": [
          -2.2353875637054443
         ],
         "y": [
          12.583136558532715
         ]
        },
        {
         "line": {
          "color": "DarkSlateGrey",
          "width": 2
         },
         "marker": {
          "color": "red",
          "size": 9,
          "symbol": "diamond"
         },
         "mode": "markers",
         "name": "internal",
         "text": [
          "internal"
         ],
         "type": "scatter",
         "x": [
          -0.691909909248352
         ],
         "y": [
          12.434874534606934
         ]
        },
        {
         "line": {
          "color": "DarkSlateGrey",
          "width": 2
         },
         "marker": {
          "color": "red",
          "size": 9,
          "symbol": "diamond"
         },
         "mode": "markers",
         "name": "revenue",
         "text": [
          "revenue"
         ],
         "type": "scatter",
         "x": [
          -1.42350435256958
         ],
         "y": [
          14.204798698425293
         ]
        },
        {
         "line": {
          "color": "DarkSlateGrey",
          "width": 2
         },
         "marker": {
          "color": "red",
          "size": 9,
          "symbol": "diamond"
         },
         "mode": "markers",
         "name": "code",
         "text": [
          "code"
         ],
         "type": "scatter",
         "x": [
          -1.6352941989898682
         ],
         "y": [
          14.666189193725586
         ]
        },
        {
         "line": {
          "color": "DarkSlateGrey",
          "width": 2
         },
         "marker": {
          "color": "red",
          "size": 9,
          "symbol": "diamond"
         },
         "mode": "markers",
         "name": "allow",
         "text": [
          "allow"
         ],
         "type": "scatter",
         "x": [
          -1.1373319625854492
         ],
         "y": [
          13.209210395812988
         ]
        },
        {
         "line": {
          "color": "DarkSlateGrey",
          "width": 2
         },
         "marker": {
          "color": "red",
          "size": 9,
          "symbol": "diamond"
         },
         "mode": "markers",
         "name": "general",
         "text": [
          "general"
         ],
         "type": "scatter",
         "x": [
          -1.0157500505447388
         ],
         "y": [
          13.904664039611816
         ]
        },
        {
         "line": {
          "color": "DarkSlateGrey",
          "width": 2
         },
         "marker": {
          "color": "red",
          "size": 9,
          "symbol": "diamond"
         },
         "mode": "markers",
         "name": "business",
         "text": [
          "business"
         ],
         "type": "scatter",
         "x": [
          -0.9372944831848145
         ],
         "y": [
          14.825827598571777
         ]
        },
        {
         "line": {
          "color": "DarkSlateGrey",
          "width": 2
         },
         "marker": {
          "color": "red",
          "size": 9,
          "symbol": "diamond"
         },
         "mode": "markers",
         "name": "tax",
         "text": [
          "tax"
         ],
         "type": "scatter",
         "x": [
          -0.6311487555503845
         ],
         "y": [
          15.105713844299316
         ]
        },
        {
         "line": {
          "color": "DarkSlateGrey",
          "width": 2
         },
         "marker": {
          "color": "red",
          "size": 9,
          "symbol": "diamond"
         },
         "mode": "markers",
         "name": "credit",
         "text": [
          "credit"
         ],
         "type": "scatter",
         "x": [
          0.4630758762359619
         ],
         "y": [
          15.890003204345703
         ]
        },
        {
         "line": {
          "color": "DarkSlateGrey",
          "width": 2
         },
         "marker": {
          "color": "red",
          "size": 9,
          "symbol": "diamond"
         },
         "mode": "markers",
         "name": "for",
         "text": [
          "for"
         ],
         "type": "scatter",
         "x": [
          0.5671559572219849
         ],
         "y": [
          14.601007461547852
         ]
        },
        {
         "line": {
          "color": "DarkSlateGrey",
          "width": 2
         },
         "marker": {
          "color": "red",
          "size": 9,
          "symbol": "diamond"
         },
         "mode": "markers",
         "name": "contributions",
         "text": [
          "contributions"
         ],
         "type": "scatter",
         "x": [
          0.4962729513645172
         ],
         "y": [
          16.08069610595703
         ]
        },
        {
         "line": {
          "color": "DarkSlateGrey",
          "width": 2
         },
         "marker": {
          "color": "red",
          "size": 9,
          "symbol": "diamond"
         },
         "mode": "markers",
         "name": "property",
         "text": [
          "property"
         ],
         "type": "scatter",
         "x": [
          0.38648462295532227
         ],
         "y": [
          14.103415489196777
         ]
        },
        {
         "line": {
          "color": "DarkSlateGrey",
          "width": 2
         },
         "marker": {
          "color": "red",
          "size": 9,
          "symbol": "diamond"
         },
         "mode": "markers",
         "name": "services",
         "text": [
          "services"
         ],
         "type": "scatter",
         "x": [
          0.06373906880617142
         ],
         "y": [
          15.502889633178711
         ]
        },
        {
         "line": {
          "color": "DarkSlateGrey",
          "width": 2
         },
         "marker": {
          "color": "red",
          "size": 9,
          "symbol": "diamond"
         },
         "mode": "markers",
         "name": "elementary",
         "text": [
          "elementary"
         ],
         "type": "scatter",
         "x": [
          -0.007268778048455715
         ],
         "y": [
          14.465483665466309
         ]
        },
        {
         "line": {
          "color": "DarkSlateGrey",
          "width": 2
         },
         "marker": {
          "color": "red",
          "size": 9,
          "symbol": "diamond"
         },
         "mode": "markers",
         "name": "and",
         "text": [
          "and"
         ],
         "type": "scatter",
         "x": [
          0.5378612279891968
         ],
         "y": [
          15.48716926574707
         ]
        },
        {
         "line": {
          "color": "DarkSlateGrey",
          "width": 2
         },
         "marker": {
          "color": "red",
          "size": 9,
          "symbol": "diamond"
         },
         "mode": "markers",
         "name": "secondary",
         "text": [
          "secondary"
         ],
         "type": "scatter",
         "x": [
          -0.8049034476280212
         ],
         "y": [
          16.3991641998291
         ]
        },
        {
         "line": {
          "color": "DarkSlateGrey",
          "width": 2
         },
         "marker": {
          "color": "red",
          "size": 9,
          "symbol": "diamond"
         },
         "mode": "markers",
         "name": "schools",
         "text": [
          "schools"
         ],
         "type": "scatter",
         "x": [
          -0.9665167927742004
         ],
         "y": [
          16.676332473754883
         ]
        },
        {
         "line": {
          "color": "DarkSlateGrey",
          "width": 2
         },
         "marker": {
          "color": "red",
          "size": 9,
          "symbol": "diamond"
         },
         "mode": "markers",
         "name": "and",
         "text": [
          "and"
         ],
         "type": "scatter",
         "x": [
          -0.5132851004600525
         ],
         "y": [
          16.65548324584961
         ]
        },
        {
         "line": {
          "color": "DarkSlateGrey",
          "width": 2
         },
         "marker": {
          "color": "red",
          "size": 9,
          "symbol": "diamond"
         },
         "mode": "markers",
         "name": "for",
         "text": [
          "for"
         ],
         "type": "scatter",
         "x": [
          -0.5048481822013855
         ],
         "y": [
          16.156782150268555
         ]
        }
       ],
       "layout": {
        "scene": {
         "xaxis": {
          "title": {
           "text": "X"
          }
         },
         "yaxis": {
          "title": {
           "text": "Y"
          }
         }
        },
        "template": {
         "data": {
          "bar": [
           {
            "error_x": {
             "color": "#2a3f5f"
            },
            "error_y": {
             "color": "#2a3f5f"
            },
            "marker": {
             "line": {
              "color": "#E5ECF6",
              "width": 0.5
             },
             "pattern": {
              "fillmode": "overlay",
              "size": 10,
              "solidity": 0.2
             }
            },
            "type": "bar"
           }
          ],
          "barpolar": [
           {
            "marker": {
             "line": {
              "color": "#E5ECF6",
              "width": 0.5
             },
             "pattern": {
              "fillmode": "overlay",
              "size": 10,
              "solidity": 0.2
             }
            },
            "type": "barpolar"
           }
          ],
          "carpet": [
           {
            "aaxis": {
             "endlinecolor": "#2a3f5f",
             "gridcolor": "white",
             "linecolor": "white",
             "minorgridcolor": "white",
             "startlinecolor": "#2a3f5f"
            },
            "baxis": {
             "endlinecolor": "#2a3f5f",
             "gridcolor": "white",
             "linecolor": "white",
             "minorgridcolor": "white",
             "startlinecolor": "#2a3f5f"
            },
            "type": "carpet"
           }
          ],
          "choropleth": [
           {
            "colorbar": {
             "outlinewidth": 0,
             "ticks": ""
            },
            "type": "choropleth"
           }
          ],
          "contour": [
           {
            "colorbar": {
             "outlinewidth": 0,
             "ticks": ""
            },
            "colorscale": [
             [
              0,
              "#0d0887"
             ],
             [
              0.1111111111111111,
              "#46039f"
             ],
             [
              0.2222222222222222,
              "#7201a8"
             ],
             [
              0.3333333333333333,
              "#9c179e"
             ],
             [
              0.4444444444444444,
              "#bd3786"
             ],
             [
              0.5555555555555556,
              "#d8576b"
             ],
             [
              0.6666666666666666,
              "#ed7953"
             ],
             [
              0.7777777777777778,
              "#fb9f3a"
             ],
             [
              0.8888888888888888,
              "#fdca26"
             ],
             [
              1,
              "#f0f921"
             ]
            ],
            "type": "contour"
           }
          ],
          "contourcarpet": [
           {
            "colorbar": {
             "outlinewidth": 0,
             "ticks": ""
            },
            "type": "contourcarpet"
           }
          ],
          "heatmap": [
           {
            "colorbar": {
             "outlinewidth": 0,
             "ticks": ""
            },
            "colorscale": [
             [
              0,
              "#0d0887"
             ],
             [
              0.1111111111111111,
              "#46039f"
             ],
             [
              0.2222222222222222,
              "#7201a8"
             ],
             [
              0.3333333333333333,
              "#9c179e"
             ],
             [
              0.4444444444444444,
              "#bd3786"
             ],
             [
              0.5555555555555556,
              "#d8576b"
             ],
             [
              0.6666666666666666,
              "#ed7953"
             ],
             [
              0.7777777777777778,
              "#fb9f3a"
             ],
             [
              0.8888888888888888,
              "#fdca26"
             ],
             [
              1,
              "#f0f921"
             ]
            ],
            "type": "heatmap"
           }
          ],
          "heatmapgl": [
           {
            "colorbar": {
             "outlinewidth": 0,
             "ticks": ""
            },
            "colorscale": [
             [
              0,
              "#0d0887"
             ],
             [
              0.1111111111111111,
              "#46039f"
             ],
             [
              0.2222222222222222,
              "#7201a8"
             ],
             [
              0.3333333333333333,
              "#9c179e"
             ],
             [
              0.4444444444444444,
              "#bd3786"
             ],
             [
              0.5555555555555556,
              "#d8576b"
             ],
             [
              0.6666666666666666,
              "#ed7953"
             ],
             [
              0.7777777777777778,
              "#fb9f3a"
             ],
             [
              0.8888888888888888,
              "#fdca26"
             ],
             [
              1,
              "#f0f921"
             ]
            ],
            "type": "heatmapgl"
           }
          ],
          "histogram": [
           {
            "marker": {
             "pattern": {
              "fillmode": "overlay",
              "size": 10,
              "solidity": 0.2
             }
            },
            "type": "histogram"
           }
          ],
          "histogram2d": [
           {
            "colorbar": {
             "outlinewidth": 0,
             "ticks": ""
            },
            "colorscale": [
             [
              0,
              "#0d0887"
             ],
             [
              0.1111111111111111,
              "#46039f"
             ],
             [
              0.2222222222222222,
              "#7201a8"
             ],
             [
              0.3333333333333333,
              "#9c179e"
             ],
             [
              0.4444444444444444,
              "#bd3786"
             ],
             [
              0.5555555555555556,
              "#d8576b"
             ],
             [
              0.6666666666666666,
              "#ed7953"
             ],
             [
              0.7777777777777778,
              "#fb9f3a"
             ],
             [
              0.8888888888888888,
              "#fdca26"
             ],
             [
              1,
              "#f0f921"
             ]
            ],
            "type": "histogram2d"
           }
          ],
          "histogram2dcontour": [
           {
            "colorbar": {
             "outlinewidth": 0,
             "ticks": ""
            },
            "colorscale": [
             [
              0,
              "#0d0887"
             ],
             [
              0.1111111111111111,
              "#46039f"
             ],
             [
              0.2222222222222222,
              "#7201a8"
             ],
             [
              0.3333333333333333,
              "#9c179e"
             ],
             [
              0.4444444444444444,
              "#bd3786"
             ],
             [
              0.5555555555555556,
              "#d8576b"
             ],
             [
              0.6666666666666666,
              "#ed7953"
             ],
             [
              0.7777777777777778,
              "#fb9f3a"
             ],
             [
              0.8888888888888888,
              "#fdca26"
             ],
             [
              1,
              "#f0f921"
             ]
            ],
            "type": "histogram2dcontour"
           }
          ],
          "mesh3d": [
           {
            "colorbar": {
             "outlinewidth": 0,
             "ticks": ""
            },
            "type": "mesh3d"
           }
          ],
          "parcoords": [
           {
            "line": {
             "colorbar": {
              "outlinewidth": 0,
              "ticks": ""
             }
            },
            "type": "parcoords"
           }
          ],
          "pie": [
           {
            "automargin": true,
            "type": "pie"
           }
          ],
          "scatter": [
           {
            "fillpattern": {
             "fillmode": "overlay",
             "size": 10,
             "solidity": 0.2
            },
            "type": "scatter"
           }
          ],
          "scatter3d": [
           {
            "line": {
             "colorbar": {
              "outlinewidth": 0,
              "ticks": ""
             }
            },
            "marker": {
             "colorbar": {
              "outlinewidth": 0,
              "ticks": ""
             }
            },
            "type": "scatter3d"
           }
          ],
          "scattercarpet": [
           {
            "marker": {
             "colorbar": {
              "outlinewidth": 0,
              "ticks": ""
             }
            },
            "type": "scattercarpet"
           }
          ],
          "scattergeo": [
           {
            "marker": {
             "colorbar": {
              "outlinewidth": 0,
              "ticks": ""
             }
            },
            "type": "scattergeo"
           }
          ],
          "scattergl": [
           {
            "marker": {
             "colorbar": {
              "outlinewidth": 0,
              "ticks": ""
             }
            },
            "type": "scattergl"
           }
          ],
          "scattermapbox": [
           {
            "marker": {
             "colorbar": {
              "outlinewidth": 0,
              "ticks": ""
             }
            },
            "type": "scattermapbox"
           }
          ],
          "scatterpolar": [
           {
            "marker": {
             "colorbar": {
              "outlinewidth": 0,
              "ticks": ""
             }
            },
            "type": "scatterpolar"
           }
          ],
          "scatterpolargl": [
           {
            "marker": {
             "colorbar": {
              "outlinewidth": 0,
              "ticks": ""
             }
            },
            "type": "scatterpolargl"
           }
          ],
          "scatterternary": [
           {
            "marker": {
             "colorbar": {
              "outlinewidth": 0,
              "ticks": ""
             }
            },
            "type": "scatterternary"
           }
          ],
          "surface": [
           {
            "colorbar": {
             "outlinewidth": 0,
             "ticks": ""
            },
            "colorscale": [
             [
              0,
              "#0d0887"
             ],
             [
              0.1111111111111111,
              "#46039f"
             ],
             [
              0.2222222222222222,
              "#7201a8"
             ],
             [
              0.3333333333333333,
              "#9c179e"
             ],
             [
              0.4444444444444444,
              "#bd3786"
             ],
             [
              0.5555555555555556,
              "#d8576b"
             ],
             [
              0.6666666666666666,
              "#ed7953"
             ],
             [
              0.7777777777777778,
              "#fb9f3a"
             ],
             [
              0.8888888888888888,
              "#fdca26"
             ],
             [
              1,
              "#f0f921"
             ]
            ],
            "type": "surface"
           }
          ],
          "table": [
           {
            "cells": {
             "fill": {
              "color": "#EBF0F8"
             },
             "line": {
              "color": "white"
             }
            },
            "header": {
             "fill": {
              "color": "#C8D4E3"
             },
             "line": {
              "color": "white"
             }
            },
            "type": "table"
           }
          ]
         },
         "layout": {
          "annotationdefaults": {
           "arrowcolor": "#2a3f5f",
           "arrowhead": 0,
           "arrowwidth": 1
          },
          "autotypenumbers": "strict",
          "coloraxis": {
           "colorbar": {
            "outlinewidth": 0,
            "ticks": ""
           }
          },
          "colorscale": {
           "diverging": [
            [
             0,
             "#8e0152"
            ],
            [
             0.1,
             "#c51b7d"
            ],
            [
             0.2,
             "#de77ae"
            ],
            [
             0.3,
             "#f1b6da"
            ],
            [
             0.4,
             "#fde0ef"
            ],
            [
             0.5,
             "#f7f7f7"
            ],
            [
             0.6,
             "#e6f5d0"
            ],
            [
             0.7,
             "#b8e186"
            ],
            [
             0.8,
             "#7fbc41"
            ],
            [
             0.9,
             "#4d9221"
            ],
            [
             1,
             "#276419"
            ]
           ],
           "sequential": [
            [
             0,
             "#0d0887"
            ],
            [
             0.1111111111111111,
             "#46039f"
            ],
            [
             0.2222222222222222,
             "#7201a8"
            ],
            [
             0.3333333333333333,
             "#9c179e"
            ],
            [
             0.4444444444444444,
             "#bd3786"
            ],
            [
             0.5555555555555556,
             "#d8576b"
            ],
            [
             0.6666666666666666,
             "#ed7953"
            ],
            [
             0.7777777777777778,
             "#fb9f3a"
            ],
            [
             0.8888888888888888,
             "#fdca26"
            ],
            [
             1,
             "#f0f921"
            ]
           ],
           "sequentialminus": [
            [
             0,
             "#0d0887"
            ],
            [
             0.1111111111111111,
             "#46039f"
            ],
            [
             0.2222222222222222,
             "#7201a8"
            ],
            [
             0.3333333333333333,
             "#9c179e"
            ],
            [
             0.4444444444444444,
             "#bd3786"
            ],
            [
             0.5555555555555556,
             "#d8576b"
            ],
            [
             0.6666666666666666,
             "#ed7953"
            ],
            [
             0.7777777777777778,
             "#fb9f3a"
            ],
            [
             0.8888888888888888,
             "#fdca26"
            ],
            [
             1,
             "#f0f921"
            ]
           ]
          },
          "colorway": [
           "#636efa",
           "#EF553B",
           "#00cc96",
           "#ab63fa",
           "#FFA15A",
           "#19d3f3",
           "#FF6692",
           "#B6E880",
           "#FF97FF",
           "#FECB52"
          ],
          "font": {
           "color": "#2a3f5f"
          },
          "geo": {
           "bgcolor": "white",
           "lakecolor": "white",
           "landcolor": "#E5ECF6",
           "showlakes": true,
           "showland": true,
           "subunitcolor": "white"
          },
          "hoverlabel": {
           "align": "left"
          },
          "hovermode": "closest",
          "mapbox": {
           "style": "light"
          },
          "paper_bgcolor": "white",
          "plot_bgcolor": "#E5ECF6",
          "polar": {
           "angularaxis": {
            "gridcolor": "white",
            "linecolor": "white",
            "ticks": ""
           },
           "bgcolor": "#E5ECF6",
           "radialaxis": {
            "gridcolor": "white",
            "linecolor": "white",
            "ticks": ""
           }
          },
          "scene": {
           "xaxis": {
            "backgroundcolor": "#E5ECF6",
            "gridcolor": "white",
            "gridwidth": 2,
            "linecolor": "white",
            "showbackground": true,
            "ticks": "",
            "zerolinecolor": "white"
           },
           "yaxis": {
            "backgroundcolor": "#E5ECF6",
            "gridcolor": "white",
            "gridwidth": 2,
            "linecolor": "white",
            "showbackground": true,
            "ticks": "",
            "zerolinecolor": "white"
           },
           "zaxis": {
            "backgroundcolor": "#E5ECF6",
            "gridcolor": "white",
            "gridwidth": 2,
            "linecolor": "white",
            "showbackground": true,
            "ticks": "",
            "zerolinecolor": "white"
           }
          },
          "shapedefaults": {
           "line": {
            "color": "#2a3f5f"
           }
          },
          "ternary": {
           "aaxis": {
            "gridcolor": "white",
            "linecolor": "white",
            "ticks": ""
           },
           "baxis": {
            "gridcolor": "white",
            "linecolor": "white",
            "ticks": ""
           },
           "bgcolor": "#E5ECF6",
           "caxis": {
            "gridcolor": "white",
            "linecolor": "white",
            "ticks": ""
           }
          },
          "title": {
           "x": 0.05
          },
          "xaxis": {
           "automargin": true,
           "gridcolor": "white",
           "linecolor": "white",
           "ticks": "",
           "title": {
            "standoff": 15
           },
           "zerolinecolor": "white",
           "zerolinewidth": 2
          },
          "yaxis": {
           "automargin": true,
           "gridcolor": "white",
           "linecolor": "white",
           "ticks": "",
           "title": {
            "standoff": 15
           },
           "zerolinecolor": "white",
           "zerolinewidth": 2
          }
         }
        },
        "title": {
         "text": "2D Scatter Plot"
        }
       }
      }
     },
     "metadata": {},
     "output_type": "display_data"
    }
   ],
   "source": [
    "visualizeCorpus(v, l, vgold, lgold, clabels, dim=2)"
   ]
  },
  {
   "attachments": {},
   "cell_type": "markdown",
   "metadata": {},
   "source": [
    "### Compute TF of words"
   ]
  },
  {
   "cell_type": "code",
   "execution_count": null,
   "metadata": {},
   "outputs": [],
   "source": [
    "def tf():\n",
    "    pass"
   ]
  }
 ],
 "metadata": {
  "kernelspec": {
   "display_name": ".venv",
   "language": "python",
   "name": "python3"
  },
  "language_info": {
   "codemirror_mode": {
    "name": "ipython",
    "version": 3
   },
   "file_extension": ".py",
   "mimetype": "text/x-python",
   "name": "python",
   "nbconvert_exporter": "python",
   "pygments_lexer": "ipython3",
   "version": "3.11.3"
  },
  "orig_nbformat": 4
 },
 "nbformat": 4,
 "nbformat_minor": 2
}

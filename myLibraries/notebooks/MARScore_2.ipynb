{
 "cells": [
  {
   "attachments": {},
   "cell_type": "markdown",
   "metadata": {},
   "source": [
    "### Libraries"
   ]
  },
  {
   "cell_type": "code",
   "execution_count": null,
   "metadata": {},
   "outputs": [],
   "source": [
    "from transformers import BertTokenizer, BertModel\n",
    "import torch\n",
    "from umap import UMAP\n",
    "import plotly.express as px\n",
    "import plotly.graph_objects as go\n",
    "from matplotlib import pyplot as plt\n",
    "import numpy as np\n",
    "import pandas as pd"
   ]
  },
  {
   "attachments": {},
   "cell_type": "markdown",
   "metadata": {},
   "source": [
    "### Corpus embedding"
   ]
  },
  {
   "cell_type": "code",
   "execution_count": null,
   "metadata": {},
   "outputs": [],
   "source": [
    "def tokenizeCorpus(corpus, model=BertModel.from_pretrained('bert-base-uncased', \n",
    "                                                           output_hidden_states=True), \n",
    "                           tokenizer = BertTokenizer.from_pretrained('bert-base-uncased'), \n",
    "                           model_input_size=512):\n",
    "    def flatten(l):\n",
    "        return [item for sublist in l for item in sublist]\n",
    "    input_size = model_input_size - 1\n",
    "    corpusWords = corpus.split(\" \")\n",
    "    splited = [\" \".join(corpusWords[i:i+input_size]) for i in range(0, len(corpusWords), input_size)]\n",
    "\n",
    "    input_ids = []\n",
    "    attention_masks = []\n",
    "    for sentence in splited:\n",
    "        encoded = tokenizer.encode_plus(sentence, \n",
    "                                        add_special_tokens=True,\n",
    "                                        max_length=input_size+1,\n",
    "                                        padding=\"max_length\",\n",
    "                                        return_attention_mask=True,\n",
    "                                        return_tensors='pt',\n",
    "                                        truncation=True)\n",
    "        input_ids.append(encoded[\"input_ids\"])\n",
    "        attention_masks.append(encoded[\"attention_mask\"])\n",
    "\n",
    "    #inputs_ids = torch.Tensor(len(input_ids),1, max_len+1)\n",
    "    #torch.cat(input_ids, out=inputs_ids)\n",
    "    inputs_ids = torch.cat(input_ids, dim=0)\n",
    "    attention_masks = torch.cat(attention_masks, dim=0)\n",
    "    \n",
    "    temp = flatten([batch.tolist() for batch in input_ids])\n",
    "    labels = np.array(temp)\n",
    "    labels = labels.reshape((labels.shape[0]*labels.shape[1]))\n",
    "    labels = tokenizer.convert_ids_to_tokens(labels)\n",
    "    with torch.no_grad():\n",
    "        output = model(inputs_ids, attention_mask=attention_masks)\n",
    "    return output, labels\n",
    "\n",
    "def vectorizeCorpus(model_output, allStates=True):\n",
    "    if allStates==True:\n",
    "        hidden_states = model_output.hidden_states\n",
    "    else:\n",
    "        hidden_states = [model_output.last_hidden_state]\n",
    "    token_embeddings = torch.stack(hidden_states, dim=0)\n",
    "    token_embeddings = token_embeddings.permute(1,2,0,3)\n",
    "    embs = []\n",
    "    for batch in token_embeddings:\n",
    "        for token in batch:\n",
    "            emb = torch.cat((token[-1], token[-2], token[-3], token[-4]), dim=0)\n",
    "            embs.append(emb)\n",
    "    return embs\n",
    "\n",
    "def visualizeCorpus(embs, labels, embs_gold=None, labels_gold=None, dim=2):\n",
    "    comp_gold = True if embs_gold != None and labels_gold != None else False\n",
    "\n",
    "    formated_embs = [token.tolist() for token in embs]\n",
    "    formated_embs = np.array(formated_embs)\n",
    "    formated_embs_gold = [token.tolist() for token in embs_gold]\n",
    "    formated_embs_gold = np.array(formated_embs_gold)\n",
    "    token_indexes = [i for i in range(len(labels)) if labels[i] != \"[PAD]\" and labels[i] != \"[CLS]\" and labels[i] != \"[SEP]\" and len(labels[i])>2]\n",
    "\n",
    "    if dim == 1:\n",
    "        umap1D = UMAP(n_components=1, init='random', random_state=0)\n",
    "        proj1D = umap1D.fit_transform(formated_embs).T\n",
    "\n",
    "        data = {\"x\": proj1D[0],\n",
    "                \"labels\": labels}\n",
    "        \n",
    "        for k in data.keys():\n",
    "            data[k] = [data[k][i] for i in range(len(data[k])) if i in token_indexes]\n",
    "\n",
    "        if comp_gold:\n",
    "            token_indexes_gold = [i for i in range(len(labels_gold)) if labels_gold[i] != \"[PAD]\" and labels_gold[i] != \"[CLS]\" and labels_gold[i] != \"[SEP]\" and len(labels_gold[i])>2]\n",
    "            proj1D_gold = umap1D.fit_transform(formated_embs_gold).T\n",
    "            data_gold = {\"x\": proj1D_gold[0],\n",
    "                        \"labels\": labels_gold}\n",
    "            for k in data_gold.keys():\n",
    "                data_gold[k] = [data_gold[k][i] for i in range(len(data_gold[k])) if i in token_indexes_gold]\n",
    "\n",
    "        traces = []\n",
    "        for i in range(len(data['x'])):\n",
    "            if comp_gold:\n",
    "                color = 'green' if data[\"labels\"][i] in data_gold[\"labels\"] else 'red'\n",
    "            else:\n",
    "                color = 'red'\n",
    "            trace = go.Scatter(\n",
    "                x=[data['x'][i]],\n",
    "                mode='markers',\n",
    "                marker=dict(size=6, color=color),\n",
    "                text=[data['labels'][i]],\n",
    "                name=data['labels'][i]\n",
    "            )\n",
    "            traces.append(trace)\n",
    "        if comp_gold:\n",
    "            for i in range(len(data_gold['x'])):\n",
    "                trace = go.Scatter(\n",
    "                    x=[data_gold['x'][i]],\n",
    "                    mode='markers',\n",
    "                    marker=dict(size=6, color='gold'),\n",
    "                    text=[data_gold['labels'][i]],\n",
    "                    name=data_gold['labels'][i]\n",
    "                )\n",
    "                traces.append(trace)\n",
    "\n",
    "        layout = go.Layout(\n",
    "            title='1D Scatter Plot',\n",
    "            scene=dict(\n",
    "                xaxis=dict(title='X')\n",
    "            )\n",
    "        )\n",
    "        fig = go.Figure(data=traces, layout=layout)\n",
    "        fig.show()\n",
    "\n",
    "    elif dim == 2:\n",
    "        umap2D = UMAP(n_components=2, init='random', random_state=0)\n",
    "        proj2D = umap2D.fit_transform(formated_embs).T\n",
    "\n",
    "        data = {\"x\": proj2D[0],\n",
    "                \"y\": proj2D[1],\n",
    "                \"labels\": labels}\n",
    "        \n",
    "        for k in data.keys():\n",
    "            data[k] = [data[k][i] for i in range(len(data[k])) if i in token_indexes]\n",
    "\n",
    "        if comp_gold:\n",
    "            token_indexes_gold = [i for i in range(len(labels_gold)) if labels_gold[i] != \"[PAD]\" and labels_gold[i] != \"[CLS]\" and labels_gold[i] != \"[SEP]\" and len(labels_gold[i])>2]\n",
    "            proj2D_gold = umap2D.fit_transform(formated_embs_gold).T\n",
    "            data_gold = {\"x\": proj2D_gold[0],\n",
    "                        \"y\": proj2D_gold[1],\n",
    "                        \"labels\": labels_gold}\n",
    "            for k in data_gold.keys():\n",
    "                data_gold[k] = [data_gold[k][i] for i in range(len(data_gold[k])) if i in token_indexes_gold]\n",
    "\n",
    "        traces = []\n",
    "        for i in range(len(data['x'])):\n",
    "            if comp_gold:\n",
    "                color = 'green' if data[\"labels\"][i] in data_gold[\"labels\"] else 'red'\n",
    "            else:\n",
    "                color = 'red'\n",
    "            trace = go.Scatter(\n",
    "                x=[data['x'][i]],\n",
    "                y=[data['y'][i]],\n",
    "                mode='markers',\n",
    "                marker=dict(size=6, color=color),\n",
    "                text=[data['labels'][i]],\n",
    "                name=data['labels'][i]\n",
    "            )\n",
    "            traces.append(trace)\n",
    "        if comp_gold:\n",
    "            for i in range(len(data_gold['x'])):\n",
    "                trace = go.Scatter(\n",
    "                    x=[data_gold['x'][i]],\n",
    "                    y=[data_gold['y'][i]],\n",
    "                    mode='markers',\n",
    "                    marker=dict(size=6, color='gold'),\n",
    "                    text=[data_gold['labels'][i]],\n",
    "                    name=data_gold['labels'][i]\n",
    "                )\n",
    "                traces.append(trace)\n",
    "\n",
    "        layout = go.Layout(\n",
    "            title='2D Scatter Plot',\n",
    "            scene=dict(\n",
    "                xaxis=dict(title='X'),\n",
    "                yaxis=dict(title='Y')\n",
    "            )\n",
    "        )\n",
    "        fig = go.Figure(data=traces, layout=layout)\n",
    "        fig.show()"
   ]
  },
  {
   "cell_type": "code",
   "execution_count": null,
   "metadata": {},
   "outputs": [],
   "source": [
    "model = BertModel.from_pretrained('bert-base-uncased',\n",
    "                                  output_hidden_states=True)\n",
    "tokenizer = BertTokenizer.from_pretrained('bert-base-uncased')"
   ]
  },
  {
   "cell_type": "code",
   "execution_count": null,
   "metadata": {},
   "outputs": [],
   "source": [
    "dataset_url=\"https://drive.google.com/file/d/1Wd0M3qepNF6B4YwFYrpo7CaSERpudAG_/view?usp=share_link\"\n",
    "dataset_url='https://drive.google.com/uc?export=download&id=' + dataset_url.split('/')[-2]\n",
    "dataset = pd.read_json(dataset_url, lines=True)\n",
    "dataset = dataset.loc[:, [\"text\", \"summary\"]]\n",
    "\n",
    "elem0 = dataset.iloc[0, 0]\n",
    "print(elem0)"
   ]
  },
  {
   "cell_type": "code",
   "execution_count": null,
   "metadata": {},
   "outputs": [],
   "source": [
    "gold0 = dataset.iloc[0, 1]\n",
    "print(gold0)"
   ]
  },
  {
   "cell_type": "code",
   "execution_count": null,
   "metadata": {},
   "outputs": [],
   "source": [
    "o, l = tokenizeCorpus(elem0)\n",
    "ogold, lgold = tokenizeCorpus(gold0)\n",
    "v = vectorizeCorpus(o)\n",
    "vgold = vectorizeCorpus(ogold)\n",
    "visualizeCorpus(v, l, vgold, lgold, dim=1)"
   ]
  },
  {
   "attachments": {},
   "cell_type": "markdown",
   "metadata": {},
   "source": [
    "### Clustering with HDBScan"
   ]
  },
  {
   "cell_type": "code",
   "execution_count": 1,
   "metadata": {},
   "outputs": [],
   "source": [
    "import sys\n",
    "sys.path.append(r\"C:\\Pro\\Stages\\A4 - DVRC\\Work\\Supervised-Learning-using-Unsupervised-Learning-Metrics-in-the-absence-of-Annotated-Data\\myLibraries\")"
   ]
  },
  {
   "cell_type": "code",
   "execution_count": 5,
   "metadata": {},
   "outputs": [],
   "source": [
    "import hdbscan\n",
    "from MARScore import *\n"
   ]
  },
  {
   "cell_type": "code",
   "execution_count": 3,
   "metadata": {},
   "outputs": [],
   "source": [
    "dataset_url=\"https://drive.google.com/file/d/1Wd0M3qepNF6B4YwFYrpo7CaSERpudAG_/view?usp=share_link\"\n",
    "dataset_url='https://drive.google.com/uc?export=download&id=' + dataset_url.split('/')[-2]\n",
    "dataset = pd.read_json(dataset_url, lines=True)\n",
    "dataset = dataset.loc[:, [\"text\", \"summary\"]]"
   ]
  },
  {
   "cell_type": "code",
   "execution_count": 4,
   "metadata": {},
   "outputs": [],
   "source": [
    "elem0 = dataset.iloc[0, 0]\n",
    "gold0 = dataset.iloc[0, 1]"
   ]
  },
  {
   "cell_type": "code",
   "execution_count": 6,
   "metadata": {},
   "outputs": [
    {
     "data": {
      "application/vnd.plotly.v1+json": {
       "config": {
        "plotlyServerURL": "https://plot.ly"
       },
       "data": [
        {
         "marker": {
          "color": "red",
          "size": 6
         },
         "mode": "markers",
         "name": "section",
         "text": [
          "section"
         ],
         "type": "scatter",
         "x": [
          -6.013946533203125
         ]
        },
        {
         "marker": {
          "color": "red",
          "size": 6
         },
         "mode": "markers",
         "name": "short",
         "text": [
          "short"
         ],
         "type": "scatter",
         "x": [
          -5.402317047119141
         ]
        },
        {
         "marker": {
          "color": "red",
          "size": 6
         },
         "mode": "markers",
         "name": "title",
         "text": [
          "title"
         ],
         "type": "scatter",
         "x": [
          -5.484086990356445
         ]
        },
        {
         "marker": {
          "color": "red",
          "size": 6
         },
         "mode": "markers",
         "name": "this",
         "text": [
          "this"
         ],
         "type": "scatter",
         "x": [
          -5.28387975692749
         ]
        },
        {
         "marker": {
          "color": "green",
          "size": 6
         },
         "mode": "markers",
         "name": "act",
         "text": [
          "act"
         ],
         "type": "scatter",
         "x": [
          -5.803406715393066
         ]
        },
        {
         "marker": {
          "color": "red",
          "size": 6
         },
         "mode": "markers",
         "name": "may",
         "text": [
          "may"
         ],
         "type": "scatter",
         "x": [
          -5.177734851837158
         ]
        },
        {
         "marker": {
          "color": "red",
          "size": 6
         },
         "mode": "markers",
         "name": "cited",
         "text": [
          "cited"
         ],
         "type": "scatter",
         "x": [
          -5.298851013183594
         ]
        },
        {
         "marker": {
          "color": "green",
          "size": 6
         },
         "mode": "markers",
         "name": "the",
         "text": [
          "the"
         ],
         "type": "scatter",
         "x": [
          -5.143575668334961
         ]
        },
        {
         "marker": {
          "color": "green",
          "size": 6
         },
         "mode": "markers",
         "name": "national",
         "text": [
          "national"
         ],
         "type": "scatter",
         "x": [
          18.516427993774414
         ]
        },
        {
         "marker": {
          "color": "green",
          "size": 6
         },
         "mode": "markers",
         "name": "science",
         "text": [
          "science"
         ],
         "type": "scatter",
         "x": [
          34.810997009277344
         ]
        },
        {
         "marker": {
          "color": "green",
          "size": 6
         },
         "mode": "markers",
         "name": "education",
         "text": [
          "education"
         ],
         "type": "scatter",
         "x": [
          21.074831008911133
         ]
        },
        {
         "marker": {
          "color": "green",
          "size": 6
         },
         "mode": "markers",
         "name": "tax",
         "text": [
          "tax"
         ],
         "type": "scatter",
         "x": [
          19.319597244262695
         ]
        },
        {
         "marker": {
          "color": "green",
          "size": 6
         },
         "mode": "markers",
         "name": "incentive",
         "text": [
          "incentive"
         ],
         "type": "scatter",
         "x": [
          -1.047836422920227
         ]
        },
        {
         "marker": {
          "color": "green",
          "size": 6
         },
         "mode": "markers",
         "name": "for",
         "text": [
          "for"
         ],
         "type": "scatter",
         "x": [
          15.195128440856934
         ]
        },
        {
         "marker": {
          "color": "green",
          "size": 6
         },
         "mode": "markers",
         "name": "businesses",
         "text": [
          "businesses"
         ],
         "type": "scatter",
         "x": [
          16.507301330566406
         ]
        },
        {
         "marker": {
          "color": "green",
          "size": 6
         },
         "mode": "markers",
         "name": "act",
         "text": [
          "act"
         ],
         "type": "scatter",
         "x": [
          -5.7008442878723145
         ]
        },
        {
         "marker": {
          "color": "green",
          "size": 6
         },
         "mode": "markers",
         "name": "2007",
         "text": [
          "2007"
         ],
         "type": "scatter",
         "x": [
          18.579269409179688
         ]
        },
        {
         "marker": {
          "color": "red",
          "size": 6
         },
         "mode": "markers",
         "name": "sec",
         "text": [
          "sec"
         ],
         "type": "scatter",
         "x": [
          -6.177846431732178
         ]
        },
        {
         "marker": {
          "color": "red",
          "size": 6
         },
         "mode": "markers",
         "name": "credits",
         "text": [
          "credits"
         ],
         "type": "scatter",
         "x": [
          -0.8552649021148682
         ]
        },
        {
         "marker": {
          "color": "green",
          "size": 6
         },
         "mode": "markers",
         "name": "for",
         "text": [
          "for"
         ],
         "type": "scatter",
         "x": [
          15.358899116516113
         ]
        },
        {
         "marker": {
          "color": "red",
          "size": 6
         },
         "mode": "markers",
         "name": "certain",
         "text": [
          "certain"
         ],
         "type": "scatter",
         "x": [
          0.7859984040260315
         ]
        },
        {
         "marker": {
          "color": "green",
          "size": 6
         },
         "mode": "markers",
         "name": "contributions",
         "text": [
          "contributions"
         ],
         "type": "scatter",
         "x": [
          -1.4624663591384888
         ]
        },
        {
         "marker": {
          "color": "red",
          "size": 6
         },
         "mode": "markers",
         "name": "benefit",
         "text": [
          "benefit"
         ],
         "type": "scatter",
         "x": [
          -1.0687787532806396
         ]
        },
        {
         "marker": {
          "color": "red",
          "size": 6
         },
         "mode": "markers",
         "name": "##ing",
         "text": [
          "##ing"
         ],
         "type": "scatter",
         "x": [
          -1.0870357751846313
         ]
        },
        {
         "marker": {
          "color": "green",
          "size": 6
         },
         "mode": "markers",
         "name": "science",
         "text": [
          "science"
         ],
         "type": "scatter",
         "x": [
          34.80537414550781
         ]
        },
        {
         "marker": {
          "color": "green",
          "size": 6
         },
         "mode": "markers",
         "name": "technology",
         "text": [
          "technology"
         ],
         "type": "scatter",
         "x": [
          35.464664459228516
         ]
        },
        {
         "marker": {
          "color": "green",
          "size": 6
         },
         "mode": "markers",
         "name": "engineering",
         "text": [
          "engineering"
         ],
         "type": "scatter",
         "x": [
          33.90919494628906
         ]
        },
        {
         "marker": {
          "color": "green",
          "size": 6
         },
         "mode": "markers",
         "name": "and",
         "text": [
          "and"
         ],
         "type": "scatter",
         "x": [
          -9.428539276123047
         ]
        },
        {
         "marker": {
          "color": "green",
          "size": 6
         },
         "mode": "markers",
         "name": "mathematics",
         "text": [
          "mathematics"
         ],
         "type": "scatter",
         "x": [
          -15.408198356628418
         ]
        },
        {
         "marker": {
          "color": "green",
          "size": 6
         },
         "mode": "markers",
         "name": "education",
         "text": [
          "education"
         ],
         "type": "scatter",
         "x": [
          21.0955867767334
         ]
        },
        {
         "marker": {
          "color": "green",
          "size": 6
         },
         "mode": "markers",
         "name": "the",
         "text": [
          "the"
         ],
         "type": "scatter",
         "x": [
          15.479166984558105
         ]
        },
        {
         "marker": {
          "color": "green",
          "size": 6
         },
         "mode": "markers",
         "name": "elementary",
         "text": [
          "elementary"
         ],
         "type": "scatter",
         "x": [
          -13.85241985321045
         ]
        },
        {
         "marker": {
          "color": "green",
          "size": 6
         },
         "mode": "markers",
         "name": "and",
         "text": [
          "and"
         ],
         "type": "scatter",
         "x": [
          -9.535343170166016
         ]
        },
        {
         "marker": {
          "color": "green",
          "size": 6
         },
         "mode": "markers",
         "name": "secondary",
         "text": [
          "secondary"
         ],
         "type": "scatter",
         "x": [
          -13.880786895751953
         ]
        },
        {
         "marker": {
          "color": "red",
          "size": 6
         },
         "mode": "markers",
         "name": "school",
         "text": [
          "school"
         ],
         "type": "scatter",
         "x": [
          -13.16378116607666
         ]
        },
        {
         "marker": {
          "color": "red",
          "size": 6
         },
         "mode": "markers",
         "name": "level",
         "text": [
          "level"
         ],
         "type": "scatter",
         "x": [
          -13.02935791015625
         ]
        },
        {
         "marker": {
          "color": "green",
          "size": 6
         },
         "mode": "markers",
         "name": "general",
         "text": [
          "general"
         ],
         "type": "scatter",
         "x": [
          18.55313491821289
         ]
        },
        {
         "marker": {
          "color": "red",
          "size": 6
         },
         "mode": "markers",
         "name": "sub",
         "text": [
          "sub"
         ],
         "type": "scatter",
         "x": [
          -5.632876873016357
         ]
        },
        {
         "marker": {
          "color": "red",
          "size": 6
         },
         "mode": "markers",
         "name": "##par",
         "text": [
          "##par"
         ],
         "type": "scatter",
         "x": [
          -5.6185526847839355
         ]
        },
        {
         "marker": {
          "color": "red",
          "size": 6
         },
         "mode": "markers",
         "name": "##t",
         "text": [
          "##t"
         ],
         "type": "scatter",
         "x": [
          -5.555230617523193
         ]
        },
        {
         "marker": {
          "color": "red",
          "size": 6
         },
         "mode": "markers",
         "name": "part",
         "text": [
          "part"
         ],
         "type": "scatter",
         "x": [
          -5.760878086090088
         ]
        },
        {
         "marker": {
          "color": "red",
          "size": 6
         },
         "mode": "markers",
         "name": "sub",
         "text": [
          "sub"
         ],
         "type": "scatter",
         "x": [
          -5.679069995880127
         ]
        },
        {
         "marker": {
          "color": "red",
          "size": 6
         },
         "mode": "markers",
         "name": "##cha",
         "text": [
          "##cha"
         ],
         "type": "scatter",
         "x": [
          18.585111618041992
         ]
        },
        {
         "marker": {
          "color": "red",
          "size": 6
         },
         "mode": "markers",
         "name": "##pt",
         "text": [
          "##pt"
         ],
         "type": "scatter",
         "x": [
          18.44321060180664
         ]
        },
        {
         "marker": {
          "color": "red",
          "size": 6
         },
         "mode": "markers",
         "name": "##er",
         "text": [
          "##er"
         ],
         "type": "scatter",
         "x": [
          -5.546372890472412
         ]
        },
        {
         "marker": {
          "color": "red",
          "size": 6
         },
         "mode": "markers",
         "name": "chapter",
         "text": [
          "chapter"
         ],
         "type": "scatter",
         "x": [
          -5.882009983062744
         ]
        },
        {
         "marker": {
          "color": "green",
          "size": 6
         },
         "mode": "markers",
         "name": "the",
         "text": [
          "the"
         ],
         "type": "scatter",
         "x": [
          -5.058791160583496
         ]
        },
        {
         "marker": {
          "color": "green",
          "size": 6
         },
         "mode": "markers",
         "name": "internal",
         "text": [
          "internal"
         ],
         "type": "scatter",
         "x": [
          18.586647033691406
         ]
        },
        {
         "marker": {
          "color": "green",
          "size": 6
         },
         "mode": "markers",
         "name": "revenue",
         "text": [
          "revenue"
         ],
         "type": "scatter",
         "x": [
          18.77284812927246
         ]
        },
        {
         "marker": {
          "color": "green",
          "size": 6
         },
         "mode": "markers",
         "name": "code",
         "text": [
          "code"
         ],
         "type": "scatter",
         "x": [
          -5.719954013824463
         ]
        },
        {
         "marker": {
          "color": "red",
          "size": 6
         },
         "mode": "markers",
         "name": "1986",
         "text": [
          "1986"
         ],
         "type": "scatter",
         "x": [
          18.62299919128418
         ]
        },
        {
         "marker": {
          "color": "red",
          "size": 6
         },
         "mode": "markers",
         "name": "relating",
         "text": [
          "relating"
         ],
         "type": "scatter",
         "x": [
          16.168724060058594
         ]
        },
        {
         "marker": {
          "color": "green",
          "size": 6
         },
         "mode": "markers",
         "name": "business",
         "text": [
          "business"
         ],
         "type": "scatter",
         "x": [
          16.498144149780273
         ]
        },
        {
         "marker": {
          "color": "red",
          "size": 6
         },
         "mode": "markers",
         "name": "related",
         "text": [
          "related"
         ],
         "type": "scatter",
         "x": [
          15.90368366241455
         ]
        },
        {
         "marker": {
          "color": "red",
          "size": 6
         },
         "mode": "markers",
         "name": "credits",
         "text": [
          "credits"
         ],
         "type": "scatter",
         "x": [
          -0.8025645017623901
         ]
        },
        {
         "marker": {
          "color": "red",
          "size": 6
         },
         "mode": "markers",
         "name": "amended",
         "text": [
          "amended"
         ],
         "type": "scatter",
         "x": [
          -6.435057640075684
         ]
        },
        {
         "marker": {
          "color": "red",
          "size": 6
         },
         "mode": "markers",
         "name": "adding",
         "text": [
          "adding"
         ],
         "type": "scatter",
         "x": [
          -6.692525386810303
         ]
        },
        {
         "marker": {
          "color": "green",
          "size": 6
         },
         "mode": "markers",
         "name": "the",
         "text": [
          "the"
         ],
         "type": "scatter",
         "x": [
          17.503374099731445
         ]
        },
        {
         "marker": {
          "color": "red",
          "size": 6
         },
         "mode": "markers",
         "name": "end",
         "text": [
          "end"
         ],
         "type": "scatter",
         "x": [
          17.75412368774414
         ]
        },
        {
         "marker": {
          "color": "green",
          "size": 6
         },
         "mode": "markers",
         "name": "the",
         "text": [
          "the"
         ],
         "type": "scatter",
         "x": [
          17.500829696655273
         ]
        },
        {
         "marker": {
          "color": "red",
          "size": 6
         },
         "mode": "markers",
         "name": "following",
         "text": [
          "following"
         ],
         "type": "scatter",
         "x": [
          17.721912384033203
         ]
        },
        {
         "marker": {
          "color": "red",
          "size": 6
         },
         "mode": "markers",
         "name": "new",
         "text": [
          "new"
         ],
         "type": "scatter",
         "x": [
          -6.441715240478516
         ]
        },
        {
         "marker": {
          "color": "red",
          "size": 6
         },
         "mode": "markers",
         "name": "section",
         "text": [
          "section"
         ],
         "type": "scatter",
         "x": [
          -6.1127705574035645
         ]
        },
        {
         "marker": {
          "color": "red",
          "size": 6
         },
         "mode": "markers",
         "name": "sec",
         "text": [
          "sec"
         ],
         "type": "scatter",
         "x": [
          -6.152662754058838
         ]
        },
        {
         "marker": {
          "color": "red",
          "size": 6
         },
         "mode": "markers",
         "name": "##o",
         "text": [
          "##o"
         ],
         "type": "scatter",
         "x": [
          -10.878178596496582
         ]
        },
        {
         "marker": {
          "color": "green",
          "size": 6
         },
         "mode": "markers",
         "name": "contributions",
         "text": [
          "contributions"
         ],
         "type": "scatter",
         "x": [
          -1.450170874595642
         ]
        },
        {
         "marker": {
          "color": "red",
          "size": 6
         },
         "mode": "markers",
         "name": "benefit",
         "text": [
          "benefit"
         ],
         "type": "scatter",
         "x": [
          -1.0201082229614258
         ]
        },
        {
         "marker": {
          "color": "red",
          "size": 6
         },
         "mode": "markers",
         "name": "##ing",
         "text": [
          "##ing"
         ],
         "type": "scatter",
         "x": [
          -1.073138952255249
         ]
        },
        {
         "marker": {
          "color": "green",
          "size": 6
         },
         "mode": "markers",
         "name": "science",
         "text": [
          "science"
         ],
         "type": "scatter",
         "x": [
          34.817745208740234
         ]
        },
        {
         "marker": {
          "color": "green",
          "size": 6
         },
         "mode": "markers",
         "name": "technology",
         "text": [
          "technology"
         ],
         "type": "scatter",
         "x": [
          35.498416900634766
         ]
        },
        {
         "marker": {
          "color": "green",
          "size": 6
         },
         "mode": "markers",
         "name": "engineering",
         "text": [
          "engineering"
         ],
         "type": "scatter",
         "x": [
          33.93866729736328
         ]
        },
        {
         "marker": {
          "color": "green",
          "size": 6
         },
         "mode": "markers",
         "name": "and",
         "text": [
          "and"
         ],
         "type": "scatter",
         "x": [
          -9.425888061523438
         ]
        },
        {
         "marker": {
          "color": "green",
          "size": 6
         },
         "mode": "markers",
         "name": "mathematics",
         "text": [
          "mathematics"
         ],
         "type": "scatter",
         "x": [
          -15.41064167022705
         ]
        },
        {
         "marker": {
          "color": "green",
          "size": 6
         },
         "mode": "markers",
         "name": "education",
         "text": [
          "education"
         ],
         "type": "scatter",
         "x": [
          21.083803176879883
         ]
        },
        {
         "marker": {
          "color": "green",
          "size": 6
         },
         "mode": "markers",
         "name": "the",
         "text": [
          "the"
         ],
         "type": "scatter",
         "x": [
          15.48723030090332
         ]
        },
        {
         "marker": {
          "color": "green",
          "size": 6
         },
         "mode": "markers",
         "name": "elementary",
         "text": [
          "elementary"
         ],
         "type": "scatter",
         "x": [
          -13.79450511932373
         ]
        },
        {
         "marker": {
          "color": "green",
          "size": 6
         },
         "mode": "markers",
         "name": "and",
         "text": [
          "and"
         ],
         "type": "scatter",
         "x": [
          -9.49344253540039
         ]
        },
        {
         "marker": {
          "color": "green",
          "size": 6
         },
         "mode": "markers",
         "name": "secondary",
         "text": [
          "secondary"
         ],
         "type": "scatter",
         "x": [
          -13.856083869934082
         ]
        },
        {
         "marker": {
          "color": "red",
          "size": 6
         },
         "mode": "markers",
         "name": "school",
         "text": [
          "school"
         ],
         "type": "scatter",
         "x": [
          -13.175126075744629
         ]
        },
        {
         "marker": {
          "color": "red",
          "size": 6
         },
         "mode": "markers",
         "name": "level",
         "text": [
          "level"
         ],
         "type": "scatter",
         "x": [
          -12.998897552490234
         ]
        },
        {
         "marker": {
          "color": "green",
          "size": 6
         },
         "mode": "markers",
         "name": "general",
         "text": [
          "general"
         ],
         "type": "scatter",
         "x": [
          18.61283302307129
         ]
        },
        {
         "marker": {
          "color": "green",
          "size": 6
         },
         "mode": "markers",
         "name": "for",
         "text": [
          "for"
         ],
         "type": "scatter",
         "x": [
          15.76773738861084
         ]
        },
        {
         "marker": {
          "color": "red",
          "size": 6
         },
         "mode": "markers",
         "name": "purposes",
         "text": [
          "purposes"
         ],
         "type": "scatter",
         "x": [
          17.037370681762695
         ]
        },
        {
         "marker": {
          "color": "red",
          "size": 6
         },
         "mode": "markers",
         "name": "section",
         "text": [
          "section"
         ],
         "type": "scatter",
         "x": [
          -6.058886528015137
         ]
        },
        {
         "marker": {
          "color": "green",
          "size": 6
         },
         "mode": "markers",
         "name": "the",
         "text": [
          "the"
         ],
         "type": "scatter",
         "x": [
          0.3583405315876007
         ]
        },
        {
         "marker": {
          "color": "green",
          "size": 6
         },
         "mode": "markers",
         "name": "elementary",
         "text": [
          "elementary"
         ],
         "type": "scatter",
         "x": [
          -13.846270561218262
         ]
        },
        {
         "marker": {
          "color": "green",
          "size": 6
         },
         "mode": "markers",
         "name": "and",
         "text": [
          "and"
         ],
         "type": "scatter",
         "x": [
          -9.543472290039062
         ]
        },
        {
         "marker": {
          "color": "green",
          "size": 6
         },
         "mode": "markers",
         "name": "secondary",
         "text": [
          "secondary"
         ],
         "type": "scatter",
         "x": [
          -13.84919548034668
         ]
        },
        {
         "marker": {
          "color": "green",
          "size": 6
         },
         "mode": "markers",
         "name": "science",
         "text": [
          "science"
         ],
         "type": "scatter",
         "x": [
          34.81462097167969
         ]
        },
        {
         "marker": {
          "color": "green",
          "size": 6
         },
         "mode": "markers",
         "name": "technology",
         "text": [
          "technology"
         ],
         "type": "scatter",
         "x": [
          35.490814208984375
         ]
        },
        {
         "marker": {
          "color": "green",
          "size": 6
         },
         "mode": "markers",
         "name": "engineering",
         "text": [
          "engineering"
         ],
         "type": "scatter",
         "x": [
          33.920677185058594
         ]
        },
        {
         "marker": {
          "color": "green",
          "size": 6
         },
         "mode": "markers",
         "name": "and",
         "text": [
          "and"
         ],
         "type": "scatter",
         "x": [
          -9.436517715454102
         ]
        },
        {
         "marker": {
          "color": "green",
          "size": 6
         },
         "mode": "markers",
         "name": "mathematics",
         "text": [
          "mathematics"
         ],
         "type": "scatter",
         "x": [
          -15.387628555297852
         ]
        },
        {
         "marker": {
          "color": "red",
          "size": 6
         },
         "mode": "markers",
         "name": "stem",
         "text": [
          "stem"
         ],
         "type": "scatter",
         "x": [
          26.18978500366211
         ]
        },
        {
         "marker": {
          "color": "green",
          "size": 6
         },
         "mode": "markers",
         "name": "contributions",
         "text": [
          "contributions"
         ],
         "type": "scatter",
         "x": [
          -1.4520456790924072
         ]
        },
        {
         "marker": {
          "color": "green",
          "size": 6
         },
         "mode": "markers",
         "name": "credit",
         "text": [
          "credit"
         ],
         "type": "scatter",
         "x": [
          -0.7487862706184387
         ]
        },
        {
         "marker": {
          "color": "red",
          "size": 6
         },
         "mode": "markers",
         "name": "determined",
         "text": [
          "determined"
         ],
         "type": "scatter",
         "x": [
          -0.39118754863739014
         ]
        },
        {
         "marker": {
          "color": "red",
          "size": 6
         },
         "mode": "markers",
         "name": "under",
         "text": [
          "under"
         ],
         "type": "scatter",
         "x": [
          12.794726371765137
         ]
        },
        {
         "marker": {
          "color": "red",
          "size": 6
         },
         "mode": "markers",
         "name": "this",
         "text": [
          "this"
         ],
         "type": "scatter",
         "x": [
          -5.2545952796936035
         ]
        },
        {
         "marker": {
          "color": "red",
          "size": 6
         },
         "mode": "markers",
         "name": "section",
         "text": [
          "section"
         ],
         "type": "scatter",
         "x": [
          -6.093835353851318
         ]
        },
        {
         "marker": {
          "color": "green",
          "size": 6
         },
         "mode": "markers",
         "name": "for",
         "text": [
          "for"
         ],
         "type": "scatter",
         "x": [
          15.387068748474121
         ]
        },
        {
         "marker": {
          "color": "green",
          "size": 6
         },
         "mode": "markers",
         "name": "the",
         "text": [
          "the"
         ],
         "type": "scatter",
         "x": [
          14.958640098571777
         ]
        },
        {
         "marker": {
          "color": "red",
          "size": 6
         },
         "mode": "markers",
         "name": "taxa",
         "text": [
          "taxa"
         ],
         "type": "scatter",
         "x": [
          18.24144172668457
         ]
        },
        {
         "marker": {
          "color": "red",
          "size": 6
         },
         "mode": "markers",
         "name": "##ble",
         "text": [
          "##ble"
         ],
         "type": "scatter",
         "x": [
          17.91106605529785
         ]
        },
        {
         "marker": {
          "color": "red",
          "size": 6
         },
         "mode": "markers",
         "name": "year",
         "text": [
          "year"
         ],
         "type": "scatter",
         "x": [
          17.761974334716797
         ]
        },
        {
         "marker": {
          "color": "red",
          "size": 6
         },
         "mode": "markers",
         "name": "amount",
         "text": [
          "amount"
         ],
         "type": "scatter",
         "x": [
          -0.22407425940036774
         ]
        },
        {
         "marker": {
          "color": "red",
          "size": 6
         },
         "mode": "markers",
         "name": "equal",
         "text": [
          "equal"
         ],
         "type": "scatter",
         "x": [
          0.3195742964744568
         ]
        },
        {
         "marker": {
          "color": "red",
          "size": 6
         },
         "mode": "markers",
         "name": "100",
         "text": [
          "100"
         ],
         "type": "scatter",
         "x": [
          0.3067702054977417
         ]
        },
        {
         "marker": {
          "color": "red",
          "size": 6
         },
         "mode": "markers",
         "name": "percent",
         "text": [
          "percent"
         ],
         "type": "scatter",
         "x": [
          0.06277909874916077
         ]
        },
        {
         "marker": {
          "color": "green",
          "size": 6
         },
         "mode": "markers",
         "name": "the",
         "text": [
          "the"
         ],
         "type": "scatter",
         "x": [
          0.3326597809791565
         ]
        },
        {
         "marker": {
          "color": "red",
          "size": 6
         },
         "mode": "markers",
         "name": "qualified",
         "text": [
          "qualified"
         ],
         "type": "scatter",
         "x": [
          26.80208969116211
         ]
        },
        {
         "marker": {
          "color": "red",
          "size": 6
         },
         "mode": "markers",
         "name": "stem",
         "text": [
          "stem"
         ],
         "type": "scatter",
         "x": [
          26.191728591918945
         ]
        },
        {
         "marker": {
          "color": "green",
          "size": 6
         },
         "mode": "markers",
         "name": "contributions",
         "text": [
          "contributions"
         ],
         "type": "scatter",
         "x": [
          -1.4503697156906128
         ]
        },
        {
         "marker": {
          "color": "green",
          "size": 6
         },
         "mode": "markers",
         "name": "the",
         "text": [
          "the"
         ],
         "type": "scatter",
         "x": [
          14.533597946166992
         ]
        },
        {
         "marker": {
          "color": "red",
          "size": 6
         },
         "mode": "markers",
         "name": "taxpayer",
         "text": [
          "taxpayer"
         ],
         "type": "scatter",
         "x": [
          19.576995849609375
         ]
        },
        {
         "marker": {
          "color": "green",
          "size": 6
         },
         "mode": "markers",
         "name": "for",
         "text": [
          "for"
         ],
         "type": "scatter",
         "x": [
          15.47438907623291
         ]
        },
        {
         "marker": {
          "color": "red",
          "size": 6
         },
         "mode": "markers",
         "name": "such",
         "text": [
          "such"
         ],
         "type": "scatter",
         "x": [
          -16.388370513916016
         ]
        },
        {
         "marker": {
          "color": "red",
          "size": 6
         },
         "mode": "markers",
         "name": "taxa",
         "text": [
          "taxa"
         ],
         "type": "scatter",
         "x": [
          18.275224685668945
         ]
        },
        {
         "marker": {
          "color": "red",
          "size": 6
         },
         "mode": "markers",
         "name": "##ble",
         "text": [
          "##ble"
         ],
         "type": "scatter",
         "x": [
          17.88376808166504
         ]
        },
        {
         "marker": {
          "color": "red",
          "size": 6
         },
         "mode": "markers",
         "name": "year",
         "text": [
          "year"
         ],
         "type": "scatter",
         "x": [
          17.826627731323242
         ]
        },
        {
         "marker": {
          "color": "red",
          "size": 6
         },
         "mode": "markers",
         "name": "qualified",
         "text": [
          "qualified"
         ],
         "type": "scatter",
         "x": [
          26.70415496826172
         ]
        },
        {
         "marker": {
          "color": "red",
          "size": 6
         },
         "mode": "markers",
         "name": "stem",
         "text": [
          "stem"
         ],
         "type": "scatter",
         "x": [
          26.19155502319336
         ]
        },
        {
         "marker": {
          "color": "green",
          "size": 6
         },
         "mode": "markers",
         "name": "contributions",
         "text": [
          "contributions"
         ],
         "type": "scatter",
         "x": [
          -1.4747825860977173
         ]
        },
        {
         "marker": {
          "color": "green",
          "size": 6
         },
         "mode": "markers",
         "name": "for",
         "text": [
          "for"
         ],
         "type": "scatter",
         "x": [
          15.766030311584473
         ]
        },
        {
         "marker": {
          "color": "red",
          "size": 6
         },
         "mode": "markers",
         "name": "purposes",
         "text": [
          "purposes"
         ],
         "type": "scatter",
         "x": [
          17.0379638671875
         ]
        },
        {
         "marker": {
          "color": "red",
          "size": 6
         },
         "mode": "markers",
         "name": "this",
         "text": [
          "this"
         ],
         "type": "scatter",
         "x": [
          -5.254702091217041
         ]
        },
        {
         "marker": {
          "color": "red",
          "size": 6
         },
         "mode": "markers",
         "name": "section",
         "text": [
          "section"
         ],
         "type": "scatter",
         "x": [
          -6.040628910064697
         ]
        },
        {
         "marker": {
          "color": "green",
          "size": 6
         },
         "mode": "markers",
         "name": "the",
         "text": [
          "the"
         ],
         "type": "scatter",
         "x": [
          17.432113647460938
         ]
        },
        {
         "marker": {
          "color": "red",
          "size": 6
         },
         "mode": "markers",
         "name": "term",
         "text": [
          "term"
         ],
         "type": "scatter",
         "x": [
          -22.831031799316406
         ]
        },
        {
         "marker": {
          "color": "red",
          "size": 6
         },
         "mode": "markers",
         "name": "qualified",
         "text": [
          "qualified"
         ],
         "type": "scatter",
         "x": [
          26.788169860839844
         ]
        },
        {
         "marker": {
          "color": "red",
          "size": 6
         },
         "mode": "markers",
         "name": "stem",
         "text": [
          "stem"
         ],
         "type": "scatter",
         "x": [
          26.18328857421875
         ]
        },
        {
         "marker": {
          "color": "green",
          "size": 6
         },
         "mode": "markers",
         "name": "contributions",
         "text": [
          "contributions"
         ],
         "type": "scatter",
         "x": [
          -1.4702811241149902
         ]
        },
        {
         "marker": {
          "color": "red",
          "size": 6
         },
         "mode": "markers",
         "name": "means",
         "text": [
          "means"
         ],
         "type": "scatter",
         "x": [
          -19.390350341796875
         ]
        },
        {
         "marker": {
          "color": "red",
          "size": 6
         },
         "mode": "markers",
         "name": "stem",
         "text": [
          "stem"
         ],
         "type": "scatter",
         "x": [
          26.161148071289062
         ]
        },
        {
         "marker": {
          "color": "red",
          "size": 6
         },
         "mode": "markers",
         "name": "school",
         "text": [
          "school"
         ],
         "type": "scatter",
         "x": [
          -13.140958786010742
         ]
        },
        {
         "marker": {
          "color": "green",
          "size": 6
         },
         "mode": "markers",
         "name": "contributions",
         "text": [
          "contributions"
         ],
         "type": "scatter",
         "x": [
          -1.4747700691223145
         ]
        },
        {
         "marker": {
          "color": "red",
          "size": 6
         },
         "mode": "markers",
         "name": "stem",
         "text": [
          "stem"
         ],
         "type": "scatter",
         "x": [
          26.160293579101562
         ]
        },
        {
         "marker": {
          "color": "green",
          "size": 6
         },
         "mode": "markers",
         "name": "teacher",
         "text": [
          "teacher"
         ],
         "type": "scatter",
         "x": [
          21.456256866455078
         ]
        },
        {
         "marker": {
          "color": "red",
          "size": 6
         },
         "mode": "markers",
         "name": "##tern",
         "text": [
          "##tern"
         ],
         "type": "scatter",
         "x": [
          20.524280548095703
         ]
        },
        {
         "marker": {
          "color": "red",
          "size": 6
         },
         "mode": "markers",
         "name": "##ship",
         "text": [
          "##ship"
         ],
         "type": "scatter",
         "x": [
          20.66960906982422
         ]
        },
        {
         "marker": {
          "color": "red",
          "size": 6
         },
         "mode": "markers",
         "name": "expenses",
         "text": [
          "expenses"
         ],
         "type": "scatter",
         "x": [
          -1.220354437828064
         ]
        },
        {
         "marker": {
          "color": "green",
          "size": 6
         },
         "mode": "markers",
         "name": "and",
         "text": [
          "and"
         ],
         "type": "scatter",
         "x": [
          -8.019710540771484
         ]
        },
        {
         "marker": {
          "color": "red",
          "size": 6
         },
         "mode": "markers",
         "name": "stem",
         "text": [
          "stem"
         ],
         "type": "scatter",
         "x": [
          26.151294708251953
         ]
        },
        {
         "marker": {
          "color": "green",
          "size": 6
         },
         "mode": "markers",
         "name": "teacher",
         "text": [
          "teacher"
         ],
         "type": "scatter",
         "x": [
          21.416702270507812
         ]
        },
        {
         "marker": {
          "color": "green",
          "size": 6
         },
         "mode": "markers",
         "name": "training",
         "text": [
          "training"
         ],
         "type": "scatter",
         "x": [
          20.79304313659668
         ]
        },
        {
         "marker": {
          "color": "red",
          "size": 6
         },
         "mode": "markers",
         "name": "expenses",
         "text": [
          "expenses"
         ],
         "type": "scatter",
         "x": [
          -1.2186580896377563
         ]
        },
        {
         "marker": {
          "color": "red",
          "size": 6
         },
         "mode": "markers",
         "name": "stem",
         "text": [
          "stem"
         ],
         "type": "scatter",
         "x": [
          26.150991439819336
         ]
        },
        {
         "marker": {
          "color": "red",
          "size": 6
         },
         "mode": "markers",
         "name": "school",
         "text": [
          "school"
         ],
         "type": "scatter",
         "x": [
          21.595857620239258
         ]
        },
        {
         "marker": {
          "color": "green",
          "size": 6
         },
         "mode": "markers",
         "name": "contributions",
         "text": [
          "contributions"
         ],
         "type": "scatter",
         "x": [
          -1.4283747673034668
         ]
        },
        {
         "marker": {
          "color": "green",
          "size": 6
         },
         "mode": "markers",
         "name": "for",
         "text": [
          "for"
         ],
         "type": "scatter",
         "x": [
          15.78563404083252
         ]
        },
        {
         "marker": {
          "color": "red",
          "size": 6
         },
         "mode": "markers",
         "name": "purposes",
         "text": [
          "purposes"
         ],
         "type": "scatter",
         "x": [
          16.993139266967773
         ]
        },
        {
         "marker": {
          "color": "red",
          "size": 6
         },
         "mode": "markers",
         "name": "this",
         "text": [
          "this"
         ],
         "type": "scatter",
         "x": [
          -5.202010631561279
         ]
        },
        {
         "marker": {
          "color": "red",
          "size": 6
         },
         "mode": "markers",
         "name": "section",
         "text": [
          "section"
         ],
         "type": "scatter",
         "x": [
          -6.056906223297119
         ]
        },
        {
         "marker": {
          "color": "green",
          "size": 6
         },
         "mode": "markers",
         "name": "general",
         "text": [
          "general"
         ],
         "type": "scatter",
         "x": [
          18.618249893188477
         ]
        },
        {
         "marker": {
          "color": "green",
          "size": 6
         },
         "mode": "markers",
         "name": "the",
         "text": [
          "the"
         ],
         "type": "scatter",
         "x": [
          17.412128448486328
         ]
        },
        {
         "marker": {
          "color": "red",
          "size": 6
         },
         "mode": "markers",
         "name": "term",
         "text": [
          "term"
         ],
         "type": "scatter",
         "x": [
          -22.850866317749023
         ]
        },
        {
         "marker": {
          "color": "red",
          "size": 6
         },
         "mode": "markers",
         "name": "stem",
         "text": [
          "stem"
         ],
         "type": "scatter",
         "x": [
          26.192352294921875
         ]
        },
        {
         "marker": {
          "color": "red",
          "size": 6
         },
         "mode": "markers",
         "name": "school",
         "text": [
          "school"
         ],
         "type": "scatter",
         "x": [
          -13.062761306762695
         ]
        },
        {
         "marker": {
          "color": "green",
          "size": 6
         },
         "mode": "markers",
         "name": "contributions",
         "text": [
          "contributions"
         ],
         "type": "scatter",
         "x": [
          -1.457769513130188
         ]
        },
        {
         "marker": {
          "color": "red",
          "size": 6
         },
         "mode": "markers",
         "name": "means",
         "text": [
          "means"
         ],
         "type": "scatter",
         "x": [
          -19.389286041259766
         ]
        },
        {
         "marker": {
          "color": "red",
          "size": 6
         },
         "mode": "markers",
         "name": "stem",
         "text": [
          "stem"
         ],
         "type": "scatter",
         "x": [
          26.14928436279297
         ]
        },
        {
         "marker": {
          "color": "green",
          "size": 6
         },
         "mode": "markers",
         "name": "property",
         "text": [
          "property"
         ],
         "type": "scatter",
         "x": [
          22.364852905273438
         ]
        },
        {
         "marker": {
          "color": "green",
          "size": 6
         },
         "mode": "markers",
         "name": "contributions",
         "text": [
          "contributions"
         ],
         "type": "scatter",
         "x": [
          -1.4568657875061035
         ]
        },
        {
         "marker": {
          "color": "green",
          "size": 6
         },
         "mode": "markers",
         "name": "and",
         "text": [
          "and"
         ],
         "type": "scatter",
         "x": [
          -8.008545875549316
         ]
        },
        {
         "marker": {
          "color": "red",
          "size": 6
         },
         "mode": "markers",
         "name": "stem",
         "text": [
          "stem"
         ],
         "type": "scatter",
         "x": [
          26.175050735473633
         ]
        },
        {
         "marker": {
          "color": "red",
          "size": 6
         },
         "mode": "markers",
         "name": "service",
         "text": [
          "service"
         ],
         "type": "scatter",
         "x": [
          22.04636001586914
         ]
        },
        {
         "marker": {
          "color": "green",
          "size": 6
         },
         "mode": "markers",
         "name": "contributions",
         "text": [
          "contributions"
         ],
         "type": "scatter",
         "x": [
          -1.4639793634414673
         ]
        },
        {
         "marker": {
          "color": "red",
          "size": 6
         },
         "mode": "markers",
         "name": "stem",
         "text": [
          "stem"
         ],
         "type": "scatter",
         "x": [
          26.195690155029297
         ]
        },
        {
         "marker": {
          "color": "green",
          "size": 6
         },
         "mode": "markers",
         "name": "property",
         "text": [
          "property"
         ],
         "type": "scatter",
         "x": [
          22.37482261657715
         ]
        },
        {
         "marker": {
          "color": "green",
          "size": 6
         },
         "mode": "markers",
         "name": "contributions",
         "text": [
          "contributions"
         ],
         "type": "scatter",
         "x": [
          -1.4776461124420166
         ]
        },
        {
         "marker": {
          "color": "green",
          "size": 6
         },
         "mode": "markers",
         "name": "the",
         "text": [
          "the"
         ],
         "type": "scatter",
         "x": [
          17.397411346435547
         ]
        },
        {
         "marker": {
          "color": "red",
          "size": 6
         },
         "mode": "markers",
         "name": "term",
         "text": [
          "term"
         ],
         "type": "scatter",
         "x": [
          -22.814252853393555
         ]
        },
        {
         "marker": {
          "color": "red",
          "size": 6
         },
         "mode": "markers",
         "name": "stem",
         "text": [
          "stem"
         ],
         "type": "scatter",
         "x": [
          26.161781311035156
         ]
        },
        {
         "marker": {
          "color": "green",
          "size": 6
         },
         "mode": "markers",
         "name": "property",
         "text": [
          "property"
         ],
         "type": "scatter",
         "x": [
          22.341060638427734
         ]
        },
        {
         "marker": {
          "color": "green",
          "size": 6
         },
         "mode": "markers",
         "name": "contributions",
         "text": [
          "contributions"
         ],
         "type": "scatter",
         "x": [
          -1.4670075178146362
         ]
        },
        {
         "marker": {
          "color": "red",
          "size": 6
         },
         "mode": "markers",
         "name": "means",
         "text": [
          "means"
         ],
         "type": "scatter",
         "x": [
          -19.399917602539062
         ]
        },
        {
         "marker": {
          "color": "green",
          "size": 6
         },
         "mode": "markers",
         "name": "the",
         "text": [
          "the"
         ],
         "type": "scatter",
         "x": [
          0.4189501702785492
         ]
        },
        {
         "marker": {
          "color": "red",
          "size": 6
         },
         "mode": "markers",
         "name": "amount",
         "text": [
          "amount"
         ],
         "type": "scatter",
         "x": [
          -0.338681697845459
         ]
        },
        {
         "marker": {
          "color": "red",
          "size": 6
         },
         "mode": "markers",
         "name": "which",
         "text": [
          "which"
         ],
         "type": "scatter",
         "x": [
          13.805537223815918
         ]
        },
        {
         "marker": {
          "color": "red",
          "size": 6
         },
         "mode": "markers",
         "name": "would",
         "text": [
          "would"
         ],
         "type": "scatter",
         "x": [
          13.703956604003906
         ]
        },
        {
         "marker": {
          "color": "red",
          "size": 6
         },
         "mode": "markers",
         "name": "but",
         "text": [
          "but"
         ],
         "type": "scatter",
         "x": [
          18.76849937438965
         ]
        },
        {
         "marker": {
          "color": "green",
          "size": 6
         },
         "mode": "markers",
         "name": "for",
         "text": [
          "for"
         ],
         "type": "scatter",
         "x": [
          15.673676490783691
         ]
        },
        {
         "marker": {
          "color": "red",
          "size": 6
         },
         "mode": "markers",
         "name": "sub",
         "text": [
          "sub"
         ],
         "type": "scatter",
         "x": [
          -5.799724578857422
         ]
        },
        {
         "marker": {
          "color": "red",
          "size": 6
         },
         "mode": "markers",
         "name": "##section",
         "text": [
          "##section"
         ],
         "type": "scatter",
         "x": [
          -6.024270057678223
         ]
        },
        {
         "marker": {
          "color": "red",
          "size": 6
         },
         "mode": "markers",
         "name": "allowed",
         "text": [
          "allowed"
         ],
         "type": "scatter",
         "x": [
          -0.07549818605184555
         ]
        },
        {
         "marker": {
          "color": "red",
          "size": 6
         },
         "mode": "markers",
         "name": "##duction",
         "text": [
          "##duction"
         ],
         "type": "scatter",
         "x": [
          -0.28374969959259033
         ]
        },
        {
         "marker": {
          "color": "red",
          "size": 6
         },
         "mode": "markers",
         "name": "under",
         "text": [
          "under"
         ],
         "type": "scatter",
         "x": [
          12.81080436706543
         ]
        },
        {
         "marker": {
          "color": "red",
          "size": 6
         },
         "mode": "markers",
         "name": "section",
         "text": [
          "section"
         ],
         "type": "scatter",
         "x": [
          -6.136952877044678
         ]
        },
        {
         "marker": {
          "color": "red",
          "size": 6
         },
         "mode": "markers",
         "name": "170",
         "text": [
          "170"
         ],
         "type": "scatter",
         "x": [
          -10.6603422164917
         ]
        },
        {
         "marker": {
          "color": "green",
          "size": 6
         },
         "mode": "markers",
         "name": "for",
         "text": [
          "for"
         ],
         "type": "scatter",
         "x": [
          15.35454273223877
         ]
        },
        {
         "marker": {
          "color": "red",
          "size": 6
         },
         "mode": "markers",
         "name": "charitable",
         "text": [
          "charitable"
         ],
         "type": "scatter",
         "x": [
          22.1912784576416
         ]
        },
        {
         "marker": {
          "color": "red",
          "size": 6
         },
         "mode": "markers",
         "name": "contribution",
         "text": [
          "contribution"
         ],
         "type": "scatter",
         "x": [
          -1.4587504863739014
         ]
        },
        {
         "marker": {
          "color": "red",
          "size": 6
         },
         "mode": "markers",
         "name": "stem",
         "text": [
          "stem"
         ],
         "type": "scatter",
         "x": [
          26.061065673828125
         ]
        },
        {
         "marker": {
          "color": "red",
          "size": 6
         },
         "mode": "markers",
         "name": "inventory",
         "text": [
          "inventory"
         ],
         "type": "scatter",
         "x": [
          22.17917823791504
         ]
        },
        {
         "marker": {
          "color": "green",
          "size": 6
         },
         "mode": "markers",
         "name": "property",
         "text": [
          "property"
         ],
         "type": "scatter",
         "x": [
          22.345190048217773
         ]
        },
        {
         "marker": {
          "color": "green",
          "size": 6
         },
         "mode": "markers",
         "name": "the",
         "text": [
          "the"
         ],
         "type": "scatter",
         "x": [
          14.66889476776123
         ]
        },
        {
         "marker": {
          "color": "red",
          "size": 6
         },
         "mode": "markers",
         "name": "done",
         "text": [
          "done"
         ],
         "type": "scatter",
         "x": [
          40.53689956665039
         ]
        },
        {
         "marker": {
          "color": "red",
          "size": 6
         },
         "mode": "markers",
         "name": "##e",
         "text": [
          "##e"
         ],
         "type": "scatter",
         "x": [
          -14.548307418823242
         ]
        },
        {
         "marker": {
          "color": "green",
          "size": 6
         },
         "mode": "markers",
         "name": "elementary",
         "text": [
          "elementary"
         ],
         "type": "scatter",
         "x": [
          -13.818750381469727
         ]
        },
        {
         "marker": {
          "color": "green",
          "size": 6
         },
         "mode": "markers",
         "name": "secondary",
         "text": [
          "secondary"
         ],
         "type": "scatter",
         "x": [
          -13.861764907836914
         ]
        },
        {
         "marker": {
          "color": "red",
          "size": 6
         },
         "mode": "markers",
         "name": "school",
         "text": [
          "school"
         ],
         "type": "scatter",
         "x": [
          -13.137850761413574
         ]
        },
        {
         "marker": {
          "color": "red",
          "size": 6
         },
         "mode": "markers",
         "name": "described",
         "text": [
          "described"
         ],
         "type": "scatter",
         "x": [
          -0.6053643226623535
         ]
        },
        {
         "marker": {
          "color": "red",
          "size": 6
         },
         "mode": "markers",
         "name": "section",
         "text": [
          "section"
         ],
         "type": "scatter",
         "x": [
          -6.096503257751465
         ]
        },
        {
         "marker": {
          "color": "red",
          "size": 6
         },
         "mode": "markers",
         "name": "170",
         "text": [
          "170"
         ],
         "type": "scatter",
         "x": [
          -10.62026596069336
         ]
        },
        {
         "marker": {
          "color": "red",
          "size": 6
         },
         "mode": "markers",
         "name": "substantially",
         "text": [
          "substantially"
         ],
         "type": "scatter",
         "x": [
          0.18046826124191284
         ]
        },
        {
         "marker": {
          "color": "red",
          "size": 6
         },
         "mode": "markers",
         "name": "all",
         "text": [
          "all"
         ],
         "type": "scatter",
         "x": [
          0.3168066143989563
         ]
        },
        {
         "marker": {
          "color": "green",
          "size": 6
         },
         "mode": "markers",
         "name": "the",
         "text": [
          "the"
         ],
         "type": "scatter",
         "x": [
          14.768075942993164
         ]
        },
        {
         "marker": {
          "color": "red",
          "size": 6
         },
         "mode": "markers",
         "name": "use",
         "text": [
          "use"
         ],
         "type": "scatter",
         "x": [
          16.2951602935791
         ]
        },
        {
         "marker": {
          "color": "green",
          "size": 6
         },
         "mode": "markers",
         "name": "the",
         "text": [
          "the"
         ],
         "type": "scatter",
         "x": [
          14.592655181884766
         ]
        },
        {
         "marker": {
          "color": "green",
          "size": 6
         },
         "mode": "markers",
         "name": "property",
         "text": [
          "property"
         ],
         "type": "scatter",
         "x": [
          22.377342224121094
         ]
        },
        {
         "marker": {
          "color": "green",
          "size": 6
         },
         "mode": "markers",
         "name": "the",
         "text": [
          "the"
         ],
         "type": "scatter",
         "x": [
          14.603547096252441
         ]
        },
        {
         "marker": {
          "color": "red",
          "size": 6
         },
         "mode": "markers",
         "name": "done",
         "text": [
          "done"
         ],
         "type": "scatter",
         "x": [
          40.53691482543945
         ]
        },
        {
         "marker": {
          "color": "red",
          "size": 6
         },
         "mode": "markers",
         "name": "##e",
         "text": [
          "##e"
         ],
         "type": "scatter",
         "x": [
          -14.551843643188477
         ]
        },
        {
         "marker": {
          "color": "red",
          "size": 6
         },
         "mode": "markers",
         "name": "within",
         "text": [
          "within"
         ],
         "type": "scatter",
         "x": [
          15.62153148651123
         ]
        },
        {
         "marker": {
          "color": "green",
          "size": 6
         },
         "mode": "markers",
         "name": "the",
         "text": [
          "the"
         ],
         "type": "scatter",
         "x": [
          15.336494445800781
         ]
        },
        {
         "marker": {
          "color": "red",
          "size": 6
         },
         "mode": "markers",
         "name": "united",
         "text": [
          "united"
         ],
         "type": "scatter",
         "x": [
          -7.198685646057129
         ]
        },
        {
         "marker": {
          "color": "red",
          "size": 6
         },
         "mode": "markers",
         "name": "states",
         "text": [
          "states"
         ],
         "type": "scatter",
         "x": [
          -7.229100704193115
         ]
        },
        {
         "marker": {
          "color": "red",
          "size": 6
         },
         "mode": "markers",
         "name": "within",
         "text": [
          "within"
         ],
         "type": "scatter",
         "x": [
          15.685543060302734
         ]
        },
        {
         "marker": {
          "color": "green",
          "size": 6
         },
         "mode": "markers",
         "name": "the",
         "text": [
          "the"
         ],
         "type": "scatter",
         "x": [
          15.371291160583496
         ]
        },
        {
         "marker": {
          "color": "red",
          "size": 6
         },
         "mode": "markers",
         "name": "defense",
         "text": [
          "defense"
         ],
         "type": "scatter",
         "x": [
          25.737627029418945
         ]
        },
        {
         "marker": {
          "color": "red",
          "size": 6
         },
         "mode": "markers",
         "name": "dependent",
         "text": [
          "dependent"
         ],
         "type": "scatter",
         "x": [
          20.247316360473633
         ]
        },
        {
         "marker": {
          "color": "green",
          "size": 6
         },
         "mode": "markers",
         "name": "##s",
         "text": [
          "##s"
         ],
         "type": "scatter",
         "x": [
          20.132259368896484
         ]
        },
        {
         "marker": {
          "color": "green",
          "size": 6
         },
         "mode": "markers",
         "name": "education",
         "text": [
          "education"
         ],
         "type": "scatter",
         "x": [
          21.11574363708496
         ]
        },
        {
         "marker": {
          "color": "red",
          "size": 6
         },
         "mode": "markers",
         "name": "system",
         "text": [
          "system"
         ],
         "type": "scatter",
         "x": [
          -2.0786550045013428
         ]
        },
        {
         "marker": {
          "color": "green",
          "size": 6
         },
         "mode": "markers",
         "name": "for",
         "text": [
          "for"
         ],
         "type": "scatter",
         "x": [
          15.544407844543457
         ]
        },
        {
         "marker": {
          "color": "red",
          "size": 6
         },
         "mode": "markers",
         "name": "educational",
         "text": [
          "educational"
         ],
         "type": "scatter",
         "x": [
          21.07276725769043
         ]
        },
        {
         "marker": {
          "color": "red",
          "size": 6
         },
         "mode": "markers",
         "name": "purposes",
         "text": [
          "purposes"
         ],
         "type": "scatter",
         "x": [
          16.497314453125
         ]
        },
        {
         "marker": {
          "color": "red",
          "size": 6
         },
         "mode": "markers",
         "name": "any",
         "text": [
          "any"
         ],
         "type": "scatter",
         "x": [
          0.8344467878341675
         ]
        },
        {
         "marker": {
          "color": "green",
          "size": 6
         },
         "mode": "markers",
         "name": "the",
         "text": [
          "the"
         ],
         "type": "scatter",
         "x": [
          15.429670333862305
         ]
        },
        {
         "marker": {
          "color": "red",
          "size": 6
         },
         "mode": "markers",
         "name": "grades",
         "text": [
          "grades"
         ],
         "type": "scatter",
         "x": [
          -13.48093032836914
         ]
        },
        {
         "marker": {
          "color": "red",
          "size": 6
         },
         "mode": "markers",
         "name": "that",
         "text": [
          "that"
         ],
         "type": "scatter",
         "x": [
          13.800143241882324
         ]
        },
        {
         "marker": {
          "color": "red",
          "size": 6
         },
         "mode": "markers",
         "name": "are",
         "text": [
          "are"
         ],
         "type": "scatter",
         "x": [
          13.771345138549805
         ]
        },
        {
         "marker": {
          "color": "red",
          "size": 6
         },
         "mode": "markers",
         "name": "related",
         "text": [
          "related"
         ],
         "type": "scatter",
         "x": [
          15.984326362609863
         ]
        },
        {
         "marker": {
          "color": "green",
          "size": 6
         },
         "mode": "markers",
         "name": "the",
         "text": [
          "the"
         ],
         "type": "scatter",
         "x": [
          18.294763565063477
         ]
        },
        {
         "marker": {
          "color": "red",
          "size": 6
         },
         "mode": "markers",
         "name": "purpose",
         "text": [
          "purpose"
         ],
         "type": "scatter",
         "x": [
          16.40645408630371
         ]
        },
        {
         "marker": {
          "color": "red",
          "size": 6
         },
         "mode": "markers",
         "name": "function",
         "text": [
          "function"
         ],
         "type": "scatter",
         "x": [
          16.38918685913086
         ]
        },
        {
         "marker": {
          "color": "green",
          "size": 6
         },
         "mode": "markers",
         "name": "the",
         "text": [
          "the"
         ],
         "type": "scatter",
         "x": [
          14.692265510559082
         ]
        },
        {
         "marker": {
          "color": "red",
          "size": 6
         },
         "mode": "markers",
         "name": "done",
         "text": [
          "done"
         ],
         "type": "scatter",
         "x": [
          40.536930084228516
         ]
        },
        {
         "marker": {
          "color": "red",
          "size": 6
         },
         "mode": "markers",
         "name": "##e",
         "text": [
          "##e"
         ],
         "type": "scatter",
         "x": [
          -14.556387901306152
         ]
        },
        {
         "marker": {
          "color": "green",
          "size": 6
         },
         "mode": "markers",
         "name": "the",
         "text": [
          "the"
         ],
         "type": "scatter",
         "x": [
          14.477303504943848
         ]
        },
        {
         "marker": {
          "color": "red",
          "size": 6
         },
         "mode": "markers",
         "name": "original",
         "text": [
          "original"
         ],
         "type": "scatter",
         "x": [
          14.322877883911133
         ]
        },
        {
         "marker": {
          "color": "red",
          "size": 6
         },
         "mode": "markers",
         "name": "use",
         "text": [
          "use"
         ],
         "type": "scatter",
         "x": [
          16.277088165283203
         ]
        },
        {
         "marker": {
          "color": "green",
          "size": 6
         },
         "mode": "markers",
         "name": "the",
         "text": [
          "the"
         ],
         "type": "scatter",
         "x": [
          14.609522819519043
         ]
        },
        {
         "marker": {
          "color": "green",
          "size": 6
         },
         "mode": "markers",
         "name": "property",
         "text": [
          "property"
         ],
         "type": "scatter",
         "x": [
          22.429290771484375
         ]
        },
        {
         "marker": {
          "color": "red",
          "size": 6
         },
         "mode": "markers",
         "name": "begins",
         "text": [
          "begins"
         ],
         "type": "scatter",
         "x": [
          14.115829467773438
         ]
        },
        {
         "marker": {
          "color": "red",
          "size": 6
         },
         "mode": "markers",
         "name": "with",
         "text": [
          "with"
         ],
         "type": "scatter",
         "x": [
          14.808701515197754
         ]
        },
        {
         "marker": {
          "color": "green",
          "size": 6
         },
         "mode": "markers",
         "name": "the",
         "text": [
          "the"
         ],
         "type": "scatter",
         "x": [
          14.692055702209473
         ]
        },
        {
         "marker": {
          "color": "red",
          "size": 6
         },
         "mode": "markers",
         "name": "done",
         "text": [
          "done"
         ],
         "type": "scatter",
         "x": [
          40.53691864013672
         ]
        },
        {
         "marker": {
          "color": "red",
          "size": 6
         },
         "mode": "markers",
         "name": "##e",
         "text": [
          "##e"
         ],
         "type": "scatter",
         "x": [
          -14.545930862426758
         ]
        },
        {
         "marker": {
          "color": "green",
          "size": 6
         },
         "mode": "markers",
         "name": "the",
         "text": [
          "the"
         ],
         "type": "scatter",
         "x": [
          14.543558120727539
         ]
        },
        {
         "marker": {
          "color": "green",
          "size": 6
         },
         "mode": "markers",
         "name": "property",
         "text": [
          "property"
         ],
         "type": "scatter",
         "x": [
          22.383222579956055
         ]
        },
        {
         "marker": {
          "color": "red",
          "size": 6
         },
         "mode": "markers",
         "name": "will",
         "text": [
          "will"
         ],
         "type": "scatter",
         "x": [
          13.640079498291016
         ]
        },
        {
         "marker": {
          "color": "red",
          "size": 6
         },
         "mode": "markers",
         "name": "fit",
         "text": [
          "fit"
         ],
         "type": "scatter",
         "x": [
          14.495711326599121
         ]
        },
        {
         "marker": {
          "color": "red",
          "size": 6
         },
         "mode": "markers",
         "name": "productive",
         "text": [
          "productive"
         ],
         "type": "scatter",
         "x": [
          14.532401084899902
         ]
        },
        {
         "marker": {
          "color": "red",
          "size": 6
         },
         "mode": "markers",
         "name": "##ly",
         "text": [
          "##ly"
         ],
         "type": "scatter",
         "x": [
          14.517471313476562
         ]
        },
        {
         "marker": {
          "color": "red",
          "size": 6
         },
         "mode": "markers",
         "name": "into",
         "text": [
          "into"
         ],
         "type": "scatter",
         "x": [
          14.696634292602539
         ]
        },
        {
         "marker": {
          "color": "green",
          "size": 6
         },
         "mode": "markers",
         "name": "the",
         "text": [
          "the"
         ],
         "type": "scatter",
         "x": [
          14.691705703735352
         ]
        },
        {
         "marker": {
          "color": "red",
          "size": 6
         },
         "mode": "markers",
         "name": "done",
         "text": [
          "done"
         ],
         "type": "scatter",
         "x": [
          40.53691101074219
         ]
        },
        {
         "marker": {
          "color": "red",
          "size": 6
         },
         "mode": "markers",
         "name": "##e",
         "text": [
          "##e"
         ],
         "type": "scatter",
         "x": [
          -14.56872844696045
         ]
        },
        {
         "marker": {
          "color": "green",
          "size": 6
         },
         "mode": "markers",
         "name": "education",
         "text": [
          "education"
         ],
         "type": "scatter",
         "x": [
          21.039215087890625
         ]
        },
        {
         "marker": {
          "color": "red",
          "size": 6
         },
         "mode": "markers",
         "name": "plan",
         "text": [
          "plan"
         ],
         "type": "scatter",
         "x": [
          -2.0199930667877197
         ]
        },
        {
         "marker": {
          "color": "green",
          "size": 6
         },
         "mode": "markers",
         "name": "the",
         "text": [
          "the"
         ],
         "type": "scatter",
         "x": [
          14.577339172363281
         ]
        },
        {
         "marker": {
          "color": "green",
          "size": 6
         },
         "mode": "markers",
         "name": "property",
         "text": [
          "property"
         ],
         "type": "scatter",
         "x": [
          22.39080810546875
         ]
        },
        {
         "marker": {
          "color": "red",
          "size": 6
         },
         "mode": "markers",
         "name": "not",
         "text": [
          "not"
         ],
         "type": "scatter",
         "x": [
          13.876981735229492
         ]
        },
        {
         "marker": {
          "color": "red",
          "size": 6
         },
         "mode": "markers",
         "name": "transferred",
         "text": [
          "transferred"
         ],
         "type": "scatter",
         "x": [
          22.004108428955078
         ]
        },
        {
         "marker": {
          "color": "green",
          "size": 6
         },
         "mode": "markers",
         "name": "the",
         "text": [
          "the"
         ],
         "type": "scatter",
         "x": [
          14.628053665161133
         ]
        },
        {
         "marker": {
          "color": "red",
          "size": 6
         },
         "mode": "markers",
         "name": "done",
         "text": [
          "done"
         ],
         "type": "scatter",
         "x": [
          40.53692626953125
         ]
        },
        {
         "marker": {
          "color": "red",
          "size": 6
         },
         "mode": "markers",
         "name": "##e",
         "text": [
          "##e"
         ],
         "type": "scatter",
         "x": [
          -14.534502029418945
         ]
        },
        {
         "marker": {
          "color": "red",
          "size": 6
         },
         "mode": "markers",
         "name": "exchange",
         "text": [
          "exchange"
         ],
         "type": "scatter",
         "x": [
          15.306844711303711
         ]
        },
        {
         "marker": {
          "color": "green",
          "size": 6
         },
         "mode": "markers",
         "name": "for",
         "text": [
          "for"
         ],
         "type": "scatter",
         "x": [
          15.28847885131836
         ]
        },
        {
         "marker": {
          "color": "red",
          "size": 6
         },
         "mode": "markers",
         "name": "money",
         "text": [
          "money"
         ],
         "type": "scatter",
         "x": [
          -0.427002876996994
         ]
        },
        {
         "marker": {
          "color": "red",
          "size": 6
         },
         "mode": "markers",
         "name": "other",
         "text": [
          "other"
         ],
         "type": "scatter",
         "x": [
          28.74769401550293
         ]
        },
        {
         "marker": {
          "color": "green",
          "size": 6
         },
         "mode": "markers",
         "name": "property",
         "text": [
          "property"
         ],
         "type": "scatter",
         "x": [
          22.355417251586914
         ]
        },
        {
         "marker": {
          "color": "green",
          "size": 6
         },
         "mode": "markers",
         "name": "services",
         "text": [
          "services"
         ],
         "type": "scatter",
         "x": [
          -1.8239154815673828
         ]
        },
        {
         "marker": {
          "color": "red",
          "size": 6
         },
         "mode": "markers",
         "name": "except",
         "text": [
          "except"
         ],
         "type": "scatter",
         "x": [
          15.031233787536621
         ]
        },
        {
         "marker": {
          "color": "green",
          "size": 6
         },
         "mode": "markers",
         "name": "for",
         "text": [
          "for"
         ],
         "type": "scatter",
         "x": [
          15.32267951965332
         ]
        },
        {
         "marker": {
          "color": "red",
          "size": 6
         },
         "mode": "markers",
         "name": "shipping",
         "text": [
          "shipping"
         ],
         "type": "scatter",
         "x": [
          21.94407081604004
         ]
        },
        {
         "marker": {
          "color": "red",
          "size": 6
         },
         "mode": "markers",
         "name": "installation",
         "text": [
          "installation"
         ],
         "type": "scatter",
         "x": [
          21.807106018066406
         ]
        },
        {
         "marker": {
          "color": "green",
          "size": 6
         },
         "mode": "markers",
         "name": "and",
         "text": [
          "and"
         ],
         "type": "scatter",
         "x": [
          -9.467132568359375
         ]
        },
        {
         "marker": {
          "color": "red",
          "size": 6
         },
         "mode": "markers",
         "name": "transfer",
         "text": [
          "transfer"
         ],
         "type": "scatter",
         "x": [
          21.885183334350586
         ]
        },
        {
         "marker": {
          "color": "red",
          "size": 6
         },
         "mode": "markers",
         "name": "costs",
         "text": [
          "costs"
         ],
         "type": "scatter",
         "x": [
          -1.1320570707321167
         ]
        },
        {
         "marker": {
          "color": "green",
          "size": 6
         },
         "mode": "markers",
         "name": "and",
         "text": [
          "and"
         ],
         "type": "scatter",
         "x": [
          -8.023789405822754
         ]
        },
        {
         "marker": {
          "color": "green",
          "size": 6
         },
         "mode": "markers",
         "name": "the",
         "text": [
          "the"
         ],
         "type": "scatter",
         "x": [
          14.594447135925293
         ]
        },
        {
         "marker": {
          "color": "red",
          "size": 6
         },
         "mode": "markers",
         "name": "done",
         "text": [
          "done"
         ],
         "type": "scatter",
         "x": [
          40.536460876464844
         ]
        },
        {
         "marker": {
          "color": "red",
          "size": 6
         },
         "mode": "markers",
         "name": "##e",
         "text": [
          "##e"
         ],
         "type": "scatter",
         "x": [
          -14.549092292785645
         ]
        },
        {
         "marker": {
          "color": "red",
          "size": 6
         },
         "mode": "markers",
         "name": "use",
         "text": [
          "use"
         ],
         "type": "scatter",
         "x": [
          16.279096603393555
         ]
        },
        {
         "marker": {
          "color": "green",
          "size": 6
         },
         "mode": "markers",
         "name": "and",
         "text": [
          "and"
         ],
         "type": "scatter",
         "x": [
          -9.479131698608398
         ]
        },
        {
         "marker": {
          "color": "red",
          "size": 6
         },
         "mode": "markers",
         "name": "disposition",
         "text": [
          "disposition"
         ],
         "type": "scatter",
         "x": [
          21.991241455078125
         ]
        },
        {
         "marker": {
          "color": "green",
          "size": 6
         },
         "mode": "markers",
         "name": "the",
         "text": [
          "the"
         ],
         "type": "scatter",
         "x": [
          14.59488296508789
         ]
        },
        {
         "marker": {
          "color": "green",
          "size": 6
         },
         "mode": "markers",
         "name": "property",
         "text": [
          "property"
         ],
         "type": "scatter",
         "x": [
          22.385591506958008
         ]
        },
        {
         "marker": {
          "color": "red",
          "size": 6
         },
         "mode": "markers",
         "name": "will",
         "text": [
          "will"
         ],
         "type": "scatter",
         "x": [
          13.520694732666016
         ]
        },
        {
         "marker": {
          "color": "red",
          "size": 6
         },
         "mode": "markers",
         "name": "accordance",
         "text": [
          "accordance"
         ],
         "type": "scatter",
         "x": [
          13.264300346374512
         ]
        },
        {
         "marker": {
          "color": "red",
          "size": 6
         },
         "mode": "markers",
         "name": "with",
         "text": [
          "with"
         ],
         "type": "scatter",
         "x": [
          13.30291748046875
         ]
        },
        {
         "marker": {
          "color": "green",
          "size": 6
         },
         "mode": "markers",
         "name": "the",
         "text": [
          "the"
         ],
         "type": "scatter",
         "x": [
          13.239095687866211
         ]
        },
        {
         "marker": {
          "color": "red",
          "size": 6
         },
         "mode": "markers",
         "name": "provisions",
         "text": [
          "provisions"
         ],
         "type": "scatter",
         "x": [
          -5.950272560119629
         ]
        },
        {
         "marker": {
          "color": "red",
          "size": 6
         },
         "mode": "markers",
         "name": "sub",
         "text": [
          "sub"
         ],
         "type": "scatter",
         "x": [
          -5.658693313598633
         ]
        },
        {
         "marker": {
          "color": "red",
          "size": 6
         },
         "mode": "markers",
         "name": "##para",
         "text": [
          "##para"
         ],
         "type": "scatter",
         "x": [
          -5.583608150482178
         ]
        },
        {
         "marker": {
          "color": "red",
          "size": 6
         },
         "mode": "markers",
         "name": "##graphs",
         "text": [
          "##graphs"
         ],
         "type": "scatter",
         "x": [
          -5.536368370056152
         ]
        },
        {
         "marker": {
          "color": "green",
          "size": 6
         },
         "mode": "markers",
         "name": "and",
         "text": [
          "and"
         ],
         "type": "scatter",
         "x": [
          -8.172599792480469
         ]
        },
        {
         "marker": {
          "color": "green",
          "size": 6
         },
         "mode": "markers",
         "name": "the",
         "text": [
          "the"
         ],
         "type": "scatter",
         "x": [
          0.3641120493412018
         ]
        },
        {
         "marker": {
          "color": "red",
          "size": 6
         },
         "mode": "markers",
         "name": "determination",
         "text": [
          "determination"
         ],
         "type": "scatter",
         "x": [
          -0.1391024887561798
         ]
        },
        {
         "marker": {
          "color": "green",
          "size": 6
         },
         "mode": "markers",
         "name": "the",
         "text": [
          "the"
         ],
         "type": "scatter",
         "x": [
          0.3157709240913391
         ]
        },
        {
         "marker": {
          "color": "red",
          "size": 6
         },
         "mode": "markers",
         "name": "amount",
         "text": [
          "amount"
         ],
         "type": "scatter",
         "x": [
          -0.16144870221614838
         ]
        },
        {
         "marker": {
          "color": "red",
          "size": 6
         },
         "mode": "markers",
         "name": "##duction",
         "text": [
          "##duction"
         ],
         "type": "scatter",
         "x": [
          -0.3511583209037781
         ]
        },
        {
         "marker": {
          "color": "red",
          "size": 6
         },
         "mode": "markers",
         "name": "under",
         "text": [
          "under"
         ],
         "type": "scatter",
         "x": [
          12.790623664855957
         ]
        },
        {
         "marker": {
          "color": "red",
          "size": 6
         },
         "mode": "markers",
         "name": "section",
         "text": [
          "section"
         ],
         "type": "scatter",
         "x": [
          -6.118239879608154
         ]
        },
        {
         "marker": {
          "color": "red",
          "size": 6
         },
         "mode": "markers",
         "name": "170",
         "text": [
          "170"
         ],
         "type": "scatter",
         "x": [
          -10.64858627319336
         ]
        },
        {
         "marker": {
          "color": "green",
          "size": 6
         },
         "mode": "markers",
         "name": "for",
         "text": [
          "for"
         ],
         "type": "scatter",
         "x": [
          15.533953666687012
         ]
        },
        {
         "marker": {
          "color": "red",
          "size": 6
         },
         "mode": "markers",
         "name": "purposes",
         "text": [
          "purposes"
         ],
         "type": "scatter",
         "x": [
          17.00288200378418
         ]
        },
        {
         "marker": {
          "color": "red",
          "size": 6
         },
         "mode": "markers",
         "name": "this",
         "text": [
          "this"
         ],
         "type": "scatter",
         "x": [
          -5.254852771759033
         ]
        },
        {
         "marker": {
          "color": "red",
          "size": 6
         },
         "mode": "markers",
         "name": "paragraph",
         "text": [
          "paragraph"
         ],
         "type": "scatter",
         "x": [
          -6.091859817504883
         ]
        },
        {
         "marker": {
          "color": "red",
          "size": 6
         },
         "mode": "markers",
         "name": "shall",
         "text": [
          "shall"
         ],
         "type": "scatter",
         "x": [
          13.554707527160645
         ]
        },
        {
         "marker": {
          "color": "red",
          "size": 6
         },
         "mode": "markers",
         "name": "made",
         "text": [
          "made"
         ],
         "type": "scatter",
         "x": [
          0.20377543568611145
         ]
        },
        {
         "marker": {
          "color": "green",
          "size": 6
         },
         "mode": "markers",
         "name": "the",
         "text": [
          "the"
         ],
         "type": "scatter",
         "x": [
          0.20958475768566132
         ]
        },
        {
         "marker": {
          "color": "red",
          "size": 6
         },
         "mode": "markers",
         "name": "limitation",
         "text": [
          "limitation"
         ],
         "type": "scatter",
         "x": [
          -0.07730785757303238
         ]
        },
        {
         "marker": {
          "color": "red",
          "size": 6
         },
         "mode": "markers",
         "name": "under",
         "text": [
          "under"
         ],
         "type": "scatter",
         "x": [
          12.849485397338867
         ]
        },
        {
         "marker": {
          "color": "red",
          "size": 6
         },
         "mode": "markers",
         "name": "section",
         "text": [
          "section"
         ],
         "type": "scatter",
         "x": [
          -6.107524871826172
         ]
        },
        {
         "marker": {
          "color": "red",
          "size": 6
         },
         "mode": "markers",
         "name": "170",
         "text": [
          "170"
         ],
         "type": "scatter",
         "x": [
          -10.58971881866455
         ]
        },
        {
         "marker": {
          "color": "red",
          "size": 6
         },
         "mode": "markers",
         "name": "applied",
         "text": [
          "applied"
         ],
         "type": "scatter",
         "x": [
          0.6678689122200012
         ]
        },
        {
         "marker": {
          "color": "red",
          "size": 6
         },
         "mode": "markers",
         "name": "all",
         "text": [
          "all"
         ],
         "type": "scatter",
         "x": [
          0.6848172545433044
         ]
        },
        {
         "marker": {
          "color": "red",
          "size": 6
         },
         "mode": "markers",
         "name": "stem",
         "text": [
          "stem"
         ],
         "type": "scatter",
         "x": [
          26.08995246887207
         ]
        },
        {
         "marker": {
          "color": "red",
          "size": 6
         },
         "mode": "markers",
         "name": "inventory",
         "text": [
          "inventory"
         ],
         "type": "scatter",
         "x": [
          22.278589248657227
         ]
        },
        {
         "marker": {
          "color": "green",
          "size": 6
         },
         "mode": "markers",
         "name": "property",
         "text": [
          "property"
         ],
         "type": "scatter",
         "x": [
          22.37367820739746
         ]
        },
        {
         "marker": {
          "color": "red",
          "size": 6
         },
         "mode": "markers",
         "name": "stem",
         "text": [
          "stem"
         ],
         "type": "scatter",
         "x": [
          26.184484481811523
         ]
        },
        {
         "marker": {
          "color": "red",
          "size": 6
         },
         "mode": "markers",
         "name": "service",
         "text": [
          "service"
         ],
         "type": "scatter",
         "x": [
          21.98494529724121
         ]
        },
        {
         "marker": {
          "color": "green",
          "size": 6
         },
         "mode": "markers",
         "name": "contributions",
         "text": [
          "contributions"
         ],
         "type": "scatter",
         "x": [
          -1.4732272624969482
         ]
        },
        {
         "marker": {
          "color": "green",
          "size": 6
         },
         "mode": "markers",
         "name": "the",
         "text": [
          "the"
         ],
         "type": "scatter",
         "x": [
          17.36563491821289
         ]
        },
        {
         "marker": {
          "color": "red",
          "size": 6
         },
         "mode": "markers",
         "name": "term",
         "text": [
          "term"
         ],
         "type": "scatter",
         "x": [
          -22.811511993408203
         ]
        },
        {
         "marker": {
          "color": "red",
          "size": 6
         },
         "mode": "markers",
         "name": "stem",
         "text": [
          "stem"
         ],
         "type": "scatter",
         "x": [
          26.160240173339844
         ]
        },
        {
         "marker": {
          "color": "red",
          "size": 6
         },
         "mode": "markers",
         "name": "service",
         "text": [
          "service"
         ],
         "type": "scatter",
         "x": [
          21.928543090820312
         ]
        },
        {
         "marker": {
          "color": "green",
          "size": 6
         },
         "mode": "markers",
         "name": "contributions",
         "text": [
          "contributions"
         ],
         "type": "scatter",
         "x": [
          -1.4662437438964844
         ]
        },
        {
         "marker": {
          "color": "red",
          "size": 6
         },
         "mode": "markers",
         "name": "means",
         "text": [
          "means"
         ],
         "type": "scatter",
         "x": [
          -19.385713577270508
         ]
        },
        {
         "marker": {
          "color": "green",
          "size": 6
         },
         "mode": "markers",
         "name": "the",
         "text": [
          "the"
         ],
         "type": "scatter",
         "x": [
          0.3577992916107178
         ]
        },
        {
         "marker": {
          "color": "red",
          "size": 6
         },
         "mode": "markers",
         "name": "amount",
         "text": [
          "amount"
         ],
         "type": "scatter",
         "x": [
          -0.2583857476711273
         ]
        },
        {
         "marker": {
          "color": "red",
          "size": 6
         },
         "mode": "markers",
         "name": "paid",
         "text": [
          "paid"
         ],
         "type": "scatter",
         "x": [
          -0.5047377347946167
         ]
        },
        {
         "marker": {
          "color": "red",
          "size": 6
         },
         "mode": "markers",
         "name": "incurred",
         "text": [
          "incurred"
         ],
         "type": "scatter",
         "x": [
          -0.48809540271759033
         ]
        },
        {
         "marker": {
          "color": "red",
          "size": 6
         },
         "mode": "markers",
         "name": "during",
         "text": [
          "during"
         ],
         "type": "scatter",
         "x": [
          15.514636039733887
         ]
        },
        {
         "marker": {
          "color": "green",
          "size": 6
         },
         "mode": "markers",
         "name": "the",
         "text": [
          "the"
         ],
         "type": "scatter",
         "x": [
          15.021185874938965
         ]
        },
        {
         "marker": {
          "color": "red",
          "size": 6
         },
         "mode": "markers",
         "name": "taxa",
         "text": [
          "taxa"
         ],
         "type": "scatter",
         "x": [
          18.174137115478516
         ]
        },
        {
         "marker": {
          "color": "red",
          "size": 6
         },
         "mode": "markers",
         "name": "##ble",
         "text": [
          "##ble"
         ],
         "type": "scatter",
         "x": [
          17.862682342529297
         ]
        },
        {
         "marker": {
          "color": "red",
          "size": 6
         },
         "mode": "markers",
         "name": "year",
         "text": [
          "year"
         ],
         "type": "scatter",
         "x": [
          17.815614700317383
         ]
        },
        {
         "marker": {
          "color": "green",
          "size": 6
         },
         "mode": "markers",
         "name": "for",
         "text": [
          "for"
         ],
         "type": "scatter",
         "x": [
          15.422438621520996
         ]
        },
        {
         "marker": {
          "color": "red",
          "size": 6
         },
         "mode": "markers",
         "name": "stem",
         "text": [
          "stem"
         ],
         "type": "scatter",
         "x": [
          26.16433334350586
         ]
        },
        {
         "marker": {
          "color": "green",
          "size": 6
         },
         "mode": "markers",
         "name": "services",
         "text": [
          "services"
         ],
         "type": "scatter",
         "x": [
          -1.8188889026641846
         ]
        },
        {
         "marker": {
          "color": "red",
          "size": 6
         },
         "mode": "markers",
         "name": "provided",
         "text": [
          "provided"
         ],
         "type": "scatter",
         "x": [
          -0.5898255705833435
         ]
        },
        {
         "marker": {
          "color": "green",
          "size": 6
         },
         "mode": "markers",
         "name": "the",
         "text": [
          "the"
         ],
         "type": "scatter",
         "x": [
          15.388155937194824
         ]
        },
        {
         "marker": {
          "color": "red",
          "size": 6
         },
         "mode": "markers",
         "name": "united",
         "text": [
          "united"
         ],
         "type": "scatter",
         "x": [
          -7.198160171508789
         ]
        },
        {
         "marker": {
          "color": "red",
          "size": 6
         },
         "mode": "markers",
         "name": "states",
         "text": [
          "states"
         ],
         "type": "scatter",
         "x": [
          -7.240560054779053
         ]
        },
        {
         "marker": {
          "color": "green",
          "size": 6
         },
         "mode": "markers",
         "name": "the",
         "text": [
          "the"
         ],
         "type": "scatter",
         "x": [
          15.403085708618164
         ]
        },
        {
         "marker": {
          "color": "red",
          "size": 6
         },
         "mode": "markers",
         "name": "defense",
         "text": [
          "defense"
         ],
         "type": "scatter",
         "x": [
          25.751041412353516
         ]
        },
        {
         "marker": {
          "color": "red",
          "size": 6
         },
         "mode": "markers",
         "name": "dependent",
         "text": [
          "dependent"
         ],
         "type": "scatter",
         "x": [
          20.27483367919922
         ]
        },
        {
         "marker": {
          "color": "green",
          "size": 6
         },
         "mode": "markers",
         "name": "##s",
         "text": [
          "##s"
         ],
         "type": "scatter",
         "x": [
          20.138662338256836
         ]
        },
        {
         "marker": {
          "color": "green",
          "size": 6
         },
         "mode": "markers",
         "name": "education",
         "text": [
          "education"
         ],
         "type": "scatter",
         "x": [
          21.10500144958496
         ]
        },
        {
         "marker": {
          "color": "red",
          "size": 6
         },
         "mode": "markers",
         "name": "system",
         "text": [
          "system"
         ],
         "type": "scatter",
         "x": [
          -2.111769437789917
         ]
        },
        {
         "marker": {
          "color": "green",
          "size": 6
         },
         "mode": "markers",
         "name": "for",
         "text": [
          "for"
         ],
         "type": "scatter",
         "x": [
          15.542316436767578
         ]
        },
        {
         "marker": {
          "color": "green",
          "size": 6
         },
         "mode": "markers",
         "name": "the",
         "text": [
          "the"
         ],
         "type": "scatter",
         "x": [
          18.373647689819336
         ]
        },
        {
         "marker": {
          "color": "red",
          "size": 6
         },
         "mode": "markers",
         "name": "exclusive",
         "text": [
          "exclusive"
         ],
         "type": "scatter",
         "x": [
          15.611846923828125
         ]
        },
        {
         "marker": {
          "color": "red",
          "size": 6
         },
         "mode": "markers",
         "name": "benefit",
         "text": [
          "benefit"
         ],
         "type": "scatter",
         "x": [
          15.7769775390625
         ]
        },
        {
         "marker": {
          "color": "red",
          "size": 6
         },
         "mode": "markers",
         "name": "students",
         "text": [
          "students"
         ],
         "type": "scatter",
         "x": [
          21.30317497253418
         ]
        },
        {
         "marker": {
          "color": "green",
          "size": 6
         },
         "mode": "markers",
         "name": "elementary",
         "text": [
          "elementary"
         ],
         "type": "scatter",
         "x": [
          -13.720664024353027
         ]
        },
        {
         "marker": {
          "color": "green",
          "size": 6
         },
         "mode": "markers",
         "name": "secondary",
         "text": [
          "secondary"
         ],
         "type": "scatter",
         "x": [
          -13.831770896911621
         ]
        },
        {
         "marker": {
          "color": "red",
          "size": 6
         },
         "mode": "markers",
         "name": "school",
         "text": [
          "school"
         ],
         "type": "scatter",
         "x": [
          -13.14891242980957
         ]
        },
        {
         "marker": {
          "color": "red",
          "size": 6
         },
         "mode": "markers",
         "name": "described",
         "text": [
          "described"
         ],
         "type": "scatter",
         "x": [
          -0.6112298965454102
         ]
        },
        {
         "marker": {
          "color": "red",
          "size": 6
         },
         "mode": "markers",
         "name": "section",
         "text": [
          "section"
         ],
         "type": "scatter",
         "x": [
          -6.116096496582031
         ]
        },
        {
         "marker": {
          "color": "red",
          "size": 6
         },
         "mode": "markers",
         "name": "170",
         "text": [
          "170"
         ],
         "type": "scatter",
         "x": [
          -10.575872421264648
         ]
        },
        {
         "marker": {
          "color": "red",
          "size": 6
         },
         "mode": "markers",
         "name": "but",
         "text": [
          "but"
         ],
         "type": "scatter",
         "x": [
          18.71234893798828
         ]
        },
        {
         "marker": {
          "color": "red",
          "size": 6
         },
         "mode": "markers",
         "name": "only",
         "text": [
          "only"
         ],
         "type": "scatter",
         "x": [
          18.604312896728516
         ]
        },
        {
         "marker": {
          "color": "green",
          "size": 6
         },
         "mode": "markers",
         "name": "the",
         "text": [
          "the"
         ],
         "type": "scatter",
         "x": [
          14.394044876098633
         ]
        },
        {
         "marker": {
          "color": "red",
          "size": 6
         },
         "mode": "markers",
         "name": "taxpayer",
         "text": [
          "taxpayer"
         ],
         "type": "scatter",
         "x": [
          19.621135711669922
         ]
        },
        {
         "marker": {
          "color": "red",
          "size": 6
         },
         "mode": "markers",
         "name": "engaged",
         "text": [
          "engaged"
         ],
         "type": "scatter",
         "x": [
          15.929723739624023
         ]
        },
        {
         "marker": {
          "color": "green",
          "size": 6
         },
         "mode": "markers",
         "name": "the",
         "text": [
          "the"
         ],
         "type": "scatter",
         "x": [
          15.396916389465332
         ]
        },
        {
         "marker": {
          "color": "red",
          "size": 6
         },
         "mode": "markers",
         "name": "trade",
         "text": [
          "trade"
         ],
         "type": "scatter",
         "x": [
          16.48760986328125
         ]
        },
        {
         "marker": {
          "color": "green",
          "size": 6
         },
         "mode": "markers",
         "name": "business",
         "text": [
          "business"
         ],
         "type": "scatter",
         "x": [
          16.460861206054688
         ]
        },
        {
         "marker": {
          "color": "red",
          "size": 6
         },
         "mode": "markers",
         "name": "providing",
         "text": [
          "providing"
         ],
         "type": "scatter",
         "x": [
          15.682679176330566
         ]
        },
        {
         "marker": {
          "color": "red",
          "size": 6
         },
         "mode": "markers",
         "name": "such",
         "text": [
          "such"
         ],
         "type": "scatter",
         "x": [
          -16.386402130126953
         ]
        },
        {
         "marker": {
          "color": "green",
          "size": 6
         },
         "mode": "markers",
         "name": "services",
         "text": [
          "services"
         ],
         "type": "scatter",
         "x": [
          -1.8153375387191772
         ]
        },
        {
         "marker": {
          "color": "red",
          "size": 6
         },
         "mode": "markers",
         "name": "commercial",
         "text": [
          "commercial"
         ],
         "type": "scatter",
         "x": [
          16.433382034301758
         ]
        },
        {
         "marker": {
          "color": "red",
          "size": 6
         },
         "mode": "markers",
         "name": "basis",
         "text": [
          "basis"
         ],
         "type": "scatter",
         "x": [
          16.003551483154297
         ]
        },
        {
         "marker": {
          "color": "green",
          "size": 6
         },
         "mode": "markers",
         "name": "and",
         "text": [
          "and"
         ],
         "type": "scatter",
         "x": [
          -7.9810004234313965
         ]
        },
        {
         "marker": {
          "color": "red",
          "size": 6
         },
         "mode": "markers",
         "name": "charge",
         "text": [
          "charge"
         ],
         "type": "scatter",
         "x": [
          -0.4014897644519806
         ]
        },
        {
         "marker": {
          "color": "red",
          "size": 6
         },
         "mode": "markers",
         "name": "imposed",
         "text": [
          "imposed"
         ],
         "type": "scatter",
         "x": [
          -0.2884010970592499
         ]
        },
        {
         "marker": {
          "color": "green",
          "size": 6
         },
         "mode": "markers",
         "name": "for",
         "text": [
          "for"
         ],
         "type": "scatter",
         "x": [
          15.27573013305664
         ]
        },
        {
         "marker": {
          "color": "red",
          "size": 6
         },
         "mode": "markers",
         "name": "providing",
         "text": [
          "providing"
         ],
         "type": "scatter",
         "x": [
          15.80372142791748
         ]
        },
        {
         "marker": {
          "color": "red",
          "size": 6
         },
         "mode": "markers",
         "name": "such",
         "text": [
          "such"
         ],
         "type": "scatter",
         "x": [
          -16.371715545654297
         ]
        },
        {
         "marker": {
          "color": "green",
          "size": 6
         },
         "mode": "markers",
         "name": "services",
         "text": [
          "services"
         ],
         "type": "scatter",
         "x": [
          -1.8433490991592407
         ]
        },
        {
         "marker": {
          "color": "red",
          "size": 6
         },
         "mode": "markers",
         "name": "stem",
         "text": [
          "stem"
         ],
         "type": "scatter",
         "x": [
          26.12035369873047
         ]
        },
        {
         "marker": {
          "color": "red",
          "size": 6
         },
         "mode": "markers",
         "name": "inventory",
         "text": [
          "inventory"
         ],
         "type": "scatter",
         "x": [
          22.2020320892334
         ]
        },
        {
         "marker": {
          "color": "green",
          "size": 6
         },
         "mode": "markers",
         "name": "property",
         "text": [
          "property"
         ],
         "type": "scatter",
         "x": [
          22.35209083557129
         ]
        },
        {
         "marker": {
          "color": "green",
          "size": 6
         },
         "mode": "markers",
         "name": "the",
         "text": [
          "the"
         ],
         "type": "scatter",
         "x": [
          17.411579132080078
         ]
        },
        {
         "marker": {
          "color": "red",
          "size": 6
         },
         "mode": "markers",
         "name": "term",
         "text": [
          "term"
         ],
         "type": "scatter",
         "x": [
          -22.83232307434082
         ]
        },
        {
         "marker": {
          "color": "red",
          "size": 6
         },
         "mode": "markers",
         "name": "stem",
         "text": [
          "stem"
         ],
         "type": "scatter",
         "x": [
          26.241287231445312
         ]
        },
        {
         "marker": {
          "color": "red",
          "size": 6
         },
         "mode": "markers",
         "name": "inventory",
         "text": [
          "inventory"
         ],
         "type": "scatter",
         "x": [
          22.195026397705078
         ]
        },
        {
         "marker": {
          "color": "green",
          "size": 6
         },
         "mode": "markers",
         "name": "property",
         "text": [
          "property"
         ],
         "type": "scatter",
         "x": [
          22.34391975402832
         ]
        },
        {
         "marker": {
          "color": "red",
          "size": 6
         },
         "mode": "markers",
         "name": "means",
         "text": [
          "means"
         ],
         "type": "scatter",
         "x": [
          -19.38421058654785
         ]
        },
        {
         "marker": {
          "color": "red",
          "size": 6
         },
         "mode": "markers",
         "name": "with",
         "text": [
          "with"
         ],
         "type": "scatter",
         "x": [
          15.881231307983398
         ]
        },
        {
         "marker": {
          "color": "red",
          "size": 6
         },
         "mode": "markers",
         "name": "respect",
         "text": [
          "respect"
         ],
         "type": "scatter",
         "x": [
          16.747821807861328
         ]
        },
        {
         "marker": {
          "color": "red",
          "size": 6
         },
         "mode": "markers",
         "name": "any",
         "text": [
          "any"
         ],
         "type": "scatter",
         "x": [
          0.7893725633621216
         ]
        },
        {
         "marker": {
          "color": "red",
          "size": 6
         },
         "mode": "markers",
         "name": "contribution",
         "text": [
          "contribution"
         ],
         "type": "scatter",
         "x": [
          -1.4651870727539062
         ]
        },
        {
         "marker": {
          "color": "red",
          "size": 6
         },
         "mode": "markers",
         "name": "school",
         "text": [
          "school"
         ],
         "type": "scatter",
         "x": [
          -13.115656852722168
         ]
        },
        {
         "marker": {
          "color": "red",
          "size": 6
         },
         "mode": "markers",
         "name": "any",
         "text": [
          "any"
         ],
         "type": "scatter",
         "x": [
          0.8108223676681519
         ]
        },
        {
         "marker": {
          "color": "green",
          "size": 6
         },
         "mode": "markers",
         "name": "property",
         "text": [
          "property"
         ],
         "type": "scatter",
         "x": [
          22.35787582397461
         ]
        },
        {
         "marker": {
          "color": "red",
          "size": 6
         },
         "mode": "markers",
         "name": "which",
         "text": [
          "which"
         ],
         "type": "scatter",
         "x": [
          13.748711585998535
         ]
        },
        {
         "marker": {
          "color": "red",
          "size": 6
         },
         "mode": "markers",
         "name": "described",
         "text": [
          "described"
         ],
         "type": "scatter",
         "x": [
          -0.6105920076370239
         ]
        },
        {
         "marker": {
          "color": "red",
          "size": 6
         },
         "mode": "markers",
         "name": "paragraph",
         "text": [
          "paragraph"
         ],
         "type": "scatter",
         "x": [
          -6.086328506469727
         ]
        },
        {
         "marker": {
          "color": "red",
          "size": 6
         },
         "mode": "markers",
         "name": "section",
         "text": [
          "section"
         ],
         "type": "scatter",
         "x": [
          -6.194332122802734
         ]
        },
        {
         "marker": {
          "color": "red",
          "size": 6
         },
         "mode": "markers",
         "name": "122",
         "text": [
          "122"
         ],
         "type": "scatter",
         "x": [
          -10.613039016723633
         ]
        },
        {
         "marker": {
          "color": "red",
          "size": 6
         },
         "mode": "markers",
         "name": "##1",
         "text": [
          "##1"
         ],
         "type": "scatter",
         "x": [
          -10.755587577819824
         ]
        },
        {
         "marker": {
          "color": "red",
          "size": 6
         },
         "mode": "markers",
         "name": "with",
         "text": [
          "with"
         ],
         "type": "scatter",
         "x": [
          15.878377914428711
         ]
        },
        {
         "marker": {
          "color": "red",
          "size": 6
         },
         "mode": "markers",
         "name": "respect",
         "text": [
          "respect"
         ],
         "type": "scatter",
         "x": [
          16.659955978393555
         ]
        },
        {
         "marker": {
          "color": "green",
          "size": 6
         },
         "mode": "markers",
         "name": "the",
         "text": [
          "the"
         ],
         "type": "scatter",
         "x": [
          14.629365921020508
         ]
        },
        {
         "marker": {
          "color": "red",
          "size": 6
         },
         "mode": "markers",
         "name": "donor",
         "text": [
          "donor"
         ],
         "type": "scatter",
         "x": [
          19.79958152770996
         ]
        },
        {
         "marker": {
          "color": "green",
          "size": 6
         },
         "mode": "markers",
         "name": "and",
         "text": [
          "and"
         ],
         "type": "scatter",
         "x": [
          -8.016716003417969
         ]
        },
        {
         "marker": {
          "color": "red",
          "size": 6
         },
         "mode": "markers",
         "name": "which",
         "text": [
          "which"
         ],
         "type": "scatter",
         "x": [
          13.836949348449707
         ]
        },
        {
         "marker": {
          "color": "red",
          "size": 6
         },
         "mode": "markers",
         "name": "determined",
         "text": [
          "determined"
         ],
         "type": "scatter",
         "x": [
          -0.4404012858867645
         ]
        },
        {
         "marker": {
          "color": "green",
          "size": 6
         },
         "mode": "markers",
         "name": "the",
         "text": [
          "the"
         ],
         "type": "scatter",
         "x": [
          14.537508010864258
         ]
        },
        {
         "marker": {
          "color": "red",
          "size": 6
         },
         "mode": "markers",
         "name": "school",
         "text": [
          "school"
         ],
         "type": "scatter",
         "x": [
          -13.15701961517334
         ]
        },
        {
         "marker": {
          "color": "red",
          "size": 6
         },
         "mode": "markers",
         "name": "needed",
         "text": [
          "needed"
         ],
         "type": "scatter",
         "x": [
          13.459762573242188
         ]
        },
        {
         "marker": {
          "color": "green",
          "size": 6
         },
         "mode": "markers",
         "name": "the",
         "text": [
          "the"
         ],
         "type": "scatter",
         "x": [
          14.650237083435059
         ]
        },
        {
         "marker": {
          "color": "red",
          "size": 6
         },
         "mode": "markers",
         "name": "school",
         "text": [
          "school"
         ],
         "type": "scatter",
         "x": [
          -13.156761169433594
         ]
        },
        {
         "marker": {
          "color": "red",
          "size": 6
         },
         "mode": "markers",
         "name": "providing",
         "text": [
          "providing"
         ],
         "type": "scatter",
         "x": [
          15.607913970947266
         ]
        },
        {
         "marker": {
          "color": "green",
          "size": 6
         },
         "mode": "markers",
         "name": "education",
         "text": [
          "education"
         ],
         "type": "scatter",
         "x": [
          21.045238494873047
         ]
        },
        {
         "marker": {
          "color": "red",
          "size": 6
         },
         "mode": "markers",
         "name": "grades",
         "text": [
          "grades"
         ],
         "type": "scatter",
         "x": [
          -13.555967330932617
         ]
        },
        {
         "marker": {
          "color": "green",
          "size": 6
         },
         "mode": "markers",
         "name": "the",
         "text": [
          "the"
         ],
         "type": "scatter",
         "x": [
          15.513465881347656
         ]
        },
        {
         "marker": {
          "color": "red",
          "size": 6
         },
         "mode": "markers",
         "name": "areas",
         "text": [
          "areas"
         ],
         "type": "scatter",
         "x": [
          -8.379599571228027
         ]
        },
        {
         "marker": {
          "color": "green",
          "size": 6
         },
         "mode": "markers",
         "name": "science",
         "text": [
          "science"
         ],
         "type": "scatter",
         "x": [
          34.784969329833984
         ]
        },
        {
         "marker": {
          "color": "green",
          "size": 6
         },
         "mode": "markers",
         "name": "technology",
         "text": [
          "technology"
         ],
         "type": "scatter",
         "x": [
          35.49435806274414
         ]
        },
        {
         "marker": {
          "color": "green",
          "size": 6
         },
         "mode": "markers",
         "name": "engineering",
         "text": [
          "engineering"
         ],
         "type": "scatter",
         "x": [
          33.93763732910156
         ]
        },
        {
         "marker": {
          "color": "green",
          "size": 6
         },
         "mode": "markers",
         "name": "mathematics",
         "text": [
          "mathematics"
         ],
         "type": "scatter",
         "x": [
          -15.40005874633789
         ]
        },
        {
         "marker": {
          "color": "red",
          "size": 6
         },
         "mode": "markers",
         "name": "stem",
         "text": [
          "stem"
         ],
         "type": "scatter",
         "x": [
          26.216907501220703
         ]
        },
        {
         "marker": {
          "color": "green",
          "size": 6
         },
         "mode": "markers",
         "name": "services",
         "text": [
          "services"
         ],
         "type": "scatter",
         "x": [
          -1.7897913455963135
         ]
        },
        {
         "marker": {
          "color": "green",
          "size": 6
         },
         "mode": "markers",
         "name": "the",
         "text": [
          "the"
         ],
         "type": "scatter",
         "x": [
          17.42939567565918
         ]
        },
        {
         "marker": {
          "color": "red",
          "size": 6
         },
         "mode": "markers",
         "name": "term",
         "text": [
          "term"
         ],
         "type": "scatter",
         "x": [
          -22.820804595947266
         ]
        },
        {
         "marker": {
          "color": "red",
          "size": 6
         },
         "mode": "markers",
         "name": "stem",
         "text": [
          "stem"
         ],
         "type": "scatter",
         "x": [
          26.222707748413086
         ]
        },
        {
         "marker": {
          "color": "green",
          "size": 6
         },
         "mode": "markers",
         "name": "services",
         "text": [
          "services"
         ],
         "type": "scatter",
         "x": [
          -1.8681416511535645
         ]
        },
        {
         "marker": {
          "color": "red",
          "size": 6
         },
         "mode": "markers",
         "name": "means",
         "text": [
          "means"
         ],
         "type": "scatter",
         "x": [
          -19.382492065429688
         ]
        },
        {
         "marker": {
          "color": "red",
          "size": 6
         },
         "mode": "markers",
         "name": "with",
         "text": [
          "with"
         ],
         "type": "scatter",
         "x": [
          15.895040512084961
         ]
        },
        {
         "marker": {
          "color": "red",
          "size": 6
         },
         "mode": "markers",
         "name": "respect",
         "text": [
          "respect"
         ],
         "type": "scatter",
         "x": [
          16.714059829711914
         ]
        },
        {
         "marker": {
          "color": "red",
          "size": 6
         },
         "mode": "markers",
         "name": "any",
         "text": [
          "any"
         ],
         "type": "scatter",
         "x": [
          0.814873993396759
         ]
        },
        {
         "marker": {
          "color": "red",
          "size": 6
         },
         "mode": "markers",
         "name": "contribution",
         "text": [
          "contribution"
         ],
         "type": "scatter",
         "x": [
          -1.5062419176101685
         ]
        },
        {
         "marker": {
          "color": "red",
          "size": 6
         },
         "mode": "markers",
         "name": "school",
         "text": [
          "school"
         ],
         "type": "scatter",
         "x": [
          -13.155424118041992
         ]
        },
        {
         "marker": {
          "color": "red",
          "size": 6
         },
         "mode": "markers",
         "name": "any",
         "text": [
          "any"
         ],
         "type": "scatter",
         "x": [
          0.8148170113563538
         ]
        },
        {
         "marker": {
          "color": "red",
          "size": 6
         },
         "mode": "markers",
         "name": "service",
         "text": [
          "service"
         ],
         "type": "scatter",
         "x": [
          -1.8048709630966187
         ]
        },
        {
         "marker": {
          "color": "red",
          "size": 6
         },
         "mode": "markers",
         "name": "determined",
         "text": [
          "determined"
         ],
         "type": "scatter",
         "x": [
          -0.49568241834640503
         ]
        },
        {
         "marker": {
          "color": "green",
          "size": 6
         },
         "mode": "markers",
         "name": "the",
         "text": [
          "the"
         ],
         "type": "scatter",
         "x": [
          14.593977928161621
         ]
        },
        {
         "marker": {
          "color": "red",
          "size": 6
         },
         "mode": "markers",
         "name": "school",
         "text": [
          "school"
         ],
         "type": "scatter",
         "x": [
          -13.154298782348633
         ]
        },
        {
         "marker": {
          "color": "red",
          "size": 6
         },
         "mode": "markers",
         "name": "needed",
         "text": [
          "needed"
         ],
         "type": "scatter",
         "x": [
          13.493263244628906
         ]
        },
        {
         "marker": {
          "color": "green",
          "size": 6
         },
         "mode": "markers",
         "name": "the",
         "text": [
          "the"
         ],
         "type": "scatter",
         "x": [
          14.546943664550781
         ]
        },
        {
         "marker": {
          "color": "red",
          "size": 6
         },
         "mode": "markers",
         "name": "school",
         "text": [
          "school"
         ],
         "type": "scatter",
         "x": [
          -13.12170124053955
         ]
        },
        {
         "marker": {
          "color": "red",
          "size": 6
         },
         "mode": "markers",
         "name": "providing",
         "text": [
          "providing"
         ],
         "type": "scatter",
         "x": [
          15.612611770629883
         ]
        },
        {
         "marker": {
          "color": "green",
          "size": 6
         },
         "mode": "markers",
         "name": "education",
         "text": [
          "education"
         ],
         "type": "scatter",
         "x": [
          21.085769653320312
         ]
        },
        {
         "marker": {
          "color": "red",
          "size": 6
         },
         "mode": "markers",
         "name": "grades",
         "text": [
          "grades"
         ],
         "type": "scatter",
         "x": [
          -13.543132781982422
         ]
        },
        {
         "marker": {
          "color": "green",
          "size": 6
         },
         "mode": "markers",
         "name": "the",
         "text": [
          "the"
         ],
         "type": "scatter",
         "x": [
          15.475776672363281
         ]
        },
        {
         "marker": {
          "color": "red",
          "size": 6
         },
         "mode": "markers",
         "name": "areas",
         "text": [
          "areas"
         ],
         "type": "scatter",
         "x": [
          -8.332845687866211
         ]
        },
        {
         "marker": {
          "color": "green",
          "size": 6
         },
         "mode": "markers",
         "name": "science",
         "text": [
          "science"
         ],
         "type": "scatter",
         "x": [
          34.81733703613281
         ]
        },
        {
         "marker": {
          "color": "green",
          "size": 6
         },
         "mode": "markers",
         "name": "technology",
         "text": [
          "technology"
         ],
         "type": "scatter",
         "x": [
          35.48316955566406
         ]
        },
        {
         "marker": {
          "color": "green",
          "size": 6
         },
         "mode": "markers",
         "name": "engineering",
         "text": [
          "engineering"
         ],
         "type": "scatter",
         "x": [
          33.94249725341797
         ]
        },
        {
         "marker": {
          "color": "green",
          "size": 6
         },
         "mode": "markers",
         "name": "mathematics",
         "text": [
          "mathematics"
         ],
         "type": "scatter",
         "x": [
          -15.413494110107422
         ]
        },
        {
         "marker": {
          "color": "red",
          "size": 6
         },
         "mode": "markers",
         "name": "including",
         "text": [
          "including"
         ],
         "type": "scatter",
         "x": [
          14.774799346923828
         ]
        },
        {
         "marker": {
          "color": "red",
          "size": 6
         },
         "mode": "markers",
         "name": "teaching",
         "text": [
          "teaching"
         ],
         "type": "scatter",
         "x": [
          21.172365188598633
         ]
        },
        {
         "marker": {
          "color": "red",
          "size": 6
         },
         "mode": "markers",
         "name": "courses",
         "text": [
          "courses"
         ],
         "type": "scatter",
         "x": [
          21.039703369140625
         ]
        },
        {
         "marker": {
          "color": "green",
          "size": 6
         },
         "mode": "markers",
         "name": "instruction",
         "text": [
          "instruction"
         ],
         "type": "scatter",
         "x": [
          21.078454971313477
         ]
        },
        {
         "marker": {
          "color": "red",
          "size": 6
         },
         "mode": "markers",
         "name": "such",
         "text": [
          "such"
         ],
         "type": "scatter",
         "x": [
          -16.391958236694336
         ]
        },
        {
         "marker": {
          "color": "red",
          "size": 6
         },
         "mode": "markers",
         "name": "school",
         "text": [
          "school"
         ],
         "type": "scatter",
         "x": [
          -13.148139953613281
         ]
        },
        {
         "marker": {
          "color": "red",
          "size": 6
         },
         "mode": "markers",
         "name": "any",
         "text": [
          "any"
         ],
         "type": "scatter",
         "x": [
          0.8224402666091919
         ]
        },
        {
         "marker": {
          "color": "red",
          "size": 6
         },
         "mode": "markers",
         "name": "such",
         "text": [
          "such"
         ],
         "type": "scatter",
         "x": [
          -16.37278175354004
         ]
        },
        {
         "marker": {
          "color": "red",
          "size": 6
         },
         "mode": "markers",
         "name": "area",
         "text": [
          "area"
         ],
         "type": "scatter",
         "x": [
          -8.365081787109375
         ]
        },
        {
         "marker": {
          "color": "red",
          "size": 6
         },
         "mode": "markers",
         "name": "defense",
         "text": [
          "defense"
         ],
         "type": "scatter",
         "x": [
          25.707046508789062
         ]
        },
        {
         "marker": {
          "color": "red",
          "size": 6
         },
         "mode": "markers",
         "name": "dependent",
         "text": [
          "dependent"
         ],
         "type": "scatter",
         "x": [
          20.252437591552734
         ]
        },
        {
         "marker": {
          "color": "green",
          "size": 6
         },
         "mode": "markers",
         "name": "##s",
         "text": [
          "##s"
         ],
         "type": "scatter",
         "x": [
          20.120309829711914
         ]
        },
        {
         "marker": {
          "color": "green",
          "size": 6
         },
         "mode": "markers",
         "name": "education",
         "text": [
          "education"
         ],
         "type": "scatter",
         "x": [
          21.149620056152344
         ]
        },
        {
         "marker": {
          "color": "red",
          "size": 6
         },
         "mode": "markers",
         "name": "system",
         "text": [
          "system"
         ],
         "type": "scatter",
         "x": [
          -2.062828540802002
         ]
        },
        {
         "marker": {
          "color": "green",
          "size": 6
         },
         "mode": "markers",
         "name": "for",
         "text": [
          "for"
         ],
         "type": "scatter",
         "x": [
          15.83425235748291
         ]
        },
        {
         "marker": {
          "color": "red",
          "size": 6
         },
         "mode": "markers",
         "name": "purposes",
         "text": [
          "purposes"
         ],
         "type": "scatter",
         "x": [
          17.042858123779297
         ]
        },
        {
         "marker": {
          "color": "red",
          "size": 6
         },
         "mode": "markers",
         "name": "this",
         "text": [
          "this"
         ],
         "type": "scatter",
         "x": [
          -5.229837417602539
         ]
        },
        {
         "marker": {
          "color": "red",
          "size": 6
         },
         "mode": "markers",
         "name": "sub",
         "text": [
          "sub"
         ],
         "type": "scatter",
         "x": [
          -5.780398845672607
         ]
        },
        {
         "marker": {
          "color": "red",
          "size": 6
         },
         "mode": "markers",
         "name": "##section",
         "text": [
          "##section"
         ],
         "type": "scatter",
         "x": [
          -6.055302143096924
         ]
        },
        {
         "marker": {
          "color": "green",
          "size": 6
         },
         "mode": "markers",
         "name": "the",
         "text": [
          "the"
         ],
         "type": "scatter",
         "x": [
          17.455997467041016
         ]
        },
        {
         "marker": {
          "color": "red",
          "size": 6
         },
         "mode": "markers",
         "name": "term",
         "text": [
          "term"
         ],
         "type": "scatter",
         "x": [
          -22.81834602355957
         ]
        },
        {
         "marker": {
          "color": "red",
          "size": 6
         },
         "mode": "markers",
         "name": "defense",
         "text": [
          "defense"
         ],
         "type": "scatter",
         "x": [
          25.76295280456543
         ]
        },
        {
         "marker": {
          "color": "red",
          "size": 6
         },
         "mode": "markers",
         "name": "dependent",
         "text": [
          "dependent"
         ],
         "type": "scatter",
         "x": [
          20.251188278198242
         ]
        },
        {
         "marker": {
          "color": "green",
          "size": 6
         },
         "mode": "markers",
         "name": "##s",
         "text": [
          "##s"
         ],
         "type": "scatter",
         "x": [
          20.170000076293945
         ]
        },
        {
         "marker": {
          "color": "green",
          "size": 6
         },
         "mode": "markers",
         "name": "education",
         "text": [
          "education"
         ],
         "type": "scatter",
         "x": [
          21.089527130126953
         ]
        },
        {
         "marker": {
          "color": "red",
          "size": 6
         },
         "mode": "markers",
         "name": "system",
         "text": [
          "system"
         ],
         "type": "scatter",
         "x": [
          -2.0614328384399414
         ]
        },
        {
         "marker": {
          "color": "red",
          "size": 6
         },
         "mode": "markers",
         "name": "means",
         "text": [
          "means"
         ],
         "type": "scatter",
         "x": [
          -19.369565963745117
         ]
        },
        {
         "marker": {
          "color": "green",
          "size": 6
         },
         "mode": "markers",
         "name": "the",
         "text": [
          "the"
         ],
         "type": "scatter",
         "x": [
          0.38680794835090637
         ]
        },
        {
         "marker": {
          "color": "red",
          "size": 6
         },
         "mode": "markers",
         "name": "program",
         "text": [
          "program"
         ],
         "type": "scatter",
         "x": [
          -2.048116445541382
         ]
        },
        {
         "marker": {
          "color": "red",
          "size": 6
         },
         "mode": "markers",
         "name": "established",
         "text": [
          "established"
         ],
         "type": "scatter",
         "x": [
          -0.5838862657546997
         ]
        },
        {
         "marker": {
          "color": "green",
          "size": 6
         },
         "mode": "markers",
         "name": "and",
         "text": [
          "and"
         ],
         "type": "scatter",
         "x": [
          29.050695419311523
         ]
        },
        {
         "marker": {
          "color": "red",
          "size": 6
         },
         "mode": "markers",
         "name": "operated",
         "text": [
          "operated"
         ],
         "type": "scatter",
         "x": [
          -0.6398811340332031
         ]
        },
        {
         "marker": {
          "color": "red",
          "size": 6
         },
         "mode": "markers",
         "name": "under",
         "text": [
          "under"
         ],
         "type": "scatter",
         "x": [
          12.808134078979492
         ]
        },
        {
         "marker": {
          "color": "green",
          "size": 6
         },
         "mode": "markers",
         "name": "the",
         "text": [
          "the"
         ],
         "type": "scatter",
         "x": [
          0.2676827609539032
         ]
        },
        {
         "marker": {
          "color": "red",
          "size": 6
         },
         "mode": "markers",
         "name": "defense",
         "text": [
          "defense"
         ],
         "type": "scatter",
         "x": [
          25.77726173400879
         ]
        },
        {
         "marker": {
          "color": "red",
          "size": 6
         },
         "mode": "markers",
         "name": "dependent",
         "text": [
          "dependent"
         ],
         "type": "scatter",
         "x": [
          20.278257369995117
         ]
        },
        {
         "marker": {
          "color": "green",
          "size": 6
         },
         "mode": "markers",
         "name": "##s",
         "text": [
          "##s"
         ],
         "type": "scatter",
         "x": [
          20.10135269165039
         ]
        },
        {
         "marker": {
          "color": "green",
          "size": 6
         },
         "mode": "markers",
         "name": "education",
         "text": [
          "education"
         ],
         "type": "scatter",
         "x": [
          21.13995361328125
         ]
        },
        {
         "marker": {
          "color": "green",
          "size": 6
         },
         "mode": "markers",
         "name": "act",
         "text": [
          "act"
         ],
         "type": "scatter",
         "x": [
          -5.831210136413574
         ]
        },
        {
         "marker": {
          "color": "red",
          "size": 6
         },
         "mode": "markers",
         "name": "1978",
         "text": [
          "1978"
         ],
         "type": "scatter",
         "x": [
          18.63807487487793
         ]
        },
        {
         "marker": {
          "color": "red",
          "size": 6
         },
         "mode": "markers",
         "name": "##1",
         "text": [
          "##1"
         ],
         "type": "scatter",
         "x": [
          -6.680117607116699
         ]
        },
        {
         "marker": {
          "color": "red",
          "size": 6
         },
         "mode": "markers",
         "name": "##q",
         "text": [
          "##q"
         ],
         "type": "scatter",
         "x": [
          -6.6858439445495605
         ]
        },
        {
         "marker": {
          "color": "red",
          "size": 6
         },
         "mode": "markers",
         "name": "stem",
         "text": [
          "stem"
         ],
         "type": "scatter",
         "x": [
          26.195161819458008
         ]
        },
        {
         "marker": {
          "color": "green",
          "size": 6
         },
         "mode": "markers",
         "name": "teacher",
         "text": [
          "teacher"
         ],
         "type": "scatter",
         "x": [
          21.455081939697266
         ]
        },
        {
         "marker": {
          "color": "red",
          "size": 6
         },
         "mode": "markers",
         "name": "##tern",
         "text": [
          "##tern"
         ],
         "type": "scatter",
         "x": [
          20.51009178161621
         ]
        },
        {
         "marker": {
          "color": "red",
          "size": 6
         },
         "mode": "markers",
         "name": "##ship",
         "text": [
          "##ship"
         ],
         "type": "scatter",
         "x": [
          20.572830200195312
         ]
        },
        {
         "marker": {
          "color": "red",
          "size": 6
         },
         "mode": "markers",
         "name": "expenses",
         "text": [
          "expenses"
         ],
         "type": "scatter",
         "x": [
          -1.1910642385482788
         ]
        },
        {
         "marker": {
          "color": "green",
          "size": 6
         },
         "mode": "markers",
         "name": "for",
         "text": [
          "for"
         ],
         "type": "scatter",
         "x": [
          15.769240379333496
         ]
        },
        {
         "marker": {
          "color": "red",
          "size": 6
         },
         "mode": "markers",
         "name": "purposes",
         "text": [
          "purposes"
         ],
         "type": "scatter",
         "x": [
          17.044082641601562
         ]
        },
        {
         "marker": {
          "color": "red",
          "size": 6
         },
         "mode": "markers",
         "name": "this",
         "text": [
          "this"
         ],
         "type": "scatter",
         "x": [
          -5.209234714508057
         ]
        },
        {
         "marker": {
          "color": "red",
          "size": 6
         },
         "mode": "markers",
         "name": "section",
         "text": [
          "section"
         ],
         "type": "scatter",
         "x": [
          -6.094295978546143
         ]
        },
        {
         "marker": {
          "color": "green",
          "size": 6
         },
         "mode": "markers",
         "name": "general",
         "text": [
          "general"
         ],
         "type": "scatter",
         "x": [
          18.635881423950195
         ]
        },
        {
         "marker": {
          "color": "green",
          "size": 6
         },
         "mode": "markers",
         "name": "the",
         "text": [
          "the"
         ],
         "type": "scatter",
         "x": [
          17.440826416015625
         ]
        },
        {
         "marker": {
          "color": "red",
          "size": 6
         },
         "mode": "markers",
         "name": "term",
         "text": [
          "term"
         ],
         "type": "scatter",
         "x": [
          -22.815330505371094
         ]
        },
        {
         "marker": {
          "color": "red",
          "size": 6
         },
         "mode": "markers",
         "name": "stem",
         "text": [
          "stem"
         ],
         "type": "scatter",
         "x": [
          26.262231826782227
         ]
        },
        {
         "marker": {
          "color": "green",
          "size": 6
         },
         "mode": "markers",
         "name": "teacher",
         "text": [
          "teacher"
         ],
         "type": "scatter",
         "x": [
          21.464702606201172
         ]
        },
        {
         "marker": {
          "color": "red",
          "size": 6
         },
         "mode": "markers",
         "name": "##tern",
         "text": [
          "##tern"
         ],
         "type": "scatter",
         "x": [
          20.510028839111328
         ]
        },
        {
         "marker": {
          "color": "red",
          "size": 6
         },
         "mode": "markers",
         "name": "##ship",
         "text": [
          "##ship"
         ],
         "type": "scatter",
         "x": [
          20.53038215637207
         ]
        },
        {
         "marker": {
          "color": "red",
          "size": 6
         },
         "mode": "markers",
         "name": "expenses",
         "text": [
          "expenses"
         ],
         "type": "scatter",
         "x": [
          -1.1733614206314087
         ]
        },
        {
         "marker": {
          "color": "red",
          "size": 6
         },
         "mode": "markers",
         "name": "means",
         "text": [
          "means"
         ],
         "type": "scatter",
         "x": [
          -19.38119125366211
         ]
        },
        {
         "marker": {
          "color": "red",
          "size": 6
         },
         "mode": "markers",
         "name": "any",
         "text": [
          "any"
         ],
         "type": "scatter",
         "x": [
          0.7560948133468628
         ]
        },
        {
         "marker": {
          "color": "red",
          "size": 6
         },
         "mode": "markers",
         "name": "amount",
         "text": [
          "amount"
         ],
         "type": "scatter",
         "x": [
          -0.3453572690486908
         ]
        },
        {
         "marker": {
          "color": "red",
          "size": 6
         },
         "mode": "markers",
         "name": "paid",
         "text": [
          "paid"
         ],
         "type": "scatter",
         "x": [
          -0.46887749433517456
         ]
        },
        {
         "marker": {
          "color": "red",
          "size": 6
         },
         "mode": "markers",
         "name": "incurred",
         "text": [
          "incurred"
         ],
         "type": "scatter",
         "x": [
          -0.5645301938056946
         ]
        },
        {
         "marker": {
          "color": "red",
          "size": 6
         },
         "mode": "markers",
         "name": "carry",
         "text": [
          "carry"
         ],
         "type": "scatter",
         "x": [
          15.755900382995605
         ]
        },
        {
         "marker": {
          "color": "red",
          "size": 6
         },
         "mode": "markers",
         "name": "out",
         "text": [
          "out"
         ],
         "type": "scatter",
         "x": [
          15.805839538574219
         ]
        },
        {
         "marker": {
          "color": "red",
          "size": 6
         },
         "mode": "markers",
         "name": "stem",
         "text": [
          "stem"
         ],
         "type": "scatter",
         "x": [
          26.26923942565918
         ]
        },
        {
         "marker": {
          "color": "red",
          "size": 6
         },
         "mode": "markers",
         "name": "##tern",
         "text": [
          "##tern"
         ],
         "type": "scatter",
         "x": [
          20.488250732421875
         ]
        },
        {
         "marker": {
          "color": "red",
          "size": 6
         },
         "mode": "markers",
         "name": "##ship",
         "text": [
          "##ship"
         ],
         "type": "scatter",
         "x": [
          20.501222610473633
         ]
        },
        {
         "marker": {
          "color": "red",
          "size": 6
         },
         "mode": "markers",
         "name": "program",
         "text": [
          "program"
         ],
         "type": "scatter",
         "x": [
          -2.028939723968506
         ]
        },
        {
         "marker": {
          "color": "green",
          "size": 6
         },
         "mode": "markers",
         "name": "the",
         "text": [
          "the"
         ],
         "type": "scatter",
         "x": [
          14.522966384887695
         ]
        },
        {
         "marker": {
          "color": "red",
          "size": 6
         },
         "mode": "markers",
         "name": "taxpayer",
         "text": [
          "taxpayer"
         ],
         "type": "scatter",
         "x": [
          19.605154037475586
         ]
        },
        {
         "marker": {
          "color": "red",
          "size": 6
         },
         "mode": "markers",
         "name": "but",
         "text": [
          "but"
         ],
         "type": "scatter",
         "x": [
          18.78782844543457
         ]
        },
        {
         "marker": {
          "color": "red",
          "size": 6
         },
         "mode": "markers",
         "name": "only",
         "text": [
          "only"
         ],
         "type": "scatter",
         "x": [
          14.442790031433105
         ]
        },
        {
         "marker": {
          "color": "green",
          "size": 6
         },
         "mode": "markers",
         "name": "the",
         "text": [
          "the"
         ],
         "type": "scatter",
         "x": [
          18.245590209960938
         ]
        },
        {
         "marker": {
          "color": "red",
          "size": 6
         },
         "mode": "markers",
         "name": "extent",
         "text": [
          "extent"
         ],
         "type": "scatter",
         "x": [
          13.939273834228516
         ]
        },
        {
         "marker": {
          "color": "red",
          "size": 6
         },
         "mode": "markers",
         "name": "that",
         "text": [
          "that"
         ],
         "type": "scatter",
         "x": [
          13.899518966674805
         ]
        },
        {
         "marker": {
          "color": "red",
          "size": 6
         },
         "mode": "markers",
         "name": "such",
         "text": [
          "such"
         ],
         "type": "scatter",
         "x": [
          -16.391111373901367
         ]
        },
        {
         "marker": {
          "color": "red",
          "size": 6
         },
         "mode": "markers",
         "name": "amount",
         "text": [
          "amount"
         ],
         "type": "scatter",
         "x": [
          -0.38927072286605835
         ]
        },
        {
         "marker": {
          "color": "red",
          "size": 6
         },
         "mode": "markers",
         "name": "##tri",
         "text": [
          "##tri"
         ],
         "type": "scatter",
         "x": [
          16.870065689086914
         ]
        },
        {
         "marker": {
          "color": "red",
          "size": 6
         },
         "mode": "markers",
         "name": "##bu",
         "text": [
          "##bu"
         ],
         "type": "scatter",
         "x": [
          16.85137939453125
         ]
        },
        {
         "marker": {
          "color": "red",
          "size": 6
         },
         "mode": "markers",
         "name": "##table",
         "text": [
          "##table"
         ],
         "type": "scatter",
         "x": [
          16.63823127746582
         ]
        },
        {
         "marker": {
          "color": "green",
          "size": 6
         },
         "mode": "markers",
         "name": "the",
         "text": [
          "the"
         ],
         "type": "scatter",
         "x": [
          14.85294246673584
         ]
        },
        {
         "marker": {
          "color": "red",
          "size": 6
         },
         "mode": "markers",
         "name": "participation",
         "text": [
          "participation"
         ],
         "type": "scatter",
         "x": [
          16.00998306274414
         ]
        },
        {
         "marker": {
          "color": "red",
          "size": 6
         },
         "mode": "markers",
         "name": "such",
         "text": [
          "such"
         ],
         "type": "scatter",
         "x": [
          -16.371620178222656
         ]
        },
        {
         "marker": {
          "color": "red",
          "size": 6
         },
         "mode": "markers",
         "name": "program",
         "text": [
          "program"
         ],
         "type": "scatter",
         "x": [
          -2.0086538791656494
         ]
        },
        {
         "marker": {
          "color": "red",
          "size": 6
         },
         "mode": "markers",
         "name": "any",
         "text": [
          "any"
         ],
         "type": "scatter",
         "x": [
          0.816931962966919
         ]
        },
        {
         "marker": {
          "color": "red",
          "size": 6
         },
         "mode": "markers",
         "name": "eligible",
         "text": [
          "eligible"
         ],
         "type": "scatter",
         "x": [
          26.77603530883789
         ]
        },
        {
         "marker": {
          "color": "red",
          "size": 6
         },
         "mode": "markers",
         "name": "stem",
         "text": [
          "stem"
         ],
         "type": "scatter",
         "x": [
          26.251182556152344
         ]
        },
        {
         "marker": {
          "color": "green",
          "size": 6
         },
         "mode": "markers",
         "name": "teacher",
         "text": [
          "teacher"
         ],
         "type": "scatter",
         "x": [
          21.482318878173828
         ]
        },
        {
         "marker": {
          "color": "red",
          "size": 6
         },
         "mode": "markers",
         "name": "including",
         "text": [
          "including"
         ],
         "type": "scatter",
         "x": [
          14.823931694030762
         ]
        },
        {
         "marker": {
          "color": "red",
          "size": 6
         },
         "mode": "markers",
         "name": "amounts",
         "text": [
          "amounts"
         ],
         "type": "scatter",
         "x": [
          -0.3750056028366089
         ]
        },
        {
         "marker": {
          "color": "red",
          "size": 6
         },
         "mode": "markers",
         "name": "paid",
         "text": [
          "paid"
         ],
         "type": "scatter",
         "x": [
          -0.45357266068458557
         ]
        },
        {
         "marker": {
          "color": "red",
          "size": 6
         },
         "mode": "markers",
         "name": "such",
         "text": [
          "such"
         ],
         "type": "scatter",
         "x": [
          -16.35887908935547
         ]
        },
        {
         "marker": {
          "color": "green",
          "size": 6
         },
         "mode": "markers",
         "name": "teacher",
         "text": [
          "teacher"
         ],
         "type": "scatter",
         "x": [
          21.45893096923828
         ]
        },
        {
         "marker": {
          "color": "red",
          "size": 6
         },
         "mode": "markers",
         "name": "##ipe",
         "text": [
          "##ipe"
         ],
         "type": "scatter",
         "x": [
          -0.3139449954032898
         ]
        },
        {
         "marker": {
          "color": "red",
          "size": 6
         },
         "mode": "markers",
         "name": "##nd",
         "text": [
          "##nd"
         ],
         "type": "scatter",
         "x": [
          -0.4300096929073334
         ]
        },
        {
         "marker": {
          "color": "red",
          "size": 6
         },
         "mode": "markers",
         "name": "while",
         "text": [
          "while"
         ],
         "type": "scatter",
         "x": [
          15.655884742736816
         ]
        },
        {
         "marker": {
          "color": "red",
          "size": 6
         },
         "mode": "markers",
         "name": "participating",
         "text": [
          "participating"
         ],
         "type": "scatter",
         "x": [
          15.997689247131348
         ]
        },
        {
         "marker": {
          "color": "red",
          "size": 6
         },
         "mode": "markers",
         "name": "such",
         "text": [
          "such"
         ],
         "type": "scatter",
         "x": [
          -16.410720825195312
         ]
        },
        {
         "marker": {
          "color": "red",
          "size": 6
         },
         "mode": "markers",
         "name": "program",
         "text": [
          "program"
         ],
         "type": "scatter",
         "x": [
          -2.0120553970336914
         ]
        },
        {
         "marker": {
          "color": "red",
          "size": 6
         },
         "mode": "markers",
         "name": "stem",
         "text": [
          "stem"
         ],
         "type": "scatter",
         "x": [
          26.24230194091797
         ]
        },
        {
         "marker": {
          "color": "red",
          "size": 6
         },
         "mode": "markers",
         "name": "##tern",
         "text": [
          "##tern"
         ],
         "type": "scatter",
         "x": [
          20.491058349609375
         ]
        },
        {
         "marker": {
          "color": "red",
          "size": 6
         },
         "mode": "markers",
         "name": "##ship",
         "text": [
          "##ship"
         ],
         "type": "scatter",
         "x": [
          20.594511032104492
         ]
        },
        {
         "marker": {
          "color": "red",
          "size": 6
         },
         "mode": "markers",
         "name": "program",
         "text": [
          "program"
         ],
         "type": "scatter",
         "x": [
          -2.042602062225342
         ]
        },
        {
         "marker": {
          "color": "green",
          "size": 6
         },
         "mode": "markers",
         "name": "the",
         "text": [
          "the"
         ],
         "type": "scatter",
         "x": [
          17.427749633789062
         ]
        },
        {
         "marker": {
          "color": "red",
          "size": 6
         },
         "mode": "markers",
         "name": "term",
         "text": [
          "term"
         ],
         "type": "scatter",
         "x": [
          -22.83527183532715
         ]
        },
        {
         "marker": {
          "color": "red",
          "size": 6
         },
         "mode": "markers",
         "name": "stem",
         "text": [
          "stem"
         ],
         "type": "scatter",
         "x": [
          26.235477447509766
         ]
        },
        {
         "marker": {
          "color": "red",
          "size": 6
         },
         "mode": "markers",
         "name": "##tern",
         "text": [
          "##tern"
         ],
         "type": "scatter",
         "x": [
          20.490264892578125
         ]
        },
        {
         "marker": {
          "color": "red",
          "size": 6
         },
         "mode": "markers",
         "name": "##ship",
         "text": [
          "##ship"
         ],
         "type": "scatter",
         "x": [
          20.532306671142578
         ]
        },
        {
         "marker": {
          "color": "red",
          "size": 6
         },
         "mode": "markers",
         "name": "program",
         "text": [
          "program"
         ],
         "type": "scatter",
         "x": [
          -2.0494942665100098
         ]
        },
        {
         "marker": {
          "color": "red",
          "size": 6
         },
         "mode": "markers",
         "name": "means",
         "text": [
          "means"
         ],
         "type": "scatter",
         "x": [
          -19.38347625732422
         ]
        },
        {
         "marker": {
          "color": "red",
          "size": 6
         },
         "mode": "markers",
         "name": "any",
         "text": [
          "any"
         ],
         "type": "scatter",
         "x": [
          0.7588647603988647
         ]
        },
        {
         "marker": {
          "color": "red",
          "size": 6
         },
         "mode": "markers",
         "name": "program",
         "text": [
          "program"
         ],
         "type": "scatter",
         "x": [
          -2.0263984203338623
         ]
        },
        {
         "marker": {
          "color": "red",
          "size": 6
         },
         "mode": "markers",
         "name": "established",
         "text": [
          "established"
         ],
         "type": "scatter",
         "x": [
          -0.561519205570221
         ]
        },
        {
         "marker": {
          "color": "red",
          "size": 6
         },
         "mode": "markers",
         "name": "taxpayer",
         "text": [
          "taxpayer"
         ],
         "type": "scatter",
         "x": [
          19.57156753540039
         ]
        },
        {
         "marker": {
          "color": "red",
          "size": 6
         },
         "mode": "markers",
         "name": "engaged",
         "text": [
          "engaged"
         ],
         "type": "scatter",
         "x": [
          15.984359741210938
         ]
        },
        {
         "marker": {
          "color": "red",
          "size": 6
         },
         "mode": "markers",
         "name": "trade",
         "text": [
          "trade"
         ],
         "type": "scatter",
         "x": [
          16.46171760559082
         ]
        },
        {
         "marker": {
          "color": "green",
          "size": 6
         },
         "mode": "markers",
         "name": "business",
         "text": [
          "business"
         ],
         "type": "scatter",
         "x": [
          16.499780654907227
         ]
        },
        {
         "marker": {
          "color": "red",
          "size": 6
         },
         "mode": "markers",
         "name": "within",
         "text": [
          "within"
         ],
         "type": "scatter",
         "x": [
          15.988066673278809
         ]
        },
        {
         "marker": {
          "color": "red",
          "size": 6
         },
         "mode": "markers",
         "name": "area",
         "text": [
          "area"
         ],
         "type": "scatter",
         "x": [
          -8.34821605682373
         ]
        },
        {
         "marker": {
          "color": "green",
          "size": 6
         },
         "mode": "markers",
         "name": "science",
         "text": [
          "science"
         ],
         "type": "scatter",
         "x": [
          34.80558395385742
         ]
        },
        {
         "marker": {
          "color": "green",
          "size": 6
         },
         "mode": "markers",
         "name": "technology",
         "text": [
          "technology"
         ],
         "type": "scatter",
         "x": [
          35.496925354003906
         ]
        },
        {
         "marker": {
          "color": "green",
          "size": 6
         },
         "mode": "markers",
         "name": "engineering",
         "text": [
          "engineering"
         ],
         "type": "scatter",
         "x": [
          33.91155242919922
         ]
        },
        {
         "marker": {
          "color": "green",
          "size": 6
         },
         "mode": "markers",
         "name": "mathematics",
         "text": [
          "mathematics"
         ],
         "type": "scatter",
         "x": [
          -15.416080474853516
         ]
        },
        {
         "marker": {
          "color": "green",
          "size": 6
         },
         "mode": "markers",
         "name": "and",
         "text": [
          "and"
         ],
         "type": "scatter",
         "x": [
          -8.015493392944336
         ]
        },
        {
         "marker": {
          "color": "red",
          "size": 6
         },
         "mode": "markers",
         "name": "under",
         "text": [
          "under"
         ],
         "type": "scatter",
         "x": [
          12.851845741271973
         ]
        },
        {
         "marker": {
          "color": "red",
          "size": 6
         },
         "mode": "markers",
         "name": "which",
         "text": [
          "which"
         ],
         "type": "scatter",
         "x": [
          13.8525972366333
         ]
        },
        {
         "marker": {
          "color": "red",
          "size": 6
         },
         "mode": "markers",
         "name": "eligible",
         "text": [
          "eligible"
         ],
         "type": "scatter",
         "x": [
          26.775941848754883
         ]
        },
        {
         "marker": {
          "color": "red",
          "size": 6
         },
         "mode": "markers",
         "name": "stem",
         "text": [
          "stem"
         ],
         "type": "scatter",
         "x": [
          26.22136878967285
         ]
        },
        {
         "marker": {
          "color": "red",
          "size": 6
         },
         "mode": "markers",
         "name": "teachers",
         "text": [
          "teachers"
         ],
         "type": "scatter",
         "x": [
          21.475683212280273
         ]
        },
        {
         "marker": {
          "color": "red",
          "size": 6
         },
         "mode": "markers",
         "name": "receive",
         "text": [
          "receive"
         ],
         "type": "scatter",
         "x": [
          14.389994621276855
         ]
        },
        {
         "marker": {
          "color": "green",
          "size": 6
         },
         "mode": "markers",
         "name": "training",
         "text": [
          "training"
         ],
         "type": "scatter",
         "x": [
          20.818836212158203
         ]
        },
        {
         "marker": {
          "color": "red",
          "size": 6
         },
         "mode": "markers",
         "name": "enhance",
         "text": [
          "enhance"
         ],
         "type": "scatter",
         "x": [
          14.442715644836426
         ]
        },
        {
         "marker": {
          "color": "red",
          "size": 6
         },
         "mode": "markers",
         "name": "their",
         "text": [
          "their"
         ],
         "type": "scatter",
         "x": [
          14.447552680969238
         ]
        },
        {
         "marker": {
          "color": "red",
          "size": 6
         },
         "mode": "markers",
         "name": "teaching",
         "text": [
          "teaching"
         ],
         "type": "scatter",
         "x": [
          21.33217430114746
         ]
        },
        {
         "marker": {
          "color": "red",
          "size": 6
         },
         "mode": "markers",
         "name": "skills",
         "text": [
          "skills"
         ],
         "type": "scatter",
         "x": [
          20.824113845825195
         ]
        },
        {
         "marker": {
          "color": "green",
          "size": 6
         },
         "mode": "markers",
         "name": "the",
         "text": [
          "the"
         ],
         "type": "scatter",
         "x": [
          18.299488067626953
         ]
        },
        {
         "marker": {
          "color": "red",
          "size": 6
         },
         "mode": "markers",
         "name": "areas",
         "text": [
          "areas"
         ],
         "type": "scatter",
         "x": [
          -8.338000297546387
         ]
        },
        {
         "marker": {
          "color": "green",
          "size": 6
         },
         "mode": "markers",
         "name": "science",
         "text": [
          "science"
         ],
         "type": "scatter",
         "x": [
          34.80080795288086
         ]
        },
        {
         "marker": {
          "color": "green",
          "size": 6
         },
         "mode": "markers",
         "name": "technology",
         "text": [
          "technology"
         ],
         "type": "scatter",
         "x": [
          35.50785446166992
         ]
        },
        {
         "marker": {
          "color": "green",
          "size": 6
         },
         "mode": "markers",
         "name": "engineering",
         "text": [
          "engineering"
         ],
         "type": "scatter",
         "x": [
          33.92415237426758
         ]
        },
        {
         "marker": {
          "color": "green",
          "size": 6
         },
         "mode": "markers",
         "name": "mathematics",
         "text": [
          "mathematics"
         ],
         "type": "scatter",
         "x": [
          -15.418375968933105
         ]
        },
        {
         "marker": {
          "color": "red",
          "size": 6
         },
         "mode": "markers",
         "name": "otherwise",
         "text": [
          "otherwise"
         ],
         "type": "scatter",
         "x": [
          14.386144638061523
         ]
        },
        {
         "marker": {
          "color": "red",
          "size": 6
         },
         "mode": "markers",
         "name": "improve",
         "text": [
          "improve"
         ],
         "type": "scatter",
         "x": [
          14.271209716796875
         ]
        },
        {
         "marker": {
          "color": "red",
          "size": 6
         },
         "mode": "markers",
         "name": "their",
         "text": [
          "their"
         ],
         "type": "scatter",
         "x": [
          14.497736930847168
         ]
        },
        {
         "marker": {
          "color": "red",
          "size": 6
         },
         "mode": "markers",
         "name": "knowledge",
         "text": [
          "knowledge"
         ],
         "type": "scatter",
         "x": [
          20.988311767578125
         ]
        },
        {
         "marker": {
          "color": "red",
          "size": 6
         },
         "mode": "markers",
         "name": "such",
         "text": [
          "such"
         ],
         "type": "scatter",
         "x": [
          -16.384868621826172
         ]
        },
        {
         "marker": {
          "color": "red",
          "size": 6
         },
         "mode": "markers",
         "name": "areas",
         "text": [
          "areas"
         ],
         "type": "scatter",
         "x": [
          -8.359976768493652
         ]
        },
        {
         "marker": {
          "color": "red",
          "size": 6
         },
         "mode": "markers",
         "name": "eligible",
         "text": [
          "eligible"
         ],
         "type": "scatter",
         "x": [
          26.783405303955078
         ]
        },
        {
         "marker": {
          "color": "red",
          "size": 6
         },
         "mode": "markers",
         "name": "stem",
         "text": [
          "stem"
         ],
         "type": "scatter",
         "x": [
          26.24087142944336
         ]
        },
        {
         "marker": {
          "color": "green",
          "size": 6
         },
         "mode": "markers",
         "name": "teacher",
         "text": [
          "teacher"
         ],
         "type": "scatter",
         "x": [
          21.466184616088867
         ]
        },
        {
         "marker": {
          "color": "green",
          "size": 6
         },
         "mode": "markers",
         "name": "the",
         "text": [
          "the"
         ],
         "type": "scatter",
         "x": [
          17.4072208404541
         ]
        },
        {
         "marker": {
          "color": "red",
          "size": 6
         },
         "mode": "markers",
         "name": "term",
         "text": [
          "term"
         ],
         "type": "scatter",
         "x": [
          -22.81062889099121
         ]
        },
        {
         "marker": {
          "color": "red",
          "size": 6
         },
         "mode": "markers",
         "name": "eligible",
         "text": [
          "eligible"
         ],
         "type": "scatter",
         "x": [
          26.740121841430664
         ]
        },
        {
         "marker": {
          "color": "red",
          "size": 6
         },
         "mode": "markers",
         "name": "stem",
         "text": [
          "stem"
         ],
         "type": "scatter",
         "x": [
          26.231386184692383
         ]
        },
        {
         "marker": {
          "color": "green",
          "size": 6
         },
         "mode": "markers",
         "name": "teacher",
         "text": [
          "teacher"
         ],
         "type": "scatter",
         "x": [
          21.46025848388672
         ]
        },
        {
         "marker": {
          "color": "red",
          "size": 6
         },
         "mode": "markers",
         "name": "means",
         "text": [
          "means"
         ],
         "type": "scatter",
         "x": [
          -19.384624481201172
         ]
        },
        {
         "marker": {
          "color": "red",
          "size": 6
         },
         "mode": "markers",
         "name": "any",
         "text": [
          "any"
         ],
         "type": "scatter",
         "x": [
          0.7291262149810791
         ]
        },
        {
         "marker": {
          "color": "red",
          "size": 6
         },
         "mode": "markers",
         "name": "individual",
         "text": [
          "individual"
         ],
         "type": "scatter",
         "x": [
          0.10925043374300003
         ]
        },
        {
         "marker": {
          "color": "red",
          "size": 6
         },
         "mode": "markers",
         "name": "who",
         "text": [
          "who"
         ],
         "type": "scatter",
         "x": [
          13.957754135131836
         ]
        },
        {
         "marker": {
          "color": "green",
          "size": 6
         },
         "mode": "markers",
         "name": "teacher",
         "text": [
          "teacher"
         ],
         "type": "scatter",
         "x": [
          21.421979904174805
         ]
        },
        {
         "marker": {
          "color": "red",
          "size": 6
         },
         "mode": "markers",
         "name": "grades",
         "text": [
          "grades"
         ],
         "type": "scatter",
         "x": [
          -13.583044052124023
         ]
        },
        {
         "marker": {
          "color": "red",
          "size": 6
         },
         "mode": "markers",
         "name": "educational",
         "text": [
          "educational"
         ],
         "type": "scatter",
         "x": [
          -13.245195388793945
         ]
        },
        {
         "marker": {
          "color": "red",
          "size": 6
         },
         "mode": "markers",
         "name": "organization",
         "text": [
          "organization"
         ],
         "type": "scatter",
         "x": [
          -13.179442405700684
         ]
        },
        {
         "marker": {
          "color": "red",
          "size": 6
         },
         "mode": "markers",
         "name": "described",
         "text": [
          "described"
         ],
         "type": "scatter",
         "x": [
          -0.5932373404502869
         ]
        },
        {
         "marker": {
          "color": "red",
          "size": 6
         },
         "mode": "markers",
         "name": "section",
         "text": [
          "section"
         ],
         "type": "scatter",
         "x": [
          -6.151318073272705
         ]
        },
        {
         "marker": {
          "color": "red",
          "size": 6
         },
         "mode": "markers",
         "name": "170",
         "text": [
          "170"
         ],
         "type": "scatter",
         "x": [
          -10.620325088500977
         ]
        },
        {
         "marker": {
          "color": "red",
          "size": 6
         },
         "mode": "markers",
         "name": "which",
         "text": [
          "which"
         ],
         "type": "scatter",
         "x": [
          13.836137771606445
         ]
        },
        {
         "marker": {
          "color": "red",
          "size": 6
         },
         "mode": "markers",
         "name": "located",
         "text": [
          "located"
         ],
         "type": "scatter",
         "x": [
          14.112028121948242
         ]
        },
        {
         "marker": {
          "color": "green",
          "size": 6
         },
         "mode": "markers",
         "name": "the",
         "text": [
          "the"
         ],
         "type": "scatter",
         "x": [
          15.297450065612793
         ]
        },
        {
         "marker": {
          "color": "red",
          "size": 6
         },
         "mode": "markers",
         "name": "united",
         "text": [
          "united"
         ],
         "type": "scatter",
         "x": [
          -7.242063045501709
         ]
        },
        {
         "marker": {
          "color": "red",
          "size": 6
         },
         "mode": "markers",
         "name": "states",
         "text": [
          "states"
         ],
         "type": "scatter",
         "x": [
          -7.225872993469238
         ]
        },
        {
         "marker": {
          "color": "red",
          "size": 6
         },
         "mode": "markers",
         "name": "which",
         "text": [
          "which"
         ],
         "type": "scatter",
         "x": [
          13.927899360656738
         ]
        },
        {
         "marker": {
          "color": "red",
          "size": 6
         },
         "mode": "markers",
         "name": "located",
         "text": [
          "located"
         ],
         "type": "scatter",
         "x": [
          14.151912689208984
         ]
        },
        {
         "marker": {
          "color": "red",
          "size": 6
         },
         "mode": "markers",
         "name": "united",
         "text": [
          "united"
         ],
         "type": "scatter",
         "x": [
          -7.255939483642578
         ]
        },
        {
         "marker": {
          "color": "red",
          "size": 6
         },
         "mode": "markers",
         "name": "states",
         "text": [
          "states"
         ],
         "type": "scatter",
         "x": [
          -7.257449626922607
         ]
        },
        {
         "marker": {
          "color": "red",
          "size": 6
         },
         "mode": "markers",
         "name": "military",
         "text": [
          "military"
         ],
         "type": "scatter",
         "x": [
          -7.27985143661499
         ]
        },
        {
         "marker": {
          "color": "red",
          "size": 6
         },
         "mode": "markers",
         "name": "base",
         "text": [
          "base"
         ],
         "type": "scatter",
         "x": [
          -7.26040506362915
         ]
        },
        {
         "marker": {
          "color": "red",
          "size": 6
         },
         "mode": "markers",
         "name": "outside",
         "text": [
          "outside"
         ],
         "type": "scatter",
         "x": [
          15.252104759216309
         ]
        },
        {
         "marker": {
          "color": "green",
          "size": 6
         },
         "mode": "markers",
         "name": "the",
         "text": [
          "the"
         ],
         "type": "scatter",
         "x": [
          15.400447845458984
         ]
        },
        {
         "marker": {
          "color": "red",
          "size": 6
         },
         "mode": "markers",
         "name": "united",
         "text": [
          "united"
         ],
         "type": "scatter",
         "x": [
          -7.221884250640869
         ]
        },
        {
         "marker": {
          "color": "red",
          "size": 6
         },
         "mode": "markers",
         "name": "states",
         "text": [
          "states"
         ],
         "type": "scatter",
         "x": [
          -7.227639198303223
         ]
        },
        {
         "marker": {
          "color": "green",
          "size": 6
         },
         "mode": "markers",
         "name": "and",
         "text": [
          "and"
         ],
         "type": "scatter",
         "x": [
          -7.977942943572998
         ]
        },
        {
         "marker": {
          "color": "red",
          "size": 6
         },
         "mode": "markers",
         "name": "whose",
         "text": [
          "whose"
         ],
         "type": "scatter",
         "x": [
          13.907413482666016
         ]
        },
        {
         "marker": {
          "color": "red",
          "size": 6
         },
         "mode": "markers",
         "name": "teaching",
         "text": [
          "teaching"
         ],
         "type": "scatter",
         "x": [
          21.27531623840332
         ]
        },
        {
         "marker": {
          "color": "red",
          "size": 6
         },
         "mode": "markers",
         "name": "responsibilities",
         "text": [
          "responsibilities"
         ],
         "type": "scatter",
         "x": [
          13.643089294433594
         ]
        },
        {
         "marker": {
          "color": "red",
          "size": 6
         },
         "mode": "markers",
         "name": "such",
         "text": [
          "such"
         ],
         "type": "scatter",
         "x": [
          -16.380348205566406
         ]
        },
        {
         "marker": {
          "color": "red",
          "size": 6
         },
         "mode": "markers",
         "name": "school",
         "text": [
          "school"
         ],
         "type": "scatter",
         "x": [
          -13.164957046508789
         ]
        },
        {
         "marker": {
          "color": "red",
          "size": 6
         },
         "mode": "markers",
         "name": "include",
         "text": [
          "include"
         ],
         "type": "scatter",
         "x": [
          14.128798484802246
         ]
        },
        {
         "marker": {
          "color": "red",
          "size": 6
         },
         "mode": "markers",
         "name": "are",
         "text": [
          "are"
         ],
         "type": "scatter",
         "x": [
          13.775659561157227
         ]
        },
        {
         "marker": {
          "color": "red",
          "size": 6
         },
         "mode": "markers",
         "name": "likely",
         "text": [
          "likely"
         ],
         "type": "scatter",
         "x": [
          13.77405071258545
         ]
        },
        {
         "marker": {
          "color": "red",
          "size": 6
         },
         "mode": "markers",
         "name": "include",
         "text": [
          "include"
         ],
         "type": "scatter",
         "x": [
          14.252803802490234
         ]
        },
        {
         "marker": {
          "color": "red",
          "size": 6
         },
         "mode": "markers",
         "name": "any",
         "text": [
          "any"
         ],
         "type": "scatter",
         "x": [
          0.8032630085945129
         ]
        },
        {
         "marker": {
          "color": "red",
          "size": 6
         },
         "mode": "markers",
         "name": "course",
         "text": [
          "course"
         ],
         "type": "scatter",
         "x": [
          21.074811935424805
         ]
        },
        {
         "marker": {
          "color": "green",
          "size": 6
         },
         "mode": "markers",
         "name": "the",
         "text": [
          "the"
         ],
         "type": "scatter",
         "x": [
          15.68934440612793
         ]
        },
        {
         "marker": {
          "color": "red",
          "size": 6
         },
         "mode": "markers",
         "name": "areas",
         "text": [
          "areas"
         ],
         "type": "scatter",
         "x": [
          -8.357010841369629
         ]
        },
        {
         "marker": {
          "color": "green",
          "size": 6
         },
         "mode": "markers",
         "name": "science",
         "text": [
          "science"
         ],
         "type": "scatter",
         "x": [
          34.816184997558594
         ]
        },
        {
         "marker": {
          "color": "green",
          "size": 6
         },
         "mode": "markers",
         "name": "technology",
         "text": [
          "technology"
         ],
         "type": "scatter",
         "x": [
          35.481021881103516
         ]
        },
        {
         "marker": {
          "color": "green",
          "size": 6
         },
         "mode": "markers",
         "name": "engineering",
         "text": [
          "engineering"
         ],
         "type": "scatter",
         "x": [
          33.92213821411133
         ]
        },
        {
         "marker": {
          "color": "green",
          "size": 6
         },
         "mode": "markers",
         "name": "mathematics",
         "text": [
          "mathematics"
         ],
         "type": "scatter",
         "x": [
          -15.430835723876953
         ]
        },
        {
         "marker": {
          "color": "red",
          "size": 6
         },
         "mode": "markers",
         "name": "stem",
         "text": [
          "stem"
         ],
         "type": "scatter",
         "x": [
          26.23405647277832
         ]
        },
        {
         "marker": {
          "color": "green",
          "size": 6
         },
         "mode": "markers",
         "name": "teacher",
         "text": [
          "teacher"
         ],
         "type": "scatter",
         "x": [
          21.463722229003906
         ]
        },
        {
         "marker": {
          "color": "green",
          "size": 6
         },
         "mode": "markers",
         "name": "training",
         "text": [
          "training"
         ],
         "type": "scatter",
         "x": [
          20.81568717956543
         ]
        },
        {
         "marker": {
          "color": "red",
          "size": 6
         },
         "mode": "markers",
         "name": "expenses",
         "text": [
          "expenses"
         ],
         "type": "scatter",
         "x": [
          -1.183454990386963
         ]
        },
        {
         "marker": {
          "color": "green",
          "size": 6
         },
         "mode": "markers",
         "name": "the",
         "text": [
          "the"
         ],
         "type": "scatter",
         "x": [
          17.429269790649414
         ]
        },
        {
         "marker": {
          "color": "red",
          "size": 6
         },
         "mode": "markers",
         "name": "term",
         "text": [
          "term"
         ],
         "type": "scatter",
         "x": [
          -22.812454223632812
         ]
        },
        {
         "marker": {
          "color": "red",
          "size": 6
         },
         "mode": "markers",
         "name": "stem",
         "text": [
          "stem"
         ],
         "type": "scatter",
         "x": [
          26.22087860107422
         ]
        },
        {
         "marker": {
          "color": "green",
          "size": 6
         },
         "mode": "markers",
         "name": "teacher",
         "text": [
          "teacher"
         ],
         "type": "scatter",
         "x": [
          21.468379974365234
         ]
        },
        {
         "marker": {
          "color": "green",
          "size": 6
         },
         "mode": "markers",
         "name": "training",
         "text": [
          "training"
         ],
         "type": "scatter",
         "x": [
          20.84601593017578
         ]
        },
        {
         "marker": {
          "color": "red",
          "size": 6
         },
         "mode": "markers",
         "name": "expenses",
         "text": [
          "expenses"
         ],
         "type": "scatter",
         "x": [
          -1.2063783407211304
         ]
        },
        {
         "marker": {
          "color": "red",
          "size": 6
         },
         "mode": "markers",
         "name": "means",
         "text": [
          "means"
         ],
         "type": "scatter",
         "x": [
          -19.384267807006836
         ]
        },
        {
         "marker": {
          "color": "red",
          "size": 6
         },
         "mode": "markers",
         "name": "any",
         "text": [
          "any"
         ],
         "type": "scatter",
         "x": [
          0.7522201538085938
         ]
        },
        {
         "marker": {
          "color": "red",
          "size": 6
         },
         "mode": "markers",
         "name": "amount",
         "text": [
          "amount"
         ],
         "type": "scatter",
         "x": [
          -0.38160470128059387
         ]
        },
        {
         "marker": {
          "color": "red",
          "size": 6
         },
         "mode": "markers",
         "name": "paid",
         "text": [
          "paid"
         ],
         "type": "scatter",
         "x": [
          -0.4840667247772217
         ]
        },
        {
         "marker": {
          "color": "red",
          "size": 6
         },
         "mode": "markers",
         "name": "incurred",
         "text": [
          "incurred"
         ],
         "type": "scatter",
         "x": [
          -0.6232767105102539
         ]
        },
        {
         "marker": {
          "color": "red",
          "size": 6
         },
         "mode": "markers",
         "name": "taxpayer",
         "text": [
          "taxpayer"
         ],
         "type": "scatter",
         "x": [
          19.595624923706055
         ]
        },
        {
         "marker": {
          "color": "red",
          "size": 6
         },
         "mode": "markers",
         "name": "engaged",
         "text": [
          "engaged"
         ],
         "type": "scatter",
         "x": [
          15.93860149383545
         ]
        },
        {
         "marker": {
          "color": "red",
          "size": 6
         },
         "mode": "markers",
         "name": "trade",
         "text": [
          "trade"
         ],
         "type": "scatter",
         "x": [
          16.444849014282227
         ]
        },
        {
         "marker": {
          "color": "green",
          "size": 6
         },
         "mode": "markers",
         "name": "business",
         "text": [
          "business"
         ],
         "type": "scatter",
         "x": [
          16.479778289794922
         ]
        },
        {
         "marker": {
          "color": "red",
          "size": 6
         },
         "mode": "markers",
         "name": "within",
         "text": [
          "within"
         ],
         "type": "scatter",
         "x": [
          15.951749801635742
         ]
        },
        {
         "marker": {
          "color": "red",
          "size": 6
         },
         "mode": "markers",
         "name": "area",
         "text": [
          "area"
         ],
         "type": "scatter",
         "x": [
          -8.360530853271484
         ]
        },
        {
         "marker": {
          "color": "green",
          "size": 6
         },
         "mode": "markers",
         "name": "science",
         "text": [
          "science"
         ],
         "type": "scatter",
         "x": [
          34.81418228149414
         ]
        },
        {
         "marker": {
          "color": "green",
          "size": 6
         },
         "mode": "markers",
         "name": "technology",
         "text": [
          "technology"
         ],
         "type": "scatter",
         "x": [
          35.49399185180664
         ]
        },
        {
         "marker": {
          "color": "green",
          "size": 6
         },
         "mode": "markers",
         "name": "engineering",
         "text": [
          "engineering"
         ],
         "type": "scatter",
         "x": [
          33.92546081542969
         ]
        },
        {
         "marker": {
          "color": "green",
          "size": 6
         },
         "mode": "markers",
         "name": "mathematics",
         "text": [
          "mathematics"
         ],
         "type": "scatter",
         "x": [
          -15.429176330566406
         ]
        },
        {
         "marker": {
          "color": "red",
          "size": 6
         },
         "mode": "markers",
         "name": "which",
         "text": [
          "which"
         ],
         "type": "scatter",
         "x": [
          13.798563957214355
         ]
        },
        {
         "marker": {
          "color": "red",
          "size": 6
         },
         "mode": "markers",
         "name": "##tri",
         "text": [
          "##tri"
         ],
         "type": "scatter",
         "x": [
          16.881763458251953
         ]
        },
        {
         "marker": {
          "color": "red",
          "size": 6
         },
         "mode": "markers",
         "name": "##bu",
         "text": [
          "##bu"
         ],
         "type": "scatter",
         "x": [
          16.82098388671875
         ]
        },
        {
         "marker": {
          "color": "red",
          "size": 6
         },
         "mode": "markers",
         "name": "##table",
         "text": [
          "##table"
         ],
         "type": "scatter",
         "x": [
          16.641342163085938
         ]
        },
        {
         "marker": {
          "color": "green",
          "size": 6
         },
         "mode": "markers",
         "name": "the",
         "text": [
          "the"
         ],
         "type": "scatter",
         "x": [
          14.99974250793457
         ]
        },
        {
         "marker": {
          "color": "red",
          "size": 6
         },
         "mode": "markers",
         "name": "participation",
         "text": [
          "participation"
         ],
         "type": "scatter",
         "x": [
          16.02768325805664
         ]
        },
        {
         "marker": {
          "color": "red",
          "size": 6
         },
         "mode": "markers",
         "name": "any",
         "text": [
          "any"
         ],
         "type": "scatter",
         "x": [
          0.8036393523216248
         ]
        },
        {
         "marker": {
          "color": "red",
          "size": 6
         },
         "mode": "markers",
         "name": "eligible",
         "text": [
          "eligible"
         ],
         "type": "scatter",
         "x": [
          26.755447387695312
         ]
        },
        {
         "marker": {
          "color": "red",
          "size": 6
         },
         "mode": "markers",
         "name": "stem",
         "text": [
          "stem"
         ],
         "type": "scatter",
         "x": [
          26.225767135620117
         ]
        },
        {
         "marker": {
          "color": "green",
          "size": 6
         },
         "mode": "markers",
         "name": "teacher",
         "text": [
          "teacher"
         ],
         "type": "scatter",
         "x": [
          21.447343826293945
         ]
        },
        {
         "marker": {
          "color": "red",
          "size": 6
         },
         "mode": "markers",
         "name": "regular",
         "text": [
          "regular"
         ],
         "type": "scatter",
         "x": [
          -2.0047340393066406
         ]
        },
        {
         "marker": {
          "color": "green",
          "size": 6
         },
         "mode": "markers",
         "name": "training",
         "text": [
          "training"
         ],
         "type": "scatter",
         "x": [
          20.794458389282227
         ]
        },
        {
         "marker": {
          "color": "red",
          "size": 6
         },
         "mode": "markers",
         "name": "program",
         "text": [
          "program"
         ],
         "type": "scatter",
         "x": [
          -2.019071102142334
         ]
        },
        {
         "marker": {
          "color": "red",
          "size": 6
         },
         "mode": "markers",
         "name": "provided",
         "text": [
          "provided"
         ],
         "type": "scatter",
         "x": [
          -0.733475923538208
         ]
        },
        {
         "marker": {
          "color": "red",
          "size": 6
         },
         "mode": "markers",
         "name": "employees",
         "text": [
          "employees"
         ],
         "type": "scatter",
         "x": [
          21.281078338623047
         ]
        },
        {
         "marker": {
          "color": "green",
          "size": 6
         },
         "mode": "markers",
         "name": "the",
         "text": [
          "the"
         ],
         "type": "scatter",
         "x": [
          14.524447441101074
         ]
        },
        {
         "marker": {
          "color": "red",
          "size": 6
         },
         "mode": "markers",
         "name": "taxpayer",
         "text": [
          "taxpayer"
         ],
         "type": "scatter",
         "x": [
          19.57622528076172
         ]
        },
        {
         "marker": {
          "color": "red",
          "size": 6
         },
         "mode": "markers",
         "name": "which",
         "text": [
          "which"
         ],
         "type": "scatter",
         "x": [
          13.810464859008789
         ]
        },
        {
         "marker": {
          "color": "red",
          "size": 6
         },
         "mode": "markers",
         "name": "determined",
         "text": [
          "determined"
         ],
         "type": "scatter",
         "x": [
          -0.4749657213687897
         ]
        },
        {
         "marker": {
          "color": "red",
          "size": 6
         },
         "mode": "markers",
         "name": "such",
         "text": [
          "such"
         ],
         "type": "scatter",
         "x": [
          -16.362075805664062
         ]
        },
        {
         "marker": {
          "color": "green",
          "size": 6
         },
         "mode": "markers",
         "name": "teacher",
         "text": [
          "teacher"
         ],
         "type": "scatter",
         "x": [
          21.47349739074707
         ]
        },
        {
         "marker": {
          "color": "red",
          "size": 6
         },
         "mode": "markers",
         "name": "school",
         "text": [
          "school"
         ],
         "type": "scatter",
         "x": [
          -13.145299911499023
         ]
        },
        {
         "marker": {
          "color": "red",
          "size": 6
         },
         "mode": "markers",
         "name": "enhancing",
         "text": [
          "enhancing"
         ],
         "type": "scatter",
         "x": [
          14.900716781616211
         ]
        },
        {
         "marker": {
          "color": "red",
          "size": 6
         },
         "mode": "markers",
         "name": "such",
         "text": [
          "such"
         ],
         "type": "scatter",
         "x": [
          -16.373472213745117
         ]
        },
        {
         "marker": {
          "color": "green",
          "size": 6
         },
         "mode": "markers",
         "name": "teacher",
         "text": [
          "teacher"
         ],
         "type": "scatter",
         "x": [
          21.467487335205078
         ]
        },
        {
         "marker": {
          "color": "red",
          "size": 6
         },
         "mode": "markers",
         "name": "teaching",
         "text": [
          "teaching"
         ],
         "type": "scatter",
         "x": [
          21.266477584838867
         ]
        },
        {
         "marker": {
          "color": "red",
          "size": 6
         },
         "mode": "markers",
         "name": "skills",
         "text": [
          "skills"
         ],
         "type": "scatter",
         "x": [
          20.789194107055664
         ]
        },
        {
         "marker": {
          "color": "green",
          "size": 6
         },
         "mode": "markers",
         "name": "the",
         "text": [
          "the"
         ],
         "type": "scatter",
         "x": [
          15.512685775756836
         ]
        },
        {
         "marker": {
          "color": "red",
          "size": 6
         },
         "mode": "markers",
         "name": "areas",
         "text": [
          "areas"
         ],
         "type": "scatter",
         "x": [
          -8.382705688476562
         ]
        },
        {
         "marker": {
          "color": "green",
          "size": 6
         },
         "mode": "markers",
         "name": "science",
         "text": [
          "science"
         ],
         "type": "scatter",
         "x": [
          34.81044387817383
         ]
        },
        {
         "marker": {
          "color": "green",
          "size": 6
         },
         "mode": "markers",
         "name": "technology",
         "text": [
          "technology"
         ],
         "type": "scatter",
         "x": [
          35.50524139404297
         ]
        },
        {
         "marker": {
          "color": "green",
          "size": 6
         },
         "mode": "markers",
         "name": "engineering",
         "text": [
          "engineering"
         ],
         "type": "scatter",
         "x": [
          33.935646057128906
         ]
        },
        {
         "marker": {
          "color": "green",
          "size": 6
         },
         "mode": "markers",
         "name": "mathematics",
         "text": [
          "mathematics"
         ],
         "type": "scatter",
         "x": [
          -15.413641929626465
         ]
        },
        {
         "marker": {
          "color": "red",
          "size": 6
         },
         "mode": "markers",
         "name": "denial",
         "text": [
          "denial"
         ],
         "type": "scatter",
         "x": [
          -0.02316707745194435
         ]
        },
        {
         "marker": {
          "color": "red",
          "size": 6
         },
         "mode": "markers",
         "name": "double",
         "text": [
          "double"
         ],
         "type": "scatter",
         "x": [
          -0.10644246637821198
         ]
        },
        {
         "marker": {
          "color": "red",
          "size": 6
         },
         "mode": "markers",
         "name": "benefit",
         "text": [
          "benefit"
         ],
         "type": "scatter",
         "x": [
          -0.5473852753639221
         ]
        },
        {
         "marker": {
          "color": "red",
          "size": 6
         },
         "mode": "markers",
         "name": "##duction",
         "text": [
          "##duction"
         ],
         "type": "scatter",
         "x": [
          -0.3304636776447296
         ]
        },
        {
         "marker": {
          "color": "red",
          "size": 6
         },
         "mode": "markers",
         "name": "shall",
         "text": [
          "shall"
         ],
         "type": "scatter",
         "x": [
          13.507497787475586
         ]
        },
        {
         "marker": {
          "color": "red",
          "size": 6
         },
         "mode": "markers",
         "name": "allowed",
         "text": [
          "allowed"
         ],
         "type": "scatter",
         "x": [
          -0.10587070882320404
         ]
        },
        {
         "marker": {
          "color": "red",
          "size": 6
         },
         "mode": "markers",
         "name": "under",
         "text": [
          "under"
         ],
         "type": "scatter",
         "x": [
          12.803382873535156
         ]
        },
        {
         "marker": {
          "color": "red",
          "size": 6
         },
         "mode": "markers",
         "name": "this",
         "text": [
          "this"
         ],
         "type": "scatter",
         "x": [
          -5.179285049438477
         ]
        },
        {
         "marker": {
          "color": "red",
          "size": 6
         },
         "mode": "markers",
         "name": "chapter",
         "text": [
          "chapter"
         ],
         "type": "scatter",
         "x": [
          -6.0345988273620605
         ]
        },
        {
         "marker": {
          "color": "green",
          "size": 6
         },
         "mode": "markers",
         "name": "for",
         "text": [
          "for"
         ],
         "type": "scatter",
         "x": [
          15.361347198486328
         ]
        },
        {
         "marker": {
          "color": "red",
          "size": 6
         },
         "mode": "markers",
         "name": "any",
         "text": [
          "any"
         ],
         "type": "scatter",
         "x": [
          0.7916852235794067
         ]
        },
        {
         "marker": {
          "color": "red",
          "size": 6
         },
         "mode": "markers",
         "name": "amount",
         "text": [
          "amount"
         ],
         "type": "scatter",
         "x": [
          -0.32795870304107666
         ]
        },
        {
         "marker": {
          "color": "red",
          "size": 6
         },
         "mode": "markers",
         "name": "allowed",
         "text": [
          "allowed"
         ],
         "type": "scatter",
         "x": [
          -0.31614184379577637
         ]
        },
        {
         "marker": {
          "color": "green",
          "size": 6
         },
         "mode": "markers",
         "name": "credit",
         "text": [
          "credit"
         ],
         "type": "scatter",
         "x": [
          -0.7272921800613403
         ]
        },
        {
         "marker": {
          "color": "red",
          "size": 6
         },
         "mode": "markers",
         "name": "under",
         "text": [
          "under"
         ],
         "type": "scatter",
         "x": [
          12.821189880371094
         ]
        },
        {
         "marker": {
          "color": "red",
          "size": 6
         },
         "mode": "markers",
         "name": "this",
         "text": [
          "this"
         ],
         "type": "scatter",
         "x": [
          -5.26857328414917
         ]
        },
        {
         "marker": {
          "color": "red",
          "size": 6
         },
         "mode": "markers",
         "name": "section",
         "text": [
          "section"
         ],
         "type": "scatter",
         "x": [
          -6.011594295501709
         ]
        },
        {
         "marker": {
          "color": "red",
          "size": 6
         },
         "mode": "markers",
         "name": "conform",
         "text": [
          "conform"
         ],
         "type": "scatter",
         "x": [
          -0.036723364144563675
         ]
        },
        {
         "marker": {
          "color": "red",
          "size": 6
         },
         "mode": "markers",
         "name": "##ing",
         "text": [
          "##ing"
         ],
         "type": "scatter",
         "x": [
          0.11131793260574341
         ]
        },
        {
         "marker": {
          "color": "red",
          "size": 6
         },
         "mode": "markers",
         "name": "amendments",
         "text": [
          "amendments"
         ],
         "type": "scatter",
         "x": [
          -6.219503402709961
         ]
        },
        {
         "marker": {
          "color": "red",
          "size": 6
         },
         "mode": "markers",
         "name": "section",
         "text": [
          "section"
         ],
         "type": "scatter",
         "x": [
          -6.062665939331055
         ]
        },
        {
         "marker": {
          "color": "red",
          "size": 6
         },
         "mode": "markers",
         "name": "such",
         "text": [
          "such"
         ],
         "type": "scatter",
         "x": [
          -16.386171340942383
         ]
        },
        {
         "marker": {
          "color": "green",
          "size": 6
         },
         "mode": "markers",
         "name": "code",
         "text": [
          "code"
         ],
         "type": "scatter",
         "x": [
          -5.937904357910156
         ]
        },
        {
         "marker": {
          "color": "red",
          "size": 6
         },
         "mode": "markers",
         "name": "amended",
         "text": [
          "amended"
         ],
         "type": "scatter",
         "x": [
          -6.4345550537109375
         ]
        },
        {
         "marker": {
          "color": "red",
          "size": 6
         },
         "mode": "markers",
         "name": "striking",
         "text": [
          "striking"
         ],
         "type": "scatter",
         "x": [
          -6.696603298187256
         ]
        },
        {
         "marker": {
          "color": "red",
          "size": 6
         },
         "mode": "markers",
         "name": "plus",
         "text": [
          "plus"
         ],
         "type": "scatter",
         "x": [
          18.758556365966797
         ]
        },
        {
         "marker": {
          "color": "green",
          "size": 6
         },
         "mode": "markers",
         "name": "the",
         "text": [
          "the"
         ],
         "type": "scatter",
         "x": [
          17.555583953857422
         ]
        },
        {
         "marker": {
          "color": "red",
          "size": 6
         },
         "mode": "markers",
         "name": "end",
         "text": [
          "end"
         ],
         "type": "scatter",
         "x": [
          17.791833877563477
         ]
        },
        {
         "marker": {
          "color": "red",
          "size": 6
         },
         "mode": "markers",
         "name": "paragraph",
         "text": [
          "paragraph"
         ],
         "type": "scatter",
         "x": [
          -6.094474792480469
         ]
        },
        {
         "marker": {
          "color": "red",
          "size": 6
         },
         "mode": "markers",
         "name": "striking",
         "text": [
          "striking"
         ],
         "type": "scatter",
         "x": [
          -6.634300708770752
         ]
        },
        {
         "marker": {
          "color": "green",
          "size": 6
         },
         "mode": "markers",
         "name": "the",
         "text": [
          "the"
         ],
         "type": "scatter",
         "x": [
          0.4036538898944855
         ]
        },
        {
         "marker": {
          "color": "red",
          "size": 6
         },
         "mode": "markers",
         "name": "period",
         "text": [
          "period"
         ],
         "type": "scatter",
         "x": [
          -0.0811503604054451
         ]
        },
        {
         "marker": {
          "color": "green",
          "size": 6
         },
         "mode": "markers",
         "name": "the",
         "text": [
          "the"
         ],
         "type": "scatter",
         "x": [
          17.987661361694336
         ]
        },
        {
         "marker": {
          "color": "red",
          "size": 6
         },
         "mode": "markers",
         "name": "end",
         "text": [
          "end"
         ],
         "type": "scatter",
         "x": [
          17.756023406982422
         ]
        },
        {
         "marker": {
          "color": "red",
          "size": 6
         },
         "mode": "markers",
         "name": "paragraph",
         "text": [
          "paragraph"
         ],
         "type": "scatter",
         "x": [
          -6.043301582336426
         ]
        },
        {
         "marker": {
          "color": "green",
          "size": 6
         },
         "mode": "markers",
         "name": "and",
         "text": [
          "and"
         ],
         "type": "scatter",
         "x": [
          -7.1310930252075195
         ]
        },
        {
         "marker": {
          "color": "red",
          "size": 6
         },
         "mode": "markers",
         "name": "insert",
         "text": [
          "insert"
         ],
         "type": "scatter",
         "x": [
          -6.670868396759033
         ]
        },
        {
         "marker": {
          "color": "red",
          "size": 6
         },
         "mode": "markers",
         "name": "##ing",
         "text": [
          "##ing"
         ],
         "type": "scatter",
         "x": [
          -6.695194244384766
         ]
        },
        {
         "marker": {
          "color": "red",
          "size": 6
         },
         "mode": "markers",
         "name": "plus",
         "text": [
          "plus"
         ],
         "type": "scatter",
         "x": [
          -6.521315097808838
         ]
        },
        {
         "marker": {
          "color": "green",
          "size": 6
         },
         "mode": "markers",
         "name": "and",
         "text": [
          "and"
         ],
         "type": "scatter",
         "x": [
          -7.87163782119751
         ]
        },
        {
         "marker": {
          "color": "red",
          "size": 6
         },
         "mode": "markers",
         "name": "adding",
         "text": [
          "adding"
         ],
         "type": "scatter",
         "x": [
          -6.686139106750488
         ]
        },
        {
         "marker": {
          "color": "green",
          "size": 6
         },
         "mode": "markers",
         "name": "the",
         "text": [
          "the"
         ],
         "type": "scatter",
         "x": [
          18.058040618896484
         ]
        },
        {
         "marker": {
          "color": "red",
          "size": 6
         },
         "mode": "markers",
         "name": "end",
         "text": [
          "end"
         ],
         "type": "scatter",
         "x": [
          17.755704879760742
         ]
        },
        {
         "marker": {
          "color": "green",
          "size": 6
         },
         "mode": "markers",
         "name": "the",
         "text": [
          "the"
         ],
         "type": "scatter",
         "x": [
          17.551116943359375
         ]
        },
        {
         "marker": {
          "color": "red",
          "size": 6
         },
         "mode": "markers",
         "name": "following",
         "text": [
          "following"
         ],
         "type": "scatter",
         "x": [
          17.73001480102539
         ]
        },
        {
         "marker": {
          "color": "red",
          "size": 6
         },
         "mode": "markers",
         "name": "new",
         "text": [
          "new"
         ],
         "type": "scatter",
         "x": [
          -6.425471305847168
         ]
        },
        {
         "marker": {
          "color": "red",
          "size": 6
         },
         "mode": "markers",
         "name": "paragraph",
         "text": [
          "paragraph"
         ],
         "type": "scatter",
         "x": [
          -6.066437244415283
         ]
        },
        {
         "marker": {
          "color": "green",
          "size": 6
         },
         "mode": "markers",
         "name": "the",
         "text": [
          "the"
         ],
         "type": "scatter",
         "x": [
          0.37639689445495605
         ]
        },
        {
         "marker": {
          "color": "green",
          "size": 6
         },
         "mode": "markers",
         "name": "elementary",
         "text": [
          "elementary"
         ],
         "type": "scatter",
         "x": [
          -13.808858871459961
         ]
        },
        {
         "marker": {
          "color": "green",
          "size": 6
         },
         "mode": "markers",
         "name": "and",
         "text": [
          "and"
         ],
         "type": "scatter",
         "x": [
          -9.563981056213379
         ]
        },
        {
         "marker": {
          "color": "green",
          "size": 6
         },
         "mode": "markers",
         "name": "secondary",
         "text": [
          "secondary"
         ],
         "type": "scatter",
         "x": [
          -13.889957427978516
         ]
        },
        {
         "marker": {
          "color": "green",
          "size": 6
         },
         "mode": "markers",
         "name": "science",
         "text": [
          "science"
         ],
         "type": "scatter",
         "x": [
          34.81100845336914
         ]
        },
        {
         "marker": {
          "color": "green",
          "size": 6
         },
         "mode": "markers",
         "name": "technology",
         "text": [
          "technology"
         ],
         "type": "scatter",
         "x": [
          35.48160934448242
         ]
        },
        {
         "marker": {
          "color": "green",
          "size": 6
         },
         "mode": "markers",
         "name": "engineering",
         "text": [
          "engineering"
         ],
         "type": "scatter",
         "x": [
          33.92575454711914
         ]
        },
        {
         "marker": {
          "color": "green",
          "size": 6
         },
         "mode": "markers",
         "name": "and",
         "text": [
          "and"
         ],
         "type": "scatter",
         "x": [
          -9.382583618164062
         ]
        },
        {
         "marker": {
          "color": "green",
          "size": 6
         },
         "mode": "markers",
         "name": "mathematics",
         "text": [
          "mathematics"
         ],
         "type": "scatter",
         "x": [
          -15.41032886505127
         ]
        },
        {
         "marker": {
          "color": "red",
          "size": 6
         },
         "mode": "markers",
         "name": "stem",
         "text": [
          "stem"
         ],
         "type": "scatter",
         "x": [
          26.183481216430664
         ]
        },
        {
         "marker": {
          "color": "green",
          "size": 6
         },
         "mode": "markers",
         "name": "contributions",
         "text": [
          "contributions"
         ],
         "type": "scatter",
         "x": [
          -1.5034232139587402
         ]
        },
        {
         "marker": {
          "color": "green",
          "size": 6
         },
         "mode": "markers",
         "name": "credit",
         "text": [
          "credit"
         ],
         "type": "scatter",
         "x": [
          -0.7973300218582153
         ]
        },
        {
         "marker": {
          "color": "red",
          "size": 6
         },
         "mode": "markers",
         "name": "determined",
         "text": [
          "determined"
         ],
         "type": "scatter",
         "x": [
          -0.45461657643318176
         ]
        },
        {
         "marker": {
          "color": "red",
          "size": 6
         },
         "mode": "markers",
         "name": "under",
         "text": [
          "under"
         ],
         "type": "scatter",
         "x": [
          12.785042762756348
         ]
        },
        {
         "marker": {
          "color": "red",
          "size": 6
         },
         "mode": "markers",
         "name": "section",
         "text": [
          "section"
         ],
         "type": "scatter",
         "x": [
          -6.140407562255859
         ]
        },
        {
         "marker": {
          "color": "red",
          "size": 6
         },
         "mode": "markers",
         "name": "##o",
         "text": [
          "##o"
         ],
         "type": "scatter",
         "x": [
          -10.873865127563477
         ]
        },
        {
         "marker": {
          "color": "green",
          "size": 6
         },
         "mode": "markers",
         "name": "the",
         "text": [
          "the"
         ],
         "type": "scatter",
         "x": [
          0.4030592441558838
         ]
        },
        {
         "marker": {
          "color": "red",
          "size": 6
         },
         "mode": "markers",
         "name": "table",
         "text": [
          "table"
         ],
         "type": "scatter",
         "x": [
          -0.0647888258099556
         ]
        },
        {
         "marker": {
          "color": "red",
          "size": 6
         },
         "mode": "markers",
         "name": "sections",
         "text": [
          "sections"
         ],
         "type": "scatter",
         "x": [
          -6.0174431800842285
         ]
        },
        {
         "marker": {
          "color": "green",
          "size": 6
         },
         "mode": "markers",
         "name": "for",
         "text": [
          "for"
         ],
         "type": "scatter",
         "x": [
          15.506628036499023
         ]
        },
        {
         "marker": {
          "color": "red",
          "size": 6
         },
         "mode": "markers",
         "name": "sub",
         "text": [
          "sub"
         ],
         "type": "scatter",
         "x": [
          -5.71533203125
         ]
        },
        {
         "marker": {
          "color": "red",
          "size": 6
         },
         "mode": "markers",
         "name": "##par",
         "text": [
          "##par"
         ],
         "type": "scatter",
         "x": [
          -5.565775394439697
         ]
        },
        {
         "marker": {
          "color": "red",
          "size": 6
         },
         "mode": "markers",
         "name": "##t",
         "text": [
          "##t"
         ],
         "type": "scatter",
         "x": [
          -5.508264064788818
         ]
        },
        {
         "marker": {
          "color": "red",
          "size": 6
         },
         "mode": "markers",
         "name": "part",
         "text": [
          "part"
         ],
         "type": "scatter",
         "x": [
          -5.883757591247559
         ]
        },
        {
         "marker": {
          "color": "red",
          "size": 6
         },
         "mode": "markers",
         "name": "sub",
         "text": [
          "sub"
         ],
         "type": "scatter",
         "x": [
          -5.6959381103515625
         ]
        },
        {
         "marker": {
          "color": "red",
          "size": 6
         },
         "mode": "markers",
         "name": "##cha",
         "text": [
          "##cha"
         ],
         "type": "scatter",
         "x": [
          18.48212242126465
         ]
        },
        {
         "marker": {
          "color": "red",
          "size": 6
         },
         "mode": "markers",
         "name": "##pt",
         "text": [
          "##pt"
         ],
         "type": "scatter",
         "x": [
          18.48915672302246
         ]
        },
        {
         "marker": {
          "color": "red",
          "size": 6
         },
         "mode": "markers",
         "name": "##er",
         "text": [
          "##er"
         ],
         "type": "scatter",
         "x": [
          -5.482344627380371
         ]
        },
        {
         "marker": {
          "color": "red",
          "size": 6
         },
         "mode": "markers",
         "name": "chapter",
         "text": [
          "chapter"
         ],
         "type": "scatter",
         "x": [
          -5.980170726776123
         ]
        },
        {
         "marker": {
          "color": "red",
          "size": 6
         },
         "mode": "markers",
         "name": "such",
         "text": [
          "such"
         ],
         "type": "scatter",
         "x": [
          -16.378877639770508
         ]
        },
        {
         "marker": {
          "color": "green",
          "size": 6
         },
         "mode": "markers",
         "name": "code",
         "text": [
          "code"
         ],
         "type": "scatter",
         "x": [
          -5.928905010223389
         ]
        },
        {
         "marker": {
          "color": "red",
          "size": 6
         },
         "mode": "markers",
         "name": "amended",
         "text": [
          "amended"
         ],
         "type": "scatter",
         "x": [
          -6.499155044555664
         ]
        },
        {
         "marker": {
          "color": "red",
          "size": 6
         },
         "mode": "markers",
         "name": "adding",
         "text": [
          "adding"
         ],
         "type": "scatter",
         "x": [
          -6.65464973449707
         ]
        },
        {
         "marker": {
          "color": "green",
          "size": 6
         },
         "mode": "markers",
         "name": "the",
         "text": [
          "the"
         ],
         "type": "scatter",
         "x": [
          17.50579833984375
         ]
        },
        {
         "marker": {
          "color": "red",
          "size": 6
         },
         "mode": "markers",
         "name": "end",
         "text": [
          "end"
         ],
         "type": "scatter",
         "x": [
          17.863637924194336
         ]
        },
        {
         "marker": {
          "color": "green",
          "size": 6
         },
         "mode": "markers",
         "name": "the",
         "text": [
          "the"
         ],
         "type": "scatter",
         "x": [
          17.584802627563477
         ]
        },
        {
         "marker": {
          "color": "red",
          "size": 6
         },
         "mode": "markers",
         "name": "following",
         "text": [
          "following"
         ],
         "type": "scatter",
         "x": [
          17.889633178710938
         ]
        },
        {
         "marker": {
          "color": "red",
          "size": 6
         },
         "mode": "markers",
         "name": "new",
         "text": [
          "new"
         ],
         "type": "scatter",
         "x": [
          -6.414851665496826
         ]
        },
        {
         "marker": {
          "color": "red",
          "size": 6
         },
         "mode": "markers",
         "name": "item",
         "text": [
          "item"
         ],
         "type": "scatter",
         "x": [
          -6.021921634674072
         ]
        },
        {
         "marker": {
          "color": "red",
          "size": 6
         },
         "mode": "markers",
         "name": "sec",
         "text": [
          "sec"
         ],
         "type": "scatter",
         "x": [
          -6.149392127990723
         ]
        },
        {
         "marker": {
          "color": "red",
          "size": 6
         },
         "mode": "markers",
         "name": "##o",
         "text": [
          "##o"
         ],
         "type": "scatter",
         "x": [
          -10.860180854797363
         ]
        },
        {
         "marker": {
          "color": "green",
          "size": 6
         },
         "mode": "markers",
         "name": "contributions",
         "text": [
          "contributions"
         ],
         "type": "scatter",
         "x": [
          -1.4191598892211914
         ]
        },
        {
         "marker": {
          "color": "red",
          "size": 6
         },
         "mode": "markers",
         "name": "benefit",
         "text": [
          "benefit"
         ],
         "type": "scatter",
         "x": [
          -1.0681277513504028
         ]
        },
        {
         "marker": {
          "color": "red",
          "size": 6
         },
         "mode": "markers",
         "name": "##ing",
         "text": [
          "##ing"
         ],
         "type": "scatter",
         "x": [
          -1.061824917793274
         ]
        },
        {
         "marker": {
          "color": "green",
          "size": 6
         },
         "mode": "markers",
         "name": "science",
         "text": [
          "science"
         ],
         "type": "scatter",
         "x": [
          34.808502197265625
         ]
        },
        {
         "marker": {
          "color": "green",
          "size": 6
         },
         "mode": "markers",
         "name": "technology",
         "text": [
          "technology"
         ],
         "type": "scatter",
         "x": [
          35.50094223022461
         ]
        },
        {
         "marker": {
          "color": "green",
          "size": 6
         },
         "mode": "markers",
         "name": "engineering",
         "text": [
          "engineering"
         ],
         "type": "scatter",
         "x": [
          33.92491149902344
         ]
        },
        {
         "marker": {
          "color": "green",
          "size": 6
         },
         "mode": "markers",
         "name": "and",
         "text": [
          "and"
         ],
         "type": "scatter",
         "x": [
          -9.38978099822998
         ]
        },
        {
         "marker": {
          "color": "green",
          "size": 6
         },
         "mode": "markers",
         "name": "mathematics",
         "text": [
          "mathematics"
         ],
         "type": "scatter",
         "x": [
          -15.415425300598145
         ]
        },
        {
         "marker": {
          "color": "green",
          "size": 6
         },
         "mode": "markers",
         "name": "education",
         "text": [
          "education"
         ],
         "type": "scatter",
         "x": [
          21.0816593170166
         ]
        },
        {
         "marker": {
          "color": "green",
          "size": 6
         },
         "mode": "markers",
         "name": "the",
         "text": [
          "the"
         ],
         "type": "scatter",
         "x": [
          15.475217819213867
         ]
        },
        {
         "marker": {
          "color": "green",
          "size": 6
         },
         "mode": "markers",
         "name": "elementary",
         "text": [
          "elementary"
         ],
         "type": "scatter",
         "x": [
          -13.76171875
         ]
        },
        {
         "marker": {
          "color": "green",
          "size": 6
         },
         "mode": "markers",
         "name": "and",
         "text": [
          "and"
         ],
         "type": "scatter",
         "x": [
          -9.514735221862793
         ]
        },
        {
         "marker": {
          "color": "green",
          "size": 6
         },
         "mode": "markers",
         "name": "secondary",
         "text": [
          "secondary"
         ],
         "type": "scatter",
         "x": [
          -13.831205368041992
         ]
        },
        {
         "marker": {
          "color": "red",
          "size": 6
         },
         "mode": "markers",
         "name": "school",
         "text": [
          "school"
         ],
         "type": "scatter",
         "x": [
          -13.21910572052002
         ]
        },
        {
         "marker": {
          "color": "red",
          "size": 6
         },
         "mode": "markers",
         "name": "level",
         "text": [
          "level"
         ],
         "type": "scatter",
         "x": [
          -13.07766342163086
         ]
        },
        {
         "marker": {
          "color": "red",
          "size": 6
         },
         "mode": "markers",
         "name": "effective",
         "text": [
          "effective"
         ],
         "type": "scatter",
         "x": [
          17.851974487304688
         ]
        },
        {
         "marker": {
          "color": "red",
          "size": 6
         },
         "mode": "markers",
         "name": "date",
         "text": [
          "date"
         ],
         "type": "scatter",
         "x": [
          17.893911361694336
         ]
        },
        {
         "marker": {
          "color": "green",
          "size": 6
         },
         "mode": "markers",
         "name": "the",
         "text": [
          "the"
         ],
         "type": "scatter",
         "x": [
          0.379117876291275
         ]
        },
        {
         "marker": {
          "color": "red",
          "size": 6
         },
         "mode": "markers",
         "name": "amendments",
         "text": [
          "amendments"
         ],
         "type": "scatter",
         "x": [
          -6.27595329284668
         ]
        },
        {
         "marker": {
          "color": "red",
          "size": 6
         },
         "mode": "markers",
         "name": "made",
         "text": [
          "made"
         ],
         "type": "scatter",
         "x": [
          -0.006642849650233984
         ]
        },
        {
         "marker": {
          "color": "red",
          "size": 6
         },
         "mode": "markers",
         "name": "this",
         "text": [
          "this"
         ],
         "type": "scatter",
         "x": [
          -5.24345588684082
         ]
        },
        {
         "marker": {
          "color": "red",
          "size": 6
         },
         "mode": "markers",
         "name": "section",
         "text": [
          "section"
         ],
         "type": "scatter",
         "x": [
          -6.089645862579346
         ]
        },
        {
         "marker": {
          "color": "red",
          "size": 6
         },
         "mode": "markers",
         "name": "shall",
         "text": [
          "shall"
         ],
         "type": "scatter",
         "x": [
          13.494261741638184
         ]
        },
        {
         "marker": {
          "color": "red",
          "size": 6
         },
         "mode": "markers",
         "name": "apply",
         "text": [
          "apply"
         ],
         "type": "scatter",
         "x": [
          0.6746252775192261
         ]
        },
        {
         "marker": {
          "color": "red",
          "size": 6
         },
         "mode": "markers",
         "name": "taxa",
         "text": [
          "taxa"
         ],
         "type": "scatter",
         "x": [
          18.23603630065918
         ]
        },
        {
         "marker": {
          "color": "red",
          "size": 6
         },
         "mode": "markers",
         "name": "##ble",
         "text": [
          "##ble"
         ],
         "type": "scatter",
         "x": [
          17.905460357666016
         ]
        },
        {
         "marker": {
          "color": "red",
          "size": 6
         },
         "mode": "markers",
         "name": "years",
         "text": [
          "years"
         ],
         "type": "scatter",
         "x": [
          17.843610763549805
         ]
        },
        {
         "marker": {
          "color": "red",
          "size": 6
         },
         "mode": "markers",
         "name": "beginning",
         "text": [
          "beginning"
         ],
         "type": "scatter",
         "x": [
          17.793603897094727
         ]
        },
        {
         "marker": {
          "color": "red",
          "size": 6
         },
         "mode": "markers",
         "name": "after",
         "text": [
          "after"
         ],
         "type": "scatter",
         "x": [
          17.84151840209961
         ]
        },
        {
         "marker": {
          "color": "green",
          "size": 6
         },
         "mode": "markers",
         "name": "the",
         "text": [
          "the"
         ],
         "type": "scatter",
         "x": [
          18.238037109375
         ]
        },
        {
         "marker": {
          "color": "red",
          "size": 6
         },
         "mode": "markers",
         "name": "date",
         "text": [
          "date"
         ],
         "type": "scatter",
         "x": [
          17.872303009033203
         ]
        },
        {
         "marker": {
          "color": "green",
          "size": 6
         },
         "mode": "markers",
         "name": "the",
         "text": [
          "the"
         ],
         "type": "scatter",
         "x": [
          17.922666549682617
         ]
        },
        {
         "marker": {
          "color": "red",
          "size": 6
         },
         "mode": "markers",
         "name": "enactment",
         "text": [
          "enactment"
         ],
         "type": "scatter",
         "x": [
          -5.446338176727295
         ]
        },
        {
         "marker": {
          "color": "red",
          "size": 6
         },
         "mode": "markers",
         "name": "this",
         "text": [
          "this"
         ],
         "type": "scatter",
         "x": [
          -5.208271026611328
         ]
        },
        {
         "marker": {
          "color": "green",
          "size": 6
         },
         "mode": "markers",
         "name": "act",
         "text": [
          "act"
         ],
         "type": "scatter",
         "x": [
          -5.882593154907227
         ]
        },
        {
         "marker": {
          "color": "gold",
          "size": 6
         },
         "mode": "markers",
         "name": "national",
         "text": [
          "national"
         ],
         "type": "scatter",
         "x": [
          9.069811820983887
         ]
        },
        {
         "marker": {
          "color": "gold",
          "size": 6
         },
         "mode": "markers",
         "name": "science",
         "text": [
          "science"
         ],
         "type": "scatter",
         "x": [
          8.612727165222168
         ]
        },
        {
         "marker": {
          "color": "gold",
          "size": 6
         },
         "mode": "markers",
         "name": "education",
         "text": [
          "education"
         ],
         "type": "scatter",
         "x": [
          8.292329788208008
         ]
        },
        {
         "marker": {
          "color": "gold",
          "size": 6
         },
         "mode": "markers",
         "name": "tax",
         "text": [
          "tax"
         ],
         "type": "scatter",
         "x": [
          9.1649808883667
         ]
        },
        {
         "marker": {
          "color": "gold",
          "size": 6
         },
         "mode": "markers",
         "name": "incentive",
         "text": [
          "incentive"
         ],
         "type": "scatter",
         "x": [
          9.360196113586426
         ]
        },
        {
         "marker": {
          "color": "gold",
          "size": 6
         },
         "mode": "markers",
         "name": "for",
         "text": [
          "for"
         ],
         "type": "scatter",
         "x": [
          8.96869945526123
         ]
        },
        {
         "marker": {
          "color": "gold",
          "size": 6
         },
         "mode": "markers",
         "name": "businesses",
         "text": [
          "businesses"
         ],
         "type": "scatter",
         "x": [
          8.678204536437988
         ]
        },
        {
         "marker": {
          "color": "gold",
          "size": 6
         },
         "mode": "markers",
         "name": "act",
         "text": [
          "act"
         ],
         "type": "scatter",
         "x": [
          9.62317943572998
         ]
        },
        {
         "marker": {
          "color": "gold",
          "size": 6
         },
         "mode": "markers",
         "name": "2007",
         "text": [
          "2007"
         ],
         "type": "scatter",
         "x": [
          9.97093677520752
         ]
        },
        {
         "marker": {
          "color": "gold",
          "size": 6
         },
         "mode": "markers",
         "name": "amend",
         "text": [
          "amend"
         ],
         "type": "scatter",
         "x": [
          9.680784225463867
         ]
        },
        {
         "marker": {
          "color": "gold",
          "size": 6
         },
         "mode": "markers",
         "name": "##s",
         "text": [
          "##s"
         ],
         "type": "scatter",
         "x": [
          9.666223526000977
         ]
        },
        {
         "marker": {
          "color": "gold",
          "size": 6
         },
         "mode": "markers",
         "name": "the",
         "text": [
          "the"
         ],
         "type": "scatter",
         "x": [
          9.502092361450195
         ]
        },
        {
         "marker": {
          "color": "gold",
          "size": 6
         },
         "mode": "markers",
         "name": "internal",
         "text": [
          "internal"
         ],
         "type": "scatter",
         "x": [
          9.11483383178711
         ]
        },
        {
         "marker": {
          "color": "gold",
          "size": 6
         },
         "mode": "markers",
         "name": "revenue",
         "text": [
          "revenue"
         ],
         "type": "scatter",
         "x": [
          9.098519325256348
         ]
        },
        {
         "marker": {
          "color": "gold",
          "size": 6
         },
         "mode": "markers",
         "name": "code",
         "text": [
          "code"
         ],
         "type": "scatter",
         "x": [
          9.317251205444336
         ]
        },
        {
         "marker": {
          "color": "gold",
          "size": 6
         },
         "mode": "markers",
         "name": "allow",
         "text": [
          "allow"
         ],
         "type": "scatter",
         "x": [
          9.411831855773926
         ]
        },
        {
         "marker": {
          "color": "gold",
          "size": 6
         },
         "mode": "markers",
         "name": "general",
         "text": [
          "general"
         ],
         "type": "scatter",
         "x": [
          8.806560516357422
         ]
        },
        {
         "marker": {
          "color": "gold",
          "size": 6
         },
         "mode": "markers",
         "name": "business",
         "text": [
          "business"
         ],
         "type": "scatter",
         "x": [
          8.897344589233398
         ]
        },
        {
         "marker": {
          "color": "gold",
          "size": 6
         },
         "mode": "markers",
         "name": "tax",
         "text": [
          "tax"
         ],
         "type": "scatter",
         "x": [
          8.990119934082031
         ]
        },
        {
         "marker": {
          "color": "gold",
          "size": 6
         },
         "mode": "markers",
         "name": "credit",
         "text": [
          "credit"
         ],
         "type": "scatter",
         "x": [
          9.139349937438965
         ]
        },
        {
         "marker": {
          "color": "gold",
          "size": 6
         },
         "mode": "markers",
         "name": "for",
         "text": [
          "for"
         ],
         "type": "scatter",
         "x": [
          8.784398078918457
         ]
        },
        {
         "marker": {
          "color": "gold",
          "size": 6
         },
         "mode": "markers",
         "name": "contributions",
         "text": [
          "contributions"
         ],
         "type": "scatter",
         "x": [
          8.81933879852295
         ]
        },
        {
         "marker": {
          "color": "gold",
          "size": 6
         },
         "mode": "markers",
         "name": "property",
         "text": [
          "property"
         ],
         "type": "scatter",
         "x": [
          8.364200592041016
         ]
        },
        {
         "marker": {
          "color": "gold",
          "size": 6
         },
         "mode": "markers",
         "name": "services",
         "text": [
          "services"
         ],
         "type": "scatter",
         "x": [
          8.540461540222168
         ]
        },
        {
         "marker": {
          "color": "gold",
          "size": 6
         },
         "mode": "markers",
         "name": "elementary",
         "text": [
          "elementary"
         ],
         "type": "scatter",
         "x": [
          8.370205879211426
         ]
        },
        {
         "marker": {
          "color": "gold",
          "size": 6
         },
         "mode": "markers",
         "name": "and",
         "text": [
          "and"
         ],
         "type": "scatter",
         "x": [
          1.8083176612854004
         ]
        },
        {
         "marker": {
          "color": "gold",
          "size": 6
         },
         "mode": "markers",
         "name": "secondary",
         "text": [
          "secondary"
         ],
         "type": "scatter",
         "x": [
          8.2620849609375
         ]
        },
        {
         "marker": {
          "color": "gold",
          "size": 6
         },
         "mode": "markers",
         "name": "schools",
         "text": [
          "schools"
         ],
         "type": "scatter",
         "x": [
          8.205179214477539
         ]
        },
        {
         "marker": {
          "color": "gold",
          "size": 6
         },
         "mode": "markers",
         "name": "and",
         "text": [
          "and"
         ],
         "type": "scatter",
         "x": [
          -8.462471961975098
         ]
        },
        {
         "marker": {
          "color": "gold",
          "size": 6
         },
         "mode": "markers",
         "name": "for",
         "text": [
          "for"
         ],
         "type": "scatter",
         "x": [
          8.490445137023926
         ]
        },
        {
         "marker": {
          "color": "gold",
          "size": 6
         },
         "mode": "markers",
         "name": "teacher",
         "text": [
          "teacher"
         ],
         "type": "scatter",
         "x": [
          8.224438667297363
         ]
        },
        {
         "marker": {
          "color": "gold",
          "size": 6
         },
         "mode": "markers",
         "name": "training",
         "text": [
          "training"
         ],
         "type": "scatter",
         "x": [
          8.089183807373047
         ]
        },
        {
         "marker": {
          "color": "gold",
          "size": 6
         },
         "mode": "markers",
         "name": "promote",
         "text": [
          "promote"
         ],
         "type": "scatter",
         "x": [
          7.966287136077881
         ]
        },
        {
         "marker": {
          "color": "gold",
          "size": 6
         },
         "mode": "markers",
         "name": "instruction",
         "text": [
          "instruction"
         ],
         "type": "scatter",
         "x": [
          8.208998680114746
         ]
        },
        {
         "marker": {
          "color": "gold",
          "size": 6
         },
         "mode": "markers",
         "name": "science",
         "text": [
          "science"
         ],
         "type": "scatter",
         "x": [
          8.510061264038086
         ]
        },
        {
         "marker": {
          "color": "gold",
          "size": 6
         },
         "mode": "markers",
         "name": "technology",
         "text": [
          "technology"
         ],
         "type": "scatter",
         "x": [
          8.4705171585083
         ]
        },
        {
         "marker": {
          "color": "gold",
          "size": 6
         },
         "mode": "markers",
         "name": "engineering",
         "text": [
          "engineering"
         ],
         "type": "scatter",
         "x": [
          8.510223388671875
         ]
        },
        {
         "marker": {
          "color": "gold",
          "size": 6
         },
         "mode": "markers",
         "name": "mathematics",
         "text": [
          "mathematics"
         ],
         "type": "scatter",
         "x": [
          8.380682945251465
         ]
        }
       ],
       "layout": {
        "scene": {
         "xaxis": {
          "title": {
           "text": "X"
          }
         }
        },
        "template": {
         "data": {
          "bar": [
           {
            "error_x": {
             "color": "#2a3f5f"
            },
            "error_y": {
             "color": "#2a3f5f"
            },
            "marker": {
             "line": {
              "color": "#E5ECF6",
              "width": 0.5
             },
             "pattern": {
              "fillmode": "overlay",
              "size": 10,
              "solidity": 0.2
             }
            },
            "type": "bar"
           }
          ],
          "barpolar": [
           {
            "marker": {
             "line": {
              "color": "#E5ECF6",
              "width": 0.5
             },
             "pattern": {
              "fillmode": "overlay",
              "size": 10,
              "solidity": 0.2
             }
            },
            "type": "barpolar"
           }
          ],
          "carpet": [
           {
            "aaxis": {
             "endlinecolor": "#2a3f5f",
             "gridcolor": "white",
             "linecolor": "white",
             "minorgridcolor": "white",
             "startlinecolor": "#2a3f5f"
            },
            "baxis": {
             "endlinecolor": "#2a3f5f",
             "gridcolor": "white",
             "linecolor": "white",
             "minorgridcolor": "white",
             "startlinecolor": "#2a3f5f"
            },
            "type": "carpet"
           }
          ],
          "choropleth": [
           {
            "colorbar": {
             "outlinewidth": 0,
             "ticks": ""
            },
            "type": "choropleth"
           }
          ],
          "contour": [
           {
            "colorbar": {
             "outlinewidth": 0,
             "ticks": ""
            },
            "colorscale": [
             [
              0,
              "#0d0887"
             ],
             [
              0.1111111111111111,
              "#46039f"
             ],
             [
              0.2222222222222222,
              "#7201a8"
             ],
             [
              0.3333333333333333,
              "#9c179e"
             ],
             [
              0.4444444444444444,
              "#bd3786"
             ],
             [
              0.5555555555555556,
              "#d8576b"
             ],
             [
              0.6666666666666666,
              "#ed7953"
             ],
             [
              0.7777777777777778,
              "#fb9f3a"
             ],
             [
              0.8888888888888888,
              "#fdca26"
             ],
             [
              1,
              "#f0f921"
             ]
            ],
            "type": "contour"
           }
          ],
          "contourcarpet": [
           {
            "colorbar": {
             "outlinewidth": 0,
             "ticks": ""
            },
            "type": "contourcarpet"
           }
          ],
          "heatmap": [
           {
            "colorbar": {
             "outlinewidth": 0,
             "ticks": ""
            },
            "colorscale": [
             [
              0,
              "#0d0887"
             ],
             [
              0.1111111111111111,
              "#46039f"
             ],
             [
              0.2222222222222222,
              "#7201a8"
             ],
             [
              0.3333333333333333,
              "#9c179e"
             ],
             [
              0.4444444444444444,
              "#bd3786"
             ],
             [
              0.5555555555555556,
              "#d8576b"
             ],
             [
              0.6666666666666666,
              "#ed7953"
             ],
             [
              0.7777777777777778,
              "#fb9f3a"
             ],
             [
              0.8888888888888888,
              "#fdca26"
             ],
             [
              1,
              "#f0f921"
             ]
            ],
            "type": "heatmap"
           }
          ],
          "heatmapgl": [
           {
            "colorbar": {
             "outlinewidth": 0,
             "ticks": ""
            },
            "colorscale": [
             [
              0,
              "#0d0887"
             ],
             [
              0.1111111111111111,
              "#46039f"
             ],
             [
              0.2222222222222222,
              "#7201a8"
             ],
             [
              0.3333333333333333,
              "#9c179e"
             ],
             [
              0.4444444444444444,
              "#bd3786"
             ],
             [
              0.5555555555555556,
              "#d8576b"
             ],
             [
              0.6666666666666666,
              "#ed7953"
             ],
             [
              0.7777777777777778,
              "#fb9f3a"
             ],
             [
              0.8888888888888888,
              "#fdca26"
             ],
             [
              1,
              "#f0f921"
             ]
            ],
            "type": "heatmapgl"
           }
          ],
          "histogram": [
           {
            "marker": {
             "pattern": {
              "fillmode": "overlay",
              "size": 10,
              "solidity": 0.2
             }
            },
            "type": "histogram"
           }
          ],
          "histogram2d": [
           {
            "colorbar": {
             "outlinewidth": 0,
             "ticks": ""
            },
            "colorscale": [
             [
              0,
              "#0d0887"
             ],
             [
              0.1111111111111111,
              "#46039f"
             ],
             [
              0.2222222222222222,
              "#7201a8"
             ],
             [
              0.3333333333333333,
              "#9c179e"
             ],
             [
              0.4444444444444444,
              "#bd3786"
             ],
             [
              0.5555555555555556,
              "#d8576b"
             ],
             [
              0.6666666666666666,
              "#ed7953"
             ],
             [
              0.7777777777777778,
              "#fb9f3a"
             ],
             [
              0.8888888888888888,
              "#fdca26"
             ],
             [
              1,
              "#f0f921"
             ]
            ],
            "type": "histogram2d"
           }
          ],
          "histogram2dcontour": [
           {
            "colorbar": {
             "outlinewidth": 0,
             "ticks": ""
            },
            "colorscale": [
             [
              0,
              "#0d0887"
             ],
             [
              0.1111111111111111,
              "#46039f"
             ],
             [
              0.2222222222222222,
              "#7201a8"
             ],
             [
              0.3333333333333333,
              "#9c179e"
             ],
             [
              0.4444444444444444,
              "#bd3786"
             ],
             [
              0.5555555555555556,
              "#d8576b"
             ],
             [
              0.6666666666666666,
              "#ed7953"
             ],
             [
              0.7777777777777778,
              "#fb9f3a"
             ],
             [
              0.8888888888888888,
              "#fdca26"
             ],
             [
              1,
              "#f0f921"
             ]
            ],
            "type": "histogram2dcontour"
           }
          ],
          "mesh3d": [
           {
            "colorbar": {
             "outlinewidth": 0,
             "ticks": ""
            },
            "type": "mesh3d"
           }
          ],
          "parcoords": [
           {
            "line": {
             "colorbar": {
              "outlinewidth": 0,
              "ticks": ""
             }
            },
            "type": "parcoords"
           }
          ],
          "pie": [
           {
            "automargin": true,
            "type": "pie"
           }
          ],
          "scatter": [
           {
            "fillpattern": {
             "fillmode": "overlay",
             "size": 10,
             "solidity": 0.2
            },
            "type": "scatter"
           }
          ],
          "scatter3d": [
           {
            "line": {
             "colorbar": {
              "outlinewidth": 0,
              "ticks": ""
             }
            },
            "marker": {
             "colorbar": {
              "outlinewidth": 0,
              "ticks": ""
             }
            },
            "type": "scatter3d"
           }
          ],
          "scattercarpet": [
           {
            "marker": {
             "colorbar": {
              "outlinewidth": 0,
              "ticks": ""
             }
            },
            "type": "scattercarpet"
           }
          ],
          "scattergeo": [
           {
            "marker": {
             "colorbar": {
              "outlinewidth": 0,
              "ticks": ""
             }
            },
            "type": "scattergeo"
           }
          ],
          "scattergl": [
           {
            "marker": {
             "colorbar": {
              "outlinewidth": 0,
              "ticks": ""
             }
            },
            "type": "scattergl"
           }
          ],
          "scattermapbox": [
           {
            "marker": {
             "colorbar": {
              "outlinewidth": 0,
              "ticks": ""
             }
            },
            "type": "scattermapbox"
           }
          ],
          "scatterpolar": [
           {
            "marker": {
             "colorbar": {
              "outlinewidth": 0,
              "ticks": ""
             }
            },
            "type": "scatterpolar"
           }
          ],
          "scatterpolargl": [
           {
            "marker": {
             "colorbar": {
              "outlinewidth": 0,
              "ticks": ""
             }
            },
            "type": "scatterpolargl"
           }
          ],
          "scatterternary": [
           {
            "marker": {
             "colorbar": {
              "outlinewidth": 0,
              "ticks": ""
             }
            },
            "type": "scatterternary"
           }
          ],
          "surface": [
           {
            "colorbar": {
             "outlinewidth": 0,
             "ticks": ""
            },
            "colorscale": [
             [
              0,
              "#0d0887"
             ],
             [
              0.1111111111111111,
              "#46039f"
             ],
             [
              0.2222222222222222,
              "#7201a8"
             ],
             [
              0.3333333333333333,
              "#9c179e"
             ],
             [
              0.4444444444444444,
              "#bd3786"
             ],
             [
              0.5555555555555556,
              "#d8576b"
             ],
             [
              0.6666666666666666,
              "#ed7953"
             ],
             [
              0.7777777777777778,
              "#fb9f3a"
             ],
             [
              0.8888888888888888,
              "#fdca26"
             ],
             [
              1,
              "#f0f921"
             ]
            ],
            "type": "surface"
           }
          ],
          "table": [
           {
            "cells": {
             "fill": {
              "color": "#EBF0F8"
             },
             "line": {
              "color": "white"
             }
            },
            "header": {
             "fill": {
              "color": "#C8D4E3"
             },
             "line": {
              "color": "white"
             }
            },
            "type": "table"
           }
          ]
         },
         "layout": {
          "annotationdefaults": {
           "arrowcolor": "#2a3f5f",
           "arrowhead": 0,
           "arrowwidth": 1
          },
          "autotypenumbers": "strict",
          "coloraxis": {
           "colorbar": {
            "outlinewidth": 0,
            "ticks": ""
           }
          },
          "colorscale": {
           "diverging": [
            [
             0,
             "#8e0152"
            ],
            [
             0.1,
             "#c51b7d"
            ],
            [
             0.2,
             "#de77ae"
            ],
            [
             0.3,
             "#f1b6da"
            ],
            [
             0.4,
             "#fde0ef"
            ],
            [
             0.5,
             "#f7f7f7"
            ],
            [
             0.6,
             "#e6f5d0"
            ],
            [
             0.7,
             "#b8e186"
            ],
            [
             0.8,
             "#7fbc41"
            ],
            [
             0.9,
             "#4d9221"
            ],
            [
             1,
             "#276419"
            ]
           ],
           "sequential": [
            [
             0,
             "#0d0887"
            ],
            [
             0.1111111111111111,
             "#46039f"
            ],
            [
             0.2222222222222222,
             "#7201a8"
            ],
            [
             0.3333333333333333,
             "#9c179e"
            ],
            [
             0.4444444444444444,
             "#bd3786"
            ],
            [
             0.5555555555555556,
             "#d8576b"
            ],
            [
             0.6666666666666666,
             "#ed7953"
            ],
            [
             0.7777777777777778,
             "#fb9f3a"
            ],
            [
             0.8888888888888888,
             "#fdca26"
            ],
            [
             1,
             "#f0f921"
            ]
           ],
           "sequentialminus": [
            [
             0,
             "#0d0887"
            ],
            [
             0.1111111111111111,
             "#46039f"
            ],
            [
             0.2222222222222222,
             "#7201a8"
            ],
            [
             0.3333333333333333,
             "#9c179e"
            ],
            [
             0.4444444444444444,
             "#bd3786"
            ],
            [
             0.5555555555555556,
             "#d8576b"
            ],
            [
             0.6666666666666666,
             "#ed7953"
            ],
            [
             0.7777777777777778,
             "#fb9f3a"
            ],
            [
             0.8888888888888888,
             "#fdca26"
            ],
            [
             1,
             "#f0f921"
            ]
           ]
          },
          "colorway": [
           "#636efa",
           "#EF553B",
           "#00cc96",
           "#ab63fa",
           "#FFA15A",
           "#19d3f3",
           "#FF6692",
           "#B6E880",
           "#FF97FF",
           "#FECB52"
          ],
          "font": {
           "color": "#2a3f5f"
          },
          "geo": {
           "bgcolor": "white",
           "lakecolor": "white",
           "landcolor": "#E5ECF6",
           "showlakes": true,
           "showland": true,
           "subunitcolor": "white"
          },
          "hoverlabel": {
           "align": "left"
          },
          "hovermode": "closest",
          "mapbox": {
           "style": "light"
          },
          "paper_bgcolor": "white",
          "plot_bgcolor": "#E5ECF6",
          "polar": {
           "angularaxis": {
            "gridcolor": "white",
            "linecolor": "white",
            "ticks": ""
           },
           "bgcolor": "#E5ECF6",
           "radialaxis": {
            "gridcolor": "white",
            "linecolor": "white",
            "ticks": ""
           }
          },
          "scene": {
           "xaxis": {
            "backgroundcolor": "#E5ECF6",
            "gridcolor": "white",
            "gridwidth": 2,
            "linecolor": "white",
            "showbackground": true,
            "ticks": "",
            "zerolinecolor": "white"
           },
           "yaxis": {
            "backgroundcolor": "#E5ECF6",
            "gridcolor": "white",
            "gridwidth": 2,
            "linecolor": "white",
            "showbackground": true,
            "ticks": "",
            "zerolinecolor": "white"
           },
           "zaxis": {
            "backgroundcolor": "#E5ECF6",
            "gridcolor": "white",
            "gridwidth": 2,
            "linecolor": "white",
            "showbackground": true,
            "ticks": "",
            "zerolinecolor": "white"
           }
          },
          "shapedefaults": {
           "line": {
            "color": "#2a3f5f"
           }
          },
          "ternary": {
           "aaxis": {
            "gridcolor": "white",
            "linecolor": "white",
            "ticks": ""
           },
           "baxis": {
            "gridcolor": "white",
            "linecolor": "white",
            "ticks": ""
           },
           "bgcolor": "#E5ECF6",
           "caxis": {
            "gridcolor": "white",
            "linecolor": "white",
            "ticks": ""
           }
          },
          "title": {
           "x": 0.05
          },
          "xaxis": {
           "automargin": true,
           "gridcolor": "white",
           "linecolor": "white",
           "ticks": "",
           "title": {
            "standoff": 15
           },
           "zerolinecolor": "white",
           "zerolinewidth": 2
          },
          "yaxis": {
           "automargin": true,
           "gridcolor": "white",
           "linecolor": "white",
           "ticks": "",
           "title": {
            "standoff": 15
           },
           "zerolinecolor": "white",
           "zerolinewidth": 2
          }
         }
        },
        "title": {
         "text": "1D Scatter Plot"
        }
       }
      }
     },
     "metadata": {},
     "output_type": "display_data"
    }
   ],
   "source": [
    "o, l = tokenizeCorpus(elem0)\n",
    "ogold, lgold = tokenizeCorpus(gold0)\n",
    "v = vectorizeCorpus(o)\n",
    "vgold = vectorizeCorpus(ogold)\n",
    "visualizeCorpus(v, l, vgold, lgold, dim=1)"
   ]
  },
  {
   "cell_type": "code",
   "execution_count": null,
   "metadata": {},
   "outputs": [],
   "source": [
    "clusterer = hdbscan.HDBSCAN()\n",
    "clusterer.fit(data)"
   ]
  }
 ],
 "metadata": {
  "kernelspec": {
   "display_name": ".venv",
   "language": "python",
   "name": "python3"
  },
  "language_info": {
   "codemirror_mode": {
    "name": "ipython",
    "version": 3
   },
   "file_extension": ".py",
   "mimetype": "text/x-python",
   "name": "python",
   "nbconvert_exporter": "python",
   "pygments_lexer": "ipython3",
   "version": "3.11.3"
  },
  "orig_nbformat": 4
 },
 "nbformat": 4,
 "nbformat_minor": 2
}

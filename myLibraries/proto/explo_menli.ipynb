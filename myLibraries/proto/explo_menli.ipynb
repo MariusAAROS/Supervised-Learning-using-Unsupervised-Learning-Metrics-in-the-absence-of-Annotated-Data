{
 "cells": [
  {
   "attachments": {},
   "cell_type": "markdown",
   "metadata": {},
   "source": [
    "### Libraries"
   ]
  },
  {
   "cell_type": "code",
   "execution_count": 1,
   "metadata": {},
   "outputs": [],
   "source": [
    "import sys\n",
    "sys.path.append(r\"C:\\Pro\\Stages\\A4 - DVRC\\Work\\Supervised-Learning-using-Unsupervised-Learning-Metrics-in-the-absence-of-Annotated-Data\")\n",
    "sys.path.append(r\"C:\\Pro\\Stages\\A4 - DVRC\\Work\\Supervised-Learning-using-Unsupervised-Learning-Metrics-in-the-absence-of-Annotated-Data\\MENLI\")"
   ]
  },
  {
   "cell_type": "code",
   "execution_count": 2,
   "metadata": {},
   "outputs": [],
   "source": [
    "from MENLI.MENLI import MENLI"
   ]
  },
  {
   "attachments": {},
   "cell_type": "markdown",
   "metadata": {},
   "source": [
    "### Basic Test"
   ]
  },
  {
   "cell_type": "code",
   "execution_count": 14,
   "metadata": {},
   "outputs": [
    {
     "name": "stdout",
     "output_type": "stream",
     "text": [
      "computing metric scores....\n",
      "computing nli scores (direction rh + formula e)...\n",
      "combing scores...\n"
     ]
    },
    {
     "data": {
      "text/plain": [
       "[0.0, 1.0]"
      ]
     },
     "execution_count": 14,
     "metadata": {},
     "output_type": "execute_result"
    }
   ],
   "source": [
    "scorer = MENLI(direction=\"rh\", formula=\"e\", nli_weight=0.2, \\\n",
    "                combine_with=\"MoverScore\", model=\"D\", cross_lingual=False)\n",
    "refs = [\"My name is Marius.\", \"It is not nice to be bad.\"]\n",
    "hyps = [\"Apple is my favorite fruit.\", \"Let us act peacefully with others.\"]\n",
    "scorer.score_all(srcs=[], refs=refs, hyps=hyps, srcl=\"en\")"
   ]
  },
  {
   "cell_type": "code",
   "execution_count": 15,
   "metadata": {},
   "outputs": [
    {
     "name": "stdout",
     "output_type": "stream",
     "text": [
      "computing metric scores....\n",
      "computing nli scores (direction rh + formula e)...\n",
      "combing scores...\n"
     ]
    },
    {
     "data": {
      "text/plain": [
       "[0.8000425473728683]"
      ]
     },
     "execution_count": 15,
     "metadata": {},
     "output_type": "execute_result"
    }
   ],
   "source": [
    "scorer = MENLI(direction=\"rh\", formula=\"e\", nli_weight=0.2, \\\n",
    "                combine_with=\"MoverScore\", model=\"D\", cross_lingual=False)\n",
    "refs = [\"My name is Marius.\"]\n",
    "hyps = [\"Apple is my favorite fruit.\"]\n",
    "scorer.score_all(srcs=[], refs=refs, hyps=hyps, srcl=\"en\") "
   ]
  },
  {
   "cell_type": "code",
   "execution_count": 20,
   "metadata": {},
   "outputs": [
    {
     "name": "stdout",
     "output_type": "stream",
     "text": [
      "computing metric scores....\n",
      "computing nli scores (direction avg + formula e)...\n",
      "averaging....\n",
      "combing scores...\n"
     ]
    }
   ],
   "source": [
    "scorer = MENLI(direction='avg', formula='e', src=False, nli_weight=0.3, combine_with='BERTScore-F')\n",
    "\n",
    "refs = ['I like cats', \"I don't have 100 Euros.\", \"I want an apple.\"]\n",
    "hyps = ['I like animals.', \"I have less than 500 Euros.\", \"I am hungry.\"]\n",
    "scores = scorer.score_all(srcs=[], refs=refs, hyps=hyps)"
   ]
  },
  {
   "cell_type": "code",
   "execution_count": 3,
   "metadata": {},
   "outputs": [
    {
     "name": "stdout",
     "output_type": "stream",
     "text": [
      "computing metric scores....\n",
      "computing nli scores (direction avg + formula e)...\n",
      "averaging....\n",
      "combing scores...\n"
     ]
    }
   ],
   "source": [
    "scorer = MENLI(direction='avg', formula='e', src=False, nli_weight=0.3, combine_with='BERTScore-F')\n",
    "\n",
    "refs = ['I like cats', \"I don't have 100 Euros.\"]\n",
    "hyps = ['I like animals.', \"I have less than 500 Euros.\"]\n",
    "scores = scorer.score_all(srcs=[], refs=refs, hyps=hyps)"
   ]
  },
  {
   "cell_type": "code",
   "execution_count": 4,
   "metadata": {},
   "outputs": [
    {
     "data": {
      "text/plain": [
       "[0.7, 0.3]"
      ]
     },
     "execution_count": 4,
     "metadata": {},
     "output_type": "execute_result"
    }
   ],
   "source": [
    "scores"
   ]
  },
  {
   "cell_type": "code",
   "execution_count": null,
   "metadata": {},
   "outputs": [],
   "source": [
    "scores"
   ]
  }
 ],
 "metadata": {
  "kernelspec": {
   "display_name": ".venv",
   "language": "python",
   "name": "python3"
  },
  "language_info": {
   "codemirror_mode": {
    "name": "ipython",
    "version": 3
   },
   "file_extension": ".py",
   "mimetype": "text/x-python",
   "name": "python",
   "nbconvert_exporter": "python",
   "pygments_lexer": "ipython3",
   "version": "3.11.3"
  },
  "orig_nbformat": 4
 },
 "nbformat": 4,
 "nbformat_minor": 2
}
